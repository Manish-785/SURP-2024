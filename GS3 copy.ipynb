{
 "cells": [
  {
   "cell_type": "code",
   "execution_count": 1,
   "metadata": {},
   "outputs": [
    {
     "name": "stderr",
     "output_type": "stream",
     "text": [
      "e:\\repos\\SURP-2024\\venv\\Lib\\site-packages\\tqdm\\auto.py:21: TqdmWarning: IProgress not found. Please update jupyter and ipywidgets. See https://ipywidgets.readthedocs.io/en/stable/user_install.html\n",
      "  from .autonotebook import tqdm as notebook_tqdm\n"
     ]
    }
   ],
   "source": [
    "import pandas as pd\n",
    "from bertopic import BERTopic\n",
    "from sentence_transformers import SentenceTransformer"
   ]
  },
  {
   "cell_type": "code",
   "execution_count": 2,
   "metadata": {},
   "outputs": [],
   "source": [
    "import warnings\n",
    "warnings.filterwarnings(\"ignore\")"
   ]
  },
  {
   "cell_type": "code",
   "execution_count": 3,
   "metadata": {},
   "outputs": [
    {
     "data": {
      "text/html": [
       "<div>\n",
       "<style scoped>\n",
       "    .dataframe tbody tr th:only-of-type {\n",
       "        vertical-align: middle;\n",
       "    }\n",
       "\n",
       "    .dataframe tbody tr th {\n",
       "        vertical-align: top;\n",
       "    }\n",
       "\n",
       "    .dataframe thead th {\n",
       "        text-align: right;\n",
       "    }\n",
       "</style>\n",
       "<table border=\"1\" class=\"dataframe\">\n",
       "  <thead>\n",
       "    <tr style=\"text-align: right;\">\n",
       "      <th></th>\n",
       "      <th>Year</th>\n",
       "      <th>Question</th>\n",
       "    </tr>\n",
       "  </thead>\n",
       "  <tbody>\n",
       "    <tr>\n",
       "      <th>96</th>\n",
       "      <td>2019</td>\n",
       "      <td>Define the concept of carrying capacity of an ...</td>\n",
       "    </tr>\n",
       "    <tr>\n",
       "      <th>163</th>\n",
       "      <td>2015</td>\n",
       "      <td>How can the Digital India program help farmers...</td>\n",
       "    </tr>\n",
       "    <tr>\n",
       "      <th>63</th>\n",
       "      <td>2020</td>\n",
       "      <td>What are the challenges and opportunities of f...</td>\n",
       "    </tr>\n",
       "  </tbody>\n",
       "</table>\n",
       "</div>"
      ],
      "text/plain": [
       "     Year                                           Question\n",
       "96   2019  Define the concept of carrying capacity of an ...\n",
       "163  2015  How can the Digital India program help farmers...\n",
       "63   2020  What are the challenges and opportunities of f..."
      ]
     },
     "execution_count": 3,
     "metadata": {},
     "output_type": "execute_result"
    }
   ],
   "source": [
    "df = pd.read_excel('GS3.xlsx')\n",
    "df.sample(3)"
   ]
  },
  {
   "cell_type": "code",
   "execution_count": 4,
   "metadata": {},
   "outputs": [
    {
     "data": {
      "text/plain": [
       "['Faster economic growth requires increased share of the manufacturing sector in GDP, particularly of MSMEs. Comment on the present policies of the Government in this regard.',\n",
       " 'What is the status of digitalization in the Indian economy? Examine the problems faced in this regard and suggest improvements.',\n",
       " 'How does e-Technology help farmers in production and marketing of agricultural produce? Explain it.']"
      ]
     },
     "execution_count": 4,
     "metadata": {},
     "output_type": "execute_result"
    }
   ],
   "source": [
    "questions = df['Question'].values.tolist()\n",
    "questions[:3]"
   ]
  },
  {
   "cell_type": "code",
   "execution_count": 5,
   "metadata": {},
   "outputs": [],
   "source": [
    "#PIPELINE OF BERTMODEL\n",
    "# 1. EMBEDDING - BY DEFAULT USES all-MiniLM-L6-v2 SENTENCE TRANSFORMER\n",
    "# 2.  "
   ]
  },
  {
   "cell_type": "code",
   "execution_count": 6,
   "metadata": {},
   "outputs": [],
   "source": [
    "#USING DIFFERENT WORD EMBEDDINGS\n",
    "#USING SENTENCE TRANSFORMER\n",
    "\"\"\"\n",
    "    The all-mpnet-base-v2 model provides superior accuracy and a deeper understanding of the context and nuances in the text.\n",
    "    Given the manageable size of your dataset (200-300 questions), \n",
    "    the additional computational resources required by this model are justified by the improved performance and precision.  \n",
    "    Recommendation : huggingface transformer model sentence-transformers/stsb-roberta-large is best for this with best accuracy as far as i could find,\n",
    "    but requires so much computation my little laptop cannot handle.\n",
    "    even this model all-mpnet-base-v2 is heavy but i can manage it. like it takes 4-5 minutes to run the model.  \n",
    "\"\"\"\n",
    "sentence_model = SentenceTransformer('all-mpnet-base-v2')"
   ]
  },
  {
   "cell_type": "code",
   "execution_count": 7,
   "metadata": {},
   "outputs": [],
   "source": [
    "#USING FINETUNING \n",
    "from bertopic.representation import KeyBERTInspired\n",
    "from bertopic.representation import MaximalMarginalRelevance\n",
    "from bertopic.representation import PartOfSpeech\n",
    "\n",
    "representation = [PartOfSpeech(\"en_core_web_sm\"),MaximalMarginalRelevance(diversity=0.2),KeyBERTInspired(top_n_words=30)]\n",
    "\n",
    "# model = BERTopic(embedding_model=sentence_model,representation_model=representation,verbose=True,calculate_probabilities=True, nr_topics=30, n_gram_range=(1, 3), min_topic_size=3)\n",
    "\n"
   ]
  },
  {
   "cell_type": "code",
   "execution_count": 8,
   "metadata": {},
   "outputs": [],
   "source": [
    "#UPDATING C-TF-IDF\n",
    "from bertopic.vectorizers import ClassTfidfTransformer\n",
    "ctfidf_model = ClassTfidfTransformer(bm25_weighting=True,reduce_frequent_words=True)\n",
    "model = BERTopic(embedding_model=sentence_model,representation_model=representation,ctfidf_model=ctfidf_model,verbose=True,calculate_probabilities=True, nr_topics=8, n_gram_range=(1, 3), min_topic_size=3)"
   ]
  },
  {
   "cell_type": "code",
   "execution_count": 9,
   "metadata": {},
   "outputs": [
    {
     "name": "stderr",
     "output_type": "stream",
     "text": [
      "2024-07-14 08:00:08,935 - BERTopic - Embedding - Transforming documents to embeddings.\n",
      "Batches: 100%|██████████| 8/8 [00:10<00:00,  1.33s/it]\n",
      "2024-07-14 08:00:19,608 - BERTopic - Embedding - Completed ✓\n",
      "2024-07-14 08:00:19,608 - BERTopic - Dimensionality - Fitting the dimensionality reduction algorithm\n",
      "2024-07-14 08:00:31,299 - BERTopic - Dimensionality - Completed ✓\n",
      "2024-07-14 08:00:31,299 - BERTopic - Cluster - Start clustering the reduced embeddings\n",
      "2024-07-14 08:00:31,333 - BERTopic - Cluster - Completed ✓\n",
      "2024-07-14 08:00:31,333 - BERTopic - Representation - Extracting topics from clusters using representation models.\n",
      "2024-07-14 08:00:48,114 - BERTopic - Representation - Completed ✓\n",
      "2024-07-14 08:00:48,115 - BERTopic - Topic reduction - Reducing number of topics\n",
      "2024-07-14 08:00:57,917 - BERTopic - Topic reduction - Reduced number of topics from 15 to 8\n"
     ]
    }
   ],
   "source": [
    "topics, probs = model.fit_transform(questions)"
   ]
  },
  {
   "cell_type": "code",
   "execution_count": 10,
   "metadata": {},
   "outputs": [],
   "source": [
    "from sklearn.feature_extraction.text import CountVectorizer\n",
    "vectorizer_model = CountVectorizer(stop_words=\"english\", ngram_range=(1, 3))\n",
    "model.update_topics(questions,vectorizer_model=vectorizer_model)"
   ]
  },
  {
   "cell_type": "code",
   "execution_count": 11,
   "metadata": {},
   "outputs": [
    {
     "data": {
      "text/html": [
       "<div>\n",
       "<style scoped>\n",
       "    .dataframe tbody tr th:only-of-type {\n",
       "        vertical-align: middle;\n",
       "    }\n",
       "\n",
       "    .dataframe tbody tr th {\n",
       "        vertical-align: top;\n",
       "    }\n",
       "\n",
       "    .dataframe thead th {\n",
       "        text-align: right;\n",
       "    }\n",
       "</style>\n",
       "<table border=\"1\" class=\"dataframe\">\n",
       "  <thead>\n",
       "    <tr style=\"text-align: right;\">\n",
       "      <th></th>\n",
       "      <th>Topic</th>\n",
       "      <th>Count</th>\n",
       "      <th>Name</th>\n",
       "      <th>Representation</th>\n",
       "      <th>Representative_Docs</th>\n",
       "    </tr>\n",
       "  </thead>\n",
       "  <tbody>\n",
       "    <tr>\n",
       "      <th>0</th>\n",
       "      <td>-1</td>\n",
       "      <td>23</td>\n",
       "      <td>-1_economy_sector_intensive_exports</td>\n",
       "      <td>[economy, sector, intensive, exports, india, t...</td>\n",
       "      <td>[The China Pakistan Economic Corridor (CPEC) i...</td>\n",
       "    </tr>\n",
       "    <tr>\n",
       "      <th>1</th>\n",
       "      <td>0</td>\n",
       "      <td>58</td>\n",
       "      <td>0_india_energy_water_discuss</td>\n",
       "      <td>[india, energy, water, discuss, programme, spa...</td>\n",
       "      <td>[Describe the key points of the revised Global...</td>\n",
       "    </tr>\n",
       "    <tr>\n",
       "      <th>2</th>\n",
       "      <td>1</td>\n",
       "      <td>51</td>\n",
       "      <td>1_security_discuss_india_cyber</td>\n",
       "      <td>[security, discuss, india, cyber, threat, chal...</td>\n",
       "      <td>[India’s proximity to two of the world’s bigge...</td>\n",
       "    </tr>\n",
       "    <tr>\n",
       "      <th>3</th>\n",
       "      <td>2</td>\n",
       "      <td>39</td>\n",
       "      <td>2_food_india_farmers_land</td>\n",
       "      <td>[food, india, farmers, land, agricultural, agr...</td>\n",
       "      <td>[How do subsidies affect the cropping pattern,...</td>\n",
       "    </tr>\n",
       "    <tr>\n",
       "      <th>4</th>\n",
       "      <td>3</td>\n",
       "      <td>29</td>\n",
       "      <td>3_growth_inclusive_india_inclusive growth</td>\n",
       "      <td>[growth, inclusive, india, inclusive growth, g...</td>\n",
       "      <td>[Normally countries shift from agriculture to ...</td>\n",
       "    </tr>\n",
       "    <tr>\n",
       "      <th>5</th>\n",
       "      <td>4</td>\n",
       "      <td>13</td>\n",
       "      <td>4_disaster_disaster management_management_vuln...</td>\n",
       "      <td>[disaster, disaster management, management, vu...</td>\n",
       "      <td>[The frequency of urban floods due to high int...</td>\n",
       "    </tr>\n",
       "    <tr>\n",
       "      <th>6</th>\n",
       "      <td>5</td>\n",
       "      <td>9</td>\n",
       "      <td>5_tax_budget_gst_goods</td>\n",
       "      <td>[tax, budget, gst, goods, goods services, good...</td>\n",
       "      <td>[Discuss the rationale for introducing the Goo...</td>\n",
       "    </tr>\n",
       "    <tr>\n",
       "      <th>7</th>\n",
       "      <td>6</td>\n",
       "      <td>6</td>\n",
       "      <td>6_available_discuss_patents_patent</td>\n",
       "      <td>[available, discuss, patents, patent, knowledg...</td>\n",
       "      <td>[Can overuse and free availability of antibiot...</td>\n",
       "    </tr>\n",
       "  </tbody>\n",
       "</table>\n",
       "</div>"
      ],
      "text/plain": [
       "   Topic  Count                                               Name  \\\n",
       "0     -1     23                -1_economy_sector_intensive_exports   \n",
       "1      0     58                       0_india_energy_water_discuss   \n",
       "2      1     51                     1_security_discuss_india_cyber   \n",
       "3      2     39                          2_food_india_farmers_land   \n",
       "4      3     29          3_growth_inclusive_india_inclusive growth   \n",
       "5      4     13  4_disaster_disaster management_management_vuln...   \n",
       "6      5      9                             5_tax_budget_gst_goods   \n",
       "7      6      6                 6_available_discuss_patents_patent   \n",
       "\n",
       "                                      Representation  \\\n",
       "0  [economy, sector, intensive, exports, india, t...   \n",
       "1  [india, energy, water, discuss, programme, spa...   \n",
       "2  [security, discuss, india, cyber, threat, chal...   \n",
       "3  [food, india, farmers, land, agricultural, agr...   \n",
       "4  [growth, inclusive, india, inclusive growth, g...   \n",
       "5  [disaster, disaster management, management, vu...   \n",
       "6  [tax, budget, gst, goods, goods services, good...   \n",
       "7  [available, discuss, patents, patent, knowledg...   \n",
       "\n",
       "                                 Representative_Docs  \n",
       "0  [The China Pakistan Economic Corridor (CPEC) i...  \n",
       "1  [Describe the key points of the revised Global...  \n",
       "2  [India’s proximity to two of the world’s bigge...  \n",
       "3  [How do subsidies affect the cropping pattern,...  \n",
       "4  [Normally countries shift from agriculture to ...  \n",
       "5  [The frequency of urban floods due to high int...  \n",
       "6  [Discuss the rationale for introducing the Goo...  \n",
       "7  [Can overuse and free availability of antibiot...  "
      ]
     },
     "execution_count": 11,
     "metadata": {},
     "output_type": "execute_result"
    }
   ],
   "source": [
    "model.get_topic_info()"
   ]
  },
  {
   "cell_type": "code",
   "execution_count": 12,
   "metadata": {},
   "outputs": [
    {
     "data": {
      "application/vnd.plotly.v1+json": {
       "config": {
        "plotlyServerURL": "https://plot.ly"
       },
       "data": [
        {
         "hoverinfo": "text",
         "hovertext": [
          "Rehabilitation of human settlements is one of the important environmental impacts which always attracts controversy while planning major projects. Discuss the measures suggested for mitigation of this impact while proposing major developmental projects.",
          "Environmental Impact Assessment studies are increasingly undertaken before a project is cleared by the Government.\nDiscuss the environmental impacts of coal-fired thermal plants located at coal pitheads.",
          "How can biotechnology help to improve the living standards of farmers?",
          "“While we ﬂaunt India’s demographic dividend, we ignore the dropping rates of employability.” What are we missing while doing so? Where will the jobs that India desperately needs come from? Explain.",
          "There is a clear acknowledgement that Special Economic Zones (SEZs) are a tool of industrial development, manufacturing and exports. Recognising this potential, the whole instrumentality of SEZs require augmentation. Discuss the issue plaguing the success of SEZs with respect to taxation, governing laws and administration.",
          "What is the status of digitalization in the Indian economy? Examine the problems faced in this regard and suggest improvements.",
          "The China Pakistan Economic Corridor (CPEC) is viewed as a cardinal subset of China’s larger ‘One Belt One Road’ initiative. Give a brief description of CPEC and enumerate the reasons why India has distanced itself from the same.",
          "Elaborate the impact of National Watershed Project in increasing agricultural production from water-stressed areas.",
          "How was India benefitted from the contributions of Sir M. Visvesvaraya and Dr. M. S. Swaminathan in the fields of water engineering and agricultural science respectively?",
          "Discuss the impact of FDI entry into Multi-trade retail sector on supply chain management in commodity trade pattern of the economy.",
          "What are the consequences of Illegal mining? Discuss the Ministry of Environment and Forest’s concept of GO AND NO GO zones for coal mining sector.",
          "Pradhan Mantri Jan-Dhan Yojana (PMJDY) is necessary for bringing unbanked to the institutional finance fold. Do you agree with this for financial inclusion of the poorer section of the Indian society? Give arguments to justify your opinion.",
          "Define the concept of carrying capacity of an ecosystem as relevant to an environment. Explain how understanding this concept is vital while planning for sustainable development of a region.",
          "How would the recent phenomena of protectionism and currency manipulations in world trade affect macroeconomic stability of India?",
          "Account for the failure of manufacturing sector in achieving the goal of\nlabour-intensive exports rather than capital-intensive exports. Suggest measures for more labour-intensive rather than capital-intensive exports.",
          "Foreign Direct Investment (FDI) in the defence sector is now set to be liberalized: What influence this is expected to have on Indian defence and economy in the short and long run?",
          "“Success of make in India program depends on the success of Skill India programme and radical labour reforms.” Discuss with logical arguments.",
          "Distinguish between ‘care economy’ and ‘monetized economy’. How can care economy be brought into monetized economy through women empowerment?",
          "Faster economic growth requires increased share of the manufacturing sector in GDP, particularly of MSMEs. Comment on the present policies of the Government in this regard.",
          "Explain the causes and effects of coastal erosion in India. What are the available coastal management techniques for combating the hazard ?",
          "How globalization has led to the reduction of employment in the formal sector of the Indian economy? Is increased informalization detrimental to the development of the country?",
          "What are the direct and indirect subsidies provided to farm sector in India? Discuss the issues raised by the World Trade Organization(WTP) in relation to agricultural subsidies.",
          "Dam failures are always catastrophic, especially on the downstream side, resulting in a colossal loss of life and property. Analyze the various causes of dam failures. Give two examples of large dam failures.",
          null
         ],
         "marker": {
          "color": "#CFD8DC",
          "opacity": 0.5,
          "size": 5
         },
         "mode": "markers+text",
         "name": "other",
         "showlegend": false,
         "type": "scattergl",
         "x": [
          1.7374070882797241,
          2.812223434448242,
          2.0117528438568115,
          1.7019795179367065,
          1.676178216934204,
          1.4096266031265259,
          2.3653712272644043,
          1.0755423307418823,
          2.4216275215148926,
          0.9034667611122131,
          2.480299711227417,
          1.0262731313705444,
          1.4526405334472656,
          1.2695969343185425,
          1.2659311294555664,
          0.9695494771003723,
          1.439649224281311,
          0.6133344769477844,
          1.3029944896697998,
          2.146470308303833,
          1.4077293872833252,
          0.5188944935798645,
          2.19270920753479,
          1.573967456817627
         ],
         "y": [
          5.896988868713379,
          2.6362481117248535,
          4.570252895355225,
          7.58056116104126,
          5.989603042602539,
          6.962930202484131,
          6.730106353759766,
          3.905485153198242,
          3.6682631969451904,
          7.300521373748779,
          2.717956781387329,
          6.6529107093811035,
          3.622030258178711,
          7.3725385665893555,
          8.028544425964355,
          7.2967658042907715,
          7.457183361053467,
          6.897914886474609,
          7.998507499694824,
          2.048933506011963,
          7.408361434936523,
          5.571532249450684,
          1.0895469188690186,
          5.626247406005859
         ]
        },
        {
         "hoverinfo": "text",
         "hovertext": [
          "The adoption of electric vehicles is rapidly growing worldwide. How do electric vehicles contribute to reducing carbon emissions and what are the key benefits they offer compared to traditional combustion engine vehicles?",
          "What is wetland? Explain the Ramsar concept of ‘wise use’ in the context of wetland conservation. Cite two examples of Ramsar sites from India.",
          "What do you understand by “Standard Positioning System” and “Precision positioning system” in the GPS era?\nDiscuss the advantage India perceives from its ambitious IRNSS programme employing just seven satellites.",
          "‘Climate Change’ is a global problem. How India will be affected by climate change?\nHow Himalayan and coastal states of India will be affected by climate change?",
          "The Intergovernmental Panel on Climate Change(IPCC) has predicted a global sea level rise of about one metre by AD 2100. What would be its impact in India and the other countries in the Indian Ocean region?",
          "Discuss global warming and mention its effects on the global climate. Explain the control measures to bring down the level of greenhouse gases which cause global warming, in the light of the Kyoto Protocol, 1997.",
          "Should the pursuit of carbon credits and clean development mechanisms set up under UNFCCC be maintained even though there has been a massive slide in the value of a carbon credit? Discuss with respect to India’s energy needs for economic growth.",
          "What are the salient features of the Jal Shakti Abhiyan launched by the Government of India for water conservation and water security?",
          "What is India’s plan to have its own space station and how will it benefit our space programme?",
          "What is the basic principle behind vaccine development? How do vaccines work?\nWhat approaches were adopted by the Indian vaccine manufacturers to produce COVID-19 vaccines ?",
          "What is oil pollution? What are its impacts on the marine ecosystem? In what way is oil pollution particularly harmful for a country like India?",
          "India has achieved remarkable successes in unmanned space missions including the Chandrayaan and Mars Orbitter Mission, but has not ventured into manned space mission, both in terms of technology and logistics? Explain critically",
          "Discuss several ways in which microorganisms can help in meeting the current fuel shortage",
          "Launched on 25th December, 2021, James Webb Space Telescope has been much in the news since then. What are its unique features which make it superior to its predecessor Space Telescopes ? What are the key goals of this mission ? What potential benefits does it hold for the human race?",
          "How does the 3D printing technology work? List out the advantages and disadvantages of the technology.",
          "Give an account of the current status and the targets to be achieved pertaining to renewable energy sources in the country. Discuss in brief the importance of National Programme on Light Emitting Diodes (LEDs).",
          "How and to what extent would\nmicro-irrigation help in solving India’s water crisis ?",
          "What are the research and developmental achievements in applied biotechnology/? How will these achievements help to uplift the poorer sections of the society?",
          "How is science interwoven deeply with our lives? What are the striking changes in agriculture triggered off by the\nscience-based technologies?",
          "Describe the benefits of deriving electric energy from sunlight in contrast to the conventional energy generation. What are the initiatives offered by our Government for this purpose?",
          "What are the key features of the National Clean Air Programme (NCAP) initiated by the Government of India?",
          "Write a note on India’s green energy corridor to alleviate the problem of conventional energy.",
          "Discuss India's achievements in the field of Space Science and Technology. How the application of this technology has helped India in its socio-economic development?",
          "How are the principles followed by NITI Aayog different from those followed by the erstwhile planning commission in India?",
          "What is the main task of India’s third mood mission which could not be achieved in its earlier mission? List the countries that have achieved this task. Introduce the subsystems in the spacecraft launched and explain the role of the ‘Virtual Launch Control Centre’ at the Vikram Sarabhai Space Centre which contributed to the successful launch from Sriharikota.",
          "Why is nanotechnology one of the key technologies of the 21st century?\nDescribe the salient features of Indian Government's Mission on Nanoscience and Technology and the scope of its application in the development process of the country.",
          "To what factors can be the recent dramatic fall in equipment cost and tariff of solar energy be attributed? What implications does the trend have for thermal power producers and related industry?",
          "Stem cell therapy is gaining popularity in India to treat a wide variety of medical conditions including leukaemia, Thallessemia, damaged sornea and several burns. Describe briefly what stem cell therapy is and what advantages it has over other treatments?",
          "Describe the key points of the revised Global Air Quality Guidelines (AQGs) recently released by the World Health Organisation (WHO). How are these different from its last update in 2005? What changes in India’s National Clean Air Programme are required to achieve these revised standards ?",
          "Do you think India will meet 50 percent of its energy needs from renewable energy by 2030 ? Justify your answer. How will the shift of subsidies from fossil fuels to renewables help achieve the above objective ? Explain.",
          "Discuss in detail the photochemical smog emphasizing its formation, effects and mitigation. Explain the 1999 Gothenburg Protocol.",
          "What do you understand by nanotechnology and how is it helping in health sector?",
          "With growing energy needs should India keep on expanding its nuclear energy programme? Discuss the facts and fears associated with nuclear energy.",
          "Scientific research in Indian universities is declining, because a career in science is not as attractive as are business professions, engineering or administration, and the universities are becoming consumer-oriented. Critically comment.",
          "Enumerate the National Water Policy of India. Taking river Ganges as an example, discuss the strategies which may be adopted for river water pollution control and management. What are the legal provisions of management and handling of hazardous wastes in India?",
          "What do you understand by Run-of-river hydroelectricity project? How is it different from any other hydroelectricity project?",
          "One of the intended objectives of Union Budget 2017-18 is to ‘transform, energize and clean India’. Analyse the measures proposed in the Budget 2017-18 to achieve the objective.",
          "Comment on the National Wetland Conservation Programme initiated by the Government of India and name a few India’s wetlands of international importance included in the Ramsar Sites.",
          "Explain the purpose of the Green Grid Initiative launched at World Leaders Summit of the COP26 UN Climate Change Conference in Glasgow in November, 2021. When was this idea first floated in the International Solar Alliance (ISA) ?",
          "Each year a large amount of plant material, cellulose, is deposited on the surface of Planet Earth. What are the natural processes this cellulose undergoes before yielding carbon dioxide, water and other end products ?",
          "Give an account of the growth and development of nuclear science and technology in India. What is the advantage of fast breeder reactor programme in India?",
          "Suggest measures to improve water storage and irrigation system to make its judicious use under depleting scenario.",
          "What are the areas of prohibitive labour that can be sustainably managed by robots? Discuss the initiatives that can propel the research in premier research institutes for substantive and gainful innovation.",
          "“Access to affordable, reliable, sustainable and modern energy is the sine qua non to achieve Sustainable Development Goals (SDGs)”.Comment on the progress made in India in this regard.",
          "How does biodiversity vary in India? How is the Biological Diversity Act,2002 helpful in conservation of flora and fauna?",
          "How does the draft Environment Impact Assessment (EIA) Notification, 2020 differ from the existing EIA Notification, 2006?",
          "What is an FRP composite material? How are they manufactured? Discuss their application in aviation and automobile industries.",
          "What are the impediments in disposing the huge quantities of discarded solid wastes which are continuously being generated? How do we remove safely the toxic wastes that have been accumulating in our habitable environment?",
          "Coastal sand mining, whether legal or illegal, poses one of the biggest threats to our environment. Analyze the impact of sand mining along the Indians coasts, citing specific examples.",
          "The Nobel Prize in Physics of 2014 was jointly awarded to Akasaki, Amano and Nakamura for the invention of Blue LEDs in 1990s. How has this invention impacted the everyday life of human beings ?",
          "Discuss the Namami Gange and National Mission for Clean Ganga (NMCG) programmes and causes of mixed results from the previous schemes. What quantum leaps can help preserve the river Ganga better than incremental inputs?",
          "Describe the major outcomes of the 26th session of the Conference of the Parties (COP) to the United Nations Framework Convention on Climate Change (UNFCCC). What are the commitments made by India in this conference?",
          "The increase in life expectancy in the country has led to newer health challenges in the community. What are those challenges and what steps need to be taken to meet them ?",
          "What is water-use efficiency? Describe the role of micro-irrigation in increasing the water-use efficiency.",
          "Not many years ago, river linking was a concept but it is becoming reality in the country. Discuss the advantages of river linking and its possible impact on the environment.",
          "Discuss the work of ‘Bose-Einstein Statistics’ done by Prof. Satyendra Nath Bose and show how it revolutionized the field of Physics.",
          "Why is there so much activity in the field of biotechnology in our country? How has this activity benefitted the field of biopharma?",
          "COVID-19 pandemic has caused unprecedented devastation worldwide. However, technological advancements are being availed readily to win over the crisis. Give an account of how technology was sought to aid management of the pandemic",
          null
         ],
         "marker": {
          "opacity": 0.5,
          "size": 5
         },
         "mode": "markers+text",
         "name": "0_india_energy_water",
         "text": [
          "",
          "",
          "",
          "",
          "",
          "",
          "",
          "",
          "",
          "",
          "",
          "",
          "",
          "",
          "",
          "",
          "",
          "",
          "",
          "",
          "",
          "",
          "",
          "",
          "",
          "",
          "",
          "",
          "",
          "",
          "",
          "",
          "",
          "",
          "",
          "",
          "",
          "",
          "",
          "",
          "",
          "",
          "",
          "",
          "",
          "",
          "",
          "",
          "",
          "",
          "",
          "",
          "",
          "",
          "",
          "",
          "",
          "",
          "0_india_energy_water"
         ],
         "textfont": {
          "size": 12
         },
         "type": "scattergl",
         "x": [
          3.122690200805664,
          1.7317001819610596,
          3.4028639793395996,
          2.8662197589874268,
          2.8528950214385986,
          2.8952953815460205,
          3.231320381164551,
          2.109219789505005,
          3.343296527862549,
          2.875755786895752,
          2.1832170486450195,
          3.3717448711395264,
          2.123631715774536,
          3.3427164554595947,
          2.9838507175445557,
          3.3517725467681885,
          1.6173399686813354,
          2.3872289657592773,
          2.1402342319488525,
          3.303898572921753,
          2.2058346271514893,
          3.3503944873809814,
          3.1433002948760986,
          2.07224178314209,
          3.365762710571289,
          2.887982130050659,
          3.3976240158081055,
          2.830244779586792,
          2.4417459964752197,
          3.4068732261657715,
          2.666133165359497,
          2.812777042388916,
          3.3660941123962402,
          3.1201257705688477,
          2.0719692707061768,
          2.0067498683929443,
          2.3748152256011963,
          1.7471996545791626,
          3.346198797225952,
          2.1639368534088135,
          3.215139865875244,
          1.6447833776474,
          2.3909380435943604,
          3.377153158187866,
          1.6447467803955078,
          2.5350492000579834,
          3.0247881412506104,
          2.1406214237213135,
          2.1576499938964844,
          3.1315231323242188,
          2.1464900970458984,
          2.8810300827026367,
          1.292167067527771,
          1.6967519521713257,
          1.8535239696502686,
          3.0586843490600586,
          2.448751926422119,
          2.7866711616516113,
          2.645540475845337
         ],
         "y": [
          2.6169276237487793,
          2.5589840412139893,
          4.324376583099365,
          2.0331037044525146,
          1.9618853330612183,
          2.2048444747924805,
          2.5561211109161377,
          3.106489658355713,
          4.266615390777588,
          4.998569965362549,
          2.3066177368164062,
          4.2544331550598145,
          4.357491493225098,
          4.31471586227417,
          4.583819389343262,
          2.744124412536621,
          3.4503653049468994,
          4.558987140655518,
          4.622419834136963,
          2.661247730255127,
          2.851938009262085,
          2.6669845581054688,
          4.220718860626221,
          3.045632839202881,
          4.298832416534424,
          4.519445419311523,
          2.544663190841675,
          4.4654130935668945,
          2.447709560394287,
          2.61256742477417,
          2.459506034851074,
          4.670198440551758,
          2.7977755069732666,
          4.176682472229004,
          2.6287617683410645,
          3.131399393081665,
          2.9080288410186768,
          2.5396599769592285,
          2.5753393173217773,
          4.328240394592285,
          3.950721502304077,
          3.26408314704895,
          4.670541763305664,
          2.699965476989746,
          2.5589308738708496,
          2.1652188301086426,
          4.581363201141357,
          2.5241446495056152,
          2.3304877281188965,
          3.574335813522339,
          3.0854475498199463,
          2.177492141723633,
          2.8144307136535645,
          3.250511884689331,
          3.167344570159912,
          4.033431053161621,
          4.610891342163086,
          4.901081085205078,
          3.3574492931365967
         ]
        },
        {
         "hoverinfo": "text",
         "hovertext": [
          "The banning of ‘Jammat-e-Islami’ in Jammu and Kashmir brought into focus the role of over-ground workers (OGWs) in assisting terrorist organizations.\nExamine the role played by OGWs in assisting terrorist organizations in insurgency affected areas. Discuss measures to neutralize influence of OGWs.",
          "What are the different elements of cyber security ? Keeping in view the challenges in cyber security, examine the extent to which India has successfully developed a comprehensive National Cyber Security Strategy.",
          "Considering the threats cyberspace poses for the country, India needs a “Digital Armed Forces” to prevent crimes.\nCritically evaluate the National Cyber Security Policy, 2013 outlining the challenges perceived in its effective implementation.",
          "Human right activists constantly highlight the fact that the Armed forces (Special Powers) Act, 1958 (AFSPA) is a draconian act leading to cases of human right abuses by security forces. What sections of AFSPA are opposed by the activists.\nCritically evaluate the requirement with reference to the view held by Apex Court.",
          "What are the maritime security challenges in India ? Discuss the organisational, technical and procedural initiatives taken to improve the maritime security.",
          "\"Terrorism is emerging as a competitive industry over the last few decades.\" Analyze the above statement.",
          "Data security has assumed significant importance in the digitized world due to rising cyber-crimes. The Justice B. N. Srikrishna Committee Report addresses issues related to data security. What, in your view, are the strengths and weaknesses of the Report relating to protection of personal data in cyber space?",
          "The terms 'Hot Pursuit' and 'Surgical Strikes' are often used in connection with armed action against terrorist attacks.\nDiscuss the strategic impact of such actions.",
          "Discuss how emerging technologies and globalisation contribute to money laundering. Elaborate measures to tackle the problem of money laundering both at national and international levels.",
          "China and Pakistan have entered into an agreement for development of an economic corridor. What threat does this pose for India’s security? Critically examine.",
          "The scourge of terrorism is a grave challenge to national security. What solutions do you suggest to curb this growing menace? What are the major sources of terrorist funding?",
          "Religious indoctrination via social media has resulted in Indian youth joining the ISIS. What is ISIS and its mission? How can ISIS be dangerous to the internal security of our country.",
          "International civil aviation laws provide all countries complete and exclusive sovereignty over the airspace above their territory. What do you understand by ‘airspace’ What are the implications of these laws on the space above this airspace? Discuss the challenges which this poses and suggest ways to contain the threat.",
          "Use of Internet and social media by\nnon-state actors for subversive activities is a major security concern. How have these been misused in the recent past? Suggest effective guidelines to curb the above threat.",
          "Mob violence is emerging as a serious law and order problem in India. By giving suitable examples, analyze the causes and consequences of such violence.",
          "“The diverse nature of India as a\nmulti-religious and multi-ethnic society is not immune to the impact of radicalism which is seen in her neighbourhood?\nDiscuss along with strategies to be adopted to counter this environment.",
          "Introduce the concept of Artificial Intelligence (AI). How does AI help clinical diagnosis? Do you perceive any threat to privacy of the individual in the use of AI in the healthcare?",
          "Indian Government has recently strengthened the anti-terrorism laws by amending the unlawful Activities (Prevention) Act (UAPA), 1967 and the NIA act. Analyze the changes in the context of prevailing security environment while discussing the scope and reasons for opposing the UAPA by human rights organizations.",
          "Money laundering poses a serious security threat to a country’s economic sovereignty. What is its significance for India and what steps are required to be taken to control this menace?",
          "What are the internal security challenges being faced by India? Give out the role of Central Intelligence and Investigative Agencies tasked to counter such threats.",
          "Border management is a complex task due to difficult terrain and hostile relations with some countries. Elucidate the challenges and strategies for effective border management.",
          "India’s proximity to two of the world’s biggest illicit opium-growing states has enhanced her internal security concerns. Explain the linkages between drug trafficking and other illicit activities such as gunrunning, money laundering and human trafficking. What countermeasures should be taken to prevent the same?",
          "How far are India’s internal security challenges linked with border management particularly in view of the long porous borders with most countries of South Asia and Myanmar?",
          "For effective border area management, discuss the steps required to be taken to deny local support to militants and also suggest ways to manage favourable perception among locals.",
          "Craze for gold in Indian has led to surge in import of gold in recent years and put pressure on balance of payments and external value of rupee. In view of this, examine the merits of Gold Monetization scheme.",
          "Discuss different types of cybercrimes and measures required to be taken to fight the menace.",
          "Analyse the complexity and intensity of terrorism, its causes, linkages and obnoxious nexus. Also suggest measures required to be taken to eradicate the menace of terrorism.",
          "The use of unmanned aerial vehicles(UAVs) by our adversaries across the borders to ferry arms/ammunitions, drugs, etc., is a serious threat to the internal security. Comment on the measures being taken to tackle this threat.",
          "What do you understand by Umpire Decision Review System in cricket? Discuss its various components. Explain how silicone tape on the edge of a bat may fool the system?",
          "Left Wing Extremism (LWE) is showing a downward trend, but still affects many parts of the country. Briefly explain the Government of India’s approach to counter the challenges posed by LWE.",
          "The north-eastern region of India has been infested with insurgency for a very long time. Analyze the major reasons for the survival of armed insurgency in this region.",
          "How does illegal trans-border migration pose a threat to India’s security? Discuss the strategies to curb this, bringing out the factors which give impetus to such migration.",
          "Naxalism is a social, economic and developmental issue manifesting as a violent internal security threat. In this context, discuss the emerging issues gest a multilayered strategy to tackle the menace of Naxalism.",
          "Cyber warfare is considered by some defense analysts to be a larger threat than even Al Qaeda or terrorism. What do you understand by Cyber warfare? Outline the cyber threats which India is vulnerable to and bring out the state of the country’s preparedness to deal with the same.",
          "Article 244 of the Indian Constitution relates to administration of schedules area and tribal areas. Analyse the impact of non-implementation of the provisions of the Fifth schedule on the growth of Left Wing extremism.",
          "Keeping in view India’s internal security, analyse the impact of cross-border cyber attacks. Also discuss defensive measures against these sophisticated attacks.",
          "Analyse the multidimensıonal challenges posed by external state and non-state actors, to the internal security of India.\nAlso discuss measures required to be taken to combat these threats.",
          "Give out the major sources of terror funding in India and efforts being made to curtail these sources. In the light of this, also discuss the aim and objective of the ‘ No Money for Terror [NMFT]’ Conference recently held at New Delhi in November 2022.",
          "What is CyberDome Project? Explain how it can be useful in controlling internet crimes in India.",
          "Discuss the types of organised crimes. Describe the linkages between terrorists and organised crime that exist at the national and transnational levels.",
          "Winning of ‘Hearts and Minds’ in terrorism affected areas is an essential step in restoring the trust of the population.\nDiscuss the measures adopted by the Government in this respect as part of the conflict resolution in Jammu and Kashmir.",
          "Cross-Border movement of insurgents is only one of the several security challenges facing the policing of the border in\nNorth-East India. Examine the various challenges currently emanating across the India-Myanmar border. Also, discuss the steps to counter the challenges.",
          "Analyse internal security threats and transborder crimes along Myanmar, Bangladesh and Pakistan borders including Line of Control (LoC). Also discuss the role played by various security forces in this regard.",
          "Discuss the advantage and security implication of cloud hosting of servers\nvis-a-vis in house machine based hosting for government business.",
          "How is S-400 air defence system technically superior to any other system presently available in the world?",
          "What are social networking sites and what security implications do these sites present?",
          "In 2012, the longitudinal marking for\nhigh-risk areas for piracy was moved from 65 degrees east to 78 degrees east in the Arabian Sea by the International Maritime Organisation. What impact does this have on India’s maritime security concerns?",
          "The persisting drives of the government for development of large industries in backward areas have resulted in isolating the tribal population and the farmers who face multiple displacements. With Malkangiri and Naxalbari foci, discuss the corrective strategies needed to win the Left Wing Extremism (LWE) doctrine affected citizens back into mainstream of social and economic growth.",
          "Discuss the potential threats of Cyber attack and the security framework to prevent it.",
          "What is a digital signature? What does its authentication mean? Give various salient built-in features of a digital signature.",
          "What are the determinants of left-wing extremism in Eastern part of India? What strategy should Government of India, civil administration and security forces adopt to counter the threat in the affected areas?",
          null
         ],
         "marker": {
          "opacity": 0.5,
          "size": 5
         },
         "mode": "markers+text",
         "name": "1_security_discuss_india",
         "text": [
          "",
          "",
          "",
          "",
          "",
          "",
          "",
          "",
          "",
          "",
          "",
          "",
          "",
          "",
          "",
          "",
          "",
          "",
          "",
          "",
          "",
          "",
          "",
          "",
          "",
          "",
          "",
          "",
          "",
          "",
          "",
          "",
          "",
          "",
          "",
          "",
          "",
          "",
          "",
          "",
          "",
          "",
          "",
          "",
          "",
          "",
          "",
          "",
          "",
          "",
          "",
          "1_security_discuss_india"
         ],
         "textfont": {
          "size": 12
         },
         "type": "scattergl",
         "x": [
          6.127401828765869,
          6.391948223114014,
          6.388538837432861,
          6.2161736488342285,
          5.888189315795898,
          5.784607410430908,
          6.262617588043213,
          6.039336681365967,
          5.237264633178711,
          5.449034214019775,
          5.866368770599365,
          6.410099983215332,
          6.127001762390137,
          6.251199245452881,
          6.171597003936768,
          6.294656753540039,
          6.354831218719482,
          6.259101867675781,
          5.2406134605407715,
          6.015637397766113,
          5.727719306945801,
          5.3975090980529785,
          5.632045745849609,
          5.950291156768799,
          4.957767009735107,
          6.413157939910889,
          5.8044633865356445,
          6.176336765289307,
          6.08546781539917,
          6.289302349090576,
          6.146934509277344,
          5.600604057312012,
          5.650906562805176,
          6.388248443603516,
          6.312007904052734,
          6.313758850097656,
          6.021608352661133,
          5.902032375335693,
          6.366704940795898,
          5.697759628295898,
          6.111546039581299,
          5.7175211906433105,
          5.6711907386779785,
          6.441249847412109,
          6.294639587402344,
          6.241401195526123,
          5.593229293823242,
          6.401444911956787,
          6.323195934295654,
          6.240687370300293,
          6.514597415924072,
          6.022775173187256
         ],
         "y": [
          8.37821102142334,
          6.8024396896362305,
          6.790676593780518,
          8.488046646118164,
          7.415054798126221,
          8.629230499267578,
          6.618062973022461,
          8.17251968383789,
          7.9344353675842285,
          7.610296726226807,
          8.68078899383545,
          8.66773796081543,
          7.744430065155029,
          6.968441009521484,
          8.300960540771484,
          8.606755256652832,
          6.756445407867432,
          8.594990730285645,
          7.868295192718506,
          7.307540416717529,
          7.89530611038208,
          7.792808532714844,
          7.712187767028809,
          8.249833106994629,
          7.833040237426758,
          6.814513206481934,
          8.619577407836914,
          7.736658573150635,
          6.691019535064697,
          8.623246192932129,
          8.272295951843262,
          7.841981887817383,
          8.101469993591309,
          6.810102939605713,
          8.507551193237305,
          6.9530792236328125,
          7.571079730987549,
          8.588584899902344,
          6.723712921142578,
          8.586813926696777,
          8.602529525756836,
          7.810260772705078,
          7.75058650970459,
          6.91839075088501,
          7.694814682006836,
          6.840149879455566,
          7.538403034210205,
          8.552301406860352,
          6.688973426818848,
          6.636776447296143,
          8.524032592773438,
          7.761126518249512
         ]
        },
        {
         "hoverinfo": "text",
         "hovertext": [
          "In the view of the declining average size of land holdings in India which has made agriculture non – viable for a majority of farmers should contract farming and land leasing be promoted in agriculture? critically evaluate the pros and cons.",
          "What are the major reasons for declining rice and wheat yield in the cropping system? How crop diversification is helpful to stabilize the yield of the crop in the system? (Answer in 250 words)",
          "The Right to Fair Compensation and Transparency in Land Acquisition, Rehabilitation and Resettlement Act, 2013 has come into effect from Ist January, 2014. What are the key issues\nwhich would get addressed with the Act in place? What implications would it have on industrialization and agriculture in India?",
          "Sikkim is the first ‘Organic State’ in India. What are the ecological and economical benefits of Organic State?",
          "What is allclopatlıy? Discuss its role in major cropping systems of irrigated agriculture.",
          "Food Security Bill is expected to eliminate hunger and malnutrition in India. Critically discuss various apprehensions in its effective implementation along with the concerns it has generated in WTO.",
          "What are the impediments in marketing and supply chain management in developing the food processing industry in India? Can e-commerce help in overcoming this bottleneck?",
          "“In the villages itself no form of credit organization will be suitable except the cooperative society.” – All India Rural Credit Survey.\nDiscuss this statement in the background of agricultural ﬁnance in India. What constraints and challenges do ﬁnancial institutions supplying agricultural ﬁnance face? How can technology be used to better reach and serve rural clients?",
          "Livestock rearing has a big potential for providing non- farm employment and income in rural areas. Discuss suggesting suitable measures to promote this sector in India.",
          "How far is Integrated Farming System (IFS) helpful in sustaining agricultural production",
          "How does e-Technology help farmers in production and marketing of agricultural produce? Explain it.",
          "What are the salient features of the National Food Security Act, 2013 ? How has the Food Security Bill helped in eliminating hunger and malnutrition in India?",
          "What are the challenges and opportunities of food processing sector in the country? How can income of the farmers be substantially increased by encouraging food processing?",
          "Establish relationship between land reforms, agricultural productivity and elimination of poverty in the Indian economy. Discuss the difficulties in designing and implementation of agriculture – friendly land reforms in India.",
          "Examine the role of supermarkets in supply chain management of fruits, vegetables and food items. How do they eliminate number of intermediaries?",
          "What are the main constraints in transport and marketing of agricultural produce in India?",
          "What are the major factors responsible for making rice-wheat system a success? In spite of this success how has this system become bane in India?",
          "India needs to strengthen measures to promote the pink revolution in food industry for ensuring better nutrition and health. Critically elucidate the statement.",
          "State the objectives and measures of land reforms in India. Discuss how land ceiling policy on landholding can be considered as an effective reform under economic criteria.",
          "What do you mean by Minimum Support Price (MSP)? How will MSP rescue the farmers from the low income trap?",
          "How can the Digital India program help farmers to improve farm productivity and income? What step has the government taken in this regard?",
          "There is also a point of view that Agricultural Produce Market Committees [APMCs) set up under the State Acts have not only impeded the development of agriculture but also have been the cause of food inﬂation in India. Critically examine.",
          "In what way could replacement of price subsidy with direct benefit Transfer (DBT) change the scenario of subsidies in India? Discuss.",
          "Assess the role of National Horticulture Mission (NHM) in boosting the production, productivity and income of horticulture farms. How far has it succeeded in increasing the income of farmers?",
          "Explain the changes in cropping pattern in India in the context of changes in consumption pattern and marketing conditions.",
          "What is Integrated Farming System ? How is it helpful to small and marginal farmers in India ?",
          "How did land reforms in some parts of the country help to improve the\nsocio-economic conditions of marginal and small farmers ?",
          "What are the main bottlenecks in upstream and downstream process of marketing of agricultural products in India\n?",
          "What are the reformative steps taken by the Government to make food grain distribution system more effective?",
          "Elaborate the policy taken by the Government of India to meet the challenges of the food processing sector.",
          "Discuss the role of land reforms in agricultural development. Identify the factors that were responsible for the success of land reforms in India.",
          "Given the vulnerability of Indian agriculture to vagaries of nature, discuss the need for crop insurance and bring out the salient features of the Pradhan Mantri Fasal Bima Yojana (PMFBY).",
          "What are the different types of agriculture subsidies given to farmers at the national and at state levels? Critically analyse the agricultural subsidy regime with reference to the distortions created by it.",
          "What are the present challenges before crop diversification? How do emerging technologies provide an opportunity for crop diversification?",
          "Explain various types of revolutions, took place in Agriculture after Independence in India. How these revolutions have helped in poverty alleviation and food security in India?",
          "How has the emphasis on certain crops brought about changes in cropping patterns in recent past? Elaborate the emphasis on millets production and consumption.",
          "What are the reasons for poor acceptance of cost effective small processing unit?\nHow the food processing unit will be helpful to uplift the socio-economic status of poor farmers?",
          "Elaborate the scope and significance of the food processing industry in India.",
          "How do subsidies affect the cropping pattern, crop diversity and economy of farmers? What is the significance of crop insurance, minimum support price and food processing for small and marginal farmers?",
          null
         ],
         "marker": {
          "opacity": 0.5,
          "size": 5
         },
         "mode": "markers+text",
         "name": "2_food_india_farmers",
         "text": [
          "",
          "",
          "",
          "",
          "",
          "",
          "",
          "",
          "",
          "",
          "",
          "",
          "",
          "",
          "",
          "",
          "",
          "",
          "",
          "",
          "",
          "",
          "",
          "",
          "",
          "",
          "",
          "",
          "",
          "",
          "",
          "",
          "",
          "",
          "",
          "",
          "",
          "",
          "",
          "2_food_india_farmers"
         ],
         "textfont": {
          "size": 12
         },
         "type": "scattergl",
         "x": [
          0.967121958732605,
          1.1291632652282715,
          0.9046790599822998,
          0.7355889081954956,
          0.7275475859642029,
          0.2566385567188263,
          -0.00986746046692133,
          0.5374607443809509,
          0.5292948484420776,
          0.5828450918197632,
          0.4118325412273407,
          0.272128164768219,
          0.09231424331665039,
          0.9324538111686707,
          -0.03473934158682823,
          -0.10847409069538116,
          1.0104135274887085,
          0.16516277194023132,
          1.0071395635604858,
          0.6001409292221069,
          0.3666502833366394,
          0.18424953520298004,
          0.34605973958969116,
          0.6805698871612549,
          0.8486161828041077,
          0.562929093837738,
          1.0385726690292358,
          -0.017030417919158936,
          -0.0911063402891159,
          0.08127819001674652,
          1.016456961631775,
          0.7584228515625,
          0.57984858751297,
          1.2735813856124878,
          1.1803244352340698,
          1.070113182067871,
          0.10190176963806152,
          0.07579558342695236,
          0.762313723564148,
          0.5520099997520447
         ],
         "y": [
          5.306074619293213,
          4.552798748016357,
          5.438349723815918,
          4.338953971862793,
          4.6334052085876465,
          3.7407033443450928,
          3.8692874908447266,
          4.99495267868042,
          4.8985161781311035,
          4.641594886779785,
          4.38185453414917,
          3.721670150756836,
          3.9575867652893066,
          5.366342067718506,
          4.029882431030273,
          3.785430908203125,
          4.618426322937012,
          3.6598167419433594,
          5.462913990020752,
          4.771364688873291,
          4.5719804763793945,
          3.909254550933838,
          5.854493618011475,
          4.283265113830566,
          4.5743489265441895,
          4.638598918914795,
          5.195384502410889,
          3.8002912998199463,
          3.7240123748779297,
          3.727508306503296,
          5.245928764343262,
          5.114028453826904,
          5.345913410186768,
          4.4639410972595215,
          5.000974178314209,
          4.586035251617432,
          4.002981185913086,
          3.784787654876709,
          4.9926958084106445,
          4.538111209869385
         ]
        },
        {
         "hoverinfo": "text",
         "hovertext": [
          "The nature of economic growth in India in recent times is often described as a jobless growth. Do you agree with this view? Give arguments in favour of your answer.",
          "With a consideration towards the strategy of inclusive growth, the new Companies Bill ,2013 has indirectly made CSR a mandatory obligation. Discuss the challenges expected in its implementation in right earnest. Also discuss other provisions in the Bill and their implications. (200 words)",
          "National Urban Transport Policy emphasises on ‘moving people’ instead of ‘moving vehicles’. Discuss critically the success of the various strategies of the Government in this regard.",
          "Among several factors for India’s potential growth, savings rate is the most effective one. Do you agree? What are the other factors available for growth potential?",
          "Explain the difference between computing methodology of India’s Gross Domestic Product (GDP) before the year 2015 and after the year 2015.",
          "Explain intra-generational and\ninter-generational issues of equity from the perspective of inclusive growth and sustainable development.",
          "“Investment in infrastructure is essential for more rapid and inclusive economic growth. ”Discuss in the light of India’s experience.",
          "Adoption of PPP model for infrastructure development of the country has not been free of criticism. Critically discuss the pros and cons of the model.",
          "Examine the impact of liberalization on companies owned by Indians. Are they competing with the MNCs satisfactorily? Discuss.",
          "What are the major challenges of Public Distribution System (PDS) in India ? How can it be made effective and transparent ?",
          "Capitalism has guided the world economy to unprecedented prosperity. However, it often encourages short-sightedness and contributes to wide disparities between the rich and the poor. In this light, would it be correct to believe and adopt capitalism for bringing inclusive growth in India?\nDiscuss.",
          "It is argued that the strategy of inclusive growth is intended to meet the objectives of inclusiveness and sustainability together. Comment on this statement.",
          "Most of the unemployment in India is structural in nature. Examine the methodology adopted to compute unemployment in the country and suggest improvements.",
          "Economic growth in the recent past has been led by increase in labour activity.” Explain this statement. Suggest the growth pattern that will lead to creation of more jobs without compromising labour productivity.",
          "Is inclusive growth possible under market economy ? State the significance of financial inclusion in achieving economic growth in India.",
          "Justify the need for FDI for the development of the Indian economy. Why there is gap between MOUs signed and actual FDIS? Suggest remedial steps to be taken for increasing actual FDIs in India.",
          "What are 'Smart Cities'? Examine their relevance for urban development in India. Will it increase rural-urban differences?\nGive arguments for 'Smart Villages' in the light of PURA and RURBAN Mission.",
          "Though India allowed Foreign Direct Investment (FDI) in what is called\nmulti-brand retail through the joint venture route in September 2012, the FDI, even after a year, has not picked up. Discuss the reasons.",
          "“Industrial growth rate has lagged behind in the overall growth of\nGross-Domestic-Product(GDP) in the post-reform period” Give reasons. How far the recent changes is Industrial Policy are capable of increasing the industrial growth rate?",
          "Normally countries shift from agriculture to industry and then later to services, but India shifted directly from agriculture to services. What are the reasons for the huge growth-services vis-a-vis industry in the country? Can India become a developed country without a strong industrial base?",
          "Explain the meaning of investment in an economy in terms of capital formation. Discuss the factors to be considered while designing a concession agreement between a public entity and a private entity.",
          "Do you agree with the view that steady GDP growth and low inflation have left the Indian economy in good shape? Give reasons in support of your arguments.",
          "Comment on the challenges for inclusive growth which include careless and useless manpower in the Indian context. Suggest measures to be taken for facing these challenges.",
          "Define potential GDP and explain its determinants. What are the factors that have been inhibiting India from realizing its potential GDP?",
          "What are the salient features of ‘inclusive growth’? Has India been experiencing such a growth process? Analyze and suggest measures for inclusive growth.",
          "Do you agree that the Indian economy has recently experienced V- shapes recovery? Give reasons in support of your answer.",
          "Examine the developments of Airports in India through Joint Ventures under Public-Private Partnership(PPP) model. What are the challenges faced by the authorities in this regard.",
          "Explain how Private Public Partnership arrangements, in long gestation infrastructure projects, can transfer unsustainable liabilities to the future. What arrangements need to be put in place to ensure that successive generations’ capacities are not compromised?",
          "Why is Public Private Partnership (PPP) required in infrastructural projects ?\nExamine the role of PPP model in the redevelopment of Railway Stations in India.",
          null
         ],
         "marker": {
          "opacity": 0.5,
          "size": 5
         },
         "mode": "markers+text",
         "name": "3_growth_inclusive_india",
         "text": [
          "",
          "",
          "",
          "",
          "",
          "",
          "",
          "",
          "",
          "",
          "",
          "",
          "",
          "",
          "",
          "",
          "",
          "",
          "",
          "",
          "",
          "",
          "",
          "",
          "",
          "",
          "",
          "",
          "",
          "3_growth_inclusive_india"
         ],
         "textfont": {
          "size": 12
         },
         "type": "scattergl",
         "x": [
          1.7842278480529785,
          2.091026782989502,
          1.8605692386627197,
          1.9621731042861938,
          1.750874400138855,
          2.0377869606018066,
          2.010249137878418,
          2.168879270553589,
          1.2543474435806274,
          -0.2895672619342804,
          1.9136474132537842,
          2.055245876312256,
          1.726150631904602,
          1.5888214111328125,
          1.9991155862808228,
          1.051085352897644,
          1.7782578468322754,
          0.8908137679100037,
          1.5647449493408203,
          1.7748976945877075,
          2.0485777854919434,
          1.6438288688659668,
          1.689391016960144,
          1.9205735921859741,
          2.068707227706909,
          1.6291837692260742,
          2.1585347652435303,
          2.0818374156951904,
          2.1312875747680664,
          1.7360436916351318
         ],
         "y": [
          7.849234580993652,
          7.472452163696289,
          6.742501735687256,
          7.858578681945801,
          8.04649829864502,
          7.482782363891602,
          7.124651908874512,
          6.553500652313232,
          7.200639247894287,
          3.473759412765503,
          7.4851250648498535,
          7.443378448486328,
          7.80393123626709,
          8.144039154052734,
          7.431543827056885,
          7.268803596496582,
          6.732161998748779,
          7.279545783996582,
          8.136412620544434,
          8.078056335449219,
          6.5579514503479,
          7.873083591461182,
          7.497143268585205,
          7.839749336242676,
          7.517971515655518,
          7.839539527893066,
          6.551774024963379,
          6.573589324951172,
          6.485762596130371,
          7.253246784210205
         ]
        },
        {
         "hoverinfo": "text",
         "hovertext": [
          "Explain the mechanism and occurrence of cloudburst in the context of the Indian subcontinent. Discuss two recent examples.",
          "Drought has been recognized as a disaster in view of its spatial expanse, temporal duration, slow onset and lasting effects on vulnerable sections. With a focus on the September 2010 guidelines from the National Disaster Management Authority (NDMA), discuss the mechanisms for preparedness to deal with likely El Nino and La Nina fallouts in India.",
          "Describe various measures taken in India for Disaster Risk Reduction (DRR) before and after signing ‘Sendai Framework for DRR (2015-2030)’. How is this framework different from ‘Hyogo Framework for Action, 2005’?",
          "On December 2004, tsumani brought havoc on 14 countries including India. Discuss the factors responsible for occurrence of Tsunami and its effects on life and economy. In the light of guidelines of NDMA (2010) describe the mechanisms for preparedness to reduce the risk during such events.",
          "Discuss about the vulnerability of India to earthquake related hazards. Give examples including the salient features of major disasters caused by earthquakes in different parts of India during the last three decades.",
          "Discuss the recent measures initiated in disaster management by the Government of India departing from the earlier reactive approach.",
          "How important are vulnerability and risk assessment for pre-disaster management? As an administrator, what are key areas that you would focus on in a Disaster Management System?",
          "The frequency of earthquakes appears to have increased in the Indian subcontinent. However, India’s preparedness for mitigating their impact has significant gaps. Discuss various aspects.",
          "Vulnerability is an essential element for defining disaster impacts and its threat to people. How and in what ways can vulnerability to disasters be characterized? Discuss different types of vulnerability with reference to disasters.",
          "Disaster preparedness is the first step in any disaster management process.\nExplain how hazard zonation mapping will help disaster mitigation in the case of landslides.",
          "Describe the various causes and the effects of landslides. Mention the important components of the National Landslide Risk Management Strategy.",
          "The frequency of urban floods due to high intensity rainfall is increasing over the years. Discussing the reasons for urban floods, highlight the mechanisms for preparedness to reduce the risk during such events.",
          "With reference to National Disaster Management Authority (NDMA) guidelines, discuss the measures to be adopted to mitigate the impact of the recent incidents of cloudbursts in many places of Uttarakhand.",
          null
         ],
         "marker": {
          "opacity": 0.5,
          "size": 5
         },
         "mode": "markers+text",
         "name": "4_disaster_disaster management_management",
         "text": [
          "",
          "",
          "",
          "",
          "",
          "",
          "",
          "",
          "",
          "",
          "",
          "",
          "",
          "4_disaster_disaster management_management"
         ],
         "textfont": {
          "size": 12
         },
         "type": "scattergl",
         "x": [
          2.510319471359253,
          2.5638985633850098,
          2.6337783336639404,
          2.6649866104125977,
          2.4702019691467285,
          2.5587668418884277,
          2.428926944732666,
          2.668137550354004,
          2.441546678543091,
          2.407069206237793,
          2.2629973888397217,
          2.5517475605010986,
          2.5587267875671387,
          2.517008066177368
         ],
         "y": [
          1.1473735570907593,
          0.9283744096755981,
          1.0418046712875366,
          0.8754796385765076,
          0.9764866828918457,
          0.9292243123054504,
          0.8576840758323669,
          1.0013973712921143,
          0.8736410140991211,
          0.8480404615402222,
          0.974789023399353,
          0.7724727392196655,
          0.903057336807251,
          0.9330634474754333
         ]
        },
        {
         "hoverinfo": "text",
         "hovertext": [
          "The public expenditure management is a challenge to the Government of India in context of budget making during the post liberalization period. Clarify it.",
          "What were the reasons for the introduction of Fiscal Responsibility and Budget Management (FRBM) Act, 2013? Discuss critically its salient features and their effectiveness.",
          "Discuss the rationale for introducing the Goods and Services Tax (GST) in India. Bring out critically the reasons for the delay in roll out for its regime.",
          "Enumerate the indirect taxes which have been subsumed in the goods and services tax (GST) in India. Also, comment on the revenue implications of the GST introduced in India since July 2017.",
          "Explain the rationale behind the Goods and Services Tax (Compensation to States) Act of 2017. How has COVID-19 impacted the GST compensation fund and created new federal tensions?",
          "What is the meaning of the term ‘tax expenditure’? Taking housing sector as an example, discuss how it influences the budgetary policies of the government.",
          "Comment on the important changes introduced in respect of the Long term Capital Gains Tax (LCGT) and Dividend Distribution Tax (DDT) in the Union Budget for 2018-2019.",
          "Women empowerment in India needs gender budgeting. What are the requirements and status of gender budgeting in the Indian context?",
          "Distinguish between Capital Budget and Revenue Budget. Explain the components of both these Budgets.",
          null
         ],
         "marker": {
          "opacity": 0.5,
          "size": 5
         },
         "mode": "markers+text",
         "name": "5_tax_budget_gst",
         "text": [
          "",
          "",
          "",
          "",
          "",
          "",
          "",
          "",
          "",
          "5_tax_budget_gst"
         ],
         "textfont": {
          "size": 12
         },
         "type": "scattergl",
         "x": [
          -0.04512720927596092,
          -0.052048299461603165,
          0.058866821229457855,
          0.054005227982997894,
          -0.06440748274326324,
          -0.06736809760332108,
          -0.10186263173818588,
          0.38522958755493164,
          -0.04575072601437569,
          0.013504130765795708
         ],
         "y": [
          6.527187347412109,
          6.562471866607666,
          6.3022780418396,
          6.246513366699219,
          6.369180679321289,
          6.538433074951172,
          6.425037384033203,
          6.807441234588623,
          6.64157247543335,
          6.491123676300049
         ]
        },
        {
         "hoverinfo": "text",
         "hovertext": [
          "Can overuse and free availability of antibiotics without Doctor’s prescription, be contributors to the emergence of\ndrug-resistant diseases in India? What are the available mechanisms for monitoring and control? Critically discuss the various issues involved.",
          "India’s Traditional Knowledge Digital Library (TKDL) which has a database containing formatted information on more than 2 million medicinal formulations is proving a powerful weapon in country’s fight against erroneous patents. Discuss the pro and cons of making the database available publicly available under open source licensing.",
          "Bringing out the circumstances in 2005 which forced amendment to the section 3(d) in Indian Patent Law, 1970, discuss how it has been utilized by the Supreme Court in its judgement in rejecting Novartis’ patent application for ‘Glivec’. Discuss briefly the pros and cons of the decision.",
          "What do you understand by Fixed Dose drug Combinations (FDCs)? Discuss their merits and demerits.",
          "In a globalized world, Intellectual Property Rights assume significance and are a source of litigation. Broadly distinguish between the terms—Copyrights, Patents and Trade Secrets.",
          "How is the Government of India protecting traditional knowledge of medicine from patenting by pharmaceutical companies?",
          null
         ],
         "marker": {
          "opacity": 0.5,
          "size": 5
         },
         "mode": "markers+text",
         "name": "6_available_discuss_patents",
         "text": [
          "",
          "",
          "",
          "",
          "",
          "",
          "6_available_discuss_patents"
         ],
         "textfont": {
          "size": 12
         },
         "type": "scattergl",
         "x": [
          3.5012903213500977,
          3.414717674255371,
          3.3930704593658447,
          3.278231143951416,
          3.4350664615631104,
          3.456801176071167,
          3.413195848464966
         ],
         "y": [
          5.507905960083008,
          5.419459819793701,
          5.389081954956055,
          5.298776626586914,
          5.440850734710693,
          5.461394786834717,
          5.419578552246094
         ]
        }
       ],
       "layout": {
        "annotations": [
         {
          "showarrow": false,
          "text": "D1",
          "x": -0.33300235122442245,
          "y": 5.319754585623741,
          "yshift": 10
         },
         {
          "showarrow": false,
          "text": "D2",
          "x": 3.5793923385441304,
          "xshift": 10,
          "y": 9.982907342910767
         }
        ],
        "height": 750,
        "shapes": [
         {
          "line": {
           "color": "#CFD8DC",
           "width": 2
          },
          "type": "line",
          "x0": 3.5793923385441304,
          "x1": 3.5793923385441304,
          "y0": 0.6566018283367157,
          "y1": 9.982907342910767
         },
         {
          "line": {
           "color": "#9E9E9E",
           "width": 2
          },
          "type": "line",
          "x0": -0.33300235122442245,
          "x1": 7.491787028312683,
          "y0": 5.319754585623741,
          "y1": 5.319754585623741
         }
        ],
        "template": {
         "data": {
          "bar": [
           {
            "error_x": {
             "color": "rgb(36,36,36)"
            },
            "error_y": {
             "color": "rgb(36,36,36)"
            },
            "marker": {
             "line": {
              "color": "white",
              "width": 0.5
             },
             "pattern": {
              "fillmode": "overlay",
              "size": 10,
              "solidity": 0.2
             }
            },
            "type": "bar"
           }
          ],
          "barpolar": [
           {
            "marker": {
             "line": {
              "color": "white",
              "width": 0.5
             },
             "pattern": {
              "fillmode": "overlay",
              "size": 10,
              "solidity": 0.2
             }
            },
            "type": "barpolar"
           }
          ],
          "carpet": [
           {
            "aaxis": {
             "endlinecolor": "rgb(36,36,36)",
             "gridcolor": "white",
             "linecolor": "white",
             "minorgridcolor": "white",
             "startlinecolor": "rgb(36,36,36)"
            },
            "baxis": {
             "endlinecolor": "rgb(36,36,36)",
             "gridcolor": "white",
             "linecolor": "white",
             "minorgridcolor": "white",
             "startlinecolor": "rgb(36,36,36)"
            },
            "type": "carpet"
           }
          ],
          "choropleth": [
           {
            "colorbar": {
             "outlinewidth": 1,
             "tickcolor": "rgb(36,36,36)",
             "ticks": "outside"
            },
            "type": "choropleth"
           }
          ],
          "contour": [
           {
            "colorbar": {
             "outlinewidth": 1,
             "tickcolor": "rgb(36,36,36)",
             "ticks": "outside"
            },
            "colorscale": [
             [
              0,
              "#440154"
             ],
             [
              0.1111111111111111,
              "#482878"
             ],
             [
              0.2222222222222222,
              "#3e4989"
             ],
             [
              0.3333333333333333,
              "#31688e"
             ],
             [
              0.4444444444444444,
              "#26828e"
             ],
             [
              0.5555555555555556,
              "#1f9e89"
             ],
             [
              0.6666666666666666,
              "#35b779"
             ],
             [
              0.7777777777777778,
              "#6ece58"
             ],
             [
              0.8888888888888888,
              "#b5de2b"
             ],
             [
              1,
              "#fde725"
             ]
            ],
            "type": "contour"
           }
          ],
          "contourcarpet": [
           {
            "colorbar": {
             "outlinewidth": 1,
             "tickcolor": "rgb(36,36,36)",
             "ticks": "outside"
            },
            "type": "contourcarpet"
           }
          ],
          "heatmap": [
           {
            "colorbar": {
             "outlinewidth": 1,
             "tickcolor": "rgb(36,36,36)",
             "ticks": "outside"
            },
            "colorscale": [
             [
              0,
              "#440154"
             ],
             [
              0.1111111111111111,
              "#482878"
             ],
             [
              0.2222222222222222,
              "#3e4989"
             ],
             [
              0.3333333333333333,
              "#31688e"
             ],
             [
              0.4444444444444444,
              "#26828e"
             ],
             [
              0.5555555555555556,
              "#1f9e89"
             ],
             [
              0.6666666666666666,
              "#35b779"
             ],
             [
              0.7777777777777778,
              "#6ece58"
             ],
             [
              0.8888888888888888,
              "#b5de2b"
             ],
             [
              1,
              "#fde725"
             ]
            ],
            "type": "heatmap"
           }
          ],
          "heatmapgl": [
           {
            "colorbar": {
             "outlinewidth": 1,
             "tickcolor": "rgb(36,36,36)",
             "ticks": "outside"
            },
            "colorscale": [
             [
              0,
              "#440154"
             ],
             [
              0.1111111111111111,
              "#482878"
             ],
             [
              0.2222222222222222,
              "#3e4989"
             ],
             [
              0.3333333333333333,
              "#31688e"
             ],
             [
              0.4444444444444444,
              "#26828e"
             ],
             [
              0.5555555555555556,
              "#1f9e89"
             ],
             [
              0.6666666666666666,
              "#35b779"
             ],
             [
              0.7777777777777778,
              "#6ece58"
             ],
             [
              0.8888888888888888,
              "#b5de2b"
             ],
             [
              1,
              "#fde725"
             ]
            ],
            "type": "heatmapgl"
           }
          ],
          "histogram": [
           {
            "marker": {
             "line": {
              "color": "white",
              "width": 0.6
             }
            },
            "type": "histogram"
           }
          ],
          "histogram2d": [
           {
            "colorbar": {
             "outlinewidth": 1,
             "tickcolor": "rgb(36,36,36)",
             "ticks": "outside"
            },
            "colorscale": [
             [
              0,
              "#440154"
             ],
             [
              0.1111111111111111,
              "#482878"
             ],
             [
              0.2222222222222222,
              "#3e4989"
             ],
             [
              0.3333333333333333,
              "#31688e"
             ],
             [
              0.4444444444444444,
              "#26828e"
             ],
             [
              0.5555555555555556,
              "#1f9e89"
             ],
             [
              0.6666666666666666,
              "#35b779"
             ],
             [
              0.7777777777777778,
              "#6ece58"
             ],
             [
              0.8888888888888888,
              "#b5de2b"
             ],
             [
              1,
              "#fde725"
             ]
            ],
            "type": "histogram2d"
           }
          ],
          "histogram2dcontour": [
           {
            "colorbar": {
             "outlinewidth": 1,
             "tickcolor": "rgb(36,36,36)",
             "ticks": "outside"
            },
            "colorscale": [
             [
              0,
              "#440154"
             ],
             [
              0.1111111111111111,
              "#482878"
             ],
             [
              0.2222222222222222,
              "#3e4989"
             ],
             [
              0.3333333333333333,
              "#31688e"
             ],
             [
              0.4444444444444444,
              "#26828e"
             ],
             [
              0.5555555555555556,
              "#1f9e89"
             ],
             [
              0.6666666666666666,
              "#35b779"
             ],
             [
              0.7777777777777778,
              "#6ece58"
             ],
             [
              0.8888888888888888,
              "#b5de2b"
             ],
             [
              1,
              "#fde725"
             ]
            ],
            "type": "histogram2dcontour"
           }
          ],
          "mesh3d": [
           {
            "colorbar": {
             "outlinewidth": 1,
             "tickcolor": "rgb(36,36,36)",
             "ticks": "outside"
            },
            "type": "mesh3d"
           }
          ],
          "parcoords": [
           {
            "line": {
             "colorbar": {
              "outlinewidth": 1,
              "tickcolor": "rgb(36,36,36)",
              "ticks": "outside"
             }
            },
            "type": "parcoords"
           }
          ],
          "pie": [
           {
            "automargin": true,
            "type": "pie"
           }
          ],
          "scatter": [
           {
            "fillpattern": {
             "fillmode": "overlay",
             "size": 10,
             "solidity": 0.2
            },
            "type": "scatter"
           }
          ],
          "scatter3d": [
           {
            "line": {
             "colorbar": {
              "outlinewidth": 1,
              "tickcolor": "rgb(36,36,36)",
              "ticks": "outside"
             }
            },
            "marker": {
             "colorbar": {
              "outlinewidth": 1,
              "tickcolor": "rgb(36,36,36)",
              "ticks": "outside"
             }
            },
            "type": "scatter3d"
           }
          ],
          "scattercarpet": [
           {
            "marker": {
             "colorbar": {
              "outlinewidth": 1,
              "tickcolor": "rgb(36,36,36)",
              "ticks": "outside"
             }
            },
            "type": "scattercarpet"
           }
          ],
          "scattergeo": [
           {
            "marker": {
             "colorbar": {
              "outlinewidth": 1,
              "tickcolor": "rgb(36,36,36)",
              "ticks": "outside"
             }
            },
            "type": "scattergeo"
           }
          ],
          "scattergl": [
           {
            "marker": {
             "colorbar": {
              "outlinewidth": 1,
              "tickcolor": "rgb(36,36,36)",
              "ticks": "outside"
             }
            },
            "type": "scattergl"
           }
          ],
          "scattermapbox": [
           {
            "marker": {
             "colorbar": {
              "outlinewidth": 1,
              "tickcolor": "rgb(36,36,36)",
              "ticks": "outside"
             }
            },
            "type": "scattermapbox"
           }
          ],
          "scatterpolar": [
           {
            "marker": {
             "colorbar": {
              "outlinewidth": 1,
              "tickcolor": "rgb(36,36,36)",
              "ticks": "outside"
             }
            },
            "type": "scatterpolar"
           }
          ],
          "scatterpolargl": [
           {
            "marker": {
             "colorbar": {
              "outlinewidth": 1,
              "tickcolor": "rgb(36,36,36)",
              "ticks": "outside"
             }
            },
            "type": "scatterpolargl"
           }
          ],
          "scatterternary": [
           {
            "marker": {
             "colorbar": {
              "outlinewidth": 1,
              "tickcolor": "rgb(36,36,36)",
              "ticks": "outside"
             }
            },
            "type": "scatterternary"
           }
          ],
          "surface": [
           {
            "colorbar": {
             "outlinewidth": 1,
             "tickcolor": "rgb(36,36,36)",
             "ticks": "outside"
            },
            "colorscale": [
             [
              0,
              "#440154"
             ],
             [
              0.1111111111111111,
              "#482878"
             ],
             [
              0.2222222222222222,
              "#3e4989"
             ],
             [
              0.3333333333333333,
              "#31688e"
             ],
             [
              0.4444444444444444,
              "#26828e"
             ],
             [
              0.5555555555555556,
              "#1f9e89"
             ],
             [
              0.6666666666666666,
              "#35b779"
             ],
             [
              0.7777777777777778,
              "#6ece58"
             ],
             [
              0.8888888888888888,
              "#b5de2b"
             ],
             [
              1,
              "#fde725"
             ]
            ],
            "type": "surface"
           }
          ],
          "table": [
           {
            "cells": {
             "fill": {
              "color": "rgb(237,237,237)"
             },
             "line": {
              "color": "white"
             }
            },
            "header": {
             "fill": {
              "color": "rgb(217,217,217)"
             },
             "line": {
              "color": "white"
             }
            },
            "type": "table"
           }
          ]
         },
         "layout": {
          "annotationdefaults": {
           "arrowhead": 0,
           "arrowwidth": 1
          },
          "autotypenumbers": "strict",
          "coloraxis": {
           "colorbar": {
            "outlinewidth": 1,
            "tickcolor": "rgb(36,36,36)",
            "ticks": "outside"
           }
          },
          "colorscale": {
           "diverging": [
            [
             0,
             "rgb(103,0,31)"
            ],
            [
             0.1,
             "rgb(178,24,43)"
            ],
            [
             0.2,
             "rgb(214,96,77)"
            ],
            [
             0.3,
             "rgb(244,165,130)"
            ],
            [
             0.4,
             "rgb(253,219,199)"
            ],
            [
             0.5,
             "rgb(247,247,247)"
            ],
            [
             0.6,
             "rgb(209,229,240)"
            ],
            [
             0.7,
             "rgb(146,197,222)"
            ],
            [
             0.8,
             "rgb(67,147,195)"
            ],
            [
             0.9,
             "rgb(33,102,172)"
            ],
            [
             1,
             "rgb(5,48,97)"
            ]
           ],
           "sequential": [
            [
             0,
             "#440154"
            ],
            [
             0.1111111111111111,
             "#482878"
            ],
            [
             0.2222222222222222,
             "#3e4989"
            ],
            [
             0.3333333333333333,
             "#31688e"
            ],
            [
             0.4444444444444444,
             "#26828e"
            ],
            [
             0.5555555555555556,
             "#1f9e89"
            ],
            [
             0.6666666666666666,
             "#35b779"
            ],
            [
             0.7777777777777778,
             "#6ece58"
            ],
            [
             0.8888888888888888,
             "#b5de2b"
            ],
            [
             1,
             "#fde725"
            ]
           ],
           "sequentialminus": [
            [
             0,
             "#440154"
            ],
            [
             0.1111111111111111,
             "#482878"
            ],
            [
             0.2222222222222222,
             "#3e4989"
            ],
            [
             0.3333333333333333,
             "#31688e"
            ],
            [
             0.4444444444444444,
             "#26828e"
            ],
            [
             0.5555555555555556,
             "#1f9e89"
            ],
            [
             0.6666666666666666,
             "#35b779"
            ],
            [
             0.7777777777777778,
             "#6ece58"
            ],
            [
             0.8888888888888888,
             "#b5de2b"
            ],
            [
             1,
             "#fde725"
            ]
           ]
          },
          "colorway": [
           "#1F77B4",
           "#FF7F0E",
           "#2CA02C",
           "#D62728",
           "#9467BD",
           "#8C564B",
           "#E377C2",
           "#7F7F7F",
           "#BCBD22",
           "#17BECF"
          ],
          "font": {
           "color": "rgb(36,36,36)"
          },
          "geo": {
           "bgcolor": "white",
           "lakecolor": "white",
           "landcolor": "white",
           "showlakes": true,
           "showland": true,
           "subunitcolor": "white"
          },
          "hoverlabel": {
           "align": "left"
          },
          "hovermode": "closest",
          "mapbox": {
           "style": "light"
          },
          "paper_bgcolor": "white",
          "plot_bgcolor": "white",
          "polar": {
           "angularaxis": {
            "gridcolor": "rgb(232,232,232)",
            "linecolor": "rgb(36,36,36)",
            "showgrid": false,
            "showline": true,
            "ticks": "outside"
           },
           "bgcolor": "white",
           "radialaxis": {
            "gridcolor": "rgb(232,232,232)",
            "linecolor": "rgb(36,36,36)",
            "showgrid": false,
            "showline": true,
            "ticks": "outside"
           }
          },
          "scene": {
           "xaxis": {
            "backgroundcolor": "white",
            "gridcolor": "rgb(232,232,232)",
            "gridwidth": 2,
            "linecolor": "rgb(36,36,36)",
            "showbackground": true,
            "showgrid": false,
            "showline": true,
            "ticks": "outside",
            "zeroline": false,
            "zerolinecolor": "rgb(36,36,36)"
           },
           "yaxis": {
            "backgroundcolor": "white",
            "gridcolor": "rgb(232,232,232)",
            "gridwidth": 2,
            "linecolor": "rgb(36,36,36)",
            "showbackground": true,
            "showgrid": false,
            "showline": true,
            "ticks": "outside",
            "zeroline": false,
            "zerolinecolor": "rgb(36,36,36)"
           },
           "zaxis": {
            "backgroundcolor": "white",
            "gridcolor": "rgb(232,232,232)",
            "gridwidth": 2,
            "linecolor": "rgb(36,36,36)",
            "showbackground": true,
            "showgrid": false,
            "showline": true,
            "ticks": "outside",
            "zeroline": false,
            "zerolinecolor": "rgb(36,36,36)"
           }
          },
          "shapedefaults": {
           "fillcolor": "black",
           "line": {
            "width": 0
           },
           "opacity": 0.3
          },
          "ternary": {
           "aaxis": {
            "gridcolor": "rgb(232,232,232)",
            "linecolor": "rgb(36,36,36)",
            "showgrid": false,
            "showline": true,
            "ticks": "outside"
           },
           "baxis": {
            "gridcolor": "rgb(232,232,232)",
            "linecolor": "rgb(36,36,36)",
            "showgrid": false,
            "showline": true,
            "ticks": "outside"
           },
           "bgcolor": "white",
           "caxis": {
            "gridcolor": "rgb(232,232,232)",
            "linecolor": "rgb(36,36,36)",
            "showgrid": false,
            "showline": true,
            "ticks": "outside"
           }
          },
          "title": {
           "x": 0.05
          },
          "xaxis": {
           "automargin": true,
           "gridcolor": "rgb(232,232,232)",
           "linecolor": "rgb(36,36,36)",
           "showgrid": false,
           "showline": true,
           "ticks": "outside",
           "title": {
            "standoff": 15
           },
           "zeroline": false,
           "zerolinecolor": "rgb(36,36,36)"
          },
          "yaxis": {
           "automargin": true,
           "gridcolor": "rgb(232,232,232)",
           "linecolor": "rgb(36,36,36)",
           "showgrid": false,
           "showline": true,
           "ticks": "outside",
           "title": {
            "standoff": 15
           },
           "zeroline": false,
           "zerolinecolor": "rgb(36,36,36)"
          }
         }
        },
        "title": {
         "font": {
          "color": "Black",
          "size": 22
         },
         "text": "<b>Documents and Topics</b>",
         "x": 0.5,
         "xanchor": "center",
         "yanchor": "top"
        },
        "width": 1200,
        "xaxis": {
         "visible": false
        },
        "yaxis": {
         "visible": false
        }
       }
      }
     },
     "metadata": {},
     "output_type": "display_data"
    }
   ],
   "source": [
    "model.visualize_documents(questions)"
   ]
  },
  {
   "cell_type": "code",
   "execution_count": 13,
   "metadata": {},
   "outputs": [
    {
     "data": {
      "application/vnd.plotly.v1+json": {
       "config": {
        "plotlyServerURL": "https://plot.ly"
       },
       "data": [
        {
         "customdata": [
          [
           0,
           "india | energy | water | discuss | programme",
           58
          ],
          [
           1,
           "security | discuss | india | cyber | threat",
           51
          ],
          [
           2,
           "food | india | farmers | land | agricultural",
           39
          ],
          [
           3,
           "growth | inclusive | india | inclusive growth | gdp",
           29
          ],
          [
           4,
           "disaster | disaster management | management | vulnerability | risk",
           13
          ],
          [
           5,
           "tax | budget | gst | goods | goods services",
           9
          ],
          [
           6,
           "available | discuss | patents | patent | knowledge",
           6
          ]
         ],
         "hovertemplate": "<b>Topic %{customdata[0]}</b><br>%{customdata[1]}<br>Size: %{customdata[2]}",
         "legendgroup": "",
         "marker": {
          "color": "#B0BEC5",
          "line": {
           "color": "DarkSlateGrey",
           "width": 2
          },
          "size": [
           58,
           51,
           39,
           29,
           13,
           9,
           6
          ],
          "sizemode": "area",
          "sizeref": 0.03625,
          "symbol": "circle"
         },
         "mode": "markers",
         "name": "",
         "orientation": "v",
         "showlegend": false,
         "type": "scatter",
         "x": [
          10.420999526977539,
          11.229426383972168,
          10.193732261657715,
          12.622963905334473,
          11.680617332458496,
          13.087807655334473,
          10.921158790588379
         ],
         "xaxis": "x",
         "y": [
          3.199472665786743,
          3.11494517326355,
          3.8611319065093994,
          4.525501728057861,
          2.833500385284424,
          4.821754455566406,
          3.8910319805145264
         ],
         "yaxis": "y"
        }
       ],
       "layout": {
        "annotations": [
         {
          "showarrow": false,
          "text": "D1",
          "x": 8.664672422409058,
          "y": 3.976746475696564,
          "yshift": 10
         },
         {
          "showarrow": false,
          "text": "D2",
          "x": 11.857825613021852,
          "xshift": 10,
          "y": 5.5450176239013675
         }
        ],
        "height": 650,
        "hoverlabel": {
         "bgcolor": "white",
         "font": {
          "family": "Rockwell",
          "size": 16
         }
        },
        "legend": {
         "itemsizing": "constant",
         "tracegroupgap": 0
        },
        "margin": {
         "t": 60
        },
        "shapes": [
         {
          "line": {
           "color": "#CFD8DC",
           "width": 2
          },
          "type": "line",
          "x0": 11.857825613021852,
          "x1": 11.857825613021852,
          "y0": 2.40847532749176,
          "y1": 5.5450176239013675
         },
         {
          "line": {
           "color": "#9E9E9E",
           "width": 2
          },
          "type": "line",
          "x0": 8.664672422409058,
          "x1": 15.050978803634644,
          "y0": 3.976746475696564,
          "y1": 3.976746475696564
         }
        ],
        "sliders": [
         {
          "active": 0,
          "pad": {
           "t": 50
          },
          "steps": [
           {
            "args": [
             {
              "marker.color": [
               [
                "red",
                "#B0BEC5",
                "#B0BEC5",
                "#B0BEC5",
                "#B0BEC5",
                "#B0BEC5",
                "#B0BEC5"
               ]
              ]
             }
            ],
            "label": "Topic 0",
            "method": "update"
           },
           {
            "args": [
             {
              "marker.color": [
               [
                "#B0BEC5",
                "red",
                "#B0BEC5",
                "#B0BEC5",
                "#B0BEC5",
                "#B0BEC5",
                "#B0BEC5"
               ]
              ]
             }
            ],
            "label": "Topic 1",
            "method": "update"
           },
           {
            "args": [
             {
              "marker.color": [
               [
                "#B0BEC5",
                "#B0BEC5",
                "red",
                "#B0BEC5",
                "#B0BEC5",
                "#B0BEC5",
                "#B0BEC5"
               ]
              ]
             }
            ],
            "label": "Topic 2",
            "method": "update"
           },
           {
            "args": [
             {
              "marker.color": [
               [
                "#B0BEC5",
                "#B0BEC5",
                "#B0BEC5",
                "red",
                "#B0BEC5",
                "#B0BEC5",
                "#B0BEC5"
               ]
              ]
             }
            ],
            "label": "Topic 3",
            "method": "update"
           },
           {
            "args": [
             {
              "marker.color": [
               [
                "#B0BEC5",
                "#B0BEC5",
                "#B0BEC5",
                "#B0BEC5",
                "red",
                "#B0BEC5",
                "#B0BEC5"
               ]
              ]
             }
            ],
            "label": "Topic 4",
            "method": "update"
           },
           {
            "args": [
             {
              "marker.color": [
               [
                "#B0BEC5",
                "#B0BEC5",
                "#B0BEC5",
                "#B0BEC5",
                "#B0BEC5",
                "red",
                "#B0BEC5"
               ]
              ]
             }
            ],
            "label": "Topic 5",
            "method": "update"
           },
           {
            "args": [
             {
              "marker.color": [
               [
                "#B0BEC5",
                "#B0BEC5",
                "#B0BEC5",
                "#B0BEC5",
                "#B0BEC5",
                "#B0BEC5",
                "red"
               ]
              ]
             }
            ],
            "label": "Topic 6",
            "method": "update"
           }
          ]
         }
        ],
        "template": {
         "data": {
          "bar": [
           {
            "error_x": {
             "color": "rgb(36,36,36)"
            },
            "error_y": {
             "color": "rgb(36,36,36)"
            },
            "marker": {
             "line": {
              "color": "white",
              "width": 0.5
             },
             "pattern": {
              "fillmode": "overlay",
              "size": 10,
              "solidity": 0.2
             }
            },
            "type": "bar"
           }
          ],
          "barpolar": [
           {
            "marker": {
             "line": {
              "color": "white",
              "width": 0.5
             },
             "pattern": {
              "fillmode": "overlay",
              "size": 10,
              "solidity": 0.2
             }
            },
            "type": "barpolar"
           }
          ],
          "carpet": [
           {
            "aaxis": {
             "endlinecolor": "rgb(36,36,36)",
             "gridcolor": "white",
             "linecolor": "white",
             "minorgridcolor": "white",
             "startlinecolor": "rgb(36,36,36)"
            },
            "baxis": {
             "endlinecolor": "rgb(36,36,36)",
             "gridcolor": "white",
             "linecolor": "white",
             "minorgridcolor": "white",
             "startlinecolor": "rgb(36,36,36)"
            },
            "type": "carpet"
           }
          ],
          "choropleth": [
           {
            "colorbar": {
             "outlinewidth": 1,
             "tickcolor": "rgb(36,36,36)",
             "ticks": "outside"
            },
            "type": "choropleth"
           }
          ],
          "contour": [
           {
            "colorbar": {
             "outlinewidth": 1,
             "tickcolor": "rgb(36,36,36)",
             "ticks": "outside"
            },
            "colorscale": [
             [
              0,
              "#440154"
             ],
             [
              0.1111111111111111,
              "#482878"
             ],
             [
              0.2222222222222222,
              "#3e4989"
             ],
             [
              0.3333333333333333,
              "#31688e"
             ],
             [
              0.4444444444444444,
              "#26828e"
             ],
             [
              0.5555555555555556,
              "#1f9e89"
             ],
             [
              0.6666666666666666,
              "#35b779"
             ],
             [
              0.7777777777777778,
              "#6ece58"
             ],
             [
              0.8888888888888888,
              "#b5de2b"
             ],
             [
              1,
              "#fde725"
             ]
            ],
            "type": "contour"
           }
          ],
          "contourcarpet": [
           {
            "colorbar": {
             "outlinewidth": 1,
             "tickcolor": "rgb(36,36,36)",
             "ticks": "outside"
            },
            "type": "contourcarpet"
           }
          ],
          "heatmap": [
           {
            "colorbar": {
             "outlinewidth": 1,
             "tickcolor": "rgb(36,36,36)",
             "ticks": "outside"
            },
            "colorscale": [
             [
              0,
              "#440154"
             ],
             [
              0.1111111111111111,
              "#482878"
             ],
             [
              0.2222222222222222,
              "#3e4989"
             ],
             [
              0.3333333333333333,
              "#31688e"
             ],
             [
              0.4444444444444444,
              "#26828e"
             ],
             [
              0.5555555555555556,
              "#1f9e89"
             ],
             [
              0.6666666666666666,
              "#35b779"
             ],
             [
              0.7777777777777778,
              "#6ece58"
             ],
             [
              0.8888888888888888,
              "#b5de2b"
             ],
             [
              1,
              "#fde725"
             ]
            ],
            "type": "heatmap"
           }
          ],
          "heatmapgl": [
           {
            "colorbar": {
             "outlinewidth": 1,
             "tickcolor": "rgb(36,36,36)",
             "ticks": "outside"
            },
            "colorscale": [
             [
              0,
              "#440154"
             ],
             [
              0.1111111111111111,
              "#482878"
             ],
             [
              0.2222222222222222,
              "#3e4989"
             ],
             [
              0.3333333333333333,
              "#31688e"
             ],
             [
              0.4444444444444444,
              "#26828e"
             ],
             [
              0.5555555555555556,
              "#1f9e89"
             ],
             [
              0.6666666666666666,
              "#35b779"
             ],
             [
              0.7777777777777778,
              "#6ece58"
             ],
             [
              0.8888888888888888,
              "#b5de2b"
             ],
             [
              1,
              "#fde725"
             ]
            ],
            "type": "heatmapgl"
           }
          ],
          "histogram": [
           {
            "marker": {
             "line": {
              "color": "white",
              "width": 0.6
             }
            },
            "type": "histogram"
           }
          ],
          "histogram2d": [
           {
            "colorbar": {
             "outlinewidth": 1,
             "tickcolor": "rgb(36,36,36)",
             "ticks": "outside"
            },
            "colorscale": [
             [
              0,
              "#440154"
             ],
             [
              0.1111111111111111,
              "#482878"
             ],
             [
              0.2222222222222222,
              "#3e4989"
             ],
             [
              0.3333333333333333,
              "#31688e"
             ],
             [
              0.4444444444444444,
              "#26828e"
             ],
             [
              0.5555555555555556,
              "#1f9e89"
             ],
             [
              0.6666666666666666,
              "#35b779"
             ],
             [
              0.7777777777777778,
              "#6ece58"
             ],
             [
              0.8888888888888888,
              "#b5de2b"
             ],
             [
              1,
              "#fde725"
             ]
            ],
            "type": "histogram2d"
           }
          ],
          "histogram2dcontour": [
           {
            "colorbar": {
             "outlinewidth": 1,
             "tickcolor": "rgb(36,36,36)",
             "ticks": "outside"
            },
            "colorscale": [
             [
              0,
              "#440154"
             ],
             [
              0.1111111111111111,
              "#482878"
             ],
             [
              0.2222222222222222,
              "#3e4989"
             ],
             [
              0.3333333333333333,
              "#31688e"
             ],
             [
              0.4444444444444444,
              "#26828e"
             ],
             [
              0.5555555555555556,
              "#1f9e89"
             ],
             [
              0.6666666666666666,
              "#35b779"
             ],
             [
              0.7777777777777778,
              "#6ece58"
             ],
             [
              0.8888888888888888,
              "#b5de2b"
             ],
             [
              1,
              "#fde725"
             ]
            ],
            "type": "histogram2dcontour"
           }
          ],
          "mesh3d": [
           {
            "colorbar": {
             "outlinewidth": 1,
             "tickcolor": "rgb(36,36,36)",
             "ticks": "outside"
            },
            "type": "mesh3d"
           }
          ],
          "parcoords": [
           {
            "line": {
             "colorbar": {
              "outlinewidth": 1,
              "tickcolor": "rgb(36,36,36)",
              "ticks": "outside"
             }
            },
            "type": "parcoords"
           }
          ],
          "pie": [
           {
            "automargin": true,
            "type": "pie"
           }
          ],
          "scatter": [
           {
            "fillpattern": {
             "fillmode": "overlay",
             "size": 10,
             "solidity": 0.2
            },
            "type": "scatter"
           }
          ],
          "scatter3d": [
           {
            "line": {
             "colorbar": {
              "outlinewidth": 1,
              "tickcolor": "rgb(36,36,36)",
              "ticks": "outside"
             }
            },
            "marker": {
             "colorbar": {
              "outlinewidth": 1,
              "tickcolor": "rgb(36,36,36)",
              "ticks": "outside"
             }
            },
            "type": "scatter3d"
           }
          ],
          "scattercarpet": [
           {
            "marker": {
             "colorbar": {
              "outlinewidth": 1,
              "tickcolor": "rgb(36,36,36)",
              "ticks": "outside"
             }
            },
            "type": "scattercarpet"
           }
          ],
          "scattergeo": [
           {
            "marker": {
             "colorbar": {
              "outlinewidth": 1,
              "tickcolor": "rgb(36,36,36)",
              "ticks": "outside"
             }
            },
            "type": "scattergeo"
           }
          ],
          "scattergl": [
           {
            "marker": {
             "colorbar": {
              "outlinewidth": 1,
              "tickcolor": "rgb(36,36,36)",
              "ticks": "outside"
             }
            },
            "type": "scattergl"
           }
          ],
          "scattermapbox": [
           {
            "marker": {
             "colorbar": {
              "outlinewidth": 1,
              "tickcolor": "rgb(36,36,36)",
              "ticks": "outside"
             }
            },
            "type": "scattermapbox"
           }
          ],
          "scatterpolar": [
           {
            "marker": {
             "colorbar": {
              "outlinewidth": 1,
              "tickcolor": "rgb(36,36,36)",
              "ticks": "outside"
             }
            },
            "type": "scatterpolar"
           }
          ],
          "scatterpolargl": [
           {
            "marker": {
             "colorbar": {
              "outlinewidth": 1,
              "tickcolor": "rgb(36,36,36)",
              "ticks": "outside"
             }
            },
            "type": "scatterpolargl"
           }
          ],
          "scatterternary": [
           {
            "marker": {
             "colorbar": {
              "outlinewidth": 1,
              "tickcolor": "rgb(36,36,36)",
              "ticks": "outside"
             }
            },
            "type": "scatterternary"
           }
          ],
          "surface": [
           {
            "colorbar": {
             "outlinewidth": 1,
             "tickcolor": "rgb(36,36,36)",
             "ticks": "outside"
            },
            "colorscale": [
             [
              0,
              "#440154"
             ],
             [
              0.1111111111111111,
              "#482878"
             ],
             [
              0.2222222222222222,
              "#3e4989"
             ],
             [
              0.3333333333333333,
              "#31688e"
             ],
             [
              0.4444444444444444,
              "#26828e"
             ],
             [
              0.5555555555555556,
              "#1f9e89"
             ],
             [
              0.6666666666666666,
              "#35b779"
             ],
             [
              0.7777777777777778,
              "#6ece58"
             ],
             [
              0.8888888888888888,
              "#b5de2b"
             ],
             [
              1,
              "#fde725"
             ]
            ],
            "type": "surface"
           }
          ],
          "table": [
           {
            "cells": {
             "fill": {
              "color": "rgb(237,237,237)"
             },
             "line": {
              "color": "white"
             }
            },
            "header": {
             "fill": {
              "color": "rgb(217,217,217)"
             },
             "line": {
              "color": "white"
             }
            },
            "type": "table"
           }
          ]
         },
         "layout": {
          "annotationdefaults": {
           "arrowhead": 0,
           "arrowwidth": 1
          },
          "autotypenumbers": "strict",
          "coloraxis": {
           "colorbar": {
            "outlinewidth": 1,
            "tickcolor": "rgb(36,36,36)",
            "ticks": "outside"
           }
          },
          "colorscale": {
           "diverging": [
            [
             0,
             "rgb(103,0,31)"
            ],
            [
             0.1,
             "rgb(178,24,43)"
            ],
            [
             0.2,
             "rgb(214,96,77)"
            ],
            [
             0.3,
             "rgb(244,165,130)"
            ],
            [
             0.4,
             "rgb(253,219,199)"
            ],
            [
             0.5,
             "rgb(247,247,247)"
            ],
            [
             0.6,
             "rgb(209,229,240)"
            ],
            [
             0.7,
             "rgb(146,197,222)"
            ],
            [
             0.8,
             "rgb(67,147,195)"
            ],
            [
             0.9,
             "rgb(33,102,172)"
            ],
            [
             1,
             "rgb(5,48,97)"
            ]
           ],
           "sequential": [
            [
             0,
             "#440154"
            ],
            [
             0.1111111111111111,
             "#482878"
            ],
            [
             0.2222222222222222,
             "#3e4989"
            ],
            [
             0.3333333333333333,
             "#31688e"
            ],
            [
             0.4444444444444444,
             "#26828e"
            ],
            [
             0.5555555555555556,
             "#1f9e89"
            ],
            [
             0.6666666666666666,
             "#35b779"
            ],
            [
             0.7777777777777778,
             "#6ece58"
            ],
            [
             0.8888888888888888,
             "#b5de2b"
            ],
            [
             1,
             "#fde725"
            ]
           ],
           "sequentialminus": [
            [
             0,
             "#440154"
            ],
            [
             0.1111111111111111,
             "#482878"
            ],
            [
             0.2222222222222222,
             "#3e4989"
            ],
            [
             0.3333333333333333,
             "#31688e"
            ],
            [
             0.4444444444444444,
             "#26828e"
            ],
            [
             0.5555555555555556,
             "#1f9e89"
            ],
            [
             0.6666666666666666,
             "#35b779"
            ],
            [
             0.7777777777777778,
             "#6ece58"
            ],
            [
             0.8888888888888888,
             "#b5de2b"
            ],
            [
             1,
             "#fde725"
            ]
           ]
          },
          "colorway": [
           "#1F77B4",
           "#FF7F0E",
           "#2CA02C",
           "#D62728",
           "#9467BD",
           "#8C564B",
           "#E377C2",
           "#7F7F7F",
           "#BCBD22",
           "#17BECF"
          ],
          "font": {
           "color": "rgb(36,36,36)"
          },
          "geo": {
           "bgcolor": "white",
           "lakecolor": "white",
           "landcolor": "white",
           "showlakes": true,
           "showland": true,
           "subunitcolor": "white"
          },
          "hoverlabel": {
           "align": "left"
          },
          "hovermode": "closest",
          "mapbox": {
           "style": "light"
          },
          "paper_bgcolor": "white",
          "plot_bgcolor": "white",
          "polar": {
           "angularaxis": {
            "gridcolor": "rgb(232,232,232)",
            "linecolor": "rgb(36,36,36)",
            "showgrid": false,
            "showline": true,
            "ticks": "outside"
           },
           "bgcolor": "white",
           "radialaxis": {
            "gridcolor": "rgb(232,232,232)",
            "linecolor": "rgb(36,36,36)",
            "showgrid": false,
            "showline": true,
            "ticks": "outside"
           }
          },
          "scene": {
           "xaxis": {
            "backgroundcolor": "white",
            "gridcolor": "rgb(232,232,232)",
            "gridwidth": 2,
            "linecolor": "rgb(36,36,36)",
            "showbackground": true,
            "showgrid": false,
            "showline": true,
            "ticks": "outside",
            "zeroline": false,
            "zerolinecolor": "rgb(36,36,36)"
           },
           "yaxis": {
            "backgroundcolor": "white",
            "gridcolor": "rgb(232,232,232)",
            "gridwidth": 2,
            "linecolor": "rgb(36,36,36)",
            "showbackground": true,
            "showgrid": false,
            "showline": true,
            "ticks": "outside",
            "zeroline": false,
            "zerolinecolor": "rgb(36,36,36)"
           },
           "zaxis": {
            "backgroundcolor": "white",
            "gridcolor": "rgb(232,232,232)",
            "gridwidth": 2,
            "linecolor": "rgb(36,36,36)",
            "showbackground": true,
            "showgrid": false,
            "showline": true,
            "ticks": "outside",
            "zeroline": false,
            "zerolinecolor": "rgb(36,36,36)"
           }
          },
          "shapedefaults": {
           "fillcolor": "black",
           "line": {
            "width": 0
           },
           "opacity": 0.3
          },
          "ternary": {
           "aaxis": {
            "gridcolor": "rgb(232,232,232)",
            "linecolor": "rgb(36,36,36)",
            "showgrid": false,
            "showline": true,
            "ticks": "outside"
           },
           "baxis": {
            "gridcolor": "rgb(232,232,232)",
            "linecolor": "rgb(36,36,36)",
            "showgrid": false,
            "showline": true,
            "ticks": "outside"
           },
           "bgcolor": "white",
           "caxis": {
            "gridcolor": "rgb(232,232,232)",
            "linecolor": "rgb(36,36,36)",
            "showgrid": false,
            "showline": true,
            "ticks": "outside"
           }
          },
          "title": {
           "x": 0.05
          },
          "xaxis": {
           "automargin": true,
           "gridcolor": "rgb(232,232,232)",
           "linecolor": "rgb(36,36,36)",
           "showgrid": false,
           "showline": true,
           "ticks": "outside",
           "title": {
            "standoff": 15
           },
           "zeroline": false,
           "zerolinecolor": "rgb(36,36,36)"
          },
          "yaxis": {
           "automargin": true,
           "gridcolor": "rgb(232,232,232)",
           "linecolor": "rgb(36,36,36)",
           "showgrid": false,
           "showline": true,
           "ticks": "outside",
           "title": {
            "standoff": 15
           },
           "zeroline": false,
           "zerolinecolor": "rgb(36,36,36)"
          }
         }
        },
        "title": {
         "font": {
          "color": "Black",
          "size": 22
         },
         "text": "<b>Intertopic Distance Map</b>",
         "x": 0.5,
         "xanchor": "center",
         "y": 0.95,
         "yanchor": "top"
        },
        "width": 650,
        "xaxis": {
         "anchor": "y",
         "domain": [
          0,
          1
         ],
         "range": [
          8.664672422409058,
          15.050978803634644
         ],
         "title": {
          "text": ""
         },
         "visible": false
        },
        "yaxis": {
         "anchor": "x",
         "domain": [
          0,
          1
         ],
         "range": [
          2.40847532749176,
          5.5450176239013675
         ],
         "title": {
          "text": ""
         },
         "visible": false
        }
       }
      }
     },
     "metadata": {},
     "output_type": "display_data"
    }
   ],
   "source": [
    "model.visualize_topics()"
   ]
  },
  {
   "cell_type": "code",
   "execution_count": 14,
   "metadata": {},
   "outputs": [
    {
     "data": {
      "application/vnd.plotly.v1+json": {
       "config": {
        "plotlyServerURL": "https://plot.ly"
       },
       "data": [
        {
         "marker": {
          "color": "#D55E00"
         },
         "orientation": "h",
         "type": "bar",
         "x": [
          0.016342261775654336,
          0.018419374068943915,
          0.02093678780814857,
          0.02798838917180771,
          0.03414935046492093
         ],
         "xaxis": "x",
         "y": [
          "discuss  ",
          "farmers  ",
          "food  ",
          "growth  ",
          "india  "
         ],
         "yaxis": "y"
        },
        {
         "marker": {
          "color": "#0072B2"
         },
         "orientation": "h",
         "type": "bar",
         "x": [
          0.019393712702186063,
          0.019746802259822685,
          0.02149666270515277,
          0.022960026635326862,
          0.04218499542070404
         ],
         "xaxis": "x2",
         "y": [
          "threat  ",
          "cyber  ",
          "india  ",
          "discuss  ",
          "security  "
         ],
         "yaxis": "y2"
        },
        {
         "marker": {
          "color": "#CC79A7"
         },
         "orientation": "h",
         "type": "bar",
         "x": [
          0.017576199686995683,
          0.019519358467890997,
          0.022033791811707504,
          0.02514630661186536,
          0.030243612741929153
         ],
         "xaxis": "x3",
         "y": [
          "management  ",
          "discuss  ",
          "disaster  ",
          "energy  ",
          "india  "
         ],
         "yaxis": "y3"
        },
        {
         "marker": {
          "color": "#E69F00"
         },
         "orientation": "h",
         "type": "bar",
         "x": [
          0.047803368304909555,
          0.047803368304909555,
          0.06074877580503663,
          0.06867791259985204,
          0.08481066517035438
         ],
         "xaxis": "x4",
         "y": [
          "goods services  ",
          "goods  ",
          "gst  ",
          "budget  ",
          "tax  "
         ],
         "yaxis": "y4"
        },
        {
         "marker": {
          "color": "#56B4E9"
         },
         "orientation": "h",
         "type": "bar",
         "x": [
          0.034405461019777095,
          0.03513714159407154,
          0.04078239494603858,
          0.05734243503296183,
          0.09174789605273893
         ],
         "xaxis": "x5",
         "y": [
          "technology  ",
          "india  ",
          "achieved  ",
          "mission  ",
          "space  "
         ],
         "yaxis": "y5"
        },
        {
         "marker": {
          "color": "#009E73"
         },
         "orientation": "h",
         "type": "bar",
         "x": [
          0.03953674124939098,
          0.03953674124939098,
          0.03953674124939098,
          0.04452853650487634,
          0.04934438700820618
         ],
         "xaxis": "x6",
         "y": [
          "knowledge  ",
          "patent  ",
          "patents  ",
          "discuss  ",
          "available  "
         ],
         "yaxis": "y6"
        },
        {
         "marker": {
          "color": "#F0E442"
         },
         "orientation": "h",
         "type": "bar",
         "x": [
          0.082057387498736,
          0.082057387498736,
          0.082057387498736,
          0.082057387498736,
          0.09282982878920991
         ],
         "xaxis": "x7",
         "y": [
          "cell  ",
          "nanotechnology  ",
          "cell therapy  ",
          "therapy  ",
          "technology  "
         ],
         "yaxis": "y7"
        }
       ],
       "layout": {
        "annotations": [
         {
          "font": {
           "size": 16
          },
          "showarrow": false,
          "text": "Topic 0",
          "x": 0.0875,
          "xanchor": "center",
          "xref": "paper",
          "y": 1,
          "yanchor": "bottom",
          "yref": "paper"
         },
         {
          "font": {
           "size": 16
          },
          "showarrow": false,
          "text": "Topic 1",
          "x": 0.36250000000000004,
          "xanchor": "center",
          "xref": "paper",
          "y": 1,
          "yanchor": "bottom",
          "yref": "paper"
         },
         {
          "font": {
           "size": 16
          },
          "showarrow": false,
          "text": "Topic 2",
          "x": 0.6375000000000001,
          "xanchor": "center",
          "xref": "paper",
          "y": 1,
          "yanchor": "bottom",
          "yref": "paper"
         },
         {
          "font": {
           "size": 16
          },
          "showarrow": false,
          "text": "Topic 3",
          "x": 0.9125,
          "xanchor": "center",
          "xref": "paper",
          "y": 1,
          "yanchor": "bottom",
          "yref": "paper"
         },
         {
          "font": {
           "size": 16
          },
          "showarrow": false,
          "text": "Topic 4",
          "x": 0.0875,
          "xanchor": "center",
          "xref": "paper",
          "y": 0.4,
          "yanchor": "bottom",
          "yref": "paper"
         },
         {
          "font": {
           "size": 16
          },
          "showarrow": false,
          "text": "Topic 5",
          "x": 0.36250000000000004,
          "xanchor": "center",
          "xref": "paper",
          "y": 0.4,
          "yanchor": "bottom",
          "yref": "paper"
         },
         {
          "font": {
           "size": 16
          },
          "showarrow": false,
          "text": "Topic 6",
          "x": 0.6375000000000001,
          "xanchor": "center",
          "xref": "paper",
          "y": 0.4,
          "yanchor": "bottom",
          "yref": "paper"
         }
        ],
        "height": 500,
        "hoverlabel": {
         "bgcolor": "white",
         "font": {
          "family": "Rockwell",
          "size": 16
         }
        },
        "showlegend": false,
        "template": {
         "data": {
          "bar": [
           {
            "error_x": {
             "color": "#2a3f5f"
            },
            "error_y": {
             "color": "#2a3f5f"
            },
            "marker": {
             "line": {
              "color": "white",
              "width": 0.5
             },
             "pattern": {
              "fillmode": "overlay",
              "size": 10,
              "solidity": 0.2
             }
            },
            "type": "bar"
           }
          ],
          "barpolar": [
           {
            "marker": {
             "line": {
              "color": "white",
              "width": 0.5
             },
             "pattern": {
              "fillmode": "overlay",
              "size": 10,
              "solidity": 0.2
             }
            },
            "type": "barpolar"
           }
          ],
          "carpet": [
           {
            "aaxis": {
             "endlinecolor": "#2a3f5f",
             "gridcolor": "#C8D4E3",
             "linecolor": "#C8D4E3",
             "minorgridcolor": "#C8D4E3",
             "startlinecolor": "#2a3f5f"
            },
            "baxis": {
             "endlinecolor": "#2a3f5f",
             "gridcolor": "#C8D4E3",
             "linecolor": "#C8D4E3",
             "minorgridcolor": "#C8D4E3",
             "startlinecolor": "#2a3f5f"
            },
            "type": "carpet"
           }
          ],
          "choropleth": [
           {
            "colorbar": {
             "outlinewidth": 0,
             "ticks": ""
            },
            "type": "choropleth"
           }
          ],
          "contour": [
           {
            "colorbar": {
             "outlinewidth": 0,
             "ticks": ""
            },
            "colorscale": [
             [
              0,
              "#0d0887"
             ],
             [
              0.1111111111111111,
              "#46039f"
             ],
             [
              0.2222222222222222,
              "#7201a8"
             ],
             [
              0.3333333333333333,
              "#9c179e"
             ],
             [
              0.4444444444444444,
              "#bd3786"
             ],
             [
              0.5555555555555556,
              "#d8576b"
             ],
             [
              0.6666666666666666,
              "#ed7953"
             ],
             [
              0.7777777777777778,
              "#fb9f3a"
             ],
             [
              0.8888888888888888,
              "#fdca26"
             ],
             [
              1,
              "#f0f921"
             ]
            ],
            "type": "contour"
           }
          ],
          "contourcarpet": [
           {
            "colorbar": {
             "outlinewidth": 0,
             "ticks": ""
            },
            "type": "contourcarpet"
           }
          ],
          "heatmap": [
           {
            "colorbar": {
             "outlinewidth": 0,
             "ticks": ""
            },
            "colorscale": [
             [
              0,
              "#0d0887"
             ],
             [
              0.1111111111111111,
              "#46039f"
             ],
             [
              0.2222222222222222,
              "#7201a8"
             ],
             [
              0.3333333333333333,
              "#9c179e"
             ],
             [
              0.4444444444444444,
              "#bd3786"
             ],
             [
              0.5555555555555556,
              "#d8576b"
             ],
             [
              0.6666666666666666,
              "#ed7953"
             ],
             [
              0.7777777777777778,
              "#fb9f3a"
             ],
             [
              0.8888888888888888,
              "#fdca26"
             ],
             [
              1,
              "#f0f921"
             ]
            ],
            "type": "heatmap"
           }
          ],
          "heatmapgl": [
           {
            "colorbar": {
             "outlinewidth": 0,
             "ticks": ""
            },
            "colorscale": [
             [
              0,
              "#0d0887"
             ],
             [
              0.1111111111111111,
              "#46039f"
             ],
             [
              0.2222222222222222,
              "#7201a8"
             ],
             [
              0.3333333333333333,
              "#9c179e"
             ],
             [
              0.4444444444444444,
              "#bd3786"
             ],
             [
              0.5555555555555556,
              "#d8576b"
             ],
             [
              0.6666666666666666,
              "#ed7953"
             ],
             [
              0.7777777777777778,
              "#fb9f3a"
             ],
             [
              0.8888888888888888,
              "#fdca26"
             ],
             [
              1,
              "#f0f921"
             ]
            ],
            "type": "heatmapgl"
           }
          ],
          "histogram": [
           {
            "marker": {
             "pattern": {
              "fillmode": "overlay",
              "size": 10,
              "solidity": 0.2
             }
            },
            "type": "histogram"
           }
          ],
          "histogram2d": [
           {
            "colorbar": {
             "outlinewidth": 0,
             "ticks": ""
            },
            "colorscale": [
             [
              0,
              "#0d0887"
             ],
             [
              0.1111111111111111,
              "#46039f"
             ],
             [
              0.2222222222222222,
              "#7201a8"
             ],
             [
              0.3333333333333333,
              "#9c179e"
             ],
             [
              0.4444444444444444,
              "#bd3786"
             ],
             [
              0.5555555555555556,
              "#d8576b"
             ],
             [
              0.6666666666666666,
              "#ed7953"
             ],
             [
              0.7777777777777778,
              "#fb9f3a"
             ],
             [
              0.8888888888888888,
              "#fdca26"
             ],
             [
              1,
              "#f0f921"
             ]
            ],
            "type": "histogram2d"
           }
          ],
          "histogram2dcontour": [
           {
            "colorbar": {
             "outlinewidth": 0,
             "ticks": ""
            },
            "colorscale": [
             [
              0,
              "#0d0887"
             ],
             [
              0.1111111111111111,
              "#46039f"
             ],
             [
              0.2222222222222222,
              "#7201a8"
             ],
             [
              0.3333333333333333,
              "#9c179e"
             ],
             [
              0.4444444444444444,
              "#bd3786"
             ],
             [
              0.5555555555555556,
              "#d8576b"
             ],
             [
              0.6666666666666666,
              "#ed7953"
             ],
             [
              0.7777777777777778,
              "#fb9f3a"
             ],
             [
              0.8888888888888888,
              "#fdca26"
             ],
             [
              1,
              "#f0f921"
             ]
            ],
            "type": "histogram2dcontour"
           }
          ],
          "mesh3d": [
           {
            "colorbar": {
             "outlinewidth": 0,
             "ticks": ""
            },
            "type": "mesh3d"
           }
          ],
          "parcoords": [
           {
            "line": {
             "colorbar": {
              "outlinewidth": 0,
              "ticks": ""
             }
            },
            "type": "parcoords"
           }
          ],
          "pie": [
           {
            "automargin": true,
            "type": "pie"
           }
          ],
          "scatter": [
           {
            "fillpattern": {
             "fillmode": "overlay",
             "size": 10,
             "solidity": 0.2
            },
            "type": "scatter"
           }
          ],
          "scatter3d": [
           {
            "line": {
             "colorbar": {
              "outlinewidth": 0,
              "ticks": ""
             }
            },
            "marker": {
             "colorbar": {
              "outlinewidth": 0,
              "ticks": ""
             }
            },
            "type": "scatter3d"
           }
          ],
          "scattercarpet": [
           {
            "marker": {
             "colorbar": {
              "outlinewidth": 0,
              "ticks": ""
             }
            },
            "type": "scattercarpet"
           }
          ],
          "scattergeo": [
           {
            "marker": {
             "colorbar": {
              "outlinewidth": 0,
              "ticks": ""
             }
            },
            "type": "scattergeo"
           }
          ],
          "scattergl": [
           {
            "marker": {
             "colorbar": {
              "outlinewidth": 0,
              "ticks": ""
             }
            },
            "type": "scattergl"
           }
          ],
          "scattermapbox": [
           {
            "marker": {
             "colorbar": {
              "outlinewidth": 0,
              "ticks": ""
             }
            },
            "type": "scattermapbox"
           }
          ],
          "scatterpolar": [
           {
            "marker": {
             "colorbar": {
              "outlinewidth": 0,
              "ticks": ""
             }
            },
            "type": "scatterpolar"
           }
          ],
          "scatterpolargl": [
           {
            "marker": {
             "colorbar": {
              "outlinewidth": 0,
              "ticks": ""
             }
            },
            "type": "scatterpolargl"
           }
          ],
          "scatterternary": [
           {
            "marker": {
             "colorbar": {
              "outlinewidth": 0,
              "ticks": ""
             }
            },
            "type": "scatterternary"
           }
          ],
          "surface": [
           {
            "colorbar": {
             "outlinewidth": 0,
             "ticks": ""
            },
            "colorscale": [
             [
              0,
              "#0d0887"
             ],
             [
              0.1111111111111111,
              "#46039f"
             ],
             [
              0.2222222222222222,
              "#7201a8"
             ],
             [
              0.3333333333333333,
              "#9c179e"
             ],
             [
              0.4444444444444444,
              "#bd3786"
             ],
             [
              0.5555555555555556,
              "#d8576b"
             ],
             [
              0.6666666666666666,
              "#ed7953"
             ],
             [
              0.7777777777777778,
              "#fb9f3a"
             ],
             [
              0.8888888888888888,
              "#fdca26"
             ],
             [
              1,
              "#f0f921"
             ]
            ],
            "type": "surface"
           }
          ],
          "table": [
           {
            "cells": {
             "fill": {
              "color": "#EBF0F8"
             },
             "line": {
              "color": "white"
             }
            },
            "header": {
             "fill": {
              "color": "#C8D4E3"
             },
             "line": {
              "color": "white"
             }
            },
            "type": "table"
           }
          ]
         },
         "layout": {
          "annotationdefaults": {
           "arrowcolor": "#2a3f5f",
           "arrowhead": 0,
           "arrowwidth": 1
          },
          "autotypenumbers": "strict",
          "coloraxis": {
           "colorbar": {
            "outlinewidth": 0,
            "ticks": ""
           }
          },
          "colorscale": {
           "diverging": [
            [
             0,
             "#8e0152"
            ],
            [
             0.1,
             "#c51b7d"
            ],
            [
             0.2,
             "#de77ae"
            ],
            [
             0.3,
             "#f1b6da"
            ],
            [
             0.4,
             "#fde0ef"
            ],
            [
             0.5,
             "#f7f7f7"
            ],
            [
             0.6,
             "#e6f5d0"
            ],
            [
             0.7,
             "#b8e186"
            ],
            [
             0.8,
             "#7fbc41"
            ],
            [
             0.9,
             "#4d9221"
            ],
            [
             1,
             "#276419"
            ]
           ],
           "sequential": [
            [
             0,
             "#0d0887"
            ],
            [
             0.1111111111111111,
             "#46039f"
            ],
            [
             0.2222222222222222,
             "#7201a8"
            ],
            [
             0.3333333333333333,
             "#9c179e"
            ],
            [
             0.4444444444444444,
             "#bd3786"
            ],
            [
             0.5555555555555556,
             "#d8576b"
            ],
            [
             0.6666666666666666,
             "#ed7953"
            ],
            [
             0.7777777777777778,
             "#fb9f3a"
            ],
            [
             0.8888888888888888,
             "#fdca26"
            ],
            [
             1,
             "#f0f921"
            ]
           ],
           "sequentialminus": [
            [
             0,
             "#0d0887"
            ],
            [
             0.1111111111111111,
             "#46039f"
            ],
            [
             0.2222222222222222,
             "#7201a8"
            ],
            [
             0.3333333333333333,
             "#9c179e"
            ],
            [
             0.4444444444444444,
             "#bd3786"
            ],
            [
             0.5555555555555556,
             "#d8576b"
            ],
            [
             0.6666666666666666,
             "#ed7953"
            ],
            [
             0.7777777777777778,
             "#fb9f3a"
            ],
            [
             0.8888888888888888,
             "#fdca26"
            ],
            [
             1,
             "#f0f921"
            ]
           ]
          },
          "colorway": [
           "#636efa",
           "#EF553B",
           "#00cc96",
           "#ab63fa",
           "#FFA15A",
           "#19d3f3",
           "#FF6692",
           "#B6E880",
           "#FF97FF",
           "#FECB52"
          ],
          "font": {
           "color": "#2a3f5f"
          },
          "geo": {
           "bgcolor": "white",
           "lakecolor": "white",
           "landcolor": "white",
           "showlakes": true,
           "showland": true,
           "subunitcolor": "#C8D4E3"
          },
          "hoverlabel": {
           "align": "left"
          },
          "hovermode": "closest",
          "mapbox": {
           "style": "light"
          },
          "paper_bgcolor": "white",
          "plot_bgcolor": "white",
          "polar": {
           "angularaxis": {
            "gridcolor": "#EBF0F8",
            "linecolor": "#EBF0F8",
            "ticks": ""
           },
           "bgcolor": "white",
           "radialaxis": {
            "gridcolor": "#EBF0F8",
            "linecolor": "#EBF0F8",
            "ticks": ""
           }
          },
          "scene": {
           "xaxis": {
            "backgroundcolor": "white",
            "gridcolor": "#DFE8F3",
            "gridwidth": 2,
            "linecolor": "#EBF0F8",
            "showbackground": true,
            "ticks": "",
            "zerolinecolor": "#EBF0F8"
           },
           "yaxis": {
            "backgroundcolor": "white",
            "gridcolor": "#DFE8F3",
            "gridwidth": 2,
            "linecolor": "#EBF0F8",
            "showbackground": true,
            "ticks": "",
            "zerolinecolor": "#EBF0F8"
           },
           "zaxis": {
            "backgroundcolor": "white",
            "gridcolor": "#DFE8F3",
            "gridwidth": 2,
            "linecolor": "#EBF0F8",
            "showbackground": true,
            "ticks": "",
            "zerolinecolor": "#EBF0F8"
           }
          },
          "shapedefaults": {
           "line": {
            "color": "#2a3f5f"
           }
          },
          "ternary": {
           "aaxis": {
            "gridcolor": "#DFE8F3",
            "linecolor": "#A2B1C6",
            "ticks": ""
           },
           "baxis": {
            "gridcolor": "#DFE8F3",
            "linecolor": "#A2B1C6",
            "ticks": ""
           },
           "bgcolor": "white",
           "caxis": {
            "gridcolor": "#DFE8F3",
            "linecolor": "#A2B1C6",
            "ticks": ""
           }
          },
          "title": {
           "x": 0.05
          },
          "xaxis": {
           "automargin": true,
           "gridcolor": "#EBF0F8",
           "linecolor": "#EBF0F8",
           "ticks": "",
           "title": {
            "standoff": 15
           },
           "zerolinecolor": "#EBF0F8",
           "zerolinewidth": 2
          },
          "yaxis": {
           "automargin": true,
           "gridcolor": "#EBF0F8",
           "linecolor": "#EBF0F8",
           "ticks": "",
           "title": {
            "standoff": 15
           },
           "zerolinecolor": "#EBF0F8",
           "zerolinewidth": 2
          }
         }
        },
        "title": {
         "font": {
          "color": "Black",
          "size": 22
         },
         "text": "Topic Word Scores",
         "x": 0.5,
         "xanchor": "center",
         "yanchor": "top"
        },
        "width": 1000,
        "xaxis": {
         "anchor": "y",
         "domain": [
          0,
          0.175
         ],
         "showgrid": true
        },
        "xaxis2": {
         "anchor": "y2",
         "domain": [
          0.275,
          0.45
         ],
         "showgrid": true
        },
        "xaxis3": {
         "anchor": "y3",
         "domain": [
          0.55,
          0.7250000000000001
         ],
         "showgrid": true
        },
        "xaxis4": {
         "anchor": "y4",
         "domain": [
          0.825,
          1
         ],
         "showgrid": true
        },
        "xaxis5": {
         "anchor": "y5",
         "domain": [
          0,
          0.175
         ],
         "showgrid": true
        },
        "xaxis6": {
         "anchor": "y6",
         "domain": [
          0.275,
          0.45
         ],
         "showgrid": true
        },
        "xaxis7": {
         "anchor": "y7",
         "domain": [
          0.55,
          0.7250000000000001
         ],
         "showgrid": true
        },
        "xaxis8": {
         "anchor": "y8",
         "domain": [
          0.825,
          1
         ],
         "showgrid": true
        },
        "yaxis": {
         "anchor": "x",
         "domain": [
          0.6000000000000001,
          1
         ],
         "showgrid": true
        },
        "yaxis2": {
         "anchor": "x2",
         "domain": [
          0.6000000000000001,
          1
         ],
         "showgrid": true
        },
        "yaxis3": {
         "anchor": "x3",
         "domain": [
          0.6000000000000001,
          1
         ],
         "showgrid": true
        },
        "yaxis4": {
         "anchor": "x4",
         "domain": [
          0.6000000000000001,
          1
         ],
         "showgrid": true
        },
        "yaxis5": {
         "anchor": "x5",
         "domain": [
          0,
          0.4
         ],
         "showgrid": true
        },
        "yaxis6": {
         "anchor": "x6",
         "domain": [
          0,
          0.4
         ],
         "showgrid": true
        },
        "yaxis7": {
         "anchor": "x7",
         "domain": [
          0,
          0.4
         ],
         "showgrid": true
        },
        "yaxis8": {
         "anchor": "x8",
         "domain": [
          0,
          0.4
         ],
         "showgrid": true
        }
       }
      }
     },
     "metadata": {},
     "output_type": "display_data"
    }
   ],
   "source": [
    "model.visualize_barchart()"
   ]
  },
  {
   "cell_type": "code",
   "execution_count": 15,
   "metadata": {},
   "outputs": [
    {
     "data": {
      "text/plain": [
       "['discuss intensive exports india',\n",
       " 'india growth food farmers',\n",
       " 'security discuss india cyber',\n",
       " 'india energy disaster discuss',\n",
       " 'tax budget gst goods',\n",
       " 'space mission achieved india',\n",
       " 'available discuss patents patent',\n",
       " 'technology therapy cell therapy nanotechnology']"
      ]
     },
     "execution_count": 15,
     "metadata": {},
     "output_type": "execute_result"
    }
   ],
   "source": [
    "topics_label = model.get_topic_info()['Name'].tolist()\n",
    "for i in range(len(topics_label)):\n",
    "    topics_label[i] = ' '.join(topics_label[i].split('_')[1:])\n",
    "topics_label"
   ]
  },
  {
   "cell_type": "code",
   "execution_count": 17,
   "metadata": {},
   "outputs": [],
   "source": [
    "import numpy as np\n",
    "question_index = 129\n",
    "topic_probabilities = probs[question_index]\n",
    "significant_probs = topic_probabilities[topic_probabilities > 0.05]\n",
    "significant_topics = np.arange(len(topic_probabilities))[topic_probabilities > 0.05]\n",
    "others = np.sum(topic_probabilities[topic_probabilities <= 0.05])\n",
    "\n",
    "# Labels for the pie chart\n",
    "labels = [topics_label[i+1] for i in significant_topics] + [\"Others\"]\n",
    "\n",
    "# Probabilities to plot\n",
    "probs_to_plot = np.append(significant_probs, others)"
   ]
  },
  {
   "cell_type": "code",
   "execution_count": 18,
   "metadata": {},
   "outputs": [
    {
     "data": {
      "text/plain": [
       "array([0.15051369, 0.6040635 , 0.11533686, 0.02717205, 0.03292977,\n",
       "       0.03804567, 0.03193846])"
      ]
     },
     "execution_count": 18,
     "metadata": {},
     "output_type": "execute_result"
    }
   ],
   "source": [
    "probs[question_index]"
   ]
  },
  {
   "cell_type": "code",
   "execution_count": 20,
   "metadata": {},
   "outputs": [
    {
     "data": {
      "image/png": "[encoded data removed]",
      "text/plain": [
       "<Figure size 400x400 with 1 Axes>"
      ]
     },
     "metadata": {},
     "output_type": "display_data"
    }
   ],
   "source": [
    "import matplotlib.pyplot as plt\n",
    "plt.figure(figsize=(4, 4))\n",
    "plt.pie(probs_to_plot, labels=labels, autopct='%1.1f%%', startangle=140)\n",
    "plt.title('Topic Probabilities')\n",
    "plt.legend(loc='upper right', bbox_to_anchor=(1.5, 1.5))\n",
    "plt.text(-1.5, -1.5, questions[question_index], fontsize=12, ha=\"center\", va=\"center\")\n",
    "plt.show()"
   ]
  },
  {
   "cell_type": "code",
   "execution_count": 21,
   "metadata": {},
   "outputs": [
    {
     "data": {
      "text/html": [
       "<div>\n",
       "<style scoped>\n",
       "    .dataframe tbody tr th:only-of-type {\n",
       "        vertical-align: middle;\n",
       "    }\n",
       "\n",
       "    .dataframe tbody tr th {\n",
       "        vertical-align: top;\n",
       "    }\n",
       "\n",
       "    .dataframe thead th {\n",
       "        text-align: right;\n",
       "    }\n",
       "</style>\n",
       "<table border=\"1\" class=\"dataframe\">\n",
       "  <thead>\n",
       "    <tr style=\"text-align: right;\">\n",
       "      <th></th>\n",
       "      <th>Year</th>\n",
       "      <th>Question</th>\n",
       "      <th>Topic_Number</th>\n",
       "    </tr>\n",
       "  </thead>\n",
       "  <tbody>\n",
       "    <tr>\n",
       "      <th>115</th>\n",
       "      <td>2018</td>\n",
       "      <td>With growing energy needs should India keep on...</td>\n",
       "      <td>2</td>\n",
       "    </tr>\n",
       "    <tr>\n",
       "      <th>61</th>\n",
       "      <td>2020</td>\n",
       "      <td>Define potential GDP and explain its determina...</td>\n",
       "      <td>0</td>\n",
       "    </tr>\n",
       "    <tr>\n",
       "      <th>205</th>\n",
       "      <td>2013</td>\n",
       "      <td>India needs to strengthen measures to promote ...</td>\n",
       "      <td>0</td>\n",
       "    </tr>\n",
       "    <tr>\n",
       "      <th>215</th>\n",
       "      <td>2013</td>\n",
       "      <td>What do you understand by Umpire Decision Revi...</td>\n",
       "      <td>1</td>\n",
       "    </tr>\n",
       "    <tr>\n",
       "      <th>157</th>\n",
       "      <td>2016</td>\n",
       "      <td>\"Terrorism is emerging as a competitive indust...</td>\n",
       "      <td>1</td>\n",
       "    </tr>\n",
       "  </tbody>\n",
       "</table>\n",
       "</div>"
      ],
      "text/plain": [
       "     Year                                           Question  Topic_Number\n",
       "115  2018  With growing energy needs should India keep on...             2\n",
       "61   2020  Define potential GDP and explain its determina...             0\n",
       "205  2013  India needs to strengthen measures to promote ...             0\n",
       "215  2013  What do you understand by Umpire Decision Revi...             1\n",
       "157  2016  \"Terrorism is emerging as a competitive indust...             1"
      ]
     },
     "execution_count": 21,
     "metadata": {},
     "output_type": "execute_result"
    }
   ],
   "source": [
    "df['Topic_Number'] = topics\n",
    "df.sample(5)"
   ]
  },
  {
   "cell_type": "code",
   "execution_count": 22,
   "metadata": {},
   "outputs": [
    {
     "data": {
      "text/html": [
       "<div>\n",
       "<style scoped>\n",
       "    .dataframe tbody tr th:only-of-type {\n",
       "        vertical-align: middle;\n",
       "    }\n",
       "\n",
       "    .dataframe tbody tr th {\n",
       "        vertical-align: top;\n",
       "    }\n",
       "\n",
       "    .dataframe thead th {\n",
       "        text-align: right;\n",
       "    }\n",
       "</style>\n",
       "<table border=\"1\" class=\"dataframe\">\n",
       "  <thead>\n",
       "    <tr style=\"text-align: right;\">\n",
       "      <th></th>\n",
       "      <th>Year</th>\n",
       "      <th>Question</th>\n",
       "      <th>Topic_Number</th>\n",
       "      <th>Topic</th>\n",
       "    </tr>\n",
       "  </thead>\n",
       "  <tbody>\n",
       "    <tr>\n",
       "      <th>0</th>\n",
       "      <td>2023</td>\n",
       "      <td>Faster economic growth requires increased shar...</td>\n",
       "      <td>0</td>\n",
       "      <td>india growth food farmers</td>\n",
       "    </tr>\n",
       "    <tr>\n",
       "      <th>1</th>\n",
       "      <td>2023</td>\n",
       "      <td>What is the status of digitalization in the In...</td>\n",
       "      <td>-1</td>\n",
       "      <td>discuss intensive exports india</td>\n",
       "    </tr>\n",
       "    <tr>\n",
       "      <th>2</th>\n",
       "      <td>2023</td>\n",
       "      <td>How does e-Technology help farmers in producti...</td>\n",
       "      <td>0</td>\n",
       "      <td>india growth food farmers</td>\n",
       "    </tr>\n",
       "    <tr>\n",
       "      <th>3</th>\n",
       "      <td>2023</td>\n",
       "      <td>State the objectives and measures of land refo...</td>\n",
       "      <td>0</td>\n",
       "      <td>india growth food farmers</td>\n",
       "    </tr>\n",
       "    <tr>\n",
       "      <th>4</th>\n",
       "      <td>2023</td>\n",
       "      <td>Introduce the concept of Artificial Intelligen...</td>\n",
       "      <td>1</td>\n",
       "      <td>security discuss india cyber</td>\n",
       "    </tr>\n",
       "  </tbody>\n",
       "</table>\n",
       "</div>"
      ],
      "text/plain": [
       "   Year                                           Question  Topic_Number  \\\n",
       "0  2023  Faster economic growth requires increased shar...             0   \n",
       "1  2023  What is the status of digitalization in the In...            -1   \n",
       "2  2023  How does e-Technology help farmers in producti...             0   \n",
       "3  2023  State the objectives and measures of land refo...             0   \n",
       "4  2023  Introduce the concept of Artificial Intelligen...             1   \n",
       "\n",
       "                             Topic  \n",
       "0        india growth food farmers  \n",
       "1  discuss intensive exports india  \n",
       "2        india growth food farmers  \n",
       "3        india growth food farmers  \n",
       "4     security discuss india cyber  "
      ]
     },
     "execution_count": 22,
     "metadata": {},
     "output_type": "execute_result"
    }
   ],
   "source": [
    "\n",
    "df['Topic'] = df['Topic_Number'].apply(lambda x: \" \".join(model.get_topic_info(topic=x)['Name'].iloc[0].split('_')[1:]))\n",
    "\n",
    "# Display the first few rows of the DataFrame\n",
    "df.head()"
   ]
  },
  {
   "cell_type": "code",
   "execution_count": 23,
   "metadata": {},
   "outputs": [
    {
     "data": {
      "image/png": "[encoded data removed]",
      "text/plain": [
       "<Figure size 1200x800 with 1 Axes>"
      ]
     },
     "metadata": {},
     "output_type": "display_data"
    }
   ],
   "source": [
    "import matplotlib.pyplot as plt\n",
    "import matplotlib.colors as mcolors\n",
    "\n",
    "# Assuming df is your DataFrame and it now includes a 'Topic' column after categorization\n",
    "\n",
    "# Step 2: Count questions per topic per year\n",
    "topic_year_counts = df.groupby(['Year', 'Topic']).size().reset_index(name='Count')\n",
    "\n",
    "# Calculate the total number of questions per year\n",
    "total_questions_per_year = topic_year_counts.groupby('Year')['Count'].transform('sum')\n",
    "\n",
    "# Calculate the proportion of questions per topic per year\n",
    "topic_year_counts['Proportion'] = topic_year_counts['Count'] / total_questions_per_year\n",
    "\n",
    "# Step 3: Prepare data for plotting (normalized)\n",
    "pivot_table = topic_year_counts.pivot(index='Year', columns='Topic', values='Proportion')\n",
    "\n",
    "# Generate a list of colors from a colormap\n",
    "num_topics = len(pivot_table.columns)\n",
    "colors = plt.get_cmap('tab20', num_topics)\n",
    "\n",
    "# Step 4: Plot the normalized data with different colors for each topic\n",
    "pivot_table.plot(kind='bar', stacked=True, figsize=(12, 8), color=[colors(i) for i in range(num_topics)])\n",
    "\n",
    "# Step 5: Customize the plot\n",
    "plt.xlabel('Year')\n",
    "plt.ylabel('Proportion of Questions')\n",
    "plt.title('Proportion of Questions per Topic per Year')\n",
    "plt.legend(title='Topic', loc='best', bbox_to_anchor=(0.5, -0.15), ncol=1, fancybox=True, shadow=True)\n",
    "plt.tight_layout()\n",
    "plt.subplots_adjust(bottom=0.2)\n",
    "plt.show()"
   ]
  },
  {
   "cell_type": "code",
   "execution_count": 24,
   "metadata": {},
   "outputs": [],
   "source": [
    "from sklearn.manifold import TSNE\n",
    "import matplotlib.pyplot as plt\n",
    "import numpy as np\n",
    "embeddings = model._extract_embeddings(questions)\n",
    "tsne = TSNE(n_components=2,random_state=42)\n",
    "reduced = tsne.fit_transform(embeddings)"
   ]
  },
  {
   "cell_type": "code",
   "execution_count": 25,
   "metadata": {},
   "outputs": [
    {
     "data": {
      "image/png": "[encoded data removed]",
      "text/plain": [
       "<Figure size 1000x500 with 1 Axes>"
      ]
     },
     "metadata": {},
     "output_type": "display_data"
    }
   ],
   "source": [
    "plt.figure(figsize=(10,5))\n",
    "plt.scatter(reduced[:,0], reduced[:,1])\n",
    "plt.title(\"TSNE of Questions\")\n",
    "plt.xlabel(\"TSNE 1\")\n",
    "plt.ylabel(\"TSNE 2\")\n",
    "plt.show()"
   ]
  },
  {
   "cell_type": "code",
   "execution_count": 19,
   "metadata": {},
   "outputs": [
    {
     "name": "stderr",
     "output_type": "stream",
     "text": [
      "2024-07-14 08:19:06,004 - BERTopic - WARNING: When you use `pickle` to save/load a BERTopic model,please make sure that the environments in which you saveand load the model are **exactly** the same. The version of BERTopic,its dependencies, and python need to remain the same.\n"
     ]
    }
   ],
   "source": [
    "model.save(\"GS3_model\")"
   ]
  },
  {
   "cell_type": "code",
   "execution_count": 15,
   "metadata": {},
   "outputs": [],
   "source": [
    "from bertopic.representation import ZeroShotClassification\n",
    "candidate_labels = ['Technology','Economic Development','Biodiversity','Environmnet','Security','Disaster Management']\n",
    "representation_model = ZeroShotClassification(candidate_labels, model=\"facebook/bart-large-mnli\")\n",
    "\n"
   ]
  },
  {
   "cell_type": "code",
   "execution_count": 20,
   "metadata": {},
   "outputs": [],
   "source": [
    "topic_model = BERTopic(embedding_model=sentence_model,representation_model=representation_model,ctfidf_model=ctfidf_model,verbose=True,calculate_probabilities=True, nr_topics=6, n_gram_range=(1, 3), min_topic_size=3)"
   ]
  },
  {
   "cell_type": "code",
   "execution_count": 21,
   "metadata": {},
   "outputs": [
    {
     "name": "stderr",
     "output_type": "stream",
     "text": [
      "2024-07-14 08:19:38,972 - BERTopic - Embedding - Transforming documents to embeddings.\n",
      "Batches:   0%|          | 0/8 [00:00<?, ?it/s]"
     ]
    },
    {
     "name": "stderr",
     "output_type": "stream",
     "text": [
      "Batches: 100%|██████████| 8/8 [00:14<00:00,  1.87s/it]\n",
      "2024-07-14 08:19:53,981 - BERTopic - Embedding - Completed ✓\n",
      "2024-07-14 08:19:53,982 - BERTopic - Dimensionality - Fitting the dimensionality reduction algorithm\n",
      "2024-07-14 08:20:00,810 - BERTopic - Dimensionality - Completed ✓\n",
      "2024-07-14 08:20:00,810 - BERTopic - Cluster - Start clustering the reduced embeddings\n",
      "2024-07-14 08:20:00,867 - BERTopic - Cluster - Completed ✓\n",
      "2024-07-14 08:20:00,870 - BERTopic - Representation - Extracting topics from clusters using representation models.\n",
      "2024-07-14 08:21:08,893 - BERTopic - Representation - Completed ✓\n",
      "2024-07-14 08:21:08,893 - BERTopic - Topic reduction - Reducing number of topics\n",
      "2024-07-14 08:21:30,538 - BERTopic - Topic reduction - Reduced number of topics from 16 to 6\n"
     ]
    }
   ],
   "source": [
    "topics, probs = topic_model.fit_transform(questions)"
   ]
  },
  {
   "cell_type": "code",
   "execution_count": 22,
   "metadata": {},
   "outputs": [
    {
     "data": {
      "text/html": [
       "<div>\n",
       "<style scoped>\n",
       "    .dataframe tbody tr th:only-of-type {\n",
       "        vertical-align: middle;\n",
       "    }\n",
       "\n",
       "    .dataframe tbody tr th {\n",
       "        vertical-align: top;\n",
       "    }\n",
       "\n",
       "    .dataframe thead th {\n",
       "        text-align: right;\n",
       "    }\n",
       "</style>\n",
       "<table border=\"1\" class=\"dataframe\">\n",
       "  <thead>\n",
       "    <tr style=\"text-align: right;\">\n",
       "      <th></th>\n",
       "      <th>Topic</th>\n",
       "      <th>Count</th>\n",
       "      <th>Name</th>\n",
       "      <th>Representation</th>\n",
       "      <th>Representative_Docs</th>\n",
       "    </tr>\n",
       "  </thead>\n",
       "  <tbody>\n",
       "    <tr>\n",
       "      <th>0</th>\n",
       "      <td>-1</td>\n",
       "      <td>26</td>\n",
       "      <td>-1_of_water_the_exports</td>\n",
       "      <td>[of, water, the, exports, intensive, economy, ...</td>\n",
       "      <td>[The China Pakistan Economic Corridor (CPEC) i...</td>\n",
       "    </tr>\n",
       "    <tr>\n",
       "      <th>1</th>\n",
       "      <td>0</td>\n",
       "      <td>87</td>\n",
       "      <td>0_in_the_and_how</td>\n",
       "      <td>[in, the, and, how, of, what, india, in india,...</td>\n",
       "      <td>[Launched on 25th December, 2021, James Webb S...</td>\n",
       "    </tr>\n",
       "    <tr>\n",
       "      <th>2</th>\n",
       "      <td>1</td>\n",
       "      <td>65</td>\n",
       "      <td>1_Security___</td>\n",
       "      <td>[Security, , , , , , , , , ]</td>\n",
       "      <td>[On December 2004, tsumani brought havoc on 14...</td>\n",
       "    </tr>\n",
       "    <tr>\n",
       "      <th>3</th>\n",
       "      <td>2</td>\n",
       "      <td>41</td>\n",
       "      <td>2_growth_in_inclusive_the</td>\n",
       "      <td>[growth, in, inclusive, the, inclusive growth,...</td>\n",
       "      <td>[With a consideration towards the strategy of ...</td>\n",
       "    </tr>\n",
       "    <tr>\n",
       "      <th>4</th>\n",
       "      <td>3</td>\n",
       "      <td>6</td>\n",
       "      <td>3_available_patents_database_traditional knowl...</td>\n",
       "      <td>[available, patents, database, traditional kno...</td>\n",
       "      <td>[Can overuse and free availability of antibiot...</td>\n",
       "    </tr>\n",
       "    <tr>\n",
       "      <th>5</th>\n",
       "      <td>4</td>\n",
       "      <td>3</td>\n",
       "      <td>4_is oil_is oil pollution_oil_oil pollution</td>\n",
       "      <td>[is oil, is oil pollution, oil, oil pollution,...</td>\n",
       "      <td>[What is oil pollution? What are its impacts o...</td>\n",
       "    </tr>\n",
       "  </tbody>\n",
       "</table>\n",
       "</div>"
      ],
      "text/plain": [
       "   Topic  Count                                               Name  \\\n",
       "0     -1     26                            -1_of_water_the_exports   \n",
       "1      0     87                                   0_in_the_and_how   \n",
       "2      1     65                                      1_Security___   \n",
       "3      2     41                          2_growth_in_inclusive_the   \n",
       "4      3      6  3_available_patents_database_traditional knowl...   \n",
       "5      4      3        4_is oil_is oil pollution_oil_oil pollution   \n",
       "\n",
       "                                      Representation  \\\n",
       "0  [of, water, the, exports, intensive, economy, ...   \n",
       "1  [in, the, and, how, of, what, india, in india,...   \n",
       "2                       [Security, , , , , , , , , ]   \n",
       "3  [growth, in, inclusive, the, inclusive growth,...   \n",
       "4  [available, patents, database, traditional kno...   \n",
       "5  [is oil, is oil pollution, oil, oil pollution,...   \n",
       "\n",
       "                                 Representative_Docs  \n",
       "0  [The China Pakistan Economic Corridor (CPEC) i...  \n",
       "1  [Launched on 25th December, 2021, James Webb S...  \n",
       "2  [On December 2004, tsumani brought havoc on 14...  \n",
       "3  [With a consideration towards the strategy of ...  \n",
       "4  [Can overuse and free availability of antibiot...  \n",
       "5  [What is oil pollution? What are its impacts o...  "
      ]
     },
     "execution_count": 22,
     "metadata": {},
     "output_type": "execute_result"
    }
   ],
   "source": [
    "topic_model.get_topic_info()"
   ]
  },
  {
   "cell_type": "code",
   "execution_count": 23,
   "metadata": {},
   "outputs": [],
   "source": [
    "representation.append(representation_model)"
   ]
  },
  {
   "cell_type": "code",
   "execution_count": 36,
   "metadata": {},
   "outputs": [],
   "source": [
    "topic_model = BERTopic(embedding_model=sentence_model,representation_model=representation,ctfidf_model=ctfidf_model,verbose=True,calculate_probabilities=True, nr_topics='auto', n_gram_range=(1, 3), min_topic_size=5)"
   ]
  },
  {
   "cell_type": "code",
   "execution_count": 32,
   "metadata": {},
   "outputs": [
    {
     "name": "stderr",
     "output_type": "stream",
     "text": [
      "2024-07-14 08:45:02,226 - BERTopic - Embedding - Transforming documents to embeddings.\n",
      "Batches:   0%|          | 0/8 [00:00<?, ?it/s]"
     ]
    },
    {
     "name": "stderr",
     "output_type": "stream",
     "text": [
      "Batches: 100%|██████████| 8/8 [00:15<00:00,  1.92s/it]\n",
      "2024-07-14 08:45:17,630 - BERTopic - Embedding - Completed ✓\n",
      "2024-07-14 08:45:17,631 - BERTopic - Dimensionality - Fitting the dimensionality reduction algorithm\n",
      "2024-07-14 08:45:24,891 - BERTopic - Dimensionality - Completed ✓\n",
      "2024-07-14 08:45:24,895 - BERTopic - Cluster - Start clustering the reduced embeddings\n",
      "2024-07-14 08:45:24,956 - BERTopic - Cluster - Completed ✓\n",
      "2024-07-14 08:45:24,957 - BERTopic - Representation - Extracting topics from clusters using representation models.\n",
      "2024-07-14 08:47:23,738 - BERTopic - Representation - Completed ✓\n",
      "2024-07-14 08:47:23,795 - BERTopic - Topic reduction - Reducing number of topics\n",
      "2024-07-14 08:48:34,822 - BERTopic - Topic reduction - Reduced number of topics from 15 to 10\n"
     ]
    }
   ],
   "source": [
    "topics, probs = topic_model.fit_transform(questions)"
   ]
  },
  {
   "cell_type": "code",
   "execution_count": 33,
   "metadata": {},
   "outputs": [
    {
     "data": {
      "text/html": [
       "<div>\n",
       "<style scoped>\n",
       "    .dataframe tbody tr th:only-of-type {\n",
       "        vertical-align: middle;\n",
       "    }\n",
       "\n",
       "    .dataframe tbody tr th {\n",
       "        vertical-align: top;\n",
       "    }\n",
       "\n",
       "    .dataframe thead th {\n",
       "        text-align: right;\n",
       "    }\n",
       "</style>\n",
       "<table border=\"1\" class=\"dataframe\">\n",
       "  <thead>\n",
       "    <tr style=\"text-align: right;\">\n",
       "      <th></th>\n",
       "      <th>Topic</th>\n",
       "      <th>Count</th>\n",
       "      <th>Name</th>\n",
       "      <th>Representation</th>\n",
       "      <th>Representative_Docs</th>\n",
       "    </tr>\n",
       "  </thead>\n",
       "  <tbody>\n",
       "    <tr>\n",
       "      <th>0</th>\n",
       "      <td>-1</td>\n",
       "      <td>25</td>\n",
       "      <td>-1_the impact of_impact of_food security_discu...</td>\n",
       "      <td>[the impact of, impact of, food security, disc...</td>\n",
       "      <td>[Each year a large amount of plant material, c...</td>\n",
       "    </tr>\n",
       "    <tr>\n",
       "      <th>1</th>\n",
       "      <td>0</td>\n",
       "      <td>76</td>\n",
       "      <td>0_the indian economy_indian economy_of inclusi...</td>\n",
       "      <td>[the indian economy, indian economy, of inclus...</td>\n",
       "      <td>[Capitalism has guided the world economy to un...</td>\n",
       "    </tr>\n",
       "    <tr>\n",
       "      <th>2</th>\n",
       "      <td>1</td>\n",
       "      <td>51</td>\n",
       "      <td>1_Security___</td>\n",
       "      <td>[Security, , , , , , , , , ]</td>\n",
       "      <td>[India’s proximity to two of the world’s bigge...</td>\n",
       "    </tr>\n",
       "    <tr>\n",
       "      <th>3</th>\n",
       "      <td>2</td>\n",
       "      <td>27</td>\n",
       "      <td>2_on climate change_renewable energy_hydroelec...</td>\n",
       "      <td>[on climate change, renewable energy, hydroele...</td>\n",
       "      <td>[Should the pursuit of carbon credits and clea...</td>\n",
       "    </tr>\n",
       "    <tr>\n",
       "      <th>4</th>\n",
       "      <td>3</td>\n",
       "      <td>14</td>\n",
       "      <td>3_Disaster Management___</td>\n",
       "      <td>[Disaster Management, , , , , , , , , ]</td>\n",
       "      <td>[The frequency of urban floods due to high int...</td>\n",
       "    </tr>\n",
       "    <tr>\n",
       "      <th>5</th>\n",
       "      <td>4</td>\n",
       "      <td>11</td>\n",
       "      <td>4_Technology___</td>\n",
       "      <td>[Technology, , , , , , , , , ]</td>\n",
       "      <td>[Stem cell therapy is gaining popularity in In...</td>\n",
       "    </tr>\n",
       "    <tr>\n",
       "      <th>6</th>\n",
       "      <td>5</td>\n",
       "      <td>9</td>\n",
       "      <td>5_the gst introduced_impacted the gst_the gst ...</td>\n",
       "      <td>[the gst introduced, impacted the gst, the gst...</td>\n",
       "      <td>[Discuss the rationale for introducing the Goo...</td>\n",
       "    </tr>\n",
       "    <tr>\n",
       "      <th>7</th>\n",
       "      <td>6</td>\n",
       "      <td>6</td>\n",
       "      <td>6_indian patent law_patenting by pharmaceutica...</td>\n",
       "      <td>[indian patent law, patenting by pharmaceutica...</td>\n",
       "      <td>[Can overuse and free availability of antibiot...</td>\n",
       "    </tr>\n",
       "    <tr>\n",
       "      <th>8</th>\n",
       "      <td>7</td>\n",
       "      <td>5</td>\n",
       "      <td>7_of biotechnology_of biotechnology in_biotech...</td>\n",
       "      <td>[of biotechnology, of biotechnology in, biotec...</td>\n",
       "      <td>[Why is there so much activity in the field of...</td>\n",
       "    </tr>\n",
       "    <tr>\n",
       "      <th>9</th>\n",
       "      <td>8</td>\n",
       "      <td>4</td>\n",
       "      <td>8_india wetlands_india wetlands of_of wetland ...</td>\n",
       "      <td>[india wetlands, india wetlands of, of wetland...</td>\n",
       "      <td>[What is wetland? Explain the Ramsar concept o...</td>\n",
       "    </tr>\n",
       "  </tbody>\n",
       "</table>\n",
       "</div>"
      ],
      "text/plain": [
       "   Topic  Count                                               Name  \\\n",
       "0     -1     25  -1_the impact of_impact of_food security_discu...   \n",
       "1      0     76  0_the indian economy_indian economy_of inclusi...   \n",
       "2      1     51                                      1_Security___   \n",
       "3      2     27  2_on climate change_renewable energy_hydroelec...   \n",
       "4      3     14                           3_Disaster Management___   \n",
       "5      4     11                                    4_Technology___   \n",
       "6      5      9  5_the gst introduced_impacted the gst_the gst ...   \n",
       "7      6      6  6_indian patent law_patenting by pharmaceutica...   \n",
       "8      7      5  7_of biotechnology_of biotechnology in_biotech...   \n",
       "9      8      4  8_india wetlands_india wetlands of_of wetland ...   \n",
       "\n",
       "                                      Representation  \\\n",
       "0  [the impact of, impact of, food security, disc...   \n",
       "1  [the indian economy, indian economy, of inclus...   \n",
       "2                       [Security, , , , , , , , , ]   \n",
       "3  [on climate change, renewable energy, hydroele...   \n",
       "4            [Disaster Management, , , , , , , , , ]   \n",
       "5                     [Technology, , , , , , , , , ]   \n",
       "6  [the gst introduced, impacted the gst, the gst...   \n",
       "7  [indian patent law, patenting by pharmaceutica...   \n",
       "8  [of biotechnology, of biotechnology in, biotec...   \n",
       "9  [india wetlands, india wetlands of, of wetland...   \n",
       "\n",
       "                                 Representative_Docs  \n",
       "0  [Each year a large amount of plant material, c...  \n",
       "1  [Capitalism has guided the world economy to un...  \n",
       "2  [India’s proximity to two of the world’s bigge...  \n",
       "3  [Should the pursuit of carbon credits and clea...  \n",
       "4  [The frequency of urban floods due to high int...  \n",
       "5  [Stem cell therapy is gaining popularity in In...  \n",
       "6  [Discuss the rationale for introducing the Goo...  \n",
       "7  [Can overuse and free availability of antibiot...  \n",
       "8  [Why is there so much activity in the field of...  \n",
       "9  [What is wetland? Explain the Ramsar concept o...  "
      ]
     },
     "execution_count": 33,
     "metadata": {},
     "output_type": "execute_result"
    }
   ],
   "source": [
    "topic_model.get_topic_info()"
   ]
  },
  {
   "cell_type": "code",
   "execution_count": 34,
   "metadata": {},
   "outputs": [
    {
     "data": {
      "application/vnd.plotly.v1+json": {
       "config": {
        "plotlyServerURL": "https://plot.ly"
       },
       "data": [
        {
         "hoverinfo": "text",
         "hovertext": [
          "Rehabilitation of human settlements is one of the important environmental impacts which always attracts controversy while planning major projects. Discuss the measures suggested for mitigation of this impact while proposing major developmental projects.",
          "What is the status of digitalization in the Indian economy? Examine the problems faced in this regard and suggest improvements.",
          "In what way could replacement of price subsidy with direct benefit Transfer (DBT) change the scenario of subsidies in India? Discuss.",
          "Coastal sand mining, whether legal or illegal, poses one of the biggest threats to our environment. Analyze the impact of sand mining along the Indians coasts, citing specific examples.",
          "Suggest measures to improve water storage and irrigation system to make its judicious use under depleting scenario.",
          "How does the 3D printing technology work? List out the advantages and disadvantages of the technology.",
          "The Nobel Prize in Physics of 2014 was jointly awarded to Akasaki, Amano and Nakamura for the invention of Blue LEDs in 1990s. How has this invention impacted the everyday life of human beings ?",
          "What are the salient features of the National Food Security Act, 2013 ? How has the Food Security Bill helped in eliminating hunger and malnutrition in India?",
          "Each year a large amount of plant material, cellulose, is deposited on the surface of Planet Earth. What are the natural processes this cellulose undergoes before yielding carbon dioxide, water and other end products ?",
          "How can biotechnology help to improve the living standards of farmers?",
          "How is science interwoven deeply with our lives? What are the striking changes in agriculture triggered off by the\nscience-based technologies?",
          "What is water-use efficiency? Describe the role of micro-irrigation in increasing the water-use efficiency.",
          "Explain the causes and effects of coastal erosion in India. What are the available coastal management techniques for combating the hazard ?",
          "Elaborate the impact of National Watershed Project in increasing agricultural production from water-stressed areas.",
          "One of the intended objectives of Union Budget 2017-18 is to ‘transform, energize and clean India’. Analyse the measures proposed in the Budget 2017-18 to achieve the objective.",
          "What are 'Smart Cities'? Examine their relevance for urban development in India. Will it increase rural-urban differences?\nGive arguments for 'Smart Villages' in the light of PURA and RURBAN Mission.",
          "What are the key features of the National Clean Air Programme (NCAP) initiated by the Government of India?",
          "How was India benefitted from the contributions of Sir M. Visvesvaraya and Dr. M. S. Swaminathan in the fields of water engineering and agricultural science respectively?",
          "What is an FRP composite material? How are they manufactured? Discuss their application in aviation and automobile industries.",
          "Discuss several ways in which microorganisms can help in meeting the current fuel shortage",
          "What are the consequences of Illegal mining? Discuss the Ministry of Environment and Forest’s concept of GO AND NO GO zones for coal mining sector.",
          "How and to what extent would\nmicro-irrigation help in solving India’s water crisis ?",
          "There is a clear acknowledgement that Special Economic Zones (SEZs) are a tool of industrial development, manufacturing and exports. Recognising this potential, the whole instrumentality of SEZs require augmentation. Discuss the issue plaguing the success of SEZs with respect to taxation, governing laws and administration.",
          "What are the areas of prohibitive labour that can be sustainably managed by robots? Discuss the initiatives that can propel the research in premier research institutes for substantive and gainful innovation.",
          "Pradhan Mantri Jan-Dhan Yojana (PMJDY) is necessary for bringing unbanked to the institutional finance fold. Do you agree with this for financial inclusion of the poorer section of the Indian society? Give arguments to justify your opinion.",
          null
         ],
         "marker": {
          "color": "#CFD8DC",
          "opacity": 0.5,
          "size": 5
         },
         "mode": "markers+text",
         "name": "other",
         "showlegend": false,
         "type": "scattergl",
         "x": [
          1.1371991634368896,
          2.075977087020874,
          -0.022316046059131622,
          -0.578504741191864,
          0.11782152205705643,
          1.533679723739624,
          1.1735033988952637,
          1.407313346862793,
          1.1905016899108887,
          1.4910866022109985,
          1.6046950817108154,
          0.13115763664245605,
          -0.6860790848731995,
          0.24033871293067932,
          0.2302495390176773,
          1.5068918466567993,
          0.15635548532009125,
          0.45958611369132996,
          1.3446255922317505,
          1.2880860567092896,
          -0.44294318556785583,
          0.20638760924339294,
          1.0719897747039795,
          1.7734090089797974,
          0.9860799312591553,
          0.7758836150169373
         ],
         "y": [
          8.526925086975098,
          9.029801368713379,
          8.616979598999023,
          5.315802574157715,
          6.232332706451416,
          5.366591930389404,
          4.780656814575195,
          6.9648823738098145,
          5.685754776000977,
          6.005362510681152,
          5.913081169128418,
          6.231300354003906,
          5.222956657409668,
          6.6872992515563965,
          5.314578056335449,
          9.21125602722168,
          5.3718085289001465,
          5.850091934204102,
          5.32230806350708,
          5.782909870147705,
          5.260715007781982,
          6.287752628326416,
          8.567825317382812,
          5.960766792297363,
          9.351545333862305,
          6.514451503753662
         ]
        },
        {
         "hoverinfo": "text",
         "hovertext": [
          "Define potential GDP and explain its determinants. What are the factors that have been inhibiting India from realizing its potential GDP?",
          "State the objectives and measures of land reforms in India. Discuss how land ceiling policy on landholding can be considered as an effective reform under economic criteria.",
          "How globalization has led to the reduction of employment in the formal sector of the Indian economy? Is increased informalization detrimental to the development of the country?",
          "What are the reformative steps taken by the Government to make food grain distribution system more effective?",
          "Elaborate the scope and significance of the food processing industry in India.",
          "How did land reforms in some parts of the country help to improve the\nsocio-economic conditions of marginal and small farmers ?",
          "Explain various types of revolutions, took place in Agriculture after Independence in India. How these revolutions have helped in poverty alleviation and food security in India?",
          "What are the major reasons for declining rice and wheat yield in the cropping system? How crop diversification is helpful to stabilize the yield of the crop in the system? (Answer in 250 words)",
          "Examine the impact of liberalization on companies owned by Indians. Are they competing with the MNCs satisfactorily? Discuss.",
          "Examine the role of supermarkets in supply chain management of fruits, vegetables and food items. How do they eliminate number of intermediaries?",
          "What are the impediments in marketing and supply chain management in developing the food processing industry in India? Can e-commerce help in overcoming this bottleneck?",
          "Capitalism has guided the world economy to unprecedented prosperity. However, it often encourages short-sightedness and contributes to wide disparities between the rich and the poor. In this light, would it be correct to believe and adopt capitalism for bringing inclusive growth in India?\nDiscuss.",
          "“Success of make in India program depends on the success of Skill India programme and radical labour reforms.” Discuss with logical arguments.",
          "Given the vulnerability of Indian agriculture to vagaries of nature, discuss the need for crop insurance and bring out the salient features of the Pradhan Mantri Fasal Bima Yojana (PMFBY).",
          "Among several factors for India’s potential growth, savings rate is the most effective one. Do you agree? What are the other factors available for growth potential?",
          "What are the present challenges before crop diversification? How do emerging technologies provide an opportunity for crop diversification?",
          "Discuss the role of land reforms in agricultural development. Identify the factors that were responsible for the success of land reforms in India.",
          "Do you agree with the view that steady GDP growth and low inflation have left the Indian economy in good shape? Give reasons in support of your arguments.",
          "Though India allowed Foreign Direct Investment (FDI) in what is called\nmulti-brand retail through the joint venture route in September 2012, the FDI, even after a year, has not picked up. Discuss the reasons.",
          "What is Integrated Farming System ? How is it helpful to small and marginal farmers in India ?",
          "How can the Digital India program help farmers to improve farm productivity and income? What step has the government taken in this regard?",
          "What is allclopatlıy? Discuss its role in major cropping systems of irrigated agriculture.",
          "Discuss the impact of FDI entry into Multi-trade retail sector on supply chain management in commodity trade pattern of the economy.",
          "In the view of the declining average size of land holdings in India which has made agriculture non – viable for a majority of farmers should contract farming and land leasing be promoted in agriculture? critically evaluate the pros and cons.",
          "National Urban Transport Policy emphasises on ‘moving people’ instead of ‘moving vehicles’. Discuss critically the success of the various strategies of the Government in this regard.",
          "“In the villages itself no form of credit organization will be suitable except the cooperative society.” – All India Rural Credit Survey.\nDiscuss this statement in the background of agricultural ﬁnance in India. What constraints and challenges do ﬁnancial institutions supplying agricultural ﬁnance face? How can technology be used to better reach and serve rural clients?",
          "What are the main bottlenecks in upstream and downstream process of marketing of agricultural products in India\n?",
          "What are the major factors responsible for making rice-wheat system a success? In spite of this success how has this system become bane in India?",
          "Assess the role of National Horticulture Mission (NHM) in boosting the production, productivity and income of horticulture farms. How far has it succeeded in increasing the income of farmers?",
          "“Industrial growth rate has lagged behind in the overall growth of\nGross-Domestic-Product(GDP) in the post-reform period” Give reasons. How far the recent changes is Industrial Policy are capable of increasing the industrial growth rate?",
          "“While we ﬂaunt India’s demographic dividend, we ignore the dropping rates of employability.” What are we missing while doing so? Where will the jobs that India desperately needs come from? Explain.",
          "What are the salient features of ‘inclusive growth’? Has India been experiencing such a growth process? Analyze and suggest measures for inclusive growth.",
          "The Right to Fair Compensation and Transparency in Land Acquisition, Rehabilitation and Resettlement Act, 2013 has come into effect from Ist January, 2014. What are the key issues\nwhich would get addressed with the Act in place? What implications would it have on industrialization and agriculture in India?",
          "The China Pakistan Economic Corridor (CPEC) is viewed as a cardinal subset of China’s larger ‘One Belt One Road’ initiative. Give a brief description of CPEC and enumerate the reasons why India has distanced itself from the same.",
          "Explain how Private Public Partnership arrangements, in long gestation infrastructure projects, can transfer unsustainable liabilities to the future. What arrangements need to be put in place to ensure that successive generations’ capacities are not compromised?",
          "How would the recent phenomena of protectionism and currency manipulations in world trade affect macroeconomic stability of India?",
          "What are the different types of agriculture subsidies given to farmers at the national and at state levels? Critically analyse the agricultural subsidy regime with reference to the distortions created by it.",
          "How do subsidies affect the cropping pattern, crop diversity and economy of farmers? What is the significance of crop insurance, minimum support price and food processing for small and marginal farmers?",
          "Distinguish between ‘care economy’ and ‘monetized economy’. How can care economy be brought into monetized economy through women empowerment?",
          "What do you mean by Minimum Support Price (MSP)? How will MSP rescue the farmers from the low income trap?",
          "Most of the unemployment in India is structural in nature. Examine the methodology adopted to compute unemployment in the country and suggest improvements.",
          "Elaborate the policy taken by the Government of India to meet the challenges of the food processing sector.",
          "Why is Public Private Partnership (PPP) required in infrastructural projects ?\nExamine the role of PPP model in the redevelopment of Railway Stations in India.",
          "What are the reasons for poor acceptance of cost effective small processing unit?\nHow the food processing unit will be helpful to uplift the socio-economic status of poor farmers?",
          "Justify the need for FDI for the development of the Indian economy. Why there is gap between MOUs signed and actual FDIS? Suggest remedial steps to be taken for increasing actual FDIs in India.",
          "Adoption of PPP model for infrastructure development of the country has not been free of criticism. Critically discuss the pros and cons of the model.",
          "Livestock rearing has a big potential for providing non- farm employment and income in rural areas. Discuss suggesting suitable measures to promote this sector in India.",
          "Comment on the challenges for inclusive growth which include careless and useless manpower in the Indian context. Suggest measures to be taken for facing these challenges.",
          "What are the major challenges of Public Distribution System (PDS) in India ? How can it be made effective and transparent ?",
          "With a consideration towards the strategy of inclusive growth, the new Companies Bill ,2013 has indirectly made CSR a mandatory obligation. Discuss the challenges expected in its implementation in right earnest. Also discuss other provisions in the Bill and their implications. (200 words)",
          "Examine the developments of Airports in India through Joint Ventures under Public-Private Partnership(PPP) model. What are the challenges faced by the authorities in this regard.",
          "How has the emphasis on certain crops brought about changes in cropping patterns in recent past? Elaborate the emphasis on millets production and consumption.",
          "Explain the meaning of investment in an economy in terms of capital formation. Discuss the factors to be considered while designing a concession agreement between a public entity and a private entity.",
          "How far is Integrated Farming System (IFS) helpful in sustaining agricultural production",
          "Food Security Bill is expected to eliminate hunger and malnutrition in India. Critically discuss various apprehensions in its effective implementation along with the concerns it has generated in WTO.",
          "It is argued that the strategy of inclusive growth is intended to meet the objectives of inclusiveness and sustainability together. Comment on this statement.",
          "Explain the difference between computing methodology of India’s Gross Domestic Product (GDP) before the year 2015 and after the year 2015.",
          "Explain the changes in cropping pattern in India in the context of changes in consumption pattern and marketing conditions.",
          "The nature of economic growth in India in recent times is often described as a jobless growth. Do you agree with this view? Give arguments in favour of your answer.",
          "Is inclusive growth possible under market economy ? State the significance of financial inclusion in achieving economic growth in India.",
          "India needs to strengthen measures to promote the pink revolution in food industry for ensuring better nutrition and health. Critically elucidate the statement.",
          "Normally countries shift from agriculture to industry and then later to services, but India shifted directly from agriculture to services. What are the reasons for the huge growth-services vis-a-vis industry in the country? Can India become a developed country without a strong industrial base?",
          "Foreign Direct Investment (FDI) in the defence sector is now set to be liberalized: What influence this is expected to have on Indian defence and economy in the short and long run?",
          "There is also a point of view that Agricultural Produce Market Committees [APMCs) set up under the State Acts have not only impeded the development of agriculture but also have been the cause of food inﬂation in India. Critically examine.",
          "What are the main constraints in transport and marketing of agricultural produce in India?",
          "“Investment in infrastructure is essential for more rapid and inclusive economic growth. ”Discuss in the light of India’s experience.",
          "Explain intra-generational and\ninter-generational issues of equity from the perspective of inclusive growth and sustainable development.",
          "Account for the failure of manufacturing sector in achieving the goal of\nlabour-intensive exports rather than capital-intensive exports. Suggest measures for more labour-intensive rather than capital-intensive exports.",
          "Faster economic growth requires increased share of the manufacturing sector in GDP, particularly of MSMEs. Comment on the present policies of the Government in this regard.",
          "Do you agree that the Indian economy has recently experienced V- shapes recovery? Give reasons in support of your answer.",
          "Sikkim is the first ‘Organic State’ in India. What are the ecological and economical benefits of Organic State?",
          "What are the direct and indirect subsidies provided to farm sector in India? Discuss the issues raised by the World Trade Organization(WTP) in relation to agricultural subsidies.",
          "Establish relationship between land reforms, agricultural productivity and elimination of poverty in the Indian economy. Discuss the difficulties in designing and implementation of agriculture – friendly land reforms in India.",
          "What are the challenges and opportunities of food processing sector in the country? How can income of the farmers be substantially increased by encouraging food processing?",
          "How does e-Technology help farmers in production and marketing of agricultural produce? Explain it.",
          "Economic growth in the recent past has been led by increase in labour activity.” Explain this statement. Suggest the growth pattern that will lead to creation of more jobs without compromising labour productivity.",
          null
         ],
         "marker": {
          "opacity": 0.5,
          "size": 5
         },
         "mode": "markers+text",
         "name": "0_the indian economy_indian economy_of inclusive growth",
         "text": [
          "",
          "",
          "",
          "",
          "",
          "",
          "",
          "",
          "",
          "",
          "",
          "",
          "",
          "",
          "",
          "",
          "",
          "",
          "",
          "",
          "",
          "",
          "",
          "",
          "",
          "",
          "",
          "",
          "",
          "",
          "",
          "",
          "",
          "",
          "",
          "",
          "",
          "",
          "",
          "",
          "",
          "",
          "",
          "",
          "",
          "",
          "",
          "",
          "",
          "",
          "",
          "",
          "",
          "",
          "",
          "",
          "",
          "",
          "",
          "",
          "",
          "",
          "",
          "",
          "",
          "",
          "",
          "",
          "",
          "",
          "",
          "",
          "",
          "",
          "",
          "",
          "0_the indian economy_indian economy_of inclusive growth"
         ],
         "textfont": {
          "size": 12
         },
         "type": "scattergl",
         "x": [
          2.335017204284668,
          0.06252454966306686,
          2.24310302734375,
          1.586041808128357,
          1.6160343885421753,
          -0.08126259595155716,
          -0.1270219087600708,
          -0.001815837575122714,
          2.195995330810547,
          1.5016148090362549,
          1.5000754594802856,
          1.8452264070510864,
          2.3259544372558594,
          0.3621886968612671,
          2.35809063911438,
          0.2531184256076813,
          -0.15340159833431244,
          2.325655937194824,
          2.481372833251953,
          0.3999391794204712,
          0.788932740688324,
          0.31778818368911743,
          2.473273754119873,
          0.20696604251861572,
          1.4959050416946411,
          0.5167690515518188,
          1.499893307685852,
          0.049791403114795685,
          0.3289869725704193,
          2.5601768493652344,
          2.290050983428955,
          1.904292106628418,
          0.04505642130970955,
          2.051501750946045,
          1.5395866632461548,
          2.2209348678588867,
          -0.03910078480839729,
          0.17224295437335968,
          1.1942096948623657,
          0.20616698265075684,
          2.4193432331085205,
          1.5159958600997925,
          1.5552068948745728,
          1.3398423194885254,
          2.5002553462982178,
          1.6336179971694946,
          0.5787627100944519,
          1.9344245195388794,
          1.5838948488235474,
          1.9002825021743774,
          1.641412615776062,
          0.021261675283312798,
          1.5847275257110596,
          0.47785550355911255,
          1.6356145143508911,
          1.8027898073196411,
          2.442331314086914,
          0.002800080692395568,
          2.3668453693389893,
          1.744287133216858,
          1.7536766529083252,
          2.4957971572875977,
          2.5398237705230713,
          1.6590006351470947,
          1.5251657962799072,
          1.6247450113296509,
          1.7984319925308228,
          2.655243158340454,
          2.622603416442871,
          2.377908945083618,
          0.26148825883865356,
          -0.10574334859848022,
          0.019756775349378586,
          1.2678685188293457,
          0.9820470213890076,
          2.4820756912231445,
          1.361754298210144
         ],
         "y": [
          10.0198392868042,
          8.1718111038208,
          9.486400604248047,
          7.68047571182251,
          7.383065700531006,
          7.882967948913574,
          7.746197700500488,
          7.316490173339844,
          9.196016311645508,
          7.556711673736572,
          7.552831172943115,
          9.847955703735352,
          9.346465110778809,
          8.03398609161377,
          10.01803207397461,
          7.1511712074279785,
          7.970801830291748,
          9.822770118713379,
          8.79833984375,
          7.605410575866699,
          7.6755266189575195,
          7.42405891418457,
          8.775723457336426,
          8.047274589538574,
          9.196365356445312,
          7.9412665367126465,
          7.617306232452393,
          7.431567668914795,
          7.238807201385498,
          10.00421142578125,
          9.662734031677246,
          9.978870391845703,
          8.12724781036377,
          8.684907913208008,
          8.874558448791504,
          9.428892135620117,
          8.255616188049316,
          7.787782192230225,
          9.759588241577148,
          7.780859470367432,
          9.69855785369873,
          7.45225191116333,
          8.802701950073242,
          7.4461517333984375,
          8.913320541381836,
          8.768028259277344,
          7.819953441619873,
          9.824522972106934,
          8.142416000366211,
          9.980198860168457,
          8.794431686401367,
          7.339544296264648,
          8.861930847167969,
          7.700355529785156,
          7.2239251136779785,
          10.013229370117188,
          10.125771522521973,
          7.365156173706055,
          9.900879859924316,
          9.864880561828613,
          7.262711048126221,
          9.873043060302734,
          8.883517265319824,
          7.3042192459106445,
          7.645654201507568,
          9.447148323059082,
          10.024616241455078,
          9.51968002319336,
          9.554468154907227,
          9.794927597045898,
          7.347676753997803,
          8.360382080078125,
          8.153410911560059,
          7.3813676834106445,
          7.322677135467529,
          9.851799011230469,
          8.553241729736328
         ]
        },
        {
         "hoverinfo": "text",
         "hovertext": [
          "Data security has assumed significant importance in the digitized world due to rising cyber-crimes. The Justice B. N. Srikrishna Committee Report addresses issues related to data security. What, in your view, are the strengths and weaknesses of the Report relating to protection of personal data in cyber space?",
          "What are the internal security challenges being faced by India? Give out the role of Central Intelligence and Investigative Agencies tasked to counter such threats.",
          "Cyber warfare is considered by some defense analysts to be a larger threat than even Al Qaeda or terrorism. What do you understand by Cyber warfare? Outline the cyber threats which India is vulnerable to and bring out the state of the country’s preparedness to deal with the same.",
          "Use of Internet and social media by\nnon-state actors for subversive activities is a major security concern. How have these been misused in the recent past? Suggest effective guidelines to curb the above threat.",
          "The north-eastern region of India has been infested with insurgency for a very long time. Analyze the major reasons for the survival of armed insurgency in this region.",
          "China and Pakistan have entered into an agreement for development of an economic corridor. What threat does this pose for India’s security? Critically examine.",
          "Considering the threats cyberspace poses for the country, India needs a “Digital Armed Forces” to prevent crimes.\nCritically evaluate the National Cyber Security Policy, 2013 outlining the challenges perceived in its effective implementation.",
          "How far are India’s internal security challenges linked with border management particularly in view of the long porous borders with most countries of South Asia and Myanmar?",
          "Analyse the complexity and intensity of terrorism, its causes, linkages and obnoxious nexus. Also suggest measures required to be taken to eradicate the menace of terrorism.",
          "In 2012, the longitudinal marking for\nhigh-risk areas for piracy was moved from 65 degrees east to 78 degrees east in the Arabian Sea by the International Maritime Organisation. What impact does this have on India’s maritime security concerns?",
          "Article 244 of the Indian Constitution relates to administration of schedules area and tribal areas. Analyse the impact of non-implementation of the provisions of the Fifth schedule on the growth of Left Wing extremism.",
          "Naxalism is a social, economic and developmental issue manifesting as a violent internal security threat. In this context, discuss the emerging issues gest a multilayered strategy to tackle the menace of Naxalism.",
          "Cross-Border movement of insurgents is only one of the several security challenges facing the policing of the border in\nNorth-East India. Examine the various challenges currently emanating across the India-Myanmar border. Also, discuss the steps to counter the challenges.",
          "What is a digital signature? What does its authentication mean? Give various salient built-in features of a digital signature.",
          "For effective border area management, discuss the steps required to be taken to deny local support to militants and also suggest ways to manage favourable perception among locals.",
          "What do you understand by Umpire Decision Review System in cricket? Discuss its various components. Explain how silicone tape on the edge of a bat may fool the system?",
          "How does illegal trans-border migration pose a threat to India’s security? Discuss the strategies to curb this, bringing out the factors which give impetus to such migration.",
          "The scourge of terrorism is a grave challenge to national security. What solutions do you suggest to curb this growing menace? What are the major sources of terrorist funding?",
          "Religious indoctrination via social media has resulted in Indian youth joining the ISIS. What is ISIS and its mission? How can ISIS be dangerous to the internal security of our country.",
          "The banning of ‘Jammat-e-Islami’ in Jammu and Kashmir brought into focus the role of over-ground workers (OGWs) in assisting terrorist organizations.\nExamine the role played by OGWs in assisting terrorist organizations in insurgency affected areas. Discuss measures to neutralize influence of OGWs.",
          "Discuss how emerging technologies and globalisation contribute to money laundering. Elaborate measures to tackle the problem of money laundering both at national and international levels.",
          "The terms 'Hot Pursuit' and 'Surgical Strikes' are often used in connection with armed action against terrorist attacks.\nDiscuss the strategic impact of such actions.",
          "Left Wing Extremism (LWE) is showing a downward trend, but still affects many parts of the country. Briefly explain the Government of India’s approach to counter the challenges posed by LWE.",
          "What are the different elements of cyber security ? Keeping in view the challenges in cyber security, examine the extent to which India has successfully developed a comprehensive National Cyber Security Strategy.",
          "India’s proximity to two of the world’s biggest illicit opium-growing states has enhanced her internal security concerns. Explain the linkages between drug trafficking and other illicit activities such as gunrunning, money laundering and human trafficking. What countermeasures should be taken to prevent the same?",
          "Analyse the multidimensıonal challenges posed by external state and non-state actors, to the internal security of India.\nAlso discuss measures required to be taken to combat these threats.",
          "What is CyberDome Project? Explain how it can be useful in controlling internet crimes in India.",
          "Money laundering poses a serious security threat to a country’s economic sovereignty. What is its significance for India and what steps are required to be taken to control this menace?",
          "The use of unmanned aerial vehicles(UAVs) by our adversaries across the borders to ferry arms/ammunitions, drugs, etc., is a serious threat to the internal security. Comment on the measures being taken to tackle this threat.",
          "Discuss the potential threats of Cyber attack and the security framework to prevent it.",
          "Discuss the advantage and security implication of cloud hosting of servers\nvis-a-vis in house machine based hosting for government business.",
          "Discuss the types of organised crimes. Describe the linkages between terrorists and organised crime that exist at the national and transnational levels.",
          "Analyse internal security threats and transborder crimes along Myanmar, Bangladesh and Pakistan borders including Line of Control (LoC). Also discuss the role played by various security forces in this regard.",
          "The persisting drives of the government for development of large industries in backward areas have resulted in isolating the tribal population and the farmers who face multiple displacements. With Malkangiri and Naxalbari foci, discuss the corrective strategies needed to win the Left Wing Extremism (LWE) doctrine affected citizens back into mainstream of social and economic growth.",
          "Give out the major sources of terror funding in India and efforts being made to curtail these sources. In the light of this, also discuss the aim and objective of the ‘ No Money for Terror [NMFT]’ Conference recently held at New Delhi in November 2022.",
          "How is S-400 air defence system technically superior to any other system presently available in the world?",
          "\"Terrorism is emerging as a competitive industry over the last few decades.\" Analyze the above statement.",
          "Discuss different types of cybercrimes and measures required to be taken to fight the menace.",
          "What are social networking sites and what security implications do these sites present?",
          "Indian Government has recently strengthened the anti-terrorism laws by amending the unlawful Activities (Prevention) Act (UAPA), 1967 and the NIA act. Analyze the changes in the context of prevailing security environment while discussing the scope and reasons for opposing the UAPA by human rights organizations.",
          "International civil aviation laws provide all countries complete and exclusive sovereignty over the airspace above their territory. What do you understand by ‘airspace’ What are the implications of these laws on the space above this airspace? Discuss the challenges which this poses and suggest ways to contain the threat.",
          "Border management is a complex task due to difficult terrain and hostile relations with some countries. Elucidate the challenges and strategies for effective border management.",
          "Mob violence is emerging as a serious law and order problem in India. By giving suitable examples, analyze the causes and consequences of such violence.",
          "Introduce the concept of Artificial Intelligence (AI). How does AI help clinical diagnosis? Do you perceive any threat to privacy of the individual in the use of AI in the healthcare?",
          "Human right activists constantly highlight the fact that the Armed forces (Special Powers) Act, 1958 (AFSPA) is a draconian act leading to cases of human right abuses by security forces. What sections of AFSPA are opposed by the activists.\nCritically evaluate the requirement with reference to the view held by Apex Court.",
          "Winning of ‘Hearts and Minds’ in terrorism affected areas is an essential step in restoring the trust of the population.\nDiscuss the measures adopted by the Government in this respect as part of the conflict resolution in Jammu and Kashmir.",
          "Keeping in view India’s internal security, analyse the impact of cross-border cyber attacks. Also discuss defensive measures against these sophisticated attacks.",
          "What are the determinants of left-wing extremism in Eastern part of India? What strategy should Government of India, civil administration and security forces adopt to counter the threat in the affected areas?",
          "Craze for gold in Indian has led to surge in import of gold in recent years and put pressure on balance of payments and external value of rupee. In view of this, examine the merits of Gold Monetization scheme.",
          "“The diverse nature of India as a\nmulti-religious and multi-ethnic society is not immune to the impact of radicalism which is seen in her neighbourhood?\nDiscuss along with strategies to be adopted to counter this environment.",
          "What are the maritime security challenges in India ? Discuss the organisational, technical and procedural initiatives taken to improve the maritime security.",
          null
         ],
         "marker": {
          "opacity": 0.5,
          "size": 5
         },
         "mode": "markers+text",
         "name": "1_Security__",
         "text": [
          "",
          "",
          "",
          "",
          "",
          "",
          "",
          "",
          "",
          "",
          "",
          "",
          "",
          "",
          "",
          "",
          "",
          "",
          "",
          "",
          "",
          "",
          "",
          "",
          "",
          "",
          "",
          "",
          "",
          "",
          "",
          "",
          "",
          "",
          "",
          "",
          "",
          "",
          "",
          "",
          "",
          "",
          "",
          "",
          "",
          "",
          "",
          "",
          "",
          "",
          "",
          "1_Security__"
         ],
         "textfont": {
          "size": 12
         },
         "type": "scattergl",
         "x": [
          6.956193447113037,
          7.211307048797607,
          6.810911178588867,
          7.172379493713379,
          8.245645523071289,
          7.1554388999938965,
          6.773592472076416,
          7.302736282348633,
          8.092513084411621,
          7.172402858734131,
          8.437337875366211,
          7.532664775848389,
          7.465364456176758,
          6.902101039886475,
          7.775155067443848,
          7.100471496582031,
          7.304975509643555,
          7.973569869995117,
          8.301946640014648,
          8.198817253112793,
          7.066958427429199,
          8.08731460571289,
          8.39950180053711,
          6.844767093658447,
          7.1058149337768555,
          7.462616920471191,
          6.78877592086792,
          7.011209487915039,
          7.609541416168213,
          7.083470344543457,
          7.00439977645874,
          7.956634044647217,
          7.403916358947754,
          8.413905143737793,
          8.022638320922852,
          7.683352470397949,
          8.063828468322754,
          7.0270185470581055,
          7.172484397888184,
          8.342070579528809,
          7.67700719833374,
          7.526907444000244,
          8.255536079406738,
          7.141742706298828,
          8.38623046875,
          8.11227798461914,
          6.9741058349609375,
          8.443796157836914,
          6.784117698669434,
          8.613502502441406,
          7.180337429046631,
          7.559437274932861
         ],
         "y": [
          4.736664295196533,
          5.285089492797852,
          4.801111698150635,
          4.640248775482178,
          5.624403476715088,
          6.1156721115112305,
          4.8497514724731445,
          6.122779846191406,
          5.393104553222656,
          5.845582008361816,
          5.723687648773193,
          5.912110328674316,
          5.890405654907227,
          4.635525226593018,
          5.904933929443359,
          4.834065914154053,
          5.936120986938477,
          5.285522937774658,
          5.601485252380371,
          5.55662202835083,
          5.644009590148926,
          5.439193248748779,
          5.650252819061279,
          4.709746360778809,
          5.779628276824951,
          5.453446865081787,
          4.796946048736572,
          5.7778849601745605,
          5.3053131103515625,
          4.571521759033203,
          4.61569881439209,
          5.267198085784912,
          6.007063388824463,
          5.773414611816406,
          5.412671089172363,
          5.241993427276611,
          5.365283012390137,
          4.5922040939331055,
          4.517601013183594,
          5.6173601150512695,
          5.277769088745117,
          5.991637229919434,
          5.586463928222656,
          4.739094257354736,
          5.643044948577881,
          5.892703533172607,
          4.791377067565918,
          5.724150657653809,
          5.902623176574707,
          5.52767276763916,
          5.5546112060546875,
          5.389500141143799
         ]
        },
        {
         "hoverinfo": "text",
         "hovertext": [
          "What are the impediments in disposing the huge quantities of discarded solid wastes which are continuously being generated? How do we remove safely the toxic wastes that have been accumulating in our habitable environment?",
          "Write a note on India’s green energy corridor to alleviate the problem of conventional energy.",
          "What do you understand by Run-of-river hydroelectricity project? How is it different from any other hydroelectricity project?",
          "Not many years ago, river linking was a concept but it is becoming reality in the country. Discuss the advantages of river linking and its possible impact on the environment.",
          "The increase in life expectancy in the country has led to newer health challenges in the community. What are those challenges and what steps need to be taken to meet them ?",
          "Should the pursuit of carbon credits and clean development mechanisms set up under UNFCCC be maintained even though there has been a massive slide in the value of a carbon credit? Discuss with respect to India’s energy needs for economic growth.",
          "Describe the major outcomes of the 26th session of the Conference of the Parties (COP) to the United Nations Framework Convention on Climate Change (UNFCCC). What are the commitments made by India in this conference?",
          "How are the principles followed by NITI Aayog different from those followed by the erstwhile planning commission in India?",
          "‘Climate Change’ is a global problem. How India will be affected by climate change?\nHow Himalayan and coastal states of India will be affected by climate change?",
          "What is oil pollution? What are its impacts on the marine ecosystem? In what way is oil pollution particularly harmful for a country like India?",
          "Describe the key points of the revised Global Air Quality Guidelines (AQGs) recently released by the World Health Organisation (WHO). How are these different from its last update in 2005? What changes in India’s National Clean Air Programme are required to achieve these revised standards ?",
          "What are the salient features of the Jal Shakti Abhiyan launched by the Government of India for water conservation and water security?",
          "Enumerate the National Water Policy of India. Taking river Ganges as an example, discuss the strategies which may be adopted for river water pollution control and management. What are the legal provisions of management and handling of hazardous wastes in India?",
          "Explain the purpose of the Green Grid Initiative launched at World Leaders Summit of the COP26 UN Climate Change Conference in Glasgow in November, 2021. When was this idea first floated in the International Solar Alliance (ISA) ?",
          "How does the draft Environment Impact Assessment (EIA) Notification, 2020 differ from the existing EIA Notification, 2006?",
          "“Access to affordable, reliable, sustainable and modern energy is the sine qua non to achieve Sustainable Development Goals (SDGs)”.Comment on the progress made in India in this regard.",
          "Discuss global warming and mention its effects on the global climate. Explain the control measures to bring down the level of greenhouse gases which cause global warming, in the light of the Kyoto Protocol, 1997.",
          "Discuss in detail the photochemical smog emphasizing its formation, effects and mitigation. Explain the 1999 Gothenburg Protocol.",
          "With growing energy needs should India keep on expanding its nuclear energy programme? Discuss the facts and fears associated with nuclear energy.",
          "Do you think India will meet 50 percent of its energy needs from renewable energy by 2030 ? Justify your answer. How will the shift of subsidies from fossil fuels to renewables help achieve the above objective ? Explain.",
          "Give an account of the current status and the targets to be achieved pertaining to renewable energy sources in the country. Discuss in brief the importance of National Programme on Light Emitting Diodes (LEDs).",
          "The Intergovernmental Panel on Climate Change(IPCC) has predicted a global sea level rise of about one metre by AD 2100. What would be its impact in India and the other countries in the Indian Ocean region?",
          "To what factors can be the recent dramatic fall in equipment cost and tariff of solar energy be attributed? What implications does the trend have for thermal power producers and related industry?",
          "Environmental Impact Assessment studies are increasingly undertaken before a project is cleared by the Government.\nDiscuss the environmental impacts of coal-fired thermal plants located at coal pitheads.",
          "Discuss the Namami Gange and National Mission for Clean Ganga (NMCG) programmes and causes of mixed results from the previous schemes. What quantum leaps can help preserve the river Ganga better than incremental inputs?",
          "The adoption of electric vehicles is rapidly growing worldwide. How do electric vehicles contribute to reducing carbon emissions and what are the key benefits they offer compared to traditional combustion engine vehicles?",
          "Describe the benefits of deriving electric energy from sunlight in contrast to the conventional energy generation. What are the initiatives offered by our Government for this purpose?",
          null
         ],
         "marker": {
          "opacity": 0.5,
          "size": 5
         },
         "mode": "markers+text",
         "name": "2_on climate change_renewable energy_hydroelectricity project",
         "text": [
          "",
          "",
          "",
          "",
          "",
          "",
          "",
          "",
          "",
          "",
          "",
          "",
          "",
          "",
          "",
          "",
          "",
          "",
          "",
          "",
          "",
          "",
          "",
          "",
          "",
          "",
          "",
          "2_on climate change_renewable energy_hydroelectricity project"
         ],
         "textfont": {
          "size": 12
         },
         "type": "scattergl",
         "x": [
          -0.3210231065750122,
          0.7044677734375,
          -0.04150419309735298,
          -0.2560858428478241,
          -0.1323070526123047,
          0.5700517892837524,
          0.12856651842594147,
          0.13465365767478943,
          -0.04511479660868645,
          -0.5631190538406372,
          -0.051563724875450134,
          0.05714823305606842,
          -0.35077226161956787,
          0.8446106910705566,
          -0.14526458084583282,
          0.6621554493904114,
          0.13039571046829224,
          0.1804703176021576,
          1.019934058189392,
          0.643900454044342,
          0.8887566924095154,
          -0.039947476238012314,
          0.8077138066291809,
          0.23312696814537048,
          0.03142266348004341,
          0.4885682463645935,
          0.7657774090766907,
          0.23500068485736847
         ],
         "y": [
          5.450407981872559,
          4.606412410736084,
          5.862724781036377,
          5.901257514953613,
          4.7568864822387695,
          4.763021469116211,
          4.705367565155029,
          5.613133430480957,
          4.6710405349731445,
          5.328782081604004,
          4.833702087402344,
          5.773056507110596,
          5.4638352394104,
          4.456374168395996,
          4.628835201263428,
          4.645608901977539,
          4.755672454833984,
          4.935178756713867,
          4.623275279998779,
          4.594809055328369,
          4.671820640563965,
          4.603381633758545,
          4.4893364906311035,
          4.875811576843262,
          5.70426607131958,
          4.666795253753662,
          4.500815391540527,
          4.958578109741211
         ]
        },
        {
         "hoverinfo": "text",
         "hovertext": [
          "Disaster preparedness is the first step in any disaster management process.\nExplain how hazard zonation mapping will help disaster mitigation in the case of landslides.",
          "Drought has been recognized as a disaster in view of its spatial expanse, temporal duration, slow onset and lasting effects on vulnerable sections. With a focus on the September 2010 guidelines from the National Disaster Management Authority (NDMA), discuss the mechanisms for preparedness to deal with likely El Nino and La Nina fallouts in India.",
          "Explain the mechanism and occurrence of cloudburst in the context of the Indian subcontinent. Discuss two recent examples.",
          "Discuss the recent measures initiated in disaster management by the Government of India departing from the earlier reactive approach.",
          "The frequency of urban floods due to high intensity rainfall is increasing over the years. Discussing the reasons for urban floods, highlight the mechanisms for preparedness to reduce the risk during such events.",
          "The frequency of earthquakes appears to have increased in the Indian subcontinent. However, India’s preparedness for mitigating their impact has significant gaps. Discuss various aspects.",
          "With reference to National Disaster Management Authority (NDMA) guidelines, discuss the measures to be adopted to mitigate the impact of the recent incidents of cloudbursts in many places of Uttarakhand.",
          "Describe various measures taken in India for Disaster Risk Reduction (DRR) before and after signing ‘Sendai Framework for DRR (2015-2030)’. How is this framework different from ‘Hyogo Framework for Action, 2005’?",
          "How important are vulnerability and risk assessment for pre-disaster management? As an administrator, what are key areas that you would focus on in a Disaster Management System?",
          "Describe the various causes and the effects of landslides. Mention the important components of the National Landslide Risk Management Strategy.",
          "On December 2004, tsumani brought havoc on 14 countries including India. Discuss the factors responsible for occurrence of Tsunami and its effects on life and economy. In the light of guidelines of NDMA (2010) describe the mechanisms for preparedness to reduce the risk during such events.",
          "Discuss about the vulnerability of India to earthquake related hazards. Give examples including the salient features of major disasters caused by earthquakes in different parts of India during the last three decades.",
          "Dam failures are always catastrophic, especially on the downstream side, resulting in a colossal loss of life and property. Analyze the various causes of dam failures. Give two examples of large dam failures.",
          "Vulnerability is an essential element for defining disaster impacts and its threat to people. How and in what ways can vulnerability to disasters be characterized? Discuss different types of vulnerability with reference to disasters.",
          null
         ],
         "marker": {
          "opacity": 0.5,
          "size": 5
         },
         "mode": "markers+text",
         "name": "3_Disaster Management__",
         "text": [
          "",
          "",
          "",
          "",
          "",
          "",
          "",
          "",
          "",
          "",
          "",
          "",
          "",
          "",
          "3_Disaster Management__"
         ],
         "textfont": {
          "size": 12
         },
         "type": "scattergl",
         "x": [
          -1.392225742340088,
          -1.0475000143051147,
          -1.1110906600952148,
          -1.2309777736663818,
          -1.2299818992614746,
          -1.369965672492981,
          -1.1155418157577515,
          -1.09114670753479,
          -1.298751950263977,
          -1.4351835250854492,
          -1.3305530548095703,
          -1.4668610095977783,
          -1.4946657419204712,
          -1.3665088415145874,
          -1.2843538522720337
         ],
         "y": [
          3.9870924949645996,
          3.89526629447937,
          3.855562448501587,
          3.9348692893981934,
          3.936767101287842,
          3.821525812149048,
          3.8621397018432617,
          3.8343052864074707,
          3.971151351928711,
          4.0694146156311035,
          3.8865609169006348,
          3.9129581451416016,
          4.247297286987305,
          3.9472036361694336,
          3.9401512145996094
         ]
        },
        {
         "hoverinfo": "text",
         "hovertext": [
          "What is India’s plan to have its own space station and how will it benefit our space programme?",
          "What is the main task of India’s third mood mission which could not be achieved in its earlier mission? List the countries that have achieved this task. Introduce the subsystems in the spacecraft launched and explain the role of the ‘Virtual Launch Control Centre’ at the Vikram Sarabhai Space Centre which contributed to the successful launch from Sriharikota.",
          "Scientific research in Indian universities is declining, because a career in science is not as attractive as are business professions, engineering or administration, and the universities are becoming consumer-oriented. Critically comment.",
          "Launched on 25th December, 2021, James Webb Space Telescope has been much in the news since then. What are its unique features which make it superior to its predecessor Space Telescopes ? What are the key goals of this mission ? What potential benefits does it hold for the human race?",
          "What do you understand by “Standard Positioning System” and “Precision positioning system” in the GPS era?\nDiscuss the advantage India perceives from its ambitious IRNSS programme employing just seven satellites.",
          "Give an account of the growth and development of nuclear science and technology in India. What is the advantage of fast breeder reactor programme in India?",
          "Discuss India's achievements in the field of Space Science and Technology. How the application of this technology has helped India in its socio-economic development?",
          "India has achieved remarkable successes in unmanned space missions including the Chandrayaan and Mars Orbitter Mission, but has not ventured into manned space mission, both in terms of technology and logistics? Explain critically",
          "Discuss the work of ‘Bose-Einstein Statistics’ done by Prof. Satyendra Nath Bose and show how it revolutionized the field of Physics.",
          "Why is nanotechnology one of the key technologies of the 21st century?\nDescribe the salient features of Indian Government's Mission on Nanoscience and Technology and the scope of its application in the development process of the country.",
          "Stem cell therapy is gaining popularity in India to treat a wide variety of medical conditions including leukaemia, Thallessemia, damaged sornea and several burns. Describe briefly what stem cell therapy is and what advantages it has over other treatments?",
          null
         ],
         "marker": {
          "opacity": 0.5,
          "size": 5
         },
         "mode": "markers+text",
         "name": "4_Technology__",
         "text": [
          "",
          "",
          "",
          "",
          "",
          "",
          "",
          "",
          "",
          "",
          "",
          "4_Technology__"
         ],
         "textfont": {
          "size": 12
         },
         "type": "scattergl",
         "x": [
          1.8534190654754639,
          1.890051245689392,
          1.6480177640914917,
          1.8890769481658936,
          2.0131399631500244,
          1.4479241371154785,
          1.764089822769165,
          1.8905386924743652,
          1.5963902473449707,
          1.7443941831588745,
          1.7950162887573242,
          1.775641679763794
         ],
         "y": [
          4.584808349609375,
          4.633689880371094,
          4.865872859954834,
          4.527066707611084,
          4.609682083129883,
          4.7629876136779785,
          4.79020881652832,
          4.665534973144531,
          4.853558540344238,
          5.183687210083008,
          5.188265800476074,
          4.787760257720947
         ]
        },
        {
         "hoverinfo": "text",
         "hovertext": [
          "What is the meaning of the term ‘tax expenditure’? Taking housing sector as an example, discuss how it influences the budgetary policies of the government.",
          "Enumerate the indirect taxes which have been subsumed in the goods and services tax (GST) in India. Also, comment on the revenue implications of the GST introduced in India since July 2017.",
          "Explain the rationale behind the Goods and Services Tax (Compensation to States) Act of 2017. How has COVID-19 impacted the GST compensation fund and created new federal tensions?",
          "What were the reasons for the introduction of Fiscal Responsibility and Budget Management (FRBM) Act, 2013? Discuss critically its salient features and their effectiveness.",
          "Discuss the rationale for introducing the Goods and Services Tax (GST) in India. Bring out critically the reasons for the delay in roll out for its regime.",
          "Comment on the important changes introduced in respect of the Long term Capital Gains Tax (LCGT) and Dividend Distribution Tax (DDT) in the Union Budget for 2018-2019.",
          "Distinguish between Capital Budget and Revenue Budget. Explain the components of both these Budgets.",
          "Women empowerment in India needs gender budgeting. What are the requirements and status of gender budgeting in the Indian context?",
          "The public expenditure management is a challenge to the Government of India in context of budget making during the post liberalization period. Clarify it.",
          null
         ],
         "marker": {
          "opacity": 0.5,
          "size": 5
         },
         "mode": "markers+text",
         "name": "5_the gst introduced_impacted the gst_the gst compensation",
         "text": [
          "",
          "",
          "",
          "",
          "",
          "",
          "",
          "",
          "",
          "5_the gst introduced_impacted the gst_the gst compensation"
         ],
         "textfont": {
          "size": 12
         },
         "type": "scattergl",
         "x": [
          0.1108529195189476,
          -0.07386191934347153,
          -0.055234868079423904,
          0.15124262869358063,
          -0.04335508868098259,
          -0.02148948237299919,
          0.15283726155757904,
          0.7990006804466248,
          0.2065262496471405,
          0.13627982139587402
         ],
         "y": [
          9.286190032958984,
          8.956619262695312,
          9.045354843139648,
          9.354400634765625,
          9.031904220581055,
          9.128450393676758,
          9.386148452758789,
          9.674217224121094,
          9.308382987976074,
          9.24129581451416
         ]
        },
        {
         "hoverinfo": "text",
         "hovertext": [
          "India’s Traditional Knowledge Digital Library (TKDL) which has a database containing formatted information on more than 2 million medicinal formulations is proving a powerful weapon in country’s fight against erroneous patents. Discuss the pro and cons of making the database available publicly available under open source licensing.",
          "Bringing out the circumstances in 2005 which forced amendment to the section 3(d) in Indian Patent Law, 1970, discuss how it has been utilized by the Supreme Court in its judgement in rejecting Novartis’ patent application for ‘Glivec’. Discuss briefly the pros and cons of the decision.",
          "What do you understand by Fixed Dose drug Combinations (FDCs)? Discuss their merits and demerits.",
          "Can overuse and free availability of antibiotics without Doctor’s prescription, be contributors to the emergence of\ndrug-resistant diseases in India? What are the available mechanisms for monitoring and control? Critically discuss the various issues involved.",
          "How is the Government of India protecting traditional knowledge of medicine from patenting by pharmaceutical companies?",
          "In a globalized world, Intellectual Property Rights assume significance and are a source of litigation. Broadly distinguish between the terms—Copyrights, Patents and Trade Secrets.",
          null
         ],
         "marker": {
          "opacity": 0.5,
          "size": 5
         },
         "mode": "markers+text",
         "name": "6_indian patent law_patenting by pharmaceutical_indian patent",
         "text": [
          "",
          "",
          "",
          "",
          "",
          "",
          "6_indian patent law_patenting by pharmaceutical_indian patent"
         ],
         "textfont": {
          "size": 12
         },
         "type": "scattergl",
         "x": [
          2.807713747024536,
          2.7667365074157715,
          2.715191125869751,
          2.974825859069824,
          2.7984750270843506,
          2.8381316661834717,
          2.816845655441284
         ],
         "y": [
          5.780331134796143,
          5.748291015625,
          5.673737049102783,
          5.806000232696533,
          5.823459625244141,
          5.797923564910889,
          5.771623611450195
         ]
        },
        {
         "hoverinfo": "text",
         "hovertext": [
          "What are the research and developmental achievements in applied biotechnology/? How will these achievements help to uplift the poorer sections of the society?",
          "COVID-19 pandemic has caused unprecedented devastation worldwide. However, technological advancements are being availed readily to win over the crisis. Give an account of how technology was sought to aid management of the pandemic",
          "Why is there so much activity in the field of biotechnology in our country? How has this activity benefitted the field of biopharma?",
          "What do you understand by nanotechnology and how is it helping in health sector?",
          "What is the basic principle behind vaccine development? How do vaccines work?\nWhat approaches were adopted by the Indian vaccine manufacturers to produce COVID-19 vaccines ?",
          null
         ],
         "marker": {
          "opacity": 0.5,
          "size": 5
         },
         "mode": "markers+text",
         "name": "7_of biotechnology_of biotechnology in_biotechnology",
         "text": [
          "",
          "",
          "",
          "",
          "",
          "7_of biotechnology_of biotechnology in_biotechnology"
         ],
         "textfont": {
          "size": 12
         },
         "type": "scattergl",
         "x": [
          1.6695410013198853,
          1.9606878757476807,
          1.7428761720657349,
          1.7711375951766968,
          2.039011240005493,
          1.8366508483886719
         ],
         "y": [
          5.729072093963623,
          5.525164604187012,
          5.758756637573242,
          5.38659143447876,
          5.595042705535889,
          5.598925590515137
         ]
        },
        {
         "hoverinfo": "text",
         "hovertext": [
          "Comment on the National Wetland Conservation Programme initiated by the Government of India and name a few India’s wetlands of international importance included in the Ramsar Sites.",
          "What is wetland? Explain the Ramsar concept of ‘wise use’ in the context of wetland conservation. Cite two examples of Ramsar sites from India.",
          "Define the concept of carrying capacity of an ecosystem as relevant to an environment. Explain how understanding this concept is vital while planning for sustainable development of a region.",
          "How does biodiversity vary in India? How is the Biological Diversity Act,2002 helpful in conservation of flora and fauna?",
          null
         ],
         "marker": {
          "opacity": 0.5,
          "size": 5
         },
         "mode": "markers+text",
         "name": "8_india wetlands_india wetlands of_of wetland conservation",
         "text": [
          "",
          "",
          "",
          "",
          "8_india wetlands_india wetlands of_of wetland conservation"
         ],
         "textfont": {
          "size": 12
         },
         "type": "scattergl",
         "x": [
          -0.5630528330802917,
          -0.591611921787262,
          -0.4822888970375061,
          -0.595242440700531,
          -0.5580490231513977
         ],
         "y": [
          5.869813919067383,
          5.9737324714660645,
          6.303340911865234,
          5.97381067276001,
          6.030174255371094
         ]
        }
       ],
       "layout": {
        "annotations": [
         {
          "showarrow": false,
          "text": "D1",
          "x": -1.7188656032085419,
          "y": 7.44646709561348,
          "yshift": 10
         },
         {
          "showarrow": false,
          "text": "D2",
          "x": 4.093331137299538,
          "xshift": 10,
          "y": 11.644637250900269
         }
        ],
        "height": 750,
        "shapes": [
         {
          "line": {
           "color": "#CFD8DC",
           "width": 2
          },
          "type": "line",
          "x0": 4.093331137299538,
          "x1": 4.093331137299538,
          "y0": 3.2482969403266906,
          "y1": 11.644637250900269
         },
         {
          "line": {
           "color": "#9E9E9E",
           "width": 2
          },
          "type": "line",
          "x0": -1.7188656032085419,
          "x1": 9.905527877807618,
          "y0": 7.44646709561348,
          "y1": 7.44646709561348
         }
        ],
        "template": {
         "data": {
          "bar": [
           {
            "error_x": {
             "color": "rgb(36,36,36)"
            },
            "error_y": {
             "color": "rgb(36,36,36)"
            },
            "marker": {
             "line": {
              "color": "white",
              "width": 0.5
             },
             "pattern": {
              "fillmode": "overlay",
              "size": 10,
              "solidity": 0.2
             }
            },
            "type": "bar"
           }
          ],
          "barpolar": [
           {
            "marker": {
             "line": {
              "color": "white",
              "width": 0.5
             },
             "pattern": {
              "fillmode": "overlay",
              "size": 10,
              "solidity": 0.2
             }
            },
            "type": "barpolar"
           }
          ],
          "carpet": [
           {
            "aaxis": {
             "endlinecolor": "rgb(36,36,36)",
             "gridcolor": "white",
             "linecolor": "white",
             "minorgridcolor": "white",
             "startlinecolor": "rgb(36,36,36)"
            },
            "baxis": {
             "endlinecolor": "rgb(36,36,36)",
             "gridcolor": "white",
             "linecolor": "white",
             "minorgridcolor": "white",
             "startlinecolor": "rgb(36,36,36)"
            },
            "type": "carpet"
           }
          ],
          "choropleth": [
           {
            "colorbar": {
             "outlinewidth": 1,
             "tickcolor": "rgb(36,36,36)",
             "ticks": "outside"
            },
            "type": "choropleth"
           }
          ],
          "contour": [
           {
            "colorbar": {
             "outlinewidth": 1,
             "tickcolor": "rgb(36,36,36)",
             "ticks": "outside"
            },
            "colorscale": [
             [
              0,
              "#440154"
             ],
             [
              0.1111111111111111,
              "#482878"
             ],
             [
              0.2222222222222222,
              "#3e4989"
             ],
             [
              0.3333333333333333,
              "#31688e"
             ],
             [
              0.4444444444444444,
              "#26828e"
             ],
             [
              0.5555555555555556,
              "#1f9e89"
             ],
             [
              0.6666666666666666,
              "#35b779"
             ],
             [
              0.7777777777777778,
              "#6ece58"
             ],
             [
              0.8888888888888888,
              "#b5de2b"
             ],
             [
              1,
              "#fde725"
             ]
            ],
            "type": "contour"
           }
          ],
          "contourcarpet": [
           {
            "colorbar": {
             "outlinewidth": 1,
             "tickcolor": "rgb(36,36,36)",
             "ticks": "outside"
            },
            "type": "contourcarpet"
           }
          ],
          "heatmap": [
           {
            "colorbar": {
             "outlinewidth": 1,
             "tickcolor": "rgb(36,36,36)",
             "ticks": "outside"
            },
            "colorscale": [
             [
              0,
              "#440154"
             ],
             [
              0.1111111111111111,
              "#482878"
             ],
             [
              0.2222222222222222,
              "#3e4989"
             ],
             [
              0.3333333333333333,
              "#31688e"
             ],
             [
              0.4444444444444444,
              "#26828e"
             ],
             [
              0.5555555555555556,
              "#1f9e89"
             ],
             [
              0.6666666666666666,
              "#35b779"
             ],
             [
              0.7777777777777778,
              "#6ece58"
             ],
             [
              0.8888888888888888,
              "#b5de2b"
             ],
             [
              1,
              "#fde725"
             ]
            ],
            "type": "heatmap"
           }
          ],
          "heatmapgl": [
           {
            "colorbar": {
             "outlinewidth": 1,
             "tickcolor": "rgb(36,36,36)",
             "ticks": "outside"
            },
            "colorscale": [
             [
              0,
              "#440154"
             ],
             [
              0.1111111111111111,
              "#482878"
             ],
             [
              0.2222222222222222,
              "#3e4989"
             ],
             [
              0.3333333333333333,
              "#31688e"
             ],
             [
              0.4444444444444444,
              "#26828e"
             ],
             [
              0.5555555555555556,
              "#1f9e89"
             ],
             [
              0.6666666666666666,
              "#35b779"
             ],
             [
              0.7777777777777778,
              "#6ece58"
             ],
             [
              0.8888888888888888,
              "#b5de2b"
             ],
             [
              1,
              "#fde725"
             ]
            ],
            "type": "heatmapgl"
           }
          ],
          "histogram": [
           {
            "marker": {
             "line": {
              "color": "white",
              "width": 0.6
             }
            },
            "type": "histogram"
           }
          ],
          "histogram2d": [
           {
            "colorbar": {
             "outlinewidth": 1,
             "tickcolor": "rgb(36,36,36)",
             "ticks": "outside"
            },
            "colorscale": [
             [
              0,
              "#440154"
             ],
             [
              0.1111111111111111,
              "#482878"
             ],
             [
              0.2222222222222222,
              "#3e4989"
             ],
             [
              0.3333333333333333,
              "#31688e"
             ],
             [
              0.4444444444444444,
              "#26828e"
             ],
             [
              0.5555555555555556,
              "#1f9e89"
             ],
             [
              0.6666666666666666,
              "#35b779"
             ],
             [
              0.7777777777777778,
              "#6ece58"
             ],
             [
              0.8888888888888888,
              "#b5de2b"
             ],
             [
              1,
              "#fde725"
             ]
            ],
            "type": "histogram2d"
           }
          ],
          "histogram2dcontour": [
           {
            "colorbar": {
             "outlinewidth": 1,
             "tickcolor": "rgb(36,36,36)",
             "ticks": "outside"
            },
            "colorscale": [
             [
              0,
              "#440154"
             ],
             [
              0.1111111111111111,
              "#482878"
             ],
             [
              0.2222222222222222,
              "#3e4989"
             ],
             [
              0.3333333333333333,
              "#31688e"
             ],
             [
              0.4444444444444444,
              "#26828e"
             ],
             [
              0.5555555555555556,
              "#1f9e89"
             ],
             [
              0.6666666666666666,
              "#35b779"
             ],
             [
              0.7777777777777778,
              "#6ece58"
             ],
             [
              0.8888888888888888,
              "#b5de2b"
             ],
             [
              1,
              "#fde725"
             ]
            ],
            "type": "histogram2dcontour"
           }
          ],
          "mesh3d": [
           {
            "colorbar": {
             "outlinewidth": 1,
             "tickcolor": "rgb(36,36,36)",
             "ticks": "outside"
            },
            "type": "mesh3d"
           }
          ],
          "parcoords": [
           {
            "line": {
             "colorbar": {
              "outlinewidth": 1,
              "tickcolor": "rgb(36,36,36)",
              "ticks": "outside"
             }
            },
            "type": "parcoords"
           }
          ],
          "pie": [
           {
            "automargin": true,
            "type": "pie"
           }
          ],
          "scatter": [
           {
            "fillpattern": {
             "fillmode": "overlay",
             "size": 10,
             "solidity": 0.2
            },
            "type": "scatter"
           }
          ],
          "scatter3d": [
           {
            "line": {
             "colorbar": {
              "outlinewidth": 1,
              "tickcolor": "rgb(36,36,36)",
              "ticks": "outside"
             }
            },
            "marker": {
             "colorbar": {
              "outlinewidth": 1,
              "tickcolor": "rgb(36,36,36)",
              "ticks": "outside"
             }
            },
            "type": "scatter3d"
           }
          ],
          "scattercarpet": [
           {
            "marker": {
             "colorbar": {
              "outlinewidth": 1,
              "tickcolor": "rgb(36,36,36)",
              "ticks": "outside"
             }
            },
            "type": "scattercarpet"
           }
          ],
          "scattergeo": [
           {
            "marker": {
             "colorbar": {
              "outlinewidth": 1,
              "tickcolor": "rgb(36,36,36)",
              "ticks": "outside"
             }
            },
            "type": "scattergeo"
           }
          ],
          "scattergl": [
           {
            "marker": {
             "colorbar": {
              "outlinewidth": 1,
              "tickcolor": "rgb(36,36,36)",
              "ticks": "outside"
             }
            },
            "type": "scattergl"
           }
          ],
          "scattermapbox": [
           {
            "marker": {
             "colorbar": {
              "outlinewidth": 1,
              "tickcolor": "rgb(36,36,36)",
              "ticks": "outside"
             }
            },
            "type": "scattermapbox"
           }
          ],
          "scatterpolar": [
           {
            "marker": {
             "colorbar": {
              "outlinewidth": 1,
              "tickcolor": "rgb(36,36,36)",
              "ticks": "outside"
             }
            },
            "type": "scatterpolar"
           }
          ],
          "scatterpolargl": [
           {
            "marker": {
             "colorbar": {
              "outlinewidth": 1,
              "tickcolor": "rgb(36,36,36)",
              "ticks": "outside"
             }
            },
            "type": "scatterpolargl"
           }
          ],
          "scatterternary": [
           {
            "marker": {
             "colorbar": {
              "outlinewidth": 1,
              "tickcolor": "rgb(36,36,36)",
              "ticks": "outside"
             }
            },
            "type": "scatterternary"
           }
          ],
          "surface": [
           {
            "colorbar": {
             "outlinewidth": 1,
             "tickcolor": "rgb(36,36,36)",
             "ticks": "outside"
            },
            "colorscale": [
             [
              0,
              "#440154"
             ],
             [
              0.1111111111111111,
              "#482878"
             ],
             [
              0.2222222222222222,
              "#3e4989"
             ],
             [
              0.3333333333333333,
              "#31688e"
             ],
             [
              0.4444444444444444,
              "#26828e"
             ],
             [
              0.5555555555555556,
              "#1f9e89"
             ],
             [
              0.6666666666666666,
              "#35b779"
             ],
             [
              0.7777777777777778,
              "#6ece58"
             ],
             [
              0.8888888888888888,
              "#b5de2b"
             ],
             [
              1,
              "#fde725"
             ]
            ],
            "type": "surface"
           }
          ],
          "table": [
           {
            "cells": {
             "fill": {
              "color": "rgb(237,237,237)"
             },
             "line": {
              "color": "white"
             }
            },
            "header": {
             "fill": {
              "color": "rgb(217,217,217)"
             },
             "line": {
              "color": "white"
             }
            },
            "type": "table"
           }
          ]
         },
         "layout": {
          "annotationdefaults": {
           "arrowhead": 0,
           "arrowwidth": 1
          },
          "autotypenumbers": "strict",
          "coloraxis": {
           "colorbar": {
            "outlinewidth": 1,
            "tickcolor": "rgb(36,36,36)",
            "ticks": "outside"
           }
          },
          "colorscale": {
           "diverging": [
            [
             0,
             "rgb(103,0,31)"
            ],
            [
             0.1,
             "rgb(178,24,43)"
            ],
            [
             0.2,
             "rgb(214,96,77)"
            ],
            [
             0.3,
             "rgb(244,165,130)"
            ],
            [
             0.4,
             "rgb(253,219,199)"
            ],
            [
             0.5,
             "rgb(247,247,247)"
            ],
            [
             0.6,
             "rgb(209,229,240)"
            ],
            [
             0.7,
             "rgb(146,197,222)"
            ],
            [
             0.8,
             "rgb(67,147,195)"
            ],
            [
             0.9,
             "rgb(33,102,172)"
            ],
            [
             1,
             "rgb(5,48,97)"
            ]
           ],
           "sequential": [
            [
             0,
             "#440154"
            ],
            [
             0.1111111111111111,
             "#482878"
            ],
            [
             0.2222222222222222,
             "#3e4989"
            ],
            [
             0.3333333333333333,
             "#31688e"
            ],
            [
             0.4444444444444444,
             "#26828e"
            ],
            [
             0.5555555555555556,
             "#1f9e89"
            ],
            [
             0.6666666666666666,
             "#35b779"
            ],
            [
             0.7777777777777778,
             "#6ece58"
            ],
            [
             0.8888888888888888,
             "#b5de2b"
            ],
            [
             1,
             "#fde725"
            ]
           ],
           "sequentialminus": [
            [
             0,
             "#440154"
            ],
            [
             0.1111111111111111,
             "#482878"
            ],
            [
             0.2222222222222222,
             "#3e4989"
            ],
            [
             0.3333333333333333,
             "#31688e"
            ],
            [
             0.4444444444444444,
             "#26828e"
            ],
            [
             0.5555555555555556,
             "#1f9e89"
            ],
            [
             0.6666666666666666,
             "#35b779"
            ],
            [
             0.7777777777777778,
             "#6ece58"
            ],
            [
             0.8888888888888888,
             "#b5de2b"
            ],
            [
             1,
             "#fde725"
            ]
           ]
          },
          "colorway": [
           "#1F77B4",
           "#FF7F0E",
           "#2CA02C",
           "#D62728",
           "#9467BD",
           "#8C564B",
           "#E377C2",
           "#7F7F7F",
           "#BCBD22",
           "#17BECF"
          ],
          "font": {
           "color": "rgb(36,36,36)"
          },
          "geo": {
           "bgcolor": "white",
           "lakecolor": "white",
           "landcolor": "white",
           "showlakes": true,
           "showland": true,
           "subunitcolor": "white"
          },
          "hoverlabel": {
           "align": "left"
          },
          "hovermode": "closest",
          "mapbox": {
           "style": "light"
          },
          "paper_bgcolor": "white",
          "plot_bgcolor": "white",
          "polar": {
           "angularaxis": {
            "gridcolor": "rgb(232,232,232)",
            "linecolor": "rgb(36,36,36)",
            "showgrid": false,
            "showline": true,
            "ticks": "outside"
           },
           "bgcolor": "white",
           "radialaxis": {
            "gridcolor": "rgb(232,232,232)",
            "linecolor": "rgb(36,36,36)",
            "showgrid": false,
            "showline": true,
            "ticks": "outside"
           }
          },
          "scene": {
           "xaxis": {
            "backgroundcolor": "white",
            "gridcolor": "rgb(232,232,232)",
            "gridwidth": 2,
            "linecolor": "rgb(36,36,36)",
            "showbackground": true,
            "showgrid": false,
            "showline": true,
            "ticks": "outside",
            "zeroline": false,
            "zerolinecolor": "rgb(36,36,36)"
           },
           "yaxis": {
            "backgroundcolor": "white",
            "gridcolor": "rgb(232,232,232)",
            "gridwidth": 2,
            "linecolor": "rgb(36,36,36)",
            "showbackground": true,
            "showgrid": false,
            "showline": true,
            "ticks": "outside",
            "zeroline": false,
            "zerolinecolor": "rgb(36,36,36)"
           },
           "zaxis": {
            "backgroundcolor": "white",
            "gridcolor": "rgb(232,232,232)",
            "gridwidth": 2,
            "linecolor": "rgb(36,36,36)",
            "showbackground": true,
            "showgrid": false,
            "showline": true,
            "ticks": "outside",
            "zeroline": false,
            "zerolinecolor": "rgb(36,36,36)"
           }
          },
          "shapedefaults": {
           "fillcolor": "black",
           "line": {
            "width": 0
           },
           "opacity": 0.3
          },
          "ternary": {
           "aaxis": {
            "gridcolor": "rgb(232,232,232)",
            "linecolor": "rgb(36,36,36)",
            "showgrid": false,
            "showline": true,
            "ticks": "outside"
           },
           "baxis": {
            "gridcolor": "rgb(232,232,232)",
            "linecolor": "rgb(36,36,36)",
            "showgrid": false,
            "showline": true,
            "ticks": "outside"
           },
           "bgcolor": "white",
           "caxis": {
            "gridcolor": "rgb(232,232,232)",
            "linecolor": "rgb(36,36,36)",
            "showgrid": false,
            "showline": true,
            "ticks": "outside"
           }
          },
          "title": {
           "x": 0.05
          },
          "xaxis": {
           "automargin": true,
           "gridcolor": "rgb(232,232,232)",
           "linecolor": "rgb(36,36,36)",
           "showgrid": false,
           "showline": true,
           "ticks": "outside",
           "title": {
            "standoff": 15
           },
           "zeroline": false,
           "zerolinecolor": "rgb(36,36,36)"
          },
          "yaxis": {
           "automargin": true,
           "gridcolor": "rgb(232,232,232)",
           "linecolor": "rgb(36,36,36)",
           "showgrid": false,
           "showline": true,
           "ticks": "outside",
           "title": {
            "standoff": 15
           },
           "zeroline": false,
           "zerolinecolor": "rgb(36,36,36)"
          }
         }
        },
        "title": {
         "font": {
          "color": "Black",
          "size": 22
         },
         "text": "<b>Documents and Topics</b>",
         "x": 0.5,
         "xanchor": "center",
         "yanchor": "top"
        },
        "width": 1200,
        "xaxis": {
         "visible": false
        },
        "yaxis": {
         "visible": false
        }
       }
      }
     },
     "metadata": {},
     "output_type": "display_data"
    }
   ],
   "source": [
    "topic_model.visualize_documents(questions)"
   ]
  },
  {
   "cell_type": "code",
   "execution_count": 35,
   "metadata": {},
   "outputs": [
    {
     "data": {
      "application/vnd.plotly.v1+json": {
       "config": {
        "plotlyServerURL": "https://plot.ly"
       },
       "data": [
        {
         "customdata": [
          [
           0,
           "the indian economy | indian economy | of inclusive growth | inclusive growth | in india what",
           76
          ],
          [
           1,
           "Security |  |  |  | ",
           51
          ],
          [
           2,
           "on climate change | renewable energy | hydroelectricity project | is oil pollution | oil pollution",
           27
          ],
          [
           3,
           "Disaster Management |  |  |  | ",
           14
          ],
          [
           4,
           "Technology |  |  |  | ",
           11
          ],
          [
           5,
           "the gst introduced | impacted the gst | the gst compensation | gst introduced | the gst",
           9
          ],
          [
           6,
           "indian patent law | patenting by pharmaceutical | indian patent | in indian patent | medicine from patenting",
           6
          ],
          [
           7,
           "of biotechnology | of biotechnology in | biotechnology | vaccine development how | vaccine development",
           5
          ],
          [
           8,
           "india wetlands | india wetlands of | of wetland conservation | wetland conservation | wetland conservation cite",
           4
          ]
         ],
         "hovertemplate": "<b>Topic %{customdata[0]}</b><br>%{customdata[1]}<br>Size: %{customdata[2]}",
         "legendgroup": "",
         "marker": {
          "color": "#B0BEC5",
          "line": {
           "color": "DarkSlateGrey",
           "width": 2
          },
          "size": [
           76,
           51,
           27,
           14,
           11,
           9,
           6,
           5,
           4
          ],
          "sizemode": "area",
          "sizeref": 0.0475,
          "symbol": "circle"
         },
         "mode": "markers",
         "name": "",
         "orientation": "v",
         "showlegend": false,
         "type": "scatter",
         "x": [
          0.3138517737388611,
          -0.20776361227035522,
          2.3491339683532715,
          1.6558066606521606,
          2.103923797607422,
          -0.23164060711860657,
          1.3527815341949463,
          1.8004224300384521,
          2.1100828647613525
         ],
         "xaxis": "x",
         "y": [
          6.436824321746826,
          5.8673601150512695,
          5.6713995933532715,
          5.8162760734558105,
          4.734699249267578,
          6.539566993713379,
          3.942552328109741,
          4.22049617767334,
          6.299803256988525
         ],
         "yaxis": "y"
        }
       ],
       "layout": {
        "annotations": [
         {
          "showarrow": false,
          "text": "D1",
          "x": -0.26638669818639754,
          "y": 5.435835760831833,
          "yshift": 10
         },
         {
          "showarrow": false,
          "text": "D2",
          "x": 1.2175586827099325,
          "xshift": 10,
          "y": 7.520502042770386
         }
        ],
        "height": 650,
        "hoverlabel": {
         "bgcolor": "white",
         "font": {
          "family": "Rockwell",
          "size": 16
         }
        },
        "legend": {
         "itemsizing": "constant",
         "tracegroupgap": 0
        },
        "margin": {
         "t": 60
        },
        "shapes": [
         {
          "line": {
           "color": "#CFD8DC",
           "width": 2
          },
          "type": "line",
          "x0": 1.2175586827099325,
          "x1": 1.2175586827099325,
          "y0": 3.35116947889328,
          "y1": 7.520502042770386
         },
         {
          "line": {
           "color": "#9E9E9E",
           "width": 2
          },
          "type": "line",
          "x0": -0.26638669818639754,
          "x1": 2.7015040636062624,
          "y0": 5.435835760831833,
          "y1": 5.435835760831833
         }
        ],
        "sliders": [
         {
          "active": 0,
          "pad": {
           "t": 50
          },
          "steps": [
           {
            "args": [
             {
              "marker.color": [
               [
                "red",
                "#B0BEC5",
                "#B0BEC5",
                "#B0BEC5",
                "#B0BEC5",
                "#B0BEC5",
                "#B0BEC5",
                "#B0BEC5",
                "#B0BEC5"
               ]
              ]
             }
            ],
            "label": "Topic 0",
            "method": "update"
           },
           {
            "args": [
             {
              "marker.color": [
               [
                "#B0BEC5",
                "red",
                "#B0BEC5",
                "#B0BEC5",
                "#B0BEC5",
                "#B0BEC5",
                "#B0BEC5",
                "#B0BEC5",
                "#B0BEC5"
               ]
              ]
             }
            ],
            "label": "Topic 1",
            "method": "update"
           },
           {
            "args": [
             {
              "marker.color": [
               [
                "#B0BEC5",
                "#B0BEC5",
                "red",
                "#B0BEC5",
                "#B0BEC5",
                "#B0BEC5",
                "#B0BEC5",
                "#B0BEC5",
                "#B0BEC5"
               ]
              ]
             }
            ],
            "label": "Topic 2",
            "method": "update"
           },
           {
            "args": [
             {
              "marker.color": [
               [
                "#B0BEC5",
                "#B0BEC5",
                "#B0BEC5",
                "red",
                "#B0BEC5",
                "#B0BEC5",
                "#B0BEC5",
                "#B0BEC5",
                "#B0BEC5"
               ]
              ]
             }
            ],
            "label": "Topic 3",
            "method": "update"
           },
           {
            "args": [
             {
              "marker.color": [
               [
                "#B0BEC5",
                "#B0BEC5",
                "#B0BEC5",
                "#B0BEC5",
                "red",
                "#B0BEC5",
                "#B0BEC5",
                "#B0BEC5",
                "#B0BEC5"
               ]
              ]
             }
            ],
            "label": "Topic 4",
            "method": "update"
           },
           {
            "args": [
             {
              "marker.color": [
               [
                "#B0BEC5",
                "#B0BEC5",
                "#B0BEC5",
                "#B0BEC5",
                "#B0BEC5",
                "red",
                "#B0BEC5",
                "#B0BEC5",
                "#B0BEC5"
               ]
              ]
             }
            ],
            "label": "Topic 5",
            "method": "update"
           },
           {
            "args": [
             {
              "marker.color": [
               [
                "#B0BEC5",
                "#B0BEC5",
                "#B0BEC5",
                "#B0BEC5",
                "#B0BEC5",
                "#B0BEC5",
                "red",
                "#B0BEC5",
                "#B0BEC5"
               ]
              ]
             }
            ],
            "label": "Topic 6",
            "method": "update"
           },
           {
            "args": [
             {
              "marker.color": [
               [
                "#B0BEC5",
                "#B0BEC5",
                "#B0BEC5",
                "#B0BEC5",
                "#B0BEC5",
                "#B0BEC5",
                "#B0BEC5",
                "red",
                "#B0BEC5"
               ]
              ]
             }
            ],
            "label": "Topic 7",
            "method": "update"
           },
           {
            "args": [
             {
              "marker.color": [
               [
                "#B0BEC5",
                "#B0BEC5",
                "#B0BEC5",
                "#B0BEC5",
                "#B0BEC5",
                "#B0BEC5",
                "#B0BEC5",
                "#B0BEC5",
                "red"
               ]
              ]
             }
            ],
            "label": "Topic 8",
            "method": "update"
           }
          ]
         }
        ],
        "template": {
         "data": {
          "bar": [
           {
            "error_x": {
             "color": "rgb(36,36,36)"
            },
            "error_y": {
             "color": "rgb(36,36,36)"
            },
            "marker": {
             "line": {
              "color": "white",
              "width": 0.5
             },
             "pattern": {
              "fillmode": "overlay",
              "size": 10,
              "solidity": 0.2
             }
            },
            "type": "bar"
           }
          ],
          "barpolar": [
           {
            "marker": {
             "line": {
              "color": "white",
              "width": 0.5
             },
             "pattern": {
              "fillmode": "overlay",
              "size": 10,
              "solidity": 0.2
             }
            },
            "type": "barpolar"
           }
          ],
          "carpet": [
           {
            "aaxis": {
             "endlinecolor": "rgb(36,36,36)",
             "gridcolor": "white",
             "linecolor": "white",
             "minorgridcolor": "white",
             "startlinecolor": "rgb(36,36,36)"
            },
            "baxis": {
             "endlinecolor": "rgb(36,36,36)",
             "gridcolor": "white",
             "linecolor": "white",
             "minorgridcolor": "white",
             "startlinecolor": "rgb(36,36,36)"
            },
            "type": "carpet"
           }
          ],
          "choropleth": [
           {
            "colorbar": {
             "outlinewidth": 1,
             "tickcolor": "rgb(36,36,36)",
             "ticks": "outside"
            },
            "type": "choropleth"
           }
          ],
          "contour": [
           {
            "colorbar": {
             "outlinewidth": 1,
             "tickcolor": "rgb(36,36,36)",
             "ticks": "outside"
            },
            "colorscale": [
             [
              0,
              "#440154"
             ],
             [
              0.1111111111111111,
              "#482878"
             ],
             [
              0.2222222222222222,
              "#3e4989"
             ],
             [
              0.3333333333333333,
              "#31688e"
             ],
             [
              0.4444444444444444,
              "#26828e"
             ],
             [
              0.5555555555555556,
              "#1f9e89"
             ],
             [
              0.6666666666666666,
              "#35b779"
             ],
             [
              0.7777777777777778,
              "#6ece58"
             ],
             [
              0.8888888888888888,
              "#b5de2b"
             ],
             [
              1,
              "#fde725"
             ]
            ],
            "type": "contour"
           }
          ],
          "contourcarpet": [
           {
            "colorbar": {
             "outlinewidth": 1,
             "tickcolor": "rgb(36,36,36)",
             "ticks": "outside"
            },
            "type": "contourcarpet"
           }
          ],
          "heatmap": [
           {
            "colorbar": {
             "outlinewidth": 1,
             "tickcolor": "rgb(36,36,36)",
             "ticks": "outside"
            },
            "colorscale": [
             [
              0,
              "#440154"
             ],
             [
              0.1111111111111111,
              "#482878"
             ],
             [
              0.2222222222222222,
              "#3e4989"
             ],
             [
              0.3333333333333333,
              "#31688e"
             ],
             [
              0.4444444444444444,
              "#26828e"
             ],
             [
              0.5555555555555556,
              "#1f9e89"
             ],
             [
              0.6666666666666666,
              "#35b779"
             ],
             [
              0.7777777777777778,
              "#6ece58"
             ],
             [
              0.8888888888888888,
              "#b5de2b"
             ],
             [
              1,
              "#fde725"
             ]
            ],
            "type": "heatmap"
           }
          ],
          "heatmapgl": [
           {
            "colorbar": {
             "outlinewidth": 1,
             "tickcolor": "rgb(36,36,36)",
             "ticks": "outside"
            },
            "colorscale": [
             [
              0,
              "#440154"
             ],
             [
              0.1111111111111111,
              "#482878"
             ],
             [
              0.2222222222222222,
              "#3e4989"
             ],
             [
              0.3333333333333333,
              "#31688e"
             ],
             [
              0.4444444444444444,
              "#26828e"
             ],
             [
              0.5555555555555556,
              "#1f9e89"
             ],
             [
              0.6666666666666666,
              "#35b779"
             ],
             [
              0.7777777777777778,
              "#6ece58"
             ],
             [
              0.8888888888888888,
              "#b5de2b"
             ],
             [
              1,
              "#fde725"
             ]
            ],
            "type": "heatmapgl"
           }
          ],
          "histogram": [
           {
            "marker": {
             "line": {
              "color": "white",
              "width": 0.6
             }
            },
            "type": "histogram"
           }
          ],
          "histogram2d": [
           {
            "colorbar": {
             "outlinewidth": 1,
             "tickcolor": "rgb(36,36,36)",
             "ticks": "outside"
            },
            "colorscale": [
             [
              0,
              "#440154"
             ],
             [
              0.1111111111111111,
              "#482878"
             ],
             [
              0.2222222222222222,
              "#3e4989"
             ],
             [
              0.3333333333333333,
              "#31688e"
             ],
             [
              0.4444444444444444,
              "#26828e"
             ],
             [
              0.5555555555555556,
              "#1f9e89"
             ],
             [
              0.6666666666666666,
              "#35b779"
             ],
             [
              0.7777777777777778,
              "#6ece58"
             ],
             [
              0.8888888888888888,
              "#b5de2b"
             ],
             [
              1,
              "#fde725"
             ]
            ],
            "type": "histogram2d"
           }
          ],
          "histogram2dcontour": [
           {
            "colorbar": {
             "outlinewidth": 1,
             "tickcolor": "rgb(36,36,36)",
             "ticks": "outside"
            },
            "colorscale": [
             [
              0,
              "#440154"
             ],
             [
              0.1111111111111111,
              "#482878"
             ],
             [
              0.2222222222222222,
              "#3e4989"
             ],
             [
              0.3333333333333333,
              "#31688e"
             ],
             [
              0.4444444444444444,
              "#26828e"
             ],
             [
              0.5555555555555556,
              "#1f9e89"
             ],
             [
              0.6666666666666666,
              "#35b779"
             ],
             [
              0.7777777777777778,
              "#6ece58"
             ],
             [
              0.8888888888888888,
              "#b5de2b"
             ],
             [
              1,
              "#fde725"
             ]
            ],
            "type": "histogram2dcontour"
           }
          ],
          "mesh3d": [
           {
            "colorbar": {
             "outlinewidth": 1,
             "tickcolor": "rgb(36,36,36)",
             "ticks": "outside"
            },
            "type": "mesh3d"
           }
          ],
          "parcoords": [
           {
            "line": {
             "colorbar": {
              "outlinewidth": 1,
              "tickcolor": "rgb(36,36,36)",
              "ticks": "outside"
             }
            },
            "type": "parcoords"
           }
          ],
          "pie": [
           {
            "automargin": true,
            "type": "pie"
           }
          ],
          "scatter": [
           {
            "fillpattern": {
             "fillmode": "overlay",
             "size": 10,
             "solidity": 0.2
            },
            "type": "scatter"
           }
          ],
          "scatter3d": [
           {
            "line": {
             "colorbar": {
              "outlinewidth": 1,
              "tickcolor": "rgb(36,36,36)",
              "ticks": "outside"
             }
            },
            "marker": {
             "colorbar": {
              "outlinewidth": 1,
              "tickcolor": "rgb(36,36,36)",
              "ticks": "outside"
             }
            },
            "type": "scatter3d"
           }
          ],
          "scattercarpet": [
           {
            "marker": {
             "colorbar": {
              "outlinewidth": 1,
              "tickcolor": "rgb(36,36,36)",
              "ticks": "outside"
             }
            },
            "type": "scattercarpet"
           }
          ],
          "scattergeo": [
           {
            "marker": {
             "colorbar": {
              "outlinewidth": 1,
              "tickcolor": "rgb(36,36,36)",
              "ticks": "outside"
             }
            },
            "type": "scattergeo"
           }
          ],
          "scattergl": [
           {
            "marker": {
             "colorbar": {
              "outlinewidth": 1,
              "tickcolor": "rgb(36,36,36)",
              "ticks": "outside"
             }
            },
            "type": "scattergl"
           }
          ],
          "scattermapbox": [
           {
            "marker": {
             "colorbar": {
              "outlinewidth": 1,
              "tickcolor": "rgb(36,36,36)",
              "ticks": "outside"
             }
            },
            "type": "scattermapbox"
           }
          ],
          "scatterpolar": [
           {
            "marker": {
             "colorbar": {
              "outlinewidth": 1,
              "tickcolor": "rgb(36,36,36)",
              "ticks": "outside"
             }
            },
            "type": "scatterpolar"
           }
          ],
          "scatterpolargl": [
           {
            "marker": {
             "colorbar": {
              "outlinewidth": 1,
              "tickcolor": "rgb(36,36,36)",
              "ticks": "outside"
             }
            },
            "type": "scatterpolargl"
           }
          ],
          "scatterternary": [
           {
            "marker": {
             "colorbar": {
              "outlinewidth": 1,
              "tickcolor": "rgb(36,36,36)",
              "ticks": "outside"
             }
            },
            "type": "scatterternary"
           }
          ],
          "surface": [
           {
            "colorbar": {
             "outlinewidth": 1,
             "tickcolor": "rgb(36,36,36)",
             "ticks": "outside"
            },
            "colorscale": [
             [
              0,
              "#440154"
             ],
             [
              0.1111111111111111,
              "#482878"
             ],
             [
              0.2222222222222222,
              "#3e4989"
             ],
             [
              0.3333333333333333,
              "#31688e"
             ],
             [
              0.4444444444444444,
              "#26828e"
             ],
             [
              0.5555555555555556,
              "#1f9e89"
             ],
             [
              0.6666666666666666,
              "#35b779"
             ],
             [
              0.7777777777777778,
              "#6ece58"
             ],
             [
              0.8888888888888888,
              "#b5de2b"
             ],
             [
              1,
              "#fde725"
             ]
            ],
            "type": "surface"
           }
          ],
          "table": [
           {
            "cells": {
             "fill": {
              "color": "rgb(237,237,237)"
             },
             "line": {
              "color": "white"
             }
            },
            "header": {
             "fill": {
              "color": "rgb(217,217,217)"
             },
             "line": {
              "color": "white"
             }
            },
            "type": "table"
           }
          ]
         },
         "layout": {
          "annotationdefaults": {
           "arrowhead": 0,
           "arrowwidth": 1
          },
          "autotypenumbers": "strict",
          "coloraxis": {
           "colorbar": {
            "outlinewidth": 1,
            "tickcolor": "rgb(36,36,36)",
            "ticks": "outside"
           }
          },
          "colorscale": {
           "diverging": [
            [
             0,
             "rgb(103,0,31)"
            ],
            [
             0.1,
             "rgb(178,24,43)"
            ],
            [
             0.2,
             "rgb(214,96,77)"
            ],
            [
             0.3,
             "rgb(244,165,130)"
            ],
            [
             0.4,
             "rgb(253,219,199)"
            ],
            [
             0.5,
             "rgb(247,247,247)"
            ],
            [
             0.6,
             "rgb(209,229,240)"
            ],
            [
             0.7,
             "rgb(146,197,222)"
            ],
            [
             0.8,
             "rgb(67,147,195)"
            ],
            [
             0.9,
             "rgb(33,102,172)"
            ],
            [
             1,
             "rgb(5,48,97)"
            ]
           ],
           "sequential": [
            [
             0,
             "#440154"
            ],
            [
             0.1111111111111111,
             "#482878"
            ],
            [
             0.2222222222222222,
             "#3e4989"
            ],
            [
             0.3333333333333333,
             "#31688e"
            ],
            [
             0.4444444444444444,
             "#26828e"
            ],
            [
             0.5555555555555556,
             "#1f9e89"
            ],
            [
             0.6666666666666666,
             "#35b779"
            ],
            [
             0.7777777777777778,
             "#6ece58"
            ],
            [
             0.8888888888888888,
             "#b5de2b"
            ],
            [
             1,
             "#fde725"
            ]
           ],
           "sequentialminus": [
            [
             0,
             "#440154"
            ],
            [
             0.1111111111111111,
             "#482878"
            ],
            [
             0.2222222222222222,
             "#3e4989"
            ],
            [
             0.3333333333333333,
             "#31688e"
            ],
            [
             0.4444444444444444,
             "#26828e"
            ],
            [
             0.5555555555555556,
             "#1f9e89"
            ],
            [
             0.6666666666666666,
             "#35b779"
            ],
            [
             0.7777777777777778,
             "#6ece58"
            ],
            [
             0.8888888888888888,
             "#b5de2b"
            ],
            [
             1,
             "#fde725"
            ]
           ]
          },
          "colorway": [
           "#1F77B4",
           "#FF7F0E",
           "#2CA02C",
           "#D62728",
           "#9467BD",
           "#8C564B",
           "#E377C2",
           "#7F7F7F",
           "#BCBD22",
           "#17BECF"
          ],
          "font": {
           "color": "rgb(36,36,36)"
          },
          "geo": {
           "bgcolor": "white",
           "lakecolor": "white",
           "landcolor": "white",
           "showlakes": true,
           "showland": true,
           "subunitcolor": "white"
          },
          "hoverlabel": {
           "align": "left"
          },
          "hovermode": "closest",
          "mapbox": {
           "style": "light"
          },
          "paper_bgcolor": "white",
          "plot_bgcolor": "white",
          "polar": {
           "angularaxis": {
            "gridcolor": "rgb(232,232,232)",
            "linecolor": "rgb(36,36,36)",
            "showgrid": false,
            "showline": true,
            "ticks": "outside"
           },
           "bgcolor": "white",
           "radialaxis": {
            "gridcolor": "rgb(232,232,232)",
            "linecolor": "rgb(36,36,36)",
            "showgrid": false,
            "showline": true,
            "ticks": "outside"
           }
          },
          "scene": {
           "xaxis": {
            "backgroundcolor": "white",
            "gridcolor": "rgb(232,232,232)",
            "gridwidth": 2,
            "linecolor": "rgb(36,36,36)",
            "showbackground": true,
            "showgrid": false,
            "showline": true,
            "ticks": "outside",
            "zeroline": false,
            "zerolinecolor": "rgb(36,36,36)"
           },
           "yaxis": {
            "backgroundcolor": "white",
            "gridcolor": "rgb(232,232,232)",
            "gridwidth": 2,
            "linecolor": "rgb(36,36,36)",
            "showbackground": true,
            "showgrid": false,
            "showline": true,
            "ticks": "outside",
            "zeroline": false,
            "zerolinecolor": "rgb(36,36,36)"
           },
           "zaxis": {
            "backgroundcolor": "white",
            "gridcolor": "rgb(232,232,232)",
            "gridwidth": 2,
            "linecolor": "rgb(36,36,36)",
            "showbackground": true,
            "showgrid": false,
            "showline": true,
            "ticks": "outside",
            "zeroline": false,
            "zerolinecolor": "rgb(36,36,36)"
           }
          },
          "shapedefaults": {
           "fillcolor": "black",
           "line": {
            "width": 0
           },
           "opacity": 0.3
          },
          "ternary": {
           "aaxis": {
            "gridcolor": "rgb(232,232,232)",
            "linecolor": "rgb(36,36,36)",
            "showgrid": false,
            "showline": true,
            "ticks": "outside"
           },
           "baxis": {
            "gridcolor": "rgb(232,232,232)",
            "linecolor": "rgb(36,36,36)",
            "showgrid": false,
            "showline": true,
            "ticks": "outside"
           },
           "bgcolor": "white",
           "caxis": {
            "gridcolor": "rgb(232,232,232)",
            "linecolor": "rgb(36,36,36)",
            "showgrid": false,
            "showline": true,
            "ticks": "outside"
           }
          },
          "title": {
           "x": 0.05
          },
          "xaxis": {
           "automargin": true,
           "gridcolor": "rgb(232,232,232)",
           "linecolor": "rgb(36,36,36)",
           "showgrid": false,
           "showline": true,
           "ticks": "outside",
           "title": {
            "standoff": 15
           },
           "zeroline": false,
           "zerolinecolor": "rgb(36,36,36)"
          },
          "yaxis": {
           "automargin": true,
           "gridcolor": "rgb(232,232,232)",
           "linecolor": "rgb(36,36,36)",
           "showgrid": false,
           "showline": true,
           "ticks": "outside",
           "title": {
            "standoff": 15
           },
           "zeroline": false,
           "zerolinecolor": "rgb(36,36,36)"
          }
         }
        },
        "title": {
         "font": {
          "color": "Black",
          "size": 22
         },
         "text": "<b>Intertopic Distance Map</b>",
         "x": 0.5,
         "xanchor": "center",
         "y": 0.95,
         "yanchor": "top"
        },
        "width": 650,
        "xaxis": {
         "anchor": "y",
         "domain": [
          0,
          1
         ],
         "range": [
          -0.26638669818639754,
          2.7015040636062624
         ],
         "title": {
          "text": ""
         },
         "visible": false
        },
        "yaxis": {
         "anchor": "x",
         "domain": [
          0,
          1
         ],
         "range": [
          3.35116947889328,
          7.520502042770386
         ],
         "title": {
          "text": ""
         },
         "visible": false
        }
       }
      }
     },
     "metadata": {},
     "output_type": "display_data"
    }
   ],
   "source": [
    "topic_model.visualize_topics()"
   ]
  },
  {
   "cell_type": "code",
   "execution_count": 38,
   "metadata": {},
   "outputs": [],
   "source": [
    "model = BERTopic.load('GS3_model')"
   ]
  },
  {
   "cell_type": "code",
   "execution_count": 40,
   "metadata": {},
   "outputs": [
    {
     "ename": "TypeError",
     "evalue": "'int' object is not callable",
     "output_type": "error",
     "traceback": [
      "\u001b[1;31m---------------------------------------------------------------------------\u001b[0m",
      "\u001b[1;31mTypeError\u001b[0m                                 Traceback (most recent call last)",
      "Cell \u001b[1;32mIn[40], line 1\u001b[0m\n\u001b[1;32m----> 1\u001b[0m \u001b[43mmodel\u001b[49m\u001b[38;5;241;43m.\u001b[39;49m\u001b[43mtop_n_words\u001b[49m\u001b[43m(\u001b[49m\u001b[38;5;241;43m1\u001b[39;49m\u001b[43m)\u001b[49m\n",
      "\u001b[1;31mTypeError\u001b[0m: 'int' object is not callable"
     ]
    }
   ],
   "source": []
  },
  {
   "cell_type": "code",
   "execution_count": null,
   "metadata": {},
   "outputs": [],
   "source": []
  }
 ],
 "metadata": {
  "kernelspec": {
   "display_name": "venv",
   "language": "python",
   "name": "python3"
  },
  "language_info": {
   "codemirror_mode": {
    "name": "ipython",
    "version": 3
   },
   "file_extension": ".py",
   "mimetype": "text/x-python",
   "name": "python",
   "nbconvert_exporter": "python",
   "pygments_lexer": "ipython3",
   "version": "3.12.0"
  }
 },
 "nbformat": 4,
 "nbformat_minor": 2
}

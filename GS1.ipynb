{
 "cells": [
  {
   "cell_type": "code",
   "execution_count": 1,
   "metadata": {},
   "outputs": [
    {
     "name": "stderr",
     "output_type": "stream",
     "text": [
      "e:\\repos\\SURP-2024\\venv\\Lib\\site-packages\\tqdm\\auto.py:21: TqdmWarning: IProgress not found. Please update jupyter and ipywidgets. See https://ipywidgets.readthedocs.io/en/stable/user_install.html\n",
      "  from .autonotebook import tqdm as notebook_tqdm\n"
     ]
    }
   ],
   "source": [
    "import pandas as pd\n",
    "from bertopic import BERTopic\n",
    "from sentence_transformers import SentenceTransformer"
   ]
  },
  {
   "cell_type": "code",
   "execution_count": 2,
   "metadata": {},
   "outputs": [],
   "source": [
    "import warnings\n",
    "warnings.filterwarnings(\"ignore\")"
   ]
  },
  {
   "cell_type": "code",
   "execution_count": 3,
   "metadata": {},
   "outputs": [
    {
     "data": {
      "text/html": [
       "<div>\n",
       "<style scoped>\n",
       "    .dataframe tbody tr th:only-of-type {\n",
       "        vertical-align: middle;\n",
       "    }\n",
       "\n",
       "    .dataframe tbody tr th {\n",
       "        vertical-align: top;\n",
       "    }\n",
       "\n",
       "    .dataframe thead th {\n",
       "        text-align: right;\n",
       "    }\n",
       "</style>\n",
       "<table border=\"1\" class=\"dataframe\">\n",
       "  <thead>\n",
       "    <tr style=\"text-align: right;\">\n",
       "      <th></th>\n",
       "      <th>Year</th>\n",
       "      <th>Question</th>\n",
       "      <th>Subject</th>\n",
       "      <th>Sub-Topic</th>\n",
       "    </tr>\n",
       "  </thead>\n",
       "  <tbody>\n",
       "    <tr>\n",
       "      <th>188</th>\n",
       "      <td>2014</td>\n",
       "      <td>What were the events that led to the Suez Cris...</td>\n",
       "      <td>History</td>\n",
       "      <td>Colonization and decolonization</td>\n",
       "    </tr>\n",
       "    <tr>\n",
       "      <th>157</th>\n",
       "      <td>2016</td>\n",
       "      <td>Present an account of the Indus Water Treaty a...</td>\n",
       "      <td>Geography</td>\n",
       "      <td>Drainage Basins</td>\n",
       "    </tr>\n",
       "    <tr>\n",
       "      <th>72</th>\n",
       "      <td>2020</td>\n",
       "      <td>Since the decade of the 1920s, the national mo...</td>\n",
       "      <td>History</td>\n",
       "      <td>Indian National Movement</td>\n",
       "    </tr>\n",
       "  </tbody>\n",
       "</table>\n",
       "</div>"
      ],
      "text/plain": [
       "     Year                                           Question    Subject  \\\n",
       "188  2014  What were the events that led to the Suez Cris...    History   \n",
       "157  2016  Present an account of the Indus Water Treaty a...  Geography   \n",
       "72   2020  Since the decade of the 1920s, the national mo...    History   \n",
       "\n",
       "                           Sub-Topic  \n",
       "188  Colonization and decolonization  \n",
       "157                  Drainage Basins  \n",
       "72          Indian National Movement  "
      ]
     },
     "execution_count": 3,
     "metadata": {},
     "output_type": "execute_result"
    }
   ],
   "source": [
    "df = pd.read_excel('GS1.xlsx')\n",
    "df.sample(3)"
   ]
  },
  {
   "cell_type": "code",
   "execution_count": 4,
   "metadata": {},
   "outputs": [
    {
     "data": {
      "text/plain": [
       "['Explain the role of geographical factors towards the development of Ancient India.',\n",
       " 'What was the difference between Mahatma Gandhi and Rabindranath Tagore in their approach towards education and nationalism?',\n",
       " 'Bring out the socio-economic effects of the introduction of railways in different countries of the world']"
      ]
     },
     "execution_count": 4,
     "metadata": {},
     "output_type": "execute_result"
    }
   ],
   "source": [
    "questions = df['Question'].values.tolist()\n",
    "questions[:3]"
   ]
  },
  {
   "cell_type": "code",
   "execution_count": 5,
   "metadata": {},
   "outputs": [],
   "source": [
    "#PIPELINE OF BERTMODEL\n",
    "# 1. EMBEDDING - BY DEFAULT USES all-MiniLM-L6-v2 SENTENCE TRANSFORMER\n",
    "# 2.  "
   ]
  },
  {
   "cell_type": "code",
   "execution_count": 6,
   "metadata": {},
   "outputs": [],
   "source": [
    "#WE WILL USE THE BERTOPIC MODEL TO CLUSTER THE QUESTIONS\n",
    "#FIRST USING DEFAULT MODEL\n",
    "\n",
    "model = BERTopic()\n",
    "topics, probs = model.fit_transform(questions)"
   ]
  },
  {
   "cell_type": "code",
   "execution_count": 7,
   "metadata": {},
   "outputs": [
    {
     "data": {
      "text/html": [
       "<div>\n",
       "<style scoped>\n",
       "    .dataframe tbody tr th:only-of-type {\n",
       "        vertical-align: middle;\n",
       "    }\n",
       "\n",
       "    .dataframe tbody tr th {\n",
       "        vertical-align: top;\n",
       "    }\n",
       "\n",
       "    .dataframe thead th {\n",
       "        text-align: right;\n",
       "    }\n",
       "</style>\n",
       "<table border=\"1\" class=\"dataframe\">\n",
       "  <thead>\n",
       "    <tr style=\"text-align: right;\">\n",
       "      <th></th>\n",
       "      <th>Topic</th>\n",
       "      <th>Count</th>\n",
       "      <th>Name</th>\n",
       "      <th>Representation</th>\n",
       "      <th>Representative_Docs</th>\n",
       "    </tr>\n",
       "  </thead>\n",
       "  <tbody>\n",
       "    <tr>\n",
       "      <th>0</th>\n",
       "      <td>-1</td>\n",
       "      <td>54</td>\n",
       "      <td>-1_the_of_in_and</td>\n",
       "      <td>[the, of, in, and, india, is, for, discuss, on...</td>\n",
       "      <td>[Why did the industrial revolution first occur...</td>\n",
       "    </tr>\n",
       "    <tr>\n",
       "      <th>1</th>\n",
       "      <td>0</td>\n",
       "      <td>62</td>\n",
       "      <td>0_the_of_and_in</td>\n",
       "      <td>[the, of, and, in, water, how, on, are, explai...</td>\n",
       "      <td>[Briefly mention the alignment of major mounta...</td>\n",
       "    </tr>\n",
       "    <tr>\n",
       "      <th>2</th>\n",
       "      <td>1</td>\n",
       "      <td>32</td>\n",
       "      <td>1_in_the_indian_and</td>\n",
       "      <td>[in, the, indian, and, society, cultural, of, ...</td>\n",
       "      <td>[Has caste lost its relevance in understanding...</td>\n",
       "    </tr>\n",
       "    <tr>\n",
       "      <th>3</th>\n",
       "      <td>2</td>\n",
       "      <td>28</td>\n",
       "      <td>2_of_the_in_india</td>\n",
       "      <td>[of, the, in, india, to, new, discuss, with, h...</td>\n",
       "      <td>[Account for the change in the spatial pattern...</td>\n",
       "    </tr>\n",
       "    <tr>\n",
       "      <th>4</th>\n",
       "      <td>3</td>\n",
       "      <td>27</td>\n",
       "      <td>3_the_british_of_to</td>\n",
       "      <td>[the, british, of, to, in, was, were, india, e...</td>\n",
       "      <td>[What were the major political, economic and s...</td>\n",
       "    </tr>\n",
       "    <tr>\n",
       "      <th>5</th>\n",
       "      <td>4</td>\n",
       "      <td>18</td>\n",
       "      <td>4_the_art_of_architecture</td>\n",
       "      <td>[the, art, of, architecture, indian, and, disc...</td>\n",
       "      <td>[Mesolithic rock cut architecture of India not...</td>\n",
       "    </tr>\n",
       "    <tr>\n",
       "      <th>6</th>\n",
       "      <td>5</td>\n",
       "      <td>14</td>\n",
       "      <td>5_women_in_the_india</td>\n",
       "      <td>[women, in, the, india, womens, sex, ratio, of...</td>\n",
       "      <td>[‘Women’s movement in India has not addressed ...</td>\n",
       "    </tr>\n",
       "  </tbody>\n",
       "</table>\n",
       "</div>"
      ],
      "text/plain": [
       "   Topic  Count                       Name  \\\n",
       "0     -1     54           -1_the_of_in_and   \n",
       "1      0     62            0_the_of_and_in   \n",
       "2      1     32        1_in_the_indian_and   \n",
       "3      2     28          2_of_the_in_india   \n",
       "4      3     27        3_the_british_of_to   \n",
       "5      4     18  4_the_art_of_architecture   \n",
       "6      5     14       5_women_in_the_india   \n",
       "\n",
       "                                      Representation  \\\n",
       "0  [the, of, in, and, india, is, for, discuss, on...   \n",
       "1  [the, of, and, in, water, how, on, are, explai...   \n",
       "2  [in, the, indian, and, society, cultural, of, ...   \n",
       "3  [of, the, in, india, to, new, discuss, with, h...   \n",
       "4  [the, british, of, to, in, was, were, india, e...   \n",
       "5  [the, art, of, architecture, indian, and, disc...   \n",
       "6  [women, in, the, india, womens, sex, ratio, of...   \n",
       "\n",
       "                                 Representative_Docs  \n",
       "0  [Why did the industrial revolution first occur...  \n",
       "1  [Briefly mention the alignment of major mounta...  \n",
       "2  [Has caste lost its relevance in understanding...  \n",
       "3  [Account for the change in the spatial pattern...  \n",
       "4  [What were the major political, economic and s...  \n",
       "5  [Mesolithic rock cut architecture of India not...  \n",
       "6  [‘Women’s movement in India has not addressed ...  "
      ]
     },
     "execution_count": 7,
     "metadata": {},
     "output_type": "execute_result"
    }
   ],
   "source": [
    "model.get_topic_info()"
   ]
  },
  {
   "cell_type": "code",
   "execution_count": 8,
   "metadata": {},
   "outputs": [
    {
     "data": {
      "text/plain": [
       "['the, of, in',\n",
       " 'the, of, and',\n",
       " 'in, the, indian',\n",
       " 'of, the, in',\n",
       " 'the, british, of',\n",
       " 'the, art, of',\n",
       " 'women, in, the']"
      ]
     },
     "execution_count": 8,
     "metadata": {},
     "output_type": "execute_result"
    }
   ],
   "source": [
    "model.generate_topic_labels(topic_prefix=False,separator=', ')"
   ]
  },
  {
   "cell_type": "code",
   "execution_count": 9,
   "metadata": {},
   "outputs": [
    {
     "data": {
      "application/vnd.plotly.v1+json": {
       "config": {
        "plotlyServerURL": "https://plot.ly"
       },
       "data": [
        {
         "hoverinfo": "text",
         "hovertext": [
          "What were the major technological changes introduced during the Sultanate period? How did those technological changes influence the Indian society?",
          "‘Latecomer’ Industrial Revolution in Japan involved certain factors that were markedly different from what West had experienced.” Analyze.",
          "Critically examine whether growing population is the cause of poverty OR poverty is the mains cause of population increase in India.",
          "Highlight the differences in the approach of Subhash Chandra Bose and Mahatma Gandhi in the struggle for freedom.",
          "The life cycle of a joint family depends on economic factors rather than social values. Discuss.",
          "Discuss whether formation of new states in recent times is beneficial or not for the economy of India.",
          "To what extent did the role of the moderates prepare a base for the wider freedom movement? Comment.",
          "Defining blue revolution, explain the problems and strategies for pisciculture development in India.",
          "How difficult would have been the achievement of Indian independence without Mahatma Gandhi? Discuss.",
          "\"An essential condition to eradicate poverty is to liberate the poor from the process of deprivation.\" Substantiate this statement with suitable examples.",
          "South China Sea has assumed great geopolitical significance in the present context. Comment.",
          "Child cuddling is now being replaced by mobile phones. Discuss its impact on the socialization of children.",
          "Several foreigners made India their homeland and participated in various movements.\nAnalyze their role in the Indian struggle for freedom.",
          "Do you agree that regionalism in India appears to be a consequence of rising cultural assertiveness? Argue.",
          "Growing feeling of regionalism is an important factor in generation of demand for a separate state. Discuss.",
          "COVID-19 pandemic accelerated class inequalities and poverty in India. Comment.",
          "Critically examine the effect of globalization on the aged population in India.",
          "Why is Indian Regional Navigational Satellite System (IRNSS) needed? How does it help in navigation?",
          "Critically evaluate the various resources of the oceans which can be harnessed to meet the resource crisis in the world.",
          "Petroleum refineries are not necessarily located nearer to crude oil producing areas, particularly in many of the developing countries. Explain its implications.",
          "Discuss the multi-dimensional implications of uneven distribution of mineral oil in the world.",
          "Why is India considered as a sub-continent? Elaborate your answer.",
          "Write a critical note on the evolution and significance of the slogan, ‘Jai Jawan, Jai Kisan’.",
          "What is the basis of regionalism? Is it that unequal distribution of benefits of development on regional basis eventually promotes regionalism? Substantiate your answer.",
          "Assess the importance of the accounts of the Chinese and Arab travellers in the reconstruction of the history of India.",
          "Evaluate the policies of Lord Curzon and their long term implications on the national movements.",
          "Many voices had strengthened and enriched the nationalist movement during the Gandhian phase. Elaborate.",
          "What are the economic significances of discovery of oil in Arctic Sea and its possible environemental consequences?",
          "What was the difference between Mahatma Gandhi and Rabindranath Tagore in their approach towards education and nationalism?",
          "Throw light on the significance of the thoughts of Mahatma Gandhi in the present times.",
          "Why did the ‘Moderates’ failed to carry conviction with the nation about their proclaimed ideology and political goals by the end of the nineteenth century?",
          "With growing scarcity of fossil fuels, the atomic energy is gaining more and more significance in India. Discuss the availability of raw material required for the generation of atomic energy in India and in the world.",
          "India has immense potential of solar energy though there are regional variations in its developments. Elaborate.",
          "Explore and evaluate the impact of ‘Work From Home’ on family relationships.",
          "Why is India taking keen interest in the Arctic region?",
          "Assess the main administrative issues and socio-cultural problems in the integration process of Indian Princely States.",
          "It is said that India has substantial reserves of shale oil and gas, which can feed the needs of the country for quarter century. However, tapping of the resource does not appear to be high on the agenda. Discuss critically the availability and issues involved.",
          "Mahatma Gandhi and Dr. B R Ambedkar, despite having divergent approaches and strategies, had a common goal of amelioration of the downtrodden. Elucidate.",
          "How did the colonial rule affect the tribals in India and what was the tribal response to the colonial oppression?",
          "Examine the linkages between the nineteenth century’s ‘Indian Renaissance’ and the emergence of national identity.",
          "The political and administrative reorganization of states and territories has been a continuous ongoing process since the mid-nineteenth century. Discuss with examples.",
          "Bring out the constructive programmes of Mahatma Gandhi during Non-Cooperation Movement and Civil Disobedience Movement.",
          "The Bhakti movement received a remarkable re-orientation with the advent of Sri Chaitanya Mahaprabhu. Discuss.",
          "‘Communalism arises either due to power struggle or relative deprivation.’ Argue by giving suitable illustrations.",
          "Why did the Green Revolution in India virtually by-pass the eastern region despite fertile soil and good availability of water?",
          "Why did the industrial revolution first occur in England? Discuss the quality of life of the people there during the industrialization. How does it compare with that in India at present times?",
          "Critically discuss the objectives of Bhoodan and Gramdan movements initiated by AcharyaVinobhaBhave and their success.",
          "It would have been difficult for the Constituent Assembly to complete its historic task of drafting the Constitution for Independent India in just three years, but its experience gained with the Government of India Act, 1935\n.Discuss.",
          "Though not very useful from the point of view of a connected political history of South India, the Sangam literature portrays the social and economic conditions of its time with remarkable vividness. Comment.",
          "Critically examine the compulsions which prompted India to play a decisive role in the emergence of Bangladesh.",
          "Explain the role of geographical factors towards the development of Ancient India.",
          "Mention the significance of straits and isthmus in international trade.",
          "‘Despite implementation of various programmes for eradication of poverty by the government in India, poverty is still existing’. Explain by giving reasons.",
          "In the context of the diversity of India, can it be said that the regions form cultural units rather than the States? Give reasons with examples for your view point.",
          null
         ],
         "marker": {
          "color": "#CFD8DC",
          "opacity": 0.5,
          "size": 5
         },
         "mode": "markers+text",
         "name": "other",
         "showlegend": false,
         "type": "scattergl",
         "x": [
          8.641511917114258,
          8.440467834472656,
          8.828919410705566,
          10.130311965942383,
          10.56019401550293,
          8.110803604125977,
          9.16440200805664,
          8.566446304321289,
          9.987662315368652,
          8.93410873413086,
          5.344964027404785,
          10.283040046691895,
          9.93205738067627,
          9.98309326171875,
          9.417596817016602,
          8.906499862670898,
          9.460514068603516,
          7.4707207679748535,
          5.729817867279053,
          6.484668254852295,
          6.410810947418213,
          9.794821739196777,
          10.39667797088623,
          9.595949172973633,
          9.918567657470703,
          9.095694541931152,
          10.172672271728516,
          6.228083610534668,
          10.100157737731934,
          10.157896995544434,
          9.192798614501953,
          6.53190803527832,
          6.542360782623291,
          10.346104621887207,
          6.614999294281006,
          9.733760833740234,
          6.429671287536621,
          10.189684867858887,
          9.551047325134277,
          10.38144302368164,
          9.29525375366211,
          10.135007858276367,
          11.443177223205566,
          10.78837776184082,
          8.478626251220703,
          8.55063247680664,
          11.474040985107422,
          9.845576286315918,
          10.878840446472168,
          10.707414627075195,
          8.562458992004395,
          5.275128364562988,
          8.879134178161621,
          10.019804954528809,
          9.001785278320312
         ],
         "y": [
          7.852100372314453,
          7.834145545959473,
          9.362378120422363,
          6.188390731811523,
          9.248790740966797,
          8.249053955078125,
          6.399475574493408,
          8.269980430603027,
          6.372940540313721,
          9.247939109802246,
          7.586544513702393,
          9.424789428710938,
          7.258716583251953,
          8.525019645690918,
          8.42532730102539,
          9.385305404663086,
          9.19894027709961,
          8.919632911682129,
          7.626060962677002,
          7.8368635177612305,
          7.794391632080078,
          8.6065034866333,
          6.5864739418029785,
          8.560239791870117,
          7.263775825500488,
          6.425329685211182,
          6.204279899597168,
          7.726307392120361,
          6.151309967041016,
          6.19821310043335,
          6.359287738800049,
          8.207010269165039,
          8.233772277832031,
          9.426103591918945,
          8.135653495788574,
          7.607208251953125,
          8.043875694274902,
          6.17341423034668,
          7.814549922943115,
          7.317263603210449,
          8.236770629882812,
          6.176231384277344,
          6.985029697418213,
          8.892358779907227,
          8.122669219970703,
          7.760148525238037,
          6.979312419891357,
          6.9370951652526855,
          6.942464351654053,
          7.409861087799072,
          8.353156089782715,
          7.45199728012085,
          9.305459022521973,
          8.487671852111816,
          7.779399394989014
         ]
        },
        {
         "hoverinfo": "text",
         "hovertext": [
          "Explain the factors responsible for the origin of ocean currents. How do they influence regional climates, fishing and navigation?",
          "Account for variations in oceanic salinity and discuss its multi-dimensional effects.",
          "Discuss the causes of depletion of mangroves and explain their importance in maintaining coastal ecology.",
          "In what way micro-watershed development projects help in water conservation in\ndrought-prone and semi-arid regions of India?",
          "Differentiate the causes of landslides in the Himalayan region and Western Ghats.",
          "How do the melting of the Arctic ice and glaciers of the Antarctic differently affect the weather patterns and human activities on the Earth? Explain.",
          "Enumerate the problems and prospects of inland water transport in India.",
          "The states of Jammu and Kashmir, Himachal Pradesh and Uttarakhand are reaching the limits of ecological carrying capacity due to tourism. Critically evaluate.",
          "Discuss the concept of air mass and explain its role in macro-climatic changes.",
          "Present an account of the Indus Water Treaty and examine its ecological, economic and political implications in the context of changing bilateral relations.",
          "How can the mountain ecosystem be restored from the negative impact of development initiatives and tourism?",
          "Discuss the geophysical characteristics of Circum- Pacific Zone.",
          "Tropical cyclones are largely confined to South China Sea, Bay of Bengal and Gulf of Mexico. Why?",
          "Account for the huge flooding of million cities in India including the smart ones like Hyderabad and Pune. Suggest lasting remedial measures.",
          "Describe the characteristics and types of primary rocks.",
          "There is no formation of deltas by rivers on the Western Ghats. Why?",
          "How does the cryosphere affect global climate?",
          "How does the Juno Mission of NASA help to understand the origin and evolution of the Earth?",
          "Identify and discuss the factors responsible for diversity of natural vegetation in India. Assess the significance of wildlife sanctuaries in rain forests regions of India.",
          "“The ideal solution of depleting ground water resources in India is water harvesting system.” How can it be made effective in urban areas?",
          "Describing the distribution of rubber producing countries, indicate the major environmental issues faced by them.",
          "Examine the potential of wind energy in India and explain the reasons for their limited spatial spread.",
          "Discuss the consequences of climate change on the food security in tropical countries.",
          "What are the forces that influence ocean currents? Describe their role in fishing industry of the world.",
          "Mention the global occurrence of volcanic eruptions in 2021 and their impact on regional environment.",
          "The process of desertification does not have climate boundaries. Justify with examples.",
          "How will the melting of Himalayan glaciers have a far- reaching impact on the water resources of India?",
          "Explain the formation of thousands of islands in Indonesian and Philipines archipelagos.",
          "What do you understand by the theory of continental drift? Discuss the prominent evidences in its support.",
          "Briefly mention the alignment of major mountain ranges of the world and explain their impact on local weather conditions, with examples.",
          "How far do you agree that the behaviour of the Indian monsoon has been changing due to humanizing landscape? Discuss.",
          "The interlinking of rivers can provide viable solutions to the multi-dimensional inter-related problems of droughts, floods and interrupted navigation. Critically examine.",
          "What do you understand by the phenomenon of ‘temperature inversion’ in meteorology? How does it affect weather and the habitants of the place?",
          "Examine the status of forest resources of India and its resultant impact on climate change.",
          "How are the fjords formed? Why do they constitute some of the most picturesque areas of the world?",
          "Troposphere is a very significant atmospheric layer that determines weather processes.\nHow?",
          "What characteristics can be assigned to monsoon climate that succeeds in feeding more than 50 percent of the world population residing in Monsoon Asia?",
          "Bring out the causes for the formation of heat islands in the urban habitat of the world.",
          "Why is the South-West monsoon called ‘Purvaiya’ (easterly) in Bhojpur Region? How has this directional seasonal wind system influenced the cultural ethos of the region?",
          "What are the consequences of spreading of ‘Dead Zones’ on marine ecosystem?",
          "Bring out the causes for more frequent occurrence of landslides in the Himalayas than in the Western Ghats.",
          "Assess the impact of global warming on the coral life system with examples.",
          "What is water stress? How and why does it differ regionally in India?",
          "\"The Himalayas are highly prone to landslides.\" Discuss the causes and suggest suitable measures of mitigation.",
          "“Inspite of adverse environmental impact, coal mining is still inevitable for development”.\nDiscuss",
          "Discuss the meaning of colour-coded weather warnings for cyclone prone areas given by India Meteorological department.",
          "Major hot deserts in northern hemisphere are located between 20-30 deg N latitudes and on the western sides of the continents. Why?",
          "Bring out the relationship between the shrinking Himalayan glaciers and the symptoms of climate change in the Indian sub-continent.",
          "Comment on the resource potentials of the long coastline of India and highlight the status of natural hazard preparedness in these areas.",
          "Discuss the natural resource potentials of ‘Deccan trap’.",
          "The effective management of land and water resources will drastically reduce the human miseries. Explain.",
          "Why are the world’s fold mountain systems located along the margins of continents? Bring out the association between the global distribution of fold mountains and the earthquakes and volcanoes.",
          "How do ocean currents and water masses differ in their impacts on marine life and coastal environment? Give suitable examples.",
          "Mumbai, Delhi and Kolkata are the three Mega cities of the country but the air pollution is much more serious probelm in Delhi as compared to the other two. Why is this so?",
          "The recent cyclone on the east coast of India was called ‘Phailin’. How are the tropical cyclones named across the world? Elaborate.",
          "what are the environmental implications of the reclamation of the water bodies into urban land use? Explain with examples.",
          "Define mantle plume and explain its role in plate tectonics.",
          "Why is the world today confronted with a crisis of availability of and access to freshwater resources?",
          "Most of the unusual climatic happenings are explained as an outcome of the El-Nino effect. Do you agree?",
          "In what way can floods be converted into a sustainable source of irrigation and all-weather inland navigation in India?",
          "India is well endowed with fresh water resources. Critically examine why it still suffers from water scarcity.",
          "Major cities of India are becoming more vulnerable to flood conditions. Discuss.",
          null
         ],
         "marker": {
          "opacity": 0.5,
          "size": 5
         },
         "mode": "markers+text",
         "name": "0_the_of_and",
         "text": [
          "",
          "",
          "",
          "",
          "",
          "",
          "",
          "",
          "",
          "",
          "",
          "",
          "",
          "",
          "",
          "",
          "",
          "",
          "",
          "",
          "",
          "",
          "",
          "",
          "",
          "",
          "",
          "",
          "",
          "",
          "",
          "",
          "",
          "",
          "",
          "",
          "",
          "",
          "",
          "",
          "",
          "",
          "",
          "",
          "",
          "",
          "",
          "",
          "",
          "",
          "",
          "",
          "",
          "",
          "",
          "",
          "",
          "",
          "",
          "",
          "",
          "",
          "0_the_of_and"
         ],
         "textfont": {
          "size": 12
         },
         "type": "scattergl",
         "x": [
          4.6296234130859375,
          4.7524895668029785,
          4.9097466468811035,
          5.963306427001953,
          4.5278801918029785,
          4.1330742835998535,
          5.923107147216797,
          5.735204696655273,
          3.905100107192993,
          5.704085350036621,
          5.529747009277344,
          4.494731426239014,
          4.878829002380371,
          6.1243577003479,
          4.416839122772217,
          4.362508296966553,
          3.9256043434143066,
          4.317019939422607,
          5.803742408752441,
          5.960304260253906,
          5.409508228302002,
          6.3990068435668945,
          4.548316478729248,
          4.931089401245117,
          4.108972549438477,
          4.227533340454102,
          4.987951278686523,
          4.228013038635254,
          4.2213335037231445,
          4.266575336456299,
          4.497600078582764,
          5.955545902252197,
          3.9174458980560303,
          5.8127288818359375,
          4.268983364105225,
          3.821606159210205,
          4.535374164581299,
          4.031185626983643,
          4.67141056060791,
          4.862429618835449,
          4.466363906860352,
          4.7010955810546875,
          5.926109790802002,
          4.63490629196167,
          6.046360492706299,
          4.915924549102783,
          4.171545028686523,
          4.721986770629883,
          5.895267009735107,
          5.969595432281494,
          5.723450183868408,
          4.218466758728027,
          4.788228988647461,
          6.423547267913818,
          4.8343610763549805,
          5.693350791931152,
          4.08453893661499,
          5.80983304977417,
          4.029740810394287,
          5.98260498046875,
          5.824466228485107,
          6.138069152832031,
          4.979028701782227
         ],
         "y": [
          7.1177496910095215,
          7.151217937469482,
          7.2861647605896,
          9.285202026367188,
          7.727702617645264,
          8.01527214050293,
          9.162796020507812,
          8.36154842376709,
          7.994349002838135,
          8.849690437316895,
          8.453718185424805,
          7.220462799072266,
          8.571269035339355,
          9.336688041687012,
          7.218756198883057,
          7.615359783172607,
          8.015700340270996,
          7.102294445037842,
          8.290348052978516,
          9.356646537780762,
          8.861542701721191,
          8.449238777160645,
          8.405634880065918,
          7.167234420776367,
          7.716579437255859,
          7.995086193084717,
          8.139779090881348,
          7.313033580780029,
          7.036349296569824,
          7.4597368240356445,
          8.279521942138672,
          9.368850708007812,
          8.010623931884766,
          8.204155921936035,
          7.3404951095581055,
          7.936811447143555,
          8.399476051330566,
          7.688190460205078,
          8.530340194702148,
          7.2274169921875,
          7.657868385314941,
          7.425900459289551,
          9.138824462890625,
          7.883091449737549,
          8.737857818603516,
          8.655858039855957,
          7.571136474609375,
          7.993957996368408,
          8.155926704406738,
          8.161837577819824,
          9.094164848327637,
          7.3740057945251465,
          7.166667938232422,
          9.067334175109863,
          8.601747512817383,
          9.086262702941895,
          7.32226037979126,
          9.156203269958496,
          8.104087829589844,
          9.333550453186035,
          9.054649353027344,
          9.244119644165039,
          8.15565013885498
         ]
        },
        {
         "hoverinfo": "text",
         "hovertext": [
          "Examine the uniqueness of tribal knowledge system when compared with mainstream knowledge and cultural systems.",
          "“Caste system is assuming new identities and associational forms. Hence, caste system cannot be eradicated in India.”",
          "Given the diversities among the tribal communities in India, in which specific contexts should they be considered as a single category?",
          "How does Indian society maintain continuity in traditional social values? Enumerate the changes taking place in it.",
          "Trace the rise and growth of socio-religious reform movements with special reference to Young Bengal and Brahmo Samaj.",
          "What are the challenges to our cultural practices in the name of secularism?",
          "Sufis and medieval saints failed to modify either the religious ideas and practices or the outward structure of Hindu/ Muslim societies to any appreciable extent. Comment.",
          "Globalisation is generally said to promote cultural homogenisation but due to this cultural specificities appear to be strengthened in the Indian society.’ Elucidate.",
          "Are tolerance, assimilation and pluralism the key elements in the making of an Indian form of secularism? Justify your answer.",
          "Why are the tribals in India referred to as 'the Scheduled Tribes? Indicate the major provisions in the Constitution of India for their upliftment.",
          "Do we have cultural pockets of small India all over the nation? Elaborate with examples.",
          "The ancient civilization in Indian sub continent differed from those of Egypt , Mesopotamia and Greece in that its culture and traditions have been preserved without breakdown to the present day. Comment",
          "Analyze the salience of ‘sect’ in Indian society vis-a-vis caste, region and religion.",
          "Why is caste identity in India both fluid and static?",
          "The spirit of tolerance and love is not only an interesting feature of Indian society from very early times, but it is also playing an important part at the present. Elaborate.",
          "Do you think marriage as a sacrament in loosing its value in Modern India?",
          "What makes the Indian society unique in sustaining its culture? Discuss.",
          "Describe any four cultural elements of diversity in India and rate their relative significance in building a national identity.",
          "Customs and traditions suppress reason leading to obscurantism. Do you agree?",
          "What are the main features of Vedic society and religion? Do you think some of the features are still prevailing in Indian society?",
          "What are the two major legal initiatives by the State since Independence addressing discrimination against Scheduled Tribes(STs)?",
          "Distinguish between religiousness/religiosity and communalism giving one example of how the former has got transformed into the latter in independent India.",
          "To what extent globalization has influenced the core of cultural diversity in India? Explain.",
          "How the Indian concept of secularism different from the western model of secularism?\nDiscuss.",
          "Pala period is the most significant phase in the history of Buddhism in India. Enumerate.",
          "Is diversity and pluralism in India under threat due to globalisation? Justify your answer.",
          "Are we losing our local identity for the global identity? Discuss.",
          "Discuss the impact of post-liberal economy on ethnic identity and communalism.",
          "Debate the issue whether and how contemporary movements for assertion of Dalit identity work towards annihilation of caste.",
          "Has caste lost its relevance in understanding the multi- cultural Indian Society? Elaborate your answer with illustrations.",
          "How do the Indian debates on secularism differ from the debates in the West?",
          "Has the formation of linguistic States strengthened the cause of Indian Unity?",
          null
         ],
         "marker": {
          "opacity": 0.5,
          "size": 5
         },
         "mode": "markers+text",
         "name": "1_in_the_indian",
         "text": [
          "",
          "",
          "",
          "",
          "",
          "",
          "",
          "",
          "",
          "",
          "",
          "",
          "",
          "",
          "",
          "",
          "",
          "",
          "",
          "",
          "",
          "",
          "",
          "",
          "",
          "",
          "",
          "",
          "",
          "",
          "",
          "",
          "1_in_the_indian"
         ],
         "textfont": {
          "size": 12
         },
         "type": "scattergl",
         "x": [
          10.511675834655762,
          10.72207260131836,
          10.34001350402832,
          10.632415771484375,
          11.299346923828125,
          11.412131309509277,
          11.371100425720215,
          10.343067169189453,
          11.322113990783691,
          10.189865112304688,
          10.10287094116211,
          10.536077499389648,
          11.23586654663086,
          10.749921798706055,
          10.992302894592285,
          10.864142417907715,
          10.461576461791992,
          10.498181343078613,
          11.101662635803223,
          11.042950630187988,
          9.944075584411621,
          11.247207641601562,
          10.310548782348633,
          11.4135160446167,
          11.148107528686523,
          10.335074424743652,
          10.415403366088867,
          10.770988464355469,
          10.795857429504395,
          10.640152931213379,
          11.43238353729248,
          10.122637748718262,
          10.759540557861328
         ],
         "y": [
          7.993232727050781,
          8.304156303405762,
          8.08873462677002,
          7.919793128967285,
          7.535801887512207,
          8.03659725189209,
          7.7192063331604,
          8.532856941223145,
          7.906766414642334,
          8.058906555175781,
          8.54743766784668,
          8.026247024536133,
          7.879877090454102,
          8.342737197875977,
          7.606106281280518,
          7.8614501953125,
          7.779803276062012,
          8.460575103759766,
          8.139717102050781,
          7.674642562866211,
          7.951569557189941,
          7.981868267059326,
          8.668159484863281,
          7.999216556549072,
          7.444558143615723,
          8.646783828735352,
          8.467032432556152,
          8.818042755126953,
          8.337607383728027,
          8.131179809570312,
          8.021913528442383,
          8.274136543273926,
          8.098647117614746
         ]
        },
        {
         "hoverinfo": "text",
         "hovertext": [
          "What are the main socio-economic implications arising out of the development of IT industries in major cities of India?",
          "Despite India being one of the countries of the Gondwanaland, its mining industry contributes much less to its Gross Domestic Product(GDP) in percentage. Discuss.",
          "From being net food importer in 1960s, India has emerged as a net food exporter to the world. Provide reasons.",
          "With a brief background of quality of urban life in India, introduce the objectives and strategy of the 'Smart City Programme'.",
          "Mention the advantages of the cultivation of pulses because of which the year 2016 was declared as the International Year of Pulses by United Nations.",
          "Analyze the factors for the highly decentralized cotton textile industry in India.",
          "How is the growth of Tier 2 cities related to the rise of a new middle class with an emphasis on the culture of consumption?",
          "What is Cryptocurrency? How does it affect global society? Has it been affecting Indian society also?",
          "How is efficient and affordable urban mass transport key to the rapid economic development in India?",
          "Do you agree that there is a growing trend of opening new sugar mills in southern states of India? Discuss with justification.",
          "Mention core strategies for the transformation of aspirational districts in India and explain the nature of convergence, collaboration and competition for its success.",
          "Account for the present location of iron and steel industries away from the source of raw material, by giving examples.",
          "Smart cities in India cannot sustain without smart vilages. Discuss this statement in the backdrop of rural urban integration.",
          "Can the strategy of regional resource-based manufacturing help in promoting employment in India?",
          "Bring out the socio-economic effects of the introduction of railways in different countries of the world",
          "Discuss the changes in the trends of labour migration within and outside India in the last four decades.",
          "“The growth of cities as I.T. hubs has opened up new avenues of employment, but has also created new problems”. Substantiate this statement with examples",
          "How have digital initiatives in India contributed to the functioning of the education system in the country? Elaborate your answer.",
          "What is the significance of Industrial Corridors in India? Identifying industrial corridors, explain their main characteristics.",
          "Account for the change in the spatial pattern of the Iron and Steel industry in the world.",
          "Elucidate the relationship between globalization and new technology in a world of scarce resources, with special reference to India.",
          "To what extent has the urban planning and culture of the Indus Valley Civilization provided inputs to the present day urbanization?\nDiscuss.",
          "Why did human development fail to keep pace with economic development in India?",
          "Does urbanization lead to more segregation and/or marginalization of the poor in Indian metropolises?",
          "Discuss the various social problems which originated out of the speedy process of urbanization in India.",
          "Discuss the main objectives of Population Education and point out the measures to achieve them in India in detail.",
          "Discuss the factors for localisation of agro-based food processing industries of North-West India.",
          "How does India see its place in the economic space of rising natural resources rich Africa?",
          null
         ],
         "marker": {
          "opacity": 0.5,
          "size": 5
         },
         "mode": "markers+text",
         "name": "2_of_the_in",
         "text": [
          "",
          "",
          "",
          "",
          "",
          "",
          "",
          "",
          "",
          "",
          "",
          "",
          "",
          "",
          "",
          "",
          "",
          "",
          "",
          "",
          "",
          "",
          "",
          "",
          "",
          "",
          "",
          "",
          "2_of_the_in"
         ],
         "textfont": {
          "size": 12
         },
         "type": "scattergl",
         "x": [
          7.944314002990723,
          7.070399761199951,
          7.613590717315674,
          7.2183756828308105,
          8.04234504699707,
          7.635714530944824,
          8.086976051330566,
          8.188279151916504,
          7.877250671386719,
          7.59732723236084,
          8.430916786193848,
          7.248472213745117,
          7.341179370880127,
          7.747213840484619,
          7.88739538192749,
          8.91349983215332,
          8.040407180786133,
          8.4512357711792,
          8.207087516784668,
          7.31163215637207,
          7.558732986450195,
          8.389522552490234,
          8.572364807128906,
          8.43460464477539,
          8.537491798400879,
          8.600204467773438,
          7.620998382568359,
          6.8060221672058105,
          7.906198024749756
         ],
         "y": [
          8.748132705688477,
          8.340972900390625,
          8.387301445007324,
          9.287768363952637,
          8.160501480102539,
          8.459268569946289,
          8.741086959838867,
          9.087152481079102,
          8.986021041870117,
          8.363834381103516,
          8.68319034576416,
          8.120270729064941,
          9.237289428710938,
          8.46233081817627,
          9.090058326721191,
          8.864352226257324,
          8.778600692749023,
          9.191478729248047,
          8.641104698181152,
          8.083860397338867,
          8.204501152038574,
          8.604591369628906,
          8.890973091125488,
          8.887223243713379,
          8.831165313720703,
          9.336954116821289,
          8.39630126953125,
          8.189560890197754,
          8.680566787719727
         ]
        },
        {
         "hoverinfo": "text",
         "hovertext": [
          "Discuss the contributions of MaulanaAbulKalam Azad to pre- and post-independent India.",
          "To what extend can Germany be held responsible for causing the two World Wars? Discuss critically.",
          "” There arose a serious challenge to the Democratic State System between the two World Wars.” Evaluate the statement.",
          "Highlight the importance of the new objectives that got added to the vision of Indian Independence since the twenties of the last century.",
          "Assess the role of British imperial power in complicating the process of transfer of power during the 1940s.",
          "Whereas the British planters had developed tea gardens all along the Shivaliks and Lesser Himalayas from Assam to Himachal Pradesh, in effect they did not succeed beyond the Darjeeling area. Explain.",
          "What were the major political, economic and social developments in the world which motivated the anti-colonial in India?",
          "Since the decade of the 1920s, the national movement acquired various ideological strands and thereby expanded its social base. Discuss.",
          "Why indentured labour was taken by the British from India to their colonies? have they been able to preserve their cultural identity over there?",
          "Analyze the circumstances that led to the Tashkent Agreement in 1966. Discuss the highlights of the Agreement.",
          "What were the events that led to the Suez Crisis in 1956? How did it deal a final blow to Britain’s self-image as a world power?",
          "Why was there a sudden spurt in famines in colonial India since the mid-eighteenth century? Give reasons.",
          "In what ways did the navel mutiny prove to be the last nail in the coffin of British colonial aspirations in India?",
          "Explain how the Uprising of 1857 constitutes an important watershed in the evolution of British policies towards colonial India.",
          "What policy instruments were deployed to contain the Great Economic Depression?",
          "Examine critically the various facets of economic policies of the British in India from mid-eighteenth century till independence.",
          "“American Revolution was an economic revolt against mercantilism.” Substantiate.",
          "Examine how the decline of traditional artisanal industry in colonial India crippled the rural economy.",
          "The New Economic Policy – 1921 of Lenin had influenced the policies adopted by India soon after independence. Evaluate.",
          "The anti-colonial struggles in West Africa were led by the new elite of Western-educated Africans.",
          "Clarify how mid-eighteenth century India was beset with the spectre of a fragmented polity.",
          "What problems are germane to the decolonization process in the Malay Peninsula?",
          "The 1857 uprising was the culmination of the recurrent, big and small local rebellions that had occurred in the preceding hundred years of British rule. Elucidate.",
          "Why did the armies of the British East India Company – mostly comprising of Indian soldiers – win consistently against the more numerous and better equipped armies of the Indian rulers? Give reasons.",
          "The third battle of Panipat was fought in 1761. Why were so many empire-shaking battles fought at Panipat?",
          "“Africa was chopped into states artificially created by accidents of European competition.” Analyze.",
          "Explain how the foundations of the modern world were laid by the American and French Revolutions.",
          null
         ],
         "marker": {
          "opacity": 0.5,
          "size": 5
         },
         "mode": "markers+text",
         "name": "3_the_british_of",
         "text": [
          "",
          "",
          "",
          "",
          "",
          "",
          "",
          "",
          "",
          "",
          "",
          "",
          "",
          "",
          "",
          "",
          "",
          "",
          "",
          "",
          "",
          "",
          "",
          "",
          "",
          "",
          "",
          "3_the_british_of"
         ],
         "textfont": {
          "size": 12
         },
         "type": "scattergl",
         "x": [
          9.868658065795898,
          8.345661163330078,
          8.376941680908203,
          9.909564971923828,
          8.640451431274414,
          8.8094482421875,
          9.2291841506958,
          9.020821571350098,
          9.265028953552246,
          8.370853424072266,
          8.467825889587402,
          8.940923690795898,
          9.23900318145752,
          9.17261791229248,
          8.789284706115723,
          9.079656600952148,
          8.641105651855469,
          8.939825057983398,
          8.988472938537598,
          8.601866722106934,
          9.395842552185059,
          8.278258323669434,
          9.123465538024902,
          9.168959617614746,
          9.328093528747559,
          8.362009048461914,
          8.653864860534668,
          8.9262113571167
         ],
         "y": [
          7.118157386779785,
          6.733736991882324,
          6.665381908416748,
          7.133253574371338,
          7.151110649108887,
          7.675243854522705,
          7.579123020172119,
          6.579547882080078,
          7.380039215087891,
          6.623326301574707,
          7.137666702270508,
          7.850674152374268,
          7.392373561859131,
          7.345676422119141,
          6.685031890869141,
          7.2082109451293945,
          6.5542402267456055,
          7.892606735229492,
          6.8023481369018555,
          6.606186866760254,
          7.0814738273620605,
          6.996246337890625,
          7.219873428344727,
          7.415733337402344,
          7.245983123779297,
          6.688405990600586,
          6.499505996704102,
          7.083746910095215
         ]
        },
        {
         "hoverinfo": "text",
         "hovertext": [
          "How do you justify the view that the level of excellence of the Gupta numismatic art is not at all noticeable in later times?",
          "Highlight the Central Asian and Greco Bactrian elements in the Gandhara art.",
          "Discuss the ‘Tandava’ dance as recorded in early Indian inscriptions.",
          "Gandhara sculpture owed as much to the Romans as to the Greeks. Explain.",
          "Discuss the main contributions of Gupta period and Chola period to Indian heritage and culture\n.",
          "Discuss the significance of the lion and bull figures in Indian mythology, art and architecture.",
          "Safeguarding the Indian art heritage is the need of the moment.",
          "Evaluate the nature of the Bhakti Literature and its contribution to Indian culture.",
          "Early Buddhist Stupa-art, while depicting folk motifs and narratives successfully expounds Buddhist ideals. Elucidate.",
          "Chola architecture represents a high watermark in the evolution of temple architecture. Discuss",
          "Persian literary sources of medieval India reflect the spirit of the age. Comment.",
          "Mesolithic rock cut architecture of India not only reflects the cultural life of the times but also a fine aesthetic sense comparable to modern painting. Critically evaluate this comment.",
          "The rock-cut architecture represents one of the most important sources of our knowledge of early Indian art and history. Discuss.",
          "Krishnadeva Raya, the King of Vijayanagar, was not only an accomplished scholar himself but was also a great patron of learning and literature. Discuss.",
          "How will you explain the medieval Indian temple sculptures represent the social life of those days?",
          "“In many ways, Lord Dalhousie was the founder of modern India.” Elaborate.",
          "Taxila university was one of the oldest universities of the world with which were associated a number of renowned learned personalities of different disciplines. Its strategic location caused its fame to flourish, but unlike Nalanda, it is not considered as a university in the modern sense. Discuss.",
          "Indian Philosophy and tradition played a significant role in conceiving and shaping the monuments and their art in India. Discuss.",
          null
         ],
         "marker": {
          "opacity": 0.5,
          "size": 5
         },
         "mode": "markers+text",
         "name": "4_the_art_of",
         "text": [
          "",
          "",
          "",
          "",
          "",
          "",
          "",
          "",
          "",
          "",
          "",
          "",
          "",
          "",
          "",
          "",
          "",
          "",
          "4_the_art_of"
         ],
         "textfont": {
          "size": 12
         },
         "type": "scattergl",
         "x": [
          12.058886528015137,
          12.067254066467285,
          11.969210624694824,
          12.066203117370605,
          11.940842628479004,
          12.158163070678711,
          12.163537979125977,
          11.416523933410645,
          12.046374320983887,
          12.096295356750488,
          11.711222648620605,
          12.186367988586426,
          12.17780876159668,
          11.626660346984863,
          12.103434562683105,
          11.409627914428711,
          11.649171829223633,
          11.855204582214355,
          11.927932739257812
         ],
         "y": [
          6.598177909851074,
          6.301033973693848,
          6.302430629730225,
          6.25628137588501,
          6.751954555511475,
          6.349320888519287,
          6.430317401885986,
          7.051463603973389,
          6.3016276359558105,
          6.377744674682617,
          6.435589790344238,
          6.2782769203186035,
          6.328516960144043,
          6.495427131652832,
          6.384620189666748,
          6.457547664642334,
          6.739120960235596,
          6.259768962860107,
          6.44995641708374
         ]
        },
        {
         "hoverinfo": "text",
         "hovertext": [
          "Examine the role of ‘Gig Economy’ in the process of empowerment of women in India.",
          "The women’s questions arose in modern India as a part of the 19th century social reform movement. What are the major issues and debates concerning women in that period?",
          "Discuss the role of women in the freedom struggle especially during the Gandhian phase.",
          "How do you explain the statistics that show that the sex ratio in Tribes in India is more favourable to women than the sex ratio among Scheduled Castes?",
          "What are the continued challenges for women in India against time and space?",
          "Discuss the various economic and\nsocio-cultural forces that are driving increasing feminization of agriculture in India.",
          "Discuss the positive and negative effects of globalization on women in India?",
          "Defying the barriers of age, gender and religion, the Indian women became the torchbearer during the struggle for freedom in India. Discuss.",
          "“Empowering women is the key to control population growth.” Discuss.",
          "Explain why suicide among young women is increasing in Indian Society.",
          "‘Women’s movement in India has not addressed the issues of women of lower social strata.’ Substantiate your view.",
          "How does patriarchy impact the position of a middle class working woman in India?",
          "“Male membership needs to be encouraged in order to make women’s organization free from gender bias.” Comment.",
          "Why do some of the most prosperous regions of India have an adverse sex ratio for women? Give your arguments.",
          null
         ],
         "marker": {
          "opacity": 0.5,
          "size": 5
         },
         "mode": "markers+text",
         "name": "5_women_in_the",
         "text": [
          "",
          "",
          "",
          "",
          "",
          "",
          "",
          "",
          "",
          "",
          "",
          "",
          "",
          "",
          "5_women_in_the"
         ],
         "textfont": {
          "size": 12
         },
         "type": "scattergl",
         "x": [
          9.928956985473633,
          10.064172744750977,
          10.247518539428711,
          9.74888801574707,
          10.003728866577148,
          9.481383323669434,
          9.790682792663574,
          10.198811531066895,
          9.509810447692871,
          9.800573348999023,
          10.036211967468262,
          9.905017852783203,
          9.870872497558594,
          9.754600524902344,
          9.88151741027832
         ],
         "y": [
          9.938983917236328,
          10.01726245880127,
          9.854962348937988,
          9.77259635925293,
          9.933669090270996,
          9.69471549987793,
          9.653505325317383,
          9.894904136657715,
          9.87086009979248,
          9.772200584411621,
          9.968951225280762,
          9.926761627197266,
          9.949353218078613,
          9.805413246154785,
          9.86100959777832
         ]
        }
       ],
       "layout": {
        "annotations": [
         {
          "showarrow": false,
          "text": "D1",
          "x": 3.2483652353286745,
          "y": 8.374232649803162,
          "yshift": 10
         },
         {
          "showarrow": false,
          "text": "D2",
          "x": 8.631344211101531,
          "xshift": 10,
          "y": 11.51985182762146
         }
        ],
        "height": 750,
        "shapes": [
         {
          "line": {
           "color": "#CFD8DC",
           "width": 2
          },
          "type": "line",
          "x0": 8.631344211101531,
          "x1": 8.631344211101531,
          "y0": 5.228613471984863,
          "y1": 11.51985182762146
         },
         {
          "line": {
           "color": "#9E9E9E",
           "width": 2
          },
          "type": "line",
          "x0": 3.2483652353286745,
          "x1": 14.014323186874389,
          "y0": 8.374232649803162,
          "y1": 8.374232649803162
         }
        ],
        "template": {
         "data": {
          "bar": [
           {
            "error_x": {
             "color": "rgb(36,36,36)"
            },
            "error_y": {
             "color": "rgb(36,36,36)"
            },
            "marker": {
             "line": {
              "color": "white",
              "width": 0.5
             },
             "pattern": {
              "fillmode": "overlay",
              "size": 10,
              "solidity": 0.2
             }
            },
            "type": "bar"
           }
          ],
          "barpolar": [
           {
            "marker": {
             "line": {
              "color": "white",
              "width": 0.5
             },
             "pattern": {
              "fillmode": "overlay",
              "size": 10,
              "solidity": 0.2
             }
            },
            "type": "barpolar"
           }
          ],
          "carpet": [
           {
            "aaxis": {
             "endlinecolor": "rgb(36,36,36)",
             "gridcolor": "white",
             "linecolor": "white",
             "minorgridcolor": "white",
             "startlinecolor": "rgb(36,36,36)"
            },
            "baxis": {
             "endlinecolor": "rgb(36,36,36)",
             "gridcolor": "white",
             "linecolor": "white",
             "minorgridcolor": "white",
             "startlinecolor": "rgb(36,36,36)"
            },
            "type": "carpet"
           }
          ],
          "choropleth": [
           {
            "colorbar": {
             "outlinewidth": 1,
             "tickcolor": "rgb(36,36,36)",
             "ticks": "outside"
            },
            "type": "choropleth"
           }
          ],
          "contour": [
           {
            "colorbar": {
             "outlinewidth": 1,
             "tickcolor": "rgb(36,36,36)",
             "ticks": "outside"
            },
            "colorscale": [
             [
              0,
              "#440154"
             ],
             [
              0.1111111111111111,
              "#482878"
             ],
             [
              0.2222222222222222,
              "#3e4989"
             ],
             [
              0.3333333333333333,
              "#31688e"
             ],
             [
              0.4444444444444444,
              "#26828e"
             ],
             [
              0.5555555555555556,
              "#1f9e89"
             ],
             [
              0.6666666666666666,
              "#35b779"
             ],
             [
              0.7777777777777778,
              "#6ece58"
             ],
             [
              0.8888888888888888,
              "#b5de2b"
             ],
             [
              1,
              "#fde725"
             ]
            ],
            "type": "contour"
           }
          ],
          "contourcarpet": [
           {
            "colorbar": {
             "outlinewidth": 1,
             "tickcolor": "rgb(36,36,36)",
             "ticks": "outside"
            },
            "type": "contourcarpet"
           }
          ],
          "heatmap": [
           {
            "colorbar": {
             "outlinewidth": 1,
             "tickcolor": "rgb(36,36,36)",
             "ticks": "outside"
            },
            "colorscale": [
             [
              0,
              "#440154"
             ],
             [
              0.1111111111111111,
              "#482878"
             ],
             [
              0.2222222222222222,
              "#3e4989"
             ],
             [
              0.3333333333333333,
              "#31688e"
             ],
             [
              0.4444444444444444,
              "#26828e"
             ],
             [
              0.5555555555555556,
              "#1f9e89"
             ],
             [
              0.6666666666666666,
              "#35b779"
             ],
             [
              0.7777777777777778,
              "#6ece58"
             ],
             [
              0.8888888888888888,
              "#b5de2b"
             ],
             [
              1,
              "#fde725"
             ]
            ],
            "type": "heatmap"
           }
          ],
          "heatmapgl": [
           {
            "colorbar": {
             "outlinewidth": 1,
             "tickcolor": "rgb(36,36,36)",
             "ticks": "outside"
            },
            "colorscale": [
             [
              0,
              "#440154"
             ],
             [
              0.1111111111111111,
              "#482878"
             ],
             [
              0.2222222222222222,
              "#3e4989"
             ],
             [
              0.3333333333333333,
              "#31688e"
             ],
             [
              0.4444444444444444,
              "#26828e"
             ],
             [
              0.5555555555555556,
              "#1f9e89"
             ],
             [
              0.6666666666666666,
              "#35b779"
             ],
             [
              0.7777777777777778,
              "#6ece58"
             ],
             [
              0.8888888888888888,
              "#b5de2b"
             ],
             [
              1,
              "#fde725"
             ]
            ],
            "type": "heatmapgl"
           }
          ],
          "histogram": [
           {
            "marker": {
             "line": {
              "color": "white",
              "width": 0.6
             }
            },
            "type": "histogram"
           }
          ],
          "histogram2d": [
           {
            "colorbar": {
             "outlinewidth": 1,
             "tickcolor": "rgb(36,36,36)",
             "ticks": "outside"
            },
            "colorscale": [
             [
              0,
              "#440154"
             ],
             [
              0.1111111111111111,
              "#482878"
             ],
             [
              0.2222222222222222,
              "#3e4989"
             ],
             [
              0.3333333333333333,
              "#31688e"
             ],
             [
              0.4444444444444444,
              "#26828e"
             ],
             [
              0.5555555555555556,
              "#1f9e89"
             ],
             [
              0.6666666666666666,
              "#35b779"
             ],
             [
              0.7777777777777778,
              "#6ece58"
             ],
             [
              0.8888888888888888,
              "#b5de2b"
             ],
             [
              1,
              "#fde725"
             ]
            ],
            "type": "histogram2d"
           }
          ],
          "histogram2dcontour": [
           {
            "colorbar": {
             "outlinewidth": 1,
             "tickcolor": "rgb(36,36,36)",
             "ticks": "outside"
            },
            "colorscale": [
             [
              0,
              "#440154"
             ],
             [
              0.1111111111111111,
              "#482878"
             ],
             [
              0.2222222222222222,
              "#3e4989"
             ],
             [
              0.3333333333333333,
              "#31688e"
             ],
             [
              0.4444444444444444,
              "#26828e"
             ],
             [
              0.5555555555555556,
              "#1f9e89"
             ],
             [
              0.6666666666666666,
              "#35b779"
             ],
             [
              0.7777777777777778,
              "#6ece58"
             ],
             [
              0.8888888888888888,
              "#b5de2b"
             ],
             [
              1,
              "#fde725"
             ]
            ],
            "type": "histogram2dcontour"
           }
          ],
          "mesh3d": [
           {
            "colorbar": {
             "outlinewidth": 1,
             "tickcolor": "rgb(36,36,36)",
             "ticks": "outside"
            },
            "type": "mesh3d"
           }
          ],
          "parcoords": [
           {
            "line": {
             "colorbar": {
              "outlinewidth": 1,
              "tickcolor": "rgb(36,36,36)",
              "ticks": "outside"
             }
            },
            "type": "parcoords"
           }
          ],
          "pie": [
           {
            "automargin": true,
            "type": "pie"
           }
          ],
          "scatter": [
           {
            "fillpattern": {
             "fillmode": "overlay",
             "size": 10,
             "solidity": 0.2
            },
            "type": "scatter"
           }
          ],
          "scatter3d": [
           {
            "line": {
             "colorbar": {
              "outlinewidth": 1,
              "tickcolor": "rgb(36,36,36)",
              "ticks": "outside"
             }
            },
            "marker": {
             "colorbar": {
              "outlinewidth": 1,
              "tickcolor": "rgb(36,36,36)",
              "ticks": "outside"
             }
            },
            "type": "scatter3d"
           }
          ],
          "scattercarpet": [
           {
            "marker": {
             "colorbar": {
              "outlinewidth": 1,
              "tickcolor": "rgb(36,36,36)",
              "ticks": "outside"
             }
            },
            "type": "scattercarpet"
           }
          ],
          "scattergeo": [
           {
            "marker": {
             "colorbar": {
              "outlinewidth": 1,
              "tickcolor": "rgb(36,36,36)",
              "ticks": "outside"
             }
            },
            "type": "scattergeo"
           }
          ],
          "scattergl": [
           {
            "marker": {
             "colorbar": {
              "outlinewidth": 1,
              "tickcolor": "rgb(36,36,36)",
              "ticks": "outside"
             }
            },
            "type": "scattergl"
           }
          ],
          "scattermapbox": [
           {
            "marker": {
             "colorbar": {
              "outlinewidth": 1,
              "tickcolor": "rgb(36,36,36)",
              "ticks": "outside"
             }
            },
            "type": "scattermapbox"
           }
          ],
          "scatterpolar": [
           {
            "marker": {
             "colorbar": {
              "outlinewidth": 1,
              "tickcolor": "rgb(36,36,36)",
              "ticks": "outside"
             }
            },
            "type": "scatterpolar"
           }
          ],
          "scatterpolargl": [
           {
            "marker": {
             "colorbar": {
              "outlinewidth": 1,
              "tickcolor": "rgb(36,36,36)",
              "ticks": "outside"
             }
            },
            "type": "scatterpolargl"
           }
          ],
          "scatterternary": [
           {
            "marker": {
             "colorbar": {
              "outlinewidth": 1,
              "tickcolor": "rgb(36,36,36)",
              "ticks": "outside"
             }
            },
            "type": "scatterternary"
           }
          ],
          "surface": [
           {
            "colorbar": {
             "outlinewidth": 1,
             "tickcolor": "rgb(36,36,36)",
             "ticks": "outside"
            },
            "colorscale": [
             [
              0,
              "#440154"
             ],
             [
              0.1111111111111111,
              "#482878"
             ],
             [
              0.2222222222222222,
              "#3e4989"
             ],
             [
              0.3333333333333333,
              "#31688e"
             ],
             [
              0.4444444444444444,
              "#26828e"
             ],
             [
              0.5555555555555556,
              "#1f9e89"
             ],
             [
              0.6666666666666666,
              "#35b779"
             ],
             [
              0.7777777777777778,
              "#6ece58"
             ],
             [
              0.8888888888888888,
              "#b5de2b"
             ],
             [
              1,
              "#fde725"
             ]
            ],
            "type": "surface"
           }
          ],
          "table": [
           {
            "cells": {
             "fill": {
              "color": "rgb(237,237,237)"
             },
             "line": {
              "color": "white"
             }
            },
            "header": {
             "fill": {
              "color": "rgb(217,217,217)"
             },
             "line": {
              "color": "white"
             }
            },
            "type": "table"
           }
          ]
         },
         "layout": {
          "annotationdefaults": {
           "arrowhead": 0,
           "arrowwidth": 1
          },
          "autotypenumbers": "strict",
          "coloraxis": {
           "colorbar": {
            "outlinewidth": 1,
            "tickcolor": "rgb(36,36,36)",
            "ticks": "outside"
           }
          },
          "colorscale": {
           "diverging": [
            [
             0,
             "rgb(103,0,31)"
            ],
            [
             0.1,
             "rgb(178,24,43)"
            ],
            [
             0.2,
             "rgb(214,96,77)"
            ],
            [
             0.3,
             "rgb(244,165,130)"
            ],
            [
             0.4,
             "rgb(253,219,199)"
            ],
            [
             0.5,
             "rgb(247,247,247)"
            ],
            [
             0.6,
             "rgb(209,229,240)"
            ],
            [
             0.7,
             "rgb(146,197,222)"
            ],
            [
             0.8,
             "rgb(67,147,195)"
            ],
            [
             0.9,
             "rgb(33,102,172)"
            ],
            [
             1,
             "rgb(5,48,97)"
            ]
           ],
           "sequential": [
            [
             0,
             "#440154"
            ],
            [
             0.1111111111111111,
             "#482878"
            ],
            [
             0.2222222222222222,
             "#3e4989"
            ],
            [
             0.3333333333333333,
             "#31688e"
            ],
            [
             0.4444444444444444,
             "#26828e"
            ],
            [
             0.5555555555555556,
             "#1f9e89"
            ],
            [
             0.6666666666666666,
             "#35b779"
            ],
            [
             0.7777777777777778,
             "#6ece58"
            ],
            [
             0.8888888888888888,
             "#b5de2b"
            ],
            [
             1,
             "#fde725"
            ]
           ],
           "sequentialminus": [
            [
             0,
             "#440154"
            ],
            [
             0.1111111111111111,
             "#482878"
            ],
            [
             0.2222222222222222,
             "#3e4989"
            ],
            [
             0.3333333333333333,
             "#31688e"
            ],
            [
             0.4444444444444444,
             "#26828e"
            ],
            [
             0.5555555555555556,
             "#1f9e89"
            ],
            [
             0.6666666666666666,
             "#35b779"
            ],
            [
             0.7777777777777778,
             "#6ece58"
            ],
            [
             0.8888888888888888,
             "#b5de2b"
            ],
            [
             1,
             "#fde725"
            ]
           ]
          },
          "colorway": [
           "#1F77B4",
           "#FF7F0E",
           "#2CA02C",
           "#D62728",
           "#9467BD",
           "#8C564B",
           "#E377C2",
           "#7F7F7F",
           "#BCBD22",
           "#17BECF"
          ],
          "font": {
           "color": "rgb(36,36,36)"
          },
          "geo": {
           "bgcolor": "white",
           "lakecolor": "white",
           "landcolor": "white",
           "showlakes": true,
           "showland": true,
           "subunitcolor": "white"
          },
          "hoverlabel": {
           "align": "left"
          },
          "hovermode": "closest",
          "mapbox": {
           "style": "light"
          },
          "paper_bgcolor": "white",
          "plot_bgcolor": "white",
          "polar": {
           "angularaxis": {
            "gridcolor": "rgb(232,232,232)",
            "linecolor": "rgb(36,36,36)",
            "showgrid": false,
            "showline": true,
            "ticks": "outside"
           },
           "bgcolor": "white",
           "radialaxis": {
            "gridcolor": "rgb(232,232,232)",
            "linecolor": "rgb(36,36,36)",
            "showgrid": false,
            "showline": true,
            "ticks": "outside"
           }
          },
          "scene": {
           "xaxis": {
            "backgroundcolor": "white",
            "gridcolor": "rgb(232,232,232)",
            "gridwidth": 2,
            "linecolor": "rgb(36,36,36)",
            "showbackground": true,
            "showgrid": false,
            "showline": true,
            "ticks": "outside",
            "zeroline": false,
            "zerolinecolor": "rgb(36,36,36)"
           },
           "yaxis": {
            "backgroundcolor": "white",
            "gridcolor": "rgb(232,232,232)",
            "gridwidth": 2,
            "linecolor": "rgb(36,36,36)",
            "showbackground": true,
            "showgrid": false,
            "showline": true,
            "ticks": "outside",
            "zeroline": false,
            "zerolinecolor": "rgb(36,36,36)"
           },
           "zaxis": {
            "backgroundcolor": "white",
            "gridcolor": "rgb(232,232,232)",
            "gridwidth": 2,
            "linecolor": "rgb(36,36,36)",
            "showbackground": true,
            "showgrid": false,
            "showline": true,
            "ticks": "outside",
            "zeroline": false,
            "zerolinecolor": "rgb(36,36,36)"
           }
          },
          "shapedefaults": {
           "fillcolor": "black",
           "line": {
            "width": 0
           },
           "opacity": 0.3
          },
          "ternary": {
           "aaxis": {
            "gridcolor": "rgb(232,232,232)",
            "linecolor": "rgb(36,36,36)",
            "showgrid": false,
            "showline": true,
            "ticks": "outside"
           },
           "baxis": {
            "gridcolor": "rgb(232,232,232)",
            "linecolor": "rgb(36,36,36)",
            "showgrid": false,
            "showline": true,
            "ticks": "outside"
           },
           "bgcolor": "white",
           "caxis": {
            "gridcolor": "rgb(232,232,232)",
            "linecolor": "rgb(36,36,36)",
            "showgrid": false,
            "showline": true,
            "ticks": "outside"
           }
          },
          "title": {
           "x": 0.05
          },
          "xaxis": {
           "automargin": true,
           "gridcolor": "rgb(232,232,232)",
           "linecolor": "rgb(36,36,36)",
           "showgrid": false,
           "showline": true,
           "ticks": "outside",
           "title": {
            "standoff": 15
           },
           "zeroline": false,
           "zerolinecolor": "rgb(36,36,36)"
          },
          "yaxis": {
           "automargin": true,
           "gridcolor": "rgb(232,232,232)",
           "linecolor": "rgb(36,36,36)",
           "showgrid": false,
           "showline": true,
           "ticks": "outside",
           "title": {
            "standoff": 15
           },
           "zeroline": false,
           "zerolinecolor": "rgb(36,36,36)"
          }
         }
        },
        "title": {
         "font": {
          "color": "Black",
          "size": 22
         },
         "text": "<b>Documents and Topics</b>",
         "x": 0.5,
         "xanchor": "center",
         "yanchor": "top"
        },
        "width": 1200,
        "xaxis": {
         "visible": false
        },
        "yaxis": {
         "visible": false
        }
       }
      }
     },
     "metadata": {},
     "output_type": "display_data"
    }
   ],
   "source": [
    "model.visualize_documents(questions)"
   ]
  },
  {
   "cell_type": "code",
   "execution_count": 10,
   "metadata": {},
   "outputs": [],
   "source": [
    "#USING DIFFERENT WORD EMBEDDINGS\n",
    "#USING SENTENCE TRANSFORMER\n",
    "\"\"\"\n",
    "    The all-mpnet-base-v2 model provides superior accuracy and a deeper understanding of the context and nuances in the text.\n",
    "    Given the manageable size of your dataset (200-300 questions), \n",
    "    the additional computational resources required by this model are justified by the improved performance and precision.  \n",
    "    Recommendation : huggingface transformer model sentence-transformers/stsb-roberta-large is best for this with best accuracy as far as i could find,\n",
    "    but requires so much computation my little laptop cannot handle.\n",
    "    even this model all-mpnet-base-v2 is heavy but i can manage it. like it takes 4-5 minutes to run the model.  \n",
    "\"\"\"\n",
    "sentence_model = SentenceTransformer('all-mpnet-base-v2')"
   ]
  },
  {
   "cell_type": "code",
   "execution_count": 11,
   "metadata": {},
   "outputs": [],
   "source": [
    "model  = BERTopic(embedding_model=sentence_model)\n",
    "topics, probs = model.fit_transform(questions)"
   ]
  },
  {
   "cell_type": "code",
   "execution_count": 12,
   "metadata": {},
   "outputs": [
    {
     "data": {
      "text/html": [
       "<div>\n",
       "<style scoped>\n",
       "    .dataframe tbody tr th:only-of-type {\n",
       "        vertical-align: middle;\n",
       "    }\n",
       "\n",
       "    .dataframe tbody tr th {\n",
       "        vertical-align: top;\n",
       "    }\n",
       "\n",
       "    .dataframe thead th {\n",
       "        text-align: right;\n",
       "    }\n",
       "</style>\n",
       "<table border=\"1\" class=\"dataframe\">\n",
       "  <thead>\n",
       "    <tr style=\"text-align: right;\">\n",
       "      <th></th>\n",
       "      <th>Topic</th>\n",
       "      <th>Count</th>\n",
       "      <th>Name</th>\n",
       "      <th>Representation</th>\n",
       "      <th>Representative_Docs</th>\n",
       "    </tr>\n",
       "  </thead>\n",
       "  <tbody>\n",
       "    <tr>\n",
       "      <th>0</th>\n",
       "      <td>-1</td>\n",
       "      <td>48</td>\n",
       "      <td>-1_the_of_in_india</td>\n",
       "      <td>[the, of, in, india, to, and, discuss, what, f...</td>\n",
       "      <td>[The women’s questions arose in modern India a...</td>\n",
       "    </tr>\n",
       "    <tr>\n",
       "      <th>1</th>\n",
       "      <td>0</td>\n",
       "      <td>64</td>\n",
       "      <td>0_the_of_and_in</td>\n",
       "      <td>[the, of, and, in, water, how, on, are, why, i...</td>\n",
       "      <td>[What do you understand by the phenomenon of ‘...</td>\n",
       "    </tr>\n",
       "    <tr>\n",
       "      <th>2</th>\n",
       "      <td>1</td>\n",
       "      <td>37</td>\n",
       "      <td>1_the_of_and_to</td>\n",
       "      <td>[the, of, and, to, in, british, india, their, ...</td>\n",
       "      <td>[How did the colonial rule affect the tribals ...</td>\n",
       "    </tr>\n",
       "    <tr>\n",
       "      <th>3</th>\n",
       "      <td>2</td>\n",
       "      <td>36</td>\n",
       "      <td>2_in_of_the_india</td>\n",
       "      <td>[in, of, the, india, is, women, to, poverty, a...</td>\n",
       "      <td>[How do you explain the statistics that show t...</td>\n",
       "    </tr>\n",
       "    <tr>\n",
       "      <th>4</th>\n",
       "      <td>3</td>\n",
       "      <td>24</td>\n",
       "      <td>3_in_the_cultural_society</td>\n",
       "      <td>[in, the, cultural, society, indian, secularis...</td>\n",
       "      <td>[In the context of the diversity of India, can...</td>\n",
       "    </tr>\n",
       "    <tr>\n",
       "      <th>5</th>\n",
       "      <td>4</td>\n",
       "      <td>16</td>\n",
       "      <td>4_art_the_architecture_of</td>\n",
       "      <td>[art, the, architecture, of, indian, and, in, ...</td>\n",
       "      <td>[Mesolithic rock cut architecture of India not...</td>\n",
       "    </tr>\n",
       "    <tr>\n",
       "      <th>6</th>\n",
       "      <td>5</td>\n",
       "      <td>10</td>\n",
       "      <td>5_energy_of_the_for</td>\n",
       "      <td>[energy, of, the, for, in, oil, its, discuss, ...</td>\n",
       "      <td>[Account for the change in the spatial pattern...</td>\n",
       "    </tr>\n",
       "  </tbody>\n",
       "</table>\n",
       "</div>"
      ],
      "text/plain": [
       "   Topic  Count                       Name  \\\n",
       "0     -1     48         -1_the_of_in_india   \n",
       "1      0     64            0_the_of_and_in   \n",
       "2      1     37            1_the_of_and_to   \n",
       "3      2     36          2_in_of_the_india   \n",
       "4      3     24  3_in_the_cultural_society   \n",
       "5      4     16  4_art_the_architecture_of   \n",
       "6      5     10        5_energy_of_the_for   \n",
       "\n",
       "                                      Representation  \\\n",
       "0  [the, of, in, india, to, and, discuss, what, f...   \n",
       "1  [the, of, and, in, water, how, on, are, why, i...   \n",
       "2  [the, of, and, to, in, british, india, their, ...   \n",
       "3  [in, of, the, india, is, women, to, poverty, a...   \n",
       "4  [in, the, cultural, society, indian, secularis...   \n",
       "5  [art, the, architecture, of, indian, and, in, ...   \n",
       "6  [energy, of, the, for, in, oil, its, discuss, ...   \n",
       "\n",
       "                                 Representative_Docs  \n",
       "0  [The women’s questions arose in modern India a...  \n",
       "1  [What do you understand by the phenomenon of ‘...  \n",
       "2  [How did the colonial rule affect the tribals ...  \n",
       "3  [How do you explain the statistics that show t...  \n",
       "4  [In the context of the diversity of India, can...  \n",
       "5  [Mesolithic rock cut architecture of India not...  \n",
       "6  [Account for the change in the spatial pattern...  "
      ]
     },
     "execution_count": 12,
     "metadata": {},
     "output_type": "execute_result"
    }
   ],
   "source": [
    "model.get_topic_info()"
   ]
  },
  {
   "cell_type": "code",
   "execution_count": 13,
   "metadata": {},
   "outputs": [],
   "source": [
    "from sklearn.manifold import TSNE\n",
    "import matplotlib.pyplot as plt\n",
    "import numpy as np\n",
    "embeddings = model._extract_embeddings(questions)\n",
    "tsne = TSNE(n_components=2,random_state=42)\n",
    "reduced = tsne.fit_transform(embeddings)"
   ]
  },
  {
   "cell_type": "code",
   "execution_count": 14,
   "metadata": {},
   "outputs": [
    {
     "data": {
      "image/png": "[encoded data removed]",
      "text/plain": [
       "<Figure size 1000x500 with 1 Axes>"
      ]
     },
     "metadata": {},
     "output_type": "display_data"
    }
   ],
   "source": [
    "plt.figure(figsize=(10,5))\n",
    "plt.scatter(reduced[:,0], reduced[:,1])\n",
    "plt.title(\"TSNE of Questions\")\n",
    "plt.xlabel(\"TSNE 1\")\n",
    "plt.ylabel(\"TSNE 2\")\n",
    "plt.show()"
   ]
  },
  {
   "cell_type": "code",
   "execution_count": 15,
   "metadata": {},
   "outputs": [
    {
     "data": {
      "application/vnd.plotly.v1+json": {
       "config": {
        "plotlyServerURL": "https://plot.ly"
       },
       "data": [
        {
         "hoverinfo": "text",
         "hovertext": [
          "Describing the distribution of rubber producing countries, indicate the major environmental issues faced by them.",
          "What makes the Indian society unique in sustaining its culture? Discuss.",
          "To what extent globalization has influenced the core of cultural diversity in India? Explain.",
          "What is the basis of regionalism? Is it that unequal distribution of benefits of development on regional basis eventually promotes regionalism? Substantiate your answer.",
          "The ancient civilization in Indian sub continent differed from those of Egypt , Mesopotamia and Greece in that its culture and traditions have been preserved without breakdown to the present day. Comment",
          "Sufis and medieval saints failed to modify either the religious ideas and practices or the outward structure of Hindu/ Muslim societies to any appreciable extent. Comment.",
          "Customs and traditions suppress reason leading to obscurantism. Do you agree?",
          "Discuss whether formation of new states in recent times is beneficial or not for the economy of India.",
          "Analyze the factors for the highly decentralized cotton textile industry in India.",
          "Examine the role of ‘Gig Economy’ in the process of empowerment of women in India.",
          "Growing feeling of regionalism is an important factor in generation of demand for a separate state. Discuss.",
          "Highlight the differences in the approach of Subhash Chandra Bose and Mahatma Gandhi in the struggle for freedom.",
          "Evaluate the nature of the Bhakti Literature and its contribution to Indian culture.",
          "What problems are germane to the decolonization process in the Malay Peninsula?",
          "To what extent did the role of the moderates prepare a base for the wider freedom movement? Comment.",
          "“Caste system is assuming new identities and associational forms. Hence, caste system cannot be eradicated in India.”",
          "How does India see its place in the economic space of rising natural resources rich Africa?",
          "To what extent has the urban planning and culture of the Indus Valley Civilization provided inputs to the present day urbanization?\nDiscuss.",
          "Examine how the decline of traditional artisanal industry in colonial India crippled the rural economy.",
          "Do you agree that there is a growing trend of opening new sugar mills in southern states of India? Discuss with justification.",
          "Whereas the British planters had developed tea gardens all along the Shivaliks and Lesser Himalayas from Assam to Himachal Pradesh, in effect they did not succeed beyond the Darjeeling area. Explain.",
          "‘Communalism arises either due to power struggle or relative deprivation.’ Argue by giving suitable illustrations.",
          "Krishnadeva Raya, the King of Vijayanagar, was not only an accomplished scholar himself but was also a great patron of learning and literature. Discuss.",
          "Debate the issue whether and how contemporary movements for assertion of Dalit identity work towards annihilation of caste.",
          "Defining blue revolution, explain the problems and strategies for pisciculture development in India.",
          "“In many ways, Lord Dalhousie was the founder of modern India.” Elaborate.",
          "Assess the main administrative issues and socio-cultural problems in the integration process of Indian Princely States.",
          "Why was there a sudden spurt in famines in colonial India since the mid-eighteenth century? Give reasons.",
          "What are the two major legal initiatives by the State since Independence addressing discrimination against Scheduled Tribes(STs)?",
          "What were the major technological changes introduced during the Sultanate period? How did those technological changes influence the Indian society?",
          "Has the formation of linguistic States strengthened the cause of Indian Unity?",
          "Mention the advantages of the cultivation of pulses because of which the year 2016 was declared as the International Year of Pulses by United Nations.",
          "Why did the Green Revolution in India virtually by-pass the eastern region despite fertile soil and good availability of water?",
          "Discuss the factors for localisation of agro-based food processing industries of North-West India.",
          "From being net food importer in 1960s, India has emerged as a net food exporter to the world. Provide reasons.",
          "Examine the uniqueness of tribal knowledge system when compared with mainstream knowledge and cultural systems.",
          "Bring out the constructive programmes of Mahatma Gandhi during Non-Cooperation Movement and Civil Disobedience Movement.",
          "“Africa was chopped into states artificially created by accidents of European competition.” Analyze.",
          "Why are the tribals in India referred to as 'the Scheduled Tribes? Indicate the major provisions in the Constitution of India for their upliftment.",
          "The women’s questions arose in modern India as a part of the 19th century social reform movement. What are the major issues and debates concerning women in that period?",
          "Explain the role of geographical factors towards the development of Ancient India.",
          "Defying the barriers of age, gender and religion, the Indian women became the torchbearer during the struggle for freedom in India. Discuss.",
          "‘Latecomer’ Industrial Revolution in Japan involved certain factors that were markedly different from what West had experienced.” Analyze.",
          "Taxila university was one of the oldest universities of the world with which were associated a number of renowned learned personalities of different disciplines. Its strategic location caused its fame to flourish, but unlike Nalanda, it is not considered as a university in the modern sense. Discuss.",
          "Discuss the role of women in the freedom struggle especially during the Gandhian phase.",
          "The Bhakti movement received a remarkable re-orientation with the advent of Sri Chaitanya Mahaprabhu. Discuss.",
          "Why did the industrial revolution first occur in England? Discuss the quality of life of the people there during the industrialization. How does it compare with that in India at present times?",
          "Why is India considered as a sub-continent? Elaborate your answer.",
          null
         ],
         "marker": {
          "color": "#CFD8DC",
          "opacity": 0.5,
          "size": 5
         },
         "mode": "markers+text",
         "name": "other",
         "showlegend": false,
         "type": "scattergl",
         "x": [
          4.496674537658691,
          8.61871337890625,
          8.012187004089355,
          7.971750259399414,
          8.468767166137695,
          9.846877098083496,
          9.721311569213867,
          8.090112686157227,
          6.353135108947754,
          6.561652183532715,
          8.151196479797363,
          10.258607864379883,
          10.991313934326172,
          9.00875186920166,
          10.345210075378418,
          8.710687637329102,
          5.328558444976807,
          7.256814002990723,
          8.631680488586426,
          6.292421817779541,
          8.942688941955566,
          7.9452338218688965,
          11.034823417663574,
          8.660627365112305,
          4.510738372802734,
          10.74030876159668,
          8.244790077209473,
          8.767600059509277,
          9.016717910766602,
          8.175764083862305,
          8.067769050598145,
          6.4682793617248535,
          7.489516735076904,
          6.38377571105957,
          6.620153903961182,
          8.655302047729492,
          10.335103988647461,
          8.685672760009766,
          8.977861404418945,
          7.070465564727783,
          7.585690498352051,
          9.921979904174805,
          8.564332962036133,
          11.333847045898438,
          10.03388500213623,
          10.559741020202637,
          8.77552318572998,
          8.314852714538574,
          8.395822525024414
         ],
         "y": [
          3.5696346759796143,
          5.184506893157959,
          5.125919342041016,
          4.321386337280273,
          4.956278324127197,
          5.711527347564697,
          5.788683891296387,
          4.082057952880859,
          3.9740490913391113,
          5.564630031585693,
          4.220533847808838,
          4.633622169494629,
          5.081867218017578,
          3.903456449508667,
          3.5919384956359863,
          5.884875297546387,
          3.6616151332855225,
          4.177395343780518,
          3.3283843994140625,
          3.820183515548706,
          3.25242018699646,
          5.933178901672363,
          4.620571136474609,
          5.890876770019531,
          2.576266050338745,
          4.336463451385498,
          4.167219161987305,
          3.2866756916046143,
          4.519109725952148,
          3.5743045806884766,
          4.395373344421387,
          3.7440569400787354,
          3.8593482971191406,
          3.8263659477233887,
          3.7433969974517822,
          5.135773658752441,
          4.501412868499756,
          3.880295515060425,
          4.631711483001709,
          6.176656246185303,
          3.9960081577301025,
          4.598560810089111,
          3.295301914215088,
          4.852811336517334,
          4.659755706787109,
          4.953995227813721,
          3.251340389251709,
          4.896549701690674,
          4.398715496063232
         ]
        },
        {
         "hoverinfo": "text",
         "hovertext": [
          "Account for variations in oceanic salinity and discuss its multi-dimensional effects.",
          "India is well endowed with fresh water resources. Critically examine why it still suffers from water scarcity.",
          "Tropical cyclones are largely confined to South China Sea, Bay of Bengal and Gulf of Mexico. Why?",
          "Bring out the relationship between the shrinking Himalayan glaciers and the symptoms of climate change in the Indian sub-continent.",
          "Bring out the causes for the formation of heat islands in the urban habitat of the world.",
          "Why is India taking keen interest in the Arctic region?",
          "What are the forces that influence ocean currents? Describe their role in fishing industry of the world.",
          "What are the economic significances of discovery of oil in Arctic Sea and its possible environemental consequences?",
          "Differentiate the causes of landslides in the Himalayan region and Western Ghats.",
          "How do the melting of the Arctic ice and glaciers of the Antarctic differently affect the weather patterns and human activities on the Earth? Explain.",
          "Major hot deserts in northern hemisphere are located between 20-30 deg N latitudes and on the western sides of the continents. Why?",
          "what are the environmental implications of the reclamation of the water bodies into urban land use? Explain with examples.",
          "Major cities of India are becoming more vulnerable to flood conditions. Discuss.",
          "Explain the formation of thousands of islands in Indonesian and Philipines archipelagos.",
          "There is no formation of deltas by rivers on the Western Ghats. Why?",
          "\"The Himalayas are highly prone to landslides.\" Discuss the causes and suggest suitable measures of mitigation.",
          "Discuss the concept of air mass and explain its role in macro-climatic changes.",
          "Discuss the natural resource potentials of ‘Deccan trap’.",
          "In what way micro-watershed development projects help in water conservation in\ndrought-prone and semi-arid regions of India?",
          "Why is the South-West monsoon called ‘Purvaiya’ (easterly) in Bhojpur Region? How has this directional seasonal wind system influenced the cultural ethos of the region?",
          "Discuss the consequences of climate change on the food security in tropical countries.",
          "Assess the impact of global warming on the coral life system with examples.",
          "How will the melting of Himalayan glaciers have a far- reaching impact on the water resources of India?",
          "Mention the global occurrence of volcanic eruptions in 2021 and their impact on regional environment.",
          "How does the cryosphere affect global climate?",
          "Examine the status of forest resources of India and its resultant impact on climate change.",
          "How are the fjords formed? Why do they constitute some of the most picturesque areas of the world?",
          "Critically evaluate the various resources of the oceans which can be harnessed to meet the resource crisis in the world.",
          "The interlinking of rivers can provide viable solutions to the multi-dimensional inter-related problems of droughts, floods and interrupted navigation. Critically examine.",
          "Identify and discuss the factors responsible for diversity of natural vegetation in India. Assess the significance of wildlife sanctuaries in rain forests regions of India.",
          "In what way can floods be converted into a sustainable source of irrigation and all-weather inland navigation in India?",
          "Explain the factors responsible for the origin of ocean currents. How do they influence regional climates, fishing and navigation?",
          "Discuss the meaning of colour-coded weather warnings for cyclone prone areas given by India Meteorological department.",
          "Why are the world’s fold mountain systems located along the margins of continents? Bring out the association between the global distribution of fold mountains and the earthquakes and volcanoes.",
          "Most of the unusual climatic happenings are explained as an outcome of the El-Nino effect. Do you agree?",
          "South China Sea has assumed great geopolitical significance in the present context. Comment.",
          "What do you understand by the theory of continental drift? Discuss the prominent evidences in its support.",
          "Describe the characteristics and types of primary rocks.",
          "Bring out the causes for more frequent occurrence of landslides in the Himalayas than in the Western Ghats.",
          "Present an account of the Indus Water Treaty and examine its ecological, economic and political implications in the context of changing bilateral relations.",
          "Mention the significance of straits and isthmus in international trade.",
          "Why is the world today confronted with a crisis of availability of and access to freshwater resources?",
          "What characteristics can be assigned to monsoon climate that succeeds in feeding more than 50 percent of the world population residing in Monsoon Asia?",
          "What do you understand by the phenomenon of ‘temperature inversion’ in meteorology? How does it affect weather and the habitants of the place?",
          "How far do you agree that the behaviour of the Indian monsoon has been changing due to humanizing landscape? Discuss.",
          "“The ideal solution of depleting ground water resources in India is water harvesting system.” How can it be made effective in urban areas?",
          "The effective management of land and water resources will drastically reduce the human miseries. Explain.",
          "Enumerate the problems and prospects of inland water transport in India.",
          "Briefly mention the alignment of major mountain ranges of the world and explain their impact on local weather conditions, with examples.",
          "Define mantle plume and explain its role in plate tectonics.",
          "What are the consequences of spreading of ‘Dead Zones’ on marine ecosystem?",
          "How do ocean currents and water masses differ in their impacts on marine life and coastal environment? Give suitable examples.",
          "Discuss the geophysical characteristics of Circum- Pacific Zone.",
          "How does the Juno Mission of NASA help to understand the origin and evolution of the Earth?",
          "The states of Jammu and Kashmir, Himachal Pradesh and Uttarakhand are reaching the limits of ecological carrying capacity due to tourism. Critically evaluate.",
          "Why is Indian Regional Navigational Satellite System (IRNSS) needed? How does it help in navigation?",
          "What is water stress? How and why does it differ regionally in India?",
          "Discuss the causes of depletion of mangroves and explain their importance in maintaining coastal ecology.",
          "How can the mountain ecosystem be restored from the negative impact of development initiatives and tourism?",
          "The recent cyclone on the east coast of India was called ‘Phailin’. How are the tropical cyclones named across the world? Elaborate.",
          "The process of desertification does not have climate boundaries. Justify with examples.",
          "Account for the huge flooding of million cities in India including the smart ones like Hyderabad and Pune. Suggest lasting remedial measures.",
          "Troposphere is a very significant atmospheric layer that determines weather processes.\nHow?",
          "Comment on the resource potentials of the long coastline of India and highlight the status of natural hazard preparedness in these areas.",
          null
         ],
         "marker": {
          "opacity": 0.5,
          "size": 5
         },
         "mode": "markers+text",
         "name": "0_the_of_and",
         "text": [
          "",
          "",
          "",
          "",
          "",
          "",
          "",
          "",
          "",
          "",
          "",
          "",
          "",
          "",
          "",
          "",
          "",
          "",
          "",
          "",
          "",
          "",
          "",
          "",
          "",
          "",
          "",
          "",
          "",
          "",
          "",
          "",
          "",
          "",
          "",
          "",
          "",
          "",
          "",
          "",
          "",
          "",
          "",
          "",
          "",
          "",
          "",
          "",
          "",
          "",
          "",
          "",
          "",
          "",
          "",
          "",
          "",
          "",
          "",
          "",
          "",
          "",
          "",
          "",
          "0_the_of_and"
         ],
         "textfont": {
          "size": 12
         },
         "type": "scattergl",
         "x": [
          2.971761703491211,
          3.5940709114074707,
          2.7279670238494873,
          2.6025607585906982,
          2.1482369899749756,
          3.8378844261169434,
          2.9526500701904297,
          3.525282621383667,
          2.270371198654175,
          2.4177887439727783,
          2.2575290203094482,
          3.7108194828033447,
          3.223689079284668,
          2.3760716915130615,
          2.51137375831604,
          2.199634313583374,
          2.3437161445617676,
          4.355352401733398,
          3.4527766704559326,
          3.0342888832092285,
          3.244415283203125,
          3.107919216156006,
          3.3584656715393066,
          1.98012375831604,
          2.2674083709716797,
          4.053842544555664,
          2.7411441802978516,
          3.352004051208496,
          3.440640687942505,
          4.224528789520264,
          3.3423690795898438,
          2.867236614227295,
          2.923748731613159,
          2.016449451446533,
          2.6225152015686035,
          3.536081314086914,
          2.482360363006592,
          2.0426485538482666,
          2.202570676803589,
          3.678293228149414,
          3.4903903007507324,
          3.614351511001587,
          3.016479730606079,
          2.1967318058013916,
          3.0018746852874756,
          3.5734362602233887,
          3.7941298484802246,
          3.654362678527832,
          2.0970075130462646,
          1.9860702753067017,
          3.1284725666046143,
          2.9201366901397705,
          1.9339829683303833,
          2.130856990814209,
          4.143917560577393,
          3.480396270751953,
          3.4538609981536865,
          3.1113407611846924,
          3.907918691635132,
          2.8886187076568604,
          2.3857197761535645,
          3.277456760406494,
          2.2776808738708496,
          4.0225725173950195,
          2.991974353790283
         ],
         "y": [
          3.323805332183838,
          1.7475109100341797,
          1.8458318710327148,
          2.3970894813537598,
          2.8251445293426514,
          3.113839626312256,
          3.3111648559570312,
          3.3026070594787598,
          2.109697103500366,
          2.684943437576294,
          2.353860855102539,
          1.7441861629486084,
          1.7063617706298828,
          3.0862982273101807,
          1.9663141965866089,
          2.1993417739868164,
          2.7117080688476562,
          2.466825008392334,
          1.6448934078216553,
          1.9570648670196533,
          2.485687494277954,
          3.304699659347534,
          2.09567928314209,
          2.55456805229187,
          2.7549080848693848,
          2.549511432647705,
          3.0026192665100098,
          3.252527952194214,
          1.5641729831695557,
          2.443648099899292,
          1.5594563484191895,
          3.2331008911132812,
          1.7078747749328613,
          2.3373146057128906,
          2.122974157333374,
          3.345162868499756,
          3.008758783340454,
          2.3220090866088867,
          2.219022274017334,
          2.223344087600708,
          3.344362258911133,
          1.976770043373108,
          1.994774341583252,
          2.69608473777771,
          1.9634641408920288,
          1.6620017290115356,
          1.8589118719100952,
          1.8312889337539673,
          2.449049234390259,
          2.661818027496338,
          3.3253726959228516,
          3.2755985260009766,
          2.479085683822632,
          2.8380138874053955,
          2.425598382949829,
          1.4717059135437012,
          1.703065037727356,
          3.3255889415740967,
          2.425872564315796,
          1.7615783214569092,
          2.5033633708953857,
          1.6460635662078857,
          2.705340623855591,
          2.311398506164551,
          2.4253392219543457
         ]
        },
        {
         "hoverinfo": "text",
         "hovertext": [
          "The New Economic Policy – 1921 of Lenin had influenced the policies adopted by India soon after independence. Evaluate.",
          "It would have been difficult for the Constituent Assembly to complete its historic task of drafting the Constitution for Independent India in just three years, but its experience gained with the Government of India Act, 1935\n.Discuss.",
          "Why indentured labour was taken by the British from India to their colonies? have they been able to preserve their cultural identity over there?",
          "Examine the linkages between the nineteenth century’s ‘Indian Renaissance’ and the emergence of national identity.",
          "Mahatma Gandhi and Dr. B R Ambedkar, despite having divergent approaches and strategies, had a common goal of amelioration of the downtrodden. Elucidate.",
          "Why did the ‘Moderates’ failed to carry conviction with the nation about their proclaimed ideology and political goals by the end of the nineteenth century?",
          "How difficult would have been the achievement of Indian independence without Mahatma Gandhi? Discuss.",
          "Critically discuss the objectives of Bhoodan and Gramdan movements initiated by AcharyaVinobhaBhave and their success.",
          "Highlight the importance of the new objectives that got added to the vision of Indian Independence since the twenties of the last century.",
          "Since the decade of the 1920s, the national movement acquired various ideological strands and thereby expanded its social base. Discuss.",
          "Throw light on the significance of the thoughts of Mahatma Gandhi in the present times.",
          "How did the colonial rule affect the tribals in India and what was the tribal response to the colonial oppression?",
          "Analyze the circumstances that led to the Tashkent Agreement in 1966. Discuss the highlights of the Agreement.",
          "Clarify how mid-eighteenth century India was beset with the spectre of a fragmented polity.",
          "What policy instruments were deployed to contain the Great Economic Depression?",
          "Though not very useful from the point of view of a connected political history of South India, the Sangam literature portrays the social and economic conditions of its time with remarkable vividness. Comment.",
          "” There arose a serious challenge to the Democratic State System between the two World Wars.” Evaluate the statement.",
          "Assess the role of British imperial power in complicating the process of transfer of power during the 1940s.",
          "The 1857 uprising was the culmination of the recurrent, big and small local rebellions that had occurred in the preceding hundred years of British rule. Elucidate.",
          "What were the major political, economic and social developments in the world which motivated the anti-colonial in India?",
          "“American Revolution was an economic revolt against mercantilism.” Substantiate.",
          "Several foreigners made India their homeland and participated in various movements.\nAnalyze their role in the Indian struggle for freedom.",
          "Critically examine the compulsions which prompted India to play a decisive role in the emergence of Bangladesh.",
          "Explain how the Uprising of 1857 constitutes an important watershed in the evolution of British policies towards colonial India.",
          "What were the events that led to the Suez Crisis in 1956? How did it deal a final blow to Britain’s self-image as a world power?",
          "The political and administrative reorganization of states and territories has been a continuous ongoing process since the mid-nineteenth century. Discuss with examples.",
          "Explain how the foundations of the modern world were laid by the American and French Revolutions.",
          "Examine critically the various facets of economic policies of the British in India from mid-eighteenth century till independence.",
          "The anti-colonial struggles in West Africa were led by the new elite of Western-educated Africans.",
          "Evaluate the policies of Lord Curzon and their long term implications on the national movements.",
          "Why did the armies of the British East India Company – mostly comprising of Indian soldiers – win consistently against the more numerous and better equipped armies of the Indian rulers? Give reasons.",
          "Discuss the contributions of MaulanaAbulKalam Azad to pre- and post-independent India.",
          "In what ways did the navel mutiny prove to be the last nail in the coffin of British colonial aspirations in India?",
          "To what extend can Germany be held responsible for causing the two World Wars? Discuss critically.",
          "The third battle of Panipat was fought in 1761. Why were so many empire-shaking battles fought at Panipat?",
          "Many voices had strengthened and enriched the nationalist movement during the Gandhian phase. Elaborate.",
          "What was the difference between Mahatma Gandhi and Rabindranath Tagore in their approach towards education and nationalism?",
          null
         ],
         "marker": {
          "opacity": 0.5,
          "size": 5
         },
         "mode": "markers+text",
         "name": "1_the_of_and",
         "text": [
          "",
          "",
          "",
          "",
          "",
          "",
          "",
          "",
          "",
          "",
          "",
          "",
          "",
          "",
          "",
          "",
          "",
          "",
          "",
          "",
          "",
          "",
          "",
          "",
          "",
          "",
          "",
          "",
          "",
          "",
          "",
          "",
          "",
          "",
          "",
          "",
          "",
          "1_the_of_and"
         ],
         "textfont": {
          "size": 12
         },
         "type": "scattergl",
         "x": [
          9.640639305114746,
          10.167632102966309,
          9.42243480682373,
          9.973064422607422,
          10.325752258300781,
          10.335039138793945,
          10.378564834594727,
          10.424071311950684,
          10.088519096374512,
          10.342455863952637,
          10.35103702545166,
          9.27643871307373,
          9.807019233703613,
          9.836373329162598,
          9.415298461914062,
          9.890579223632812,
          9.908723831176758,
          9.81984806060791,
          9.755203247070312,
          9.316511154174805,
          9.639535903930664,
          9.990182876586914,
          9.816027641296387,
          9.701394081115723,
          9.768962860107422,
          8.699943542480469,
          9.758885383605957,
          9.627608299255371,
          9.241839408874512,
          10.253193855285645,
          9.324514389038086,
          10.262648582458496,
          9.463497161865234,
          9.838587760925293,
          9.24267292022705,
          10.428488731384277,
          10.289570808410645,
          9.833047866821289
         ],
         "y": [
          3.793898344039917,
          3.9915785789489746,
          3.9673941135406494,
          3.9751765727996826,
          4.538632869720459,
          3.6101176738739014,
          4.271762371063232,
          4.827661991119385,
          4.048533916473389,
          3.6170871257781982,
          4.558419704437256,
          4.121577262878418,
          3.039149761199951,
          3.816342830657959,
          3.6446352005004883,
          4.092627048492432,
          3.0824172496795654,
          3.034940004348755,
          3.525508165359497,
          3.8368115425109863,
          3.3646154403686523,
          4.167267799377441,
          4.307597637176514,
          3.47373366355896,
          3.170684337615967,
          4.011620044708252,
          3.2245097160339355,
          3.715463876724243,
          3.921206474304199,
          3.5001306533813477,
          3.28145694732666,
          4.121390342712402,
          3.7236270904541016,
          3.0432040691375732,
          3.2726023197174072,
          4.047481536865234,
          4.4464335441589355,
          3.7888455390930176
         ]
        },
        {
         "hoverinfo": "text",
         "hovertext": [
          "COVID-19 pandemic accelerated class inequalities and poverty in India. Comment.",
          "Bring out the socio-economic effects of the introduction of railways in different countries of the world",
          "Does urbanization lead to more segregation and/or marginalization of the poor in Indian metropolises?",
          "“Male membership needs to be encouraged in order to make women’s organization free from gender bias.” Comment.",
          "How do you explain the statistics that show that the sex ratio in Tribes in India is more favourable to women than the sex ratio among Scheduled Castes?",
          "Discuss the various social problems which originated out of the speedy process of urbanization in India.",
          "Why did human development fail to keep pace with economic development in India?",
          "“The growth of cities as I.T. hubs has opened up new avenues of employment, but has also created new problems”. Substantiate this statement with examples",
          "How is efficient and affordable urban mass transport key to the rapid economic development in India?",
          "\"An essential condition to eradicate poverty is to liberate the poor from the process of deprivation.\" Substantiate this statement with suitable examples.",
          "What is Cryptocurrency? How does it affect global society? Has it been affecting Indian society also?",
          "Smart cities in India cannot sustain without smart vilages. Discuss this statement in the backdrop of rural urban integration.",
          "What is the significance of Industrial Corridors in India? Identifying industrial corridors, explain their main characteristics.",
          "Why do some of the most prosperous regions of India have an adverse sex ratio for women? Give your arguments.",
          "Critically examine whether growing population is the cause of poverty OR poverty is the mains cause of population increase in India.",
          "Discuss the various economic and\nsocio-cultural forces that are driving increasing feminization of agriculture in India.",
          "Explain why suicide among young women is increasing in Indian Society.",
          "How does patriarchy impact the position of a middle class working woman in India?",
          "Discuss the changes in the trends of labour migration within and outside India in the last four decades.",
          "“Empowering women is the key to control population growth.” Discuss.",
          "Discuss the main objectives of Population Education and point out the measures to achieve them in India in detail.",
          "Mumbai, Delhi and Kolkata are the three Mega cities of the country but the air pollution is much more serious probelm in Delhi as compared to the other two. Why is this so?",
          "‘Women’s movement in India has not addressed the issues of women of lower social strata.’ Substantiate your view.",
          "What are the main socio-economic implications arising out of the development of IT industries in major cities of India?",
          "Child cuddling is now being replaced by mobile phones. Discuss its impact on the socialization of children.",
          "What are the continued challenges for women in India against time and space?",
          "How is the growth of Tier 2 cities related to the rise of a new middle class with an emphasis on the culture of consumption?",
          "Can the strategy of regional resource-based manufacturing help in promoting employment in India?",
          "Explore and evaluate the impact of ‘Work From Home’ on family relationships.",
          "With a brief background of quality of urban life in India, introduce the objectives and strategy of the 'Smart City Programme'.",
          "Mention core strategies for the transformation of aspirational districts in India and explain the nature of convergence, collaboration and competition for its success.",
          "Discuss the positive and negative effects of globalization on women in India?",
          "How have digital initiatives in India contributed to the functioning of the education system in the country? Elaborate your answer.",
          "Elucidate the relationship between globalization and new technology in a world of scarce resources, with special reference to India.",
          "The life cycle of a joint family depends on economic factors rather than social values. Discuss.",
          "‘Despite implementation of various programmes for eradication of poverty by the government in India, poverty is still existing’. Explain by giving reasons.",
          null
         ],
         "marker": {
          "opacity": 0.5,
          "size": 5
         },
         "mode": "markers+text",
         "name": "2_in_of_the",
         "text": [
          "",
          "",
          "",
          "",
          "",
          "",
          "",
          "",
          "",
          "",
          "",
          "",
          "",
          "",
          "",
          "",
          "",
          "",
          "",
          "",
          "",
          "",
          "",
          "",
          "",
          "",
          "",
          "",
          "",
          "",
          "",
          "",
          "",
          "",
          "",
          "",
          "2_in_of_the"
         ],
         "textfont": {
          "size": 12
         },
         "type": "scattergl",
         "x": [
          7.002119064331055,
          6.770284175872803,
          6.965674877166748,
          7.083423137664795,
          6.858243465423584,
          7.095198631286621,
          7.240655422210693,
          6.689418315887451,
          6.648636817932129,
          7.193526744842529,
          7.5728278160095215,
          6.729093074798584,
          6.20373010635376,
          6.745483875274658,
          6.995718002319336,
          6.770276069641113,
          6.871476173400879,
          7.047408580780029,
          7.784539699554443,
          6.982100486755371,
          6.940390110015869,
          6.518507480621338,
          7.13045072555542,
          6.66886043548584,
          7.653185844421387,
          7.15547513961792,
          6.781016826629639,
          6.254199981689453,
          7.603219509124756,
          6.6731367111206055,
          7.000813961029053,
          7.518856525421143,
          6.966724872589111,
          7.467032432556152,
          7.6880083084106445,
          7.076590538024902,
          7.009618759155273
         ],
         "y": [
          5.4071574211120605,
          4.315642833709717,
          4.771427154541016,
          5.981149196624756,
          5.930576324462891,
          4.619326591491699,
          4.6123576164245605,
          4.527496337890625,
          4.467874050140381,
          5.689931869506836,
          5.333272933959961,
          4.55858039855957,
          4.161239147186279,
          5.951081275939941,
          5.564505577087402,
          6.027087688446045,
          6.000399112701416,
          6.020379543304443,
          5.054592609405518,
          5.875685214996338,
          5.49695348739624,
          4.840441703796387,
          6.006899356842041,
          4.552631855010986,
          5.970541954040527,
          6.112987518310547,
          4.614362716674805,
          4.172103404998779,
          6.027241230010986,
          4.502704620361328,
          5.014364719390869,
          5.510683059692383,
          5.088316440582275,
          4.825916290283203,
          6.0403361320495605,
          5.568074703216553,
          5.255952835083008
         ]
        },
        {
         "hoverinfo": "text",
         "hovertext": [
          "Has caste lost its relevance in understanding the multi- cultural Indian Society? Elaborate your answer with illustrations.",
          "What are the main features of Vedic society and religion? Do you think some of the features are still prevailing in Indian society?",
          "How do the Indian debates on secularism differ from the debates in the West?",
          "Do you think marriage as a sacrament in loosing its value in Modern India?",
          "How does Indian society maintain continuity in traditional social values? Enumerate the changes taking place in it.",
          "Is diversity and pluralism in India under threat due to globalisation? Justify your answer.",
          "Are tolerance, assimilation and pluralism the key elements in the making of an Indian form of secularism? Justify your answer.",
          "Why is caste identity in India both fluid and static?",
          "Given the diversities among the tribal communities in India, in which specific contexts should they be considered as a single category?",
          "Critically examine the effect of globalization on the aged population in India.",
          "Describe any four cultural elements of diversity in India and rate their relative significance in building a national identity.",
          "Distinguish between religiousness/religiosity and communalism giving one example of how the former has got transformed into the latter in independent India.",
          "The spirit of tolerance and love is not only an interesting feature of Indian society from very early times, but it is also playing an important part at the present. Elaborate.",
          "Write a critical note on the evolution and significance of the slogan, ‘Jai Jawan, Jai Kisan’.",
          "Do you agree that regionalism in India appears to be a consequence of rising cultural assertiveness? Argue.",
          "What are the challenges to our cultural practices in the name of secularism?",
          "Globalisation is generally said to promote cultural homogenisation but due to this cultural specificities appear to be strengthened in the Indian society.’ Elucidate.",
          "Are we losing our local identity for the global identity? Discuss.",
          "Discuss the impact of post-liberal economy on ethnic identity and communalism.",
          "Analyze the salience of ‘sect’ in Indian society vis-a-vis caste, region and religion.",
          "How the Indian concept of secularism different from the western model of secularism?\nDiscuss.",
          "In the context of the diversity of India, can it be said that the regions form cultural units rather than the States? Give reasons with examples for your view point.",
          "Do we have cultural pockets of small India all over the nation? Elaborate with examples.",
          "Trace the rise and growth of socio-religious reform movements with special reference to Young Bengal and Brahmo Samaj.",
          null
         ],
         "marker": {
          "opacity": 0.5,
          "size": 5
         },
         "mode": "markers+text",
         "name": "3_in_the_cultural",
         "text": [
          "",
          "",
          "",
          "",
          "",
          "",
          "",
          "",
          "",
          "",
          "",
          "",
          "",
          "",
          "",
          "",
          "",
          "",
          "",
          "",
          "",
          "",
          "",
          "",
          "3_in_the_cultural"
         ],
         "textfont": {
          "size": 12
         },
         "type": "scattergl",
         "x": [
          8.638344764709473,
          8.75394058227539,
          9.611808776855469,
          8.73507308959961,
          8.688837051391602,
          8.156097412109375,
          9.505789756774902,
          8.700902938842773,
          8.667737007141113,
          7.855817794799805,
          8.528717041015625,
          9.271356582641602,
          9.382774353027344,
          9.53435230255127,
          7.90578031539917,
          9.61742877960205,
          8.110084533691406,
          8.189618110656738,
          8.09960651397705,
          9.18073844909668,
          9.592958450317383,
          8.127552032470703,
          8.057971954345703,
          9.687946319580078,
          8.77505111694336
         ],
         "y": [
          5.847055912017822,
          5.471068382263184,
          5.8477864265441895,
          5.7572340965271,
          5.503734588623047,
          5.281378269195557,
          5.769048690795898,
          5.842134475708008,
          5.105079174041748,
          5.152266025543213,
          5.151285171508789,
          5.475114345550537,
          5.411968231201172,
          5.226101398468018,
          4.564267158508301,
          5.855637550354004,
          5.218318939208984,
          5.498721599578857,
          5.737484931945801,
          5.644607067108154,
          5.8626203536987305,
          4.5925421714782715,
          4.750244617462158,
          5.55120325088501,
          5.421537399291992
         ]
        },
        {
         "hoverinfo": "text",
         "hovertext": [
          "Highlight the Central Asian and Greco Bactrian elements in the Gandhara art.",
          "Chola architecture represents a high watermark in the evolution of temple architecture. Discuss",
          "Discuss the significance of the lion and bull figures in Indian mythology, art and architecture.",
          "Safeguarding the Indian art heritage is the need of the moment.",
          "How do you justify the view that the level of excellence of the Gupta numismatic art is not at all noticeable in later times?",
          "Discuss the main contributions of Gupta period and Chola period to Indian heritage and culture\n.",
          "The rock-cut architecture represents one of the most important sources of our knowledge of early Indian art and history. Discuss.",
          "Assess the importance of the accounts of the Chinese and Arab travellers in the reconstruction of the history of India.",
          "Mesolithic rock cut architecture of India not only reflects the cultural life of the times but also a fine aesthetic sense comparable to modern painting. Critically evaluate this comment.",
          "Persian literary sources of medieval India reflect the spirit of the age. Comment.",
          "Pala period is the most significant phase in the history of Buddhism in India. Enumerate.",
          "How will you explain the medieval Indian temple sculptures represent the social life of those days?",
          "Gandhara sculpture owed as much to the Romans as to the Greeks. Explain.",
          "Discuss the ‘Tandava’ dance as recorded in early Indian inscriptions.",
          "Indian Philosophy and tradition played a significant role in conceiving and shaping the monuments and their art in India. Discuss.",
          "Early Buddhist Stupa-art, while depicting folk motifs and narratives successfully expounds Buddhist ideals. Elucidate.",
          null
         ],
         "marker": {
          "opacity": 0.5,
          "size": 5
         },
         "mode": "markers+text",
         "name": "4_art_the_architecture",
         "text": [
          "",
          "",
          "",
          "",
          "",
          "",
          "",
          "",
          "",
          "",
          "",
          "",
          "",
          "",
          "",
          "",
          "4_art_the_architecture"
         ],
         "textfont": {
          "size": 12
         },
         "type": "scattergl",
         "x": [
          12.148104667663574,
          11.934550285339355,
          11.879806518554688,
          11.9873628616333,
          11.966104507446289,
          11.60090446472168,
          11.936311721801758,
          10.96059799194336,
          12.101787567138672,
          11.155951499938965,
          11.673980712890625,
          12.047262191772461,
          12.14565372467041,
          12.063575744628906,
          11.818777084350586,
          12.06489086151123,
          11.842851638793945
         ],
         "y": [
          5.331635475158691,
          5.288871765136719,
          5.276130676269531,
          5.385262966156006,
          5.392938613891602,
          5.256556510925293,
          5.4612226486206055,
          4.9355058670043945,
          5.392456531524658,
          5.185201168060303,
          5.279499053955078,
          5.3207831382751465,
          5.264923572540283,
          5.298097133636475,
          5.192683696746826,
          5.235095024108887,
          5.2810540199279785
         ]
        },
        {
         "hoverinfo": "text",
         "hovertext": [
          "Despite India being one of the countries of the Gondwanaland, its mining industry contributes much less to its Gross Domestic Product(GDP) in percentage. Discuss.",
          "Examine the potential of wind energy in India and explain the reasons for their limited spatial spread.",
          "India has immense potential of solar energy though there are regional variations in its developments. Elaborate.",
          "With growing scarcity of fossil fuels, the atomic energy is gaining more and more significance in India. Discuss the availability of raw material required for the generation of atomic energy in India and in the world.",
          "Discuss the multi-dimensional implications of uneven distribution of mineral oil in the world.",
          "“Inspite of adverse environmental impact, coal mining is still inevitable for development”.\nDiscuss",
          "Account for the change in the spatial pattern of the Iron and Steel industry in the world.",
          "Petroleum refineries are not necessarily located nearer to crude oil producing areas, particularly in many of the developing countries. Explain its implications.",
          "It is said that India has substantial reserves of shale oil and gas, which can feed the needs of the country for quarter century. However, tapping of the resource does not appear to be high on the agenda. Discuss critically the availability and issues involved.",
          "Account for the present location of iron and steel industries away from the source of raw material, by giving examples.",
          null
         ],
         "marker": {
          "opacity": 0.5,
          "size": 5
         },
         "mode": "markers+text",
         "name": "5_energy_of_the",
         "text": [
          "",
          "",
          "",
          "",
          "",
          "",
          "",
          "",
          "",
          "",
          "5_energy_of_the"
         ],
         "textfont": {
          "size": 12
         },
         "type": "scattergl",
         "x": [
          5.213176727294922,
          5.518171787261963,
          5.542073726654053,
          5.426169395446777,
          4.610428333282471,
          4.763885974884033,
          5.52565860748291,
          4.599910736083984,
          4.806122779846191,
          5.430427551269531,
          5.14360237121582
         ],
         "y": [
          3.6594464778900146,
          3.0730438232421875,
          3.046599864959717,
          3.1248199939727783,
          3.635066509246826,
          3.546356678009033,
          3.934753656387329,
          3.6431453227996826,
          3.481013059616089,
          3.8721680641174316,
          3.5016415119171143
         ]
        }
       ],
       "layout": {
        "annotations": [
         {
          "showarrow": false,
          "text": "D1",
          "x": 1.6438855230808258,
          "y": 4.177052354812623,
          "yshift": 10
         },
         {
          "showarrow": false,
          "text": "D2",
          "x": 7.807102945446968,
          "xshift": 10,
          "y": 7.1031546831130985
         }
        ],
        "height": 750,
        "shapes": [
         {
          "line": {
           "color": "#CFD8DC",
           "width": 2
          },
          "type": "line",
          "x0": 7.807102945446968,
          "x1": 7.807102945446968,
          "y0": 1.250950026512146,
          "y1": 7.1031546831130985
         },
         {
          "line": {
           "color": "#9E9E9E",
           "width": 2
          },
          "type": "line",
          "x0": 1.6438855230808258,
          "x1": 13.97032036781311,
          "y0": 4.177052354812623,
          "y1": 4.177052354812623
         }
        ],
        "template": {
         "data": {
          "bar": [
           {
            "error_x": {
             "color": "rgb(36,36,36)"
            },
            "error_y": {
             "color": "rgb(36,36,36)"
            },
            "marker": {
             "line": {
              "color": "white",
              "width": 0.5
             },
             "pattern": {
              "fillmode": "overlay",
              "size": 10,
              "solidity": 0.2
             }
            },
            "type": "bar"
           }
          ],
          "barpolar": [
           {
            "marker": {
             "line": {
              "color": "white",
              "width": 0.5
             },
             "pattern": {
              "fillmode": "overlay",
              "size": 10,
              "solidity": 0.2
             }
            },
            "type": "barpolar"
           }
          ],
          "carpet": [
           {
            "aaxis": {
             "endlinecolor": "rgb(36,36,36)",
             "gridcolor": "white",
             "linecolor": "white",
             "minorgridcolor": "white",
             "startlinecolor": "rgb(36,36,36)"
            },
            "baxis": {
             "endlinecolor": "rgb(36,36,36)",
             "gridcolor": "white",
             "linecolor": "white",
             "minorgridcolor": "white",
             "startlinecolor": "rgb(36,36,36)"
            },
            "type": "carpet"
           }
          ],
          "choropleth": [
           {
            "colorbar": {
             "outlinewidth": 1,
             "tickcolor": "rgb(36,36,36)",
             "ticks": "outside"
            },
            "type": "choropleth"
           }
          ],
          "contour": [
           {
            "colorbar": {
             "outlinewidth": 1,
             "tickcolor": "rgb(36,36,36)",
             "ticks": "outside"
            },
            "colorscale": [
             [
              0,
              "#440154"
             ],
             [
              0.1111111111111111,
              "#482878"
             ],
             [
              0.2222222222222222,
              "#3e4989"
             ],
             [
              0.3333333333333333,
              "#31688e"
             ],
             [
              0.4444444444444444,
              "#26828e"
             ],
             [
              0.5555555555555556,
              "#1f9e89"
             ],
             [
              0.6666666666666666,
              "#35b779"
             ],
             [
              0.7777777777777778,
              "#6ece58"
             ],
             [
              0.8888888888888888,
              "#b5de2b"
             ],
             [
              1,
              "#fde725"
             ]
            ],
            "type": "contour"
           }
          ],
          "contourcarpet": [
           {
            "colorbar": {
             "outlinewidth": 1,
             "tickcolor": "rgb(36,36,36)",
             "ticks": "outside"
            },
            "type": "contourcarpet"
           }
          ],
          "heatmap": [
           {
            "colorbar": {
             "outlinewidth": 1,
             "tickcolor": "rgb(36,36,36)",
             "ticks": "outside"
            },
            "colorscale": [
             [
              0,
              "#440154"
             ],
             [
              0.1111111111111111,
              "#482878"
             ],
             [
              0.2222222222222222,
              "#3e4989"
             ],
             [
              0.3333333333333333,
              "#31688e"
             ],
             [
              0.4444444444444444,
              "#26828e"
             ],
             [
              0.5555555555555556,
              "#1f9e89"
             ],
             [
              0.6666666666666666,
              "#35b779"
             ],
             [
              0.7777777777777778,
              "#6ece58"
             ],
             [
              0.8888888888888888,
              "#b5de2b"
             ],
             [
              1,
              "#fde725"
             ]
            ],
            "type": "heatmap"
           }
          ],
          "heatmapgl": [
           {
            "colorbar": {
             "outlinewidth": 1,
             "tickcolor": "rgb(36,36,36)",
             "ticks": "outside"
            },
            "colorscale": [
             [
              0,
              "#440154"
             ],
             [
              0.1111111111111111,
              "#482878"
             ],
             [
              0.2222222222222222,
              "#3e4989"
             ],
             [
              0.3333333333333333,
              "#31688e"
             ],
             [
              0.4444444444444444,
              "#26828e"
             ],
             [
              0.5555555555555556,
              "#1f9e89"
             ],
             [
              0.6666666666666666,
              "#35b779"
             ],
             [
              0.7777777777777778,
              "#6ece58"
             ],
             [
              0.8888888888888888,
              "#b5de2b"
             ],
             [
              1,
              "#fde725"
             ]
            ],
            "type": "heatmapgl"
           }
          ],
          "histogram": [
           {
            "marker": {
             "line": {
              "color": "white",
              "width": 0.6
             }
            },
            "type": "histogram"
           }
          ],
          "histogram2d": [
           {
            "colorbar": {
             "outlinewidth": 1,
             "tickcolor": "rgb(36,36,36)",
             "ticks": "outside"
            },
            "colorscale": [
             [
              0,
              "#440154"
             ],
             [
              0.1111111111111111,
              "#482878"
             ],
             [
              0.2222222222222222,
              "#3e4989"
             ],
             [
              0.3333333333333333,
              "#31688e"
             ],
             [
              0.4444444444444444,
              "#26828e"
             ],
             [
              0.5555555555555556,
              "#1f9e89"
             ],
             [
              0.6666666666666666,
              "#35b779"
             ],
             [
              0.7777777777777778,
              "#6ece58"
             ],
             [
              0.8888888888888888,
              "#b5de2b"
             ],
             [
              1,
              "#fde725"
             ]
            ],
            "type": "histogram2d"
           }
          ],
          "histogram2dcontour": [
           {
            "colorbar": {
             "outlinewidth": 1,
             "tickcolor": "rgb(36,36,36)",
             "ticks": "outside"
            },
            "colorscale": [
             [
              0,
              "#440154"
             ],
             [
              0.1111111111111111,
              "#482878"
             ],
             [
              0.2222222222222222,
              "#3e4989"
             ],
             [
              0.3333333333333333,
              "#31688e"
             ],
             [
              0.4444444444444444,
              "#26828e"
             ],
             [
              0.5555555555555556,
              "#1f9e89"
             ],
             [
              0.6666666666666666,
              "#35b779"
             ],
             [
              0.7777777777777778,
              "#6ece58"
             ],
             [
              0.8888888888888888,
              "#b5de2b"
             ],
             [
              1,
              "#fde725"
             ]
            ],
            "type": "histogram2dcontour"
           }
          ],
          "mesh3d": [
           {
            "colorbar": {
             "outlinewidth": 1,
             "tickcolor": "rgb(36,36,36)",
             "ticks": "outside"
            },
            "type": "mesh3d"
           }
          ],
          "parcoords": [
           {
            "line": {
             "colorbar": {
              "outlinewidth": 1,
              "tickcolor": "rgb(36,36,36)",
              "ticks": "outside"
             }
            },
            "type": "parcoords"
           }
          ],
          "pie": [
           {
            "automargin": true,
            "type": "pie"
           }
          ],
          "scatter": [
           {
            "fillpattern": {
             "fillmode": "overlay",
             "size": 10,
             "solidity": 0.2
            },
            "type": "scatter"
           }
          ],
          "scatter3d": [
           {
            "line": {
             "colorbar": {
              "outlinewidth": 1,
              "tickcolor": "rgb(36,36,36)",
              "ticks": "outside"
             }
            },
            "marker": {
             "colorbar": {
              "outlinewidth": 1,
              "tickcolor": "rgb(36,36,36)",
              "ticks": "outside"
             }
            },
            "type": "scatter3d"
           }
          ],
          "scattercarpet": [
           {
            "marker": {
             "colorbar": {
              "outlinewidth": 1,
              "tickcolor": "rgb(36,36,36)",
              "ticks": "outside"
             }
            },
            "type": "scattercarpet"
           }
          ],
          "scattergeo": [
           {
            "marker": {
             "colorbar": {
              "outlinewidth": 1,
              "tickcolor": "rgb(36,36,36)",
              "ticks": "outside"
             }
            },
            "type": "scattergeo"
           }
          ],
          "scattergl": [
           {
            "marker": {
             "colorbar": {
              "outlinewidth": 1,
              "tickcolor": "rgb(36,36,36)",
              "ticks": "outside"
             }
            },
            "type": "scattergl"
           }
          ],
          "scattermapbox": [
           {
            "marker": {
             "colorbar": {
              "outlinewidth": 1,
              "tickcolor": "rgb(36,36,36)",
              "ticks": "outside"
             }
            },
            "type": "scattermapbox"
           }
          ],
          "scatterpolar": [
           {
            "marker": {
             "colorbar": {
              "outlinewidth": 1,
              "tickcolor": "rgb(36,36,36)",
              "ticks": "outside"
             }
            },
            "type": "scatterpolar"
           }
          ],
          "scatterpolargl": [
           {
            "marker": {
             "colorbar": {
              "outlinewidth": 1,
              "tickcolor": "rgb(36,36,36)",
              "ticks": "outside"
             }
            },
            "type": "scatterpolargl"
           }
          ],
          "scatterternary": [
           {
            "marker": {
             "colorbar": {
              "outlinewidth": 1,
              "tickcolor": "rgb(36,36,36)",
              "ticks": "outside"
             }
            },
            "type": "scatterternary"
           }
          ],
          "surface": [
           {
            "colorbar": {
             "outlinewidth": 1,
             "tickcolor": "rgb(36,36,36)",
             "ticks": "outside"
            },
            "colorscale": [
             [
              0,
              "#440154"
             ],
             [
              0.1111111111111111,
              "#482878"
             ],
             [
              0.2222222222222222,
              "#3e4989"
             ],
             [
              0.3333333333333333,
              "#31688e"
             ],
             [
              0.4444444444444444,
              "#26828e"
             ],
             [
              0.5555555555555556,
              "#1f9e89"
             ],
             [
              0.6666666666666666,
              "#35b779"
             ],
             [
              0.7777777777777778,
              "#6ece58"
             ],
             [
              0.8888888888888888,
              "#b5de2b"
             ],
             [
              1,
              "#fde725"
             ]
            ],
            "type": "surface"
           }
          ],
          "table": [
           {
            "cells": {
             "fill": {
              "color": "rgb(237,237,237)"
             },
             "line": {
              "color": "white"
             }
            },
            "header": {
             "fill": {
              "color": "rgb(217,217,217)"
             },
             "line": {
              "color": "white"
             }
            },
            "type": "table"
           }
          ]
         },
         "layout": {
          "annotationdefaults": {
           "arrowhead": 0,
           "arrowwidth": 1
          },
          "autotypenumbers": "strict",
          "coloraxis": {
           "colorbar": {
            "outlinewidth": 1,
            "tickcolor": "rgb(36,36,36)",
            "ticks": "outside"
           }
          },
          "colorscale": {
           "diverging": [
            [
             0,
             "rgb(103,0,31)"
            ],
            [
             0.1,
             "rgb(178,24,43)"
            ],
            [
             0.2,
             "rgb(214,96,77)"
            ],
            [
             0.3,
             "rgb(244,165,130)"
            ],
            [
             0.4,
             "rgb(253,219,199)"
            ],
            [
             0.5,
             "rgb(247,247,247)"
            ],
            [
             0.6,
             "rgb(209,229,240)"
            ],
            [
             0.7,
             "rgb(146,197,222)"
            ],
            [
             0.8,
             "rgb(67,147,195)"
            ],
            [
             0.9,
             "rgb(33,102,172)"
            ],
            [
             1,
             "rgb(5,48,97)"
            ]
           ],
           "sequential": [
            [
             0,
             "#440154"
            ],
            [
             0.1111111111111111,
             "#482878"
            ],
            [
             0.2222222222222222,
             "#3e4989"
            ],
            [
             0.3333333333333333,
             "#31688e"
            ],
            [
             0.4444444444444444,
             "#26828e"
            ],
            [
             0.5555555555555556,
             "#1f9e89"
            ],
            [
             0.6666666666666666,
             "#35b779"
            ],
            [
             0.7777777777777778,
             "#6ece58"
            ],
            [
             0.8888888888888888,
             "#b5de2b"
            ],
            [
             1,
             "#fde725"
            ]
           ],
           "sequentialminus": [
            [
             0,
             "#440154"
            ],
            [
             0.1111111111111111,
             "#482878"
            ],
            [
             0.2222222222222222,
             "#3e4989"
            ],
            [
             0.3333333333333333,
             "#31688e"
            ],
            [
             0.4444444444444444,
             "#26828e"
            ],
            [
             0.5555555555555556,
             "#1f9e89"
            ],
            [
             0.6666666666666666,
             "#35b779"
            ],
            [
             0.7777777777777778,
             "#6ece58"
            ],
            [
             0.8888888888888888,
             "#b5de2b"
            ],
            [
             1,
             "#fde725"
            ]
           ]
          },
          "colorway": [
           "#1F77B4",
           "#FF7F0E",
           "#2CA02C",
           "#D62728",
           "#9467BD",
           "#8C564B",
           "#E377C2",
           "#7F7F7F",
           "#BCBD22",
           "#17BECF"
          ],
          "font": {
           "color": "rgb(36,36,36)"
          },
          "geo": {
           "bgcolor": "white",
           "lakecolor": "white",
           "landcolor": "white",
           "showlakes": true,
           "showland": true,
           "subunitcolor": "white"
          },
          "hoverlabel": {
           "align": "left"
          },
          "hovermode": "closest",
          "mapbox": {
           "style": "light"
          },
          "paper_bgcolor": "white",
          "plot_bgcolor": "white",
          "polar": {
           "angularaxis": {
            "gridcolor": "rgb(232,232,232)",
            "linecolor": "rgb(36,36,36)",
            "showgrid": false,
            "showline": true,
            "ticks": "outside"
           },
           "bgcolor": "white",
           "radialaxis": {
            "gridcolor": "rgb(232,232,232)",
            "linecolor": "rgb(36,36,36)",
            "showgrid": false,
            "showline": true,
            "ticks": "outside"
           }
          },
          "scene": {
           "xaxis": {
            "backgroundcolor": "white",
            "gridcolor": "rgb(232,232,232)",
            "gridwidth": 2,
            "linecolor": "rgb(36,36,36)",
            "showbackground": true,
            "showgrid": false,
            "showline": true,
            "ticks": "outside",
            "zeroline": false,
            "zerolinecolor": "rgb(36,36,36)"
           },
           "yaxis": {
            "backgroundcolor": "white",
            "gridcolor": "rgb(232,232,232)",
            "gridwidth": 2,
            "linecolor": "rgb(36,36,36)",
            "showbackground": true,
            "showgrid": false,
            "showline": true,
            "ticks": "outside",
            "zeroline": false,
            "zerolinecolor": "rgb(36,36,36)"
           },
           "zaxis": {
            "backgroundcolor": "white",
            "gridcolor": "rgb(232,232,232)",
            "gridwidth": 2,
            "linecolor": "rgb(36,36,36)",
            "showbackground": true,
            "showgrid": false,
            "showline": true,
            "ticks": "outside",
            "zeroline": false,
            "zerolinecolor": "rgb(36,36,36)"
           }
          },
          "shapedefaults": {
           "fillcolor": "black",
           "line": {
            "width": 0
           },
           "opacity": 0.3
          },
          "ternary": {
           "aaxis": {
            "gridcolor": "rgb(232,232,232)",
            "linecolor": "rgb(36,36,36)",
            "showgrid": false,
            "showline": true,
            "ticks": "outside"
           },
           "baxis": {
            "gridcolor": "rgb(232,232,232)",
            "linecolor": "rgb(36,36,36)",
            "showgrid": false,
            "showline": true,
            "ticks": "outside"
           },
           "bgcolor": "white",
           "caxis": {
            "gridcolor": "rgb(232,232,232)",
            "linecolor": "rgb(36,36,36)",
            "showgrid": false,
            "showline": true,
            "ticks": "outside"
           }
          },
          "title": {
           "x": 0.05
          },
          "xaxis": {
           "automargin": true,
           "gridcolor": "rgb(232,232,232)",
           "linecolor": "rgb(36,36,36)",
           "showgrid": false,
           "showline": true,
           "ticks": "outside",
           "title": {
            "standoff": 15
           },
           "zeroline": false,
           "zerolinecolor": "rgb(36,36,36)"
          },
          "yaxis": {
           "automargin": true,
           "gridcolor": "rgb(232,232,232)",
           "linecolor": "rgb(36,36,36)",
           "showgrid": false,
           "showline": true,
           "ticks": "outside",
           "title": {
            "standoff": 15
           },
           "zeroline": false,
           "zerolinecolor": "rgb(36,36,36)"
          }
         }
        },
        "title": {
         "font": {
          "color": "Black",
          "size": 22
         },
         "text": "<b>Documents and Topics</b>",
         "x": 0.5,
         "xanchor": "center",
         "yanchor": "top"
        },
        "width": 1200,
        "xaxis": {
         "visible": false
        },
        "yaxis": {
         "visible": false
        }
       }
      }
     },
     "metadata": {},
     "output_type": "display_data"
    }
   ],
   "source": [
    "model.visualize_documents(questions)"
   ]
  },
  {
   "cell_type": "code",
   "execution_count": 16,
   "metadata": {},
   "outputs": [],
   "source": [
    "#USING FINETUNING \n",
    "from bertopic.representation import KeyBERTInspired\n",
    "from bertopic.representation import MaximalMarginalRelevance\n",
    "from bertopic.representation import PartOfSpeech\n",
    "\n",
    "representation = [PartOfSpeech(\"en_core_web_sm\"),MaximalMarginalRelevance(diversity=0.2),KeyBERTInspired(top_n_words=30)]\n",
    "\n",
    "model = BERTopic(embedding_model=sentence_model,representation_model=representation,verbose=True,calculate_probabilities=True, nr_topics=20, n_gram_range=(1, 3), min_topic_size=5)\n",
    "\n"
   ]
  },
  {
   "cell_type": "code",
   "execution_count": 17,
   "metadata": {},
   "outputs": [
    {
     "name": "stderr",
     "output_type": "stream",
     "text": [
      "2024-07-17 19:49:47,358 - BERTopic - Embedding - Transforming documents to embeddings.\n",
      "Batches: 100%|██████████| 8/8 [00:07<00:00,  1.06it/s]\n",
      "2024-07-17 19:49:54,921 - BERTopic - Embedding - Completed ✓\n",
      "2024-07-17 19:49:54,921 - BERTopic - Dimensionality - Fitting the dimensionality reduction algorithm\n",
      "2024-07-17 19:49:58,474 - BERTopic - Dimensionality - Completed ✓\n",
      "2024-07-17 19:49:58,474 - BERTopic - Cluster - Start clustering the reduced embeddings\n",
      "2024-07-17 19:49:58,506 - BERTopic - Cluster - Completed ✓\n",
      "2024-07-17 19:49:58,506 - BERTopic - Representation - Extracting topics from clusters using representation models.\n",
      "2024-07-17 19:50:09,269 - BERTopic - Representation - Completed ✓\n",
      "2024-07-17 19:50:09,269 - BERTopic - Topic reduction - Reducing number of topics\n",
      "2024-07-17 19:50:09,269 - BERTopic - Topic reduction - Reduced number of topics from 11 to 11\n"
     ]
    }
   ],
   "source": [
    "topics, probs = model.fit_transform(questions)"
   ]
  },
  {
   "cell_type": "code",
   "execution_count": 18,
   "metadata": {},
   "outputs": [
    {
     "data": {
      "text/html": [
       "<div>\n",
       "<style scoped>\n",
       "    .dataframe tbody tr th:only-of-type {\n",
       "        vertical-align: middle;\n",
       "    }\n",
       "\n",
       "    .dataframe tbody tr th {\n",
       "        vertical-align: top;\n",
       "    }\n",
       "\n",
       "    .dataframe thead th {\n",
       "        text-align: right;\n",
       "    }\n",
       "</style>\n",
       "<table border=\"1\" class=\"dataframe\">\n",
       "  <thead>\n",
       "    <tr style=\"text-align: right;\">\n",
       "      <th></th>\n",
       "      <th>Topic</th>\n",
       "      <th>Count</th>\n",
       "      <th>Name</th>\n",
       "      <th>Representation</th>\n",
       "      <th>Representative_Docs</th>\n",
       "    </tr>\n",
       "  </thead>\n",
       "  <tbody>\n",
       "    <tr>\n",
       "      <th>0</th>\n",
       "      <td>-1</td>\n",
       "      <td>46</td>\n",
       "      <td>-1_indian society_resources of india_scheduled...</td>\n",
       "      <td>[indian society, resources of india, scheduled...</td>\n",
       "      <td>[Why are the tribals in India referred to as '...</td>\n",
       "    </tr>\n",
       "    <tr>\n",
       "      <th>1</th>\n",
       "      <td>0</td>\n",
       "      <td>16</td>\n",
       "      <td>0_indian art_of medieval india_of temple archi...</td>\n",
       "      <td>[indian art, of medieval india, of temple arch...</td>\n",
       "      <td>[Assess the importance of the accounts of the ...</td>\n",
       "    </tr>\n",
       "    <tr>\n",
       "      <th>2</th>\n",
       "      <td>1</td>\n",
       "      <td>12</td>\n",
       "      <td>1_energy in india_producing areas particularly...</td>\n",
       "      <td>[energy in india, producing areas particularly...</td>\n",
       "      <td>[Account for the change in the spatial pattern...</td>\n",
       "    </tr>\n",
       "    <tr>\n",
       "      <th>3</th>\n",
       "      <td>2</td>\n",
       "      <td>49</td>\n",
       "      <td>2_colonial india_struggle for freedom_of india...</td>\n",
       "      <td>[colonial india, struggle for freedom, of indi...</td>\n",
       "      <td>[Highlight the importance of the new objective...</td>\n",
       "    </tr>\n",
       "    <tr>\n",
       "      <th>4</th>\n",
       "      <td>3</td>\n",
       "      <td>11</td>\n",
       "      <td>3_ocean currents and_ocean currents describe_o...</td>\n",
       "      <td>[ocean currents and, ocean currents describe, ...</td>\n",
       "      <td>[Explain the factors responsible for the origi...</td>\n",
       "    </tr>\n",
       "    <tr>\n",
       "      <th>5</th>\n",
       "      <td>4</td>\n",
       "      <td>18</td>\n",
       "      <td>4_of irrigation and_problems of droughts_of dr...</td>\n",
       "      <td>[of irrigation and, problems of droughts, of d...</td>\n",
       "      <td>[Identify and discuss the factors responsible ...</td>\n",
       "    </tr>\n",
       "    <tr>\n",
       "      <th>6</th>\n",
       "      <td>5</td>\n",
       "      <td>28</td>\n",
       "      <td>5_landslides in the_landslides_glaciers_of lan...</td>\n",
       "      <td>[landslides in the, landslides, glaciers, of l...</td>\n",
       "      <td>[Bring out the causes for the formation of hea...</td>\n",
       "    </tr>\n",
       "    <tr>\n",
       "      <th>7</th>\n",
       "      <td>6</td>\n",
       "      <td>17</td>\n",
       "      <td>6_of urbanization in_of urbanization_urbanizat...</td>\n",
       "      <td>[of urbanization in, of urbanization, urbaniza...</td>\n",
       "      <td>[How is the growth of Tier 2 cities related to...</td>\n",
       "    </tr>\n",
       "    <tr>\n",
       "      <th>8</th>\n",
       "      <td>7</td>\n",
       "      <td>15</td>\n",
       "      <td>7_patriarchy impact the_the sex ratio_poverty ...</td>\n",
       "      <td>[patriarchy impact the, the sex ratio, poverty...</td>\n",
       "      <td>[Critically examine whether growing population...</td>\n",
       "    </tr>\n",
       "    <tr>\n",
       "      <th>9</th>\n",
       "      <td>8</td>\n",
       "      <td>5</td>\n",
       "      <td>8_regionalism in india_regionalism substantiat...</td>\n",
       "      <td>[regionalism in india, regionalism substantiat...</td>\n",
       "      <td>[Do we have cultural pockets of small India al...</td>\n",
       "    </tr>\n",
       "    <tr>\n",
       "      <th>10</th>\n",
       "      <td>9</td>\n",
       "      <td>18</td>\n",
       "      <td>9_of vedic society_in indian society_indian so...</td>\n",
       "      <td>[of vedic society, in indian society, indian s...</td>\n",
       "      <td>[Are tolerance, assimilation and pluralism the...</td>\n",
       "    </tr>\n",
       "  </tbody>\n",
       "</table>\n",
       "</div>"
      ],
      "text/plain": [
       "    Topic  Count                                               Name  \\\n",
       "0      -1     46  -1_indian society_resources of india_scheduled...   \n",
       "1       0     16  0_indian art_of medieval india_of temple archi...   \n",
       "2       1     12  1_energy in india_producing areas particularly...   \n",
       "3       2     49  2_colonial india_struggle for freedom_of india...   \n",
       "4       3     11  3_ocean currents and_ocean currents describe_o...   \n",
       "5       4     18  4_of irrigation and_problems of droughts_of dr...   \n",
       "6       5     28  5_landslides in the_landslides_glaciers_of lan...   \n",
       "7       6     17  6_of urbanization in_of urbanization_urbanizat...   \n",
       "8       7     15  7_patriarchy impact the_the sex ratio_poverty ...   \n",
       "9       8      5  8_regionalism in india_regionalism substantiat...   \n",
       "10      9     18  9_of vedic society_in indian society_indian so...   \n",
       "\n",
       "                                       Representation  \\\n",
       "0   [indian society, resources of india, scheduled...   \n",
       "1   [indian art, of medieval india, of temple arch...   \n",
       "2   [energy in india, producing areas particularly...   \n",
       "3   [colonial india, struggle for freedom, of indi...   \n",
       "4   [ocean currents and, ocean currents describe, ...   \n",
       "5   [of irrigation and, problems of droughts, of d...   \n",
       "6   [landslides in the, landslides, glaciers, of l...   \n",
       "7   [of urbanization in, of urbanization, urbaniza...   \n",
       "8   [patriarchy impact the, the sex ratio, poverty...   \n",
       "9   [regionalism in india, regionalism substantiat...   \n",
       "10  [of vedic society, in indian society, indian s...   \n",
       "\n",
       "                                  Representative_Docs  \n",
       "0   [Why are the tribals in India referred to as '...  \n",
       "1   [Assess the importance of the accounts of the ...  \n",
       "2   [Account for the change in the spatial pattern...  \n",
       "3   [Highlight the importance of the new objective...  \n",
       "4   [Explain the factors responsible for the origi...  \n",
       "5   [Identify and discuss the factors responsible ...  \n",
       "6   [Bring out the causes for the formation of hea...  \n",
       "7   [How is the growth of Tier 2 cities related to...  \n",
       "8   [Critically examine whether growing population...  \n",
       "9   [Do we have cultural pockets of small India al...  \n",
       "10  [Are tolerance, assimilation and pluralism the...  "
      ]
     },
     "execution_count": 18,
     "metadata": {},
     "output_type": "execute_result"
    }
   ],
   "source": [
    "model.get_topic_info()"
   ]
  },
  {
   "cell_type": "code",
   "execution_count": 19,
   "metadata": {},
   "outputs": [
    {
     "data": {
      "application/vnd.plotly.v1+json": {
       "config": {
        "plotlyServerURL": "https://plot.ly"
       },
       "data": [
        {
         "hoverinfo": "text",
         "hovertext": [
          "Discuss the positive and negative effects of globalization on women in India?",
          "Mention the advantages of the cultivation of pulses because of which the year 2016 was declared as the International Year of Pulses by United Nations.",
          "From being net food importer in 1960s, India has emerged as a net food exporter to the world. Provide reasons.",
          "‘Communalism arises either due to power struggle or relative deprivation.’ Argue by giving suitable illustrations.",
          "Why did human development fail to keep pace with economic development in India?",
          "COVID-19 pandemic accelerated class inequalities and poverty in India. Comment.",
          "What are the two major legal initiatives by the State since Independence addressing discrimination against Scheduled Tribes(STs)?",
          "What is Cryptocurrency? How does it affect global society? Has it been affecting Indian society also?",
          "Given the diversities among the tribal communities in India, in which specific contexts should they be considered as a single category?",
          "Krishnadeva Raya, the King of Vijayanagar, was not only an accomplished scholar himself but was also a great patron of learning and literature. Discuss.",
          "South China Sea has assumed great geopolitical significance in the present context. Comment.",
          "Growing feeling of regionalism is an important factor in generation of demand for a separate state. Discuss.",
          "What is the significance of Industrial Corridors in India? Identifying industrial corridors, explain their main characteristics.",
          "In the context of the diversity of India, can it be said that the regions form cultural units rather than the States? Give reasons with examples for your view point.",
          "What were the major technological changes introduced during the Sultanate period? How did those technological changes influence the Indian society?",
          "Evaluate the nature of the Bhakti Literature and its contribution to Indian culture.",
          "Examine the status of forest resources of India and its resultant impact on climate change.",
          "Why is India considered as a sub-continent? Elaborate your answer.",
          "Discuss the consequences of climate change on the food security in tropical countries.",
          "Distinguish between religiousness/religiosity and communalism giving one example of how the former has got transformed into the latter in independent India.",
          "Discuss the impact of post-liberal economy on ethnic identity and communalism.",
          "Child cuddling is now being replaced by mobile phones. Discuss its impact on the socialization of children.",
          "Discuss the natural resource potentials of ‘Deccan trap’.",
          "How will the melting of Himalayan glaciers have a far- reaching impact on the water resources of India?",
          "How can the mountain ecosystem be restored from the negative impact of development initiatives and tourism?",
          "Trace the rise and growth of socio-religious reform movements with special reference to Young Bengal and Brahmo Samaj.",
          "Debate the issue whether and how contemporary movements for assertion of Dalit identity work towards annihilation of caste.",
          "Globalisation is generally said to promote cultural homogenisation but due to this cultural specificities appear to be strengthened in the Indian society.’ Elucidate.",
          "Why did the Green Revolution in India virtually by-pass the eastern region despite fertile soil and good availability of water?",
          "Why is India taking keen interest in the Arctic region?",
          "Discuss whether formation of new states in recent times is beneficial or not for the economy of India.",
          "Defining blue revolution, explain the problems and strategies for pisciculture development in India.",
          "Examine the uniqueness of tribal knowledge system when compared with mainstream knowledge and cultural systems.",
          "Write a critical note on the evolution and significance of the slogan, ‘Jai Jawan, Jai Kisan’.",
          "Examine the role of ‘Gig Economy’ in the process of empowerment of women in India.",
          "Assess the main administrative issues and socio-cultural problems in the integration process of Indian Princely States.",
          "Explain the role of geographical factors towards the development of Ancient India.",
          "‘Latecomer’ Industrial Revolution in Japan involved certain factors that were markedly different from what West had experienced.” Analyze.",
          "Taxila university was one of the oldest universities of the world with which were associated a number of renowned learned personalities of different disciplines. Its strategic location caused its fame to flourish, but unlike Nalanda, it is not considered as a university in the modern sense. Discuss.",
          "The ancient civilization in Indian sub continent differed from those of Egypt , Mesopotamia and Greece in that its culture and traditions have been preserved without breakdown to the present day. Comment",
          "Why are the tribals in India referred to as 'the Scheduled Tribes? Indicate the major provisions in the Constitution of India for their upliftment.",
          "Elucidate the relationship between globalization and new technology in a world of scarce resources, with special reference to India.",
          "To what extent has the urban planning and culture of the Indus Valley Civilization provided inputs to the present day urbanization?\nDiscuss.",
          "Critically examine the effect of globalization on the aged population in India.",
          "Discuss the changes in the trends of labour migration within and outside India in the last four decades.",
          "The Bhakti movement received a remarkable re-orientation with the advent of Sri Chaitanya Mahaprabhu. Discuss.",
          null
         ],
         "marker": {
          "color": "#CFD8DC",
          "opacity": 0.5,
          "size": 5
         },
         "mode": "markers+text",
         "name": "other",
         "showlegend": false,
         "type": "scattergl",
         "x": [
          10.664220809936523,
          10.74858570098877,
          10.883871078491211,
          11.19315242767334,
          9.697821617126465,
          9.919682502746582,
          12.33897590637207,
          10.715580940246582,
          12.101244926452637,
          13.991000175476074,
          8.261317253112793,
          11.554265022277832,
          10.08199405670166,
          11.619000434875488,
          10.765559196472168,
          13.863500595092773,
          8.200416564941406,
          11.529376029968262,
          7.371550559997559,
          12.311134338378906,
          11.336383819580078,
          10.880964279174805,
          8.512548446655273,
          7.596866607666016,
          7.9718337059021,
          12.825616836547852,
          11.95199203491211,
          11.307093620300293,
          9.43287181854248,
          8.11691951751709,
          11.36578369140625,
          8.992435455322266,
          12.092028617858887,
          12.764867782592773,
          10.300542831420898,
          11.504470825195312,
          10.610410690307617,
          11.276877403259277,
          14.135178565979004,
          11.6276273727417,
          12.307760238647461,
          10.033595085144043,
          10.274497032165527,
          10.937726974487305,
          10.880671501159668,
          13.673263549804688,
          10.880937576293945
         ],
         "y": [
          5.162603378295898,
          3.160372495651245,
          3.2242188453674316,
          5.618675708770752,
          4.033835411071777,
          5.2663655281066895,
          4.256596565246582,
          4.979166030883789,
          4.789027690887451,
          5.287194728851318,
          1.9019838571548462,
          4.074197769165039,
          3.398505926132202,
          4.255885124206543,
          3.964951276779175,
          5.5080976486206055,
          2.8234472274780273,
          4.680747985839844,
          2.6574721336364746,
          5.421072959899902,
          5.490706443786621,
          5.747049331665039,
          2.752387285232544,
          2.86236572265625,
          2.8934433460235596,
          5.61415958404541,
          5.9019551277160645,
          4.8514885902404785,
          3.679607391357422,
          2.394962787628174,
          3.8180644512176514,
          3.3389198780059814,
          4.798235893249512,
          5.371644020080566,
          5.01473331451416,
          4.004178524017334,
          4.039389133453369,
          2.9929611682891846,
          5.832629203796387,
          4.783175468444824,
          4.3658013343811035,
          3.5023980140686035,
          4.183889865875244,
          4.743358135223389,
          4.6573286056518555,
          5.038607597351074,
          4.2856059074401855
         ]
        },
        {
         "hoverinfo": "text",
         "hovertext": [
          "Discuss the significance of the lion and bull figures in Indian mythology, art and architecture.",
          "Assess the importance of the accounts of the Chinese and Arab travellers in the reconstruction of the history of India.",
          "Chola architecture represents a high watermark in the evolution of temple architecture. Discuss",
          "How do you justify the view that the level of excellence of the Gupta numismatic art is not at all noticeable in later times?",
          "Early Buddhist Stupa-art, while depicting folk motifs and narratives successfully expounds Buddhist ideals. Elucidate.",
          "Mesolithic rock cut architecture of India not only reflects the cultural life of the times but also a fine aesthetic sense comparable to modern painting. Critically evaluate this comment.",
          "Persian literary sources of medieval India reflect the spirit of the age. Comment.",
          "Safeguarding the Indian art heritage is the need of the moment.",
          "Indian Philosophy and tradition played a significant role in conceiving and shaping the monuments and their art in India. Discuss.",
          "Pala period is the most significant phase in the history of Buddhism in India. Enumerate.",
          "The rock-cut architecture represents one of the most important sources of our knowledge of early Indian art and history. Discuss.",
          "Gandhara sculpture owed as much to the Romans as to the Greeks. Explain.",
          "Highlight the Central Asian and Greco Bactrian elements in the Gandhara art.",
          "Discuss the ‘Tandava’ dance as recorded in early Indian inscriptions.",
          "Discuss the main contributions of Gupta period and Chola period to Indian heritage and culture\n.",
          "How will you explain the medieval Indian temple sculptures represent the social life of those days?",
          null
         ],
         "marker": {
          "opacity": 0.5,
          "size": 5
         },
         "mode": "markers+text",
         "name": "0_indian art_of medieval india_of temple architecture",
         "text": [
          "",
          "",
          "",
          "",
          "",
          "",
          "",
          "",
          "",
          "",
          "",
          "",
          "",
          "",
          "",
          "",
          "0_indian art_of medieval india_of temple architecture"
         ],
         "textfont": {
          "size": 12
         },
         "type": "scattergl",
         "x": [
          14.326800346374512,
          13.8208589553833,
          14.25258731842041,
          14.48172378540039,
          14.397711753845215,
          14.323450088500977,
          13.854555130004883,
          14.66097354888916,
          14.269495010375977,
          14.436930656433105,
          14.327656745910645,
          14.342144966125488,
          14.397320747375488,
          14.282495498657227,
          14.416610717773438,
          14.294506072998047,
          14.305363655090332
         ],
         "y": [
          6.450873851776123,
          5.5509538650512695,
          6.574000358581543,
          6.323794364929199,
          6.6004815101623535,
          6.537788391113281,
          5.668297290802002,
          6.299624443054199,
          6.339715957641602,
          6.175632476806641,
          6.654123306274414,
          6.500062942504883,
          6.492990016937256,
          6.68176794052124,
          6.068258285522461,
          6.592371463775635,
          6.34442138671875
         ]
        },
        {
         "hoverinfo": "text",
         "hovertext": [
          "With growing scarcity of fossil fuels, the atomic energy is gaining more and more significance in India. Discuss the availability of raw material required for the generation of atomic energy in India and in the world.",
          "It is said that India has substantial reserves of shale oil and gas, which can feed the needs of the country for quarter century. However, tapping of the resource does not appear to be high on the agenda. Discuss critically the availability and issues involved.",
          "Discuss the multi-dimensional implications of uneven distribution of mineral oil in the world.",
          "Examine the potential of wind energy in India and explain the reasons for their limited spatial spread.",
          "Account for the present location of iron and steel industries away from the source of raw material, by giving examples.",
          "Despite India being one of the countries of the Gondwanaland, its mining industry contributes much less to its Gross Domestic Product(GDP) in percentage. Discuss.",
          "Petroleum refineries are not necessarily located nearer to crude oil producing areas, particularly in many of the developing countries. Explain its implications.",
          "“Inspite of adverse environmental impact, coal mining is still inevitable for development”.\nDiscuss",
          "India has immense potential of solar energy though there are regional variations in its developments. Elaborate.",
          "Account for the change in the spatial pattern of the Iron and Steel industry in the world.",
          "Describing the distribution of rubber producing countries, indicate the major environmental issues faced by them.",
          "How does India see its place in the economic space of rising natural resources rich Africa?",
          null
         ],
         "marker": {
          "opacity": 0.5,
          "size": 5
         },
         "mode": "markers+text",
         "name": "1_energy in india_producing areas particularly_producing areas",
         "text": [
          "",
          "",
          "",
          "",
          "",
          "",
          "",
          "",
          "",
          "",
          "",
          "",
          "1_energy in india_producing areas particularly_producing areas"
         ],
         "textfont": {
          "size": 12
         },
         "type": "scattergl",
         "x": [
          9.64874267578125,
          9.034351348876953,
          8.854464530944824,
          9.876481056213379,
          9.344151496887207,
          9.27871322631836,
          8.954255104064941,
          9.151254653930664,
          9.791927337646484,
          9.452081680297852,
          8.831636428833008,
          9.52145767211914,
          9.311626434326172
         ],
         "y": [
          2.786984920501709,
          2.4468061923980713,
          2.24796724319458,
          2.9044501781463623,
          2.8228249549865723,
          2.7874088287353516,
          2.336503028869629,
          2.708552598953247,
          2.945443868637085,
          2.8877203464508057,
          2.2973315715789795,
          3.2411181926727295,
          2.701092481613159
         ]
        },
        {
         "hoverinfo": "text",
         "hovertext": [
          "What were the major political, economic and social developments in the world which motivated the anti-colonial in India?",
          "“In many ways, Lord Dalhousie was the founder of modern India.” Elaborate.",
          "Analyze the circumstances that led to the Tashkent Agreement in 1966. Discuss the highlights of the Agreement.",
          "Assess the role of British imperial power in complicating the process of transfer of power during the 1940s.",
          "Many voices had strengthened and enriched the nationalist movement during the Gandhian phase. Elaborate.",
          "The 1857 uprising was the culmination of the recurrent, big and small local rebellions that had occurred in the preceding hundred years of British rule. Elucidate.",
          "Examine critically the various facets of economic policies of the British in India from mid-eighteenth century till independence.",
          "Throw light on the significance of the thoughts of Mahatma Gandhi in the present times.",
          "Bring out the constructive programmes of Mahatma Gandhi during Non-Cooperation Movement and Civil Disobedience Movement.",
          "“American Revolution was an economic revolt against mercantilism.” Substantiate.",
          "Clarify how mid-eighteenth century India was beset with the spectre of a fragmented polity.",
          "Why did the armies of the British East India Company – mostly comprising of Indian soldiers – win consistently against the more numerous and better equipped armies of the Indian rulers? Give reasons.",
          "Evaluate the policies of Lord Curzon and their long term implications on the national movements.",
          "What were the events that led to the Suez Crisis in 1956? How did it deal a final blow to Britain’s self-image as a world power?",
          "What was the difference between Mahatma Gandhi and Rabindranath Tagore in their approach towards education and nationalism?",
          "In what ways did the navel mutiny prove to be the last nail in the coffin of British colonial aspirations in India?",
          "It would have been difficult for the Constituent Assembly to complete its historic task of drafting the Constitution for Independent India in just three years, but its experience gained with the Government of India Act, 1935\n.Discuss.",
          "The New Economic Policy – 1921 of Lenin had influenced the policies adopted by India soon after independence. Evaluate.",
          "Whereas the British planters had developed tea gardens all along the Shivaliks and Lesser Himalayas from Assam to Himachal Pradesh, in effect they did not succeed beyond the Darjeeling area. Explain.",
          "Why indentured labour was taken by the British from India to their colonies? have they been able to preserve their cultural identity over there?",
          "Critically discuss the objectives of Bhoodan and Gramdan movements initiated by AcharyaVinobhaBhave and their success.",
          null,
          "Explain how the foundations of the modern world were laid by the American and French Revolutions.",
          "Why did the ‘Moderates’ failed to carry conviction with the nation about their proclaimed ideology and political goals by the end of the nineteenth century?",
          "Examine the linkages between the nineteenth century’s ‘Indian Renaissance’ and the emergence of national identity.",
          "Mahatma Gandhi and Dr. B R Ambedkar, despite having divergent approaches and strategies, had a common goal of amelioration of the downtrodden. Elucidate.",
          "” There arose a serious challenge to the Democratic State System between the two World Wars.” Evaluate the statement.",
          "Examine how the decline of traditional artisanal industry in colonial India crippled the rural economy.",
          "What problems are germane to the decolonization process in the Malay Peninsula?",
          "How did the colonial rule affect the tribals in India and what was the tribal response to the colonial oppression?",
          "The third battle of Panipat was fought in 1761. Why were so many empire-shaking battles fought at Panipat?",
          "“Africa was chopped into states artificially created by accidents of European competition.” Analyze.",
          "Discuss the role of women in the freedom struggle especially during the Gandhian phase.",
          "Why did the industrial revolution first occur in England? Discuss the quality of life of the people there during the industrialization. How does it compare with that in India at present times?",
          "Though not very useful from the point of view of a connected political history of South India, the Sangam literature portrays the social and economic conditions of its time with remarkable vividness. Comment.",
          "What policy instruments were deployed to contain the Great Economic Depression?",
          "The anti-colonial struggles in West Africa were led by the new elite of Western-educated Africans.",
          "Several foreigners made India their homeland and participated in various movements.\nAnalyze their role in the Indian struggle for freedom.",
          "Defying the barriers of age, gender and religion, the Indian women became the torchbearer during the struggle for freedom in India. Discuss.",
          "Critically examine the compulsions which prompted India to play a decisive role in the emergence of Bangladesh.",
          "To what extent did the role of the moderates prepare a base for the wider freedom movement? Comment.",
          "Why was there a sudden spurt in famines in colonial India since the mid-eighteenth century? Give reasons.",
          "Explain how the Uprising of 1857 constitutes an important watershed in the evolution of British policies towards colonial India.",
          "Highlight the differences in the approach of Subhash Chandra Bose and Mahatma Gandhi in the struggle for freedom.",
          "To what extend can Germany be held responsible for causing the two World Wars? Discuss critically.",
          "Discuss the contributions of MaulanaAbulKalam Azad to pre- and post-independent India.",
          "Highlight the importance of the new objectives that got added to the vision of Indian Independence since the twenties of the last century.",
          "The political and administrative reorganization of states and territories has been a continuous ongoing process since the mid-nineteenth century. Discuss with examples.",
          "Since the decade of the 1920s, the national movement acquired various ideological strands and thereby expanded its social base. Discuss."
         ],
         "marker": {
          "opacity": 0.5,
          "size": 5
         },
         "mode": "markers+text",
         "name": "2_colonial india_struggle for freedom_of indian",
         "text": [
          "",
          "",
          "",
          "",
          "",
          "",
          "",
          "",
          "",
          "",
          "",
          "",
          "",
          "",
          "",
          "",
          "",
          "",
          "",
          "",
          "",
          "2_colonial india_struggle for freedom_of indian",
          "",
          "",
          "",
          "",
          "",
          "",
          "",
          "",
          "",
          "",
          "",
          "",
          "",
          "",
          "",
          "",
          "",
          "",
          "",
          "",
          "",
          "",
          "",
          "",
          "",
          "",
          ""
         ],
         "textfont": {
          "size": 12
         },
         "type": "scattergl",
         "x": [
          12.513229370117188,
          13.845541954040527,
          12.860140800476074,
          12.870210647583008,
          13.596028327941895,
          12.870633125305176,
          12.16979694366455,
          13.724977493286133,
          13.868227005004883,
          12.538328170776367,
          12.839604377746582,
          12.011265754699707,
          13.36278247833252,
          12.816230773925781,
          13.737723350524902,
          12.765280723571777,
          13.306926727294922,
          12.390632629394531,
          11.719820022583008,
          12.849505424499512,
          13.65682315826416,
          12.881026268005371,
          12.781888961791992,
          13.46694278717041,
          13.173212051391602,
          13.876903533935547,
          12.954248428344727,
          11.312772750854492,
          12.158608436584473,
          12.477179527282715,
          12.095405578613281,
          12.082417488098145,
          13.513810157775879,
          11.394277572631836,
          12.92916488647461,
          12.374135971069336,
          12.439529418945312,
          13.157259941101074,
          13.356086730957031,
          13.083706855773926,
          13.490948677062988,
          11.40524959564209,
          12.791963577270508,
          13.842510223388672,
          12.892988204956055,
          13.419461250305176,
          13.285995483398438,
          12.015867233276367,
          13.452118873596191
         ],
         "y": [
          3.6492528915405273,
          4.768061637878418,
          3.211374044418335,
          3.1676418781280518,
          3.8489978313446045,
          3.5367465019226074,
          2.978191375732422,
          4.370556831359863,
          4.346255779266357,
          2.904729127883911,
          4.075466156005859,
          3.0088274478912354,
          3.305027484893799,
          3.318480968475342,
          4.087315559387207,
          3.5659286975860596,
          4.087101459503174,
          3.1356778144836426,
          2.978675127029419,
          3.712113857269287,
          4.903009414672852,
          3.658585548400879,
          2.9183154106140137,
          3.411048173904419,
          4.07236909866333,
          4.34870719909668,
          3.069707155227661,
          3.080501079559326,
          3.6369450092315674,
          3.8593504428863525,
          3.054173707962036,
          3.596235990524292,
          4.392223358154297,
          2.997629404067993,
          4.386105060577393,
          3.097407579421997,
          3.5577752590179443,
          3.897568941116333,
          4.297327995300293,
          3.998913049697876,
          3.3810946941375732,
          2.992236375808716,
          3.4994146823883057,
          4.26186990737915,
          2.972757339477539,
          4.169057369232178,
          4.033273220062256,
          3.7373597621917725,
          3.4039318561553955
         ]
        },
        {
         "hoverinfo": "text",
         "hovertext": [
          "Assess the impact of global warming on the coral life system with examples.",
          "How are the fjords formed? Why do they constitute some of the most picturesque areas of the world?",
          "Mention the significance of straits and isthmus in international trade.",
          "How do ocean currents and water masses differ in their impacts on marine life and coastal environment? Give suitable examples.",
          "What are the economic significances of discovery of oil in Arctic Sea and its possible environemental consequences?",
          "Critically evaluate the various resources of the oceans which can be harnessed to meet the resource crisis in the world.",
          "Account for variations in oceanic salinity and discuss its multi-dimensional effects.",
          "What are the forces that influence ocean currents? Describe their role in fishing industry of the world.",
          "Explain the factors responsible for the origin of ocean currents. How do they influence regional climates, fishing and navigation?",
          "What are the consequences of spreading of ‘Dead Zones’ on marine ecosystem?",
          "Discuss the causes of depletion of mangroves and explain their importance in maintaining coastal ecology.",
          null
         ],
         "marker": {
          "opacity": 0.5,
          "size": 5
         },
         "mode": "markers+text",
         "name": "3_ocean currents and_ocean currents describe_of ocean currents",
         "text": [
          "",
          "",
          "",
          "",
          "",
          "",
          "",
          "",
          "",
          "",
          "",
          "3_ocean currents and_ocean currents describe_of ocean currents"
         ],
         "textfont": {
          "size": 12
         },
         "type": "scattergl",
         "x": [
          7.768350601196289,
          7.475686550140381,
          8.22044849395752,
          7.6283063888549805,
          8.260286331176758,
          8.0990629196167,
          7.7741594314575195,
          7.519085884094238,
          7.564272880554199,
          7.81795072555542,
          7.703200340270996,
          7.802800178527832
         ],
         "y": [
          1.5262539386749268,
          1.7769529819488525,
          1.9308106899261475,
          1.5750575065612793,
          1.9718348979949951,
          1.7779104709625244,
          1.5228670835494995,
          1.7056154012680054,
          1.6055690050125122,
          1.5505644083023071,
          1.5366238355636597,
          1.6800053119659424
         ]
        },
        {
         "hoverinfo": "text",
         "hovertext": [
          "Major cities of India are becoming more vulnerable to flood conditions. Discuss.",
          "Why is the world today confronted with a crisis of availability of and access to freshwater resources?",
          "The interlinking of rivers can provide viable solutions to the multi-dimensional inter-related problems of droughts, floods and interrupted navigation. Critically examine.",
          "In what way micro-watershed development projects help in water conservation in\ndrought-prone and semi-arid regions of India?",
          "Comment on the resource potentials of the long coastline of India and highlight the status of natural hazard preparedness in these areas.",
          "Identify and discuss the factors responsible for diversity of natural vegetation in India. Assess the significance of wildlife sanctuaries in rain forests regions of India.",
          "what are the environmental implications of the reclamation of the water bodies into urban land use? Explain with examples.",
          "Why is Indian Regional Navigational Satellite System (IRNSS) needed? How does it help in navigation?",
          "Discuss the meaning of colour-coded weather warnings for cyclone prone areas given by India Meteorological department.",
          "Present an account of the Indus Water Treaty and examine its ecological, economic and political implications in the context of changing bilateral relations.",
          "Account for the huge flooding of million cities in India including the smart ones like Hyderabad and Pune. Suggest lasting remedial measures.",
          "The states of Jammu and Kashmir, Himachal Pradesh and Uttarakhand are reaching the limits of ecological carrying capacity due to tourism. Critically evaluate.",
          "“The ideal solution of depleting ground water resources in India is water harvesting system.” How can it be made effective in urban areas?",
          "India is well endowed with fresh water resources. Critically examine why it still suffers from water scarcity.",
          "Enumerate the problems and prospects of inland water transport in India.",
          "In what way can floods be converted into a sustainable source of irrigation and all-weather inland navigation in India?",
          "The effective management of land and water resources will drastically reduce the human miseries. Explain.",
          "What is water stress? How and why does it differ regionally in India?",
          null
         ],
         "marker": {
          "opacity": 0.5,
          "size": 5
         },
         "mode": "markers+text",
         "name": "4_of irrigation and_problems of droughts_of droughts floods",
         "text": [
          "",
          "",
          "",
          "",
          "",
          "",
          "",
          "",
          "",
          "",
          "",
          "",
          "",
          "",
          "",
          "",
          "",
          "",
          "4_of irrigation and_problems of droughts_of droughts floods"
         ],
         "textfont": {
          "size": 12
         },
         "type": "scattergl",
         "x": [
          7.425933361053467,
          7.746086597442627,
          7.507673740386963,
          7.558314323425293,
          8.257386207580566,
          8.387141227722168,
          7.993574619293213,
          7.691303730010986,
          7.222684383392334,
          7.800262451171875,
          7.685564994812012,
          8.322325706481934,
          7.758902072906494,
          7.722671031951904,
          7.718850612640381,
          7.450603485107422,
          7.938634872436523,
          7.546051025390625,
          7.762998104095459
         ],
         "y": [
          3.3585779666900635,
          3.289214611053467,
          3.411996603012085,
          3.417837381362915,
          2.809159278869629,
          2.864650011062622,
          3.539177417755127,
          2.9259376525878906,
          3.1616556644439697,
          3.0465660095214844,
          3.6069726943969727,
          2.90956711769104,
          3.4618287086486816,
          3.322788715362549,
          3.3277368545532227,
          3.402574300765991,
          3.4930479526519775,
          3.382509469985962,
          3.262877941131592
         ]
        },
        {
         "hoverinfo": "text",
         "hovertext": [
          "What do you understand by the theory of continental drift? Discuss the prominent evidences in its support.",
          "Discuss the concept of air mass and explain its role in macro-climatic changes.",
          "Define mantle plume and explain its role in plate tectonics.",
          "The recent cyclone on the east coast of India was called ‘Phailin’. How are the tropical cyclones named across the world? Elaborate.",
          "Bring out the causes for more frequent occurrence of landslides in the Himalayas than in the Western Ghats.",
          "\"The Himalayas are highly prone to landslides.\" Discuss the causes and suggest suitable measures of mitigation.",
          "Tropical cyclones are largely confined to South China Sea, Bay of Bengal and Gulf of Mexico. Why?",
          "Discuss the geophysical characteristics of Circum- Pacific Zone.",
          "Differentiate the causes of landslides in the Himalayan region and Western Ghats.",
          "Why is the South-West monsoon called ‘Purvaiya’ (easterly) in Bhojpur Region? How has this directional seasonal wind system influenced the cultural ethos of the region?",
          "How far do you agree that the behaviour of the Indian monsoon has been changing due to humanizing landscape? Discuss.",
          "Why are the world’s fold mountain systems located along the margins of continents? Bring out the association between the global distribution of fold mountains and the earthquakes and volcanoes.",
          "The process of desertification does not have climate boundaries. Justify with examples.",
          "Mention the global occurrence of volcanic eruptions in 2021 and their impact on regional environment.",
          "Bring out the causes for the formation of heat islands in the urban habitat of the world.",
          "Most of the unusual climatic happenings are explained as an outcome of the El-Nino effect. Do you agree?",
          "Major hot deserts in northern hemisphere are located between 20-30 deg N latitudes and on the western sides of the continents. Why?",
          "Bring out the relationship between the shrinking Himalayan glaciers and the symptoms of climate change in the Indian sub-continent.",
          "Describe the characteristics and types of primary rocks.",
          "What characteristics can be assigned to monsoon climate that succeeds in feeding more than 50 percent of the world population residing in Monsoon Asia?",
          "How do the melting of the Arctic ice and glaciers of the Antarctic differently affect the weather patterns and human activities on the Earth? Explain.",
          "There is no formation of deltas by rivers on the Western Ghats. Why?",
          "Troposphere is a very significant atmospheric layer that determines weather processes.\nHow?",
          "Explain the formation of thousands of islands in Indonesian and Philipines archipelagos.",
          "How does the cryosphere affect global climate?",
          "How does the Juno Mission of NASA help to understand the origin and evolution of the Earth?",
          "Briefly mention the alignment of major mountain ranges of the world and explain their impact on local weather conditions, with examples.",
          "What do you understand by the phenomenon of ‘temperature inversion’ in meteorology? How does it affect weather and the habitants of the place?",
          null
         ],
         "marker": {
          "opacity": 0.5,
          "size": 5
         },
         "mode": "markers+text",
         "name": "5_landslides in the_landslides_glaciers",
         "text": [
          "",
          "",
          "",
          "",
          "",
          "",
          "",
          "",
          "",
          "",
          "",
          "",
          "",
          "",
          "",
          "",
          "",
          "",
          "",
          "",
          "",
          "",
          "",
          "",
          "",
          "",
          "",
          "",
          "5_landslides in the_landslides_glaciers"
         ],
         "textfont": {
          "size": 12
         },
         "type": "scattergl",
         "x": [
          6.985988616943359,
          6.585308074951172,
          6.871123313903809,
          7.153531074523926,
          7.095351219177246,
          7.165836811065674,
          7.011899948120117,
          6.81024694442749,
          7.174129009246826,
          6.98801326751709,
          6.98454475402832,
          6.947827339172363,
          6.666744232177734,
          6.871731758117676,
          6.595186710357666,
          6.801922798156738,
          6.572511672973633,
          6.915797710418701,
          7.036752700805664,
          6.890300273895264,
          6.7220354080200195,
          7.186278820037842,
          6.448802947998047,
          6.847802639007568,
          6.545307159423828,
          6.67350435256958,
          6.796499252319336,
          6.460477352142334,
          6.850194454193115
         ],
         "y": [
          1.7448033094406128,
          2.2167892456054688,
          1.8173052072525024,
          3.1209094524383545,
          2.2451424598693848,
          2.3237173557281494,
          2.8716189861297607,
          1.8351936340332031,
          2.3167710304260254,
          3.1028013229370117,
          3.0343425273895264,
          1.8893787860870361,
          2.1992902755737305,
          1.931825876235962,
          2.0610742568969727,
          2.7491626739501953,
          2.3066916465759277,
          2.4762701988220215,
          2.117612838745117,
          2.947364330291748,
          2.2920730113983154,
          2.6120541095733643,
          2.2705066204071045,
          1.7506970167160034,
          2.3242228031158447,
          1.7708263397216797,
          2.1278467178344727,
          2.313058853149414,
          2.3131909370422363
         ]
        },
        {
         "hoverinfo": "text",
         "hovertext": [
          "Mention core strategies for the transformation of aspirational districts in India and explain the nature of convergence, collaboration and competition for its success.",
          "“The growth of cities as I.T. hubs has opened up new avenues of employment, but has also created new problems”. Substantiate this statement with examples",
          "With a brief background of quality of urban life in India, introduce the objectives and strategy of the 'Smart City Programme'.",
          "Discuss the main objectives of Population Education and point out the measures to achieve them in India in detail.",
          "Bring out the socio-economic effects of the introduction of railways in different countries of the world",
          "Do you agree that there is a growing trend of opening new sugar mills in southern states of India? Discuss with justification.",
          "Analyze the factors for the highly decentralized cotton textile industry in India.",
          "How is the growth of Tier 2 cities related to the rise of a new middle class with an emphasis on the culture of consumption?",
          "Discuss the various social problems which originated out of the speedy process of urbanization in India.",
          "Does urbanization lead to more segregation and/or marginalization of the poor in Indian metropolises?",
          "How have digital initiatives in India contributed to the functioning of the education system in the country? Elaborate your answer.",
          "Can the strategy of regional resource-based manufacturing help in promoting employment in India?",
          "Smart cities in India cannot sustain without smart vilages. Discuss this statement in the backdrop of rural urban integration.",
          "Discuss the factors for localisation of agro-based food processing industries of North-West India.",
          "How is efficient and affordable urban mass transport key to the rapid economic development in India?",
          "What are the main socio-economic implications arising out of the development of IT industries in major cities of India?",
          "Mumbai, Delhi and Kolkata are the three Mega cities of the country but the air pollution is much more serious probelm in Delhi as compared to the other two. Why is this so?",
          null
         ],
         "marker": {
          "opacity": 0.5,
          "size": 5
         },
         "mode": "markers+text",
         "name": "6_of urbanization in_of urbanization_urbanization",
         "text": [
          "",
          "",
          "",
          "",
          "",
          "",
          "",
          "",
          "",
          "",
          "",
          "",
          "",
          "",
          "",
          "",
          "",
          "6_of urbanization in_of urbanization_urbanization"
         ],
         "textfont": {
          "size": 12
         },
         "type": "scattergl",
         "x": [
          10.150711059570312,
          9.87390422821045,
          9.867127418518066,
          10.06804370880127,
          9.835054397583008,
          10.595786094665527,
          10.610687255859375,
          9.81733512878418,
          10.041669845581055,
          9.842377662658691,
          10.108010292053223,
          10.398187637329102,
          9.851102828979492,
          10.638849258422852,
          9.770553588867188,
          10.12170124053955,
          9.505332946777344,
          10.064496040344238
         ],
         "y": [
          4.746506214141846,
          4.381923675537109,
          4.430034160614014,
          5.257027626037598,
          4.066659927368164,
          3.215940475463867,
          3.2315621376037598,
          4.439726829528809,
          4.2271857261657715,
          4.90570068359375,
          4.72790002822876,
          3.3789174556732178,
          4.450881004333496,
          3.1660654544830322,
          4.2940568923950195,
          4.552989959716797,
          4.678023338317871,
          4.244182586669922
         ]
        },
        {
         "hoverinfo": "text",
         "hovertext": [
          "“Empowering women is the key to control population growth.” Discuss.",
          "How does patriarchy impact the position of a middle class working woman in India?",
          "Why do some of the most prosperous regions of India have an adverse sex ratio for women? Give your arguments.",
          "‘Women’s movement in India has not addressed the issues of women of lower social strata.’ Substantiate your view.",
          "\"An essential condition to eradicate poverty is to liberate the poor from the process of deprivation.\" Substantiate this statement with suitable examples.",
          "“Male membership needs to be encouraged in order to make women’s organization free from gender bias.” Comment.",
          "The women’s questions arose in modern India as a part of the 19th century social reform movement. What are the major issues and debates concerning women in that period?",
          "How do you explain the statistics that show that the sex ratio in Tribes in India is more favourable to women than the sex ratio among Scheduled Castes?",
          "The life cycle of a joint family depends on economic factors rather than social values. Discuss.",
          "Critically examine whether growing population is the cause of poverty OR poverty is the mains cause of population increase in India.",
          "‘Despite implementation of various programmes for eradication of poverty by the government in India, poverty is still existing’. Explain by giving reasons.",
          "Explore and evaluate the impact of ‘Work From Home’ on family relationships.",
          "What are the continued challenges for women in India against time and space?",
          "Discuss the various economic and\nsocio-cultural forces that are driving increasing feminization of agriculture in India.",
          "Explain why suicide among young women is increasing in Indian Society.",
          null
         ],
         "marker": {
          "opacity": 0.5,
          "size": 5
         },
         "mode": "markers+text",
         "name": "7_patriarchy impact the_the sex ratio_poverty is the",
         "text": [
          "",
          "",
          "",
          "",
          "",
          "",
          "",
          "",
          "",
          "",
          "",
          "",
          "",
          "",
          "",
          "7_patriarchy impact the_the sex ratio_poverty is the"
         ],
         "textfont": {
          "size": 12
         },
         "type": "scattergl",
         "x": [
          10.092902183532715,
          10.208757400512695,
          10.17428207397461,
          10.302495956420898,
          9.847516059875488,
          10.303357124328613,
          10.08291244506836,
          10.192333221435547,
          10.834883689880371,
          10.049768447875977,
          9.93352222442627,
          10.75612735748291,
          10.157925605773926,
          10.231221199035645,
          10.173659324645996,
          10.222777366638184
         ],
         "y": [
          5.479471206665039,
          5.703857421875,
          5.668926239013672,
          5.717507362365723,
          5.537982940673828,
          5.622559547424316,
          5.902552127838135,
          5.756847381591797,
          5.7231574058532715,
          5.428351879119873,
          5.406571865081787,
          5.780546188354492,
          5.85427188873291,
          5.639338970184326,
          5.67123556137085,
          5.659544944763184
         ]
        },
        {
         "hoverinfo": "text",
         "hovertext": [
          "To what extent globalization has influenced the core of cultural diversity in India? Explain.",
          "Do you agree that regionalism in India appears to be a consequence of rising cultural assertiveness? Argue.",
          "Do we have cultural pockets of small India all over the nation? Elaborate with examples.",
          "What is the basis of regionalism? Is it that unequal distribution of benefits of development on regional basis eventually promotes regionalism? Substantiate your answer.",
          "Has the formation of linguistic States strengthened the cause of Indian Unity?",
          null
         ],
         "marker": {
          "opacity": 0.5,
          "size": 5
         },
         "mode": "markers+text",
         "name": "8_regionalism in india_regionalism substantiate_regionalism in",
         "text": [
          "",
          "",
          "",
          "",
          "",
          "8_regionalism in india_regionalism substantiate_regionalism in"
         ],
         "textfont": {
          "size": 12
         },
         "type": "scattergl",
         "x": [
          11.122560501098633,
          11.329566955566406,
          11.390192985534668,
          11.392107963562012,
          11.458130836486816,
          11.33851146697998
         ],
         "y": [
          4.707242012023926,
          4.303595066070557,
          4.390013217926025,
          4.170134544372559,
          4.010548114776611,
          4.316306114196777
         ]
        },
        {
         "hoverinfo": "text",
         "hovertext": [
          "Why is caste identity in India both fluid and static?",
          "How do the Indian debates on secularism differ from the debates in the West?",
          "Sufis and medieval saints failed to modify either the religious ideas and practices or the outward structure of Hindu/ Muslim societies to any appreciable extent. Comment.",
          "Customs and traditions suppress reason leading to obscurantism. Do you agree?",
          "What are the main features of Vedic society and religion? Do you think some of the features are still prevailing in Indian society?",
          "Analyze the salience of ‘sect’ in Indian society vis-a-vis caste, region and religion.",
          "Describe any four cultural elements of diversity in India and rate their relative significance in building a national identity.",
          "How the Indian concept of secularism different from the western model of secularism?\nDiscuss.",
          "Are we losing our local identity for the global identity? Discuss.",
          "“Caste system is assuming new identities and associational forms. Hence, caste system cannot be eradicated in India.”",
          "Has caste lost its relevance in understanding the multi- cultural Indian Society? Elaborate your answer with illustrations.",
          "The spirit of tolerance and love is not only an interesting feature of Indian society from very early times, but it is also playing an important part at the present. Elaborate.",
          "Is diversity and pluralism in India under threat due to globalisation? Justify your answer.",
          "Do you think marriage as a sacrament in loosing its value in Modern India?",
          "How does Indian society maintain continuity in traditional social values? Enumerate the changes taking place in it.",
          "What are the challenges to our cultural practices in the name of secularism?",
          "Are tolerance, assimilation and pluralism the key elements in the making of an Indian form of secularism? Justify your answer.",
          "What makes the Indian society unique in sustaining its culture? Discuss.",
          null
         ],
         "marker": {
          "opacity": 0.5,
          "size": 5
         },
         "mode": "markers+text",
         "name": "9_of vedic society_in indian society_indian society",
         "text": [
          "",
          "",
          "",
          "",
          "",
          "",
          "",
          "",
          "",
          "",
          "",
          "",
          "",
          "",
          "",
          "",
          "",
          "",
          "9_of vedic society_in indian society_indian society"
         ],
         "textfont": {
          "size": 12
         },
         "type": "scattergl",
         "x": [
          11.973088264465332,
          12.50419807434082,
          12.796822547912598,
          12.659353256225586,
          11.963170051574707,
          12.187911033630371,
          11.847291946411133,
          12.583558082580566,
          11.354105949401855,
          11.987417221069336,
          11.922456741333008,
          12.422733306884766,
          11.309273719787598,
          11.959125518798828,
          11.879609107971191,
          12.563944816589355,
          12.569828987121582,
          11.829797744750977,
          12.128538131713867
         ],
         "y": [
          5.839257717132568,
          5.701137542724609,
          5.8197760581970215,
          5.841224193572998,
          5.395452976226807,
          5.651161193847656,
          5.020005226135254,
          5.748181343078613,
          5.144452095031738,
          5.889546871185303,
          5.849065780639648,
          5.498809814453125,
          4.773096561431885,
          5.790600776672363,
          5.483614921569824,
          5.7902398109436035,
          5.756633281707764,
          5.013486862182617,
          5.555874824523926
         ]
        }
       ],
       "layout": {
        "annotations": [
         {
          "showarrow": false,
          "text": "D1",
          "x": 5.48148250579834,
          "y": 4.48923507630825,
          "yshift": 10
         },
         {
          "showarrow": false,
          "text": "D2",
          "x": 11.170801043510437,
          "xshift": 10,
          "y": 7.684033131599426
         }
        ],
        "height": 750,
        "shapes": [
         {
          "line": {
           "color": "#CFD8DC",
           "width": 2
          },
          "type": "line",
          "x0": 11.170801043510437,
          "x1": 11.170801043510437,
          "y0": 1.2944370210170746,
          "y1": 7.684033131599426
         },
         {
          "line": {
           "color": "#9E9E9E",
           "width": 2
          },
          "type": "line",
          "x0": 5.48148250579834,
          "x1": 16.860119581222534,
          "y0": 4.48923507630825,
          "y1": 4.48923507630825
         }
        ],
        "template": {
         "data": {
          "bar": [
           {
            "error_x": {
             "color": "rgb(36,36,36)"
            },
            "error_y": {
             "color": "rgb(36,36,36)"
            },
            "marker": {
             "line": {
              "color": "white",
              "width": 0.5
             },
             "pattern": {
              "fillmode": "overlay",
              "size": 10,
              "solidity": 0.2
             }
            },
            "type": "bar"
           }
          ],
          "barpolar": [
           {
            "marker": {
             "line": {
              "color": "white",
              "width": 0.5
             },
             "pattern": {
              "fillmode": "overlay",
              "size": 10,
              "solidity": 0.2
             }
            },
            "type": "barpolar"
           }
          ],
          "carpet": [
           {
            "aaxis": {
             "endlinecolor": "rgb(36,36,36)",
             "gridcolor": "white",
             "linecolor": "white",
             "minorgridcolor": "white",
             "startlinecolor": "rgb(36,36,36)"
            },
            "baxis": {
             "endlinecolor": "rgb(36,36,36)",
             "gridcolor": "white",
             "linecolor": "white",
             "minorgridcolor": "white",
             "startlinecolor": "rgb(36,36,36)"
            },
            "type": "carpet"
           }
          ],
          "choropleth": [
           {
            "colorbar": {
             "outlinewidth": 1,
             "tickcolor": "rgb(36,36,36)",
             "ticks": "outside"
            },
            "type": "choropleth"
           }
          ],
          "contour": [
           {
            "colorbar": {
             "outlinewidth": 1,
             "tickcolor": "rgb(36,36,36)",
             "ticks": "outside"
            },
            "colorscale": [
             [
              0,
              "#440154"
             ],
             [
              0.1111111111111111,
              "#482878"
             ],
             [
              0.2222222222222222,
              "#3e4989"
             ],
             [
              0.3333333333333333,
              "#31688e"
             ],
             [
              0.4444444444444444,
              "#26828e"
             ],
             [
              0.5555555555555556,
              "#1f9e89"
             ],
             [
              0.6666666666666666,
              "#35b779"
             ],
             [
              0.7777777777777778,
              "#6ece58"
             ],
             [
              0.8888888888888888,
              "#b5de2b"
             ],
             [
              1,
              "#fde725"
             ]
            ],
            "type": "contour"
           }
          ],
          "contourcarpet": [
           {
            "colorbar": {
             "outlinewidth": 1,
             "tickcolor": "rgb(36,36,36)",
             "ticks": "outside"
            },
            "type": "contourcarpet"
           }
          ],
          "heatmap": [
           {
            "colorbar": {
             "outlinewidth": 1,
             "tickcolor": "rgb(36,36,36)",
             "ticks": "outside"
            },
            "colorscale": [
             [
              0,
              "#440154"
             ],
             [
              0.1111111111111111,
              "#482878"
             ],
             [
              0.2222222222222222,
              "#3e4989"
             ],
             [
              0.3333333333333333,
              "#31688e"
             ],
             [
              0.4444444444444444,
              "#26828e"
             ],
             [
              0.5555555555555556,
              "#1f9e89"
             ],
             [
              0.6666666666666666,
              "#35b779"
             ],
             [
              0.7777777777777778,
              "#6ece58"
             ],
             [
              0.8888888888888888,
              "#b5de2b"
             ],
             [
              1,
              "#fde725"
             ]
            ],
            "type": "heatmap"
           }
          ],
          "heatmapgl": [
           {
            "colorbar": {
             "outlinewidth": 1,
             "tickcolor": "rgb(36,36,36)",
             "ticks": "outside"
            },
            "colorscale": [
             [
              0,
              "#440154"
             ],
             [
              0.1111111111111111,
              "#482878"
             ],
             [
              0.2222222222222222,
              "#3e4989"
             ],
             [
              0.3333333333333333,
              "#31688e"
             ],
             [
              0.4444444444444444,
              "#26828e"
             ],
             [
              0.5555555555555556,
              "#1f9e89"
             ],
             [
              0.6666666666666666,
              "#35b779"
             ],
             [
              0.7777777777777778,
              "#6ece58"
             ],
             [
              0.8888888888888888,
              "#b5de2b"
             ],
             [
              1,
              "#fde725"
             ]
            ],
            "type": "heatmapgl"
           }
          ],
          "histogram": [
           {
            "marker": {
             "line": {
              "color": "white",
              "width": 0.6
             }
            },
            "type": "histogram"
           }
          ],
          "histogram2d": [
           {
            "colorbar": {
             "outlinewidth": 1,
             "tickcolor": "rgb(36,36,36)",
             "ticks": "outside"
            },
            "colorscale": [
             [
              0,
              "#440154"
             ],
             [
              0.1111111111111111,
              "#482878"
             ],
             [
              0.2222222222222222,
              "#3e4989"
             ],
             [
              0.3333333333333333,
              "#31688e"
             ],
             [
              0.4444444444444444,
              "#26828e"
             ],
             [
              0.5555555555555556,
              "#1f9e89"
             ],
             [
              0.6666666666666666,
              "#35b779"
             ],
             [
              0.7777777777777778,
              "#6ece58"
             ],
             [
              0.8888888888888888,
              "#b5de2b"
             ],
             [
              1,
              "#fde725"
             ]
            ],
            "type": "histogram2d"
           }
          ],
          "histogram2dcontour": [
           {
            "colorbar": {
             "outlinewidth": 1,
             "tickcolor": "rgb(36,36,36)",
             "ticks": "outside"
            },
            "colorscale": [
             [
              0,
              "#440154"
             ],
             [
              0.1111111111111111,
              "#482878"
             ],
             [
              0.2222222222222222,
              "#3e4989"
             ],
             [
              0.3333333333333333,
              "#31688e"
             ],
             [
              0.4444444444444444,
              "#26828e"
             ],
             [
              0.5555555555555556,
              "#1f9e89"
             ],
             [
              0.6666666666666666,
              "#35b779"
             ],
             [
              0.7777777777777778,
              "#6ece58"
             ],
             [
              0.8888888888888888,
              "#b5de2b"
             ],
             [
              1,
              "#fde725"
             ]
            ],
            "type": "histogram2dcontour"
           }
          ],
          "mesh3d": [
           {
            "colorbar": {
             "outlinewidth": 1,
             "tickcolor": "rgb(36,36,36)",
             "ticks": "outside"
            },
            "type": "mesh3d"
           }
          ],
          "parcoords": [
           {
            "line": {
             "colorbar": {
              "outlinewidth": 1,
              "tickcolor": "rgb(36,36,36)",
              "ticks": "outside"
             }
            },
            "type": "parcoords"
           }
          ],
          "pie": [
           {
            "automargin": true,
            "type": "pie"
           }
          ],
          "scatter": [
           {
            "fillpattern": {
             "fillmode": "overlay",
             "size": 10,
             "solidity": 0.2
            },
            "type": "scatter"
           }
          ],
          "scatter3d": [
           {
            "line": {
             "colorbar": {
              "outlinewidth": 1,
              "tickcolor": "rgb(36,36,36)",
              "ticks": "outside"
             }
            },
            "marker": {
             "colorbar": {
              "outlinewidth": 1,
              "tickcolor": "rgb(36,36,36)",
              "ticks": "outside"
             }
            },
            "type": "scatter3d"
           }
          ],
          "scattercarpet": [
           {
            "marker": {
             "colorbar": {
              "outlinewidth": 1,
              "tickcolor": "rgb(36,36,36)",
              "ticks": "outside"
             }
            },
            "type": "scattercarpet"
           }
          ],
          "scattergeo": [
           {
            "marker": {
             "colorbar": {
              "outlinewidth": 1,
              "tickcolor": "rgb(36,36,36)",
              "ticks": "outside"
             }
            },
            "type": "scattergeo"
           }
          ],
          "scattergl": [
           {
            "marker": {
             "colorbar": {
              "outlinewidth": 1,
              "tickcolor": "rgb(36,36,36)",
              "ticks": "outside"
             }
            },
            "type": "scattergl"
           }
          ],
          "scattermapbox": [
           {
            "marker": {
             "colorbar": {
              "outlinewidth": 1,
              "tickcolor": "rgb(36,36,36)",
              "ticks": "outside"
             }
            },
            "type": "scattermapbox"
           }
          ],
          "scatterpolar": [
           {
            "marker": {
             "colorbar": {
              "outlinewidth": 1,
              "tickcolor": "rgb(36,36,36)",
              "ticks": "outside"
             }
            },
            "type": "scatterpolar"
           }
          ],
          "scatterpolargl": [
           {
            "marker": {
             "colorbar": {
              "outlinewidth": 1,
              "tickcolor": "rgb(36,36,36)",
              "ticks": "outside"
             }
            },
            "type": "scatterpolargl"
           }
          ],
          "scatterternary": [
           {
            "marker": {
             "colorbar": {
              "outlinewidth": 1,
              "tickcolor": "rgb(36,36,36)",
              "ticks": "outside"
             }
            },
            "type": "scatterternary"
           }
          ],
          "surface": [
           {
            "colorbar": {
             "outlinewidth": 1,
             "tickcolor": "rgb(36,36,36)",
             "ticks": "outside"
            },
            "colorscale": [
             [
              0,
              "#440154"
             ],
             [
              0.1111111111111111,
              "#482878"
             ],
             [
              0.2222222222222222,
              "#3e4989"
             ],
             [
              0.3333333333333333,
              "#31688e"
             ],
             [
              0.4444444444444444,
              "#26828e"
             ],
             [
              0.5555555555555556,
              "#1f9e89"
             ],
             [
              0.6666666666666666,
              "#35b779"
             ],
             [
              0.7777777777777778,
              "#6ece58"
             ],
             [
              0.8888888888888888,
              "#b5de2b"
             ],
             [
              1,
              "#fde725"
             ]
            ],
            "type": "surface"
           }
          ],
          "table": [
           {
            "cells": {
             "fill": {
              "color": "rgb(237,237,237)"
             },
             "line": {
              "color": "white"
             }
            },
            "header": {
             "fill": {
              "color": "rgb(217,217,217)"
             },
             "line": {
              "color": "white"
             }
            },
            "type": "table"
           }
          ]
         },
         "layout": {
          "annotationdefaults": {
           "arrowhead": 0,
           "arrowwidth": 1
          },
          "autotypenumbers": "strict",
          "coloraxis": {
           "colorbar": {
            "outlinewidth": 1,
            "tickcolor": "rgb(36,36,36)",
            "ticks": "outside"
           }
          },
          "colorscale": {
           "diverging": [
            [
             0,
             "rgb(103,0,31)"
            ],
            [
             0.1,
             "rgb(178,24,43)"
            ],
            [
             0.2,
             "rgb(214,96,77)"
            ],
            [
             0.3,
             "rgb(244,165,130)"
            ],
            [
             0.4,
             "rgb(253,219,199)"
            ],
            [
             0.5,
             "rgb(247,247,247)"
            ],
            [
             0.6,
             "rgb(209,229,240)"
            ],
            [
             0.7,
             "rgb(146,197,222)"
            ],
            [
             0.8,
             "rgb(67,147,195)"
            ],
            [
             0.9,
             "rgb(33,102,172)"
            ],
            [
             1,
             "rgb(5,48,97)"
            ]
           ],
           "sequential": [
            [
             0,
             "#440154"
            ],
            [
             0.1111111111111111,
             "#482878"
            ],
            [
             0.2222222222222222,
             "#3e4989"
            ],
            [
             0.3333333333333333,
             "#31688e"
            ],
            [
             0.4444444444444444,
             "#26828e"
            ],
            [
             0.5555555555555556,
             "#1f9e89"
            ],
            [
             0.6666666666666666,
             "#35b779"
            ],
            [
             0.7777777777777778,
             "#6ece58"
            ],
            [
             0.8888888888888888,
             "#b5de2b"
            ],
            [
             1,
             "#fde725"
            ]
           ],
           "sequentialminus": [
            [
             0,
             "#440154"
            ],
            [
             0.1111111111111111,
             "#482878"
            ],
            [
             0.2222222222222222,
             "#3e4989"
            ],
            [
             0.3333333333333333,
             "#31688e"
            ],
            [
             0.4444444444444444,
             "#26828e"
            ],
            [
             0.5555555555555556,
             "#1f9e89"
            ],
            [
             0.6666666666666666,
             "#35b779"
            ],
            [
             0.7777777777777778,
             "#6ece58"
            ],
            [
             0.8888888888888888,
             "#b5de2b"
            ],
            [
             1,
             "#fde725"
            ]
           ]
          },
          "colorway": [
           "#1F77B4",
           "#FF7F0E",
           "#2CA02C",
           "#D62728",
           "#9467BD",
           "#8C564B",
           "#E377C2",
           "#7F7F7F",
           "#BCBD22",
           "#17BECF"
          ],
          "font": {
           "color": "rgb(36,36,36)"
          },
          "geo": {
           "bgcolor": "white",
           "lakecolor": "white",
           "landcolor": "white",
           "showlakes": true,
           "showland": true,
           "subunitcolor": "white"
          },
          "hoverlabel": {
           "align": "left"
          },
          "hovermode": "closest",
          "mapbox": {
           "style": "light"
          },
          "paper_bgcolor": "white",
          "plot_bgcolor": "white",
          "polar": {
           "angularaxis": {
            "gridcolor": "rgb(232,232,232)",
            "linecolor": "rgb(36,36,36)",
            "showgrid": false,
            "showline": true,
            "ticks": "outside"
           },
           "bgcolor": "white",
           "radialaxis": {
            "gridcolor": "rgb(232,232,232)",
            "linecolor": "rgb(36,36,36)",
            "showgrid": false,
            "showline": true,
            "ticks": "outside"
           }
          },
          "scene": {
           "xaxis": {
            "backgroundcolor": "white",
            "gridcolor": "rgb(232,232,232)",
            "gridwidth": 2,
            "linecolor": "rgb(36,36,36)",
            "showbackground": true,
            "showgrid": false,
            "showline": true,
            "ticks": "outside",
            "zeroline": false,
            "zerolinecolor": "rgb(36,36,36)"
           },
           "yaxis": {
            "backgroundcolor": "white",
            "gridcolor": "rgb(232,232,232)",
            "gridwidth": 2,
            "linecolor": "rgb(36,36,36)",
            "showbackground": true,
            "showgrid": false,
            "showline": true,
            "ticks": "outside",
            "zeroline": false,
            "zerolinecolor": "rgb(36,36,36)"
           },
           "zaxis": {
            "backgroundcolor": "white",
            "gridcolor": "rgb(232,232,232)",
            "gridwidth": 2,
            "linecolor": "rgb(36,36,36)",
            "showbackground": true,
            "showgrid": false,
            "showline": true,
            "ticks": "outside",
            "zeroline": false,
            "zerolinecolor": "rgb(36,36,36)"
           }
          },
          "shapedefaults": {
           "fillcolor": "black",
           "line": {
            "width": 0
           },
           "opacity": 0.3
          },
          "ternary": {
           "aaxis": {
            "gridcolor": "rgb(232,232,232)",
            "linecolor": "rgb(36,36,36)",
            "showgrid": false,
            "showline": true,
            "ticks": "outside"
           },
           "baxis": {
            "gridcolor": "rgb(232,232,232)",
            "linecolor": "rgb(36,36,36)",
            "showgrid": false,
            "showline": true,
            "ticks": "outside"
           },
           "bgcolor": "white",
           "caxis": {
            "gridcolor": "rgb(232,232,232)",
            "linecolor": "rgb(36,36,36)",
            "showgrid": false,
            "showline": true,
            "ticks": "outside"
           }
          },
          "title": {
           "x": 0.05
          },
          "xaxis": {
           "automargin": true,
           "gridcolor": "rgb(232,232,232)",
           "linecolor": "rgb(36,36,36)",
           "showgrid": false,
           "showline": true,
           "ticks": "outside",
           "title": {
            "standoff": 15
           },
           "zeroline": false,
           "zerolinecolor": "rgb(36,36,36)"
          },
          "yaxis": {
           "automargin": true,
           "gridcolor": "rgb(232,232,232)",
           "linecolor": "rgb(36,36,36)",
           "showgrid": false,
           "showline": true,
           "ticks": "outside",
           "title": {
            "standoff": 15
           },
           "zeroline": false,
           "zerolinecolor": "rgb(36,36,36)"
          }
         }
        },
        "title": {
         "font": {
          "color": "Black",
          "size": 22
         },
         "text": "<b>Documents and Topics</b>",
         "x": 0.5,
         "xanchor": "center",
         "yanchor": "top"
        },
        "width": 1200,
        "xaxis": {
         "visible": false
        },
        "yaxis": {
         "visible": false
        }
       }
      }
     },
     "metadata": {},
     "output_type": "display_data"
    }
   ],
   "source": [
    "model.visualize_documents(questions)"
   ]
  },
  {
   "cell_type": "code",
   "execution_count": 20,
   "metadata": {},
   "outputs": [],
   "source": [
    "#UPDATING C-TF-IDF\n",
    "from bertopic.vectorizers import ClassTfidfTransformer\n",
    "ctfidf_model = ClassTfidfTransformer(bm25_weighting=True,reduce_frequent_words=True)\n",
    "model = BERTopic(embedding_model=sentence_model,representation_model=representation,ctfidf_model=ctfidf_model,verbose=True,calculate_probabilities=True, nr_topics=20, n_gram_range=(1, 3), min_topic_size=5)"
   ]
  },
  {
   "cell_type": "code",
   "execution_count": 21,
   "metadata": {},
   "outputs": [
    {
     "name": "stderr",
     "output_type": "stream",
     "text": [
      "2024-07-17 19:50:22,684 - BERTopic - Embedding - Transforming documents to embeddings.\n",
      "Batches: 100%|██████████| 8/8 [00:07<00:00,  1.05it/s]\n",
      "2024-07-17 19:50:30,332 - BERTopic - Embedding - Completed ✓\n",
      "2024-07-17 19:50:30,333 - BERTopic - Dimensionality - Fitting the dimensionality reduction algorithm\n",
      "2024-07-17 19:50:35,133 - BERTopic - Dimensionality - Completed ✓\n",
      "2024-07-17 19:50:35,136 - BERTopic - Cluster - Start clustering the reduced embeddings\n",
      "2024-07-17 19:50:35,156 - BERTopic - Cluster - Completed ✓\n",
      "2024-07-17 19:50:35,158 - BERTopic - Representation - Extracting topics from clusters using representation models.\n",
      "2024-07-17 19:50:47,173 - BERTopic - Representation - Completed ✓\n",
      "2024-07-17 19:50:47,174 - BERTopic - Topic reduction - Reducing number of topics\n",
      "2024-07-17 19:50:47,175 - BERTopic - Topic reduction - Reduced number of topics from 10 to 10\n"
     ]
    }
   ],
   "source": [
    "topics, probs = model.fit_transform(questions)"
   ]
  },
  {
   "cell_type": "code",
   "execution_count": 22,
   "metadata": {},
   "outputs": [
    {
     "data": {
      "text/html": [
       "<div>\n",
       "<style scoped>\n",
       "    .dataframe tbody tr th:only-of-type {\n",
       "        vertical-align: middle;\n",
       "    }\n",
       "\n",
       "    .dataframe tbody tr th {\n",
       "        vertical-align: top;\n",
       "    }\n",
       "\n",
       "    .dataframe thead th {\n",
       "        text-align: right;\n",
       "    }\n",
       "</style>\n",
       "<table border=\"1\" class=\"dataframe\">\n",
       "  <thead>\n",
       "    <tr style=\"text-align: right;\">\n",
       "      <th></th>\n",
       "      <th>Topic</th>\n",
       "      <th>Count</th>\n",
       "      <th>Name</th>\n",
       "      <th>Representation</th>\n",
       "      <th>Representative_Docs</th>\n",
       "    </tr>\n",
       "  </thead>\n",
       "  <tbody>\n",
       "    <tr>\n",
       "      <th>0</th>\n",
       "      <td>-1</td>\n",
       "      <td>47</td>\n",
       "      <td>-1_the indian society_indian society_india dis...</td>\n",
       "      <td>[the indian society, indian society, india dis...</td>\n",
       "      <td>[Why are the tribals in India referred to as '...</td>\n",
       "    </tr>\n",
       "    <tr>\n",
       "      <th>1</th>\n",
       "      <td>0</td>\n",
       "      <td>9</td>\n",
       "      <td>0_energy in india_oil producing areas_oil prod...</td>\n",
       "      <td>[energy in india, oil producing areas, oil pro...</td>\n",
       "      <td>[Despite India being one of the countries of t...</td>\n",
       "    </tr>\n",
       "    <tr>\n",
       "      <th>2</th>\n",
       "      <td>1</td>\n",
       "      <td>64</td>\n",
       "      <td>1_glaciers_climate_climate change_western ghats</td>\n",
       "      <td>[glaciers, climate, climate change, western gh...</td>\n",
       "      <td>[What do you understand by the phenomenon of ‘...</td>\n",
       "    </tr>\n",
       "    <tr>\n",
       "      <th>3</th>\n",
       "      <td>2</td>\n",
       "      <td>18</td>\n",
       "      <td>2_indian art_of temple architecture_of the gup...</td>\n",
       "      <td>[indian art, of temple architecture, of the gu...</td>\n",
       "      <td>[The rock-cut architecture represents one of t...</td>\n",
       "    </tr>\n",
       "    <tr>\n",
       "      <th>4</th>\n",
       "      <td>3</td>\n",
       "      <td>44</td>\n",
       "      <td>3_of indian independence_gandhi in the_of maha...</td>\n",
       "      <td>[of indian independence, gandhi in the, of mah...</td>\n",
       "      <td>[Whereas the British planters had developed te...</td>\n",
       "    </tr>\n",
       "    <tr>\n",
       "      <th>5</th>\n",
       "      <td>4</td>\n",
       "      <td>18</td>\n",
       "      <td>4_of urbanization_of urbanization in_urbanizat...</td>\n",
       "      <td>[of urbanization, of urbanization in, urbaniza...</td>\n",
       "      <td>[How is the growth of Tier 2 cities related to...</td>\n",
       "    </tr>\n",
       "    <tr>\n",
       "      <th>6</th>\n",
       "      <td>5</td>\n",
       "      <td>16</td>\n",
       "      <td>5_women in india_poverty is the_poverty is to_...</td>\n",
       "      <td>[women in india, poverty is the, poverty is to...</td>\n",
       "      <td>[‘Despite implementation of various programmes...</td>\n",
       "    </tr>\n",
       "    <tr>\n",
       "      <th>7</th>\n",
       "      <td>6</td>\n",
       "      <td>7</td>\n",
       "      <td>6_regionalism in india_regionalism substantiat...</td>\n",
       "      <td>[regionalism in india, regionalism substantiat...</td>\n",
       "      <td>[Growing feeling of regionalism is an importan...</td>\n",
       "    </tr>\n",
       "    <tr>\n",
       "      <th>8</th>\n",
       "      <td>7</td>\n",
       "      <td>6</td>\n",
       "      <td>7_indian society_sect in indian_vis vis caste_...</td>\n",
       "      <td>[indian society, sect in indian, vis vis caste...</td>\n",
       "      <td>[How does Indian society maintain continuity i...</td>\n",
       "    </tr>\n",
       "    <tr>\n",
       "      <th>9</th>\n",
       "      <td>8</td>\n",
       "      <td>6</td>\n",
       "      <td>8_of secularism discuss_secularism differ from...</td>\n",
       "      <td>[of secularism discuss, secularism differ from...</td>\n",
       "      <td>[How the Indian concept of secularism differen...</td>\n",
       "    </tr>\n",
       "  </tbody>\n",
       "</table>\n",
       "</div>"
      ],
      "text/plain": [
       "   Topic  Count                                               Name  \\\n",
       "0     -1     47  -1_the indian society_indian society_india dis...   \n",
       "1      0      9  0_energy in india_oil producing areas_oil prod...   \n",
       "2      1     64    1_glaciers_climate_climate change_western ghats   \n",
       "3      2     18  2_indian art_of temple architecture_of the gup...   \n",
       "4      3     44  3_of indian independence_gandhi in the_of maha...   \n",
       "5      4     18  4_of urbanization_of urbanization in_urbanizat...   \n",
       "6      5     16  5_women in india_poverty is the_poverty is to_...   \n",
       "7      6      7  6_regionalism in india_regionalism substantiat...   \n",
       "8      7      6  7_indian society_sect in indian_vis vis caste_...   \n",
       "9      8      6  8_of secularism discuss_secularism differ from...   \n",
       "\n",
       "                                      Representation  \\\n",
       "0  [the indian society, indian society, india dis...   \n",
       "1  [energy in india, oil producing areas, oil pro...   \n",
       "2  [glaciers, climate, climate change, western gh...   \n",
       "3  [indian art, of temple architecture, of the gu...   \n",
       "4  [of indian independence, gandhi in the, of mah...   \n",
       "5  [of urbanization, of urbanization in, urbaniza...   \n",
       "6  [women in india, poverty is the, poverty is to...   \n",
       "7  [regionalism in india, regionalism substantiat...   \n",
       "8  [indian society, sect in indian, vis vis caste...   \n",
       "9  [of secularism discuss, secularism differ from...   \n",
       "\n",
       "                                 Representative_Docs  \n",
       "0  [Why are the tribals in India referred to as '...  \n",
       "1  [Despite India being one of the countries of t...  \n",
       "2  [What do you understand by the phenomenon of ‘...  \n",
       "3  [The rock-cut architecture represents one of t...  \n",
       "4  [Whereas the British planters had developed te...  \n",
       "5  [How is the growth of Tier 2 cities related to...  \n",
       "6  [‘Despite implementation of various programmes...  \n",
       "7  [Growing feeling of regionalism is an importan...  \n",
       "8  [How does Indian society maintain continuity i...  \n",
       "9  [How the Indian concept of secularism differen...  "
      ]
     },
     "execution_count": 22,
     "metadata": {},
     "output_type": "execute_result"
    }
   ],
   "source": [
    "model.get_topic_info()"
   ]
  },
  {
   "cell_type": "code",
   "execution_count": 23,
   "metadata": {},
   "outputs": [
    {
     "data": {
      "application/vnd.plotly.v1+json": {
       "config": {
        "plotlyServerURL": "https://plot.ly"
       },
       "data": [
        {
         "hoverinfo": "text",
         "hovertext": [
          "Discuss the impact of post-liberal economy on ethnic identity and communalism.",
          "The Bhakti movement received a remarkable re-orientation with the advent of Sri Chaitanya Mahaprabhu. Discuss.",
          "What is Cryptocurrency? How does it affect global society? Has it been affecting Indian society also?",
          "Given the diversities among the tribal communities in India, in which specific contexts should they be considered as a single category?",
          "Mention the advantages of the cultivation of pulses because of which the year 2016 was declared as the International Year of Pulses by United Nations.",
          "‘Latecomer’ Industrial Revolution in Japan involved certain factors that were markedly different from what West had experienced.” Analyze.",
          "The spirit of tolerance and love is not only an interesting feature of Indian society from very early times, but it is also playing an important part at the present. Elaborate.",
          "The political and administrative reorganization of states and territories has been a continuous ongoing process since the mid-nineteenth century. Discuss with examples.",
          "Why did human development fail to keep pace with economic development in India?",
          "What are the two major legal initiatives by the State since Independence addressing discrimination against Scheduled Tribes(STs)?",
          "Do we have cultural pockets of small India all over the nation? Elaborate with examples.",
          "Examine the role of ‘Gig Economy’ in the process of empowerment of women in India.",
          "What makes the Indian society unique in sustaining its culture? Discuss.",
          "Are we losing our local identity for the global identity? Discuss.",
          "Critically examine the effect of globalization on the aged population in India.",
          "Describing the distribution of rubber producing countries, indicate the major environmental issues faced by them.",
          "Debate the issue whether and how contemporary movements for assertion of Dalit identity work towards annihilation of caste.",
          "Describe any four cultural elements of diversity in India and rate their relative significance in building a national identity.",
          "Discuss the role of women in the freedom struggle especially during the Gandhian phase.",
          "The ancient civilization in Indian sub continent differed from those of Egypt , Mesopotamia and Greece in that its culture and traditions have been preserved without breakdown to the present day. Comment",
          "Explore and evaluate the impact of ‘Work From Home’ on family relationships.",
          "Discuss the changes in the trends of labour migration within and outside India in the last four decades.",
          "Discuss whether formation of new states in recent times is beneficial or not for the economy of India.",
          "Defining blue revolution, explain the problems and strategies for pisciculture development in India.",
          "Defying the barriers of age, gender and religion, the Indian women became the torchbearer during the struggle for freedom in India. Discuss.",
          "How does India see its place in the economic space of rising natural resources rich Africa?",
          "What were the major technological changes introduced during the Sultanate period? How did those technological changes influence the Indian society?",
          "Why did the Green Revolution in India virtually by-pass the eastern region despite fertile soil and good availability of water?",
          "Examine the uniqueness of tribal knowledge system when compared with mainstream knowledge and cultural systems.",
          "Is diversity and pluralism in India under threat due to globalisation? Justify your answer.",
          "What are the main features of Vedic society and religion? Do you think some of the features are still prevailing in Indian society?",
          "Elucidate the relationship between globalization and new technology in a world of scarce resources, with special reference to India.",
          "Write a critical note on the evolution and significance of the slogan, ‘Jai Jawan, Jai Kisan’.",
          "Explain the role of geographical factors towards the development of Ancient India.",
          "Discuss the multi-dimensional implications of uneven distribution of mineral oil in the world.",
          "From being net food importer in 1960s, India has emerged as a net food exporter to the world. Provide reasons.",
          "“Caste system is assuming new identities and associational forms. Hence, caste system cannot be eradicated in India.”",
          "Globalisation is generally said to promote cultural homogenisation but due to this cultural specificities appear to be strengthened in the Indian society.’ Elucidate.",
          "Child cuddling is now being replaced by mobile phones. Discuss its impact on the socialization of children.",
          "Distinguish between religiousness/religiosity and communalism giving one example of how the former has got transformed into the latter in independent India.",
          "Why was there a sudden spurt in famines in colonial India since the mid-eighteenth century? Give reasons.",
          "Why is India considered as a sub-continent? Elaborate your answer.",
          "‘Communalism arises either due to power struggle or relative deprivation.’ Argue by giving suitable illustrations.",
          "Examine how the decline of traditional artisanal industry in colonial India crippled the rural economy.",
          "Why are the tribals in India referred to as 'the Scheduled Tribes? Indicate the major provisions in the Constitution of India for their upliftment.",
          "To what extent has the urban planning and culture of the Indus Valley Civilization provided inputs to the present day urbanization?\nDiscuss.",
          "“Africa was chopped into states artificially created by accidents of European competition.” Analyze.",
          null
         ],
         "marker": {
          "color": "#CFD8DC",
          "opacity": 0.5,
          "size": 5
         },
         "mode": "markers+text",
         "name": "other",
         "showlegend": false,
         "type": "scattergl",
         "x": [
          10.241164207458496,
          11.87750244140625,
          9.420886993408203,
          10.397369384765625,
          8.981602668762207,
          11.536247253417969,
          11.100488662719727,
          12.603611946105957,
          8.925797462463379,
          11.090587615966797,
          9.857833862304688,
          9.047666549682617,
          10.393033981323242,
          10.115804672241211,
          9.654960632324219,
          6.9210381507873535,
          10.840644836425781,
          10.223947525024414,
          12.189949035644531,
          10.107519149780273,
          10.057353019714355,
          9.519532203674316,
          9.405159950256348,
          7.344503402709961,
          12.08625602722168,
          7.721916198730469,
          9.207822799682617,
          8.283312797546387,
          10.372361183166504,
          9.999763488769531,
          10.46153736114502,
          8.70871639251709,
          11.34964656829834,
          9.088276863098145,
          6.967596054077148,
          9.06737232208252,
          10.753364562988281,
          10.007208824157715,
          10.030998229980469,
          11.1591157913208,
          11.6029052734375,
          9.890424728393555,
          10.244513511657715,
          11.359716415405273,
          11.080150604248047,
          8.934197425842285,
          11.780567169189453,
          10.042806625366211
         ],
         "y": [
          3.4594359397888184,
          4.732464790344238,
          3.3332505226135254,
          4.1353960037231445,
          2.1974470615386963,
          2.5254623889923096,
          4.272696495056152,
          3.40195369720459,
          3.7660470008850098,
          3.3976550102233887,
          4.051357746124268,
          2.6295199394226074,
          4.351861953735352,
          3.7140612602233887,
          3.6601815223693848,
          3.462853193283081,
          3.551067352294922,
          4.24586296081543,
          4.243645191192627,
          4.815235137939453,
          3.0198895931243896,
          3.6063389778137207,
          4.099996089935303,
          4.426009178161621,
          4.2492995262146,
          3.5267796516418457,
          4.696352958679199,
          4.526912689208984,
          4.224451541900635,
          3.8634023666381836,
          4.39737606048584,
          3.873208999633789,
          4.2405829429626465,
          4.626932144165039,
          3.4818077087402344,
          2.246293783187866,
          3.7059314250946045,
          3.854407548904419,
          3.113544464111328,
          4.056485652923584,
          2.4492690563201904,
          4.671830654144287,
          3.179171562194824,
          2.2864224910736084,
          3.404893636703491,
          4.410853862762451,
          3.1600654125213623,
          3.7307651042938232
         ]
        },
        {
         "hoverinfo": "text",
         "hovertext": [
          "Examine the potential of wind energy in India and explain the reasons for their limited spatial spread.",
          "It is said that India has substantial reserves of shale oil and gas, which can feed the needs of the country for quarter century. However, tapping of the resource does not appear to be high on the agenda. Discuss critically the availability and issues involved.",
          "With growing scarcity of fossil fuels, the atomic energy is gaining more and more significance in India. Discuss the availability of raw material required for the generation of atomic energy in India and in the world.",
          "Petroleum refineries are not necessarily located nearer to crude oil producing areas, particularly in many of the developing countries. Explain its implications.",
          "India has immense potential of solar energy though there are regional variations in its developments. Elaborate.",
          "Account for the present location of iron and steel industries away from the source of raw material, by giving examples.",
          "“Inspite of adverse environmental impact, coal mining is still inevitable for development”.\nDiscuss",
          "Account for the change in the spatial pattern of the Iron and Steel industry in the world.",
          "Despite India being one of the countries of the Gondwanaland, its mining industry contributes much less to its Gross Domestic Product(GDP) in percentage. Discuss.",
          null
         ],
         "marker": {
          "opacity": 0.5,
          "size": 5
         },
         "mode": "markers+text",
         "name": "0_energy in india_oil producing areas_oil producing",
         "text": [
          "",
          "",
          "",
          "",
          "",
          "",
          "",
          "",
          "",
          "0_energy in india_oil producing areas_oil producing"
         ],
         "textfont": {
          "size": 12
         },
         "type": "scattergl",
         "x": [
          7.943124771118164,
          7.008999347686768,
          7.917046546936035,
          6.927960395812988,
          7.928784370422363,
          7.454671382904053,
          7.0919623374938965,
          7.475558280944824,
          7.379153251647949,
          7.458584308624268
         ],
         "y": [
          3.958735942840576,
          3.4995951652526855,
          3.9579925537109375,
          3.435119152069092,
          3.9492266178131104,
          3.229097604751587,
          3.5523409843444824,
          3.2152228355407715,
          3.4809935092926025,
          3.5864803791046143
         ]
        },
        {
         "hoverinfo": "text",
         "hovertext": [
          "Discuss the geophysical characteristics of Circum- Pacific Zone.",
          "Most of the unusual climatic happenings are explained as an outcome of the El-Nino effect. Do you agree?",
          "The interlinking of rivers can provide viable solutions to the multi-dimensional inter-related problems of droughts, floods and interrupted navigation. Critically examine.",
          "The recent cyclone on the east coast of India was called ‘Phailin’. How are the tropical cyclones named across the world? Elaborate.",
          "Why is the South-West monsoon called ‘Purvaiya’ (easterly) in Bhojpur Region? How has this directional seasonal wind system influenced the cultural ethos of the region?",
          "What are the economic significances of discovery of oil in Arctic Sea and its possible environemental consequences?",
          "Describe the characteristics and types of primary rocks.",
          "Bring out the relationship between the shrinking Himalayan glaciers and the symptoms of climate change in the Indian sub-continent.",
          "In what way can floods be converted into a sustainable source of irrigation and all-weather inland navigation in India?",
          "How are the fjords formed? Why do they constitute some of the most picturesque areas of the world?",
          "Explain the factors responsible for the origin of ocean currents. How do they influence regional climates, fishing and navigation?",
          "Differentiate the causes of landslides in the Himalayan region and Western Ghats.",
          "Major hot deserts in northern hemisphere are located between 20-30 deg N latitudes and on the western sides of the continents. Why?",
          "There is no formation of deltas by rivers on the Western Ghats. Why?",
          "Mention the significance of straits and isthmus in international trade.",
          "How do the melting of the Arctic ice and glaciers of the Antarctic differently affect the weather patterns and human activities on the Earth? Explain.",
          "Why is India taking keen interest in the Arctic region?",
          "The states of Jammu and Kashmir, Himachal Pradesh and Uttarakhand are reaching the limits of ecological carrying capacity due to tourism. Critically evaluate.",
          "Troposphere is a very significant atmospheric layer that determines weather processes.\nHow?",
          "The process of desertification does not have climate boundaries. Justify with examples.",
          "Discuss the causes of depletion of mangroves and explain their importance in maintaining coastal ecology.",
          "Comment on the resource potentials of the long coastline of India and highlight the status of natural hazard preparedness in these areas.",
          "Why is the world today confronted with a crisis of availability of and access to freshwater resources?",
          "Discuss the consequences of climate change on the food security in tropical countries.",
          "Identify and discuss the factors responsible for diversity of natural vegetation in India. Assess the significance of wildlife sanctuaries in rain forests regions of India.",
          "Examine the status of forest resources of India and its resultant impact on climate change.",
          "What do you understand by the phenomenon of ‘temperature inversion’ in meteorology? How does it affect weather and the habitants of the place?",
          "Discuss the natural resource potentials of ‘Deccan trap’.",
          "What are the consequences of spreading of ‘Dead Zones’ on marine ecosystem?",
          "Account for variations in oceanic salinity and discuss its multi-dimensional effects.",
          "Discuss the concept of air mass and explain its role in macro-climatic changes.",
          "what are the environmental implications of the reclamation of the water bodies into urban land use? Explain with examples.",
          "Account for the huge flooding of million cities in India including the smart ones like Hyderabad and Pune. Suggest lasting remedial measures.",
          "What do you understand by the theory of continental drift? Discuss the prominent evidences in its support.",
          "South China Sea has assumed great geopolitical significance in the present context. Comment.",
          "Discuss the meaning of colour-coded weather warnings for cyclone prone areas given by India Meteorological department.",
          "How will the melting of Himalayan glaciers have a far- reaching impact on the water resources of India?",
          "Bring out the causes for the formation of heat islands in the urban habitat of the world.",
          "“The ideal solution of depleting ground water resources in India is water harvesting system.” How can it be made effective in urban areas?",
          "What is water stress? How and why does it differ regionally in India?",
          "Enumerate the problems and prospects of inland water transport in India.",
          "Explain the formation of thousands of islands in Indonesian and Philipines archipelagos.",
          "Mention the global occurrence of volcanic eruptions in 2021 and their impact on regional environment.",
          "In what way micro-watershed development projects help in water conservation in\ndrought-prone and semi-arid regions of India?",
          "India is well endowed with fresh water resources. Critically examine why it still suffers from water scarcity.",
          "Tropical cyclones are largely confined to South China Sea, Bay of Bengal and Gulf of Mexico. Why?",
          "How do ocean currents and water masses differ in their impacts on marine life and coastal environment? Give suitable examples.",
          "Briefly mention the alignment of major mountain ranges of the world and explain their impact on local weather conditions, with examples.",
          "How does the Juno Mission of NASA help to understand the origin and evolution of the Earth?",
          "How can the mountain ecosystem be restored from the negative impact of development initiatives and tourism?",
          "Define mantle plume and explain its role in plate tectonics.",
          "What characteristics can be assigned to monsoon climate that succeeds in feeding more than 50 percent of the world population residing in Monsoon Asia?",
          "Why are the world’s fold mountain systems located along the margins of continents? Bring out the association between the global distribution of fold mountains and the earthquakes and volcanoes.",
          "Assess the impact of global warming on the coral life system with examples.",
          "Bring out the causes for more frequent occurrence of landslides in the Himalayas than in the Western Ghats.",
          null,
          "How far do you agree that the behaviour of the Indian monsoon has been changing due to humanizing landscape? Discuss.",
          "The effective management of land and water resources will drastically reduce the human miseries. Explain.",
          "How does the cryosphere affect global climate?",
          "Major cities of India are becoming more vulnerable to flood conditions. Discuss.",
          "Present an account of the Indus Water Treaty and examine its ecological, economic and political implications in the context of changing bilateral relations.",
          "\"The Himalayas are highly prone to landslides.\" Discuss the causes and suggest suitable measures of mitigation.",
          "What are the forces that influence ocean currents? Describe their role in fishing industry of the world.",
          "Critically evaluate the various resources of the oceans which can be harnessed to meet the resource crisis in the world."
         ],
         "marker": {
          "opacity": 0.5,
          "size": 5
         },
         "mode": "markers+text",
         "name": "1_glaciers_climate_climate change",
         "text": [
          "",
          "",
          "",
          "",
          "",
          "",
          "",
          "",
          "",
          "",
          "",
          "",
          "",
          "",
          "",
          "",
          "",
          "",
          "",
          "",
          "",
          "",
          "",
          "",
          "",
          "",
          "",
          "",
          "",
          "",
          "",
          "",
          "",
          "",
          "",
          "",
          "",
          "",
          "",
          "",
          "",
          "",
          "",
          "",
          "",
          "",
          "",
          "",
          "",
          "",
          "",
          "",
          "",
          "",
          "",
          "1_glaciers_climate_climate change",
          "",
          "",
          "",
          "",
          "",
          "",
          "",
          ""
         ],
         "textfont": {
          "size": 12
         },
         "type": "scattergl",
         "x": [
          4.231948375701904,
          4.978725910186768,
          6.043492317199707,
          5.535544395446777,
          5.521426200866699,
          5.781388282775879,
          4.1504292488098145,
          5.034449100494385,
          5.998291015625,
          5.062343120574951,
          5.03651762008667,
          4.425684928894043,
          4.760429859161377,
          4.867727279663086,
          5.947123050689697,
          4.850234508514404,
          5.956434726715088,
          6.874882698059082,
          4.711362838745117,
          4.818970680236816,
          5.174300670623779,
          6.581026077270508,
          5.868642807006836,
          5.453891754150391,
          6.890737056732178,
          6.69488525390625,
          4.598117828369141,
          6.856494426727295,
          5.234534740447998,
          5.158286094665527,
          4.778824806213379,
          6.295145034790039,
          6.0290846824646,
          4.396366119384766,
          5.943345546722412,
          5.642071723937988,
          5.7652764320373535,
          4.636013031005859,
          6.128227710723877,
          6.259893894195557,
          6.167173862457275,
          4.483209609985352,
          4.1254119873046875,
          6.047721862792969,
          6.2333807945251465,
          5.2586894035339355,
          5.13151741027832,
          4.538845539093018,
          4.291652202606201,
          6.611465930938721,
          4.154898643493652,
          5.330725193023682,
          4.171042442321777,
          5.171217441558838,
          4.43118143081665,
          5.389415740966797,
          5.406208038330078,
          6.431093692779541,
          4.722651958465576,
          5.988924980163574,
          6.083443641662598,
          4.352652072906494,
          5.143167495727539,
          5.6339240074157715
         ],
         "y": [
          4.141343116760254,
          4.597760200500488,
          4.813127517700195,
          5.023024082183838,
          5.02379035949707,
          3.4893245697021484,
          4.353832244873047,
          4.373476505279541,
          4.837764739990234,
          3.6835830211639404,
          3.5229268074035645,
          4.640277862548828,
          4.386117458343506,
          4.814737796783447,
          3.6222143173217773,
          4.136326789855957,
          3.840254306793213,
          4.477168083190918,
          4.2973551750183105,
          4.337976932525635,
          3.3241162300109863,
          4.534987926483154,
          4.530116081237793,
          4.295818328857422,
          4.360098838806152,
          4.297319412231445,
          4.387201309204102,
          4.334682464599609,
          3.3494083881378174,
          3.447751760482788,
          4.246119976043701,
          4.767030239105225,
          4.977670192718506,
          3.943881034851074,
          3.6168441772460938,
          4.972260475158691,
          4.5240044593811035,
          4.257303237915039,
          4.948361396789551,
          5.151424884796143,
          4.87601375579834,
          3.9116456508636475,
          4.271981239318848,
          4.8561320304870605,
          5.034853935241699,
          4.875889301300049,
          3.400259017944336,
          4.384870529174805,
          3.9923441410064697,
          4.657405853271484,
          4.128781318664551,
          4.79471492767334,
          4.286221504211426,
          3.2975902557373047,
          4.62245512008667,
          4.329474449157715,
          4.8668928146362305,
          4.582409381866455,
          4.2156291007995605,
          4.991119861602783,
          4.291940212249756,
          4.562892913818359,
          3.530733585357666,
          3.5288050174713135
         ]
        },
        {
         "hoverinfo": "text",
         "hovertext": [
          "Safeguarding the Indian art heritage is the need of the moment.",
          "Evaluate the nature of the Bhakti Literature and its contribution to Indian culture.",
          "Indian Philosophy and tradition played a significant role in conceiving and shaping the monuments and their art in India. Discuss.",
          "Mesolithic rock cut architecture of India not only reflects the cultural life of the times but also a fine aesthetic sense comparable to modern painting. Critically evaluate this comment.",
          "Persian literary sources of medieval India reflect the spirit of the age. Comment.",
          "Discuss the main contributions of Gupta period and Chola period to Indian heritage and culture\n.",
          "Pala period is the most significant phase in the history of Buddhism in India. Enumerate.",
          "How do you justify the view that the level of excellence of the Gupta numismatic art is not at all noticeable in later times?",
          "Early Buddhist Stupa-art, while depicting folk motifs and narratives successfully expounds Buddhist ideals. Elucidate.",
          "Taxila university was one of the oldest universities of the world with which were associated a number of renowned learned personalities of different disciplines. Its strategic location caused its fame to flourish, but unlike Nalanda, it is not considered as a university in the modern sense. Discuss.",
          "Discuss the ‘Tandava’ dance as recorded in early Indian inscriptions.",
          "The rock-cut architecture represents one of the most important sources of our knowledge of early Indian art and history. Discuss.",
          "Assess the importance of the accounts of the Chinese and Arab travellers in the reconstruction of the history of India.",
          "Discuss the significance of the lion and bull figures in Indian mythology, art and architecture.",
          "Highlight the Central Asian and Greco Bactrian elements in the Gandhara art.",
          "Chola architecture represents a high watermark in the evolution of temple architecture. Discuss",
          "How will you explain the medieval Indian temple sculptures represent the social life of those days?",
          "Gandhara sculpture owed as much to the Romans as to the Greeks. Explain.",
          null
         ],
         "marker": {
          "opacity": 0.5,
          "size": 5
         },
         "mode": "markers+text",
         "name": "2_indian art_of temple architecture_of the gupta",
         "text": [
          "",
          "",
          "",
          "",
          "",
          "",
          "",
          "",
          "",
          "",
          "",
          "",
          "",
          "",
          "",
          "",
          "",
          "",
          "2_indian art_of temple architecture_of the gupta"
         ],
         "textfont": {
          "size": 12
         },
         "type": "scattergl",
         "x": [
          11.487546920776367,
          11.719463348388672,
          11.519516944885254,
          11.403890609741211,
          11.47278881072998,
          11.37836742401123,
          11.335433959960938,
          11.388529777526855,
          11.437819480895996,
          11.849692344665527,
          11.428607940673828,
          11.37143325805664,
          11.675591468811035,
          11.540696144104004,
          11.43404483795166,
          11.477307319641113,
          11.35111141204834,
          11.428260803222656,
          11.483339309692383
         ],
         "y": [
          5.954707145690918,
          5.106497287750244,
          5.791015148162842,
          6.025620937347412,
          5.21058988571167,
          5.662293434143066,
          5.620551109313965,
          5.811706066131592,
          5.904938220977783,
          5.357381343841553,
          5.974789619445801,
          5.991753578186035,
          5.194754600524902,
          5.889904975891113,
          6.005964279174805,
          5.952314853668213,
          5.761603832244873,
          6.08535099029541,
          5.738985538482666
         ]
        },
        {
         "hoverinfo": "text",
         "hovertext": [
          "To what extend can Germany be held responsible for causing the two World Wars? Discuss critically.",
          "Evaluate the policies of Lord Curzon and their long term implications on the national movements.",
          "To what extent did the role of the moderates prepare a base for the wider freedom movement? Comment.",
          "Assess the role of British imperial power in complicating the process of transfer of power during the 1940s.",
          "What problems are germane to the decolonization process in the Malay Peninsula?",
          "Why did the ‘Moderates’ failed to carry conviction with the nation about their proclaimed ideology and political goals by the end of the nineteenth century?",
          "What were the major political, economic and social developments in the world which motivated the anti-colonial in India?",
          "Clarify how mid-eighteenth century India was beset with the spectre of a fragmented polity.",
          "Why did the industrial revolution first occur in England? Discuss the quality of life of the people there during the industrialization. How does it compare with that in India at present times?",
          "Examine the linkages between the nineteenth century’s ‘Indian Renaissance’ and the emergence of national identity.",
          "In what ways did the navel mutiny prove to be the last nail in the coffin of British colonial aspirations in India?",
          "Critically discuss the objectives of Bhoodan and Gramdan movements initiated by AcharyaVinobhaBhave and their success.",
          "What policy instruments were deployed to contain the Great Economic Depression?",
          "Throw light on the significance of the thoughts of Mahatma Gandhi in the present times.",
          "The 1857 uprising was the culmination of the recurrent, big and small local rebellions that had occurred in the preceding hundred years of British rule. Elucidate.",
          "Explain how the foundations of the modern world were laid by the American and French Revolutions.",
          "Why indentured labour was taken by the British from India to their colonies? have they been able to preserve their cultural identity over there?",
          "Several foreigners made India their homeland and participated in various movements.\nAnalyze their role in the Indian struggle for freedom.",
          "How did the colonial rule affect the tribals in India and what was the tribal response to the colonial oppression?",
          "The New Economic Policy – 1921 of Lenin had influenced the policies adopted by India soon after independence. Evaluate.",
          "How difficult would have been the achievement of Indian independence without Mahatma Gandhi? Discuss.",
          "Discuss the contributions of MaulanaAbulKalam Azad to pre- and post-independent India.",
          "Examine critically the various facets of economic policies of the British in India from mid-eighteenth century till independence.",
          "Mahatma Gandhi and Dr. B R Ambedkar, despite having divergent approaches and strategies, had a common goal of amelioration of the downtrodden. Elucidate.",
          "Highlight the importance of the new objectives that got added to the vision of Indian Independence since the twenties of the last century.",
          "What was the difference between Mahatma Gandhi and Rabindranath Tagore in their approach towards education and nationalism?",
          "It would have been difficult for the Constituent Assembly to complete its historic task of drafting the Constitution for Independent India in just three years, but its experience gained with the Government of India Act, 1935\n.Discuss.",
          "“American Revolution was an economic revolt against mercantilism.” Substantiate.",
          "Explain how the Uprising of 1857 constitutes an important watershed in the evolution of British policies towards colonial India.",
          "“In many ways, Lord Dalhousie was the founder of modern India.” Elaborate.",
          "Many voices had strengthened and enriched the nationalist movement during the Gandhian phase. Elaborate.",
          "Since the decade of the 1920s, the national movement acquired various ideological strands and thereby expanded its social base. Discuss.",
          "The third battle of Panipat was fought in 1761. Why were so many empire-shaking battles fought at Panipat?",
          "Krishnadeva Raya, the King of Vijayanagar, was not only an accomplished scholar himself but was also a great patron of learning and literature. Discuss.",
          "Analyze the circumstances that led to the Tashkent Agreement in 1966. Discuss the highlights of the Agreement.",
          "Why did the armies of the British East India Company – mostly comprising of Indian soldiers – win consistently against the more numerous and better equipped armies of the Indian rulers? Give reasons.",
          "Though not very useful from the point of view of a connected political history of South India, the Sangam literature portrays the social and economic conditions of its time with remarkable vividness. Comment.",
          "” There arose a serious challenge to the Democratic State System between the two World Wars.” Evaluate the statement.",
          "Whereas the British planters had developed tea gardens all along the Shivaliks and Lesser Himalayas from Assam to Himachal Pradesh, in effect they did not succeed beyond the Darjeeling area. Explain.",
          "What were the events that led to the Suez Crisis in 1956? How did it deal a final blow to Britain’s self-image as a world power?",
          "Highlight the differences in the approach of Subhash Chandra Bose and Mahatma Gandhi in the struggle for freedom.",
          "The anti-colonial struggles in West Africa were led by the new elite of Western-educated Africans.",
          "Bring out the constructive programmes of Mahatma Gandhi during Non-Cooperation Movement and Civil Disobedience Movement.",
          "Critically examine the compulsions which prompted India to play a decisive role in the emergence of Bangladesh.",
          null
         ],
         "marker": {
          "opacity": 0.5,
          "size": 5
         },
         "mode": "markers+text",
         "name": "3_of indian independence_gandhi in the_of mahatma",
         "text": [
          "",
          "",
          "",
          "",
          "",
          "",
          "",
          "",
          "",
          "",
          "",
          "",
          "",
          "",
          "",
          "",
          "",
          "",
          "",
          "",
          "",
          "",
          "",
          "",
          "",
          "",
          "",
          "",
          "",
          "",
          "",
          "",
          "",
          "",
          "",
          "",
          "",
          "",
          "",
          "",
          "",
          "",
          "",
          "",
          "3_of indian independence_gandhi in the_of mahatma"
         ],
         "textfont": {
          "size": 12
         },
         "type": "scattergl",
         "x": [
          12.636553764343262,
          12.86474609375,
          12.915823936462402,
          12.57160758972168,
          11.6749267578125,
          12.886527061462402,
          11.714130401611328,
          11.813636779785156,
          11.636819839477539,
          12.017721176147461,
          11.748827934265137,
          11.970425605773926,
          12.05836296081543,
          12.30026626586914,
          12.2177734375,
          12.437507629394531,
          11.566882133483887,
          12.268959999084473,
          11.401745796203613,
          12.066353797912598,
          12.38709545135498,
          12.34987735748291,
          12.072455406188965,
          12.415143966674805,
          12.250516891479492,
          12.5406494140625,
          12.28417682647705,
          12.143322944641113,
          12.234648704528809,
          12.288087844848633,
          12.591543197631836,
          12.891202926635742,
          11.889095306396484,
          12.131290435791016,
          12.649288177490234,
          11.974759101867676,
          11.781732559204102,
          12.73528003692627,
          11.863062858581543,
          12.4716215133667,
          12.471447944641113,
          11.935456275939941,
          12.405861854553223,
          12.00632381439209,
          12.216673851013184
         ],
         "y": [
          3.103949785232544,
          3.5974302291870117,
          3.647151231765747,
          3.0016276836395264,
          3.176281452178955,
          3.638282060623169,
          3.304126501083374,
          3.7389628887176514,
          2.499758720397949,
          3.8942506313323975,
          3.1214678287506104,
          4.657395839691162,
          3.3222875595092773,
          4.44472074508667,
          3.373011350631714,
          3.050652503967285,
          3.336308002471924,
          3.983205795288086,
          3.266542673110962,
          3.447695016860962,
          4.197353363037109,
          4.034726619720459,
          3.368903636932373,
          4.413980007171631,
          3.821110725402832,
          4.293453693389893,
          3.8668582439422607,
          3.1582438945770264,
          3.041274070739746,
          4.651943683624268,
          4.012955188751221,
          3.5535333156585693,
          2.8183674812316895,
          4.9808220863342285,
          3.086832046508789,
          2.806069850921631,
          3.9161078929901123,
          3.1749062538146973,
          2.6330082416534424,
          3.010307550430298,
          4.359437465667725,
          3.217190980911255,
          4.395300388336182,
          3.921464443206787,
          3.598619222640991
         ]
        },
        {
         "hoverinfo": "text",
         "hovertext": [
          "Does urbanization lead to more segregation and/or marginalization of the poor in Indian metropolises?",
          "Mention core strategies for the transformation of aspirational districts in India and explain the nature of convergence, collaboration and competition for its success.",
          "Analyze the factors for the highly decentralized cotton textile industry in India.",
          "How is the growth of Tier 2 cities related to the rise of a new middle class with an emphasis on the culture of consumption?",
          "Do you agree that there is a growing trend of opening new sugar mills in southern states of India? Discuss with justification.",
          "Discuss the various social problems which originated out of the speedy process of urbanization in India.",
          "Mumbai, Delhi and Kolkata are the three Mega cities of the country but the air pollution is much more serious probelm in Delhi as compared to the other two. Why is this so?",
          "Bring out the socio-economic effects of the introduction of railways in different countries of the world",
          "Can the strategy of regional resource-based manufacturing help in promoting employment in India?",
          "What are the main socio-economic implications arising out of the development of IT industries in major cities of India?",
          "How have digital initiatives in India contributed to the functioning of the education system in the country? Elaborate your answer.",
          "With a brief background of quality of urban life in India, introduce the objectives and strategy of the 'Smart City Programme'.",
          "Discuss the factors for localisation of agro-based food processing industries of North-West India.",
          "Smart cities in India cannot sustain without smart vilages. Discuss this statement in the backdrop of rural urban integration.",
          "How is efficient and affordable urban mass transport key to the rapid economic development in India?",
          "What is the significance of Industrial Corridors in India? Identifying industrial corridors, explain their main characteristics.",
          "“The growth of cities as I.T. hubs has opened up new avenues of employment, but has also created new problems”. Substantiate this statement with examples",
          "COVID-19 pandemic accelerated class inequalities and poverty in India. Comment.",
          null
         ],
         "marker": {
          "opacity": 0.5,
          "size": 5
         },
         "mode": "markers+text",
         "name": "4_of urbanization_of urbanization in_urbanization",
         "text": [
          "",
          "",
          "",
          "",
          "",
          "",
          "",
          "",
          "",
          "",
          "",
          "",
          "",
          "",
          "",
          "",
          "",
          "",
          "4_of urbanization_of urbanization in_urbanization"
         ],
         "textfont": {
          "size": 12
         },
         "type": "scattergl",
         "x": [
          8.932770729064941,
          9.282752990722656,
          8.719650268554688,
          8.801963806152344,
          8.62945556640625,
          8.941850662231445,
          8.729945182800293,
          8.461092948913574,
          8.644898414611816,
          8.776616096496582,
          9.164788246154785,
          8.63973331451416,
          8.780417442321777,
          8.654052734375,
          8.571269989013672,
          8.326498031616211,
          8.698223114013672,
          9.622908592224121,
          8.798827171325684
         ],
         "y": [
          3.360319137573242,
          3.2231040000915527,
          2.3866686820983887,
          3.380380153656006,
          2.4896254539489746,
          3.535142183303833,
          3.25258731842041,
          3.3806252479553223,
          2.645575761795044,
          3.004903554916382,
          3.024430751800537,
          3.3398921489715576,
          2.3387107849121094,
          3.38680100440979,
          3.3251421451568604,
          2.9594385623931885,
          3.2395665645599365,
          2.7457082271575928,
          3.0565900802612305
         ]
        },
        {
         "hoverinfo": "text",
         "hovertext": [
          "How do you explain the statistics that show that the sex ratio in Tribes in India is more favourable to women than the sex ratio among Scheduled Castes?",
          "Why do some of the most prosperous regions of India have an adverse sex ratio for women? Give your arguments.",
          "‘Women’s movement in India has not addressed the issues of women of lower social strata.’ Substantiate your view.",
          "‘Despite implementation of various programmes for eradication of poverty by the government in India, poverty is still existing’. Explain by giving reasons.",
          "“Male membership needs to be encouraged in order to make women’s organization free from gender bias.” Comment.",
          "Discuss the various economic and\nsocio-cultural forces that are driving increasing feminization of agriculture in India.",
          "The life cycle of a joint family depends on economic factors rather than social values. Discuss.",
          "“Empowering women is the key to control population growth.” Discuss.",
          "Critically examine whether growing population is the cause of poverty OR poverty is the mains cause of population increase in India.",
          "Discuss the main objectives of Population Education and point out the measures to achieve them in India in detail.",
          "The women’s questions arose in modern India as a part of the 19th century social reform movement. What are the major issues and debates concerning women in that period?",
          "What are the continued challenges for women in India against time and space?",
          "How does patriarchy impact the position of a middle class working woman in India?",
          "Discuss the positive and negative effects of globalization on women in India?",
          "\"An essential condition to eradicate poverty is to liberate the poor from the process of deprivation.\" Substantiate this statement with suitable examples.",
          "Explain why suicide among young women is increasing in Indian Society.",
          null
         ],
         "marker": {
          "opacity": 0.5,
          "size": 5
         },
         "mode": "markers+text",
         "name": "5_women in india_poverty is the_poverty is to",
         "text": [
          "",
          "",
          "",
          "",
          "",
          "",
          "",
          "",
          "",
          "",
          "",
          "",
          "",
          "",
          "",
          "",
          "5_women in india_poverty is the_poverty is to"
         ],
         "textfont": {
          "size": 12
         },
         "type": "scattergl",
         "x": [
          9.919631004333496,
          9.81821346282959,
          10.249707221984863,
          9.850035667419434,
          10.250224113464355,
          9.879870414733887,
          10.183248519897461,
          10.092925071716309,
          9.773788452148438,
          9.72163200378418,
          10.216521263122559,
          10.140914916992188,
          10.01941204071045,
          9.718557357788086,
          10.122024536132812,
          9.877053260803223,
          9.98961067199707
         ],
         "y": [
          2.388977289199829,
          2.318902015686035,
          2.272658586502075,
          2.68192720413208,
          2.292031764984131,
          2.21323823928833,
          3.050994873046875,
          2.4010279178619385,
          2.633436441421509,
          2.655639886856079,
          2.1271445751190186,
          2.202911615371704,
          2.240022897720337,
          3.0780723094940186,
          2.7826478481292725,
          2.232222318649292,
          2.473240852355957
         ]
        },
        {
         "hoverinfo": "text",
         "hovertext": [
          "To what extent globalization has influenced the core of cultural diversity in India? Explain.",
          "Assess the main administrative issues and socio-cultural problems in the integration process of Indian Princely States.",
          "Has the formation of linguistic States strengthened the cause of Indian Unity?",
          "In the context of the diversity of India, can it be said that the regions form cultural units rather than the States? Give reasons with examples for your view point.",
          "What is the basis of regionalism? Is it that unequal distribution of benefits of development on regional basis eventually promotes regionalism? Substantiate your answer.",
          "Do you agree that regionalism in India appears to be a consequence of rising cultural assertiveness? Argue.",
          "Growing feeling of regionalism is an important factor in generation of demand for a separate state. Discuss.",
          null
         ],
         "marker": {
          "opacity": 0.5,
          "size": 5
         },
         "mode": "markers+text",
         "name": "6_regionalism in india_regionalism substantiate_of regionalism is",
         "text": [
          "",
          "",
          "",
          "",
          "",
          "",
          "",
          "6_regionalism in india_regionalism substantiate_of regionalism is"
         ],
         "textfont": {
          "size": 12
         },
         "type": "scattergl",
         "x": [
          9.812799453735352,
          9.741026878356934,
          9.690414428710938,
          9.786639213562012,
          9.532561302185059,
          9.76502513885498,
          9.553516387939453,
          9.697426795959473
         ],
         "y": [
          3.8618202209472656,
          4.198254108428955,
          4.21243953704834,
          4.147311687469482,
          4.134885787963867,
          3.9922521114349365,
          4.132077693939209,
          4.097005844116211
         ]
        },
        {
         "hoverinfo": "text",
         "hovertext": [
          "Why is caste identity in India both fluid and static?",
          "Do you think marriage as a sacrament in loosing its value in Modern India?",
          "How does Indian society maintain continuity in traditional social values? Enumerate the changes taking place in it.",
          "Trace the rise and growth of socio-religious reform movements with special reference to Young Bengal and Brahmo Samaj.",
          "Analyze the salience of ‘sect’ in Indian society vis-a-vis caste, region and religion.",
          "Has caste lost its relevance in understanding the multi- cultural Indian Society? Elaborate your answer with illustrations.",
          null
         ],
         "marker": {
          "opacity": 0.5,
          "size": 5
         },
         "mode": "markers+text",
         "name": "7_indian society_sect in indian_vis vis caste",
         "text": [
          "",
          "",
          "",
          "",
          "",
          "",
          "7_indian society_sect in indian_vis vis caste"
         ],
         "textfont": {
          "size": 12
         },
         "type": "scattergl",
         "x": [
          10.781797409057617,
          10.644423484802246,
          10.474613189697266,
          11.415680885314941,
          10.857704162597656,
          10.640799522399902,
          10.802502632141113
         ],
         "y": [
          3.7541136741638184,
          3.8516581058502197,
          4.106978416442871,
          4.430615425109863,
          4.032232284545898,
          3.7366580963134766,
          3.9853761196136475
         ]
        },
        {
         "hoverinfo": "text",
         "hovertext": [
          "How do the Indian debates on secularism differ from the debates in the West?",
          "Sufis and medieval saints failed to modify either the religious ideas and practices or the outward structure of Hindu/ Muslim societies to any appreciable extent. Comment.",
          "What are the challenges to our cultural practices in the name of secularism?",
          "Customs and traditions suppress reason leading to obscurantism. Do you agree?",
          "Are tolerance, assimilation and pluralism the key elements in the making of an Indian form of secularism? Justify your answer.",
          "How the Indian concept of secularism different from the western model of secularism?\nDiscuss.",
          null
         ],
         "marker": {
          "opacity": 0.5,
          "size": 5
         },
         "mode": "markers+text",
         "name": "8_of secularism discuss_secularism differ from_on secularism differ",
         "text": [
          "",
          "",
          "",
          "",
          "",
          "",
          "8_of secularism discuss_secularism differ from_on secularism differ"
         ],
         "textfont": {
          "size": 12
         },
         "type": "scattergl",
         "x": [
          11.088863372802734,
          11.246724128723145,
          11.035762786865234,
          11.184769630432129,
          10.97780704498291,
          10.958381652832031,
          11.082051277160645
         ],
         "y": [
          4.602444171905518,
          4.888469696044922,
          4.657460689544678,
          4.79740571975708,
          4.54777717590332,
          4.554262638092041,
          4.674636363983154
         ]
        }
       ],
       "layout": {
        "annotations": [
         {
          "showarrow": false,
          "text": "D1",
          "x": 3.506600189208984,
          "y": 4.4031132638454435,
          "yshift": 10
         },
         {
          "showarrow": false,
          "text": "D2",
          "x": 9.179898858070374,
          "xshift": 10,
          "y": 6.998153638839722
         }
        ],
        "height": 750,
        "shapes": [
         {
          "line": {
           "color": "#CFD8DC",
           "width": 2
          },
          "type": "line",
          "x0": 9.179898858070374,
          "x1": 9.179898858070374,
          "y0": 1.8080728888511657,
          "y1": 6.998153638839722
         },
         {
          "line": {
           "color": "#9E9E9E",
           "width": 2
          },
          "type": "line",
          "x0": 3.506600189208984,
          "x1": 14.853197526931762,
          "y0": 4.4031132638454435,
          "y1": 4.4031132638454435
         }
        ],
        "template": {
         "data": {
          "bar": [
           {
            "error_x": {
             "color": "rgb(36,36,36)"
            },
            "error_y": {
             "color": "rgb(36,36,36)"
            },
            "marker": {
             "line": {
              "color": "white",
              "width": 0.5
             },
             "pattern": {
              "fillmode": "overlay",
              "size": 10,
              "solidity": 0.2
             }
            },
            "type": "bar"
           }
          ],
          "barpolar": [
           {
            "marker": {
             "line": {
              "color": "white",
              "width": 0.5
             },
             "pattern": {
              "fillmode": "overlay",
              "size": 10,
              "solidity": 0.2
             }
            },
            "type": "barpolar"
           }
          ],
          "carpet": [
           {
            "aaxis": {
             "endlinecolor": "rgb(36,36,36)",
             "gridcolor": "white",
             "linecolor": "white",
             "minorgridcolor": "white",
             "startlinecolor": "rgb(36,36,36)"
            },
            "baxis": {
             "endlinecolor": "rgb(36,36,36)",
             "gridcolor": "white",
             "linecolor": "white",
             "minorgridcolor": "white",
             "startlinecolor": "rgb(36,36,36)"
            },
            "type": "carpet"
           }
          ],
          "choropleth": [
           {
            "colorbar": {
             "outlinewidth": 1,
             "tickcolor": "rgb(36,36,36)",
             "ticks": "outside"
            },
            "type": "choropleth"
           }
          ],
          "contour": [
           {
            "colorbar": {
             "outlinewidth": 1,
             "tickcolor": "rgb(36,36,36)",
             "ticks": "outside"
            },
            "colorscale": [
             [
              0,
              "#440154"
             ],
             [
              0.1111111111111111,
              "#482878"
             ],
             [
              0.2222222222222222,
              "#3e4989"
             ],
             [
              0.3333333333333333,
              "#31688e"
             ],
             [
              0.4444444444444444,
              "#26828e"
             ],
             [
              0.5555555555555556,
              "#1f9e89"
             ],
             [
              0.6666666666666666,
              "#35b779"
             ],
             [
              0.7777777777777778,
              "#6ece58"
             ],
             [
              0.8888888888888888,
              "#b5de2b"
             ],
             [
              1,
              "#fde725"
             ]
            ],
            "type": "contour"
           }
          ],
          "contourcarpet": [
           {
            "colorbar": {
             "outlinewidth": 1,
             "tickcolor": "rgb(36,36,36)",
             "ticks": "outside"
            },
            "type": "contourcarpet"
           }
          ],
          "heatmap": [
           {
            "colorbar": {
             "outlinewidth": 1,
             "tickcolor": "rgb(36,36,36)",
             "ticks": "outside"
            },
            "colorscale": [
             [
              0,
              "#440154"
             ],
             [
              0.1111111111111111,
              "#482878"
             ],
             [
              0.2222222222222222,
              "#3e4989"
             ],
             [
              0.3333333333333333,
              "#31688e"
             ],
             [
              0.4444444444444444,
              "#26828e"
             ],
             [
              0.5555555555555556,
              "#1f9e89"
             ],
             [
              0.6666666666666666,
              "#35b779"
             ],
             [
              0.7777777777777778,
              "#6ece58"
             ],
             [
              0.8888888888888888,
              "#b5de2b"
             ],
             [
              1,
              "#fde725"
             ]
            ],
            "type": "heatmap"
           }
          ],
          "heatmapgl": [
           {
            "colorbar": {
             "outlinewidth": 1,
             "tickcolor": "rgb(36,36,36)",
             "ticks": "outside"
            },
            "colorscale": [
             [
              0,
              "#440154"
             ],
             [
              0.1111111111111111,
              "#482878"
             ],
             [
              0.2222222222222222,
              "#3e4989"
             ],
             [
              0.3333333333333333,
              "#31688e"
             ],
             [
              0.4444444444444444,
              "#26828e"
             ],
             [
              0.5555555555555556,
              "#1f9e89"
             ],
             [
              0.6666666666666666,
              "#35b779"
             ],
             [
              0.7777777777777778,
              "#6ece58"
             ],
             [
              0.8888888888888888,
              "#b5de2b"
             ],
             [
              1,
              "#fde725"
             ]
            ],
            "type": "heatmapgl"
           }
          ],
          "histogram": [
           {
            "marker": {
             "line": {
              "color": "white",
              "width": 0.6
             }
            },
            "type": "histogram"
           }
          ],
          "histogram2d": [
           {
            "colorbar": {
             "outlinewidth": 1,
             "tickcolor": "rgb(36,36,36)",
             "ticks": "outside"
            },
            "colorscale": [
             [
              0,
              "#440154"
             ],
             [
              0.1111111111111111,
              "#482878"
             ],
             [
              0.2222222222222222,
              "#3e4989"
             ],
             [
              0.3333333333333333,
              "#31688e"
             ],
             [
              0.4444444444444444,
              "#26828e"
             ],
             [
              0.5555555555555556,
              "#1f9e89"
             ],
             [
              0.6666666666666666,
              "#35b779"
             ],
             [
              0.7777777777777778,
              "#6ece58"
             ],
             [
              0.8888888888888888,
              "#b5de2b"
             ],
             [
              1,
              "#fde725"
             ]
            ],
            "type": "histogram2d"
           }
          ],
          "histogram2dcontour": [
           {
            "colorbar": {
             "outlinewidth": 1,
             "tickcolor": "rgb(36,36,36)",
             "ticks": "outside"
            },
            "colorscale": [
             [
              0,
              "#440154"
             ],
             [
              0.1111111111111111,
              "#482878"
             ],
             [
              0.2222222222222222,
              "#3e4989"
             ],
             [
              0.3333333333333333,
              "#31688e"
             ],
             [
              0.4444444444444444,
              "#26828e"
             ],
             [
              0.5555555555555556,
              "#1f9e89"
             ],
             [
              0.6666666666666666,
              "#35b779"
             ],
             [
              0.7777777777777778,
              "#6ece58"
             ],
             [
              0.8888888888888888,
              "#b5de2b"
             ],
             [
              1,
              "#fde725"
             ]
            ],
            "type": "histogram2dcontour"
           }
          ],
          "mesh3d": [
           {
            "colorbar": {
             "outlinewidth": 1,
             "tickcolor": "rgb(36,36,36)",
             "ticks": "outside"
            },
            "type": "mesh3d"
           }
          ],
          "parcoords": [
           {
            "line": {
             "colorbar": {
              "outlinewidth": 1,
              "tickcolor": "rgb(36,36,36)",
              "ticks": "outside"
             }
            },
            "type": "parcoords"
           }
          ],
          "pie": [
           {
            "automargin": true,
            "type": "pie"
           }
          ],
          "scatter": [
           {
            "fillpattern": {
             "fillmode": "overlay",
             "size": 10,
             "solidity": 0.2
            },
            "type": "scatter"
           }
          ],
          "scatter3d": [
           {
            "line": {
             "colorbar": {
              "outlinewidth": 1,
              "tickcolor": "rgb(36,36,36)",
              "ticks": "outside"
             }
            },
            "marker": {
             "colorbar": {
              "outlinewidth": 1,
              "tickcolor": "rgb(36,36,36)",
              "ticks": "outside"
             }
            },
            "type": "scatter3d"
           }
          ],
          "scattercarpet": [
           {
            "marker": {
             "colorbar": {
              "outlinewidth": 1,
              "tickcolor": "rgb(36,36,36)",
              "ticks": "outside"
             }
            },
            "type": "scattercarpet"
           }
          ],
          "scattergeo": [
           {
            "marker": {
             "colorbar": {
              "outlinewidth": 1,
              "tickcolor": "rgb(36,36,36)",
              "ticks": "outside"
             }
            },
            "type": "scattergeo"
           }
          ],
          "scattergl": [
           {
            "marker": {
             "colorbar": {
              "outlinewidth": 1,
              "tickcolor": "rgb(36,36,36)",
              "ticks": "outside"
             }
            },
            "type": "scattergl"
           }
          ],
          "scattermapbox": [
           {
            "marker": {
             "colorbar": {
              "outlinewidth": 1,
              "tickcolor": "rgb(36,36,36)",
              "ticks": "outside"
             }
            },
            "type": "scattermapbox"
           }
          ],
          "scatterpolar": [
           {
            "marker": {
             "colorbar": {
              "outlinewidth": 1,
              "tickcolor": "rgb(36,36,36)",
              "ticks": "outside"
             }
            },
            "type": "scatterpolar"
           }
          ],
          "scatterpolargl": [
           {
            "marker": {
             "colorbar": {
              "outlinewidth": 1,
              "tickcolor": "rgb(36,36,36)",
              "ticks": "outside"
             }
            },
            "type": "scatterpolargl"
           }
          ],
          "scatterternary": [
           {
            "marker": {
             "colorbar": {
              "outlinewidth": 1,
              "tickcolor": "rgb(36,36,36)",
              "ticks": "outside"
             }
            },
            "type": "scatterternary"
           }
          ],
          "surface": [
           {
            "colorbar": {
             "outlinewidth": 1,
             "tickcolor": "rgb(36,36,36)",
             "ticks": "outside"
            },
            "colorscale": [
             [
              0,
              "#440154"
             ],
             [
              0.1111111111111111,
              "#482878"
             ],
             [
              0.2222222222222222,
              "#3e4989"
             ],
             [
              0.3333333333333333,
              "#31688e"
             ],
             [
              0.4444444444444444,
              "#26828e"
             ],
             [
              0.5555555555555556,
              "#1f9e89"
             ],
             [
              0.6666666666666666,
              "#35b779"
             ],
             [
              0.7777777777777778,
              "#6ece58"
             ],
             [
              0.8888888888888888,
              "#b5de2b"
             ],
             [
              1,
              "#fde725"
             ]
            ],
            "type": "surface"
           }
          ],
          "table": [
           {
            "cells": {
             "fill": {
              "color": "rgb(237,237,237)"
             },
             "line": {
              "color": "white"
             }
            },
            "header": {
             "fill": {
              "color": "rgb(217,217,217)"
             },
             "line": {
              "color": "white"
             }
            },
            "type": "table"
           }
          ]
         },
         "layout": {
          "annotationdefaults": {
           "arrowhead": 0,
           "arrowwidth": 1
          },
          "autotypenumbers": "strict",
          "coloraxis": {
           "colorbar": {
            "outlinewidth": 1,
            "tickcolor": "rgb(36,36,36)",
            "ticks": "outside"
           }
          },
          "colorscale": {
           "diverging": [
            [
             0,
             "rgb(103,0,31)"
            ],
            [
             0.1,
             "rgb(178,24,43)"
            ],
            [
             0.2,
             "rgb(214,96,77)"
            ],
            [
             0.3,
             "rgb(244,165,130)"
            ],
            [
             0.4,
             "rgb(253,219,199)"
            ],
            [
             0.5,
             "rgb(247,247,247)"
            ],
            [
             0.6,
             "rgb(209,229,240)"
            ],
            [
             0.7,
             "rgb(146,197,222)"
            ],
            [
             0.8,
             "rgb(67,147,195)"
            ],
            [
             0.9,
             "rgb(33,102,172)"
            ],
            [
             1,
             "rgb(5,48,97)"
            ]
           ],
           "sequential": [
            [
             0,
             "#440154"
            ],
            [
             0.1111111111111111,
             "#482878"
            ],
            [
             0.2222222222222222,
             "#3e4989"
            ],
            [
             0.3333333333333333,
             "#31688e"
            ],
            [
             0.4444444444444444,
             "#26828e"
            ],
            [
             0.5555555555555556,
             "#1f9e89"
            ],
            [
             0.6666666666666666,
             "#35b779"
            ],
            [
             0.7777777777777778,
             "#6ece58"
            ],
            [
             0.8888888888888888,
             "#b5de2b"
            ],
            [
             1,
             "#fde725"
            ]
           ],
           "sequentialminus": [
            [
             0,
             "#440154"
            ],
            [
             0.1111111111111111,
             "#482878"
            ],
            [
             0.2222222222222222,
             "#3e4989"
            ],
            [
             0.3333333333333333,
             "#31688e"
            ],
            [
             0.4444444444444444,
             "#26828e"
            ],
            [
             0.5555555555555556,
             "#1f9e89"
            ],
            [
             0.6666666666666666,
             "#35b779"
            ],
            [
             0.7777777777777778,
             "#6ece58"
            ],
            [
             0.8888888888888888,
             "#b5de2b"
            ],
            [
             1,
             "#fde725"
            ]
           ]
          },
          "colorway": [
           "#1F77B4",
           "#FF7F0E",
           "#2CA02C",
           "#D62728",
           "#9467BD",
           "#8C564B",
           "#E377C2",
           "#7F7F7F",
           "#BCBD22",
           "#17BECF"
          ],
          "font": {
           "color": "rgb(36,36,36)"
          },
          "geo": {
           "bgcolor": "white",
           "lakecolor": "white",
           "landcolor": "white",
           "showlakes": true,
           "showland": true,
           "subunitcolor": "white"
          },
          "hoverlabel": {
           "align": "left"
          },
          "hovermode": "closest",
          "mapbox": {
           "style": "light"
          },
          "paper_bgcolor": "white",
          "plot_bgcolor": "white",
          "polar": {
           "angularaxis": {
            "gridcolor": "rgb(232,232,232)",
            "linecolor": "rgb(36,36,36)",
            "showgrid": false,
            "showline": true,
            "ticks": "outside"
           },
           "bgcolor": "white",
           "radialaxis": {
            "gridcolor": "rgb(232,232,232)",
            "linecolor": "rgb(36,36,36)",
            "showgrid": false,
            "showline": true,
            "ticks": "outside"
           }
          },
          "scene": {
           "xaxis": {
            "backgroundcolor": "white",
            "gridcolor": "rgb(232,232,232)",
            "gridwidth": 2,
            "linecolor": "rgb(36,36,36)",
            "showbackground": true,
            "showgrid": false,
            "showline": true,
            "ticks": "outside",
            "zeroline": false,
            "zerolinecolor": "rgb(36,36,36)"
           },
           "yaxis": {
            "backgroundcolor": "white",
            "gridcolor": "rgb(232,232,232)",
            "gridwidth": 2,
            "linecolor": "rgb(36,36,36)",
            "showbackground": true,
            "showgrid": false,
            "showline": true,
            "ticks": "outside",
            "zeroline": false,
            "zerolinecolor": "rgb(36,36,36)"
           },
           "zaxis": {
            "backgroundcolor": "white",
            "gridcolor": "rgb(232,232,232)",
            "gridwidth": 2,
            "linecolor": "rgb(36,36,36)",
            "showbackground": true,
            "showgrid": false,
            "showline": true,
            "ticks": "outside",
            "zeroline": false,
            "zerolinecolor": "rgb(36,36,36)"
           }
          },
          "shapedefaults": {
           "fillcolor": "black",
           "line": {
            "width": 0
           },
           "opacity": 0.3
          },
          "ternary": {
           "aaxis": {
            "gridcolor": "rgb(232,232,232)",
            "linecolor": "rgb(36,36,36)",
            "showgrid": false,
            "showline": true,
            "ticks": "outside"
           },
           "baxis": {
            "gridcolor": "rgb(232,232,232)",
            "linecolor": "rgb(36,36,36)",
            "showgrid": false,
            "showline": true,
            "ticks": "outside"
           },
           "bgcolor": "white",
           "caxis": {
            "gridcolor": "rgb(232,232,232)",
            "linecolor": "rgb(36,36,36)",
            "showgrid": false,
            "showline": true,
            "ticks": "outside"
           }
          },
          "title": {
           "x": 0.05
          },
          "xaxis": {
           "automargin": true,
           "gridcolor": "rgb(232,232,232)",
           "linecolor": "rgb(36,36,36)",
           "showgrid": false,
           "showline": true,
           "ticks": "outside",
           "title": {
            "standoff": 15
           },
           "zeroline": false,
           "zerolinecolor": "rgb(36,36,36)"
          },
          "yaxis": {
           "automargin": true,
           "gridcolor": "rgb(232,232,232)",
           "linecolor": "rgb(36,36,36)",
           "showgrid": false,
           "showline": true,
           "ticks": "outside",
           "title": {
            "standoff": 15
           },
           "zeroline": false,
           "zerolinecolor": "rgb(36,36,36)"
          }
         }
        },
        "title": {
         "font": {
          "color": "Black",
          "size": 22
         },
         "text": "<b>Documents and Topics</b>",
         "x": 0.5,
         "xanchor": "center",
         "yanchor": "top"
        },
        "width": 1200,
        "xaxis": {
         "visible": false
        },
        "yaxis": {
         "visible": false
        }
       }
      }
     },
     "metadata": {},
     "output_type": "display_data"
    }
   ],
   "source": [
    "model.visualize_documents(questions)"
   ]
  },
  {
   "cell_type": "code",
   "execution_count": 24,
   "metadata": {},
   "outputs": [
    {
     "data": {
      "application/vnd.plotly.v1+json": {
       "config": {
        "plotlyServerURL": "https://plot.ly"
       },
       "data": [
        {
         "marker": {
          "color": "#D55E00"
         },
         "orientation": "h",
         "type": "bar",
         "x": [
          0.46512532234191895,
          0.4675288200378418,
          0.4712222218513489,
          0.5012297630310059,
          0.5996721982955933
         ],
         "xaxis": "x",
         "y": [
          "petroleum refineries  ",
          "petroleum refineries are  ",
          "oil producing  ",
          "oil producing areas  ",
          "energy in india  "
         ],
         "yaxis": "y"
        },
        {
         "marker": {
          "color": "#0072B2"
         },
         "orientation": "h",
         "type": "bar",
         "x": [
          0.36494916677474976,
          0.39110666513442993,
          0.42375442385673523,
          0.42697757482528687,
          0.42899811267852783
         ],
         "xaxis": "x2",
         "y": [
          "weather  ",
          "western ghats  ",
          "climate change  ",
          "climate  ",
          "glaciers  "
         ],
         "yaxis": "y2"
        },
        {
         "marker": {
          "color": "#CC79A7"
         },
         "orientation": "h",
         "type": "bar",
         "x": [
          0.4448782801628113,
          0.45830515027046204,
          0.5576265454292297,
          0.602436900138855,
          0.6799240708351135
         ],
         "xaxis": "x3",
         "y": [
          "heritage  ",
          "early indian  ",
          "of the gupta  ",
          "of temple architecture  ",
          "indian art  "
         ],
         "yaxis": "y3"
        },
        {
         "marker": {
          "color": "#E69F00"
         },
         "orientation": "h",
         "type": "bar",
         "x": [
          0.38504189252853394,
          0.3982005715370178,
          0.42682814598083496,
          0.4530850648880005,
          0.5407462120056152
         ],
         "xaxis": "x4",
         "y": [
          "of indian  ",
          "the anti colonial  ",
          "of mahatma  ",
          "gandhi in the  ",
          "of indian independence  "
         ],
         "yaxis": "y4"
        },
        {
         "marker": {
          "color": "#56B4E9"
         },
         "orientation": "h",
         "type": "bar",
         "x": [
          0.5273536443710327,
          0.5659880042076111,
          0.5973273515701294,
          0.6180708408355713,
          0.6191394925117493
         ],
         "xaxis": "x5",
         "y": [
          "of urban life  ",
          "of tier cities  ",
          "urbanization  ",
          "of urbanization in  ",
          "of urbanization  "
         ],
         "yaxis": "y5"
        },
        {
         "marker": {
          "color": "#009E73"
         },
         "orientation": "h",
         "type": "bar",
         "x": [
          0.5294538140296936,
          0.5305294990539551,
          0.5335098505020142,
          0.5693670511245728,
          0.5915560126304626
         ],
         "xaxis": "x6",
         "y": [
          "poverty  ",
          "poverty by the  ",
          "poverty is to  ",
          "poverty is the  ",
          "women in india  "
         ],
         "yaxis": "y6"
        },
        {
         "marker": {
          "color": "#F0E442"
         },
         "orientation": "h",
         "type": "bar",
         "x": [
          0.7211970090866089,
          0.728847861289978,
          0.7323300838470459,
          0.7495625019073486,
          0.8252789974212646
         ],
         "xaxis": "x7",
         "y": [
          "regionalism in  ",
          "regionalism is an  ",
          "of regionalism is  ",
          "regionalism substantiate  ",
          "regionalism in india  "
         ],
         "yaxis": "y7"
        },
        {
         "marker": {
          "color": "#D55E00"
         },
         "orientation": "h",
         "type": "bar",
         "x": [
          0.6121160387992859,
          0.635492205619812,
          0.6532028913497925,
          0.6540182828903198,
          0.6989849805831909
         ],
         "xaxis": "x8",
         "y": [
          "why is caste  ",
          "caste  ",
          "vis vis caste  ",
          "sect in indian  ",
          "indian society  "
         ],
         "yaxis": "y8"
        }
       ],
       "layout": {
        "annotations": [
         {
          "font": {
           "size": 16
          },
          "showarrow": false,
          "text": "Topic 0",
          "x": 0.0875,
          "xanchor": "center",
          "xref": "paper",
          "y": 1,
          "yanchor": "bottom",
          "yref": "paper"
         },
         {
          "font": {
           "size": 16
          },
          "showarrow": false,
          "text": "Topic 1",
          "x": 0.36250000000000004,
          "xanchor": "center",
          "xref": "paper",
          "y": 1,
          "yanchor": "bottom",
          "yref": "paper"
         },
         {
          "font": {
           "size": 16
          },
          "showarrow": false,
          "text": "Topic 2",
          "x": 0.6375000000000001,
          "xanchor": "center",
          "xref": "paper",
          "y": 1,
          "yanchor": "bottom",
          "yref": "paper"
         },
         {
          "font": {
           "size": 16
          },
          "showarrow": false,
          "text": "Topic 3",
          "x": 0.9125,
          "xanchor": "center",
          "xref": "paper",
          "y": 1,
          "yanchor": "bottom",
          "yref": "paper"
         },
         {
          "font": {
           "size": 16
          },
          "showarrow": false,
          "text": "Topic 4",
          "x": 0.0875,
          "xanchor": "center",
          "xref": "paper",
          "y": 0.4,
          "yanchor": "bottom",
          "yref": "paper"
         },
         {
          "font": {
           "size": 16
          },
          "showarrow": false,
          "text": "Topic 5",
          "x": 0.36250000000000004,
          "xanchor": "center",
          "xref": "paper",
          "y": 0.4,
          "yanchor": "bottom",
          "yref": "paper"
         },
         {
          "font": {
           "size": 16
          },
          "showarrow": false,
          "text": "Topic 6",
          "x": 0.6375000000000001,
          "xanchor": "center",
          "xref": "paper",
          "y": 0.4,
          "yanchor": "bottom",
          "yref": "paper"
         },
         {
          "font": {
           "size": 16
          },
          "showarrow": false,
          "text": "Topic 7",
          "x": 0.9125,
          "xanchor": "center",
          "xref": "paper",
          "y": 0.4,
          "yanchor": "bottom",
          "yref": "paper"
         }
        ],
        "height": 500,
        "hoverlabel": {
         "bgcolor": "white",
         "font": {
          "family": "Rockwell",
          "size": 16
         }
        },
        "showlegend": false,
        "template": {
         "data": {
          "bar": [
           {
            "error_x": {
             "color": "#2a3f5f"
            },
            "error_y": {
             "color": "#2a3f5f"
            },
            "marker": {
             "line": {
              "color": "white",
              "width": 0.5
             },
             "pattern": {
              "fillmode": "overlay",
              "size": 10,
              "solidity": 0.2
             }
            },
            "type": "bar"
           }
          ],
          "barpolar": [
           {
            "marker": {
             "line": {
              "color": "white",
              "width": 0.5
             },
             "pattern": {
              "fillmode": "overlay",
              "size": 10,
              "solidity": 0.2
             }
            },
            "type": "barpolar"
           }
          ],
          "carpet": [
           {
            "aaxis": {
             "endlinecolor": "#2a3f5f",
             "gridcolor": "#C8D4E3",
             "linecolor": "#C8D4E3",
             "minorgridcolor": "#C8D4E3",
             "startlinecolor": "#2a3f5f"
            },
            "baxis": {
             "endlinecolor": "#2a3f5f",
             "gridcolor": "#C8D4E3",
             "linecolor": "#C8D4E3",
             "minorgridcolor": "#C8D4E3",
             "startlinecolor": "#2a3f5f"
            },
            "type": "carpet"
           }
          ],
          "choropleth": [
           {
            "colorbar": {
             "outlinewidth": 0,
             "ticks": ""
            },
            "type": "choropleth"
           }
          ],
          "contour": [
           {
            "colorbar": {
             "outlinewidth": 0,
             "ticks": ""
            },
            "colorscale": [
             [
              0,
              "#0d0887"
             ],
             [
              0.1111111111111111,
              "#46039f"
             ],
             [
              0.2222222222222222,
              "#7201a8"
             ],
             [
              0.3333333333333333,
              "#9c179e"
             ],
             [
              0.4444444444444444,
              "#bd3786"
             ],
             [
              0.5555555555555556,
              "#d8576b"
             ],
             [
              0.6666666666666666,
              "#ed7953"
             ],
             [
              0.7777777777777778,
              "#fb9f3a"
             ],
             [
              0.8888888888888888,
              "#fdca26"
             ],
             [
              1,
              "#f0f921"
             ]
            ],
            "type": "contour"
           }
          ],
          "contourcarpet": [
           {
            "colorbar": {
             "outlinewidth": 0,
             "ticks": ""
            },
            "type": "contourcarpet"
           }
          ],
          "heatmap": [
           {
            "colorbar": {
             "outlinewidth": 0,
             "ticks": ""
            },
            "colorscale": [
             [
              0,
              "#0d0887"
             ],
             [
              0.1111111111111111,
              "#46039f"
             ],
             [
              0.2222222222222222,
              "#7201a8"
             ],
             [
              0.3333333333333333,
              "#9c179e"
             ],
             [
              0.4444444444444444,
              "#bd3786"
             ],
             [
              0.5555555555555556,
              "#d8576b"
             ],
             [
              0.6666666666666666,
              "#ed7953"
             ],
             [
              0.7777777777777778,
              "#fb9f3a"
             ],
             [
              0.8888888888888888,
              "#fdca26"
             ],
             [
              1,
              "#f0f921"
             ]
            ],
            "type": "heatmap"
           }
          ],
          "heatmapgl": [
           {
            "colorbar": {
             "outlinewidth": 0,
             "ticks": ""
            },
            "colorscale": [
             [
              0,
              "#0d0887"
             ],
             [
              0.1111111111111111,
              "#46039f"
             ],
             [
              0.2222222222222222,
              "#7201a8"
             ],
             [
              0.3333333333333333,
              "#9c179e"
             ],
             [
              0.4444444444444444,
              "#bd3786"
             ],
             [
              0.5555555555555556,
              "#d8576b"
             ],
             [
              0.6666666666666666,
              "#ed7953"
             ],
             [
              0.7777777777777778,
              "#fb9f3a"
             ],
             [
              0.8888888888888888,
              "#fdca26"
             ],
             [
              1,
              "#f0f921"
             ]
            ],
            "type": "heatmapgl"
           }
          ],
          "histogram": [
           {
            "marker": {
             "pattern": {
              "fillmode": "overlay",
              "size": 10,
              "solidity": 0.2
             }
            },
            "type": "histogram"
           }
          ],
          "histogram2d": [
           {
            "colorbar": {
             "outlinewidth": 0,
             "ticks": ""
            },
            "colorscale": [
             [
              0,
              "#0d0887"
             ],
             [
              0.1111111111111111,
              "#46039f"
             ],
             [
              0.2222222222222222,
              "#7201a8"
             ],
             [
              0.3333333333333333,
              "#9c179e"
             ],
             [
              0.4444444444444444,
              "#bd3786"
             ],
             [
              0.5555555555555556,
              "#d8576b"
             ],
             [
              0.6666666666666666,
              "#ed7953"
             ],
             [
              0.7777777777777778,
              "#fb9f3a"
             ],
             [
              0.8888888888888888,
              "#fdca26"
             ],
             [
              1,
              "#f0f921"
             ]
            ],
            "type": "histogram2d"
           }
          ],
          "histogram2dcontour": [
           {
            "colorbar": {
             "outlinewidth": 0,
             "ticks": ""
            },
            "colorscale": [
             [
              0,
              "#0d0887"
             ],
             [
              0.1111111111111111,
              "#46039f"
             ],
             [
              0.2222222222222222,
              "#7201a8"
             ],
             [
              0.3333333333333333,
              "#9c179e"
             ],
             [
              0.4444444444444444,
              "#bd3786"
             ],
             [
              0.5555555555555556,
              "#d8576b"
             ],
             [
              0.6666666666666666,
              "#ed7953"
             ],
             [
              0.7777777777777778,
              "#fb9f3a"
             ],
             [
              0.8888888888888888,
              "#fdca26"
             ],
             [
              1,
              "#f0f921"
             ]
            ],
            "type": "histogram2dcontour"
           }
          ],
          "mesh3d": [
           {
            "colorbar": {
             "outlinewidth": 0,
             "ticks": ""
            },
            "type": "mesh3d"
           }
          ],
          "parcoords": [
           {
            "line": {
             "colorbar": {
              "outlinewidth": 0,
              "ticks": ""
             }
            },
            "type": "parcoords"
           }
          ],
          "pie": [
           {
            "automargin": true,
            "type": "pie"
           }
          ],
          "scatter": [
           {
            "fillpattern": {
             "fillmode": "overlay",
             "size": 10,
             "solidity": 0.2
            },
            "type": "scatter"
           }
          ],
          "scatter3d": [
           {
            "line": {
             "colorbar": {
              "outlinewidth": 0,
              "ticks": ""
             }
            },
            "marker": {
             "colorbar": {
              "outlinewidth": 0,
              "ticks": ""
             }
            },
            "type": "scatter3d"
           }
          ],
          "scattercarpet": [
           {
            "marker": {
             "colorbar": {
              "outlinewidth": 0,
              "ticks": ""
             }
            },
            "type": "scattercarpet"
           }
          ],
          "scattergeo": [
           {
            "marker": {
             "colorbar": {
              "outlinewidth": 0,
              "ticks": ""
             }
            },
            "type": "scattergeo"
           }
          ],
          "scattergl": [
           {
            "marker": {
             "colorbar": {
              "outlinewidth": 0,
              "ticks": ""
             }
            },
            "type": "scattergl"
           }
          ],
          "scattermapbox": [
           {
            "marker": {
             "colorbar": {
              "outlinewidth": 0,
              "ticks": ""
             }
            },
            "type": "scattermapbox"
           }
          ],
          "scatterpolar": [
           {
            "marker": {
             "colorbar": {
              "outlinewidth": 0,
              "ticks": ""
             }
            },
            "type": "scatterpolar"
           }
          ],
          "scatterpolargl": [
           {
            "marker": {
             "colorbar": {
              "outlinewidth": 0,
              "ticks": ""
             }
            },
            "type": "scatterpolargl"
           }
          ],
          "scatterternary": [
           {
            "marker": {
             "colorbar": {
              "outlinewidth": 0,
              "ticks": ""
             }
            },
            "type": "scatterternary"
           }
          ],
          "surface": [
           {
            "colorbar": {
             "outlinewidth": 0,
             "ticks": ""
            },
            "colorscale": [
             [
              0,
              "#0d0887"
             ],
             [
              0.1111111111111111,
              "#46039f"
             ],
             [
              0.2222222222222222,
              "#7201a8"
             ],
             [
              0.3333333333333333,
              "#9c179e"
             ],
             [
              0.4444444444444444,
              "#bd3786"
             ],
             [
              0.5555555555555556,
              "#d8576b"
             ],
             [
              0.6666666666666666,
              "#ed7953"
             ],
             [
              0.7777777777777778,
              "#fb9f3a"
             ],
             [
              0.8888888888888888,
              "#fdca26"
             ],
             [
              1,
              "#f0f921"
             ]
            ],
            "type": "surface"
           }
          ],
          "table": [
           {
            "cells": {
             "fill": {
              "color": "#EBF0F8"
             },
             "line": {
              "color": "white"
             }
            },
            "header": {
             "fill": {
              "color": "#C8D4E3"
             },
             "line": {
              "color": "white"
             }
            },
            "type": "table"
           }
          ]
         },
         "layout": {
          "annotationdefaults": {
           "arrowcolor": "#2a3f5f",
           "arrowhead": 0,
           "arrowwidth": 1
          },
          "autotypenumbers": "strict",
          "coloraxis": {
           "colorbar": {
            "outlinewidth": 0,
            "ticks": ""
           }
          },
          "colorscale": {
           "diverging": [
            [
             0,
             "#8e0152"
            ],
            [
             0.1,
             "#c51b7d"
            ],
            [
             0.2,
             "#de77ae"
            ],
            [
             0.3,
             "#f1b6da"
            ],
            [
             0.4,
             "#fde0ef"
            ],
            [
             0.5,
             "#f7f7f7"
            ],
            [
             0.6,
             "#e6f5d0"
            ],
            [
             0.7,
             "#b8e186"
            ],
            [
             0.8,
             "#7fbc41"
            ],
            [
             0.9,
             "#4d9221"
            ],
            [
             1,
             "#276419"
            ]
           ],
           "sequential": [
            [
             0,
             "#0d0887"
            ],
            [
             0.1111111111111111,
             "#46039f"
            ],
            [
             0.2222222222222222,
             "#7201a8"
            ],
            [
             0.3333333333333333,
             "#9c179e"
            ],
            [
             0.4444444444444444,
             "#bd3786"
            ],
            [
             0.5555555555555556,
             "#d8576b"
            ],
            [
             0.6666666666666666,
             "#ed7953"
            ],
            [
             0.7777777777777778,
             "#fb9f3a"
            ],
            [
             0.8888888888888888,
             "#fdca26"
            ],
            [
             1,
             "#f0f921"
            ]
           ],
           "sequentialminus": [
            [
             0,
             "#0d0887"
            ],
            [
             0.1111111111111111,
             "#46039f"
            ],
            [
             0.2222222222222222,
             "#7201a8"
            ],
            [
             0.3333333333333333,
             "#9c179e"
            ],
            [
             0.4444444444444444,
             "#bd3786"
            ],
            [
             0.5555555555555556,
             "#d8576b"
            ],
            [
             0.6666666666666666,
             "#ed7953"
            ],
            [
             0.7777777777777778,
             "#fb9f3a"
            ],
            [
             0.8888888888888888,
             "#fdca26"
            ],
            [
             1,
             "#f0f921"
            ]
           ]
          },
          "colorway": [
           "#636efa",
           "#EF553B",
           "#00cc96",
           "#ab63fa",
           "#FFA15A",
           "#19d3f3",
           "#FF6692",
           "#B6E880",
           "#FF97FF",
           "#FECB52"
          ],
          "font": {
           "color": "#2a3f5f"
          },
          "geo": {
           "bgcolor": "white",
           "lakecolor": "white",
           "landcolor": "white",
           "showlakes": true,
           "showland": true,
           "subunitcolor": "#C8D4E3"
          },
          "hoverlabel": {
           "align": "left"
          },
          "hovermode": "closest",
          "mapbox": {
           "style": "light"
          },
          "paper_bgcolor": "white",
          "plot_bgcolor": "white",
          "polar": {
           "angularaxis": {
            "gridcolor": "#EBF0F8",
            "linecolor": "#EBF0F8",
            "ticks": ""
           },
           "bgcolor": "white",
           "radialaxis": {
            "gridcolor": "#EBF0F8",
            "linecolor": "#EBF0F8",
            "ticks": ""
           }
          },
          "scene": {
           "xaxis": {
            "backgroundcolor": "white",
            "gridcolor": "#DFE8F3",
            "gridwidth": 2,
            "linecolor": "#EBF0F8",
            "showbackground": true,
            "ticks": "",
            "zerolinecolor": "#EBF0F8"
           },
           "yaxis": {
            "backgroundcolor": "white",
            "gridcolor": "#DFE8F3",
            "gridwidth": 2,
            "linecolor": "#EBF0F8",
            "showbackground": true,
            "ticks": "",
            "zerolinecolor": "#EBF0F8"
           },
           "zaxis": {
            "backgroundcolor": "white",
            "gridcolor": "#DFE8F3",
            "gridwidth": 2,
            "linecolor": "#EBF0F8",
            "showbackground": true,
            "ticks": "",
            "zerolinecolor": "#EBF0F8"
           }
          },
          "shapedefaults": {
           "line": {
            "color": "#2a3f5f"
           }
          },
          "ternary": {
           "aaxis": {
            "gridcolor": "#DFE8F3",
            "linecolor": "#A2B1C6",
            "ticks": ""
           },
           "baxis": {
            "gridcolor": "#DFE8F3",
            "linecolor": "#A2B1C6",
            "ticks": ""
           },
           "bgcolor": "white",
           "caxis": {
            "gridcolor": "#DFE8F3",
            "linecolor": "#A2B1C6",
            "ticks": ""
           }
          },
          "title": {
           "x": 0.05
          },
          "xaxis": {
           "automargin": true,
           "gridcolor": "#EBF0F8",
           "linecolor": "#EBF0F8",
           "ticks": "",
           "title": {
            "standoff": 15
           },
           "zerolinecolor": "#EBF0F8",
           "zerolinewidth": 2
          },
          "yaxis": {
           "automargin": true,
           "gridcolor": "#EBF0F8",
           "linecolor": "#EBF0F8",
           "ticks": "",
           "title": {
            "standoff": 15
           },
           "zerolinecolor": "#EBF0F8",
           "zerolinewidth": 2
          }
         }
        },
        "title": {
         "font": {
          "color": "Black",
          "size": 22
         },
         "text": "Topic Word Scores",
         "x": 0.5,
         "xanchor": "center",
         "yanchor": "top"
        },
        "width": 1000,
        "xaxis": {
         "anchor": "y",
         "domain": [
          0,
          0.175
         ],
         "showgrid": true
        },
        "xaxis2": {
         "anchor": "y2",
         "domain": [
          0.275,
          0.45
         ],
         "showgrid": true
        },
        "xaxis3": {
         "anchor": "y3",
         "domain": [
          0.55,
          0.7250000000000001
         ],
         "showgrid": true
        },
        "xaxis4": {
         "anchor": "y4",
         "domain": [
          0.825,
          1
         ],
         "showgrid": true
        },
        "xaxis5": {
         "anchor": "y5",
         "domain": [
          0,
          0.175
         ],
         "showgrid": true
        },
        "xaxis6": {
         "anchor": "y6",
         "domain": [
          0.275,
          0.45
         ],
         "showgrid": true
        },
        "xaxis7": {
         "anchor": "y7",
         "domain": [
          0.55,
          0.7250000000000001
         ],
         "showgrid": true
        },
        "xaxis8": {
         "anchor": "y8",
         "domain": [
          0.825,
          1
         ],
         "showgrid": true
        },
        "yaxis": {
         "anchor": "x",
         "domain": [
          0.6000000000000001,
          1
         ],
         "showgrid": true
        },
        "yaxis2": {
         "anchor": "x2",
         "domain": [
          0.6000000000000001,
          1
         ],
         "showgrid": true
        },
        "yaxis3": {
         "anchor": "x3",
         "domain": [
          0.6000000000000001,
          1
         ],
         "showgrid": true
        },
        "yaxis4": {
         "anchor": "x4",
         "domain": [
          0.6000000000000001,
          1
         ],
         "showgrid": true
        },
        "yaxis5": {
         "anchor": "x5",
         "domain": [
          0,
          0.4
         ],
         "showgrid": true
        },
        "yaxis6": {
         "anchor": "x6",
         "domain": [
          0,
          0.4
         ],
         "showgrid": true
        },
        "yaxis7": {
         "anchor": "x7",
         "domain": [
          0,
          0.4
         ],
         "showgrid": true
        },
        "yaxis8": {
         "anchor": "x8",
         "domain": [
          0,
          0.4
         ],
         "showgrid": true
        }
       }
      }
     },
     "metadata": {},
     "output_type": "display_data"
    }
   ],
   "source": [
    "model.visualize_barchart()"
   ]
  },
  {
   "cell_type": "code",
   "execution_count": 26,
   "metadata": {},
   "outputs": [
    {
     "name": "stderr",
     "output_type": "stream",
     "text": [
      "[nltk_data] Downloading package stopwords to\n",
      "[nltk_data]     C:\\Users\\HP\\AppData\\Roaming\\nltk_data...\n",
      "[nltk_data]   Package stopwords is already up-to-date!\n"
     ]
    },
    {
     "data": {
      "text/plain": [
       "True"
      ]
     },
     "execution_count": 26,
     "metadata": {},
     "output_type": "execute_result"
    }
   ],
   "source": [
    "import nltk\n",
    "from nltk.corpus import stopwords\n",
    "nltk.download('stopwords')"
   ]
  },
  {
   "cell_type": "code",
   "execution_count": 29,
   "metadata": {},
   "outputs": [],
   "source": [
    "\n",
    "stop_words = set(stopwords.words('english'))\n",
    "\n",
    "    # Add question words to the set of stopwords\n",
    "question_words = {'explain', 'what', 'when', 'where', 'who', 'whom', 'which', 'why', 'how', \n",
    "                        'comment', 'discuss','following', 'example', \n",
    "                        'examine', 'state', 'critically','context', 'measures', \n",
    "                        'suggest', 'evaluate', 'describe', 'identify', 'illustrate',}\n",
    "stop_words.update(question_words)\n",
    "stop_words = list(stop_words)"
   ]
  },
  {
   "cell_type": "code",
   "execution_count": 30,
   "metadata": {},
   "outputs": [],
   "source": [
    "from sklearn.feature_extraction.text import CountVectorizer\n",
    "vectorizer_model = CountVectorizer(stop_words=stop_words, ngram_range=(1, 3))# modify stop-words to include more words\n",
    "model.update_topics(questions,vectorizer_model=vectorizer_model)"
   ]
  },
  {
   "cell_type": "code",
   "execution_count": 31,
   "metadata": {},
   "outputs": [
    {
     "data": {
      "text/html": [
       "<div>\n",
       "<style scoped>\n",
       "    .dataframe tbody tr th:only-of-type {\n",
       "        vertical-align: middle;\n",
       "    }\n",
       "\n",
       "    .dataframe tbody tr th {\n",
       "        vertical-align: top;\n",
       "    }\n",
       "\n",
       "    .dataframe thead th {\n",
       "        text-align: right;\n",
       "    }\n",
       "</style>\n",
       "<table border=\"1\" class=\"dataframe\">\n",
       "  <thead>\n",
       "    <tr style=\"text-align: right;\">\n",
       "      <th></th>\n",
       "      <th>Topic</th>\n",
       "      <th>Count</th>\n",
       "      <th>Name</th>\n",
       "      <th>Representation</th>\n",
       "      <th>Representative_Docs</th>\n",
       "    </tr>\n",
       "  </thead>\n",
       "  <tbody>\n",
       "    <tr>\n",
       "      <th>0</th>\n",
       "      <td>-1</td>\n",
       "      <td>47</td>\n",
       "      <td>-1_india_society_indian society_indian</td>\n",
       "      <td>[india, society, indian society, indian, ident...</td>\n",
       "      <td>[Why are the tribals in India referred to as '...</td>\n",
       "    </tr>\n",
       "    <tr>\n",
       "      <th>1</th>\n",
       "      <td>0</td>\n",
       "      <td>9</td>\n",
       "      <td>0_energy_india_raw material_mining</td>\n",
       "      <td>[energy, india, raw material, mining, potentia...</td>\n",
       "      <td>[Despite India being one of the countries of t...</td>\n",
       "    </tr>\n",
       "    <tr>\n",
       "      <th>2</th>\n",
       "      <td>1</td>\n",
       "      <td>64</td>\n",
       "      <td>1_water_india_world_resources</td>\n",
       "      <td>[water, india, world, resources, climate, weat...</td>\n",
       "      <td>[What do you understand by the phenomenon of ‘...</td>\n",
       "    </tr>\n",
       "    <tr>\n",
       "      <th>3</th>\n",
       "      <td>2</td>\n",
       "      <td>18</td>\n",
       "      <td>2_art_architecture_indian_early</td>\n",
       "      <td>[art, architecture, indian, early, history, pe...</td>\n",
       "      <td>[The rock-cut architecture represents one of t...</td>\n",
       "    </tr>\n",
       "    <tr>\n",
       "      <th>4</th>\n",
       "      <td>3</td>\n",
       "      <td>44</td>\n",
       "      <td>3_india_british_mahatma gandhi_gandhi</td>\n",
       "      <td>[india, british, mahatma gandhi, gandhi, mahat...</td>\n",
       "      <td>[Whereas the British planters had developed te...</td>\n",
       "    </tr>\n",
       "    <tr>\n",
       "      <th>5</th>\n",
       "      <td>4</td>\n",
       "      <td>18</td>\n",
       "      <td>4_india_cities_new_smart</td>\n",
       "      <td>[india, cities, new, smart, urban, delhi, indu...</td>\n",
       "      <td>[How is the growth of Tier 2 cities related to...</td>\n",
       "    </tr>\n",
       "    <tr>\n",
       "      <th>6</th>\n",
       "      <td>5</td>\n",
       "      <td>16</td>\n",
       "      <td>5_women_poverty_india_population</td>\n",
       "      <td>[women, poverty, india, population, sex, ratio...</td>\n",
       "      <td>[‘Despite implementation of various programmes...</td>\n",
       "    </tr>\n",
       "    <tr>\n",
       "      <th>7</th>\n",
       "      <td>6</td>\n",
       "      <td>7</td>\n",
       "      <td>6_regionalism_cultural_states_basis</td>\n",
       "      <td>[regionalism, cultural, states, basis, diversi...</td>\n",
       "      <td>[Growing feeling of regionalism is an importan...</td>\n",
       "    </tr>\n",
       "    <tr>\n",
       "      <th>8</th>\n",
       "      <td>7</td>\n",
       "      <td>6</td>\n",
       "      <td>7_caste_indian society_society_vis</td>\n",
       "      <td>[caste, indian society, society, vis, indian, ...</td>\n",
       "      <td>[How does Indian society maintain continuity i...</td>\n",
       "    </tr>\n",
       "    <tr>\n",
       "      <th>9</th>\n",
       "      <td>8</td>\n",
       "      <td>6</td>\n",
       "      <td>8_secularism_practices_debates_indian</td>\n",
       "      <td>[secularism, practices, debates, indian, makin...</td>\n",
       "      <td>[How the Indian concept of secularism differen...</td>\n",
       "    </tr>\n",
       "  </tbody>\n",
       "</table>\n",
       "</div>"
      ],
      "text/plain": [
       "   Topic  Count                                    Name  \\\n",
       "0     -1     47  -1_india_society_indian society_indian   \n",
       "1      0      9      0_energy_india_raw material_mining   \n",
       "2      1     64           1_water_india_world_resources   \n",
       "3      2     18         2_art_architecture_indian_early   \n",
       "4      3     44   3_india_british_mahatma gandhi_gandhi   \n",
       "5      4     18                4_india_cities_new_smart   \n",
       "6      5     16        5_women_poverty_india_population   \n",
       "7      6      7     6_regionalism_cultural_states_basis   \n",
       "8      7      6      7_caste_indian society_society_vis   \n",
       "9      8      6   8_secularism_practices_debates_indian   \n",
       "\n",
       "                                      Representation  \\\n",
       "0  [india, society, indian society, indian, ident...   \n",
       "1  [energy, india, raw material, mining, potentia...   \n",
       "2  [water, india, world, resources, climate, weat...   \n",
       "3  [art, architecture, indian, early, history, pe...   \n",
       "4  [india, british, mahatma gandhi, gandhi, mahat...   \n",
       "5  [india, cities, new, smart, urban, delhi, indu...   \n",
       "6  [women, poverty, india, population, sex, ratio...   \n",
       "7  [regionalism, cultural, states, basis, diversi...   \n",
       "8  [caste, indian society, society, vis, indian, ...   \n",
       "9  [secularism, practices, debates, indian, makin...   \n",
       "\n",
       "                                 Representative_Docs  \n",
       "0  [Why are the tribals in India referred to as '...  \n",
       "1  [Despite India being one of the countries of t...  \n",
       "2  [What do you understand by the phenomenon of ‘...  \n",
       "3  [The rock-cut architecture represents one of t...  \n",
       "4  [Whereas the British planters had developed te...  \n",
       "5  [How is the growth of Tier 2 cities related to...  \n",
       "6  [‘Despite implementation of various programmes...  \n",
       "7  [Growing feeling of regionalism is an importan...  \n",
       "8  [How does Indian society maintain continuity i...  \n",
       "9  [How the Indian concept of secularism differen...  "
      ]
     },
     "execution_count": 31,
     "metadata": {},
     "output_type": "execute_result"
    }
   ],
   "source": [
    "model.get_topic_info()"
   ]
  },
  {
   "cell_type": "code",
   "execution_count": 32,
   "metadata": {},
   "outputs": [
    {
     "data": {
      "application/vnd.plotly.v1+json": {
       "config": {
        "plotlyServerURL": "https://plot.ly"
       },
       "data": [
        {
         "hoverinfo": "text",
         "hovertext": [
          "Why are the tribals in India referred to as 'the Scheduled Tribes? Indicate the major provisions in the Constitution of India for their upliftment.",
          "Examine the role of ‘Gig Economy’ in the process of empowerment of women in India.",
          "Child cuddling is now being replaced by mobile phones. Discuss its impact on the socialization of children.",
          "What are the main features of Vedic society and religion? Do you think some of the features are still prevailing in Indian society?",
          "Examine the uniqueness of tribal knowledge system when compared with mainstream knowledge and cultural systems.",
          "What are the two major legal initiatives by the State since Independence addressing discrimination against Scheduled Tribes(STs)?",
          "Describing the distribution of rubber producing countries, indicate the major environmental issues faced by them.",
          "Do we have cultural pockets of small India all over the nation? Elaborate with examples.",
          "Defining blue revolution, explain the problems and strategies for pisciculture development in India.",
          "Why is India considered as a sub-continent? Elaborate your answer.",
          "Is diversity and pluralism in India under threat due to globalisation? Justify your answer.",
          "To what extent has the urban planning and culture of the Indus Valley Civilization provided inputs to the present day urbanization?\nDiscuss.",
          "Discuss the multi-dimensional implications of uneven distribution of mineral oil in the world.",
          "What is Cryptocurrency? How does it affect global society? Has it been affecting Indian society also?",
          "Critically examine the effect of globalization on the aged population in India.",
          "How does India see its place in the economic space of rising natural resources rich Africa?",
          "The ancient civilization in Indian sub continent differed from those of Egypt , Mesopotamia and Greece in that its culture and traditions have been preserved without breakdown to the present day. Comment",
          "Are we losing our local identity for the global identity? Discuss.",
          "Why did human development fail to keep pace with economic development in India?",
          "The Bhakti movement received a remarkable re-orientation with the advent of Sri Chaitanya Mahaprabhu. Discuss.",
          "Mention the advantages of the cultivation of pulses because of which the year 2016 was declared as the International Year of Pulses by United Nations.",
          "The political and administrative reorganization of states and territories has been a continuous ongoing process since the mid-nineteenth century. Discuss with examples.",
          "“Caste system is assuming new identities and associational forms. Hence, caste system cannot be eradicated in India.”",
          "Explain the role of geographical factors towards the development of Ancient India.",
          "Globalisation is generally said to promote cultural homogenisation but due to this cultural specificities appear to be strengthened in the Indian society.’ Elucidate.",
          "What makes the Indian society unique in sustaining its culture? Discuss.",
          "Examine how the decline of traditional artisanal industry in colonial India crippled the rural economy.",
          "What were the major technological changes introduced during the Sultanate period? How did those technological changes influence the Indian society?",
          "The spirit of tolerance and love is not only an interesting feature of Indian society from very early times, but it is also playing an important part at the present. Elaborate.",
          "‘Communalism arises either due to power struggle or relative deprivation.’ Argue by giving suitable illustrations.",
          "Distinguish between religiousness/religiosity and communalism giving one example of how the former has got transformed into the latter in independent India.",
          "‘Latecomer’ Industrial Revolution in Japan involved certain factors that were markedly different from what West had experienced.” Analyze.",
          "Discuss the impact of post-liberal economy on ethnic identity and communalism.",
          "Defying the barriers of age, gender and religion, the Indian women became the torchbearer during the struggle for freedom in India. Discuss.",
          "Given the diversities among the tribal communities in India, in which specific contexts should they be considered as a single category?",
          "From being net food importer in 1960s, India has emerged as a net food exporter to the world. Provide reasons.",
          "Why did the Green Revolution in India virtually by-pass the eastern region despite fertile soil and good availability of water?",
          "Debate the issue whether and how contemporary movements for assertion of Dalit identity work towards annihilation of caste.",
          "Discuss the role of women in the freedom struggle especially during the Gandhian phase.",
          "Elucidate the relationship between globalization and new technology in a world of scarce resources, with special reference to India.",
          "Why was there a sudden spurt in famines in colonial India since the mid-eighteenth century? Give reasons.",
          "“Africa was chopped into states artificially created by accidents of European competition.” Analyze.",
          "Discuss the changes in the trends of labour migration within and outside India in the last four decades.",
          "Explore and evaluate the impact of ‘Work From Home’ on family relationships.",
          "Discuss whether formation of new states in recent times is beneficial or not for the economy of India.",
          "Describe any four cultural elements of diversity in India and rate their relative significance in building a national identity.",
          "Write a critical note on the evolution and significance of the slogan, ‘Jai Jawan, Jai Kisan’.",
          null
         ],
         "marker": {
          "color": "#CFD8DC",
          "opacity": 0.5,
          "size": 5
         },
         "mode": "markers+text",
         "name": "other",
         "showlegend": false,
         "type": "scattergl",
         "x": [
          12.06482219696045,
          10.758041381835938,
          11.762418746948242,
          12.480230331420898,
          12.219572067260742,
          11.99795913696289,
          8.152563095092773,
          11.531944274902344,
          8.197961807250977,
          11.812457084655762,
          11.592747688293457,
          10.446949005126953,
          8.244537353515625,
          11.083510398864746,
          11.283299446105957,
          9.009181022644043,
          12.281367301940918,
          11.720357894897461,
          10.51630687713623,
          13.563128471374512,
          9.948092460632324,
          11.440580368041992,
          12.813360214233398,
          10.498695373535156,
          11.593546867370605,
          12.27160930633545,
          10.913330078125,
          10.674023628234863,
          12.909112930297852,
          11.961882591247559,
          12.780402183532715,
          10.816326141357422,
          11.960040092468262,
          12.917547225952148,
          12.20559310913086,
          10.08199691772461,
          8.428677558898926,
          12.777802467346191,
          13.063970565795898,
          10.999371528625488,
          10.983047485351562,
          11.3392333984375,
          11.055550575256348,
          11.795099258422852,
          11.089491844177246,
          12.226516723632812,
          13.079568862915039,
          11.34774112701416
         ],
         "y": [
          3.815208673477173,
          1.5909074544906616,
          1.9446568489074707,
          2.847075939178467,
          3.1818225383758545,
          3.9723668098449707,
          3.30025053024292,
          3.197614908218384,
          2.261279582977295,
          3.1183156967163086,
          2.96258544921875,
          2.884079694747925,
          3.299231767654419,
          2.5014429092407227,
          2.7263832092285156,
          3.1181697845458984,
          3.074326276779175,
          2.822801113128662,
          2.4611239433288574,
          4.481799602508545,
          3.342867374420166,
          4.119410991668701,
          2.299161672592163,
          3.063380718231201,
          2.9157638549804688,
          3.0081069469451904,
          4.651108264923096,
          3.3210363388061523,
          3.1891062259674072,
          2.363130569458008,
          3.2626805305480957,
          4.648716449737549,
          2.545828342437744,
          4.776452541351318,
          3.118166208267212,
          3.446052312850952,
          2.264716863632202,
          2.3151180744171143,
          4.868056297302246,
          2.821410655975342,
          4.75269889831543,
          4.067296981811523,
          2.8422279357910156,
          1.9125192165374756,
          3.7029309272766113,
          3.078289031982422,
          3.8890397548675537,
          3.194610834121704
         ]
        },
        {
         "hoverinfo": "text",
         "hovertext": [
          "Examine the potential of wind energy in India and explain the reasons for their limited spatial spread.",
          "With growing scarcity of fossil fuels, the atomic energy is gaining more and more significance in India. Discuss the availability of raw material required for the generation of atomic energy in India and in the world.",
          "It is said that India has substantial reserves of shale oil and gas, which can feed the needs of the country for quarter century. However, tapping of the resource does not appear to be high on the agenda. Discuss critically the availability and issues involved.",
          "Account for the present location of iron and steel industries away from the source of raw material, by giving examples.",
          "“Inspite of adverse environmental impact, coal mining is still inevitable for development”.\nDiscuss",
          "India has immense potential of solar energy though there are regional variations in its developments. Elaborate.",
          "Account for the change in the spatial pattern of the Iron and Steel industry in the world.",
          "Petroleum refineries are not necessarily located nearer to crude oil producing areas, particularly in many of the developing countries. Explain its implications.",
          "Despite India being one of the countries of the Gondwanaland, its mining industry contributes much less to its Gross Domestic Product(GDP) in percentage. Discuss.",
          null
         ],
         "marker": {
          "opacity": 0.5,
          "size": 5
         },
         "mode": "markers+text",
         "name": "0_energy_india_raw material",
         "text": [
          "",
          "",
          "",
          "",
          "",
          "",
          "",
          "",
          "",
          "0_energy_india_raw material"
         ],
         "textfont": {
          "size": 12
         },
         "type": "scattergl",
         "x": [
          9.235091209411621,
          9.063797950744629,
          8.337449073791504,
          8.623059272766113,
          8.390869140625,
          9.139557838439941,
          8.666325569152832,
          8.237836837768555,
          8.618090629577637,
          8.70134162902832
         ],
         "y": [
          3.214562177658081,
          3.290966510772705,
          3.2697134017944336,
          3.1814727783203125,
          3.2245988845825195,
          3.2398228645324707,
          3.1706271171569824,
          3.3073577880859375,
          3.1357572078704834,
          3.226097583770752
         ]
        },
        {
         "hoverinfo": "text",
         "hovertext": [
          "What is water stress? How and why does it differ regionally in India?",
          "Critically evaluate the various resources of the oceans which can be harnessed to meet the resource crisis in the world.",
          "Briefly mention the alignment of major mountain ranges of the world and explain their impact on local weather conditions, with examples.",
          "Enumerate the problems and prospects of inland water transport in India.",
          "Discuss the natural resource potentials of ‘Deccan trap’.",
          "The effective management of land and water resources will drastically reduce the human miseries. Explain.",
          "Why is the world today confronted with a crisis of availability of and access to freshwater resources?",
          "What do you understand by the phenomenon of ‘temperature inversion’ in meteorology? How does it affect weather and the habitants of the place?",
          "The interlinking of rivers can provide viable solutions to the multi-dimensional inter-related problems of droughts, floods and interrupted navigation. Critically examine.",
          "Discuss the consequences of climate change on the food security in tropical countries.",
          "Discuss the concept of air mass and explain its role in macro-climatic changes.",
          "What characteristics can be assigned to monsoon climate that succeeds in feeding more than 50 percent of the world population residing in Monsoon Asia?",
          "Examine the status of forest resources of India and its resultant impact on climate change.",
          "\"The Himalayas are highly prone to landslides.\" Discuss the causes and suggest suitable measures of mitigation.",
          "The process of desertification does not have climate boundaries. Justify with examples.",
          "There is no formation of deltas by rivers on the Western Ghats. Why?",
          "South China Sea has assumed great geopolitical significance in the present context. Comment.",
          "Assess the impact of global warming on the coral life system with examples.",
          "Why is Indian Regional Navigational Satellite System (IRNSS) needed? How does it help in navigation?",
          "Define mantle plume and explain its role in plate tectonics.",
          "Mention the significance of straits and isthmus in international trade.",
          "Major cities of India are becoming more vulnerable to flood conditions. Discuss.",
          "“The ideal solution of depleting ground water resources in India is water harvesting system.” How can it be made effective in urban areas?",
          "How does the cryosphere affect global climate?",
          "Account for variations in oceanic salinity and discuss its multi-dimensional effects.",
          "How does the Juno Mission of NASA help to understand the origin and evolution of the Earth?",
          "How do ocean currents and water masses differ in their impacts on marine life and coastal environment? Give suitable examples.",
          "Troposphere is a very significant atmospheric layer that determines weather processes.\nHow?",
          "Bring out the causes for more frequent occurrence of landslides in the Himalayas than in the Western Ghats.",
          "Discuss the causes of depletion of mangroves and explain their importance in maintaining coastal ecology.",
          "How do the melting of the Arctic ice and glaciers of the Antarctic differently affect the weather patterns and human activities on the Earth? Explain.",
          "Tropical cyclones are largely confined to South China Sea, Bay of Bengal and Gulf of Mexico. Why?",
          "Identify and discuss the factors responsible for diversity of natural vegetation in India. Assess the significance of wildlife sanctuaries in rain forests regions of India.",
          "Differentiate the causes of landslides in the Himalayan region and Western Ghats.",
          "Account for the huge flooding of million cities in India including the smart ones like Hyderabad and Pune. Suggest lasting remedial measures.",
          "Explain the factors responsible for the origin of ocean currents. How do they influence regional climates, fishing and navigation?",
          "What are the consequences of spreading of ‘Dead Zones’ on marine ecosystem?",
          "In what way micro-watershed development projects help in water conservation in\ndrought-prone and semi-arid regions of India?",
          "Why are the world’s fold mountain systems located along the margins of continents? Bring out the association between the global distribution of fold mountains and the earthquakes and volcanoes.",
          "How will the melting of Himalayan glaciers have a far- reaching impact on the water resources of India?",
          "What do you understand by the theory of continental drift? Discuss the prominent evidences in its support.",
          "Discuss the geophysical characteristics of Circum- Pacific Zone.",
          "What are the economic significances of discovery of oil in Arctic Sea and its possible environemental consequences?",
          "The states of Jammu and Kashmir, Himachal Pradesh and Uttarakhand are reaching the limits of ecological carrying capacity due to tourism. Critically evaluate.",
          "Comment on the resource potentials of the long coastline of India and highlight the status of natural hazard preparedness in these areas.",
          "Present an account of the Indus Water Treaty and examine its ecological, economic and political implications in the context of changing bilateral relations.",
          "Major hot deserts in northern hemisphere are located between 20-30 deg N latitudes and on the western sides of the continents. Why?",
          "What are the forces that influence ocean currents? Describe their role in fishing industry of the world.",
          "In what way can floods be converted into a sustainable source of irrigation and all-weather inland navigation in India?",
          "Discuss the meaning of colour-coded weather warnings for cyclone prone areas given by India Meteorological department.",
          "The recent cyclone on the east coast of India was called ‘Phailin’. How are the tropical cyclones named across the world? Elaborate.",
          "Why is India taking keen interest in the Arctic region?",
          "Bring out the causes for the formation of heat islands in the urban habitat of the world.",
          "Mention the global occurrence of volcanic eruptions in 2021 and their impact on regional environment.",
          "How can the mountain ecosystem be restored from the negative impact of development initiatives and tourism?",
          null,
          "Explain the formation of thousands of islands in Indonesian and Philipines archipelagos.",
          "Why is the South-West monsoon called ‘Purvaiya’ (easterly) in Bhojpur Region? How has this directional seasonal wind system influenced the cultural ethos of the region?",
          "Describe the characteristics and types of primary rocks.",
          "what are the environmental implications of the reclamation of the water bodies into urban land use? Explain with examples.",
          "How far do you agree that the behaviour of the Indian monsoon has been changing due to humanizing landscape? Discuss.",
          "Most of the unusual climatic happenings are explained as an outcome of the El-Nino effect. Do you agree?",
          "India is well endowed with fresh water resources. Critically examine why it still suffers from water scarcity.",
          "Bring out the relationship between the shrinking Himalayan glaciers and the symptoms of climate change in the Indian sub-continent."
         ],
         "marker": {
          "opacity": 0.5,
          "size": 5
         },
         "mode": "markers+text",
         "name": "1_water_india_world",
         "text": [
          "",
          "",
          "",
          "",
          "",
          "",
          "",
          "",
          "",
          "",
          "",
          "",
          "",
          "",
          "",
          "",
          "",
          "",
          "",
          "",
          "",
          "",
          "",
          "",
          "",
          "",
          "",
          "",
          "",
          "",
          "",
          "",
          "",
          "",
          "",
          "",
          "",
          "",
          "",
          "",
          "",
          "",
          "",
          "",
          "",
          "",
          "",
          "",
          "",
          "",
          "",
          "",
          "",
          "",
          "",
          "1_water_india_world",
          "",
          "",
          "",
          "",
          "",
          "",
          "",
          ""
         ],
         "textfont": {
          "size": 12
         },
         "type": "scattergl",
         "x": [
          6.785524845123291,
          6.689652442932129,
          5.3069257736206055,
          6.988035202026367,
          7.818951606750488,
          6.995217323303223,
          6.841589450836182,
          5.05891227722168,
          6.770172119140625,
          6.298369407653809,
          5.261706829071045,
          6.342352867126465,
          7.8238630294799805,
          5.6822686195373535,
          5.330964088439941,
          5.96415376663208,
          7.1001296043396,
          6.232887268066406,
          7.00583553314209,
          5.277112007141113,
          7.13569974899292,
          6.744372367858887,
          6.879785060882568,
          5.204080104827881,
          6.226150035858154,
          5.127297878265381,
          6.209793567657471,
          5.039865970611572,
          5.754280090332031,
          6.30955171585083,
          5.554645538330078,
          5.995744228363037,
          7.899018287658691,
          5.7999348640441895,
          6.776634216308594,
          6.160362243652344,
          6.3665056228637695,
          6.805264949798584,
          5.4517621994018555,
          6.701123237609863,
          5.452332496643066,
          5.465375900268555,
          6.9174981117248535,
          7.7854790687561035,
          7.551052093505859,
          7.115894317626953,
          5.341701030731201,
          6.242110252380371,
          6.776401042938232,
          6.244968414306641,
          6.266178607940674,
          7.067289352416992,
          5.223998069763184,
          5.3842034339904785,
          7.399508953094482,
          6.307965278625488,
          5.488180160522461,
          6.464359283447266,
          5.660480976104736,
          7.05446195602417,
          6.416094779968262,
          5.825950622558594,
          6.983601093292236,
          5.764119625091553
         ],
         "y": [
          2.257875442504883,
          3.3859963417053223,
          2.4180214405059814,
          2.1704022884368896,
          2.3893110752105713,
          2.4399051666259766,
          2.599313259124756,
          2.6248390674591064,
          2.1461923122406006,
          2.257598400115967,
          2.612236499786377,
          1.9184755086898804,
          2.292452335357666,
          2.5172410011291504,
          2.4048664569854736,
          2.3039891719818115,
          3.4562573432922363,
          3.51224684715271,
          2.8847944736480713,
          2.948533535003662,
          3.448014736175537,
          1.9634854793548584,
          2.1196916103363037,
          2.607757568359375,
          3.5015454292297363,
          2.8484225273132324,
          3.522138833999634,
          2.6800270080566406,
          2.448970317840576,
          3.5440173149108887,
          2.6098546981811523,
          1.8789459466934204,
          2.2742228507995605,
          2.4210236072540283,
          1.9948108196258545,
          3.444821834564209,
          3.5797858238220215,
          2.1917309761047363,
          2.740067958831787,
          2.490553855895996,
          3.001990795135498,
          3.0352425575256348,
          3.3698842525482178,
          2.309457540512085,
          2.251585006713867,
          2.5295157432556152,
          2.380843162536621,
          3.495171308517456,
          2.1041433811187744,
          1.8209830522537231,
          1.769086480140686,
          3.0924830436706543,
          2.6860294342041016,
          2.794060468673706,
          2.392312526702881,
          2.5959906578063965,
          3.083101511001587,
          1.7352218627929688,
          2.5768234729766846,
          2.065136671066284,
          1.8411028385162354,
          1.9905203580856323,
          2.3460559844970703,
          2.465517282485962
         ]
        },
        {
         "hoverinfo": "text",
         "hovertext": [
          "Mesolithic rock cut architecture of India not only reflects the cultural life of the times but also a fine aesthetic sense comparable to modern painting. Critically evaluate this comment.",
          "Safeguarding the Indian art heritage is the need of the moment.",
          "Persian literary sources of medieval India reflect the spirit of the age. Comment.",
          "Highlight the Central Asian and Greco Bactrian elements in the Gandhara art.",
          "Early Buddhist Stupa-art, while depicting folk motifs and narratives successfully expounds Buddhist ideals. Elucidate.",
          "How do you justify the view that the level of excellence of the Gupta numismatic art is not at all noticeable in later times?",
          "Discuss the main contributions of Gupta period and Chola period to Indian heritage and culture\n.",
          "The rock-cut architecture represents one of the most important sources of our knowledge of early Indian art and history. Discuss.",
          "Taxila university was one of the oldest universities of the world with which were associated a number of renowned learned personalities of different disciplines. Its strategic location caused its fame to flourish, but unlike Nalanda, it is not considered as a university in the modern sense. Discuss.",
          "How will you explain the medieval Indian temple sculptures represent the social life of those days?",
          "Pala period is the most significant phase in the history of Buddhism in India. Enumerate.",
          "Gandhara sculpture owed as much to the Romans as to the Greeks. Explain.",
          "Chola architecture represents a high watermark in the evolution of temple architecture. Discuss",
          "Discuss the significance of the lion and bull figures in Indian mythology, art and architecture.",
          "Evaluate the nature of the Bhakti Literature and its contribution to Indian culture.",
          "Indian Philosophy and tradition played a significant role in conceiving and shaping the monuments and their art in India. Discuss.",
          "Assess the importance of the accounts of the Chinese and Arab travellers in the reconstruction of the history of India.",
          "Discuss the ‘Tandava’ dance as recorded in early Indian inscriptions.",
          null
         ],
         "marker": {
          "opacity": 0.5,
          "size": 5
         },
         "mode": "markers+text",
         "name": "2_art_architecture_indian",
         "text": [
          "",
          "",
          "",
          "",
          "",
          "",
          "",
          "",
          "",
          "",
          "",
          "",
          "",
          "",
          "",
          "",
          "",
          "",
          "2_art_architecture_indian"
         ],
         "textfont": {
          "size": 12
         },
         "type": "scattergl",
         "x": [
          14.996767044067383,
          14.781210899353027,
          14.028173446655273,
          15.053892135620117,
          15.198436737060547,
          14.796951293945312,
          14.615056991577148,
          15.026991844177246,
          14.330635070800781,
          14.901436805725098,
          14.588022232055664,
          15.053807258605957,
          14.960919380187988,
          14.849977493286133,
          13.91580867767334,
          14.813421249389648,
          13.917165756225586,
          15.092416763305664,
          14.717838287353516
         ],
         "y": [
          4.332292556762695,
          4.168769359588623,
          4.237484931945801,
          4.221096038818359,
          4.0868425369262695,
          4.196463584899902,
          4.274520397186279,
          4.258049488067627,
          4.589255332946777,
          4.272948741912842,
          4.239652156829834,
          4.263721942901611,
          4.284843444824219,
          4.375936031341553,
          4.364290237426758,
          4.232778549194336,
          4.39609432220459,
          4.169088363647461,
          4.275784969329834
         ]
        },
        {
         "hoverinfo": "text",
         "hovertext": [
          "” There arose a serious challenge to the Democratic State System between the two World Wars.” Evaluate the statement.",
          "It would have been difficult for the Constituent Assembly to complete its historic task of drafting the Constitution for Independent India in just three years, but its experience gained with the Government of India Act, 1935\n.Discuss.",
          "Critically discuss the objectives of Bhoodan and Gramdan movements initiated by AcharyaVinobhaBhave and their success.",
          "To what extend can Germany be held responsible for causing the two World Wars? Discuss critically.",
          "Many voices had strengthened and enriched the nationalist movement during the Gandhian phase. Elaborate.",
          "In what ways did the navel mutiny prove to be the last nail in the coffin of British colonial aspirations in India?",
          "The anti-colonial struggles in West Africa were led by the new elite of Western-educated Africans.",
          "What were the events that led to the Suez Crisis in 1956? How did it deal a final blow to Britain’s self-image as a world power?",
          "The third battle of Panipat was fought in 1761. Why were so many empire-shaking battles fought at Panipat?",
          "Examine critically the various facets of economic policies of the British in India from mid-eighteenth century till independence.",
          "Explain how the Uprising of 1857 constitutes an important watershed in the evolution of British policies towards colonial India.",
          "Explain how the foundations of the modern world were laid by the American and French Revolutions.",
          "“American Revolution was an economic revolt against mercantilism.” Substantiate.",
          "Examine the linkages between the nineteenth century’s ‘Indian Renaissance’ and the emergence of national identity.",
          "Why did the ‘Moderates’ failed to carry conviction with the nation about their proclaimed ideology and political goals by the end of the nineteenth century?",
          "Evaluate the policies of Lord Curzon and their long term implications on the national movements.",
          "Highlight the differences in the approach of Subhash Chandra Bose and Mahatma Gandhi in the struggle for freedom.",
          "Several foreigners made India their homeland and participated in various movements.\nAnalyze their role in the Indian struggle for freedom.",
          "Critically examine the compulsions which prompted India to play a decisive role in the emergence of Bangladesh.",
          "The 1857 uprising was the culmination of the recurrent, big and small local rebellions that had occurred in the preceding hundred years of British rule. Elucidate.",
          "Though not very useful from the point of view of a connected political history of South India, the Sangam literature portrays the social and economic conditions of its time with remarkable vividness. Comment.",
          "Discuss the contributions of MaulanaAbulKalam Azad to pre- and post-independent India.",
          "Why indentured labour was taken by the British from India to their colonies? have they been able to preserve their cultural identity over there?",
          "Since the decade of the 1920s, the national movement acquired various ideological strands and thereby expanded its social base. Discuss.",
          "Bring out the constructive programmes of Mahatma Gandhi during Non-Cooperation Movement and Civil Disobedience Movement.",
          "What were the major political, economic and social developments in the world which motivated the anti-colonial in India?",
          "Assess the role of British imperial power in complicating the process of transfer of power during the 1940s.",
          "How difficult would have been the achievement of Indian independence without Mahatma Gandhi? Discuss.",
          "Why did the industrial revolution first occur in England? Discuss the quality of life of the people there during the industrialization. How does it compare with that in India at present times?",
          "What policy instruments were deployed to contain the Great Economic Depression?",
          "To what extent did the role of the moderates prepare a base for the wider freedom movement? Comment.",
          "The New Economic Policy – 1921 of Lenin had influenced the policies adopted by India soon after independence. Evaluate.",
          "Throw light on the significance of the thoughts of Mahatma Gandhi in the present times.",
          "How did the colonial rule affect the tribals in India and what was the tribal response to the colonial oppression?",
          "Whereas the British planters had developed tea gardens all along the Shivaliks and Lesser Himalayas from Assam to Himachal Pradesh, in effect they did not succeed beyond the Darjeeling area. Explain.",
          "Analyze the circumstances that led to the Tashkent Agreement in 1966. Discuss the highlights of the Agreement.",
          "Mahatma Gandhi and Dr. B R Ambedkar, despite having divergent approaches and strategies, had a common goal of amelioration of the downtrodden. Elucidate.",
          "Krishnadeva Raya, the King of Vijayanagar, was not only an accomplished scholar himself but was also a great patron of learning and literature. Discuss.",
          "What was the difference between Mahatma Gandhi and Rabindranath Tagore in their approach towards education and nationalism?",
          "Why did the armies of the British East India Company – mostly comprising of Indian soldiers – win consistently against the more numerous and better equipped armies of the Indian rulers? Give reasons.",
          "What problems are germane to the decolonization process in the Malay Peninsula?",
          "Highlight the importance of the new objectives that got added to the vision of Indian Independence since the twenties of the last century.",
          "“In many ways, Lord Dalhousie was the founder of modern India.” Elaborate.",
          "Clarify how mid-eighteenth century India was beset with the spectre of a fragmented polity.",
          null
         ],
         "marker": {
          "opacity": 0.5,
          "size": 5
         },
         "mode": "markers+text",
         "name": "3_india_british_mahatma gandhi",
         "text": [
          "",
          "",
          "",
          "",
          "",
          "",
          "",
          "",
          "",
          "",
          "",
          "",
          "",
          "",
          "",
          "",
          "",
          "",
          "",
          "",
          "",
          "",
          "",
          "",
          "",
          "",
          "",
          "",
          "",
          "",
          "",
          "",
          "",
          "",
          "",
          "",
          "",
          "",
          "",
          "",
          "",
          "",
          "",
          "",
          "3_india_british_mahatma gandhi"
         ],
         "textfont": {
          "size": 12
         },
         "type": "scattergl",
         "x": [
          11.989582061767578,
          12.741142272949219,
          13.454878807067871,
          11.90788459777832,
          12.818964004516602,
          12.041938781738281,
          11.926643371582031,
          11.922738075256348,
          11.55597972869873,
          11.6152925491333,
          11.888399124145508,
          11.865527153015137,
          11.725273132324219,
          12.506250381469727,
          12.555163383483887,
          12.469643592834473,
          13.148489952087402,
          12.572922706604004,
          12.329154014587402,
          12.117911338806152,
          12.555856704711914,
          12.856229782104492,
          11.943055152893066,
          12.462728500366211,
          13.175429344177246,
          11.834663391113281,
          11.910953521728516,
          12.941076278686523,
          11.010856628417969,
          11.408943176269531,
          12.546974182128906,
          11.547711372375488,
          13.197871208190918,
          11.941058158874512,
          11.225507736206055,
          12.024005889892578,
          13.18182373046875,
          13.655413627624512,
          13.076074600219727,
          11.540807723999023,
          11.485595703125,
          12.621161460876465,
          13.388556480407715,
          12.345820426940918,
          12.29617977142334
         ],
         "y": [
          5.516571521759033,
          4.797276020050049,
          4.55629301071167,
          5.559071063995361,
          5.145952224731445,
          4.78585147857666,
          4.833954334259033,
          5.397522926330566,
          5.271581172943115,
          4.907542705535889,
          5.085958003997803,
          5.137800216674805,
          5.020029067993164,
          4.6904473304748535,
          5.353048801422119,
          5.359983921051025,
          5.095893859863281,
          4.786361217498779,
          4.546089172363281,
          5.033624172210693,
          4.435165882110596,
          4.837401866912842,
          4.618342876434326,
          5.426472187042236,
          5.06666898727417,
          4.644391059875488,
          5.406569480895996,
          4.983314514160156,
          4.776547908782959,
          4.809105396270752,
          5.367865562438965,
          4.808839321136475,
          4.941682815551758,
          4.379330635070801,
          5.031578540802002,
          5.470104694366455,
          5.078794002532959,
          4.730657577514648,
          5.149290084838867,
          5.193170547485352,
          4.329802989959717,
          4.8026251792907715,
          4.7412824630737305,
          4.632962703704834,
          4.966882228851318
         ]
        },
        {
         "hoverinfo": "text",
         "hovertext": [
          "“The growth of cities as I.T. hubs has opened up new avenues of employment, but has also created new problems”. Substantiate this statement with examples",
          "Bring out the socio-economic effects of the introduction of railways in different countries of the world",
          "Does urbanization lead to more segregation and/or marginalization of the poor in Indian metropolises?",
          "COVID-19 pandemic accelerated class inequalities and poverty in India. Comment.",
          "Mumbai, Delhi and Kolkata are the three Mega cities of the country but the air pollution is much more serious probelm in Delhi as compared to the other two. Why is this so?",
          "Do you agree that there is a growing trend of opening new sugar mills in southern states of India? Discuss with justification.",
          "How have digital initiatives in India contributed to the functioning of the education system in the country? Elaborate your answer.",
          "How is efficient and affordable urban mass transport key to the rapid economic development in India?",
          "Smart cities in India cannot sustain without smart vilages. Discuss this statement in the backdrop of rural urban integration.",
          "How is the growth of Tier 2 cities related to the rise of a new middle class with an emphasis on the culture of consumption?",
          "What is the significance of Industrial Corridors in India? Identifying industrial corridors, explain their main characteristics.",
          "What are the main socio-economic implications arising out of the development of IT industries in major cities of India?",
          "With a brief background of quality of urban life in India, introduce the objectives and strategy of the 'Smart City Programme'.",
          "Analyze the factors for the highly decentralized cotton textile industry in India.",
          "Discuss the factors for localisation of agro-based food processing industries of North-West India.",
          "Can the strategy of regional resource-based manufacturing help in promoting employment in India?",
          "Mention core strategies for the transformation of aspirational districts in India and explain the nature of convergence, collaboration and competition for its success.",
          "Discuss the various social problems which originated out of the speedy process of urbanization in India.",
          null
         ],
         "marker": {
          "opacity": 0.5,
          "size": 5
         },
         "mode": "markers+text",
         "name": "4_india_cities_new",
         "text": [
          "",
          "",
          "",
          "",
          "",
          "",
          "",
          "",
          "",
          "",
          "",
          "",
          "",
          "",
          "",
          "",
          "",
          "",
          "4_india_cities_new"
         ],
         "textfont": {
          "size": 12
         },
         "type": "scattergl",
         "x": [
          10.205246925354004,
          9.998974800109863,
          10.558096885681152,
          10.975597381591797,
          10.279119491577148,
          9.759305000305176,
          10.712632179260254,
          10.001133918762207,
          10.190444946289062,
          10.30854320526123,
          9.654635429382324,
          10.153809547424316,
          10.138981819152832,
          9.813053131103516,
          9.828022956848145,
          9.770099639892578,
          10.743112564086914,
          10.43312931060791,
          10.195775032043457
         ],
         "y": [
          2.3597304821014404,
          2.659259796142578,
          2.2953848838806152,
          2.0898141860961914,
          1.8745472431182861,
          3.2762622833251953,
          2.0411224365234375,
          2.50335955619812,
          2.2721211910247803,
          2.424048662185669,
          2.8693437576293945,
          2.245107412338257,
          2.2349133491516113,
          3.237994909286499,
          3.2545971870422363,
          3.0305891036987305,
          2.102778196334839,
          2.5499234199523926,
          2.5178277492523193
         ]
        },
        {
         "hoverinfo": "text",
         "hovertext": [
          "Why do some of the most prosperous regions of India have an adverse sex ratio for women? Give your arguments.",
          "“Male membership needs to be encouraged in order to make women’s organization free from gender bias.” Comment.",
          "‘Women’s movement in India has not addressed the issues of women of lower social strata.’ Substantiate your view.",
          "How do you explain the statistics that show that the sex ratio in Tribes in India is more favourable to women than the sex ratio among Scheduled Castes?",
          "\"An essential condition to eradicate poverty is to liberate the poor from the process of deprivation.\" Substantiate this statement with suitable examples.",
          "Discuss the various economic and\nsocio-cultural forces that are driving increasing feminization of agriculture in India.",
          "Discuss the main objectives of Population Education and point out the measures to achieve them in India in detail.",
          "How does patriarchy impact the position of a middle class working woman in India?",
          "“Empowering women is the key to control population growth.” Discuss.",
          "The life cycle of a joint family depends on economic factors rather than social values. Discuss.",
          "What are the continued challenges for women in India against time and space?",
          "Discuss the positive and negative effects of globalization on women in India?",
          "The women’s questions arose in modern India as a part of the 19th century social reform movement. What are the major issues and debates concerning women in that period?",
          "Critically examine whether growing population is the cause of poverty OR poverty is the mains cause of population increase in India.",
          "Explain why suicide among young women is increasing in Indian Society.",
          "‘Despite implementation of various programmes for eradication of poverty by the government in India, poverty is still existing’. Explain by giving reasons.",
          null
         ],
         "marker": {
          "opacity": 0.5,
          "size": 5
         },
         "mode": "markers+text",
         "name": "5_women_poverty_india",
         "text": [
          "",
          "",
          "",
          "",
          "",
          "",
          "",
          "",
          "",
          "",
          "",
          "",
          "",
          "",
          "",
          "",
          "5_women_poverty_india"
         ],
         "textfont": {
          "size": 12
         },
         "type": "scattergl",
         "x": [
          10.903740882873535,
          11.182465553283691,
          11.350374221801758,
          10.92479133605957,
          11.436455726623535,
          10.941370964050293,
          11.127996444702148,
          11.227383613586426,
          11.133346557617188,
          11.861534118652344,
          11.341348648071289,
          11.016961097717285,
          11.204450607299805,
          11.136807441711426,
          11.105256080627441,
          11.300792694091797,
          11.199691772460938
         ],
         "y": [
          1.4391192197799683,
          1.4078289270401,
          1.3552429676055908,
          1.3116782903671265,
          1.8897385597229004,
          1.4461809396743774,
          1.8437652587890625,
          1.3518530130386353,
          1.5111902952194214,
          2.019040107727051,
          1.3759946823120117,
          2.402649402618408,
          1.4154452085494995,
          1.8148300647735596,
          1.3363584280014038,
          1.8956339359283447,
          1.6135343313217163
         ]
        },
        {
         "hoverinfo": "text",
         "hovertext": [
          "Assess the main administrative issues and socio-cultural problems in the integration process of Indian Princely States.",
          "What is the basis of regionalism? Is it that unequal distribution of benefits of development on regional basis eventually promotes regionalism? Substantiate your answer.",
          "Growing feeling of regionalism is an important factor in generation of demand for a separate state. Discuss.",
          "Do you agree that regionalism in India appears to be a consequence of rising cultural assertiveness? Argue.",
          "Has the formation of linguistic States strengthened the cause of Indian Unity?",
          "In the context of the diversity of India, can it be said that the regions form cultural units rather than the States? Give reasons with examples for your view point.",
          "To what extent globalization has influenced the core of cultural diversity in India? Explain.",
          null
         ],
         "marker": {
          "opacity": 0.5,
          "size": 5
         },
         "mode": "markers+text",
         "name": "6_regionalism_cultural_states",
         "text": [
          "",
          "",
          "",
          "",
          "",
          "",
          "",
          "6_regionalism_cultural_states"
         ],
         "textfont": {
          "size": 12
         },
         "type": "scattergl",
         "x": [
          11.293658256530762,
          11.262091636657715,
          11.270100593566895,
          11.355904579162598,
          11.26147747039795,
          11.43468189239502,
          11.352178573608398,
          11.318585395812988
         ],
         "y": [
          3.5832314491271973,
          3.374337911605835,
          3.5948407649993896,
          3.2548279762268066,
          3.580017566680908,
          3.3269927501678467,
          2.8845722675323486,
          3.371259927749634
         ]
        },
        {
         "hoverinfo": "text",
         "hovertext": [
          "Why is caste identity in India both fluid and static?",
          "Analyze the salience of ‘sect’ in Indian society vis-a-vis caste, region and religion.",
          "Trace the rise and growth of socio-religious reform movements with special reference to Young Bengal and Brahmo Samaj.",
          "Has caste lost its relevance in understanding the multi- cultural Indian Society? Elaborate your answer with illustrations.",
          "Do you think marriage as a sacrament in loosing its value in Modern India?",
          "How does Indian society maintain continuity in traditional social values? Enumerate the changes taking place in it.",
          null
         ],
         "marker": {
          "opacity": 0.5,
          "size": 5
         },
         "mode": "markers+text",
         "name": "7_caste_indian society_society",
         "text": [
          "",
          "",
          "",
          "",
          "",
          "",
          "7_caste_indian society_society"
         ],
         "textfont": {
          "size": 12
         },
         "type": "scattergl",
         "x": [
          12.776763916015625,
          12.813589096069336,
          13.076374053955078,
          12.74201488494873,
          12.716117858886719,
          12.413958549499512,
          12.7564697265625
         ],
         "y": [
          2.4307658672332764,
          2.828462839126587,
          3.4844415187835693,
          2.4056899547576904,
          2.538459539413452,
          2.7348504066467285,
          2.737111806869507
         ]
        },
        {
         "hoverinfo": "text",
         "hovertext": [
          "Sufis and medieval saints failed to modify either the religious ideas and practices or the outward structure of Hindu/ Muslim societies to any appreciable extent. Comment.",
          "How the Indian concept of secularism different from the western model of secularism?\nDiscuss.",
          "What are the challenges to our cultural practices in the name of secularism?",
          "How do the Indian debates on secularism differ from the debates in the West?",
          "Are tolerance, assimilation and pluralism the key elements in the making of an Indian form of secularism? Justify your answer.",
          "Customs and traditions suppress reason leading to obscurantism. Do you agree?",
          null
         ],
         "marker": {
          "opacity": 0.5,
          "size": 5
         },
         "mode": "markers+text",
         "name": "8_secularism_practices_debates",
         "text": [
          "",
          "",
          "",
          "",
          "",
          "",
          "8_secularism_practices_debates"
         ],
         "textfont": {
          "size": 12
         },
         "type": "scattergl",
         "x": [
          13.35312557220459,
          13.308732032775879,
          13.298555374145508,
          13.288853645324707,
          13.163785934448242,
          13.376399040222168,
          13.298240661621094
         ],
         "y": [
          3.288759708404541,
          3.167128562927246,
          3.109471082687378,
          3.1063992977142334,
          3.050868034362793,
          3.157397508621216,
          3.1466705799102783
         ]
        }
       ],
       "layout": {
        "annotations": [
         {
          "showarrow": false,
          "text": "D1",
          "x": 4.283886075019836,
          "y": 3.7539291352033617,
          "yshift": 10
         },
         {
          "showarrow": false,
          "text": "D2",
          "x": 10.881044161319732,
          "xshift": 10,
          "y": 6.392931723594666
         }
        ],
        "height": 750,
        "shapes": [
         {
          "line": {
           "color": "#CFD8DC",
           "width": 2
          },
          "type": "line",
          "x0": 10.881044161319732,
          "x1": 10.881044161319732,
          "y0": 1.1149265468120575,
          "y1": 6.392931723594666
         },
         {
          "line": {
           "color": "#9E9E9E",
           "width": 2
          },
          "type": "line",
          "x0": 4.283886075019836,
          "x1": 17.478202247619627,
          "y0": 3.7539291352033617,
          "y1": 3.7539291352033617
         }
        ],
        "template": {
         "data": {
          "bar": [
           {
            "error_x": {
             "color": "rgb(36,36,36)"
            },
            "error_y": {
             "color": "rgb(36,36,36)"
            },
            "marker": {
             "line": {
              "color": "white",
              "width": 0.5
             },
             "pattern": {
              "fillmode": "overlay",
              "size": 10,
              "solidity": 0.2
             }
            },
            "type": "bar"
           }
          ],
          "barpolar": [
           {
            "marker": {
             "line": {
              "color": "white",
              "width": 0.5
             },
             "pattern": {
              "fillmode": "overlay",
              "size": 10,
              "solidity": 0.2
             }
            },
            "type": "barpolar"
           }
          ],
          "carpet": [
           {
            "aaxis": {
             "endlinecolor": "rgb(36,36,36)",
             "gridcolor": "white",
             "linecolor": "white",
             "minorgridcolor": "white",
             "startlinecolor": "rgb(36,36,36)"
            },
            "baxis": {
             "endlinecolor": "rgb(36,36,36)",
             "gridcolor": "white",
             "linecolor": "white",
             "minorgridcolor": "white",
             "startlinecolor": "rgb(36,36,36)"
            },
            "type": "carpet"
           }
          ],
          "choropleth": [
           {
            "colorbar": {
             "outlinewidth": 1,
             "tickcolor": "rgb(36,36,36)",
             "ticks": "outside"
            },
            "type": "choropleth"
           }
          ],
          "contour": [
           {
            "colorbar": {
             "outlinewidth": 1,
             "tickcolor": "rgb(36,36,36)",
             "ticks": "outside"
            },
            "colorscale": [
             [
              0,
              "#440154"
             ],
             [
              0.1111111111111111,
              "#482878"
             ],
             [
              0.2222222222222222,
              "#3e4989"
             ],
             [
              0.3333333333333333,
              "#31688e"
             ],
             [
              0.4444444444444444,
              "#26828e"
             ],
             [
              0.5555555555555556,
              "#1f9e89"
             ],
             [
              0.6666666666666666,
              "#35b779"
             ],
             [
              0.7777777777777778,
              "#6ece58"
             ],
             [
              0.8888888888888888,
              "#b5de2b"
             ],
             [
              1,
              "#fde725"
             ]
            ],
            "type": "contour"
           }
          ],
          "contourcarpet": [
           {
            "colorbar": {
             "outlinewidth": 1,
             "tickcolor": "rgb(36,36,36)",
             "ticks": "outside"
            },
            "type": "contourcarpet"
           }
          ],
          "heatmap": [
           {
            "colorbar": {
             "outlinewidth": 1,
             "tickcolor": "rgb(36,36,36)",
             "ticks": "outside"
            },
            "colorscale": [
             [
              0,
              "#440154"
             ],
             [
              0.1111111111111111,
              "#482878"
             ],
             [
              0.2222222222222222,
              "#3e4989"
             ],
             [
              0.3333333333333333,
              "#31688e"
             ],
             [
              0.4444444444444444,
              "#26828e"
             ],
             [
              0.5555555555555556,
              "#1f9e89"
             ],
             [
              0.6666666666666666,
              "#35b779"
             ],
             [
              0.7777777777777778,
              "#6ece58"
             ],
             [
              0.8888888888888888,
              "#b5de2b"
             ],
             [
              1,
              "#fde725"
             ]
            ],
            "type": "heatmap"
           }
          ],
          "heatmapgl": [
           {
            "colorbar": {
             "outlinewidth": 1,
             "tickcolor": "rgb(36,36,36)",
             "ticks": "outside"
            },
            "colorscale": [
             [
              0,
              "#440154"
             ],
             [
              0.1111111111111111,
              "#482878"
             ],
             [
              0.2222222222222222,
              "#3e4989"
             ],
             [
              0.3333333333333333,
              "#31688e"
             ],
             [
              0.4444444444444444,
              "#26828e"
             ],
             [
              0.5555555555555556,
              "#1f9e89"
             ],
             [
              0.6666666666666666,
              "#35b779"
             ],
             [
              0.7777777777777778,
              "#6ece58"
             ],
             [
              0.8888888888888888,
              "#b5de2b"
             ],
             [
              1,
              "#fde725"
             ]
            ],
            "type": "heatmapgl"
           }
          ],
          "histogram": [
           {
            "marker": {
             "line": {
              "color": "white",
              "width": 0.6
             }
            },
            "type": "histogram"
           }
          ],
          "histogram2d": [
           {
            "colorbar": {
             "outlinewidth": 1,
             "tickcolor": "rgb(36,36,36)",
             "ticks": "outside"
            },
            "colorscale": [
             [
              0,
              "#440154"
             ],
             [
              0.1111111111111111,
              "#482878"
             ],
             [
              0.2222222222222222,
              "#3e4989"
             ],
             [
              0.3333333333333333,
              "#31688e"
             ],
             [
              0.4444444444444444,
              "#26828e"
             ],
             [
              0.5555555555555556,
              "#1f9e89"
             ],
             [
              0.6666666666666666,
              "#35b779"
             ],
             [
              0.7777777777777778,
              "#6ece58"
             ],
             [
              0.8888888888888888,
              "#b5de2b"
             ],
             [
              1,
              "#fde725"
             ]
            ],
            "type": "histogram2d"
           }
          ],
          "histogram2dcontour": [
           {
            "colorbar": {
             "outlinewidth": 1,
             "tickcolor": "rgb(36,36,36)",
             "ticks": "outside"
            },
            "colorscale": [
             [
              0,
              "#440154"
             ],
             [
              0.1111111111111111,
              "#482878"
             ],
             [
              0.2222222222222222,
              "#3e4989"
             ],
             [
              0.3333333333333333,
              "#31688e"
             ],
             [
              0.4444444444444444,
              "#26828e"
             ],
             [
              0.5555555555555556,
              "#1f9e89"
             ],
             [
              0.6666666666666666,
              "#35b779"
             ],
             [
              0.7777777777777778,
              "#6ece58"
             ],
             [
              0.8888888888888888,
              "#b5de2b"
             ],
             [
              1,
              "#fde725"
             ]
            ],
            "type": "histogram2dcontour"
           }
          ],
          "mesh3d": [
           {
            "colorbar": {
             "outlinewidth": 1,
             "tickcolor": "rgb(36,36,36)",
             "ticks": "outside"
            },
            "type": "mesh3d"
           }
          ],
          "parcoords": [
           {
            "line": {
             "colorbar": {
              "outlinewidth": 1,
              "tickcolor": "rgb(36,36,36)",
              "ticks": "outside"
             }
            },
            "type": "parcoords"
           }
          ],
          "pie": [
           {
            "automargin": true,
            "type": "pie"
           }
          ],
          "scatter": [
           {
            "fillpattern": {
             "fillmode": "overlay",
             "size": 10,
             "solidity": 0.2
            },
            "type": "scatter"
           }
          ],
          "scatter3d": [
           {
            "line": {
             "colorbar": {
              "outlinewidth": 1,
              "tickcolor": "rgb(36,36,36)",
              "ticks": "outside"
             }
            },
            "marker": {
             "colorbar": {
              "outlinewidth": 1,
              "tickcolor": "rgb(36,36,36)",
              "ticks": "outside"
             }
            },
            "type": "scatter3d"
           }
          ],
          "scattercarpet": [
           {
            "marker": {
             "colorbar": {
              "outlinewidth": 1,
              "tickcolor": "rgb(36,36,36)",
              "ticks": "outside"
             }
            },
            "type": "scattercarpet"
           }
          ],
          "scattergeo": [
           {
            "marker": {
             "colorbar": {
              "outlinewidth": 1,
              "tickcolor": "rgb(36,36,36)",
              "ticks": "outside"
             }
            },
            "type": "scattergeo"
           }
          ],
          "scattergl": [
           {
            "marker": {
             "colorbar": {
              "outlinewidth": 1,
              "tickcolor": "rgb(36,36,36)",
              "ticks": "outside"
             }
            },
            "type": "scattergl"
           }
          ],
          "scattermapbox": [
           {
            "marker": {
             "colorbar": {
              "outlinewidth": 1,
              "tickcolor": "rgb(36,36,36)",
              "ticks": "outside"
             }
            },
            "type": "scattermapbox"
           }
          ],
          "scatterpolar": [
           {
            "marker": {
             "colorbar": {
              "outlinewidth": 1,
              "tickcolor": "rgb(36,36,36)",
              "ticks": "outside"
             }
            },
            "type": "scatterpolar"
           }
          ],
          "scatterpolargl": [
           {
            "marker": {
             "colorbar": {
              "outlinewidth": 1,
              "tickcolor": "rgb(36,36,36)",
              "ticks": "outside"
             }
            },
            "type": "scatterpolargl"
           }
          ],
          "scatterternary": [
           {
            "marker": {
             "colorbar": {
              "outlinewidth": 1,
              "tickcolor": "rgb(36,36,36)",
              "ticks": "outside"
             }
            },
            "type": "scatterternary"
           }
          ],
          "surface": [
           {
            "colorbar": {
             "outlinewidth": 1,
             "tickcolor": "rgb(36,36,36)",
             "ticks": "outside"
            },
            "colorscale": [
             [
              0,
              "#440154"
             ],
             [
              0.1111111111111111,
              "#482878"
             ],
             [
              0.2222222222222222,
              "#3e4989"
             ],
             [
              0.3333333333333333,
              "#31688e"
             ],
             [
              0.4444444444444444,
              "#26828e"
             ],
             [
              0.5555555555555556,
              "#1f9e89"
             ],
             [
              0.6666666666666666,
              "#35b779"
             ],
             [
              0.7777777777777778,
              "#6ece58"
             ],
             [
              0.8888888888888888,
              "#b5de2b"
             ],
             [
              1,
              "#fde725"
             ]
            ],
            "type": "surface"
           }
          ],
          "table": [
           {
            "cells": {
             "fill": {
              "color": "rgb(237,237,237)"
             },
             "line": {
              "color": "white"
             }
            },
            "header": {
             "fill": {
              "color": "rgb(217,217,217)"
             },
             "line": {
              "color": "white"
             }
            },
            "type": "table"
           }
          ]
         },
         "layout": {
          "annotationdefaults": {
           "arrowhead": 0,
           "arrowwidth": 1
          },
          "autotypenumbers": "strict",
          "coloraxis": {
           "colorbar": {
            "outlinewidth": 1,
            "tickcolor": "rgb(36,36,36)",
            "ticks": "outside"
           }
          },
          "colorscale": {
           "diverging": [
            [
             0,
             "rgb(103,0,31)"
            ],
            [
             0.1,
             "rgb(178,24,43)"
            ],
            [
             0.2,
             "rgb(214,96,77)"
            ],
            [
             0.3,
             "rgb(244,165,130)"
            ],
            [
             0.4,
             "rgb(253,219,199)"
            ],
            [
             0.5,
             "rgb(247,247,247)"
            ],
            [
             0.6,
             "rgb(209,229,240)"
            ],
            [
             0.7,
             "rgb(146,197,222)"
            ],
            [
             0.8,
             "rgb(67,147,195)"
            ],
            [
             0.9,
             "rgb(33,102,172)"
            ],
            [
             1,
             "rgb(5,48,97)"
            ]
           ],
           "sequential": [
            [
             0,
             "#440154"
            ],
            [
             0.1111111111111111,
             "#482878"
            ],
            [
             0.2222222222222222,
             "#3e4989"
            ],
            [
             0.3333333333333333,
             "#31688e"
            ],
            [
             0.4444444444444444,
             "#26828e"
            ],
            [
             0.5555555555555556,
             "#1f9e89"
            ],
            [
             0.6666666666666666,
             "#35b779"
            ],
            [
             0.7777777777777778,
             "#6ece58"
            ],
            [
             0.8888888888888888,
             "#b5de2b"
            ],
            [
             1,
             "#fde725"
            ]
           ],
           "sequentialminus": [
            [
             0,
             "#440154"
            ],
            [
             0.1111111111111111,
             "#482878"
            ],
            [
             0.2222222222222222,
             "#3e4989"
            ],
            [
             0.3333333333333333,
             "#31688e"
            ],
            [
             0.4444444444444444,
             "#26828e"
            ],
            [
             0.5555555555555556,
             "#1f9e89"
            ],
            [
             0.6666666666666666,
             "#35b779"
            ],
            [
             0.7777777777777778,
             "#6ece58"
            ],
            [
             0.8888888888888888,
             "#b5de2b"
            ],
            [
             1,
             "#fde725"
            ]
           ]
          },
          "colorway": [
           "#1F77B4",
           "#FF7F0E",
           "#2CA02C",
           "#D62728",
           "#9467BD",
           "#8C564B",
           "#E377C2",
           "#7F7F7F",
           "#BCBD22",
           "#17BECF"
          ],
          "font": {
           "color": "rgb(36,36,36)"
          },
          "geo": {
           "bgcolor": "white",
           "lakecolor": "white",
           "landcolor": "white",
           "showlakes": true,
           "showland": true,
           "subunitcolor": "white"
          },
          "hoverlabel": {
           "align": "left"
          },
          "hovermode": "closest",
          "mapbox": {
           "style": "light"
          },
          "paper_bgcolor": "white",
          "plot_bgcolor": "white",
          "polar": {
           "angularaxis": {
            "gridcolor": "rgb(232,232,232)",
            "linecolor": "rgb(36,36,36)",
            "showgrid": false,
            "showline": true,
            "ticks": "outside"
           },
           "bgcolor": "white",
           "radialaxis": {
            "gridcolor": "rgb(232,232,232)",
            "linecolor": "rgb(36,36,36)",
            "showgrid": false,
            "showline": true,
            "ticks": "outside"
           }
          },
          "scene": {
           "xaxis": {
            "backgroundcolor": "white",
            "gridcolor": "rgb(232,232,232)",
            "gridwidth": 2,
            "linecolor": "rgb(36,36,36)",
            "showbackground": true,
            "showgrid": false,
            "showline": true,
            "ticks": "outside",
            "zeroline": false,
            "zerolinecolor": "rgb(36,36,36)"
           },
           "yaxis": {
            "backgroundcolor": "white",
            "gridcolor": "rgb(232,232,232)",
            "gridwidth": 2,
            "linecolor": "rgb(36,36,36)",
            "showbackground": true,
            "showgrid": false,
            "showline": true,
            "ticks": "outside",
            "zeroline": false,
            "zerolinecolor": "rgb(36,36,36)"
           },
           "zaxis": {
            "backgroundcolor": "white",
            "gridcolor": "rgb(232,232,232)",
            "gridwidth": 2,
            "linecolor": "rgb(36,36,36)",
            "showbackground": true,
            "showgrid": false,
            "showline": true,
            "ticks": "outside",
            "zeroline": false,
            "zerolinecolor": "rgb(36,36,36)"
           }
          },
          "shapedefaults": {
           "fillcolor": "black",
           "line": {
            "width": 0
           },
           "opacity": 0.3
          },
          "ternary": {
           "aaxis": {
            "gridcolor": "rgb(232,232,232)",
            "linecolor": "rgb(36,36,36)",
            "showgrid": false,
            "showline": true,
            "ticks": "outside"
           },
           "baxis": {
            "gridcolor": "rgb(232,232,232)",
            "linecolor": "rgb(36,36,36)",
            "showgrid": false,
            "showline": true,
            "ticks": "outside"
           },
           "bgcolor": "white",
           "caxis": {
            "gridcolor": "rgb(232,232,232)",
            "linecolor": "rgb(36,36,36)",
            "showgrid": false,
            "showline": true,
            "ticks": "outside"
           }
          },
          "title": {
           "x": 0.05
          },
          "xaxis": {
           "automargin": true,
           "gridcolor": "rgb(232,232,232)",
           "linecolor": "rgb(36,36,36)",
           "showgrid": false,
           "showline": true,
           "ticks": "outside",
           "title": {
            "standoff": 15
           },
           "zeroline": false,
           "zerolinecolor": "rgb(36,36,36)"
          },
          "yaxis": {
           "automargin": true,
           "gridcolor": "rgb(232,232,232)",
           "linecolor": "rgb(36,36,36)",
           "showgrid": false,
           "showline": true,
           "ticks": "outside",
           "title": {
            "standoff": 15
           },
           "zeroline": false,
           "zerolinecolor": "rgb(36,36,36)"
          }
         }
        },
        "title": {
         "font": {
          "color": "Black",
          "size": 22
         },
         "text": "<b>Documents and Topics</b>",
         "x": 0.5,
         "xanchor": "center",
         "yanchor": "top"
        },
        "width": 1200,
        "xaxis": {
         "visible": false
        },
        "yaxis": {
         "visible": false
        }
       }
      }
     },
     "metadata": {},
     "output_type": "display_data"
    }
   ],
   "source": [
    "model.visualize_documents(questions)"
   ]
  },
  {
   "cell_type": "code",
   "execution_count": 33,
   "metadata": {},
   "outputs": [
    {
     "data": {
      "application/vnd.plotly.v1+json": {
       "config": {
        "plotlyServerURL": "https://plot.ly"
       },
       "data": [
        {
         "customdata": [
          [
           0,
           "energy | india | raw material | mining | potential",
           9
          ],
          [
           1,
           "water | india | world | resources | climate",
           64
          ],
          [
           2,
           "art | architecture | indian | early | history",
           18
          ],
          [
           3,
           "india | british | mahatma gandhi | gandhi | mahatma",
           44
          ],
          [
           4,
           "india | cities | new | smart | urban",
           18
          ],
          [
           5,
           "women | poverty | india | population | sex",
           16
          ],
          [
           6,
           "regionalism | cultural | states | basis | diversity india",
           7
          ],
          [
           7,
           "caste | indian society | society | vis | indian",
           6
          ],
          [
           8,
           "secularism | practices | debates | indian | making indian",
           6
          ]
         ],
         "hovertemplate": "<b>Topic %{customdata[0]}</b><br>%{customdata[1]}<br>Size: %{customdata[2]}",
         "legendgroup": "",
         "marker": {
          "color": "#B0BEC5",
          "line": {
           "color": "DarkSlateGrey",
           "width": 2
          },
          "size": [
           9,
           64,
           18,
           44,
           18,
           16,
           7,
           6,
           6
          ],
          "sizemode": "area",
          "sizeref": 0.04,
          "symbol": "circle"
         },
         "mode": "markers",
         "name": "",
         "orientation": "v",
         "showlegend": false,
         "type": "scatter",
         "x": [
          12.071348190307617,
          11.770301818847656,
          15.158210754394531,
          15.755163192749023,
          14.801360130310059,
          15.058713912963867,
          6.999966621398926,
          6.677113056182861,
          6.320711135864258
         ],
         "xaxis": "x",
         "y": [
          1.3157297372817993,
          1.6179378032684326,
          14.276479721069336,
          14.196683883666992,
          14.068061828613281,
          14.839963912963867,
          2.5977396965026855,
          2.2782530784606934,
          1.9140243530273438
         ],
         "yaxis": "y"
        }
       ],
       "layout": {
        "annotations": [
         {
          "showarrow": false,
          "text": "D1",
          "x": 5.372604465484619,
          "y": 9.092164388298988,
          "yshift": 10
         },
         {
          "showarrow": false,
          "text": "D2",
          "x": 11.745521068572998,
          "xshift": 10,
          "y": 17.065958499908447
         }
        ],
        "height": 650,
        "hoverlabel": {
         "bgcolor": "white",
         "font": {
          "family": "Rockwell",
          "size": 16
         }
        },
        "legend": {
         "itemsizing": "constant",
         "tracegroupgap": 0
        },
        "margin": {
         "t": 60
        },
        "shapes": [
         {
          "line": {
           "color": "#CFD8DC",
           "width": 2
          },
          "type": "line",
          "x0": 11.745521068572998,
          "x1": 11.745521068572998,
          "y0": 1.1183702766895294,
          "y1": 17.065958499908447
         },
         {
          "line": {
           "color": "#9E9E9E",
           "width": 2
          },
          "type": "line",
          "x0": 5.372604465484619,
          "x1": 18.118437671661376,
          "y0": 9.092164388298988,
          "y1": 9.092164388298988
         }
        ],
        "sliders": [
         {
          "active": 0,
          "pad": {
           "t": 50
          },
          "steps": [
           {
            "args": [
             {
              "marker.color": [
               [
                "red",
                "#B0BEC5",
                "#B0BEC5",
                "#B0BEC5",
                "#B0BEC5",
                "#B0BEC5",
                "#B0BEC5",
                "#B0BEC5",
                "#B0BEC5"
               ]
              ]
             }
            ],
            "label": "Topic 0",
            "method": "update"
           },
           {
            "args": [
             {
              "marker.color": [
               [
                "#B0BEC5",
                "red",
                "#B0BEC5",
                "#B0BEC5",
                "#B0BEC5",
                "#B0BEC5",
                "#B0BEC5",
                "#B0BEC5",
                "#B0BEC5"
               ]
              ]
             }
            ],
            "label": "Topic 1",
            "method": "update"
           },
           {
            "args": [
             {
              "marker.color": [
               [
                "#B0BEC5",
                "#B0BEC5",
                "red",
                "#B0BEC5",
                "#B0BEC5",
                "#B0BEC5",
                "#B0BEC5",
                "#B0BEC5",
                "#B0BEC5"
               ]
              ]
             }
            ],
            "label": "Topic 2",
            "method": "update"
           },
           {
            "args": [
             {
              "marker.color": [
               [
                "#B0BEC5",
                "#B0BEC5",
                "#B0BEC5",
                "red",
                "#B0BEC5",
                "#B0BEC5",
                "#B0BEC5",
                "#B0BEC5",
                "#B0BEC5"
               ]
              ]
             }
            ],
            "label": "Topic 3",
            "method": "update"
           },
           {
            "args": [
             {
              "marker.color": [
               [
                "#B0BEC5",
                "#B0BEC5",
                "#B0BEC5",
                "#B0BEC5",
                "red",
                "#B0BEC5",
                "#B0BEC5",
                "#B0BEC5",
                "#B0BEC5"
               ]
              ]
             }
            ],
            "label": "Topic 4",
            "method": "update"
           },
           {
            "args": [
             {
              "marker.color": [
               [
                "#B0BEC5",
                "#B0BEC5",
                "#B0BEC5",
                "#B0BEC5",
                "#B0BEC5",
                "red",
                "#B0BEC5",
                "#B0BEC5",
                "#B0BEC5"
               ]
              ]
             }
            ],
            "label": "Topic 5",
            "method": "update"
           },
           {
            "args": [
             {
              "marker.color": [
               [
                "#B0BEC5",
                "#B0BEC5",
                "#B0BEC5",
                "#B0BEC5",
                "#B0BEC5",
                "#B0BEC5",
                "red",
                "#B0BEC5",
                "#B0BEC5"
               ]
              ]
             }
            ],
            "label": "Topic 6",
            "method": "update"
           },
           {
            "args": [
             {
              "marker.color": [
               [
                "#B0BEC5",
                "#B0BEC5",
                "#B0BEC5",
                "#B0BEC5",
                "#B0BEC5",
                "#B0BEC5",
                "#B0BEC5",
                "red",
                "#B0BEC5"
               ]
              ]
             }
            ],
            "label": "Topic 7",
            "method": "update"
           },
           {
            "args": [
             {
              "marker.color": [
               [
                "#B0BEC5",
                "#B0BEC5",
                "#B0BEC5",
                "#B0BEC5",
                "#B0BEC5",
                "#B0BEC5",
                "#B0BEC5",
                "#B0BEC5",
                "red"
               ]
              ]
             }
            ],
            "label": "Topic 8",
            "method": "update"
           }
          ]
         }
        ],
        "template": {
         "data": {
          "bar": [
           {
            "error_x": {
             "color": "rgb(36,36,36)"
            },
            "error_y": {
             "color": "rgb(36,36,36)"
            },
            "marker": {
             "line": {
              "color": "white",
              "width": 0.5
             },
             "pattern": {
              "fillmode": "overlay",
              "size": 10,
              "solidity": 0.2
             }
            },
            "type": "bar"
           }
          ],
          "barpolar": [
           {
            "marker": {
             "line": {
              "color": "white",
              "width": 0.5
             },
             "pattern": {
              "fillmode": "overlay",
              "size": 10,
              "solidity": 0.2
             }
            },
            "type": "barpolar"
           }
          ],
          "carpet": [
           {
            "aaxis": {
             "endlinecolor": "rgb(36,36,36)",
             "gridcolor": "white",
             "linecolor": "white",
             "minorgridcolor": "white",
             "startlinecolor": "rgb(36,36,36)"
            },
            "baxis": {
             "endlinecolor": "rgb(36,36,36)",
             "gridcolor": "white",
             "linecolor": "white",
             "minorgridcolor": "white",
             "startlinecolor": "rgb(36,36,36)"
            },
            "type": "carpet"
           }
          ],
          "choropleth": [
           {
            "colorbar": {
             "outlinewidth": 1,
             "tickcolor": "rgb(36,36,36)",
             "ticks": "outside"
            },
            "type": "choropleth"
           }
          ],
          "contour": [
           {
            "colorbar": {
             "outlinewidth": 1,
             "tickcolor": "rgb(36,36,36)",
             "ticks": "outside"
            },
            "colorscale": [
             [
              0,
              "#440154"
             ],
             [
              0.1111111111111111,
              "#482878"
             ],
             [
              0.2222222222222222,
              "#3e4989"
             ],
             [
              0.3333333333333333,
              "#31688e"
             ],
             [
              0.4444444444444444,
              "#26828e"
             ],
             [
              0.5555555555555556,
              "#1f9e89"
             ],
             [
              0.6666666666666666,
              "#35b779"
             ],
             [
              0.7777777777777778,
              "#6ece58"
             ],
             [
              0.8888888888888888,
              "#b5de2b"
             ],
             [
              1,
              "#fde725"
             ]
            ],
            "type": "contour"
           }
          ],
          "contourcarpet": [
           {
            "colorbar": {
             "outlinewidth": 1,
             "tickcolor": "rgb(36,36,36)",
             "ticks": "outside"
            },
            "type": "contourcarpet"
           }
          ],
          "heatmap": [
           {
            "colorbar": {
             "outlinewidth": 1,
             "tickcolor": "rgb(36,36,36)",
             "ticks": "outside"
            },
            "colorscale": [
             [
              0,
              "#440154"
             ],
             [
              0.1111111111111111,
              "#482878"
             ],
             [
              0.2222222222222222,
              "#3e4989"
             ],
             [
              0.3333333333333333,
              "#31688e"
             ],
             [
              0.4444444444444444,
              "#26828e"
             ],
             [
              0.5555555555555556,
              "#1f9e89"
             ],
             [
              0.6666666666666666,
              "#35b779"
             ],
             [
              0.7777777777777778,
              "#6ece58"
             ],
             [
              0.8888888888888888,
              "#b5de2b"
             ],
             [
              1,
              "#fde725"
             ]
            ],
            "type": "heatmap"
           }
          ],
          "heatmapgl": [
           {
            "colorbar": {
             "outlinewidth": 1,
             "tickcolor": "rgb(36,36,36)",
             "ticks": "outside"
            },
            "colorscale": [
             [
              0,
              "#440154"
             ],
             [
              0.1111111111111111,
              "#482878"
             ],
             [
              0.2222222222222222,
              "#3e4989"
             ],
             [
              0.3333333333333333,
              "#31688e"
             ],
             [
              0.4444444444444444,
              "#26828e"
             ],
             [
              0.5555555555555556,
              "#1f9e89"
             ],
             [
              0.6666666666666666,
              "#35b779"
             ],
             [
              0.7777777777777778,
              "#6ece58"
             ],
             [
              0.8888888888888888,
              "#b5de2b"
             ],
             [
              1,
              "#fde725"
             ]
            ],
            "type": "heatmapgl"
           }
          ],
          "histogram": [
           {
            "marker": {
             "line": {
              "color": "white",
              "width": 0.6
             }
            },
            "type": "histogram"
           }
          ],
          "histogram2d": [
           {
            "colorbar": {
             "outlinewidth": 1,
             "tickcolor": "rgb(36,36,36)",
             "ticks": "outside"
            },
            "colorscale": [
             [
              0,
              "#440154"
             ],
             [
              0.1111111111111111,
              "#482878"
             ],
             [
              0.2222222222222222,
              "#3e4989"
             ],
             [
              0.3333333333333333,
              "#31688e"
             ],
             [
              0.4444444444444444,
              "#26828e"
             ],
             [
              0.5555555555555556,
              "#1f9e89"
             ],
             [
              0.6666666666666666,
              "#35b779"
             ],
             [
              0.7777777777777778,
              "#6ece58"
             ],
             [
              0.8888888888888888,
              "#b5de2b"
             ],
             [
              1,
              "#fde725"
             ]
            ],
            "type": "histogram2d"
           }
          ],
          "histogram2dcontour": [
           {
            "colorbar": {
             "outlinewidth": 1,
             "tickcolor": "rgb(36,36,36)",
             "ticks": "outside"
            },
            "colorscale": [
             [
              0,
              "#440154"
             ],
             [
              0.1111111111111111,
              "#482878"
             ],
             [
              0.2222222222222222,
              "#3e4989"
             ],
             [
              0.3333333333333333,
              "#31688e"
             ],
             [
              0.4444444444444444,
              "#26828e"
             ],
             [
              0.5555555555555556,
              "#1f9e89"
             ],
             [
              0.6666666666666666,
              "#35b779"
             ],
             [
              0.7777777777777778,
              "#6ece58"
             ],
             [
              0.8888888888888888,
              "#b5de2b"
             ],
             [
              1,
              "#fde725"
             ]
            ],
            "type": "histogram2dcontour"
           }
          ],
          "mesh3d": [
           {
            "colorbar": {
             "outlinewidth": 1,
             "tickcolor": "rgb(36,36,36)",
             "ticks": "outside"
            },
            "type": "mesh3d"
           }
          ],
          "parcoords": [
           {
            "line": {
             "colorbar": {
              "outlinewidth": 1,
              "tickcolor": "rgb(36,36,36)",
              "ticks": "outside"
             }
            },
            "type": "parcoords"
           }
          ],
          "pie": [
           {
            "automargin": true,
            "type": "pie"
           }
          ],
          "scatter": [
           {
            "fillpattern": {
             "fillmode": "overlay",
             "size": 10,
             "solidity": 0.2
            },
            "type": "scatter"
           }
          ],
          "scatter3d": [
           {
            "line": {
             "colorbar": {
              "outlinewidth": 1,
              "tickcolor": "rgb(36,36,36)",
              "ticks": "outside"
             }
            },
            "marker": {
             "colorbar": {
              "outlinewidth": 1,
              "tickcolor": "rgb(36,36,36)",
              "ticks": "outside"
             }
            },
            "type": "scatter3d"
           }
          ],
          "scattercarpet": [
           {
            "marker": {
             "colorbar": {
              "outlinewidth": 1,
              "tickcolor": "rgb(36,36,36)",
              "ticks": "outside"
             }
            },
            "type": "scattercarpet"
           }
          ],
          "scattergeo": [
           {
            "marker": {
             "colorbar": {
              "outlinewidth": 1,
              "tickcolor": "rgb(36,36,36)",
              "ticks": "outside"
             }
            },
            "type": "scattergeo"
           }
          ],
          "scattergl": [
           {
            "marker": {
             "colorbar": {
              "outlinewidth": 1,
              "tickcolor": "rgb(36,36,36)",
              "ticks": "outside"
             }
            },
            "type": "scattergl"
           }
          ],
          "scattermapbox": [
           {
            "marker": {
             "colorbar": {
              "outlinewidth": 1,
              "tickcolor": "rgb(36,36,36)",
              "ticks": "outside"
             }
            },
            "type": "scattermapbox"
           }
          ],
          "scatterpolar": [
           {
            "marker": {
             "colorbar": {
              "outlinewidth": 1,
              "tickcolor": "rgb(36,36,36)",
              "ticks": "outside"
             }
            },
            "type": "scatterpolar"
           }
          ],
          "scatterpolargl": [
           {
            "marker": {
             "colorbar": {
              "outlinewidth": 1,
              "tickcolor": "rgb(36,36,36)",
              "ticks": "outside"
             }
            },
            "type": "scatterpolargl"
           }
          ],
          "scatterternary": [
           {
            "marker": {
             "colorbar": {
              "outlinewidth": 1,
              "tickcolor": "rgb(36,36,36)",
              "ticks": "outside"
             }
            },
            "type": "scatterternary"
           }
          ],
          "surface": [
           {
            "colorbar": {
             "outlinewidth": 1,
             "tickcolor": "rgb(36,36,36)",
             "ticks": "outside"
            },
            "colorscale": [
             [
              0,
              "#440154"
             ],
             [
              0.1111111111111111,
              "#482878"
             ],
             [
              0.2222222222222222,
              "#3e4989"
             ],
             [
              0.3333333333333333,
              "#31688e"
             ],
             [
              0.4444444444444444,
              "#26828e"
             ],
             [
              0.5555555555555556,
              "#1f9e89"
             ],
             [
              0.6666666666666666,
              "#35b779"
             ],
             [
              0.7777777777777778,
              "#6ece58"
             ],
             [
              0.8888888888888888,
              "#b5de2b"
             ],
             [
              1,
              "#fde725"
             ]
            ],
            "type": "surface"
           }
          ],
          "table": [
           {
            "cells": {
             "fill": {
              "color": "rgb(237,237,237)"
             },
             "line": {
              "color": "white"
             }
            },
            "header": {
             "fill": {
              "color": "rgb(217,217,217)"
             },
             "line": {
              "color": "white"
             }
            },
            "type": "table"
           }
          ]
         },
         "layout": {
          "annotationdefaults": {
           "arrowhead": 0,
           "arrowwidth": 1
          },
          "autotypenumbers": "strict",
          "coloraxis": {
           "colorbar": {
            "outlinewidth": 1,
            "tickcolor": "rgb(36,36,36)",
            "ticks": "outside"
           }
          },
          "colorscale": {
           "diverging": [
            [
             0,
             "rgb(103,0,31)"
            ],
            [
             0.1,
             "rgb(178,24,43)"
            ],
            [
             0.2,
             "rgb(214,96,77)"
            ],
            [
             0.3,
             "rgb(244,165,130)"
            ],
            [
             0.4,
             "rgb(253,219,199)"
            ],
            [
             0.5,
             "rgb(247,247,247)"
            ],
            [
             0.6,
             "rgb(209,229,240)"
            ],
            [
             0.7,
             "rgb(146,197,222)"
            ],
            [
             0.8,
             "rgb(67,147,195)"
            ],
            [
             0.9,
             "rgb(33,102,172)"
            ],
            [
             1,
             "rgb(5,48,97)"
            ]
           ],
           "sequential": [
            [
             0,
             "#440154"
            ],
            [
             0.1111111111111111,
             "#482878"
            ],
            [
             0.2222222222222222,
             "#3e4989"
            ],
            [
             0.3333333333333333,
             "#31688e"
            ],
            [
             0.4444444444444444,
             "#26828e"
            ],
            [
             0.5555555555555556,
             "#1f9e89"
            ],
            [
             0.6666666666666666,
             "#35b779"
            ],
            [
             0.7777777777777778,
             "#6ece58"
            ],
            [
             0.8888888888888888,
             "#b5de2b"
            ],
            [
             1,
             "#fde725"
            ]
           ],
           "sequentialminus": [
            [
             0,
             "#440154"
            ],
            [
             0.1111111111111111,
             "#482878"
            ],
            [
             0.2222222222222222,
             "#3e4989"
            ],
            [
             0.3333333333333333,
             "#31688e"
            ],
            [
             0.4444444444444444,
             "#26828e"
            ],
            [
             0.5555555555555556,
             "#1f9e89"
            ],
            [
             0.6666666666666666,
             "#35b779"
            ],
            [
             0.7777777777777778,
             "#6ece58"
            ],
            [
             0.8888888888888888,
             "#b5de2b"
            ],
            [
             1,
             "#fde725"
            ]
           ]
          },
          "colorway": [
           "#1F77B4",
           "#FF7F0E",
           "#2CA02C",
           "#D62728",
           "#9467BD",
           "#8C564B",
           "#E377C2",
           "#7F7F7F",
           "#BCBD22",
           "#17BECF"
          ],
          "font": {
           "color": "rgb(36,36,36)"
          },
          "geo": {
           "bgcolor": "white",
           "lakecolor": "white",
           "landcolor": "white",
           "showlakes": true,
           "showland": true,
           "subunitcolor": "white"
          },
          "hoverlabel": {
           "align": "left"
          },
          "hovermode": "closest",
          "mapbox": {
           "style": "light"
          },
          "paper_bgcolor": "white",
          "plot_bgcolor": "white",
          "polar": {
           "angularaxis": {
            "gridcolor": "rgb(232,232,232)",
            "linecolor": "rgb(36,36,36)",
            "showgrid": false,
            "showline": true,
            "ticks": "outside"
           },
           "bgcolor": "white",
           "radialaxis": {
            "gridcolor": "rgb(232,232,232)",
            "linecolor": "rgb(36,36,36)",
            "showgrid": false,
            "showline": true,
            "ticks": "outside"
           }
          },
          "scene": {
           "xaxis": {
            "backgroundcolor": "white",
            "gridcolor": "rgb(232,232,232)",
            "gridwidth": 2,
            "linecolor": "rgb(36,36,36)",
            "showbackground": true,
            "showgrid": false,
            "showline": true,
            "ticks": "outside",
            "zeroline": false,
            "zerolinecolor": "rgb(36,36,36)"
           },
           "yaxis": {
            "backgroundcolor": "white",
            "gridcolor": "rgb(232,232,232)",
            "gridwidth": 2,
            "linecolor": "rgb(36,36,36)",
            "showbackground": true,
            "showgrid": false,
            "showline": true,
            "ticks": "outside",
            "zeroline": false,
            "zerolinecolor": "rgb(36,36,36)"
           },
           "zaxis": {
            "backgroundcolor": "white",
            "gridcolor": "rgb(232,232,232)",
            "gridwidth": 2,
            "linecolor": "rgb(36,36,36)",
            "showbackground": true,
            "showgrid": false,
            "showline": true,
            "ticks": "outside",
            "zeroline": false,
            "zerolinecolor": "rgb(36,36,36)"
           }
          },
          "shapedefaults": {
           "fillcolor": "black",
           "line": {
            "width": 0
           },
           "opacity": 0.3
          },
          "ternary": {
           "aaxis": {
            "gridcolor": "rgb(232,232,232)",
            "linecolor": "rgb(36,36,36)",
            "showgrid": false,
            "showline": true,
            "ticks": "outside"
           },
           "baxis": {
            "gridcolor": "rgb(232,232,232)",
            "linecolor": "rgb(36,36,36)",
            "showgrid": false,
            "showline": true,
            "ticks": "outside"
           },
           "bgcolor": "white",
           "caxis": {
            "gridcolor": "rgb(232,232,232)",
            "linecolor": "rgb(36,36,36)",
            "showgrid": false,
            "showline": true,
            "ticks": "outside"
           }
          },
          "title": {
           "x": 0.05
          },
          "xaxis": {
           "automargin": true,
           "gridcolor": "rgb(232,232,232)",
           "linecolor": "rgb(36,36,36)",
           "showgrid": false,
           "showline": true,
           "ticks": "outside",
           "title": {
            "standoff": 15
           },
           "zeroline": false,
           "zerolinecolor": "rgb(36,36,36)"
          },
          "yaxis": {
           "automargin": true,
           "gridcolor": "rgb(232,232,232)",
           "linecolor": "rgb(36,36,36)",
           "showgrid": false,
           "showline": true,
           "ticks": "outside",
           "title": {
            "standoff": 15
           },
           "zeroline": false,
           "zerolinecolor": "rgb(36,36,36)"
          }
         }
        },
        "title": {
         "font": {
          "color": "Black",
          "size": 22
         },
         "text": "<b>Intertopic Distance Map</b>",
         "x": 0.5,
         "xanchor": "center",
         "y": 0.95,
         "yanchor": "top"
        },
        "width": 650,
        "xaxis": {
         "anchor": "y",
         "domain": [
          0,
          1
         ],
         "range": [
          5.372604465484619,
          18.118437671661376
         ],
         "title": {
          "text": ""
         },
         "visible": false
        },
        "yaxis": {
         "anchor": "x",
         "domain": [
          0,
          1
         ],
         "range": [
          1.1183702766895294,
          17.065958499908447
         ],
         "title": {
          "text": ""
         },
         "visible": false
        }
       }
      }
     },
     "metadata": {},
     "output_type": "display_data"
    }
   ],
   "source": [
    "model.visualize_topics()"
   ]
  },
  {
   "cell_type": "code",
   "execution_count": 34,
   "metadata": {},
   "outputs": [
    {
     "data": {
      "application/vnd.plotly.v1+json": {
       "config": {
        "plotlyServerURL": "https://plot.ly"
       },
       "data": [
        {
         "marker": {
          "color": "#D55E00"
         },
         "orientation": "h",
         "type": "bar",
         "x": [
          0.03421499804096401,
          0.03421499804096401,
          0.03421499804096401,
          0.036954704024176104,
          0.06035662046363313
         ],
         "xaxis": "x",
         "y": [
          "potential  ",
          "mining  ",
          "raw material  ",
          "india  ",
          "energy  "
         ],
         "yaxis": "y"
        },
        {
         "marker": {
          "color": "#0072B2"
         },
         "orientation": "h",
         "type": "bar",
         "x": [
          0.01646329160209604,
          0.017587636555263634,
          0.018302909297315716,
          0.019436384123442105,
          0.02764474657461388
         ],
         "xaxis": "x2",
         "y": [
          "climate  ",
          "resources  ",
          "world  ",
          "india  ",
          "water  "
         ],
         "yaxis": "y2"
        },
        {
         "marker": {
          "color": "#CC79A7"
         },
         "orientation": "h",
         "type": "bar",
         "x": [
          0.029488520283660762,
          0.029488520283660762,
          0.04624690265458701,
          0.04703601133645974,
          0.06140226914650789
         ],
         "xaxis": "x3",
         "y": [
          "history  ",
          "early  ",
          "indian  ",
          "architecture  ",
          "art  "
         ],
         "yaxis": "y3"
        },
        {
         "marker": {
          "color": "#E69F00"
         },
         "orientation": "h",
         "type": "bar",
         "x": [
          0.02055244610369657,
          0.02055244610369657,
          0.02055244610369657,
          0.02576280112515337,
          0.02578049546395007
         ],
         "xaxis": "x4",
         "y": [
          "mahatma  ",
          "gandhi  ",
          "mahatma gandhi  ",
          "british  ",
          "india  "
         ],
         "yaxis": "y4"
        },
        {
         "marker": {
          "color": "#56B4E9"
         },
         "orientation": "h",
         "type": "bar",
         "x": [
          0.02489281181615185,
          0.027894546214273695,
          0.030650607559038697,
          0.04148801969358641,
          0.04933952375119729
         ],
         "xaxis": "x5",
         "y": [
          "urban  ",
          "smart  ",
          "new  ",
          "cities  ",
          "india  "
         ],
         "yaxis": "y5"
        },
        {
         "marker": {
          "color": "#009E73"
         },
         "orientation": "h",
         "type": "bar",
         "x": [
          0.03469259472398924,
          0.040406719940600896,
          0.049194478605431885,
          0.05050839992575112,
          0.09159598025285447
         ],
         "xaxis": "x6",
         "y": [
          "sex  ",
          "population  ",
          "india  ",
          "poverty  ",
          "women  "
         ],
         "yaxis": "y6"
        },
        {
         "marker": {
          "color": "#F0E442"
         },
         "orientation": "h",
         "type": "bar",
         "x": [
          0.0526254818518484,
          0.056529127198114454,
          0.06482704848340223,
          0.07448104140273448,
          0.09971963380948083
         ],
         "xaxis": "x7",
         "y": [
          "diversity india  ",
          "basis  ",
          "states  ",
          "cultural  ",
          "regionalism  "
         ],
         "yaxis": "y7"
        },
        {
         "marker": {
          "color": "#D55E00"
         },
         "orientation": "h",
         "type": "bar",
         "x": [
          0.05419558904834415,
          0.06965196029767674,
          0.0727373420182905,
          0.07594235355029677,
          0.08496234416081706
         ],
         "xaxis": "x8",
         "y": [
          "indian  ",
          "vis  ",
          "society  ",
          "indian society  ",
          "caste  "
         ],
         "yaxis": "y8"
        }
       ],
       "layout": {
        "annotations": [
         {
          "font": {
           "size": 16
          },
          "showarrow": false,
          "text": "Topic 0",
          "x": 0.0875,
          "xanchor": "center",
          "xref": "paper",
          "y": 1,
          "yanchor": "bottom",
          "yref": "paper"
         },
         {
          "font": {
           "size": 16
          },
          "showarrow": false,
          "text": "Topic 1",
          "x": 0.36250000000000004,
          "xanchor": "center",
          "xref": "paper",
          "y": 1,
          "yanchor": "bottom",
          "yref": "paper"
         },
         {
          "font": {
           "size": 16
          },
          "showarrow": false,
          "text": "Topic 2",
          "x": 0.6375000000000001,
          "xanchor": "center",
          "xref": "paper",
          "y": 1,
          "yanchor": "bottom",
          "yref": "paper"
         },
         {
          "font": {
           "size": 16
          },
          "showarrow": false,
          "text": "Topic 3",
          "x": 0.9125,
          "xanchor": "center",
          "xref": "paper",
          "y": 1,
          "yanchor": "bottom",
          "yref": "paper"
         },
         {
          "font": {
           "size": 16
          },
          "showarrow": false,
          "text": "Topic 4",
          "x": 0.0875,
          "xanchor": "center",
          "xref": "paper",
          "y": 0.4,
          "yanchor": "bottom",
          "yref": "paper"
         },
         {
          "font": {
           "size": 16
          },
          "showarrow": false,
          "text": "Topic 5",
          "x": 0.36250000000000004,
          "xanchor": "center",
          "xref": "paper",
          "y": 0.4,
          "yanchor": "bottom",
          "yref": "paper"
         },
         {
          "font": {
           "size": 16
          },
          "showarrow": false,
          "text": "Topic 6",
          "x": 0.6375000000000001,
          "xanchor": "center",
          "xref": "paper",
          "y": 0.4,
          "yanchor": "bottom",
          "yref": "paper"
         },
         {
          "font": {
           "size": 16
          },
          "showarrow": false,
          "text": "Topic 7",
          "x": 0.9125,
          "xanchor": "center",
          "xref": "paper",
          "y": 0.4,
          "yanchor": "bottom",
          "yref": "paper"
         }
        ],
        "height": 500,
        "hoverlabel": {
         "bgcolor": "white",
         "font": {
          "family": "Rockwell",
          "size": 16
         }
        },
        "showlegend": false,
        "template": {
         "data": {
          "bar": [
           {
            "error_x": {
             "color": "#2a3f5f"
            },
            "error_y": {
             "color": "#2a3f5f"
            },
            "marker": {
             "line": {
              "color": "white",
              "width": 0.5
             },
             "pattern": {
              "fillmode": "overlay",
              "size": 10,
              "solidity": 0.2
             }
            },
            "type": "bar"
           }
          ],
          "barpolar": [
           {
            "marker": {
             "line": {
              "color": "white",
              "width": 0.5
             },
             "pattern": {
              "fillmode": "overlay",
              "size": 10,
              "solidity": 0.2
             }
            },
            "type": "barpolar"
           }
          ],
          "carpet": [
           {
            "aaxis": {
             "endlinecolor": "#2a3f5f",
             "gridcolor": "#C8D4E3",
             "linecolor": "#C8D4E3",
             "minorgridcolor": "#C8D4E3",
             "startlinecolor": "#2a3f5f"
            },
            "baxis": {
             "endlinecolor": "#2a3f5f",
             "gridcolor": "#C8D4E3",
             "linecolor": "#C8D4E3",
             "minorgridcolor": "#C8D4E3",
             "startlinecolor": "#2a3f5f"
            },
            "type": "carpet"
           }
          ],
          "choropleth": [
           {
            "colorbar": {
             "outlinewidth": 0,
             "ticks": ""
            },
            "type": "choropleth"
           }
          ],
          "contour": [
           {
            "colorbar": {
             "outlinewidth": 0,
             "ticks": ""
            },
            "colorscale": [
             [
              0,
              "#0d0887"
             ],
             [
              0.1111111111111111,
              "#46039f"
             ],
             [
              0.2222222222222222,
              "#7201a8"
             ],
             [
              0.3333333333333333,
              "#9c179e"
             ],
             [
              0.4444444444444444,
              "#bd3786"
             ],
             [
              0.5555555555555556,
              "#d8576b"
             ],
             [
              0.6666666666666666,
              "#ed7953"
             ],
             [
              0.7777777777777778,
              "#fb9f3a"
             ],
             [
              0.8888888888888888,
              "#fdca26"
             ],
             [
              1,
              "#f0f921"
             ]
            ],
            "type": "contour"
           }
          ],
          "contourcarpet": [
           {
            "colorbar": {
             "outlinewidth": 0,
             "ticks": ""
            },
            "type": "contourcarpet"
           }
          ],
          "heatmap": [
           {
            "colorbar": {
             "outlinewidth": 0,
             "ticks": ""
            },
            "colorscale": [
             [
              0,
              "#0d0887"
             ],
             [
              0.1111111111111111,
              "#46039f"
             ],
             [
              0.2222222222222222,
              "#7201a8"
             ],
             [
              0.3333333333333333,
              "#9c179e"
             ],
             [
              0.4444444444444444,
              "#bd3786"
             ],
             [
              0.5555555555555556,
              "#d8576b"
             ],
             [
              0.6666666666666666,
              "#ed7953"
             ],
             [
              0.7777777777777778,
              "#fb9f3a"
             ],
             [
              0.8888888888888888,
              "#fdca26"
             ],
             [
              1,
              "#f0f921"
             ]
            ],
            "type": "heatmap"
           }
          ],
          "heatmapgl": [
           {
            "colorbar": {
             "outlinewidth": 0,
             "ticks": ""
            },
            "colorscale": [
             [
              0,
              "#0d0887"
             ],
             [
              0.1111111111111111,
              "#46039f"
             ],
             [
              0.2222222222222222,
              "#7201a8"
             ],
             [
              0.3333333333333333,
              "#9c179e"
             ],
             [
              0.4444444444444444,
              "#bd3786"
             ],
             [
              0.5555555555555556,
              "#d8576b"
             ],
             [
              0.6666666666666666,
              "#ed7953"
             ],
             [
              0.7777777777777778,
              "#fb9f3a"
             ],
             [
              0.8888888888888888,
              "#fdca26"
             ],
             [
              1,
              "#f0f921"
             ]
            ],
            "type": "heatmapgl"
           }
          ],
          "histogram": [
           {
            "marker": {
             "pattern": {
              "fillmode": "overlay",
              "size": 10,
              "solidity": 0.2
             }
            },
            "type": "histogram"
           }
          ],
          "histogram2d": [
           {
            "colorbar": {
             "outlinewidth": 0,
             "ticks": ""
            },
            "colorscale": [
             [
              0,
              "#0d0887"
             ],
             [
              0.1111111111111111,
              "#46039f"
             ],
             [
              0.2222222222222222,
              "#7201a8"
             ],
             [
              0.3333333333333333,
              "#9c179e"
             ],
             [
              0.4444444444444444,
              "#bd3786"
             ],
             [
              0.5555555555555556,
              "#d8576b"
             ],
             [
              0.6666666666666666,
              "#ed7953"
             ],
             [
              0.7777777777777778,
              "#fb9f3a"
             ],
             [
              0.8888888888888888,
              "#fdca26"
             ],
             [
              1,
              "#f0f921"
             ]
            ],
            "type": "histogram2d"
           }
          ],
          "histogram2dcontour": [
           {
            "colorbar": {
             "outlinewidth": 0,
             "ticks": ""
            },
            "colorscale": [
             [
              0,
              "#0d0887"
             ],
             [
              0.1111111111111111,
              "#46039f"
             ],
             [
              0.2222222222222222,
              "#7201a8"
             ],
             [
              0.3333333333333333,
              "#9c179e"
             ],
             [
              0.4444444444444444,
              "#bd3786"
             ],
             [
              0.5555555555555556,
              "#d8576b"
             ],
             [
              0.6666666666666666,
              "#ed7953"
             ],
             [
              0.7777777777777778,
              "#fb9f3a"
             ],
             [
              0.8888888888888888,
              "#fdca26"
             ],
             [
              1,
              "#f0f921"
             ]
            ],
            "type": "histogram2dcontour"
           }
          ],
          "mesh3d": [
           {
            "colorbar": {
             "outlinewidth": 0,
             "ticks": ""
            },
            "type": "mesh3d"
           }
          ],
          "parcoords": [
           {
            "line": {
             "colorbar": {
              "outlinewidth": 0,
              "ticks": ""
             }
            },
            "type": "parcoords"
           }
          ],
          "pie": [
           {
            "automargin": true,
            "type": "pie"
           }
          ],
          "scatter": [
           {
            "fillpattern": {
             "fillmode": "overlay",
             "size": 10,
             "solidity": 0.2
            },
            "type": "scatter"
           }
          ],
          "scatter3d": [
           {
            "line": {
             "colorbar": {
              "outlinewidth": 0,
              "ticks": ""
             }
            },
            "marker": {
             "colorbar": {
              "outlinewidth": 0,
              "ticks": ""
             }
            },
            "type": "scatter3d"
           }
          ],
          "scattercarpet": [
           {
            "marker": {
             "colorbar": {
              "outlinewidth": 0,
              "ticks": ""
             }
            },
            "type": "scattercarpet"
           }
          ],
          "scattergeo": [
           {
            "marker": {
             "colorbar": {
              "outlinewidth": 0,
              "ticks": ""
             }
            },
            "type": "scattergeo"
           }
          ],
          "scattergl": [
           {
            "marker": {
             "colorbar": {
              "outlinewidth": 0,
              "ticks": ""
             }
            },
            "type": "scattergl"
           }
          ],
          "scattermapbox": [
           {
            "marker": {
             "colorbar": {
              "outlinewidth": 0,
              "ticks": ""
             }
            },
            "type": "scattermapbox"
           }
          ],
          "scatterpolar": [
           {
            "marker": {
             "colorbar": {
              "outlinewidth": 0,
              "ticks": ""
             }
            },
            "type": "scatterpolar"
           }
          ],
          "scatterpolargl": [
           {
            "marker": {
             "colorbar": {
              "outlinewidth": 0,
              "ticks": ""
             }
            },
            "type": "scatterpolargl"
           }
          ],
          "scatterternary": [
           {
            "marker": {
             "colorbar": {
              "outlinewidth": 0,
              "ticks": ""
             }
            },
            "type": "scatterternary"
           }
          ],
          "surface": [
           {
            "colorbar": {
             "outlinewidth": 0,
             "ticks": ""
            },
            "colorscale": [
             [
              0,
              "#0d0887"
             ],
             [
              0.1111111111111111,
              "#46039f"
             ],
             [
              0.2222222222222222,
              "#7201a8"
             ],
             [
              0.3333333333333333,
              "#9c179e"
             ],
             [
              0.4444444444444444,
              "#bd3786"
             ],
             [
              0.5555555555555556,
              "#d8576b"
             ],
             [
              0.6666666666666666,
              "#ed7953"
             ],
             [
              0.7777777777777778,
              "#fb9f3a"
             ],
             [
              0.8888888888888888,
              "#fdca26"
             ],
             [
              1,
              "#f0f921"
             ]
            ],
            "type": "surface"
           }
          ],
          "table": [
           {
            "cells": {
             "fill": {
              "color": "#EBF0F8"
             },
             "line": {
              "color": "white"
             }
            },
            "header": {
             "fill": {
              "color": "#C8D4E3"
             },
             "line": {
              "color": "white"
             }
            },
            "type": "table"
           }
          ]
         },
         "layout": {
          "annotationdefaults": {
           "arrowcolor": "#2a3f5f",
           "arrowhead": 0,
           "arrowwidth": 1
          },
          "autotypenumbers": "strict",
          "coloraxis": {
           "colorbar": {
            "outlinewidth": 0,
            "ticks": ""
           }
          },
          "colorscale": {
           "diverging": [
            [
             0,
             "#8e0152"
            ],
            [
             0.1,
             "#c51b7d"
            ],
            [
             0.2,
             "#de77ae"
            ],
            [
             0.3,
             "#f1b6da"
            ],
            [
             0.4,
             "#fde0ef"
            ],
            [
             0.5,
             "#f7f7f7"
            ],
            [
             0.6,
             "#e6f5d0"
            ],
            [
             0.7,
             "#b8e186"
            ],
            [
             0.8,
             "#7fbc41"
            ],
            [
             0.9,
             "#4d9221"
            ],
            [
             1,
             "#276419"
            ]
           ],
           "sequential": [
            [
             0,
             "#0d0887"
            ],
            [
             0.1111111111111111,
             "#46039f"
            ],
            [
             0.2222222222222222,
             "#7201a8"
            ],
            [
             0.3333333333333333,
             "#9c179e"
            ],
            [
             0.4444444444444444,
             "#bd3786"
            ],
            [
             0.5555555555555556,
             "#d8576b"
            ],
            [
             0.6666666666666666,
             "#ed7953"
            ],
            [
             0.7777777777777778,
             "#fb9f3a"
            ],
            [
             0.8888888888888888,
             "#fdca26"
            ],
            [
             1,
             "#f0f921"
            ]
           ],
           "sequentialminus": [
            [
             0,
             "#0d0887"
            ],
            [
             0.1111111111111111,
             "#46039f"
            ],
            [
             0.2222222222222222,
             "#7201a8"
            ],
            [
             0.3333333333333333,
             "#9c179e"
            ],
            [
             0.4444444444444444,
             "#bd3786"
            ],
            [
             0.5555555555555556,
             "#d8576b"
            ],
            [
             0.6666666666666666,
             "#ed7953"
            ],
            [
             0.7777777777777778,
             "#fb9f3a"
            ],
            [
             0.8888888888888888,
             "#fdca26"
            ],
            [
             1,
             "#f0f921"
            ]
           ]
          },
          "colorway": [
           "#636efa",
           "#EF553B",
           "#00cc96",
           "#ab63fa",
           "#FFA15A",
           "#19d3f3",
           "#FF6692",
           "#B6E880",
           "#FF97FF",
           "#FECB52"
          ],
          "font": {
           "color": "#2a3f5f"
          },
          "geo": {
           "bgcolor": "white",
           "lakecolor": "white",
           "landcolor": "white",
           "showlakes": true,
           "showland": true,
           "subunitcolor": "#C8D4E3"
          },
          "hoverlabel": {
           "align": "left"
          },
          "hovermode": "closest",
          "mapbox": {
           "style": "light"
          },
          "paper_bgcolor": "white",
          "plot_bgcolor": "white",
          "polar": {
           "angularaxis": {
            "gridcolor": "#EBF0F8",
            "linecolor": "#EBF0F8",
            "ticks": ""
           },
           "bgcolor": "white",
           "radialaxis": {
            "gridcolor": "#EBF0F8",
            "linecolor": "#EBF0F8",
            "ticks": ""
           }
          },
          "scene": {
           "xaxis": {
            "backgroundcolor": "white",
            "gridcolor": "#DFE8F3",
            "gridwidth": 2,
            "linecolor": "#EBF0F8",
            "showbackground": true,
            "ticks": "",
            "zerolinecolor": "#EBF0F8"
           },
           "yaxis": {
            "backgroundcolor": "white",
            "gridcolor": "#DFE8F3",
            "gridwidth": 2,
            "linecolor": "#EBF0F8",
            "showbackground": true,
            "ticks": "",
            "zerolinecolor": "#EBF0F8"
           },
           "zaxis": {
            "backgroundcolor": "white",
            "gridcolor": "#DFE8F3",
            "gridwidth": 2,
            "linecolor": "#EBF0F8",
            "showbackground": true,
            "ticks": "",
            "zerolinecolor": "#EBF0F8"
           }
          },
          "shapedefaults": {
           "line": {
            "color": "#2a3f5f"
           }
          },
          "ternary": {
           "aaxis": {
            "gridcolor": "#DFE8F3",
            "linecolor": "#A2B1C6",
            "ticks": ""
           },
           "baxis": {
            "gridcolor": "#DFE8F3",
            "linecolor": "#A2B1C6",
            "ticks": ""
           },
           "bgcolor": "white",
           "caxis": {
            "gridcolor": "#DFE8F3",
            "linecolor": "#A2B1C6",
            "ticks": ""
           }
          },
          "title": {
           "x": 0.05
          },
          "xaxis": {
           "automargin": true,
           "gridcolor": "#EBF0F8",
           "linecolor": "#EBF0F8",
           "ticks": "",
           "title": {
            "standoff": 15
           },
           "zerolinecolor": "#EBF0F8",
           "zerolinewidth": 2
          },
          "yaxis": {
           "automargin": true,
           "gridcolor": "#EBF0F8",
           "linecolor": "#EBF0F8",
           "ticks": "",
           "title": {
            "standoff": 15
           },
           "zerolinecolor": "#EBF0F8",
           "zerolinewidth": 2
          }
         }
        },
        "title": {
         "font": {
          "color": "Black",
          "size": 22
         },
         "text": "Topic Word Scores",
         "x": 0.5,
         "xanchor": "center",
         "yanchor": "top"
        },
        "width": 1000,
        "xaxis": {
         "anchor": "y",
         "domain": [
          0,
          0.175
         ],
         "showgrid": true
        },
        "xaxis2": {
         "anchor": "y2",
         "domain": [
          0.275,
          0.45
         ],
         "showgrid": true
        },
        "xaxis3": {
         "anchor": "y3",
         "domain": [
          0.55,
          0.7250000000000001
         ],
         "showgrid": true
        },
        "xaxis4": {
         "anchor": "y4",
         "domain": [
          0.825,
          1
         ],
         "showgrid": true
        },
        "xaxis5": {
         "anchor": "y5",
         "domain": [
          0,
          0.175
         ],
         "showgrid": true
        },
        "xaxis6": {
         "anchor": "y6",
         "domain": [
          0.275,
          0.45
         ],
         "showgrid": true
        },
        "xaxis7": {
         "anchor": "y7",
         "domain": [
          0.55,
          0.7250000000000001
         ],
         "showgrid": true
        },
        "xaxis8": {
         "anchor": "y8",
         "domain": [
          0.825,
          1
         ],
         "showgrid": true
        },
        "yaxis": {
         "anchor": "x",
         "domain": [
          0.6000000000000001,
          1
         ],
         "showgrid": true
        },
        "yaxis2": {
         "anchor": "x2",
         "domain": [
          0.6000000000000001,
          1
         ],
         "showgrid": true
        },
        "yaxis3": {
         "anchor": "x3",
         "domain": [
          0.6000000000000001,
          1
         ],
         "showgrid": true
        },
        "yaxis4": {
         "anchor": "x4",
         "domain": [
          0.6000000000000001,
          1
         ],
         "showgrid": true
        },
        "yaxis5": {
         "anchor": "x5",
         "domain": [
          0,
          0.4
         ],
         "showgrid": true
        },
        "yaxis6": {
         "anchor": "x6",
         "domain": [
          0,
          0.4
         ],
         "showgrid": true
        },
        "yaxis7": {
         "anchor": "x7",
         "domain": [
          0,
          0.4
         ],
         "showgrid": true
        },
        "yaxis8": {
         "anchor": "x8",
         "domain": [
          0,
          0.4
         ],
         "showgrid": true
        }
       }
      }
     },
     "metadata": {},
     "output_type": "display_data"
    }
   ],
   "source": [
    "model.visualize_barchart()"
   ]
  },
  {
   "cell_type": "code",
   "execution_count": 35,
   "metadata": {},
   "outputs": [
    {
     "data": {
      "text/plain": [
       "['india society indian society indian',\n",
       " 'energy india raw material mining',\n",
       " 'water india world resources',\n",
       " 'art architecture indian early',\n",
       " 'india british mahatma gandhi gandhi',\n",
       " 'india cities new smart',\n",
       " 'women poverty india population',\n",
       " 'regionalism cultural states basis',\n",
       " 'caste indian society society vis',\n",
       " 'secularism practices debates indian']"
      ]
     },
     "execution_count": 35,
     "metadata": {},
     "output_type": "execute_result"
    }
   ],
   "source": [
    "topics_label = model.get_topic_info()['Name'].tolist()\n",
    "for i in range(len(topics_label)):\n",
    "    topics_label[i] = ' '.join(topics_label[i].split('_')[1:])\n",
    "topics_label"
   ]
  },
  {
   "cell_type": "code",
   "execution_count": 36,
   "metadata": {},
   "outputs": [],
   "source": [
    "question_index = 120\n",
    "topic_probabilities = probs[question_index]\n",
    "significant_probs = topic_probabilities[topic_probabilities > 0.05]\n",
    "significant_topics = np.arange(len(topic_probabilities))[topic_probabilities > 0.05]\n",
    "others = np.sum(topic_probabilities[topic_probabilities <= 0.05])\n",
    "\n",
    "# Labels for the pie chart\n",
    "labels = [topics_label[i+1] for i in significant_topics] + [\"Others\"]\n",
    "\n",
    "# Probabilities to plot\n",
    "probs_to_plot = np.append(significant_probs, others)"
   ]
  },
  {
   "cell_type": "code",
   "execution_count": 37,
   "metadata": {},
   "outputs": [
    {
     "data": {
      "text/plain": [
       "array([1.03735393e-308, 7.46151809e-309, 1.00000000e+000, 1.95896729e-308,\n",
       "       1.30526049e-308, 1.30420720e-308, 1.99009255e-308, 2.05794367e-308,\n",
       "       2.21413290e-308])"
      ]
     },
     "execution_count": 37,
     "metadata": {},
     "output_type": "execute_result"
    }
   ],
   "source": [
    "probs[question_index]"
   ]
  },
  {
   "cell_type": "code",
   "execution_count": 38,
   "metadata": {},
   "outputs": [
    {
     "data": {
      "image/png": "[encoded data removed]",
      "text/plain": [
       "<Figure size 400x400 with 1 Axes>"
      ]
     },
     "metadata": {},
     "output_type": "display_data"
    }
   ],
   "source": [
    "plt.figure(figsize=(4, 4))\n",
    "plt.pie(probs_to_plot, labels=labels, autopct='%1.1f%%', startangle=140)\n",
    "plt.title('Topic Probabilities')\n",
    "plt.legend(loc='upper right', bbox_to_anchor=(1.5, 1.5))\n",
    "plt.text(-1.5, -1.5, questions[question_index], fontsize=12, ha=\"center\", va=\"center\")\n",
    "plt.show()"
   ]
  },
  {
   "cell_type": "code",
   "execution_count": 39,
   "metadata": {},
   "outputs": [
    {
     "data": {
      "text/html": [
       "<div>\n",
       "<style scoped>\n",
       "    .dataframe tbody tr th:only-of-type {\n",
       "        vertical-align: middle;\n",
       "    }\n",
       "\n",
       "    .dataframe tbody tr th {\n",
       "        vertical-align: top;\n",
       "    }\n",
       "\n",
       "    .dataframe thead th {\n",
       "        text-align: right;\n",
       "    }\n",
       "</style>\n",
       "<table border=\"1\" class=\"dataframe\">\n",
       "  <thead>\n",
       "    <tr style=\"text-align: right;\">\n",
       "      <th></th>\n",
       "      <th>Year</th>\n",
       "      <th>Question</th>\n",
       "      <th>Subject</th>\n",
       "      <th>Sub-Topic</th>\n",
       "      <th>Topic_Number</th>\n",
       "    </tr>\n",
       "  </thead>\n",
       "  <tbody>\n",
       "    <tr>\n",
       "      <th>20</th>\n",
       "      <td>2022</td>\n",
       "      <td>How will you explain the medieval Indian templ...</td>\n",
       "      <td>History</td>\n",
       "      <td>Architecture and Sculptures</td>\n",
       "      <td>2</td>\n",
       "    </tr>\n",
       "    <tr>\n",
       "      <th>50</th>\n",
       "      <td>2021</td>\n",
       "      <td>To what extent did the role of the moderates p...</td>\n",
       "      <td>History</td>\n",
       "      <td>Indian National Congress</td>\n",
       "      <td>3</td>\n",
       "    </tr>\n",
       "    <tr>\n",
       "      <th>40</th>\n",
       "      <td>2021</td>\n",
       "      <td>Evaluate the nature of the Bhakti Literature a...</td>\n",
       "      <td>History</td>\n",
       "      <td>Religion and Philosophy</td>\n",
       "      <td>2</td>\n",
       "    </tr>\n",
       "    <tr>\n",
       "      <th>126</th>\n",
       "      <td>2017</td>\n",
       "      <td>Mention the advantages of the cultivation of p...</td>\n",
       "      <td>Geography</td>\n",
       "      <td>Agriculture and Allied Sectors(geo)</td>\n",
       "      <td>-1</td>\n",
       "    </tr>\n",
       "    <tr>\n",
       "      <th>23</th>\n",
       "      <td>2022</td>\n",
       "      <td>Describe the characteristics and types of prim...</td>\n",
       "      <td>Geography</td>\n",
       "      <td>Geomorphology</td>\n",
       "      <td>1</td>\n",
       "    </tr>\n",
       "  </tbody>\n",
       "</table>\n",
       "</div>"
      ],
      "text/plain": [
       "     Year                                           Question    Subject  \\\n",
       "20   2022  How will you explain the medieval Indian templ...    History   \n",
       "50   2021  To what extent did the role of the moderates p...    History   \n",
       "40   2021  Evaluate the nature of the Bhakti Literature a...    History   \n",
       "126  2017  Mention the advantages of the cultivation of p...  Geography   \n",
       "23   2022  Describe the characteristics and types of prim...  Geography   \n",
       "\n",
       "                               Sub-Topic  Topic_Number  \n",
       "20           Architecture and Sculptures             2  \n",
       "50              Indian National Congress             3  \n",
       "40               Religion and Philosophy             2  \n",
       "126  Agriculture and Allied Sectors(geo)            -1  \n",
       "23                         Geomorphology             1  "
      ]
     },
     "execution_count": 39,
     "metadata": {},
     "output_type": "execute_result"
    }
   ],
   "source": [
    "df['Topic_Number'] = topics\n",
    "df.sample(5)"
   ]
  },
  {
   "cell_type": "code",
   "execution_count": 40,
   "metadata": {},
   "outputs": [
    {
     "data": {
      "text/html": [
       "<div>\n",
       "<style scoped>\n",
       "    .dataframe tbody tr th:only-of-type {\n",
       "        vertical-align: middle;\n",
       "    }\n",
       "\n",
       "    .dataframe tbody tr th {\n",
       "        vertical-align: top;\n",
       "    }\n",
       "\n",
       "    .dataframe thead th {\n",
       "        text-align: right;\n",
       "    }\n",
       "</style>\n",
       "<table border=\"1\" class=\"dataframe\">\n",
       "  <thead>\n",
       "    <tr style=\"text-align: right;\">\n",
       "      <th></th>\n",
       "      <th>Year</th>\n",
       "      <th>Question</th>\n",
       "      <th>Subject</th>\n",
       "      <th>Sub-Topic</th>\n",
       "      <th>Topic_Number</th>\n",
       "      <th>Topic</th>\n",
       "    </tr>\n",
       "  </thead>\n",
       "  <tbody>\n",
       "    <tr>\n",
       "      <th>0</th>\n",
       "      <td>2023</td>\n",
       "      <td>Explain the role of geographical factors towar...</td>\n",
       "      <td>History</td>\n",
       "      <td>Prehistoric Era</td>\n",
       "      <td>-1</td>\n",
       "      <td>india society indian society indian</td>\n",
       "    </tr>\n",
       "    <tr>\n",
       "      <th>1</th>\n",
       "      <td>2023</td>\n",
       "      <td>What was the difference between Mahatma Gandhi...</td>\n",
       "      <td>History</td>\n",
       "      <td>Important Personalities</td>\n",
       "      <td>3</td>\n",
       "      <td>india british mahatma gandhi gandhi</td>\n",
       "    </tr>\n",
       "    <tr>\n",
       "      <th>2</th>\n",
       "      <td>2023</td>\n",
       "      <td>Bring out the socio-economic effects of the in...</td>\n",
       "      <td>History</td>\n",
       "      <td>Industrial Revolution</td>\n",
       "      <td>4</td>\n",
       "      <td>india cities new smart</td>\n",
       "    </tr>\n",
       "    <tr>\n",
       "      <th>3</th>\n",
       "      <td>2023</td>\n",
       "      <td>Discuss the consequences of climate change on ...</td>\n",
       "      <td>Geography</td>\n",
       "      <td>Climate Change</td>\n",
       "      <td>1</td>\n",
       "      <td>water india world resources</td>\n",
       "    </tr>\n",
       "    <tr>\n",
       "      <th>4</th>\n",
       "      <td>2023</td>\n",
       "      <td>Why is the world today confronted with a crisi...</td>\n",
       "      <td>Geography</td>\n",
       "      <td>Land and Water Resources</td>\n",
       "      <td>1</td>\n",
       "      <td>water india world resources</td>\n",
       "    </tr>\n",
       "  </tbody>\n",
       "</table>\n",
       "</div>"
      ],
      "text/plain": [
       "   Year                                           Question    Subject  \\\n",
       "0  2023  Explain the role of geographical factors towar...    History   \n",
       "1  2023  What was the difference between Mahatma Gandhi...    History   \n",
       "2  2023  Bring out the socio-economic effects of the in...    History   \n",
       "3  2023  Discuss the consequences of climate change on ...  Geography   \n",
       "4  2023  Why is the world today confronted with a crisi...  Geography   \n",
       "\n",
       "                  Sub-Topic  Topic_Number                                Topic  \n",
       "0           Prehistoric Era            -1  india society indian society indian  \n",
       "1   Important Personalities             3  india british mahatma gandhi gandhi  \n",
       "2     Industrial Revolution             4               india cities new smart  \n",
       "3            Climate Change             1          water india world resources  \n",
       "4  Land and Water Resources             1          water india world resources  "
      ]
     },
     "execution_count": 40,
     "metadata": {},
     "output_type": "execute_result"
    }
   ],
   "source": [
    "\n",
    "df['Topic'] = df['Topic_Number'].apply(lambda x: \" \".join(model.get_topic_info(topic=x)['Name'].iloc[0].split('_')[1:]))\n",
    "\n",
    "# Display the first few rows of the DataFrame\n",
    "df.head()"
   ]
  },
  {
   "cell_type": "code",
   "execution_count": 57,
   "metadata": {},
   "outputs": [
    {
     "data": {
      "text/plain": [
       "['Explain the role of geographical factors towards the development of Ancient India.',\n",
       " 'Child cuddling is now being replaced by mobile phones. Discuss its impact on the socialization of children.',\n",
       " 'What are the main features of Vedic society and religion? Do you think some of the features are still prevailing in Indian society?',\n",
       " 'What were the major technological changes introduced during the Sultanate period? How did those technological changes influence the Indian society?',\n",
       " 'Why did human development fail to keep pace with economic development in India?',\n",
       " 'From being net food importer in 1960s, India has emerged as a net food exporter to the world. Provide reasons.',\n",
       " 'Discuss the impact of post-liberal economy on ethnic identity and communalism.',\n",
       " 'Why was there a sudden spurt in famines in colonial India since the mid-eighteenth century? Give reasons.',\n",
       " 'Explore and evaluate the impact of ‘Work From Home’ on family relationships.',\n",
       " 'Given the diversities among the tribal communities in India, in which specific contexts should they be considered as a single category?',\n",
       " 'The political and administrative reorganization of states and territories has been a continuous ongoing process since the mid-nineteenth century. Discuss with examples.',\n",
       " 'Describing the distribution of rubber producing countries, indicate the major environmental issues faced by them.',\n",
       " 'Elucidate the relationship between globalization and new technology in a world of scarce resources, with special reference to India.',\n",
       " 'Why is India considered as a sub-continent? Elaborate your answer.',\n",
       " 'Examine the uniqueness of tribal knowledge system when compared with mainstream knowledge and cultural systems.',\n",
       " 'Examine the role of ‘Gig Economy’ in the process of empowerment of women in India.',\n",
       " 'Discuss the multi-dimensional implications of uneven distribution of mineral oil in the world.',\n",
       " 'What is Cryptocurrency? How does it affect global society? Has it been affecting Indian society also?',\n",
       " 'Is diversity and pluralism in India under threat due to globalisation? Justify your answer.',\n",
       " 'What makes the Indian society unique in sustaining its culture? Discuss.',\n",
       " 'Do we have cultural pockets of small India all over the nation? Elaborate with examples.',\n",
       " 'Are we losing our local identity for the global identity? Discuss.',\n",
       " '“Caste system is assuming new identities and associational forms. Hence, caste system cannot be eradicated in India.”',\n",
       " 'The Bhakti movement received a remarkable re-orientation with the advent of Sri Chaitanya Mahaprabhu. Discuss.',\n",
       " 'Discuss whether formation of new states in recent times is beneficial or not for the economy of India.',\n",
       " 'Defining blue revolution, explain the problems and strategies for pisciculture development in India.',\n",
       " 'Globalisation is generally said to promote cultural homogenisation but due to this cultural specificities appear to be strengthened in the Indian society.’ Elucidate.',\n",
       " '‘Communalism arises either due to power struggle or relative deprivation.’ Argue by giving suitable illustrations.',\n",
       " 'Mention the advantages of the cultivation of pulses because of which the year 2016 was declared as the International Year of Pulses by United Nations.',\n",
       " 'What are the two major legal initiatives by the State since Independence addressing discrimination against Scheduled Tribes(STs)?',\n",
       " 'The spirit of tolerance and love is not only an interesting feature of Indian society from very early times, but it is also playing an important part at the present. Elaborate.',\n",
       " 'Examine how the decline of traditional artisanal industry in colonial India crippled the rural economy.',\n",
       " 'Distinguish between religiousness/religiosity and communalism giving one example of how the former has got transformed into the latter in independent India.',\n",
       " 'Discuss the role of women in the freedom struggle especially during the Gandhian phase.',\n",
       " \"Why are the tribals in India referred to as 'the Scheduled Tribes? Indicate the major provisions in the Constitution of India for their upliftment.\",\n",
       " 'The ancient civilization in Indian sub continent differed from those of Egypt , Mesopotamia and Greece in that its culture and traditions have been preserved without breakdown to the present day. Comment',\n",
       " 'Describe any four cultural elements of diversity in India and rate their relative significance in building a national identity.',\n",
       " 'Discuss the changes in the trends of labour migration within and outside India in the last four decades.',\n",
       " 'Debate the issue whether and how contemporary movements for assertion of Dalit identity work towards annihilation of caste.',\n",
       " 'To what extent has the urban planning and culture of the Indus Valley Civilization provided inputs to the present day urbanization?\\nDiscuss.',\n",
       " 'Why did the Green Revolution in India virtually by-pass the eastern region despite fertile soil and good availability of water?',\n",
       " 'How does India see its place in the economic space of rising natural resources rich Africa?',\n",
       " 'Defying the barriers of age, gender and religion, the Indian women became the torchbearer during the struggle for freedom in India. Discuss.',\n",
       " 'Write a critical note on the evolution and significance of the slogan, ‘Jai Jawan, Jai Kisan’.',\n",
       " '‘Latecomer’ Industrial Revolution in Japan involved certain factors that were markedly different from what West had experienced.” Analyze.',\n",
       " '“Africa was chopped into states artificially created by accidents of European competition.” Analyze.',\n",
       " 'Critically examine the effect of globalization on the aged population in India.']"
      ]
     },
     "execution_count": 57,
     "metadata": {},
     "output_type": "execute_result"
    }
   ],
   "source": [
    "outliers = df[df['Topic_Number'] == -1]['Question'].values.tolist()\n",
    "outliers"
   ]
  },
  {
   "cell_type": "code",
   "execution_count": 41,
   "metadata": {},
   "outputs": [
    {
     "data": {
      "image/png": "[encoded data removed]",
      "text/plain": [
       "<Figure size 1200x800 with 1 Axes>"
      ]
     },
     "metadata": {},
     "output_type": "display_data"
    }
   ],
   "source": [
    "import matplotlib.pyplot as plt\n",
    "import matplotlib.colors as mcolors\n",
    "\n",
    "\n",
    "# Step 2: Count questions per topic per year\n",
    "topic_year_counts = df.groupby(['Year', 'Topic']).size().reset_index(name='Count')\n",
    "\n",
    "# Calculate the total number of questions per year\n",
    "total_questions_per_year = topic_year_counts.groupby('Year')['Count'].transform('sum')\n",
    "\n",
    "# Calculate the proportion of questions per topic per year\n",
    "topic_year_counts['Proportion'] = topic_year_counts['Count'] / total_questions_per_year\n",
    "\n",
    "# Step 3: Prepare data for plotting (normalized)\n",
    "pivot_table = topic_year_counts.pivot(index='Year', columns='Topic', values='Proportion')\n",
    "\n",
    "# Generate a list of colors from a colormap\n",
    "num_topics = len(pivot_table.columns)\n",
    "colors = plt.get_cmap('tab20', num_topics)\n",
    "\n",
    "# Step 4: Plot the normalized data with different colors for each topic\n",
    "pivot_table.plot(kind='bar', stacked=True, figsize=(12, 8), color=[colors(i) for i in range(num_topics)])\n",
    "\n",
    "# Step 5: Customize the plot\n",
    "plt.xlabel('Year')\n",
    "plt.ylabel('Proportion of Questions')\n",
    "plt.title('Proportion of Questions per Topic per Year')\n",
    "plt.legend(title='Topic', loc='best', bbox_to_anchor=(0.5, -0.15), ncol=1, fancybox=True, shadow=True)\n",
    "plt.tight_layout()\n",
    "plt.subplots_adjust(bottom=0.2)\n",
    "plt.show()"
   ]
  },
  {
   "cell_type": "code",
   "execution_count": 43,
   "metadata": {},
   "outputs": [
    {
     "name": "stdout",
     "output_type": "stream",
     "text": [
      "Topic 0: ['energy', 'india', 'raw material', 'mining', 'potential', 'material', 'steel', 'spatial', 'energy india', 'iron']\n",
      "Topic 1: ['water', 'india', 'world', 'resources', 'climate', 'weather', 'impact', 'causes', 'examples', 'monsoon']\n",
      "Topic 2: ['art', 'architecture', 'indian', 'early', 'history', 'period', 'temple', 'gupta', 'rock cut', 'early indian']\n",
      "Topic 3: ['india', 'british', 'mahatma gandhi', 'gandhi', 'mahatma', 'colonial', 'economic', 'movement', 'century', 'policies']\n",
      "Topic 4: ['india', 'cities', 'new', 'smart', 'urban', 'delhi', 'industrial corridors', 'corridors', 'employment', 'socio economic']\n",
      "Topic 5: ['women', 'poverty', 'india', 'population', 'sex', 'ratio', 'sex ratio', 'social', 'increasing', 'women india']\n",
      "Topic 6: ['regionalism', 'cultural', 'states', 'basis', 'diversity india', 'diversity', 'india appears', 'linguistic', 'linguistic states', 'issues socio']\n",
      "Topic 7: ['caste', 'indian society', 'society', 'vis', 'indian', 'place caste lost', 'reference young bengal', 'religious reform', 'place caste', 'reference young']\n",
      "Topic 8: ['secularism', 'practices', 'debates', 'indian', 'making indian', 'medieval saints failed', 'name', 'western model', 'making indian form', 'medieval saints']\n"
     ]
    }
   ],
   "source": [
    "num_words = 10\n",
    "\n",
    "for topic_num in set(topics):\n",
    "    if topic_num != -1:  # -1 is the outlier class in BERTopic\n",
    "        topic = model.get_topic(topic_num)\n",
    "        if topic:  # Check if topic is not None\n",
    "            top_words = [word for word, _ in topic[:num_words]]\n",
    "            print(f\"Topic {topic_num}: {top_words}\")\n",
    "            "
   ]
  },
  {
   "cell_type": "code",
   "execution_count": 44,
   "metadata": {},
   "outputs": [],
   "source": [
    "#DECIDING TOPIC NAME BASED ON TOP WORDS\n",
    "topic_names = {0:'Energy',1:'Climate',2:'Architecture',3:'Modern History',4:'Development',5:'Gender Inequality',6:'Diversity',7:'Caste And Society',8:'Socialism'}"
   ]
  },
  {
   "cell_type": "code",
   "execution_count": 48,
   "metadata": {},
   "outputs": [],
   "source": [
    "topics_ = []\n",
    "for topic_num in set(topics):\n",
    "    if topic_num != -1:  # -1 is the outlier class in BERTopic\n",
    "        topic = model.get_topic(topic_num)\n",
    "        if topic:  # Check if topic is not None\n",
    "            top_words = [word for word, _ in topic[:num_words]]\n",
    "            top_words = \" \".join(top_words)\n",
    "            topics_.append(f\"{topic_names[topic_num]}: {top_words}\")"
   ]
  },
  {
   "cell_type": "code",
   "execution_count": 49,
   "metadata": {},
   "outputs": [
    {
     "data": {
      "text/plain": [
       "['Energy: energy india raw material mining potential material steel spatial energy india iron',\n",
       " 'Climate: water india world resources climate weather impact causes examples monsoon',\n",
       " 'Architecture: art architecture indian early history period temple gupta rock cut early indian',\n",
       " 'Modern History: india british mahatma gandhi gandhi mahatma colonial economic movement century policies',\n",
       " 'Development: india cities new smart urban delhi industrial corridors corridors employment socio economic',\n",
       " 'Gender Inequality: women poverty india population sex ratio sex ratio social increasing women india',\n",
       " 'Diversity: regionalism cultural states basis diversity india diversity india appears linguistic linguistic states issues socio',\n",
       " 'Caste And Society: caste indian society society vis indian place caste lost reference young bengal religious reform place caste reference young',\n",
       " 'Socialism: secularism practices debates indian making indian medieval saints failed name western model making indian form medieval saints']"
      ]
     },
     "execution_count": 49,
     "metadata": {},
     "output_type": "execute_result"
    }
   ],
   "source": [
    "topics_"
   ]
  },
  {
   "cell_type": "code",
   "execution_count": 50,
   "metadata": {},
   "outputs": [],
   "source": [
    "from sentence_transformers import SentenceTransformer\n",
    "from sklearn.metrics.pairwise import cosine_similarity\n",
    "import numpy as np"
   ]
  },
  {
   "cell_type": "code",
   "execution_count": 58,
   "metadata": {},
   "outputs": [
    {
     "name": "stdout",
     "output_type": "stream",
     "text": [
      "Question: Explain the role of geographical factors towards the development of Ancient India.\n",
      "Most Similar Topic: Architecture\n",
      "Question: What was the difference between Mahatma Gandhi and Rabindranath Tagore in their approach towards education and nationalism?\n",
      "Most Similar Topic: Modern History\n",
      "Question: Bring out the socio-economic effects of the introduction of railways in different countries of the world\n",
      "Most Similar Topic: Development\n",
      "Question: Discuss the consequences of climate change on the food security in tropical countries.\n",
      "Most Similar Topic: Climate\n",
      "Question: Why is the world today confronted with a crisis of availability of and access to freshwater resources?\n",
      "Most Similar Topic: Climate\n",
      "Question: How are the fjords formed? Why do they constitute some of the most picturesque areas of the world?\n",
      "Most Similar Topic: Climate\n",
      "Question: Why is the South-West monsoon called ‘Purvaiya’ (easterly) in Bhojpur Region? How has this directional seasonal wind system influenced the cultural ethos of the region?\n",
      "Most Similar Topic: Climate\n",
      "Question: Do you think marriage as a sacrament in loosing its value in Modern India?\n",
      "Most Similar Topic: Caste And Society\n",
      "Question: Explain why suicide among young women is increasing in Indian Society.\n",
      "Most Similar Topic: Gender Inequality\n",
      "Question: Child cuddling is now being replaced by mobile phones. Discuss its impact on the socialization of children.\n",
      "Most Similar Topic: Gender Inequality\n",
      "Question: What are the main features of Vedic society and religion? Do you think some of the features are still prevailing in Indian society?\n",
      "Most Similar Topic: Caste And Society\n",
      "Question: What were the major technological changes introduced during the Sultanate period? How did those technological changes influence the Indian society?\n",
      "Most Similar Topic: Architecture\n",
      "Question: How did the colonial rule affect the tribals in India and what was the tribal response to the colonial oppression?\n",
      "Most Similar Topic: Caste And Society\n",
      "Question: Comment on the resource potentials of the long coastline of India and highlight the status of natural hazard preparedness in these areas.\n",
      "Most Similar Topic: Climate\n",
      "Question: Identify and discuss the factors responsible for diversity of natural vegetation in India. Assess the significance of wildlife sanctuaries in rain forests regions of India.\n",
      "Most Similar Topic: Diversity\n",
      "Question: Why did human development fail to keep pace with economic development in India?\n",
      "Most Similar Topic: Modern History\n",
      "Question: From being net food importer in 1960s, India has emerged as a net food exporter to the world. Provide reasons.\n",
      "Most Similar Topic: Energy\n",
      "Question: Does urbanization lead to more segregation and/or marginalization of the poor in Indian metropolises?\n",
      "Most Similar Topic: Caste And Society\n",
      "Question: Why is caste identity in India both fluid and static?\n",
      "Most Similar Topic: Caste And Society\n",
      "Question: Discuss the impact of post-liberal economy on ethnic identity and communalism.\n",
      "Most Similar Topic: Caste And Society\n",
      "Question: How will you explain the medieval Indian temple sculptures represent the social life of those days?\n",
      "Most Similar Topic: Architecture\n",
      "Question: Why did the armies of the British East India Company – mostly comprising of Indian soldiers – win consistently against the more numerous and better equipped armies of the Indian rulers? Give reasons.\n",
      "Most Similar Topic: Modern History\n",
      "Question: Why was there a sudden spurt in famines in colonial India since the mid-eighteenth century? Give reasons.\n",
      "Most Similar Topic: Modern History\n",
      "Question: Describe the characteristics and types of primary rocks.\n",
      "Most Similar Topic: Architecture\n",
      "Question: Discuss the meaning of colour-coded weather warnings for cyclone prone areas given by India Meteorological department.\n",
      "Most Similar Topic: Climate\n",
      "Question: Discuss the natural resource potentials of ‘Deccan trap’.\n",
      "Most Similar Topic: Energy\n",
      "Question: Examine the potential of wind energy in India and explain the reasons for their limited spatial spread.\n",
      "Most Similar Topic: Energy\n",
      "Question: Explore and evaluate the impact of ‘Work From Home’ on family relationships.\n",
      "Most Similar Topic: Gender Inequality\n",
      "Question: How is the growth of Tier 2 cities related to the rise of a new middle class with an emphasis on the culture of consumption?\n",
      "Most Similar Topic: Development\n",
      "Question: Given the diversities among the tribal communities in India, in which specific contexts should they be considered as a single category?\n",
      "Most Similar Topic: Diversity\n",
      "Question: The political and administrative reorganization of states and territories has been a continuous ongoing process since the mid-nineteenth century. Discuss with examples.\n",
      "Most Similar Topic: Diversity\n",
      "Question: Discuss the main contributions of Gupta period and Chola period to Indian heritage and culture\n",
      ".\n",
      "Most Similar Topic: Architecture\n",
      "Question: Discuss the significance of the lion and bull figures in Indian mythology, art and architecture.\n",
      "Most Similar Topic: Architecture\n",
      "Question: What are the forces that influence ocean currents? Describe their role in fishing industry of the world.\n",
      "Most Similar Topic: Climate\n",
      "Question: Describing the distribution of rubber producing countries, indicate the major environmental issues faced by them.\n",
      "Most Similar Topic: Climate\n",
      "Question: Mention the significance of straits and isthmus in international trade.\n",
      "Most Similar Topic: Energy\n",
      "Question: Troposphere is a very significant atmospheric layer that determines weather processes.\n",
      "How?\n",
      "Most Similar Topic: Climate\n",
      "Question: Analyze the salience of ‘sect’ in Indian society vis-a-vis caste, region and religion.\n",
      "Most Similar Topic: Caste And Society\n",
      "Question: Are tolerance, assimilation and pluralism the key elements in the making of an Indian form of secularism? Justify your answer.\n",
      "Most Similar Topic: Socialism\n",
      "Question: Elucidate the relationship between globalization and new technology in a world of scarce resources, with special reference to India.\n",
      "Most Similar Topic: Energy\n",
      "Question: Evaluate the nature of the Bhakti Literature and its contribution to Indian culture.\n",
      "Most Similar Topic: Caste And Society\n",
      "Question: Trace the rise and growth of socio-religious reform movements with special reference to Young Bengal and Brahmo Samaj.\n",
      "Most Similar Topic: Caste And Society\n",
      "Question: Assess the main administrative issues and socio-cultural problems in the integration process of Indian Princely States.\n",
      "Most Similar Topic: Caste And Society\n",
      "Question: Differentiate the causes of landslides in the Himalayan region and Western Ghats.\n",
      "Most Similar Topic: Climate\n",
      "Question: Despite India being one of the countries of the Gondwanaland, its mining industry contributes much less to its Gross Domestic Product(GDP) in percentage. Discuss.\n",
      "Most Similar Topic: Energy\n",
      "Question: what are the environmental implications of the reclamation of the water bodies into urban land use? Explain with examples.\n",
      "Most Similar Topic: Climate\n",
      "Question: Mention the global occurrence of volcanic eruptions in 2021 and their impact on regional environment.\n",
      "Most Similar Topic: Climate\n",
      "Question: Why is India considered as a sub-continent? Elaborate your answer.\n",
      "Most Similar Topic: Diversity\n",
      "Question: Examine the uniqueness of tribal knowledge system when compared with mainstream knowledge and cultural systems.\n",
      "Most Similar Topic: Caste And Society\n",
      "Question: Examine the role of ‘Gig Economy’ in the process of empowerment of women in India.\n",
      "Most Similar Topic: Gender Inequality\n",
      "Question: To what extent did the role of the moderates prepare a base for the wider freedom movement? Comment.\n",
      "Most Similar Topic: Modern History\n",
      "Question: Bring out the constructive programmes of Mahatma Gandhi during Non-Cooperation Movement and Civil Disobedience Movement.\n",
      "Most Similar Topic: Modern History\n",
      "Question: ” There arose a serious challenge to the Democratic State System between the two World Wars.” Evaluate the statement.\n",
      "Most Similar Topic: Modern History\n",
      "Question: Briefly mention the alignment of major mountain ranges of the world and explain their impact on local weather conditions, with examples.\n",
      "Most Similar Topic: Climate\n",
      "Question: How do the melting of the Arctic ice and glaciers of the Antarctic differently affect the weather patterns and human activities on the Earth? Explain.\n",
      "Most Similar Topic: Climate\n",
      "Question: Discuss the multi-dimensional implications of uneven distribution of mineral oil in the world.\n",
      "Most Similar Topic: Energy\n",
      "Question: What are the main socio-economic implications arising out of the development of IT industries in major cities of India?\n",
      "Most Similar Topic: Development\n",
      "Question: Discuss the main objectives of Population Education and point out the measures to achieve them in India in detail.\n",
      "Most Similar Topic: Gender Inequality\n",
      "Question: What is Cryptocurrency? How does it affect global society? Has it been affecting Indian society also?\n",
      "Most Similar Topic: Modern History\n",
      "Question: How does Indian society maintain continuity in traditional social values? Enumerate the changes taking place in it.\n",
      "Most Similar Topic: Caste And Society\n",
      "Question: The rock-cut architecture represents one of the most important sources of our knowledge of early Indian art and history. Discuss.\n",
      "Most Similar Topic: Architecture\n",
      "Question: Pala period is the most significant phase in the history of Buddhism in India. Enumerate.\n",
      "Most Similar Topic: Architecture\n",
      "Question: Evaluate the policies of Lord Curzon and their long term implications on the national movements.\n",
      "Most Similar Topic: Modern History\n",
      "Question: Discuss the geophysical characteristics of Circum- Pacific Zone.\n",
      "Most Similar Topic: Climate\n",
      "Question: The process of desertification does not have climate boundaries. Justify with examples.\n",
      "Most Similar Topic: Climate\n",
      "Question: How will the melting of Himalayan glaciers have a far- reaching impact on the water resources of India?\n",
      "Most Similar Topic: Climate\n",
      "Question: Account for the present location of iron and steel industries away from the source of raw material, by giving examples.\n",
      "Most Similar Topic: Energy\n",
      "Question: Has caste lost its relevance in understanding the multi- cultural Indian Society? Elaborate your answer with illustrations.\n",
      "Most Similar Topic: Caste And Society\n",
      "Question: COVID-19 pandemic accelerated class inequalities and poverty in India. Comment.\n",
      "Most Similar Topic: Gender Inequality\n",
      "Question: Do you agree that regionalism in India appears to be a consequence of rising cultural assertiveness? Argue.\n",
      "Most Similar Topic: Diversity\n",
      "Question: Indian Philosophy and tradition played a significant role in conceiving and shaping the monuments and their art in India. Discuss.\n",
      "Most Similar Topic: Architecture\n",
      "Question: Persian literary sources of medieval India reflect the spirit of the age. Comment.\n",
      "Most Similar Topic: Socialism\n",
      "Question: Since the decade of the 1920s, the national movement acquired various ideological strands and thereby expanded its social base. Discuss.\n",
      "Most Similar Topic: Modern History\n",
      "Question: The interlinking of rivers can provide viable solutions to the multi-dimensional inter-related problems of droughts, floods and interrupted navigation. Critically examine.\n",
      "Most Similar Topic: Climate\n",
      "Question: Account for the huge flooding of million cities in India including the smart ones like Hyderabad and Pune. Suggest lasting remedial measures.\n",
      "Most Similar Topic: Climate\n",
      "Question: India has immense potential of solar energy though there are regional variations in its developments. Elaborate.\n",
      "Most Similar Topic: Energy\n",
      "Question: Examine the status of forest resources of India and its resultant impact on climate change.\n",
      "Most Similar Topic: Climate\n",
      "Question: Is diversity and pluralism in India under threat due to globalisation? Justify your answer.\n",
      "Most Similar Topic: Diversity\n",
      "Question: Customs and traditions suppress reason leading to obscurantism. Do you agree?\n",
      "Most Similar Topic: Socialism\n",
      "Question: How have digital initiatives in India contributed to the functioning of the education system in the country? Elaborate your answer.\n",
      "Most Similar Topic: Development\n",
      "Question: Highlight the Central Asian and Greco Bactrian elements in the Gandhara art.\n",
      "Most Similar Topic: Architecture\n",
      "Question: The 1857 uprising was the culmination of the recurrent, big and small local rebellions that had occurred in the preceding hundred years of British rule. Elucidate.\n",
      "Most Similar Topic: Modern History\n",
      "Question: Examine the linkages between the nineteenth century’s ‘Indian Renaissance’ and the emergence of national identity.\n",
      "Most Similar Topic: Modern History\n",
      "Question: Assess the impact of global warming on the coral life system with examples.\n",
      "Most Similar Topic: Climate\n",
      "Question: Discuss the causes of depletion of mangroves and explain their importance in maintaining coastal ecology.\n",
      "Most Similar Topic: Climate\n",
      "Question: Can the strategy of regional resource-based manufacturing help in promoting employment in India?\n",
      "Most Similar Topic: Energy\n",
      "Question: Discuss the factors for localisation of agro-based food processing industries of North-West India.\n",
      "Most Similar Topic: Diversity\n",
      "Question: What makes the Indian society unique in sustaining its culture? Discuss.\n",
      "Most Similar Topic: Caste And Society\n",
      "Question: “Empowering women is the key to control population growth.” Discuss.\n",
      "Most Similar Topic: Gender Inequality\n",
      "Question: What are the challenges to our cultural practices in the name of secularism?\n",
      "Most Similar Topic: Socialism\n",
      "Question: Many voices had strengthened and enriched the nationalist movement during the Gandhian phase. Elaborate.\n",
      "Most Similar Topic: Modern History\n",
      "Question: Assess the role of British imperial power in complicating the process of transfer of power during the 1940s.\n",
      "Most Similar Topic: Modern History\n",
      "Question: Explain how the foundations of the modern world were laid by the American and French Revolutions.\n",
      "Most Similar Topic: Modern History\n",
      "Question: What is water stress? How and why does it differ regionally in India?\n",
      "Most Similar Topic: Climate\n",
      "Question: How can the mountain ecosystem be restored from the negative impact of development initiatives and tourism?\n",
      "Most Similar Topic: Climate\n",
      "Question: How is efficient and affordable urban mass transport key to the rapid economic development in India?\n",
      "Most Similar Topic: Development\n",
      "Question: How do ocean currents and water masses differ in their impacts on marine life and coastal environment? Give suitable examples.\n",
      "Most Similar Topic: Climate\n",
      "Question: Do we have cultural pockets of small India all over the nation? Elaborate with examples.\n",
      "Most Similar Topic: Diversity\n",
      "Question: What are the continued challenges for women in India against time and space?\n",
      "Most Similar Topic: Gender Inequality\n",
      "Question: Are we losing our local identity for the global identity? Discuss.\n",
      "Most Similar Topic: Diversity\n",
      "Question: Safeguarding the Indian art heritage is the need of the moment.\n",
      "Most Similar Topic: Architecture\n",
      "Question: Assess the importance of the accounts of the Chinese and Arab travellers in the reconstruction of the history of India.\n",
      "Most Similar Topic: Modern History\n",
      "Question: Throw light on the significance of the thoughts of Mahatma Gandhi in the present times.\n",
      "Most Similar Topic: Modern History\n",
      "Question: Why is Indian Regional Navigational Satellite System (IRNSS) needed? How does it help in navigation?\n",
      "Most Similar Topic: Development\n",
      "Question: Why is India taking keen interest in the Arctic region?\n",
      "Most Similar Topic: Energy\n",
      "Question: Define mantle plume and explain its role in plate tectonics.\n",
      "Most Similar Topic: Climate\n",
      "Question: What are the consequences of spreading of ‘Dead Zones’ on marine ecosystem?\n",
      "Most Similar Topic: Climate\n",
      "Question: “Caste system is assuming new identities and associational forms. Hence, caste system cannot be eradicated in India.”\n",
      "Most Similar Topic: Caste And Society\n",
      "Question: ‘Despite implementation of various programmes for eradication of poverty by the government in India, poverty is still existing’. Explain by giving reasons.\n",
      "Most Similar Topic: Gender Inequality\n",
      "Question: How the Indian concept of secularism different from the western model of secularism?\n",
      "Discuss.\n",
      "Most Similar Topic: Socialism\n",
      "Question: The Bhakti movement received a remarkable re-orientation with the advent of Sri Chaitanya Mahaprabhu. Discuss.\n",
      "Most Similar Topic: Modern History\n",
      "Question: Discuss whether formation of new states in recent times is beneficial or not for the economy of India.\n",
      "Most Similar Topic: Diversity\n",
      "Question: Why indentured labour was taken by the British from India to their colonies? have they been able to preserve their cultural identity over there?\n",
      "Most Similar Topic: Modern History\n",
      "Question: “The ideal solution of depleting ground water resources in India is water harvesting system.” How can it be made effective in urban areas?\n",
      "Most Similar Topic: Climate\n",
      "Question: Defining blue revolution, explain the problems and strategies for pisciculture development in India.\n",
      "Most Similar Topic: Diversity\n",
      "Question: What is the significance of Industrial Corridors in India? Identifying industrial corridors, explain their main characteristics.\n",
      "Most Similar Topic: Development\n",
      "Question: Mention core strategies for the transformation of aspirational districts in India and explain the nature of convergence, collaboration and competition for its success.\n",
      "Most Similar Topic: Development\n",
      "Question: ‘Women’s movement in India has not addressed the issues of women of lower social strata.’ Substantiate your view.\n",
      "Most Similar Topic: Gender Inequality\n",
      "Question: Globalisation is generally said to promote cultural homogenisation but due to this cultural specificities appear to be strengthened in the Indian society.’ Elucidate.\n",
      "Most Similar Topic: Diversity\n",
      "Question: ‘Communalism arises either due to power struggle or relative deprivation.’ Argue by giving suitable illustrations.\n",
      "Most Similar Topic: Caste And Society\n",
      "Question: How do you justify the view that the level of excellence of the Gupta numismatic art is not at all noticeable in later times?\n",
      "Most Similar Topic: Architecture\n",
      "Question: Clarify how mid-eighteenth century India was beset with the spectre of a fragmented polity.\n",
      "Most Similar Topic: Caste And Society\n",
      "Question: Why did the ‘Moderates’ failed to carry conviction with the nation about their proclaimed ideology and political goals by the end of the nineteenth century?\n",
      "Most Similar Topic: Modern History\n",
      "Question: What problems are germane to the decolonization process in the Malay Peninsula?\n",
      "Most Similar Topic: Diversity\n",
      "Question: How does the Juno Mission of NASA help to understand the origin and evolution of the Earth?\n",
      "Most Similar Topic: Climate\n",
      "Question: “Inspite of adverse environmental impact, coal mining is still inevitable for development”.\n",
      "Discuss\n",
      "Most Similar Topic: Energy\n",
      "Question: Mention the advantages of the cultivation of pulses because of which the year 2016 was declared as the International Year of Pulses by United Nations.\n",
      "Most Similar Topic: Energy\n",
      "Question: How does the cryosphere affect global climate?\n",
      "Most Similar Topic: Climate\n",
      "Question: In the context of the diversity of India, can it be said that the regions form cultural units rather than the States? Give reasons with examples for your view point.\n",
      "Most Similar Topic: Diversity\n",
      "Question: What are the two major legal initiatives by the State since Independence addressing discrimination against Scheduled Tribes(STs)?\n",
      "Most Similar Topic: Caste And Society\n",
      "Question: The spirit of tolerance and love is not only an interesting feature of Indian society from very early times, but it is also playing an important part at the present. Elaborate.\n",
      "Most Similar Topic: Caste And Society\n",
      "Question: Examine how the decline of traditional artisanal industry in colonial India crippled the rural economy.\n",
      "Most Similar Topic: Modern History\n",
      "Question: Highlight the importance of the new objectives that got added to the vision of Indian Independence since the twenties of the last century.\n",
      "Most Similar Topic: Modern History\n",
      "Question: Account for variations in oceanic salinity and discuss its multi-dimensional effects.\n",
      "Most Similar Topic: Climate\n",
      "Question: Petroleum refineries are not necessarily located nearer to crude oil producing areas, particularly in many of the developing countries. Explain its implications.\n",
      "Most Similar Topic: Energy\n",
      "Question: In what way can floods be converted into a sustainable source of irrigation and all-weather inland navigation in India?\n",
      "Most Similar Topic: Climate\n",
      "Question: What characteristics can be assigned to monsoon climate that succeeds in feeding more than 50 percent of the world population residing in Monsoon Asia?\n",
      "Most Similar Topic: Climate\n",
      "Question: The women’s questions arose in modern India as a part of the 19th century social reform movement. What are the major issues and debates concerning women in that period?\n",
      "Most Similar Topic: Gender Inequality\n",
      "Question: Distinguish between religiousness/religiosity and communalism giving one example of how the former has got transformed into the latter in independent India.\n",
      "Most Similar Topic: Caste And Society\n",
      "Question: “The growth of cities as I.T. hubs has opened up new avenues of employment, but has also created new problems”. Substantiate this statement with examples\n",
      "Most Similar Topic: Development\n",
      "Question: Early Buddhist Stupa-art, while depicting folk motifs and narratives successfully expounds Buddhist ideals. Elucidate.\n",
      "Most Similar Topic: Architecture\n",
      "Question: Krishnadeva Raya, the King of Vijayanagar, was not only an accomplished scholar himself but was also a great patron of learning and literature. Discuss.\n",
      "Most Similar Topic: Socialism\n",
      "Question: Explain how the Uprising of 1857 constitutes an important watershed in the evolution of British policies towards colonial India.\n",
      "Most Similar Topic: Modern History\n",
      "Question: Discuss the role of women in the freedom struggle especially during the Gandhian phase.\n",
      "Most Similar Topic: Modern History\n",
      "Question: Highlight the differences in the approach of Subhash Chandra Bose and Mahatma Gandhi in the struggle for freedom.\n",
      "Most Similar Topic: Modern History\n",
      "Question: Has the formation of linguistic States strengthened the cause of Indian Unity?\n",
      "Most Similar Topic: Diversity\n",
      "Question: The anti-colonial struggles in West Africa were led by the new elite of Western-educated Africans.\n",
      "Most Similar Topic: Modern History\n",
      "Question: To what extent globalization has influenced the core of cultural diversity in India? Explain.\n",
      "Most Similar Topic: Diversity\n",
      "Question: \"An essential condition to eradicate poverty is to liberate the poor from the process of deprivation.\" Substantiate this statement with suitable examples.\n",
      "Most Similar Topic: Modern History\n",
      "Question: Why are the tribals in India referred to as 'the Scheduled Tribes? Indicate the major provisions in the Constitution of India for their upliftment.\n",
      "Most Similar Topic: Caste And Society\n",
      "Question: With a brief background of quality of urban life in India, introduce the objectives and strategy of the 'Smart City Programme'.\n",
      "Most Similar Topic: Development\n",
      "Question: What is the basis of regionalism? Is it that unequal distribution of benefits of development on regional basis eventually promotes regionalism? Substantiate your answer.\n",
      "Most Similar Topic: Diversity\n",
      "Question: Discuss the concept of air mass and explain its role in macro-climatic changes.\n",
      "Most Similar Topic: Climate\n",
      "Question: \"The Himalayas are highly prone to landslides.\" Discuss the causes and suggest suitable measures of mitigation.\n",
      "Most Similar Topic: Climate\n",
      "Question: The effective management of land and water resources will drastically reduce the human miseries. Explain.\n",
      "Most Similar Topic: Climate\n",
      "Question: South China Sea has assumed great geopolitical significance in the present context. Comment.\n",
      "Most Similar Topic: Energy\n",
      "Question: Major cities of India are becoming more vulnerable to flood conditions. Discuss.\n",
      "Most Similar Topic: Climate\n",
      "Question: Present an account of the Indus Water Treaty and examine its ecological, economic and political implications in the context of changing bilateral relations.\n",
      "Most Similar Topic: Climate\n",
      "Question: Enumerate the problems and prospects of inland water transport in India.\n",
      "Most Similar Topic: Climate\n",
      "Question: In what way micro-watershed development projects help in water conservation in\n",
      "drought-prone and semi-arid regions of India?\n",
      "Most Similar Topic: Climate\n",
      "Question: The ancient civilization in Indian sub continent differed from those of Egypt , Mesopotamia and Greece in that its culture and traditions have been preserved without breakdown to the present day. Comment\n",
      "Most Similar Topic: Architecture\n",
      "Question: Mesolithic rock cut architecture of India not only reflects the cultural life of the times but also a fine aesthetic sense comparable to modern painting. Critically evaluate this comment.\n",
      "Most Similar Topic: Architecture\n",
      "Question: How difficult would have been the achievement of Indian independence without Mahatma Gandhi? Discuss.\n",
      "Most Similar Topic: Modern History\n",
      "Question: Mahatma Gandhi and Dr. B R Ambedkar, despite having divergent approaches and strategies, had a common goal of amelioration of the downtrodden. Elucidate.\n",
      "Most Similar Topic: Modern History\n",
      "Question: It would have been difficult for the Constituent Assembly to complete its historic task of drafting the Constitution for Independent India in just three years, but its experience gained with the Government of India Act, 1935\n",
      ".Discuss.\n",
      "Most Similar Topic: Caste And Society\n",
      "Question: Why did the industrial revolution first occur in England? Discuss the quality of life of the people there during the industrialization. How does it compare with that in India at present times?\n",
      "Most Similar Topic: Modern History\n",
      "Question: To what extend can Germany be held responsible for causing the two World Wars? Discuss critically.\n",
      "Most Similar Topic: Modern History\n",
      "Question: Describe any four cultural elements of diversity in India and rate their relative significance in building a national identity.\n",
      "Most Similar Topic: Diversity\n",
      "Question: Critically examine whether growing population is the cause of poverty OR poverty is the mains cause of population increase in India.\n",
      "Most Similar Topic: Gender Inequality\n",
      "Question: How do you explain the statistics that show that the sex ratio in Tribes in India is more favourable to women than the sex ratio among Scheduled Castes?\n",
      "Most Similar Topic: Gender Inequality\n",
      "Question: Discuss the changes in the trends of labour migration within and outside India in the last four decades.\n",
      "Most Similar Topic: Development\n",
      "Question: Discuss the positive and negative effects of globalization on women in India?\n",
      "Most Similar Topic: Gender Inequality\n",
      "Question: Debate the issue whether and how contemporary movements for assertion of Dalit identity work towards annihilation of caste.\n",
      "Most Similar Topic: Caste And Society\n",
      "Question: Explain the factors responsible for the origin of ocean currents. How do they influence regional climates, fishing and navigation?\n",
      "Most Similar Topic: Climate\n",
      "Question: Mumbai, Delhi and Kolkata are the three Mega cities of the country but the air pollution is much more serious probelm in Delhi as compared to the other two. Why is this so?\n",
      "Most Similar Topic: Development\n",
      "Question: India is well endowed with fresh water resources. Critically examine why it still suffers from water scarcity.\n",
      "Most Similar Topic: Climate\n",
      "Question: The states of Jammu and Kashmir, Himachal Pradesh and Uttarakhand are reaching the limits of ecological carrying capacity due to tourism. Critically evaluate.\n",
      "Most Similar Topic: Energy\n",
      "Question: How far do you agree that the behaviour of the Indian monsoon has been changing due to humanizing landscape? Discuss.\n",
      "Most Similar Topic: Climate\n",
      "Question: Smart cities in India cannot sustain without smart vilages. Discuss this statement in the backdrop of rural urban integration.\n",
      "Most Similar Topic: Development\n",
      "Question: What are the economic significances of discovery of oil in Arctic Sea and its possible environemental consequences?\n",
      "Most Similar Topic: Energy\n",
      "Question: To what extent has the urban planning and culture of the Indus Valley Civilization provided inputs to the present day urbanization?\n",
      "Discuss.\n",
      "Most Similar Topic: Architecture\n",
      "Question: Gandhara sculpture owed as much to the Romans as to the Greeks. Explain.\n",
      "Most Similar Topic: Architecture\n",
      "Question: Taxila university was one of the oldest universities of the world with which were associated a number of renowned learned personalities of different disciplines. Its strategic location caused its fame to flourish, but unlike Nalanda, it is not considered as a university in the modern sense. Discuss.\n",
      "Most Similar Topic: Caste And Society\n",
      "Question: The third battle of Panipat was fought in 1761. Why were so many empire-shaking battles fought at Panipat?\n",
      "Most Similar Topic: Architecture\n",
      "Question: Sufis and medieval saints failed to modify either the religious ideas and practices or the outward structure of Hindu/ Muslim societies to any appreciable extent. Comment.\n",
      "Most Similar Topic: Socialism\n",
      "Question: Examine critically the various facets of economic policies of the British in India from mid-eighteenth century till independence.\n",
      "Most Similar Topic: Modern History\n",
      "Question: In what ways did the navel mutiny prove to be the last nail in the coffin of British colonial aspirations in India?\n",
      "Most Similar Topic: Modern History\n",
      "Question: What were the major political, economic and social developments in the world which motivated the anti-colonial in India?\n",
      "Most Similar Topic: Modern History\n",
      "Question: What were the events that led to the Suez Crisis in 1956? How did it deal a final blow to Britain’s self-image as a world power?\n",
      "Most Similar Topic: Modern History\n",
      "Question: The New Economic Policy – 1921 of Lenin had influenced the policies adopted by India soon after independence. Evaluate.\n",
      "Most Similar Topic: Modern History\n",
      "Question: How does patriarchy impact the position of a middle class working woman in India?\n",
      "Most Similar Topic: Gender Inequality\n",
      "Question: Why do some of the most prosperous regions of India have an adverse sex ratio for women? Give your arguments.\n",
      "Most Similar Topic: Gender Inequality\n",
      "Question: The life cycle of a joint family depends on economic factors rather than social values. Discuss.\n",
      "Most Similar Topic: Gender Inequality\n",
      "Question: Discuss the various economic and\n",
      "socio-cultural forces that are driving increasing feminization of agriculture in India.\n",
      "Most Similar Topic: Gender Inequality\n",
      "Question: How do the Indian debates on secularism differ from the debates in the West?\n",
      "Most Similar Topic: Socialism\n",
      "Question: Most of the unusual climatic happenings are explained as an outcome of the El-Nino effect. Do you agree?\n",
      "Most Similar Topic: Climate\n",
      "Question: Why are the world’s fold mountain systems located along the margins of continents? Bring out the association between the global distribution of fold mountains and the earthquakes and volcanoes.\n",
      "Most Similar Topic: Climate\n",
      "Question: Explain the formation of thousands of islands in Indonesian and Philipines archipelagos.\n",
      "Most Similar Topic: Diversity\n",
      "Question: Tropical cyclones are largely confined to South China Sea, Bay of Bengal and Gulf of Mexico. Why?\n",
      "Most Similar Topic: Climate\n",
      "Question: Bring out the relationship between the shrinking Himalayan glaciers and the symptoms of climate change in the Indian sub-continent.\n",
      "Most Similar Topic: Climate\n",
      "Question: Whereas the British planters had developed tea gardens all along the Shivaliks and Lesser Himalayas from Assam to Himachal Pradesh, in effect they did not succeed beyond the Darjeeling area. Explain.\n",
      "Most Similar Topic: Modern History\n",
      "Question: Why did the Green Revolution in India virtually by-pass the eastern region despite fertile soil and good availability of water?\n",
      "Most Similar Topic: Climate\n",
      "Question: Account for the change in the spatial pattern of the Iron and Steel industry in the world.\n",
      "Most Similar Topic: Energy\n",
      "Question: Critically evaluate the various resources of the oceans which can be harnessed to meet the resource crisis in the world.\n",
      "Most Similar Topic: Climate\n",
      "Question: How does India see its place in the economic space of rising natural resources rich Africa?\n",
      "Most Similar Topic: Energy\n",
      "Question: Though not very useful from the point of view of a connected political history of South India, the Sangam literature portrays the social and economic conditions of its time with remarkable vividness. Comment.\n",
      "Most Similar Topic: Caste And Society\n",
      "Question: Discuss the ‘Tandava’ dance as recorded in early Indian inscriptions.\n",
      "Most Similar Topic: Architecture\n",
      "Question: Chola architecture represents a high watermark in the evolution of temple architecture. Discuss\n",
      "Most Similar Topic: Architecture\n",
      "Question: Defying the barriers of age, gender and religion, the Indian women became the torchbearer during the struggle for freedom in India. Discuss.\n",
      "Most Similar Topic: Caste And Society\n",
      "Question: Several foreigners made India their homeland and participated in various movements.\n",
      "Analyze their role in the Indian struggle for freedom.\n",
      "Most Similar Topic: Modern History\n",
      "Question: “In many ways, Lord Dalhousie was the founder of modern India.” Elaborate.\n",
      "Most Similar Topic: Modern History\n",
      "Question: Critically discuss the objectives of Bhoodan and Gramdan movements initiated by AcharyaVinobhaBhave and their success.\n",
      "Most Similar Topic: Modern History\n",
      "Question: Write a critical note on the evolution and significance of the slogan, ‘Jai Jawan, Jai Kisan’.\n",
      "Most Similar Topic: Modern History\n",
      "Question: Discuss the contributions of MaulanaAbulKalam Azad to pre- and post-independent India.\n",
      "Most Similar Topic: Modern History\n",
      "Question: Analyze the circumstances that led to the Tashkent Agreement in 1966. Discuss the highlights of the Agreement.\n",
      "Most Similar Topic: Modern History\n",
      "Question: Critically examine the compulsions which prompted India to play a decisive role in the emergence of Bangladesh.\n",
      "Most Similar Topic: Modern History\n",
      "Question: ‘Latecomer’ Industrial Revolution in Japan involved certain factors that were markedly different from what West had experienced.” Analyze.\n",
      "Most Similar Topic: Modern History\n",
      "Question: “Africa was chopped into states artificially created by accidents of European competition.” Analyze.\n",
      "Most Similar Topic: Diversity\n",
      "Question: “American Revolution was an economic revolt against mercantilism.” Substantiate.\n",
      "Most Similar Topic: Modern History\n",
      "Question: What policy instruments were deployed to contain the Great Economic Depression?\n",
      "Most Similar Topic: Modern History\n",
      "Question: Discuss the various social problems which originated out of the speedy process of urbanization in India.\n",
      "Most Similar Topic: Caste And Society\n",
      "Question: “Male membership needs to be encouraged in order to make women’s organization free from gender bias.” Comment.\n",
      "Most Similar Topic: Gender Inequality\n",
      "Question: Critically examine the effect of globalization on the aged population in India.\n",
      "Most Similar Topic: Modern History\n",
      "Question: Growing feeling of regionalism is an important factor in generation of demand for a separate state. Discuss.\n",
      "Most Similar Topic: Diversity\n",
      "Question: What do you understand by the theory of continental drift? Discuss the prominent evidences in its support.\n",
      "Most Similar Topic: Climate\n",
      "Question: The recent cyclone on the east coast of India was called ‘Phailin’. How are the tropical cyclones named across the world? Elaborate.\n",
      "Most Similar Topic: Climate\n",
      "Question: Bring out the causes for the formation of heat islands in the urban habitat of the world.\n",
      "Most Similar Topic: Climate\n",
      "Question: What do you understand by the phenomenon of ‘temperature inversion’ in meteorology? How does it affect weather and the habitants of the place?\n",
      "Most Similar Topic: Climate\n",
      "Question: Major hot deserts in northern hemisphere are located between 20-30 deg N latitudes and on the western sides of the continents. Why?\n",
      "Most Similar Topic: Climate\n",
      "Question: Bring out the causes for more frequent occurrence of landslides in the Himalayas than in the Western Ghats.\n",
      "Most Similar Topic: Climate\n",
      "Question: There is no formation of deltas by rivers on the Western Ghats. Why?\n",
      "Most Similar Topic: Climate\n",
      "Question: Do you agree that there is a growing trend of opening new sugar mills in southern states of India? Discuss with justification.\n",
      "Most Similar Topic: Energy\n",
      "Question: Analyze the factors for the highly decentralized cotton textile industry in India.\n",
      "Most Similar Topic: Energy\n",
      "Question: With growing scarcity of fossil fuels, the atomic energy is gaining more and more significance in India. Discuss the availability of raw material required for the generation of atomic energy in India and in the world.\n",
      "Most Similar Topic: Energy\n",
      "Question: It is said that India has substantial reserves of shale oil and gas, which can feed the needs of the country for quarter century. However, tapping of the resource does not appear to be high on the agenda. Discuss critically the availability and issues involved.\n",
      "Most Similar Topic: Energy\n"
     ]
    }
   ],
   "source": [
    "sbert_model = SentenceTransformer('all-mpnet-base-v2')\n",
    "question_embeddings = sbert_model.encode(questions)\n",
    "topic_embeddings = sbert_model.encode(topics_)\n",
    "similarity_matrix = cosine_similarity(question_embeddings, topic_embeddings)\n",
    "most_similar_topics = np.argmax(similarity_matrix, axis=1)\n",
    "\n",
    "for i, question in enumerate(questions):\n",
    "    print(f\"Question: {question}\")\n",
    "    print(f\"Most Similar Topic: {topics_[most_similar_topics[i]].split(':')[0]}\")"
   ]
  },
  {
   "cell_type": "code",
   "execution_count": 61,
   "metadata": {},
   "outputs": [],
   "source": [
    "data = pd.DataFrame({'Question': questions, 'Topic': [topics_[most_similar_topics[i]].split(':')[0] for i in range(len(questions))]})"
   ]
  },
  {
   "cell_type": "code",
   "execution_count": 62,
   "metadata": {},
   "outputs": [],
   "source": [
    "data.to_excel('GS1_topics.xlsx', index=False)"
   ]
  },
  {
   "cell_type": "code",
   "execution_count": null,
   "metadata": {},
   "outputs": [],
   "source": []
  }
 ],
 "metadata": {
  "kernelspec": {
   "display_name": "venv",
   "language": "python",
   "name": "python3"
  },
  "language_info": {
   "codemirror_mode": {
    "name": "ipython",
    "version": 3
   },
   "file_extension": ".py",
   "mimetype": "text/x-python",
   "name": "python",
   "nbconvert_exporter": "python",
   "pygments_lexer": "ipython3",
   "version": "3.12.0"
  }
 },
 "nbformat": 4,
 "nbformat_minor": 2
}

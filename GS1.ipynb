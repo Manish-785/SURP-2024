{
 "cells": [
  {
   "cell_type": "code",
   "execution_count": 1,
   "metadata": {},
   "outputs": [
    {
     "name": "stderr",
     "output_type": "stream",
     "text": [
      "e:\\repos\\SURP-2024\\venv\\Lib\\site-packages\\tqdm\\auto.py:21: TqdmWarning: IProgress not found. Please update jupyter and ipywidgets. See https://ipywidgets.readthedocs.io/en/stable/user_install.html\n",
      "  from .autonotebook import tqdm as notebook_tqdm\n"
     ]
    }
   ],
   "source": [
    "import pandas as pd\n",
    "from bertopic import BERTopic\n",
    "from sentence_transformers import SentenceTransformer"
   ]
  },
  {
   "cell_type": "code",
   "execution_count": 2,
   "metadata": {},
   "outputs": [],
   "source": [
    "import warnings\n",
    "warnings.filterwarnings(\"ignore\")"
   ]
  },
  {
   "cell_type": "code",
   "execution_count": 3,
   "metadata": {},
   "outputs": [
    {
     "data": {
      "text/html": [
       "<div>\n",
       "<style scoped>\n",
       "    .dataframe tbody tr th:only-of-type {\n",
       "        vertical-align: middle;\n",
       "    }\n",
       "\n",
       "    .dataframe tbody tr th {\n",
       "        vertical-align: top;\n",
       "    }\n",
       "\n",
       "    .dataframe thead th {\n",
       "        text-align: right;\n",
       "    }\n",
       "</style>\n",
       "<table border=\"1\" class=\"dataframe\">\n",
       "  <thead>\n",
       "    <tr style=\"text-align: right;\">\n",
       "      <th></th>\n",
       "      <th>Year</th>\n",
       "      <th>Question</th>\n",
       "    </tr>\n",
       "  </thead>\n",
       "  <tbody>\n",
       "    <tr>\n",
       "      <th>61</th>\n",
       "      <td>2020</td>\n",
       "      <td>Pala period is the most significant phase in t...</td>\n",
       "    </tr>\n",
       "    <tr>\n",
       "      <th>76</th>\n",
       "      <td>2020</td>\n",
       "      <td>Examine the status of forest resources of Indi...</td>\n",
       "    </tr>\n",
       "    <tr>\n",
       "      <th>43</th>\n",
       "      <td>2021</td>\n",
       "      <td>Differentiate the causes of landslides in the ...</td>\n",
       "    </tr>\n",
       "  </tbody>\n",
       "</table>\n",
       "</div>"
      ],
      "text/plain": [
       "    Year                                           Question\n",
       "61  2020  Pala period is the most significant phase in t...\n",
       "76  2020  Examine the status of forest resources of Indi...\n",
       "43  2021  Differentiate the causes of landslides in the ..."
      ]
     },
     "execution_count": 3,
     "metadata": {},
     "output_type": "execute_result"
    }
   ],
   "source": [
    "df = pd.read_excel('GS1.xlsx')\n",
    "df.sample(3)"
   ]
  },
  {
   "cell_type": "code",
   "execution_count": 4,
   "metadata": {},
   "outputs": [
    {
     "data": {
      "text/plain": [
       "['Explain the role of geographical factors towards the development of Ancient India.',\n",
       " 'What was the difference between Mahatma Gandhi and Rabindranath Tagore in their approach towards education and nationalism?',\n",
       " 'Bring out the socio-economic effects of the introduction of railways in different countries of the world']"
      ]
     },
     "execution_count": 4,
     "metadata": {},
     "output_type": "execute_result"
    }
   ],
   "source": [
    "questions = df['Question'].values.tolist()\n",
    "questions[:3]"
   ]
  },
  {
   "cell_type": "code",
   "execution_count": null,
   "metadata": {},
   "outputs": [],
   "source": [
    "#PIPELINE OF BERTMODEL\n",
    "# 1. EMBEDDING - BY DEFAULT USES all-MiniLM-L6-v2 SENTENCE TRANSFORMER\n",
    "# 2.  "
   ]
  },
  {
   "cell_type": "code",
   "execution_count": 5,
   "metadata": {},
   "outputs": [],
   "source": [
    "#WE WILL USE THE BERTOPIC MODEL TO CLUSTER THE QUESTIONS\n",
    "#FIRST USING DEFAULT MODEL\n",
    "\n",
    "model = BERTopic()\n",
    "topics, probs = model.fit_transform(questions)"
   ]
  },
  {
   "cell_type": "code",
   "execution_count": 6,
   "metadata": {},
   "outputs": [
    {
     "data": {
      "text/html": [
       "<div>\n",
       "<style scoped>\n",
       "    .dataframe tbody tr th:only-of-type {\n",
       "        vertical-align: middle;\n",
       "    }\n",
       "\n",
       "    .dataframe tbody tr th {\n",
       "        vertical-align: top;\n",
       "    }\n",
       "\n",
       "    .dataframe thead th {\n",
       "        text-align: right;\n",
       "    }\n",
       "</style>\n",
       "<table border=\"1\" class=\"dataframe\">\n",
       "  <thead>\n",
       "    <tr style=\"text-align: right;\">\n",
       "      <th></th>\n",
       "      <th>Topic</th>\n",
       "      <th>Count</th>\n",
       "      <th>Name</th>\n",
       "      <th>Representation</th>\n",
       "      <th>Representative_Docs</th>\n",
       "    </tr>\n",
       "  </thead>\n",
       "  <tbody>\n",
       "    <tr>\n",
       "      <th>0</th>\n",
       "      <td>-1</td>\n",
       "      <td>80</td>\n",
       "      <td>-1_the_of_in_and</td>\n",
       "      <td>[the, of, in, and, india, discuss, on, for, is...</td>\n",
       "      <td>[Why did the industrial revolution first occur...</td>\n",
       "    </tr>\n",
       "    <tr>\n",
       "      <th>1</th>\n",
       "      <td>0</td>\n",
       "      <td>32</td>\n",
       "      <td>0_the_of_and_how</td>\n",
       "      <td>[the, of, and, how, do, on, in, are, monsoon, ...</td>\n",
       "      <td>[Why are the world’s fold mountain systems loc...</td>\n",
       "    </tr>\n",
       "    <tr>\n",
       "      <th>2</th>\n",
       "      <td>1</td>\n",
       "      <td>30</td>\n",
       "      <td>1_in_the_indian_society</td>\n",
       "      <td>[in, the, indian, society, and, cultural, to, ...</td>\n",
       "      <td>[Are tolerance, assimilation and pluralism the...</td>\n",
       "    </tr>\n",
       "    <tr>\n",
       "      <th>3</th>\n",
       "      <td>2</td>\n",
       "      <td>25</td>\n",
       "      <td>2_the_british_to_of</td>\n",
       "      <td>[the, british, to, of, was, were, in, india, e...</td>\n",
       "      <td>[The 1857 uprising was the culmination of the ...</td>\n",
       "    </tr>\n",
       "    <tr>\n",
       "      <th>4</th>\n",
       "      <td>3</td>\n",
       "      <td>24</td>\n",
       "      <td>3_of_the_in_india</td>\n",
       "      <td>[of, the, in, india, for, has, to, development...</td>\n",
       "      <td>[“The growth of cities as I.T. hubs has opened...</td>\n",
       "    </tr>\n",
       "    <tr>\n",
       "      <th>5</th>\n",
       "      <td>4</td>\n",
       "      <td>17</td>\n",
       "      <td>4_art_the_architecture_of</td>\n",
       "      <td>[art, the, architecture, of, indian, discuss, ...</td>\n",
       "      <td>[Mesolithic rock cut architecture of India not...</td>\n",
       "    </tr>\n",
       "    <tr>\n",
       "      <th>6</th>\n",
       "      <td>5</td>\n",
       "      <td>15</td>\n",
       "      <td>5_water_and_in_of</td>\n",
       "      <td>[water, and, in, of, india, the, resources, is...</td>\n",
       "      <td>[what are the environmental implications of th...</td>\n",
       "    </tr>\n",
       "    <tr>\n",
       "      <th>7</th>\n",
       "      <td>6</td>\n",
       "      <td>12</td>\n",
       "      <td>6_women_in_india_womens</td>\n",
       "      <td>[women, in, india, womens, ratio, sex, that, t...</td>\n",
       "      <td>[‘Women’s movement in India has not addressed ...</td>\n",
       "    </tr>\n",
       "  </tbody>\n",
       "</table>\n",
       "</div>"
      ],
      "text/plain": [
       "   Topic  Count                       Name  \\\n",
       "0     -1     80           -1_the_of_in_and   \n",
       "1      0     32           0_the_of_and_how   \n",
       "2      1     30    1_in_the_indian_society   \n",
       "3      2     25        2_the_british_to_of   \n",
       "4      3     24          3_of_the_in_india   \n",
       "5      4     17  4_art_the_architecture_of   \n",
       "6      5     15          5_water_and_in_of   \n",
       "7      6     12    6_women_in_india_womens   \n",
       "\n",
       "                                      Representation  \\\n",
       "0  [the, of, in, and, india, discuss, on, for, is...   \n",
       "1  [the, of, and, how, do, on, in, are, monsoon, ...   \n",
       "2  [in, the, indian, society, and, cultural, to, ...   \n",
       "3  [the, british, to, of, was, were, in, india, e...   \n",
       "4  [of, the, in, india, for, has, to, development...   \n",
       "5  [art, the, architecture, of, indian, discuss, ...   \n",
       "6  [water, and, in, of, india, the, resources, is...   \n",
       "7  [women, in, india, womens, ratio, sex, that, t...   \n",
       "\n",
       "                                 Representative_Docs  \n",
       "0  [Why did the industrial revolution first occur...  \n",
       "1  [Why are the world’s fold mountain systems loc...  \n",
       "2  [Are tolerance, assimilation and pluralism the...  \n",
       "3  [The 1857 uprising was the culmination of the ...  \n",
       "4  [“The growth of cities as I.T. hubs has opened...  \n",
       "5  [Mesolithic rock cut architecture of India not...  \n",
       "6  [what are the environmental implications of th...  \n",
       "7  [‘Women’s movement in India has not addressed ...  "
      ]
     },
     "execution_count": 6,
     "metadata": {},
     "output_type": "execute_result"
    }
   ],
   "source": [
    "model.get_topic_info()"
   ]
  },
  {
   "cell_type": "code",
   "execution_count": 7,
   "metadata": {},
   "outputs": [
    {
     "data": {
      "text/plain": [
       "['the, of, in',\n",
       " 'the, of, and',\n",
       " 'in, the, indian',\n",
       " 'the, british, to',\n",
       " 'of, the, in',\n",
       " 'art, the, architecture',\n",
       " 'water, and, in',\n",
       " 'women, in, india']"
      ]
     },
     "execution_count": 7,
     "metadata": {},
     "output_type": "execute_result"
    }
   ],
   "source": [
    "model.generate_topic_labels(topic_prefix=False,separator=', ')"
   ]
  },
  {
   "cell_type": "code",
   "execution_count": 8,
   "metadata": {},
   "outputs": [
    {
     "data": {
      "application/vnd.plotly.v1+json": {
       "config": {
        "plotlyServerURL": "https://plot.ly"
       },
       "data": [
        {
         "hoverinfo": "text",
         "hovertext": [
          "Discuss the main objectives of Population Education and point out the measures to achieve them in India in detail.",
          "‘Latecomer’ Industrial Revolution in Japan involved certain factors that were markedly different from what West had experienced.” Analyze.",
          "Explain the role of geographical factors towards the development of Ancient India.",
          "What were the major technological changes introduced during the Sultanate period? How did those technological changes influence the Indian society?",
          "Examine the linkages between the nineteenth century’s ‘Indian Renaissance’ and the emergence of national identity.",
          "Critically examine the effect of globalization on the aged population in India.",
          "Assess the main administrative issues and socio-cultural problems in the integration process of Indian Princely States.",
          "Why is Indian Regional Navigational Satellite System (IRNSS) needed? How does it help in navigation?",
          "South China Sea has assumed great geopolitical significance in the present context. Comment.",
          "Bring out the causes for more frequent occurrence of landslides in the Himalayas than in the Western Ghats.",
          "Why is India taking keen interest in the Arctic region?",
          "Differentiate the causes of landslides in the Himalayan region and Western Ghats.",
          "Discuss whether formation of new states in recent times is beneficial or not for the economy of India.",
          "Discuss the multi-dimensional implications of uneven distribution of mineral oil in the world.",
          "The Bhakti movement received a remarkable re-orientation with the advent of Sri Chaitanya Mahaprabhu. Discuss.",
          "Critically evaluate the various resources of the oceans which can be harnessed to meet the resource crisis in the world.",
          "Examine the status of forest resources of India and its resultant impact on climate change.",
          "Discuss the consequences of climate change on the food security in tropical countries.",
          "Why did the ‘Moderates’ failed to carry conviction with the nation about their proclaimed ideology and political goals by the end of the nineteenth century?",
          "Critically discuss the objectives of Bhoodan and Gramdan movements initiated by AcharyaVinobhaBhave and their success.",
          "Growing feeling of regionalism is an important factor in generation of demand for a separate state. Discuss.",
          "COVID-19 pandemic accelerated class inequalities and poverty in India. Comment.",
          "“Inspite of adverse environmental impact, coal mining is still inevitable for development”.\nDiscuss",
          "Do we have cultural pockets of small India all over the nation? Elaborate with examples.",
          "Mention the significance of straits and isthmus in international trade.",
          "With growing scarcity of fossil fuels, the atomic energy is gaining more and more significance in India. Discuss the availability of raw material required for the generation of atomic energy in India and in the world.",
          "\"An essential condition to eradicate poverty is to liberate the poor from the process of deprivation.\" Substantiate this statement with suitable examples.",
          "How did the colonial rule affect the tribals in India and what was the tribal response to the colonial oppression?",
          "Bring out the constructive programmes of Mahatma Gandhi during Non-Cooperation Movement and Civil Disobedience Movement.",
          "The recent cyclone on the east coast of India was called ‘Phailin’. How are the tropical cyclones named across the world? Elaborate.",
          "How will the melting of Himalayan glaciers have a far- reaching impact on the water resources of India?",
          "Explore and evaluate the impact of ‘Work From Home’ on family relationships.",
          "Since the decade of the 1920s, the national movement acquired various ideological strands and thereby expanded its social base. Discuss.",
          "With a brief background of quality of urban life in India, introduce the objectives and strategy of the 'Smart City Programme'.",
          "Child cuddling is now being replaced by mobile phones. Discuss its impact on the socialization of children.",
          "Discuss the role of women in the freedom struggle especially during the Gandhian phase.",
          "What are the economic significances of discovery of oil in Arctic Sea and its possible environemental consequences?",
          "Critically examine the compulsions which prompted India to play a decisive role in the emergence of Bangladesh.",
          "Describing the distribution of rubber producing countries, indicate the major environmental issues faced by them.",
          "Discuss the causes of depletion of mangroves and explain their importance in maintaining coastal ecology.",
          "It is said that India has substantial reserves of shale oil and gas, which can feed the needs of the country for quarter century. However, tapping of the resource does not appear to be high on the agenda. Discuss critically the availability and issues involved.",
          "‘Communalism arises either due to power struggle or relative deprivation.’ Argue by giving suitable illustrations.",
          "The life cycle of a joint family depends on economic factors rather than social values. Discuss.",
          "Why is India considered as a sub-continent? Elaborate your answer.",
          "Why did the industrial revolution first occur in England? Discuss the quality of life of the people there during the industrialization. How does it compare with that in India at present times?",
          "Tropical cyclones are largely confined to South China Sea, Bay of Bengal and Gulf of Mexico. Why?",
          "Defying the barriers of age, gender and religion, the Indian women became the torchbearer during the struggle for freedom in India. Discuss.",
          "Highlight the differences in the approach of Subhash Chandra Bose and Mahatma Gandhi in the struggle for freedom.",
          "Assess the importance of the accounts of the Chinese and Arab travellers in the reconstruction of the history of India.",
          "How have digital initiatives in India contributed to the functioning of the education system in the country? Elaborate your answer.",
          "What problems are germane to the decolonization process in the Malay Peninsula?",
          "Discuss the meaning of colour-coded weather warnings for cyclone prone areas given by India Meteorological department.",
          "Discuss the natural resource potentials of ‘Deccan trap’.",
          "What was the difference between Mahatma Gandhi and Rabindranath Tagore in their approach towards education and nationalism?",
          "To what extent did the role of the moderates prepare a base for the wider freedom movement? Comment.",
          "How difficult would have been the achievement of Indian independence without Mahatma Gandhi? Discuss.",
          "Mahatma Gandhi and Dr. B R Ambedkar, despite having divergent approaches and strategies, had a common goal of amelioration of the downtrodden. Elucidate.",
          "Throw light on the significance of the thoughts of Mahatma Gandhi in the present times.",
          "Do you agree that regionalism in India appears to be a consequence of rising cultural assertiveness? Argue.",
          "‘Despite implementation of various programmes for eradication of poverty by the government in India, poverty is still existing’. Explain by giving reasons.",
          "How is efficient and affordable urban mass transport key to the rapid economic development in India?",
          "Several foreigners made India their homeland and participated in various movements.\nAnalyze their role in the Indian struggle for freedom.",
          "Do you agree that there is a growing trend of opening new sugar mills in southern states of India? Discuss with justification.",
          "Write a critical note on the evolution and significance of the slogan, ‘Jai Jawan, Jai Kisan’.",
          "Though not very useful from the point of view of a connected political history of South India, the Sangam literature portrays the social and economic conditions of its time with remarkable vividness. Comment.",
          "What is the basis of regionalism? Is it that unequal distribution of benefits of development on regional basis eventually promotes regionalism? Substantiate your answer.",
          "The political and administrative reorganization of states and territories has been a continuous ongoing process since the mid-nineteenth century. Discuss with examples.",
          "Evaluate the policies of Lord Curzon and their long term implications on the national movements.",
          "Why did the Green Revolution in India virtually by-pass the eastern region despite fertile soil and good availability of water?",
          "Comment on the resource potentials of the long coastline of India and highlight the status of natural hazard preparedness in these areas.",
          "Smart cities in India cannot sustain without smart vilages. Discuss this statement in the backdrop of rural urban integration.",
          "\"The Himalayas are highly prone to landslides.\" Discuss the causes and suggest suitable measures of mitigation.",
          "Identify and discuss the factors responsible for diversity of natural vegetation in India. Assess the significance of wildlife sanctuaries in rain forests regions of India.",
          "India has immense potential of solar energy though there are regional variations in its developments. Elaborate.",
          "Examine how the decline of traditional artisanal industry in colonial India crippled the rural economy.",
          "Many voices had strengthened and enriched the nationalist movement during the Gandhian phase. Elaborate.",
          "Debate the issue whether and how contemporary movements for assertion of Dalit identity work towards annihilation of caste.",
          "Evaluate the nature of the Bhakti Literature and its contribution to Indian culture.",
          "Petroleum refineries are not necessarily located nearer to crude oil producing areas, particularly in many of the developing countries. Explain its implications.",
          "In the context of the diversity of India, can it be said that the regions form cultural units rather than the States? Give reasons with examples for your view point.",
          null
         ],
         "marker": {
          "color": "#CFD8DC",
          "opacity": 0.5,
          "size": 5
         },
         "mode": "markers+text",
         "name": "other",
         "showlegend": false,
         "type": "scattergl",
         "x": [
          3.8491921424865723,
          4.53274393081665,
          3.7027409076690674,
          4.747682571411133,
          5.980492115020752,
          3.921675682067871,
          4.610907077789307,
          1.9306803941726685,
          0.46181023120880127,
          0.17532508075237274,
          1.834795355796814,
          0.1686703860759735,
          3.163302421569824,
          1.9172229766845703,
          5.8978447914123535,
          1.36435067653656,
          0.9630305767059326,
          -0.37112271785736084,
          6.025753974914551,
          5.910246849060059,
          3.0029287338256836,
          4.017783164978027,
          1.1716077327728271,
          3.4716458320617676,
          0.4745130240917206,
          2.050644636154175,
          3.930408000946045,
          4.993617534637451,
          6.42504358291626,
          -0.20873713493347168,
          0.4243442416191101,
          4.377358436584473,
          6.034872055053711,
          2.1365933418273926,
          4.263880252838135,
          5.169295787811279,
          1.8027807474136353,
          5.410285472869873,
          0.26444366574287415,
          -0.1459389477968216,
          1.9044203758239746,
          4.220209121704102,
          4.320777416229248,
          3.2330219745635986,
          4.589828014373779,
          -0.1836300492286682,
          5.15406608581543,
          6.401063442230225,
          5.721165657043457,
          3.813988208770752,
          4.682049751281738,
          -0.19372284412384033,
          1.1613552570343018,
          6.333198547363281,
          5.997682571411133,
          6.303991794586182,
          6.402312755584717,
          6.386569976806641,
          3.301107406616211,
          4.086349964141846,
          2.528254985809326,
          5.623694896697998,
          2.7747745513916016,
          6.323483467102051,
          6.180764675140381,
          3.0367841720581055,
          3.1326229572296143,
          6.085737705230713,
          3.7957065105438232,
          1.0382922887802124,
          2.1692864894866943,
          0.1836797446012497,
          0.9802048802375793,
          1.8389673233032227,
          4.711499214172363,
          6.412024021148682,
          4.44105339050293,
          5.8738603591918945,
          1.9659396409988403,
          3.4942636489868164,
          3.4510178565979004
         ],
         "y": [
          3.3311243057250977,
          3.8703925609588623,
          3.8756864070892334,
          3.516601085662842,
          2.078521490097046,
          2.646223306655884,
          4.321613788604736,
          4.557354927062988,
          6.612798690795898,
          6.0819902420043945,
          4.798569679260254,
          6.059212684631348,
          3.944215774536133,
          5.14199161529541,
          1.2124096155166626,
          5.4957098960876465,
          5.301153182983398,
          5.875185489654541,
          4.138055801391602,
          1.2270667552947998,
          2.6690566539764404,
          3.0528488159179688,
          4.221767425537109,
          1.610629916191101,
          6.621066570281982,
          4.908036708831787,
          3.0795788764953613,
          3.251272201538086,
          3.298264503479004,
          5.539161682128906,
          5.694098949432373,
          2.200637102127075,
          4.144980430603027,
          3.7996931076049805,
          2.3597567081451416,
          2.659621238708496,
          5.22128963470459,
          2.265660285949707,
          4.4072065353393555,
          7.305431842803955,
          4.966864585876465,
          1.6798182725906372,
          1.9890964031219482,
          1.7643011808395386,
          3.8208680152893066,
          5.641524791717529,
          2.6487221717834473,
          3.2745466232299805,
          2.842280864715576,
          3.3322362899780273,
          4.4209980964660645,
          5.511462211608887,
          5.209351539611816,
          3.2368862628936768,
          4.15616512298584,
          3.2737560272216797,
          3.2389869689941406,
          3.191272735595703,
          1.7086453437805176,
          3.2547011375427246,
          3.6824371814727783,
          2.8773090839385986,
          3.9045541286468506,
          3.0077733993530273,
          2.3250527381896973,
          2.307086229324341,
          2.812052011489868,
          4.109333515167236,
          4.1518964767456055,
          5.237278938293457,
          3.7918426990509033,
          5.995450973510742,
          5.287414073944092,
          4.821096420288086,
          3.396385431289673,
          3.09919810295105,
          0.8829129338264465,
          1.1856874227523804,
          5.057438850402832,
          1.5946332216262817,
          3.7635657787323
         ]
        },
        {
         "hoverinfo": "text",
         "hovertext": [
          "Assess the impact of global warming on the coral life system with examples.",
          "Describe the characteristics and types of primary rocks.",
          "How do the melting of the Arctic ice and glaciers of the Antarctic differently affect the weather patterns and human activities on the Earth? Explain.",
          "Most of the unusual climatic happenings are explained as an outcome of the El-Nino effect. Do you agree?",
          "Discuss the concept of air mass and explain its role in macro-climatic changes.",
          "What do you understand by the theory of continental drift? Discuss the prominent evidences in its support.",
          "Briefly mention the alignment of major mountain ranges of the world and explain their impact on local weather conditions, with examples.",
          "Explain the formation of thousands of islands in Indonesian and Philipines archipelagos.",
          "There is no formation of deltas by rivers on the Western Ghats. Why?",
          "How do ocean currents and water masses differ in their impacts on marine life and coastal environment? Give suitable examples.",
          "Explain the factors responsible for the origin of ocean currents. How do they influence regional climates, fishing and navigation?",
          "Troposphere is a very significant atmospheric layer that determines weather processes.\nHow?",
          "How does the Juno Mission of NASA help to understand the origin and evolution of the Earth?",
          "Why is the South-West monsoon called ‘Purvaiya’ (easterly) in Bhojpur Region? How has this directional seasonal wind system influenced the cultural ethos of the region?",
          "Define mantle plume and explain its role in plate tectonics.",
          "How can the mountain ecosystem be restored from the negative impact of development initiatives and tourism?",
          "Major hot deserts in northern hemisphere are located between 20-30 deg N latitudes and on the western sides of the continents. Why?",
          "How far do you agree that the behaviour of the Indian monsoon has been changing due to humanizing landscape? Discuss.",
          "The process of desertification does not have climate boundaries. Justify with examples.",
          "What characteristics can be assigned to monsoon climate that succeeds in feeding more than 50 percent of the world population residing in Monsoon Asia?",
          "How does the cryosphere affect global climate?",
          "Why are the world’s fold mountain systems located along the margins of continents? Bring out the association between the global distribution of fold mountains and the earthquakes and volcanoes.",
          "What are the forces that influence ocean currents? Describe their role in fishing industry of the world.",
          "What are the consequences of spreading of ‘Dead Zones’ on marine ecosystem?",
          "What do you understand by the phenomenon of ‘temperature inversion’ in meteorology? How does it affect weather and the habitants of the place?",
          "How are the fjords formed? Why do they constitute some of the most picturesque areas of the world?",
          "Mention the global occurrence of volcanic eruptions in 2021 and their impact on regional environment.",
          "Bring out the causes for the formation of heat islands in the urban habitat of the world.",
          "Discuss the geophysical characteristics of Circum- Pacific Zone.",
          "The states of Jammu and Kashmir, Himachal Pradesh and Uttarakhand are reaching the limits of ecological carrying capacity due to tourism. Critically evaluate.",
          "Bring out the relationship between the shrinking Himalayan glaciers and the symptoms of climate change in the Indian sub-continent.",
          "Account for variations in oceanic salinity and discuss its multi-dimensional effects.",
          null
         ],
         "marker": {
          "opacity": 0.5,
          "size": 5
         },
         "mode": "markers+text",
         "name": "0_the_of_and",
         "text": [
          "",
          "",
          "",
          "",
          "",
          "",
          "",
          "",
          "",
          "",
          "",
          "",
          "",
          "",
          "",
          "",
          "",
          "",
          "",
          "",
          "",
          "",
          "",
          "",
          "",
          "",
          "",
          "",
          "",
          "",
          "",
          "",
          "0_the_of_and"
         ],
         "textfont": {
          "size": 12
         },
         "type": "scattergl",
         "x": [
          -0.509406328201294,
          -0.2515438497066498,
          -0.6794671416282654,
          -0.7825588583946228,
          -0.7860718369483948,
          0.06238938122987747,
          -0.2494083195924759,
          -0.5970167517662048,
          0.026307787746191025,
          -0.20323145389556885,
          -0.0874057337641716,
          -0.7372569441795349,
          0.03799590840935707,
          -0.10883039981126785,
          -0.34767499566078186,
          0.5856397151947021,
          -0.21856439113616943,
          -0.007237613201141357,
          -0.23171167075634003,
          -0.22960087656974792,
          -0.7440086007118225,
          -0.13249193131923676,
          -0.03379242494702339,
          -0.22100679576396942,
          -0.784578263759613,
          -0.19123156368732452,
          -0.6725581288337708,
          -0.6835651993751526,
          -0.11195528507232666,
          0.883810818195343,
          0.14208266139030457,
          -0.15985865890979767,
          -0.2507439851760864
         ],
         "y": [
          6.92922830581665,
          6.5872063636779785,
          6.602653980255127,
          6.499614715576172,
          6.547459125518799,
          6.8244853019714355,
          6.499772071838379,
          6.961415767669678,
          6.249675750732422,
          7.093560218811035,
          6.976781368255615,
          6.533115386962891,
          6.889128684997559,
          5.799948692321777,
          6.618377208709717,
          5.273918628692627,
          6.42378044128418,
          5.88581657409668,
          6.195329666137695,
          5.83394193649292,
          6.527207851409912,
          6.467682838439941,
          6.991542816162109,
          7.274760723114014,
          6.5744709968566895,
          6.5210490226745605,
          6.773555278778076,
          6.812594890594482,
          6.909205436706543,
          5.211629867553711,
          5.828802108764648,
          7.002094268798828,
          6.503744125366211
         ]
        },
        {
         "hoverinfo": "text",
         "hovertext": [
          "What are the main features of Vedic society and religion? Do you think some of the features are still prevailing in Indian society?",
          "Do you think marriage as a sacrament in loosing its value in Modern India?",
          "Given the diversities among the tribal communities in India, in which specific contexts should they be considered as a single category?",
          "Pala period is the most significant phase in the history of Buddhism in India. Enumerate.",
          "Has caste lost its relevance in understanding the multi- cultural Indian Society? Elaborate your answer with illustrations.",
          "Analyze the salience of ‘sect’ in Indian society vis-a-vis caste, region and religion.",
          "The ancient civilization in Indian sub continent differed from those of Egypt , Mesopotamia and Greece in that its culture and traditions have been preserved without breakdown to the present day. Comment",
          "Sufis and medieval saints failed to modify either the religious ideas and practices or the outward structure of Hindu/ Muslim societies to any appreciable extent. Comment.",
          "Has the formation of linguistic States strengthened the cause of Indian Unity?",
          "What are the two major legal initiatives by the State since Independence addressing discrimination against Scheduled Tribes(STs)?",
          "Why are the tribals in India referred to as 'the Scheduled Tribes? Indicate the major provisions in the Constitution of India for their upliftment.",
          "Is diversity and pluralism in India under threat due to globalisation? Justify your answer.",
          "How does Indian society maintain continuity in traditional social values? Enumerate the changes taking place in it.",
          "Discuss the impact of post-liberal economy on ethnic identity and communalism.",
          "Are we losing our local identity for the global identity? Discuss.",
          "To what extent globalization has influenced the core of cultural diversity in India? Explain.",
          "What are the challenges to our cultural practices in the name of secularism?",
          "Why is caste identity in India both fluid and static?",
          "Examine the uniqueness of tribal knowledge system when compared with mainstream knowledge and cultural systems.",
          "Are tolerance, assimilation and pluralism the key elements in the making of an Indian form of secularism? Justify your answer.",
          "How do the Indian debates on secularism differ from the debates in the West?",
          "Describe any four cultural elements of diversity in India and rate their relative significance in building a national identity.",
          "Globalisation is generally said to promote cultural homogenisation but due to this cultural specificities appear to be strengthened in the Indian society.’ Elucidate.",
          "Trace the rise and growth of socio-religious reform movements with special reference to Young Bengal and Brahmo Samaj.",
          "Distinguish between religiousness/religiosity and communalism giving one example of how the former has got transformed into the latter in independent India.",
          "Customs and traditions suppress reason leading to obscurantism. Do you agree?",
          "“Caste system is assuming new identities and associational forms. Hence, caste system cannot be eradicated in India.”",
          "What makes the Indian society unique in sustaining its culture? Discuss.",
          "How the Indian concept of secularism different from the western model of secularism?\nDiscuss.",
          "The spirit of tolerance and love is not only an interesting feature of Indian society from very early times, but it is also playing an important part at the present. Elaborate.",
          null
         ],
         "marker": {
          "opacity": 0.5,
          "size": 5
         },
         "mode": "markers+text",
         "name": "1_in_the_indian",
         "text": [
          "",
          "",
          "",
          "",
          "",
          "",
          "",
          "",
          "",
          "",
          "",
          "",
          "",
          "",
          "",
          "",
          "",
          "",
          "",
          "",
          "",
          "",
          "",
          "",
          "",
          "",
          "",
          "",
          "",
          "",
          "1_in_the_indian"
         ],
         "textfont": {
          "size": 12
         },
         "type": "scattergl",
         "x": [
          4.786953926086426,
          4.819503307342529,
          4.213480472564697,
          5.044482707977295,
          4.431501865386963,
          4.808585166931152,
          3.783600330352783,
          4.990084648132324,
          3.3982462882995605,
          4.516058444976807,
          4.547087669372559,
          3.7294888496398926,
          4.429254055023193,
          4.106439113616943,
          3.7816884517669678,
          3.8855535984039307,
          4.626690864562988,
          4.415656566619873,
          4.167779922485352,
          4.667308330535889,
          4.690089702606201,
          3.979120969772339,
          3.7863616943359375,
          5.01572322845459,
          4.874626636505127,
          3.7793381214141846,
          4.402622222900391,
          4.313962936401367,
          4.686539649963379,
          4.883945941925049,
          4.385392189025879
         ],
         "y": [
          0.68490070104599,
          0.9473047852516174,
          1.4106013774871826,
          0.7701154351234436,
          0.9975523948669434,
          0.5886272192001343,
          1.263510823249817,
          0.44349756836891174,
          1.5083359479904175,
          1.6731250286102295,
          1.5060454607009888,
          1.6596524715423584,
          1.2193598747253418,
          1.629732608795166,
          1.5667284727096558,
          1.7899394035339355,
          0.30465564131736755,
          0.9552946090698242,
          1.2627922296524048,
          0.31109368801116943,
          0.3005496859550476,
          1.4453792572021484,
          1.536765217781067,
          0.5295205116271973,
          0.6373944878578186,
          1.008122444152832,
          0.9154773354530334,
          1.3306078910827637,
          0.32361558079719543,
          0.9516609311103821,
          1.0490652322769165
         ]
        },
        {
         "hoverinfo": "text",
         "hovertext": [
          "Examine critically the various facets of economic policies of the British in India from mid-eighteenth century till independence.",
          "The 1857 uprising was the culmination of the recurrent, big and small local rebellions that had occurred in the preceding hundred years of British rule. Elucidate.",
          "Why did the armies of the British East India Company – mostly comprising of Indian soldiers – win consistently against the more numerous and better equipped armies of the Indian rulers? Give reasons.",
          "Whereas the British planters had developed tea gardens all along the Shivaliks and Lesser Himalayas from Assam to Himachal Pradesh, in effect they did not succeed beyond the Darjeeling area. Explain.",
          "Why indentured labour was taken by the British from India to their colonies? have they been able to preserve their cultural identity over there?",
          "” There arose a serious challenge to the Democratic State System between the two World Wars.” Evaluate the statement.",
          "What were the major political, economic and social developments in the world which motivated the anti-colonial in India?",
          "The New Economic Policy – 1921 of Lenin had influenced the policies adopted by India soon after independence. Evaluate.",
          "Why was there a sudden spurt in famines in colonial India since the mid-eighteenth century? Give reasons.",
          "Clarify how mid-eighteenth century India was beset with the spectre of a fragmented polity.",
          "“American Revolution was an economic revolt against mercantilism.” Substantiate.",
          "What were the events that led to the Suez Crisis in 1956? How did it deal a final blow to Britain’s self-image as a world power?",
          "Assess the role of British imperial power in complicating the process of transfer of power during the 1940s.",
          "The anti-colonial struggles in West Africa were led by the new elite of Western-educated Africans.",
          "Explain how the foundations of the modern world were laid by the American and French Revolutions.",
          "It would have been difficult for the Constituent Assembly to complete its historic task of drafting the Constitution for Independent India in just three years, but its experience gained with the Government of India Act, 1935\n.Discuss.",
          "Highlight the importance of the new objectives that got added to the vision of Indian Independence since the twenties of the last century.",
          "To what extend can Germany be held responsible for causing the two World Wars? Discuss critically.",
          "Explain how the Uprising of 1857 constitutes an important watershed in the evolution of British policies towards colonial India.",
          "Discuss the contributions of MaulanaAbulKalam Azad to pre- and post-independent India.",
          "In what ways did the navel mutiny prove to be the last nail in the coffin of British colonial aspirations in India?",
          "The third battle of Panipat was fought in 1761. Why were so many empire-shaking battles fought at Panipat?",
          "“Africa was chopped into states artificially created by accidents of European competition.” Analyze.",
          "What policy instruments were deployed to contain the Great Economic Depression?",
          "Analyze the circumstances that led to the Tashkent Agreement in 1966. Discuss the highlights of the Agreement.",
          null
         ],
         "marker": {
          "opacity": 0.5,
          "size": 5
         },
         "mode": "markers+text",
         "name": "2_the_british_to",
         "text": [
          "",
          "",
          "",
          "",
          "",
          "",
          "",
          "",
          "",
          "",
          "",
          "",
          "",
          "",
          "",
          "",
          "",
          "",
          "",
          "",
          "",
          "",
          "",
          "",
          "",
          "2_the_british_to"
         ],
         "textfont": {
          "size": 12
         },
         "type": "scattergl",
         "x": [
          5.382912635803223,
          5.280737400054932,
          5.254019260406494,
          4.824742317199707,
          5.311676502227783,
          5.345824241638184,
          5.129701137542725,
          5.567043304443359,
          4.94346809387207,
          5.598275661468506,
          5.694789409637451,
          5.162655353546143,
          5.202682971954346,
          5.439610958099365,
          5.770113945007324,
          5.792705059051514,
          5.741673469543457,
          5.249771595001221,
          5.326756954193115,
          5.553594589233398,
          5.348106384277344,
          5.398521423339844,
          5.377021312713623,
          5.5400166511535645,
          5.065185070037842,
          5.372064113616943
         ],
         "y": [
          3.880418539047241,
          3.873464584350586,
          3.8106253147125244,
          3.8266663551330566,
          3.781846761703491,
          4.765498638153076,
          3.5961899757385254,
          4.179737091064453,
          3.614483118057251,
          3.5537636280059814,
          4.386519432067871,
          4.4659504890441895,
          4.33474063873291,
          4.625638008117676,
          4.348690032958984,
          3.354903221130371,
          3.245767116546631,
          4.711025238037109,
          3.767693281173706,
          3.197354316711426,
          3.7478930950164795,
          3.633729934692383,
          4.726541996002197,
          4.326345920562744,
          4.287688255310059,
          4.001727104187012
         ]
        },
        {
         "hoverinfo": "text",
         "hovertext": [
          "Defining blue revolution, explain the problems and strategies for pisciculture development in India.",
          "Elucidate the relationship between globalization and new technology in a world of scarce resources, with special reference to India.",
          "How does India see its place in the economic space of rising natural resources rich Africa?",
          "Analyze the factors for the highly decentralized cotton textile industry in India.",
          "Discuss the various social problems which originated out of the speedy process of urbanization in India.",
          "Discuss the factors for localisation of agro-based food processing industries of North-West India.",
          "Why did human development fail to keep pace with economic development in India?",
          "Does urbanization lead to more segregation and/or marginalization of the poor in Indian metropolises?",
          "To what extent has the urban planning and culture of the Indus Valley Civilization provided inputs to the present day urbanization?\nDiscuss.",
          "Account for the change in the spatial pattern of the Iron and Steel industry in the world.",
          "Despite India being one of the countries of the Gondwanaland, its mining industry contributes much less to its Gross Domestic Product(GDP) in percentage. Discuss.",
          "What is the significance of Industrial Corridors in India? Identifying industrial corridors, explain their main characteristics.",
          "Bring out the socio-economic effects of the introduction of railways in different countries of the world",
          "Account for the present location of iron and steel industries away from the source of raw material, by giving examples.",
          "“The growth of cities as I.T. hubs has opened up new avenues of employment, but has also created new problems”. Substantiate this statement with examples",
          "What are the main socio-economic implications arising out of the development of IT industries in major cities of India?",
          "How is the growth of Tier 2 cities related to the rise of a new middle class with an emphasis on the culture of consumption?",
          "What is Cryptocurrency? How does it affect global society? Has it been affecting Indian society also?",
          "Can the strategy of regional resource-based manufacturing help in promoting employment in India?",
          "Mention core strategies for the transformation of aspirational districts in India and explain the nature of convergence, collaboration and competition for its success.",
          "Mention the advantages of the cultivation of pulses because of which the year 2016 was declared as the International Year of Pulses by United Nations.",
          "Discuss the changes in the trends of labour migration within and outside India in the last four decades.",
          "Critically examine whether growing population is the cause of poverty OR poverty is the mains cause of population increase in India.",
          "From being net food importer in 1960s, India has emerged as a net food exporter to the world. Provide reasons.",
          null
         ],
         "marker": {
          "opacity": 0.5,
          "size": 5
         },
         "mode": "markers+text",
         "name": "3_of_the_in",
         "text": [
          "",
          "",
          "",
          "",
          "",
          "",
          "",
          "",
          "",
          "",
          "",
          "",
          "",
          "",
          "",
          "",
          "",
          "",
          "",
          "",
          "",
          "",
          "",
          "",
          "3_of_the_in"
         ],
         "textfont": {
          "size": 12
         },
         "type": "scattergl",
         "x": [
          3.763002634048462,
          2.6235744953155518,
          2.3395164012908936,
          2.7321865558624268,
          3.865790843963623,
          2.7370243072509766,
          4.063469409942627,
          3.598417282104492,
          3.6314427852630615,
          2.7090611457824707,
          2.6255767345428467,
          3.491260290145874,
          2.8409264087677,
          2.592646837234497,
          2.976522207260132,
          3.0336625576019287,
          2.9717135429382324,
          3.32059645652771,
          2.7106597423553467,
          3.5677595138549805,
          3.0785229206085205,
          4.46951150894165,
          4.072093486785889,
          2.741032123565674,
          3.1898319721221924
         ],
         "y": [
          4.023785591125488,
          4.116235256195068,
          4.513394355773926,
          3.9938108921051025,
          3.5758228302001953,
          4.0337018966674805,
          3.6037991046905518,
          3.3922903537750244,
          3.76958966255188,
          4.4258198738098145,
          4.366790294647217,
          3.898214817047119,
          3.794628381729126,
          4.50432825088501,
          3.424294948577881,
          3.7452096939086914,
          3.3091492652893066,
          3.3948118686676025,
          4.002783298492432,
          3.7862584590911865,
          4.060945987701416,
          3.281275749206543,
          3.125178813934326,
          3.88082218170166,
          3.8342888355255127
         ]
        },
        {
         "hoverinfo": "text",
         "hovertext": [
          "Chola architecture represents a high watermark in the evolution of temple architecture. Discuss",
          "How will you explain the medieval Indian temple sculptures represent the social life of those days?",
          "“In many ways, Lord Dalhousie was the founder of modern India.” Elaborate.",
          "Discuss the main contributions of Gupta period and Chola period to Indian heritage and culture\n.",
          "Persian literary sources of medieval India reflect the spirit of the age. Comment.",
          "Indian Philosophy and tradition played a significant role in conceiving and shaping the monuments and their art in India. Discuss.",
          "Discuss the ‘Tandava’ dance as recorded in early Indian inscriptions.",
          "Mesolithic rock cut architecture of India not only reflects the cultural life of the times but also a fine aesthetic sense comparable to modern painting. Critically evaluate this comment.",
          "Early Buddhist Stupa-art, while depicting folk motifs and narratives successfully expounds Buddhist ideals. Elucidate.",
          "How do you justify the view that the level of excellence of the Gupta numismatic art is not at all noticeable in later times?",
          "The rock-cut architecture represents one of the most important sources of our knowledge of early Indian art and history. Discuss.",
          "Gandhara sculpture owed as much to the Romans as to the Greeks. Explain.",
          "Safeguarding the Indian art heritage is the need of the moment.",
          "Taxila university was one of the oldest universities of the world with which were associated a number of renowned learned personalities of different disciplines. Its strategic location caused its fame to flourish, but unlike Nalanda, it is not considered as a university in the modern sense. Discuss.",
          "Highlight the Central Asian and Greco Bactrian elements in the Gandhara art.",
          "Krishnadeva Raya, the King of Vijayanagar, was not only an accomplished scholar himself but was also a great patron of learning and literature. Discuss.",
          "Discuss the significance of the lion and bull figures in Indian mythology, art and architecture.",
          null
         ],
         "marker": {
          "opacity": 0.5,
          "size": 5
         },
         "mode": "markers+text",
         "name": "4_art_the_architecture",
         "text": [
          "",
          "",
          "",
          "",
          "",
          "",
          "",
          "",
          "",
          "",
          "",
          "",
          "",
          "",
          "",
          "",
          "",
          "4_art_the_architecture"
         ],
         "textfont": {
          "size": 12
         },
         "type": "scattergl",
         "x": [
          6.791360378265381,
          6.834968566894531,
          6.2294416427612305,
          6.4373040199279785,
          6.631691932678223,
          6.607783317565918,
          6.787017345428467,
          6.865678787231445,
          6.792338848114014,
          6.554372787475586,
          6.765591144561768,
          6.8982086181640625,
          6.870028018951416,
          6.231542110443115,
          6.828760623931885,
          6.446304798126221,
          6.772989749908447,
          6.667375564575195
         ],
         "y": [
          1.5450729131698608,
          1.688855528831482,
          2.168734550476074,
          1.3153448104858398,
          1.912945032119751,
          1.7290722131729126,
          1.7145193815231323,
          1.5413874387741089,
          1.7100400924682617,
          1.3880829811096191,
          1.5257108211517334,
          1.5925331115722656,
          1.615596055984497,
          1.858702301979065,
          1.6994400024414062,
          1.8990678787231445,
          1.5020586252212524,
          1.6710096597671509
         ]
        },
        {
         "hoverinfo": "text",
         "hovertext": [
          "In what way can floods be converted into a sustainable source of irrigation and all-weather inland navigation in India?",
          "Examine the potential of wind energy in India and explain the reasons for their limited spatial spread.",
          "Enumerate the problems and prospects of inland water transport in India.",
          "The effective management of land and water resources will drastically reduce the human miseries. Explain.",
          "Mumbai, Delhi and Kolkata are the three Mega cities of the country but the air pollution is much more serious probelm in Delhi as compared to the other two. Why is this so?",
          "Account for the huge flooding of million cities in India including the smart ones like Hyderabad and Pune. Suggest lasting remedial measures.",
          "The interlinking of rivers can provide viable solutions to the multi-dimensional inter-related problems of droughts, floods and interrupted navigation. Critically examine.",
          "What is water stress? How and why does it differ regionally in India?",
          "Major cities of India are becoming more vulnerable to flood conditions. Discuss.",
          "India is well endowed with fresh water resources. Critically examine why it still suffers from water scarcity.",
          "Why is the world today confronted with a crisis of availability of and access to freshwater resources?",
          "“The ideal solution of depleting ground water resources in India is water harvesting system.” How can it be made effective in urban areas?",
          "Present an account of the Indus Water Treaty and examine its ecological, economic and political implications in the context of changing bilateral relations.",
          "what are the environmental implications of the reclamation of the water bodies into urban land use? Explain with examples.",
          "In what way micro-watershed development projects help in water conservation in\ndrought-prone and semi-arid regions of India?",
          null
         ],
         "marker": {
          "opacity": 0.5,
          "size": 5
         },
         "mode": "markers+text",
         "name": "5_water_and_in",
         "text": [
          "",
          "",
          "",
          "",
          "",
          "",
          "",
          "",
          "",
          "",
          "",
          "",
          "",
          "",
          "",
          "5_water_and_in"
         ],
         "textfont": {
          "size": 12
         },
         "type": "scattergl",
         "x": [
          0.8982574343681335,
          1.4721791744232178,
          0.9492610692977905,
          0.62507563829422,
          1.3173569440841675,
          0.9912496209144592,
          0.7025316953659058,
          0.9154297709465027,
          0.9694861173629761,
          0.7569326162338257,
          0.6136199235916138,
          0.7390701770782471,
          0.5960656404495239,
          0.5260319709777832,
          0.839856743812561,
          0.8608270287513733
         ],
         "y": [
          4.3231730461120605,
          4.757497310638428,
          4.63255500793457,
          4.2730817794799805,
          4.478260517120361,
          4.254169940948486,
          4.448838233947754,
          4.668603420257568,
          4.445420265197754,
          4.467832565307617,
          4.411099910736084,
          4.272836208343506,
          4.57407808303833,
          4.229417324066162,
          4.458390712738037,
          4.44635009765625
         ]
        },
        {
         "hoverinfo": "text",
         "hovertext": [
          "Examine the role of ‘Gig Economy’ in the process of empowerment of women in India.",
          "Discuss the positive and negative effects of globalization on women in India?",
          "What are the continued challenges for women in India against time and space?",
          "Discuss the various economic and\nsocio-cultural forces that are driving increasing feminization of agriculture in India.",
          "Why do some of the most prosperous regions of India have an adverse sex ratio for women? Give your arguments.",
          "How do you explain the statistics that show that the sex ratio in Tribes in India is more favourable to women than the sex ratio among Scheduled Castes?",
          "Explain why suicide among young women is increasing in Indian Society.",
          "‘Women’s movement in India has not addressed the issues of women of lower social strata.’ Substantiate your view.",
          "“Male membership needs to be encouraged in order to make women’s organization free from gender bias.” Comment.",
          "“Empowering women is the key to control population growth.” Discuss.",
          "The women’s questions arose in modern India as a part of the 19th century social reform movement. What are the major issues and debates concerning women in that period?",
          "How does patriarchy impact the position of a middle class working woman in India?",
          null
         ],
         "marker": {
          "opacity": 0.5,
          "size": 5
         },
         "mode": "markers+text",
         "name": "6_women_in_india",
         "text": [
          "",
          "",
          "",
          "",
          "",
          "",
          "",
          "",
          "",
          "",
          "",
          "",
          "6_women_in_india"
         ],
         "textfont": {
          "size": 12
         },
         "type": "scattergl",
         "x": [
          4.714389324188232,
          4.444788932800293,
          4.751812934875488,
          4.39250373840332,
          4.47064733505249,
          4.4416728019714355,
          4.362262725830078,
          4.912962913513184,
          4.652199745178223,
          4.488080978393555,
          4.9814863204956055,
          4.680575847625732,
          4.607781887054443
         ],
         "y": [
          2.5431694984436035,
          2.579993724822998,
          2.5261311531066895,
          2.785566806793213,
          2.5211572647094727,
          2.5027925968170166,
          2.48665452003479,
          2.570774555206299,
          2.6622440814971924,
          2.6918861865997314,
          2.6027538776397705,
          2.464921236038208,
          2.5781705379486084
         ]
        }
       ],
       "layout": {
        "annotations": [
         {
          "showarrow": false,
          "text": "D1",
          "x": -0.903982612490654,
          "y": 4.328356926143169,
          "yshift": 10
         },
         {
          "showarrow": false,
          "text": "D2",
          "x": 3.514478649199009,
          "xshift": 10,
          "y": 8.401246619224548
         }
        ],
        "height": 750,
        "shapes": [
         {
          "line": {
           "color": "#CFD8DC",
           "width": 2
          },
          "type": "line",
          "x0": 3.514478649199009,
          "x1": 3.514478649199009,
          "y0": 0.2554672330617905,
          "y1": 8.401246619224548
         },
         {
          "line": {
           "color": "#9E9E9E",
           "width": 2
          },
          "type": "line",
          "x0": -0.903982612490654,
          "x1": 7.932939910888672,
          "y0": 4.328356926143169,
          "y1": 4.328356926143169
         }
        ],
        "template": {
         "data": {
          "bar": [
           {
            "error_x": {
             "color": "rgb(36,36,36)"
            },
            "error_y": {
             "color": "rgb(36,36,36)"
            },
            "marker": {
             "line": {
              "color": "white",
              "width": 0.5
             },
             "pattern": {
              "fillmode": "overlay",
              "size": 10,
              "solidity": 0.2
             }
            },
            "type": "bar"
           }
          ],
          "barpolar": [
           {
            "marker": {
             "line": {
              "color": "white",
              "width": 0.5
             },
             "pattern": {
              "fillmode": "overlay",
              "size": 10,
              "solidity": 0.2
             }
            },
            "type": "barpolar"
           }
          ],
          "carpet": [
           {
            "aaxis": {
             "endlinecolor": "rgb(36,36,36)",
             "gridcolor": "white",
             "linecolor": "white",
             "minorgridcolor": "white",
             "startlinecolor": "rgb(36,36,36)"
            },
            "baxis": {
             "endlinecolor": "rgb(36,36,36)",
             "gridcolor": "white",
             "linecolor": "white",
             "minorgridcolor": "white",
             "startlinecolor": "rgb(36,36,36)"
            },
            "type": "carpet"
           }
          ],
          "choropleth": [
           {
            "colorbar": {
             "outlinewidth": 1,
             "tickcolor": "rgb(36,36,36)",
             "ticks": "outside"
            },
            "type": "choropleth"
           }
          ],
          "contour": [
           {
            "colorbar": {
             "outlinewidth": 1,
             "tickcolor": "rgb(36,36,36)",
             "ticks": "outside"
            },
            "colorscale": [
             [
              0,
              "#440154"
             ],
             [
              0.1111111111111111,
              "#482878"
             ],
             [
              0.2222222222222222,
              "#3e4989"
             ],
             [
              0.3333333333333333,
              "#31688e"
             ],
             [
              0.4444444444444444,
              "#26828e"
             ],
             [
              0.5555555555555556,
              "#1f9e89"
             ],
             [
              0.6666666666666666,
              "#35b779"
             ],
             [
              0.7777777777777778,
              "#6ece58"
             ],
             [
              0.8888888888888888,
              "#b5de2b"
             ],
             [
              1,
              "#fde725"
             ]
            ],
            "type": "contour"
           }
          ],
          "contourcarpet": [
           {
            "colorbar": {
             "outlinewidth": 1,
             "tickcolor": "rgb(36,36,36)",
             "ticks": "outside"
            },
            "type": "contourcarpet"
           }
          ],
          "heatmap": [
           {
            "colorbar": {
             "outlinewidth": 1,
             "tickcolor": "rgb(36,36,36)",
             "ticks": "outside"
            },
            "colorscale": [
             [
              0,
              "#440154"
             ],
             [
              0.1111111111111111,
              "#482878"
             ],
             [
              0.2222222222222222,
              "#3e4989"
             ],
             [
              0.3333333333333333,
              "#31688e"
             ],
             [
              0.4444444444444444,
              "#26828e"
             ],
             [
              0.5555555555555556,
              "#1f9e89"
             ],
             [
              0.6666666666666666,
              "#35b779"
             ],
             [
              0.7777777777777778,
              "#6ece58"
             ],
             [
              0.8888888888888888,
              "#b5de2b"
             ],
             [
              1,
              "#fde725"
             ]
            ],
            "type": "heatmap"
           }
          ],
          "heatmapgl": [
           {
            "colorbar": {
             "outlinewidth": 1,
             "tickcolor": "rgb(36,36,36)",
             "ticks": "outside"
            },
            "colorscale": [
             [
              0,
              "#440154"
             ],
             [
              0.1111111111111111,
              "#482878"
             ],
             [
              0.2222222222222222,
              "#3e4989"
             ],
             [
              0.3333333333333333,
              "#31688e"
             ],
             [
              0.4444444444444444,
              "#26828e"
             ],
             [
              0.5555555555555556,
              "#1f9e89"
             ],
             [
              0.6666666666666666,
              "#35b779"
             ],
             [
              0.7777777777777778,
              "#6ece58"
             ],
             [
              0.8888888888888888,
              "#b5de2b"
             ],
             [
              1,
              "#fde725"
             ]
            ],
            "type": "heatmapgl"
           }
          ],
          "histogram": [
           {
            "marker": {
             "line": {
              "color": "white",
              "width": 0.6
             }
            },
            "type": "histogram"
           }
          ],
          "histogram2d": [
           {
            "colorbar": {
             "outlinewidth": 1,
             "tickcolor": "rgb(36,36,36)",
             "ticks": "outside"
            },
            "colorscale": [
             [
              0,
              "#440154"
             ],
             [
              0.1111111111111111,
              "#482878"
             ],
             [
              0.2222222222222222,
              "#3e4989"
             ],
             [
              0.3333333333333333,
              "#31688e"
             ],
             [
              0.4444444444444444,
              "#26828e"
             ],
             [
              0.5555555555555556,
              "#1f9e89"
             ],
             [
              0.6666666666666666,
              "#35b779"
             ],
             [
              0.7777777777777778,
              "#6ece58"
             ],
             [
              0.8888888888888888,
              "#b5de2b"
             ],
             [
              1,
              "#fde725"
             ]
            ],
            "type": "histogram2d"
           }
          ],
          "histogram2dcontour": [
           {
            "colorbar": {
             "outlinewidth": 1,
             "tickcolor": "rgb(36,36,36)",
             "ticks": "outside"
            },
            "colorscale": [
             [
              0,
              "#440154"
             ],
             [
              0.1111111111111111,
              "#482878"
             ],
             [
              0.2222222222222222,
              "#3e4989"
             ],
             [
              0.3333333333333333,
              "#31688e"
             ],
             [
              0.4444444444444444,
              "#26828e"
             ],
             [
              0.5555555555555556,
              "#1f9e89"
             ],
             [
              0.6666666666666666,
              "#35b779"
             ],
             [
              0.7777777777777778,
              "#6ece58"
             ],
             [
              0.8888888888888888,
              "#b5de2b"
             ],
             [
              1,
              "#fde725"
             ]
            ],
            "type": "histogram2dcontour"
           }
          ],
          "mesh3d": [
           {
            "colorbar": {
             "outlinewidth": 1,
             "tickcolor": "rgb(36,36,36)",
             "ticks": "outside"
            },
            "type": "mesh3d"
           }
          ],
          "parcoords": [
           {
            "line": {
             "colorbar": {
              "outlinewidth": 1,
              "tickcolor": "rgb(36,36,36)",
              "ticks": "outside"
             }
            },
            "type": "parcoords"
           }
          ],
          "pie": [
           {
            "automargin": true,
            "type": "pie"
           }
          ],
          "scatter": [
           {
            "fillpattern": {
             "fillmode": "overlay",
             "size": 10,
             "solidity": 0.2
            },
            "type": "scatter"
           }
          ],
          "scatter3d": [
           {
            "line": {
             "colorbar": {
              "outlinewidth": 1,
              "tickcolor": "rgb(36,36,36)",
              "ticks": "outside"
             }
            },
            "marker": {
             "colorbar": {
              "outlinewidth": 1,
              "tickcolor": "rgb(36,36,36)",
              "ticks": "outside"
             }
            },
            "type": "scatter3d"
           }
          ],
          "scattercarpet": [
           {
            "marker": {
             "colorbar": {
              "outlinewidth": 1,
              "tickcolor": "rgb(36,36,36)",
              "ticks": "outside"
             }
            },
            "type": "scattercarpet"
           }
          ],
          "scattergeo": [
           {
            "marker": {
             "colorbar": {
              "outlinewidth": 1,
              "tickcolor": "rgb(36,36,36)",
              "ticks": "outside"
             }
            },
            "type": "scattergeo"
           }
          ],
          "scattergl": [
           {
            "marker": {
             "colorbar": {
              "outlinewidth": 1,
              "tickcolor": "rgb(36,36,36)",
              "ticks": "outside"
             }
            },
            "type": "scattergl"
           }
          ],
          "scattermapbox": [
           {
            "marker": {
             "colorbar": {
              "outlinewidth": 1,
              "tickcolor": "rgb(36,36,36)",
              "ticks": "outside"
             }
            },
            "type": "scattermapbox"
           }
          ],
          "scatterpolar": [
           {
            "marker": {
             "colorbar": {
              "outlinewidth": 1,
              "tickcolor": "rgb(36,36,36)",
              "ticks": "outside"
             }
            },
            "type": "scatterpolar"
           }
          ],
          "scatterpolargl": [
           {
            "marker": {
             "colorbar": {
              "outlinewidth": 1,
              "tickcolor": "rgb(36,36,36)",
              "ticks": "outside"
             }
            },
            "type": "scatterpolargl"
           }
          ],
          "scatterternary": [
           {
            "marker": {
             "colorbar": {
              "outlinewidth": 1,
              "tickcolor": "rgb(36,36,36)",
              "ticks": "outside"
             }
            },
            "type": "scatterternary"
           }
          ],
          "surface": [
           {
            "colorbar": {
             "outlinewidth": 1,
             "tickcolor": "rgb(36,36,36)",
             "ticks": "outside"
            },
            "colorscale": [
             [
              0,
              "#440154"
             ],
             [
              0.1111111111111111,
              "#482878"
             ],
             [
              0.2222222222222222,
              "#3e4989"
             ],
             [
              0.3333333333333333,
              "#31688e"
             ],
             [
              0.4444444444444444,
              "#26828e"
             ],
             [
              0.5555555555555556,
              "#1f9e89"
             ],
             [
              0.6666666666666666,
              "#35b779"
             ],
             [
              0.7777777777777778,
              "#6ece58"
             ],
             [
              0.8888888888888888,
              "#b5de2b"
             ],
             [
              1,
              "#fde725"
             ]
            ],
            "type": "surface"
           }
          ],
          "table": [
           {
            "cells": {
             "fill": {
              "color": "rgb(237,237,237)"
             },
             "line": {
              "color": "white"
             }
            },
            "header": {
             "fill": {
              "color": "rgb(217,217,217)"
             },
             "line": {
              "color": "white"
             }
            },
            "type": "table"
           }
          ]
         },
         "layout": {
          "annotationdefaults": {
           "arrowhead": 0,
           "arrowwidth": 1
          },
          "autotypenumbers": "strict",
          "coloraxis": {
           "colorbar": {
            "outlinewidth": 1,
            "tickcolor": "rgb(36,36,36)",
            "ticks": "outside"
           }
          },
          "colorscale": {
           "diverging": [
            [
             0,
             "rgb(103,0,31)"
            ],
            [
             0.1,
             "rgb(178,24,43)"
            ],
            [
             0.2,
             "rgb(214,96,77)"
            ],
            [
             0.3,
             "rgb(244,165,130)"
            ],
            [
             0.4,
             "rgb(253,219,199)"
            ],
            [
             0.5,
             "rgb(247,247,247)"
            ],
            [
             0.6,
             "rgb(209,229,240)"
            ],
            [
             0.7,
             "rgb(146,197,222)"
            ],
            [
             0.8,
             "rgb(67,147,195)"
            ],
            [
             0.9,
             "rgb(33,102,172)"
            ],
            [
             1,
             "rgb(5,48,97)"
            ]
           ],
           "sequential": [
            [
             0,
             "#440154"
            ],
            [
             0.1111111111111111,
             "#482878"
            ],
            [
             0.2222222222222222,
             "#3e4989"
            ],
            [
             0.3333333333333333,
             "#31688e"
            ],
            [
             0.4444444444444444,
             "#26828e"
            ],
            [
             0.5555555555555556,
             "#1f9e89"
            ],
            [
             0.6666666666666666,
             "#35b779"
            ],
            [
             0.7777777777777778,
             "#6ece58"
            ],
            [
             0.8888888888888888,
             "#b5de2b"
            ],
            [
             1,
             "#fde725"
            ]
           ],
           "sequentialminus": [
            [
             0,
             "#440154"
            ],
            [
             0.1111111111111111,
             "#482878"
            ],
            [
             0.2222222222222222,
             "#3e4989"
            ],
            [
             0.3333333333333333,
             "#31688e"
            ],
            [
             0.4444444444444444,
             "#26828e"
            ],
            [
             0.5555555555555556,
             "#1f9e89"
            ],
            [
             0.6666666666666666,
             "#35b779"
            ],
            [
             0.7777777777777778,
             "#6ece58"
            ],
            [
             0.8888888888888888,
             "#b5de2b"
            ],
            [
             1,
             "#fde725"
            ]
           ]
          },
          "colorway": [
           "#1F77B4",
           "#FF7F0E",
           "#2CA02C",
           "#D62728",
           "#9467BD",
           "#8C564B",
           "#E377C2",
           "#7F7F7F",
           "#BCBD22",
           "#17BECF"
          ],
          "font": {
           "color": "rgb(36,36,36)"
          },
          "geo": {
           "bgcolor": "white",
           "lakecolor": "white",
           "landcolor": "white",
           "showlakes": true,
           "showland": true,
           "subunitcolor": "white"
          },
          "hoverlabel": {
           "align": "left"
          },
          "hovermode": "closest",
          "mapbox": {
           "style": "light"
          },
          "paper_bgcolor": "white",
          "plot_bgcolor": "white",
          "polar": {
           "angularaxis": {
            "gridcolor": "rgb(232,232,232)",
            "linecolor": "rgb(36,36,36)",
            "showgrid": false,
            "showline": true,
            "ticks": "outside"
           },
           "bgcolor": "white",
           "radialaxis": {
            "gridcolor": "rgb(232,232,232)",
            "linecolor": "rgb(36,36,36)",
            "showgrid": false,
            "showline": true,
            "ticks": "outside"
           }
          },
          "scene": {
           "xaxis": {
            "backgroundcolor": "white",
            "gridcolor": "rgb(232,232,232)",
            "gridwidth": 2,
            "linecolor": "rgb(36,36,36)",
            "showbackground": true,
            "showgrid": false,
            "showline": true,
            "ticks": "outside",
            "zeroline": false,
            "zerolinecolor": "rgb(36,36,36)"
           },
           "yaxis": {
            "backgroundcolor": "white",
            "gridcolor": "rgb(232,232,232)",
            "gridwidth": 2,
            "linecolor": "rgb(36,36,36)",
            "showbackground": true,
            "showgrid": false,
            "showline": true,
            "ticks": "outside",
            "zeroline": false,
            "zerolinecolor": "rgb(36,36,36)"
           },
           "zaxis": {
            "backgroundcolor": "white",
            "gridcolor": "rgb(232,232,232)",
            "gridwidth": 2,
            "linecolor": "rgb(36,36,36)",
            "showbackground": true,
            "showgrid": false,
            "showline": true,
            "ticks": "outside",
            "zeroline": false,
            "zerolinecolor": "rgb(36,36,36)"
           }
          },
          "shapedefaults": {
           "fillcolor": "black",
           "line": {
            "width": 0
           },
           "opacity": 0.3
          },
          "ternary": {
           "aaxis": {
            "gridcolor": "rgb(232,232,232)",
            "linecolor": "rgb(36,36,36)",
            "showgrid": false,
            "showline": true,
            "ticks": "outside"
           },
           "baxis": {
            "gridcolor": "rgb(232,232,232)",
            "linecolor": "rgb(36,36,36)",
            "showgrid": false,
            "showline": true,
            "ticks": "outside"
           },
           "bgcolor": "white",
           "caxis": {
            "gridcolor": "rgb(232,232,232)",
            "linecolor": "rgb(36,36,36)",
            "showgrid": false,
            "showline": true,
            "ticks": "outside"
           }
          },
          "title": {
           "x": 0.05
          },
          "xaxis": {
           "automargin": true,
           "gridcolor": "rgb(232,232,232)",
           "linecolor": "rgb(36,36,36)",
           "showgrid": false,
           "showline": true,
           "ticks": "outside",
           "title": {
            "standoff": 15
           },
           "zeroline": false,
           "zerolinecolor": "rgb(36,36,36)"
          },
          "yaxis": {
           "automargin": true,
           "gridcolor": "rgb(232,232,232)",
           "linecolor": "rgb(36,36,36)",
           "showgrid": false,
           "showline": true,
           "ticks": "outside",
           "title": {
            "standoff": 15
           },
           "zeroline": false,
           "zerolinecolor": "rgb(36,36,36)"
          }
         }
        },
        "title": {
         "font": {
          "color": "Black",
          "size": 22
         },
         "text": "<b>Documents and Topics</b>",
         "x": 0.5,
         "xanchor": "center",
         "yanchor": "top"
        },
        "width": 1200,
        "xaxis": {
         "visible": false
        },
        "yaxis": {
         "visible": false
        }
       }
      }
     },
     "metadata": {},
     "output_type": "display_data"
    }
   ],
   "source": [
    "model.visualize_documents(questions)"
   ]
  },
  {
   "cell_type": "code",
   "execution_count": 10,
   "metadata": {},
   "outputs": [],
   "source": [
    "#USING DIFFERENT WORD EMBEDDINGS\n",
    "#USING SENTENCE TRANSFORMER\n",
    "\"\"\"\n",
    "    The all-mpnet-base-v2 model provides superior accuracy and a deeper understanding of the context and nuances in the text.\n",
    "    Given the manageable size of your dataset (200-300 questions), \n",
    "    the additional computational resources required by this model are justified by the improved performance and precision.  \n",
    "    Recommendation : huggingface transformer model sentence-transformers/stsb-roberta-large is best for this with best accuracy as far as i could find,\n",
    "    but requires so much computation my little laptop cannot handle.\n",
    "    even this model all-mpnet-base-v2 is heavy but i can manage it. like it takes 4-5 minutes to run the model.  \n",
    "\"\"\"\n",
    "sentence_model = SentenceTransformer('all-mpnet-base-v2')"
   ]
  },
  {
   "cell_type": "code",
   "execution_count": 11,
   "metadata": {},
   "outputs": [],
   "source": [
    "model  = BERTopic(embedding_model=sentence_model)\n",
    "topics, probs = model.fit_transform(questions)"
   ]
  },
  {
   "cell_type": "code",
   "execution_count": 12,
   "metadata": {},
   "outputs": [
    {
     "data": {
      "text/html": [
       "<div>\n",
       "<style scoped>\n",
       "    .dataframe tbody tr th:only-of-type {\n",
       "        vertical-align: middle;\n",
       "    }\n",
       "\n",
       "    .dataframe tbody tr th {\n",
       "        vertical-align: top;\n",
       "    }\n",
       "\n",
       "    .dataframe thead th {\n",
       "        text-align: right;\n",
       "    }\n",
       "</style>\n",
       "<table border=\"1\" class=\"dataframe\">\n",
       "  <thead>\n",
       "    <tr style=\"text-align: right;\">\n",
       "      <th></th>\n",
       "      <th>Topic</th>\n",
       "      <th>Count</th>\n",
       "      <th>Name</th>\n",
       "      <th>Representation</th>\n",
       "      <th>Representative_Docs</th>\n",
       "    </tr>\n",
       "  </thead>\n",
       "  <tbody>\n",
       "    <tr>\n",
       "      <th>0</th>\n",
       "      <td>-1</td>\n",
       "      <td>18</td>\n",
       "      <td>-1_the_of_in_india</td>\n",
       "      <td>[the, of, in, india, to, and, revolution, as, ...</td>\n",
       "      <td>[Why are the tribals in India referred to as '...</td>\n",
       "    </tr>\n",
       "    <tr>\n",
       "      <th>1</th>\n",
       "      <td>0</td>\n",
       "      <td>201</td>\n",
       "      <td>0_the_of_in_and</td>\n",
       "      <td>[the, of, in, and, india, to, discuss, is, how...</td>\n",
       "      <td>[Examine the role of ‘Gig Economy’ in the proc...</td>\n",
       "    </tr>\n",
       "    <tr>\n",
       "      <th>2</th>\n",
       "      <td>1</td>\n",
       "      <td>16</td>\n",
       "      <td>1_the_art_of_architecture</td>\n",
       "      <td>[the, art, of, architecture, and, indian, in, ...</td>\n",
       "      <td>[Assess the importance of the accounts of the ...</td>\n",
       "    </tr>\n",
       "  </tbody>\n",
       "</table>\n",
       "</div>"
      ],
      "text/plain": [
       "   Topic  Count                       Name  \\\n",
       "0     -1     18         -1_the_of_in_india   \n",
       "1      0    201            0_the_of_in_and   \n",
       "2      1     16  1_the_art_of_architecture   \n",
       "\n",
       "                                      Representation  \\\n",
       "0  [the, of, in, india, to, and, revolution, as, ...   \n",
       "1  [the, of, in, and, india, to, discuss, is, how...   \n",
       "2  [the, art, of, architecture, and, indian, in, ...   \n",
       "\n",
       "                                 Representative_Docs  \n",
       "0  [Why are the tribals in India referred to as '...  \n",
       "1  [Examine the role of ‘Gig Economy’ in the proc...  \n",
       "2  [Assess the importance of the accounts of the ...  "
      ]
     },
     "execution_count": 12,
     "metadata": {},
     "output_type": "execute_result"
    }
   ],
   "source": [
    "model.get_topic_info()"
   ]
  },
  {
   "cell_type": "code",
   "execution_count": 13,
   "metadata": {},
   "outputs": [],
   "source": [
    "from sklearn.manifold import TSNE\n",
    "import matplotlib.pyplot as plt\n",
    "import numpy as np\n",
    "embeddings = model._extract_embeddings(questions)\n",
    "tsne = TSNE(n_components=2,random_state=42)\n",
    "reduced = tsne.fit_transform(embeddings)"
   ]
  },
  {
   "cell_type": "code",
   "execution_count": 14,
   "metadata": {},
   "outputs": [
    {
     "data": {
      "image/png": "[encoded data removed]",
      "text/plain": [
       "<Figure size 1000x500 with 1 Axes>"
      ]
     },
     "metadata": {},
     "output_type": "display_data"
    }
   ],
   "source": [
    "plt.figure(figsize=(10,5))\n",
    "plt.scatter(reduced[:,0], reduced[:,1])\n",
    "plt.title(\"TSNE of Questions\")\n",
    "plt.xlabel(\"TSNE 1\")\n",
    "plt.ylabel(\"TSNE 2\")\n",
    "plt.show()"
   ]
  },
  {
   "cell_type": "code",
   "execution_count": 15,
   "metadata": {},
   "outputs": [
    {
     "data": {
      "application/vnd.plotly.v1+json": {
       "config": {
        "plotlyServerURL": "https://plot.ly"
       },
       "data": [
        {
         "hoverinfo": "text",
         "hovertext": [
          "Examine how the decline of traditional artisanal industry in colonial India crippled the rural economy.",
          "Why are the tribals in India referred to as 'the Scheduled Tribes? Indicate the major provisions in the Constitution of India for their upliftment.",
          "Defining blue revolution, explain the problems and strategies for pisciculture development in India.",
          "The states of Jammu and Kashmir, Himachal Pradesh and Uttarakhand are reaching the limits of ecological carrying capacity due to tourism. Critically evaluate.",
          "Why was there a sudden spurt in famines in colonial India since the mid-eighteenth century? Give reasons.",
          "Why did the Green Revolution in India virtually by-pass the eastern region despite fertile soil and good availability of water?",
          "‘Latecomer’ Industrial Revolution in Japan involved certain factors that were markedly different from what West had experienced.” Analyze.",
          "Why did the industrial revolution first occur in England? Discuss the quality of life of the people there during the industrialization. How does it compare with that in India at present times?",
          "Mention the advantages of the cultivation of pulses because of which the year 2016 was declared as the International Year of Pulses by United Nations.",
          "Taxila university was one of the oldest universities of the world with which were associated a number of renowned learned personalities of different disciplines. Its strategic location caused its fame to flourish, but unlike Nalanda, it is not considered as a university in the modern sense. Discuss.",
          "Identify and discuss the factors responsible for diversity of natural vegetation in India. Assess the significance of wildlife sanctuaries in rain forests regions of India.",
          "To what extent has the urban planning and culture of the Indus Valley Civilization provided inputs to the present day urbanization?\nDiscuss.",
          "The ancient civilization in Indian sub continent differed from those of Egypt , Mesopotamia and Greece in that its culture and traditions have been preserved without breakdown to the present day. Comment",
          "What were the major technological changes introduced during the Sultanate period? How did those technological changes influence the Indian society?",
          "Discuss whether formation of new states in recent times is beneficial or not for the economy of India.",
          "Explain the role of geographical factors towards the development of Ancient India.",
          "From being net food importer in 1960s, India has emerged as a net food exporter to the world. Provide reasons.",
          "Evaluate the nature of the Bhakti Literature and its contribution to Indian culture.",
          null
         ],
         "marker": {
          "color": "#CFD8DC",
          "opacity": 0.5,
          "size": 5
         },
         "mode": "markers+text",
         "name": "other",
         "showlegend": false,
         "type": "scattergl",
         "x": [
          9.62016487121582,
          10.994283676147461,
          9.195292472839355,
          6.006144046783447,
          9.773994445800781,
          9.292723655700684,
          9.817850112915039,
          9.896415710449219,
          8.773469924926758,
          13.202678680419922,
          6.0926642417907715,
          9.143160820007324,
          10.83519172668457,
          9.58146858215332,
          9.98742389678955,
          9.453879356384277,
          8.83691120147705,
          13.093929290771484,
          9.64431381225586
         ],
         "y": [
          3.1400980949401855,
          2.397214889526367,
          2.1464552879333496,
          0.43399491906166077,
          3.29089093208313,
          2.1773507595062256,
          3.342973470687866,
          3.4089605808258057,
          2.344207525253296,
          3.134570360183716,
          0.5231176614761353,
          1.6226669549942017,
          1.75435209274292,
          2.577791690826416,
          2.535950183868408,
          2.2052483558654785,
          2.3304333686828613,
          2.9094138145446777,
          2.348649263381958
         ]
        },
        {
         "hoverinfo": "text",
         "hovertext": [
          "In the context of the diversity of India, can it be said that the regions form cultural units rather than the States? Give reasons with examples for your view point.",
          "Mention the significance of straits and isthmus in international trade.",
          "What characteristics can be assigned to monsoon climate that succeeds in feeding more than 50 percent of the world population residing in Monsoon Asia?",
          "Account for variations in oceanic salinity and discuss its multi-dimensional effects.",
          "Examine the potential of wind energy in India and explain the reasons for their limited spatial spread.",
          "Comment on the resource potentials of the long coastline of India and highlight the status of natural hazard preparedness in these areas.",
          "What are the forces that influence ocean currents? Describe their role in fishing industry of the world.",
          "Petroleum refineries are not necessarily located nearer to crude oil producing areas, particularly in many of the developing countries. Explain its implications.",
          "Assess the role of British imperial power in complicating the process of transfer of power during the 1940s.",
          "What do you understand by the phenomenon of ‘temperature inversion’ in meteorology? How does it affect weather and the habitants of the place?",
          "“In many ways, Lord Dalhousie was the founder of modern India.” Elaborate.",
          "Discuss the multi-dimensional implications of uneven distribution of mineral oil in the world.",
          "Discuss the natural resource potentials of ‘Deccan trap’.",
          "Account for the huge flooding of million cities in India including the smart ones like Hyderabad and Pune. Suggest lasting remedial measures.",
          "Several foreigners made India their homeland and participated in various movements.\nAnalyze their role in the Indian struggle for freedom.",
          "“Inspite of adverse environmental impact, coal mining is still inevitable for development”.\nDiscuss",
          "How are the fjords formed? Why do they constitute some of the most picturesque areas of the world?",
          "How the Indian concept of secularism different from the western model of secularism?\nDiscuss.",
          "The life cycle of a joint family depends on economic factors rather than social values. Discuss.",
          "Smart cities in India cannot sustain without smart vilages. Discuss this statement in the backdrop of rural urban integration.",
          "With a brief background of quality of urban life in India, introduce the objectives and strategy of the 'Smart City Programme'.",
          "Are we losing our local identity for the global identity? Discuss.",
          "It is said that India has substantial reserves of shale oil and gas, which can feed the needs of the country for quarter century. However, tapping of the resource does not appear to be high on the agenda. Discuss critically the availability and issues involved.",
          "Tropical cyclones are largely confined to South China Sea, Bay of Bengal and Gulf of Mexico. Why?",
          "Has caste lost its relevance in understanding the multi- cultural Indian Society? Elaborate your answer with illustrations.",
          "Many voices had strengthened and enriched the nationalist movement during the Gandhian phase. Elaborate.",
          "With growing scarcity of fossil fuels, the atomic energy is gaining more and more significance in India. Discuss the availability of raw material required for the generation of atomic energy in India and in the world.",
          "Do you agree that regionalism in India appears to be a consequence of rising cultural assertiveness? Argue.",
          "Analyze the circumstances that led to the Tashkent Agreement in 1966. Discuss the highlights of the Agreement.",
          "How do ocean currents and water masses differ in their impacts on marine life and coastal environment? Give suitable examples.",
          "The interlinking of rivers can provide viable solutions to the multi-dimensional inter-related problems of droughts, floods and interrupted navigation. Critically examine.",
          "Explain how the Uprising of 1857 constitutes an important watershed in the evolution of British policies towards colonial India.",
          "“Caste system is assuming new identities and associational forms. Hence, caste system cannot be eradicated in India.”",
          "To what extent did the role of the moderates prepare a base for the wider freedom movement? Comment.",
          "Bring out the constructive programmes of Mahatma Gandhi during Non-Cooperation Movement and Civil Disobedience Movement.",
          "The political and administrative reorganization of states and territories has been a continuous ongoing process since the mid-nineteenth century. Discuss with examples.",
          "Why did the armies of the British East India Company – mostly comprising of Indian soldiers – win consistently against the more numerous and better equipped armies of the Indian rulers? Give reasons.",
          "Analyze the factors for the highly decentralized cotton textile industry in India.",
          "Clarify how mid-eighteenth century India was beset with the spectre of a fragmented polity.",
          "How far do you agree that the behaviour of the Indian monsoon has been changing due to humanizing landscape? Discuss.",
          "Discuss the factors for localisation of agro-based food processing industries of North-West India.",
          "Explain the formation of thousands of islands in Indonesian and Philipines archipelagos.",
          "The women’s questions arose in modern India as a part of the 19th century social reform movement. What are the major issues and debates concerning women in that period?",
          "What is Cryptocurrency? How does it affect global society? Has it been affecting Indian society also?",
          "Account for the present location of iron and steel industries away from the source of raw material, by giving examples.",
          "Assess the main administrative issues and socio-cultural problems in the integration process of Indian Princely States.",
          "There is no formation of deltas by rivers on the Western Ghats. Why?",
          "Why is India considered as a sub-continent? Elaborate your answer.",
          "What were the major political, economic and social developments in the world which motivated the anti-colonial in India?",
          "To what extent globalization has influenced the core of cultural diversity in India? Explain.",
          "Though not very useful from the point of view of a connected political history of South India, the Sangam literature portrays the social and economic conditions of its time with remarkable vividness. Comment.",
          "Do you think marriage as a sacrament in loosing its value in Modern India?",
          "Mahatma Gandhi and Dr. B R Ambedkar, despite having divergent approaches and strategies, had a common goal of amelioration of the downtrodden. Elucidate.",
          "‘Communalism arises either due to power struggle or relative deprivation.’ Argue by giving suitable illustrations.",
          "“Africa was chopped into states artificially created by accidents of European competition.” Analyze.",
          "Examine critically the various facets of economic policies of the British in India from mid-eighteenth century till independence.",
          "Why is the world today confronted with a crisis of availability of and access to freshwater resources?",
          "How is efficient and affordable urban mass transport key to the rapid economic development in India?",
          "In what ways did the navel mutiny prove to be the last nail in the coffin of British colonial aspirations in India?",
          "How does the cryosphere affect global climate?",
          "what are the environmental implications of the reclamation of the water bodies into urban land use? Explain with examples.",
          "Explain the factors responsible for the origin of ocean currents. How do they influence regional climates, fishing and navigation?",
          "The 1857 uprising was the culmination of the recurrent, big and small local rebellions that had occurred in the preceding hundred years of British rule. Elucidate.",
          "Write a critical note on the evolution and significance of the slogan, ‘Jai Jawan, Jai Kisan’.",
          "The spirit of tolerance and love is not only an interesting feature of Indian society from very early times, but it is also playing an important part at the present. Elaborate.",
          "Discuss the impact of post-liberal economy on ethnic identity and communalism.",
          "How does Indian society maintain continuity in traditional social values? Enumerate the changes taking place in it.",
          "How will the melting of Himalayan glaciers have a far- reaching impact on the water resources of India?",
          "How difficult would have been the achievement of Indian independence without Mahatma Gandhi? Discuss.",
          "It would have been difficult for the Constituent Assembly to complete its historic task of drafting the Constitution for Independent India in just three years, but its experience gained with the Government of India Act, 1935\n.Discuss.",
          "Why are the world’s fold mountain systems located along the margins of continents? Bring out the association between the global distribution of fold mountains and the earthquakes and volcanoes.",
          "‘Women’s movement in India has not addressed the issues of women of lower social strata.’ Substantiate your view.",
          "How can the mountain ecosystem be restored from the negative impact of development initiatives and tourism?",
          "In what way can floods be converted into a sustainable source of irrigation and all-weather inland navigation in India?",
          "Child cuddling is now being replaced by mobile phones. Discuss its impact on the socialization of children.",
          "Briefly mention the alignment of major mountain ranges of the world and explain their impact on local weather conditions, with examples.",
          "Examine the uniqueness of tribal knowledge system when compared with mainstream knowledge and cultural systems.",
          "Critically discuss the objectives of Bhoodan and Gramdan movements initiated by AcharyaVinobhaBhave and their success.",
          "Discuss the changes in the trends of labour migration within and outside India in the last four decades.",
          "Bring out the causes for more frequent occurrence of landslides in the Himalayas than in the Western Ghats.",
          "Major hot deserts in northern hemisphere are located between 20-30 deg N latitudes and on the western sides of the continents. Why?",
          "Present an account of the Indus Water Treaty and examine its ecological, economic and political implications in the context of changing bilateral relations.",
          "Discuss the contributions of MaulanaAbulKalam Azad to pre- and post-independent India.",
          "\"The Himalayas are highly prone to landslides.\" Discuss the causes and suggest suitable measures of mitigation.",
          "Are tolerance, assimilation and pluralism the key elements in the making of an Indian form of secularism? Justify your answer.",
          "Critically examine whether growing population is the cause of poverty OR poverty is the mains cause of population increase in India.",
          "Examine the status of forest resources of India and its resultant impact on climate change.",
          "Explore and evaluate the impact of ‘Work From Home’ on family relationships.",
          "Discuss the various social problems which originated out of the speedy process of urbanization in India.",
          "Has the formation of linguistic States strengthened the cause of Indian Unity?",
          "Can the strategy of regional resource-based manufacturing help in promoting employment in India?",
          "What is the basis of regionalism? Is it that unequal distribution of benefits of development on regional basis eventually promotes regionalism? Substantiate your answer.",
          "How did the colonial rule affect the tribals in India and what was the tribal response to the colonial oppression?",
          "What are the consequences of spreading of ‘Dead Zones’ on marine ecosystem?",
          "Discuss the main objectives of Population Education and point out the measures to achieve them in India in detail.",
          "Why did the ‘Moderates’ failed to carry conviction with the nation about their proclaimed ideology and political goals by the end of the nineteenth century?",
          "Mumbai, Delhi and Kolkata are the three Mega cities of the country but the air pollution is much more serious probelm in Delhi as compared to the other two. Why is this so?",
          "‘Despite implementation of various programmes for eradication of poverty by the government in India, poverty is still existing’. Explain by giving reasons.",
          "COVID-19 pandemic accelerated class inequalities and poverty in India. Comment.",
          "How have digital initiatives in India contributed to the functioning of the education system in the country? Elaborate your answer.",
          "” There arose a serious challenge to the Democratic State System between the two World Wars.” Evaluate the statement.",
          "Customs and traditions suppress reason leading to obscurantism. Do you agree?",
          "Why is Indian Regional Navigational Satellite System (IRNSS) needed? How does it help in navigation?",
          "What were the events that led to the Suez Crisis in 1956? How did it deal a final blow to Britain’s self-image as a world power?",
          "Explain why suicide among young women is increasing in Indian Society.",
          "The Bhakti movement received a remarkable re-orientation with the advent of Sri Chaitanya Mahaprabhu. Discuss.",
          "Examine the role of ‘Gig Economy’ in the process of empowerment of women in India.",
          "To what extend can Germany be held responsible for causing the two World Wars? Discuss critically.",
          "Why indentured labour was taken by the British from India to their colonies? have they been able to preserve their cultural identity over there?",
          "Discuss the positive and negative effects of globalization on women in India?",
          "Discuss the geophysical characteristics of Circum- Pacific Zone.",
          "Analyze the salience of ‘sect’ in Indian society vis-a-vis caste, region and religion.",
          "Discuss the causes of depletion of mangroves and explain their importance in maintaining coastal ecology.",
          "Globalisation is generally said to promote cultural homogenisation but due to this cultural specificities appear to be strengthened in the Indian society.’ Elucidate.",
          "The effective management of land and water resources will drastically reduce the human miseries. Explain.",
          "Discuss the role of women in the freedom struggle especially during the Gandhian phase.",
          "What are the challenges to our cultural practices in the name of secularism?",
          "Why is India taking keen interest in the Arctic region?",
          "In what way micro-watershed development projects help in water conservation in\ndrought-prone and semi-arid regions of India?",
          "Bring out the causes for the formation of heat islands in the urban habitat of the world.",
          "Discuss the concept of air mass and explain its role in macro-climatic changes.",
          "Whereas the British planters had developed tea gardens all along the Shivaliks and Lesser Himalayas from Assam to Himachal Pradesh, in effect they did not succeed beyond the Darjeeling area. Explain.",
          "Discuss the meaning of colour-coded weather warnings for cyclone prone areas given by India Meteorological department.",
          "What are the economic significances of discovery of oil in Arctic Sea and its possible environemental consequences?",
          "“Male membership needs to be encouraged in order to make women’s organization free from gender bias.” Comment.",
          "What are the main features of Vedic society and religion? Do you think some of the features are still prevailing in Indian society?",
          "The New Economic Policy – 1921 of Lenin had influenced the policies adopted by India soon after independence. Evaluate.",
          "“The ideal solution of depleting ground water resources in India is water harvesting system.” How can it be made effective in urban areas?",
          "What was the difference between Mahatma Gandhi and Rabindranath Tagore in their approach towards education and nationalism?",
          "Defying the barriers of age, gender and religion, the Indian women became the torchbearer during the struggle for freedom in India. Discuss.",
          "\"An essential condition to eradicate poverty is to liberate the poor from the process of deprivation.\" Substantiate this statement with suitable examples.",
          "South China Sea has assumed great geopolitical significance in the present context. Comment.",
          "Describe the characteristics and types of primary rocks.",
          "Critically examine the compulsions which prompted India to play a decisive role in the emergence of Bangladesh.",
          "Highlight the differences in the approach of Subhash Chandra Bose and Mahatma Gandhi in the struggle for freedom.",
          "What policy instruments were deployed to contain the Great Economic Depression?",
          "What do you understand by the theory of continental drift? Discuss the prominent evidences in its support.",
          "Does urbanization lead to more segregation and/or marginalization of the poor in Indian metropolises?",
          "Differentiate the causes of landslides in the Himalayan region and Western Ghats.",
          "How does India see its place in the economic space of rising natural resources rich Africa?",
          "Define mantle plume and explain its role in plate tectonics.",
          "What are the two major legal initiatives by the State since Independence addressing discrimination against Scheduled Tribes(STs)?",
          "Troposphere is a very significant atmospheric layer that determines weather processes.\nHow?",
          "Krishnadeva Raya, the King of Vijayanagar, was not only an accomplished scholar himself but was also a great patron of learning and literature. Discuss.",
          "India has immense potential of solar energy though there are regional variations in its developments. Elaborate.",
          "Sufis and medieval saints failed to modify either the religious ideas and practices or the outward structure of Hindu/ Muslim societies to any appreciable extent. Comment.",
          "What problems are germane to the decolonization process in the Malay Peninsula?",
          "“Empowering women is the key to control population growth.” Discuss.",
          "Mention the global occurrence of volcanic eruptions in 2021 and their impact on regional environment.",
          "The third battle of Panipat was fought in 1761. Why were so many empire-shaking battles fought at Panipat?",
          "Mention core strategies for the transformation of aspirational districts in India and explain the nature of convergence, collaboration and competition for its success.",
          "Evaluate the policies of Lord Curzon and their long term implications on the national movements.",
          "Major cities of India are becoming more vulnerable to flood conditions. Discuss.",
          "Why is the South-West monsoon called ‘Purvaiya’ (easterly) in Bhojpur Region? How has this directional seasonal wind system influenced the cultural ethos of the region?",
          "Why is caste identity in India both fluid and static?",
          "Most of the unusual climatic happenings are explained as an outcome of the El-Nino effect. Do you agree?",
          "Describe any four cultural elements of diversity in India and rate their relative significance in building a national identity.",
          "Distinguish between religiousness/religiosity and communalism giving one example of how the former has got transformed into the latter in independent India.",
          "Describing the distribution of rubber producing countries, indicate the major environmental issues faced by them.",
          "What is water stress? How and why does it differ regionally in India?",
          "India is well endowed with fresh water resources. Critically examine why it still suffers from water scarcity.",
          "Bring out the socio-economic effects of the introduction of railways in different countries of the world",
          "Debate the issue whether and how contemporary movements for assertion of Dalit identity work towards annihilation of caste.",
          "Highlight the importance of the new objectives that got added to the vision of Indian Independence since the twenties of the last century.",
          "Enumerate the problems and prospects of inland water transport in India.",
          "Critically evaluate the various resources of the oceans which can be harnessed to meet the resource crisis in the world.",
          "Despite India being one of the countries of the Gondwanaland, its mining industry contributes much less to its Gross Domestic Product(GDP) in percentage. Discuss.",
          "Elucidate the relationship between globalization and new technology in a world of scarce resources, with special reference to India.",
          "What is the significance of Industrial Corridors in India? Identifying industrial corridors, explain their main characteristics.",
          "How does patriarchy impact the position of a middle class working woman in India?",
          "What are the continued challenges for women in India against time and space?",
          "Why do some of the most prosperous regions of India have an adverse sex ratio for women? Give your arguments.",
          "How do you explain the statistics that show that the sex ratio in Tribes in India is more favourable to women than the sex ratio among Scheduled Castes?",
          "The recent cyclone on the east coast of India was called ‘Phailin’. How are the tropical cyclones named across the world? Elaborate.",
          "Do you agree that there is a growing trend of opening new sugar mills in southern states of India? Discuss with justification.",
          "Given the diversities among the tribal communities in India, in which specific contexts should they be considered as a single category?",
          "Examine the linkages between the nineteenth century’s ‘Indian Renaissance’ and the emergence of national identity.",
          "The anti-colonial struggles in West Africa were led by the new elite of Western-educated Africans.",
          "Critically examine the effect of globalization on the aged population in India.",
          "Why did human development fail to keep pace with economic development in India?",
          "Trace the rise and growth of socio-religious reform movements with special reference to Young Bengal and Brahmo Samaj.",
          "Throw light on the significance of the thoughts of Mahatma Gandhi in the present times.",
          "How does the Juno Mission of NASA help to understand the origin and evolution of the Earth?",
          "What makes the Indian society unique in sustaining its culture? Discuss.",
          "The process of desertification does not have climate boundaries. Justify with examples.",
          "How do the Indian debates on secularism differ from the debates in the West?",
          "Assess the impact of global warming on the coral life system with examples.",
          "Discuss the various economic and\nsocio-cultural forces that are driving increasing feminization of agriculture in India.",
          "Is diversity and pluralism in India under threat due to globalisation? Justify your answer.",
          "Discuss the consequences of climate change on the food security in tropical countries.",
          "“American Revolution was an economic revolt against mercantilism.” Substantiate.",
          "Since the decade of the 1920s, the national movement acquired various ideological strands and thereby expanded its social base. Discuss.",
          "How do the melting of the Arctic ice and glaciers of the Antarctic differently affect the weather patterns and human activities on the Earth? Explain.",
          "“The growth of cities as I.T. hubs has opened up new avenues of employment, but has also created new problems”. Substantiate this statement with examples",
          "What are the main socio-economic implications arising out of the development of IT industries in major cities of India?",
          "Bring out the relationship between the shrinking Himalayan glaciers and the symptoms of climate change in the Indian sub-continent.",
          "Account for the change in the spatial pattern of the Iron and Steel industry in the world.",
          "Do we have cultural pockets of small India all over the nation? Elaborate with examples.",
          "How is the growth of Tier 2 cities related to the rise of a new middle class with an emphasis on the culture of consumption?",
          "Growing feeling of regionalism is an important factor in generation of demand for a separate state. Discuss.",
          "Explain how the foundations of the modern world were laid by the American and French Revolutions.",
          null
         ],
         "marker": {
          "opacity": 0.5,
          "size": 5
         },
         "mode": "markers+text",
         "name": "0_the_of_in",
         "text": [
          "",
          "",
          "",
          "",
          "",
          "",
          "",
          "",
          "",
          "",
          "",
          "",
          "",
          "",
          "",
          "",
          "",
          "",
          "",
          "",
          "",
          "",
          "",
          "",
          "",
          "",
          "",
          "",
          "",
          "",
          "",
          "",
          "",
          "",
          "",
          "",
          "",
          "",
          "",
          "",
          "",
          "",
          "",
          "",
          "",
          "",
          "",
          "",
          "",
          "",
          "",
          "",
          "",
          "",
          "",
          "",
          "",
          "",
          "",
          "",
          "",
          "",
          "",
          "",
          "",
          "",
          "",
          "",
          "",
          "",
          "",
          "",
          "",
          "",
          "",
          "",
          "",
          "",
          "",
          "",
          "",
          "",
          "",
          "",
          "",
          "",
          "",
          "",
          "",
          "",
          "",
          "",
          "",
          "",
          "",
          "",
          "",
          "",
          "",
          "",
          "",
          "",
          "",
          "",
          "",
          "",
          "",
          "",
          "",
          "",
          "",
          "",
          "",
          "",
          "",
          "",
          "",
          "",
          "",
          "",
          "",
          "",
          "",
          "",
          "",
          "",
          "",
          "",
          "",
          "",
          "",
          "",
          "",
          "",
          "",
          "",
          "",
          "",
          "",
          "",
          "",
          "",
          "",
          "",
          "",
          "",
          "",
          "",
          "",
          "",
          "",
          "",
          "",
          "",
          "",
          "",
          "",
          "",
          "",
          "",
          "",
          "",
          "",
          "",
          "",
          "",
          "",
          "",
          "",
          "",
          "",
          "",
          "",
          "",
          "",
          "",
          "",
          "",
          "",
          "",
          "",
          "",
          "",
          "",
          "",
          "",
          "",
          "",
          "",
          "",
          "",
          "",
          "",
          "",
          "",
          "",
          "",
          "",
          "",
          "",
          "",
          "0_the_of_in"
         ],
         "textfont": {
          "size": 12
         },
         "type": "scattergl",
         "x": [
          10.200390815734863,
          5.652869701385498,
          5.155427932739258,
          5.166854381561279,
          7.700422763824463,
          5.972165584564209,
          5.060804843902588,
          6.800075054168701,
          10.739633560180664,
          4.473824501037598,
          12.011839866638184,
          6.796360492706299,
          6.187098026275635,
          5.675995826721191,
          11.620097160339355,
          6.970389366149902,
          4.942197322845459,
          12.215490341186523,
          10.622039794921875,
          8.848359107971191,
          8.858802795410156,
          10.569010734558105,
          6.958956718444824,
          5.072085857391357,
          11.498636245727539,
          11.882491111755371,
          7.550103187561035,
          10.0272855758667,
          10.66700553894043,
          4.9949798583984375,
          5.850044250488281,
          10.956411361694336,
          11.538525581359863,
          11.499482154846191,
          12.283018112182617,
          10.494283676147461,
          10.491262435913086,
          8.628755569458008,
          11.507043838500977,
          5.213685512542725,
          8.686893463134766,
          4.335743427276611,
          10.347067832946777,
          9.81806755065918,
          7.189594745635986,
          10.216072082519531,
          4.737905502319336,
          10.374361038208008,
          10.929903030395508,
          10.173578262329102,
          11.707676887512207,
          11.540937423706055,
          12.310691833496094,
          10.907917022705078,
          10.430044174194336,
          10.695775985717773,
          5.847428321838379,
          8.734313011169434,
          11.030877113342285,
          4.59305477142334,
          6.163285732269287,
          4.996792793273926,
          11.080802917480469,
          11.743459701538086,
          11.753612518310547,
          10.829545021057129,
          11.216397285461426,
          5.432011127471924,
          12.100061416625977,
          11.76390266418457,
          4.110377311706543,
          10.373553276062012,
          5.690337181091309,
          5.79847526550293,
          10.561942100524902,
          4.343789100646973,
          10.954585075378418,
          12.456341743469238,
          9.829665184020996,
          4.355141639709473,
          4.421575546264648,
          5.644332408905029,
          11.798383712768555,
          4.278835773468018,
          12.161515235900879,
          9.834890365600586,
          5.630101680755615,
          10.568410873413086,
          9.148021697998047,
          10.096776962280273,
          8.694750785827637,
          9.883563995361328,
          11.038237571716309,
          5.101923942565918,
          9.711889266967773,
          11.546384811401367,
          8.887402534484863,
          9.79605770111084,
          9.783266067504883,
          9.397725105285645,
          10.826275825500488,
          12.364961624145508,
          5.887355327606201,
          10.706419944763184,
          10.255134582519531,
          12.591462135314941,
          9.460195541381836,
          10.748870849609375,
          11.109919548034668,
          10.095429420471191,
          4.039805889129639,
          11.702986717224121,
          5.027797698974609,
          10.383885383605957,
          6.219583988189697,
          11.907752990722656,
          12.24014663696289,
          6.003291130065918,
          5.754562854766846,
          4.3952250480651855,
          4.466841697692871,
          10.021718978881836,
          5.267053127288818,
          5.845954418182373,
          10.36619758605957,
          11.271636009216309,
          10.73370361328125,
          5.870487213134766,
          12.134315490722656,
          11.914690017700195,
          9.786443710327148,
          5.677165508270264,
          4.190656661987305,
          11.410717010498047,
          12.220471382141113,
          10.556551933288574,
          4.2865142822265625,
          9.222342491149902,
          4.375408172607422,
          7.5549702644348145,
          4.084939479827881,
          10.94597339630127,
          4.510507106781006,
          12.874906539916992,
          7.673935890197754,
          12.400421142578125,
          10.611004829406738,
          9.993409156799316,
          4.124037742614746,
          10.416215896606445,
          9.38659381866455,
          11.430721282958984,
          5.565203666687012,
          5.197446346282959,
          11.526942253112793,
          4.990085124969482,
          10.921029090881348,
          11.500020027160645,
          6.673903942108154,
          5.688657283782959,
          5.7870988845825195,
          8.469820022583008,
          11.516227722167969,
          11.564582824707031,
          5.805683135986328,
          5.545701026916504,
          7.290670394897461,
          9.679399490356445,
          8.518010139465332,
          10.322592735290527,
          10.27929973602295,
          10.170622825622559,
          10.513155937194824,
          5.289341449737549,
          8.535670280456543,
          10.953315734863281,
          11.519011497497559,
          10.92984676361084,
          10.06828498840332,
          9.413360595703125,
          12.047951698303223,
          12.280722618103027,
          4.16756010055542,
          10.975381851196289,
          4.5987420082092285,
          12.248236656188965,
          5.051762104034424,
          10.053244590759277,
          10.290641784667969,
          5.2292890548706055,
          10.75416088104248,
          11.451745986938477,
          4.492164134979248,
          8.916285514831543,
          8.991266250610352,
          4.866738796234131,
          7.193841457366943,
          10.144341468811035,
          8.944205284118652,
          10.089735984802246,
          10.788922309875488,
          8.7666654586792
         ],
         "y": [
          2.168877124786377,
          1.4717165231704712,
          -0.28905895352363586,
          1.566564917564392,
          1.5863096714019775,
          0.3929207921028137,
          1.5683163404464722,
          1.190815806388855,
          3.855959892272949,
          0.509162187576294,
          3.389169692993164,
          1.2048125267028809,
          0.5224485993385315,
          -0.6856786012649536,
          3.231039047241211,
          1.1218165159225464,
          1.273860216140747,
          1.7332689762115479,
          0.9802262783050537,
          1.2075583934783936,
          1.2051570415496826,
          1.5954655408859253,
          1.1538723707199097,
          -0.43359309434890747,
          1.2238261699676514,
          3.5464510917663574,
          1.4897043704986572,
          2.039834499359131,
          3.907954692840576,
          1.540487289428711,
          -0.46420571208000183,
          3.583070755004883,
          1.1856731176376343,
          3.937101364135742,
          3.107304573059082,
          2.8855831623077393,
          3.5735456943511963,
          2.0518462657928467,
          2.92474627494812,
          -0.33732840418815613,
          2.151386260986328,
          1.0134998559951782,
          0.5086417198181152,
          1.1676896810531616,
          1.3516589403152466,
          2.3582687377929688,
          -0.1978370100259781,
          1.8875616788864136,
          3.090636968612671,
          1.5936962366104126,
          2.7216811180114746,
          1.3312091827392578,
          3.0739455223083496,
          1.2607749700546265,
          2.862553358078003,
          3.378995418548584,
          -0.1212610974907875,
          1.2855141162872314,
          3.445237159729004,
          0.6550859808921814,
          -0.2321617603302002,
          1.6096564531326294,
          3.5067453384399414,
          1.8926241397857666,
          1.7974544763565063,
          1.383608102798462,
          1.5277345180511475,
          0.048026904463768005,
          3.2508580684661865,
          3.357544183731079,
          0.5281350612640381,
          0.4054298400878906,
          0.2866951823234558,
          -0.5470007658004761,
          0.9668318629264832,
          0.4427488446235657,
          1.9980218410491943,
          2.823775291442871,
          1.5646275281906128,
          0.09809256345033646,
          0.4724210500717163,
          0.03500525653362274,
          3.3557188510894775,
          0.1721632331609726,
          1.7296274900436401,
          0.38353991508483887,
          0.4021078050136566,
          0.9420474171638489,
          1.3450735807418823,
          2.442469596862793,
          1.7451326847076416,
          2.226902484893799,
          2.857591152191162,
          1.4721565246582031,
          0.5358819961547852,
          3.8513810634613037,
          0.873879611492157,
          0.3464019000530243,
          0.598421037197113,
          0.9020844101905823,
          3.9728689193725586,
          1.8363922834396362,
          -0.5762239694595337,
          3.6999568939208984,
          0.44082003831863403,
          2.8598663806915283,
          1.1711878776550293,
          3.9868037700653076,
          3.103618621826172,
          1.0909171104431152,
          0.6530314087867737,
          1.636775255203247,
          1.536069631576538,
          1.638826608657837,
          -0.12711407244205475,
          2.940826416015625,
          1.7044273614883423,
          1.025570034980774,
          -0.4355809688568115,
          0.7069815397262573,
          0.7033818364143372,
          3.4663150310516357,
          -0.49544891715049744,
          1.2016505002975464,
          0.4030803143978119,
          1.6148535013198853,
          3.336822748184204,
          -0.46310558915138245,
          3.186225414276123,
          2.9083874225616455,
          0.2591974437236786,
          1.411450743675232,
          0.17557300627231598,
          3.204582452774048,
          3.1034862995147705,
          3.2669129371643066,
          1.0645960569381714,
          1.116851806640625,
          0.04753211513161659,
          1.2182945013046265,
          0.774013876914978,
          2.500725507736206,
          0.5906295776367188,
          3.170818567276001,
          1.571178674697876,
          1.9250752925872803,
          2.8942012786865234,
          0.3928578794002533,
          0.5494366884231567,
          3.5778539180755615,
          0.9393324851989746,
          3.914533853530884,
          -0.5391818881034851,
          -0.567057728767395,
          1.2895746231079102,
          -0.13271735608577728,
          1.8214712142944336,
          2.014981746673584,
          1.18339204788208,
          -0.458776593208313,
          -0.374077171087265,
          1.490868091583252,
          1.1493936777114868,
          3.3262672424316406,
          -0.340983510017395,
          1.3271232843399048,
          1.18668794631958,
          1.463850498199463,
          1.5943019390106201,
          0.5533528923988342,
          0.5745715498924255,
          0.48209816217422485,
          0.3563469350337982,
          -0.5694324374198914,
          2.0185768604278564,
          1.9772056341171265,
          3.057236909866333,
          3.091630458831787,
          1.4717822074890137,
          1.4540494680404663,
          2.0888757705688477,
          3.1195571422576904,
          0.8902285695075989,
          1.7549068927764893,
          0.4124067723751068,
          1.7383601665496826,
          1.468363642692566,
          0.7406666874885559,
          1.5753734111785889,
          0.36073747277259827,
          3.6317179203033447,
          3.9129984378814697,
          0.7078282833099365,
          1.2562402486801147,
          1.2838248014450073,
          0.30131497979164124,
          1.3871876001358032,
          1.9942224025726318,
          1.2226042747497559,
          2.4912893772125244,
          3.88198184967041,
          1.5346046686172485
         ]
        },
        {
         "hoverinfo": "text",
         "hovertext": [
          "Early Buddhist Stupa-art, while depicting folk motifs and narratives successfully expounds Buddhist ideals. Elucidate.",
          "Chola architecture represents a high watermark in the evolution of temple architecture. Discuss",
          "Persian literary sources of medieval India reflect the spirit of the age. Comment.",
          "Discuss the ‘Tandava’ dance as recorded in early Indian inscriptions.",
          "Pala period is the most significant phase in the history of Buddhism in India. Enumerate.",
          "Mesolithic rock cut architecture of India not only reflects the cultural life of the times but also a fine aesthetic sense comparable to modern painting. Critically evaluate this comment.",
          "How do you justify the view that the level of excellence of the Gupta numismatic art is not at all noticeable in later times?",
          "Discuss the main contributions of Gupta period and Chola period to Indian heritage and culture\n.",
          "Highlight the Central Asian and Greco Bactrian elements in the Gandhara art.",
          "Indian Philosophy and tradition played a significant role in conceiving and shaping the monuments and their art in India. Discuss.",
          "The rock-cut architecture represents one of the most important sources of our knowledge of early Indian art and history. Discuss.",
          "Assess the importance of the accounts of the Chinese and Arab travellers in the reconstruction of the history of India.",
          "Safeguarding the Indian art heritage is the need of the moment.",
          "How will you explain the medieval Indian temple sculptures represent the social life of those days?",
          "Gandhara sculpture owed as much to the Romans as to the Greeks. Explain.",
          "Discuss the significance of the lion and bull figures in Indian mythology, art and architecture.",
          null
         ],
         "marker": {
          "opacity": 0.5,
          "size": 5
         },
         "mode": "markers+text",
         "name": "1_the_art_of",
         "text": [
          "",
          "",
          "",
          "",
          "",
          "",
          "",
          "",
          "",
          "",
          "",
          "",
          "",
          "",
          "",
          "",
          "1_the_art_of"
         ],
         "textfont": {
          "size": 12
         },
         "type": "scattergl",
         "x": [
          13.779760360717773,
          13.78071403503418,
          13.189929008483887,
          13.808148384094238,
          13.620643615722656,
          13.942621231079102,
          13.975008964538574,
          13.560070037841797,
          13.882939338684082,
          13.794031143188477,
          13.897037506103516,
          13.13370132446289,
          14.022329330444336,
          13.738194465637207,
          14.00732421875,
          13.860682487487793,
          13.749571800231934
         ],
         "y": [
          3.195415496826172,
          3.1094634532928467,
          2.8713645935058594,
          3.2899599075317383,
          3.0186541080474854,
          3.326897144317627,
          2.993384599685669,
          2.906050205230713,
          3.2170114517211914,
          3.1805930137634277,
          3.213688611984253,
          2.949118137359619,
          3.0905356407165527,
          3.0288145542144775,
          3.1096980571746826,
          3.084977388381958,
          3.0991017818450928
         ]
        }
       ],
       "layout": {
        "annotations": [
         {
          "showarrow": false,
          "text": "D1",
          "x": 3.433835005760193,
          "y": 1.8981469720602036,
          "yshift": 10
         },
         {
          "showarrow": false,
          "text": "D2",
          "x": 9.77975686788559,
          "xshift": 10,
          "y": 4.584824335575104
         }
        ],
        "height": 750,
        "shapes": [
         {
          "line": {
           "color": "#CFD8DC",
           "width": 2
          },
          "type": "line",
          "x0": 9.77975686788559,
          "x1": 9.77975686788559,
          "y0": -0.7885303914546966,
          "y1": 4.584824335575104
         },
         {
          "line": {
           "color": "#9E9E9E",
           "width": 2
          },
          "type": "line",
          "x0": 3.433835005760193,
          "x1": 16.125678730010986,
          "y0": 1.8981469720602036,
          "y1": 1.8981469720602036
         }
        ],
        "template": {
         "data": {
          "bar": [
           {
            "error_x": {
             "color": "rgb(36,36,36)"
            },
            "error_y": {
             "color": "rgb(36,36,36)"
            },
            "marker": {
             "line": {
              "color": "white",
              "width": 0.5
             },
             "pattern": {
              "fillmode": "overlay",
              "size": 10,
              "solidity": 0.2
             }
            },
            "type": "bar"
           }
          ],
          "barpolar": [
           {
            "marker": {
             "line": {
              "color": "white",
              "width": 0.5
             },
             "pattern": {
              "fillmode": "overlay",
              "size": 10,
              "solidity": 0.2
             }
            },
            "type": "barpolar"
           }
          ],
          "carpet": [
           {
            "aaxis": {
             "endlinecolor": "rgb(36,36,36)",
             "gridcolor": "white",
             "linecolor": "white",
             "minorgridcolor": "white",
             "startlinecolor": "rgb(36,36,36)"
            },
            "baxis": {
             "endlinecolor": "rgb(36,36,36)",
             "gridcolor": "white",
             "linecolor": "white",
             "minorgridcolor": "white",
             "startlinecolor": "rgb(36,36,36)"
            },
            "type": "carpet"
           }
          ],
          "choropleth": [
           {
            "colorbar": {
             "outlinewidth": 1,
             "tickcolor": "rgb(36,36,36)",
             "ticks": "outside"
            },
            "type": "choropleth"
           }
          ],
          "contour": [
           {
            "colorbar": {
             "outlinewidth": 1,
             "tickcolor": "rgb(36,36,36)",
             "ticks": "outside"
            },
            "colorscale": [
             [
              0,
              "#440154"
             ],
             [
              0.1111111111111111,
              "#482878"
             ],
             [
              0.2222222222222222,
              "#3e4989"
             ],
             [
              0.3333333333333333,
              "#31688e"
             ],
             [
              0.4444444444444444,
              "#26828e"
             ],
             [
              0.5555555555555556,
              "#1f9e89"
             ],
             [
              0.6666666666666666,
              "#35b779"
             ],
             [
              0.7777777777777778,
              "#6ece58"
             ],
             [
              0.8888888888888888,
              "#b5de2b"
             ],
             [
              1,
              "#fde725"
             ]
            ],
            "type": "contour"
           }
          ],
          "contourcarpet": [
           {
            "colorbar": {
             "outlinewidth": 1,
             "tickcolor": "rgb(36,36,36)",
             "ticks": "outside"
            },
            "type": "contourcarpet"
           }
          ],
          "heatmap": [
           {
            "colorbar": {
             "outlinewidth": 1,
             "tickcolor": "rgb(36,36,36)",
             "ticks": "outside"
            },
            "colorscale": [
             [
              0,
              "#440154"
             ],
             [
              0.1111111111111111,
              "#482878"
             ],
             [
              0.2222222222222222,
              "#3e4989"
             ],
             [
              0.3333333333333333,
              "#31688e"
             ],
             [
              0.4444444444444444,
              "#26828e"
             ],
             [
              0.5555555555555556,
              "#1f9e89"
             ],
             [
              0.6666666666666666,
              "#35b779"
             ],
             [
              0.7777777777777778,
              "#6ece58"
             ],
             [
              0.8888888888888888,
              "#b5de2b"
             ],
             [
              1,
              "#fde725"
             ]
            ],
            "type": "heatmap"
           }
          ],
          "heatmapgl": [
           {
            "colorbar": {
             "outlinewidth": 1,
             "tickcolor": "rgb(36,36,36)",
             "ticks": "outside"
            },
            "colorscale": [
             [
              0,
              "#440154"
             ],
             [
              0.1111111111111111,
              "#482878"
             ],
             [
              0.2222222222222222,
              "#3e4989"
             ],
             [
              0.3333333333333333,
              "#31688e"
             ],
             [
              0.4444444444444444,
              "#26828e"
             ],
             [
              0.5555555555555556,
              "#1f9e89"
             ],
             [
              0.6666666666666666,
              "#35b779"
             ],
             [
              0.7777777777777778,
              "#6ece58"
             ],
             [
              0.8888888888888888,
              "#b5de2b"
             ],
             [
              1,
              "#fde725"
             ]
            ],
            "type": "heatmapgl"
           }
          ],
          "histogram": [
           {
            "marker": {
             "line": {
              "color": "white",
              "width": 0.6
             }
            },
            "type": "histogram"
           }
          ],
          "histogram2d": [
           {
            "colorbar": {
             "outlinewidth": 1,
             "tickcolor": "rgb(36,36,36)",
             "ticks": "outside"
            },
            "colorscale": [
             [
              0,
              "#440154"
             ],
             [
              0.1111111111111111,
              "#482878"
             ],
             [
              0.2222222222222222,
              "#3e4989"
             ],
             [
              0.3333333333333333,
              "#31688e"
             ],
             [
              0.4444444444444444,
              "#26828e"
             ],
             [
              0.5555555555555556,
              "#1f9e89"
             ],
             [
              0.6666666666666666,
              "#35b779"
             ],
             [
              0.7777777777777778,
              "#6ece58"
             ],
             [
              0.8888888888888888,
              "#b5de2b"
             ],
             [
              1,
              "#fde725"
             ]
            ],
            "type": "histogram2d"
           }
          ],
          "histogram2dcontour": [
           {
            "colorbar": {
             "outlinewidth": 1,
             "tickcolor": "rgb(36,36,36)",
             "ticks": "outside"
            },
            "colorscale": [
             [
              0,
              "#440154"
             ],
             [
              0.1111111111111111,
              "#482878"
             ],
             [
              0.2222222222222222,
              "#3e4989"
             ],
             [
              0.3333333333333333,
              "#31688e"
             ],
             [
              0.4444444444444444,
              "#26828e"
             ],
             [
              0.5555555555555556,
              "#1f9e89"
             ],
             [
              0.6666666666666666,
              "#35b779"
             ],
             [
              0.7777777777777778,
              "#6ece58"
             ],
             [
              0.8888888888888888,
              "#b5de2b"
             ],
             [
              1,
              "#fde725"
             ]
            ],
            "type": "histogram2dcontour"
           }
          ],
          "mesh3d": [
           {
            "colorbar": {
             "outlinewidth": 1,
             "tickcolor": "rgb(36,36,36)",
             "ticks": "outside"
            },
            "type": "mesh3d"
           }
          ],
          "parcoords": [
           {
            "line": {
             "colorbar": {
              "outlinewidth": 1,
              "tickcolor": "rgb(36,36,36)",
              "ticks": "outside"
             }
            },
            "type": "parcoords"
           }
          ],
          "pie": [
           {
            "automargin": true,
            "type": "pie"
           }
          ],
          "scatter": [
           {
            "fillpattern": {
             "fillmode": "overlay",
             "size": 10,
             "solidity": 0.2
            },
            "type": "scatter"
           }
          ],
          "scatter3d": [
           {
            "line": {
             "colorbar": {
              "outlinewidth": 1,
              "tickcolor": "rgb(36,36,36)",
              "ticks": "outside"
             }
            },
            "marker": {
             "colorbar": {
              "outlinewidth": 1,
              "tickcolor": "rgb(36,36,36)",
              "ticks": "outside"
             }
            },
            "type": "scatter3d"
           }
          ],
          "scattercarpet": [
           {
            "marker": {
             "colorbar": {
              "outlinewidth": 1,
              "tickcolor": "rgb(36,36,36)",
              "ticks": "outside"
             }
            },
            "type": "scattercarpet"
           }
          ],
          "scattergeo": [
           {
            "marker": {
             "colorbar": {
              "outlinewidth": 1,
              "tickcolor": "rgb(36,36,36)",
              "ticks": "outside"
             }
            },
            "type": "scattergeo"
           }
          ],
          "scattergl": [
           {
            "marker": {
             "colorbar": {
              "outlinewidth": 1,
              "tickcolor": "rgb(36,36,36)",
              "ticks": "outside"
             }
            },
            "type": "scattergl"
           }
          ],
          "scattermapbox": [
           {
            "marker": {
             "colorbar": {
              "outlinewidth": 1,
              "tickcolor": "rgb(36,36,36)",
              "ticks": "outside"
             }
            },
            "type": "scattermapbox"
           }
          ],
          "scatterpolar": [
           {
            "marker": {
             "colorbar": {
              "outlinewidth": 1,
              "tickcolor": "rgb(36,36,36)",
              "ticks": "outside"
             }
            },
            "type": "scatterpolar"
           }
          ],
          "scatterpolargl": [
           {
            "marker": {
             "colorbar": {
              "outlinewidth": 1,
              "tickcolor": "rgb(36,36,36)",
              "ticks": "outside"
             }
            },
            "type": "scatterpolargl"
           }
          ],
          "scatterternary": [
           {
            "marker": {
             "colorbar": {
              "outlinewidth": 1,
              "tickcolor": "rgb(36,36,36)",
              "ticks": "outside"
             }
            },
            "type": "scatterternary"
           }
          ],
          "surface": [
           {
            "colorbar": {
             "outlinewidth": 1,
             "tickcolor": "rgb(36,36,36)",
             "ticks": "outside"
            },
            "colorscale": [
             [
              0,
              "#440154"
             ],
             [
              0.1111111111111111,
              "#482878"
             ],
             [
              0.2222222222222222,
              "#3e4989"
             ],
             [
              0.3333333333333333,
              "#31688e"
             ],
             [
              0.4444444444444444,
              "#26828e"
             ],
             [
              0.5555555555555556,
              "#1f9e89"
             ],
             [
              0.6666666666666666,
              "#35b779"
             ],
             [
              0.7777777777777778,
              "#6ece58"
             ],
             [
              0.8888888888888888,
              "#b5de2b"
             ],
             [
              1,
              "#fde725"
             ]
            ],
            "type": "surface"
           }
          ],
          "table": [
           {
            "cells": {
             "fill": {
              "color": "rgb(237,237,237)"
             },
             "line": {
              "color": "white"
             }
            },
            "header": {
             "fill": {
              "color": "rgb(217,217,217)"
             },
             "line": {
              "color": "white"
             }
            },
            "type": "table"
           }
          ]
         },
         "layout": {
          "annotationdefaults": {
           "arrowhead": 0,
           "arrowwidth": 1
          },
          "autotypenumbers": "strict",
          "coloraxis": {
           "colorbar": {
            "outlinewidth": 1,
            "tickcolor": "rgb(36,36,36)",
            "ticks": "outside"
           }
          },
          "colorscale": {
           "diverging": [
            [
             0,
             "rgb(103,0,31)"
            ],
            [
             0.1,
             "rgb(178,24,43)"
            ],
            [
             0.2,
             "rgb(214,96,77)"
            ],
            [
             0.3,
             "rgb(244,165,130)"
            ],
            [
             0.4,
             "rgb(253,219,199)"
            ],
            [
             0.5,
             "rgb(247,247,247)"
            ],
            [
             0.6,
             "rgb(209,229,240)"
            ],
            [
             0.7,
             "rgb(146,197,222)"
            ],
            [
             0.8,
             "rgb(67,147,195)"
            ],
            [
             0.9,
             "rgb(33,102,172)"
            ],
            [
             1,
             "rgb(5,48,97)"
            ]
           ],
           "sequential": [
            [
             0,
             "#440154"
            ],
            [
             0.1111111111111111,
             "#482878"
            ],
            [
             0.2222222222222222,
             "#3e4989"
            ],
            [
             0.3333333333333333,
             "#31688e"
            ],
            [
             0.4444444444444444,
             "#26828e"
            ],
            [
             0.5555555555555556,
             "#1f9e89"
            ],
            [
             0.6666666666666666,
             "#35b779"
            ],
            [
             0.7777777777777778,
             "#6ece58"
            ],
            [
             0.8888888888888888,
             "#b5de2b"
            ],
            [
             1,
             "#fde725"
            ]
           ],
           "sequentialminus": [
            [
             0,
             "#440154"
            ],
            [
             0.1111111111111111,
             "#482878"
            ],
            [
             0.2222222222222222,
             "#3e4989"
            ],
            [
             0.3333333333333333,
             "#31688e"
            ],
            [
             0.4444444444444444,
             "#26828e"
            ],
            [
             0.5555555555555556,
             "#1f9e89"
            ],
            [
             0.6666666666666666,
             "#35b779"
            ],
            [
             0.7777777777777778,
             "#6ece58"
            ],
            [
             0.8888888888888888,
             "#b5de2b"
            ],
            [
             1,
             "#fde725"
            ]
           ]
          },
          "colorway": [
           "#1F77B4",
           "#FF7F0E",
           "#2CA02C",
           "#D62728",
           "#9467BD",
           "#8C564B",
           "#E377C2",
           "#7F7F7F",
           "#BCBD22",
           "#17BECF"
          ],
          "font": {
           "color": "rgb(36,36,36)"
          },
          "geo": {
           "bgcolor": "white",
           "lakecolor": "white",
           "landcolor": "white",
           "showlakes": true,
           "showland": true,
           "subunitcolor": "white"
          },
          "hoverlabel": {
           "align": "left"
          },
          "hovermode": "closest",
          "mapbox": {
           "style": "light"
          },
          "paper_bgcolor": "white",
          "plot_bgcolor": "white",
          "polar": {
           "angularaxis": {
            "gridcolor": "rgb(232,232,232)",
            "linecolor": "rgb(36,36,36)",
            "showgrid": false,
            "showline": true,
            "ticks": "outside"
           },
           "bgcolor": "white",
           "radialaxis": {
            "gridcolor": "rgb(232,232,232)",
            "linecolor": "rgb(36,36,36)",
            "showgrid": false,
            "showline": true,
            "ticks": "outside"
           }
          },
          "scene": {
           "xaxis": {
            "backgroundcolor": "white",
            "gridcolor": "rgb(232,232,232)",
            "gridwidth": 2,
            "linecolor": "rgb(36,36,36)",
            "showbackground": true,
            "showgrid": false,
            "showline": true,
            "ticks": "outside",
            "zeroline": false,
            "zerolinecolor": "rgb(36,36,36)"
           },
           "yaxis": {
            "backgroundcolor": "white",
            "gridcolor": "rgb(232,232,232)",
            "gridwidth": 2,
            "linecolor": "rgb(36,36,36)",
            "showbackground": true,
            "showgrid": false,
            "showline": true,
            "ticks": "outside",
            "zeroline": false,
            "zerolinecolor": "rgb(36,36,36)"
           },
           "zaxis": {
            "backgroundcolor": "white",
            "gridcolor": "rgb(232,232,232)",
            "gridwidth": 2,
            "linecolor": "rgb(36,36,36)",
            "showbackground": true,
            "showgrid": false,
            "showline": true,
            "ticks": "outside",
            "zeroline": false,
            "zerolinecolor": "rgb(36,36,36)"
           }
          },
          "shapedefaults": {
           "fillcolor": "black",
           "line": {
            "width": 0
           },
           "opacity": 0.3
          },
          "ternary": {
           "aaxis": {
            "gridcolor": "rgb(232,232,232)",
            "linecolor": "rgb(36,36,36)",
            "showgrid": false,
            "showline": true,
            "ticks": "outside"
           },
           "baxis": {
            "gridcolor": "rgb(232,232,232)",
            "linecolor": "rgb(36,36,36)",
            "showgrid": false,
            "showline": true,
            "ticks": "outside"
           },
           "bgcolor": "white",
           "caxis": {
            "gridcolor": "rgb(232,232,232)",
            "linecolor": "rgb(36,36,36)",
            "showgrid": false,
            "showline": true,
            "ticks": "outside"
           }
          },
          "title": {
           "x": 0.05
          },
          "xaxis": {
           "automargin": true,
           "gridcolor": "rgb(232,232,232)",
           "linecolor": "rgb(36,36,36)",
           "showgrid": false,
           "showline": true,
           "ticks": "outside",
           "title": {
            "standoff": 15
           },
           "zeroline": false,
           "zerolinecolor": "rgb(36,36,36)"
          },
          "yaxis": {
           "automargin": true,
           "gridcolor": "rgb(232,232,232)",
           "linecolor": "rgb(36,36,36)",
           "showgrid": false,
           "showline": true,
           "ticks": "outside",
           "title": {
            "standoff": 15
           },
           "zeroline": false,
           "zerolinecolor": "rgb(36,36,36)"
          }
         }
        },
        "title": {
         "font": {
          "color": "Black",
          "size": 22
         },
         "text": "<b>Documents and Topics</b>",
         "x": 0.5,
         "xanchor": "center",
         "yanchor": "top"
        },
        "width": 1200,
        "xaxis": {
         "visible": false
        },
        "yaxis": {
         "visible": false
        }
       }
      }
     },
     "metadata": {},
     "output_type": "display_data"
    }
   ],
   "source": [
    "model.visualize_documents(questions)"
   ]
  },
  {
   "cell_type": "code",
   "execution_count": 16,
   "metadata": {},
   "outputs": [],
   "source": [
    "#USING FINETUNING \n",
    "from bertopic.representation import KeyBERTInspired\n",
    "from bertopic.representation import MaximalMarginalRelevance\n",
    "from bertopic.representation import PartOfSpeech\n",
    "\n",
    "representation = [PartOfSpeech(\"en_core_web_sm\"),MaximalMarginalRelevance(diversity=0.2),KeyBERTInspired(top_n_words=30)]\n",
    "\n",
    "model = BERTopic(embedding_model=sentence_model,representation_model=representation,verbose=True,calculate_probabilities=True, nr_topics=20, n_gram_range=(1, 3), min_topic_size=5)\n",
    "\n"
   ]
  },
  {
   "cell_type": "code",
   "execution_count": 17,
   "metadata": {},
   "outputs": [
    {
     "name": "stderr",
     "output_type": "stream",
     "text": [
      "2024-07-12 14:03:21,738 - BERTopic - Embedding - Transforming documents to embeddings.\n",
      "Batches: 100%|██████████| 8/8 [00:13<00:00,  1.65s/it]\n",
      "2024-07-12 14:03:35,070 - BERTopic - Embedding - Completed ✓\n",
      "2024-07-12 14:03:35,073 - BERTopic - Dimensionality - Fitting the dimensionality reduction algorithm\n",
      "2024-07-12 14:03:48,942 - BERTopic - Dimensionality - Completed ✓\n",
      "2024-07-12 14:03:48,944 - BERTopic - Cluster - Start clustering the reduced embeddings\n",
      "2024-07-12 14:03:49,003 - BERTopic - Cluster - Completed ✓\n",
      "2024-07-12 14:03:49,004 - BERTopic - Representation - Extracting topics from clusters using representation models.\n",
      "2024-07-12 14:04:07,499 - BERTopic - Representation - Completed ✓\n",
      "2024-07-12 14:04:07,504 - BERTopic - Topic reduction - Reducing number of topics\n",
      "2024-07-12 14:04:07,507 - BERTopic - Topic reduction - Reduced number of topics from 12 to 12\n"
     ]
    }
   ],
   "source": [
    "topics, probs = model.fit_transform(questions)"
   ]
  },
  {
   "cell_type": "code",
   "execution_count": 18,
   "metadata": {},
   "outputs": [
    {
     "data": {
      "text/html": [
       "<div>\n",
       "<style scoped>\n",
       "    .dataframe tbody tr th:only-of-type {\n",
       "        vertical-align: middle;\n",
       "    }\n",
       "\n",
       "    .dataframe tbody tr th {\n",
       "        vertical-align: top;\n",
       "    }\n",
       "\n",
       "    .dataframe thead th {\n",
       "        text-align: right;\n",
       "    }\n",
       "</style>\n",
       "<table border=\"1\" class=\"dataframe\">\n",
       "  <thead>\n",
       "    <tr style=\"text-align: right;\">\n",
       "      <th></th>\n",
       "      <th>Topic</th>\n",
       "      <th>Count</th>\n",
       "      <th>Name</th>\n",
       "      <th>Representation</th>\n",
       "      <th>Representative_Docs</th>\n",
       "    </tr>\n",
       "  </thead>\n",
       "  <tbody>\n",
       "    <tr>\n",
       "      <th>0</th>\n",
       "      <td>-1</td>\n",
       "      <td>56</td>\n",
       "      <td>-1_the indian society_industrial revolution_in...</td>\n",
       "      <td>[the indian society, industrial revolution, in...</td>\n",
       "      <td>[Why are the tribals in India referred to as '...</td>\n",
       "    </tr>\n",
       "    <tr>\n",
       "      <th>1</th>\n",
       "      <td>0</td>\n",
       "      <td>28</td>\n",
       "      <td>0_landslides in the_landslides_glaciers_of lan...</td>\n",
       "      <td>[landslides in the, landslides, glaciers, of l...</td>\n",
       "      <td>[Bring out the causes for the formation of hea...</td>\n",
       "    </tr>\n",
       "    <tr>\n",
       "      <th>2</th>\n",
       "      <td>1</td>\n",
       "      <td>48</td>\n",
       "      <td>1_during the gandhian_struggle for freedom_gan...</td>\n",
       "      <td>[during the gandhian, struggle for freedom, ga...</td>\n",
       "      <td>[Why did the ‘Moderates’ failed to carry convi...</td>\n",
       "    </tr>\n",
       "    <tr>\n",
       "      <th>3</th>\n",
       "      <td>2</td>\n",
       "      <td>11</td>\n",
       "      <td>2_ocean currents and_ocean currents describe_o...</td>\n",
       "      <td>[ocean currents and, ocean currents describe, ...</td>\n",
       "      <td>[Explain the factors responsible for the origi...</td>\n",
       "    </tr>\n",
       "    <tr>\n",
       "      <th>4</th>\n",
       "      <td>3</td>\n",
       "      <td>16</td>\n",
       "      <td>3_problems of droughts_of irrigation and_water...</td>\n",
       "      <td>[problems of droughts, of irrigation and, wate...</td>\n",
       "      <td>[In what way micro-watershed development proje...</td>\n",
       "    </tr>\n",
       "    <tr>\n",
       "      <th>5</th>\n",
       "      <td>4</td>\n",
       "      <td>17</td>\n",
       "      <td>4_indian art_of temple architecture_of the gup...</td>\n",
       "      <td>[indian art, of temple architecture, of the gu...</td>\n",
       "      <td>[Assess the importance of the accounts of the ...</td>\n",
       "    </tr>\n",
       "    <tr>\n",
       "      <th>6</th>\n",
       "      <td>5</td>\n",
       "      <td>5</td>\n",
       "      <td>5_mining industry contributes_mining industry_...</td>\n",
       "      <td>[mining industry contributes, mining industry,...</td>\n",
       "      <td>[Despite India being one of the countries of t...</td>\n",
       "    </tr>\n",
       "    <tr>\n",
       "      <th>7</th>\n",
       "      <td>6</td>\n",
       "      <td>6</td>\n",
       "      <td>6_of india discuss_net food exporter_india dis...</td>\n",
       "      <td>[of india discuss, net food exporter, india di...</td>\n",
       "      <td>[Do you agree that there is a growing trend of...</td>\n",
       "    </tr>\n",
       "    <tr>\n",
       "      <th>8</th>\n",
       "      <td>7</td>\n",
       "      <td>17</td>\n",
       "      <td>7_pluralism in india_in indian society_indian ...</td>\n",
       "      <td>[pluralism in india, in indian society, indian...</td>\n",
       "      <td>[Are tolerance, assimilation and pluralism the...</td>\n",
       "    </tr>\n",
       "    <tr>\n",
       "      <th>9</th>\n",
       "      <td>8</td>\n",
       "      <td>8</td>\n",
       "      <td>8_of regionalism is_of regionalism_regions for...</td>\n",
       "      <td>[of regionalism is, of regionalism, regions fo...</td>\n",
       "      <td>[Growing feeling of regionalism is an importan...</td>\n",
       "    </tr>\n",
       "    <tr>\n",
       "      <th>10</th>\n",
       "      <td>9</td>\n",
       "      <td>10</td>\n",
       "      <td>9_of urbanization_of urbanization in_urbanizat...</td>\n",
       "      <td>[of urbanization, of urbanization in, urbaniza...</td>\n",
       "      <td>[Smart cities in India cannot sustain without ...</td>\n",
       "    </tr>\n",
       "    <tr>\n",
       "      <th>11</th>\n",
       "      <td>10</td>\n",
       "      <td>13</td>\n",
       "      <td>10_patriarchy impact the_population growth dis...</td>\n",
       "      <td>[patriarchy impact the, population growth disc...</td>\n",
       "      <td>[Critically examine whether growing population...</td>\n",
       "    </tr>\n",
       "  </tbody>\n",
       "</table>\n",
       "</div>"
      ],
      "text/plain": [
       "    Topic  Count                                               Name  \\\n",
       "0      -1     56  -1_the indian society_industrial revolution_in...   \n",
       "1       0     28  0_landslides in the_landslides_glaciers_of lan...   \n",
       "2       1     48  1_during the gandhian_struggle for freedom_gan...   \n",
       "3       2     11  2_ocean currents and_ocean currents describe_o...   \n",
       "4       3     16  3_problems of droughts_of irrigation and_water...   \n",
       "5       4     17  4_indian art_of temple architecture_of the gup...   \n",
       "6       5      5  5_mining industry contributes_mining industry_...   \n",
       "7       6      6  6_of india discuss_net food exporter_india dis...   \n",
       "8       7     17  7_pluralism in india_in indian society_indian ...   \n",
       "9       8      8  8_of regionalism is_of regionalism_regions for...   \n",
       "10      9     10  9_of urbanization_of urbanization in_urbanizat...   \n",
       "11     10     13  10_patriarchy impact the_population growth dis...   \n",
       "\n",
       "                                       Representation  \\\n",
       "0   [the indian society, industrial revolution, in...   \n",
       "1   [landslides in the, landslides, glaciers, of l...   \n",
       "2   [during the gandhian, struggle for freedom, ga...   \n",
       "3   [ocean currents and, ocean currents describe, ...   \n",
       "4   [problems of droughts, of irrigation and, wate...   \n",
       "5   [indian art, of temple architecture, of the gu...   \n",
       "6   [mining industry contributes, mining industry,...   \n",
       "7   [of india discuss, net food exporter, india di...   \n",
       "8   [pluralism in india, in indian society, indian...   \n",
       "9   [of regionalism is, of regionalism, regions fo...   \n",
       "10  [of urbanization, of urbanization in, urbaniza...   \n",
       "11  [patriarchy impact the, population growth disc...   \n",
       "\n",
       "                                  Representative_Docs  \n",
       "0   [Why are the tribals in India referred to as '...  \n",
       "1   [Bring out the causes for the formation of hea...  \n",
       "2   [Why did the ‘Moderates’ failed to carry convi...  \n",
       "3   [Explain the factors responsible for the origi...  \n",
       "4   [In what way micro-watershed development proje...  \n",
       "5   [Assess the importance of the accounts of the ...  \n",
       "6   [Despite India being one of the countries of t...  \n",
       "7   [Do you agree that there is a growing trend of...  \n",
       "8   [Are tolerance, assimilation and pluralism the...  \n",
       "9   [Growing feeling of regionalism is an importan...  \n",
       "10  [Smart cities in India cannot sustain without ...  \n",
       "11  [Critically examine whether growing population...  "
      ]
     },
     "execution_count": 18,
     "metadata": {},
     "output_type": "execute_result"
    }
   ],
   "source": [
    "model.get_topic_info()"
   ]
  },
  {
   "cell_type": "code",
   "execution_count": 19,
   "metadata": {},
   "outputs": [
    {
     "data": {
      "application/vnd.plotly.v1+json": {
       "config": {
        "plotlyServerURL": "https://plot.ly"
       },
       "data": [
        {
         "hoverinfo": "text",
         "hovertext": [
          "How will the melting of Himalayan glaciers have a far- reaching impact on the water resources of India?",
          "Why are the tribals in India referred to as 'the Scheduled Tribes? Indicate the major provisions in the Constitution of India for their upliftment.",
          "Discuss the main objectives of Population Education and point out the measures to achieve them in India in detail.",
          "Write a critical note on the evolution and significance of the slogan, ‘Jai Jawan, Jai Kisan’.",
          "There is no formation of deltas by rivers on the Western Ghats. Why?",
          "Defining blue revolution, explain the problems and strategies for pisciculture development in India.",
          "Examine the uniqueness of tribal knowledge system when compared with mainstream knowledge and cultural systems.",
          "Are we losing our local identity for the global identity? Discuss.",
          "What are the two major legal initiatives by the State since Independence addressing discrimination against Scheduled Tribes(STs)?",
          "Explore and evaluate the impact of ‘Work From Home’ on family relationships.",
          "Explain the role of geographical factors towards the development of Ancient India.",
          "Examine the potential of wind energy in India and explain the reasons for their limited spatial spread.",
          "Discuss whether formation of new states in recent times is beneficial or not for the economy of India.",
          "South China Sea has assumed great geopolitical significance in the present context. Comment.",
          "Globalisation is generally said to promote cultural homogenisation but due to this cultural specificities appear to be strengthened in the Indian society.’ Elucidate.",
          "To what extent has the urban planning and culture of the Indus Valley Civilization provided inputs to the present day urbanization?\nDiscuss.",
          "What is the significance of Industrial Corridors in India? Identifying industrial corridors, explain their main characteristics.",
          "Mumbai, Delhi and Kolkata are the three Mega cities of the country but the air pollution is much more serious probelm in Delhi as compared to the other two. Why is this so?",
          "What were the major technological changes introduced during the Sultanate period? How did those technological changes influence the Indian society?",
          "Child cuddling is now being replaced by mobile phones. Discuss its impact on the socialization of children.",
          "Account for the present location of iron and steel industries away from the source of raw material, by giving examples.",
          "The effective management of land and water resources will drastically reduce the human miseries. Explain.",
          "what are the environmental implications of the reclamation of the water bodies into urban land use? Explain with examples.",
          "Bring out the socio-economic effects of the introduction of railways in different countries of the world",
          "Discuss the multi-dimensional implications of uneven distribution of mineral oil in the world.",
          "‘Latecomer’ Industrial Revolution in Japan involved certain factors that were markedly different from what West had experienced.” Analyze.",
          "Examine how the decline of traditional artisanal industry in colonial India crippled the rural economy.",
          "Discuss the natural resource potentials of ‘Deccan trap’.",
          "Discuss the impact of post-liberal economy on ethnic identity and communalism.",
          "Discuss the consequences of climate change on the food security in tropical countries.",
          "Critically examine the effect of globalization on the aged population in India.",
          "Taxila university was one of the oldest universities of the world with which were associated a number of renowned learned personalities of different disciplines. Its strategic location caused its fame to flourish, but unlike Nalanda, it is not considered as a university in the modern sense. Discuss.",
          "How can the mountain ecosystem be restored from the negative impact of development initiatives and tourism?",
          "The ancient civilization in Indian sub continent differed from those of Egypt , Mesopotamia and Greece in that its culture and traditions have been preserved without breakdown to the present day. Comment",
          "The life cycle of a joint family depends on economic factors rather than social values. Discuss.",
          "Discuss the changes in the trends of labour migration within and outside India in the last four decades.",
          "Describe any four cultural elements of diversity in India and rate their relative significance in building a national identity.",
          "What is Cryptocurrency? How does it affect global society? Has it been affecting Indian society also?",
          "Krishnadeva Raya, the King of Vijayanagar, was not only an accomplished scholar himself but was also a great patron of learning and literature. Discuss.",
          "Account for the change in the spatial pattern of the Iron and Steel industry in the world.",
          "How have digital initiatives in India contributed to the functioning of the education system in the country? Elaborate your answer.",
          "‘Communalism arises either due to power struggle or relative deprivation.’ Argue by giving suitable illustrations.",
          "Mention the significance of straits and isthmus in international trade.",
          "Debate the issue whether and how contemporary movements for assertion of Dalit identity work towards annihilation of caste.",
          "Describing the distribution of rubber producing countries, indicate the major environmental issues faced by them.",
          "What makes the Indian society unique in sustaining its culture? Discuss.",
          "How does India see its place in the economic space of rising natural resources rich Africa?",
          "Elucidate the relationship between globalization and new technology in a world of scarce resources, with special reference to India.",
          "Discuss the positive and negative effects of globalization on women in India?",
          "India has immense potential of solar energy though there are regional variations in its developments. Elaborate.",
          "Why did human development fail to keep pace with economic development in India?",
          "Distinguish between religiousness/religiosity and communalism giving one example of how the former has got transformed into the latter in independent India.",
          "Examine the role of ‘Gig Economy’ in the process of empowerment of women in India.",
          "Why did the industrial revolution first occur in England? Discuss the quality of life of the people there during the industrialization. How does it compare with that in India at present times?",
          "Why is India considered as a sub-continent? Elaborate your answer.",
          "Why did the Green Revolution in India virtually by-pass the eastern region despite fertile soil and good availability of water?",
          null
         ],
         "marker": {
          "color": "#CFD8DC",
          "opacity": 0.5,
          "size": 5
         },
         "mode": "markers+text",
         "name": "other",
         "showlegend": false,
         "type": "scattergl",
         "x": [
          2.3984601497650146,
          8.534371376037598,
          6.2929463386535645,
          8.981940269470215,
          1.0395596027374268,
          4.820868492126465,
          7.903851509094238,
          7.463102340698242,
          8.505151748657227,
          6.902825832366943,
          7.788483142852783,
          5.2205657958984375,
          7.908737659454346,
          2.935025691986084,
          7.379999160766602,
          5.59837007522583,
          5.667137622833252,
          5.788896083831787,
          7.840506553649902,
          6.897415637969971,
          4.609135150909424,
          2.684624671936035,
          2.604609251022339,
          5.461523532867432,
          4.274552822113037,
          7.810215950012207,
          7.552969932556152,
          3.1692395210266113,
          7.35706090927124,
          2.322812080383301,
          6.949846267700195,
          8.954948425292969,
          2.8001821041107178,
          7.921008110046387,
          6.975784778594971,
          6.833129405975342,
          7.75740909576416,
          6.67303991317749,
          9.824603080749512,
          4.635271072387695,
          6.026856422424316,
          7.238668441772461,
          2.9748830795288086,
          8.593194007873535,
          4.041965007781982,
          7.919312000274658,
          5.037954330444336,
          5.511820316314697,
          6.843602657318115,
          5.186460494995117,
          5.51996374130249,
          8.890294075012207,
          6.377391815185547,
          7.850073337554932,
          7.751226902008057,
          4.879313945770264,
          6.137199401855469
         ],
         "y": [
          1.2363238334655762,
          3.627708673477173,
          3.5391085147857666,
          4.5320515632629395,
          1.9595201015472412,
          3.124075412750244,
          4.538268089294434,
          4.364028453826904,
          3.569974899291992,
          3.653299331665039,
          5.571322441101074,
          2.062601089477539,
          3.5395667552948,
          2.298966646194458,
          4.492221355438232,
          3.78820538520813,
          2.595733404159546,
          3.1409850120544434,
          5.581881046295166,
          3.717438220977783,
          2.3875014781951904,
          0.9478957653045654,
          0.8223653435707092,
          2.9780421257019043,
          2.307185649871826,
          2.2541236877441406,
          2.266148328781128,
          1.4541325569152832,
          4.104630947113037,
          1.630948543548584,
          4.27720308303833,
          5.792801380157471,
          1.4217795133590698,
          5.380395412445068,
          3.6551761627197266,
          4.153847694396973,
          4.672120571136475,
          3.8976821899414062,
          4.11703634262085,
          2.4020540714263916,
          3.6733131408691406,
          3.899052619934082,
          2.3606185913085938,
          4.2087202072143555,
          2.214876174926758,
          4.789976596832275,
          2.5138988494873047,
          2.699660301208496,
          3.588907241821289,
          2.0992417335510254,
          3.2345757484436035,
          4.050560474395752,
          2.892540216445923,
          2.21683931350708,
          5.264886856079102,
          3.1733570098876953,
          3.298881769180298
         ]
        },
        {
         "hoverinfo": "text",
         "hovertext": [
          "Mention the global occurrence of volcanic eruptions in 2021 and their impact on regional environment.",
          "Define mantle plume and explain its role in plate tectonics.",
          "Describe the characteristics and types of primary rocks.",
          "Troposphere is a very significant atmospheric layer that determines weather processes.\nHow?",
          "Most of the unusual climatic happenings are explained as an outcome of the El-Nino effect. Do you agree?",
          "Differentiate the causes of landslides in the Himalayan region and Western Ghats.",
          "Why are the world’s fold mountain systems located along the margins of continents? Bring out the association between the global distribution of fold mountains and the earthquakes and volcanoes.",
          "What characteristics can be assigned to monsoon climate that succeeds in feeding more than 50 percent of the world population residing in Monsoon Asia?",
          "Why is the South-West monsoon called ‘Purvaiya’ (easterly) in Bhojpur Region? How has this directional seasonal wind system influenced the cultural ethos of the region?",
          "Discuss the concept of air mass and explain its role in macro-climatic changes.",
          "What do you understand by the theory of continental drift? Discuss the prominent evidences in its support.",
          "What do you understand by the phenomenon of ‘temperature inversion’ in meteorology? How does it affect weather and the habitants of the place?",
          "Major hot deserts in northern hemisphere are located between 20-30 deg N latitudes and on the western sides of the continents. Why?",
          "Discuss the geophysical characteristics of Circum- Pacific Zone.",
          "Explain the formation of thousands of islands in Indonesian and Philipines archipelagos.",
          "\"The Himalayas are highly prone to landslides.\" Discuss the causes and suggest suitable measures of mitigation.",
          "Briefly mention the alignment of major mountain ranges of the world and explain their impact on local weather conditions, with examples.",
          "Bring out the causes for more frequent occurrence of landslides in the Himalayas than in the Western Ghats.",
          "The process of desertification does not have climate boundaries. Justify with examples.",
          "The recent cyclone on the east coast of India was called ‘Phailin’. How are the tropical cyclones named across the world? Elaborate.",
          "How do the melting of the Arctic ice and glaciers of the Antarctic differently affect the weather patterns and human activities on the Earth? Explain.",
          "How far do you agree that the behaviour of the Indian monsoon has been changing due to humanizing landscape? Discuss.",
          "Tropical cyclones are largely confined to South China Sea, Bay of Bengal and Gulf of Mexico. Why?",
          "Bring out the causes for the formation of heat islands in the urban habitat of the world.",
          "Discuss the meaning of colour-coded weather warnings for cyclone prone areas given by India Meteorological department.",
          "How does the cryosphere affect global climate?",
          "How does the Juno Mission of NASA help to understand the origin and evolution of the Earth?",
          "Bring out the relationship between the shrinking Himalayan glaciers and the symptoms of climate change in the Indian sub-continent.",
          null
         ],
         "marker": {
          "opacity": 0.5,
          "size": 5
         },
         "mode": "markers+text",
         "name": "0_landslides in the_landslides_glaciers",
         "text": [
          "",
          "",
          "",
          "",
          "",
          "",
          "",
          "",
          "",
          "",
          "",
          "",
          "",
          "",
          "",
          "",
          "",
          "",
          "",
          "",
          "",
          "",
          "",
          "",
          "",
          "",
          "",
          "",
          "0_landslides in the_landslides_glaciers"
         ],
         "textfont": {
          "size": 12
         },
         "type": "scattergl",
         "x": [
          1.3129026889801025,
          1.3862651586532593,
          1.1058851480484009,
          1.583747148513794,
          1.7329621315002441,
          1.1043773889541626,
          1.3022557497024536,
          1.908201813697815,
          1.9281058311462402,
          1.8330076932907104,
          1.643987774848938,
          1.4696089029312134,
          1.4036502838134766,
          1.4120614528656006,
          1.825467586517334,
          1.01255202293396,
          1.3478251695632935,
          1.0628777742385864,
          1.857967495918274,
          1.6805436611175537,
          1.9052724838256836,
          1.978642463684082,
          1.5844320058822632,
          1.6063385009765625,
          1.7245205640792847,
          1.5947707891464233,
          1.3944909572601318,
          1.9690364599227905,
          1.5597057342529297
         ],
         "y": [
          2.3029420375823975,
          2.3526763916015625,
          2.2373054027557373,
          1.818717122077942,
          1.4059739112854004,
          2.057159900665283,
          2.3219141960144043,
          1.2616214752197266,
          1.2735297679901123,
          1.975772738456726,
          2.412371873855591,
          1.8789162635803223,
          1.8161864280700684,
          2.435953378677368,
          2.4766595363616943,
          2.188573122024536,
          1.9608606100082397,
          2.1439218521118164,
          1.9695022106170654,
          0.9304341077804565,
          2.0163233280181885,
          1.3092283010482788,
          1.189476490020752,
          2.0850539207458496,
          0.973838210105896,
          1.8006885051727295,
          2.296161651611328,
          1.813718318939209,
          1.8823386430740356
         ]
        },
        {
         "hoverinfo": "text",
         "hovertext": [
          "What was the difference between Mahatma Gandhi and Rabindranath Tagore in their approach towards education and nationalism?",
          "Several foreigners made India their homeland and participated in various movements.\nAnalyze their role in the Indian struggle for freedom.",
          "Assess the role of British imperial power in complicating the process of transfer of power during the 1940s.",
          "Explain how the Uprising of 1857 constitutes an important watershed in the evolution of British policies towards colonial India.",
          "The anti-colonial struggles in West Africa were led by the new elite of Western-educated Africans.",
          "Clarify how mid-eighteenth century India was beset with the spectre of a fragmented polity.",
          "It would have been difficult for the Constituent Assembly to complete its historic task of drafting the Constitution for Independent India in just three years, but its experience gained with the Government of India Act, 1935\n.Discuss.",
          "Defying the barriers of age, gender and religion, the Indian women became the torchbearer during the struggle for freedom in India. Discuss.",
          "Evaluate the policies of Lord Curzon and their long term implications on the national movements.",
          "What were the major political, economic and social developments in the world which motivated the anti-colonial in India?",
          "Many voices had strengthened and enriched the nationalist movement during the Gandhian phase. Elaborate.",
          "The New Economic Policy – 1921 of Lenin had influenced the policies adopted by India soon after independence. Evaluate.",
          "How did the colonial rule affect the tribals in India and what was the tribal response to the colonial oppression?",
          "Discuss the contributions of MaulanaAbulKalam Azad to pre- and post-independent India.",
          "Mahatma Gandhi and Dr. B R Ambedkar, despite having divergent approaches and strategies, had a common goal of amelioration of the downtrodden. Elucidate.",
          "Though not very useful from the point of view of a connected political history of South India, the Sangam literature portrays the social and economic conditions of its time with remarkable vividness. Comment.",
          "The Bhakti movement received a remarkable re-orientation with the advent of Sri Chaitanya Mahaprabhu. Discuss.",
          "The third battle of Panipat was fought in 1761. Why were so many empire-shaking battles fought at Panipat?",
          "Discuss the role of women in the freedom struggle especially during the Gandhian phase.",
          "In what ways did the navel mutiny prove to be the last nail in the coffin of British colonial aspirations in India?",
          null,
          "What problems are germane to the decolonization process in the Malay Peninsula?",
          "Examine critically the various facets of economic policies of the British in India from mid-eighteenth century till independence.",
          "Why did the armies of the British East India Company – mostly comprising of Indian soldiers – win consistently against the more numerous and better equipped armies of the Indian rulers? Give reasons.",
          "“American Revolution was an economic revolt against mercantilism.” Substantiate.",
          "Why indentured labour was taken by the British from India to their colonies? have they been able to preserve their cultural identity over there?",
          "Throw light on the significance of the thoughts of Mahatma Gandhi in the present times.",
          "Since the decade of the 1920s, the national movement acquired various ideological strands and thereby expanded its social base. Discuss.",
          "Explain how the foundations of the modern world were laid by the American and French Revolutions.",
          "The political and administrative reorganization of states and territories has been a continuous ongoing process since the mid-nineteenth century. Discuss with examples.",
          "What policy instruments were deployed to contain the Great Economic Depression?",
          "Highlight the differences in the approach of Subhash Chandra Bose and Mahatma Gandhi in the struggle for freedom.",
          "Examine the linkages between the nineteenth century’s ‘Indian Renaissance’ and the emergence of national identity.",
          "Why was there a sudden spurt in famines in colonial India since the mid-eighteenth century? Give reasons.",
          "To what extent did the role of the moderates prepare a base for the wider freedom movement? Comment.",
          "” There arose a serious challenge to the Democratic State System between the two World Wars.” Evaluate the statement.",
          "“In many ways, Lord Dalhousie was the founder of modern India.” Elaborate.",
          "Analyze the circumstances that led to the Tashkent Agreement in 1966. Discuss the highlights of the Agreement.",
          "What were the events that led to the Suez Crisis in 1956? How did it deal a final blow to Britain’s self-image as a world power?",
          "Critically discuss the objectives of Bhoodan and Gramdan movements initiated by AcharyaVinobhaBhave and their success.",
          "To what extend can Germany be held responsible for causing the two World Wars? Discuss critically.",
          "Why did the ‘Moderates’ failed to carry conviction with the nation about their proclaimed ideology and political goals by the end of the nineteenth century?",
          "Highlight the importance of the new objectives that got added to the vision of Indian Independence since the twenties of the last century.",
          "The 1857 uprising was the culmination of the recurrent, big and small local rebellions that had occurred in the preceding hundred years of British rule. Elucidate.",
          "How difficult would have been the achievement of Indian independence without Mahatma Gandhi? Discuss.",
          "Whereas the British planters had developed tea gardens all along the Shivaliks and Lesser Himalayas from Assam to Himachal Pradesh, in effect they did not succeed beyond the Darjeeling area. Explain.",
          "Critically examine the compulsions which prompted India to play a decisive role in the emergence of Bangladesh.",
          "“Africa was chopped into states artificially created by accidents of European competition.” Analyze."
         ],
         "marker": {
          "opacity": 0.5,
          "size": 5
         },
         "mode": "markers+text",
         "name": "1_during the gandhian_struggle for freedom_gandhi",
         "text": [
          "",
          "",
          "",
          "",
          "",
          "",
          "",
          "",
          "",
          "",
          "",
          "",
          "",
          "",
          "",
          "",
          "",
          "",
          "",
          "",
          "1_during the gandhian_struggle for freedom_gandhi",
          "",
          "",
          "",
          "",
          "",
          "",
          "",
          "",
          "",
          "",
          "",
          "",
          "",
          "",
          "",
          "",
          "",
          "",
          "",
          "",
          "",
          "",
          "",
          "",
          "",
          "",
          ""
         ],
         "textfont": {
          "size": 12
         },
         "type": "scattergl",
         "x": [
          10.070473670959473,
          9.454792976379395,
          9.277682304382324,
          8.994821548461914,
          8.596963882446289,
          9.102410316467285,
          9.61083698272705,
          9.698260307312012,
          9.813937187194824,
          8.696929931640625,
          9.731603622436523,
          9.091261863708496,
          8.704471588134766,
          9.605853080749512,
          10.088768005371094,
          9.2417573928833,
          9.51171588897705,
          8.511129379272461,
          9.88874340057373,
          8.776947975158691,
          9.253631591796875,
          8.468815803527832,
          9.045013427734375,
          8.570343017578125,
          9.054793357849121,
          8.888467788696289,
          9.947315216064453,
          9.781011581420898,
          9.136177062988281,
          8.276902198791504,
          9.015666961669922,
          10.084247589111328,
          9.404947280883789,
          7.760119438171387,
          9.8292818069458,
          9.507319450378418,
          9.60988998413086,
          9.411216735839844,
          9.137444496154785,
          9.632830619812012,
          9.408195495605469,
          9.800692558288574,
          9.370438575744629,
          8.974875450134277,
          9.973278999328613,
          8.124395370483398,
          9.129060745239258,
          8.310850143432617
         ],
         "y": [
          3.447652816772461,
          3.2686758041381836,
          2.414297103881836,
          2.5073511600494385,
          3.02228045463562,
          3.6462924480438232,
          3.313753604888916,
          3.5146427154541016,
          2.8175418376922607,
          2.9957592487335205,
          3.225362777709961,
          2.9680330753326416,
          3.1781094074249268,
          3.3772671222686768,
          3.6442322731018066,
          3.756532669067383,
          4.318134784698486,
          2.357185125350952,
          3.6207337379455566,
          2.7204771041870117,
          3.0745880603790283,
          3.00760555267334,
          2.873438835144043,
          2.331019401550293,
          2.526158332824707,
          3.068270206451416,
          3.8034939765930176,
          2.9076385498046875,
          2.300621271133423,
          3.3683948516845703,
          2.8439204692840576,
          3.613417625427246,
          3.3819570541381836,
          2.207186222076416,
          2.8531696796417236,
          2.5081264972686768,
          3.713646411895752,
          2.469301462173462,
          2.443899393081665,
          4.144935131072998,
          2.553922176361084,
          2.8528521060943604,
          3.1982064247131348,
          2.740452289581299,
          3.464113473892212,
          2.2292566299438477,
          3.175502300262451,
          3.1950278282165527
         ]
        },
        {
         "hoverinfo": "text",
         "hovertext": [
          "What are the consequences of spreading of ‘Dead Zones’ on marine ecosystem?",
          "What are the forces that influence ocean currents? Describe their role in fishing industry of the world.",
          "How are the fjords formed? Why do they constitute some of the most picturesque areas of the world?",
          "What are the economic significances of discovery of oil in Arctic Sea and its possible environemental consequences?",
          "Why is India taking keen interest in the Arctic region?",
          "Account for variations in oceanic salinity and discuss its multi-dimensional effects.",
          "Discuss the causes of depletion of mangroves and explain their importance in maintaining coastal ecology.",
          "Explain the factors responsible for the origin of ocean currents. How do they influence regional climates, fishing and navigation?",
          "How do ocean currents and water masses differ in their impacts on marine life and coastal environment? Give suitable examples.",
          "Critically evaluate the various resources of the oceans which can be harnessed to meet the resource crisis in the world.",
          "Assess the impact of global warming on the coral life system with examples.",
          null
         ],
         "marker": {
          "opacity": 0.5,
          "size": 5
         },
         "mode": "markers+text",
         "name": "2_ocean currents and_ocean currents describe_of ocean currents",
         "text": [
          "",
          "",
          "",
          "",
          "",
          "",
          "",
          "",
          "",
          "",
          "",
          "2_ocean currents and_ocean currents describe_of ocean currents"
         ],
         "textfont": {
          "size": 12
         },
         "type": "scattergl",
         "x": [
          2.5207152366638184,
          2.4173929691314697,
          2.0864510536193848,
          2.8308298587799072,
          3.000977039337158,
          2.420438051223755,
          2.482801914215088,
          2.1821653842926025,
          2.377894163131714,
          2.638770580291748,
          2.3493311405181885,
          2.4825243949890137
         ],
         "y": [
          2.447406530380249,
          2.5094568729400635,
          2.4866726398468018,
          2.2880637645721436,
          2.0206027030944824,
          2.5361359119415283,
          2.4424002170562744,
          2.464740514755249,
          2.5746030807495117,
          2.375673770904541,
          2.5971944332122803,
          2.4311773777008057
         ]
        },
        {
         "hoverinfo": "text",
         "hovertext": [
          "Identify and discuss the factors responsible for diversity of natural vegetation in India. Assess the significance of wildlife sanctuaries in rain forests regions of India.",
          "What is water stress? How and why does it differ regionally in India?",
          "Enumerate the problems and prospects of inland water transport in India.",
          "“The ideal solution of depleting ground water resources in India is water harvesting system.” How can it be made effective in urban areas?",
          "Account for the huge flooding of million cities in India including the smart ones like Hyderabad and Pune. Suggest lasting remedial measures.",
          "Why is the world today confronted with a crisis of availability of and access to freshwater resources?",
          "The states of Jammu and Kashmir, Himachal Pradesh and Uttarakhand are reaching the limits of ecological carrying capacity due to tourism. Critically evaluate.",
          "In what way can floods be converted into a sustainable source of irrigation and all-weather inland navigation in India?",
          "Why is Indian Regional Navigational Satellite System (IRNSS) needed? How does it help in navigation?",
          "Examine the status of forest resources of India and its resultant impact on climate change.",
          "Comment on the resource potentials of the long coastline of India and highlight the status of natural hazard preparedness in these areas.",
          "India is well endowed with fresh water resources. Critically examine why it still suffers from water scarcity.",
          "Major cities of India are becoming more vulnerable to flood conditions. Discuss.",
          "The interlinking of rivers can provide viable solutions to the multi-dimensional inter-related problems of droughts, floods and interrupted navigation. Critically examine.",
          "Present an account of the Indus Water Treaty and examine its ecological, economic and political implications in the context of changing bilateral relations.",
          "In what way micro-watershed development projects help in water conservation in\ndrought-prone and semi-arid regions of India?",
          null
         ],
         "marker": {
          "opacity": 0.5,
          "size": 5
         },
         "mode": "markers+text",
         "name": "3_problems of droughts_of irrigation and_water resources",
         "text": [
          "",
          "",
          "",
          "",
          "",
          "",
          "",
          "",
          "",
          "",
          "",
          "",
          "",
          "",
          "",
          "",
          "3_problems of droughts_of irrigation and_water resources"
         ],
         "textfont": {
          "size": 12
         },
         "type": "scattergl",
         "x": [
          3.0840206146240234,
          2.2230358123779297,
          2.5002450942993164,
          2.358975887298584,
          2.2861311435699463,
          2.4528138637542725,
          3.106625556945801,
          2.1935698986053467,
          2.163281202316284,
          2.9195468425750732,
          3.043902635574341,
          2.414287567138672,
          2.2981481552124023,
          2.3772761821746826,
          2.6879773139953613,
          2.2724969387054443,
          2.5238959789276123
         ],
         "y": [
          1.4901171922683716,
          0.6870979070663452,
          0.7251575589179993,
          0.6837759017944336,
          0.69497150182724,
          0.6350919008255005,
          1.4044039249420166,
          0.699059009552002,
          0.8350510001182556,
          1.5468292236328125,
          1.4027767181396484,
          0.7335069179534912,
          0.7185232639312744,
          0.5938128232955933,
          1.127923846244812,
          0.6848907470703125,
          0.9164368510246277
         ]
        },
        {
         "hoverinfo": "text",
         "hovertext": [
          "Indian Philosophy and tradition played a significant role in conceiving and shaping the monuments and their art in India. Discuss.",
          "Discuss the main contributions of Gupta period and Chola period to Indian heritage and culture\n.",
          "Persian literary sources of medieval India reflect the spirit of the age. Comment.",
          "Gandhara sculpture owed as much to the Romans as to the Greeks. Explain.",
          "Chola architecture represents a high watermark in the evolution of temple architecture. Discuss",
          "The rock-cut architecture represents one of the most important sources of our knowledge of early Indian art and history. Discuss.",
          "How will you explain the medieval Indian temple sculptures represent the social life of those days?",
          "Pala period is the most significant phase in the history of Buddhism in India. Enumerate.",
          "Discuss the significance of the lion and bull figures in Indian mythology, art and architecture.",
          "Highlight the Central Asian and Greco Bactrian elements in the Gandhara art.",
          "Early Buddhist Stupa-art, while depicting folk motifs and narratives successfully expounds Buddhist ideals. Elucidate.",
          "Mesolithic rock cut architecture of India not only reflects the cultural life of the times but also a fine aesthetic sense comparable to modern painting. Critically evaluate this comment.",
          "Assess the importance of the accounts of the Chinese and Arab travellers in the reconstruction of the history of India.",
          "Safeguarding the Indian art heritage is the need of the moment.",
          "Evaluate the nature of the Bhakti Literature and its contribution to Indian culture.",
          "How do you justify the view that the level of excellence of the Gupta numismatic art is not at all noticeable in later times?",
          "Discuss the ‘Tandava’ dance as recorded in early Indian inscriptions.",
          null
         ],
         "marker": {
          "opacity": 0.5,
          "size": 5
         },
         "mode": "markers+text",
         "name": "4_indian art_of temple architecture_of the gupta",
         "text": [
          "",
          "",
          "",
          "",
          "",
          "",
          "",
          "",
          "",
          "",
          "",
          "",
          "",
          "",
          "",
          "",
          "",
          "4_indian art_of temple architecture_of the gupta"
         ],
         "textfont": {
          "size": 12
         },
         "type": "scattergl",
         "x": [
          8.543313980102539,
          8.466009140014648,
          8.889056205749512,
          8.507719993591309,
          8.535518646240234,
          8.55994701385498,
          8.324501991271973,
          8.45478343963623,
          8.520140647888184,
          8.433778762817383,
          8.466787338256836,
          8.406164169311523,
          8.743491172790527,
          8.567587852478027,
          8.843923568725586,
          8.643423080444336,
          8.484945297241211,
          8.552417755126953
         ],
         "y": [
          6.313422679901123,
          6.0540266036987305,
          5.515464782714844,
          6.283082008361816,
          6.453612327575684,
          6.42699670791626,
          6.436902046203613,
          6.090099811553955,
          6.237911224365234,
          6.351943016052246,
          6.37027645111084,
          6.362122535705566,
          5.41650390625,
          6.240140914916992,
          5.469389915466309,
          6.198958396911621,
          6.30238151550293,
          6.148426055908203
         ]
        },
        {
         "hoverinfo": "text",
         "hovertext": [
          "It is said that India has substantial reserves of shale oil and gas, which can feed the needs of the country for quarter century. However, tapping of the resource does not appear to be high on the agenda. Discuss critically the availability and issues involved.",
          "Petroleum refineries are not necessarily located nearer to crude oil producing areas, particularly in many of the developing countries. Explain its implications.",
          "With growing scarcity of fossil fuels, the atomic energy is gaining more and more significance in India. Discuss the availability of raw material required for the generation of atomic energy in India and in the world.",
          "“Inspite of adverse environmental impact, coal mining is still inevitable for development”.\nDiscuss",
          "Despite India being one of the countries of the Gondwanaland, its mining industry contributes much less to its Gross Domestic Product(GDP) in percentage. Discuss.",
          null
         ],
         "marker": {
          "opacity": 0.5,
          "size": 5
         },
         "mode": "markers+text",
         "name": "5_mining industry contributes_mining industry_its mining industry",
         "text": [
          "",
          "",
          "",
          "",
          "",
          "5_mining industry contributes_mining industry_its mining industry"
         ],
         "textfont": {
          "size": 12
         },
         "type": "scattergl",
         "x": [
          4.222353458404541,
          4.194464683532715,
          5.13578462600708,
          4.365808486938477,
          4.609318733215332,
          4.505545616149902
         ],
         "y": [
          2.2172677516937256,
          2.233522653579712,
          2.0723416805267334,
          2.2548699378967285,
          2.308699369430542,
          2.2173402309417725
         ]
        },
        {
         "hoverinfo": "text",
         "hovertext": [
          "Discuss the factors for localisation of agro-based food processing industries of North-West India.",
          "Analyze the factors for the highly decentralized cotton textile industry in India.",
          "Can the strategy of regional resource-based manufacturing help in promoting employment in India?",
          "Do you agree that there is a growing trend of opening new sugar mills in southern states of India? Discuss with justification.",
          "Mention the advantages of the cultivation of pulses because of which the year 2016 was declared as the International Year of Pulses by United Nations.",
          "From being net food importer in 1960s, India has emerged as a net food exporter to the world. Provide reasons.",
          null
         ],
         "marker": {
          "opacity": 0.5,
          "size": 5
         },
         "mode": "markers+text",
         "name": "6_of india discuss_net food exporter_india discuss",
         "text": [
          "",
          "",
          "",
          "",
          "",
          "",
          "6_of india discuss_net food exporter_india discuss"
         ],
         "textfont": {
          "size": 12
         },
         "type": "scattergl",
         "x": [
          6.3221893310546875,
          6.320040702819824,
          6.123473644256592,
          6.126358509063721,
          6.442272186279297,
          6.539639949798584,
          6.312328815460205
         ],
         "y": [
          2.2513866424560547,
          2.255373477935791,
          2.5538392066955566,
          2.218010425567627,
          2.219963788986206,
          2.1615617275238037,
          2.276689291000366
         ]
        },
        {
         "hoverinfo": "text",
         "hovertext": [
          "Do you think marriage as a sacrament in loosing its value in Modern India?",
          "How does Indian society maintain continuity in traditional social values? Enumerate the changes taking place in it.",
          "Trace the rise and growth of socio-religious reform movements with special reference to Young Bengal and Brahmo Samaj.",
          "What are the main features of Vedic society and religion? Do you think some of the features are still prevailing in Indian society?",
          "Are tolerance, assimilation and pluralism the key elements in the making of an Indian form of secularism? Justify your answer.",
          "Is diversity and pluralism in India under threat due to globalisation? Justify your answer.",
          "Given the diversities among the tribal communities in India, in which specific contexts should they be considered as a single category?",
          "Has caste lost its relevance in understanding the multi- cultural Indian Society? Elaborate your answer with illustrations.",
          "The spirit of tolerance and love is not only an interesting feature of Indian society from very early times, but it is also playing an important part at the present. Elaborate.",
          "Why is caste identity in India both fluid and static?",
          "“Caste system is assuming new identities and associational forms. Hence, caste system cannot be eradicated in India.”",
          "Customs and traditions suppress reason leading to obscurantism. Do you agree?",
          "How the Indian concept of secularism different from the western model of secularism?\nDiscuss.",
          "How do the Indian debates on secularism differ from the debates in the West?",
          "What are the challenges to our cultural practices in the name of secularism?",
          "Analyze the salience of ‘sect’ in Indian society vis-a-vis caste, region and religion.",
          "Sufis and medieval saints failed to modify either the religious ideas and practices or the outward structure of Hindu/ Muslim societies to any appreciable extent. Comment.",
          null
         ],
         "marker": {
          "opacity": 0.5,
          "size": 5
         },
         "mode": "markers+text",
         "name": "7_pluralism in india_in indian society_indian society",
         "text": [
          "",
          "",
          "",
          "",
          "",
          "",
          "",
          "",
          "",
          "",
          "",
          "",
          "",
          "",
          "",
          "",
          "",
          "7_pluralism in india_in indian society_indian society"
         ],
         "textfont": {
          "size": 12
         },
         "type": "scattergl",
         "x": [
          8.492355346679688,
          8.12178897857666,
          9.166826248168945,
          8.095438957214355,
          9.05258846282959,
          7.503072261810303,
          7.926640510559082,
          8.53429126739502,
          8.906038284301758,
          8.571650505065918,
          8.602473258972168,
          9.13426685333252,
          9.100271224975586,
          9.202824592590332,
          9.206435203552246,
          8.780221939086914,
          9.19839859008789,
          8.682092666625977
         ],
         "y": [
          4.533181667327881,
          4.677957534790039,
          4.292057514190674,
          4.799588203430176,
          4.827144622802734,
          4.476909637451172,
          4.429605484008789,
          4.321049690246582,
          4.610509395599365,
          4.349865436553955,
          4.348445892333984,
          5.092243671417236,
          4.888192176818848,
          4.947901248931885,
          4.943967342376709,
          4.395523548126221,
          5.0959696769714355,
          4.648830413818359
         ]
        },
        {
         "hoverinfo": "text",
         "hovertext": [
          "What is the basis of regionalism? Is it that unequal distribution of benefits of development on regional basis eventually promotes regionalism? Substantiate your answer.",
          "Do we have cultural pockets of small India all over the nation? Elaborate with examples.",
          "In the context of the diversity of India, can it be said that the regions form cultural units rather than the States? Give reasons with examples for your view point.",
          "Has the formation of linguistic States strengthened the cause of Indian Unity?",
          "Do you agree that regionalism in India appears to be a consequence of rising cultural assertiveness? Argue.",
          "Assess the main administrative issues and socio-cultural problems in the integration process of Indian Princely States.",
          "To what extent globalization has influenced the core of cultural diversity in India? Explain.",
          "Growing feeling of regionalism is an important factor in generation of demand for a separate state. Discuss.",
          null
         ],
         "marker": {
          "opacity": 0.5,
          "size": 5
         },
         "mode": "markers+text",
         "name": "8_of regionalism is_of regionalism_regions form cultural",
         "text": [
          "",
          "",
          "",
          "",
          "",
          "",
          "",
          "",
          "8_of regionalism is_of regionalism_regions form cultural"
         ],
         "textfont": {
          "size": 12
         },
         "type": "scattergl",
         "x": [
          7.838099002838135,
          7.712614059448242,
          7.791399002075195,
          7.901521682739258,
          7.650338172912598,
          8.076700210571289,
          7.197691440582275,
          8.015507698059082,
          7.772984027862549
         ],
         "y": [
          3.7370193004608154,
          4.167707443237305,
          4.060912609100342,
          3.7008707523345947,
          4.039653778076172,
          3.6822662353515625,
          4.481685161590576,
          3.541081666946411,
          3.9263997077941895
         ]
        },
        {
         "hoverinfo": "text",
         "hovertext": [
          "How is efficient and affordable urban mass transport key to the rapid economic development in India?",
          "With a brief background of quality of urban life in India, introduce the objectives and strategy of the 'Smart City Programme'.",
          "Does urbanization lead to more segregation and/or marginalization of the poor in Indian metropolises?",
          "Discuss the various social problems which originated out of the speedy process of urbanization in India.",
          "COVID-19 pandemic accelerated class inequalities and poverty in India. Comment.",
          "Mention core strategies for the transformation of aspirational districts in India and explain the nature of convergence, collaboration and competition for its success.",
          "How is the growth of Tier 2 cities related to the rise of a new middle class with an emphasis on the culture of consumption?",
          "“The growth of cities as I.T. hubs has opened up new avenues of employment, but has also created new problems”. Substantiate this statement with examples",
          "Smart cities in India cannot sustain without smart vilages. Discuss this statement in the backdrop of rural urban integration.",
          "What are the main socio-economic implications arising out of the development of IT industries in major cities of India?",
          null
         ],
         "marker": {
          "opacity": 0.5,
          "size": 5
         },
         "mode": "markers+text",
         "name": "9_of urbanization_of urbanization in_urbanization",
         "text": [
          "",
          "",
          "",
          "",
          "",
          "",
          "",
          "",
          "",
          "",
          "9_of urbanization_of urbanization in_urbanization"
         ],
         "textfont": {
          "size": 12
         },
         "type": "scattergl",
         "x": [
          5.568870544433594,
          5.52925968170166,
          5.824960708618164,
          5.7623162269592285,
          6.215207099914551,
          5.9922332763671875,
          5.543306827545166,
          5.476459503173828,
          5.595111846923828,
          5.793595314025879,
          5.730132102966309
         ],
         "y": [
          3.1054890155792236,
          3.530071258544922,
          3.480386734008789,
          3.4533145427703857,
          3.4270834922790527,
          3.685858726501465,
          3.4950380325317383,
          3.5027620792388916,
          3.557223081588745,
          3.382763624191284,
          3.4619991779327393
         ]
        },
        {
         "hoverinfo": "text",
         "hovertext": [
          "\"An essential condition to eradicate poverty is to liberate the poor from the process of deprivation.\" Substantiate this statement with suitable examples.",
          "How do you explain the statistics that show that the sex ratio in Tribes in India is more favourable to women than the sex ratio among Scheduled Castes?",
          "How does patriarchy impact the position of a middle class working woman in India?",
          "‘Women’s movement in India has not addressed the issues of women of lower social strata.’ Substantiate your view.",
          "What are the continued challenges for women in India against time and space?",
          "‘Despite implementation of various programmes for eradication of poverty by the government in India, poverty is still existing’. Explain by giving reasons.",
          "“Empowering women is the key to control population growth.” Discuss.",
          "Critically examine whether growing population is the cause of poverty OR poverty is the mains cause of population increase in India.",
          "Why do some of the most prosperous regions of India have an adverse sex ratio for women? Give your arguments.",
          "The women’s questions arose in modern India as a part of the 19th century social reform movement. What are the major issues and debates concerning women in that period?",
          "Explain why suicide among young women is increasing in Indian Society.",
          "“Male membership needs to be encouraged in order to make women’s organization free from gender bias.” Comment.",
          "Discuss the various economic and\nsocio-cultural forces that are driving increasing feminization of agriculture in India.",
          null
         ],
         "marker": {
          "opacity": 0.5,
          "size": 5
         },
         "mode": "markers+text",
         "name": "10_patriarchy impact the_population growth discuss_the sex ratio",
         "text": [
          "",
          "",
          "",
          "",
          "",
          "",
          "",
          "",
          "",
          "",
          "",
          "",
          "",
          "10_patriarchy impact the_population growth discuss_the sex ratio"
         ],
         "textfont": {
          "size": 12
         },
         "type": "scattergl",
         "x": [
          6.494711399078369,
          6.846725940704346,
          6.788543701171875,
          6.866801738739014,
          6.9415178298950195,
          6.336730003356934,
          6.574667453765869,
          6.279136657714844,
          6.729050159454346,
          6.937939167022705,
          6.78182315826416,
          6.9297308921813965,
          6.704895973205566,
          6.70863676071167
         ],
         "y": [
          3.5820889472961426,
          3.139037609100342,
          3.0841548442840576,
          3.1820719242095947,
          3.102121591567993,
          3.4680263996124268,
          3.2851181030273438,
          3.402993679046631,
          3.0266809463500977,
          3.0884149074554443,
          3.0628509521484375,
          3.2716846466064453,
          2.9329047203063965,
          3.202165126800537
         ]
        }
       ],
       "layout": {
        "annotations": [
         {
          "showarrow": false,
          "text": "D1",
          "x": 0.860669219493866,
          "y": 3.963197538256645,
          "yshift": 10
         },
         {
          "showarrow": false,
          "text": "D2",
          "x": 6.231376212835312,
          "xshift": 10,
          "y": 7.421654176712036
         }
        ],
        "height": 750,
        "shapes": [
         {
          "line": {
           "color": "#CFD8DC",
           "width": 2
          },
          "type": "line",
          "x0": 6.231376212835312,
          "x1": 6.231376212835312,
          "y0": 0.5047408998012543,
          "y1": 7.421654176712036
         },
         {
          "line": {
           "color": "#9E9E9E",
           "width": 2
          },
          "type": "line",
          "x0": 0.860669219493866,
          "x1": 11.602083206176758,
          "y0": 3.963197538256645,
          "y1": 3.963197538256645
         }
        ],
        "template": {
         "data": {
          "bar": [
           {
            "error_x": {
             "color": "rgb(36,36,36)"
            },
            "error_y": {
             "color": "rgb(36,36,36)"
            },
            "marker": {
             "line": {
              "color": "white",
              "width": 0.5
             },
             "pattern": {
              "fillmode": "overlay",
              "size": 10,
              "solidity": 0.2
             }
            },
            "type": "bar"
           }
          ],
          "barpolar": [
           {
            "marker": {
             "line": {
              "color": "white",
              "width": 0.5
             },
             "pattern": {
              "fillmode": "overlay",
              "size": 10,
              "solidity": 0.2
             }
            },
            "type": "barpolar"
           }
          ],
          "carpet": [
           {
            "aaxis": {
             "endlinecolor": "rgb(36,36,36)",
             "gridcolor": "white",
             "linecolor": "white",
             "minorgridcolor": "white",
             "startlinecolor": "rgb(36,36,36)"
            },
            "baxis": {
             "endlinecolor": "rgb(36,36,36)",
             "gridcolor": "white",
             "linecolor": "white",
             "minorgridcolor": "white",
             "startlinecolor": "rgb(36,36,36)"
            },
            "type": "carpet"
           }
          ],
          "choropleth": [
           {
            "colorbar": {
             "outlinewidth": 1,
             "tickcolor": "rgb(36,36,36)",
             "ticks": "outside"
            },
            "type": "choropleth"
           }
          ],
          "contour": [
           {
            "colorbar": {
             "outlinewidth": 1,
             "tickcolor": "rgb(36,36,36)",
             "ticks": "outside"
            },
            "colorscale": [
             [
              0,
              "#440154"
             ],
             [
              0.1111111111111111,
              "#482878"
             ],
             [
              0.2222222222222222,
              "#3e4989"
             ],
             [
              0.3333333333333333,
              "#31688e"
             ],
             [
              0.4444444444444444,
              "#26828e"
             ],
             [
              0.5555555555555556,
              "#1f9e89"
             ],
             [
              0.6666666666666666,
              "#35b779"
             ],
             [
              0.7777777777777778,
              "#6ece58"
             ],
             [
              0.8888888888888888,
              "#b5de2b"
             ],
             [
              1,
              "#fde725"
             ]
            ],
            "type": "contour"
           }
          ],
          "contourcarpet": [
           {
            "colorbar": {
             "outlinewidth": 1,
             "tickcolor": "rgb(36,36,36)",
             "ticks": "outside"
            },
            "type": "contourcarpet"
           }
          ],
          "heatmap": [
           {
            "colorbar": {
             "outlinewidth": 1,
             "tickcolor": "rgb(36,36,36)",
             "ticks": "outside"
            },
            "colorscale": [
             [
              0,
              "#440154"
             ],
             [
              0.1111111111111111,
              "#482878"
             ],
             [
              0.2222222222222222,
              "#3e4989"
             ],
             [
              0.3333333333333333,
              "#31688e"
             ],
             [
              0.4444444444444444,
              "#26828e"
             ],
             [
              0.5555555555555556,
              "#1f9e89"
             ],
             [
              0.6666666666666666,
              "#35b779"
             ],
             [
              0.7777777777777778,
              "#6ece58"
             ],
             [
              0.8888888888888888,
              "#b5de2b"
             ],
             [
              1,
              "#fde725"
             ]
            ],
            "type": "heatmap"
           }
          ],
          "heatmapgl": [
           {
            "colorbar": {
             "outlinewidth": 1,
             "tickcolor": "rgb(36,36,36)",
             "ticks": "outside"
            },
            "colorscale": [
             [
              0,
              "#440154"
             ],
             [
              0.1111111111111111,
              "#482878"
             ],
             [
              0.2222222222222222,
              "#3e4989"
             ],
             [
              0.3333333333333333,
              "#31688e"
             ],
             [
              0.4444444444444444,
              "#26828e"
             ],
             [
              0.5555555555555556,
              "#1f9e89"
             ],
             [
              0.6666666666666666,
              "#35b779"
             ],
             [
              0.7777777777777778,
              "#6ece58"
             ],
             [
              0.8888888888888888,
              "#b5de2b"
             ],
             [
              1,
              "#fde725"
             ]
            ],
            "type": "heatmapgl"
           }
          ],
          "histogram": [
           {
            "marker": {
             "line": {
              "color": "white",
              "width": 0.6
             }
            },
            "type": "histogram"
           }
          ],
          "histogram2d": [
           {
            "colorbar": {
             "outlinewidth": 1,
             "tickcolor": "rgb(36,36,36)",
             "ticks": "outside"
            },
            "colorscale": [
             [
              0,
              "#440154"
             ],
             [
              0.1111111111111111,
              "#482878"
             ],
             [
              0.2222222222222222,
              "#3e4989"
             ],
             [
              0.3333333333333333,
              "#31688e"
             ],
             [
              0.4444444444444444,
              "#26828e"
             ],
             [
              0.5555555555555556,
              "#1f9e89"
             ],
             [
              0.6666666666666666,
              "#35b779"
             ],
             [
              0.7777777777777778,
              "#6ece58"
             ],
             [
              0.8888888888888888,
              "#b5de2b"
             ],
             [
              1,
              "#fde725"
             ]
            ],
            "type": "histogram2d"
           }
          ],
          "histogram2dcontour": [
           {
            "colorbar": {
             "outlinewidth": 1,
             "tickcolor": "rgb(36,36,36)",
             "ticks": "outside"
            },
            "colorscale": [
             [
              0,
              "#440154"
             ],
             [
              0.1111111111111111,
              "#482878"
             ],
             [
              0.2222222222222222,
              "#3e4989"
             ],
             [
              0.3333333333333333,
              "#31688e"
             ],
             [
              0.4444444444444444,
              "#26828e"
             ],
             [
              0.5555555555555556,
              "#1f9e89"
             ],
             [
              0.6666666666666666,
              "#35b779"
             ],
             [
              0.7777777777777778,
              "#6ece58"
             ],
             [
              0.8888888888888888,
              "#b5de2b"
             ],
             [
              1,
              "#fde725"
             ]
            ],
            "type": "histogram2dcontour"
           }
          ],
          "mesh3d": [
           {
            "colorbar": {
             "outlinewidth": 1,
             "tickcolor": "rgb(36,36,36)",
             "ticks": "outside"
            },
            "type": "mesh3d"
           }
          ],
          "parcoords": [
           {
            "line": {
             "colorbar": {
              "outlinewidth": 1,
              "tickcolor": "rgb(36,36,36)",
              "ticks": "outside"
             }
            },
            "type": "parcoords"
           }
          ],
          "pie": [
           {
            "automargin": true,
            "type": "pie"
           }
          ],
          "scatter": [
           {
            "fillpattern": {
             "fillmode": "overlay",
             "size": 10,
             "solidity": 0.2
            },
            "type": "scatter"
           }
          ],
          "scatter3d": [
           {
            "line": {
             "colorbar": {
              "outlinewidth": 1,
              "tickcolor": "rgb(36,36,36)",
              "ticks": "outside"
             }
            },
            "marker": {
             "colorbar": {
              "outlinewidth": 1,
              "tickcolor": "rgb(36,36,36)",
              "ticks": "outside"
             }
            },
            "type": "scatter3d"
           }
          ],
          "scattercarpet": [
           {
            "marker": {
             "colorbar": {
              "outlinewidth": 1,
              "tickcolor": "rgb(36,36,36)",
              "ticks": "outside"
             }
            },
            "type": "scattercarpet"
           }
          ],
          "scattergeo": [
           {
            "marker": {
             "colorbar": {
              "outlinewidth": 1,
              "tickcolor": "rgb(36,36,36)",
              "ticks": "outside"
             }
            },
            "type": "scattergeo"
           }
          ],
          "scattergl": [
           {
            "marker": {
             "colorbar": {
              "outlinewidth": 1,
              "tickcolor": "rgb(36,36,36)",
              "ticks": "outside"
             }
            },
            "type": "scattergl"
           }
          ],
          "scattermapbox": [
           {
            "marker": {
             "colorbar": {
              "outlinewidth": 1,
              "tickcolor": "rgb(36,36,36)",
              "ticks": "outside"
             }
            },
            "type": "scattermapbox"
           }
          ],
          "scatterpolar": [
           {
            "marker": {
             "colorbar": {
              "outlinewidth": 1,
              "tickcolor": "rgb(36,36,36)",
              "ticks": "outside"
             }
            },
            "type": "scatterpolar"
           }
          ],
          "scatterpolargl": [
           {
            "marker": {
             "colorbar": {
              "outlinewidth": 1,
              "tickcolor": "rgb(36,36,36)",
              "ticks": "outside"
             }
            },
            "type": "scatterpolargl"
           }
          ],
          "scatterternary": [
           {
            "marker": {
             "colorbar": {
              "outlinewidth": 1,
              "tickcolor": "rgb(36,36,36)",
              "ticks": "outside"
             }
            },
            "type": "scatterternary"
           }
          ],
          "surface": [
           {
            "colorbar": {
             "outlinewidth": 1,
             "tickcolor": "rgb(36,36,36)",
             "ticks": "outside"
            },
            "colorscale": [
             [
              0,
              "#440154"
             ],
             [
              0.1111111111111111,
              "#482878"
             ],
             [
              0.2222222222222222,
              "#3e4989"
             ],
             [
              0.3333333333333333,
              "#31688e"
             ],
             [
              0.4444444444444444,
              "#26828e"
             ],
             [
              0.5555555555555556,
              "#1f9e89"
             ],
             [
              0.6666666666666666,
              "#35b779"
             ],
             [
              0.7777777777777778,
              "#6ece58"
             ],
             [
              0.8888888888888888,
              "#b5de2b"
             ],
             [
              1,
              "#fde725"
             ]
            ],
            "type": "surface"
           }
          ],
          "table": [
           {
            "cells": {
             "fill": {
              "color": "rgb(237,237,237)"
             },
             "line": {
              "color": "white"
             }
            },
            "header": {
             "fill": {
              "color": "rgb(217,217,217)"
             },
             "line": {
              "color": "white"
             }
            },
            "type": "table"
           }
          ]
         },
         "layout": {
          "annotationdefaults": {
           "arrowhead": 0,
           "arrowwidth": 1
          },
          "autotypenumbers": "strict",
          "coloraxis": {
           "colorbar": {
            "outlinewidth": 1,
            "tickcolor": "rgb(36,36,36)",
            "ticks": "outside"
           }
          },
          "colorscale": {
           "diverging": [
            [
             0,
             "rgb(103,0,31)"
            ],
            [
             0.1,
             "rgb(178,24,43)"
            ],
            [
             0.2,
             "rgb(214,96,77)"
            ],
            [
             0.3,
             "rgb(244,165,130)"
            ],
            [
             0.4,
             "rgb(253,219,199)"
            ],
            [
             0.5,
             "rgb(247,247,247)"
            ],
            [
             0.6,
             "rgb(209,229,240)"
            ],
            [
             0.7,
             "rgb(146,197,222)"
            ],
            [
             0.8,
             "rgb(67,147,195)"
            ],
            [
             0.9,
             "rgb(33,102,172)"
            ],
            [
             1,
             "rgb(5,48,97)"
            ]
           ],
           "sequential": [
            [
             0,
             "#440154"
            ],
            [
             0.1111111111111111,
             "#482878"
            ],
            [
             0.2222222222222222,
             "#3e4989"
            ],
            [
             0.3333333333333333,
             "#31688e"
            ],
            [
             0.4444444444444444,
             "#26828e"
            ],
            [
             0.5555555555555556,
             "#1f9e89"
            ],
            [
             0.6666666666666666,
             "#35b779"
            ],
            [
             0.7777777777777778,
             "#6ece58"
            ],
            [
             0.8888888888888888,
             "#b5de2b"
            ],
            [
             1,
             "#fde725"
            ]
           ],
           "sequentialminus": [
            [
             0,
             "#440154"
            ],
            [
             0.1111111111111111,
             "#482878"
            ],
            [
             0.2222222222222222,
             "#3e4989"
            ],
            [
             0.3333333333333333,
             "#31688e"
            ],
            [
             0.4444444444444444,
             "#26828e"
            ],
            [
             0.5555555555555556,
             "#1f9e89"
            ],
            [
             0.6666666666666666,
             "#35b779"
            ],
            [
             0.7777777777777778,
             "#6ece58"
            ],
            [
             0.8888888888888888,
             "#b5de2b"
            ],
            [
             1,
             "#fde725"
            ]
           ]
          },
          "colorway": [
           "#1F77B4",
           "#FF7F0E",
           "#2CA02C",
           "#D62728",
           "#9467BD",
           "#8C564B",
           "#E377C2",
           "#7F7F7F",
           "#BCBD22",
           "#17BECF"
          ],
          "font": {
           "color": "rgb(36,36,36)"
          },
          "geo": {
           "bgcolor": "white",
           "lakecolor": "white",
           "landcolor": "white",
           "showlakes": true,
           "showland": true,
           "subunitcolor": "white"
          },
          "hoverlabel": {
           "align": "left"
          },
          "hovermode": "closest",
          "mapbox": {
           "style": "light"
          },
          "paper_bgcolor": "white",
          "plot_bgcolor": "white",
          "polar": {
           "angularaxis": {
            "gridcolor": "rgb(232,232,232)",
            "linecolor": "rgb(36,36,36)",
            "showgrid": false,
            "showline": true,
            "ticks": "outside"
           },
           "bgcolor": "white",
           "radialaxis": {
            "gridcolor": "rgb(232,232,232)",
            "linecolor": "rgb(36,36,36)",
            "showgrid": false,
            "showline": true,
            "ticks": "outside"
           }
          },
          "scene": {
           "xaxis": {
            "backgroundcolor": "white",
            "gridcolor": "rgb(232,232,232)",
            "gridwidth": 2,
            "linecolor": "rgb(36,36,36)",
            "showbackground": true,
            "showgrid": false,
            "showline": true,
            "ticks": "outside",
            "zeroline": false,
            "zerolinecolor": "rgb(36,36,36)"
           },
           "yaxis": {
            "backgroundcolor": "white",
            "gridcolor": "rgb(232,232,232)",
            "gridwidth": 2,
            "linecolor": "rgb(36,36,36)",
            "showbackground": true,
            "showgrid": false,
            "showline": true,
            "ticks": "outside",
            "zeroline": false,
            "zerolinecolor": "rgb(36,36,36)"
           },
           "zaxis": {
            "backgroundcolor": "white",
            "gridcolor": "rgb(232,232,232)",
            "gridwidth": 2,
            "linecolor": "rgb(36,36,36)",
            "showbackground": true,
            "showgrid": false,
            "showline": true,
            "ticks": "outside",
            "zeroline": false,
            "zerolinecolor": "rgb(36,36,36)"
           }
          },
          "shapedefaults": {
           "fillcolor": "black",
           "line": {
            "width": 0
           },
           "opacity": 0.3
          },
          "ternary": {
           "aaxis": {
            "gridcolor": "rgb(232,232,232)",
            "linecolor": "rgb(36,36,36)",
            "showgrid": false,
            "showline": true,
            "ticks": "outside"
           },
           "baxis": {
            "gridcolor": "rgb(232,232,232)",
            "linecolor": "rgb(36,36,36)",
            "showgrid": false,
            "showline": true,
            "ticks": "outside"
           },
           "bgcolor": "white",
           "caxis": {
            "gridcolor": "rgb(232,232,232)",
            "linecolor": "rgb(36,36,36)",
            "showgrid": false,
            "showline": true,
            "ticks": "outside"
           }
          },
          "title": {
           "x": 0.05
          },
          "xaxis": {
           "automargin": true,
           "gridcolor": "rgb(232,232,232)",
           "linecolor": "rgb(36,36,36)",
           "showgrid": false,
           "showline": true,
           "ticks": "outside",
           "title": {
            "standoff": 15
           },
           "zeroline": false,
           "zerolinecolor": "rgb(36,36,36)"
          },
          "yaxis": {
           "automargin": true,
           "gridcolor": "rgb(232,232,232)",
           "linecolor": "rgb(36,36,36)",
           "showgrid": false,
           "showline": true,
           "ticks": "outside",
           "title": {
            "standoff": 15
           },
           "zeroline": false,
           "zerolinecolor": "rgb(36,36,36)"
          }
         }
        },
        "title": {
         "font": {
          "color": "Black",
          "size": 22
         },
         "text": "<b>Documents and Topics</b>",
         "x": 0.5,
         "xanchor": "center",
         "yanchor": "top"
        },
        "width": 1200,
        "xaxis": {
         "visible": false
        },
        "yaxis": {
         "visible": false
        }
       }
      }
     },
     "metadata": {},
     "output_type": "display_data"
    }
   ],
   "source": [
    "model.visualize_documents(questions)"
   ]
  },
  {
   "cell_type": "code",
   "execution_count": 32,
   "metadata": {},
   "outputs": [],
   "source": [
    "#UPDATING C-TF-IDF\n",
    "from bertopic.vectorizers import ClassTfidfTransformer\n",
    "ctfidf_model = ClassTfidfTransformer(bm25_weighting=True,reduce_frequent_words=True)\n",
    "model = BERTopic(embedding_model=sentence_model,representation_model=representation,ctfidf_model=ctfidf_model,verbose=True,calculate_probabilities=True, nr_topics=20, n_gram_range=(1, 3), min_topic_size=5)"
   ]
  },
  {
   "cell_type": "code",
   "execution_count": 33,
   "metadata": {},
   "outputs": [
    {
     "name": "stderr",
     "output_type": "stream",
     "text": [
      "2024-07-12 14:15:43,835 - BERTopic - Embedding - Transforming documents to embeddings.\n",
      "Batches: 100%|██████████| 8/8 [00:11<00:00,  1.38s/it]\n",
      "2024-07-12 14:15:54,894 - BERTopic - Embedding - Completed ✓\n",
      "2024-07-12 14:15:54,895 - BERTopic - Dimensionality - Fitting the dimensionality reduction algorithm\n",
      "2024-07-12 14:16:01,181 - BERTopic - Dimensionality - Completed ✓\n",
      "2024-07-12 14:16:01,182 - BERTopic - Cluster - Start clustering the reduced embeddings\n",
      "2024-07-12 14:16:01,219 - BERTopic - Cluster - Completed ✓\n",
      "2024-07-12 14:16:01,221 - BERTopic - Representation - Extracting topics from clusters using representation models.\n",
      "2024-07-12 14:16:12,427 - BERTopic - Representation - Completed ✓\n",
      "2024-07-12 14:16:12,428 - BERTopic - Topic reduction - Reducing number of topics\n",
      "2024-07-12 14:16:12,430 - BERTopic - Topic reduction - Reduced number of topics from 8 to 8\n"
     ]
    }
   ],
   "source": [
    "topics, probs = model.fit_transform(questions)"
   ]
  },
  {
   "cell_type": "code",
   "execution_count": 34,
   "metadata": {},
   "outputs": [
    {
     "data": {
      "text/html": [
       "<div>\n",
       "<style scoped>\n",
       "    .dataframe tbody tr th:only-of-type {\n",
       "        vertical-align: middle;\n",
       "    }\n",
       "\n",
       "    .dataframe tbody tr th {\n",
       "        vertical-align: top;\n",
       "    }\n",
       "\n",
       "    .dataframe thead th {\n",
       "        text-align: right;\n",
       "    }\n",
       "</style>\n",
       "<table border=\"1\" class=\"dataframe\">\n",
       "  <thead>\n",
       "    <tr style=\"text-align: right;\">\n",
       "      <th></th>\n",
       "      <th>Topic</th>\n",
       "      <th>Count</th>\n",
       "      <th>Name</th>\n",
       "      <th>Representation</th>\n",
       "      <th>Representative_Docs</th>\n",
       "    </tr>\n",
       "  </thead>\n",
       "  <tbody>\n",
       "    <tr>\n",
       "      <th>0</th>\n",
       "      <td>-1</td>\n",
       "      <td>33</td>\n",
       "      <td>-1_scheduled tribes_women in india_indian_tribes</td>\n",
       "      <td>[scheduled tribes, women in india, indian, tri...</td>\n",
       "      <td>[The political and administrative reorganizati...</td>\n",
       "    </tr>\n",
       "    <tr>\n",
       "      <th>1</th>\n",
       "      <td>0</td>\n",
       "      <td>64</td>\n",
       "      <td>0_glaciers_climate_climate change_western ghats</td>\n",
       "      <td>[glaciers, climate, climate change, western gh...</td>\n",
       "      <td>[What do you understand by the phenomenon of ‘...</td>\n",
       "    </tr>\n",
       "    <tr>\n",
       "      <th>2</th>\n",
       "      <td>1</td>\n",
       "      <td>18</td>\n",
       "      <td>1_indian art_of vijayanagar was_of vijayanagar...</td>\n",
       "      <td>[indian art, of vijayanagar was, of vijayanaga...</td>\n",
       "      <td>[The rock-cut architecture represents one of t...</td>\n",
       "    </tr>\n",
       "    <tr>\n",
       "      <th>3</th>\n",
       "      <td>2</td>\n",
       "      <td>43</td>\n",
       "      <td>2_of indian independence_gandhi in the_the gan...</td>\n",
       "      <td>[of indian independence, gandhi in the, the ga...</td>\n",
       "      <td>[Why did the armies of the British East India ...</td>\n",
       "    </tr>\n",
       "    <tr>\n",
       "      <th>4</th>\n",
       "      <td>3</td>\n",
       "      <td>11</td>\n",
       "      <td>3_energy in india_oil producing areas_oil prod...</td>\n",
       "      <td>[energy in india, oil producing areas, oil pro...</td>\n",
       "      <td>[Despite India being one of the countries of t...</td>\n",
       "    </tr>\n",
       "    <tr>\n",
       "      <th>5</th>\n",
       "      <td>4</td>\n",
       "      <td>15</td>\n",
       "      <td>4_poverty is the_poverty is to_poverty by the_...</td>\n",
       "      <td>[poverty is the, poverty is to, poverty by the...</td>\n",
       "      <td>[‘Despite implementation of various programmes...</td>\n",
       "    </tr>\n",
       "    <tr>\n",
       "      <th>6</th>\n",
       "      <td>5</td>\n",
       "      <td>20</td>\n",
       "      <td>5_development in india_urbanization_economic d...</td>\n",
       "      <td>[development in india, urbanization, economic ...</td>\n",
       "      <td>[Mention the advantages of the cultivation of ...</td>\n",
       "    </tr>\n",
       "    <tr>\n",
       "      <th>7</th>\n",
       "      <td>6</td>\n",
       "      <td>31</td>\n",
       "      <td>6_indian society_in indian society_diversity i...</td>\n",
       "      <td>[indian society, in indian society, diversity ...</td>\n",
       "      <td>[Globalisation is generally said to promote cu...</td>\n",
       "    </tr>\n",
       "  </tbody>\n",
       "</table>\n",
       "</div>"
      ],
      "text/plain": [
       "   Topic  Count                                               Name  \\\n",
       "0     -1     33   -1_scheduled tribes_women in india_indian_tribes   \n",
       "1      0     64    0_glaciers_climate_climate change_western ghats   \n",
       "2      1     18  1_indian art_of vijayanagar was_of vijayanagar...   \n",
       "3      2     43  2_of indian independence_gandhi in the_the gan...   \n",
       "4      3     11  3_energy in india_oil producing areas_oil prod...   \n",
       "5      4     15  4_poverty is the_poverty is to_poverty by the_...   \n",
       "6      5     20  5_development in india_urbanization_economic d...   \n",
       "7      6     31  6_indian society_in indian society_diversity i...   \n",
       "\n",
       "                                      Representation  \\\n",
       "0  [scheduled tribes, women in india, indian, tri...   \n",
       "1  [glaciers, climate, climate change, western gh...   \n",
       "2  [indian art, of vijayanagar was, of vijayanaga...   \n",
       "3  [of indian independence, gandhi in the, the ga...   \n",
       "4  [energy in india, oil producing areas, oil pro...   \n",
       "5  [poverty is the, poverty is to, poverty by the...   \n",
       "6  [development in india, urbanization, economic ...   \n",
       "7  [indian society, in indian society, diversity ...   \n",
       "\n",
       "                                 Representative_Docs  \n",
       "0  [The political and administrative reorganizati...  \n",
       "1  [What do you understand by the phenomenon of ‘...  \n",
       "2  [The rock-cut architecture represents one of t...  \n",
       "3  [Why did the armies of the British East India ...  \n",
       "4  [Despite India being one of the countries of t...  \n",
       "5  [‘Despite implementation of various programmes...  \n",
       "6  [Mention the advantages of the cultivation of ...  \n",
       "7  [Globalisation is generally said to promote cu...  "
      ]
     },
     "execution_count": 34,
     "metadata": {},
     "output_type": "execute_result"
    }
   ],
   "source": [
    "model.get_topic_info()"
   ]
  },
  {
   "cell_type": "code",
   "execution_count": 35,
   "metadata": {},
   "outputs": [
    {
     "data": {
      "application/vnd.plotly.v1+json": {
       "config": {
        "plotlyServerURL": "https://plot.ly"
       },
       "data": [
        {
         "hoverinfo": "text",
         "hovertext": [
          "Defying the barriers of age, gender and religion, the Indian women became the torchbearer during the struggle for freedom in India. Discuss.",
          "Trace the rise and growth of socio-religious reform movements with special reference to Young Bengal and Brahmo Samaj.",
          "Evaluate the nature of the Bhakti Literature and its contribution to Indian culture.",
          "The life cycle of a joint family depends on economic factors rather than social values. Discuss.",
          "How does India see its place in the economic space of rising natural resources rich Africa?",
          "‘Latecomer’ Industrial Revolution in Japan involved certain factors that were markedly different from what West had experienced.” Analyze.",
          "Elucidate the relationship between globalization and new technology in a world of scarce resources, with special reference to India.",
          "Explain the role of geographical factors towards the development of Ancient India.",
          "Defining blue revolution, explain the problems and strategies for pisciculture development in India.",
          "Examine the uniqueness of tribal knowledge system when compared with mainstream knowledge and cultural systems.",
          "Critically examine the effect of globalization on the aged population in India.",
          "Why is India considered as a sub-continent? Elaborate your answer.",
          "Assess the main administrative issues and socio-cultural problems in the integration process of Indian Princely States.",
          "The Bhakti movement received a remarkable re-orientation with the advent of Sri Chaitanya Mahaprabhu. Discuss.",
          "Examine how the decline of traditional artisanal industry in colonial India crippled the rural economy.",
          "To what extent has the urban planning and culture of the Indus Valley Civilization provided inputs to the present day urbanization?\nDiscuss.",
          "The political and administrative reorganization of states and territories has been a continuous ongoing process since the mid-nineteenth century. Discuss with examples.",
          "Discuss the positive and negative effects of globalization on women in India?",
          "Debate the issue whether and how contemporary movements for assertion of Dalit identity work towards annihilation of caste.",
          "Discuss whether formation of new states in recent times is beneficial or not for the economy of India.",
          "‘Communalism arises either due to power struggle or relative deprivation.’ Argue by giving suitable illustrations.",
          "From being net food importer in 1960s, India has emerged as a net food exporter to the world. Provide reasons.",
          "Why are the tribals in India referred to as 'the Scheduled Tribes? Indicate the major provisions in the Constitution of India for their upliftment.",
          "Examine the role of ‘Gig Economy’ in the process of empowerment of women in India.",
          "“Africa was chopped into states artificially created by accidents of European competition.” Analyze.",
          "Critically discuss the objectives of Bhoodan and Gramdan movements initiated by AcharyaVinobhaBhave and their success.",
          "The ancient civilization in Indian sub continent differed from those of Egypt , Mesopotamia and Greece in that its culture and traditions have been preserved without breakdown to the present day. Comment",
          "What are the two major legal initiatives by the State since Independence addressing discrimination against Scheduled Tribes(STs)?",
          "Explore and evaluate the impact of ‘Work From Home’ on family relationships.",
          "COVID-19 pandemic accelerated class inequalities and poverty in India. Comment.",
          "Why did the Green Revolution in India virtually by-pass the eastern region despite fertile soil and good availability of water?",
          "Clarify how mid-eighteenth century India was beset with the spectre of a fragmented polity.",
          "What were the major technological changes introduced during the Sultanate period? How did those technological changes influence the Indian society?",
          null
         ],
         "marker": {
          "color": "#CFD8DC",
          "opacity": 0.5,
          "size": 5
         },
         "mode": "markers+text",
         "name": "other",
         "showlegend": false,
         "type": "scattergl",
         "x": [
          8.53131103515625,
          9.599448204040527,
          9.304832458496094,
          9.841269493103027,
          7.361583232879639,
          7.302974224090576,
          8.806733131408691,
          8.060410499572754,
          6.375278949737549,
          9.228615760803223,
          9.140603065490723,
          8.966323852539062,
          8.42647647857666,
          9.160765647888184,
          7.409010887145996,
          8.22458553314209,
          8.223292350769043,
          9.267668724060059,
          10.106059074401855,
          8.222344398498535,
          9.842426300048828,
          7.299529075622559,
          8.798383712768555,
          9.382923126220703,
          8.120741844177246,
          9.075817108154297,
          9.13088607788086,
          8.695901870727539,
          9.839874267578125,
          9.422730445861816,
          7.932475566864014,
          8.543253898620605,
          7.7890496253967285,
          8.649502754211426
         ],
         "y": [
          6.564291954040527,
          5.892383098602295,
          6.856581687927246,
          3.3036742210388184,
          2.4292945861816406,
          4.712934494018555,
          3.6336240768432617,
          3.870626211166382,
          1.0016967058181763,
          4.840193271636963,
          3.912428617477417,
          4.414449691772461,
          4.465245723724365,
          6.765210151672363,
          4.681318283081055,
          3.4474055767059326,
          4.918102741241455,
          3.374032974243164,
          4.854678153991699,
          4.398067951202393,
          3.7192766666412354,
          3.672929286956787,
          5.1697869300842285,
          2.4720747470855713,
          4.869945049285889,
          6.721374988555908,
          4.910094261169434,
          5.212859630584717,
          3.2828543186187744,
          2.777500629425049,
          3.674915313720703,
          5.939094066619873,
          4.092377662658691,
          4.389434337615967
         ]
        },
        {
         "hoverinfo": "text",
         "hovertext": [
          "Discuss the natural resource potentials of ‘Deccan trap’.",
          "Bring out the causes for more frequent occurrence of landslides in the Himalayas than in the Western Ghats.",
          "Discuss the geophysical characteristics of Circum- Pacific Zone.",
          "What characteristics can be assigned to monsoon climate that succeeds in feeding more than 50 percent of the world population residing in Monsoon Asia?",
          "What is water stress? How and why does it differ regionally in India?",
          "Enumerate the problems and prospects of inland water transport in India.",
          "Examine the status of forest resources of India and its resultant impact on climate change.",
          "How can the mountain ecosystem be restored from the negative impact of development initiatives and tourism?",
          "Identify and discuss the factors responsible for diversity of natural vegetation in India. Assess the significance of wildlife sanctuaries in rain forests regions of India.",
          "South China Sea has assumed great geopolitical significance in the present context. Comment.",
          "Discuss the meaning of colour-coded weather warnings for cyclone prone areas given by India Meteorological department.",
          "Define mantle plume and explain its role in plate tectonics.",
          "Differentiate the causes of landslides in the Himalayan region and Western Ghats.",
          "How do the melting of the Arctic ice and glaciers of the Antarctic differently affect the weather patterns and human activities on the Earth? Explain.",
          "What do you understand by the phenomenon of ‘temperature inversion’ in meteorology? How does it affect weather and the habitants of the place?",
          "Critically evaluate the various resources of the oceans which can be harnessed to meet the resource crisis in the world.",
          "How are the fjords formed? Why do they constitute some of the most picturesque areas of the world?",
          "What do you understand by the theory of continental drift? Discuss the prominent evidences in its support.",
          "Mention the significance of straits and isthmus in international trade.",
          "Major cities of India are becoming more vulnerable to flood conditions. Discuss.",
          "Bring out the causes for the formation of heat islands in the urban habitat of the world.",
          "Tropical cyclones are largely confined to South China Sea, Bay of Bengal and Gulf of Mexico. Why?",
          "\"The Himalayas are highly prone to landslides.\" Discuss the causes and suggest suitable measures of mitigation.",
          "The interlinking of rivers can provide viable solutions to the multi-dimensional inter-related problems of droughts, floods and interrupted navigation. Critically examine.",
          "How does the cryosphere affect global climate?",
          "Account for the huge flooding of million cities in India including the smart ones like Hyderabad and Pune. Suggest lasting remedial measures.",
          "Present an account of the Indus Water Treaty and examine its ecological, economic and political implications in the context of changing bilateral relations.",
          "How do ocean currents and water masses differ in their impacts on marine life and coastal environment? Give suitable examples.",
          "Discuss the concept of air mass and explain its role in macro-climatic changes.",
          "The states of Jammu and Kashmir, Himachal Pradesh and Uttarakhand are reaching the limits of ecological carrying capacity due to tourism. Critically evaluate.",
          "Discuss the causes of depletion of mangroves and explain their importance in maintaining coastal ecology.",
          "Major hot deserts in northern hemisphere are located between 20-30 deg N latitudes and on the western sides of the continents. Why?",
          "How will the melting of Himalayan glaciers have a far- reaching impact on the water resources of India?",
          "Describe the characteristics and types of primary rocks.",
          "Why is the world today confronted with a crisis of availability of and access to freshwater resources?",
          "Why is India taking keen interest in the Arctic region?",
          "The effective management of land and water resources will drastically reduce the human miseries. Explain.",
          "Why is the South-West monsoon called ‘Purvaiya’ (easterly) in Bhojpur Region? How has this directional seasonal wind system influenced the cultural ethos of the region?",
          "Account for variations in oceanic salinity and discuss its multi-dimensional effects.",
          "Discuss the consequences of climate change on the food security in tropical countries.",
          "Briefly mention the alignment of major mountain ranges of the world and explain their impact on local weather conditions, with examples.",
          "India is well endowed with fresh water resources. Critically examine why it still suffers from water scarcity.",
          "Assess the impact of global warming on the coral life system with examples.",
          "Bring out the relationship between the shrinking Himalayan glaciers and the symptoms of climate change in the Indian sub-continent.",
          "Why are the world’s fold mountain systems located along the margins of continents? Bring out the association between the global distribution of fold mountains and the earthquakes and volcanoes.",
          "Explain the formation of thousands of islands in Indonesian and Philipines archipelagos.",
          "Comment on the resource potentials of the long coastline of India and highlight the status of natural hazard preparedness in these areas.",
          "How far do you agree that the behaviour of the Indian monsoon has been changing due to humanizing landscape? Discuss.",
          "What are the consequences of spreading of ‘Dead Zones’ on marine ecosystem?",
          "Troposphere is a very significant atmospheric layer that determines weather processes.\nHow?",
          "The recent cyclone on the east coast of India was called ‘Phailin’. How are the tropical cyclones named across the world? Elaborate.",
          "What are the economic significances of discovery of oil in Arctic Sea and its possible environemental consequences?",
          "Why is Indian Regional Navigational Satellite System (IRNSS) needed? How does it help in navigation?",
          "There is no formation of deltas by rivers on the Western Ghats. Why?",
          "In what way micro-watershed development projects help in water conservation in\ndrought-prone and semi-arid regions of India?",
          "Explain the factors responsible for the origin of ocean currents. How do they influence regional climates, fishing and navigation?",
          "In what way can floods be converted into a sustainable source of irrigation and all-weather inland navigation in India?",
          "Mention the global occurrence of volcanic eruptions in 2021 and their impact on regional environment.",
          "“The ideal solution of depleting ground water resources in India is water harvesting system.” How can it be made effective in urban areas?",
          "What are the forces that influence ocean currents? Describe their role in fishing industry of the world.",
          "Most of the unusual climatic happenings are explained as an outcome of the El-Nino effect. Do you agree?",
          "The process of desertification does not have climate boundaries. Justify with examples.",
          "what are the environmental implications of the reclamation of the water bodies into urban land use? Explain with examples.",
          "How does the Juno Mission of NASA help to understand the origin and evolution of the Earth?",
          null
         ],
         "marker": {
          "opacity": 0.5,
          "size": 5
         },
         "mode": "markers+text",
         "name": "0_glaciers_climate_climate change",
         "text": [
          "",
          "",
          "",
          "",
          "",
          "",
          "",
          "",
          "",
          "",
          "",
          "",
          "",
          "",
          "",
          "",
          "",
          "",
          "",
          "",
          "",
          "",
          "",
          "",
          "",
          "",
          "",
          "",
          "",
          "",
          "",
          "",
          "",
          "",
          "",
          "",
          "",
          "",
          "",
          "",
          "",
          "",
          "",
          "",
          "",
          "",
          "",
          "",
          "",
          "",
          "",
          "",
          "",
          "",
          "",
          "",
          "",
          "",
          "",
          "",
          "",
          "",
          "",
          "",
          "0_glaciers_climate_climate change"
         ],
         "textfont": {
          "size": 12
         },
         "type": "scattergl",
         "x": [
          6.235658168792725,
          4.574222087860107,
          4.195560455322266,
          5.335264205932617,
          5.898455619812012,
          6.008847713470459,
          6.04155158996582,
          5.82859468460083,
          6.13717794418335,
          5.274982929229736,
          5.447205066680908,
          4.186947345733643,
          4.654189109802246,
          4.636788845062256,
          4.50855016708374,
          5.022583961486816,
          4.67343807220459,
          4.349612236022949,
          5.2281341552734375,
          5.957144737243652,
          4.379593372344971,
          5.23998498916626,
          4.649013996124268,
          5.958747386932373,
          4.590932369232178,
          6.0015363693237305,
          5.693633556365967,
          4.6330180168151855,
          4.674834251403809,
          6.125189781188965,
          4.740487098693848,
          4.6107096672058105,
          5.489594459533691,
          4.434333324432373,
          5.738611698150635,
          5.594783782958984,
          5.956726551055908,
          5.460772514343262,
          4.763546943664551,
          5.31775426864624,
          4.500492095947266,
          5.831777095794678,
          4.779317855834961,
          4.922328472137451,
          4.264530181884766,
          4.050410270690918,
          5.989845275878906,
          5.430671215057373,
          4.864501953125,
          4.485291957855225,
          5.443674564361572,
          5.326711177825928,
          6.216055870056152,
          4.951335906982422,
          6.035831451416016,
          4.6503987312316895,
          5.995262622833252,
          4.229247570037842,
          6.076610565185547,
          4.6376423835754395,
          5.0300421714782715,
          4.805068492889404,
          6.137212753295898,
          4.261624813079834,
          5.174447059631348
         ],
         "y": [
          0.9324959516525269,
          -0.338731974363327,
          -0.04982250928878784,
          -0.14302749931812286,
          -0.1549127995967865,
          -0.22578902542591095,
          0.7414243817329407,
          0.48820313811302185,
          0.787181556224823,
          1.3523238897323608,
          -0.4843459725379944,
          0.18555322289466858,
          -0.46486344933509827,
          0.461372435092926,
          0.17219549417495728,
          1.1425668001174927,
          0.964877188205719,
          0.6356484293937683,
          1.3437665700912476,
          -0.14080454409122467,
          0.10406646877527237,
          -0.4394253194332123,
          -0.35530173778533936,
          -0.3273599445819855,
          0.2582407295703888,
          -0.2695346474647522,
          0.3664645552635193,
          1.097519874572754,
          0.2409062385559082,
          0.7245328426361084,
          1.1130837202072144,
          0.014914351515471935,
          0.2630547881126404,
          -0.36292508244514465,
          0.12299907207489014,
          1.1195688247680664,
          0.07270839065313339,
          -0.23622803390026093,
          1.1801273822784424,
          0.5852953791618347,
          -0.10283392667770386,
          -0.041998669505119324,
          1.214967131614685,
          0.21338805556297302,
          -0.20003581047058105,
          0.32557812333106995,
          0.6010298728942871,
          -0.1750291883945465,
          1.230275273323059,
          0.21193882822990417,
          -0.4384918510913849,
          1.2224305868148804,
          -0.481927752494812,
          -0.46773725748062134,
          -0.2518633008003235,
          1.036983609199524,
          -0.3648613691329956,
          -0.156963050365448,
          -0.17814724147319794,
          1.0583430528640747,
          -0.13425809144973755,
          0.21381913125514984,
          -0.09600728750228882,
          0.3072598874568939,
          0.26599809527397156
         ]
        },
        {
         "hoverinfo": "text",
         "hovertext": [
          "Early Buddhist Stupa-art, while depicting folk motifs and narratives successfully expounds Buddhist ideals. Elucidate.",
          "The rock-cut architecture represents one of the most important sources of our knowledge of early Indian art and history. Discuss.",
          "Assess the importance of the accounts of the Chinese and Arab travellers in the reconstruction of the history of India.",
          "Safeguarding the Indian art heritage is the need of the moment.",
          "Discuss the main contributions of Gupta period and Chola period to Indian heritage and culture\n.",
          "How will you explain the medieval Indian temple sculptures represent the social life of those days?",
          "Chola architecture represents a high watermark in the evolution of temple architecture. Discuss",
          "Taxila university was one of the oldest universities of the world with which were associated a number of renowned learned personalities of different disciplines. Its strategic location caused its fame to flourish, but unlike Nalanda, it is not considered as a university in the modern sense. Discuss.",
          "Highlight the Central Asian and Greco Bactrian elements in the Gandhara art.",
          "Pala period is the most significant phase in the history of Buddhism in India. Enumerate.",
          "Persian literary sources of medieval India reflect the spirit of the age. Comment.",
          "Discuss the ‘Tandava’ dance as recorded in early Indian inscriptions.",
          "Discuss the significance of the lion and bull figures in Indian mythology, art and architecture.",
          "Krishnadeva Raya, the King of Vijayanagar, was not only an accomplished scholar himself but was also a great patron of learning and literature. Discuss.",
          "How do you justify the view that the level of excellence of the Gupta numismatic art is not at all noticeable in later times?",
          "Mesolithic rock cut architecture of India not only reflects the cultural life of the times but also a fine aesthetic sense comparable to modern painting. Critically evaluate this comment.",
          "Indian Philosophy and tradition played a significant role in conceiving and shaping the monuments and their art in India. Discuss.",
          "Gandhara sculpture owed as much to the Romans as to the Greeks. Explain.",
          null
         ],
         "marker": {
          "opacity": 0.5,
          "size": 5
         },
         "mode": "markers+text",
         "name": "1_indian art_of vijayanagar was_of vijayanagar",
         "text": [
          "",
          "",
          "",
          "",
          "",
          "",
          "",
          "",
          "",
          "",
          "",
          "",
          "",
          "",
          "",
          "",
          "",
          "",
          "1_indian art_of vijayanagar was_of vijayanagar"
         ],
         "textfont": {
          "size": 12
         },
         "type": "scattergl",
         "x": [
          9.725141525268555,
          9.687994003295898,
          8.81096363067627,
          9.589588165283203,
          9.641059875488281,
          9.755563735961914,
          9.660629272460938,
          9.421865463256836,
          9.777735710144043,
          9.65092945098877,
          9.528621673583984,
          9.73547077178955,
          9.644235610961914,
          9.03701400756836,
          9.610804557800293,
          9.632938385009766,
          9.676340103149414,
          9.786164283752441,
          9.576281547546387
         ],
         "y": [
          8.215179443359375,
          8.176151275634766,
          6.490824222564697,
          8.007237434387207,
          7.889759540557861,
          8.233763694763184,
          8.130472183227539,
          7.60068416595459,
          8.285384178161621,
          7.840630054473877,
          7.082359790802002,
          8.20335865020752,
          8.111610412597656,
          7.164713382720947,
          8.030950546264648,
          8.144561767578125,
          8.128235816955566,
          8.282586097717285,
          7.889915466308594
         ]
        },
        {
         "hoverinfo": "text",
         "hovertext": [
          "Mahatma Gandhi and Dr. B R Ambedkar, despite having divergent approaches and strategies, had a common goal of amelioration of the downtrodden. Elucidate.",
          "What was the difference between Mahatma Gandhi and Rabindranath Tagore in their approach towards education and nationalism?",
          "To what extent did the role of the moderates prepare a base for the wider freedom movement? Comment.",
          "Assess the role of British imperial power in complicating the process of transfer of power during the 1940s.",
          "” There arose a serious challenge to the Democratic State System between the two World Wars.” Evaluate the statement.",
          "In what ways did the navel mutiny prove to be the last nail in the coffin of British colonial aspirations in India?",
          "The third battle of Panipat was fought in 1761. Why were so many empire-shaking battles fought at Panipat?",
          "Since the decade of the 1920s, the national movement acquired various ideological strands and thereby expanded its social base. Discuss.",
          "What were the major political, economic and social developments in the world which motivated the anti-colonial in India?",
          "“American Revolution was an economic revolt against mercantilism.” Substantiate.",
          "How difficult would have been the achievement of Indian independence without Mahatma Gandhi? Discuss.",
          "To what extend can Germany be held responsible for causing the two World Wars? Discuss critically.",
          "Throw light on the significance of the thoughts of Mahatma Gandhi in the present times.",
          "It would have been difficult for the Constituent Assembly to complete its historic task of drafting the Constitution for Independent India in just three years, but its experience gained with the Government of India Act, 1935\n.Discuss.",
          "Though not very useful from the point of view of a connected political history of South India, the Sangam literature portrays the social and economic conditions of its time with remarkable vividness. Comment.",
          "Discuss the contributions of MaulanaAbulKalam Azad to pre- and post-independent India.",
          "Bring out the constructive programmes of Mahatma Gandhi during Non-Cooperation Movement and Civil Disobedience Movement.",
          "The 1857 uprising was the culmination of the recurrent, big and small local rebellions that had occurred in the preceding hundred years of British rule. Elucidate.",
          "Evaluate the policies of Lord Curzon and their long term implications on the national movements.",
          "Why did the armies of the British East India Company – mostly comprising of Indian soldiers – win consistently against the more numerous and better equipped armies of the Indian rulers? Give reasons.",
          "Highlight the differences in the approach of Subhash Chandra Bose and Mahatma Gandhi in the struggle for freedom.",
          "What were the events that led to the Suez Crisis in 1956? How did it deal a final blow to Britain’s self-image as a world power?",
          "Examine the linkages between the nineteenth century’s ‘Indian Renaissance’ and the emergence of national identity.",
          "Why indentured labour was taken by the British from India to their colonies? have they been able to preserve their cultural identity over there?",
          "Why did the ‘Moderates’ failed to carry conviction with the nation about their proclaimed ideology and political goals by the end of the nineteenth century?",
          "Several foreigners made India their homeland and participated in various movements.\nAnalyze their role in the Indian struggle for freedom.",
          "The anti-colonial struggles in West Africa were led by the new elite of Western-educated Africans.",
          "Why was there a sudden spurt in famines in colonial India since the mid-eighteenth century? Give reasons.",
          "“In many ways, Lord Dalhousie was the founder of modern India.” Elaborate.",
          "What problems are germane to the decolonization process in the Malay Peninsula?",
          "Many voices had strengthened and enriched the nationalist movement during the Gandhian phase. Elaborate.",
          "The New Economic Policy – 1921 of Lenin had influenced the policies adopted by India soon after independence. Evaluate.",
          "Whereas the British planters had developed tea gardens all along the Shivaliks and Lesser Himalayas from Assam to Himachal Pradesh, in effect they did not succeed beyond the Darjeeling area. Explain.",
          "Explain how the foundations of the modern world were laid by the American and French Revolutions.",
          "What policy instruments were deployed to contain the Great Economic Depression?",
          "Discuss the role of women in the freedom struggle especially during the Gandhian phase.",
          "Why did the industrial revolution first occur in England? Discuss the quality of life of the people there during the industrialization. How does it compare with that in India at present times?",
          "Critically examine the compulsions which prompted India to play a decisive role in the emergence of Bangladesh.",
          "Examine critically the various facets of economic policies of the British in India from mid-eighteenth century till independence.",
          "Analyze the circumstances that led to the Tashkent Agreement in 1966. Discuss the highlights of the Agreement.",
          "Highlight the importance of the new objectives that got added to the vision of Indian Independence since the twenties of the last century.",
          "How did the colonial rule affect the tribals in India and what was the tribal response to the colonial oppression?",
          "Explain how the Uprising of 1857 constitutes an important watershed in the evolution of British policies towards colonial India.",
          null
         ],
         "marker": {
          "opacity": 0.5,
          "size": 5
         },
         "mode": "markers+text",
         "name": "2_of indian independence_gandhi in the_the gandhian phase",
         "text": [
          "",
          "",
          "",
          "",
          "",
          "",
          "",
          "",
          "",
          "",
          "",
          "",
          "",
          "",
          "",
          "",
          "",
          "",
          "",
          "",
          "",
          "",
          "",
          "",
          "",
          "",
          "",
          "",
          "",
          "",
          "",
          "",
          "",
          "",
          "",
          "",
          "",
          "",
          "",
          "",
          "",
          "",
          "",
          "2_of indian independence_gandhi in the_the gandhian phase"
         ],
         "textfont": {
          "size": 12
         },
         "type": "scattergl",
         "x": [
          8.535943984985352,
          8.425835609436035,
          7.676511287689209,
          7.259758472442627,
          7.316583633422852,
          7.903434753417969,
          7.465452671051025,
          7.617151260375977,
          8.098246574401855,
          7.545637607574463,
          8.36992359161377,
          7.326000213623047,
          8.533195495605469,
          8.311309814453125,
          8.840153694152832,
          8.39586067199707,
          8.532522201538086,
          7.863055229187012,
          7.529636859893799,
          7.4675092697143555,
          8.452342987060547,
          7.307666301727295,
          8.363102912902832,
          8.214853286743164,
          7.749497413635254,
          8.333658218383789,
          7.998058319091797,
          7.367288589477539,
          8.81702709197998,
          8.08639907836914,
          8.098028182983398,
          7.721920013427734,
          7.363812446594238,
          7.515097618103027,
          7.864066123962402,
          8.437827110290527,
          7.35505485534668,
          8.370386123657227,
          7.736783981323242,
          7.207457065582275,
          8.171339988708496,
          8.26569652557373,
          7.735235691070557,
          7.942936897277832
         ],
         "y": [
          6.905083179473877,
          6.8560919761657715,
          6.4931488037109375,
          5.891904830932617,
          6.036829471588135,
          5.721980094909668,
          5.366415023803711,
          6.477539539337158,
          5.522395133972168,
          5.702571868896484,
          6.757614612579346,
          6.014064311981201,
          6.8624773025512695,
          6.3693623542785645,
          6.046476364135742,
          6.394118785858154,
          6.89935827255249,
          5.91893196105957,
          6.376520156860352,
          5.434028148651123,
          6.842446804046631,
          5.915074825286865,
          6.0368852615356445,
          5.643745422363281,
          6.527279376983643,
          6.237558364868164,
          5.681034564971924,
          4.778172969818115,
          7.054827690124512,
          5.190276145935059,
          6.611991882324219,
          5.4439005851745605,
          4.966960430145264,
          5.8009443283081055,
          5.303623676300049,
          6.6622138023376465,
          4.784820556640625,
          6.022687911987305,
          5.4250102043151855,
          5.810829162597656,
          6.247949600219727,
          5.481863498687744,
          5.828147888183594,
          6.008026599884033
         ]
        },
        {
         "hoverinfo": "text",
         "hovertext": [
          "Account for the change in the spatial pattern of the Iron and Steel industry in the world.",
          "With growing scarcity of fossil fuels, the atomic energy is gaining more and more significance in India. Discuss the availability of raw material required for the generation of atomic energy in India and in the world.",
          "Petroleum refineries are not necessarily located nearer to crude oil producing areas, particularly in many of the developing countries. Explain its implications.",
          "“Inspite of adverse environmental impact, coal mining is still inevitable for development”.\nDiscuss",
          "Examine the potential of wind energy in India and explain the reasons for their limited spatial spread.",
          "India has immense potential of solar energy though there are regional variations in its developments. Elaborate.",
          "Despite India being one of the countries of the Gondwanaland, its mining industry contributes much less to its Gross Domestic Product(GDP) in percentage. Discuss.",
          "It is said that India has substantial reserves of shale oil and gas, which can feed the needs of the country for quarter century. However, tapping of the resource does not appear to be high on the agenda. Discuss critically the availability and issues involved.",
          "Describing the distribution of rubber producing countries, indicate the major environmental issues faced by them.",
          "Account for the present location of iron and steel industries away from the source of raw material, by giving examples.",
          "Discuss the multi-dimensional implications of uneven distribution of mineral oil in the world.",
          null
         ],
         "marker": {
          "opacity": 0.5,
          "size": 5
         },
         "mode": "markers+text",
         "name": "3_energy in india_oil producing areas_oil producing",
         "text": [
          "",
          "",
          "",
          "",
          "",
          "",
          "",
          "",
          "",
          "",
          "",
          "3_energy in india_oil producing areas_oil producing"
         ],
         "textfont": {
          "size": 12
         },
         "type": "scattergl",
         "x": [
          6.701315402984619,
          7.067224025726318,
          6.339992046356201,
          6.435329914093018,
          7.101208209991455,
          7.157715320587158,
          6.752618789672852,
          6.377769470214844,
          6.271796703338623,
          6.7574286460876465,
          6.303269386291504,
          6.660515308380127
         ],
         "y": [
          2.185969829559326,
          2.6236863136291504,
          1.7989661693572998,
          1.7726255655288696,
          2.744843006134033,
          2.6899096965789795,
          2.0848138332366943,
          1.8008776903152466,
          1.6821331977844238,
          2.1506507396698,
          1.7562525272369385,
          2.1173388957977295
         ]
        },
        {
         "hoverinfo": "text",
         "hovertext": [
          "How does patriarchy impact the position of a middle class working woman in India?",
          "“Empowering women is the key to control population growth.” Discuss.",
          "Child cuddling is now being replaced by mobile phones. Discuss its impact on the socialization of children.",
          "Critically examine whether growing population is the cause of poverty OR poverty is the mains cause of population increase in India.",
          "The women’s questions arose in modern India as a part of the 19th century social reform movement. What are the major issues and debates concerning women in that period?",
          "Explain why suicide among young women is increasing in Indian Society.",
          "What are the continued challenges for women in India against time and space?",
          "‘Women’s movement in India has not addressed the issues of women of lower social strata.’ Substantiate your view.",
          "Discuss the various economic and\nsocio-cultural forces that are driving increasing feminization of agriculture in India.",
          "‘Despite implementation of various programmes for eradication of poverty by the government in India, poverty is still existing’. Explain by giving reasons.",
          "Why do some of the most prosperous regions of India have an adverse sex ratio for women? Give your arguments.",
          "“Male membership needs to be encouraged in order to make women’s organization free from gender bias.” Comment.",
          "\"An essential condition to eradicate poverty is to liberate the poor from the process of deprivation.\" Substantiate this statement with suitable examples.",
          "Discuss the main objectives of Population Education and point out the measures to achieve them in India in detail.",
          "How do you explain the statistics that show that the sex ratio in Tribes in India is more favourable to women than the sex ratio among Scheduled Castes?",
          null
         ],
         "marker": {
          "opacity": 0.5,
          "size": 5
         },
         "mode": "markers+text",
         "name": "4_poverty is the_poverty is to_poverty by the",
         "text": [
          "",
          "",
          "",
          "",
          "",
          "",
          "",
          "",
          "",
          "",
          "",
          "",
          "",
          "",
          "",
          "4_poverty is the_poverty is to_poverty by the"
         ],
         "textfont": {
          "size": 12
         },
         "type": "scattergl",
         "x": [
          10.002264022827148,
          9.800360679626465,
          9.7733154296875,
          9.565513610839844,
          9.975111961364746,
          9.79889965057373,
          10.035944938659668,
          9.809703826904297,
          9.736713409423828,
          9.692850112915039,
          9.813462257385254,
          9.93980884552002,
          9.800853729248047,
          9.519158363342285,
          10.00606632232666,
          9.818002700805664
         ],
         "y": [
          2.5975022315979004,
          2.6202073097229004,
          3.3385932445526123,
          2.8628616333007812,
          2.4393246173858643,
          2.4994471073150635,
          2.317896604537964,
          2.55145001411438,
          2.5587873458862305,
          2.9703290462493896,
          2.5066256523132324,
          2.6130380630493164,
          3.066926956176758,
          2.8382935523986816,
          2.611489772796631,
          2.6928517818450928
         ]
        },
        {
         "hoverinfo": "text",
         "hovertext": [
          "What are the main socio-economic implications arising out of the development of IT industries in major cities of India?",
          "Bring out the socio-economic effects of the introduction of railways in different countries of the world",
          "Does urbanization lead to more segregation and/or marginalization of the poor in Indian metropolises?",
          "With a brief background of quality of urban life in India, introduce the objectives and strategy of the 'Smart City Programme'.",
          "Do you agree that there is a growing trend of opening new sugar mills in southern states of India? Discuss with justification.",
          "What is Cryptocurrency? How does it affect global society? Has it been affecting Indian society also?",
          "Why did human development fail to keep pace with economic development in India?",
          "Mumbai, Delhi and Kolkata are the three Mega cities of the country but the air pollution is much more serious probelm in Delhi as compared to the other two. Why is this so?",
          "How is efficient and affordable urban mass transport key to the rapid economic development in India?",
          "Analyze the factors for the highly decentralized cotton textile industry in India.",
          "Smart cities in India cannot sustain without smart vilages. Discuss this statement in the backdrop of rural urban integration.",
          "Can the strategy of regional resource-based manufacturing help in promoting employment in India?",
          "What is the significance of Industrial Corridors in India? Identifying industrial corridors, explain their main characteristics.",
          "How have digital initiatives in India contributed to the functioning of the education system in the country? Elaborate your answer.",
          "Discuss the various social problems which originated out of the speedy process of urbanization in India.",
          "Mention the advantages of the cultivation of pulses because of which the year 2016 was declared as the International Year of Pulses by United Nations.",
          "How is the growth of Tier 2 cities related to the rise of a new middle class with an emphasis on the culture of consumption?",
          "Mention core strategies for the transformation of aspirational districts in India and explain the nature of convergence, collaboration and competition for its success.",
          "Discuss the factors for localisation of agro-based food processing industries of North-West India.",
          "“The growth of cities as I.T. hubs has opened up new avenues of employment, but has also created new problems”. Substantiate this statement with examples",
          null
         ],
         "marker": {
          "opacity": 0.5,
          "size": 5
         },
         "mode": "markers+text",
         "name": "5_development in india_urbanization_economic development in",
         "text": [
          "",
          "",
          "",
          "",
          "",
          "",
          "",
          "",
          "",
          "",
          "",
          "",
          "",
          "",
          "",
          "",
          "",
          "",
          "",
          "",
          "5_development in india_urbanization_economic development in"
         ],
         "textfont": {
          "size": 12
         },
         "type": "scattergl",
         "x": [
          8.324301719665527,
          8.136251449584961,
          8.69293212890625,
          8.39172649383545,
          7.37405252456665,
          9.075207710266113,
          8.6451416015625,
          8.771408081054688,
          8.226715087890625,
          7.391137599945068,
          8.433772087097168,
          7.640041828155518,
          7.754202365875244,
          8.844523429870605,
          8.519270896911621,
          7.20750093460083,
          8.507499694824219,
          8.884968757629395,
          7.3579206466674805,
          8.372705459594727,
          8.227564811706543
         ],
         "y": [
          2.800006151199341,
          3.0475881099700928,
          2.7806594371795654,
          2.7178797721862793,
          3.2668776512145996,
          3.4263899326324463,
          3.307541608810425,
          2.4428107738494873,
          2.8410820960998535,
          3.318251132965088,
          2.7321431636810303,
          2.943800926208496,
          2.8334405422210693,
          2.952672004699707,
          3.160327196121216,
          3.6142256259918213,
          2.889772415161133,
          3.0275092124938965,
          3.3586325645446777,
          2.810314416885376,
          3.0135960578918457
         ]
        },
        {
         "hoverinfo": "text",
         "hovertext": [
          "Are tolerance, assimilation and pluralism the key elements in the making of an Indian form of secularism? Justify your answer.",
          "What are the challenges to our cultural practices in the name of secularism?",
          "“Caste system is assuming new identities and associational forms. Hence, caste system cannot be eradicated in India.”",
          "How the Indian concept of secularism different from the western model of secularism?\nDiscuss.",
          "Do you agree that regionalism in India appears to be a consequence of rising cultural assertiveness? Argue.",
          "Discuss the impact of post-liberal economy on ethnic identity and communalism.",
          "Has caste lost its relevance in understanding the multi- cultural Indian Society? Elaborate your answer with illustrations.",
          "How do the Indian debates on secularism differ from the debates in the West?",
          "Describe any four cultural elements of diversity in India and rate their relative significance in building a national identity.",
          "What is the basis of regionalism? Is it that unequal distribution of benefits of development on regional basis eventually promotes regionalism? Substantiate your answer.",
          "To what extent globalization has influenced the core of cultural diversity in India? Explain.",
          "What are the main features of Vedic society and religion? Do you think some of the features are still prevailing in Indian society?",
          "What makes the Indian society unique in sustaining its culture? Discuss.",
          "Sufis and medieval saints failed to modify either the religious ideas and practices or the outward structure of Hindu/ Muslim societies to any appreciable extent. Comment.",
          "Discuss the changes in the trends of labour migration within and outside India in the last four decades.",
          "Growing feeling of regionalism is an important factor in generation of demand for a separate state. Discuss.",
          "Do you think marriage as a sacrament in loosing its value in Modern India?",
          "Why is caste identity in India both fluid and static?",
          "Analyze the salience of ‘sect’ in Indian society vis-a-vis caste, region and religion.",
          "Customs and traditions suppress reason leading to obscurantism. Do you agree?",
          "Globalisation is generally said to promote cultural homogenisation but due to this cultural specificities appear to be strengthened in the Indian society.’ Elucidate.",
          "Are we losing our local identity for the global identity? Discuss.",
          "In the context of the diversity of India, can it be said that the regions form cultural units rather than the States? Give reasons with examples for your view point.",
          "Do we have cultural pockets of small India all over the nation? Elaborate with examples.",
          "Distinguish between religiousness/religiosity and communalism giving one example of how the former has got transformed into the latter in independent India.",
          "Has the formation of linguistic States strengthened the cause of Indian Unity?",
          "Write a critical note on the evolution and significance of the slogan, ‘Jai Jawan, Jai Kisan’.",
          "Given the diversities among the tribal communities in India, in which specific contexts should they be considered as a single category?",
          "How does Indian society maintain continuity in traditional social values? Enumerate the changes taking place in it.",
          "Is diversity and pluralism in India under threat due to globalisation? Justify your answer.",
          "The spirit of tolerance and love is not only an interesting feature of Indian society from very early times, but it is also playing an important part at the present. Elaborate.",
          null
         ],
         "marker": {
          "opacity": 0.5,
          "size": 5
         },
         "mode": "markers+text",
         "name": "6_indian society_in indian society_diversity in india",
         "text": [
          "",
          "",
          "",
          "",
          "",
          "",
          "",
          "",
          "",
          "",
          "",
          "",
          "",
          "",
          "",
          "",
          "",
          "",
          "",
          "",
          "",
          "",
          "",
          "",
          "",
          "",
          "",
          "",
          "",
          "",
          "",
          "6_indian society_in indian society_diversity in india"
         ],
         "textfont": {
          "size": 12
         },
         "type": "scattergl",
         "x": [
          9.853346824645996,
          9.905552864074707,
          10.048135757446289,
          9.888476371765137,
          8.797405242919922,
          9.760308265686035,
          10.110026359558105,
          9.890585899353027,
          9.316020965576172,
          8.624234199523926,
          9.142367362976074,
          9.609550476074219,
          9.367201805114746,
          9.835980415344238,
          8.957736015319824,
          8.349334716796875,
          9.919580459594727,
          10.053309440612793,
          9.867180824279785,
          9.937108993530273,
          9.259604454040527,
          9.435144424438477,
          8.631930351257324,
          8.784759521484375,
          9.530637741088867,
          8.424782752990723,
          9.462982177734375,
          9.251097679138184,
          9.710771560668945,
          9.274222373962402,
          9.686182022094727,
          9.4414701461792
         ],
         "y": [
          5.627961158752441,
          5.713612079620361,
          4.9325127601623535,
          5.712955474853516,
          4.022539138793945,
          3.9507906436920166,
          4.801445007324219,
          5.710832118988037,
          4.687333583831787,
          4.138298511505127,
          4.156379699707031,
          4.9069695472717285,
          4.769153594970703,
          5.876100540161133,
          3.771860122680664,
          4.452298641204834,
          4.973000526428223,
          4.874358177185059,
          5.173684597015381,
          5.766443729400635,
          4.234903812408447,
          4.183312892913818,
          4.355856895446777,
          4.221921920776367,
          5.448646068572998,
          4.377127647399902,
          5.467859745025635,
          4.782773494720459,
          4.777178764343262,
          4.283205986022949,
          5.40614652633667,
          4.824434280395508
         ]
        }
       ],
       "layout": {
        "annotations": [
         {
          "showarrow": false,
          "text": "D1",
          "x": 3.44284873008728,
          "y": 4.485596968233585,
          "yshift": 10
         },
         {
          "showarrow": false,
          "text": "D2",
          "x": 7.53468952178955,
          "xshift": 10,
          "y": 9.528191804885864
         }
        ],
        "height": 750,
        "shapes": [
         {
          "line": {
           "color": "#CFD8DC",
           "width": 2
          },
          "type": "line",
          "x0": 7.53468952178955,
          "x1": 7.53468952178955,
          "y0": -0.5569978684186936,
          "y1": 9.528191804885864
         },
         {
          "line": {
           "color": "#9E9E9E",
           "width": 2
          },
          "type": "line",
          "x0": 3.44284873008728,
          "x1": 11.626530313491822,
          "y0": 4.485596968233585,
          "y1": 4.485596968233585
         }
        ],
        "template": {
         "data": {
          "bar": [
           {
            "error_x": {
             "color": "rgb(36,36,36)"
            },
            "error_y": {
             "color": "rgb(36,36,36)"
            },
            "marker": {
             "line": {
              "color": "white",
              "width": 0.5
             },
             "pattern": {
              "fillmode": "overlay",
              "size": 10,
              "solidity": 0.2
             }
            },
            "type": "bar"
           }
          ],
          "barpolar": [
           {
            "marker": {
             "line": {
              "color": "white",
              "width": 0.5
             },
             "pattern": {
              "fillmode": "overlay",
              "size": 10,
              "solidity": 0.2
             }
            },
            "type": "barpolar"
           }
          ],
          "carpet": [
           {
            "aaxis": {
             "endlinecolor": "rgb(36,36,36)",
             "gridcolor": "white",
             "linecolor": "white",
             "minorgridcolor": "white",
             "startlinecolor": "rgb(36,36,36)"
            },
            "baxis": {
             "endlinecolor": "rgb(36,36,36)",
             "gridcolor": "white",
             "linecolor": "white",
             "minorgridcolor": "white",
             "startlinecolor": "rgb(36,36,36)"
            },
            "type": "carpet"
           }
          ],
          "choropleth": [
           {
            "colorbar": {
             "outlinewidth": 1,
             "tickcolor": "rgb(36,36,36)",
             "ticks": "outside"
            },
            "type": "choropleth"
           }
          ],
          "contour": [
           {
            "colorbar": {
             "outlinewidth": 1,
             "tickcolor": "rgb(36,36,36)",
             "ticks": "outside"
            },
            "colorscale": [
             [
              0,
              "#440154"
             ],
             [
              0.1111111111111111,
              "#482878"
             ],
             [
              0.2222222222222222,
              "#3e4989"
             ],
             [
              0.3333333333333333,
              "#31688e"
             ],
             [
              0.4444444444444444,
              "#26828e"
             ],
             [
              0.5555555555555556,
              "#1f9e89"
             ],
             [
              0.6666666666666666,
              "#35b779"
             ],
             [
              0.7777777777777778,
              "#6ece58"
             ],
             [
              0.8888888888888888,
              "#b5de2b"
             ],
             [
              1,
              "#fde725"
             ]
            ],
            "type": "contour"
           }
          ],
          "contourcarpet": [
           {
            "colorbar": {
             "outlinewidth": 1,
             "tickcolor": "rgb(36,36,36)",
             "ticks": "outside"
            },
            "type": "contourcarpet"
           }
          ],
          "heatmap": [
           {
            "colorbar": {
             "outlinewidth": 1,
             "tickcolor": "rgb(36,36,36)",
             "ticks": "outside"
            },
            "colorscale": [
             [
              0,
              "#440154"
             ],
             [
              0.1111111111111111,
              "#482878"
             ],
             [
              0.2222222222222222,
              "#3e4989"
             ],
             [
              0.3333333333333333,
              "#31688e"
             ],
             [
              0.4444444444444444,
              "#26828e"
             ],
             [
              0.5555555555555556,
              "#1f9e89"
             ],
             [
              0.6666666666666666,
              "#35b779"
             ],
             [
              0.7777777777777778,
              "#6ece58"
             ],
             [
              0.8888888888888888,
              "#b5de2b"
             ],
             [
              1,
              "#fde725"
             ]
            ],
            "type": "heatmap"
           }
          ],
          "heatmapgl": [
           {
            "colorbar": {
             "outlinewidth": 1,
             "tickcolor": "rgb(36,36,36)",
             "ticks": "outside"
            },
            "colorscale": [
             [
              0,
              "#440154"
             ],
             [
              0.1111111111111111,
              "#482878"
             ],
             [
              0.2222222222222222,
              "#3e4989"
             ],
             [
              0.3333333333333333,
              "#31688e"
             ],
             [
              0.4444444444444444,
              "#26828e"
             ],
             [
              0.5555555555555556,
              "#1f9e89"
             ],
             [
              0.6666666666666666,
              "#35b779"
             ],
             [
              0.7777777777777778,
              "#6ece58"
             ],
             [
              0.8888888888888888,
              "#b5de2b"
             ],
             [
              1,
              "#fde725"
             ]
            ],
            "type": "heatmapgl"
           }
          ],
          "histogram": [
           {
            "marker": {
             "line": {
              "color": "white",
              "width": 0.6
             }
            },
            "type": "histogram"
           }
          ],
          "histogram2d": [
           {
            "colorbar": {
             "outlinewidth": 1,
             "tickcolor": "rgb(36,36,36)",
             "ticks": "outside"
            },
            "colorscale": [
             [
              0,
              "#440154"
             ],
             [
              0.1111111111111111,
              "#482878"
             ],
             [
              0.2222222222222222,
              "#3e4989"
             ],
             [
              0.3333333333333333,
              "#31688e"
             ],
             [
              0.4444444444444444,
              "#26828e"
             ],
             [
              0.5555555555555556,
              "#1f9e89"
             ],
             [
              0.6666666666666666,
              "#35b779"
             ],
             [
              0.7777777777777778,
              "#6ece58"
             ],
             [
              0.8888888888888888,
              "#b5de2b"
             ],
             [
              1,
              "#fde725"
             ]
            ],
            "type": "histogram2d"
           }
          ],
          "histogram2dcontour": [
           {
            "colorbar": {
             "outlinewidth": 1,
             "tickcolor": "rgb(36,36,36)",
             "ticks": "outside"
            },
            "colorscale": [
             [
              0,
              "#440154"
             ],
             [
              0.1111111111111111,
              "#482878"
             ],
             [
              0.2222222222222222,
              "#3e4989"
             ],
             [
              0.3333333333333333,
              "#31688e"
             ],
             [
              0.4444444444444444,
              "#26828e"
             ],
             [
              0.5555555555555556,
              "#1f9e89"
             ],
             [
              0.6666666666666666,
              "#35b779"
             ],
             [
              0.7777777777777778,
              "#6ece58"
             ],
             [
              0.8888888888888888,
              "#b5de2b"
             ],
             [
              1,
              "#fde725"
             ]
            ],
            "type": "histogram2dcontour"
           }
          ],
          "mesh3d": [
           {
            "colorbar": {
             "outlinewidth": 1,
             "tickcolor": "rgb(36,36,36)",
             "ticks": "outside"
            },
            "type": "mesh3d"
           }
          ],
          "parcoords": [
           {
            "line": {
             "colorbar": {
              "outlinewidth": 1,
              "tickcolor": "rgb(36,36,36)",
              "ticks": "outside"
             }
            },
            "type": "parcoords"
           }
          ],
          "pie": [
           {
            "automargin": true,
            "type": "pie"
           }
          ],
          "scatter": [
           {
            "fillpattern": {
             "fillmode": "overlay",
             "size": 10,
             "solidity": 0.2
            },
            "type": "scatter"
           }
          ],
          "scatter3d": [
           {
            "line": {
             "colorbar": {
              "outlinewidth": 1,
              "tickcolor": "rgb(36,36,36)",
              "ticks": "outside"
             }
            },
            "marker": {
             "colorbar": {
              "outlinewidth": 1,
              "tickcolor": "rgb(36,36,36)",
              "ticks": "outside"
             }
            },
            "type": "scatter3d"
           }
          ],
          "scattercarpet": [
           {
            "marker": {
             "colorbar": {
              "outlinewidth": 1,
              "tickcolor": "rgb(36,36,36)",
              "ticks": "outside"
             }
            },
            "type": "scattercarpet"
           }
          ],
          "scattergeo": [
           {
            "marker": {
             "colorbar": {
              "outlinewidth": 1,
              "tickcolor": "rgb(36,36,36)",
              "ticks": "outside"
             }
            },
            "type": "scattergeo"
           }
          ],
          "scattergl": [
           {
            "marker": {
             "colorbar": {
              "outlinewidth": 1,
              "tickcolor": "rgb(36,36,36)",
              "ticks": "outside"
             }
            },
            "type": "scattergl"
           }
          ],
          "scattermapbox": [
           {
            "marker": {
             "colorbar": {
              "outlinewidth": 1,
              "tickcolor": "rgb(36,36,36)",
              "ticks": "outside"
             }
            },
            "type": "scattermapbox"
           }
          ],
          "scatterpolar": [
           {
            "marker": {
             "colorbar": {
              "outlinewidth": 1,
              "tickcolor": "rgb(36,36,36)",
              "ticks": "outside"
             }
            },
            "type": "scatterpolar"
           }
          ],
          "scatterpolargl": [
           {
            "marker": {
             "colorbar": {
              "outlinewidth": 1,
              "tickcolor": "rgb(36,36,36)",
              "ticks": "outside"
             }
            },
            "type": "scatterpolargl"
           }
          ],
          "scatterternary": [
           {
            "marker": {
             "colorbar": {
              "outlinewidth": 1,
              "tickcolor": "rgb(36,36,36)",
              "ticks": "outside"
             }
            },
            "type": "scatterternary"
           }
          ],
          "surface": [
           {
            "colorbar": {
             "outlinewidth": 1,
             "tickcolor": "rgb(36,36,36)",
             "ticks": "outside"
            },
            "colorscale": [
             [
              0,
              "#440154"
             ],
             [
              0.1111111111111111,
              "#482878"
             ],
             [
              0.2222222222222222,
              "#3e4989"
             ],
             [
              0.3333333333333333,
              "#31688e"
             ],
             [
              0.4444444444444444,
              "#26828e"
             ],
             [
              0.5555555555555556,
              "#1f9e89"
             ],
             [
              0.6666666666666666,
              "#35b779"
             ],
             [
              0.7777777777777778,
              "#6ece58"
             ],
             [
              0.8888888888888888,
              "#b5de2b"
             ],
             [
              1,
              "#fde725"
             ]
            ],
            "type": "surface"
           }
          ],
          "table": [
           {
            "cells": {
             "fill": {
              "color": "rgb(237,237,237)"
             },
             "line": {
              "color": "white"
             }
            },
            "header": {
             "fill": {
              "color": "rgb(217,217,217)"
             },
             "line": {
              "color": "white"
             }
            },
            "type": "table"
           }
          ]
         },
         "layout": {
          "annotationdefaults": {
           "arrowhead": 0,
           "arrowwidth": 1
          },
          "autotypenumbers": "strict",
          "coloraxis": {
           "colorbar": {
            "outlinewidth": 1,
            "tickcolor": "rgb(36,36,36)",
            "ticks": "outside"
           }
          },
          "colorscale": {
           "diverging": [
            [
             0,
             "rgb(103,0,31)"
            ],
            [
             0.1,
             "rgb(178,24,43)"
            ],
            [
             0.2,
             "rgb(214,96,77)"
            ],
            [
             0.3,
             "rgb(244,165,130)"
            ],
            [
             0.4,
             "rgb(253,219,199)"
            ],
            [
             0.5,
             "rgb(247,247,247)"
            ],
            [
             0.6,
             "rgb(209,229,240)"
            ],
            [
             0.7,
             "rgb(146,197,222)"
            ],
            [
             0.8,
             "rgb(67,147,195)"
            ],
            [
             0.9,
             "rgb(33,102,172)"
            ],
            [
             1,
             "rgb(5,48,97)"
            ]
           ],
           "sequential": [
            [
             0,
             "#440154"
            ],
            [
             0.1111111111111111,
             "#482878"
            ],
            [
             0.2222222222222222,
             "#3e4989"
            ],
            [
             0.3333333333333333,
             "#31688e"
            ],
            [
             0.4444444444444444,
             "#26828e"
            ],
            [
             0.5555555555555556,
             "#1f9e89"
            ],
            [
             0.6666666666666666,
             "#35b779"
            ],
            [
             0.7777777777777778,
             "#6ece58"
            ],
            [
             0.8888888888888888,
             "#b5de2b"
            ],
            [
             1,
             "#fde725"
            ]
           ],
           "sequentialminus": [
            [
             0,
             "#440154"
            ],
            [
             0.1111111111111111,
             "#482878"
            ],
            [
             0.2222222222222222,
             "#3e4989"
            ],
            [
             0.3333333333333333,
             "#31688e"
            ],
            [
             0.4444444444444444,
             "#26828e"
            ],
            [
             0.5555555555555556,
             "#1f9e89"
            ],
            [
             0.6666666666666666,
             "#35b779"
            ],
            [
             0.7777777777777778,
             "#6ece58"
            ],
            [
             0.8888888888888888,
             "#b5de2b"
            ],
            [
             1,
             "#fde725"
            ]
           ]
          },
          "colorway": [
           "#1F77B4",
           "#FF7F0E",
           "#2CA02C",
           "#D62728",
           "#9467BD",
           "#8C564B",
           "#E377C2",
           "#7F7F7F",
           "#BCBD22",
           "#17BECF"
          ],
          "font": {
           "color": "rgb(36,36,36)"
          },
          "geo": {
           "bgcolor": "white",
           "lakecolor": "white",
           "landcolor": "white",
           "showlakes": true,
           "showland": true,
           "subunitcolor": "white"
          },
          "hoverlabel": {
           "align": "left"
          },
          "hovermode": "closest",
          "mapbox": {
           "style": "light"
          },
          "paper_bgcolor": "white",
          "plot_bgcolor": "white",
          "polar": {
           "angularaxis": {
            "gridcolor": "rgb(232,232,232)",
            "linecolor": "rgb(36,36,36)",
            "showgrid": false,
            "showline": true,
            "ticks": "outside"
           },
           "bgcolor": "white",
           "radialaxis": {
            "gridcolor": "rgb(232,232,232)",
            "linecolor": "rgb(36,36,36)",
            "showgrid": false,
            "showline": true,
            "ticks": "outside"
           }
          },
          "scene": {
           "xaxis": {
            "backgroundcolor": "white",
            "gridcolor": "rgb(232,232,232)",
            "gridwidth": 2,
            "linecolor": "rgb(36,36,36)",
            "showbackground": true,
            "showgrid": false,
            "showline": true,
            "ticks": "outside",
            "zeroline": false,
            "zerolinecolor": "rgb(36,36,36)"
           },
           "yaxis": {
            "backgroundcolor": "white",
            "gridcolor": "rgb(232,232,232)",
            "gridwidth": 2,
            "linecolor": "rgb(36,36,36)",
            "showbackground": true,
            "showgrid": false,
            "showline": true,
            "ticks": "outside",
            "zeroline": false,
            "zerolinecolor": "rgb(36,36,36)"
           },
           "zaxis": {
            "backgroundcolor": "white",
            "gridcolor": "rgb(232,232,232)",
            "gridwidth": 2,
            "linecolor": "rgb(36,36,36)",
            "showbackground": true,
            "showgrid": false,
            "showline": true,
            "ticks": "outside",
            "zeroline": false,
            "zerolinecolor": "rgb(36,36,36)"
           }
          },
          "shapedefaults": {
           "fillcolor": "black",
           "line": {
            "width": 0
           },
           "opacity": 0.3
          },
          "ternary": {
           "aaxis": {
            "gridcolor": "rgb(232,232,232)",
            "linecolor": "rgb(36,36,36)",
            "showgrid": false,
            "showline": true,
            "ticks": "outside"
           },
           "baxis": {
            "gridcolor": "rgb(232,232,232)",
            "linecolor": "rgb(36,36,36)",
            "showgrid": false,
            "showline": true,
            "ticks": "outside"
           },
           "bgcolor": "white",
           "caxis": {
            "gridcolor": "rgb(232,232,232)",
            "linecolor": "rgb(36,36,36)",
            "showgrid": false,
            "showline": true,
            "ticks": "outside"
           }
          },
          "title": {
           "x": 0.05
          },
          "xaxis": {
           "automargin": true,
           "gridcolor": "rgb(232,232,232)",
           "linecolor": "rgb(36,36,36)",
           "showgrid": false,
           "showline": true,
           "ticks": "outside",
           "title": {
            "standoff": 15
           },
           "zeroline": false,
           "zerolinecolor": "rgb(36,36,36)"
          },
          "yaxis": {
           "automargin": true,
           "gridcolor": "rgb(232,232,232)",
           "linecolor": "rgb(36,36,36)",
           "showgrid": false,
           "showline": true,
           "ticks": "outside",
           "title": {
            "standoff": 15
           },
           "zeroline": false,
           "zerolinecolor": "rgb(36,36,36)"
          }
         }
        },
        "title": {
         "font": {
          "color": "Black",
          "size": 22
         },
         "text": "<b>Documents and Topics</b>",
         "x": 0.5,
         "xanchor": "center",
         "yanchor": "top"
        },
        "width": 1200,
        "xaxis": {
         "visible": false
        },
        "yaxis": {
         "visible": false
        }
       }
      }
     },
     "metadata": {},
     "output_type": "display_data"
    }
   ],
   "source": [
    "model.visualize_documents(questions)"
   ]
  },
  {
   "cell_type": "code",
   "execution_count": 25,
   "metadata": {},
   "outputs": [
    {
     "data": {
      "application/vnd.plotly.v1+json": {
       "config": {
        "plotlyServerURL": "https://plot.ly"
       },
       "data": [
        {
         "marker": {
          "color": "#D55E00"
         },
         "orientation": "h",
         "type": "bar",
         "x": [
          0.4243970215320587,
          0.4622410237789154,
          0.4745340347290039,
          0.48130160570144653,
          0.519110918045044
         ],
         "xaxis": "x",
         "y": [
          "western ghats  ",
          "weather  ",
          "monsoon  ",
          "climate change  ",
          "climate  "
         ],
         "yaxis": "y"
        },
        {
         "marker": {
          "color": "#0072B2"
         },
         "orientation": "h",
         "type": "bar",
         "x": [
          0.38387343287467957,
          0.40013736486434937,
          0.40869414806365967,
          0.41812366247177124,
          0.5065178871154785
         ],
         "xaxis": "x2",
         "y": [
          "anti colonial  ",
          "gandhi in the  ",
          "the gandhian phase  ",
          "of the british  ",
          "colonial india  "
         ],
         "yaxis": "y2"
        },
        {
         "marker": {
          "color": "#CC79A7"
         },
         "orientation": "h",
         "type": "bar",
         "x": [
          0.43297624588012695,
          0.4448782801628113,
          0.45830512046813965,
          0.5576267242431641,
          0.6799240708351135
         ],
         "xaxis": "x3",
         "y": [
          "gandhara  ",
          "heritage  ",
          "early indian  ",
          "of the gupta  ",
          "indian art  "
         ],
         "yaxis": "y3"
        },
        {
         "marker": {
          "color": "#E69F00"
         },
         "orientation": "h",
         "type": "bar",
         "x": [
          0.5834066271781921,
          0.6336994171142578,
          0.6617770195007324,
          0.6656246185302734,
          0.6732450723648071
         ],
         "xaxis": "x4",
         "y": [
          "caste system  ",
          "the indian society  ",
          "diversity in india  ",
          "in indian society  ",
          "indian society  "
         ],
         "yaxis": "y4"
        },
        {
         "marker": {
          "color": "#56B4E9"
         },
         "orientation": "h",
         "type": "bar",
         "x": [
          0.4675288796424866,
          0.4712222218513489,
          0.5012297630310059,
          0.5058672428131104,
          0.599672257900238
         ],
         "xaxis": "x5",
         "y": [
          "petroleum refineries are  ",
          "oil producing  ",
          "oil producing areas  ",
          "its mining industry  ",
          "energy in india  "
         ],
         "yaxis": "y5"
        },
        {
         "marker": {
          "color": "#009E73"
         },
         "orientation": "h",
         "type": "bar",
         "x": [
          0.49821001291275024,
          0.5043858289718628,
          0.597327470779419,
          0.6180709600448608,
          0.619139552116394
         ],
         "xaxis": "x6",
         "y": [
          "delhi  ",
          "of rural urban  ",
          "urbanization  ",
          "of urbanization in  ",
          "of urbanization  "
         ],
         "yaxis": "y6"
        },
        {
         "marker": {
          "color": "#F0E442"
         },
         "orientation": "h",
         "type": "bar",
         "x": [
          0.5276483297348022,
          0.5294538140296936,
          0.5305294990539551,
          0.5335099101066589,
          0.5693671107292175
         ],
         "xaxis": "x7",
         "y": [
          "poverty is still  ",
          "poverty  ",
          "poverty by the  ",
          "poverty is to  ",
          "poverty is the  "
         ],
         "yaxis": "y7"
        }
       ],
       "layout": {
        "annotations": [
         {
          "font": {
           "size": 16
          },
          "showarrow": false,
          "text": "Topic 0",
          "x": 0.0875,
          "xanchor": "center",
          "xref": "paper",
          "y": 1,
          "yanchor": "bottom",
          "yref": "paper"
         },
         {
          "font": {
           "size": 16
          },
          "showarrow": false,
          "text": "Topic 1",
          "x": 0.36250000000000004,
          "xanchor": "center",
          "xref": "paper",
          "y": 1,
          "yanchor": "bottom",
          "yref": "paper"
         },
         {
          "font": {
           "size": 16
          },
          "showarrow": false,
          "text": "Topic 2",
          "x": 0.6375000000000001,
          "xanchor": "center",
          "xref": "paper",
          "y": 1,
          "yanchor": "bottom",
          "yref": "paper"
         },
         {
          "font": {
           "size": 16
          },
          "showarrow": false,
          "text": "Topic 3",
          "x": 0.9125,
          "xanchor": "center",
          "xref": "paper",
          "y": 1,
          "yanchor": "bottom",
          "yref": "paper"
         },
         {
          "font": {
           "size": 16
          },
          "showarrow": false,
          "text": "Topic 4",
          "x": 0.0875,
          "xanchor": "center",
          "xref": "paper",
          "y": 0.4,
          "yanchor": "bottom",
          "yref": "paper"
         },
         {
          "font": {
           "size": 16
          },
          "showarrow": false,
          "text": "Topic 5",
          "x": 0.36250000000000004,
          "xanchor": "center",
          "xref": "paper",
          "y": 0.4,
          "yanchor": "bottom",
          "yref": "paper"
         },
         {
          "font": {
           "size": 16
          },
          "showarrow": false,
          "text": "Topic 6",
          "x": 0.6375000000000001,
          "xanchor": "center",
          "xref": "paper",
          "y": 0.4,
          "yanchor": "bottom",
          "yref": "paper"
         }
        ],
        "height": 500,
        "hoverlabel": {
         "bgcolor": "white",
         "font": {
          "family": "Rockwell",
          "size": 16
         }
        },
        "showlegend": false,
        "template": {
         "data": {
          "bar": [
           {
            "error_x": {
             "color": "#2a3f5f"
            },
            "error_y": {
             "color": "#2a3f5f"
            },
            "marker": {
             "line": {
              "color": "white",
              "width": 0.5
             },
             "pattern": {
              "fillmode": "overlay",
              "size": 10,
              "solidity": 0.2
             }
            },
            "type": "bar"
           }
          ],
          "barpolar": [
           {
            "marker": {
             "line": {
              "color": "white",
              "width": 0.5
             },
             "pattern": {
              "fillmode": "overlay",
              "size": 10,
              "solidity": 0.2
             }
            },
            "type": "barpolar"
           }
          ],
          "carpet": [
           {
            "aaxis": {
             "endlinecolor": "#2a3f5f",
             "gridcolor": "#C8D4E3",
             "linecolor": "#C8D4E3",
             "minorgridcolor": "#C8D4E3",
             "startlinecolor": "#2a3f5f"
            },
            "baxis": {
             "endlinecolor": "#2a3f5f",
             "gridcolor": "#C8D4E3",
             "linecolor": "#C8D4E3",
             "minorgridcolor": "#C8D4E3",
             "startlinecolor": "#2a3f5f"
            },
            "type": "carpet"
           }
          ],
          "choropleth": [
           {
            "colorbar": {
             "outlinewidth": 0,
             "ticks": ""
            },
            "type": "choropleth"
           }
          ],
          "contour": [
           {
            "colorbar": {
             "outlinewidth": 0,
             "ticks": ""
            },
            "colorscale": [
             [
              0,
              "#0d0887"
             ],
             [
              0.1111111111111111,
              "#46039f"
             ],
             [
              0.2222222222222222,
              "#7201a8"
             ],
             [
              0.3333333333333333,
              "#9c179e"
             ],
             [
              0.4444444444444444,
              "#bd3786"
             ],
             [
              0.5555555555555556,
              "#d8576b"
             ],
             [
              0.6666666666666666,
              "#ed7953"
             ],
             [
              0.7777777777777778,
              "#fb9f3a"
             ],
             [
              0.8888888888888888,
              "#fdca26"
             ],
             [
              1,
              "#f0f921"
             ]
            ],
            "type": "contour"
           }
          ],
          "contourcarpet": [
           {
            "colorbar": {
             "outlinewidth": 0,
             "ticks": ""
            },
            "type": "contourcarpet"
           }
          ],
          "heatmap": [
           {
            "colorbar": {
             "outlinewidth": 0,
             "ticks": ""
            },
            "colorscale": [
             [
              0,
              "#0d0887"
             ],
             [
              0.1111111111111111,
              "#46039f"
             ],
             [
              0.2222222222222222,
              "#7201a8"
             ],
             [
              0.3333333333333333,
              "#9c179e"
             ],
             [
              0.4444444444444444,
              "#bd3786"
             ],
             [
              0.5555555555555556,
              "#d8576b"
             ],
             [
              0.6666666666666666,
              "#ed7953"
             ],
             [
              0.7777777777777778,
              "#fb9f3a"
             ],
             [
              0.8888888888888888,
              "#fdca26"
             ],
             [
              1,
              "#f0f921"
             ]
            ],
            "type": "heatmap"
           }
          ],
          "heatmapgl": [
           {
            "colorbar": {
             "outlinewidth": 0,
             "ticks": ""
            },
            "colorscale": [
             [
              0,
              "#0d0887"
             ],
             [
              0.1111111111111111,
              "#46039f"
             ],
             [
              0.2222222222222222,
              "#7201a8"
             ],
             [
              0.3333333333333333,
              "#9c179e"
             ],
             [
              0.4444444444444444,
              "#bd3786"
             ],
             [
              0.5555555555555556,
              "#d8576b"
             ],
             [
              0.6666666666666666,
              "#ed7953"
             ],
             [
              0.7777777777777778,
              "#fb9f3a"
             ],
             [
              0.8888888888888888,
              "#fdca26"
             ],
             [
              1,
              "#f0f921"
             ]
            ],
            "type": "heatmapgl"
           }
          ],
          "histogram": [
           {
            "marker": {
             "pattern": {
              "fillmode": "overlay",
              "size": 10,
              "solidity": 0.2
             }
            },
            "type": "histogram"
           }
          ],
          "histogram2d": [
           {
            "colorbar": {
             "outlinewidth": 0,
             "ticks": ""
            },
            "colorscale": [
             [
              0,
              "#0d0887"
             ],
             [
              0.1111111111111111,
              "#46039f"
             ],
             [
              0.2222222222222222,
              "#7201a8"
             ],
             [
              0.3333333333333333,
              "#9c179e"
             ],
             [
              0.4444444444444444,
              "#bd3786"
             ],
             [
              0.5555555555555556,
              "#d8576b"
             ],
             [
              0.6666666666666666,
              "#ed7953"
             ],
             [
              0.7777777777777778,
              "#fb9f3a"
             ],
             [
              0.8888888888888888,
              "#fdca26"
             ],
             [
              1,
              "#f0f921"
             ]
            ],
            "type": "histogram2d"
           }
          ],
          "histogram2dcontour": [
           {
            "colorbar": {
             "outlinewidth": 0,
             "ticks": ""
            },
            "colorscale": [
             [
              0,
              "#0d0887"
             ],
             [
              0.1111111111111111,
              "#46039f"
             ],
             [
              0.2222222222222222,
              "#7201a8"
             ],
             [
              0.3333333333333333,
              "#9c179e"
             ],
             [
              0.4444444444444444,
              "#bd3786"
             ],
             [
              0.5555555555555556,
              "#d8576b"
             ],
             [
              0.6666666666666666,
              "#ed7953"
             ],
             [
              0.7777777777777778,
              "#fb9f3a"
             ],
             [
              0.8888888888888888,
              "#fdca26"
             ],
             [
              1,
              "#f0f921"
             ]
            ],
            "type": "histogram2dcontour"
           }
          ],
          "mesh3d": [
           {
            "colorbar": {
             "outlinewidth": 0,
             "ticks": ""
            },
            "type": "mesh3d"
           }
          ],
          "parcoords": [
           {
            "line": {
             "colorbar": {
              "outlinewidth": 0,
              "ticks": ""
             }
            },
            "type": "parcoords"
           }
          ],
          "pie": [
           {
            "automargin": true,
            "type": "pie"
           }
          ],
          "scatter": [
           {
            "fillpattern": {
             "fillmode": "overlay",
             "size": 10,
             "solidity": 0.2
            },
            "type": "scatter"
           }
          ],
          "scatter3d": [
           {
            "line": {
             "colorbar": {
              "outlinewidth": 0,
              "ticks": ""
             }
            },
            "marker": {
             "colorbar": {
              "outlinewidth": 0,
              "ticks": ""
             }
            },
            "type": "scatter3d"
           }
          ],
          "scattercarpet": [
           {
            "marker": {
             "colorbar": {
              "outlinewidth": 0,
              "ticks": ""
             }
            },
            "type": "scattercarpet"
           }
          ],
          "scattergeo": [
           {
            "marker": {
             "colorbar": {
              "outlinewidth": 0,
              "ticks": ""
             }
            },
            "type": "scattergeo"
           }
          ],
          "scattergl": [
           {
            "marker": {
             "colorbar": {
              "outlinewidth": 0,
              "ticks": ""
             }
            },
            "type": "scattergl"
           }
          ],
          "scattermapbox": [
           {
            "marker": {
             "colorbar": {
              "outlinewidth": 0,
              "ticks": ""
             }
            },
            "type": "scattermapbox"
           }
          ],
          "scatterpolar": [
           {
            "marker": {
             "colorbar": {
              "outlinewidth": 0,
              "ticks": ""
             }
            },
            "type": "scatterpolar"
           }
          ],
          "scatterpolargl": [
           {
            "marker": {
             "colorbar": {
              "outlinewidth": 0,
              "ticks": ""
             }
            },
            "type": "scatterpolargl"
           }
          ],
          "scatterternary": [
           {
            "marker": {
             "colorbar": {
              "outlinewidth": 0,
              "ticks": ""
             }
            },
            "type": "scatterternary"
           }
          ],
          "surface": [
           {
            "colorbar": {
             "outlinewidth": 0,
             "ticks": ""
            },
            "colorscale": [
             [
              0,
              "#0d0887"
             ],
             [
              0.1111111111111111,
              "#46039f"
             ],
             [
              0.2222222222222222,
              "#7201a8"
             ],
             [
              0.3333333333333333,
              "#9c179e"
             ],
             [
              0.4444444444444444,
              "#bd3786"
             ],
             [
              0.5555555555555556,
              "#d8576b"
             ],
             [
              0.6666666666666666,
              "#ed7953"
             ],
             [
              0.7777777777777778,
              "#fb9f3a"
             ],
             [
              0.8888888888888888,
              "#fdca26"
             ],
             [
              1,
              "#f0f921"
             ]
            ],
            "type": "surface"
           }
          ],
          "table": [
           {
            "cells": {
             "fill": {
              "color": "#EBF0F8"
             },
             "line": {
              "color": "white"
             }
            },
            "header": {
             "fill": {
              "color": "#C8D4E3"
             },
             "line": {
              "color": "white"
             }
            },
            "type": "table"
           }
          ]
         },
         "layout": {
          "annotationdefaults": {
           "arrowcolor": "#2a3f5f",
           "arrowhead": 0,
           "arrowwidth": 1
          },
          "autotypenumbers": "strict",
          "coloraxis": {
           "colorbar": {
            "outlinewidth": 0,
            "ticks": ""
           }
          },
          "colorscale": {
           "diverging": [
            [
             0,
             "#8e0152"
            ],
            [
             0.1,
             "#c51b7d"
            ],
            [
             0.2,
             "#de77ae"
            ],
            [
             0.3,
             "#f1b6da"
            ],
            [
             0.4,
             "#fde0ef"
            ],
            [
             0.5,
             "#f7f7f7"
            ],
            [
             0.6,
             "#e6f5d0"
            ],
            [
             0.7,
             "#b8e186"
            ],
            [
             0.8,
             "#7fbc41"
            ],
            [
             0.9,
             "#4d9221"
            ],
            [
             1,
             "#276419"
            ]
           ],
           "sequential": [
            [
             0,
             "#0d0887"
            ],
            [
             0.1111111111111111,
             "#46039f"
            ],
            [
             0.2222222222222222,
             "#7201a8"
            ],
            [
             0.3333333333333333,
             "#9c179e"
            ],
            [
             0.4444444444444444,
             "#bd3786"
            ],
            [
             0.5555555555555556,
             "#d8576b"
            ],
            [
             0.6666666666666666,
             "#ed7953"
            ],
            [
             0.7777777777777778,
             "#fb9f3a"
            ],
            [
             0.8888888888888888,
             "#fdca26"
            ],
            [
             1,
             "#f0f921"
            ]
           ],
           "sequentialminus": [
            [
             0,
             "#0d0887"
            ],
            [
             0.1111111111111111,
             "#46039f"
            ],
            [
             0.2222222222222222,
             "#7201a8"
            ],
            [
             0.3333333333333333,
             "#9c179e"
            ],
            [
             0.4444444444444444,
             "#bd3786"
            ],
            [
             0.5555555555555556,
             "#d8576b"
            ],
            [
             0.6666666666666666,
             "#ed7953"
            ],
            [
             0.7777777777777778,
             "#fb9f3a"
            ],
            [
             0.8888888888888888,
             "#fdca26"
            ],
            [
             1,
             "#f0f921"
            ]
           ]
          },
          "colorway": [
           "#636efa",
           "#EF553B",
           "#00cc96",
           "#ab63fa",
           "#FFA15A",
           "#19d3f3",
           "#FF6692",
           "#B6E880",
           "#FF97FF",
           "#FECB52"
          ],
          "font": {
           "color": "#2a3f5f"
          },
          "geo": {
           "bgcolor": "white",
           "lakecolor": "white",
           "landcolor": "white",
           "showlakes": true,
           "showland": true,
           "subunitcolor": "#C8D4E3"
          },
          "hoverlabel": {
           "align": "left"
          },
          "hovermode": "closest",
          "mapbox": {
           "style": "light"
          },
          "paper_bgcolor": "white",
          "plot_bgcolor": "white",
          "polar": {
           "angularaxis": {
            "gridcolor": "#EBF0F8",
            "linecolor": "#EBF0F8",
            "ticks": ""
           },
           "bgcolor": "white",
           "radialaxis": {
            "gridcolor": "#EBF0F8",
            "linecolor": "#EBF0F8",
            "ticks": ""
           }
          },
          "scene": {
           "xaxis": {
            "backgroundcolor": "white",
            "gridcolor": "#DFE8F3",
            "gridwidth": 2,
            "linecolor": "#EBF0F8",
            "showbackground": true,
            "ticks": "",
            "zerolinecolor": "#EBF0F8"
           },
           "yaxis": {
            "backgroundcolor": "white",
            "gridcolor": "#DFE8F3",
            "gridwidth": 2,
            "linecolor": "#EBF0F8",
            "showbackground": true,
            "ticks": "",
            "zerolinecolor": "#EBF0F8"
           },
           "zaxis": {
            "backgroundcolor": "white",
            "gridcolor": "#DFE8F3",
            "gridwidth": 2,
            "linecolor": "#EBF0F8",
            "showbackground": true,
            "ticks": "",
            "zerolinecolor": "#EBF0F8"
           }
          },
          "shapedefaults": {
           "line": {
            "color": "#2a3f5f"
           }
          },
          "ternary": {
           "aaxis": {
            "gridcolor": "#DFE8F3",
            "linecolor": "#A2B1C6",
            "ticks": ""
           },
           "baxis": {
            "gridcolor": "#DFE8F3",
            "linecolor": "#A2B1C6",
            "ticks": ""
           },
           "bgcolor": "white",
           "caxis": {
            "gridcolor": "#DFE8F3",
            "linecolor": "#A2B1C6",
            "ticks": ""
           }
          },
          "title": {
           "x": 0.05
          },
          "xaxis": {
           "automargin": true,
           "gridcolor": "#EBF0F8",
           "linecolor": "#EBF0F8",
           "ticks": "",
           "title": {
            "standoff": 15
           },
           "zerolinecolor": "#EBF0F8",
           "zerolinewidth": 2
          },
          "yaxis": {
           "automargin": true,
           "gridcolor": "#EBF0F8",
           "linecolor": "#EBF0F8",
           "ticks": "",
           "title": {
            "standoff": 15
           },
           "zerolinecolor": "#EBF0F8",
           "zerolinewidth": 2
          }
         }
        },
        "title": {
         "font": {
          "color": "Black",
          "size": 22
         },
         "text": "Topic Word Scores",
         "x": 0.5,
         "xanchor": "center",
         "yanchor": "top"
        },
        "width": 1000,
        "xaxis": {
         "anchor": "y",
         "domain": [
          0,
          0.175
         ],
         "showgrid": true
        },
        "xaxis2": {
         "anchor": "y2",
         "domain": [
          0.275,
          0.45
         ],
         "showgrid": true
        },
        "xaxis3": {
         "anchor": "y3",
         "domain": [
          0.55,
          0.7250000000000001
         ],
         "showgrid": true
        },
        "xaxis4": {
         "anchor": "y4",
         "domain": [
          0.825,
          1
         ],
         "showgrid": true
        },
        "xaxis5": {
         "anchor": "y5",
         "domain": [
          0,
          0.175
         ],
         "showgrid": true
        },
        "xaxis6": {
         "anchor": "y6",
         "domain": [
          0.275,
          0.45
         ],
         "showgrid": true
        },
        "xaxis7": {
         "anchor": "y7",
         "domain": [
          0.55,
          0.7250000000000001
         ],
         "showgrid": true
        },
        "xaxis8": {
         "anchor": "y8",
         "domain": [
          0.825,
          1
         ],
         "showgrid": true
        },
        "yaxis": {
         "anchor": "x",
         "domain": [
          0.6000000000000001,
          1
         ],
         "showgrid": true
        },
        "yaxis2": {
         "anchor": "x2",
         "domain": [
          0.6000000000000001,
          1
         ],
         "showgrid": true
        },
        "yaxis3": {
         "anchor": "x3",
         "domain": [
          0.6000000000000001,
          1
         ],
         "showgrid": true
        },
        "yaxis4": {
         "anchor": "x4",
         "domain": [
          0.6000000000000001,
          1
         ],
         "showgrid": true
        },
        "yaxis5": {
         "anchor": "x5",
         "domain": [
          0,
          0.4
         ],
         "showgrid": true
        },
        "yaxis6": {
         "anchor": "x6",
         "domain": [
          0,
          0.4
         ],
         "showgrid": true
        },
        "yaxis7": {
         "anchor": "x7",
         "domain": [
          0,
          0.4
         ],
         "showgrid": true
        },
        "yaxis8": {
         "anchor": "x8",
         "domain": [
          0,
          0.4
         ],
         "showgrid": true
        }
       }
      }
     },
     "metadata": {},
     "output_type": "display_data"
    }
   ],
   "source": [
    "model.visualize_barchart()"
   ]
  },
  {
   "cell_type": "code",
   "execution_count": 36,
   "metadata": {},
   "outputs": [],
   "source": [
    "from sklearn.feature_extraction.text import CountVectorizer\n",
    "vectorizer_model = CountVectorizer(stop_words=\"english\", ngram_range=(1, 3))\n",
    "model.update_topics(questions,vectorizer_model=vectorizer_model)"
   ]
  },
  {
   "cell_type": "code",
   "execution_count": 37,
   "metadata": {},
   "outputs": [
    {
     "data": {
      "text/html": [
       "<div>\n",
       "<style scoped>\n",
       "    .dataframe tbody tr th:only-of-type {\n",
       "        vertical-align: middle;\n",
       "    }\n",
       "\n",
       "    .dataframe tbody tr th {\n",
       "        vertical-align: top;\n",
       "    }\n",
       "\n",
       "    .dataframe thead th {\n",
       "        text-align: right;\n",
       "    }\n",
       "</style>\n",
       "<table border=\"1\" class=\"dataframe\">\n",
       "  <thead>\n",
       "    <tr style=\"text-align: right;\">\n",
       "      <th></th>\n",
       "      <th>Topic</th>\n",
       "      <th>Count</th>\n",
       "      <th>Name</th>\n",
       "      <th>Representation</th>\n",
       "      <th>Representative_Docs</th>\n",
       "    </tr>\n",
       "  </thead>\n",
       "  <tbody>\n",
       "    <tr>\n",
       "      <th>0</th>\n",
       "      <td>-1</td>\n",
       "      <td>33</td>\n",
       "      <td>-1_india_discuss_states_examine</td>\n",
       "      <td>[india, discuss, states, examine, indian, glob...</td>\n",
       "      <td>[The political and administrative reorganizati...</td>\n",
       "    </tr>\n",
       "    <tr>\n",
       "      <th>1</th>\n",
       "      <td>0</td>\n",
       "      <td>64</td>\n",
       "      <td>0_water_india_discuss_world</td>\n",
       "      <td>[water, india, discuss, world, explain, resour...</td>\n",
       "      <td>[What do you understand by the phenomenon of ‘...</td>\n",
       "    </tr>\n",
       "    <tr>\n",
       "      <th>2</th>\n",
       "      <td>1</td>\n",
       "      <td>18</td>\n",
       "      <td>1_art_architecture_indian_discuss</td>\n",
       "      <td>[art, architecture, indian, discuss, early, hi...</td>\n",
       "      <td>[The rock-cut architecture represents one of t...</td>\n",
       "    </tr>\n",
       "    <tr>\n",
       "      <th>3</th>\n",
       "      <td>2</td>\n",
       "      <td>43</td>\n",
       "      <td>2_india_british_did_colonial</td>\n",
       "      <td>[india, british, did, colonial, mahatma gandhi...</td>\n",
       "      <td>[Why did the armies of the British East India ...</td>\n",
       "    </tr>\n",
       "    <tr>\n",
       "      <th>4</th>\n",
       "      <td>3</td>\n",
       "      <td>11</td>\n",
       "      <td>3_energy_oil_countries_discuss</td>\n",
       "      <td>[energy, oil, countries, discuss, india, steel...</td>\n",
       "      <td>[Despite India being one of the countries of t...</td>\n",
       "    </tr>\n",
       "    <tr>\n",
       "      <th>5</th>\n",
       "      <td>4</td>\n",
       "      <td>15</td>\n",
       "      <td>4_women_poverty_india_population</td>\n",
       "      <td>[women, poverty, india, population, sex, ratio...</td>\n",
       "      <td>[‘Despite implementation of various programmes...</td>\n",
       "    </tr>\n",
       "    <tr>\n",
       "      <th>6</th>\n",
       "      <td>5</td>\n",
       "      <td>20</td>\n",
       "      <td>5_india_cities_new_development</td>\n",
       "      <td>[india, cities, new, development, economic, sm...</td>\n",
       "      <td>[Mention the advantages of the cultivation of ...</td>\n",
       "    </tr>\n",
       "    <tr>\n",
       "      <th>7</th>\n",
       "      <td>6</td>\n",
       "      <td>31</td>\n",
       "      <td>6_cultural_indian_society_indian society</td>\n",
       "      <td>[cultural, indian, society, indian society, in...</td>\n",
       "      <td>[Globalisation is generally said to promote cu...</td>\n",
       "    </tr>\n",
       "  </tbody>\n",
       "</table>\n",
       "</div>"
      ],
      "text/plain": [
       "   Topic  Count                                      Name  \\\n",
       "0     -1     33           -1_india_discuss_states_examine   \n",
       "1      0     64               0_water_india_discuss_world   \n",
       "2      1     18         1_art_architecture_indian_discuss   \n",
       "3      2     43              2_india_british_did_colonial   \n",
       "4      3     11            3_energy_oil_countries_discuss   \n",
       "5      4     15          4_women_poverty_india_population   \n",
       "6      5     20            5_india_cities_new_development   \n",
       "7      6     31  6_cultural_indian_society_indian society   \n",
       "\n",
       "                                      Representation  \\\n",
       "0  [india, discuss, states, examine, indian, glob...   \n",
       "1  [water, india, discuss, world, explain, resour...   \n",
       "2  [art, architecture, indian, discuss, early, hi...   \n",
       "3  [india, british, did, colonial, mahatma gandhi...   \n",
       "4  [energy, oil, countries, discuss, india, steel...   \n",
       "5  [women, poverty, india, population, sex, ratio...   \n",
       "6  [india, cities, new, development, economic, sm...   \n",
       "7  [cultural, indian, society, indian society, in...   \n",
       "\n",
       "                                 Representative_Docs  \n",
       "0  [The political and administrative reorganizati...  \n",
       "1  [What do you understand by the phenomenon of ‘...  \n",
       "2  [The rock-cut architecture represents one of t...  \n",
       "3  [Why did the armies of the British East India ...  \n",
       "4  [Despite India being one of the countries of t...  \n",
       "5  [‘Despite implementation of various programmes...  \n",
       "6  [Mention the advantages of the cultivation of ...  \n",
       "7  [Globalisation is generally said to promote cu...  "
      ]
     },
     "execution_count": 37,
     "metadata": {},
     "output_type": "execute_result"
    }
   ],
   "source": [
    "model.get_topic_info()"
   ]
  },
  {
   "cell_type": "code",
   "execution_count": 41,
   "metadata": {},
   "outputs": [
    {
     "data": {
      "application/vnd.plotly.v1+json": {
       "config": {
        "plotlyServerURL": "https://plot.ly"
       },
       "data": [
        {
         "hoverinfo": "text",
         "hovertext": [
          "Discuss the positive and negative effects of globalization on women in India?",
          "From being net food importer in 1960s, India has emerged as a net food exporter to the world. Provide reasons.",
          "COVID-19 pandemic accelerated class inequalities and poverty in India. Comment.",
          "Assess the main administrative issues and socio-cultural problems in the integration process of Indian Princely States.",
          "How does India see its place in the economic space of rising natural resources rich Africa?",
          "Explore and evaluate the impact of ‘Work From Home’ on family relationships.",
          "Why did the Green Revolution in India virtually by-pass the eastern region despite fertile soil and good availability of water?",
          "‘Communalism arises either due to power struggle or relative deprivation.’ Argue by giving suitable illustrations.",
          "Critically discuss the objectives of Bhoodan and Gramdan movements initiated by AcharyaVinobhaBhave and their success.",
          "Discuss whether formation of new states in recent times is beneficial or not for the economy of India.",
          "Critically examine the effect of globalization on the aged population in India.",
          "Examine how the decline of traditional artisanal industry in colonial India crippled the rural economy.",
          "The life cycle of a joint family depends on economic factors rather than social values. Discuss.",
          "The political and administrative reorganization of states and territories has been a continuous ongoing process since the mid-nineteenth century. Discuss with examples.",
          "Evaluate the nature of the Bhakti Literature and its contribution to Indian culture.",
          "Trace the rise and growth of socio-religious reform movements with special reference to Young Bengal and Brahmo Samaj.",
          "Why is India considered as a sub-continent? Elaborate your answer.",
          "Examine the role of ‘Gig Economy’ in the process of empowerment of women in India.",
          "What were the major technological changes introduced during the Sultanate period? How did those technological changes influence the Indian society?",
          "Clarify how mid-eighteenth century India was beset with the spectre of a fragmented polity.",
          "Explain the role of geographical factors towards the development of Ancient India.",
          "Why are the tribals in India referred to as 'the Scheduled Tribes? Indicate the major provisions in the Constitution of India for their upliftment.",
          "Debate the issue whether and how contemporary movements for assertion of Dalit identity work towards annihilation of caste.",
          "“Africa was chopped into states artificially created by accidents of European competition.” Analyze.",
          "What are the two major legal initiatives by the State since Independence addressing discrimination against Scheduled Tribes(STs)?",
          "Defining blue revolution, explain the problems and strategies for pisciculture development in India.",
          "Defying the barriers of age, gender and religion, the Indian women became the torchbearer during the struggle for freedom in India. Discuss.",
          "‘Latecomer’ Industrial Revolution in Japan involved certain factors that were markedly different from what West had experienced.” Analyze.",
          "The ancient civilization in Indian sub continent differed from those of Egypt , Mesopotamia and Greece in that its culture and traditions have been preserved without breakdown to the present day. Comment",
          "To what extent has the urban planning and culture of the Indus Valley Civilization provided inputs to the present day urbanization?\nDiscuss.",
          "Examine the uniqueness of tribal knowledge system when compared with mainstream knowledge and cultural systems.",
          "The Bhakti movement received a remarkable re-orientation with the advent of Sri Chaitanya Mahaprabhu. Discuss.",
          "Elucidate the relationship between globalization and new technology in a world of scarce resources, with special reference to India.",
          null
         ],
         "marker": {
          "color": "#CFD8DC",
          "opacity": 0.5,
          "size": 5
         },
         "mode": "markers+text",
         "name": "other",
         "showlegend": false,
         "type": "scattergl",
         "x": [
          9.51999282836914,
          8.035624504089355,
          9.276444435119629,
          9.660661697387695,
          7.545847415924072,
          10.108551979064941,
          8.484657287597656,
          10.333471298217773,
          11.43713092803955,
          9.242169380187988,
          9.543289184570312,
          8.566925048828125,
          10.178070068359375,
          9.584380149841309,
          11.735530853271484,
          11.371627807617188,
          9.288426399230957,
          9.234192848205566,
          8.745366096496582,
          10.371780395507812,
          8.717567443847656,
          10.28050422668457,
          10.954323768615723,
          9.510542869567871,
          10.245733261108398,
          6.304701328277588,
          10.92302131652832,
          8.576092720031738,
          9.19138240814209,
          8.608323097229004,
          10.258424758911133,
          11.61014175415039,
          9.004258155822754,
          9.589369773864746
         ],
         "y": [
          2.034757375717163,
          3.285879373550415,
          1.4013118743896484,
          3.3525781631469727,
          2.4335877895355225,
          1.855332851409912,
          3.192793369293213,
          2.175863742828369,
          4.404506206512451,
          3.4251365661621094,
          2.3091793060302734,
          3.833843231201172,
          1.945762038230896,
          3.8377630710601807,
          4.457794666290283,
          3.6049537658691406,
          2.852844715118408,
          1.6882442235946655,
          3.1812939643859863,
          4.439274311065674,
          2.9587526321411133,
          3.4724528789520264,
          2.535916328430176,
          3.7991719245910645,
          3.6466448307037354,
          3.471163749694824,
          4.489034652709961,
          3.7801499366760254,
          2.9464237689971924,
          2.6230342388153076,
          3.0644564628601074,
          4.460560321807861,
          2.516669988632202,
          3.1356706619262695
         ]
        },
        {
         "hoverinfo": "text",
         "hovertext": [
          "Mention the significance of straits and isthmus in international trade.",
          "How far do you agree that the behaviour of the Indian monsoon has been changing due to humanizing landscape? Discuss.",
          "The process of desertification does not have climate boundaries. Justify with examples.",
          "The interlinking of rivers can provide viable solutions to the multi-dimensional inter-related problems of droughts, floods and interrupted navigation. Critically examine.",
          "The recent cyclone on the east coast of India was called ‘Phailin’. How are the tropical cyclones named across the world? Elaborate.",
          "The states of Jammu and Kashmir, Himachal Pradesh and Uttarakhand are reaching the limits of ecological carrying capacity due to tourism. Critically evaluate.",
          "Why is the world today confronted with a crisis of availability of and access to freshwater resources?",
          "Enumerate the problems and prospects of inland water transport in India.",
          "Tropical cyclones are largely confined to South China Sea, Bay of Bengal and Gulf of Mexico. Why?",
          "Why is the South-West monsoon called ‘Purvaiya’ (easterly) in Bhojpur Region? How has this directional seasonal wind system influenced the cultural ethos of the region?",
          "Account for the huge flooding of million cities in India including the smart ones like Hyderabad and Pune. Suggest lasting remedial measures.",
          "How do ocean currents and water masses differ in their impacts on marine life and coastal environment? Give suitable examples.",
          "How does the cryosphere affect global climate?",
          "Differentiate the causes of landslides in the Himalayan region and Western Ghats.",
          "There is no formation of deltas by rivers on the Western Ghats. Why?",
          "Explain the formation of thousands of islands in Indonesian and Philipines archipelagos.",
          "Discuss the concept of air mass and explain its role in macro-climatic changes.",
          "Why is Indian Regional Navigational Satellite System (IRNSS) needed? How does it help in navigation?",
          "Troposphere is a very significant atmospheric layer that determines weather processes.\nHow?",
          "Why are the world’s fold mountain systems located along the margins of continents? Bring out the association between the global distribution of fold mountains and the earthquakes and volcanoes.",
          "What are the consequences of spreading of ‘Dead Zones’ on marine ecosystem?",
          "What characteristics can be assigned to monsoon climate that succeeds in feeding more than 50 percent of the world population residing in Monsoon Asia?",
          "Critically evaluate the various resources of the oceans which can be harnessed to meet the resource crisis in the world.",
          "Discuss the geophysical characteristics of Circum- Pacific Zone.",
          "How will the melting of Himalayan glaciers have a far- reaching impact on the water resources of India?",
          "What do you understand by the phenomenon of ‘temperature inversion’ in meteorology? How does it affect weather and the habitants of the place?",
          "Identify and discuss the factors responsible for diversity of natural vegetation in India. Assess the significance of wildlife sanctuaries in rain forests regions of India.",
          "Why is India taking keen interest in the Arctic region?",
          "What is water stress? How and why does it differ regionally in India?",
          "Examine the status of forest resources of India and its resultant impact on climate change.",
          "How do the melting of the Arctic ice and glaciers of the Antarctic differently affect the weather patterns and human activities on the Earth? Explain.",
          "Major hot deserts in northern hemisphere are located between 20-30 deg N latitudes and on the western sides of the continents. Why?",
          "How are the fjords formed? Why do they constitute some of the most picturesque areas of the world?",
          "Discuss the natural resource potentials of ‘Deccan trap’.",
          "Most of the unusual climatic happenings are explained as an outcome of the El-Nino effect. Do you agree?",
          "Bring out the causes for the formation of heat islands in the urban habitat of the world.",
          "Bring out the causes for more frequent occurrence of landslides in the Himalayas than in the Western Ghats.",
          "Assess the impact of global warming on the coral life system with examples.",
          "Account for variations in oceanic salinity and discuss its multi-dimensional effects.",
          "The effective management of land and water resources will drastically reduce the human miseries. Explain.",
          "Bring out the relationship between the shrinking Himalayan glaciers and the symptoms of climate change in the Indian sub-continent.",
          "“The ideal solution of depleting ground water resources in India is water harvesting system.” How can it be made effective in urban areas?",
          "what are the environmental implications of the reclamation of the water bodies into urban land use? Explain with examples.",
          "Comment on the resource potentials of the long coastline of India and highlight the status of natural hazard preparedness in these areas.",
          "What are the forces that influence ocean currents? Describe their role in fishing industry of the world.",
          "Briefly mention the alignment of major mountain ranges of the world and explain their impact on local weather conditions, with examples.",
          "Discuss the meaning of colour-coded weather warnings for cyclone prone areas given by India Meteorological department.",
          "\"The Himalayas are highly prone to landslides.\" Discuss the causes and suggest suitable measures of mitigation.",
          "What do you understand by the theory of continental drift? Discuss the prominent evidences in its support.",
          "India is well endowed with fresh water resources. Critically examine why it still suffers from water scarcity.",
          "Major cities of India are becoming more vulnerable to flood conditions. Discuss.",
          "Explain the factors responsible for the origin of ocean currents. How do they influence regional climates, fishing and navigation?",
          "Present an account of the Indus Water Treaty and examine its ecological, economic and political implications in the context of changing bilateral relations.",
          "How can the mountain ecosystem be restored from the negative impact of development initiatives and tourism?",
          "Discuss the causes of depletion of mangroves and explain their importance in maintaining coastal ecology.",
          "Mention the global occurrence of volcanic eruptions in 2021 and their impact on regional environment.",
          "In what way can floods be converted into a sustainable source of irrigation and all-weather inland navigation in India?",
          "Discuss the consequences of climate change on the food security in tropical countries.",
          "Describe the characteristics and types of primary rocks.",
          "How does the Juno Mission of NASA help to understand the origin and evolution of the Earth?",
          "South China Sea has assumed great geopolitical significance in the present context. Comment.",
          "Define mantle plume and explain its role in plate tectonics.",
          "What are the economic significances of discovery of oil in Arctic Sea and its possible environemental consequences?",
          "In what way micro-watershed development projects help in water conservation in\ndrought-prone and semi-arid regions of India?",
          null
         ],
         "marker": {
          "opacity": 0.5,
          "size": 5
         },
         "mode": "markers+text",
         "name": "0_water_india_discuss",
         "text": [
          "",
          "",
          "",
          "",
          "",
          "",
          "",
          "",
          "",
          "",
          "",
          "",
          "",
          "",
          "",
          "",
          "",
          "",
          "",
          "",
          "",
          "",
          "",
          "",
          "",
          "",
          "",
          "",
          "",
          "",
          "",
          "",
          "",
          "",
          "",
          "",
          "",
          "",
          "",
          "",
          "",
          "",
          "",
          "",
          "",
          "",
          "",
          "",
          "",
          "",
          "",
          "",
          "",
          "",
          "",
          "",
          "",
          "",
          "",
          "",
          "",
          "",
          "",
          "",
          "0_water_india_discuss"
         ],
         "textfont": {
          "size": 12
         },
         "type": "scattergl",
         "x": [
          5.11613655090332,
          5.026333808898926,
          4.689131259918213,
          5.211109638214111,
          4.8935770988464355,
          5.871081352233887,
          5.394802093505859,
          5.398650646209717,
          4.773791313171387,
          5.120575904846191,
          5.1963372230529785,
          4.480968952178955,
          4.561988830566406,
          4.21908712387085,
          4.396231651306152,
          4.187411785125732,
          4.518226623535156,
          5.147526264190674,
          4.464695453643799,
          4.085943698883057,
          4.737373352050781,
          4.9784135818481445,
          4.9647674560546875,
          4.0241241455078125,
          5.134250164031982,
          4.451902866363525,
          5.930876731872559,
          5.4539475440979,
          5.467395305633545,
          5.619333744049072,
          4.659747123718262,
          4.4039626121521,
          4.540040016174316,
          6.038182735443115,
          4.832196235656738,
          4.326523780822754,
          4.191742897033691,
          4.587276935577393,
          4.557885646820068,
          5.6330180168151855,
          4.868781089782715,
          5.5115861892700195,
          5.654407978057861,
          5.880321979522705,
          4.587405204772949,
          4.343882083892822,
          4.934087753295898,
          4.197659492492676,
          4.16878604888916,
          5.483409881591797,
          5.282985210418701,
          4.501102924346924,
          5.46535587310791,
          5.485077857971191,
          4.548882961273193,
          4.021349906921387,
          5.21994161605835,
          5.215952396392822,
          4.000340938568115,
          4.007691860198975,
          5.10506010055542,
          4.026062488555908,
          5.1878886222839355,
          5.479109287261963,
          4.882245063781738
         ],
         "y": [
          2.667161226272583,
          4.019429683685303,
          3.4521214962005615,
          4.58723783493042,
          4.267662048339844,
          3.5190963745117188,
          4.26023530960083,
          4.413516998291016,
          4.124133586883545,
          3.8376080989837646,
          4.5307698249816895,
          2.4860849380493164,
          3.4487719535827637,
          3.991900682449341,
          4.135600566864014,
          3.0814990997314453,
          3.3777294158935547,
          4.720197677612305,
          3.4531168937683105,
          3.5789153575897217,
          2.280413866043091,
          3.9761605262756348,
          2.4830830097198486,
          3.3716788291931152,
          3.885882616043091,
          3.493709087371826,
          3.4643807411193848,
          2.76704478263855,
          4.485417366027832,
          3.472946882247925,
          3.4019899368286133,
          3.628876209259033,
          2.856783628463745,
          3.359440803527832,
          3.863539457321167,
          3.338876247406006,
          3.902036190032959,
          2.415576934814453,
          2.4800257682800293,
          4.2487006187438965,
          3.623817205429077,
          4.492423057556152,
          4.423616886138916,
          3.448082685470581,
          2.562899112701416,
          3.607128381729126,
          4.299909591674805,
          3.8468263149261475,
          3.1123361587524414,
          4.35599422454834,
          4.409488201141357,
          2.5801162719726562,
          3.8994228839874268,
          3.6729211807250977,
          2.448906183242798,
          3.481759548187256,
          4.595444679260254,
          3.5222012996673584,
          3.7303709983825684,
          3.30531907081604,
          2.6820483207702637,
          3.3725531101226807,
          2.5108935832977295,
          4.494662284851074,
          3.587632894515991
         ]
        },
        {
         "hoverinfo": "text",
         "hovertext": [
          "Discuss the ‘Tandava’ dance as recorded in early Indian inscriptions.",
          "How do you justify the view that the level of excellence of the Gupta numismatic art is not at all noticeable in later times?",
          "Mesolithic rock cut architecture of India not only reflects the cultural life of the times but also a fine aesthetic sense comparable to modern painting. Critically evaluate this comment.",
          "Persian literary sources of medieval India reflect the spirit of the age. Comment.",
          "Taxila university was one of the oldest universities of the world with which were associated a number of renowned learned personalities of different disciplines. Its strategic location caused its fame to flourish, but unlike Nalanda, it is not considered as a university in the modern sense. Discuss.",
          "Indian Philosophy and tradition played a significant role in conceiving and shaping the monuments and their art in India. Discuss.",
          "How will you explain the medieval Indian temple sculptures represent the social life of those days?",
          "Assess the importance of the accounts of the Chinese and Arab travellers in the reconstruction of the history of India.",
          "Discuss the significance of the lion and bull figures in Indian mythology, art and architecture.",
          "Pala period is the most significant phase in the history of Buddhism in India. Enumerate.",
          "Gandhara sculpture owed as much to the Romans as to the Greeks. Explain.",
          "Chola architecture represents a high watermark in the evolution of temple architecture. Discuss",
          "The rock-cut architecture represents one of the most important sources of our knowledge of early Indian art and history. Discuss.",
          "Krishnadeva Raya, the King of Vijayanagar, was not only an accomplished scholar himself but was also a great patron of learning and literature. Discuss.",
          "Highlight the Central Asian and Greco Bactrian elements in the Gandhara art.",
          "Early Buddhist Stupa-art, while depicting folk motifs and narratives successfully expounds Buddhist ideals. Elucidate.",
          "Discuss the main contributions of Gupta period and Chola period to Indian heritage and culture\n.",
          "Safeguarding the Indian art heritage is the need of the moment.",
          null
         ],
         "marker": {
          "opacity": 0.5,
          "size": 5
         },
         "mode": "markers+text",
         "name": "1_art_architecture_indian",
         "text": [
          "",
          "",
          "",
          "",
          "",
          "",
          "",
          "",
          "",
          "",
          "",
          "",
          "",
          "",
          "",
          "",
          "",
          "",
          "1_art_architecture_indian"
         ],
         "textfont": {
          "size": 12
         },
         "type": "scattergl",
         "x": [
          12.895414352416992,
          12.583531379699707,
          12.784220695495605,
          11.814682960510254,
          12.131272315979004,
          12.566242218017578,
          12.706660270690918,
          11.327188491821289,
          12.605325698852539,
          12.406699180603027,
          12.755971908569336,
          12.68648624420166,
          12.83787727355957,
          11.529626846313477,
          12.898069381713867,
          12.794622421264648,
          12.4945650100708,
          12.6775541305542,
          12.472000122070312
         ],
         "y": [
          4.740713596343994,
          4.694148063659668,
          4.8029937744140625,
          4.394730567932129,
          4.85903263092041,
          4.708899021148682,
          4.858805179595947,
          4.472486972808838,
          4.704472541809082,
          4.830748558044434,
          4.821440696716309,
          4.863468170166016,
          4.758553504943848,
          4.8641486167907715,
          4.826966285705566,
          4.905421257019043,
          4.747870445251465,
          4.7239508628845215,
          4.754380702972412
         ]
        },
        {
         "hoverinfo": "text",
         "hovertext": [
          "Explain how the Uprising of 1857 constitutes an important watershed in the evolution of British policies towards colonial India.",
          "What was the difference between Mahatma Gandhi and Rabindranath Tagore in their approach towards education and nationalism?",
          "“American Revolution was an economic revolt against mercantilism.” Substantiate.",
          "” There arose a serious challenge to the Democratic State System between the two World Wars.” Evaluate the statement.",
          "“In many ways, Lord Dalhousie was the founder of modern India.” Elaborate.",
          "Why did the industrial revolution first occur in England? Discuss the quality of life of the people there during the industrialization. How does it compare with that in India at present times?",
          "Why indentured labour was taken by the British from India to their colonies? have they been able to preserve their cultural identity over there?",
          "How difficult would have been the achievement of Indian independence without Mahatma Gandhi? Discuss.",
          "Examine critically the various facets of economic policies of the British in India from mid-eighteenth century till independence.",
          "Mahatma Gandhi and Dr. B R Ambedkar, despite having divergent approaches and strategies, had a common goal of amelioration of the downtrodden. Elucidate.",
          "The 1857 uprising was the culmination of the recurrent, big and small local rebellions that had occurred in the preceding hundred years of British rule. Elucidate.",
          "Since the decade of the 1920s, the national movement acquired various ideological strands and thereby expanded its social base. Discuss.",
          "Critically examine the compulsions which prompted India to play a decisive role in the emergence of Bangladesh.",
          "The New Economic Policy – 1921 of Lenin had influenced the policies adopted by India soon after independence. Evaluate.",
          "The third battle of Panipat was fought in 1761. Why were so many empire-shaking battles fought at Panipat?",
          "What policy instruments were deployed to contain the Great Economic Depression?",
          "Several foreigners made India their homeland and participated in various movements.\nAnalyze their role in the Indian struggle for freedom.",
          "Discuss the role of women in the freedom struggle especially during the Gandhian phase.",
          "Throw light on the significance of the thoughts of Mahatma Gandhi in the present times.",
          "Why did the armies of the British East India Company – mostly comprising of Indian soldiers – win consistently against the more numerous and better equipped armies of the Indian rulers? Give reasons.",
          "Highlight the differences in the approach of Subhash Chandra Bose and Mahatma Gandhi in the struggle for freedom.",
          "What were the major political, economic and social developments in the world which motivated the anti-colonial in India?",
          "What problems are germane to the decolonization process in the Malay Peninsula?",
          "How did the colonial rule affect the tribals in India and what was the tribal response to the colonial oppression?",
          "Examine the linkages between the nineteenth century’s ‘Indian Renaissance’ and the emergence of national identity.",
          "Bring out the constructive programmes of Mahatma Gandhi during Non-Cooperation Movement and Civil Disobedience Movement.",
          "Why was there a sudden spurt in famines in colonial India since the mid-eighteenth century? Give reasons.",
          "To what extend can Germany be held responsible for causing the two World Wars? Discuss critically.",
          "What were the events that led to the Suez Crisis in 1956? How did it deal a final blow to Britain’s self-image as a world power?",
          "Many voices had strengthened and enriched the nationalist movement during the Gandhian phase. Elaborate.",
          "It would have been difficult for the Constituent Assembly to complete its historic task of drafting the Constitution for Independent India in just three years, but its experience gained with the Government of India Act, 1935\n.Discuss.",
          "In what ways did the navel mutiny prove to be the last nail in the coffin of British colonial aspirations in India?",
          "Explain how the foundations of the modern world were laid by the American and French Revolutions.",
          "Discuss the contributions of MaulanaAbulKalam Azad to pre- and post-independent India.",
          "To what extent did the role of the moderates prepare a base for the wider freedom movement? Comment.",
          "The anti-colonial struggles in West Africa were led by the new elite of Western-educated Africans.",
          "Analyze the circumstances that led to the Tashkent Agreement in 1966. Discuss the highlights of the Agreement.",
          "Why did the ‘Moderates’ failed to carry conviction with the nation about their proclaimed ideology and political goals by the end of the nineteenth century?",
          "Whereas the British planters had developed tea gardens all along the Shivaliks and Lesser Himalayas from Assam to Himachal Pradesh, in effect they did not succeed beyond the Darjeeling area. Explain.",
          "Highlight the importance of the new objectives that got added to the vision of Indian Independence since the twenties of the last century.",
          "Evaluate the policies of Lord Curzon and their long term implications on the national movements.",
          "Assess the role of British imperial power in complicating the process of transfer of power during the 1940s.",
          "Though not very useful from the point of view of a connected political history of South India, the Sangam literature portrays the social and economic conditions of its time with remarkable vividness. Comment.",
          null
         ],
         "marker": {
          "opacity": 0.5,
          "size": 5
         },
         "mode": "markers+text",
         "name": "2_india_british_did",
         "text": [
          "",
          "",
          "",
          "",
          "",
          "",
          "",
          "",
          "",
          "",
          "",
          "",
          "",
          "",
          "",
          "",
          "",
          "",
          "",
          "",
          "",
          "",
          "",
          "",
          "",
          "",
          "",
          "",
          "",
          "",
          "",
          "",
          "",
          "",
          "",
          "",
          "",
          "",
          "",
          "",
          "",
          "",
          "",
          "2_india_british_did"
         ],
         "textfont": {
          "size": 12
         },
         "type": "scattergl",
         "x": [
          10.064231872558594,
          10.900519371032715,
          9.79080581665039,
          9.576844215393066,
          11.341287612915039,
          8.73385238647461,
          10.263158798217773,
          10.810338973999023,
          9.695350646972656,
          11.049022674560547,
          10.072094917297363,
          10.084260940551758,
          10.509062767028809,
          9.741994857788086,
          9.156970024108887,
          9.560956954956055,
          10.713159561157227,
          10.947754859924316,
          11.112908363342285,
          9.136289596557617,
          11.053046226501465,
          9.954863548278809,
          9.687098503112793,
          10.13728141784668,
          10.533872604370117,
          11.063249588012695,
          8.71324634552002,
          9.466245651245117,
          9.629213333129883,
          10.514716148376465,
          10.582796096801758,
          10.11723804473877,
          9.620076179504395,
          10.657960891723633,
          10.18835735321045,
          9.895951271057129,
          9.501834869384766,
          10.177956581115723,
          8.828722953796387,
          10.561452865600586,
          10.090056419372559,
          9.544981956481934,
          10.68812370300293,
          10.103935241699219
         ],
         "y": [
          4.6616644859313965,
          5.039967060089111,
          4.682731628417969,
          4.885641098022461,
          4.911372184753418,
          3.994413137435913,
          4.118948936462402,
          4.811305046081543,
          4.4283528327941895,
          4.989411354064941,
          4.5777740478515625,
          5.123082637786865,
          4.305226802825928,
          4.537248134613037,
          4.38533878326416,
          4.444832801818848,
          4.527420520782471,
          4.570147514343262,
          4.873325347900391,
          4.37637996673584,
          5.054896354675293,
          4.223026752471924,
          4.010106086730957,
          3.9278299808502197,
          4.420756816864014,
          4.961816310882568,
          3.983433723449707,
          4.673643112182617,
          4.844513416290283,
          5.037688732147217,
          4.795960426330566,
          4.374822616577148,
          4.794816970825195,
          4.774205207824707,
          5.171288013458252,
          4.209165096282959,
          4.8792290687561035,
          5.165438175201416,
          4.115383148193359,
          4.674709320068359,
          5.132229328155518,
          4.875405311584473,
          4.538867950439453,
          4.625205039978027
         ]
        },
        {
         "hoverinfo": "text",
         "hovertext": [
          "Examine the potential of wind energy in India and explain the reasons for their limited spatial spread.",
          "Describing the distribution of rubber producing countries, indicate the major environmental issues faced by them.",
          "Discuss the multi-dimensional implications of uneven distribution of mineral oil in the world.",
          "Petroleum refineries are not necessarily located nearer to crude oil producing areas, particularly in many of the developing countries. Explain its implications.",
          "Despite India being one of the countries of the Gondwanaland, its mining industry contributes much less to its Gross Domestic Product(GDP) in percentage. Discuss.",
          "It is said that India has substantial reserves of shale oil and gas, which can feed the needs of the country for quarter century. However, tapping of the resource does not appear to be high on the agenda. Discuss critically the availability and issues involved.",
          "With growing scarcity of fossil fuels, the atomic energy is gaining more and more significance in India. Discuss the availability of raw material required for the generation of atomic energy in India and in the world.",
          "Account for the change in the spatial pattern of the Iron and Steel industry in the world.",
          "“Inspite of adverse environmental impact, coal mining is still inevitable for development”.\nDiscuss",
          "Account for the present location of iron and steel industries away from the source of raw material, by giving examples.",
          "India has immense potential of solar energy though there are regional variations in its developments. Elaborate.",
          null
         ],
         "marker": {
          "opacity": 0.5,
          "size": 5
         },
         "mode": "markers+text",
         "name": "3_energy_oil_countries",
         "text": [
          "",
          "",
          "",
          "",
          "",
          "",
          "",
          "",
          "",
          "",
          "",
          "3_energy_oil_countries"
         ],
         "textfont": {
          "size": 12
         },
         "type": "scattergl",
         "x": [
          7.148029804229736,
          6.376612663269043,
          6.430707931518555,
          6.473451137542725,
          6.992702960968018,
          6.518085479736328,
          7.060751438140869,
          7.1215081214904785,
          6.5786237716674805,
          7.037726402282715,
          7.117995262145996,
          6.805108547210693
         ],
         "y": [
          3.0080299377441406,
          2.495962381362915,
          2.4981186389923096,
          2.513188600540161,
          2.4441134929656982,
          2.545788049697876,
          2.9270083904266357,
          2.433443069458008,
          2.534339189529419,
          2.422623872756958,
          2.9879417419433594,
          2.6191415786743164
         ]
        },
        {
         "hoverinfo": "text",
         "hovertext": [
          "How does patriarchy impact the position of a middle class working woman in India?",
          "Critically examine whether growing population is the cause of poverty OR poverty is the mains cause of population increase in India.",
          "‘Women’s movement in India has not addressed the issues of women of lower social strata.’ Substantiate your view.",
          "Child cuddling is now being replaced by mobile phones. Discuss its impact on the socialization of children.",
          "What are the continued challenges for women in India against time and space?",
          "Discuss the main objectives of Population Education and point out the measures to achieve them in India in detail.",
          "How do you explain the statistics that show that the sex ratio in Tribes in India is more favourable to women than the sex ratio among Scheduled Castes?",
          "“Empowering women is the key to control population growth.” Discuss.",
          "\"An essential condition to eradicate poverty is to liberate the poor from the process of deprivation.\" Substantiate this statement with suitable examples.",
          "Explain why suicide among young women is increasing in Indian Society.",
          "Why do some of the most prosperous regions of India have an adverse sex ratio for women? Give your arguments.",
          "‘Despite implementation of various programmes for eradication of poverty by the government in India, poverty is still existing’. Explain by giving reasons.",
          "Discuss the various economic and\nsocio-cultural forces that are driving increasing feminization of agriculture in India.",
          "“Male membership needs to be encouraged in order to make women’s organization free from gender bias.” Comment.",
          "The women’s questions arose in modern India as a part of the 19th century social reform movement. What are the major issues and debates concerning women in that period?",
          null
         ],
         "marker": {
          "opacity": 0.5,
          "size": 5
         },
         "mode": "markers+text",
         "name": "4_women_poverty_india",
         "text": [
          "",
          "",
          "",
          "",
          "",
          "",
          "",
          "",
          "",
          "",
          "",
          "",
          "",
          "",
          "",
          "4_women_poverty_india"
         ],
         "textfont": {
          "size": 12
         },
         "type": "scattergl",
         "x": [
          9.79421329498291,
          9.290464401245117,
          10.029532432556152,
          10.031393051147461,
          10.04471492767334,
          9.25241470336914,
          9.77144718170166,
          9.678863525390625,
          9.427350044250488,
          9.943554878234863,
          9.802534103393555,
          9.346502304077148,
          9.791544914245605,
          9.851333618164062,
          10.068678855895996,
          9.741637229919434
         ],
         "y": [
          1.2923052310943604,
          1.3917734622955322,
          1.183759331703186,
          1.9624232053756714,
          1.2574834823608398,
          1.4395087957382202,
          1.228091835975647,
          1.3643895387649536,
          1.339614748954773,
          1.2917729616165161,
          1.3057931661605835,
          1.3059204816818237,
          1.4840564727783203,
          1.2007668018341064,
          1.2818018198013306,
          1.355297327041626
         ]
        },
        {
         "hoverinfo": "text",
         "hovertext": [
          "What is the significance of Industrial Corridors in India? Identifying industrial corridors, explain their main characteristics.",
          "With a brief background of quality of urban life in India, introduce the objectives and strategy of the 'Smart City Programme'.",
          "Analyze the factors for the highly decentralized cotton textile industry in India.",
          "Does urbanization lead to more segregation and/or marginalization of the poor in Indian metropolises?",
          "Smart cities in India cannot sustain without smart vilages. Discuss this statement in the backdrop of rural urban integration.",
          "Discuss the factors for localisation of agro-based food processing industries of North-West India.",
          "Mumbai, Delhi and Kolkata are the three Mega cities of the country but the air pollution is much more serious probelm in Delhi as compared to the other two. Why is this so?",
          "“The growth of cities as I.T. hubs has opened up new avenues of employment, but has also created new problems”. Substantiate this statement with examples",
          "Can the strategy of regional resource-based manufacturing help in promoting employment in India?",
          "Do you agree that there is a growing trend of opening new sugar mills in southern states of India? Discuss with justification.",
          "How have digital initiatives in India contributed to the functioning of the education system in the country? Elaborate your answer.",
          "Bring out the socio-economic effects of the introduction of railways in different countries of the world",
          "Mention the advantages of the cultivation of pulses because of which the year 2016 was declared as the International Year of Pulses by United Nations.",
          "How is the growth of Tier 2 cities related to the rise of a new middle class with an emphasis on the culture of consumption?",
          "Why did human development fail to keep pace with economic development in India?",
          "What are the main socio-economic implications arising out of the development of IT industries in major cities of India?",
          "How is efficient and affordable urban mass transport key to the rapid economic development in India?",
          "Discuss the various social problems which originated out of the speedy process of urbanization in India.",
          "Mention core strategies for the transformation of aspirational districts in India and explain the nature of convergence, collaboration and competition for its success.",
          "What is Cryptocurrency? How does it affect global society? Has it been affecting Indian society also?",
          null
         ],
         "marker": {
          "opacity": 0.5,
          "size": 5
         },
         "mode": "markers+text",
         "name": "5_india_cities_new",
         "text": [
          "",
          "",
          "",
          "",
          "",
          "",
          "",
          "",
          "",
          "",
          "",
          "",
          "",
          "",
          "",
          "",
          "",
          "",
          "",
          "",
          "5_india_cities_new"
         ],
         "textfont": {
          "size": 12
         },
         "type": "scattergl",
         "x": [
          7.839561939239502,
          8.386856079101562,
          7.919082164764404,
          8.69780158996582,
          8.358433723449707,
          7.878270626068115,
          8.215006828308105,
          8.362483978271484,
          7.933483600616455,
          7.880019664764404,
          8.85323715209961,
          8.366599082946777,
          7.923243522644043,
          8.335466384887695,
          8.68931770324707,
          8.461722373962402,
          8.24579906463623,
          8.637392044067383,
          8.838057518005371,
          9.40386962890625,
          8.361285209655762
         ],
         "y": [
          2.53930401802063,
          2.1158227920532227,
          2.8678488731384277,
          1.9046170711517334,
          2.0980794429779053,
          3.062316417694092,
          1.783484935760498,
          2.07753324508667,
          2.671248435974121,
          2.9805164337158203,
          1.7373486757278442,
          2.3312880992889404,
          3.2363696098327637,
          2.0476107597351074,
          2.2750699520111084,
          2.0367517471313477,
          2.1768219470977783,
          2.1694061756134033,
          1.7702181339263916,
          2.1688153743743896,
          2.3025238513946533
         ]
        },
        {
         "hoverinfo": "text",
         "hovertext": [
          "Globalisation is generally said to promote cultural homogenisation but due to this cultural specificities appear to be strengthened in the Indian society.’ Elucidate.",
          "How the Indian concept of secularism different from the western model of secularism?\nDiscuss.",
          "Customs and traditions suppress reason leading to obscurantism. Do you agree?",
          "Write a critical note on the evolution and significance of the slogan, ‘Jai Jawan, Jai Kisan’.",
          "What makes the Indian society unique in sustaining its culture? Discuss.",
          "How do the Indian debates on secularism differ from the debates in the West?",
          "Do you agree that regionalism in India appears to be a consequence of rising cultural assertiveness? Argue.",
          "To what extent globalization has influenced the core of cultural diversity in India? Explain.",
          "“Caste system is assuming new identities and associational forms. Hence, caste system cannot be eradicated in India.”",
          "Sufis and medieval saints failed to modify either the religious ideas and practices or the outward structure of Hindu/ Muslim societies to any appreciable extent. Comment.",
          "Why is caste identity in India both fluid and static?",
          "Are tolerance, assimilation and pluralism the key elements in the making of an Indian form of secularism? Justify your answer.",
          "What are the main features of Vedic society and religion? Do you think some of the features are still prevailing in Indian society?",
          "Are we losing our local identity for the global identity? Discuss.",
          "Has the formation of linguistic States strengthened the cause of Indian Unity?",
          "Growing feeling of regionalism is an important factor in generation of demand for a separate state. Discuss.",
          "In the context of the diversity of India, can it be said that the regions form cultural units rather than the States? Give reasons with examples for your view point.",
          "Analyze the salience of ‘sect’ in Indian society vis-a-vis caste, region and religion.",
          "Describe any four cultural elements of diversity in India and rate their relative significance in building a national identity.",
          "Discuss the changes in the trends of labour migration within and outside India in the last four decades.",
          "Do you think marriage as a sacrament in loosing its value in Modern India?",
          "Discuss the impact of post-liberal economy on ethnic identity and communalism.",
          "Is diversity and pluralism in India under threat due to globalisation? Justify your answer.",
          "Given the diversities among the tribal communities in India, in which specific contexts should they be considered as a single category?",
          "How does Indian society maintain continuity in traditional social values? Enumerate the changes taking place in it.",
          "The spirit of tolerance and love is not only an interesting feature of Indian society from very early times, but it is also playing an important part at the present. Elaborate.",
          "Do we have cultural pockets of small India all over the nation? Elaborate with examples.",
          "What is the basis of regionalism? Is it that unequal distribution of benefits of development on regional basis eventually promotes regionalism? Substantiate your answer.",
          "Has caste lost its relevance in understanding the multi- cultural Indian Society? Elaborate your answer with illustrations.",
          "What are the challenges to our cultural practices in the name of secularism?",
          "Distinguish between religiousness/religiosity and communalism giving one example of how the former has got transformed into the latter in independent India.",
          null
         ],
         "marker": {
          "opacity": 0.5,
          "size": 5
         },
         "mode": "markers+text",
         "name": "6_cultural_indian_society",
         "text": [
          "",
          "",
          "",
          "",
          "",
          "",
          "",
          "",
          "",
          "",
          "",
          "",
          "",
          "",
          "",
          "",
          "",
          "",
          "",
          "",
          "",
          "",
          "",
          "",
          "",
          "",
          "",
          "",
          "",
          "",
          "",
          "6_cultural_indian_society"
         ],
         "textfont": {
          "size": 12
         },
         "type": "scattergl",
         "x": [
          9.941075325012207,
          11.403589248657227,
          11.580720901489258,
          11.039307594299316,
          10.25157642364502,
          11.483332633972168,
          9.545844078063965,
          9.560267448425293,
          10.930841445922852,
          11.553093910217285,
          10.905909538269043,
          11.393292427062988,
          10.533368110656738,
          10.017937660217285,
          9.51664924621582,
          9.429784774780273,
          9.670790672302246,
          10.961039543151855,
          10.208914756774902,
          9.310251235961914,
          10.803502082824707,
          10.321502685546875,
          9.839408874511719,
          10.23859691619873,
          10.573307991027832,
          11.038808822631836,
          9.80297565460205,
          9.411567687988281,
          10.88634967803955,
          11.466062545776367,
          10.930408477783203,
          10.469358444213867
         ],
         "y": [
          2.5768465995788574,
          3.231823682785034,
          3.2696287631988525,
          3.5115602016448975,
          2.9149866104125977,
          3.229105234146118,
          2.9898440837860107,
          2.582975387573242,
          2.518061399459839,
          3.4672977924346924,
          2.5541770458221436,
          3.1929171085357666,
          2.7942941188812256,
          2.525571346282959,
          3.256274938583374,
          3.421437978744507,
          3.029611349105835,
          2.849456548690796,
          2.9623310565948486,
          2.3807973861694336,
          2.6021037101745605,
          2.268571138381958,
          2.7096407413482666,
          3.0251693725585938,
          2.71705961227417,
          3.2286179065704346,
          2.8828351497650146,
          3.1349523067474365,
          2.527083396911621,
          3.202685594558716,
          3.154719591140747,
          2.9262073040008545
         ]
        }
       ],
       "layout": {
        "annotations": [
         {
          "showarrow": false,
          "text": "D1",
          "x": 3.400289797782898,
          "y": 3.476588323712349,
          "yshift": 10
         },
         {
          "showarrow": false,
          "text": "D2",
          "x": 9.116534793376923,
          "xshift": 10,
          "y": 5.94698121547699
         }
        ],
        "height": 750,
        "shapes": [
         {
          "line": {
           "color": "#CFD8DC",
           "width": 2
          },
          "type": "line",
          "x0": 9.116534793376923,
          "x1": 9.116534793376923,
          "y0": 1.0061954319477082,
          "y1": 5.94698121547699
         },
         {
          "line": {
           "color": "#9E9E9E",
           "width": 2
          },
          "type": "line",
          "x0": 3.400289797782898,
          "x1": 14.832779788970948,
          "y0": 3.476588323712349,
          "y1": 3.476588323712349
         }
        ],
        "template": {
         "data": {
          "bar": [
           {
            "error_x": {
             "color": "rgb(36,36,36)"
            },
            "error_y": {
             "color": "rgb(36,36,36)"
            },
            "marker": {
             "line": {
              "color": "white",
              "width": 0.5
             },
             "pattern": {
              "fillmode": "overlay",
              "size": 10,
              "solidity": 0.2
             }
            },
            "type": "bar"
           }
          ],
          "barpolar": [
           {
            "marker": {
             "line": {
              "color": "white",
              "width": 0.5
             },
             "pattern": {
              "fillmode": "overlay",
              "size": 10,
              "solidity": 0.2
             }
            },
            "type": "barpolar"
           }
          ],
          "carpet": [
           {
            "aaxis": {
             "endlinecolor": "rgb(36,36,36)",
             "gridcolor": "white",
             "linecolor": "white",
             "minorgridcolor": "white",
             "startlinecolor": "rgb(36,36,36)"
            },
            "baxis": {
             "endlinecolor": "rgb(36,36,36)",
             "gridcolor": "white",
             "linecolor": "white",
             "minorgridcolor": "white",
             "startlinecolor": "rgb(36,36,36)"
            },
            "type": "carpet"
           }
          ],
          "choropleth": [
           {
            "colorbar": {
             "outlinewidth": 1,
             "tickcolor": "rgb(36,36,36)",
             "ticks": "outside"
            },
            "type": "choropleth"
           }
          ],
          "contour": [
           {
            "colorbar": {
             "outlinewidth": 1,
             "tickcolor": "rgb(36,36,36)",
             "ticks": "outside"
            },
            "colorscale": [
             [
              0,
              "#440154"
             ],
             [
              0.1111111111111111,
              "#482878"
             ],
             [
              0.2222222222222222,
              "#3e4989"
             ],
             [
              0.3333333333333333,
              "#31688e"
             ],
             [
              0.4444444444444444,
              "#26828e"
             ],
             [
              0.5555555555555556,
              "#1f9e89"
             ],
             [
              0.6666666666666666,
              "#35b779"
             ],
             [
              0.7777777777777778,
              "#6ece58"
             ],
             [
              0.8888888888888888,
              "#b5de2b"
             ],
             [
              1,
              "#fde725"
             ]
            ],
            "type": "contour"
           }
          ],
          "contourcarpet": [
           {
            "colorbar": {
             "outlinewidth": 1,
             "tickcolor": "rgb(36,36,36)",
             "ticks": "outside"
            },
            "type": "contourcarpet"
           }
          ],
          "heatmap": [
           {
            "colorbar": {
             "outlinewidth": 1,
             "tickcolor": "rgb(36,36,36)",
             "ticks": "outside"
            },
            "colorscale": [
             [
              0,
              "#440154"
             ],
             [
              0.1111111111111111,
              "#482878"
             ],
             [
              0.2222222222222222,
              "#3e4989"
             ],
             [
              0.3333333333333333,
              "#31688e"
             ],
             [
              0.4444444444444444,
              "#26828e"
             ],
             [
              0.5555555555555556,
              "#1f9e89"
             ],
             [
              0.6666666666666666,
              "#35b779"
             ],
             [
              0.7777777777777778,
              "#6ece58"
             ],
             [
              0.8888888888888888,
              "#b5de2b"
             ],
             [
              1,
              "#fde725"
             ]
            ],
            "type": "heatmap"
           }
          ],
          "heatmapgl": [
           {
            "colorbar": {
             "outlinewidth": 1,
             "tickcolor": "rgb(36,36,36)",
             "ticks": "outside"
            },
            "colorscale": [
             [
              0,
              "#440154"
             ],
             [
              0.1111111111111111,
              "#482878"
             ],
             [
              0.2222222222222222,
              "#3e4989"
             ],
             [
              0.3333333333333333,
              "#31688e"
             ],
             [
              0.4444444444444444,
              "#26828e"
             ],
             [
              0.5555555555555556,
              "#1f9e89"
             ],
             [
              0.6666666666666666,
              "#35b779"
             ],
             [
              0.7777777777777778,
              "#6ece58"
             ],
             [
              0.8888888888888888,
              "#b5de2b"
             ],
             [
              1,
              "#fde725"
             ]
            ],
            "type": "heatmapgl"
           }
          ],
          "histogram": [
           {
            "marker": {
             "line": {
              "color": "white",
              "width": 0.6
             }
            },
            "type": "histogram"
           }
          ],
          "histogram2d": [
           {
            "colorbar": {
             "outlinewidth": 1,
             "tickcolor": "rgb(36,36,36)",
             "ticks": "outside"
            },
            "colorscale": [
             [
              0,
              "#440154"
             ],
             [
              0.1111111111111111,
              "#482878"
             ],
             [
              0.2222222222222222,
              "#3e4989"
             ],
             [
              0.3333333333333333,
              "#31688e"
             ],
             [
              0.4444444444444444,
              "#26828e"
             ],
             [
              0.5555555555555556,
              "#1f9e89"
             ],
             [
              0.6666666666666666,
              "#35b779"
             ],
             [
              0.7777777777777778,
              "#6ece58"
             ],
             [
              0.8888888888888888,
              "#b5de2b"
             ],
             [
              1,
              "#fde725"
             ]
            ],
            "type": "histogram2d"
           }
          ],
          "histogram2dcontour": [
           {
            "colorbar": {
             "outlinewidth": 1,
             "tickcolor": "rgb(36,36,36)",
             "ticks": "outside"
            },
            "colorscale": [
             [
              0,
              "#440154"
             ],
             [
              0.1111111111111111,
              "#482878"
             ],
             [
              0.2222222222222222,
              "#3e4989"
             ],
             [
              0.3333333333333333,
              "#31688e"
             ],
             [
              0.4444444444444444,
              "#26828e"
             ],
             [
              0.5555555555555556,
              "#1f9e89"
             ],
             [
              0.6666666666666666,
              "#35b779"
             ],
             [
              0.7777777777777778,
              "#6ece58"
             ],
             [
              0.8888888888888888,
              "#b5de2b"
             ],
             [
              1,
              "#fde725"
             ]
            ],
            "type": "histogram2dcontour"
           }
          ],
          "mesh3d": [
           {
            "colorbar": {
             "outlinewidth": 1,
             "tickcolor": "rgb(36,36,36)",
             "ticks": "outside"
            },
            "type": "mesh3d"
           }
          ],
          "parcoords": [
           {
            "line": {
             "colorbar": {
              "outlinewidth": 1,
              "tickcolor": "rgb(36,36,36)",
              "ticks": "outside"
             }
            },
            "type": "parcoords"
           }
          ],
          "pie": [
           {
            "automargin": true,
            "type": "pie"
           }
          ],
          "scatter": [
           {
            "fillpattern": {
             "fillmode": "overlay",
             "size": 10,
             "solidity": 0.2
            },
            "type": "scatter"
           }
          ],
          "scatter3d": [
           {
            "line": {
             "colorbar": {
              "outlinewidth": 1,
              "tickcolor": "rgb(36,36,36)",
              "ticks": "outside"
             }
            },
            "marker": {
             "colorbar": {
              "outlinewidth": 1,
              "tickcolor": "rgb(36,36,36)",
              "ticks": "outside"
             }
            },
            "type": "scatter3d"
           }
          ],
          "scattercarpet": [
           {
            "marker": {
             "colorbar": {
              "outlinewidth": 1,
              "tickcolor": "rgb(36,36,36)",
              "ticks": "outside"
             }
            },
            "type": "scattercarpet"
           }
          ],
          "scattergeo": [
           {
            "marker": {
             "colorbar": {
              "outlinewidth": 1,
              "tickcolor": "rgb(36,36,36)",
              "ticks": "outside"
             }
            },
            "type": "scattergeo"
           }
          ],
          "scattergl": [
           {
            "marker": {
             "colorbar": {
              "outlinewidth": 1,
              "tickcolor": "rgb(36,36,36)",
              "ticks": "outside"
             }
            },
            "type": "scattergl"
           }
          ],
          "scattermapbox": [
           {
            "marker": {
             "colorbar": {
              "outlinewidth": 1,
              "tickcolor": "rgb(36,36,36)",
              "ticks": "outside"
             }
            },
            "type": "scattermapbox"
           }
          ],
          "scatterpolar": [
           {
            "marker": {
             "colorbar": {
              "outlinewidth": 1,
              "tickcolor": "rgb(36,36,36)",
              "ticks": "outside"
             }
            },
            "type": "scatterpolar"
           }
          ],
          "scatterpolargl": [
           {
            "marker": {
             "colorbar": {
              "outlinewidth": 1,
              "tickcolor": "rgb(36,36,36)",
              "ticks": "outside"
             }
            },
            "type": "scatterpolargl"
           }
          ],
          "scatterternary": [
           {
            "marker": {
             "colorbar": {
              "outlinewidth": 1,
              "tickcolor": "rgb(36,36,36)",
              "ticks": "outside"
             }
            },
            "type": "scatterternary"
           }
          ],
          "surface": [
           {
            "colorbar": {
             "outlinewidth": 1,
             "tickcolor": "rgb(36,36,36)",
             "ticks": "outside"
            },
            "colorscale": [
             [
              0,
              "#440154"
             ],
             [
              0.1111111111111111,
              "#482878"
             ],
             [
              0.2222222222222222,
              "#3e4989"
             ],
             [
              0.3333333333333333,
              "#31688e"
             ],
             [
              0.4444444444444444,
              "#26828e"
             ],
             [
              0.5555555555555556,
              "#1f9e89"
             ],
             [
              0.6666666666666666,
              "#35b779"
             ],
             [
              0.7777777777777778,
              "#6ece58"
             ],
             [
              0.8888888888888888,
              "#b5de2b"
             ],
             [
              1,
              "#fde725"
             ]
            ],
            "type": "surface"
           }
          ],
          "table": [
           {
            "cells": {
             "fill": {
              "color": "rgb(237,237,237)"
             },
             "line": {
              "color": "white"
             }
            },
            "header": {
             "fill": {
              "color": "rgb(217,217,217)"
             },
             "line": {
              "color": "white"
             }
            },
            "type": "table"
           }
          ]
         },
         "layout": {
          "annotationdefaults": {
           "arrowhead": 0,
           "arrowwidth": 1
          },
          "autotypenumbers": "strict",
          "coloraxis": {
           "colorbar": {
            "outlinewidth": 1,
            "tickcolor": "rgb(36,36,36)",
            "ticks": "outside"
           }
          },
          "colorscale": {
           "diverging": [
            [
             0,
             "rgb(103,0,31)"
            ],
            [
             0.1,
             "rgb(178,24,43)"
            ],
            [
             0.2,
             "rgb(214,96,77)"
            ],
            [
             0.3,
             "rgb(244,165,130)"
            ],
            [
             0.4,
             "rgb(253,219,199)"
            ],
            [
             0.5,
             "rgb(247,247,247)"
            ],
            [
             0.6,
             "rgb(209,229,240)"
            ],
            [
             0.7,
             "rgb(146,197,222)"
            ],
            [
             0.8,
             "rgb(67,147,195)"
            ],
            [
             0.9,
             "rgb(33,102,172)"
            ],
            [
             1,
             "rgb(5,48,97)"
            ]
           ],
           "sequential": [
            [
             0,
             "#440154"
            ],
            [
             0.1111111111111111,
             "#482878"
            ],
            [
             0.2222222222222222,
             "#3e4989"
            ],
            [
             0.3333333333333333,
             "#31688e"
            ],
            [
             0.4444444444444444,
             "#26828e"
            ],
            [
             0.5555555555555556,
             "#1f9e89"
            ],
            [
             0.6666666666666666,
             "#35b779"
            ],
            [
             0.7777777777777778,
             "#6ece58"
            ],
            [
             0.8888888888888888,
             "#b5de2b"
            ],
            [
             1,
             "#fde725"
            ]
           ],
           "sequentialminus": [
            [
             0,
             "#440154"
            ],
            [
             0.1111111111111111,
             "#482878"
            ],
            [
             0.2222222222222222,
             "#3e4989"
            ],
            [
             0.3333333333333333,
             "#31688e"
            ],
            [
             0.4444444444444444,
             "#26828e"
            ],
            [
             0.5555555555555556,
             "#1f9e89"
            ],
            [
             0.6666666666666666,
             "#35b779"
            ],
            [
             0.7777777777777778,
             "#6ece58"
            ],
            [
             0.8888888888888888,
             "#b5de2b"
            ],
            [
             1,
             "#fde725"
            ]
           ]
          },
          "colorway": [
           "#1F77B4",
           "#FF7F0E",
           "#2CA02C",
           "#D62728",
           "#9467BD",
           "#8C564B",
           "#E377C2",
           "#7F7F7F",
           "#BCBD22",
           "#17BECF"
          ],
          "font": {
           "color": "rgb(36,36,36)"
          },
          "geo": {
           "bgcolor": "white",
           "lakecolor": "white",
           "landcolor": "white",
           "showlakes": true,
           "showland": true,
           "subunitcolor": "white"
          },
          "hoverlabel": {
           "align": "left"
          },
          "hovermode": "closest",
          "mapbox": {
           "style": "light"
          },
          "paper_bgcolor": "white",
          "plot_bgcolor": "white",
          "polar": {
           "angularaxis": {
            "gridcolor": "rgb(232,232,232)",
            "linecolor": "rgb(36,36,36)",
            "showgrid": false,
            "showline": true,
            "ticks": "outside"
           },
           "bgcolor": "white",
           "radialaxis": {
            "gridcolor": "rgb(232,232,232)",
            "linecolor": "rgb(36,36,36)",
            "showgrid": false,
            "showline": true,
            "ticks": "outside"
           }
          },
          "scene": {
           "xaxis": {
            "backgroundcolor": "white",
            "gridcolor": "rgb(232,232,232)",
            "gridwidth": 2,
            "linecolor": "rgb(36,36,36)",
            "showbackground": true,
            "showgrid": false,
            "showline": true,
            "ticks": "outside",
            "zeroline": false,
            "zerolinecolor": "rgb(36,36,36)"
           },
           "yaxis": {
            "backgroundcolor": "white",
            "gridcolor": "rgb(232,232,232)",
            "gridwidth": 2,
            "linecolor": "rgb(36,36,36)",
            "showbackground": true,
            "showgrid": false,
            "showline": true,
            "ticks": "outside",
            "zeroline": false,
            "zerolinecolor": "rgb(36,36,36)"
           },
           "zaxis": {
            "backgroundcolor": "white",
            "gridcolor": "rgb(232,232,232)",
            "gridwidth": 2,
            "linecolor": "rgb(36,36,36)",
            "showbackground": true,
            "showgrid": false,
            "showline": true,
            "ticks": "outside",
            "zeroline": false,
            "zerolinecolor": "rgb(36,36,36)"
           }
          },
          "shapedefaults": {
           "fillcolor": "black",
           "line": {
            "width": 0
           },
           "opacity": 0.3
          },
          "ternary": {
           "aaxis": {
            "gridcolor": "rgb(232,232,232)",
            "linecolor": "rgb(36,36,36)",
            "showgrid": false,
            "showline": true,
            "ticks": "outside"
           },
           "baxis": {
            "gridcolor": "rgb(232,232,232)",
            "linecolor": "rgb(36,36,36)",
            "showgrid": false,
            "showline": true,
            "ticks": "outside"
           },
           "bgcolor": "white",
           "caxis": {
            "gridcolor": "rgb(232,232,232)",
            "linecolor": "rgb(36,36,36)",
            "showgrid": false,
            "showline": true,
            "ticks": "outside"
           }
          },
          "title": {
           "x": 0.05
          },
          "xaxis": {
           "automargin": true,
           "gridcolor": "rgb(232,232,232)",
           "linecolor": "rgb(36,36,36)",
           "showgrid": false,
           "showline": true,
           "ticks": "outside",
           "title": {
            "standoff": 15
           },
           "zeroline": false,
           "zerolinecolor": "rgb(36,36,36)"
          },
          "yaxis": {
           "automargin": true,
           "gridcolor": "rgb(232,232,232)",
           "linecolor": "rgb(36,36,36)",
           "showgrid": false,
           "showline": true,
           "ticks": "outside",
           "title": {
            "standoff": 15
           },
           "zeroline": false,
           "zerolinecolor": "rgb(36,36,36)"
          }
         }
        },
        "title": {
         "font": {
          "color": "Black",
          "size": 22
         },
         "text": "<b>Documents and Topics</b>",
         "x": 0.5,
         "xanchor": "center",
         "yanchor": "top"
        },
        "width": 1200,
        "xaxis": {
         "visible": false
        },
        "yaxis": {
         "visible": false
        }
       }
      }
     },
     "metadata": {},
     "output_type": "display_data"
    }
   ],
   "source": [
    "model.visualize_documents(questions)"
   ]
  },
  {
   "cell_type": "code",
   "execution_count": 42,
   "metadata": {},
   "outputs": [
    {
     "data": {
      "application/vnd.plotly.v1+json": {
       "config": {
        "plotlyServerURL": "https://plot.ly"
       },
       "data": [
        {
         "customdata": [
          [
           0,
           "water | india | discuss | world | explain",
           64
          ],
          [
           1,
           "art | architecture | indian | discuss | early",
           18
          ],
          [
           2,
           "india | british | did | colonial | mahatma gandhi",
           43
          ],
          [
           3,
           "energy | oil | countries | discuss | india",
           11
          ],
          [
           4,
           "women | poverty | india | population | sex",
           15
          ],
          [
           5,
           "india | cities | new | development | economic",
           20
          ],
          [
           6,
           "cultural | indian | society | indian society | india",
           31
          ]
         ],
         "hovertemplate": "<b>Topic %{customdata[0]}</b><br>%{customdata[1]}<br>Size: %{customdata[2]}",
         "legendgroup": "",
         "marker": {
          "color": "#B0BEC5",
          "line": {
           "color": "DarkSlateGrey",
           "width": 2
          },
          "size": [
           64,
           18,
           43,
           11,
           15,
           20,
           31
          ],
          "sizemode": "area",
          "sizeref": 0.04,
          "symbol": "circle"
         },
         "mode": "markers",
         "name": "",
         "orientation": "v",
         "showlegend": false,
         "type": "scatter",
         "x": [
          26.132055282592773,
          -7.612048625946045,
          -6.811375617980957,
          25.65821075439453,
          26.56295394897461,
          25.29283332824707,
          -7.185570240020752
         ],
         "xaxis": "x",
         "y": [
          17.96735954284668,
          -11.501882553100586,
          -10.701196670532227,
          17.471805572509766,
          18.368698120117188,
          16.996557235717773,
          -11.07537841796875
         ],
         "yaxis": "y"
        }
       ],
       "layout": {
        "annotations": [
         {
          "showarrow": false,
          "text": "D1",
          "x": -8.753855919837951,
          "y": 3.9484189510345455,
          "yshift": 10
         },
         {
          "showarrow": false,
          "text": "D2",
          "x": 10.896770560741423,
          "xshift": 10,
          "y": 21.124002838134764
         }
        ],
        "height": 650,
        "hoverlabel": {
         "bgcolor": "white",
         "font": {
          "family": "Rockwell",
          "size": 16
         }
        },
        "legend": {
         "itemsizing": "constant",
         "tracegroupgap": 0
        },
        "margin": {
         "t": 60
        },
        "shapes": [
         {
          "line": {
           "color": "#CFD8DC",
           "width": 2
          },
          "type": "line",
          "x0": 10.896770560741423,
          "x1": 10.896770560741423,
          "y0": -13.227164936065673,
          "y1": 21.124002838134764
         },
         {
          "line": {
           "color": "#9E9E9E",
           "width": 2
          },
          "type": "line",
          "x0": -8.753855919837951,
          "x1": 30.5473970413208,
          "y0": 3.9484189510345455,
          "y1": 3.9484189510345455
         }
        ],
        "sliders": [
         {
          "active": 0,
          "pad": {
           "t": 50
          },
          "steps": [
           {
            "args": [
             {
              "marker.color": [
               [
                "red",
                "#B0BEC5",
                "#B0BEC5",
                "#B0BEC5",
                "#B0BEC5",
                "#B0BEC5",
                "#B0BEC5"
               ]
              ]
             }
            ],
            "label": "Topic 0",
            "method": "update"
           },
           {
            "args": [
             {
              "marker.color": [
               [
                "#B0BEC5",
                "red",
                "#B0BEC5",
                "#B0BEC5",
                "#B0BEC5",
                "#B0BEC5",
                "#B0BEC5"
               ]
              ]
             }
            ],
            "label": "Topic 1",
            "method": "update"
           },
           {
            "args": [
             {
              "marker.color": [
               [
                "#B0BEC5",
                "#B0BEC5",
                "red",
                "#B0BEC5",
                "#B0BEC5",
                "#B0BEC5",
                "#B0BEC5"
               ]
              ]
             }
            ],
            "label": "Topic 2",
            "method": "update"
           },
           {
            "args": [
             {
              "marker.color": [
               [
                "#B0BEC5",
                "#B0BEC5",
                "#B0BEC5",
                "red",
                "#B0BEC5",
                "#B0BEC5",
                "#B0BEC5"
               ]
              ]
             }
            ],
            "label": "Topic 3",
            "method": "update"
           },
           {
            "args": [
             {
              "marker.color": [
               [
                "#B0BEC5",
                "#B0BEC5",
                "#B0BEC5",
                "#B0BEC5",
                "red",
                "#B0BEC5",
                "#B0BEC5"
               ]
              ]
             }
            ],
            "label": "Topic 4",
            "method": "update"
           },
           {
            "args": [
             {
              "marker.color": [
               [
                "#B0BEC5",
                "#B0BEC5",
                "#B0BEC5",
                "#B0BEC5",
                "#B0BEC5",
                "red",
                "#B0BEC5"
               ]
              ]
             }
            ],
            "label": "Topic 5",
            "method": "update"
           },
           {
            "args": [
             {
              "marker.color": [
               [
                "#B0BEC5",
                "#B0BEC5",
                "#B0BEC5",
                "#B0BEC5",
                "#B0BEC5",
                "#B0BEC5",
                "red"
               ]
              ]
             }
            ],
            "label": "Topic 6",
            "method": "update"
           }
          ]
         }
        ],
        "template": {
         "data": {
          "bar": [
           {
            "error_x": {
             "color": "rgb(36,36,36)"
            },
            "error_y": {
             "color": "rgb(36,36,36)"
            },
            "marker": {
             "line": {
              "color": "white",
              "width": 0.5
             },
             "pattern": {
              "fillmode": "overlay",
              "size": 10,
              "solidity": 0.2
             }
            },
            "type": "bar"
           }
          ],
          "barpolar": [
           {
            "marker": {
             "line": {
              "color": "white",
              "width": 0.5
             },
             "pattern": {
              "fillmode": "overlay",
              "size": 10,
              "solidity": 0.2
             }
            },
            "type": "barpolar"
           }
          ],
          "carpet": [
           {
            "aaxis": {
             "endlinecolor": "rgb(36,36,36)",
             "gridcolor": "white",
             "linecolor": "white",
             "minorgridcolor": "white",
             "startlinecolor": "rgb(36,36,36)"
            },
            "baxis": {
             "endlinecolor": "rgb(36,36,36)",
             "gridcolor": "white",
             "linecolor": "white",
             "minorgridcolor": "white",
             "startlinecolor": "rgb(36,36,36)"
            },
            "type": "carpet"
           }
          ],
          "choropleth": [
           {
            "colorbar": {
             "outlinewidth": 1,
             "tickcolor": "rgb(36,36,36)",
             "ticks": "outside"
            },
            "type": "choropleth"
           }
          ],
          "contour": [
           {
            "colorbar": {
             "outlinewidth": 1,
             "tickcolor": "rgb(36,36,36)",
             "ticks": "outside"
            },
            "colorscale": [
             [
              0,
              "#440154"
             ],
             [
              0.1111111111111111,
              "#482878"
             ],
             [
              0.2222222222222222,
              "#3e4989"
             ],
             [
              0.3333333333333333,
              "#31688e"
             ],
             [
              0.4444444444444444,
              "#26828e"
             ],
             [
              0.5555555555555556,
              "#1f9e89"
             ],
             [
              0.6666666666666666,
              "#35b779"
             ],
             [
              0.7777777777777778,
              "#6ece58"
             ],
             [
              0.8888888888888888,
              "#b5de2b"
             ],
             [
              1,
              "#fde725"
             ]
            ],
            "type": "contour"
           }
          ],
          "contourcarpet": [
           {
            "colorbar": {
             "outlinewidth": 1,
             "tickcolor": "rgb(36,36,36)",
             "ticks": "outside"
            },
            "type": "contourcarpet"
           }
          ],
          "heatmap": [
           {
            "colorbar": {
             "outlinewidth": 1,
             "tickcolor": "rgb(36,36,36)",
             "ticks": "outside"
            },
            "colorscale": [
             [
              0,
              "#440154"
             ],
             [
              0.1111111111111111,
              "#482878"
             ],
             [
              0.2222222222222222,
              "#3e4989"
             ],
             [
              0.3333333333333333,
              "#31688e"
             ],
             [
              0.4444444444444444,
              "#26828e"
             ],
             [
              0.5555555555555556,
              "#1f9e89"
             ],
             [
              0.6666666666666666,
              "#35b779"
             ],
             [
              0.7777777777777778,
              "#6ece58"
             ],
             [
              0.8888888888888888,
              "#b5de2b"
             ],
             [
              1,
              "#fde725"
             ]
            ],
            "type": "heatmap"
           }
          ],
          "heatmapgl": [
           {
            "colorbar": {
             "outlinewidth": 1,
             "tickcolor": "rgb(36,36,36)",
             "ticks": "outside"
            },
            "colorscale": [
             [
              0,
              "#440154"
             ],
             [
              0.1111111111111111,
              "#482878"
             ],
             [
              0.2222222222222222,
              "#3e4989"
             ],
             [
              0.3333333333333333,
              "#31688e"
             ],
             [
              0.4444444444444444,
              "#26828e"
             ],
             [
              0.5555555555555556,
              "#1f9e89"
             ],
             [
              0.6666666666666666,
              "#35b779"
             ],
             [
              0.7777777777777778,
              "#6ece58"
             ],
             [
              0.8888888888888888,
              "#b5de2b"
             ],
             [
              1,
              "#fde725"
             ]
            ],
            "type": "heatmapgl"
           }
          ],
          "histogram": [
           {
            "marker": {
             "line": {
              "color": "white",
              "width": 0.6
             }
            },
            "type": "histogram"
           }
          ],
          "histogram2d": [
           {
            "colorbar": {
             "outlinewidth": 1,
             "tickcolor": "rgb(36,36,36)",
             "ticks": "outside"
            },
            "colorscale": [
             [
              0,
              "#440154"
             ],
             [
              0.1111111111111111,
              "#482878"
             ],
             [
              0.2222222222222222,
              "#3e4989"
             ],
             [
              0.3333333333333333,
              "#31688e"
             ],
             [
              0.4444444444444444,
              "#26828e"
             ],
             [
              0.5555555555555556,
              "#1f9e89"
             ],
             [
              0.6666666666666666,
              "#35b779"
             ],
             [
              0.7777777777777778,
              "#6ece58"
             ],
             [
              0.8888888888888888,
              "#b5de2b"
             ],
             [
              1,
              "#fde725"
             ]
            ],
            "type": "histogram2d"
           }
          ],
          "histogram2dcontour": [
           {
            "colorbar": {
             "outlinewidth": 1,
             "tickcolor": "rgb(36,36,36)",
             "ticks": "outside"
            },
            "colorscale": [
             [
              0,
              "#440154"
             ],
             [
              0.1111111111111111,
              "#482878"
             ],
             [
              0.2222222222222222,
              "#3e4989"
             ],
             [
              0.3333333333333333,
              "#31688e"
             ],
             [
              0.4444444444444444,
              "#26828e"
             ],
             [
              0.5555555555555556,
              "#1f9e89"
             ],
             [
              0.6666666666666666,
              "#35b779"
             ],
             [
              0.7777777777777778,
              "#6ece58"
             ],
             [
              0.8888888888888888,
              "#b5de2b"
             ],
             [
              1,
              "#fde725"
             ]
            ],
            "type": "histogram2dcontour"
           }
          ],
          "mesh3d": [
           {
            "colorbar": {
             "outlinewidth": 1,
             "tickcolor": "rgb(36,36,36)",
             "ticks": "outside"
            },
            "type": "mesh3d"
           }
          ],
          "parcoords": [
           {
            "line": {
             "colorbar": {
              "outlinewidth": 1,
              "tickcolor": "rgb(36,36,36)",
              "ticks": "outside"
             }
            },
            "type": "parcoords"
           }
          ],
          "pie": [
           {
            "automargin": true,
            "type": "pie"
           }
          ],
          "scatter": [
           {
            "fillpattern": {
             "fillmode": "overlay",
             "size": 10,
             "solidity": 0.2
            },
            "type": "scatter"
           }
          ],
          "scatter3d": [
           {
            "line": {
             "colorbar": {
              "outlinewidth": 1,
              "tickcolor": "rgb(36,36,36)",
              "ticks": "outside"
             }
            },
            "marker": {
             "colorbar": {
              "outlinewidth": 1,
              "tickcolor": "rgb(36,36,36)",
              "ticks": "outside"
             }
            },
            "type": "scatter3d"
           }
          ],
          "scattercarpet": [
           {
            "marker": {
             "colorbar": {
              "outlinewidth": 1,
              "tickcolor": "rgb(36,36,36)",
              "ticks": "outside"
             }
            },
            "type": "scattercarpet"
           }
          ],
          "scattergeo": [
           {
            "marker": {
             "colorbar": {
              "outlinewidth": 1,
              "tickcolor": "rgb(36,36,36)",
              "ticks": "outside"
             }
            },
            "type": "scattergeo"
           }
          ],
          "scattergl": [
           {
            "marker": {
             "colorbar": {
              "outlinewidth": 1,
              "tickcolor": "rgb(36,36,36)",
              "ticks": "outside"
             }
            },
            "type": "scattergl"
           }
          ],
          "scattermapbox": [
           {
            "marker": {
             "colorbar": {
              "outlinewidth": 1,
              "tickcolor": "rgb(36,36,36)",
              "ticks": "outside"
             }
            },
            "type": "scattermapbox"
           }
          ],
          "scatterpolar": [
           {
            "marker": {
             "colorbar": {
              "outlinewidth": 1,
              "tickcolor": "rgb(36,36,36)",
              "ticks": "outside"
             }
            },
            "type": "scatterpolar"
           }
          ],
          "scatterpolargl": [
           {
            "marker": {
             "colorbar": {
              "outlinewidth": 1,
              "tickcolor": "rgb(36,36,36)",
              "ticks": "outside"
             }
            },
            "type": "scatterpolargl"
           }
          ],
          "scatterternary": [
           {
            "marker": {
             "colorbar": {
              "outlinewidth": 1,
              "tickcolor": "rgb(36,36,36)",
              "ticks": "outside"
             }
            },
            "type": "scatterternary"
           }
          ],
          "surface": [
           {
            "colorbar": {
             "outlinewidth": 1,
             "tickcolor": "rgb(36,36,36)",
             "ticks": "outside"
            },
            "colorscale": [
             [
              0,
              "#440154"
             ],
             [
              0.1111111111111111,
              "#482878"
             ],
             [
              0.2222222222222222,
              "#3e4989"
             ],
             [
              0.3333333333333333,
              "#31688e"
             ],
             [
              0.4444444444444444,
              "#26828e"
             ],
             [
              0.5555555555555556,
              "#1f9e89"
             ],
             [
              0.6666666666666666,
              "#35b779"
             ],
             [
              0.7777777777777778,
              "#6ece58"
             ],
             [
              0.8888888888888888,
              "#b5de2b"
             ],
             [
              1,
              "#fde725"
             ]
            ],
            "type": "surface"
           }
          ],
          "table": [
           {
            "cells": {
             "fill": {
              "color": "rgb(237,237,237)"
             },
             "line": {
              "color": "white"
             }
            },
            "header": {
             "fill": {
              "color": "rgb(217,217,217)"
             },
             "line": {
              "color": "white"
             }
            },
            "type": "table"
           }
          ]
         },
         "layout": {
          "annotationdefaults": {
           "arrowhead": 0,
           "arrowwidth": 1
          },
          "autotypenumbers": "strict",
          "coloraxis": {
           "colorbar": {
            "outlinewidth": 1,
            "tickcolor": "rgb(36,36,36)",
            "ticks": "outside"
           }
          },
          "colorscale": {
           "diverging": [
            [
             0,
             "rgb(103,0,31)"
            ],
            [
             0.1,
             "rgb(178,24,43)"
            ],
            [
             0.2,
             "rgb(214,96,77)"
            ],
            [
             0.3,
             "rgb(244,165,130)"
            ],
            [
             0.4,
             "rgb(253,219,199)"
            ],
            [
             0.5,
             "rgb(247,247,247)"
            ],
            [
             0.6,
             "rgb(209,229,240)"
            ],
            [
             0.7,
             "rgb(146,197,222)"
            ],
            [
             0.8,
             "rgb(67,147,195)"
            ],
            [
             0.9,
             "rgb(33,102,172)"
            ],
            [
             1,
             "rgb(5,48,97)"
            ]
           ],
           "sequential": [
            [
             0,
             "#440154"
            ],
            [
             0.1111111111111111,
             "#482878"
            ],
            [
             0.2222222222222222,
             "#3e4989"
            ],
            [
             0.3333333333333333,
             "#31688e"
            ],
            [
             0.4444444444444444,
             "#26828e"
            ],
            [
             0.5555555555555556,
             "#1f9e89"
            ],
            [
             0.6666666666666666,
             "#35b779"
            ],
            [
             0.7777777777777778,
             "#6ece58"
            ],
            [
             0.8888888888888888,
             "#b5de2b"
            ],
            [
             1,
             "#fde725"
            ]
           ],
           "sequentialminus": [
            [
             0,
             "#440154"
            ],
            [
             0.1111111111111111,
             "#482878"
            ],
            [
             0.2222222222222222,
             "#3e4989"
            ],
            [
             0.3333333333333333,
             "#31688e"
            ],
            [
             0.4444444444444444,
             "#26828e"
            ],
            [
             0.5555555555555556,
             "#1f9e89"
            ],
            [
             0.6666666666666666,
             "#35b779"
            ],
            [
             0.7777777777777778,
             "#6ece58"
            ],
            [
             0.8888888888888888,
             "#b5de2b"
            ],
            [
             1,
             "#fde725"
            ]
           ]
          },
          "colorway": [
           "#1F77B4",
           "#FF7F0E",
           "#2CA02C",
           "#D62728",
           "#9467BD",
           "#8C564B",
           "#E377C2",
           "#7F7F7F",
           "#BCBD22",
           "#17BECF"
          ],
          "font": {
           "color": "rgb(36,36,36)"
          },
          "geo": {
           "bgcolor": "white",
           "lakecolor": "white",
           "landcolor": "white",
           "showlakes": true,
           "showland": true,
           "subunitcolor": "white"
          },
          "hoverlabel": {
           "align": "left"
          },
          "hovermode": "closest",
          "mapbox": {
           "style": "light"
          },
          "paper_bgcolor": "white",
          "plot_bgcolor": "white",
          "polar": {
           "angularaxis": {
            "gridcolor": "rgb(232,232,232)",
            "linecolor": "rgb(36,36,36)",
            "showgrid": false,
            "showline": true,
            "ticks": "outside"
           },
           "bgcolor": "white",
           "radialaxis": {
            "gridcolor": "rgb(232,232,232)",
            "linecolor": "rgb(36,36,36)",
            "showgrid": false,
            "showline": true,
            "ticks": "outside"
           }
          },
          "scene": {
           "xaxis": {
            "backgroundcolor": "white",
            "gridcolor": "rgb(232,232,232)",
            "gridwidth": 2,
            "linecolor": "rgb(36,36,36)",
            "showbackground": true,
            "showgrid": false,
            "showline": true,
            "ticks": "outside",
            "zeroline": false,
            "zerolinecolor": "rgb(36,36,36)"
           },
           "yaxis": {
            "backgroundcolor": "white",
            "gridcolor": "rgb(232,232,232)",
            "gridwidth": 2,
            "linecolor": "rgb(36,36,36)",
            "showbackground": true,
            "showgrid": false,
            "showline": true,
            "ticks": "outside",
            "zeroline": false,
            "zerolinecolor": "rgb(36,36,36)"
           },
           "zaxis": {
            "backgroundcolor": "white",
            "gridcolor": "rgb(232,232,232)",
            "gridwidth": 2,
            "linecolor": "rgb(36,36,36)",
            "showbackground": true,
            "showgrid": false,
            "showline": true,
            "ticks": "outside",
            "zeroline": false,
            "zerolinecolor": "rgb(36,36,36)"
           }
          },
          "shapedefaults": {
           "fillcolor": "black",
           "line": {
            "width": 0
           },
           "opacity": 0.3
          },
          "ternary": {
           "aaxis": {
            "gridcolor": "rgb(232,232,232)",
            "linecolor": "rgb(36,36,36)",
            "showgrid": false,
            "showline": true,
            "ticks": "outside"
           },
           "baxis": {
            "gridcolor": "rgb(232,232,232)",
            "linecolor": "rgb(36,36,36)",
            "showgrid": false,
            "showline": true,
            "ticks": "outside"
           },
           "bgcolor": "white",
           "caxis": {
            "gridcolor": "rgb(232,232,232)",
            "linecolor": "rgb(36,36,36)",
            "showgrid": false,
            "showline": true,
            "ticks": "outside"
           }
          },
          "title": {
           "x": 0.05
          },
          "xaxis": {
           "automargin": true,
           "gridcolor": "rgb(232,232,232)",
           "linecolor": "rgb(36,36,36)",
           "showgrid": false,
           "showline": true,
           "ticks": "outside",
           "title": {
            "standoff": 15
           },
           "zeroline": false,
           "zerolinecolor": "rgb(36,36,36)"
          },
          "yaxis": {
           "automargin": true,
           "gridcolor": "rgb(232,232,232)",
           "linecolor": "rgb(36,36,36)",
           "showgrid": false,
           "showline": true,
           "ticks": "outside",
           "title": {
            "standoff": 15
           },
           "zeroline": false,
           "zerolinecolor": "rgb(36,36,36)"
          }
         }
        },
        "title": {
         "font": {
          "color": "Black",
          "size": 22
         },
         "text": "<b>Intertopic Distance Map</b>",
         "x": 0.5,
         "xanchor": "center",
         "y": 0.95,
         "yanchor": "top"
        },
        "width": 650,
        "xaxis": {
         "anchor": "y",
         "domain": [
          0,
          1
         ],
         "range": [
          -8.753855919837951,
          30.5473970413208
         ],
         "title": {
          "text": ""
         },
         "visible": false
        },
        "yaxis": {
         "anchor": "x",
         "domain": [
          0,
          1
         ],
         "range": [
          -13.227164936065673,
          21.124002838134764
         ],
         "title": {
          "text": ""
         },
         "visible": false
        }
       }
      }
     },
     "metadata": {},
     "output_type": "display_data"
    }
   ],
   "source": [
    "model.visualize_topics()"
   ]
  },
  {
   "cell_type": "code",
   "execution_count": 46,
   "metadata": {},
   "outputs": [
    {
     "data": {
      "application/vnd.plotly.v1+json": {
       "config": {
        "plotlyServerURL": "https://plot.ly"
       },
       "data": [
        {
         "marker": {
          "color": "#D55E00"
         },
         "orientation": "h",
         "type": "bar",
         "x": [
          0.017878970995883363,
          0.018519442683893675,
          0.01862039314329776,
          0.020329994464582554,
          0.02777923722629563
         ],
         "xaxis": "x",
         "y": [
          "explain  ",
          "world  ",
          "discuss  ",
          "india  ",
          "water  "
         ],
         "yaxis": "y"
        },
        {
         "marker": {
          "color": "#0072B2"
         },
         "orientation": "h",
         "type": "bar",
         "x": [
          0.028597497892096795,
          0.040065043447660084,
          0.04037175277488757,
          0.0457046429897417,
          0.059860202861989946
         ],
         "xaxis": "x2",
         "y": [
          "early  ",
          "discuss  ",
          "indian  ",
          "architecture  ",
          "art  "
         ],
         "yaxis": "y2"
        },
        {
         "marker": {
          "color": "#CC79A7"
         },
         "orientation": "h",
         "type": "bar",
         "x": [
          0.021889307060621244,
          0.02408012373045642,
          0.02568146222763195,
          0.027520141406235907,
          0.028832336241482646
         ],
         "xaxis": "x3",
         "y": [
          "mahatma gandhi  ",
          "colonial  ",
          "did  ",
          "british  ",
          "india  "
         ],
         "yaxis": "y3"
        },
        {
         "marker": {
          "color": "#E69F00"
         },
         "orientation": "h",
         "type": "bar",
         "x": [
          0.034448046176098215,
          0.03505691301670257,
          0.038391900111383034,
          0.04003649704893552,
          0.05338199606524736
         ],
         "xaxis": "x4",
         "y": [
          "india  ",
          "discuss  ",
          "countries  ",
          "oil  ",
          "energy  "
         ],
         "yaxis": "y4"
        },
        {
         "marker": {
          "color": "#56B4E9"
         },
         "orientation": "h",
         "type": "bar",
         "x": [
          0.037199248018599966,
          0.04358785763269677,
          0.05065889143543856,
          0.05448482204087096,
          0.09070451925292053
         ],
         "xaxis": "x5",
         "y": [
          "sex  ",
          "population  ",
          "india  ",
          "poverty  ",
          "women  "
         ],
         "yaxis": "y5"
        },
        {
         "marker": {
          "color": "#009E73"
         },
         "orientation": "h",
         "type": "bar",
         "x": [
          0.02676768010788319,
          0.0293814073201365,
          0.0293814073201365,
          0.039613369541022764,
          0.04939241914955259
         ],
         "xaxis": "x6",
         "y": [
          "economic  ",
          "development  ",
          "new  ",
          "cities  ",
          "india  "
         ],
         "yaxis": "y6"
        },
        {
         "marker": {
          "color": "#F0E442"
         },
         "orientation": "h",
         "type": "bar",
         "x": [
          0.032749903054741264,
          0.03693367046932652,
          0.04051890533816149,
          0.042219755542752146,
          0.043261849188445015
         ],
         "xaxis": "x7",
         "y": [
          "india  ",
          "indian society  ",
          "society  ",
          "indian  ",
          "cultural  "
         ],
         "yaxis": "y7"
        }
       ],
       "layout": {
        "annotations": [
         {
          "font": {
           "size": 16
          },
          "showarrow": false,
          "text": "Topic 0",
          "x": 0.0875,
          "xanchor": "center",
          "xref": "paper",
          "y": 1,
          "yanchor": "bottom",
          "yref": "paper"
         },
         {
          "font": {
           "size": 16
          },
          "showarrow": false,
          "text": "Topic 1",
          "x": 0.36250000000000004,
          "xanchor": "center",
          "xref": "paper",
          "y": 1,
          "yanchor": "bottom",
          "yref": "paper"
         },
         {
          "font": {
           "size": 16
          },
          "showarrow": false,
          "text": "Topic 2",
          "x": 0.6375000000000001,
          "xanchor": "center",
          "xref": "paper",
          "y": 1,
          "yanchor": "bottom",
          "yref": "paper"
         },
         {
          "font": {
           "size": 16
          },
          "showarrow": false,
          "text": "Topic 3",
          "x": 0.9125,
          "xanchor": "center",
          "xref": "paper",
          "y": 1,
          "yanchor": "bottom",
          "yref": "paper"
         },
         {
          "font": {
           "size": 16
          },
          "showarrow": false,
          "text": "Topic 4",
          "x": 0.0875,
          "xanchor": "center",
          "xref": "paper",
          "y": 0.4,
          "yanchor": "bottom",
          "yref": "paper"
         },
         {
          "font": {
           "size": 16
          },
          "showarrow": false,
          "text": "Topic 5",
          "x": 0.36250000000000004,
          "xanchor": "center",
          "xref": "paper",
          "y": 0.4,
          "yanchor": "bottom",
          "yref": "paper"
         },
         {
          "font": {
           "size": 16
          },
          "showarrow": false,
          "text": "Topic 6",
          "x": 0.6375000000000001,
          "xanchor": "center",
          "xref": "paper",
          "y": 0.4,
          "yanchor": "bottom",
          "yref": "paper"
         }
        ],
        "height": 500,
        "hoverlabel": {
         "bgcolor": "white",
         "font": {
          "family": "Rockwell",
          "size": 16
         }
        },
        "showlegend": false,
        "template": {
         "data": {
          "bar": [
           {
            "error_x": {
             "color": "#2a3f5f"
            },
            "error_y": {
             "color": "#2a3f5f"
            },
            "marker": {
             "line": {
              "color": "white",
              "width": 0.5
             },
             "pattern": {
              "fillmode": "overlay",
              "size": 10,
              "solidity": 0.2
             }
            },
            "type": "bar"
           }
          ],
          "barpolar": [
           {
            "marker": {
             "line": {
              "color": "white",
              "width": 0.5
             },
             "pattern": {
              "fillmode": "overlay",
              "size": 10,
              "solidity": 0.2
             }
            },
            "type": "barpolar"
           }
          ],
          "carpet": [
           {
            "aaxis": {
             "endlinecolor": "#2a3f5f",
             "gridcolor": "#C8D4E3",
             "linecolor": "#C8D4E3",
             "minorgridcolor": "#C8D4E3",
             "startlinecolor": "#2a3f5f"
            },
            "baxis": {
             "endlinecolor": "#2a3f5f",
             "gridcolor": "#C8D4E3",
             "linecolor": "#C8D4E3",
             "minorgridcolor": "#C8D4E3",
             "startlinecolor": "#2a3f5f"
            },
            "type": "carpet"
           }
          ],
          "choropleth": [
           {
            "colorbar": {
             "outlinewidth": 0,
             "ticks": ""
            },
            "type": "choropleth"
           }
          ],
          "contour": [
           {
            "colorbar": {
             "outlinewidth": 0,
             "ticks": ""
            },
            "colorscale": [
             [
              0,
              "#0d0887"
             ],
             [
              0.1111111111111111,
              "#46039f"
             ],
             [
              0.2222222222222222,
              "#7201a8"
             ],
             [
              0.3333333333333333,
              "#9c179e"
             ],
             [
              0.4444444444444444,
              "#bd3786"
             ],
             [
              0.5555555555555556,
              "#d8576b"
             ],
             [
              0.6666666666666666,
              "#ed7953"
             ],
             [
              0.7777777777777778,
              "#fb9f3a"
             ],
             [
              0.8888888888888888,
              "#fdca26"
             ],
             [
              1,
              "#f0f921"
             ]
            ],
            "type": "contour"
           }
          ],
          "contourcarpet": [
           {
            "colorbar": {
             "outlinewidth": 0,
             "ticks": ""
            },
            "type": "contourcarpet"
           }
          ],
          "heatmap": [
           {
            "colorbar": {
             "outlinewidth": 0,
             "ticks": ""
            },
            "colorscale": [
             [
              0,
              "#0d0887"
             ],
             [
              0.1111111111111111,
              "#46039f"
             ],
             [
              0.2222222222222222,
              "#7201a8"
             ],
             [
              0.3333333333333333,
              "#9c179e"
             ],
             [
              0.4444444444444444,
              "#bd3786"
             ],
             [
              0.5555555555555556,
              "#d8576b"
             ],
             [
              0.6666666666666666,
              "#ed7953"
             ],
             [
              0.7777777777777778,
              "#fb9f3a"
             ],
             [
              0.8888888888888888,
              "#fdca26"
             ],
             [
              1,
              "#f0f921"
             ]
            ],
            "type": "heatmap"
           }
          ],
          "heatmapgl": [
           {
            "colorbar": {
             "outlinewidth": 0,
             "ticks": ""
            },
            "colorscale": [
             [
              0,
              "#0d0887"
             ],
             [
              0.1111111111111111,
              "#46039f"
             ],
             [
              0.2222222222222222,
              "#7201a8"
             ],
             [
              0.3333333333333333,
              "#9c179e"
             ],
             [
              0.4444444444444444,
              "#bd3786"
             ],
             [
              0.5555555555555556,
              "#d8576b"
             ],
             [
              0.6666666666666666,
              "#ed7953"
             ],
             [
              0.7777777777777778,
              "#fb9f3a"
             ],
             [
              0.8888888888888888,
              "#fdca26"
             ],
             [
              1,
              "#f0f921"
             ]
            ],
            "type": "heatmapgl"
           }
          ],
          "histogram": [
           {
            "marker": {
             "pattern": {
              "fillmode": "overlay",
              "size": 10,
              "solidity": 0.2
             }
            },
            "type": "histogram"
           }
          ],
          "histogram2d": [
           {
            "colorbar": {
             "outlinewidth": 0,
             "ticks": ""
            },
            "colorscale": [
             [
              0,
              "#0d0887"
             ],
             [
              0.1111111111111111,
              "#46039f"
             ],
             [
              0.2222222222222222,
              "#7201a8"
             ],
             [
              0.3333333333333333,
              "#9c179e"
             ],
             [
              0.4444444444444444,
              "#bd3786"
             ],
             [
              0.5555555555555556,
              "#d8576b"
             ],
             [
              0.6666666666666666,
              "#ed7953"
             ],
             [
              0.7777777777777778,
              "#fb9f3a"
             ],
             [
              0.8888888888888888,
              "#fdca26"
             ],
             [
              1,
              "#f0f921"
             ]
            ],
            "type": "histogram2d"
           }
          ],
          "histogram2dcontour": [
           {
            "colorbar": {
             "outlinewidth": 0,
             "ticks": ""
            },
            "colorscale": [
             [
              0,
              "#0d0887"
             ],
             [
              0.1111111111111111,
              "#46039f"
             ],
             [
              0.2222222222222222,
              "#7201a8"
             ],
             [
              0.3333333333333333,
              "#9c179e"
             ],
             [
              0.4444444444444444,
              "#bd3786"
             ],
             [
              0.5555555555555556,
              "#d8576b"
             ],
             [
              0.6666666666666666,
              "#ed7953"
             ],
             [
              0.7777777777777778,
              "#fb9f3a"
             ],
             [
              0.8888888888888888,
              "#fdca26"
             ],
             [
              1,
              "#f0f921"
             ]
            ],
            "type": "histogram2dcontour"
           }
          ],
          "mesh3d": [
           {
            "colorbar": {
             "outlinewidth": 0,
             "ticks": ""
            },
            "type": "mesh3d"
           }
          ],
          "parcoords": [
           {
            "line": {
             "colorbar": {
              "outlinewidth": 0,
              "ticks": ""
             }
            },
            "type": "parcoords"
           }
          ],
          "pie": [
           {
            "automargin": true,
            "type": "pie"
           }
          ],
          "scatter": [
           {
            "fillpattern": {
             "fillmode": "overlay",
             "size": 10,
             "solidity": 0.2
            },
            "type": "scatter"
           }
          ],
          "scatter3d": [
           {
            "line": {
             "colorbar": {
              "outlinewidth": 0,
              "ticks": ""
             }
            },
            "marker": {
             "colorbar": {
              "outlinewidth": 0,
              "ticks": ""
             }
            },
            "type": "scatter3d"
           }
          ],
          "scattercarpet": [
           {
            "marker": {
             "colorbar": {
              "outlinewidth": 0,
              "ticks": ""
             }
            },
            "type": "scattercarpet"
           }
          ],
          "scattergeo": [
           {
            "marker": {
             "colorbar": {
              "outlinewidth": 0,
              "ticks": ""
             }
            },
            "type": "scattergeo"
           }
          ],
          "scattergl": [
           {
            "marker": {
             "colorbar": {
              "outlinewidth": 0,
              "ticks": ""
             }
            },
            "type": "scattergl"
           }
          ],
          "scattermapbox": [
           {
            "marker": {
             "colorbar": {
              "outlinewidth": 0,
              "ticks": ""
             }
            },
            "type": "scattermapbox"
           }
          ],
          "scatterpolar": [
           {
            "marker": {
             "colorbar": {
              "outlinewidth": 0,
              "ticks": ""
             }
            },
            "type": "scatterpolar"
           }
          ],
          "scatterpolargl": [
           {
            "marker": {
             "colorbar": {
              "outlinewidth": 0,
              "ticks": ""
             }
            },
            "type": "scatterpolargl"
           }
          ],
          "scatterternary": [
           {
            "marker": {
             "colorbar": {
              "outlinewidth": 0,
              "ticks": ""
             }
            },
            "type": "scatterternary"
           }
          ],
          "surface": [
           {
            "colorbar": {
             "outlinewidth": 0,
             "ticks": ""
            },
            "colorscale": [
             [
              0,
              "#0d0887"
             ],
             [
              0.1111111111111111,
              "#46039f"
             ],
             [
              0.2222222222222222,
              "#7201a8"
             ],
             [
              0.3333333333333333,
              "#9c179e"
             ],
             [
              0.4444444444444444,
              "#bd3786"
             ],
             [
              0.5555555555555556,
              "#d8576b"
             ],
             [
              0.6666666666666666,
              "#ed7953"
             ],
             [
              0.7777777777777778,
              "#fb9f3a"
             ],
             [
              0.8888888888888888,
              "#fdca26"
             ],
             [
              1,
              "#f0f921"
             ]
            ],
            "type": "surface"
           }
          ],
          "table": [
           {
            "cells": {
             "fill": {
              "color": "#EBF0F8"
             },
             "line": {
              "color": "white"
             }
            },
            "header": {
             "fill": {
              "color": "#C8D4E3"
             },
             "line": {
              "color": "white"
             }
            },
            "type": "table"
           }
          ]
         },
         "layout": {
          "annotationdefaults": {
           "arrowcolor": "#2a3f5f",
           "arrowhead": 0,
           "arrowwidth": 1
          },
          "autotypenumbers": "strict",
          "coloraxis": {
           "colorbar": {
            "outlinewidth": 0,
            "ticks": ""
           }
          },
          "colorscale": {
           "diverging": [
            [
             0,
             "#8e0152"
            ],
            [
             0.1,
             "#c51b7d"
            ],
            [
             0.2,
             "#de77ae"
            ],
            [
             0.3,
             "#f1b6da"
            ],
            [
             0.4,
             "#fde0ef"
            ],
            [
             0.5,
             "#f7f7f7"
            ],
            [
             0.6,
             "#e6f5d0"
            ],
            [
             0.7,
             "#b8e186"
            ],
            [
             0.8,
             "#7fbc41"
            ],
            [
             0.9,
             "#4d9221"
            ],
            [
             1,
             "#276419"
            ]
           ],
           "sequential": [
            [
             0,
             "#0d0887"
            ],
            [
             0.1111111111111111,
             "#46039f"
            ],
            [
             0.2222222222222222,
             "#7201a8"
            ],
            [
             0.3333333333333333,
             "#9c179e"
            ],
            [
             0.4444444444444444,
             "#bd3786"
            ],
            [
             0.5555555555555556,
             "#d8576b"
            ],
            [
             0.6666666666666666,
             "#ed7953"
            ],
            [
             0.7777777777777778,
             "#fb9f3a"
            ],
            [
             0.8888888888888888,
             "#fdca26"
            ],
            [
             1,
             "#f0f921"
            ]
           ],
           "sequentialminus": [
            [
             0,
             "#0d0887"
            ],
            [
             0.1111111111111111,
             "#46039f"
            ],
            [
             0.2222222222222222,
             "#7201a8"
            ],
            [
             0.3333333333333333,
             "#9c179e"
            ],
            [
             0.4444444444444444,
             "#bd3786"
            ],
            [
             0.5555555555555556,
             "#d8576b"
            ],
            [
             0.6666666666666666,
             "#ed7953"
            ],
            [
             0.7777777777777778,
             "#fb9f3a"
            ],
            [
             0.8888888888888888,
             "#fdca26"
            ],
            [
             1,
             "#f0f921"
            ]
           ]
          },
          "colorway": [
           "#636efa",
           "#EF553B",
           "#00cc96",
           "#ab63fa",
           "#FFA15A",
           "#19d3f3",
           "#FF6692",
           "#B6E880",
           "#FF97FF",
           "#FECB52"
          ],
          "font": {
           "color": "#2a3f5f"
          },
          "geo": {
           "bgcolor": "white",
           "lakecolor": "white",
           "landcolor": "white",
           "showlakes": true,
           "showland": true,
           "subunitcolor": "#C8D4E3"
          },
          "hoverlabel": {
           "align": "left"
          },
          "hovermode": "closest",
          "mapbox": {
           "style": "light"
          },
          "paper_bgcolor": "white",
          "plot_bgcolor": "white",
          "polar": {
           "angularaxis": {
            "gridcolor": "#EBF0F8",
            "linecolor": "#EBF0F8",
            "ticks": ""
           },
           "bgcolor": "white",
           "radialaxis": {
            "gridcolor": "#EBF0F8",
            "linecolor": "#EBF0F8",
            "ticks": ""
           }
          },
          "scene": {
           "xaxis": {
            "backgroundcolor": "white",
            "gridcolor": "#DFE8F3",
            "gridwidth": 2,
            "linecolor": "#EBF0F8",
            "showbackground": true,
            "ticks": "",
            "zerolinecolor": "#EBF0F8"
           },
           "yaxis": {
            "backgroundcolor": "white",
            "gridcolor": "#DFE8F3",
            "gridwidth": 2,
            "linecolor": "#EBF0F8",
            "showbackground": true,
            "ticks": "",
            "zerolinecolor": "#EBF0F8"
           },
           "zaxis": {
            "backgroundcolor": "white",
            "gridcolor": "#DFE8F3",
            "gridwidth": 2,
            "linecolor": "#EBF0F8",
            "showbackground": true,
            "ticks": "",
            "zerolinecolor": "#EBF0F8"
           }
          },
          "shapedefaults": {
           "line": {
            "color": "#2a3f5f"
           }
          },
          "ternary": {
           "aaxis": {
            "gridcolor": "#DFE8F3",
            "linecolor": "#A2B1C6",
            "ticks": ""
           },
           "baxis": {
            "gridcolor": "#DFE8F3",
            "linecolor": "#A2B1C6",
            "ticks": ""
           },
           "bgcolor": "white",
           "caxis": {
            "gridcolor": "#DFE8F3",
            "linecolor": "#A2B1C6",
            "ticks": ""
           }
          },
          "title": {
           "x": 0.05
          },
          "xaxis": {
           "automargin": true,
           "gridcolor": "#EBF0F8",
           "linecolor": "#EBF0F8",
           "ticks": "",
           "title": {
            "standoff": 15
           },
           "zerolinecolor": "#EBF0F8",
           "zerolinewidth": 2
          },
          "yaxis": {
           "automargin": true,
           "gridcolor": "#EBF0F8",
           "linecolor": "#EBF0F8",
           "ticks": "",
           "title": {
            "standoff": 15
           },
           "zerolinecolor": "#EBF0F8",
           "zerolinewidth": 2
          }
         }
        },
        "title": {
         "font": {
          "color": "Black",
          "size": 22
         },
         "text": "Topic Word Scores",
         "x": 0.5,
         "xanchor": "center",
         "yanchor": "top"
        },
        "width": 1000,
        "xaxis": {
         "anchor": "y",
         "domain": [
          0,
          0.175
         ],
         "showgrid": true
        },
        "xaxis2": {
         "anchor": "y2",
         "domain": [
          0.275,
          0.45
         ],
         "showgrid": true
        },
        "xaxis3": {
         "anchor": "y3",
         "domain": [
          0.55,
          0.7250000000000001
         ],
         "showgrid": true
        },
        "xaxis4": {
         "anchor": "y4",
         "domain": [
          0.825,
          1
         ],
         "showgrid": true
        },
        "xaxis5": {
         "anchor": "y5",
         "domain": [
          0,
          0.175
         ],
         "showgrid": true
        },
        "xaxis6": {
         "anchor": "y6",
         "domain": [
          0.275,
          0.45
         ],
         "showgrid": true
        },
        "xaxis7": {
         "anchor": "y7",
         "domain": [
          0.55,
          0.7250000000000001
         ],
         "showgrid": true
        },
        "xaxis8": {
         "anchor": "y8",
         "domain": [
          0.825,
          1
         ],
         "showgrid": true
        },
        "yaxis": {
         "anchor": "x",
         "domain": [
          0.6000000000000001,
          1
         ],
         "showgrid": true
        },
        "yaxis2": {
         "anchor": "x2",
         "domain": [
          0.6000000000000001,
          1
         ],
         "showgrid": true
        },
        "yaxis3": {
         "anchor": "x3",
         "domain": [
          0.6000000000000001,
          1
         ],
         "showgrid": true
        },
        "yaxis4": {
         "anchor": "x4",
         "domain": [
          0.6000000000000001,
          1
         ],
         "showgrid": true
        },
        "yaxis5": {
         "anchor": "x5",
         "domain": [
          0,
          0.4
         ],
         "showgrid": true
        },
        "yaxis6": {
         "anchor": "x6",
         "domain": [
          0,
          0.4
         ],
         "showgrid": true
        },
        "yaxis7": {
         "anchor": "x7",
         "domain": [
          0,
          0.4
         ],
         "showgrid": true
        },
        "yaxis8": {
         "anchor": "x8",
         "domain": [
          0,
          0.4
         ],
         "showgrid": true
        }
       }
      }
     },
     "metadata": {},
     "output_type": "display_data"
    }
   ],
   "source": [
    "model.visualize_barchart()"
   ]
  },
  {
   "cell_type": "code",
   "execution_count": 71,
   "metadata": {},
   "outputs": [
    {
     "data": {
      "text/plain": [
       "['india discuss states examine',\n",
       " 'water india discuss world',\n",
       " 'art architecture indian discuss',\n",
       " 'india british did colonial',\n",
       " 'energy oil countries discuss',\n",
       " 'women poverty india population',\n",
       " 'india cities new development',\n",
       " 'cultural indian society indian society']"
      ]
     },
     "execution_count": 71,
     "metadata": {},
     "output_type": "execute_result"
    }
   ],
   "source": [
    "topics_label = model.get_topic_info()['Name'].tolist()\n",
    "for i in range(len(topics_label)):\n",
    "    topics_label[i] = ' '.join(topics_label[i].split('_')[1:])\n",
    "topics_label"
   ]
  },
  {
   "cell_type": "code",
   "execution_count": 93,
   "metadata": {},
   "outputs": [],
   "source": [
    "question_index = 169\n",
    "topic_probabilities = probs[question_index]\n",
    "significant_probs = topic_probabilities[topic_probabilities > 0.05]\n",
    "significant_topics = np.arange(len(topic_probabilities))[topic_probabilities > 0.05]\n",
    "others = np.sum(topic_probabilities[topic_probabilities <= 0.05])\n",
    "\n",
    "# Labels for the pie chart\n",
    "labels = [topics_label[i+1] for i in significant_topics] + [\"Others\"]\n",
    "\n",
    "# Probabilities to plot\n",
    "probs_to_plot = np.append(significant_probs, others)"
   ]
  },
  {
   "cell_type": "code",
   "execution_count": 94,
   "metadata": {},
   "outputs": [
    {
     "data": {
      "text/plain": [
       "array([0.02297806, 0.03344143, 0.05867226, 0.03106042, 0.40484139,\n",
       "       0.0589478 , 0.05560153])"
      ]
     },
     "execution_count": 94,
     "metadata": {},
     "output_type": "execute_result"
    }
   ],
   "source": [
    "probs[question_index]"
   ]
  },
  {
   "cell_type": "code",
   "execution_count": 95,
   "metadata": {},
   "outputs": [
    {
     "data": {
      "image/png": "[encoded data removed]",
      "text/plain": [
       "<Figure size 400x400 with 1 Axes>"
      ]
     },
     "metadata": {},
     "output_type": "display_data"
    }
   ],
   "source": [
    "plt.figure(figsize=(4, 4))\n",
    "plt.pie(probs_to_plot, labels=labels, autopct='%1.1f%%', startangle=140)\n",
    "plt.title('Topic Probabilities')\n",
    "plt.legend(loc='upper right', bbox_to_anchor=(1.5, 1.5))\n",
    "plt.text(-1.5, -1.5, questions[question_index], fontsize=12, ha=\"center\", va=\"center\")\n",
    "plt.show()"
   ]
  },
  {
   "cell_type": "code",
   "execution_count": 97,
   "metadata": {},
   "outputs": [
    {
     "data": {
      "text/html": [
       "<div>\n",
       "<style scoped>\n",
       "    .dataframe tbody tr th:only-of-type {\n",
       "        vertical-align: middle;\n",
       "    }\n",
       "\n",
       "    .dataframe tbody tr th {\n",
       "        vertical-align: top;\n",
       "    }\n",
       "\n",
       "    .dataframe thead th {\n",
       "        text-align: right;\n",
       "    }\n",
       "</style>\n",
       "<table border=\"1\" class=\"dataframe\">\n",
       "  <thead>\n",
       "    <tr style=\"text-align: right;\">\n",
       "      <th></th>\n",
       "      <th>Year</th>\n",
       "      <th>Question</th>\n",
       "      <th>Topic_Number</th>\n",
       "    </tr>\n",
       "  </thead>\n",
       "  <tbody>\n",
       "    <tr>\n",
       "      <th>99</th>\n",
       "      <td>2019</td>\n",
       "      <td>Are we losing our local identity for the globa...</td>\n",
       "      <td>6</td>\n",
       "    </tr>\n",
       "    <tr>\n",
       "      <th>179</th>\n",
       "      <td>2015</td>\n",
       "      <td>What are the economic significances of discove...</td>\n",
       "      <td>0</td>\n",
       "    </tr>\n",
       "    <tr>\n",
       "      <th>224</th>\n",
       "      <td>2013</td>\n",
       "      <td>What do you understand by the theory of contin...</td>\n",
       "      <td>0</td>\n",
       "    </tr>\n",
       "    <tr>\n",
       "      <th>180</th>\n",
       "      <td>2014</td>\n",
       "      <td>To what extent has the urban planning and cult...</td>\n",
       "      <td>-1</td>\n",
       "    </tr>\n",
       "    <tr>\n",
       "      <th>209</th>\n",
       "      <td>2013</td>\n",
       "      <td>Several foreigners made India their homeland a...</td>\n",
       "      <td>2</td>\n",
       "    </tr>\n",
       "  </tbody>\n",
       "</table>\n",
       "</div>"
      ],
      "text/plain": [
       "     Year                                           Question  Topic_Number\n",
       "99   2019  Are we losing our local identity for the globa...             6\n",
       "179  2015  What are the economic significances of discove...             0\n",
       "224  2013  What do you understand by the theory of contin...             0\n",
       "180  2014  To what extent has the urban planning and cult...            -1\n",
       "209  2013  Several foreigners made India their homeland a...             2"
      ]
     },
     "execution_count": 97,
     "metadata": {},
     "output_type": "execute_result"
    }
   ],
   "source": [
    "df['Topic_Number'] = topics\n",
    "df.sample(5)"
   ]
  },
  {
   "cell_type": "code",
   "execution_count": 98,
   "metadata": {},
   "outputs": [
    {
     "data": {
      "text/html": [
       "<div>\n",
       "<style scoped>\n",
       "    .dataframe tbody tr th:only-of-type {\n",
       "        vertical-align: middle;\n",
       "    }\n",
       "\n",
       "    .dataframe tbody tr th {\n",
       "        vertical-align: top;\n",
       "    }\n",
       "\n",
       "    .dataframe thead th {\n",
       "        text-align: right;\n",
       "    }\n",
       "</style>\n",
       "<table border=\"1\" class=\"dataframe\">\n",
       "  <thead>\n",
       "    <tr style=\"text-align: right;\">\n",
       "      <th></th>\n",
       "      <th>Year</th>\n",
       "      <th>Question</th>\n",
       "      <th>Topic_Number</th>\n",
       "      <th>Topic</th>\n",
       "    </tr>\n",
       "  </thead>\n",
       "  <tbody>\n",
       "    <tr>\n",
       "      <th>0</th>\n",
       "      <td>2023</td>\n",
       "      <td>Explain the role of geographical factors towar...</td>\n",
       "      <td>-1</td>\n",
       "      <td>india discuss states examine</td>\n",
       "    </tr>\n",
       "    <tr>\n",
       "      <th>1</th>\n",
       "      <td>2023</td>\n",
       "      <td>What was the difference between Mahatma Gandhi...</td>\n",
       "      <td>2</td>\n",
       "      <td>india british did colonial</td>\n",
       "    </tr>\n",
       "    <tr>\n",
       "      <th>2</th>\n",
       "      <td>2023</td>\n",
       "      <td>Bring out the socio-economic effects of the in...</td>\n",
       "      <td>5</td>\n",
       "      <td>india cities new development</td>\n",
       "    </tr>\n",
       "    <tr>\n",
       "      <th>3</th>\n",
       "      <td>2023</td>\n",
       "      <td>Discuss the consequences of climate change on ...</td>\n",
       "      <td>0</td>\n",
       "      <td>water india discuss world</td>\n",
       "    </tr>\n",
       "    <tr>\n",
       "      <th>4</th>\n",
       "      <td>2023</td>\n",
       "      <td>Why is the world today confronted with a crisi...</td>\n",
       "      <td>0</td>\n",
       "      <td>water india discuss world</td>\n",
       "    </tr>\n",
       "  </tbody>\n",
       "</table>\n",
       "</div>"
      ],
      "text/plain": [
       "   Year                                           Question  Topic_Number  \\\n",
       "0  2023  Explain the role of geographical factors towar...            -1   \n",
       "1  2023  What was the difference between Mahatma Gandhi...             2   \n",
       "2  2023  Bring out the socio-economic effects of the in...             5   \n",
       "3  2023  Discuss the consequences of climate change on ...             0   \n",
       "4  2023  Why is the world today confronted with a crisi...             0   \n",
       "\n",
       "                          Topic  \n",
       "0  india discuss states examine  \n",
       "1    india british did colonial  \n",
       "2  india cities new development  \n",
       "3     water india discuss world  \n",
       "4     water india discuss world  "
      ]
     },
     "execution_count": 98,
     "metadata": {},
     "output_type": "execute_result"
    }
   ],
   "source": [
    "\n",
    "df['Topic'] = df['Topic_Number'].apply(lambda x: \" \".join(model.get_topic_info(topic=x)['Name'].iloc[0].split('_')[1:]))\n",
    "\n",
    "# Display the first few rows of the DataFrame\n",
    "df.head()"
   ]
  },
  {
   "cell_type": "code",
   "execution_count": 99,
   "metadata": {},
   "outputs": [
    {
     "data": {
      "image/png": "[encoded data removed]",
      "text/plain": [
       "<Figure size 1200x800 with 1 Axes>"
      ]
     },
     "metadata": {},
     "output_type": "display_data"
    }
   ],
   "source": [
    "import matplotlib.pyplot as plt\n",
    "import matplotlib.colors as mcolors\n",
    "\n",
    "# Assuming df is your DataFrame and it now includes a 'Topic' column after categorization\n",
    "\n",
    "# Step 2: Count questions per topic per year\n",
    "topic_year_counts = df.groupby(['Year', 'Topic']).size().reset_index(name='Count')\n",
    "\n",
    "# Calculate the total number of questions per year\n",
    "total_questions_per_year = topic_year_counts.groupby('Year')['Count'].transform('sum')\n",
    "\n",
    "# Calculate the proportion of questions per topic per year\n",
    "topic_year_counts['Proportion'] = topic_year_counts['Count'] / total_questions_per_year\n",
    "\n",
    "# Step 3: Prepare data for plotting (normalized)\n",
    "pivot_table = topic_year_counts.pivot(index='Year', columns='Topic', values='Proportion')\n",
    "\n",
    "# Generate a list of colors from a colormap\n",
    "num_topics = len(pivot_table.columns)\n",
    "colors = plt.get_cmap('tab20', num_topics)\n",
    "\n",
    "# Step 4: Plot the normalized data with different colors for each topic\n",
    "pivot_table.plot(kind='bar', stacked=True, figsize=(12, 8), color=[colors(i) for i in range(num_topics)])\n",
    "\n",
    "# Step 5: Customize the plot\n",
    "plt.xlabel('Year')\n",
    "plt.ylabel('Proportion of Questions')\n",
    "plt.title('Proportion of Questions per Topic per Year')\n",
    "plt.legend(title='Topic', loc='best', bbox_to_anchor=(0.5, -0.15), ncol=1, fancybox=True, shadow=True)\n",
    "plt.tight_layout()\n",
    "plt.subplots_adjust(bottom=0.2)\n",
    "plt.show()"
   ]
  },
  {
   "cell_type": "code",
   "execution_count": null,
   "metadata": {},
   "outputs": [],
   "source": []
  }
 ],
 "metadata": {
  "kernelspec": {
   "display_name": "venv",
   "language": "python",
   "name": "python3"
  },
  "language_info": {
   "codemirror_mode": {
    "name": "ipython",
    "version": 3
   },
   "file_extension": ".py",
   "mimetype": "text/x-python",
   "name": "python",
   "nbconvert_exporter": "python",
   "pygments_lexer": "ipython3",
   "version": "3.12.0"
  }
 },
 "nbformat": 4,
 "nbformat_minor": 2
}

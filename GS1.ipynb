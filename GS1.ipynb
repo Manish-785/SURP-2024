{
 "cells": [
  {
   "cell_type": "code",
   "execution_count": 2,
   "metadata": {},
   "outputs": [
    {
     "name": "stderr",
     "output_type": "stream",
     "text": [
      "e:\\repos\\SURP-2024\\venv\\Lib\\site-packages\\tqdm\\auto.py:21: TqdmWarning: IProgress not found. Please update jupyter and ipywidgets. See https://ipywidgets.readthedocs.io/en/stable/user_install.html\n",
      "  from .autonotebook import tqdm as notebook_tqdm\n"
     ]
    }
   ],
   "source": [
    "import pandas as pd\n",
    "from bertopic import BERTopic\n",
    "from sentence_transformers import SentenceTransformer"
   ]
  },
  {
   "cell_type": "code",
   "execution_count": 3,
   "metadata": {},
   "outputs": [],
   "source": [
    "import warnings\n",
    "warnings.filterwarnings(\"ignore\")"
   ]
  },
  {
   "cell_type": "code",
   "execution_count": 4,
   "metadata": {},
   "outputs": [
    {
     "data": {
      "text/html": [
       "<div>\n",
       "<style scoped>\n",
       "    .dataframe tbody tr th:only-of-type {\n",
       "        vertical-align: middle;\n",
       "    }\n",
       "\n",
       "    .dataframe tbody tr th {\n",
       "        vertical-align: top;\n",
       "    }\n",
       "\n",
       "    .dataframe thead th {\n",
       "        text-align: right;\n",
       "    }\n",
       "</style>\n",
       "<table border=\"1\" class=\"dataframe\">\n",
       "  <thead>\n",
       "    <tr style=\"text-align: right;\">\n",
       "      <th></th>\n",
       "      <th>Year</th>\n",
       "      <th>Question</th>\n",
       "    </tr>\n",
       "  </thead>\n",
       "  <tbody>\n",
       "    <tr>\n",
       "      <th>117</th>\n",
       "      <td>2018</td>\n",
       "      <td>‘Women’s movement in India has not addressed t...</td>\n",
       "    </tr>\n",
       "    <tr>\n",
       "      <th>187</th>\n",
       "      <td>2014</td>\n",
       "      <td>What were the major political, economic and so...</td>\n",
       "    </tr>\n",
       "    <tr>\n",
       "      <th>139</th>\n",
       "      <td>2017</td>\n",
       "      <td>“The growth of cities as I.T. hubs has opened ...</td>\n",
       "    </tr>\n",
       "  </tbody>\n",
       "</table>\n",
       "</div>"
      ],
      "text/plain": [
       "     Year                                           Question\n",
       "117  2018  ‘Women’s movement in India has not addressed t...\n",
       "187  2014  What were the major political, economic and so...\n",
       "139  2017  “The growth of cities as I.T. hubs has opened ..."
      ]
     },
     "execution_count": 4,
     "metadata": {},
     "output_type": "execute_result"
    }
   ],
   "source": [
    "df = pd.read_excel('GS1.xlsx')\n",
    "df.sample(3)"
   ]
  },
  {
   "cell_type": "code",
   "execution_count": 5,
   "metadata": {},
   "outputs": [
    {
     "data": {
      "text/plain": [
       "['Explain the role of geographical factors towards the development of Ancient India.',\n",
       " 'What was the difference between Mahatma Gandhi and Rabindranath Tagore in their approach towards education and nationalism?',\n",
       " 'Bring out the socio-economic effects of the introduction of railways in different countries of the world']"
      ]
     },
     "execution_count": 5,
     "metadata": {},
     "output_type": "execute_result"
    }
   ],
   "source": [
    "questions = df['Question'].values.tolist()\n",
    "questions[:3]"
   ]
  },
  {
   "cell_type": "code",
   "execution_count": 6,
   "metadata": {},
   "outputs": [],
   "source": [
    "#PIPELINE OF BERTMODEL\n",
    "# 1. EMBEDDING - BY DEFAULT USES all-MiniLM-L6-v2 SENTENCE TRANSFORMER\n",
    "# 2.  "
   ]
  },
  {
   "cell_type": "code",
   "execution_count": 7,
   "metadata": {},
   "outputs": [],
   "source": [
    "#WE WILL USE THE BERTOPIC MODEL TO CLUSTER THE QUESTIONS\n",
    "#FIRST USING DEFAULT MODEL\n",
    "\n",
    "model = BERTopic()\n",
    "topics, probs = model.fit_transform(questions)"
   ]
  },
  {
   "cell_type": "code",
   "execution_count": 8,
   "metadata": {},
   "outputs": [
    {
     "data": {
      "text/html": [
       "<div>\n",
       "<style scoped>\n",
       "    .dataframe tbody tr th:only-of-type {\n",
       "        vertical-align: middle;\n",
       "    }\n",
       "\n",
       "    .dataframe tbody tr th {\n",
       "        vertical-align: top;\n",
       "    }\n",
       "\n",
       "    .dataframe thead th {\n",
       "        text-align: right;\n",
       "    }\n",
       "</style>\n",
       "<table border=\"1\" class=\"dataframe\">\n",
       "  <thead>\n",
       "    <tr style=\"text-align: right;\">\n",
       "      <th></th>\n",
       "      <th>Topic</th>\n",
       "      <th>Count</th>\n",
       "      <th>Name</th>\n",
       "      <th>Representation</th>\n",
       "      <th>Representative_Docs</th>\n",
       "    </tr>\n",
       "  </thead>\n",
       "  <tbody>\n",
       "    <tr>\n",
       "      <th>0</th>\n",
       "      <td>-1</td>\n",
       "      <td>61</td>\n",
       "      <td>-1_of_the_in_and</td>\n",
       "      <td>[of, the, in, and, india, on, discuss, is, wit...</td>\n",
       "      <td>[Why did the industrial revolution first occur...</td>\n",
       "    </tr>\n",
       "    <tr>\n",
       "      <th>1</th>\n",
       "      <td>0</td>\n",
       "      <td>35</td>\n",
       "      <td>0_in_the_cultural_indian</td>\n",
       "      <td>[in, the, cultural, indian, and, society, to, ...</td>\n",
       "      <td>[In the context of the diversity of India, can...</td>\n",
       "    </tr>\n",
       "    <tr>\n",
       "      <th>2</th>\n",
       "      <td>1</td>\n",
       "      <td>33</td>\n",
       "      <td>1_the_of_and_on</td>\n",
       "      <td>[the, of, and, on, do, how, in, explain, weste...</td>\n",
       "      <td>[What do you understand by the phenomenon of ‘...</td>\n",
       "    </tr>\n",
       "    <tr>\n",
       "      <th>3</th>\n",
       "      <td>2</td>\n",
       "      <td>29</td>\n",
       "      <td>2_the_british_to_of</td>\n",
       "      <td>[the, british, to, of, were, in, was, did, wha...</td>\n",
       "      <td>[What were the events that led to the Suez Cri...</td>\n",
       "    </tr>\n",
       "    <tr>\n",
       "      <th>4</th>\n",
       "      <td>3</td>\n",
       "      <td>28</td>\n",
       "      <td>3_the_of_in_india</td>\n",
       "      <td>[the, of, in, india, to, for, is, development,...</td>\n",
       "      <td>[Discuss the main objectives of Population Edu...</td>\n",
       "    </tr>\n",
       "    <tr>\n",
       "      <th>5</th>\n",
       "      <td>4</td>\n",
       "      <td>18</td>\n",
       "      <td>4_water_and_of_the</td>\n",
       "      <td>[water, and, of, the, in, is, india, resources...</td>\n",
       "      <td>[what are the environmental implications of th...</td>\n",
       "    </tr>\n",
       "    <tr>\n",
       "      <th>6</th>\n",
       "      <td>5</td>\n",
       "      <td>17</td>\n",
       "      <td>5_art_the_architecture_of</td>\n",
       "      <td>[art, the, architecture, of, indian, and, disc...</td>\n",
       "      <td>[Mesolithic rock cut architecture of India not...</td>\n",
       "    </tr>\n",
       "    <tr>\n",
       "      <th>7</th>\n",
       "      <td>6</td>\n",
       "      <td>14</td>\n",
       "      <td>6_women_in_india_the</td>\n",
       "      <td>[women, in, india, the, sex, womens, ratio, of...</td>\n",
       "      <td>[‘Women’s movement in India has not addressed ...</td>\n",
       "    </tr>\n",
       "  </tbody>\n",
       "</table>\n",
       "</div>"
      ],
      "text/plain": [
       "   Topic  Count                       Name  \\\n",
       "0     -1     61           -1_of_the_in_and   \n",
       "1      0     35   0_in_the_cultural_indian   \n",
       "2      1     33            1_the_of_and_on   \n",
       "3      2     29        2_the_british_to_of   \n",
       "4      3     28          3_the_of_in_india   \n",
       "5      4     18         4_water_and_of_the   \n",
       "6      5     17  5_art_the_architecture_of   \n",
       "7      6     14       6_women_in_india_the   \n",
       "\n",
       "                                      Representation  \\\n",
       "0  [of, the, in, and, india, on, discuss, is, wit...   \n",
       "1  [in, the, cultural, indian, and, society, to, ...   \n",
       "2  [the, of, and, on, do, how, in, explain, weste...   \n",
       "3  [the, british, to, of, were, in, was, did, wha...   \n",
       "4  [the, of, in, india, to, for, is, development,...   \n",
       "5  [water, and, of, the, in, is, india, resources...   \n",
       "6  [art, the, architecture, of, indian, and, disc...   \n",
       "7  [women, in, india, the, sex, womens, ratio, of...   \n",
       "\n",
       "                                 Representative_Docs  \n",
       "0  [Why did the industrial revolution first occur...  \n",
       "1  [In the context of the diversity of India, can...  \n",
       "2  [What do you understand by the phenomenon of ‘...  \n",
       "3  [What were the events that led to the Suez Cri...  \n",
       "4  [Discuss the main objectives of Population Edu...  \n",
       "5  [what are the environmental implications of th...  \n",
       "6  [Mesolithic rock cut architecture of India not...  \n",
       "7  [‘Women’s movement in India has not addressed ...  "
      ]
     },
     "execution_count": 8,
     "metadata": {},
     "output_type": "execute_result"
    }
   ],
   "source": [
    "model.get_topic_info()"
   ]
  },
  {
   "cell_type": "code",
   "execution_count": 9,
   "metadata": {},
   "outputs": [
    {
     "data": {
      "text/plain": [
       "['of, the, in',\n",
       " 'in, the, cultural',\n",
       " 'the, of, and',\n",
       " 'the, british, to',\n",
       " 'the, of, in',\n",
       " 'water, and, of',\n",
       " 'art, the, architecture',\n",
       " 'women, in, india']"
      ]
     },
     "execution_count": 9,
     "metadata": {},
     "output_type": "execute_result"
    }
   ],
   "source": [
    "model.generate_topic_labels(topic_prefix=False,separator=', ')"
   ]
  },
  {
   "cell_type": "code",
   "execution_count": 10,
   "metadata": {},
   "outputs": [
    {
     "data": {
      "application/vnd.plotly.v1+json": {
       "config": {
        "plotlyServerURL": "https://plot.ly"
       },
       "data": [
        {
         "hoverinfo": "text",
         "hovertext": [
          "Discuss the multi-dimensional implications of uneven distribution of mineral oil in the world.",
          "Explore and evaluate the impact of ‘Work From Home’ on family relationships.",
          "Evaluate the policies of Lord Curzon and their long term implications on the national movements.",
          "India has immense potential of solar energy though there are regional variations in its developments. Elaborate.",
          "Identify and discuss the factors responsible for diversity of natural vegetation in India. Assess the significance of wildlife sanctuaries in rain forests regions of India.",
          "How did the colonial rule affect the tribals in India and what was the tribal response to the colonial oppression?",
          "Critically examine the compulsions which prompted India to play a decisive role in the emergence of Bangladesh.",
          "It is said that India has substantial reserves of shale oil and gas, which can feed the needs of the country for quarter century. However, tapping of the resource does not appear to be high on the agenda. Discuss critically the availability and issues involved.",
          "Why did the industrial revolution first occur in England? Discuss the quality of life of the people there during the industrialization. How does it compare with that in India at present times?",
          "With growing scarcity of fossil fuels, the atomic energy is gaining more and more significance in India. Discuss the availability of raw material required for the generation of atomic energy in India and in the world.",
          "Assess the main administrative issues and socio-cultural problems in the integration process of Indian Princely States.",
          "Child cuddling is now being replaced by mobile phones. Discuss its impact on the socialization of children.",
          "“Africa was chopped into states artificially created by accidents of European competition.” Analyze.",
          "Though not very useful from the point of view of a connected political history of South India, the Sangam literature portrays the social and economic conditions of its time with remarkable vividness. Comment.",
          "Examine the linkages between the nineteenth century’s ‘Indian Renaissance’ and the emergence of national identity.",
          "What characteristics can be assigned to monsoon climate that succeeds in feeding more than 50 percent of the world population residing in Monsoon Asia?",
          "The Bhakti movement received a remarkable re-orientation with the advent of Sri Chaitanya Mahaprabhu. Discuss.",
          "Write a critical note on the evolution and significance of the slogan, ‘Jai Jawan, Jai Kisan’.",
          "Examine how the decline of traditional artisanal industry in colonial India crippled the rural economy.",
          "Several foreigners made India their homeland and participated in various movements.\nAnalyze their role in the Indian struggle for freedom.",
          "Mahatma Gandhi and Dr. B R Ambedkar, despite having divergent approaches and strategies, had a common goal of amelioration of the downtrodden. Elucidate.",
          "Many voices had strengthened and enriched the nationalist movement during the Gandhian phase. Elaborate.",
          "What problems are germane to the decolonization process in the Malay Peninsula?",
          "Comment on the resource potentials of the long coastline of India and highlight the status of natural hazard preparedness in these areas.",
          "Why did the ‘Moderates’ failed to carry conviction with the nation about their proclaimed ideology and political goals by the end of the nineteenth century?",
          "Why did the Green Revolution in India virtually by-pass the eastern region despite fertile soil and good availability of water?",
          "Bring out the constructive programmes of Mahatma Gandhi during Non-Cooperation Movement and Civil Disobedience Movement.",
          "Assess the importance of the accounts of the Chinese and Arab travellers in the reconstruction of the history of India.",
          "Tropical cyclones are largely confined to South China Sea, Bay of Bengal and Gulf of Mexico. Why?",
          "\"The Himalayas are highly prone to landslides.\" Discuss the causes and suggest suitable measures of mitigation.",
          "Petroleum refineries are not necessarily located nearer to crude oil producing areas, particularly in many of the developing countries. Explain its implications.",
          "Examine the status of forest resources of India and its resultant impact on climate change.",
          "South China Sea has assumed great geopolitical significance in the present context. Comment.",
          "Throw light on the significance of the thoughts of Mahatma Gandhi in the present times.",
          "The political and administrative reorganization of states and territories has been a continuous ongoing process since the mid-nineteenth century. Discuss with examples.",
          "The recent cyclone on the east coast of India was called ‘Phailin’. How are the tropical cyclones named across the world? Elaborate.",
          "Troposphere is a very significant atmospheric layer that determines weather processes.\nHow?",
          "Critically examine the effect of globalization on the aged population in India.",
          "COVID-19 pandemic accelerated class inequalities and poverty in India. Comment.",
          "Explain the role of geographical factors towards the development of Ancient India.",
          "Critically evaluate the various resources of the oceans which can be harnessed to meet the resource crisis in the world.",
          "\"An essential condition to eradicate poverty is to liberate the poor from the process of deprivation.\" Substantiate this statement with suitable examples.",
          "What is the basis of regionalism? Is it that unequal distribution of benefits of development on regional basis eventually promotes regionalism? Substantiate your answer.",
          "Discuss the meaning of colour-coded weather warnings for cyclone prone areas given by India Meteorological department.",
          "Growing feeling of regionalism is an important factor in generation of demand for a separate state. Discuss.",
          "How does India see its place in the economic space of rising natural resources rich Africa?",
          "Critically discuss the objectives of Bhoodan and Gramdan movements initiated by AcharyaVinobhaBhave and their success.",
          "Discuss the natural resource potentials of ‘Deccan trap’.",
          "Why is Indian Regional Navigational Satellite System (IRNSS) needed? How does it help in navigation?",
          "The life cycle of a joint family depends on economic factors rather than social values. Discuss.",
          "What are the economic significances of discovery of oil in Arctic Sea and its possible environemental consequences?",
          "Mention the significance of straits and isthmus in international trade.",
          "‘Latecomer’ Industrial Revolution in Japan involved certain factors that were markedly different from what West had experienced.” Analyze.",
          "Highlight the differences in the approach of Subhash Chandra Bose and Mahatma Gandhi in the struggle for freedom.",
          "How will the melting of Himalayan glaciers have a far- reaching impact on the water resources of India?",
          "“In many ways, Lord Dalhousie was the founder of modern India.” Elaborate.",
          "Do you agree that there is a growing trend of opening new sugar mills in southern states of India? Discuss with justification.",
          "‘Despite implementation of various programmes for eradication of poverty by the government in India, poverty is still existing’. Explain by giving reasons.",
          "Why is India considered as a sub-continent? Elaborate your answer.",
          "Smart cities in India cannot sustain without smart vilages. Discuss this statement in the backdrop of rural urban integration.",
          "With a brief background of quality of urban life in India, introduce the objectives and strategy of the 'Smart City Programme'.",
          null
         ],
         "marker": {
          "color": "#CFD8DC",
          "opacity": 0.5,
          "size": 5
         },
         "mode": "markers+text",
         "name": "other",
         "showlegend": false,
         "type": "scattergl",
         "x": [
          7.804409027099609,
          11.79909610748291,
          9.579026222229004,
          8.152352333068848,
          7.428297519683838,
          10.443842887878418,
          11.622587203979492,
          7.943941593170166,
          9.513680458068848,
          7.9742631912231445,
          10.5372953414917,
          11.7379150390625,
          9.037534713745117,
          11.36994743347168,
          11.211288452148438,
          6.451254367828369,
          11.255138397216797,
          10.508810043334961,
          9.784418106079102,
          10.477481842041016,
          10.394999504089355,
          10.407045364379883,
          10.191912651062012,
          7.442066192626953,
          9.722023963928223,
          9.215648651123047,
          10.359779357910156,
          10.570366859436035,
          6.539970874786377,
          6.186152458190918,
          7.968455791473389,
          7.41024923324585,
          6.227242469787598,
          10.41557788848877,
          10.554085731506348,
          6.701149940490723,
          5.0255327224731445,
          11.023589134216309,
          10.626158714294434,
          9.545458793640137,
          7.239002704620361,
          10.516051292419434,
          10.86764907836914,
          6.7593092918396,
          10.711042404174805,
          8.283172607421875,
          11.305828094482422,
          7.488384246826172,
          8.554020881652832,
          11.854876518249512,
          7.638228893280029,
          6.141109943389893,
          9.39749526977539,
          10.285297393798828,
          6.770978927612305,
          11.42709732055664,
          8.868748664855957,
          10.508660316467285,
          11.204042434692383,
          9.627116203308105,
          9.606684684753418,
          9.282211303710938
         ],
         "y": [
          11.495049476623535,
          11.253765106201172,
          8.599454879760742,
          11.887513160705566,
          12.188661575317383,
          9.637808799743652,
          9.050653457641602,
          11.678919792175293,
          10.136669158935547,
          11.77714729309082,
          9.827529907226562,
          11.25765323638916,
          9.212936401367188,
          8.688907623291016,
          8.933353424072266,
          12.669937133789062,
          8.01441764831543,
          8.114168167114258,
          10.109077453613281,
          8.975922584533691,
          7.93365478515625,
          8.026522636413574,
          9.822145462036133,
          12.239485740661621,
          8.526496887207031,
          10.430420875549316,
          7.952476501464844,
          8.97737979888916,
          12.267038345336914,
          13.053644180297852,
          11.641444206237793,
          12.249739646911621,
          12.017197608947754,
          7.995177268981934,
          10.028900146484375,
          12.407931327819824,
          12.81554889678955,
          10.926288604736328,
          11.167604446411133,
          10.52280330657959,
          11.821962356567383,
          11.087056159973145,
          10.387967109680176,
          12.370891571044922,
          10.292030334472656,
          11.568061828613281,
          8.048060417175293,
          12.121477127075195,
          11.813222885131836,
          11.150671005249023,
          11.547952651977539,
          12.001709938049316,
          10.131819725036621,
          7.892868518829346,
          13.004977226257324,
          8.507220268249512,
          11.15687370300293,
          11.072810173034668,
          10.4906587600708,
          11.63693904876709,
          11.645768165588379,
          10.56167984008789
         ]
        },
        {
         "hoverinfo": "text",
         "hovertext": [
          "Distinguish between religiousness/religiosity and communalism giving one example of how the former has got transformed into the latter in independent India.",
          "What makes the Indian society unique in sustaining its culture? Discuss.",
          "How do the Indian debates on secularism differ from the debates in the West?",
          "Customs and traditions suppress reason leading to obscurantism. Do you agree?",
          "Given the diversities among the tribal communities in India, in which specific contexts should they be considered as a single category?",
          "Examine the uniqueness of tribal knowledge system when compared with mainstream knowledge and cultural systems.",
          "Has caste lost its relevance in understanding the multi- cultural Indian Society? Elaborate your answer with illustrations.",
          "What are the challenges to our cultural practices in the name of secularism?",
          "To what extent globalization has influenced the core of cultural diversity in India? Explain.",
          "What are the main features of Vedic society and religion? Do you think some of the features are still prevailing in Indian society?",
          "Pala period is the most significant phase in the history of Buddhism in India. Enumerate.",
          "Has the formation of linguistic States strengthened the cause of Indian Unity?",
          "Are we losing our local identity for the global identity? Discuss.",
          "Why are the tribals in India referred to as 'the Scheduled Tribes? Indicate the major provisions in the Constitution of India for their upliftment.",
          "Is diversity and pluralism in India under threat due to globalisation? Justify your answer.",
          "Do we have cultural pockets of small India all over the nation? Elaborate with examples.",
          "Why is caste identity in India both fluid and static?",
          "Are tolerance, assimilation and pluralism the key elements in the making of an Indian form of secularism? Justify your answer.",
          "Sufis and medieval saints failed to modify either the religious ideas and practices or the outward structure of Hindu/ Muslim societies to any appreciable extent. Comment.",
          "Debate the issue whether and how contemporary movements for assertion of Dalit identity work towards annihilation of caste.",
          "Analyze the salience of ‘sect’ in Indian society vis-a-vis caste, region and religion.",
          "How the Indian concept of secularism different from the western model of secularism?\nDiscuss.",
          "Do you agree that regionalism in India appears to be a consequence of rising cultural assertiveness? Argue.",
          "Discuss the impact of post-liberal economy on ethnic identity and communalism.",
          "How does Indian society maintain continuity in traditional social values? Enumerate the changes taking place in it.",
          "Globalisation is generally said to promote cultural homogenisation but due to this cultural specificities appear to be strengthened in the Indian society.’ Elucidate.",
          "Trace the rise and growth of socio-religious reform movements with special reference to Young Bengal and Brahmo Samaj.",
          "The ancient civilization in Indian sub continent differed from those of Egypt , Mesopotamia and Greece in that its culture and traditions have been preserved without breakdown to the present day. Comment",
          "What are the two major legal initiatives by the State since Independence addressing discrimination against Scheduled Tribes(STs)?",
          "Describe any four cultural elements of diversity in India and rate their relative significance in building a national identity.",
          "Do you think marriage as a sacrament in loosing its value in Modern India?",
          "‘Communalism arises either due to power struggle or relative deprivation.’ Argue by giving suitable illustrations.",
          "In the context of the diversity of India, can it be said that the regions form cultural units rather than the States? Give reasons with examples for your view point.",
          "The spirit of tolerance and love is not only an interesting feature of Indian society from very early times, but it is also playing an important part at the present. Elaborate.",
          "“Caste system is assuming new identities and associational forms. Hence, caste system cannot be eradicated in India.”",
          null
         ],
         "marker": {
          "opacity": 0.5,
          "size": 5
         },
         "mode": "markers+text",
         "name": "0_in_the_cultural",
         "text": [
          "",
          "",
          "",
          "",
          "",
          "",
          "",
          "",
          "",
          "",
          "",
          "",
          "",
          "",
          "",
          "",
          "",
          "",
          "",
          "",
          "",
          "",
          "",
          "",
          "",
          "",
          "",
          "",
          "",
          "",
          "",
          "",
          "",
          "",
          "",
          "0_in_the_cultural"
         ],
         "textfont": {
          "size": 12
         },
         "type": "scattergl",
         "x": [
          12.37154769897461,
          11.810449600219727,
          12.613210678100586,
          12.127437591552734,
          11.405726432800293,
          11.756563186645508,
          11.699868202209473,
          12.574831008911133,
          11.499625205993652,
          12.201526641845703,
          12.112345695495605,
          11.294469833374023,
          11.582452774047852,
          11.020699501037598,
          11.490701675415039,
          11.468948364257812,
          11.59257984161377,
          12.489546775817871,
          12.423537254333496,
          11.589873313903809,
          12.291913032531738,
          12.577338218688965,
          11.238618850708008,
          11.9330472946167,
          11.853671073913574,
          11.532474517822266,
          12.303360939025879,
          11.80541706085205,
          10.812948226928711,
          11.691445350646973,
          12.027094841003418,
          12.039043426513672,
          11.45470905303955,
          11.936188697814941,
          11.558350563049316,
          11.833758354187012
         ],
         "y": [
          9.524066925048828,
          9.713861465454102,
          9.369956016540527,
          9.84654426574707,
          9.878602027893066,
          9.77116584777832,
          9.604364395141602,
          9.423014640808105,
          10.390854835510254,
          9.396768569946289,
          9.097477912902832,
          10.019478797912598,
          10.380670547485352,
          9.725200653076172,
          10.475130081176758,
          10.278715133666992,
          9.549398422241211,
          9.435322761535645,
          9.237457275390625,
          9.555057525634766,
          9.429829597473145,
          9.373612403869629,
          10.320235252380371,
          10.428644180297852,
          9.793517112731934,
          10.321163177490234,
          9.168787002563477,
          10.07590103149414,
          9.791244506835938,
          10.195199012756348,
          9.47785758972168,
          10.529273986816406,
          10.241016387939453,
          9.217768669128418,
          9.581591606140137,
          9.789108276367188
         ]
        },
        {
         "hoverinfo": "text",
         "hovertext": [
          "How far do you agree that the behaviour of the Indian monsoon has been changing due to humanizing landscape? Discuss.",
          "Most of the unusual climatic happenings are explained as an outcome of the El-Nino effect. Do you agree?",
          "Discuss the causes of depletion of mangroves and explain their importance in maintaining coastal ecology.",
          "How do the melting of the Arctic ice and glaciers of the Antarctic differently affect the weather patterns and human activities on the Earth? Explain.",
          "There is no formation of deltas by rivers on the Western Ghats. Why?",
          "Explain the factors responsible for the origin of ocean currents. How do they influence regional climates, fishing and navigation?",
          "How are the fjords formed? Why do they constitute some of the most picturesque areas of the world?",
          "What are the consequences of spreading of ‘Dead Zones’ on marine ecosystem?",
          "How can the mountain ecosystem be restored from the negative impact of development initiatives and tourism?",
          "Discuss the geophysical characteristics of Circum- Pacific Zone.",
          "Bring out the causes for more frequent occurrence of landslides in the Himalayas than in the Western Ghats.",
          "Define mantle plume and explain its role in plate tectonics.",
          "Major hot deserts in northern hemisphere are located between 20-30 deg N latitudes and on the western sides of the continents. Why?",
          "How do ocean currents and water masses differ in their impacts on marine life and coastal environment? Give suitable examples.",
          "How does the cryosphere affect global climate?",
          "Differentiate the causes of landslides in the Himalayan region and Western Ghats.",
          "The process of desertification does not have climate boundaries. Justify with examples.",
          "What do you understand by the theory of continental drift? Discuss the prominent evidences in its support.",
          "Briefly mention the alignment of major mountain ranges of the world and explain their impact on local weather conditions, with examples.",
          "How does the Juno Mission of NASA help to understand the origin and evolution of the Earth?",
          "Why is the South-West monsoon called ‘Purvaiya’ (easterly) in Bhojpur Region? How has this directional seasonal wind system influenced the cultural ethos of the region?",
          "Explain the formation of thousands of islands in Indonesian and Philipines archipelagos.",
          "Assess the impact of global warming on the coral life system with examples.",
          "Bring out the relationship between the shrinking Himalayan glaciers and the symptoms of climate change in the Indian sub-continent.",
          "Describe the characteristics and types of primary rocks.",
          "Discuss the consequences of climate change on the food security in tropical countries.",
          "Why are the world’s fold mountain systems located along the margins of continents? Bring out the association between the global distribution of fold mountains and the earthquakes and volcanoes.",
          "Mention the global occurrence of volcanic eruptions in 2021 and their impact on regional environment.",
          "What are the forces that influence ocean currents? Describe their role in fishing industry of the world.",
          "Discuss the concept of air mass and explain its role in macro-climatic changes.",
          "What do you understand by the phenomenon of ‘temperature inversion’ in meteorology? How does it affect weather and the habitants of the place?",
          "Account for variations in oceanic salinity and discuss its multi-dimensional effects.",
          "Bring out the causes for the formation of heat islands in the urban habitat of the world.",
          null
         ],
         "marker": {
          "opacity": 0.5,
          "size": 5
         },
         "mode": "markers+text",
         "name": "1_the_of_and",
         "text": [
          "",
          "",
          "",
          "",
          "",
          "",
          "",
          "",
          "",
          "",
          "",
          "",
          "",
          "",
          "",
          "",
          "",
          "",
          "",
          "",
          "",
          "",
          "",
          "",
          "",
          "",
          "",
          "",
          "",
          "",
          "",
          "",
          "",
          "1_the_of_and"
         ],
         "textfont": {
          "size": 12
         },
         "type": "scattergl",
         "x": [
          6.539563179016113,
          5.3053765296936035,
          5.243908882141113,
          5.393320083618164,
          5.942232608795166,
          5.577332496643066,
          5.818134784698486,
          5.238422393798828,
          7.38361930847168,
          5.500199794769287,
          6.126972198486328,
          5.4758076667785645,
          5.720719337463379,
          5.284972667694092,
          5.089098930358887,
          6.141308784484863,
          5.637574195861816,
          5.723851680755615,
          5.557538032531738,
          5.684118270874023,
          6.631037712097168,
          5.406057357788086,
          5.201545238494873,
          6.512587070465088,
          5.647121429443359,
          6.426883697509766,
          5.757599353790283,
          5.5135040283203125,
          5.5917439460754395,
          5.0253520011901855,
          5.175124168395996,
          5.443823337554932,
          5.370284557342529,
          5.69959831237793
         ],
         "y": [
          12.736618041992188,
          12.926321029663086,
          12.13626480102539,
          12.741640090942383,
          12.951860427856445,
          12.236507415771484,
          12.876493453979492,
          12.158308029174805,
          12.764748573303223,
          12.271544456481934,
          13.02374267578125,
          12.844435691833496,
          13.061176300048828,
          12.147756576538086,
          12.805279731750488,
          13.029887199401855,
          13.082832336425781,
          12.489044189453125,
          12.92077350616455,
          12.447291374206543,
          12.630749702453613,
          12.713342666625977,
          12.33506965637207,
          12.989237785339355,
          12.752250671386719,
          12.688706398010254,
          12.8640718460083,
          13.033782958984375,
          12.030851364135742,
          12.863966941833496,
          12.912148475646973,
          12.233052253723145,
          12.949026107788086,
          12.68632698059082
         ]
        },
        {
         "hoverinfo": "text",
         "hovertext": [
          "What were the major technological changes introduced during the Sultanate period? How did those technological changes influence the Indian society?",
          "To what extend can Germany be held responsible for causing the two World Wars? Discuss critically.",
          "Examine critically the various facets of economic policies of the British in India from mid-eighteenth century till independence.",
          "How difficult would have been the achievement of Indian independence without Mahatma Gandhi? Discuss.",
          "To what extent did the role of the moderates prepare a base for the wider freedom movement? Comment.",
          "Why was there a sudden spurt in famines in colonial India since the mid-eighteenth century? Give reasons.",
          "What policy instruments were deployed to contain the Great Economic Depression?",
          "The 1857 uprising was the culmination of the recurrent, big and small local rebellions that had occurred in the preceding hundred years of British rule. Elucidate.",
          "Assess the role of British imperial power in complicating the process of transfer of power during the 1940s.",
          "What were the events that led to the Suez Crisis in 1956? How did it deal a final blow to Britain’s self-image as a world power?",
          "Since the decade of the 1920s, the national movement acquired various ideological strands and thereby expanded its social base. Discuss.",
          "It would have been difficult for the Constituent Assembly to complete its historic task of drafting the Constitution for Independent India in just three years, but its experience gained with the Government of India Act, 1935\n.Discuss.",
          "Explain how the Uprising of 1857 constitutes an important watershed in the evolution of British policies towards colonial India.",
          "Analyze the circumstances that led to the Tashkent Agreement in 1966. Discuss the highlights of the Agreement.",
          "” There arose a serious challenge to the Democratic State System between the two World Wars.” Evaluate the statement.",
          "“American Revolution was an economic revolt against mercantilism.” Substantiate.",
          "Highlight the importance of the new objectives that got added to the vision of Indian Independence since the twenties of the last century.",
          "Why did the armies of the British East India Company – mostly comprising of Indian soldiers – win consistently against the more numerous and better equipped armies of the Indian rulers? Give reasons.",
          "Why indentured labour was taken by the British from India to their colonies? have they been able to preserve their cultural identity over there?",
          "Whereas the British planters had developed tea gardens all along the Shivaliks and Lesser Himalayas from Assam to Himachal Pradesh, in effect they did not succeed beyond the Darjeeling area. Explain.",
          "Explain how the foundations of the modern world were laid by the American and French Revolutions.",
          "The New Economic Policy – 1921 of Lenin had influenced the policies adopted by India soon after independence. Evaluate.",
          "The anti-colonial struggles in West Africa were led by the new elite of Western-educated Africans.",
          "What were the major political, economic and social developments in the world which motivated the anti-colonial in India?",
          "Clarify how mid-eighteenth century India was beset with the spectre of a fragmented polity.",
          "What was the difference between Mahatma Gandhi and Rabindranath Tagore in their approach towards education and nationalism?",
          "In what ways did the navel mutiny prove to be the last nail in the coffin of British colonial aspirations in India?",
          "The third battle of Panipat was fought in 1761. Why were so many empire-shaking battles fought at Panipat?",
          "Discuss the contributions of MaulanaAbulKalam Azad to pre- and post-independent India.",
          null
         ],
         "marker": {
          "opacity": 0.5,
          "size": 5
         },
         "mode": "markers+text",
         "name": "2_the_british_to",
         "text": [
          "",
          "",
          "",
          "",
          "",
          "",
          "",
          "",
          "",
          "",
          "",
          "",
          "",
          "",
          "",
          "",
          "",
          "",
          "",
          "",
          "",
          "",
          "",
          "",
          "",
          "",
          "",
          "",
          "",
          "2_the_british_to"
         ],
         "textfont": {
          "size": 12
         },
         "type": "scattergl",
         "x": [
          9.966263771057129,
          8.968864440917969,
          9.62192440032959,
          10.364089012145996,
          9.751053810119629,
          9.837124824523926,
          9.351323127746582,
          9.787625312805176,
          9.159405708312988,
          9.059701919555664,
          9.584254264831543,
          10.224102020263672,
          9.780874252319336,
          9.351531028747559,
          9.03878116607666,
          9.235040664672852,
          10.337977409362793,
          9.639514923095703,
          9.764189720153809,
          9.449628829956055,
          9.357400894165039,
          9.563207626342773,
          9.231864929199219,
          10.046338081359863,
          10.005010604858398,
          10.260015487670898,
          9.842656135559082,
          9.88243293762207,
          10.501555442810059,
          9.68840503692627
         ],
         "y": [
          10.021794319152832,
          9.33868408203125,
          9.308282852172852,
          8.059737205505371,
          8.497264862060547,
          9.84789752960205,
          9.092323303222656,
          9.4050931930542,
          9.57695484161377,
          9.615341186523438,
          8.623346328735352,
          8.797657012939453,
          9.411482810974121,
          8.806366920471191,
          9.25447940826416,
          9.059989929199219,
          8.942632675170898,
          9.549117088317871,
          9.412759780883789,
          10.010334014892578,
          8.693549156188965,
          9.150452613830566,
          9.087450981140137,
          9.656042098999023,
          9.107150077819824,
          7.881356716156006,
          9.36178207397461,
          9.350356101989746,
          9.046680450439453,
          9.171255111694336
         ]
        },
        {
         "hoverinfo": "text",
         "hovertext": [
          "What is the significance of Industrial Corridors in India? Identifying industrial corridors, explain their main characteristics.",
          "Discuss whether formation of new states in recent times is beneficial or not for the economy of India.",
          "Account for the change in the spatial pattern of the Iron and Steel industry in the world.",
          "Defining blue revolution, explain the problems and strategies for pisciculture development in India.",
          "What are the main socio-economic implications arising out of the development of IT industries in major cities of India?",
          "From being net food importer in 1960s, India has emerged as a net food exporter to the world. Provide reasons.",
          "Discuss the changes in the trends of labour migration within and outside India in the last four decades.",
          "Discuss the main objectives of Population Education and point out the measures to achieve them in India in detail.",
          "Discuss the various social problems which originated out of the speedy process of urbanization in India.",
          "Mention the advantages of the cultivation of pulses because of which the year 2016 was declared as the International Year of Pulses by United Nations.",
          "How have digital initiatives in India contributed to the functioning of the education system in the country? Elaborate your answer.",
          "Why is India taking keen interest in the Arctic region?",
          "Analyze the factors for the highly decentralized cotton textile industry in India.",
          "Why did human development fail to keep pace with economic development in India?",
          "Despite India being one of the countries of the Gondwanaland, its mining industry contributes much less to its Gross Domestic Product(GDP) in percentage. Discuss.",
          "Does urbanization lead to more segregation and/or marginalization of the poor in Indian metropolises?",
          "Discuss the factors for localisation of agro-based food processing industries of North-West India.",
          "Critically examine whether growing population is the cause of poverty OR poverty is the mains cause of population increase in India.",
          "How is efficient and affordable urban mass transport key to the rapid economic development in India?",
          "To what extent has the urban planning and culture of the Indus Valley Civilization provided inputs to the present day urbanization?\nDiscuss.",
          "How is the growth of Tier 2 cities related to the rise of a new middle class with an emphasis on the culture of consumption?",
          "What is Cryptocurrency? How does it affect global society? Has it been affecting Indian society also?",
          "Elucidate the relationship between globalization and new technology in a world of scarce resources, with special reference to India.",
          "“The growth of cities as I.T. hubs has opened up new avenues of employment, but has also created new problems”. Substantiate this statement with examples",
          "Bring out the socio-economic effects of the introduction of railways in different countries of the world",
          "Mention core strategies for the transformation of aspirational districts in India and explain the nature of convergence, collaboration and competition for its success.",
          "Can the strategy of regional resource-based manufacturing help in promoting employment in India?",
          "Account for the present location of iron and steel industries away from the source of raw material, by giving examples.",
          null
         ],
         "marker": {
          "opacity": 0.5,
          "size": 5
         },
         "mode": "markers+text",
         "name": "3_the_of_in",
         "text": [
          "",
          "",
          "",
          "",
          "",
          "",
          "",
          "",
          "",
          "",
          "",
          "",
          "",
          "",
          "",
          "",
          "",
          "",
          "",
          "",
          "",
          "",
          "",
          "",
          "",
          "",
          "",
          "",
          "3_the_of_in"
         ],
         "textfont": {
          "size": 12
         },
         "type": "scattergl",
         "x": [
          9.571218490600586,
          9.24222183227539,
          8.508687973022461,
          9.345892906188965,
          9.497649192810059,
          8.828940391540527,
          10.105027198791504,
          10.404751777648926,
          9.952251434326172,
          9.159181594848633,
          10.391098022460938,
          8.237277030944824,
          9.017911911010742,
          10.051342010498047,
          8.560319900512695,
          10.033409118652344,
          9.008157730102539,
          10.400652885437012,
          9.521077156066895,
          9.708925247192383,
          9.90920352935791,
          9.832164764404297,
          9.053791046142578,
          9.799250602722168,
          9.556352615356445,
          9.63144588470459,
          9.09403133392334,
          8.453776359558105,
          9.459856986999512
         ],
         "y": [
          10.890608787536621,
          10.88251781463623,
          11.143156051635742,
          10.493372917175293,
          11.166645050048828,
          11.041616439819336,
          10.674337387084961,
          10.96456241607666,
          10.801942825317383,
          10.851329803466797,
          10.845980644226074,
          11.78188705444336,
          11.205679893493652,
          10.721972465515137,
          11.378558158874512,
          10.994053840637207,
          11.199854850769043,
          11.182262420654297,
          11.301319122314453,
          10.699198722839355,
          11.015941619873047,
          11.196648597717285,
          11.257796287536621,
          11.102987289428711,
          11.262880325317383,
          10.817522048950195,
          11.249861717224121,
          11.305148124694824,
          11.051057815551758
         ]
        },
        {
         "hoverinfo": "text",
         "hovertext": [
          "In what way can floods be converted into a sustainable source of irrigation and all-weather inland navigation in India?",
          "Account for the huge flooding of million cities in India including the smart ones like Hyderabad and Pune. Suggest lasting remedial measures.",
          "The states of Jammu and Kashmir, Himachal Pradesh and Uttarakhand are reaching the limits of ecological carrying capacity due to tourism. Critically evaluate.",
          "What is water stress? How and why does it differ regionally in India?",
          "Examine the potential of wind energy in India and explain the reasons for their limited spatial spread.",
          "Present an account of the Indus Water Treaty and examine its ecological, economic and political implications in the context of changing bilateral relations.",
          "The effective management of land and water resources will drastically reduce the human miseries. Explain.",
          "Describing the distribution of rubber producing countries, indicate the major environmental issues faced by them.",
          "“Inspite of adverse environmental impact, coal mining is still inevitable for development”.\nDiscuss",
          "“The ideal solution of depleting ground water resources in India is water harvesting system.” How can it be made effective in urban areas?",
          "Mumbai, Delhi and Kolkata are the three Mega cities of the country but the air pollution is much more serious probelm in Delhi as compared to the other two. Why is this so?",
          "Major cities of India are becoming more vulnerable to flood conditions. Discuss.",
          "what are the environmental implications of the reclamation of the water bodies into urban land use? Explain with examples.",
          "In what way micro-watershed development projects help in water conservation in\ndrought-prone and semi-arid regions of India?",
          "India is well endowed with fresh water resources. Critically examine why it still suffers from water scarcity.",
          "Why is the world today confronted with a crisis of availability of and access to freshwater resources?",
          "Enumerate the problems and prospects of inland water transport in India.",
          "The interlinking of rivers can provide viable solutions to the multi-dimensional inter-related problems of droughts, floods and interrupted navigation. Critically examine.",
          null
         ],
         "marker": {
          "opacity": 0.5,
          "size": 5
         },
         "mode": "markers+text",
         "name": "4_water_and_of",
         "text": [
          "",
          "",
          "",
          "",
          "",
          "",
          "",
          "",
          "",
          "",
          "",
          "",
          "",
          "",
          "",
          "",
          "",
          "",
          "4_water_and_of"
         ],
         "textfont": {
          "size": 12
         },
         "type": "scattergl",
         "x": [
          8.09338092803955,
          8.231514930725098,
          7.506441593170166,
          7.9167866706848145,
          8.087066650390625,
          7.648383140563965,
          7.655762195587158,
          7.343698501586914,
          7.667015552520752,
          7.985289573669434,
          8.268818855285645,
          8.121905326843262,
          7.690385341644287,
          7.9737772941589355,
          7.868028163909912,
          7.816394329071045,
          7.886314392089844,
          8.062358856201172,
          7.879073143005371
         ],
         "y": [
          12.800677299499512,
          12.868963241577148,
          12.339798927307129,
          12.811415672302246,
          12.230637550354004,
          12.54140567779541,
          12.991804122924805,
          13.106287002563477,
          13.01960277557373,
          12.856440544128418,
          12.469331741333008,
          12.672805786132812,
          13.040321350097656,
          12.853466033935547,
          12.717571258544922,
          12.914410591125488,
          12.671074867248535,
          12.913447380065918,
          12.767748832702637
         ]
        },
        {
         "hoverinfo": "text",
         "hovertext": [
          "Discuss the main contributions of Gupta period and Chola period to Indian heritage and culture\n.",
          "The rock-cut architecture represents one of the most important sources of our knowledge of early Indian art and history. Discuss.",
          "Safeguarding the Indian art heritage is the need of the moment.",
          "Mesolithic rock cut architecture of India not only reflects the cultural life of the times but also a fine aesthetic sense comparable to modern painting. Critically evaluate this comment.",
          "Indian Philosophy and tradition played a significant role in conceiving and shaping the monuments and their art in India. Discuss.",
          "Taxila university was one of the oldest universities of the world with which were associated a number of renowned learned personalities of different disciplines. Its strategic location caused its fame to flourish, but unlike Nalanda, it is not considered as a university in the modern sense. Discuss.",
          "Discuss the significance of the lion and bull figures in Indian mythology, art and architecture.",
          "Early Buddhist Stupa-art, while depicting folk motifs and narratives successfully expounds Buddhist ideals. Elucidate.",
          "How do you justify the view that the level of excellence of the Gupta numismatic art is not at all noticeable in later times?",
          "Chola architecture represents a high watermark in the evolution of temple architecture. Discuss",
          "Persian literary sources of medieval India reflect the spirit of the age. Comment.",
          "Krishnadeva Raya, the King of Vijayanagar, was not only an accomplished scholar himself but was also a great patron of learning and literature. Discuss.",
          "Evaluate the nature of the Bhakti Literature and its contribution to Indian culture.",
          "Highlight the Central Asian and Greco Bactrian elements in the Gandhara art.",
          "How will you explain the medieval Indian temple sculptures represent the social life of those days?",
          "Discuss the ‘Tandava’ dance as recorded in early Indian inscriptions.",
          "Gandhara sculpture owed as much to the Romans as to the Greeks. Explain.",
          null
         ],
         "marker": {
          "opacity": 0.5,
          "size": 5
         },
         "mode": "markers+text",
         "name": "5_art_the_architecture",
         "text": [
          "",
          "",
          "",
          "",
          "",
          "",
          "",
          "",
          "",
          "",
          "",
          "",
          "",
          "",
          "",
          "",
          "",
          "5_art_the_architecture"
         ],
         "textfont": {
          "size": 12
         },
         "type": "scattergl",
         "x": [
          11.855992317199707,
          12.293156623840332,
          12.294962882995605,
          12.285724639892578,
          12.264249801635742,
          12.032443046569824,
          12.233792304992676,
          12.175141334533691,
          12.417885780334473,
          12.217952728271484,
          12.08067798614502,
          11.968748092651367,
          11.392318725585938,
          12.187931060791016,
          12.280113220214844,
          12.052196502685547,
          12.252151489257812,
          12.134437561035156
         ],
         "y": [
          7.779924392700195,
          7.7308478355407715,
          7.854579448699951,
          7.764495849609375,
          7.944995880126953,
          8.441716194152832,
          7.764842510223389,
          7.85520076751709,
          7.779294013977051,
          7.553398609161377,
          8.09611701965332,
          8.233216285705566,
          8.06842041015625,
          7.759458541870117,
          7.752471446990967,
          7.985065937042236,
          7.671791076660156,
          7.88446044921875
         ]
        },
        {
         "hoverinfo": "text",
         "hovertext": [
          "The women’s questions arose in modern India as a part of the 19th century social reform movement. What are the major issues and debates concerning women in that period?",
          "How does patriarchy impact the position of a middle class working woman in India?",
          "“Male membership needs to be encouraged in order to make women’s organization free from gender bias.” Comment.",
          "Explain why suicide among young women is increasing in Indian Society.",
          "Discuss the various economic and\nsocio-cultural forces that are driving increasing feminization of agriculture in India.",
          "Why do some of the most prosperous regions of India have an adverse sex ratio for women? Give your arguments.",
          "Discuss the positive and negative effects of globalization on women in India?",
          "Discuss the role of women in the freedom struggle especially during the Gandhian phase.",
          "“Empowering women is the key to control population growth.” Discuss.",
          "How do you explain the statistics that show that the sex ratio in Tribes in India is more favourable to women than the sex ratio among Scheduled Castes?",
          "What are the continued challenges for women in India against time and space?",
          "Examine the role of ‘Gig Economy’ in the process of empowerment of women in India.",
          "‘Women’s movement in India has not addressed the issues of women of lower social strata.’ Substantiate your view.",
          "Defying the barriers of age, gender and religion, the Indian women became the torchbearer during the struggle for freedom in India. Discuss.",
          null
         ],
         "marker": {
          "opacity": 0.5,
          "size": 5
         },
         "mode": "markers+text",
         "name": "6_women_in_india",
         "text": [
          "",
          "",
          "",
          "",
          "",
          "",
          "",
          "",
          "",
          "",
          "",
          "",
          "",
          "",
          "6_women_in_india"
         ],
         "textfont": {
          "size": 12
         },
         "type": "scattergl",
         "x": [
          11.737405776977539,
          11.630535125732422,
          11.560799598693848,
          11.318473815917969,
          11.128127098083496,
          11.301900863647461,
          11.551081657409668,
          11.825029373168945,
          11.391319274902344,
          11.224419593811035,
          11.606663703918457,
          11.575799942016602,
          11.7221040725708,
          11.828838348388672,
          11.5287504196167
         ],
         "y": [
          11.986970901489258,
          11.746236801147461,
          11.772398948669434,
          11.594815254211426,
          11.617660522460938,
          11.56003475189209,
          11.391362190246582,
          12.058819770812988,
          11.693358421325684,
          11.485066413879395,
          11.899664878845215,
          11.838553428649902,
          11.977861404418945,
          12.056780815124512,
          11.762826919555664
         ]
        }
       ],
       "layout": {
        "annotations": [
         {
          "showarrow": false,
          "text": "D1",
          "x": 4.271549201011657,
          "y": 10.746309435367584,
          "yshift": 10
         },
         {
          "showarrow": false,
          "text": "D2",
          "x": 9.388370740413666,
          "xshift": 10,
          "y": 15.072230052947997
         }
        ],
        "height": 750,
        "shapes": [
         {
          "line": {
           "color": "#CFD8DC",
           "width": 2
          },
          "type": "line",
          "x0": 9.388370740413666,
          "x1": 9.388370740413666,
          "y0": 6.42038881778717,
          "y1": 15.072230052947997
         },
         {
          "line": {
           "color": "#9E9E9E",
           "width": 2
          },
          "type": "line",
          "x0": 4.271549201011657,
          "x1": 14.505192279815674,
          "y0": 10.746309435367584,
          "y1": 10.746309435367584
         }
        ],
        "template": {
         "data": {
          "bar": [
           {
            "error_x": {
             "color": "rgb(36,36,36)"
            },
            "error_y": {
             "color": "rgb(36,36,36)"
            },
            "marker": {
             "line": {
              "color": "white",
              "width": 0.5
             },
             "pattern": {
              "fillmode": "overlay",
              "size": 10,
              "solidity": 0.2
             }
            },
            "type": "bar"
           }
          ],
          "barpolar": [
           {
            "marker": {
             "line": {
              "color": "white",
              "width": 0.5
             },
             "pattern": {
              "fillmode": "overlay",
              "size": 10,
              "solidity": 0.2
             }
            },
            "type": "barpolar"
           }
          ],
          "carpet": [
           {
            "aaxis": {
             "endlinecolor": "rgb(36,36,36)",
             "gridcolor": "white",
             "linecolor": "white",
             "minorgridcolor": "white",
             "startlinecolor": "rgb(36,36,36)"
            },
            "baxis": {
             "endlinecolor": "rgb(36,36,36)",
             "gridcolor": "white",
             "linecolor": "white",
             "minorgridcolor": "white",
             "startlinecolor": "rgb(36,36,36)"
            },
            "type": "carpet"
           }
          ],
          "choropleth": [
           {
            "colorbar": {
             "outlinewidth": 1,
             "tickcolor": "rgb(36,36,36)",
             "ticks": "outside"
            },
            "type": "choropleth"
           }
          ],
          "contour": [
           {
            "colorbar": {
             "outlinewidth": 1,
             "tickcolor": "rgb(36,36,36)",
             "ticks": "outside"
            },
            "colorscale": [
             [
              0,
              "#440154"
             ],
             [
              0.1111111111111111,
              "#482878"
             ],
             [
              0.2222222222222222,
              "#3e4989"
             ],
             [
              0.3333333333333333,
              "#31688e"
             ],
             [
              0.4444444444444444,
              "#26828e"
             ],
             [
              0.5555555555555556,
              "#1f9e89"
             ],
             [
              0.6666666666666666,
              "#35b779"
             ],
             [
              0.7777777777777778,
              "#6ece58"
             ],
             [
              0.8888888888888888,
              "#b5de2b"
             ],
             [
              1,
              "#fde725"
             ]
            ],
            "type": "contour"
           }
          ],
          "contourcarpet": [
           {
            "colorbar": {
             "outlinewidth": 1,
             "tickcolor": "rgb(36,36,36)",
             "ticks": "outside"
            },
            "type": "contourcarpet"
           }
          ],
          "heatmap": [
           {
            "colorbar": {
             "outlinewidth": 1,
             "tickcolor": "rgb(36,36,36)",
             "ticks": "outside"
            },
            "colorscale": [
             [
              0,
              "#440154"
             ],
             [
              0.1111111111111111,
              "#482878"
             ],
             [
              0.2222222222222222,
              "#3e4989"
             ],
             [
              0.3333333333333333,
              "#31688e"
             ],
             [
              0.4444444444444444,
              "#26828e"
             ],
             [
              0.5555555555555556,
              "#1f9e89"
             ],
             [
              0.6666666666666666,
              "#35b779"
             ],
             [
              0.7777777777777778,
              "#6ece58"
             ],
             [
              0.8888888888888888,
              "#b5de2b"
             ],
             [
              1,
              "#fde725"
             ]
            ],
            "type": "heatmap"
           }
          ],
          "heatmapgl": [
           {
            "colorbar": {
             "outlinewidth": 1,
             "tickcolor": "rgb(36,36,36)",
             "ticks": "outside"
            },
            "colorscale": [
             [
              0,
              "#440154"
             ],
             [
              0.1111111111111111,
              "#482878"
             ],
             [
              0.2222222222222222,
              "#3e4989"
             ],
             [
              0.3333333333333333,
              "#31688e"
             ],
             [
              0.4444444444444444,
              "#26828e"
             ],
             [
              0.5555555555555556,
              "#1f9e89"
             ],
             [
              0.6666666666666666,
              "#35b779"
             ],
             [
              0.7777777777777778,
              "#6ece58"
             ],
             [
              0.8888888888888888,
              "#b5de2b"
             ],
             [
              1,
              "#fde725"
             ]
            ],
            "type": "heatmapgl"
           }
          ],
          "histogram": [
           {
            "marker": {
             "line": {
              "color": "white",
              "width": 0.6
             }
            },
            "type": "histogram"
           }
          ],
          "histogram2d": [
           {
            "colorbar": {
             "outlinewidth": 1,
             "tickcolor": "rgb(36,36,36)",
             "ticks": "outside"
            },
            "colorscale": [
             [
              0,
              "#440154"
             ],
             [
              0.1111111111111111,
              "#482878"
             ],
             [
              0.2222222222222222,
              "#3e4989"
             ],
             [
              0.3333333333333333,
              "#31688e"
             ],
             [
              0.4444444444444444,
              "#26828e"
             ],
             [
              0.5555555555555556,
              "#1f9e89"
             ],
             [
              0.6666666666666666,
              "#35b779"
             ],
             [
              0.7777777777777778,
              "#6ece58"
             ],
             [
              0.8888888888888888,
              "#b5de2b"
             ],
             [
              1,
              "#fde725"
             ]
            ],
            "type": "histogram2d"
           }
          ],
          "histogram2dcontour": [
           {
            "colorbar": {
             "outlinewidth": 1,
             "tickcolor": "rgb(36,36,36)",
             "ticks": "outside"
            },
            "colorscale": [
             [
              0,
              "#440154"
             ],
             [
              0.1111111111111111,
              "#482878"
             ],
             [
              0.2222222222222222,
              "#3e4989"
             ],
             [
              0.3333333333333333,
              "#31688e"
             ],
             [
              0.4444444444444444,
              "#26828e"
             ],
             [
              0.5555555555555556,
              "#1f9e89"
             ],
             [
              0.6666666666666666,
              "#35b779"
             ],
             [
              0.7777777777777778,
              "#6ece58"
             ],
             [
              0.8888888888888888,
              "#b5de2b"
             ],
             [
              1,
              "#fde725"
             ]
            ],
            "type": "histogram2dcontour"
           }
          ],
          "mesh3d": [
           {
            "colorbar": {
             "outlinewidth": 1,
             "tickcolor": "rgb(36,36,36)",
             "ticks": "outside"
            },
            "type": "mesh3d"
           }
          ],
          "parcoords": [
           {
            "line": {
             "colorbar": {
              "outlinewidth": 1,
              "tickcolor": "rgb(36,36,36)",
              "ticks": "outside"
             }
            },
            "type": "parcoords"
           }
          ],
          "pie": [
           {
            "automargin": true,
            "type": "pie"
           }
          ],
          "scatter": [
           {
            "fillpattern": {
             "fillmode": "overlay",
             "size": 10,
             "solidity": 0.2
            },
            "type": "scatter"
           }
          ],
          "scatter3d": [
           {
            "line": {
             "colorbar": {
              "outlinewidth": 1,
              "tickcolor": "rgb(36,36,36)",
              "ticks": "outside"
             }
            },
            "marker": {
             "colorbar": {
              "outlinewidth": 1,
              "tickcolor": "rgb(36,36,36)",
              "ticks": "outside"
             }
            },
            "type": "scatter3d"
           }
          ],
          "scattercarpet": [
           {
            "marker": {
             "colorbar": {
              "outlinewidth": 1,
              "tickcolor": "rgb(36,36,36)",
              "ticks": "outside"
             }
            },
            "type": "scattercarpet"
           }
          ],
          "scattergeo": [
           {
            "marker": {
             "colorbar": {
              "outlinewidth": 1,
              "tickcolor": "rgb(36,36,36)",
              "ticks": "outside"
             }
            },
            "type": "scattergeo"
           }
          ],
          "scattergl": [
           {
            "marker": {
             "colorbar": {
              "outlinewidth": 1,
              "tickcolor": "rgb(36,36,36)",
              "ticks": "outside"
             }
            },
            "type": "scattergl"
           }
          ],
          "scattermapbox": [
           {
            "marker": {
             "colorbar": {
              "outlinewidth": 1,
              "tickcolor": "rgb(36,36,36)",
              "ticks": "outside"
             }
            },
            "type": "scattermapbox"
           }
          ],
          "scatterpolar": [
           {
            "marker": {
             "colorbar": {
              "outlinewidth": 1,
              "tickcolor": "rgb(36,36,36)",
              "ticks": "outside"
             }
            },
            "type": "scatterpolar"
           }
          ],
          "scatterpolargl": [
           {
            "marker": {
             "colorbar": {
              "outlinewidth": 1,
              "tickcolor": "rgb(36,36,36)",
              "ticks": "outside"
             }
            },
            "type": "scatterpolargl"
           }
          ],
          "scatterternary": [
           {
            "marker": {
             "colorbar": {
              "outlinewidth": 1,
              "tickcolor": "rgb(36,36,36)",
              "ticks": "outside"
             }
            },
            "type": "scatterternary"
           }
          ],
          "surface": [
           {
            "colorbar": {
             "outlinewidth": 1,
             "tickcolor": "rgb(36,36,36)",
             "ticks": "outside"
            },
            "colorscale": [
             [
              0,
              "#440154"
             ],
             [
              0.1111111111111111,
              "#482878"
             ],
             [
              0.2222222222222222,
              "#3e4989"
             ],
             [
              0.3333333333333333,
              "#31688e"
             ],
             [
              0.4444444444444444,
              "#26828e"
             ],
             [
              0.5555555555555556,
              "#1f9e89"
             ],
             [
              0.6666666666666666,
              "#35b779"
             ],
             [
              0.7777777777777778,
              "#6ece58"
             ],
             [
              0.8888888888888888,
              "#b5de2b"
             ],
             [
              1,
              "#fde725"
             ]
            ],
            "type": "surface"
           }
          ],
          "table": [
           {
            "cells": {
             "fill": {
              "color": "rgb(237,237,237)"
             },
             "line": {
              "color": "white"
             }
            },
            "header": {
             "fill": {
              "color": "rgb(217,217,217)"
             },
             "line": {
              "color": "white"
             }
            },
            "type": "table"
           }
          ]
         },
         "layout": {
          "annotationdefaults": {
           "arrowhead": 0,
           "arrowwidth": 1
          },
          "autotypenumbers": "strict",
          "coloraxis": {
           "colorbar": {
            "outlinewidth": 1,
            "tickcolor": "rgb(36,36,36)",
            "ticks": "outside"
           }
          },
          "colorscale": {
           "diverging": [
            [
             0,
             "rgb(103,0,31)"
            ],
            [
             0.1,
             "rgb(178,24,43)"
            ],
            [
             0.2,
             "rgb(214,96,77)"
            ],
            [
             0.3,
             "rgb(244,165,130)"
            ],
            [
             0.4,
             "rgb(253,219,199)"
            ],
            [
             0.5,
             "rgb(247,247,247)"
            ],
            [
             0.6,
             "rgb(209,229,240)"
            ],
            [
             0.7,
             "rgb(146,197,222)"
            ],
            [
             0.8,
             "rgb(67,147,195)"
            ],
            [
             0.9,
             "rgb(33,102,172)"
            ],
            [
             1,
             "rgb(5,48,97)"
            ]
           ],
           "sequential": [
            [
             0,
             "#440154"
            ],
            [
             0.1111111111111111,
             "#482878"
            ],
            [
             0.2222222222222222,
             "#3e4989"
            ],
            [
             0.3333333333333333,
             "#31688e"
            ],
            [
             0.4444444444444444,
             "#26828e"
            ],
            [
             0.5555555555555556,
             "#1f9e89"
            ],
            [
             0.6666666666666666,
             "#35b779"
            ],
            [
             0.7777777777777778,
             "#6ece58"
            ],
            [
             0.8888888888888888,
             "#b5de2b"
            ],
            [
             1,
             "#fde725"
            ]
           ],
           "sequentialminus": [
            [
             0,
             "#440154"
            ],
            [
             0.1111111111111111,
             "#482878"
            ],
            [
             0.2222222222222222,
             "#3e4989"
            ],
            [
             0.3333333333333333,
             "#31688e"
            ],
            [
             0.4444444444444444,
             "#26828e"
            ],
            [
             0.5555555555555556,
             "#1f9e89"
            ],
            [
             0.6666666666666666,
             "#35b779"
            ],
            [
             0.7777777777777778,
             "#6ece58"
            ],
            [
             0.8888888888888888,
             "#b5de2b"
            ],
            [
             1,
             "#fde725"
            ]
           ]
          },
          "colorway": [
           "#1F77B4",
           "#FF7F0E",
           "#2CA02C",
           "#D62728",
           "#9467BD",
           "#8C564B",
           "#E377C2",
           "#7F7F7F",
           "#BCBD22",
           "#17BECF"
          ],
          "font": {
           "color": "rgb(36,36,36)"
          },
          "geo": {
           "bgcolor": "white",
           "lakecolor": "white",
           "landcolor": "white",
           "showlakes": true,
           "showland": true,
           "subunitcolor": "white"
          },
          "hoverlabel": {
           "align": "left"
          },
          "hovermode": "closest",
          "mapbox": {
           "style": "light"
          },
          "paper_bgcolor": "white",
          "plot_bgcolor": "white",
          "polar": {
           "angularaxis": {
            "gridcolor": "rgb(232,232,232)",
            "linecolor": "rgb(36,36,36)",
            "showgrid": false,
            "showline": true,
            "ticks": "outside"
           },
           "bgcolor": "white",
           "radialaxis": {
            "gridcolor": "rgb(232,232,232)",
            "linecolor": "rgb(36,36,36)",
            "showgrid": false,
            "showline": true,
            "ticks": "outside"
           }
          },
          "scene": {
           "xaxis": {
            "backgroundcolor": "white",
            "gridcolor": "rgb(232,232,232)",
            "gridwidth": 2,
            "linecolor": "rgb(36,36,36)",
            "showbackground": true,
            "showgrid": false,
            "showline": true,
            "ticks": "outside",
            "zeroline": false,
            "zerolinecolor": "rgb(36,36,36)"
           },
           "yaxis": {
            "backgroundcolor": "white",
            "gridcolor": "rgb(232,232,232)",
            "gridwidth": 2,
            "linecolor": "rgb(36,36,36)",
            "showbackground": true,
            "showgrid": false,
            "showline": true,
            "ticks": "outside",
            "zeroline": false,
            "zerolinecolor": "rgb(36,36,36)"
           },
           "zaxis": {
            "backgroundcolor": "white",
            "gridcolor": "rgb(232,232,232)",
            "gridwidth": 2,
            "linecolor": "rgb(36,36,36)",
            "showbackground": true,
            "showgrid": false,
            "showline": true,
            "ticks": "outside",
            "zeroline": false,
            "zerolinecolor": "rgb(36,36,36)"
           }
          },
          "shapedefaults": {
           "fillcolor": "black",
           "line": {
            "width": 0
           },
           "opacity": 0.3
          },
          "ternary": {
           "aaxis": {
            "gridcolor": "rgb(232,232,232)",
            "linecolor": "rgb(36,36,36)",
            "showgrid": false,
            "showline": true,
            "ticks": "outside"
           },
           "baxis": {
            "gridcolor": "rgb(232,232,232)",
            "linecolor": "rgb(36,36,36)",
            "showgrid": false,
            "showline": true,
            "ticks": "outside"
           },
           "bgcolor": "white",
           "caxis": {
            "gridcolor": "rgb(232,232,232)",
            "linecolor": "rgb(36,36,36)",
            "showgrid": false,
            "showline": true,
            "ticks": "outside"
           }
          },
          "title": {
           "x": 0.05
          },
          "xaxis": {
           "automargin": true,
           "gridcolor": "rgb(232,232,232)",
           "linecolor": "rgb(36,36,36)",
           "showgrid": false,
           "showline": true,
           "ticks": "outside",
           "title": {
            "standoff": 15
           },
           "zeroline": false,
           "zerolinecolor": "rgb(36,36,36)"
          },
          "yaxis": {
           "automargin": true,
           "gridcolor": "rgb(232,232,232)",
           "linecolor": "rgb(36,36,36)",
           "showgrid": false,
           "showline": true,
           "ticks": "outside",
           "title": {
            "standoff": 15
           },
           "zeroline": false,
           "zerolinecolor": "rgb(36,36,36)"
          }
         }
        },
        "title": {
         "font": {
          "color": "Black",
          "size": 22
         },
         "text": "<b>Documents and Topics</b>",
         "x": 0.5,
         "xanchor": "center",
         "yanchor": "top"
        },
        "width": 1200,
        "xaxis": {
         "visible": false
        },
        "yaxis": {
         "visible": false
        }
       }
      }
     },
     "metadata": {},
     "output_type": "display_data"
    }
   ],
   "source": [
    "model.visualize_documents(questions)"
   ]
  },
  {
   "cell_type": "code",
   "execution_count": 11,
   "metadata": {},
   "outputs": [],
   "source": [
    "#USING DIFFERENT WORD EMBEDDINGS\n",
    "#USING SENTENCE TRANSFORMER\n",
    "\"\"\"\n",
    "    The all-mpnet-base-v2 model provides superior accuracy and a deeper understanding of the context and nuances in the text.\n",
    "    Given the manageable size of your dataset (200-300 questions), \n",
    "    the additional computational resources required by this model are justified by the improved performance and precision.  \n",
    "    Recommendation : huggingface transformer model sentence-transformers/stsb-roberta-large is best for this with best accuracy as far as i could find,\n",
    "    but requires so much computation my little laptop cannot handle.\n",
    "    even this model all-mpnet-base-v2 is heavy but i can manage it. like it takes 4-5 minutes to run the model.  \n",
    "\"\"\"\n",
    "sentence_model = SentenceTransformer('all-mpnet-base-v2')"
   ]
  },
  {
   "cell_type": "code",
   "execution_count": 12,
   "metadata": {},
   "outputs": [],
   "source": [
    "model  = BERTopic(embedding_model=sentence_model)\n",
    "topics, probs = model.fit_transform(questions)"
   ]
  },
  {
   "cell_type": "code",
   "execution_count": 13,
   "metadata": {},
   "outputs": [
    {
     "data": {
      "text/html": [
       "<div>\n",
       "<style scoped>\n",
       "    .dataframe tbody tr th:only-of-type {\n",
       "        vertical-align: middle;\n",
       "    }\n",
       "\n",
       "    .dataframe tbody tr th {\n",
       "        vertical-align: top;\n",
       "    }\n",
       "\n",
       "    .dataframe thead th {\n",
       "        text-align: right;\n",
       "    }\n",
       "</style>\n",
       "<table border=\"1\" class=\"dataframe\">\n",
       "  <thead>\n",
       "    <tr style=\"text-align: right;\">\n",
       "      <th></th>\n",
       "      <th>Topic</th>\n",
       "      <th>Count</th>\n",
       "      <th>Name</th>\n",
       "      <th>Representation</th>\n",
       "      <th>Representative_Docs</th>\n",
       "    </tr>\n",
       "  </thead>\n",
       "  <tbody>\n",
       "    <tr>\n",
       "      <th>0</th>\n",
       "      <td>-1</td>\n",
       "      <td>29</td>\n",
       "      <td>-1_the_of_in_discuss</td>\n",
       "      <td>[the, of, in, discuss, india, for, was, factor...</td>\n",
       "      <td>[Identify and discuss the factors responsible ...</td>\n",
       "    </tr>\n",
       "    <tr>\n",
       "      <th>1</th>\n",
       "      <td>0</td>\n",
       "      <td>83</td>\n",
       "      <td>0_the_of_in_india</td>\n",
       "      <td>[the, of, in, india, is, and, to, discuss, wom...</td>\n",
       "      <td>[In the context of the diversity of India, can...</td>\n",
       "    </tr>\n",
       "    <tr>\n",
       "      <th>2</th>\n",
       "      <td>1</td>\n",
       "      <td>62</td>\n",
       "      <td>1_the_of_and_in</td>\n",
       "      <td>[the, of, and, in, water, how, on, are, why, w...</td>\n",
       "      <td>[What do you understand by the phenomenon of ‘...</td>\n",
       "    </tr>\n",
       "    <tr>\n",
       "      <th>3</th>\n",
       "      <td>2</td>\n",
       "      <td>44</td>\n",
       "      <td>2_the_of_and_to</td>\n",
       "      <td>[the, of, and, to, in, british, india, what, w...</td>\n",
       "      <td>[How did the colonial rule affect the tribals ...</td>\n",
       "    </tr>\n",
       "    <tr>\n",
       "      <th>4</th>\n",
       "      <td>3</td>\n",
       "      <td>17</td>\n",
       "      <td>3_the_art_of_and</td>\n",
       "      <td>[the, art, of, and, indian, architecture, in, ...</td>\n",
       "      <td>[Indian Philosophy and tradition played a sign...</td>\n",
       "    </tr>\n",
       "  </tbody>\n",
       "</table>\n",
       "</div>"
      ],
      "text/plain": [
       "   Topic  Count                  Name  \\\n",
       "0     -1     29  -1_the_of_in_discuss   \n",
       "1      0     83     0_the_of_in_india   \n",
       "2      1     62       1_the_of_and_in   \n",
       "3      2     44       2_the_of_and_to   \n",
       "4      3     17      3_the_art_of_and   \n",
       "\n",
       "                                      Representation  \\\n",
       "0  [the, of, in, discuss, india, for, was, factor...   \n",
       "1  [the, of, in, india, is, and, to, discuss, wom...   \n",
       "2  [the, of, and, in, water, how, on, are, why, w...   \n",
       "3  [the, of, and, to, in, british, india, what, w...   \n",
       "4  [the, art, of, and, indian, architecture, in, ...   \n",
       "\n",
       "                                 Representative_Docs  \n",
       "0  [Identify and discuss the factors responsible ...  \n",
       "1  [In the context of the diversity of India, can...  \n",
       "2  [What do you understand by the phenomenon of ‘...  \n",
       "3  [How did the colonial rule affect the tribals ...  \n",
       "4  [Indian Philosophy and tradition played a sign...  "
      ]
     },
     "execution_count": 13,
     "metadata": {},
     "output_type": "execute_result"
    }
   ],
   "source": [
    "model.get_topic_info()"
   ]
  },
  {
   "cell_type": "code",
   "execution_count": 14,
   "metadata": {},
   "outputs": [],
   "source": [
    "from sklearn.manifold import TSNE\n",
    "import matplotlib.pyplot as plt\n",
    "import numpy as np\n",
    "embeddings = model._extract_embeddings(questions)\n",
    "tsne = TSNE(n_components=2,random_state=42)\n",
    "reduced = tsne.fit_transform(embeddings)"
   ]
  },
  {
   "cell_type": "code",
   "execution_count": 15,
   "metadata": {},
   "outputs": [
    {
     "data": {
      "image/png": "[encoded data removed]",
      "text/plain": [
       "<Figure size 1000x500 with 1 Axes>"
      ]
     },
     "metadata": {},
     "output_type": "display_data"
    }
   ],
   "source": [
    "plt.figure(figsize=(10,5))\n",
    "plt.scatter(reduced[:,0], reduced[:,1])\n",
    "plt.title(\"TSNE of Questions\")\n",
    "plt.xlabel(\"TSNE 1\")\n",
    "plt.ylabel(\"TSNE 2\")\n",
    "plt.show()"
   ]
  },
  {
   "cell_type": "code",
   "execution_count": 16,
   "metadata": {},
   "outputs": [
    {
     "data": {
      "application/vnd.plotly.v1+json": {
       "config": {
        "plotlyServerURL": "https://plot.ly"
       },
       "data": [
        {
         "hoverinfo": "text",
         "hovertext": [
          "Why was there a sudden spurt in famines in colonial India since the mid-eighteenth century? Give reasons.",
          "Krishnadeva Raya, the King of Vijayanagar, was not only an accomplished scholar himself but was also a great patron of learning and literature. Discuss.",
          "Analyze the factors for the highly decentralized cotton textile industry in India.",
          "Why did the industrial revolution first occur in England? Discuss the quality of life of the people there during the industrialization. How does it compare with that in India at present times?",
          "Identify and discuss the factors responsible for diversity of natural vegetation in India. Assess the significance of wildlife sanctuaries in rain forests regions of India.",
          "Examine how the decline of traditional artisanal industry in colonial India crippled the rural economy.",
          "Assess the main administrative issues and socio-cultural problems in the integration process of Indian Princely States.",
          "Mention the advantages of the cultivation of pulses because of which the year 2016 was declared as the International Year of Pulses by United Nations.",
          "‘Latecomer’ Industrial Revolution in Japan involved certain factors that were markedly different from what West had experienced.” Analyze.",
          "“Africa was chopped into states artificially created by accidents of European competition.” Analyze.",
          "Has the formation of linguistic States strengthened the cause of Indian Unity?",
          "Discuss the role of women in the freedom struggle especially during the Gandhian phase.",
          "Defying the barriers of age, gender and religion, the Indian women became the torchbearer during the struggle for freedom in India. Discuss.",
          "Taxila university was one of the oldest universities of the world with which were associated a number of renowned learned personalities of different disciplines. Its strategic location caused its fame to flourish, but unlike Nalanda, it is not considered as a university in the modern sense. Discuss.",
          "Why did the Green Revolution in India virtually by-pass the eastern region despite fertile soil and good availability of water?",
          "Growing feeling of regionalism is an important factor in generation of demand for a separate state. Discuss.",
          "Describing the distribution of rubber producing countries, indicate the major environmental issues faced by them.",
          "Why are the tribals in India referred to as 'the Scheduled Tribes? Indicate the major provisions in the Constitution of India for their upliftment.",
          "From being net food importer in 1960s, India has emerged as a net food exporter to the world. Provide reasons.",
          "Evaluate the nature of the Bhakti Literature and its contribution to Indian culture.",
          "The Bhakti movement received a remarkable re-orientation with the advent of Sri Chaitanya Mahaprabhu. Discuss.",
          "Explain the role of geographical factors towards the development of Ancient India.",
          "Defining blue revolution, explain the problems and strategies for pisciculture development in India.",
          "Discuss whether formation of new states in recent times is beneficial or not for the economy of India.",
          "Discuss the factors for localisation of agro-based food processing industries of North-West India.",
          "Discuss the natural resource potentials of ‘Deccan trap’.",
          "Discuss the multi-dimensional implications of uneven distribution of mineral oil in the world.",
          "To what extent has the urban planning and culture of the Indus Valley Civilization provided inputs to the present day urbanization?\nDiscuss.",
          "What were the major technological changes introduced during the Sultanate period? How did those technological changes influence the Indian society?",
          null
         ],
         "marker": {
          "color": "#CFD8DC",
          "opacity": 0.5,
          "size": 5
         },
         "mode": "markers+text",
         "name": "other",
         "showlegend": false,
         "type": "scattergl",
         "x": [
          8.286503791809082,
          11.234979629516602,
          7.376670837402344,
          8.271098136901855,
          5.363770961761475,
          8.189756393432617,
          8.664477348327637,
          7.503610134124756,
          8.181635856628418,
          8.799500465393066,
          8.468118667602539,
          10.540671348571777,
          10.536636352539062,
          11.665006637573242,
          6.107619762420654,
          8.42288589477539,
          5.691481113433838,
          9.354774475097656,
          7.532284259796143,
          11.375791549682617,
          10.980440139770508,
          11.665099143981934,
          5.8492255210876465,
          8.308206558227539,
          7.458303928375244,
          5.389930725097656,
          5.809496879577637,
          7.0043768882751465,
          11.771883964538574,
          8.476007461547852
         ],
         "y": [
          6.405003547668457,
          6.903256416320801,
          7.33542537689209,
          6.411312103271484,
          6.716869831085205,
          6.475525379180908,
          7.318996906280518,
          7.176101207733154,
          6.475435256958008,
          6.82866907119751,
          7.360841751098633,
          6.2459235191345215,
          6.49370002746582,
          7.127747535705566,
          6.626667022705078,
          7.40103006362915,
          7.411874771118164,
          7.118927001953125,
          7.184417724609375,
          7.355507850646973,
          7.167354106903076,
          7.848881244659424,
          6.650277614593506,
          7.233841896057129,
          7.2381744384765625,
          6.8708577156066895,
          7.498608112335205,
          8.292768478393555,
          7.7622222900390625,
          7.066766738891602
         ]
        },
        {
         "hoverinfo": "text",
         "hovertext": [
          "Smart cities in India cannot sustain without smart vilages. Discuss this statement in the backdrop of rural urban integration.",
          "Are tolerance, assimilation and pluralism the key elements in the making of an Indian form of secularism? Justify your answer.",
          "Given the diversities among the tribal communities in India, in which specific contexts should they be considered as a single category?",
          "Critically examine whether growing population is the cause of poverty OR poverty is the mains cause of population increase in India.",
          "‘Despite implementation of various programmes for eradication of poverty by the government in India, poverty is still existing’. Explain by giving reasons.",
          "How does India see its place in the economic space of rising natural resources rich Africa?",
          "“The growth of cities as I.T. hubs has opened up new avenues of employment, but has also created new problems”. Substantiate this statement with examples",
          "Why is India considered as a sub-continent? Elaborate your answer.",
          "Child cuddling is now being replaced by mobile phones. Discuss its impact on the socialization of children.",
          "Do we have cultural pockets of small India all over the nation? Elaborate with examples.",
          "Do you agree that there is a growing trend of opening new sugar mills in southern states of India? Discuss with justification.",
          "What is the basis of regionalism? Is it that unequal distribution of benefits of development on regional basis eventually promotes regionalism? Substantiate your answer.",
          "Discuss the various economic and\nsocio-cultural forces that are driving increasing feminization of agriculture in India.",
          "What is Cryptocurrency? How does it affect global society? Has it been affecting Indian society also?",
          "How do you explain the statistics that show that the sex ratio in Tribes in India is more favourable to women than the sex ratio among Scheduled Castes?",
          "\"An essential condition to eradicate poverty is to liberate the poor from the process of deprivation.\" Substantiate this statement with suitable examples.",
          "How have digital initiatives in India contributed to the functioning of the education system in the country? Elaborate your answer.",
          "Do you think marriage as a sacrament in loosing its value in Modern India?",
          "How does patriarchy impact the position of a middle class working woman in India?",
          "India has immense potential of solar energy though there are regional variations in its developments. Elaborate.",
          "How do the Indian debates on secularism differ from the debates in the West?",
          "Distinguish between religiousness/religiosity and communalism giving one example of how the former has got transformed into the latter in independent India.",
          "Debate the issue whether and how contemporary movements for assertion of Dalit identity work towards annihilation of caste.",
          "Analyze the salience of ‘sect’ in Indian society vis-a-vis caste, region and religion.",
          "“Empowering women is the key to control population growth.” Discuss.",
          "Can the strategy of regional resource-based manufacturing help in promoting employment in India?",
          "Why is caste identity in India both fluid and static?",
          "“Caste system is assuming new identities and associational forms. Hence, caste system cannot be eradicated in India.”",
          "Does urbanization lead to more segregation and/or marginalization of the poor in Indian metropolises?",
          "Critically examine the effect of globalization on the aged population in India.",
          "How is efficient and affordable urban mass transport key to the rapid economic development in India?",
          "The life cycle of a joint family depends on economic factors rather than social values. Discuss.",
          "Trace the rise and growth of socio-religious reform movements with special reference to Young Bengal and Brahmo Samaj.",
          "Globalisation is generally said to promote cultural homogenisation but due to this cultural specificities appear to be strengthened in the Indian society.’ Elucidate.",
          "‘Women’s movement in India has not addressed the issues of women of lower social strata.’ Substantiate your view.",
          "With a brief background of quality of urban life in India, introduce the objectives and strategy of the 'Smart City Programme'.",
          "Discuss the changes in the trends of labour migration within and outside India in the last four decades.",
          "Discuss the impact of post-liberal economy on ethnic identity and communalism.",
          "Discuss the positive and negative effects of globalization on women in India?",
          "It is said that India has substantial reserves of shale oil and gas, which can feed the needs of the country for quarter century. However, tapping of the resource does not appear to be high on the agenda. Discuss critically the availability and issues involved.",
          "The spirit of tolerance and love is not only an interesting feature of Indian society from very early times, but it is also playing an important part at the present. Elaborate.",
          "What are the main socio-economic implications arising out of the development of IT industries in major cities of India?",
          "What makes the Indian society unique in sustaining its culture? Discuss.",
          "Examine the potential of wind energy in India and explain the reasons for their limited spatial spread.",
          "Discuss the main objectives of Population Education and point out the measures to achieve them in India in detail.",
          "Examine the uniqueness of tribal knowledge system when compared with mainstream knowledge and cultural systems.",
          "What is the significance of Industrial Corridors in India? Identifying industrial corridors, explain their main characteristics.",
          "Do you agree that regionalism in India appears to be a consequence of rising cultural assertiveness? Argue.",
          "Discuss the various social problems which originated out of the speedy process of urbanization in India.",
          "Why did human development fail to keep pace with economic development in India?",
          "With growing scarcity of fossil fuels, the atomic energy is gaining more and more significance in India. Discuss the availability of raw material required for the generation of atomic energy in India and in the world.",
          "Is diversity and pluralism in India under threat due to globalisation? Justify your answer.",
          "What are the main features of Vedic society and religion? Do you think some of the features are still prevailing in Indian society?",
          "Customs and traditions suppress reason leading to obscurantism. Do you agree?",
          "How does Indian society maintain continuity in traditional social values? Enumerate the changes taking place in it.",
          "Sufis and medieval saints failed to modify either the religious ideas and practices or the outward structure of Hindu/ Muslim societies to any appreciable extent. Comment.",
          "Account for the change in the spatial pattern of the Iron and Steel industry in the world.",
          "The women’s questions arose in modern India as a part of the 19th century social reform movement. What are the major issues and debates concerning women in that period?",
          "Petroleum refineries are not necessarily located nearer to crude oil producing areas, particularly in many of the developing countries. Explain its implications.",
          "Mention core strategies for the transformation of aspirational districts in India and explain the nature of convergence, collaboration and competition for its success.",
          "What are the challenges to our cultural practices in the name of secularism?",
          "Account for the present location of iron and steel industries away from the source of raw material, by giving examples.",
          "Are we losing our local identity for the global identity? Discuss.",
          "Elucidate the relationship between globalization and new technology in a world of scarce resources, with special reference to India.",
          "Write a critical note on the evolution and significance of the slogan, ‘Jai Jawan, Jai Kisan’.",
          "COVID-19 pandemic accelerated class inequalities and poverty in India. Comment.",
          "Examine the role of ‘Gig Economy’ in the process of empowerment of women in India.",
          "Bring out the socio-economic effects of the introduction of railways in different countries of the world",
          "Why do some of the most prosperous regions of India have an adverse sex ratio for women? Give your arguments.",
          "Explain why suicide among young women is increasing in Indian Society.",
          "How the Indian concept of secularism different from the western model of secularism?\nDiscuss.",
          "“Male membership needs to be encouraged in order to make women’s organization free from gender bias.” Comment.",
          "How is the growth of Tier 2 cities related to the rise of a new middle class with an emphasis on the culture of consumption?",
          "Explore and evaluate the impact of ‘Work From Home’ on family relationships.",
          "‘Communalism arises either due to power struggle or relative deprivation.’ Argue by giving suitable illustrations.",
          "What are the continued challenges for women in India against time and space?",
          "Describe any four cultural elements of diversity in India and rate their relative significance in building a national identity.",
          "Despite India being one of the countries of the Gondwanaland, its mining industry contributes much less to its Gross Domestic Product(GDP) in percentage. Discuss.",
          "In the context of the diversity of India, can it be said that the regions form cultural units rather than the States? Give reasons with examples for your view point.",
          "Mumbai, Delhi and Kolkata are the three Mega cities of the country but the air pollution is much more serious probelm in Delhi as compared to the other two. Why is this so?",
          "“Inspite of adverse environmental impact, coal mining is still inevitable for development”.\nDiscuss",
          "Has caste lost its relevance in understanding the multi- cultural Indian Society? Elaborate your answer with illustrations.",
          "To what extent globalization has influenced the core of cultural diversity in India? Explain.",
          null
         ],
         "marker": {
          "opacity": 0.5,
          "size": 5
         },
         "mode": "markers+text",
         "name": "0_the_of_in",
         "text": [
          "",
          "",
          "",
          "",
          "",
          "",
          "",
          "",
          "",
          "",
          "",
          "",
          "",
          "",
          "",
          "",
          "",
          "",
          "",
          "",
          "",
          "",
          "",
          "",
          "",
          "",
          "",
          "",
          "",
          "",
          "",
          "",
          "",
          "",
          "",
          "",
          "",
          "",
          "",
          "",
          "",
          "",
          "",
          "",
          "",
          "",
          "",
          "",
          "",
          "",
          "",
          "",
          "",
          "",
          "",
          "",
          "",
          "",
          "",
          "",
          "",
          "",
          "",
          "",
          "",
          "",
          "",
          "",
          "",
          "",
          "",
          "",
          "",
          "",
          "",
          "",
          "",
          "",
          "",
          "",
          "",
          "",
          "",
          "0_the_of_in"
         ],
         "textfont": {
          "size": 12
         },
         "type": "scattergl",
         "x": [
          7.171883583068848,
          10.209095001220703,
          9.312939643859863,
          7.823652744293213,
          7.860954284667969,
          6.765406608581543,
          7.192440509796143,
          11.450796127319336,
          8.728033065795898,
          8.685968399047852,
          7.242111682891846,
          8.452449798583984,
          8.336981773376465,
          8.183019638061523,
          8.506535530090332,
          7.94809103012085,
          7.664031982421875,
          9.609130859375,
          8.358418464660645,
          6.356265068054199,
          10.212347984313965,
          9.856395721435547,
          9.638089179992676,
          9.856063842773438,
          8.107353210449219,
          7.19021463394165,
          9.597872734069824,
          9.732083320617676,
          7.40944766998291,
          8.5216646194458,
          7.215068817138672,
          8.772956848144531,
          10.340438842773438,
          8.800555229187012,
          8.25929069519043,
          7.0574493408203125,
          8.28952407836914,
          9.031187057495117,
          8.337079048156738,
          5.902915000915527,
          10.088971138000488,
          7.36542272567749,
          9.466978073120117,
          6.402684211730957,
          7.9105939865112305,
          9.369114875793457,
          7.064455986022949,
          8.494726181030273,
          7.603852272033691,
          7.616450786590576,
          6.275857925415039,
          8.830409049987793,
          9.64562702178955,
          10.327781677246094,
          9.516311645507812,
          10.44482135772705,
          6.469326019287109,
          8.406063079833984,
          5.838951587677002,
          7.685553073883057,
          10.236472129821777,
          6.358461380004883,
          8.968231201171875,
          7.772861003875732,
          10.288857460021973,
          7.633881568908691,
          8.088140487670898,
          7.120021343231201,
          8.303085327148438,
          8.297919273376465,
          10.21024227142334,
          8.177092552185059,
          7.192077159881592,
          8.66520881652832,
          8.967403411865234,
          8.397599220275879,
          9.237920761108398,
          6.323586940765381,
          8.6765718460083,
          7.024018287658691,
          5.974628925323486,
          9.564329147338867,
          8.672015190124512,
          8.34892463684082
         ],
         "y": [
          8.427003860473633,
          8.034538269042969,
          7.6914753913879395,
          9.053905487060547,
          9.131038665771484,
          7.587531566619873,
          8.46822452545166,
          8.005091667175293,
          8.904134750366211,
          7.7442121505737305,
          7.45050048828125,
          7.658763885498047,
          9.088932037353516,
          8.484529495239258,
          9.394125938415527,
          9.233444213867188,
          8.728086471557617,
          8.499459266662598,
          9.39017105102539,
          7.174804210662842,
          8.164016723632812,
          7.889344215393066,
          8.751265525817871,
          8.13677978515625,
          9.367582321166992,
          7.779514312744141,
          8.620936393737793,
          8.811473846435547,
          8.752464294433594,
          8.180173873901367,
          8.381165504455566,
          8.86626148223877,
          7.835960865020752,
          8.045424461364746,
          9.568804740905762,
          8.518726348876953,
          8.18366813659668,
          8.47163200378418,
          8.55547046661377,
          7.502154350280762,
          7.850363254547119,
          8.435006141662598,
          8.021806716918945,
          7.171303749084473,
          9.10091781616211,
          7.686826705932617,
          7.942777633666992,
          7.687690734863281,
          8.330409049987793,
          8.216526985168457,
          7.268828868865967,
          8.063545227050781,
          8.109838485717773,
          8.24255084991455,
          8.243298530578613,
          8.10134220123291,
          7.8335795402526855,
          9.467068672180176,
          7.485264778137207,
          8.698116302490234,
          8.179636001586914,
          7.733747959136963,
          8.20307445526123,
          7.832505226135254,
          7.558683395385742,
          9.098762512207031,
          8.831574440002441,
          8.039061546325684,
          9.296791076660156,
          9.283829689025879,
          8.179161071777344,
          9.463126182556152,
          8.483621597290039,
          8.997310638427734,
          8.596475601196289,
          9.438681602478027,
          7.834421157836914,
          7.661132335662842,
          7.572754383087158,
          8.667550086975098,
          7.627403259277344,
          8.664619445800781,
          8.08833122253418,
          8.335206031799316
         ]
        },
        {
         "hoverinfo": "text",
         "hovertext": [
          "How can the mountain ecosystem be restored from the negative impact of development initiatives and tourism?",
          "Account for variations in oceanic salinity and discuss its multi-dimensional effects.",
          "Explain the formation of thousands of islands in Indonesian and Philipines archipelagos.",
          "Discuss the geophysical characteristics of Circum- Pacific Zone.",
          "Bring out the relationship between the shrinking Himalayan glaciers and the symptoms of climate change in the Indian sub-continent.",
          "South China Sea has assumed great geopolitical significance in the present context. Comment.",
          "How are the fjords formed? Why do they constitute some of the most picturesque areas of the world?",
          "Major hot deserts in northern hemisphere are located between 20-30 deg N latitudes and on the western sides of the continents. Why?",
          "Most of the unusual climatic happenings are explained as an outcome of the El-Nino effect. Do you agree?",
          "What is water stress? How and why does it differ regionally in India?",
          "Discuss the consequences of climate change on the food security in tropical countries.",
          "Define mantle plume and explain its role in plate tectonics.",
          "The states of Jammu and Kashmir, Himachal Pradesh and Uttarakhand are reaching the limits of ecological carrying capacity due to tourism. Critically evaluate.",
          "Why are the world’s fold mountain systems located along the margins of continents? Bring out the association between the global distribution of fold mountains and the earthquakes and volcanoes.",
          "The interlinking of rivers can provide viable solutions to the multi-dimensional inter-related problems of droughts, floods and interrupted navigation. Critically examine.",
          "Mention the significance of straits and isthmus in international trade.",
          "There is no formation of deltas by rivers on the Western Ghats. Why?",
          "Bring out the causes for more frequent occurrence of landslides in the Himalayas than in the Western Ghats.",
          "Why is the South-West monsoon called ‘Purvaiya’ (easterly) in Bhojpur Region? How has this directional seasonal wind system influenced the cultural ethos of the region?",
          "How do ocean currents and water masses differ in their impacts on marine life and coastal environment? Give suitable examples.",
          "Briefly mention the alignment of major mountain ranges of the world and explain their impact on local weather conditions, with examples.",
          "How will the melting of Himalayan glaciers have a far- reaching impact on the water resources of India?",
          "Account for the huge flooding of million cities in India including the smart ones like Hyderabad and Pune. Suggest lasting remedial measures.",
          "Assess the impact of global warming on the coral life system with examples.",
          "The process of desertification does not have climate boundaries. Justify with examples.",
          "Why is India taking keen interest in the Arctic region?",
          "How do the melting of the Arctic ice and glaciers of the Antarctic differently affect the weather patterns and human activities on the Earth? Explain.",
          "Differentiate the causes of landslides in the Himalayan region and Western Ghats.",
          "Discuss the meaning of colour-coded weather warnings for cyclone prone areas given by India Meteorological department.",
          "\"The Himalayas are highly prone to landslides.\" Discuss the causes and suggest suitable measures of mitigation.",
          "Discuss the concept of air mass and explain its role in macro-climatic changes.",
          "What characteristics can be assigned to monsoon climate that succeeds in feeding more than 50 percent of the world population residing in Monsoon Asia?",
          "Present an account of the Indus Water Treaty and examine its ecological, economic and political implications in the context of changing bilateral relations.",
          "The effective management of land and water resources will drastically reduce the human miseries. Explain.",
          "Critically evaluate the various resources of the oceans which can be harnessed to meet the resource crisis in the world.",
          "India is well endowed with fresh water resources. Critically examine why it still suffers from water scarcity.",
          "In what way can floods be converted into a sustainable source of irrigation and all-weather inland navigation in India?",
          "Describe the characteristics and types of primary rocks.",
          "Tropical cyclones are largely confined to South China Sea, Bay of Bengal and Gulf of Mexico. Why?",
          "Comment on the resource potentials of the long coastline of India and highlight the status of natural hazard preparedness in these areas.",
          "Major cities of India are becoming more vulnerable to flood conditions. Discuss.",
          "How does the cryosphere affect global climate?",
          "The recent cyclone on the east coast of India was called ‘Phailin’. How are the tropical cyclones named across the world? Elaborate.",
          "What are the forces that influence ocean currents? Describe their role in fishing industry of the world.",
          "what are the environmental implications of the reclamation of the water bodies into urban land use? Explain with examples.",
          "Bring out the causes for the formation of heat islands in the urban habitat of the world.",
          "How far do you agree that the behaviour of the Indian monsoon has been changing due to humanizing landscape? Discuss.",
          "Discuss the causes of depletion of mangroves and explain their importance in maintaining coastal ecology.",
          "Mention the global occurrence of volcanic eruptions in 2021 and their impact on regional environment.",
          "Why is Indian Regional Navigational Satellite System (IRNSS) needed? How does it help in navigation?",
          "Explain the factors responsible for the origin of ocean currents. How do they influence regional climates, fishing and navigation?",
          "Why is the world today confronted with a crisis of availability of and access to freshwater resources?",
          "How does the Juno Mission of NASA help to understand the origin and evolution of the Earth?",
          "What are the economic significances of discovery of oil in Arctic Sea and its possible environemental consequences?",
          "What do you understand by the phenomenon of ‘temperature inversion’ in meteorology? How does it affect weather and the habitants of the place?",
          "Enumerate the problems and prospects of inland water transport in India.",
          "“The ideal solution of depleting ground water resources in India is water harvesting system.” How can it be made effective in urban areas?",
          "What do you understand by the theory of continental drift? Discuss the prominent evidences in its support.",
          "Examine the status of forest resources of India and its resultant impact on climate change.",
          "In what way micro-watershed development projects help in water conservation in\ndrought-prone and semi-arid regions of India?",
          "Troposphere is a very significant atmospheric layer that determines weather processes.\nHow?",
          "What are the consequences of spreading of ‘Dead Zones’ on marine ecosystem?",
          null
         ],
         "marker": {
          "opacity": 0.5,
          "size": 5
         },
         "mode": "markers+text",
         "name": "1_the_of_and",
         "text": [
          "",
          "",
          "",
          "",
          "",
          "",
          "",
          "",
          "",
          "",
          "",
          "",
          "",
          "",
          "",
          "",
          "",
          "",
          "",
          "",
          "",
          "",
          "",
          "",
          "",
          "",
          "",
          "",
          "",
          "",
          "",
          "",
          "",
          "",
          "",
          "",
          "",
          "",
          "",
          "",
          "",
          "",
          "",
          "",
          "",
          "",
          "",
          "",
          "",
          "",
          "",
          "",
          "",
          "",
          "",
          "",
          "",
          "",
          "",
          "",
          "",
          "",
          "1_the_of_and"
         ],
         "textfont": {
          "size": 12
         },
         "type": "scattergl",
         "x": [
          5.059975624084473,
          4.043234825134277,
          3.521958827972412,
          3.414607048034668,
          3.911226749420166,
          4.645328998565674,
          3.9639852046966553,
          3.3283581733703613,
          3.5536563396453857,
          4.439344882965088,
          4.691066741943359,
          3.3087828159332275,
          5.352997303009033,
          3.4831037521362305,
          4.486800193786621,
          4.607473373413086,
          3.972088575363159,
          3.891604423522949,
          4.038795471191406,
          4.056024074554443,
          3.483248233795166,
          4.36090087890625,
          4.4646501541137695,
          4.119178295135498,
          3.4301512241363525,
          4.614239692687988,
          3.4794414043426514,
          3.886870861053467,
          4.020159721374512,
          3.8578896522521973,
          3.324854850769043,
          4.029959201812744,
          4.7350311279296875,
          5.0416059494018555,
          4.391325950622559,
          4.628535270690918,
          4.449688911437988,
          3.812013864517212,
          3.8263885974884033,
          5.295828819274902,
          4.414241313934326,
          3.2599074840545654,
          3.9555552005767822,
          4.10564661026001,
          4.991934776306152,
          3.327918291091919,
          4.043511867523193,
          4.12091588973999,
          3.350189447402954,
          4.548492908477783,
          4.049298286437988,
          4.434911251068115,
          3.25457501411438,
          4.473055362701416,
          3.1903767585754395,
          4.6477952003479,
          4.687967777252197,
          3.544780969619751,
          5.136007785797119,
          4.5837531089782715,
          3.2317795753479004,
          4.159453868865967,
          4.10539436340332
         ],
         "y": [
          6.78940486907959,
          5.69561767578125,
          6.106710910797119,
          6.226008415222168,
          6.784668445587158,
          6.109902381896973,
          5.962975978851318,
          6.773654937744141,
          7.1772565841674805,
          7.448018550872803,
          6.703203201293945,
          6.250133991241455,
          6.778785705566406,
          6.30018424987793,
          7.240229606628418,
          6.019338607788086,
          6.9257354736328125,
          6.747221946716309,
          7.552061080932617,
          5.625535488128662,
          6.579710960388184,
          6.886319637298584,
          7.580118179321289,
          5.58348274230957,
          6.737464904785156,
          6.421632289886475,
          6.66281270980835,
          6.720736026763916,
          7.462474822998047,
          6.690942764282227,
          6.7428412437438965,
          7.39531946182251,
          6.871279716491699,
          7.433439254760742,
          5.931070327758789,
          7.318528652191162,
          7.3875274658203125,
          6.649593353271484,
          7.377511978149414,
          6.883453369140625,
          7.52593469619751,
          6.788154125213623,
          7.494817733764648,
          5.685572147369385,
          7.53703498840332,
          6.6136064529418945,
          7.470780372619629,
          5.602989673614502,
          6.285023212432861,
          7.104159355163574,
          5.750746250152588,
          7.013902187347412,
          6.280257701873779,
          6.104635715484619,
          6.727235317230225,
          7.397876739501953,
          7.46060848236084,
          6.114727020263672,
          6.6945719718933105,
          7.1463623046875,
          6.78087043762207,
          5.619912624359131,
          6.705366134643555
         ]
        },
        {
         "hoverinfo": "text",
         "hovertext": [
          "What were the events that led to the Suez Crisis in 1956? How did it deal a final blow to Britain’s self-image as a world power?",
          "In what ways did the navel mutiny prove to be the last nail in the coffin of British colonial aspirations in India?",
          "What were the major political, economic and social developments in the world which motivated the anti-colonial in India?",
          "Many voices had strengthened and enriched the nationalist movement during the Gandhian phase. Elaborate.",
          "To what extend can Germany be held responsible for causing the two World Wars? Discuss critically.",
          "Assess the role of British imperial power in complicating the process of transfer of power during the 1940s.",
          "What problems are germane to the decolonization process in the Malay Peninsula?",
          "The New Economic Policy – 1921 of Lenin had influenced the policies adopted by India soon after independence. Evaluate.",
          "How difficult would have been the achievement of Indian independence without Mahatma Gandhi? Discuss.",
          "Why indentured labour was taken by the British from India to their colonies? have they been able to preserve their cultural identity over there?",
          "It would have been difficult for the Constituent Assembly to complete its historic task of drafting the Constitution for Independent India in just three years, but its experience gained with the Government of India Act, 1935\n.Discuss.",
          "Critically discuss the objectives of Bhoodan and Gramdan movements initiated by AcharyaVinobhaBhave and their success.",
          "To what extent did the role of the moderates prepare a base for the wider freedom movement? Comment.",
          "Explain how the Uprising of 1857 constitutes an important watershed in the evolution of British policies towards colonial India.",
          "The 1857 uprising was the culmination of the recurrent, big and small local rebellions that had occurred in the preceding hundred years of British rule. Elucidate.",
          "The political and administrative reorganization of states and territories has been a continuous ongoing process since the mid-nineteenth century. Discuss with examples.",
          "“In many ways, Lord Dalhousie was the founder of modern India.” Elaborate.",
          "What policy instruments were deployed to contain the Great Economic Depression?",
          "Explain how the foundations of the modern world were laid by the American and French Revolutions.",
          "Highlight the importance of the new objectives that got added to the vision of Indian Independence since the twenties of the last century.",
          "Mahatma Gandhi and Dr. B R Ambedkar, despite having divergent approaches and strategies, had a common goal of amelioration of the downtrodden. Elucidate.",
          "How did the colonial rule affect the tribals in India and what was the tribal response to the colonial oppression?",
          "What was the difference between Mahatma Gandhi and Rabindranath Tagore in their approach towards education and nationalism?",
          "Examine critically the various facets of economic policies of the British in India from mid-eighteenth century till independence.",
          "Clarify how mid-eighteenth century India was beset with the spectre of a fragmented polity.",
          "Since the decade of the 1920s, the national movement acquired various ideological strands and thereby expanded its social base. Discuss.",
          "Why did the ‘Moderates’ failed to carry conviction with the nation about their proclaimed ideology and political goals by the end of the nineteenth century?",
          "Evaluate the policies of Lord Curzon and their long term implications on the national movements.",
          "The anti-colonial struggles in West Africa were led by the new elite of Western-educated Africans.",
          "Whereas the British planters had developed tea gardens all along the Shivaliks and Lesser Himalayas from Assam to Himachal Pradesh, in effect they did not succeed beyond the Darjeeling area. Explain.",
          "Though not very useful from the point of view of a connected political history of South India, the Sangam literature portrays the social and economic conditions of its time with remarkable vividness. Comment.",
          "Analyze the circumstances that led to the Tashkent Agreement in 1966. Discuss the highlights of the Agreement.",
          "Several foreigners made India their homeland and participated in various movements.\nAnalyze their role in the Indian struggle for freedom.",
          "Examine the linkages between the nineteenth century’s ‘Indian Renaissance’ and the emergence of national identity.",
          "“American Revolution was an economic revolt against mercantilism.” Substantiate.",
          "Discuss the contributions of MaulanaAbulKalam Azad to pre- and post-independent India.",
          "What are the two major legal initiatives by the State since Independence addressing discrimination against Scheduled Tribes(STs)?",
          "Highlight the differences in the approach of Subhash Chandra Bose and Mahatma Gandhi in the struggle for freedom.",
          "Throw light on the significance of the thoughts of Mahatma Gandhi in the present times.",
          "Critically examine the compulsions which prompted India to play a decisive role in the emergence of Bangladesh.",
          "Why did the armies of the British East India Company – mostly comprising of Indian soldiers – win consistently against the more numerous and better equipped armies of the Indian rulers? Give reasons.",
          "” There arose a serious challenge to the Democratic State System between the two World Wars.” Evaluate the statement.",
          "Bring out the constructive programmes of Mahatma Gandhi during Non-Cooperation Movement and Civil Disobedience Movement.",
          "The third battle of Panipat was fought in 1761. Why were so many empire-shaking battles fought at Panipat?",
          null
         ],
         "marker": {
          "opacity": 0.5,
          "size": 5
         },
         "mode": "markers+text",
         "name": "2_the_of_and",
         "text": [
          "",
          "",
          "",
          "",
          "",
          "",
          "",
          "",
          "",
          "",
          "",
          "",
          "",
          "",
          "",
          "",
          "",
          "",
          "",
          "",
          "",
          "",
          "",
          "",
          "",
          "",
          "",
          "",
          "",
          "",
          "",
          "",
          "",
          "",
          "",
          "",
          "",
          "",
          "",
          "",
          "",
          "",
          "",
          "",
          "2_the_of_and"
         ],
         "textfont": {
          "size": 12
         },
         "type": "scattergl",
         "x": [
          9.186726570129395,
          9.377498626708984,
          9.311957359313965,
          10.289751052856445,
          9.374918937683105,
          9.232860565185547,
          9.064678192138672,
          9.55318832397461,
          10.53227424621582,
          9.565763473510742,
          10.19525146484375,
          10.874000549316406,
          9.975679397583008,
          9.264837265014648,
          9.607743263244629,
          8.739310264587402,
          11.057584762573242,
          9.255970001220703,
          9.405183792114258,
          10.136327743530273,
          10.87802791595459,
          9.364965438842773,
          10.662555694580078,
          9.278786659240723,
          9.922199249267578,
          9.926765441894531,
          9.983124732971191,
          9.859501838684082,
          9.291413307189941,
          8.445622444152832,
          10.104023933410645,
          9.07969856262207,
          10.15550422668457,
          10.09355354309082,
          9.365264892578125,
          10.270821571350098,
          9.324787139892578,
          10.721245765686035,
          10.82282829284668,
          9.97077465057373,
          8.89920711517334,
          9.427594184875488,
          10.824811935424805,
          8.859335899353027,
          9.762133598327637
         ],
         "y": [
          5.858769416809082,
          6.356979846954346,
          6.503754615783691,
          5.92214822769165,
          5.795910358428955,
          5.776437759399414,
          6.646564960479736,
          6.508986949920654,
          6.16835355758667,
          6.601782321929932,
          6.3076701164245605,
          7.011613845825195,
          5.703282833099365,
          6.056425094604492,
          6.171451091766357,
          7.0729594230651855,
          6.658363342285156,
          6.532587051391602,
          5.9520039558410645,
          6.335159778594971,
          6.293237686157227,
          6.793861389160156,
          6.1709747314453125,
          6.314575672149658,
          6.736042499542236,
          5.669224262237549,
          5.72208833694458,
          5.752647876739502,
          6.533337593078613,
          6.257228374481201,
          6.874518394470215,
          5.718559265136719,
          6.35202169418335,
          6.523466110229492,
          6.128463268280029,
          6.290569305419922,
          7.047356128692627,
          6.1801300048828125,
          6.336642265319824,
          6.4023566246032715,
          6.128165245056152,
          5.734207630157471,
          6.27687931060791,
          6.140426158905029,
          6.279959201812744
         ]
        },
        {
         "hoverinfo": "text",
         "hovertext": [
          "Persian literary sources of medieval India reflect the spirit of the age. Comment.",
          "Pala period is the most significant phase in the history of Buddhism in India. Enumerate.",
          "Discuss the ‘Tandava’ dance as recorded in early Indian inscriptions.",
          "The rock-cut architecture represents one of the most important sources of our knowledge of early Indian art and history. Discuss.",
          "How will you explain the medieval Indian temple sculptures represent the social life of those days?",
          "Safeguarding the Indian art heritage is the need of the moment.",
          "Assess the importance of the accounts of the Chinese and Arab travellers in the reconstruction of the history of India.",
          "Discuss the main contributions of Gupta period and Chola period to Indian heritage and culture\n.",
          "Gandhara sculpture owed as much to the Romans as to the Greeks. Explain.",
          "How do you justify the view that the level of excellence of the Gupta numismatic art is not at all noticeable in later times?",
          "Early Buddhist Stupa-art, while depicting folk motifs and narratives successfully expounds Buddhist ideals. Elucidate.",
          "Chola architecture represents a high watermark in the evolution of temple architecture. Discuss",
          "The ancient civilization in Indian sub continent differed from those of Egypt , Mesopotamia and Greece in that its culture and traditions have been preserved without breakdown to the present day. Comment",
          "Mesolithic rock cut architecture of India not only reflects the cultural life of the times but also a fine aesthetic sense comparable to modern painting. Critically evaluate this comment.",
          "Highlight the Central Asian and Greco Bactrian elements in the Gandhara art.",
          "Indian Philosophy and tradition played a significant role in conceiving and shaping the monuments and their art in India. Discuss.",
          "Discuss the significance of the lion and bull figures in Indian mythology, art and architecture.",
          null
         ],
         "marker": {
          "opacity": 0.5,
          "size": 5
         },
         "mode": "markers+text",
         "name": "3_the_art_of",
         "text": [
          "",
          "",
          "",
          "",
          "",
          "",
          "",
          "",
          "",
          "",
          "",
          "",
          "",
          "",
          "",
          "",
          "",
          "3_the_art_of"
         ],
         "textfont": {
          "size": 12
         },
         "type": "scattergl",
         "x": [
          11.456554412841797,
          11.970315933227539,
          12.52993106842041,
          12.468456268310547,
          12.328208923339844,
          12.477334022521973,
          11.418051719665527,
          11.982946395874023,
          12.341103553771973,
          12.319738388061523,
          12.361141204833984,
          12.407103538513184,
          11.549697875976562,
          12.478826522827148,
          12.407796859741211,
          12.408651351928711,
          12.48525619506836,
          12.199477195739746
         ],
         "y": [
          7.434570789337158,
          7.450869560241699,
          7.466008186340332,
          7.529956817626953,
          7.536365509033203,
          7.3981242179870605,
          7.368881702423096,
          7.51182222366333,
          7.551044940948486,
          7.305340766906738,
          7.510883331298828,
          7.454928874969482,
          7.996334552764893,
          7.5673723220825195,
          7.508876323699951,
          7.384949207305908,
          7.427637100219727,
          7.494350433349609
         ]
        }
       ],
       "layout": {
        "annotations": [
         {
          "showarrow": false,
          "text": "D1",
          "x": 2.7118202447891235,
          "y": 7.87504289150238,
          "yshift": 10
         },
         {
          "showarrow": false,
          "text": "D2",
          "x": 8.560620486736298,
          "xshift": 10,
          "y": 11.004125452041626
         }
        ],
        "height": 750,
        "shapes": [
         {
          "line": {
           "color": "#CFD8DC",
           "width": 2
          },
          "type": "line",
          "x0": 8.560620486736298,
          "x1": 8.560620486736298,
          "y0": 4.745960330963134,
          "y1": 11.004125452041626
         },
         {
          "line": {
           "color": "#9E9E9E",
           "width": 2
          },
          "type": "line",
          "x0": 2.7118202447891235,
          "x1": 14.409420728683472,
          "y0": 7.87504289150238,
          "y1": 7.87504289150238
         }
        ],
        "template": {
         "data": {
          "bar": [
           {
            "error_x": {
             "color": "rgb(36,36,36)"
            },
            "error_y": {
             "color": "rgb(36,36,36)"
            },
            "marker": {
             "line": {
              "color": "white",
              "width": 0.5
             },
             "pattern": {
              "fillmode": "overlay",
              "size": 10,
              "solidity": 0.2
             }
            },
            "type": "bar"
           }
          ],
          "barpolar": [
           {
            "marker": {
             "line": {
              "color": "white",
              "width": 0.5
             },
             "pattern": {
              "fillmode": "overlay",
              "size": 10,
              "solidity": 0.2
             }
            },
            "type": "barpolar"
           }
          ],
          "carpet": [
           {
            "aaxis": {
             "endlinecolor": "rgb(36,36,36)",
             "gridcolor": "white",
             "linecolor": "white",
             "minorgridcolor": "white",
             "startlinecolor": "rgb(36,36,36)"
            },
            "baxis": {
             "endlinecolor": "rgb(36,36,36)",
             "gridcolor": "white",
             "linecolor": "white",
             "minorgridcolor": "white",
             "startlinecolor": "rgb(36,36,36)"
            },
            "type": "carpet"
           }
          ],
          "choropleth": [
           {
            "colorbar": {
             "outlinewidth": 1,
             "tickcolor": "rgb(36,36,36)",
             "ticks": "outside"
            },
            "type": "choropleth"
           }
          ],
          "contour": [
           {
            "colorbar": {
             "outlinewidth": 1,
             "tickcolor": "rgb(36,36,36)",
             "ticks": "outside"
            },
            "colorscale": [
             [
              0,
              "#440154"
             ],
             [
              0.1111111111111111,
              "#482878"
             ],
             [
              0.2222222222222222,
              "#3e4989"
             ],
             [
              0.3333333333333333,
              "#31688e"
             ],
             [
              0.4444444444444444,
              "#26828e"
             ],
             [
              0.5555555555555556,
              "#1f9e89"
             ],
             [
              0.6666666666666666,
              "#35b779"
             ],
             [
              0.7777777777777778,
              "#6ece58"
             ],
             [
              0.8888888888888888,
              "#b5de2b"
             ],
             [
              1,
              "#fde725"
             ]
            ],
            "type": "contour"
           }
          ],
          "contourcarpet": [
           {
            "colorbar": {
             "outlinewidth": 1,
             "tickcolor": "rgb(36,36,36)",
             "ticks": "outside"
            },
            "type": "contourcarpet"
           }
          ],
          "heatmap": [
           {
            "colorbar": {
             "outlinewidth": 1,
             "tickcolor": "rgb(36,36,36)",
             "ticks": "outside"
            },
            "colorscale": [
             [
              0,
              "#440154"
             ],
             [
              0.1111111111111111,
              "#482878"
             ],
             [
              0.2222222222222222,
              "#3e4989"
             ],
             [
              0.3333333333333333,
              "#31688e"
             ],
             [
              0.4444444444444444,
              "#26828e"
             ],
             [
              0.5555555555555556,
              "#1f9e89"
             ],
             [
              0.6666666666666666,
              "#35b779"
             ],
             [
              0.7777777777777778,
              "#6ece58"
             ],
             [
              0.8888888888888888,
              "#b5de2b"
             ],
             [
              1,
              "#fde725"
             ]
            ],
            "type": "heatmap"
           }
          ],
          "heatmapgl": [
           {
            "colorbar": {
             "outlinewidth": 1,
             "tickcolor": "rgb(36,36,36)",
             "ticks": "outside"
            },
            "colorscale": [
             [
              0,
              "#440154"
             ],
             [
              0.1111111111111111,
              "#482878"
             ],
             [
              0.2222222222222222,
              "#3e4989"
             ],
             [
              0.3333333333333333,
              "#31688e"
             ],
             [
              0.4444444444444444,
              "#26828e"
             ],
             [
              0.5555555555555556,
              "#1f9e89"
             ],
             [
              0.6666666666666666,
              "#35b779"
             ],
             [
              0.7777777777777778,
              "#6ece58"
             ],
             [
              0.8888888888888888,
              "#b5de2b"
             ],
             [
              1,
              "#fde725"
             ]
            ],
            "type": "heatmapgl"
           }
          ],
          "histogram": [
           {
            "marker": {
             "line": {
              "color": "white",
              "width": 0.6
             }
            },
            "type": "histogram"
           }
          ],
          "histogram2d": [
           {
            "colorbar": {
             "outlinewidth": 1,
             "tickcolor": "rgb(36,36,36)",
             "ticks": "outside"
            },
            "colorscale": [
             [
              0,
              "#440154"
             ],
             [
              0.1111111111111111,
              "#482878"
             ],
             [
              0.2222222222222222,
              "#3e4989"
             ],
             [
              0.3333333333333333,
              "#31688e"
             ],
             [
              0.4444444444444444,
              "#26828e"
             ],
             [
              0.5555555555555556,
              "#1f9e89"
             ],
             [
              0.6666666666666666,
              "#35b779"
             ],
             [
              0.7777777777777778,
              "#6ece58"
             ],
             [
              0.8888888888888888,
              "#b5de2b"
             ],
             [
              1,
              "#fde725"
             ]
            ],
            "type": "histogram2d"
           }
          ],
          "histogram2dcontour": [
           {
            "colorbar": {
             "outlinewidth": 1,
             "tickcolor": "rgb(36,36,36)",
             "ticks": "outside"
            },
            "colorscale": [
             [
              0,
              "#440154"
             ],
             [
              0.1111111111111111,
              "#482878"
             ],
             [
              0.2222222222222222,
              "#3e4989"
             ],
             [
              0.3333333333333333,
              "#31688e"
             ],
             [
              0.4444444444444444,
              "#26828e"
             ],
             [
              0.5555555555555556,
              "#1f9e89"
             ],
             [
              0.6666666666666666,
              "#35b779"
             ],
             [
              0.7777777777777778,
              "#6ece58"
             ],
             [
              0.8888888888888888,
              "#b5de2b"
             ],
             [
              1,
              "#fde725"
             ]
            ],
            "type": "histogram2dcontour"
           }
          ],
          "mesh3d": [
           {
            "colorbar": {
             "outlinewidth": 1,
             "tickcolor": "rgb(36,36,36)",
             "ticks": "outside"
            },
            "type": "mesh3d"
           }
          ],
          "parcoords": [
           {
            "line": {
             "colorbar": {
              "outlinewidth": 1,
              "tickcolor": "rgb(36,36,36)",
              "ticks": "outside"
             }
            },
            "type": "parcoords"
           }
          ],
          "pie": [
           {
            "automargin": true,
            "type": "pie"
           }
          ],
          "scatter": [
           {
            "fillpattern": {
             "fillmode": "overlay",
             "size": 10,
             "solidity": 0.2
            },
            "type": "scatter"
           }
          ],
          "scatter3d": [
           {
            "line": {
             "colorbar": {
              "outlinewidth": 1,
              "tickcolor": "rgb(36,36,36)",
              "ticks": "outside"
             }
            },
            "marker": {
             "colorbar": {
              "outlinewidth": 1,
              "tickcolor": "rgb(36,36,36)",
              "ticks": "outside"
             }
            },
            "type": "scatter3d"
           }
          ],
          "scattercarpet": [
           {
            "marker": {
             "colorbar": {
              "outlinewidth": 1,
              "tickcolor": "rgb(36,36,36)",
              "ticks": "outside"
             }
            },
            "type": "scattercarpet"
           }
          ],
          "scattergeo": [
           {
            "marker": {
             "colorbar": {
              "outlinewidth": 1,
              "tickcolor": "rgb(36,36,36)",
              "ticks": "outside"
             }
            },
            "type": "scattergeo"
           }
          ],
          "scattergl": [
           {
            "marker": {
             "colorbar": {
              "outlinewidth": 1,
              "tickcolor": "rgb(36,36,36)",
              "ticks": "outside"
             }
            },
            "type": "scattergl"
           }
          ],
          "scattermapbox": [
           {
            "marker": {
             "colorbar": {
              "outlinewidth": 1,
              "tickcolor": "rgb(36,36,36)",
              "ticks": "outside"
             }
            },
            "type": "scattermapbox"
           }
          ],
          "scatterpolar": [
           {
            "marker": {
             "colorbar": {
              "outlinewidth": 1,
              "tickcolor": "rgb(36,36,36)",
              "ticks": "outside"
             }
            },
            "type": "scatterpolar"
           }
          ],
          "scatterpolargl": [
           {
            "marker": {
             "colorbar": {
              "outlinewidth": 1,
              "tickcolor": "rgb(36,36,36)",
              "ticks": "outside"
             }
            },
            "type": "scatterpolargl"
           }
          ],
          "scatterternary": [
           {
            "marker": {
             "colorbar": {
              "outlinewidth": 1,
              "tickcolor": "rgb(36,36,36)",
              "ticks": "outside"
             }
            },
            "type": "scatterternary"
           }
          ],
          "surface": [
           {
            "colorbar": {
             "outlinewidth": 1,
             "tickcolor": "rgb(36,36,36)",
             "ticks": "outside"
            },
            "colorscale": [
             [
              0,
              "#440154"
             ],
             [
              0.1111111111111111,
              "#482878"
             ],
             [
              0.2222222222222222,
              "#3e4989"
             ],
             [
              0.3333333333333333,
              "#31688e"
             ],
             [
              0.4444444444444444,
              "#26828e"
             ],
             [
              0.5555555555555556,
              "#1f9e89"
             ],
             [
              0.6666666666666666,
              "#35b779"
             ],
             [
              0.7777777777777778,
              "#6ece58"
             ],
             [
              0.8888888888888888,
              "#b5de2b"
             ],
             [
              1,
              "#fde725"
             ]
            ],
            "type": "surface"
           }
          ],
          "table": [
           {
            "cells": {
             "fill": {
              "color": "rgb(237,237,237)"
             },
             "line": {
              "color": "white"
             }
            },
            "header": {
             "fill": {
              "color": "rgb(217,217,217)"
             },
             "line": {
              "color": "white"
             }
            },
            "type": "table"
           }
          ]
         },
         "layout": {
          "annotationdefaults": {
           "arrowhead": 0,
           "arrowwidth": 1
          },
          "autotypenumbers": "strict",
          "coloraxis": {
           "colorbar": {
            "outlinewidth": 1,
            "tickcolor": "rgb(36,36,36)",
            "ticks": "outside"
           }
          },
          "colorscale": {
           "diverging": [
            [
             0,
             "rgb(103,0,31)"
            ],
            [
             0.1,
             "rgb(178,24,43)"
            ],
            [
             0.2,
             "rgb(214,96,77)"
            ],
            [
             0.3,
             "rgb(244,165,130)"
            ],
            [
             0.4,
             "rgb(253,219,199)"
            ],
            [
             0.5,
             "rgb(247,247,247)"
            ],
            [
             0.6,
             "rgb(209,229,240)"
            ],
            [
             0.7,
             "rgb(146,197,222)"
            ],
            [
             0.8,
             "rgb(67,147,195)"
            ],
            [
             0.9,
             "rgb(33,102,172)"
            ],
            [
             1,
             "rgb(5,48,97)"
            ]
           ],
           "sequential": [
            [
             0,
             "#440154"
            ],
            [
             0.1111111111111111,
             "#482878"
            ],
            [
             0.2222222222222222,
             "#3e4989"
            ],
            [
             0.3333333333333333,
             "#31688e"
            ],
            [
             0.4444444444444444,
             "#26828e"
            ],
            [
             0.5555555555555556,
             "#1f9e89"
            ],
            [
             0.6666666666666666,
             "#35b779"
            ],
            [
             0.7777777777777778,
             "#6ece58"
            ],
            [
             0.8888888888888888,
             "#b5de2b"
            ],
            [
             1,
             "#fde725"
            ]
           ],
           "sequentialminus": [
            [
             0,
             "#440154"
            ],
            [
             0.1111111111111111,
             "#482878"
            ],
            [
             0.2222222222222222,
             "#3e4989"
            ],
            [
             0.3333333333333333,
             "#31688e"
            ],
            [
             0.4444444444444444,
             "#26828e"
            ],
            [
             0.5555555555555556,
             "#1f9e89"
            ],
            [
             0.6666666666666666,
             "#35b779"
            ],
            [
             0.7777777777777778,
             "#6ece58"
            ],
            [
             0.8888888888888888,
             "#b5de2b"
            ],
            [
             1,
             "#fde725"
            ]
           ]
          },
          "colorway": [
           "#1F77B4",
           "#FF7F0E",
           "#2CA02C",
           "#D62728",
           "#9467BD",
           "#8C564B",
           "#E377C2",
           "#7F7F7F",
           "#BCBD22",
           "#17BECF"
          ],
          "font": {
           "color": "rgb(36,36,36)"
          },
          "geo": {
           "bgcolor": "white",
           "lakecolor": "white",
           "landcolor": "white",
           "showlakes": true,
           "showland": true,
           "subunitcolor": "white"
          },
          "hoverlabel": {
           "align": "left"
          },
          "hovermode": "closest",
          "mapbox": {
           "style": "light"
          },
          "paper_bgcolor": "white",
          "plot_bgcolor": "white",
          "polar": {
           "angularaxis": {
            "gridcolor": "rgb(232,232,232)",
            "linecolor": "rgb(36,36,36)",
            "showgrid": false,
            "showline": true,
            "ticks": "outside"
           },
           "bgcolor": "white",
           "radialaxis": {
            "gridcolor": "rgb(232,232,232)",
            "linecolor": "rgb(36,36,36)",
            "showgrid": false,
            "showline": true,
            "ticks": "outside"
           }
          },
          "scene": {
           "xaxis": {
            "backgroundcolor": "white",
            "gridcolor": "rgb(232,232,232)",
            "gridwidth": 2,
            "linecolor": "rgb(36,36,36)",
            "showbackground": true,
            "showgrid": false,
            "showline": true,
            "ticks": "outside",
            "zeroline": false,
            "zerolinecolor": "rgb(36,36,36)"
           },
           "yaxis": {
            "backgroundcolor": "white",
            "gridcolor": "rgb(232,232,232)",
            "gridwidth": 2,
            "linecolor": "rgb(36,36,36)",
            "showbackground": true,
            "showgrid": false,
            "showline": true,
            "ticks": "outside",
            "zeroline": false,
            "zerolinecolor": "rgb(36,36,36)"
           },
           "zaxis": {
            "backgroundcolor": "white",
            "gridcolor": "rgb(232,232,232)",
            "gridwidth": 2,
            "linecolor": "rgb(36,36,36)",
            "showbackground": true,
            "showgrid": false,
            "showline": true,
            "ticks": "outside",
            "zeroline": false,
            "zerolinecolor": "rgb(36,36,36)"
           }
          },
          "shapedefaults": {
           "fillcolor": "black",
           "line": {
            "width": 0
           },
           "opacity": 0.3
          },
          "ternary": {
           "aaxis": {
            "gridcolor": "rgb(232,232,232)",
            "linecolor": "rgb(36,36,36)",
            "showgrid": false,
            "showline": true,
            "ticks": "outside"
           },
           "baxis": {
            "gridcolor": "rgb(232,232,232)",
            "linecolor": "rgb(36,36,36)",
            "showgrid": false,
            "showline": true,
            "ticks": "outside"
           },
           "bgcolor": "white",
           "caxis": {
            "gridcolor": "rgb(232,232,232)",
            "linecolor": "rgb(36,36,36)",
            "showgrid": false,
            "showline": true,
            "ticks": "outside"
           }
          },
          "title": {
           "x": 0.05
          },
          "xaxis": {
           "automargin": true,
           "gridcolor": "rgb(232,232,232)",
           "linecolor": "rgb(36,36,36)",
           "showgrid": false,
           "showline": true,
           "ticks": "outside",
           "title": {
            "standoff": 15
           },
           "zeroline": false,
           "zerolinecolor": "rgb(36,36,36)"
          },
          "yaxis": {
           "automargin": true,
           "gridcolor": "rgb(232,232,232)",
           "linecolor": "rgb(36,36,36)",
           "showgrid": false,
           "showline": true,
           "ticks": "outside",
           "title": {
            "standoff": 15
           },
           "zeroline": false,
           "zerolinecolor": "rgb(36,36,36)"
          }
         }
        },
        "title": {
         "font": {
          "color": "Black",
          "size": 22
         },
         "text": "<b>Documents and Topics</b>",
         "x": 0.5,
         "xanchor": "center",
         "yanchor": "top"
        },
        "width": 1200,
        "xaxis": {
         "visible": false
        },
        "yaxis": {
         "visible": false
        }
       }
      }
     },
     "metadata": {},
     "output_type": "display_data"
    }
   ],
   "source": [
    "model.visualize_documents(questions)"
   ]
  },
  {
   "cell_type": "code",
   "execution_count": 17,
   "metadata": {},
   "outputs": [],
   "source": [
    "#USING FINETUNING \n",
    "from bertopic.representation import KeyBERTInspired\n",
    "from bertopic.representation import MaximalMarginalRelevance\n",
    "from bertopic.representation import PartOfSpeech\n",
    "\n",
    "representation = [PartOfSpeech(\"en_core_web_sm\"),MaximalMarginalRelevance(diversity=0.2),KeyBERTInspired(top_n_words=30)]\n",
    "\n",
    "model = BERTopic(embedding_model=sentence_model,representation_model=representation,verbose=True,calculate_probabilities=True, nr_topics=20, n_gram_range=(1, 3), min_topic_size=5)\n",
    "\n"
   ]
  },
  {
   "cell_type": "code",
   "execution_count": 18,
   "metadata": {},
   "outputs": [
    {
     "name": "stderr",
     "output_type": "stream",
     "text": [
      "2024-07-15 22:03:59,364 - BERTopic - Embedding - Transforming documents to embeddings.\n",
      "Batches: 100%|██████████| 8/8 [00:11<00:00,  1.45s/it]\n",
      "2024-07-15 22:04:11,002 - BERTopic - Embedding - Completed ✓\n",
      "2024-07-15 22:04:11,002 - BERTopic - Dimensionality - Fitting the dimensionality reduction algorithm\n",
      "2024-07-15 22:04:17,842 - BERTopic - Dimensionality - Completed ✓\n",
      "2024-07-15 22:04:17,843 - BERTopic - Cluster - Start clustering the reduced embeddings\n",
      "2024-07-15 22:04:17,875 - BERTopic - Cluster - Completed ✓\n",
      "2024-07-15 22:04:17,877 - BERTopic - Representation - Extracting topics from clusters using representation models.\n",
      "2024-07-15 22:04:31,851 - BERTopic - Representation - Completed ✓\n",
      "2024-07-15 22:04:31,851 - BERTopic - Topic reduction - Reducing number of topics\n",
      "2024-07-15 22:04:31,851 - BERTopic - Topic reduction - Reduced number of topics from 9 to 9\n"
     ]
    }
   ],
   "source": [
    "topics, probs = model.fit_transform(questions)"
   ]
  },
  {
   "cell_type": "code",
   "execution_count": 19,
   "metadata": {},
   "outputs": [
    {
     "data": {
      "text/html": [
       "<div>\n",
       "<style scoped>\n",
       "    .dataframe tbody tr th:only-of-type {\n",
       "        vertical-align: middle;\n",
       "    }\n",
       "\n",
       "    .dataframe tbody tr th {\n",
       "        vertical-align: top;\n",
       "    }\n",
       "\n",
       "    .dataframe thead th {\n",
       "        text-align: right;\n",
       "    }\n",
       "</style>\n",
       "<table border=\"1\" class=\"dataframe\">\n",
       "  <thead>\n",
       "    <tr style=\"text-align: right;\">\n",
       "      <th></th>\n",
       "      <th>Topic</th>\n",
       "      <th>Count</th>\n",
       "      <th>Name</th>\n",
       "      <th>Representation</th>\n",
       "      <th>Representative_Docs</th>\n",
       "    </tr>\n",
       "  </thead>\n",
       "  <tbody>\n",
       "    <tr>\n",
       "      <th>0</th>\n",
       "      <td>-1</td>\n",
       "      <td>35</td>\n",
       "      <td>-1_development in india_scheduled tribes_of in...</td>\n",
       "      <td>[development in india, scheduled tribes, of in...</td>\n",
       "      <td>[Though not very useful from the point of view...</td>\n",
       "    </tr>\n",
       "    <tr>\n",
       "      <th>1</th>\n",
       "      <td>0</td>\n",
       "      <td>64</td>\n",
       "      <td>0_climate change_climate_glaciers_weather</td>\n",
       "      <td>[climate change, climate, glaciers, weather, l...</td>\n",
       "      <td>[Why are the world’s fold mountain systems loc...</td>\n",
       "    </tr>\n",
       "    <tr>\n",
       "      <th>2</th>\n",
       "      <td>1</td>\n",
       "      <td>23</td>\n",
       "      <td>1_colonial india_the anti colonial_the colonia...</td>\n",
       "      <td>[colonial india, the anti colonial, the coloni...</td>\n",
       "      <td>[What were the events that led to the Suez Cri...</td>\n",
       "    </tr>\n",
       "    <tr>\n",
       "      <th>3</th>\n",
       "      <td>2</td>\n",
       "      <td>17</td>\n",
       "      <td>2_of indian independence_indian independence_m...</td>\n",
       "      <td>[of indian independence, indian independence, ...</td>\n",
       "      <td>[Why did the ‘Moderates’ failed to carry convi...</td>\n",
       "    </tr>\n",
       "    <tr>\n",
       "      <th>4</th>\n",
       "      <td>3</td>\n",
       "      <td>11</td>\n",
       "      <td>3_energy in india_its mining industry_iron and...</td>\n",
       "      <td>[energy in india, its mining industry, iron an...</td>\n",
       "      <td>[Account for the change in the spatial pattern...</td>\n",
       "    </tr>\n",
       "    <tr>\n",
       "      <th>5</th>\n",
       "      <td>4</td>\n",
       "      <td>15</td>\n",
       "      <td>4_indian art_of temple architecture_of gupta p...</td>\n",
       "      <td>[indian art, of temple architecture, of gupta ...</td>\n",
       "      <td>[How do you justify the view that the level of...</td>\n",
       "    </tr>\n",
       "    <tr>\n",
       "      <th>6</th>\n",
       "      <td>5</td>\n",
       "      <td>34</td>\n",
       "      <td>5_diversity in india_indian society_in indian ...</td>\n",
       "      <td>[diversity in india, indian society, in indian...</td>\n",
       "      <td>[The spirit of tolerance and love is not only ...</td>\n",
       "    </tr>\n",
       "    <tr>\n",
       "      <th>7</th>\n",
       "      <td>6</td>\n",
       "      <td>20</td>\n",
       "      <td>6_urbanization_of rural urban_delhi_cities of</td>\n",
       "      <td>[urbanization, of rural urban, delhi, cities o...</td>\n",
       "      <td>[“The growth of cities as I.T. hubs has opened...</td>\n",
       "    </tr>\n",
       "    <tr>\n",
       "      <th>8</th>\n",
       "      <td>7</td>\n",
       "      <td>16</td>\n",
       "      <td>7_patriarchy impact the_poverty is the_populat...</td>\n",
       "      <td>[patriarchy impact the, poverty is the, popula...</td>\n",
       "      <td>[Critically examine whether growing population...</td>\n",
       "    </tr>\n",
       "  </tbody>\n",
       "</table>\n",
       "</div>"
      ],
      "text/plain": [
       "   Topic  Count                                               Name  \\\n",
       "0     -1     35  -1_development in india_scheduled tribes_of in...   \n",
       "1      0     64          0_climate change_climate_glaciers_weather   \n",
       "2      1     23  1_colonial india_the anti colonial_the colonia...   \n",
       "3      2     17  2_of indian independence_indian independence_m...   \n",
       "4      3     11  3_energy in india_its mining industry_iron and...   \n",
       "5      4     15  4_indian art_of temple architecture_of gupta p...   \n",
       "6      5     34  5_diversity in india_indian society_in indian ...   \n",
       "7      6     20      6_urbanization_of rural urban_delhi_cities of   \n",
       "8      7     16  7_patriarchy impact the_poverty is the_populat...   \n",
       "\n",
       "                                      Representation  \\\n",
       "0  [development in india, scheduled tribes, of in...   \n",
       "1  [climate change, climate, glaciers, weather, l...   \n",
       "2  [colonial india, the anti colonial, the coloni...   \n",
       "3  [of indian independence, indian independence, ...   \n",
       "4  [energy in india, its mining industry, iron an...   \n",
       "5  [indian art, of temple architecture, of gupta ...   \n",
       "6  [diversity in india, indian society, in indian...   \n",
       "7  [urbanization, of rural urban, delhi, cities o...   \n",
       "8  [patriarchy impact the, poverty is the, popula...   \n",
       "\n",
       "                                 Representative_Docs  \n",
       "0  [Though not very useful from the point of view...  \n",
       "1  [Why are the world’s fold mountain systems loc...  \n",
       "2  [What were the events that led to the Suez Cri...  \n",
       "3  [Why did the ‘Moderates’ failed to carry convi...  \n",
       "4  [Account for the change in the spatial pattern...  \n",
       "5  [How do you justify the view that the level of...  \n",
       "6  [The spirit of tolerance and love is not only ...  \n",
       "7  [“The growth of cities as I.T. hubs has opened...  \n",
       "8  [Critically examine whether growing population...  "
      ]
     },
     "execution_count": 19,
     "metadata": {},
     "output_type": "execute_result"
    }
   ],
   "source": [
    "model.get_topic_info()"
   ]
  },
  {
   "cell_type": "code",
   "execution_count": 20,
   "metadata": {},
   "outputs": [
    {
     "data": {
      "application/vnd.plotly.v1+json": {
       "config": {
        "plotlyServerURL": "https://plot.ly"
       },
       "data": [
        {
         "hoverinfo": "text",
         "hovertext": [
          "Describing the distribution of rubber producing countries, indicate the major environmental issues faced by them.",
          "The ancient civilization in Indian sub continent differed from those of Egypt , Mesopotamia and Greece in that its culture and traditions have been preserved without breakdown to the present day. Comment",
          "Discuss the positive and negative effects of globalization on women in India?",
          "Clarify how mid-eighteenth century India was beset with the spectre of a fragmented polity.",
          "Discuss whether formation of new states in recent times is beneficial or not for the economy of India.",
          "Defying the barriers of age, gender and religion, the Indian women became the torchbearer during the struggle for freedom in India. Discuss.",
          "The political and administrative reorganization of states and territories has been a continuous ongoing process since the mid-nineteenth century. Discuss with examples.",
          "Discuss the main objectives of Population Education and point out the measures to achieve them in India in detail.",
          "Debate the issue whether and how contemporary movements for assertion of Dalit identity work towards annihilation of caste.",
          "Why did the Green Revolution in India virtually by-pass the eastern region despite fertile soil and good availability of water?",
          "Discuss the role of women in the freedom struggle especially during the Gandhian phase.",
          "Why did human development fail to keep pace with economic development in India?",
          "Defining blue revolution, explain the problems and strategies for pisciculture development in India.",
          "Though not very useful from the point of view of a connected political history of South India, the Sangam literature portrays the social and economic conditions of its time with remarkable vividness. Comment.",
          "Discuss the changes in the trends of labour migration within and outside India in the last four decades.",
          "Critically discuss the objectives of Bhoodan and Gramdan movements initiated by AcharyaVinobhaBhave and their success.",
          "Mention the advantages of the cultivation of pulses because of which the year 2016 was declared as the International Year of Pulses by United Nations.",
          "The Bhakti movement received a remarkable re-orientation with the advent of Sri Chaitanya Mahaprabhu. Discuss.",
          "Explain the role of geographical factors towards the development of Ancient India.",
          "What are the two major legal initiatives by the State since Independence addressing discrimination against Scheduled Tribes(STs)?",
          "Krishnadeva Raya, the King of Vijayanagar, was not only an accomplished scholar himself but was also a great patron of learning and literature. Discuss.",
          "From being net food importer in 1960s, India has emerged as a net food exporter to the world. Provide reasons.",
          "Assess the importance of the accounts of the Chinese and Arab travellers in the reconstruction of the history of India.",
          "Taxila university was one of the oldest universities of the world with which were associated a number of renowned learned personalities of different disciplines. Its strategic location caused its fame to flourish, but unlike Nalanda, it is not considered as a university in the modern sense. Discuss.",
          "Why is India considered as a sub-continent? Elaborate your answer.",
          "Why are the tribals in India referred to as 'the Scheduled Tribes? Indicate the major provisions in the Constitution of India for their upliftment.",
          "Examine how the decline of traditional artisanal industry in colonial India crippled the rural economy.",
          "Critically examine the effect of globalization on the aged population in India.",
          "What were the major technological changes introduced during the Sultanate period? How did those technological changes influence the Indian society?",
          "The New Economic Policy – 1921 of Lenin had influenced the policies adopted by India soon after independence. Evaluate.",
          "What is Cryptocurrency? How does it affect global society? Has it been affecting Indian society also?",
          "‘Communalism arises either due to power struggle or relative deprivation.’ Argue by giving suitable illustrations.",
          "‘Latecomer’ Industrial Revolution in Japan involved certain factors that were markedly different from what West had experienced.” Analyze.",
          "To what extent has the urban planning and culture of the Indus Valley Civilization provided inputs to the present day urbanization?\nDiscuss.",
          "“Africa was chopped into states artificially created by accidents of European competition.” Analyze.",
          null
         ],
         "marker": {
          "color": "#CFD8DC",
          "opacity": 0.5,
          "size": 5
         },
         "mode": "markers+text",
         "name": "other",
         "showlegend": false,
         "type": "scattergl",
         "x": [
          4.36716365814209,
          8.113558769226074,
          7.82625150680542,
          7.98788595199585,
          7.323619842529297,
          7.948659420013428,
          7.348433971405029,
          7.477095603942871,
          9.104022979736328,
          6.591330051422119,
          7.981815338134766,
          6.931889057159424,
          5.704548358917236,
          8.252333641052246,
          7.5284647941589355,
          8.71327018737793,
          6.063772201538086,
          8.842500686645508,
          6.87929630279541,
          7.928735256195068,
          8.74311351776123,
          6.169480323791504,
          9.11036491394043,
          9.208510398864746,
          7.916476726531982,
          8.039732933044434,
          6.409099578857422,
          7.7816243171691895,
          6.850028038024902,
          7.325790882110596,
          7.599961280822754,
          8.40464973449707,
          6.49898624420166,
          6.717653751373291,
          7.367415428161621,
          7.515929222106934
         ],
         "y": [
          3.2883787155151367,
          2.2724006175994873,
          3.7039055824279785,
          0.8207792043685913,
          2.315880298614502,
          -0.028523994609713554,
          1.682479739189148,
          4.153332233428955,
          2.7682011127471924,
          2.839313507080078,
          -0.05535148084163666,
          3.4199647903442383,
          2.9585015773773193,
          0.9087846279144287,
          3.290127992630005,
          0.3341000974178314,
          2.6956682205200195,
          0.38661253452301025,
          2.6996092796325684,
          1.6650025844573975,
          0.1774551421403885,
          2.61134672164917,
          0.39849653840065,
          0.10308977216482162,
          2.5957136154174805,
          1.7877339124679565,
          2.091547966003418,
          3.3142688274383545,
          2.507925033569336,
          0.9339305758476257,
          3.4905591011047363,
          3.539850950241089,
          1.9444690942764282,
          3.2431933879852295,
          1.8766257762908936,
          2.078153371810913
         ]
        },
        {
         "hoverinfo": "text",
         "hovertext": [
          "What are the economic significances of discovery of oil in Arctic Sea and its possible environemental consequences?",
          "Bring out the relationship between the shrinking Himalayan glaciers and the symptoms of climate change in the Indian sub-continent.",
          "In what way micro-watershed development projects help in water conservation in\ndrought-prone and semi-arid regions of India?",
          "Examine the status of forest resources of India and its resultant impact on climate change.",
          "Account for the huge flooding of million cities in India including the smart ones like Hyderabad and Pune. Suggest lasting remedial measures.",
          "The recent cyclone on the east coast of India was called ‘Phailin’. How are the tropical cyclones named across the world? Elaborate.",
          "Describe the characteristics and types of primary rocks.",
          "Assess the impact of global warming on the coral life system with examples.",
          "Why is India taking keen interest in the Arctic region?",
          "what are the environmental implications of the reclamation of the water bodies into urban land use? Explain with examples.",
          "Explain the formation of thousands of islands in Indonesian and Philipines archipelagos.",
          "Critically evaluate the various resources of the oceans which can be harnessed to meet the resource crisis in the world.",
          "Define mantle plume and explain its role in plate tectonics.",
          "How does the cryosphere affect global climate?",
          "Most of the unusual climatic happenings are explained as an outcome of the El-Nino effect. Do you agree?",
          "Bring out the causes for more frequent occurrence of landslides in the Himalayas than in the Western Ghats.",
          "The states of Jammu and Kashmir, Himachal Pradesh and Uttarakhand are reaching the limits of ecological carrying capacity due to tourism. Critically evaluate.",
          "Major hot deserts in northern hemisphere are located between 20-30 deg N latitudes and on the western sides of the continents. Why?",
          "Enumerate the problems and prospects of inland water transport in India.",
          "India is well endowed with fresh water resources. Critically examine why it still suffers from water scarcity.",
          "South China Sea has assumed great geopolitical significance in the present context. Comment.",
          "Discuss the natural resource potentials of ‘Deccan trap’.",
          "The effective management of land and water resources will drastically reduce the human miseries. Explain.",
          "\"The Himalayas are highly prone to landslides.\" Discuss the causes and suggest suitable measures of mitigation.",
          "There is no formation of deltas by rivers on the Western Ghats. Why?",
          "What are the forces that influence ocean currents? Describe their role in fishing industry of the world.",
          "The process of desertification does not have climate boundaries. Justify with examples.",
          "The interlinking of rivers can provide viable solutions to the multi-dimensional inter-related problems of droughts, floods and interrupted navigation. Critically examine.",
          "Present an account of the Indus Water Treaty and examine its ecological, economic and political implications in the context of changing bilateral relations.",
          "Briefly mention the alignment of major mountain ranges of the world and explain their impact on local weather conditions, with examples.",
          "What do you understand by the phenomenon of ‘temperature inversion’ in meteorology? How does it affect weather and the habitants of the place?",
          "What characteristics can be assigned to monsoon climate that succeeds in feeding more than 50 percent of the world population residing in Monsoon Asia?",
          "What do you understand by the theory of continental drift? Discuss the prominent evidences in its support.",
          "Comment on the resource potentials of the long coastline of India and highlight the status of natural hazard preparedness in these areas.",
          "“The ideal solution of depleting ground water resources in India is water harvesting system.” How can it be made effective in urban areas?",
          "What are the consequences of spreading of ‘Dead Zones’ on marine ecosystem?",
          "Identify and discuss the factors responsible for diversity of natural vegetation in India. Assess the significance of wildlife sanctuaries in rain forests regions of India.",
          "Why is Indian Regional Navigational Satellite System (IRNSS) needed? How does it help in navigation?",
          "Discuss the meaning of colour-coded weather warnings for cyclone prone areas given by India Meteorological department.",
          "How do the melting of the Arctic ice and glaciers of the Antarctic differently affect the weather patterns and human activities on the Earth? Explain.",
          "How will the melting of Himalayan glaciers have a far- reaching impact on the water resources of India?",
          "How does the Juno Mission of NASA help to understand the origin and evolution of the Earth?",
          "How are the fjords formed? Why do they constitute some of the most picturesque areas of the world?",
          "Bring out the causes for the formation of heat islands in the urban habitat of the world.",
          "How do ocean currents and water masses differ in their impacts on marine life and coastal environment? Give suitable examples.",
          "In what way can floods be converted into a sustainable source of irrigation and all-weather inland navigation in India?",
          "Major cities of India are becoming more vulnerable to flood conditions. Discuss.",
          "Mention the global occurrence of volcanic eruptions in 2021 and their impact on regional environment.",
          "Discuss the geophysical characteristics of Circum- Pacific Zone.",
          "Mention the significance of straits and isthmus in international trade.",
          "Tropical cyclones are largely confined to South China Sea, Bay of Bengal and Gulf of Mexico. Why?",
          "What is water stress? How and why does it differ regionally in India?",
          "Explain the factors responsible for the origin of ocean currents. How do they influence regional climates, fishing and navigation?",
          "How far do you agree that the behaviour of the Indian monsoon has been changing due to humanizing landscape? Discuss.",
          "Why is the world today confronted with a crisis of availability of and access to freshwater resources?",
          "Why is the South-West monsoon called ‘Purvaiya’ (easterly) in Bhojpur Region? How has this directional seasonal wind system influenced the cultural ethos of the region?",
          "Account for variations in oceanic salinity and discuss its multi-dimensional effects.",
          "Discuss the consequences of climate change on the food security in tropical countries.",
          "Differentiate the causes of landslides in the Himalayan region and Western Ghats.",
          "Troposphere is a very significant atmospheric layer that determines weather processes.\nHow?",
          "Why are the world’s fold mountain systems located along the margins of continents? Bring out the association between the global distribution of fold mountains and the earthquakes and volcanoes.",
          "How can the mountain ecosystem be restored from the negative impact of development initiatives and tourism?",
          "Discuss the causes of depletion of mangroves and explain their importance in maintaining coastal ecology.",
          "Discuss the concept of air mass and explain its role in macro-climatic changes.",
          null
         ],
         "marker": {
          "opacity": 0.5,
          "size": 5
         },
         "mode": "markers+text",
         "name": "0_climate change_climate_glaciers",
         "text": [
          "",
          "",
          "",
          "",
          "",
          "",
          "",
          "",
          "",
          "",
          "",
          "",
          "",
          "",
          "",
          "",
          "",
          "",
          "",
          "",
          "",
          "",
          "",
          "",
          "",
          "",
          "",
          "",
          "",
          "",
          "",
          "",
          "",
          "",
          "",
          "",
          "",
          "",
          "",
          "",
          "",
          "",
          "",
          "",
          "",
          "",
          "",
          "",
          "",
          "",
          "",
          "",
          "",
          "",
          "",
          "",
          "",
          "",
          "",
          "",
          "",
          "",
          "",
          "",
          "0_climate change_climate_glaciers"
         ],
         "textfont": {
          "size": 12
         },
         "type": "scattergl",
         "x": [
          3.4526636600494385,
          2.833984375,
          3.450467109680176,
          3.9053518772125244,
          3.4618170261383057,
          2.8456501960754395,
          2.5532336235046387,
          3.089731454849243,
          3.522923469543457,
          3.825878620147705,
          2.286728620529175,
          3.319899082183838,
          2.3830177783966064,
          2.3166773319244385,
          2.59350848197937,
          2.6491260528564453,
          4.077843189239502,
          2.1719136238098145,
          3.5705204010009766,
          3.5777344703674316,
          3.6619322299957275,
          4.222319602966309,
          3.775827169418335,
          2.679924964904785,
          2.881122350692749,
          2.9669435024261475,
          2.5034375190734863,
          3.3845255374908447,
          3.49564790725708,
          2.3972880840301514,
          2.2638261318206787,
          2.8267664909362793,
          2.491133213043213,
          3.9480388164520264,
          3.694709300994873,
          3.2108190059661865,
          4.095659255981445,
          3.3790557384490967,
          2.8762006759643555,
          2.570744752883911,
          3.35728120803833,
          2.319155216217041,
          2.9839861392974854,
          2.2528598308563232,
          2.9889450073242188,
          3.3583171367645264,
          3.2329955101013184,
          2.305920362472534,
          2.3073532581329346,
          3.623277425765991,
          2.6942856311798096,
          3.3960120677948,
          2.9338667392730713,
          2.863523244857788,
          3.516768217086792,
          2.8528952598571777,
          3.0501885414123535,
          3.1805174350738525,
          2.68105149269104,
          2.3065974712371826,
          2.3494272232055664,
          3.862837076187134,
          3.082688808441162,
          2.4544901847839355,
          3.0495285987854004
         ],
         "y": [
          3.1842408180236816,
          3.97255277633667,
          4.710102558135986,
          3.9388606548309326,
          4.93237829208374,
          4.72369384765625,
          3.4980621337890625,
          2.8628885746002197,
          3.648585081100464,
          4.817925930023193,
          3.395132541656494,
          3.045227527618408,
          3.339874029159546,
          4.02144193649292,
          4.331873416900635,
          3.7053093910217285,
          4.004271507263184,
          3.9765710830688477,
          4.697000980377197,
          4.618879795074463,
          3.263988971710205,
          3.983456611633301,
          4.724584102630615,
          3.608989715576172,
          4.120131015777588,
          2.9738595485687256,
          4.001638889312744,
          4.841775417327881,
          4.228396892547607,
          3.8906760215759277,
          4.007981777191162,
          4.531668186187744,
          3.1790170669555664,
          4.1453375816345215,
          4.789208889007568,
          2.8031716346740723,
          3.8628907203674316,
          4.749236106872559,
          4.747410297393799,
          3.9916605949401855,
          4.2024149894714355,
          3.369804859161377,
          3.188400983810425,
          3.6976478099823,
          2.921309232711792,
          4.859048366546631,
          4.79690408706665,
          3.508110284805298,
          3.4831669330596924,
          3.185112476348877,
          4.589822769165039,
          4.736678600311279,
          3.023500442504883,
          4.50435209274292,
          4.549211025238037,
          4.527218341827393,
          2.857329845428467,
          3.9852044582366943,
          3.68817400932312,
          4.033967971801758,
          3.566162109375,
          4.0031023025512695,
          2.9271225929260254,
          3.8597257137298584,
          3.936460256576538
         ]
        },
        {
         "hoverinfo": "text",
         "hovertext": [
          "Why did the armies of the British East India Company – mostly comprising of Indian soldiers – win consistently against the more numerous and better equipped armies of the Indian rulers? Give reasons.",
          "Assess the role of British imperial power in complicating the process of transfer of power during the 1940s.",
          "What were the major political, economic and social developments in the world which motivated the anti-colonial in India?",
          "Why did the industrial revolution first occur in England? Discuss the quality of life of the people there during the industrialization. How does it compare with that in India at present times?",
          "To what extend can Germany be held responsible for causing the two World Wars? Discuss critically.",
          "Why was there a sudden spurt in famines in colonial India since the mid-eighteenth century? Give reasons.",
          "“American Revolution was an economic revolt against mercantilism.” Substantiate.",
          "How did the colonial rule affect the tribals in India and what was the tribal response to the colonial oppression?",
          "Explain how the foundations of the modern world were laid by the American and French Revolutions.",
          "What were the events that led to the Suez Crisis in 1956? How did it deal a final blow to Britain’s self-image as a world power?",
          "Explain how the Uprising of 1857 constitutes an important watershed in the evolution of British policies towards colonial India.",
          "The third battle of Panipat was fought in 1761. Why were so many empire-shaking battles fought at Panipat?",
          "In what ways did the navel mutiny prove to be the last nail in the coffin of British colonial aspirations in India?",
          "Whereas the British planters had developed tea gardens all along the Shivaliks and Lesser Himalayas from Assam to Himachal Pradesh, in effect they did not succeed beyond the Darjeeling area. Explain.",
          "The 1857 uprising was the culmination of the recurrent, big and small local rebellions that had occurred in the preceding hundred years of British rule. Elucidate.",
          "What policy instruments were deployed to contain the Great Economic Depression?",
          "Analyze the circumstances that led to the Tashkent Agreement in 1966. Discuss the highlights of the Agreement.",
          "” There arose a serious challenge to the Democratic State System between the two World Wars.” Evaluate the statement.",
          "Why indentured labour was taken by the British from India to their colonies? have they been able to preserve their cultural identity over there?",
          "Examine critically the various facets of economic policies of the British in India from mid-eighteenth century till independence.",
          "The anti-colonial struggles in West Africa were led by the new elite of Western-educated Africans.",
          "Evaluate the policies of Lord Curzon and their long term implications on the national movements.",
          "What problems are germane to the decolonization process in the Malay Peninsula?",
          null
         ],
         "marker": {
          "opacity": 0.5,
          "size": 5
         },
         "mode": "markers+text",
         "name": "1_colonial india_the anti colonial_the colonial",
         "text": [
          "",
          "",
          "",
          "",
          "",
          "",
          "",
          "",
          "",
          "",
          "",
          "",
          "",
          "",
          "",
          "",
          "",
          "",
          "",
          "",
          "",
          "",
          "",
          "1_colonial india_the anti colonial_the colonial"
         ],
         "textfont": {
          "size": 12
         },
         "type": "scattergl",
         "x": [
          6.810596942901611,
          6.870652198791504,
          7.486752510070801,
          6.497386932373047,
          6.855450630187988,
          6.467820644378662,
          7.13883113861084,
          7.729803085327148,
          7.039034366607666,
          6.855745792388916,
          7.237736701965332,
          6.799715995788574,
          7.448477745056152,
          6.57563591003418,
          7.392115592956543,
          7.241394519805908,
          6.8043951988220215,
          6.788207054138184,
          7.558356761932373,
          7.189488410949707,
          7.499182224273682,
          7.314277648925781,
          7.346231460571289,
          7.084664344787598
         ],
         "y": [
          1.2370636463165283,
          0.7560091018676758,
          1.3214020729064941,
          1.8686699867248535,
          0.7701961398124695,
          1.8599950075149536,
          0.958476722240448,
          1.466443657875061,
          0.8387542366981506,
          0.7374135851860046,
          0.7297508716583252,
          1.3492330312728882,
          1.0991730690002441,
          1.6458046436309814,
          0.7244570851325989,
          1.0111117362976074,
          0.7318785786628723,
          0.6458137035369873,
          1.140531301498413,
          1.0743591785430908,
          1.3716216087341309,
          0.27847447991371155,
          1.583204746246338,
          1.0956451892852783
         ]
        },
        {
         "hoverinfo": "text",
         "hovertext": [
          "Discuss the contributions of MaulanaAbulKalam Azad to pre- and post-independent India.",
          "Critically examine the compulsions which prompted India to play a decisive role in the emergence of Bangladesh.",
          "To what extent did the role of the moderates prepare a base for the wider freedom movement? Comment.",
          "Examine the linkages between the nineteenth century’s ‘Indian Renaissance’ and the emergence of national identity.",
          "What was the difference between Mahatma Gandhi and Rabindranath Tagore in their approach towards education and nationalism?",
          "It would have been difficult for the Constituent Assembly to complete its historic task of drafting the Constitution for Independent India in just three years, but its experience gained with the Government of India Act, 1935\n.Discuss.",
          "Several foreigners made India their homeland and participated in various movements.\nAnalyze their role in the Indian struggle for freedom.",
          "Highlight the differences in the approach of Subhash Chandra Bose and Mahatma Gandhi in the struggle for freedom.",
          "Why did the ‘Moderates’ failed to carry conviction with the nation about their proclaimed ideology and political goals by the end of the nineteenth century?",
          "Bring out the constructive programmes of Mahatma Gandhi during Non-Cooperation Movement and Civil Disobedience Movement.",
          "Mahatma Gandhi and Dr. B R Ambedkar, despite having divergent approaches and strategies, had a common goal of amelioration of the downtrodden. Elucidate.",
          "Highlight the importance of the new objectives that got added to the vision of Indian Independence since the twenties of the last century.",
          "Throw light on the significance of the thoughts of Mahatma Gandhi in the present times.",
          "Many voices had strengthened and enriched the nationalist movement during the Gandhian phase. Elaborate.",
          "Since the decade of the 1920s, the national movement acquired various ideological strands and thereby expanded its social base. Discuss.",
          "“In many ways, Lord Dalhousie was the founder of modern India.” Elaborate.",
          "How difficult would have been the achievement of Indian independence without Mahatma Gandhi? Discuss.",
          null
         ],
         "marker": {
          "opacity": 0.5,
          "size": 5
         },
         "mode": "markers+text",
         "name": "2_of indian independence_indian independence_mahatma gandhi and",
         "text": [
          "",
          "",
          "",
          "",
          "",
          "",
          "",
          "",
          "",
          "",
          "",
          "",
          "",
          "",
          "",
          "",
          "",
          "2_of indian independence_indian independence_mahatma gandhi and"
         ],
         "textfont": {
          "size": 12
         },
         "type": "scattergl",
         "x": [
          7.998996257781982,
          7.820068836212158,
          7.380996227264404,
          7.954791069030762,
          8.176218032836914,
          7.94532585144043,
          7.962350368499756,
          8.198920249938965,
          7.382467746734619,
          8.301094055175781,
          8.377317428588867,
          7.851550579071045,
          8.29344367980957,
          7.8529205322265625,
          7.342281818389893,
          8.343972206115723,
          8.119233131408691,
          7.9589385986328125
         ],
         "y": [
          0.3702646791934967,
          0.7878317832946777,
          0.20677496492862701,
          0.6332237720489502,
          0.08150918036699295,
          0.3314191699028015,
          0.5004201531410217,
          -0.030250780284404755,
          0.20683138072490692,
          -0.04505453631281853,
          -0.03293805569410324,
          0.5464759469032288,
          0.09607323259115219,
          0.27857959270477295,
          0.26233863830566406,
          0.3108489513397217,
          0.11592117697000504,
          0.27178052067756653
         ]
        },
        {
         "hoverinfo": "text",
         "hovertext": [
          "“Inspite of adverse environmental impact, coal mining is still inevitable for development”.\nDiscuss",
          "Account for the present location of iron and steel industries away from the source of raw material, by giving examples.",
          "Discuss the multi-dimensional implications of uneven distribution of mineral oil in the world.",
          "It is said that India has substantial reserves of shale oil and gas, which can feed the needs of the country for quarter century. However, tapping of the resource does not appear to be high on the agenda. Discuss critically the availability and issues involved.",
          "How does India see its place in the economic space of rising natural resources rich Africa?",
          "With growing scarcity of fossil fuels, the atomic energy is gaining more and more significance in India. Discuss the availability of raw material required for the generation of atomic energy in India and in the world.",
          "Despite India being one of the countries of the Gondwanaland, its mining industry contributes much less to its Gross Domestic Product(GDP) in percentage. Discuss.",
          "Petroleum refineries are not necessarily located nearer to crude oil producing areas, particularly in many of the developing countries. Explain its implications.",
          "Examine the potential of wind energy in India and explain the reasons for their limited spatial spread.",
          "India has immense potential of solar energy though there are regional variations in its developments. Elaborate.",
          "Account for the change in the spatial pattern of the Iron and Steel industry in the world.",
          null
         ],
         "marker": {
          "opacity": 0.5,
          "size": 5
         },
         "mode": "markers+text",
         "name": "3_energy in india_its mining industry_iron and steel",
         "text": [
          "",
          "",
          "",
          "",
          "",
          "",
          "",
          "",
          "",
          "",
          "",
          "3_energy in india_its mining industry_iron and steel"
         ],
         "textfont": {
          "size": 12
         },
         "type": "scattergl",
         "x": [
          4.592044830322266,
          4.8450751304626465,
          4.444838047027588,
          4.598873615264893,
          5.334988117218018,
          5.249039173126221,
          4.824706554412842,
          4.552145004272461,
          5.3025617599487305,
          5.305424690246582,
          4.764594078063965,
          4.892208576202393
         ],
         "y": [
          3.506817102432251,
          3.3850111961364746,
          3.3147165775299072,
          3.3865771293640137,
          3.7458157539367676,
          3.4142913818359375,
          3.6344122886657715,
          3.4017727375030518,
          3.4240670204162598,
          3.433587074279785,
          3.4513378143310547,
          3.463491201400757
         ]
        },
        {
         "hoverinfo": "text",
         "hovertext": [
          "Indian Philosophy and tradition played a significant role in conceiving and shaping the monuments and their art in India. Discuss.",
          "Discuss the main contributions of Gupta period and Chola period to Indian heritage and culture\n.",
          "Mesolithic rock cut architecture of India not only reflects the cultural life of the times but also a fine aesthetic sense comparable to modern painting. Critically evaluate this comment.",
          "Highlight the Central Asian and Greco Bactrian elements in the Gandhara art.",
          "Safeguarding the Indian art heritage is the need of the moment.",
          "Gandhara sculpture owed as much to the Romans as to the Greeks. Explain.",
          "Early Buddhist Stupa-art, while depicting folk motifs and narratives successfully expounds Buddhist ideals. Elucidate.",
          "Chola architecture represents a high watermark in the evolution of temple architecture. Discuss",
          "Persian literary sources of medieval India reflect the spirit of the age. Comment.",
          "Discuss the significance of the lion and bull figures in Indian mythology, art and architecture.",
          "How do you justify the view that the level of excellence of the Gupta numismatic art is not at all noticeable in later times?",
          "Discuss the ‘Tandava’ dance as recorded in early Indian inscriptions.",
          "Pala period is the most significant phase in the history of Buddhism in India. Enumerate.",
          "How will you explain the medieval Indian temple sculptures represent the social life of those days?",
          "The rock-cut architecture represents one of the most important sources of our knowledge of early Indian art and history. Discuss.",
          null
         ],
         "marker": {
          "opacity": 0.5,
          "size": 5
         },
         "mode": "markers+text",
         "name": "4_indian art_of temple architecture_of gupta period",
         "text": [
          "",
          "",
          "",
          "",
          "",
          "",
          "",
          "",
          "",
          "",
          "",
          "",
          "",
          "",
          "",
          "4_indian art_of temple architecture_of gupta period"
         ],
         "textfont": {
          "size": 12
         },
         "type": "scattergl",
         "x": [
          9.735884666442871,
          9.545894622802734,
          9.826531410217285,
          9.849323272705078,
          9.75954818725586,
          9.92651081085205,
          9.841137886047363,
          9.84082317352295,
          9.20791244506836,
          9.77961254119873,
          9.71869945526123,
          9.728425979614258,
          9.464754104614258,
          9.86810302734375,
          9.823378562927246,
          9.727768898010254
         ],
         "y": [
          0.14751766622066498,
          0.07615331560373306,
          0.04009484872221947,
          -0.12346985936164856,
          0.12302345037460327,
          -0.11434455215930939,
          -0.08720595389604568,
          0.004672156181186438,
          0.43708255887031555,
          -0.029273316264152527,
          0.1244036927819252,
          -0.028583073988556862,
          -0.0823356881737709,
          -0.01826605759561062,
          0.08617603033781052,
          0.037043020129203796
         ]
        },
        {
         "hoverinfo": "text",
         "hovertext": [
          "Customs and traditions suppress reason leading to obscurantism. Do you agree?",
          "How do the Indian debates on secularism differ from the debates in the West?",
          "To what extent globalization has influenced the core of cultural diversity in India? Explain.",
          "What makes the Indian society unique in sustaining its culture? Discuss.",
          "“Caste system is assuming new identities and associational forms. Hence, caste system cannot be eradicated in India.”",
          "Describe any four cultural elements of diversity in India and rate their relative significance in building a national identity.",
          "How the Indian concept of secularism different from the western model of secularism?\nDiscuss.",
          "What are the main features of Vedic society and religion? Do you think some of the features are still prevailing in Indian society?",
          "Has the formation of linguistic States strengthened the cause of Indian Unity?",
          "Growing feeling of regionalism is an important factor in generation of demand for a separate state. Discuss.",
          "Do we have cultural pockets of small India all over the nation? Elaborate with examples.",
          "In the context of the diversity of India, can it be said that the regions form cultural units rather than the States? Give reasons with examples for your view point.",
          "Write a critical note on the evolution and significance of the slogan, ‘Jai Jawan, Jai Kisan’.",
          "How does Indian society maintain continuity in traditional social values? Enumerate the changes taking place in it.",
          "Assess the main administrative issues and socio-cultural problems in the integration process of Indian Princely States.",
          "Distinguish between religiousness/religiosity and communalism giving one example of how the former has got transformed into the latter in independent India.",
          "Globalisation is generally said to promote cultural homogenisation but due to this cultural specificities appear to be strengthened in the Indian society.’ Elucidate.",
          "Trace the rise and growth of socio-religious reform movements with special reference to Young Bengal and Brahmo Samaj.",
          "Sufis and medieval saints failed to modify either the religious ideas and practices or the outward structure of Hindu/ Muslim societies to any appreciable extent. Comment.",
          "What is the basis of regionalism? Is it that unequal distribution of benefits of development on regional basis eventually promotes regionalism? Substantiate your answer.",
          "Do you agree that regionalism in India appears to be a consequence of rising cultural assertiveness? Argue.",
          "Do you think marriage as a sacrament in loosing its value in Modern India?",
          "Why is caste identity in India both fluid and static?",
          "Evaluate the nature of the Bhakti Literature and its contribution to Indian culture.",
          "Is diversity and pluralism in India under threat due to globalisation? Justify your answer.",
          "Are we losing our local identity for the global identity? Discuss.",
          "Examine the uniqueness of tribal knowledge system when compared with mainstream knowledge and cultural systems.",
          "What are the challenges to our cultural practices in the name of secularism?",
          "The spirit of tolerance and love is not only an interesting feature of Indian society from very early times, but it is also playing an important part at the present. Elaborate.",
          "Are tolerance, assimilation and pluralism the key elements in the making of an Indian form of secularism? Justify your answer.",
          "Discuss the impact of post-liberal economy on ethnic identity and communalism.",
          "Given the diversities among the tribal communities in India, in which specific contexts should they be considered as a single category?",
          "Has caste lost its relevance in understanding the multi- cultural Indian Society? Elaborate your answer with illustrations.",
          "Analyze the salience of ‘sect’ in Indian society vis-a-vis caste, region and religion.",
          null
         ],
         "marker": {
          "opacity": 0.5,
          "size": 5
         },
         "mode": "markers+text",
         "name": "5_diversity in india_indian society_in indian society",
         "text": [
          "",
          "",
          "",
          "",
          "",
          "",
          "",
          "",
          "",
          "",
          "",
          "",
          "",
          "",
          "",
          "",
          "",
          "",
          "",
          "",
          "",
          "",
          "",
          "",
          "",
          "",
          "",
          "",
          "",
          "",
          "",
          "",
          "",
          "",
          "5_diversity in india_indian society_in indian society"
         ],
         "textfont": {
          "size": 12
         },
         "type": "scattergl",
         "x": [
          9.321125984191895,
          9.344281196594238,
          7.822617053985596,
          8.411456108093262,
          9.129081726074219,
          8.365132331848145,
          9.2702054977417,
          8.730084419250488,
          7.506925106048584,
          7.492003440856934,
          7.851344585418701,
          7.81654167175293,
          8.873297691345215,
          8.683148384094238,
          7.696949005126953,
          8.785768508911133,
          8.085225105285645,
          8.999476432800293,
          9.283181190490723,
          7.627496242523193,
          7.708013534545898,
          9.071795463562012,
          8.982151985168457,
          9.110442161560059,
          8.031107902526855,
          8.29836368560791,
          8.3037748336792,
          9.34942626953125,
          9.026968002319336,
          9.213127136230469,
          8.420482635498047,
          8.305397033691406,
          9.040518760681152,
          9.027987480163574,
          8.558379173278809
         ],
         "y": [
          1.8664989471435547,
          1.9400087594985962,
          3.1104676723480225,
          2.5265026092529297,
          2.7398550510406494,
          2.560397148132324,
          1.9952312707901,
          2.4898221492767334,
          2.3901281356811523,
          2.3485045433044434,
          2.7305960655212402,
          2.535794734954834,
          1.612704873085022,
          2.6197400093078613,
          2.2744574546813965,
          2.1071722507476807,
          3.0325498580932617,
          1.5863101482391357,
          1.7177635431289673,
          2.685617208480835,
          2.7437033653259277,
          2.6555287837982178,
          2.585933208465576,
          0.3949071764945984,
          2.9934351444244385,
          3.13775634765625,
          2.45599365234375,
          1.9338550567626953,
          2.1227424144744873,
          2.0348854064941406,
          3.3029379844665527,
          2.4629156589508057,
          2.7623109817504883,
          2.4156782627105713,
          2.3786091804504395
         ]
        },
        {
         "hoverinfo": "text",
         "hovertext": [
          "With a brief background of quality of urban life in India, introduce the objectives and strategy of the 'Smart City Programme'.",
          "How is efficient and affordable urban mass transport key to the rapid economic development in India?",
          "Analyze the factors for the highly decentralized cotton textile industry in India.",
          "Mention core strategies for the transformation of aspirational districts in India and explain the nature of convergence, collaboration and competition for its success.",
          "Do you agree that there is a growing trend of opening new sugar mills in southern states of India? Discuss with justification.",
          "Examine the role of ‘Gig Economy’ in the process of empowerment of women in India.",
          "COVID-19 pandemic accelerated class inequalities and poverty in India. Comment.",
          "Mumbai, Delhi and Kolkata are the three Mega cities of the country but the air pollution is much more serious probelm in Delhi as compared to the other two. Why is this so?",
          "How have digital initiatives in India contributed to the functioning of the education system in the country? Elaborate your answer.",
          "Bring out the socio-economic effects of the introduction of railways in different countries of the world",
          "What are the main socio-economic implications arising out of the development of IT industries in major cities of India?",
          "How is the growth of Tier 2 cities related to the rise of a new middle class with an emphasis on the culture of consumption?",
          "“The growth of cities as I.T. hubs has opened up new avenues of employment, but has also created new problems”. Substantiate this statement with examples",
          "Elucidate the relationship between globalization and new technology in a world of scarce resources, with special reference to India.",
          "Can the strategy of regional resource-based manufacturing help in promoting employment in India?",
          "Smart cities in India cannot sustain without smart vilages. Discuss this statement in the backdrop of rural urban integration.",
          "Discuss the various social problems which originated out of the speedy process of urbanization in India.",
          "What is the significance of Industrial Corridors in India? Identifying industrial corridors, explain their main characteristics.",
          "Discuss the factors for localisation of agro-based food processing industries of North-West India.",
          "Does urbanization lead to more segregation and/or marginalization of the poor in Indian metropolises?",
          null
         ],
         "marker": {
          "opacity": 0.5,
          "size": 5
         },
         "mode": "markers+text",
         "name": "6_urbanization_of rural urban_delhi",
         "text": [
          "",
          "",
          "",
          "",
          "",
          "",
          "",
          "",
          "",
          "",
          "",
          "",
          "",
          "",
          "",
          "",
          "",
          "",
          "",
          "",
          "6_urbanization_of rural urban_delhi"
         ],
         "textfont": {
          "size": 12
         },
         "type": "scattergl",
         "x": [
          6.620981216430664,
          6.490643501281738,
          5.952093124389648,
          7.187556266784668,
          5.924472808837891,
          6.222687721252441,
          7.513224124908447,
          6.767871379852295,
          7.190199375152588,
          6.239208221435547,
          6.423467636108398,
          6.667087554931641,
          6.512330532073975,
          7.147287368774414,
          6.056993007659912,
          6.644395351409912,
          6.856910228729248,
          5.928643226623535,
          5.981216907501221,
          6.951171875,
          6.563921928405762
         ],
         "y": [
          3.666741371154785,
          3.7995433807373047,
          2.971526622772217,
          3.8044416904449463,
          2.8992209434509277,
          3.4264464378356934,
          4.198911666870117,
          4.083466053009033,
          3.816772937774658,
          3.726194143295288,
          3.60884690284729,
          3.8294501304626465,
          3.8097991943359375,
          3.245852470397949,
          3.2905123233795166,
          3.68742299079895,
          3.6113193035125732,
          3.4243764877319336,
          2.898135185241699,
          3.877648115158081,
          3.583831310272217
         ]
        },
        {
         "hoverinfo": "text",
         "hovertext": [
          "\"An essential condition to eradicate poverty is to liberate the poor from the process of deprivation.\" Substantiate this statement with suitable examples.",
          "Explore and evaluate the impact of ‘Work From Home’ on family relationships.",
          "“Empowering women is the key to control population growth.” Discuss.",
          "How does patriarchy impact the position of a middle class working woman in India?",
          "Critically examine whether growing population is the cause of poverty OR poverty is the mains cause of population increase in India.",
          "The life cycle of a joint family depends on economic factors rather than social values. Discuss.",
          "How do you explain the statistics that show that the sex ratio in Tribes in India is more favourable to women than the sex ratio among Scheduled Castes?",
          "Explain why suicide among young women is increasing in Indian Society.",
          "What are the continued challenges for women in India against time and space?",
          "The women’s questions arose in modern India as a part of the 19th century social reform movement. What are the major issues and debates concerning women in that period?",
          "“Male membership needs to be encouraged in order to make women’s organization free from gender bias.” Comment.",
          "Discuss the various economic and\nsocio-cultural forces that are driving increasing feminization of agriculture in India.",
          "‘Despite implementation of various programmes for eradication of poverty by the government in India, poverty is still existing’. Explain by giving reasons.",
          "Child cuddling is now being replaced by mobile phones. Discuss its impact on the socialization of children.",
          "Why do some of the most prosperous regions of India have an adverse sex ratio for women? Give your arguments.",
          "‘Women’s movement in India has not addressed the issues of women of lower social strata.’ Substantiate your view.",
          null
         ],
         "marker": {
          "opacity": 0.5,
          "size": 5
         },
         "mode": "markers+text",
         "name": "7_patriarchy impact the_poverty is the_population growth discuss",
         "text": [
          "",
          "",
          "",
          "",
          "",
          "",
          "",
          "",
          "",
          "",
          "",
          "",
          "",
          "",
          "",
          "",
          "7_patriarchy impact the_poverty is the_population growth discuss"
         ],
         "textfont": {
          "size": 12
         },
         "type": "scattergl",
         "x": [
          7.761035442352295,
          8.176684379577637,
          7.842940330505371,
          8.075519561767578,
          7.535818099975586,
          8.219287872314453,
          8.049896240234375,
          7.925386428833008,
          8.127562522888184,
          8.109237670898438,
          8.058808326721191,
          7.964315414428711,
          7.54661226272583,
          8.184896469116211,
          7.897109031677246,
          8.05296516418457,
          7.9705047607421875
         ],
         "y": [
          4.044575214385986,
          3.9400672912597656,
          4.355164527893066,
          4.378172397613525,
          4.215889930725098,
          3.879751682281494,
          4.504494667053223,
          4.567480087280273,
          4.334076404571533,
          4.369104862213135,
          4.410317420959473,
          4.400889873504639,
          4.220626354217529,
          3.877209186553955,
          4.602611541748047,
          4.4273176193237305,
          4.282984256744385
         ]
        }
       ],
       "layout": {
        "annotations": [
         {
          "showarrow": false,
          "text": "D1",
          "x": 1.8461265802383422,
          "y": 2.765122348815203,
          "yshift": 10
         },
         {
          "showarrow": false,
          "text": "D2",
          "x": 6.630807006359101,
          "xshift": 10,
          "y": 5.672235035896302
         }
        ],
        "height": 750,
        "shapes": [
         {
          "line": {
           "color": "#CFD8DC",
           "width": 2
          },
          "type": "line",
          "x0": 6.630807006359101,
          "x1": 6.630807006359101,
          "y0": -0.14199033826589585,
          "y1": 5.672235035896302
         },
         {
          "line": {
           "color": "#9E9E9E",
           "width": 2
          },
          "type": "line",
          "x0": 1.8461265802383422,
          "x1": 11.415487432479859,
          "y0": 2.765122348815203,
          "y1": 2.765122348815203
         }
        ],
        "template": {
         "data": {
          "bar": [
           {
            "error_x": {
             "color": "rgb(36,36,36)"
            },
            "error_y": {
             "color": "rgb(36,36,36)"
            },
            "marker": {
             "line": {
              "color": "white",
              "width": 0.5
             },
             "pattern": {
              "fillmode": "overlay",
              "size": 10,
              "solidity": 0.2
             }
            },
            "type": "bar"
           }
          ],
          "barpolar": [
           {
            "marker": {
             "line": {
              "color": "white",
              "width": 0.5
             },
             "pattern": {
              "fillmode": "overlay",
              "size": 10,
              "solidity": 0.2
             }
            },
            "type": "barpolar"
           }
          ],
          "carpet": [
           {
            "aaxis": {
             "endlinecolor": "rgb(36,36,36)",
             "gridcolor": "white",
             "linecolor": "white",
             "minorgridcolor": "white",
             "startlinecolor": "rgb(36,36,36)"
            },
            "baxis": {
             "endlinecolor": "rgb(36,36,36)",
             "gridcolor": "white",
             "linecolor": "white",
             "minorgridcolor": "white",
             "startlinecolor": "rgb(36,36,36)"
            },
            "type": "carpet"
           }
          ],
          "choropleth": [
           {
            "colorbar": {
             "outlinewidth": 1,
             "tickcolor": "rgb(36,36,36)",
             "ticks": "outside"
            },
            "type": "choropleth"
           }
          ],
          "contour": [
           {
            "colorbar": {
             "outlinewidth": 1,
             "tickcolor": "rgb(36,36,36)",
             "ticks": "outside"
            },
            "colorscale": [
             [
              0,
              "#440154"
             ],
             [
              0.1111111111111111,
              "#482878"
             ],
             [
              0.2222222222222222,
              "#3e4989"
             ],
             [
              0.3333333333333333,
              "#31688e"
             ],
             [
              0.4444444444444444,
              "#26828e"
             ],
             [
              0.5555555555555556,
              "#1f9e89"
             ],
             [
              0.6666666666666666,
              "#35b779"
             ],
             [
              0.7777777777777778,
              "#6ece58"
             ],
             [
              0.8888888888888888,
              "#b5de2b"
             ],
             [
              1,
              "#fde725"
             ]
            ],
            "type": "contour"
           }
          ],
          "contourcarpet": [
           {
            "colorbar": {
             "outlinewidth": 1,
             "tickcolor": "rgb(36,36,36)",
             "ticks": "outside"
            },
            "type": "contourcarpet"
           }
          ],
          "heatmap": [
           {
            "colorbar": {
             "outlinewidth": 1,
             "tickcolor": "rgb(36,36,36)",
             "ticks": "outside"
            },
            "colorscale": [
             [
              0,
              "#440154"
             ],
             [
              0.1111111111111111,
              "#482878"
             ],
             [
              0.2222222222222222,
              "#3e4989"
             ],
             [
              0.3333333333333333,
              "#31688e"
             ],
             [
              0.4444444444444444,
              "#26828e"
             ],
             [
              0.5555555555555556,
              "#1f9e89"
             ],
             [
              0.6666666666666666,
              "#35b779"
             ],
             [
              0.7777777777777778,
              "#6ece58"
             ],
             [
              0.8888888888888888,
              "#b5de2b"
             ],
             [
              1,
              "#fde725"
             ]
            ],
            "type": "heatmap"
           }
          ],
          "heatmapgl": [
           {
            "colorbar": {
             "outlinewidth": 1,
             "tickcolor": "rgb(36,36,36)",
             "ticks": "outside"
            },
            "colorscale": [
             [
              0,
              "#440154"
             ],
             [
              0.1111111111111111,
              "#482878"
             ],
             [
              0.2222222222222222,
              "#3e4989"
             ],
             [
              0.3333333333333333,
              "#31688e"
             ],
             [
              0.4444444444444444,
              "#26828e"
             ],
             [
              0.5555555555555556,
              "#1f9e89"
             ],
             [
              0.6666666666666666,
              "#35b779"
             ],
             [
              0.7777777777777778,
              "#6ece58"
             ],
             [
              0.8888888888888888,
              "#b5de2b"
             ],
             [
              1,
              "#fde725"
             ]
            ],
            "type": "heatmapgl"
           }
          ],
          "histogram": [
           {
            "marker": {
             "line": {
              "color": "white",
              "width": 0.6
             }
            },
            "type": "histogram"
           }
          ],
          "histogram2d": [
           {
            "colorbar": {
             "outlinewidth": 1,
             "tickcolor": "rgb(36,36,36)",
             "ticks": "outside"
            },
            "colorscale": [
             [
              0,
              "#440154"
             ],
             [
              0.1111111111111111,
              "#482878"
             ],
             [
              0.2222222222222222,
              "#3e4989"
             ],
             [
              0.3333333333333333,
              "#31688e"
             ],
             [
              0.4444444444444444,
              "#26828e"
             ],
             [
              0.5555555555555556,
              "#1f9e89"
             ],
             [
              0.6666666666666666,
              "#35b779"
             ],
             [
              0.7777777777777778,
              "#6ece58"
             ],
             [
              0.8888888888888888,
              "#b5de2b"
             ],
             [
              1,
              "#fde725"
             ]
            ],
            "type": "histogram2d"
           }
          ],
          "histogram2dcontour": [
           {
            "colorbar": {
             "outlinewidth": 1,
             "tickcolor": "rgb(36,36,36)",
             "ticks": "outside"
            },
            "colorscale": [
             [
              0,
              "#440154"
             ],
             [
              0.1111111111111111,
              "#482878"
             ],
             [
              0.2222222222222222,
              "#3e4989"
             ],
             [
              0.3333333333333333,
              "#31688e"
             ],
             [
              0.4444444444444444,
              "#26828e"
             ],
             [
              0.5555555555555556,
              "#1f9e89"
             ],
             [
              0.6666666666666666,
              "#35b779"
             ],
             [
              0.7777777777777778,
              "#6ece58"
             ],
             [
              0.8888888888888888,
              "#b5de2b"
             ],
             [
              1,
              "#fde725"
             ]
            ],
            "type": "histogram2dcontour"
           }
          ],
          "mesh3d": [
           {
            "colorbar": {
             "outlinewidth": 1,
             "tickcolor": "rgb(36,36,36)",
             "ticks": "outside"
            },
            "type": "mesh3d"
           }
          ],
          "parcoords": [
           {
            "line": {
             "colorbar": {
              "outlinewidth": 1,
              "tickcolor": "rgb(36,36,36)",
              "ticks": "outside"
             }
            },
            "type": "parcoords"
           }
          ],
          "pie": [
           {
            "automargin": true,
            "type": "pie"
           }
          ],
          "scatter": [
           {
            "fillpattern": {
             "fillmode": "overlay",
             "size": 10,
             "solidity": 0.2
            },
            "type": "scatter"
           }
          ],
          "scatter3d": [
           {
            "line": {
             "colorbar": {
              "outlinewidth": 1,
              "tickcolor": "rgb(36,36,36)",
              "ticks": "outside"
             }
            },
            "marker": {
             "colorbar": {
              "outlinewidth": 1,
              "tickcolor": "rgb(36,36,36)",
              "ticks": "outside"
             }
            },
            "type": "scatter3d"
           }
          ],
          "scattercarpet": [
           {
            "marker": {
             "colorbar": {
              "outlinewidth": 1,
              "tickcolor": "rgb(36,36,36)",
              "ticks": "outside"
             }
            },
            "type": "scattercarpet"
           }
          ],
          "scattergeo": [
           {
            "marker": {
             "colorbar": {
              "outlinewidth": 1,
              "tickcolor": "rgb(36,36,36)",
              "ticks": "outside"
             }
            },
            "type": "scattergeo"
           }
          ],
          "scattergl": [
           {
            "marker": {
             "colorbar": {
              "outlinewidth": 1,
              "tickcolor": "rgb(36,36,36)",
              "ticks": "outside"
             }
            },
            "type": "scattergl"
           }
          ],
          "scattermapbox": [
           {
            "marker": {
             "colorbar": {
              "outlinewidth": 1,
              "tickcolor": "rgb(36,36,36)",
              "ticks": "outside"
             }
            },
            "type": "scattermapbox"
           }
          ],
          "scatterpolar": [
           {
            "marker": {
             "colorbar": {
              "outlinewidth": 1,
              "tickcolor": "rgb(36,36,36)",
              "ticks": "outside"
             }
            },
            "type": "scatterpolar"
           }
          ],
          "scatterpolargl": [
           {
            "marker": {
             "colorbar": {
              "outlinewidth": 1,
              "tickcolor": "rgb(36,36,36)",
              "ticks": "outside"
             }
            },
            "type": "scatterpolargl"
           }
          ],
          "scatterternary": [
           {
            "marker": {
             "colorbar": {
              "outlinewidth": 1,
              "tickcolor": "rgb(36,36,36)",
              "ticks": "outside"
             }
            },
            "type": "scatterternary"
           }
          ],
          "surface": [
           {
            "colorbar": {
             "outlinewidth": 1,
             "tickcolor": "rgb(36,36,36)",
             "ticks": "outside"
            },
            "colorscale": [
             [
              0,
              "#440154"
             ],
             [
              0.1111111111111111,
              "#482878"
             ],
             [
              0.2222222222222222,
              "#3e4989"
             ],
             [
              0.3333333333333333,
              "#31688e"
             ],
             [
              0.4444444444444444,
              "#26828e"
             ],
             [
              0.5555555555555556,
              "#1f9e89"
             ],
             [
              0.6666666666666666,
              "#35b779"
             ],
             [
              0.7777777777777778,
              "#6ece58"
             ],
             [
              0.8888888888888888,
              "#b5de2b"
             ],
             [
              1,
              "#fde725"
             ]
            ],
            "type": "surface"
           }
          ],
          "table": [
           {
            "cells": {
             "fill": {
              "color": "rgb(237,237,237)"
             },
             "line": {
              "color": "white"
             }
            },
            "header": {
             "fill": {
              "color": "rgb(217,217,217)"
             },
             "line": {
              "color": "white"
             }
            },
            "type": "table"
           }
          ]
         },
         "layout": {
          "annotationdefaults": {
           "arrowhead": 0,
           "arrowwidth": 1
          },
          "autotypenumbers": "strict",
          "coloraxis": {
           "colorbar": {
            "outlinewidth": 1,
            "tickcolor": "rgb(36,36,36)",
            "ticks": "outside"
           }
          },
          "colorscale": {
           "diverging": [
            [
             0,
             "rgb(103,0,31)"
            ],
            [
             0.1,
             "rgb(178,24,43)"
            ],
            [
             0.2,
             "rgb(214,96,77)"
            ],
            [
             0.3,
             "rgb(244,165,130)"
            ],
            [
             0.4,
             "rgb(253,219,199)"
            ],
            [
             0.5,
             "rgb(247,247,247)"
            ],
            [
             0.6,
             "rgb(209,229,240)"
            ],
            [
             0.7,
             "rgb(146,197,222)"
            ],
            [
             0.8,
             "rgb(67,147,195)"
            ],
            [
             0.9,
             "rgb(33,102,172)"
            ],
            [
             1,
             "rgb(5,48,97)"
            ]
           ],
           "sequential": [
            [
             0,
             "#440154"
            ],
            [
             0.1111111111111111,
             "#482878"
            ],
            [
             0.2222222222222222,
             "#3e4989"
            ],
            [
             0.3333333333333333,
             "#31688e"
            ],
            [
             0.4444444444444444,
             "#26828e"
            ],
            [
             0.5555555555555556,
             "#1f9e89"
            ],
            [
             0.6666666666666666,
             "#35b779"
            ],
            [
             0.7777777777777778,
             "#6ece58"
            ],
            [
             0.8888888888888888,
             "#b5de2b"
            ],
            [
             1,
             "#fde725"
            ]
           ],
           "sequentialminus": [
            [
             0,
             "#440154"
            ],
            [
             0.1111111111111111,
             "#482878"
            ],
            [
             0.2222222222222222,
             "#3e4989"
            ],
            [
             0.3333333333333333,
             "#31688e"
            ],
            [
             0.4444444444444444,
             "#26828e"
            ],
            [
             0.5555555555555556,
             "#1f9e89"
            ],
            [
             0.6666666666666666,
             "#35b779"
            ],
            [
             0.7777777777777778,
             "#6ece58"
            ],
            [
             0.8888888888888888,
             "#b5de2b"
            ],
            [
             1,
             "#fde725"
            ]
           ]
          },
          "colorway": [
           "#1F77B4",
           "#FF7F0E",
           "#2CA02C",
           "#D62728",
           "#9467BD",
           "#8C564B",
           "#E377C2",
           "#7F7F7F",
           "#BCBD22",
           "#17BECF"
          ],
          "font": {
           "color": "rgb(36,36,36)"
          },
          "geo": {
           "bgcolor": "white",
           "lakecolor": "white",
           "landcolor": "white",
           "showlakes": true,
           "showland": true,
           "subunitcolor": "white"
          },
          "hoverlabel": {
           "align": "left"
          },
          "hovermode": "closest",
          "mapbox": {
           "style": "light"
          },
          "paper_bgcolor": "white",
          "plot_bgcolor": "white",
          "polar": {
           "angularaxis": {
            "gridcolor": "rgb(232,232,232)",
            "linecolor": "rgb(36,36,36)",
            "showgrid": false,
            "showline": true,
            "ticks": "outside"
           },
           "bgcolor": "white",
           "radialaxis": {
            "gridcolor": "rgb(232,232,232)",
            "linecolor": "rgb(36,36,36)",
            "showgrid": false,
            "showline": true,
            "ticks": "outside"
           }
          },
          "scene": {
           "xaxis": {
            "backgroundcolor": "white",
            "gridcolor": "rgb(232,232,232)",
            "gridwidth": 2,
            "linecolor": "rgb(36,36,36)",
            "showbackground": true,
            "showgrid": false,
            "showline": true,
            "ticks": "outside",
            "zeroline": false,
            "zerolinecolor": "rgb(36,36,36)"
           },
           "yaxis": {
            "backgroundcolor": "white",
            "gridcolor": "rgb(232,232,232)",
            "gridwidth": 2,
            "linecolor": "rgb(36,36,36)",
            "showbackground": true,
            "showgrid": false,
            "showline": true,
            "ticks": "outside",
            "zeroline": false,
            "zerolinecolor": "rgb(36,36,36)"
           },
           "zaxis": {
            "backgroundcolor": "white",
            "gridcolor": "rgb(232,232,232)",
            "gridwidth": 2,
            "linecolor": "rgb(36,36,36)",
            "showbackground": true,
            "showgrid": false,
            "showline": true,
            "ticks": "outside",
            "zeroline": false,
            "zerolinecolor": "rgb(36,36,36)"
           }
          },
          "shapedefaults": {
           "fillcolor": "black",
           "line": {
            "width": 0
           },
           "opacity": 0.3
          },
          "ternary": {
           "aaxis": {
            "gridcolor": "rgb(232,232,232)",
            "linecolor": "rgb(36,36,36)",
            "showgrid": false,
            "showline": true,
            "ticks": "outside"
           },
           "baxis": {
            "gridcolor": "rgb(232,232,232)",
            "linecolor": "rgb(36,36,36)",
            "showgrid": false,
            "showline": true,
            "ticks": "outside"
           },
           "bgcolor": "white",
           "caxis": {
            "gridcolor": "rgb(232,232,232)",
            "linecolor": "rgb(36,36,36)",
            "showgrid": false,
            "showline": true,
            "ticks": "outside"
           }
          },
          "title": {
           "x": 0.05
          },
          "xaxis": {
           "automargin": true,
           "gridcolor": "rgb(232,232,232)",
           "linecolor": "rgb(36,36,36)",
           "showgrid": false,
           "showline": true,
           "ticks": "outside",
           "title": {
            "standoff": 15
           },
           "zeroline": false,
           "zerolinecolor": "rgb(36,36,36)"
          },
          "yaxis": {
           "automargin": true,
           "gridcolor": "rgb(232,232,232)",
           "linecolor": "rgb(36,36,36)",
           "showgrid": false,
           "showline": true,
           "ticks": "outside",
           "title": {
            "standoff": 15
           },
           "zeroline": false,
           "zerolinecolor": "rgb(36,36,36)"
          }
         }
        },
        "title": {
         "font": {
          "color": "Black",
          "size": 22
         },
         "text": "<b>Documents and Topics</b>",
         "x": 0.5,
         "xanchor": "center",
         "yanchor": "top"
        },
        "width": 1200,
        "xaxis": {
         "visible": false
        },
        "yaxis": {
         "visible": false
        }
       }
      }
     },
     "metadata": {},
     "output_type": "display_data"
    }
   ],
   "source": [
    "model.visualize_documents(questions)"
   ]
  },
  {
   "cell_type": "code",
   "execution_count": 21,
   "metadata": {},
   "outputs": [],
   "source": [
    "#UPDATING C-TF-IDF\n",
    "from bertopic.vectorizers import ClassTfidfTransformer\n",
    "ctfidf_model = ClassTfidfTransformer(bm25_weighting=True,reduce_frequent_words=True)\n",
    "model = BERTopic(embedding_model=sentence_model,representation_model=representation,ctfidf_model=ctfidf_model,verbose=True,calculate_probabilities=True, nr_topics=20, n_gram_range=(1, 3), min_topic_size=5)"
   ]
  },
  {
   "cell_type": "code",
   "execution_count": 22,
   "metadata": {},
   "outputs": [
    {
     "name": "stderr",
     "output_type": "stream",
     "text": [
      "2024-07-15 22:04:49,855 - BERTopic - Embedding - Transforming documents to embeddings.\n",
      "Batches: 100%|██████████| 8/8 [00:11<00:00,  1.44s/it]\n",
      "2024-07-15 22:05:01,402 - BERTopic - Embedding - Completed ✓\n",
      "2024-07-15 22:05:01,403 - BERTopic - Dimensionality - Fitting the dimensionality reduction algorithm\n",
      "2024-07-15 22:05:07,977 - BERTopic - Dimensionality - Completed ✓\n",
      "2024-07-15 22:05:07,979 - BERTopic - Cluster - Start clustering the reduced embeddings\n",
      "2024-07-15 22:05:08,007 - BERTopic - Cluster - Completed ✓\n",
      "2024-07-15 22:05:08,009 - BERTopic - Representation - Extracting topics from clusters using representation models.\n",
      "2024-07-15 22:05:21,551 - BERTopic - Representation - Completed ✓\n",
      "2024-07-15 22:05:21,551 - BERTopic - Topic reduction - Reducing number of topics\n",
      "2024-07-15 22:05:21,551 - BERTopic - Topic reduction - Reduced number of topics from 9 to 9\n"
     ]
    }
   ],
   "source": [
    "topics, probs = model.fit_transform(questions)"
   ]
  },
  {
   "cell_type": "code",
   "execution_count": 23,
   "metadata": {},
   "outputs": [
    {
     "data": {
      "text/html": [
       "<div>\n",
       "<style scoped>\n",
       "    .dataframe tbody tr th:only-of-type {\n",
       "        vertical-align: middle;\n",
       "    }\n",
       "\n",
       "    .dataframe tbody tr th {\n",
       "        vertical-align: top;\n",
       "    }\n",
       "\n",
       "    .dataframe thead th {\n",
       "        text-align: right;\n",
       "    }\n",
       "</style>\n",
       "<table border=\"1\" class=\"dataframe\">\n",
       "  <thead>\n",
       "    <tr style=\"text-align: right;\">\n",
       "      <th></th>\n",
       "      <th>Topic</th>\n",
       "      <th>Count</th>\n",
       "      <th>Name</th>\n",
       "      <th>Representation</th>\n",
       "      <th>Representative_Docs</th>\n",
       "    </tr>\n",
       "  </thead>\n",
       "  <tbody>\n",
       "    <tr>\n",
       "      <th>0</th>\n",
       "      <td>-1</td>\n",
       "      <td>46</td>\n",
       "      <td>-1_tribals in india_in colonial india_industri...</td>\n",
       "      <td>[tribals in india, in colonial india, industri...</td>\n",
       "      <td>[Though not very useful from the point of view...</td>\n",
       "    </tr>\n",
       "    <tr>\n",
       "      <th>1</th>\n",
       "      <td>0</td>\n",
       "      <td>64</td>\n",
       "      <td>0_glaciers_climate_climate change_western ghats</td>\n",
       "      <td>[glaciers, climate, climate change, western gh...</td>\n",
       "      <td>[What do you understand by the phenomenon of ‘...</td>\n",
       "    </tr>\n",
       "    <tr>\n",
       "      <th>2</th>\n",
       "      <td>1</td>\n",
       "      <td>19</td>\n",
       "      <td>1_indian art_of the gupta_of vijayanagar was_o...</td>\n",
       "      <td>[indian art, of the gupta, of vijayanagar was,...</td>\n",
       "      <td>[The rock-cut architecture represents one of t...</td>\n",
       "    </tr>\n",
       "    <tr>\n",
       "      <th>3</th>\n",
       "      <td>2</td>\n",
       "      <td>9</td>\n",
       "      <td>2_its mining industry_oil producing areas_oil ...</td>\n",
       "      <td>[its mining industry, oil producing areas, oil...</td>\n",
       "      <td>[Despite India being one of the countries of t...</td>\n",
       "    </tr>\n",
       "    <tr>\n",
       "      <th>4</th>\n",
       "      <td>3</td>\n",
       "      <td>18</td>\n",
       "      <td>3_poverty in india_poverty is the_poverty in_p...</td>\n",
       "      <td>[poverty in india, poverty is the, poverty in,...</td>\n",
       "      <td>[‘Despite implementation of various programmes...</td>\n",
       "    </tr>\n",
       "    <tr>\n",
       "      <th>5</th>\n",
       "      <td>4</td>\n",
       "      <td>20</td>\n",
       "      <td>4_of urbanization_of urbanization in_urbanizat...</td>\n",
       "      <td>[of urbanization, of urbanization in, urbaniza...</td>\n",
       "      <td>[How is the growth of Tier 2 cities related to...</td>\n",
       "    </tr>\n",
       "    <tr>\n",
       "      <th>6</th>\n",
       "      <td>5</td>\n",
       "      <td>30</td>\n",
       "      <td>5_indian society_in indian society_diversity i...</td>\n",
       "      <td>[indian society, in indian society, diversity ...</td>\n",
       "      <td>[Sufis and medieval saints failed to modify ei...</td>\n",
       "    </tr>\n",
       "    <tr>\n",
       "      <th>7</th>\n",
       "      <td>6</td>\n",
       "      <td>15</td>\n",
       "      <td>6_indian independence_of indian independence_i...</td>\n",
       "      <td>[indian independence, of indian independence, ...</td>\n",
       "      <td>[Highlight the differences in the approach of ...</td>\n",
       "    </tr>\n",
       "    <tr>\n",
       "      <th>8</th>\n",
       "      <td>7</td>\n",
       "      <td>14</td>\n",
       "      <td>7_role of british_policies towards colonial_th...</td>\n",
       "      <td>[role of british, policies towards colonial, t...</td>\n",
       "      <td>[What were the events that led to the Suez Cri...</td>\n",
       "    </tr>\n",
       "  </tbody>\n",
       "</table>\n",
       "</div>"
      ],
      "text/plain": [
       "   Topic  Count                                               Name  \\\n",
       "0     -1     46  -1_tribals in india_in colonial india_industri...   \n",
       "1      0     64    0_glaciers_climate_climate change_western ghats   \n",
       "2      1     19  1_indian art_of the gupta_of vijayanagar was_o...   \n",
       "3      2      9  2_its mining industry_oil producing areas_oil ...   \n",
       "4      3     18  3_poverty in india_poverty is the_poverty in_p...   \n",
       "5      4     20  4_of urbanization_of urbanization in_urbanizat...   \n",
       "6      5     30  5_indian society_in indian society_diversity i...   \n",
       "7      6     15  6_indian independence_of indian independence_i...   \n",
       "8      7     14  7_role of british_policies towards colonial_th...   \n",
       "\n",
       "                                      Representation  \\\n",
       "0  [tribals in india, in colonial india, industri...   \n",
       "1  [glaciers, climate, climate change, western gh...   \n",
       "2  [indian art, of the gupta, of vijayanagar was,...   \n",
       "3  [its mining industry, oil producing areas, oil...   \n",
       "4  [poverty in india, poverty is the, poverty in,...   \n",
       "5  [of urbanization, of urbanization in, urbaniza...   \n",
       "6  [indian society, in indian society, diversity ...   \n",
       "7  [indian independence, of indian independence, ...   \n",
       "8  [role of british, policies towards colonial, t...   \n",
       "\n",
       "                                 Representative_Docs  \n",
       "0  [Though not very useful from the point of view...  \n",
       "1  [What do you understand by the phenomenon of ‘...  \n",
       "2  [The rock-cut architecture represents one of t...  \n",
       "3  [Despite India being one of the countries of t...  \n",
       "4  [‘Despite implementation of various programmes...  \n",
       "5  [How is the growth of Tier 2 cities related to...  \n",
       "6  [Sufis and medieval saints failed to modify ei...  \n",
       "7  [Highlight the differences in the approach of ...  \n",
       "8  [What were the events that led to the Suez Cri...  "
      ]
     },
     "execution_count": 23,
     "metadata": {},
     "output_type": "execute_result"
    }
   ],
   "source": [
    "model.get_topic_info()"
   ]
  },
  {
   "cell_type": "code",
   "execution_count": 24,
   "metadata": {},
   "outputs": [
    {
     "data": {
      "application/vnd.plotly.v1+json": {
       "config": {
        "plotlyServerURL": "https://plot.ly"
       },
       "data": [
        {
         "hoverinfo": "text",
         "hovertext": [
          "Why are the tribals in India referred to as 'the Scheduled Tribes? Indicate the major provisions in the Constitution of India for their upliftment.",
          "The New Economic Policy – 1921 of Lenin had influenced the policies adopted by India soon after independence. Evaluate.",
          "Defining blue revolution, explain the problems and strategies for pisciculture development in India.",
          "Write a critical note on the evolution and significance of the slogan, ‘Jai Jawan, Jai Kisan’.",
          "Critically discuss the objectives of Bhoodan and Gramdan movements initiated by AcharyaVinobhaBhave and their success.",
          "Explain the role of geographical factors towards the development of Ancient India.",
          "Why is India considered as a sub-continent? Elaborate your answer.",
          "Debate the issue whether and how contemporary movements for assertion of Dalit identity work towards annihilation of caste.",
          "Why did human development fail to keep pace with economic development in India?",
          "Discuss the positive and negative effects of globalization on women in India?",
          "Why was there a sudden spurt in famines in colonial India since the mid-eighteenth century? Give reasons.",
          "What were the major technological changes introduced during the Sultanate period? How did those technological changes influence the Indian society?",
          "Analyze the circumstances that led to the Tashkent Agreement in 1966. Discuss the highlights of the Agreement.",
          "Evaluate the policies of Lord Curzon and their long term implications on the national movements.",
          "Why did the industrial revolution first occur in England? Discuss the quality of life of the people there during the industrialization. How does it compare with that in India at present times?",
          "What policy instruments were deployed to contain the Great Economic Depression?",
          "To what extent has the urban planning and culture of the Indus Valley Civilization provided inputs to the present day urbanization?\nDiscuss.",
          "Defying the barriers of age, gender and religion, the Indian women became the torchbearer during the struggle for freedom in India. Discuss.",
          "The political and administrative reorganization of states and territories has been a continuous ongoing process since the mid-nineteenth century. Discuss with examples.",
          "Examine the potential of wind energy in India and explain the reasons for their limited spatial spread.",
          "Mention the advantages of the cultivation of pulses because of which the year 2016 was declared as the International Year of Pulses by United Nations.",
          "What are the two major legal initiatives by the State since Independence addressing discrimination against Scheduled Tribes(STs)?",
          "How does India see its place in the economic space of rising natural resources rich Africa?",
          "Since the decade of the 1920s, the national movement acquired various ideological strands and thereby expanded its social base. Discuss.",
          "The 1857 uprising was the culmination of the recurrent, big and small local rebellions that had occurred in the preceding hundred years of British rule. Elucidate.",
          "The third battle of Panipat was fought in 1761. Why were so many empire-shaking battles fought at Panipat?",
          "“Africa was chopped into states artificially created by accidents of European competition.” Analyze.",
          "‘Communalism arises either due to power struggle or relative deprivation.’ Argue by giving suitable illustrations.",
          "What is Cryptocurrency? How does it affect global society? Has it been affecting Indian society also?",
          "What problems are germane to the decolonization process in the Malay Peninsula?",
          "“In many ways, Lord Dalhousie was the founder of modern India.” Elaborate.",
          "From being net food importer in 1960s, India has emerged as a net food exporter to the world. Provide reasons.",
          "The Bhakti movement received a remarkable re-orientation with the advent of Sri Chaitanya Mahaprabhu. Discuss.",
          "Why did the ‘Moderates’ failed to carry conviction with the nation about their proclaimed ideology and political goals by the end of the nineteenth century?",
          "How did the colonial rule affect the tribals in India and what was the tribal response to the colonial oppression?",
          "Discuss whether formation of new states in recent times is beneficial or not for the economy of India.",
          "Why did the Green Revolution in India virtually by-pass the eastern region despite fertile soil and good availability of water?",
          "‘Latecomer’ Industrial Revolution in Japan involved certain factors that were markedly different from what West had experienced.” Analyze.",
          "Examine how the decline of traditional artisanal industry in colonial India crippled the rural economy.",
          "To what extent did the role of the moderates prepare a base for the wider freedom movement? Comment.",
          "What makes the Indian society unique in sustaining its culture? Discuss.",
          "Examine the role of ‘Gig Economy’ in the process of empowerment of women in India.",
          "The ancient civilization in Indian sub continent differed from those of Egypt , Mesopotamia and Greece in that its culture and traditions have been preserved without breakdown to the present day. Comment",
          "Describing the distribution of rubber producing countries, indicate the major environmental issues faced by them.",
          "Distinguish between religiousness/religiosity and communalism giving one example of how the former has got transformed into the latter in independent India.",
          "Though not very useful from the point of view of a connected political history of South India, the Sangam literature portrays the social and economic conditions of its time with remarkable vividness. Comment.",
          null
         ],
         "marker": {
          "color": "#CFD8DC",
          "opacity": 0.5,
          "size": 5
         },
         "mode": "markers+text",
         "name": "other",
         "showlegend": false,
         "type": "scattergl",
         "x": [
          6.963502407073975,
          7.986393451690674,
          2.6482365131378174,
          6.936866760253906,
          7.664283275604248,
          4.27675199508667,
          5.09917688369751,
          6.427227973937988,
          4.151497840881348,
          5.908905029296875,
          7.316929340362549,
          4.351236343383789,
          8.336800575256348,
          8.553923606872559,
          7.327444553375244,
          7.90334939956665,
          4.384166240692139,
          7.885351657867432,
          8.38636589050293,
          3.3164186477661133,
          4.786743640899658,
          7.017822265625,
          3.5548346042633057,
          8.54670524597168,
          7.955867767333984,
          7.777135372161865,
          7.28961706161499,
          6.083004951477051,
          5.417179107666016,
          7.232257843017578,
          8.3043851852417,
          4.75712251663208,
          7.640156269073486,
          8.4885892868042,
          7.356997013092041,
          4.855639457702637,
          3.8389735221862793,
          7.113842010498047,
          7.001204490661621,
          8.568089485168457,
          5.72742223739624,
          4.742201328277588,
          5.299103736877441,
          2.7260775566101074,
          6.783265113830566,
          7.700477600097656,
          6.35629415512085
         ],
         "y": [
          4.271267414093018,
          3.9685819149017334,
          4.051000595092773,
          5.287756443023682,
          5.250406265258789,
          4.630553245544434,
          5.245673179626465,
          4.723945617675781,
          4.098118305206299,
          3.297975778579712,
          3.1513519287109375,
          4.702391147613525,
          3.301737070083618,
          3.8622336387634277,
          3.1405341625213623,
          3.6961019039154053,
          4.320146083831787,
          4.573747634887695,
          3.4028921127319336,
          3.874248743057251,
          2.64605975151062,
          4.3164286613464355,
          3.681638479232788,
          3.8693907260894775,
          3.90179443359375,
          3.460679769515991,
          3.7224228382110596,
          4.130955696105957,
          3.6947576999664307,
          3.7024166584014893,
          4.975438594818115,
          2.7006921768188477,
          5.35660982131958,
          3.9623734951019287,
          4.107676029205322,
          4.622896194458008,
          4.4804887771606445,
          3.0337207317352295,
          2.994062900543213,
          3.9171712398529053,
          5.306721210479736,
          3.230456590652466,
          5.481297969818115,
          3.1185615062713623,
          4.91163969039917,
          4.638250350952148,
          4.0612006187438965
         ]
        },
        {
         "hoverinfo": "text",
         "hovertext": [
          "What are the forces that influence ocean currents? Describe their role in fishing industry of the world.",
          "Discuss the concept of air mass and explain its role in macro-climatic changes.",
          "What do you understand by the phenomenon of ‘temperature inversion’ in meteorology? How does it affect weather and the habitants of the place?",
          "Troposphere is a very significant atmospheric layer that determines weather processes.\nHow?",
          "Why is India taking keen interest in the Arctic region?",
          "How does the cryosphere affect global climate?",
          "Identify and discuss the factors responsible for diversity of natural vegetation in India. Assess the significance of wildlife sanctuaries in rain forests regions of India.",
          "How will the melting of Himalayan glaciers have a far- reaching impact on the water resources of India?",
          "Differentiate the causes of landslides in the Himalayan region and Western Ghats.",
          "Discuss the meaning of colour-coded weather warnings for cyclone prone areas given by India Meteorological department.",
          "Major cities of India are becoming more vulnerable to flood conditions. Discuss.",
          "In what way can floods be converted into a sustainable source of irrigation and all-weather inland navigation in India?",
          "How do the melting of the Arctic ice and glaciers of the Antarctic differently affect the weather patterns and human activities on the Earth? Explain.",
          "Why is the South-West monsoon called ‘Purvaiya’ (easterly) in Bhojpur Region? How has this directional seasonal wind system influenced the cultural ethos of the region?",
          "In what way micro-watershed development projects help in water conservation in\ndrought-prone and semi-arid regions of India?",
          "The recent cyclone on the east coast of India was called ‘Phailin’. How are the tropical cyclones named across the world? Elaborate.",
          "Discuss the consequences of climate change on the food security in tropical countries.",
          "What is water stress? How and why does it differ regionally in India?",
          "“The ideal solution of depleting ground water resources in India is water harvesting system.” How can it be made effective in urban areas?",
          "How are the fjords formed? Why do they constitute some of the most picturesque areas of the world?",
          "Assess the impact of global warming on the coral life system with examples.",
          "Explain the factors responsible for the origin of ocean currents. How do they influence regional climates, fishing and navigation?",
          "Mention the significance of straits and isthmus in international trade.",
          "Most of the unusual climatic happenings are explained as an outcome of the El-Nino effect. Do you agree?",
          "Account for variations in oceanic salinity and discuss its multi-dimensional effects.",
          "Account for the huge flooding of million cities in India including the smart ones like Hyderabad and Pune. Suggest lasting remedial measures.",
          "The interlinking of rivers can provide viable solutions to the multi-dimensional inter-related problems of droughts, floods and interrupted navigation. Critically examine.",
          "How does the Juno Mission of NASA help to understand the origin and evolution of the Earth?",
          "Enumerate the problems and prospects of inland water transport in India.",
          "Present an account of the Indus Water Treaty and examine its ecological, economic and political implications in the context of changing bilateral relations.",
          "The states of Jammu and Kashmir, Himachal Pradesh and Uttarakhand are reaching the limits of ecological carrying capacity due to tourism. Critically evaluate.",
          "What are the consequences of spreading of ‘Dead Zones’ on marine ecosystem?",
          "Bring out the relationship between the shrinking Himalayan glaciers and the symptoms of climate change in the Indian sub-continent.",
          "How far do you agree that the behaviour of the Indian monsoon has been changing due to humanizing landscape? Discuss.",
          "Describe the characteristics and types of primary rocks.",
          "Examine the status of forest resources of India and its resultant impact on climate change.",
          "Critically evaluate the various resources of the oceans which can be harnessed to meet the resource crisis in the world.",
          "The process of desertification does not have climate boundaries. Justify with examples.",
          "What are the economic significances of discovery of oil in Arctic Sea and its possible environemental consequences?",
          "Bring out the causes for more frequent occurrence of landslides in the Himalayas than in the Western Ghats.",
          "South China Sea has assumed great geopolitical significance in the present context. Comment.",
          "Why is the world today confronted with a crisis of availability of and access to freshwater resources?",
          "There is no formation of deltas by rivers on the Western Ghats. Why?",
          "Why are the world’s fold mountain systems located along the margins of continents? Bring out the association between the global distribution of fold mountains and the earthquakes and volcanoes.",
          "Discuss the geophysical characteristics of Circum- Pacific Zone.",
          "Tropical cyclones are largely confined to South China Sea, Bay of Bengal and Gulf of Mexico. Why?",
          "What do you understand by the theory of continental drift? Discuss the prominent evidences in its support.",
          "Why is Indian Regional Navigational Satellite System (IRNSS) needed? How does it help in navigation?",
          "Bring out the causes for the formation of heat islands in the urban habitat of the world.",
          "How do ocean currents and water masses differ in their impacts on marine life and coastal environment? Give suitable examples.",
          "Major hot deserts in northern hemisphere are located between 20-30 deg N latitudes and on the western sides of the continents. Why?",
          "What characteristics can be assigned to monsoon climate that succeeds in feeding more than 50 percent of the world population residing in Monsoon Asia?",
          "How can the mountain ecosystem be restored from the negative impact of development initiatives and tourism?",
          "India is well endowed with fresh water resources. Critically examine why it still suffers from water scarcity.",
          "what are the environmental implications of the reclamation of the water bodies into urban land use? Explain with examples.",
          "Comment on the resource potentials of the long coastline of India and highlight the status of natural hazard preparedness in these areas.",
          "Mention the global occurrence of volcanic eruptions in 2021 and their impact on regional environment.",
          "\"The Himalayas are highly prone to landslides.\" Discuss the causes and suggest suitable measures of mitigation.",
          "Discuss the natural resource potentials of ‘Deccan trap’.",
          "Define mantle plume and explain its role in plate tectonics.",
          "The effective management of land and water resources will drastically reduce the human miseries. Explain.",
          "Discuss the causes of depletion of mangroves and explain their importance in maintaining coastal ecology.",
          "Briefly mention the alignment of major mountain ranges of the world and explain their impact on local weather conditions, with examples.",
          "Explain the formation of thousands of islands in Indonesian and Philipines archipelagos.",
          null
         ],
         "marker": {
          "opacity": 0.5,
          "size": 5
         },
         "mode": "markers+text",
         "name": "0_glaciers_climate_climate change",
         "text": [
          "",
          "",
          "",
          "",
          "",
          "",
          "",
          "",
          "",
          "",
          "",
          "",
          "",
          "",
          "",
          "",
          "",
          "",
          "",
          "",
          "",
          "",
          "",
          "",
          "",
          "",
          "",
          "",
          "",
          "",
          "",
          "",
          "",
          "",
          "",
          "",
          "",
          "",
          "",
          "",
          "",
          "",
          "",
          "",
          "",
          "",
          "",
          "",
          "",
          "",
          "",
          "",
          "",
          "",
          "",
          "",
          "",
          "",
          "",
          "",
          "",
          "",
          "",
          "",
          "0_glaciers_climate_climate change"
         ],
         "textfont": {
          "size": 12
         },
         "type": "scattergl",
         "x": [
          1.2590819597244263,
          0.6190996766090393,
          0.3731842339038849,
          0.3945142328739166,
          1.7246712446212769,
          0.509661078453064,
          2.252864122390747,
          1.2780487537384033,
          -0.04426306486129761,
          0.785938560962677,
          1.0870475769042969,
          1.229419469833374,
          0.6784690022468567,
          0.6157920956611633,
          1.3874409198760986,
          0.671613335609436,
          1.0859768390655518,
          1.3140588998794556,
          1.5140560865402222,
          1.1088805198669434,
          1.3507146835327148,
          1.2178117036819458,
          1.6610596179962158,
          0.5518341064453125,
          1.3344805240631104,
          1.1902967691421509,
          1.2315101623535156,
          0.284994512796402,
          1.4981402158737183,
          1.4596434831619263,
          2.270446300506592,
          1.4380563497543335,
          0.7635591626167297,
          0.6680299639701843,
          -0.05768268555402756,
          2.012031316757202,
          1.5406473875045776,
          0.687293291091919,
          1.8571075201034546,
          -0.019809182733297348,
          1.7024970054626465,
          1.3846722841262817,
          0.1759243756532669,
          0.0449741967022419,
          0.19039684534072876,
          0.5012221932411194,
          0.5021138191223145,
          1.2139818668365479,
          0.5194218158721924,
          1.3054293394088745,
          0.3100469708442688,
          0.748258650302887,
          1.8272550106048584,
          1.4208043813705444,
          1.7406282424926758,
          2.2409379482269287,
          0.09236867725849152,
          -0.01070998515933752,
          2.51896071434021,
          0.03454826399683952,
          1.8015780448913574,
          1.3934710025787354,
          0.2845521569252014,
          0.6376189589500427,
          1.0213543176651
         ],
         "y": [
          2.625734329223633,
          3.299471378326416,
          3.283738613128662,
          3.2096481323242188,
          3.4274442195892334,
          3.2651350498199463,
          3.8799948692321777,
          3.870692253112793,
          3.4211905002593994,
          4.215289115905762,
          4.464872360229492,
          4.40825891494751,
          3.327324867248535,
          4.300083637237549,
          4.326816558837891,
          4.229269027709961,
          3.5781896114349365,
          4.236995220184326,
          4.377742767333984,
          2.8140149116516113,
          2.4982643127441406,
          2.677523612976074,
          2.8982629776000977,
          4.009183883666992,
          2.5330257415771484,
          4.454075336456299,
          4.3974528312683105,
          2.8985955715179443,
          4.171530246734619,
          3.868861198425293,
          3.9259238243103027,
          2.52671480178833,
          3.509526252746582,
          4.199443817138672,
          3.1440134048461914,
          3.870905876159668,
          2.716066837310791,
          3.388709783554077,
          3.0183699131011963,
          3.373037815093994,
          2.895904302597046,
          4.010797500610352,
          3.6353185176849365,
          3.112421751022339,
          2.9312286376953125,
          3.9551517963409424,
          2.837151050567627,
          4.424597263336182,
          3.0926287174224854,
          2.5066099166870117,
          3.3468565940856934,
          4.04412317276001,
          3.9645605087280273,
          4.197790145874023,
          4.321125030517578,
          3.8643410205841064,
          2.950904607772827,
          3.259401798248291,
          3.8022637367248535,
          2.9910836219787598,
          4.200784206390381,
          2.5335564613342285,
          3.304337978363037,
          2.7171719074249268,
          3.5240859985351562
         ]
        },
        {
         "hoverinfo": "text",
         "hovertext": [
          "Assess the importance of the accounts of the Chinese and Arab travellers in the reconstruction of the history of India.",
          "Discuss the ‘Tandava’ dance as recorded in early Indian inscriptions.",
          "Taxila university was one of the oldest universities of the world with which were associated a number of renowned learned personalities of different disciplines. Its strategic location caused its fame to flourish, but unlike Nalanda, it is not considered as a university in the modern sense. Discuss.",
          "Gandhara sculpture owed as much to the Romans as to the Greeks. Explain.",
          "Early Buddhist Stupa-art, while depicting folk motifs and narratives successfully expounds Buddhist ideals. Elucidate.",
          "Krishnadeva Raya, the King of Vijayanagar, was not only an accomplished scholar himself but was also a great patron of learning and literature. Discuss.",
          "Pala period is the most significant phase in the history of Buddhism in India. Enumerate.",
          "Persian literary sources of medieval India reflect the spirit of the age. Comment.",
          "Chola architecture represents a high watermark in the evolution of temple architecture. Discuss",
          "Discuss the significance of the lion and bull figures in Indian mythology, art and architecture.",
          "Safeguarding the Indian art heritage is the need of the moment.",
          "Evaluate the nature of the Bhakti Literature and its contribution to Indian culture.",
          "Mesolithic rock cut architecture of India not only reflects the cultural life of the times but also a fine aesthetic sense comparable to modern painting. Critically evaluate this comment.",
          "How do you justify the view that the level of excellence of the Gupta numismatic art is not at all noticeable in later times?",
          "Indian Philosophy and tradition played a significant role in conceiving and shaping the monuments and their art in India. Discuss.",
          "The rock-cut architecture represents one of the most important sources of our knowledge of early Indian art and history. Discuss.",
          "Discuss the main contributions of Gupta period and Chola period to Indian heritage and culture\n.",
          "Highlight the Central Asian and Greco Bactrian elements in the Gandhara art.",
          "How will you explain the medieval Indian temple sculptures represent the social life of those days?",
          null
         ],
         "marker": {
          "opacity": 0.5,
          "size": 5
         },
         "mode": "markers+text",
         "name": "1_indian art_of the gupta_of vijayanagar was",
         "text": [
          "",
          "",
          "",
          "",
          "",
          "",
          "",
          "",
          "",
          "",
          "",
          "",
          "",
          "",
          "",
          "",
          "",
          "",
          "",
          "1_indian art_of the gupta_of vijayanagar was"
         ],
         "textfont": {
          "size": 12
         },
         "type": "scattergl",
         "x": [
          7.507747173309326,
          7.3493452072143555,
          7.537282466888428,
          7.535654067993164,
          7.294823169708252,
          8.223138809204102,
          7.4385905265808105,
          7.363053321838379,
          7.399338245391846,
          7.422979831695557,
          7.457215309143066,
          7.43955135345459,
          7.448376178741455,
          7.523617744445801,
          7.280776500701904,
          7.391604423522949,
          7.365778923034668,
          7.594840049743652,
          7.21227502822876,
          7.46242094039917
         ],
         "y": [
          6.123079776763916,
          7.528297424316406,
          6.756431579589844,
          7.482113361358643,
          7.443920135498047,
          5.268628120422363,
          7.28136682510376,
          6.294589042663574,
          7.637232780456543,
          7.440403461456299,
          7.603875637054443,
          6.20220422744751,
          7.637434959411621,
          7.473575592041016,
          7.493995189666748,
          7.611097812652588,
          7.2931318283081055,
          7.436908721923828,
          7.443912982940674,
          7.129062652587891
         ]
        },
        {
         "hoverinfo": "text",
         "hovertext": [
          "Despite India being one of the countries of the Gondwanaland, its mining industry contributes much less to its Gross Domestic Product(GDP) in percentage. Discuss.",
          "With growing scarcity of fossil fuels, the atomic energy is gaining more and more significance in India. Discuss the availability of raw material required for the generation of atomic energy in India and in the world.",
          "It is said that India has substantial reserves of shale oil and gas, which can feed the needs of the country for quarter century. However, tapping of the resource does not appear to be high on the agenda. Discuss critically the availability and issues involved.",
          "Account for the present location of iron and steel industries away from the source of raw material, by giving examples.",
          "“Inspite of adverse environmental impact, coal mining is still inevitable for development”.\nDiscuss",
          "Discuss the multi-dimensional implications of uneven distribution of mineral oil in the world.",
          "Account for the change in the spatial pattern of the Iron and Steel industry in the world.",
          "India has immense potential of solar energy though there are regional variations in its developments. Elaborate.",
          "Petroleum refineries are not necessarily located nearer to crude oil producing areas, particularly in many of the developing countries. Explain its implications.",
          null
         ],
         "marker": {
          "opacity": 0.5,
          "size": 5
         },
         "mode": "markers+text",
         "name": "2_its mining industry_oil producing areas_oil producing",
         "text": [
          "",
          "",
          "",
          "",
          "",
          "",
          "",
          "",
          "",
          "2_its mining industry_oil producing areas_oil producing"
         ],
         "textfont": {
          "size": 12
         },
         "type": "scattergl",
         "x": [
          3.1608009338378906,
          3.3112640380859375,
          2.8579466342926025,
          3.3379673957824707,
          2.9706778526306152,
          2.7182986736297607,
          3.3600809574127197,
          3.2756526470184326,
          2.791754961013794,
          3.087160587310791
         ],
         "y": [
          3.313786029815674,
          3.7805349826812744,
          3.2458698749542236,
          3.1349170207977295,
          3.258281707763672,
          3.0960311889648438,
          3.1428375244140625,
          3.867985486984253,
          3.1438326835632324,
          3.33156418800354
         ]
        },
        {
         "hoverinfo": "text",
         "hovertext": [
          "What are the continued challenges for women in India against time and space?",
          "‘Women’s movement in India has not addressed the issues of women of lower social strata.’ Substantiate your view.",
          "‘Despite implementation of various programmes for eradication of poverty by the government in India, poverty is still existing’. Explain by giving reasons.",
          "Discuss the main objectives of Population Education and point out the measures to achieve them in India in detail.",
          "\"An essential condition to eradicate poverty is to liberate the poor from the process of deprivation.\" Substantiate this statement with suitable examples.",
          "“Empowering women is the key to control population growth.” Discuss.",
          "Explore and evaluate the impact of ‘Work From Home’ on family relationships.",
          "The life cycle of a joint family depends on economic factors rather than social values. Discuss.",
          "How does patriarchy impact the position of a middle class working woman in India?",
          "COVID-19 pandemic accelerated class inequalities and poverty in India. Comment.",
          "The women’s questions arose in modern India as a part of the 19th century social reform movement. What are the major issues and debates concerning women in that period?",
          "“Male membership needs to be encouraged in order to make women’s organization free from gender bias.” Comment.",
          "Discuss the various economic and\nsocio-cultural forces that are driving increasing feminization of agriculture in India.",
          "Explain why suicide among young women is increasing in Indian Society.",
          "How do you explain the statistics that show that the sex ratio in Tribes in India is more favourable to women than the sex ratio among Scheduled Castes?",
          "Child cuddling is now being replaced by mobile phones. Discuss its impact on the socialization of children.",
          "Why do some of the most prosperous regions of India have an adverse sex ratio for women? Give your arguments.",
          "Critically examine whether growing population is the cause of poverty OR poverty is the mains cause of population increase in India.",
          null
         ],
         "marker": {
          "opacity": 0.5,
          "size": 5
         },
         "mode": "markers+text",
         "name": "3_poverty in india_poverty is the_poverty in",
         "text": [
          "",
          "",
          "",
          "",
          "",
          "",
          "",
          "",
          "",
          "",
          "",
          "",
          "",
          "",
          "",
          "",
          "",
          "",
          "3_poverty in india_poverty is the_poverty in"
         ],
         "textfont": {
          "size": 12
         },
         "type": "scattergl",
         "x": [
          6.010615825653076,
          5.940440654754639,
          5.454328536987305,
          5.306135654449463,
          5.523390769958496,
          5.695926666259766,
          5.907688140869141,
          5.97462797164917,
          6.0120649337768555,
          5.188749313354492,
          6.028213977813721,
          5.880255222320557,
          5.905705451965332,
          5.986948490142822,
          6.1380486488342285,
          5.849005222320557,
          5.985050201416016,
          5.354915618896484,
          5.785672664642334
         ],
         "y": [
          3.096890449523926,
          3.183988332748413,
          3.3084113597869873,
          3.3752212524414062,
          3.4066689014434814,
          3.2190158367156982,
          3.639911413192749,
          3.694528102874756,
          3.029470920562744,
          3.7457311153411865,
          3.053316593170166,
          3.1870219707489014,
          2.9725565910339355,
          2.8969099521636963,
          2.967789888381958,
          3.7212882041931152,
          2.920758008956909,
          3.3764114379882812,
          3.2664384841918945
         ]
        },
        {
         "hoverinfo": "text",
         "hovertext": [
          "Can the strategy of regional resource-based manufacturing help in promoting employment in India?",
          "Do you agree that there is a growing trend of opening new sugar mills in southern states of India? Discuss with justification.",
          "With a brief background of quality of urban life in India, introduce the objectives and strategy of the 'Smart City Programme'.",
          "Does urbanization lead to more segregation and/or marginalization of the poor in Indian metropolises?",
          "Discuss the various social problems which originated out of the speedy process of urbanization in India.",
          "Bring out the socio-economic effects of the introduction of railways in different countries of the world",
          "“The growth of cities as I.T. hubs has opened up new avenues of employment, but has also created new problems”. Substantiate this statement with examples",
          "How is efficient and affordable urban mass transport key to the rapid economic development in India?",
          "Mention core strategies for the transformation of aspirational districts in India and explain the nature of convergence, collaboration and competition for its success.",
          "How is the growth of Tier 2 cities related to the rise of a new middle class with an emphasis on the culture of consumption?",
          "Elucidate the relationship between globalization and new technology in a world of scarce resources, with special reference to India.",
          "Mumbai, Delhi and Kolkata are the three Mega cities of the country but the air pollution is much more serious probelm in Delhi as compared to the other two. Why is this so?",
          "Discuss the factors for localisation of agro-based food processing industries of North-West India.",
          "Discuss the changes in the trends of labour migration within and outside India in the last four decades.",
          "Smart cities in India cannot sustain without smart vilages. Discuss this statement in the backdrop of rural urban integration.",
          "Analyze the factors for the highly decentralized cotton textile industry in India.",
          "Critically examine the effect of globalization on the aged population in India.",
          "How have digital initiatives in India contributed to the functioning of the education system in the country? Elaborate your answer.",
          "What is the significance of Industrial Corridors in India? Identifying industrial corridors, explain their main characteristics.",
          "What are the main socio-economic implications arising out of the development of IT industries in major cities of India?",
          null
         ],
         "marker": {
          "opacity": 0.5,
          "size": 5
         },
         "mode": "markers+text",
         "name": "4_of urbanization_of urbanization in_urbanization",
         "text": [
          "",
          "",
          "",
          "",
          "",
          "",
          "",
          "",
          "",
          "",
          "",
          "",
          "",
          "",
          "",
          "",
          "",
          "",
          "",
          "",
          "4_of urbanization_of urbanization in_urbanization"
         ],
         "textfont": {
          "size": 12
         },
         "type": "scattergl",
         "x": [
          4.3894243240356445,
          4.3091840744018555,
          4.351735591888428,
          4.584627151489258,
          4.516570091247559,
          4.277103424072266,
          4.322814464569092,
          4.3470354080200195,
          4.9440693855285645,
          4.401566505432129,
          3.8441929817199707,
          4.525924205780029,
          4.509060382843018,
          5.257659435272217,
          4.353246688842773,
          4.433768272399902,
          5.367586135864258,
          4.949965953826904,
          4.129455089569092,
          4.514653205871582,
          4.516482353210449
         ],
         "y": [
          3.098844528198242,
          2.935737371444702,
          3.9012060165405273,
          4.032279014587402,
          4.006824493408203,
          3.712898015975952,
          3.7856411933898926,
          3.767186164855957,
          3.6816604137420654,
          3.8798792362213135,
          3.8175532817840576,
          3.7344491481781006,
          2.844532012939453,
          4.215687274932861,
          4.002842426300049,
          2.8987019062042236,
          4.366980075836182,
          3.630539894104004,
          3.259476661682129,
          3.64070463180542,
          3.6606812477111816
         ]
        },
        {
         "hoverinfo": "text",
         "hovertext": [
          "Describe any four cultural elements of diversity in India and rate their relative significance in building a national identity.",
          "Given the diversities among the tribal communities in India, in which specific contexts should they be considered as a single category?",
          "Are tolerance, assimilation and pluralism the key elements in the making of an Indian form of secularism? Justify your answer.",
          "How do the Indian debates on secularism differ from the debates in the West?",
          "To what extent globalization has influenced the core of cultural diversity in India? Explain.",
          "How the Indian concept of secularism different from the western model of secularism?\nDiscuss.",
          "Trace the rise and growth of socio-religious reform movements with special reference to Young Bengal and Brahmo Samaj.",
          "Is diversity and pluralism in India under threat due to globalisation? Justify your answer.",
          "Assess the main administrative issues and socio-cultural problems in the integration process of Indian Princely States.",
          "Has caste lost its relevance in understanding the multi- cultural Indian Society? Elaborate your answer with illustrations.",
          "Why is caste identity in India both fluid and static?",
          "Discuss the impact of post-liberal economy on ethnic identity and communalism.",
          "How does Indian society maintain continuity in traditional social values? Enumerate the changes taking place in it.",
          "“Caste system is assuming new identities and associational forms. Hence, caste system cannot be eradicated in India.”",
          "Customs and traditions suppress reason leading to obscurantism. Do you agree?",
          "What are the challenges to our cultural practices in the name of secularism?",
          "Examine the uniqueness of tribal knowledge system when compared with mainstream knowledge and cultural systems.",
          "Do you think marriage as a sacrament in loosing its value in Modern India?",
          "What is the basis of regionalism? Is it that unequal distribution of benefits of development on regional basis eventually promotes regionalism? Substantiate your answer.",
          "Sufis and medieval saints failed to modify either the religious ideas and practices or the outward structure of Hindu/ Muslim societies to any appreciable extent. Comment.",
          "Analyze the salience of ‘sect’ in Indian society vis-a-vis caste, region and religion.",
          "What are the main features of Vedic society and religion? Do you think some of the features are still prevailing in Indian society?",
          "Do you agree that regionalism in India appears to be a consequence of rising cultural assertiveness? Argue.",
          "Globalisation is generally said to promote cultural homogenisation but due to this cultural specificities appear to be strengthened in the Indian society.’ Elucidate.",
          "The spirit of tolerance and love is not only an interesting feature of Indian society from very early times, but it is also playing an important part at the present. Elaborate.",
          "Are we losing our local identity for the global identity? Discuss.",
          "Do we have cultural pockets of small India all over the nation? Elaborate with examples.",
          "Has the formation of linguistic States strengthened the cause of Indian Unity?",
          "In the context of the diversity of India, can it be said that the regions form cultural units rather than the States? Give reasons with examples for your view point.",
          "Growing feeling of regionalism is an important factor in generation of demand for a separate state. Discuss.",
          null
         ],
         "marker": {
          "opacity": 0.5,
          "size": 5
         },
         "mode": "markers+text",
         "name": "5_indian society_in indian society_diversity in india",
         "text": [
          "",
          "",
          "",
          "",
          "",
          "",
          "",
          "",
          "",
          "",
          "",
          "",
          "",
          "",
          "",
          "",
          "",
          "",
          "",
          "",
          "",
          "",
          "",
          "",
          "",
          "",
          "",
          "",
          "",
          "",
          "5_indian society_in indian society_diversity in india"
         ],
         "textfont": {
          "size": 12
         },
         "type": "scattergl",
         "x": [
          5.634465217590332,
          5.720976829528809,
          6.543980598449707,
          6.537632942199707,
          5.449913024902344,
          6.518157005310059,
          7.153995990753174,
          5.520666599273682,
          4.987364768981934,
          6.2776570320129395,
          6.322721004486084,
          5.970369338989258,
          5.981302261352539,
          6.360837936401367,
          6.595320701599121,
          6.556941509246826,
          5.750697135925293,
          6.2859392166137695,
          4.957944869995117,
          6.7730865478515625,
          6.429482460021973,
          5.849795818328857,
          5.073867321014404,
          5.596730709075928,
          6.685594081878662,
          5.717662811279297,
          5.19279670715332,
          4.942800521850586,
          5.19405460357666,
          4.989680290222168,
          5.919081687927246
         ],
         "y": [
          5.200982093811035,
          5.162166118621826,
          5.512133598327637,
          5.616996765136719,
          4.76401424407959,
          5.6530375480651855,
          5.302505970001221,
          4.733978748321533,
          4.788815021514893,
          4.888483047485352,
          4.844143867492676,
          4.485583305358887,
          5.136752605438232,
          4.874041557312012,
          5.679504871368408,
          5.659415245056152,
          5.209802150726318,
          4.995218753814697,
          4.743166923522949,
          5.761620044708252,
          5.02106237411499,
          5.341355800628662,
          4.86488676071167,
          4.813519477844238,
          5.216104507446289,
          4.649477005004883,
          4.9252543449401855,
          4.65498161315918,
          5.006234169006348,
          4.741971969604492,
          5.074907302856445
         ]
        },
        {
         "hoverinfo": "text",
         "hovertext": [
          "What was the difference between Mahatma Gandhi and Rabindranath Tagore in their approach towards education and nationalism?",
          "Bring out the constructive programmes of Mahatma Gandhi during Non-Cooperation Movement and Civil Disobedience Movement.",
          "Discuss the role of women in the freedom struggle especially during the Gandhian phase.",
          "Several foreigners made India their homeland and participated in various movements.\nAnalyze their role in the Indian struggle for freedom.",
          "Many voices had strengthened and enriched the nationalist movement during the Gandhian phase. Elaborate.",
          "Clarify how mid-eighteenth century India was beset with the spectre of a fragmented polity.",
          "Critically examine the compulsions which prompted India to play a decisive role in the emergence of Bangladesh.",
          "Mahatma Gandhi and Dr. B R Ambedkar, despite having divergent approaches and strategies, had a common goal of amelioration of the downtrodden. Elucidate.",
          "Throw light on the significance of the thoughts of Mahatma Gandhi in the present times.",
          "Highlight the importance of the new objectives that got added to the vision of Indian Independence since the twenties of the last century.",
          "Discuss the contributions of MaulanaAbulKalam Azad to pre- and post-independent India.",
          "Highlight the differences in the approach of Subhash Chandra Bose and Mahatma Gandhi in the struggle for freedom.",
          "It would have been difficult for the Constituent Assembly to complete its historic task of drafting the Constitution for Independent India in just three years, but its experience gained with the Government of India Act, 1935\n.Discuss.",
          "Examine the linkages between the nineteenth century’s ‘Indian Renaissance’ and the emergence of national identity.",
          "How difficult would have been the achievement of Indian independence without Mahatma Gandhi? Discuss.",
          null
         ],
         "marker": {
          "opacity": 0.5,
          "size": 5
         },
         "mode": "markers+text",
         "name": "6_indian independence_of indian independence_indian independence without",
         "text": [
          "",
          "",
          "",
          "",
          "",
          "",
          "",
          "",
          "",
          "",
          "",
          "",
          "",
          "",
          "",
          "6_indian independence_of indian independence_indian independence without"
         ],
         "textfont": {
          "size": 12
         },
         "type": "scattergl",
         "x": [
          8.067242622375488,
          8.005253791809082,
          7.9424147605896,
          7.936835765838623,
          8.21680736541748,
          7.821572780609131,
          7.847318172454834,
          7.991384029388428,
          8.047680854797363,
          8.258049964904785,
          8.266144752502441,
          8.050077438354492,
          8.292348861694336,
          7.9290337562561035,
          8.236485481262207,
          8.060576438903809
         ],
         "y": [
          4.899190425872803,
          4.97389030456543,
          4.6739726066589355,
          4.391542911529541,
          4.415233612060547,
          4.216818809509277,
          4.335925579071045,
          5.002542972564697,
          4.995534896850586,
          4.387413501739502,
          4.544233798980713,
          4.92804479598999,
          4.525970935821533,
          4.295537948608398,
          4.741569519042969,
          4.621828079223633
         ]
        },
        {
         "hoverinfo": "text",
         "hovertext": [
          "” There arose a serious challenge to the Democratic State System between the two World Wars.” Evaluate the statement.",
          "To what extend can Germany be held responsible for causing the two World Wars? Discuss critically.",
          "Explain how the foundations of the modern world were laid by the American and French Revolutions.",
          "What were the major political, economic and social developments in the world which motivated the anti-colonial in India?",
          "Explain how the Uprising of 1857 constitutes an important watershed in the evolution of British policies towards colonial India.",
          "In what ways did the navel mutiny prove to be the last nail in the coffin of British colonial aspirations in India?",
          "Examine critically the various facets of economic policies of the British in India from mid-eighteenth century till independence.",
          "What were the events that led to the Suez Crisis in 1956? How did it deal a final blow to Britain’s self-image as a world power?",
          "Whereas the British planters had developed tea gardens all along the Shivaliks and Lesser Himalayas from Assam to Himachal Pradesh, in effect they did not succeed beyond the Darjeeling area. Explain.",
          "The anti-colonial struggles in West Africa were led by the new elite of Western-educated Africans.",
          "Why did the armies of the British East India Company – mostly comprising of Indian soldiers – win consistently against the more numerous and better equipped armies of the Indian rulers? Give reasons.",
          "Why indentured labour was taken by the British from India to their colonies? have they been able to preserve their cultural identity over there?",
          "Assess the role of British imperial power in complicating the process of transfer of power during the 1940s.",
          "“American Revolution was an economic revolt against mercantilism.” Substantiate.",
          null
         ],
         "marker": {
          "opacity": 0.5,
          "size": 5
         },
         "mode": "markers+text",
         "name": "7_role of british_policies towards colonial_the anti colonial",
         "text": [
          "",
          "",
          "",
          "",
          "",
          "",
          "",
          "",
          "",
          "",
          "",
          "",
          "",
          "",
          "7_role of british_policies towards colonial_the anti colonial"
         ],
         "textfont": {
          "size": 12
         },
         "type": "scattergl",
         "x": [
          8.41672134399414,
          8.232996940612793,
          8.274669647216797,
          7.597184658050537,
          8.02576732635498,
          7.6255998611450195,
          7.8757171630859375,
          8.202743530273438,
          7.493488788604736,
          7.439302444458008,
          7.780816078186035,
          7.595160007476807,
          8.364428520202637,
          8.12506103515625,
          7.9321184158325195
         ],
         "y": [
          3.4028868675231934,
          3.273231029510498,
          3.493236780166626,
          3.930050849914551,
          3.7443907260894775,
          3.9395053386688232,
          3.800196886062622,
          3.3978118896484375,
          3.2235641479492188,
          3.7946720123291016,
          3.436042070388794,
          4.0616841316223145,
          3.3195788860321045,
          3.584944009780884,
          3.600128173828125
         ]
        }
       ],
       "layout": {
        "annotations": [
         {
          "showarrow": false,
          "text": "D1",
          "x": -0.06633508838713169,
          "y": 5.453287434577942,
          "yshift": 10
         },
         {
          "showarrow": false,
          "text": "D2",
          "x": 4.893483909778297,
          "xshift": 10,
          "y": 8.783050203323365
         }
        ],
        "height": 750,
        "shapes": [
         {
          "line": {
           "color": "#CFD8DC",
           "width": 2
          },
          "type": "line",
          "x0": 4.893483909778297,
          "x1": 4.893483909778297,
          "y0": 2.1235246658325195,
          "y1": 8.783050203323365
         },
         {
          "line": {
           "color": "#9E9E9E",
           "width": 2
          },
          "type": "line",
          "x0": -0.06633508838713169,
          "x1": 9.853302907943725,
          "y0": 5.453287434577942,
          "y1": 5.453287434577942
         }
        ],
        "template": {
         "data": {
          "bar": [
           {
            "error_x": {
             "color": "rgb(36,36,36)"
            },
            "error_y": {
             "color": "rgb(36,36,36)"
            },
            "marker": {
             "line": {
              "color": "white",
              "width": 0.5
             },
             "pattern": {
              "fillmode": "overlay",
              "size": 10,
              "solidity": 0.2
             }
            },
            "type": "bar"
           }
          ],
          "barpolar": [
           {
            "marker": {
             "line": {
              "color": "white",
              "width": 0.5
             },
             "pattern": {
              "fillmode": "overlay",
              "size": 10,
              "solidity": 0.2
             }
            },
            "type": "barpolar"
           }
          ],
          "carpet": [
           {
            "aaxis": {
             "endlinecolor": "rgb(36,36,36)",
             "gridcolor": "white",
             "linecolor": "white",
             "minorgridcolor": "white",
             "startlinecolor": "rgb(36,36,36)"
            },
            "baxis": {
             "endlinecolor": "rgb(36,36,36)",
             "gridcolor": "white",
             "linecolor": "white",
             "minorgridcolor": "white",
             "startlinecolor": "rgb(36,36,36)"
            },
            "type": "carpet"
           }
          ],
          "choropleth": [
           {
            "colorbar": {
             "outlinewidth": 1,
             "tickcolor": "rgb(36,36,36)",
             "ticks": "outside"
            },
            "type": "choropleth"
           }
          ],
          "contour": [
           {
            "colorbar": {
             "outlinewidth": 1,
             "tickcolor": "rgb(36,36,36)",
             "ticks": "outside"
            },
            "colorscale": [
             [
              0,
              "#440154"
             ],
             [
              0.1111111111111111,
              "#482878"
             ],
             [
              0.2222222222222222,
              "#3e4989"
             ],
             [
              0.3333333333333333,
              "#31688e"
             ],
             [
              0.4444444444444444,
              "#26828e"
             ],
             [
              0.5555555555555556,
              "#1f9e89"
             ],
             [
              0.6666666666666666,
              "#35b779"
             ],
             [
              0.7777777777777778,
              "#6ece58"
             ],
             [
              0.8888888888888888,
              "#b5de2b"
             ],
             [
              1,
              "#fde725"
             ]
            ],
            "type": "contour"
           }
          ],
          "contourcarpet": [
           {
            "colorbar": {
             "outlinewidth": 1,
             "tickcolor": "rgb(36,36,36)",
             "ticks": "outside"
            },
            "type": "contourcarpet"
           }
          ],
          "heatmap": [
           {
            "colorbar": {
             "outlinewidth": 1,
             "tickcolor": "rgb(36,36,36)",
             "ticks": "outside"
            },
            "colorscale": [
             [
              0,
              "#440154"
             ],
             [
              0.1111111111111111,
              "#482878"
             ],
             [
              0.2222222222222222,
              "#3e4989"
             ],
             [
              0.3333333333333333,
              "#31688e"
             ],
             [
              0.4444444444444444,
              "#26828e"
             ],
             [
              0.5555555555555556,
              "#1f9e89"
             ],
             [
              0.6666666666666666,
              "#35b779"
             ],
             [
              0.7777777777777778,
              "#6ece58"
             ],
             [
              0.8888888888888888,
              "#b5de2b"
             ],
             [
              1,
              "#fde725"
             ]
            ],
            "type": "heatmap"
           }
          ],
          "heatmapgl": [
           {
            "colorbar": {
             "outlinewidth": 1,
             "tickcolor": "rgb(36,36,36)",
             "ticks": "outside"
            },
            "colorscale": [
             [
              0,
              "#440154"
             ],
             [
              0.1111111111111111,
              "#482878"
             ],
             [
              0.2222222222222222,
              "#3e4989"
             ],
             [
              0.3333333333333333,
              "#31688e"
             ],
             [
              0.4444444444444444,
              "#26828e"
             ],
             [
              0.5555555555555556,
              "#1f9e89"
             ],
             [
              0.6666666666666666,
              "#35b779"
             ],
             [
              0.7777777777777778,
              "#6ece58"
             ],
             [
              0.8888888888888888,
              "#b5de2b"
             ],
             [
              1,
              "#fde725"
             ]
            ],
            "type": "heatmapgl"
           }
          ],
          "histogram": [
           {
            "marker": {
             "line": {
              "color": "white",
              "width": 0.6
             }
            },
            "type": "histogram"
           }
          ],
          "histogram2d": [
           {
            "colorbar": {
             "outlinewidth": 1,
             "tickcolor": "rgb(36,36,36)",
             "ticks": "outside"
            },
            "colorscale": [
             [
              0,
              "#440154"
             ],
             [
              0.1111111111111111,
              "#482878"
             ],
             [
              0.2222222222222222,
              "#3e4989"
             ],
             [
              0.3333333333333333,
              "#31688e"
             ],
             [
              0.4444444444444444,
              "#26828e"
             ],
             [
              0.5555555555555556,
              "#1f9e89"
             ],
             [
              0.6666666666666666,
              "#35b779"
             ],
             [
              0.7777777777777778,
              "#6ece58"
             ],
             [
              0.8888888888888888,
              "#b5de2b"
             ],
             [
              1,
              "#fde725"
             ]
            ],
            "type": "histogram2d"
           }
          ],
          "histogram2dcontour": [
           {
            "colorbar": {
             "outlinewidth": 1,
             "tickcolor": "rgb(36,36,36)",
             "ticks": "outside"
            },
            "colorscale": [
             [
              0,
              "#440154"
             ],
             [
              0.1111111111111111,
              "#482878"
             ],
             [
              0.2222222222222222,
              "#3e4989"
             ],
             [
              0.3333333333333333,
              "#31688e"
             ],
             [
              0.4444444444444444,
              "#26828e"
             ],
             [
              0.5555555555555556,
              "#1f9e89"
             ],
             [
              0.6666666666666666,
              "#35b779"
             ],
             [
              0.7777777777777778,
              "#6ece58"
             ],
             [
              0.8888888888888888,
              "#b5de2b"
             ],
             [
              1,
              "#fde725"
             ]
            ],
            "type": "histogram2dcontour"
           }
          ],
          "mesh3d": [
           {
            "colorbar": {
             "outlinewidth": 1,
             "tickcolor": "rgb(36,36,36)",
             "ticks": "outside"
            },
            "type": "mesh3d"
           }
          ],
          "parcoords": [
           {
            "line": {
             "colorbar": {
              "outlinewidth": 1,
              "tickcolor": "rgb(36,36,36)",
              "ticks": "outside"
             }
            },
            "type": "parcoords"
           }
          ],
          "pie": [
           {
            "automargin": true,
            "type": "pie"
           }
          ],
          "scatter": [
           {
            "fillpattern": {
             "fillmode": "overlay",
             "size": 10,
             "solidity": 0.2
            },
            "type": "scatter"
           }
          ],
          "scatter3d": [
           {
            "line": {
             "colorbar": {
              "outlinewidth": 1,
              "tickcolor": "rgb(36,36,36)",
              "ticks": "outside"
             }
            },
            "marker": {
             "colorbar": {
              "outlinewidth": 1,
              "tickcolor": "rgb(36,36,36)",
              "ticks": "outside"
             }
            },
            "type": "scatter3d"
           }
          ],
          "scattercarpet": [
           {
            "marker": {
             "colorbar": {
              "outlinewidth": 1,
              "tickcolor": "rgb(36,36,36)",
              "ticks": "outside"
             }
            },
            "type": "scattercarpet"
           }
          ],
          "scattergeo": [
           {
            "marker": {
             "colorbar": {
              "outlinewidth": 1,
              "tickcolor": "rgb(36,36,36)",
              "ticks": "outside"
             }
            },
            "type": "scattergeo"
           }
          ],
          "scattergl": [
           {
            "marker": {
             "colorbar": {
              "outlinewidth": 1,
              "tickcolor": "rgb(36,36,36)",
              "ticks": "outside"
             }
            },
            "type": "scattergl"
           }
          ],
          "scattermapbox": [
           {
            "marker": {
             "colorbar": {
              "outlinewidth": 1,
              "tickcolor": "rgb(36,36,36)",
              "ticks": "outside"
             }
            },
            "type": "scattermapbox"
           }
          ],
          "scatterpolar": [
           {
            "marker": {
             "colorbar": {
              "outlinewidth": 1,
              "tickcolor": "rgb(36,36,36)",
              "ticks": "outside"
             }
            },
            "type": "scatterpolar"
           }
          ],
          "scatterpolargl": [
           {
            "marker": {
             "colorbar": {
              "outlinewidth": 1,
              "tickcolor": "rgb(36,36,36)",
              "ticks": "outside"
             }
            },
            "type": "scatterpolargl"
           }
          ],
          "scatterternary": [
           {
            "marker": {
             "colorbar": {
              "outlinewidth": 1,
              "tickcolor": "rgb(36,36,36)",
              "ticks": "outside"
             }
            },
            "type": "scatterternary"
           }
          ],
          "surface": [
           {
            "colorbar": {
             "outlinewidth": 1,
             "tickcolor": "rgb(36,36,36)",
             "ticks": "outside"
            },
            "colorscale": [
             [
              0,
              "#440154"
             ],
             [
              0.1111111111111111,
              "#482878"
             ],
             [
              0.2222222222222222,
              "#3e4989"
             ],
             [
              0.3333333333333333,
              "#31688e"
             ],
             [
              0.4444444444444444,
              "#26828e"
             ],
             [
              0.5555555555555556,
              "#1f9e89"
             ],
             [
              0.6666666666666666,
              "#35b779"
             ],
             [
              0.7777777777777778,
              "#6ece58"
             ],
             [
              0.8888888888888888,
              "#b5de2b"
             ],
             [
              1,
              "#fde725"
             ]
            ],
            "type": "surface"
           }
          ],
          "table": [
           {
            "cells": {
             "fill": {
              "color": "rgb(237,237,237)"
             },
             "line": {
              "color": "white"
             }
            },
            "header": {
             "fill": {
              "color": "rgb(217,217,217)"
             },
             "line": {
              "color": "white"
             }
            },
            "type": "table"
           }
          ]
         },
         "layout": {
          "annotationdefaults": {
           "arrowhead": 0,
           "arrowwidth": 1
          },
          "autotypenumbers": "strict",
          "coloraxis": {
           "colorbar": {
            "outlinewidth": 1,
            "tickcolor": "rgb(36,36,36)",
            "ticks": "outside"
           }
          },
          "colorscale": {
           "diverging": [
            [
             0,
             "rgb(103,0,31)"
            ],
            [
             0.1,
             "rgb(178,24,43)"
            ],
            [
             0.2,
             "rgb(214,96,77)"
            ],
            [
             0.3,
             "rgb(244,165,130)"
            ],
            [
             0.4,
             "rgb(253,219,199)"
            ],
            [
             0.5,
             "rgb(247,247,247)"
            ],
            [
             0.6,
             "rgb(209,229,240)"
            ],
            [
             0.7,
             "rgb(146,197,222)"
            ],
            [
             0.8,
             "rgb(67,147,195)"
            ],
            [
             0.9,
             "rgb(33,102,172)"
            ],
            [
             1,
             "rgb(5,48,97)"
            ]
           ],
           "sequential": [
            [
             0,
             "#440154"
            ],
            [
             0.1111111111111111,
             "#482878"
            ],
            [
             0.2222222222222222,
             "#3e4989"
            ],
            [
             0.3333333333333333,
             "#31688e"
            ],
            [
             0.4444444444444444,
             "#26828e"
            ],
            [
             0.5555555555555556,
             "#1f9e89"
            ],
            [
             0.6666666666666666,
             "#35b779"
            ],
            [
             0.7777777777777778,
             "#6ece58"
            ],
            [
             0.8888888888888888,
             "#b5de2b"
            ],
            [
             1,
             "#fde725"
            ]
           ],
           "sequentialminus": [
            [
             0,
             "#440154"
            ],
            [
             0.1111111111111111,
             "#482878"
            ],
            [
             0.2222222222222222,
             "#3e4989"
            ],
            [
             0.3333333333333333,
             "#31688e"
            ],
            [
             0.4444444444444444,
             "#26828e"
            ],
            [
             0.5555555555555556,
             "#1f9e89"
            ],
            [
             0.6666666666666666,
             "#35b779"
            ],
            [
             0.7777777777777778,
             "#6ece58"
            ],
            [
             0.8888888888888888,
             "#b5de2b"
            ],
            [
             1,
             "#fde725"
            ]
           ]
          },
          "colorway": [
           "#1F77B4",
           "#FF7F0E",
           "#2CA02C",
           "#D62728",
           "#9467BD",
           "#8C564B",
           "#E377C2",
           "#7F7F7F",
           "#BCBD22",
           "#17BECF"
          ],
          "font": {
           "color": "rgb(36,36,36)"
          },
          "geo": {
           "bgcolor": "white",
           "lakecolor": "white",
           "landcolor": "white",
           "showlakes": true,
           "showland": true,
           "subunitcolor": "white"
          },
          "hoverlabel": {
           "align": "left"
          },
          "hovermode": "closest",
          "mapbox": {
           "style": "light"
          },
          "paper_bgcolor": "white",
          "plot_bgcolor": "white",
          "polar": {
           "angularaxis": {
            "gridcolor": "rgb(232,232,232)",
            "linecolor": "rgb(36,36,36)",
            "showgrid": false,
            "showline": true,
            "ticks": "outside"
           },
           "bgcolor": "white",
           "radialaxis": {
            "gridcolor": "rgb(232,232,232)",
            "linecolor": "rgb(36,36,36)",
            "showgrid": false,
            "showline": true,
            "ticks": "outside"
           }
          },
          "scene": {
           "xaxis": {
            "backgroundcolor": "white",
            "gridcolor": "rgb(232,232,232)",
            "gridwidth": 2,
            "linecolor": "rgb(36,36,36)",
            "showbackground": true,
            "showgrid": false,
            "showline": true,
            "ticks": "outside",
            "zeroline": false,
            "zerolinecolor": "rgb(36,36,36)"
           },
           "yaxis": {
            "backgroundcolor": "white",
            "gridcolor": "rgb(232,232,232)",
            "gridwidth": 2,
            "linecolor": "rgb(36,36,36)",
            "showbackground": true,
            "showgrid": false,
            "showline": true,
            "ticks": "outside",
            "zeroline": false,
            "zerolinecolor": "rgb(36,36,36)"
           },
           "zaxis": {
            "backgroundcolor": "white",
            "gridcolor": "rgb(232,232,232)",
            "gridwidth": 2,
            "linecolor": "rgb(36,36,36)",
            "showbackground": true,
            "showgrid": false,
            "showline": true,
            "ticks": "outside",
            "zeroline": false,
            "zerolinecolor": "rgb(36,36,36)"
           }
          },
          "shapedefaults": {
           "fillcolor": "black",
           "line": {
            "width": 0
           },
           "opacity": 0.3
          },
          "ternary": {
           "aaxis": {
            "gridcolor": "rgb(232,232,232)",
            "linecolor": "rgb(36,36,36)",
            "showgrid": false,
            "showline": true,
            "ticks": "outside"
           },
           "baxis": {
            "gridcolor": "rgb(232,232,232)",
            "linecolor": "rgb(36,36,36)",
            "showgrid": false,
            "showline": true,
            "ticks": "outside"
           },
           "bgcolor": "white",
           "caxis": {
            "gridcolor": "rgb(232,232,232)",
            "linecolor": "rgb(36,36,36)",
            "showgrid": false,
            "showline": true,
            "ticks": "outside"
           }
          },
          "title": {
           "x": 0.05
          },
          "xaxis": {
           "automargin": true,
           "gridcolor": "rgb(232,232,232)",
           "linecolor": "rgb(36,36,36)",
           "showgrid": false,
           "showline": true,
           "ticks": "outside",
           "title": {
            "standoff": 15
           },
           "zeroline": false,
           "zerolinecolor": "rgb(36,36,36)"
          },
          "yaxis": {
           "automargin": true,
           "gridcolor": "rgb(232,232,232)",
           "linecolor": "rgb(36,36,36)",
           "showgrid": false,
           "showline": true,
           "ticks": "outside",
           "title": {
            "standoff": 15
           },
           "zeroline": false,
           "zerolinecolor": "rgb(36,36,36)"
          }
         }
        },
        "title": {
         "font": {
          "color": "Black",
          "size": 22
         },
         "text": "<b>Documents and Topics</b>",
         "x": 0.5,
         "xanchor": "center",
         "yanchor": "top"
        },
        "width": 1200,
        "xaxis": {
         "visible": false
        },
        "yaxis": {
         "visible": false
        }
       }
      }
     },
     "metadata": {},
     "output_type": "display_data"
    }
   ],
   "source": [
    "model.visualize_documents(questions)"
   ]
  },
  {
   "cell_type": "code",
   "execution_count": 25,
   "metadata": {},
   "outputs": [
    {
     "data": {
      "application/vnd.plotly.v1+json": {
       "config": {
        "plotlyServerURL": "https://plot.ly"
       },
       "data": [
        {
         "marker": {
          "color": "#D55E00"
         },
         "orientation": "h",
         "type": "bar",
         "x": [
          0.36494916677474976,
          0.39110666513442993,
          0.42375439405441284,
          0.42697757482528687,
          0.4289981722831726
         ],
         "xaxis": "x",
         "y": [
          "weather  ",
          "western ghats  ",
          "climate change  ",
          "climate  ",
          "glaciers  "
         ],
         "yaxis": "y"
        },
        {
         "marker": {
          "color": "#0072B2"
         },
         "orientation": "h",
         "type": "bar",
         "x": [
          0.4534318447113037,
          0.46577903628349304,
          0.49701523780822754,
          0.5562737584114075,
          0.6252480149269104
         ],
         "xaxis": "x2",
         "y": [
          "gandhara  ",
          "of vijayanagar  ",
          "of vijayanagar was  ",
          "of the gupta  ",
          "indian art  "
         ],
         "yaxis": "y2"
        },
        {
         "marker": {
          "color": "#CC79A7"
         },
         "orientation": "h",
         "type": "bar",
         "x": [
          0.4326273202896118,
          0.437980979681015,
          0.4712222218513489,
          0.5012297630310059,
          0.5058673620223999
         ],
         "xaxis": "x3",
         "y": [
          "of shale oil  ",
          "of fossil fuels  ",
          "oil producing  ",
          "oil producing areas  ",
          "its mining industry  "
         ],
         "yaxis": "y3"
        },
        {
         "marker": {
          "color": "#E69F00"
         },
         "orientation": "h",
         "type": "bar",
         "x": [
          0.5294537544250488,
          0.5305293202400208,
          0.5604385137557983,
          0.5693671703338623,
          0.760583758354187
         ],
         "xaxis": "x4",
         "y": [
          "poverty  ",
          "poverty by the  ",
          "poverty in  ",
          "poverty is the  ",
          "poverty in india  "
         ],
         "yaxis": "y4"
        },
        {
         "marker": {
          "color": "#56B4E9"
         },
         "orientation": "h",
         "type": "bar",
         "x": [
          0.5629094243049622,
          0.5659880042076111,
          0.597327470779419,
          0.6180709600448608,
          0.619139552116394
         ],
         "xaxis": "x5",
         "y": [
          "process of urbanization  ",
          "of tier cities  ",
          "urbanization  ",
          "of urbanization in  ",
          "of urbanization  "
         ],
         "yaxis": "y5"
        },
        {
         "marker": {
          "color": "#009E73"
         },
         "orientation": "h",
         "type": "bar",
         "x": [
          0.5705903172492981,
          0.5834065675735474,
          0.6617770195007324,
          0.6656244993209839,
          0.6732450127601624
         ],
         "xaxis": "x6",
         "y": [
          "of hindu  ",
          "caste system  ",
          "diversity in india  ",
          "in indian society  ",
          "indian society  "
         ],
         "yaxis": "y6"
        },
        {
         "marker": {
          "color": "#F0E442"
         },
         "orientation": "h",
         "type": "bar",
         "x": [
          0.6302101016044617,
          0.639869749546051,
          0.6660172939300537,
          0.6928948163986206,
          0.6960700750350952
         ],
         "xaxis": "x7",
         "y": [
          "indian independence since  ",
          "during the gandhian  ",
          "indian independence without  ",
          "of indian independence  ",
          "indian independence  "
         ],
         "yaxis": "y7"
        },
        {
         "marker": {
          "color": "#D55E00"
         },
         "orientation": "h",
         "type": "bar",
         "x": [
          0.47140103578567505,
          0.49955570697784424,
          0.5141902565956116,
          0.5683228969573975,
          0.6104857921600342
         ],
         "xaxis": "x8",
         "y": [
          "revolt against mercantilism  ",
          "of the british  ",
          "the anti colonial  ",
          "policies towards colonial  ",
          "role of british  "
         ],
         "yaxis": "y8"
        }
       ],
       "layout": {
        "annotations": [
         {
          "font": {
           "size": 16
          },
          "showarrow": false,
          "text": "Topic 0",
          "x": 0.0875,
          "xanchor": "center",
          "xref": "paper",
          "y": 1,
          "yanchor": "bottom",
          "yref": "paper"
         },
         {
          "font": {
           "size": 16
          },
          "showarrow": false,
          "text": "Topic 1",
          "x": 0.36250000000000004,
          "xanchor": "center",
          "xref": "paper",
          "y": 1,
          "yanchor": "bottom",
          "yref": "paper"
         },
         {
          "font": {
           "size": 16
          },
          "showarrow": false,
          "text": "Topic 2",
          "x": 0.6375000000000001,
          "xanchor": "center",
          "xref": "paper",
          "y": 1,
          "yanchor": "bottom",
          "yref": "paper"
         },
         {
          "font": {
           "size": 16
          },
          "showarrow": false,
          "text": "Topic 3",
          "x": 0.9125,
          "xanchor": "center",
          "xref": "paper",
          "y": 1,
          "yanchor": "bottom",
          "yref": "paper"
         },
         {
          "font": {
           "size": 16
          },
          "showarrow": false,
          "text": "Topic 4",
          "x": 0.0875,
          "xanchor": "center",
          "xref": "paper",
          "y": 0.4,
          "yanchor": "bottom",
          "yref": "paper"
         },
         {
          "font": {
           "size": 16
          },
          "showarrow": false,
          "text": "Topic 5",
          "x": 0.36250000000000004,
          "xanchor": "center",
          "xref": "paper",
          "y": 0.4,
          "yanchor": "bottom",
          "yref": "paper"
         },
         {
          "font": {
           "size": 16
          },
          "showarrow": false,
          "text": "Topic 6",
          "x": 0.6375000000000001,
          "xanchor": "center",
          "xref": "paper",
          "y": 0.4,
          "yanchor": "bottom",
          "yref": "paper"
         },
         {
          "font": {
           "size": 16
          },
          "showarrow": false,
          "text": "Topic 7",
          "x": 0.9125,
          "xanchor": "center",
          "xref": "paper",
          "y": 0.4,
          "yanchor": "bottom",
          "yref": "paper"
         }
        ],
        "height": 500,
        "hoverlabel": {
         "bgcolor": "white",
         "font": {
          "family": "Rockwell",
          "size": 16
         }
        },
        "showlegend": false,
        "template": {
         "data": {
          "bar": [
           {
            "error_x": {
             "color": "#2a3f5f"
            },
            "error_y": {
             "color": "#2a3f5f"
            },
            "marker": {
             "line": {
              "color": "white",
              "width": 0.5
             },
             "pattern": {
              "fillmode": "overlay",
              "size": 10,
              "solidity": 0.2
             }
            },
            "type": "bar"
           }
          ],
          "barpolar": [
           {
            "marker": {
             "line": {
              "color": "white",
              "width": 0.5
             },
             "pattern": {
              "fillmode": "overlay",
              "size": 10,
              "solidity": 0.2
             }
            },
            "type": "barpolar"
           }
          ],
          "carpet": [
           {
            "aaxis": {
             "endlinecolor": "#2a3f5f",
             "gridcolor": "#C8D4E3",
             "linecolor": "#C8D4E3",
             "minorgridcolor": "#C8D4E3",
             "startlinecolor": "#2a3f5f"
            },
            "baxis": {
             "endlinecolor": "#2a3f5f",
             "gridcolor": "#C8D4E3",
             "linecolor": "#C8D4E3",
             "minorgridcolor": "#C8D4E3",
             "startlinecolor": "#2a3f5f"
            },
            "type": "carpet"
           }
          ],
          "choropleth": [
           {
            "colorbar": {
             "outlinewidth": 0,
             "ticks": ""
            },
            "type": "choropleth"
           }
          ],
          "contour": [
           {
            "colorbar": {
             "outlinewidth": 0,
             "ticks": ""
            },
            "colorscale": [
             [
              0,
              "#0d0887"
             ],
             [
              0.1111111111111111,
              "#46039f"
             ],
             [
              0.2222222222222222,
              "#7201a8"
             ],
             [
              0.3333333333333333,
              "#9c179e"
             ],
             [
              0.4444444444444444,
              "#bd3786"
             ],
             [
              0.5555555555555556,
              "#d8576b"
             ],
             [
              0.6666666666666666,
              "#ed7953"
             ],
             [
              0.7777777777777778,
              "#fb9f3a"
             ],
             [
              0.8888888888888888,
              "#fdca26"
             ],
             [
              1,
              "#f0f921"
             ]
            ],
            "type": "contour"
           }
          ],
          "contourcarpet": [
           {
            "colorbar": {
             "outlinewidth": 0,
             "ticks": ""
            },
            "type": "contourcarpet"
           }
          ],
          "heatmap": [
           {
            "colorbar": {
             "outlinewidth": 0,
             "ticks": ""
            },
            "colorscale": [
             [
              0,
              "#0d0887"
             ],
             [
              0.1111111111111111,
              "#46039f"
             ],
             [
              0.2222222222222222,
              "#7201a8"
             ],
             [
              0.3333333333333333,
              "#9c179e"
             ],
             [
              0.4444444444444444,
              "#bd3786"
             ],
             [
              0.5555555555555556,
              "#d8576b"
             ],
             [
              0.6666666666666666,
              "#ed7953"
             ],
             [
              0.7777777777777778,
              "#fb9f3a"
             ],
             [
              0.8888888888888888,
              "#fdca26"
             ],
             [
              1,
              "#f0f921"
             ]
            ],
            "type": "heatmap"
           }
          ],
          "heatmapgl": [
           {
            "colorbar": {
             "outlinewidth": 0,
             "ticks": ""
            },
            "colorscale": [
             [
              0,
              "#0d0887"
             ],
             [
              0.1111111111111111,
              "#46039f"
             ],
             [
              0.2222222222222222,
              "#7201a8"
             ],
             [
              0.3333333333333333,
              "#9c179e"
             ],
             [
              0.4444444444444444,
              "#bd3786"
             ],
             [
              0.5555555555555556,
              "#d8576b"
             ],
             [
              0.6666666666666666,
              "#ed7953"
             ],
             [
              0.7777777777777778,
              "#fb9f3a"
             ],
             [
              0.8888888888888888,
              "#fdca26"
             ],
             [
              1,
              "#f0f921"
             ]
            ],
            "type": "heatmapgl"
           }
          ],
          "histogram": [
           {
            "marker": {
             "pattern": {
              "fillmode": "overlay",
              "size": 10,
              "solidity": 0.2
             }
            },
            "type": "histogram"
           }
          ],
          "histogram2d": [
           {
            "colorbar": {
             "outlinewidth": 0,
             "ticks": ""
            },
            "colorscale": [
             [
              0,
              "#0d0887"
             ],
             [
              0.1111111111111111,
              "#46039f"
             ],
             [
              0.2222222222222222,
              "#7201a8"
             ],
             [
              0.3333333333333333,
              "#9c179e"
             ],
             [
              0.4444444444444444,
              "#bd3786"
             ],
             [
              0.5555555555555556,
              "#d8576b"
             ],
             [
              0.6666666666666666,
              "#ed7953"
             ],
             [
              0.7777777777777778,
              "#fb9f3a"
             ],
             [
              0.8888888888888888,
              "#fdca26"
             ],
             [
              1,
              "#f0f921"
             ]
            ],
            "type": "histogram2d"
           }
          ],
          "histogram2dcontour": [
           {
            "colorbar": {
             "outlinewidth": 0,
             "ticks": ""
            },
            "colorscale": [
             [
              0,
              "#0d0887"
             ],
             [
              0.1111111111111111,
              "#46039f"
             ],
             [
              0.2222222222222222,
              "#7201a8"
             ],
             [
              0.3333333333333333,
              "#9c179e"
             ],
             [
              0.4444444444444444,
              "#bd3786"
             ],
             [
              0.5555555555555556,
              "#d8576b"
             ],
             [
              0.6666666666666666,
              "#ed7953"
             ],
             [
              0.7777777777777778,
              "#fb9f3a"
             ],
             [
              0.8888888888888888,
              "#fdca26"
             ],
             [
              1,
              "#f0f921"
             ]
            ],
            "type": "histogram2dcontour"
           }
          ],
          "mesh3d": [
           {
            "colorbar": {
             "outlinewidth": 0,
             "ticks": ""
            },
            "type": "mesh3d"
           }
          ],
          "parcoords": [
           {
            "line": {
             "colorbar": {
              "outlinewidth": 0,
              "ticks": ""
             }
            },
            "type": "parcoords"
           }
          ],
          "pie": [
           {
            "automargin": true,
            "type": "pie"
           }
          ],
          "scatter": [
           {
            "fillpattern": {
             "fillmode": "overlay",
             "size": 10,
             "solidity": 0.2
            },
            "type": "scatter"
           }
          ],
          "scatter3d": [
           {
            "line": {
             "colorbar": {
              "outlinewidth": 0,
              "ticks": ""
             }
            },
            "marker": {
             "colorbar": {
              "outlinewidth": 0,
              "ticks": ""
             }
            },
            "type": "scatter3d"
           }
          ],
          "scattercarpet": [
           {
            "marker": {
             "colorbar": {
              "outlinewidth": 0,
              "ticks": ""
             }
            },
            "type": "scattercarpet"
           }
          ],
          "scattergeo": [
           {
            "marker": {
             "colorbar": {
              "outlinewidth": 0,
              "ticks": ""
             }
            },
            "type": "scattergeo"
           }
          ],
          "scattergl": [
           {
            "marker": {
             "colorbar": {
              "outlinewidth": 0,
              "ticks": ""
             }
            },
            "type": "scattergl"
           }
          ],
          "scattermapbox": [
           {
            "marker": {
             "colorbar": {
              "outlinewidth": 0,
              "ticks": ""
             }
            },
            "type": "scattermapbox"
           }
          ],
          "scatterpolar": [
           {
            "marker": {
             "colorbar": {
              "outlinewidth": 0,
              "ticks": ""
             }
            },
            "type": "scatterpolar"
           }
          ],
          "scatterpolargl": [
           {
            "marker": {
             "colorbar": {
              "outlinewidth": 0,
              "ticks": ""
             }
            },
            "type": "scatterpolargl"
           }
          ],
          "scatterternary": [
           {
            "marker": {
             "colorbar": {
              "outlinewidth": 0,
              "ticks": ""
             }
            },
            "type": "scatterternary"
           }
          ],
          "surface": [
           {
            "colorbar": {
             "outlinewidth": 0,
             "ticks": ""
            },
            "colorscale": [
             [
              0,
              "#0d0887"
             ],
             [
              0.1111111111111111,
              "#46039f"
             ],
             [
              0.2222222222222222,
              "#7201a8"
             ],
             [
              0.3333333333333333,
              "#9c179e"
             ],
             [
              0.4444444444444444,
              "#bd3786"
             ],
             [
              0.5555555555555556,
              "#d8576b"
             ],
             [
              0.6666666666666666,
              "#ed7953"
             ],
             [
              0.7777777777777778,
              "#fb9f3a"
             ],
             [
              0.8888888888888888,
              "#fdca26"
             ],
             [
              1,
              "#f0f921"
             ]
            ],
            "type": "surface"
           }
          ],
          "table": [
           {
            "cells": {
             "fill": {
              "color": "#EBF0F8"
             },
             "line": {
              "color": "white"
             }
            },
            "header": {
             "fill": {
              "color": "#C8D4E3"
             },
             "line": {
              "color": "white"
             }
            },
            "type": "table"
           }
          ]
         },
         "layout": {
          "annotationdefaults": {
           "arrowcolor": "#2a3f5f",
           "arrowhead": 0,
           "arrowwidth": 1
          },
          "autotypenumbers": "strict",
          "coloraxis": {
           "colorbar": {
            "outlinewidth": 0,
            "ticks": ""
           }
          },
          "colorscale": {
           "diverging": [
            [
             0,
             "#8e0152"
            ],
            [
             0.1,
             "#c51b7d"
            ],
            [
             0.2,
             "#de77ae"
            ],
            [
             0.3,
             "#f1b6da"
            ],
            [
             0.4,
             "#fde0ef"
            ],
            [
             0.5,
             "#f7f7f7"
            ],
            [
             0.6,
             "#e6f5d0"
            ],
            [
             0.7,
             "#b8e186"
            ],
            [
             0.8,
             "#7fbc41"
            ],
            [
             0.9,
             "#4d9221"
            ],
            [
             1,
             "#276419"
            ]
           ],
           "sequential": [
            [
             0,
             "#0d0887"
            ],
            [
             0.1111111111111111,
             "#46039f"
            ],
            [
             0.2222222222222222,
             "#7201a8"
            ],
            [
             0.3333333333333333,
             "#9c179e"
            ],
            [
             0.4444444444444444,
             "#bd3786"
            ],
            [
             0.5555555555555556,
             "#d8576b"
            ],
            [
             0.6666666666666666,
             "#ed7953"
            ],
            [
             0.7777777777777778,
             "#fb9f3a"
            ],
            [
             0.8888888888888888,
             "#fdca26"
            ],
            [
             1,
             "#f0f921"
            ]
           ],
           "sequentialminus": [
            [
             0,
             "#0d0887"
            ],
            [
             0.1111111111111111,
             "#46039f"
            ],
            [
             0.2222222222222222,
             "#7201a8"
            ],
            [
             0.3333333333333333,
             "#9c179e"
            ],
            [
             0.4444444444444444,
             "#bd3786"
            ],
            [
             0.5555555555555556,
             "#d8576b"
            ],
            [
             0.6666666666666666,
             "#ed7953"
            ],
            [
             0.7777777777777778,
             "#fb9f3a"
            ],
            [
             0.8888888888888888,
             "#fdca26"
            ],
            [
             1,
             "#f0f921"
            ]
           ]
          },
          "colorway": [
           "#636efa",
           "#EF553B",
           "#00cc96",
           "#ab63fa",
           "#FFA15A",
           "#19d3f3",
           "#FF6692",
           "#B6E880",
           "#FF97FF",
           "#FECB52"
          ],
          "font": {
           "color": "#2a3f5f"
          },
          "geo": {
           "bgcolor": "white",
           "lakecolor": "white",
           "landcolor": "white",
           "showlakes": true,
           "showland": true,
           "subunitcolor": "#C8D4E3"
          },
          "hoverlabel": {
           "align": "left"
          },
          "hovermode": "closest",
          "mapbox": {
           "style": "light"
          },
          "paper_bgcolor": "white",
          "plot_bgcolor": "white",
          "polar": {
           "angularaxis": {
            "gridcolor": "#EBF0F8",
            "linecolor": "#EBF0F8",
            "ticks": ""
           },
           "bgcolor": "white",
           "radialaxis": {
            "gridcolor": "#EBF0F8",
            "linecolor": "#EBF0F8",
            "ticks": ""
           }
          },
          "scene": {
           "xaxis": {
            "backgroundcolor": "white",
            "gridcolor": "#DFE8F3",
            "gridwidth": 2,
            "linecolor": "#EBF0F8",
            "showbackground": true,
            "ticks": "",
            "zerolinecolor": "#EBF0F8"
           },
           "yaxis": {
            "backgroundcolor": "white",
            "gridcolor": "#DFE8F3",
            "gridwidth": 2,
            "linecolor": "#EBF0F8",
            "showbackground": true,
            "ticks": "",
            "zerolinecolor": "#EBF0F8"
           },
           "zaxis": {
            "backgroundcolor": "white",
            "gridcolor": "#DFE8F3",
            "gridwidth": 2,
            "linecolor": "#EBF0F8",
            "showbackground": true,
            "ticks": "",
            "zerolinecolor": "#EBF0F8"
           }
          },
          "shapedefaults": {
           "line": {
            "color": "#2a3f5f"
           }
          },
          "ternary": {
           "aaxis": {
            "gridcolor": "#DFE8F3",
            "linecolor": "#A2B1C6",
            "ticks": ""
           },
           "baxis": {
            "gridcolor": "#DFE8F3",
            "linecolor": "#A2B1C6",
            "ticks": ""
           },
           "bgcolor": "white",
           "caxis": {
            "gridcolor": "#DFE8F3",
            "linecolor": "#A2B1C6",
            "ticks": ""
           }
          },
          "title": {
           "x": 0.05
          },
          "xaxis": {
           "automargin": true,
           "gridcolor": "#EBF0F8",
           "linecolor": "#EBF0F8",
           "ticks": "",
           "title": {
            "standoff": 15
           },
           "zerolinecolor": "#EBF0F8",
           "zerolinewidth": 2
          },
          "yaxis": {
           "automargin": true,
           "gridcolor": "#EBF0F8",
           "linecolor": "#EBF0F8",
           "ticks": "",
           "title": {
            "standoff": 15
           },
           "zerolinecolor": "#EBF0F8",
           "zerolinewidth": 2
          }
         }
        },
        "title": {
         "font": {
          "color": "Black",
          "size": 22
         },
         "text": "Topic Word Scores",
         "x": 0.5,
         "xanchor": "center",
         "yanchor": "top"
        },
        "width": 1000,
        "xaxis": {
         "anchor": "y",
         "domain": [
          0,
          0.175
         ],
         "showgrid": true
        },
        "xaxis2": {
         "anchor": "y2",
         "domain": [
          0.275,
          0.45
         ],
         "showgrid": true
        },
        "xaxis3": {
         "anchor": "y3",
         "domain": [
          0.55,
          0.7250000000000001
         ],
         "showgrid": true
        },
        "xaxis4": {
         "anchor": "y4",
         "domain": [
          0.825,
          1
         ],
         "showgrid": true
        },
        "xaxis5": {
         "anchor": "y5",
         "domain": [
          0,
          0.175
         ],
         "showgrid": true
        },
        "xaxis6": {
         "anchor": "y6",
         "domain": [
          0.275,
          0.45
         ],
         "showgrid": true
        },
        "xaxis7": {
         "anchor": "y7",
         "domain": [
          0.55,
          0.7250000000000001
         ],
         "showgrid": true
        },
        "xaxis8": {
         "anchor": "y8",
         "domain": [
          0.825,
          1
         ],
         "showgrid": true
        },
        "yaxis": {
         "anchor": "x",
         "domain": [
          0.6000000000000001,
          1
         ],
         "showgrid": true
        },
        "yaxis2": {
         "anchor": "x2",
         "domain": [
          0.6000000000000001,
          1
         ],
         "showgrid": true
        },
        "yaxis3": {
         "anchor": "x3",
         "domain": [
          0.6000000000000001,
          1
         ],
         "showgrid": true
        },
        "yaxis4": {
         "anchor": "x4",
         "domain": [
          0.6000000000000001,
          1
         ],
         "showgrid": true
        },
        "yaxis5": {
         "anchor": "x5",
         "domain": [
          0,
          0.4
         ],
         "showgrid": true
        },
        "yaxis6": {
         "anchor": "x6",
         "domain": [
          0,
          0.4
         ],
         "showgrid": true
        },
        "yaxis7": {
         "anchor": "x7",
         "domain": [
          0,
          0.4
         ],
         "showgrid": true
        },
        "yaxis8": {
         "anchor": "x8",
         "domain": [
          0,
          0.4
         ],
         "showgrid": true
        }
       }
      }
     },
     "metadata": {},
     "output_type": "display_data"
    }
   ],
   "source": [
    "model.visualize_barchart()"
   ]
  },
  {
   "cell_type": "code",
   "execution_count": 26,
   "metadata": {},
   "outputs": [],
   "source": [
    "from sklearn.feature_extraction.text import CountVectorizer\n",
    "vectorizer_model = CountVectorizer(stop_words=\"english\", ngram_range=(1, 3))\n",
    "model.update_topics(questions,vectorizer_model=vectorizer_model)"
   ]
  },
  {
   "cell_type": "code",
   "execution_count": 27,
   "metadata": {},
   "outputs": [
    {
     "data": {
      "text/html": [
       "<div>\n",
       "<style scoped>\n",
       "    .dataframe tbody tr th:only-of-type {\n",
       "        vertical-align: middle;\n",
       "    }\n",
       "\n",
       "    .dataframe tbody tr th {\n",
       "        vertical-align: top;\n",
       "    }\n",
       "\n",
       "    .dataframe thead th {\n",
       "        text-align: right;\n",
       "    }\n",
       "</style>\n",
       "<table border=\"1\" class=\"dataframe\">\n",
       "  <thead>\n",
       "    <tr style=\"text-align: right;\">\n",
       "      <th></th>\n",
       "      <th>Topic</th>\n",
       "      <th>Count</th>\n",
       "      <th>Name</th>\n",
       "      <th>Representation</th>\n",
       "      <th>Representative_Docs</th>\n",
       "    </tr>\n",
       "  </thead>\n",
       "  <tbody>\n",
       "    <tr>\n",
       "      <th>0</th>\n",
       "      <td>-1</td>\n",
       "      <td>46</td>\n",
       "      <td>-1_india_discuss_did_revolution</td>\n",
       "      <td>[india, discuss, did, revolution, economic, co...</td>\n",
       "      <td>[Though not very useful from the point of view...</td>\n",
       "    </tr>\n",
       "    <tr>\n",
       "      <th>1</th>\n",
       "      <td>0</td>\n",
       "      <td>64</td>\n",
       "      <td>0_water_india_world_discuss</td>\n",
       "      <td>[water, india, world, discuss, explain, resour...</td>\n",
       "      <td>[What do you understand by the phenomenon of ‘...</td>\n",
       "    </tr>\n",
       "    <tr>\n",
       "      <th>2</th>\n",
       "      <td>1</td>\n",
       "      <td>19</td>\n",
       "      <td>1_art_architecture_indian_discuss</td>\n",
       "      <td>[art, architecture, indian, discuss, history, ...</td>\n",
       "      <td>[The rock-cut architecture represents one of t...</td>\n",
       "    </tr>\n",
       "    <tr>\n",
       "      <th>3</th>\n",
       "      <td>2</td>\n",
       "      <td>9</td>\n",
       "      <td>2_energy_oil_discuss_atomic</td>\n",
       "      <td>[energy, oil, discuss, atomic, iron, iron stee...</td>\n",
       "      <td>[Despite India being one of the countries of t...</td>\n",
       "    </tr>\n",
       "    <tr>\n",
       "      <th>4</th>\n",
       "      <td>3</td>\n",
       "      <td>18</td>\n",
       "      <td>3_women_poverty_india_population</td>\n",
       "      <td>[women, poverty, india, population, ratio, sex...</td>\n",
       "      <td>[‘Despite implementation of various programmes...</td>\n",
       "    </tr>\n",
       "    <tr>\n",
       "      <th>5</th>\n",
       "      <td>4</td>\n",
       "      <td>20</td>\n",
       "      <td>4_india_cities_new_smart</td>\n",
       "      <td>[india, cities, new, smart, urban, discuss, so...</td>\n",
       "      <td>[How is the growth of Tier 2 cities related to...</td>\n",
       "    </tr>\n",
       "    <tr>\n",
       "      <th>6</th>\n",
       "      <td>5</td>\n",
       "      <td>30</td>\n",
       "      <td>5_cultural_indian_society_indian society</td>\n",
       "      <td>[cultural, indian, society, indian society, se...</td>\n",
       "      <td>[Sufis and medieval saints failed to modify ei...</td>\n",
       "    </tr>\n",
       "    <tr>\n",
       "      <th>7</th>\n",
       "      <td>6</td>\n",
       "      <td>15</td>\n",
       "      <td>6_mahatma gandhi_mahatma_gandhi_struggle</td>\n",
       "      <td>[mahatma gandhi, mahatma, gandhi, struggle, fr...</td>\n",
       "      <td>[Highlight the differences in the approach of ...</td>\n",
       "    </tr>\n",
       "    <tr>\n",
       "      <th>8</th>\n",
       "      <td>7</td>\n",
       "      <td>14</td>\n",
       "      <td>7_british_colonial_world_did</td>\n",
       "      <td>[british, colonial, world, did, power, india, ...</td>\n",
       "      <td>[What were the events that led to the Suez Cri...</td>\n",
       "    </tr>\n",
       "  </tbody>\n",
       "</table>\n",
       "</div>"
      ],
      "text/plain": [
       "   Topic  Count                                      Name  \\\n",
       "0     -1     46           -1_india_discuss_did_revolution   \n",
       "1      0     64               0_water_india_world_discuss   \n",
       "2      1     19         1_art_architecture_indian_discuss   \n",
       "3      2      9               2_energy_oil_discuss_atomic   \n",
       "4      3     18          3_women_poverty_india_population   \n",
       "5      4     20                  4_india_cities_new_smart   \n",
       "6      5     30  5_cultural_indian_society_indian society   \n",
       "7      6     15  6_mahatma gandhi_mahatma_gandhi_struggle   \n",
       "8      7     14              7_british_colonial_world_did   \n",
       "\n",
       "                                      Representation  \\\n",
       "0  [india, discuss, did, revolution, economic, co...   \n",
       "1  [water, india, world, discuss, explain, resour...   \n",
       "2  [art, architecture, indian, discuss, history, ...   \n",
       "3  [energy, oil, discuss, atomic, iron, iron stee...   \n",
       "4  [women, poverty, india, population, ratio, sex...   \n",
       "5  [india, cities, new, smart, urban, discuss, so...   \n",
       "6  [cultural, indian, society, indian society, se...   \n",
       "7  [mahatma gandhi, mahatma, gandhi, struggle, fr...   \n",
       "8  [british, colonial, world, did, power, india, ...   \n",
       "\n",
       "                                 Representative_Docs  \n",
       "0  [Though not very useful from the point of view...  \n",
       "1  [What do you understand by the phenomenon of ‘...  \n",
       "2  [The rock-cut architecture represents one of t...  \n",
       "3  [Despite India being one of the countries of t...  \n",
       "4  [‘Despite implementation of various programmes...  \n",
       "5  [How is the growth of Tier 2 cities related to...  \n",
       "6  [Sufis and medieval saints failed to modify ei...  \n",
       "7  [Highlight the differences in the approach of ...  \n",
       "8  [What were the events that led to the Suez Cri...  "
      ]
     },
     "execution_count": 27,
     "metadata": {},
     "output_type": "execute_result"
    }
   ],
   "source": [
    "model.get_topic_info()"
   ]
  },
  {
   "cell_type": "code",
   "execution_count": 28,
   "metadata": {},
   "outputs": [
    {
     "data": {
      "application/vnd.plotly.v1+json": {
       "config": {
        "plotlyServerURL": "https://plot.ly"
       },
       "data": [
        {
         "hoverinfo": "text",
         "hovertext": [
          "Describing the distribution of rubber producing countries, indicate the major environmental issues faced by them.",
          "Mention the advantages of the cultivation of pulses because of which the year 2016 was declared as the International Year of Pulses by United Nations.",
          "What is Cryptocurrency? How does it affect global society? Has it been affecting Indian society also?",
          "Why is India considered as a sub-continent? Elaborate your answer.",
          "Examine how the decline of traditional artisanal industry in colonial India crippled the rural economy.",
          "“In many ways, Lord Dalhousie was the founder of modern India.” Elaborate.",
          "Why did the Green Revolution in India virtually by-pass the eastern region despite fertile soil and good availability of water?",
          "Defining blue revolution, explain the problems and strategies for pisciculture development in India.",
          "Why did the ‘Moderates’ failed to carry conviction with the nation about their proclaimed ideology and political goals by the end of the nineteenth century?",
          "Evaluate the policies of Lord Curzon and their long term implications on the national movements.",
          "Write a critical note on the evolution and significance of the slogan, ‘Jai Jawan, Jai Kisan’.",
          "What makes the Indian society unique in sustaining its culture? Discuss.",
          "From being net food importer in 1960s, India has emerged as a net food exporter to the world. Provide reasons.",
          "Examine the role of ‘Gig Economy’ in the process of empowerment of women in India.",
          "How does India see its place in the economic space of rising natural resources rich Africa?",
          "The Bhakti movement received a remarkable re-orientation with the advent of Sri Chaitanya Mahaprabhu. Discuss.",
          "To what extent has the urban planning and culture of the Indus Valley Civilization provided inputs to the present day urbanization?\nDiscuss.",
          "“Africa was chopped into states artificially created by accidents of European competition.” Analyze.",
          "To what extent did the role of the moderates prepare a base for the wider freedom movement? Comment.",
          "Analyze the circumstances that led to the Tashkent Agreement in 1966. Discuss the highlights of the Agreement.",
          "What were the major technological changes introduced during the Sultanate period? How did those technological changes influence the Indian society?",
          "The 1857 uprising was the culmination of the recurrent, big and small local rebellions that had occurred in the preceding hundred years of British rule. Elucidate.",
          "How did the colonial rule affect the tribals in India and what was the tribal response to the colonial oppression?",
          "Though not very useful from the point of view of a connected political history of South India, the Sangam literature portrays the social and economic conditions of its time with remarkable vividness. Comment.",
          "The political and administrative reorganization of states and territories has been a continuous ongoing process since the mid-nineteenth century. Discuss with examples.",
          "The ancient civilization in Indian sub continent differed from those of Egypt , Mesopotamia and Greece in that its culture and traditions have been preserved without breakdown to the present day. Comment",
          "‘Communalism arises either due to power struggle or relative deprivation.’ Argue by giving suitable illustrations.",
          "Why was there a sudden spurt in famines in colonial India since the mid-eighteenth century? Give reasons.",
          "What problems are germane to the decolonization process in the Malay Peninsula?",
          "The third battle of Panipat was fought in 1761. Why were so many empire-shaking battles fought at Panipat?",
          "Defying the barriers of age, gender and religion, the Indian women became the torchbearer during the struggle for freedom in India. Discuss.",
          "Since the decade of the 1920s, the national movement acquired various ideological strands and thereby expanded its social base. Discuss.",
          "Debate the issue whether and how contemporary movements for assertion of Dalit identity work towards annihilation of caste.",
          "The New Economic Policy – 1921 of Lenin had influenced the policies adopted by India soon after independence. Evaluate.",
          "Critically discuss the objectives of Bhoodan and Gramdan movements initiated by AcharyaVinobhaBhave and their success.",
          "What policy instruments were deployed to contain the Great Economic Depression?",
          "Discuss whether formation of new states in recent times is beneficial or not for the economy of India.",
          "What are the two major legal initiatives by the State since Independence addressing discrimination against Scheduled Tribes(STs)?",
          "Distinguish between religiousness/religiosity and communalism giving one example of how the former has got transformed into the latter in independent India.",
          "Why did human development fail to keep pace with economic development in India?",
          "Discuss the positive and negative effects of globalization on women in India?",
          "‘Latecomer’ Industrial Revolution in Japan involved certain factors that were markedly different from what West had experienced.” Analyze.",
          "Why did the industrial revolution first occur in England? Discuss the quality of life of the people there during the industrialization. How does it compare with that in India at present times?",
          "Explain the role of geographical factors towards the development of Ancient India.",
          "Why are the tribals in India referred to as 'the Scheduled Tribes? Indicate the major provisions in the Constitution of India for their upliftment.",
          "Examine the potential of wind energy in India and explain the reasons for their limited spatial spread.",
          null
         ],
         "marker": {
          "color": "#CFD8DC",
          "opacity": 0.5,
          "size": 5
         },
         "mode": "markers+text",
         "name": "other",
         "showlegend": false,
         "type": "scattergl",
         "x": [
          5.656036853790283,
          7.3731913566589355,
          7.284875869750977,
          8.14272403717041,
          8.71763801574707,
          10.406487464904785,
          6.384881973266602,
          5.607530117034912,
          10.393640518188477,
          10.38748836517334,
          9.6986083984375,
          8.611614227294922,
          7.467024803161621,
          7.180585861206055,
          6.352417469024658,
          10.377564430236816,
          6.424575328826904,
          8.892658233642578,
          10.416326522827148,
          9.948636054992676,
          7.310090065002441,
          9.715962409973145,
          9.35020637512207,
          9.860029220581055,
          8.826282501220703,
          8.314505577087402,
          8.697083473205566,
          8.920119285583496,
          9.014287948608398,
          9.377676963806152,
          10.052375793457031,
          10.396003723144531,
          9.108457565307617,
          9.255534172058105,
          10.35764217376709,
          9.185194969177246,
          8.154924392700195,
          9.092092514038086,
          9.419747352600098,
          6.756516456604004,
          7.7410078048706055,
          8.761065483093262,
          8.801484107971191,
          7.275466442108154,
          9.097932815551758,
          6.821343421936035,
          8.595380783081055
         ],
         "y": [
          1.577530026435852,
          0.7506521940231323,
          0.11070816218852997,
          1.756360411643982,
          -0.9462200403213501,
          0.19843316078186035,
          1.8662842512130737,
          2.151733160018921,
          -0.6842526793479919,
          -0.7595517039299011,
          1.0607669353485107,
          1.5841189622879028,
          0.8414774537086487,
          0.08919094502925873,
          1.2488195896148682,
          0.7231887578964233,
          0.4527888894081116,
          -0.15682627260684967,
          -0.7111625075340271,
          -1.1979159116744995,
          1.6701550483703613,
          -0.8001856207847595,
          -0.17698971927165985,
          0.24860979616641998,
          -0.018419833853840828,
          1.8617324829101562,
          0.5283631682395935,
          -1.0393167734146118,
          -0.304091215133667,
          -1.044265627861023,
          -0.2160883992910385,
          -0.7626336812973022,
          1.0664678812026978,
          -0.7032729983329773,
          0.5118855237960815,
          -0.689734935760498,
          0.41171228885650635,
          0.209820955991745,
          0.8568050265312195,
          0.33123916387557983,
          -0.31415536999702454,
          -0.9783253073692322,
          -1.0315288305282593,
          1.663861632347107,
          0.22887562215328217,
          1.331276774406433,
          0.2782156765460968
         ]
        },
        {
         "hoverinfo": "text",
         "hovertext": [
          "How will the melting of Himalayan glaciers have a far- reaching impact on the water resources of India?",
          "Discuss the natural resource potentials of ‘Deccan trap’.",
          "How are the fjords formed? Why do they constitute some of the most picturesque areas of the world?",
          "How can the mountain ecosystem be restored from the negative impact of development initiatives and tourism?",
          "Mention the global occurrence of volcanic eruptions in 2021 and their impact on regional environment.",
          "Discuss the geophysical characteristics of Circum- Pacific Zone.",
          "Why is India taking keen interest in the Arctic region?",
          "Why is Indian Regional Navigational Satellite System (IRNSS) needed? How does it help in navigation?",
          "What are the forces that influence ocean currents? Describe their role in fishing industry of the world.",
          "Enumerate the problems and prospects of inland water transport in India.",
          "what are the environmental implications of the reclamation of the water bodies into urban land use? Explain with examples.",
          "\"The Himalayas are highly prone to landslides.\" Discuss the causes and suggest suitable measures of mitigation.",
          "“The ideal solution of depleting ground water resources in India is water harvesting system.” How can it be made effective in urban areas?",
          "Define mantle plume and explain its role in plate tectonics.",
          "How do the melting of the Arctic ice and glaciers of the Antarctic differently affect the weather patterns and human activities on the Earth? Explain.",
          "Mention the significance of straits and isthmus in international trade.",
          "What do you understand by the phenomenon of ‘temperature inversion’ in meteorology? How does it affect weather and the habitants of the place?",
          "Why are the world’s fold mountain systems located along the margins of continents? Bring out the association between the global distribution of fold mountains and the earthquakes and volcanoes.",
          "Most of the unusual climatic happenings are explained as an outcome of the El-Nino effect. Do you agree?",
          "Examine the status of forest resources of India and its resultant impact on climate change.",
          "Differentiate the causes of landslides in the Himalayan region and Western Ghats.",
          "Discuss the causes of depletion of mangroves and explain their importance in maintaining coastal ecology.",
          "What are the consequences of spreading of ‘Dead Zones’ on marine ecosystem?",
          "Account for the huge flooding of million cities in India including the smart ones like Hyderabad and Pune. Suggest lasting remedial measures.",
          "Bring out the relationship between the shrinking Himalayan glaciers and the symptoms of climate change in the Indian sub-continent.",
          "There is no formation of deltas by rivers on the Western Ghats. Why?",
          "The recent cyclone on the east coast of India was called ‘Phailin’. How are the tropical cyclones named across the world? Elaborate.",
          "Major hot deserts in northern hemisphere are located between 20-30 deg N latitudes and on the western sides of the continents. Why?",
          "The interlinking of rivers can provide viable solutions to the multi-dimensional inter-related problems of droughts, floods and interrupted navigation. Critically examine.",
          "The states of Jammu and Kashmir, Himachal Pradesh and Uttarakhand are reaching the limits of ecological carrying capacity due to tourism. Critically evaluate.",
          "Critically evaluate the various resources of the oceans which can be harnessed to meet the resource crisis in the world.",
          "Comment on the resource potentials of the long coastline of India and highlight the status of natural hazard preparedness in these areas.",
          "The effective management of land and water resources will drastically reduce the human miseries. Explain.",
          "What characteristics can be assigned to monsoon climate that succeeds in feeding more than 50 percent of the world population residing in Monsoon Asia?",
          "Present an account of the Indus Water Treaty and examine its ecological, economic and political implications in the context of changing bilateral relations.",
          "Discuss the concept of air mass and explain its role in macro-climatic changes.",
          "What is water stress? How and why does it differ regionally in India?",
          "Bring out the causes for the formation of heat islands in the urban habitat of the world.",
          "What do you understand by the theory of continental drift? Discuss the prominent evidences in its support.",
          "What are the economic significances of discovery of oil in Arctic Sea and its possible environemental consequences?",
          "Account for variations in oceanic salinity and discuss its multi-dimensional effects.",
          "South China Sea has assumed great geopolitical significance in the present context. Comment.",
          "In what way can floods be converted into a sustainable source of irrigation and all-weather inland navigation in India?",
          "How do ocean currents and water masses differ in their impacts on marine life and coastal environment? Give suitable examples.",
          "How far do you agree that the behaviour of the Indian monsoon has been changing due to humanizing landscape? Discuss.",
          "Why is the world today confronted with a crisis of availability of and access to freshwater resources?",
          "Explain the formation of thousands of islands in Indonesian and Philipines archipelagos.",
          "Major cities of India are becoming more vulnerable to flood conditions. Discuss.",
          "Tropical cyclones are largely confined to South China Sea, Bay of Bengal and Gulf of Mexico. Why?",
          "Why is the South-West monsoon called ‘Purvaiya’ (easterly) in Bhojpur Region? How has this directional seasonal wind system influenced the cultural ethos of the region?",
          "In what way micro-watershed development projects help in water conservation in\ndrought-prone and semi-arid regions of India?",
          "Discuss the meaning of colour-coded weather warnings for cyclone prone areas given by India Meteorological department.",
          "Assess the impact of global warming on the coral life system with examples.",
          "India is well endowed with fresh water resources. Critically examine why it still suffers from water scarcity.",
          "Describe the characteristics and types of primary rocks.",
          "Briefly mention the alignment of major mountain ranges of the world and explain their impact on local weather conditions, with examples.",
          "Troposphere is a very significant atmospheric layer that determines weather processes.\nHow?",
          "Identify and discuss the factors responsible for diversity of natural vegetation in India. Assess the significance of wildlife sanctuaries in rain forests regions of India.",
          "The process of desertification does not have climate boundaries. Justify with examples.",
          "Explain the factors responsible for the origin of ocean currents. How do they influence regional climates, fishing and navigation?",
          "How does the cryosphere affect global climate?",
          "Discuss the consequences of climate change on the food security in tropical countries.",
          "Bring out the causes for more frequent occurrence of landslides in the Himalayas than in the Western Ghats.",
          "How does the Juno Mission of NASA help to understand the origin and evolution of the Earth?",
          null
         ],
         "marker": {
          "opacity": 0.5,
          "size": 5
         },
         "mode": "markers+text",
         "name": "0_water_india_world",
         "text": [
          "",
          "",
          "",
          "",
          "",
          "",
          "",
          "",
          "",
          "",
          "",
          "",
          "",
          "",
          "",
          "",
          "",
          "",
          "",
          "",
          "",
          "",
          "",
          "",
          "",
          "",
          "",
          "",
          "",
          "",
          "",
          "",
          "",
          "",
          "",
          "",
          "",
          "",
          "",
          "",
          "",
          "",
          "",
          "",
          "",
          "",
          "",
          "",
          "",
          "",
          "",
          "",
          "",
          "",
          "",
          "",
          "",
          "",
          "",
          "",
          "",
          "",
          "",
          "",
          "0_water_india_world"
         ],
         "textfont": {
          "size": 12
         },
         "type": "scattergl",
         "x": [
          4.005892276763916,
          5.210108757019043,
          4.168286323547363,
          4.648860931396484,
          3.5288641452789307,
          3.688615322113037,
          4.628001689910889,
          3.8518640995025635,
          4.407787322998047,
          4.097903728485107,
          4.327681064605713,
          3.6580309867858887,
          4.021795272827148,
          3.6213274002075195,
          3.286741018295288,
          4.601756572723389,
          3.0940840244293213,
          3.6494367122650146,
          3.2515077590942383,
          5.151543617248535,
          3.6706368923187256,
          4.579524040222168,
          4.59348201751709,
          3.8572945594787598,
          3.54295015335083,
          3.5794105529785156,
          3.311908483505249,
          3.2850263118743896,
          3.820396661758423,
          5.094287395477295,
          4.58150053024292,
          5.06419038772583,
          4.363653182983398,
          3.448793888092041,
          4.273586750030518,
          3.250247001647949,
          3.894651412963867,
          3.2491228580474854,
          3.7867588996887207,
          4.725315570831299,
          4.480288982391357,
          4.638375282287598,
          3.857541084289551,
          4.473094463348389,
          3.475877523422241,
          4.069493293762207,
          3.9288249015808105,
          3.723154067993164,
          3.275522470474243,
          3.4409003257751465,
          3.94419264793396,
          3.2915618419647217,
          4.543578624725342,
          4.126236438751221,
          3.6194095611572266,
          3.3367769718170166,
          3.0543196201324463,
          5.25112771987915,
          3.3115346431732178,
          4.370983600616455,
          3.0582451820373535,
          3.9835739135742188,
          3.663938522338867,
          3.3231170177459717,
          3.954914093017578
         ],
         "y": [
          2.359370708465576,
          2.0788207054138184,
          3.2491936683654785,
          2.116056203842163,
          3.417442798614502,
          3.607156753540039,
          2.638087511062622,
          1.7779054641723633,
          3.3793394565582275,
          1.7987552881240845,
          1.6341753005981445,
          3.0666940212249756,
          1.741820216178894,
          3.5638933181762695,
          3.201540470123291,
          2.829415798187256,
          3.333540439605713,
          3.5119383335113525,
          2.730372905731201,
          2.3080484867095947,
          2.8844571113586426,
          3.37261962890625,
          3.3598177433013916,
          1.7346895933151245,
          2.848121404647827,
          2.7272355556488037,
          2.205453395843506,
          3.25470232963562,
          1.7726681232452393,
          2.115804672241211,
          3.0620040893554688,
          2.154419183731079,
          1.7044538259506226,
          2.3645975589752197,
          2.2110044956207275,
          3.353184700012207,
          1.8523176908493042,
          3.346677303314209,
          3.519780397415161,
          2.8922536373138428,
          3.391948699951172,
          2.791897773742676,
          1.7374236583709717,
          3.4104671478271484,
          2.3224828243255615,
          2.0809707641601562,
          3.617661476135254,
          1.787318229675293,
          2.3723621368408203,
          2.2794389724731445,
          1.8500233888626099,
          2.1857926845550537,
          3.420797109603882,
          1.8583158254623413,
          3.267632246017456,
          3.267657995223999,
          3.3643405437469482,
          2.2193970680236816,
          3.1405584812164307,
          3.3499062061309814,
          3.299459934234619,
          2.6843864917755127,
          3.0337674617767334,
          3.6089396476745605,
          2.709730863571167
         ]
        },
        {
         "hoverinfo": "text",
         "hovertext": [
          "Discuss the main contributions of Gupta period and Chola period to Indian heritage and culture\n.",
          "Gandhara sculpture owed as much to the Romans as to the Greeks. Explain.",
          "Taxila university was one of the oldest universities of the world with which were associated a number of renowned learned personalities of different disciplines. Its strategic location caused its fame to flourish, but unlike Nalanda, it is not considered as a university in the modern sense. Discuss.",
          "Chola architecture represents a high watermark in the evolution of temple architecture. Discuss",
          "Krishnadeva Raya, the King of Vijayanagar, was not only an accomplished scholar himself but was also a great patron of learning and literature. Discuss.",
          "Safeguarding the Indian art heritage is the need of the moment.",
          "Discuss the ‘Tandava’ dance as recorded in early Indian inscriptions.",
          "Early Buddhist Stupa-art, while depicting folk motifs and narratives successfully expounds Buddhist ideals. Elucidate.",
          "Discuss the significance of the lion and bull figures in Indian mythology, art and architecture.",
          "Evaluate the nature of the Bhakti Literature and its contribution to Indian culture.",
          "How will you explain the medieval Indian temple sculptures represent the social life of those days?",
          "Persian literary sources of medieval India reflect the spirit of the age. Comment.",
          "Pala period is the most significant phase in the history of Buddhism in India. Enumerate.",
          "Mesolithic rock cut architecture of India not only reflects the cultural life of the times but also a fine aesthetic sense comparable to modern painting. Critically evaluate this comment.",
          "Indian Philosophy and tradition played a significant role in conceiving and shaping the monuments and their art in India. Discuss.",
          "Assess the importance of the accounts of the Chinese and Arab travellers in the reconstruction of the history of India.",
          "The rock-cut architecture represents one of the most important sources of our knowledge of early Indian art and history. Discuss.",
          "How do you justify the view that the level of excellence of the Gupta numismatic art is not at all noticeable in later times?",
          "Highlight the Central Asian and Greco Bactrian elements in the Gandhara art.",
          null
         ],
         "marker": {
          "opacity": 0.5,
          "size": 5
         },
         "mode": "markers+text",
         "name": "1_art_architecture_indian",
         "text": [
          "",
          "",
          "",
          "",
          "",
          "",
          "",
          "",
          "",
          "",
          "",
          "",
          "",
          "",
          "",
          "",
          "",
          "",
          "",
          "1_art_architecture_indian"
         ],
         "textfont": {
          "size": 12
         },
         "type": "scattergl",
         "x": [
          11.064802169799805,
          11.267849922180176,
          10.884550094604492,
          11.331809043884277,
          10.604642868041992,
          11.138470649719238,
          11.373076438903809,
          11.423994064331055,
          11.227972030639648,
          10.638684272766113,
          11.453950881958008,
          10.707864761352539,
          11.527070999145508,
          11.273850440979004,
          11.322928428649902,
          10.65799331665039,
          11.349038124084473,
          11.177608489990234,
          11.165444374084473,
          11.136401176452637
         ],
         "y": [
          1.4751949310302734,
          1.6930071115493774,
          1.0654834508895874,
          1.6238389015197754,
          0.4697840213775635,
          1.5351375341415405,
          1.5806682109832764,
          1.6069151163101196,
          1.5859107971191406,
          1.0526564121246338,
          1.6611379384994507,
          1.2131576538085938,
          1.77810800075531,
          1.8233423233032227,
          1.5616250038146973,
          1.048290729522705,
          1.6634457111358643,
          1.5938977003097534,
          1.7359883785247803,
          1.4614521265029907
         ]
        },
        {
         "hoverinfo": "text",
         "hovertext": [
          "With growing scarcity of fossil fuels, the atomic energy is gaining more and more significance in India. Discuss the availability of raw material required for the generation of atomic energy in India and in the world.",
          "It is said that India has substantial reserves of shale oil and gas, which can feed the needs of the country for quarter century. However, tapping of the resource does not appear to be high on the agenda. Discuss critically the availability and issues involved.",
          "India has immense potential of solar energy though there are regional variations in its developments. Elaborate.",
          "Discuss the multi-dimensional implications of uneven distribution of mineral oil in the world.",
          "Account for the present location of iron and steel industries away from the source of raw material, by giving examples.",
          "Despite India being one of the countries of the Gondwanaland, its mining industry contributes much less to its Gross Domestic Product(GDP) in percentage. Discuss.",
          "Petroleum refineries are not necessarily located nearer to crude oil producing areas, particularly in many of the developing countries. Explain its implications.",
          "“Inspite of adverse environmental impact, coal mining is still inevitable for development”.\nDiscuss",
          "Account for the change in the spatial pattern of the Iron and Steel industry in the world.",
          null
         ],
         "marker": {
          "opacity": 0.5,
          "size": 5
         },
         "mode": "markers+text",
         "name": "2_energy_oil_discuss",
         "text": [
          "",
          "",
          "",
          "",
          "",
          "",
          "",
          "",
          "",
          "2_energy_oil_discuss"
         ],
         "textfont": {
          "size": 12
         },
         "type": "scattergl",
         "x": [
          6.759920597076416,
          5.784542560577393,
          6.774961948394775,
          5.667947769165039,
          5.989069938659668,
          6.029046535491943,
          5.708974361419678,
          5.762080192565918,
          6.007540225982666,
          6.0537872314453125
         ],
         "y": [
          1.4156477451324463,
          1.4987343549728394,
          1.4182718992233276,
          1.5720114707946777,
          1.0920737981796265,
          1.2736997604370117,
          1.534110426902771,
          1.4405242204666138,
          1.0862637758255005,
          1.3701485395431519
         ]
        },
        {
         "hoverinfo": "text",
         "hovertext": [
          "‘Despite implementation of various programmes for eradication of poverty by the government in India, poverty is still existing’. Explain by giving reasons.",
          "‘Women’s movement in India has not addressed the issues of women of lower social strata.’ Substantiate your view.",
          "“Male membership needs to be encouraged in order to make women’s organization free from gender bias.” Comment.",
          "\"An essential condition to eradicate poverty is to liberate the poor from the process of deprivation.\" Substantiate this statement with suitable examples.",
          "The women’s questions arose in modern India as a part of the 19th century social reform movement. What are the major issues and debates concerning women in that period?",
          "How does patriarchy impact the position of a middle class working woman in India?",
          "Discuss the main objectives of Population Education and point out the measures to achieve them in India in detail.",
          "Explain why suicide among young women is increasing in Indian Society.",
          "What are the continued challenges for women in India against time and space?",
          "Discuss the various economic and\nsocio-cultural forces that are driving increasing feminization of agriculture in India.",
          "COVID-19 pandemic accelerated class inequalities and poverty in India. Comment.",
          "Child cuddling is now being replaced by mobile phones. Discuss its impact on the socialization of children.",
          "“Empowering women is the key to control population growth.” Discuss.",
          "Explore and evaluate the impact of ‘Work From Home’ on family relationships.",
          "Why do some of the most prosperous regions of India have an adverse sex ratio for women? Give your arguments.",
          "Critically examine whether growing population is the cause of poverty OR poverty is the mains cause of population increase in India.",
          "The life cycle of a joint family depends on economic factors rather than social values. Discuss.",
          "How do you explain the statistics that show that the sex ratio in Tribes in India is more favourable to women than the sex ratio among Scheduled Castes?",
          null
         ],
         "marker": {
          "opacity": 0.5,
          "size": 5
         },
         "mode": "markers+text",
         "name": "3_women_poverty_india",
         "text": [
          "",
          "",
          "",
          "",
          "",
          "",
          "",
          "",
          "",
          "",
          "",
          "",
          "",
          "",
          "",
          "",
          "",
          "",
          "3_women_poverty_india"
         ],
         "textfont": {
          "size": 12
         },
         "type": "scattergl",
         "x": [
          7.5043487548828125,
          7.9599809646606445,
          7.860791206359863,
          7.627255916595459,
          7.962091445922852,
          7.886397838592529,
          7.263161659240723,
          7.703105926513672,
          7.900570392608643,
          7.763099670410156,
          7.1529107093811035,
          7.336085796356201,
          7.596019744873047,
          7.431660175323486,
          7.64133882522583,
          7.333255290985107,
          7.420408248901367,
          7.772631645202637,
          7.61750602722168
         ],
         "y": [
          -0.29777991771698,
          -0.6458566188812256,
          -0.6981759071350098,
          -0.21505770087242126,
          -0.7136456966400146,
          -0.7356557250022888,
          -0.42663633823394775,
          -0.8625069260597229,
          -0.7755212783813477,
          -0.7927358150482178,
          -0.3782327175140381,
          -0.7349907755851746,
          -0.5579610466957092,
          -0.8244471549987793,
          -0.9768489003181458,
          -0.3694119155406952,
          -0.784156322479248,
          -0.9632409811019897,
          -0.6529367566108704
         ]
        },
        {
         "hoverinfo": "text",
         "hovertext": [
          "Mention core strategies for the transformation of aspirational districts in India and explain the nature of convergence, collaboration and competition for its success.",
          "Discuss the factors for localisation of agro-based food processing industries of North-West India.",
          "How have digital initiatives in India contributed to the functioning of the education system in the country? Elaborate your answer.",
          "What are the main socio-economic implications arising out of the development of IT industries in major cities of India?",
          "With a brief background of quality of urban life in India, introduce the objectives and strategy of the 'Smart City Programme'.",
          "Mumbai, Delhi and Kolkata are the three Mega cities of the country but the air pollution is much more serious probelm in Delhi as compared to the other two. Why is this so?",
          "Can the strategy of regional resource-based manufacturing help in promoting employment in India?",
          "Critically examine the effect of globalization on the aged population in India.",
          "Bring out the socio-economic effects of the introduction of railways in different countries of the world",
          "Do you agree that there is a growing trend of opening new sugar mills in southern states of India? Discuss with justification.",
          "“The growth of cities as I.T. hubs has opened up new avenues of employment, but has also created new problems”. Substantiate this statement with examples",
          "Discuss the various social problems which originated out of the speedy process of urbanization in India.",
          "Does urbanization lead to more segregation and/or marginalization of the poor in Indian metropolises?",
          "Discuss the changes in the trends of labour migration within and outside India in the last four decades.",
          "Smart cities in India cannot sustain without smart vilages. Discuss this statement in the backdrop of rural urban integration.",
          "Elucidate the relationship between globalization and new technology in a world of scarce resources, with special reference to India.",
          "How is the growth of Tier 2 cities related to the rise of a new middle class with an emphasis on the culture of consumption?",
          "How is efficient and affordable urban mass transport key to the rapid economic development in India?",
          "What is the significance of Industrial Corridors in India? Identifying industrial corridors, explain their main characteristics.",
          "Analyze the factors for the highly decentralized cotton textile industry in India.",
          null
         ],
         "marker": {
          "opacity": 0.5,
          "size": 5
         },
         "mode": "markers+text",
         "name": "4_india_cities_new",
         "text": [
          "",
          "",
          "",
          "",
          "",
          "",
          "",
          "",
          "",
          "",
          "",
          "",
          "",
          "",
          "",
          "",
          "",
          "",
          "",
          "",
          "4_india_cities_new"
         ],
         "textfont": {
          "size": 12
         },
         "type": "scattergl",
         "x": [
          6.793516635894775,
          7.184988021850586,
          6.8257646560668945,
          6.636612892150879,
          6.340882301330566,
          6.370003700256348,
          7.07441520690918,
          7.834601879119873,
          6.517858028411865,
          7.20943021774292,
          6.364989280700684,
          6.670561790466309,
          6.635690689086914,
          7.764262676239014,
          6.405746936798096,
          7.314579963684082,
          6.413563251495361,
          6.48681640625,
          6.704848766326904,
          7.153822898864746,
          6.835147857666016
         ],
         "y": [
          -0.09376092255115509,
          0.7246150970458984,
          -0.06714898347854614,
          0.14952869713306427,
          0.14276833832263947,
          -0.07704266905784607,
          0.6610450744628906,
          1.2510991096496582,
          0.5756000876426697,
          0.8044960498809814,
          0.18410558998584747,
          0.303425669670105,
          -0.15259850025177002,
          1.15984046459198,
          0.21365615725517273,
          1.222010612487793,
          0.1197475865483284,
          0.32541391253471375,
          0.692197322845459,
          0.6671280264854431,
          0.44030633568763733
         ]
        },
        {
         "hoverinfo": "text",
         "hovertext": [
          "Is diversity and pluralism in India under threat due to globalisation? Justify your answer.",
          "Assess the main administrative issues and socio-cultural problems in the integration process of Indian Princely States.",
          "Are we losing our local identity for the global identity? Discuss.",
          "Globalisation is generally said to promote cultural homogenisation but due to this cultural specificities appear to be strengthened in the Indian society.’ Elucidate.",
          "“Caste system is assuming new identities and associational forms. Hence, caste system cannot be eradicated in India.”",
          "Examine the uniqueness of tribal knowledge system when compared with mainstream knowledge and cultural systems.",
          "Are tolerance, assimilation and pluralism the key elements in the making of an Indian form of secularism? Justify your answer.",
          "Discuss the impact of post-liberal economy on ethnic identity and communalism.",
          "Do you agree that regionalism in India appears to be a consequence of rising cultural assertiveness? Argue.",
          "Growing feeling of regionalism is an important factor in generation of demand for a separate state. Discuss.",
          "Has caste lost its relevance in understanding the multi- cultural Indian Society? Elaborate your answer with illustrations.",
          "How do the Indian debates on secularism differ from the debates in the West?",
          "In the context of the diversity of India, can it be said that the regions form cultural units rather than the States? Give reasons with examples for your view point.",
          "Customs and traditions suppress reason leading to obscurantism. Do you agree?",
          "What are the challenges to our cultural practices in the name of secularism?",
          "Do we have cultural pockets of small India all over the nation? Elaborate with examples.",
          "The spirit of tolerance and love is not only an interesting feature of Indian society from very early times, but it is also playing an important part at the present. Elaborate.",
          "How the Indian concept of secularism different from the western model of secularism?\nDiscuss.",
          "Do you think marriage as a sacrament in loosing its value in Modern India?",
          "To what extent globalization has influenced the core of cultural diversity in India? Explain.",
          "How does Indian society maintain continuity in traditional social values? Enumerate the changes taking place in it.",
          "What is the basis of regionalism? Is it that unequal distribution of benefits of development on regional basis eventually promotes regionalism? Substantiate your answer.",
          "Given the diversities among the tribal communities in India, in which specific contexts should they be considered as a single category?",
          "Has the formation of linguistic States strengthened the cause of Indian Unity?",
          "What are the main features of Vedic society and religion? Do you think some of the features are still prevailing in Indian society?",
          "Trace the rise and growth of socio-religious reform movements with special reference to Young Bengal and Brahmo Samaj.",
          "Describe any four cultural elements of diversity in India and rate their relative significance in building a national identity.",
          "Analyze the salience of ‘sect’ in Indian society vis-a-vis caste, region and religion.",
          "Sufis and medieval saints failed to modify either the religious ideas and practices or the outward structure of Hindu/ Muslim societies to any appreciable extent. Comment.",
          "Why is caste identity in India both fluid and static?",
          null
         ],
         "marker": {
          "opacity": 0.5,
          "size": 5
         },
         "mode": "markers+text",
         "name": "5_cultural_indian_society",
         "text": [
          "",
          "",
          "",
          "",
          "",
          "",
          "",
          "",
          "",
          "",
          "",
          "",
          "",
          "",
          "",
          "",
          "",
          "",
          "",
          "",
          "",
          "",
          "",
          "",
          "",
          "",
          "",
          "",
          "",
          "",
          "5_cultural_indian_society"
         ],
         "textfont": {
          "size": 12
         },
         "type": "scattergl",
         "x": [
          8.165002822875977,
          8.280923843383789,
          8.481154441833496,
          8.173426628112793,
          9.138004302978516,
          8.572393417358398,
          9.444892883300781,
          8.746365547180176,
          8.101527214050293,
          8.330825805664062,
          9.03223705291748,
          9.550626754760742,
          8.319725036621094,
          9.596320152282715,
          9.555153846740723,
          8.330134391784668,
          9.418183326721191,
          9.512906074523926,
          9.057842254638672,
          8.066695213317871,
          8.918484687805176,
          8.110111236572266,
          8.59345531463623,
          8.208237648010254,
          8.87645149230957,
          9.673532485961914,
          8.549842834472656,
          9.306700706481934,
          9.707181930541992,
          9.152572631835938,
          8.832365036010742
         ],
         "y": [
          1.2924193143844604,
          0.5311166048049927,
          0.8983355164527893,
          1.3859214782714844,
          1.0976999998092651,
          1.3873937129974365,
          1.7300305366516113,
          0.6769944429397583,
          1.0538660287857056,
          0.3532848656177521,
          1.1649645566940308,
          1.8242528438568115,
          1.057887077331543,
          1.7937092781066895,
          1.8407750129699707,
          1.151980996131897,
          1.317376971244812,
          1.7957218885421753,
          1.2889536619186401,
          1.353076457977295,
          1.5248712301254272,
          0.7127766609191895,
          1.3456922769546509,
          0.6942666172981262,
          1.7083288431167603,
          1.004478931427002,
          1.4841364622116089,
          1.1152480840682983,
          1.7183390855789185,
          1.0703871250152588,
          1.245809555053711
         ]
        },
        {
         "hoverinfo": "text",
         "hovertext": [
          "Highlight the importance of the new objectives that got added to the vision of Indian Independence since the twenties of the last century.",
          "It would have been difficult for the Constituent Assembly to complete its historic task of drafting the Constitution for Independent India in just three years, but its experience gained with the Government of India Act, 1935\n.Discuss.",
          "What was the difference between Mahatma Gandhi and Rabindranath Tagore in their approach towards education and nationalism?",
          "Discuss the role of women in the freedom struggle especially during the Gandhian phase.",
          "Clarify how mid-eighteenth century India was beset with the spectre of a fragmented polity.",
          "Many voices had strengthened and enriched the nationalist movement during the Gandhian phase. Elaborate.",
          "Throw light on the significance of the thoughts of Mahatma Gandhi in the present times.",
          "Several foreigners made India their homeland and participated in various movements.\nAnalyze their role in the Indian struggle for freedom.",
          "Examine the linkages between the nineteenth century’s ‘Indian Renaissance’ and the emergence of national identity.",
          "Mahatma Gandhi and Dr. B R Ambedkar, despite having divergent approaches and strategies, had a common goal of amelioration of the downtrodden. Elucidate.",
          "Critically examine the compulsions which prompted India to play a decisive role in the emergence of Bangladesh.",
          "How difficult would have been the achievement of Indian independence without Mahatma Gandhi? Discuss.",
          "Discuss the contributions of MaulanaAbulKalam Azad to pre- and post-independent India.",
          "Bring out the constructive programmes of Mahatma Gandhi during Non-Cooperation Movement and Civil Disobedience Movement.",
          "Highlight the differences in the approach of Subhash Chandra Bose and Mahatma Gandhi in the struggle for freedom.",
          null
         ],
         "marker": {
          "opacity": 0.5,
          "size": 5
         },
         "mode": "markers+text",
         "name": "6_mahatma gandhi_mahatma_gandhi",
         "text": [
          "",
          "",
          "",
          "",
          "",
          "",
          "",
          "",
          "",
          "",
          "",
          "",
          "",
          "",
          "",
          "6_mahatma gandhi_mahatma_gandhi"
         ],
         "textfont": {
          "size": 12
         },
         "type": "scattergl",
         "x": [
          9.943506240844727,
          10.110740661621094,
          10.458703994750977,
          10.162955284118652,
          9.763785362243652,
          10.31591796875,
          10.52243423461914,
          9.945162773132324,
          9.85808277130127,
          10.52876091003418,
          9.697288513183594,
          10.419123649597168,
          10.143275260925293,
          10.555760383605957,
          10.507284164428711,
          10.195517539978027
         ],
         "y": [
          -0.3889022767543793,
          -0.3162289261817932,
          -0.254585862159729,
          -0.3769412636756897,
          0.0799613744020462,
          -0.3680729568004608,
          -0.035302624106407166,
          -0.1716642677783966,
          -0.037363048642873764,
          -0.042613811790943146,
          -0.23757877945899963,
          -0.1612132340669632,
          -0.26777002215385437,
          -0.09779584407806396,
          -0.20828138291835785,
          -0.19229020178318024
         ]
        },
        {
         "hoverinfo": "text",
         "hovertext": [
          "Examine critically the various facets of economic policies of the British in India from mid-eighteenth century till independence.",
          "Why did the armies of the British East India Company – mostly comprising of Indian soldiers – win consistently against the more numerous and better equipped armies of the Indian rulers? Give reasons.",
          "What were the events that led to the Suez Crisis in 1956? How did it deal a final blow to Britain’s self-image as a world power?",
          "To what extend can Germany be held responsible for causing the two World Wars? Discuss critically.",
          "Explain how the foundations of the modern world were laid by the American and French Revolutions.",
          "” There arose a serious challenge to the Democratic State System between the two World Wars.” Evaluate the statement.",
          "“American Revolution was an economic revolt against mercantilism.” Substantiate.",
          "Assess the role of British imperial power in complicating the process of transfer of power during the 1940s.",
          "The anti-colonial struggles in West Africa were led by the new elite of Western-educated Africans.",
          "Explain how the Uprising of 1857 constitutes an important watershed in the evolution of British policies towards colonial India.",
          "What were the major political, economic and social developments in the world which motivated the anti-colonial in India?",
          "Why indentured labour was taken by the British from India to their colonies? have they been able to preserve their cultural identity over there?",
          "In what ways did the navel mutiny prove to be the last nail in the coffin of British colonial aspirations in India?",
          "Whereas the British planters had developed tea gardens all along the Shivaliks and Lesser Himalayas from Assam to Himachal Pradesh, in effect they did not succeed beyond the Darjeeling area. Explain.",
          null
         ],
         "marker": {
          "opacity": 0.5,
          "size": 5
         },
         "mode": "markers+text",
         "name": "7_british_colonial_world",
         "text": [
          "",
          "",
          "",
          "",
          "",
          "",
          "",
          "",
          "",
          "",
          "",
          "",
          "",
          "",
          "7_british_colonial_world"
         ],
         "textfont": {
          "size": 12
         },
         "type": "scattergl",
         "x": [
          9.420145034790039,
          9.393301010131836,
          9.869402885437012,
          9.90153980255127,
          9.748644828796387,
          9.98840618133545,
          9.637447357177734,
          9.897788047790527,
          9.347578048706055,
          9.726703643798828,
          9.259530067443848,
          9.564672470092773,
          9.527708053588867,
          9.117060661315918,
          9.599995613098145
         ],
         "y": [
          -0.8443275690078735,
          -1.0261746644973755,
          -1.1760594844818115,
          -1.1374164819717407,
          -1.0680358409881592,
          -1.1245373487472534,
          -1.0207247734069824,
          -1.1735546588897705,
          -0.321575790643692,
          -0.8811673521995544,
          -0.41756805777549744,
          -0.33036401867866516,
          -0.5393648147583008,
          -1.0523828268051147,
          -0.8652324080467224
         ]
        }
       ],
       "layout": {
        "annotations": [
         {
          "showarrow": false,
          "text": "D1",
          "x": 2.5961716771125793,
          "y": 1.3913536995649338,
          "yshift": 10
         },
         {
          "showarrow": false,
          "text": "D2",
          "x": 7.926151663064957,
          "xshift": 10,
          "y": 4.160310697555542
         }
        ],
        "height": 750,
        "shapes": [
         {
          "line": {
           "color": "#CFD8DC",
           "width": 2
          },
          "type": "line",
          "x0": 7.926151663064957,
          "x1": 7.926151663064957,
          "y0": -1.3776032984256745,
          "y1": 4.160310697555542
         },
         {
          "line": {
           "color": "#9E9E9E",
           "width": 2
          },
          "type": "line",
          "x0": 2.5961716771125793,
          "x1": 13.256131649017334,
          "y0": 1.3913536995649338,
          "y1": 1.3913536995649338
         }
        ],
        "template": {
         "data": {
          "bar": [
           {
            "error_x": {
             "color": "rgb(36,36,36)"
            },
            "error_y": {
             "color": "rgb(36,36,36)"
            },
            "marker": {
             "line": {
              "color": "white",
              "width": 0.5
             },
             "pattern": {
              "fillmode": "overlay",
              "size": 10,
              "solidity": 0.2
             }
            },
            "type": "bar"
           }
          ],
          "barpolar": [
           {
            "marker": {
             "line": {
              "color": "white",
              "width": 0.5
             },
             "pattern": {
              "fillmode": "overlay",
              "size": 10,
              "solidity": 0.2
             }
            },
            "type": "barpolar"
           }
          ],
          "carpet": [
           {
            "aaxis": {
             "endlinecolor": "rgb(36,36,36)",
             "gridcolor": "white",
             "linecolor": "white",
             "minorgridcolor": "white",
             "startlinecolor": "rgb(36,36,36)"
            },
            "baxis": {
             "endlinecolor": "rgb(36,36,36)",
             "gridcolor": "white",
             "linecolor": "white",
             "minorgridcolor": "white",
             "startlinecolor": "rgb(36,36,36)"
            },
            "type": "carpet"
           }
          ],
          "choropleth": [
           {
            "colorbar": {
             "outlinewidth": 1,
             "tickcolor": "rgb(36,36,36)",
             "ticks": "outside"
            },
            "type": "choropleth"
           }
          ],
          "contour": [
           {
            "colorbar": {
             "outlinewidth": 1,
             "tickcolor": "rgb(36,36,36)",
             "ticks": "outside"
            },
            "colorscale": [
             [
              0,
              "#440154"
             ],
             [
              0.1111111111111111,
              "#482878"
             ],
             [
              0.2222222222222222,
              "#3e4989"
             ],
             [
              0.3333333333333333,
              "#31688e"
             ],
             [
              0.4444444444444444,
              "#26828e"
             ],
             [
              0.5555555555555556,
              "#1f9e89"
             ],
             [
              0.6666666666666666,
              "#35b779"
             ],
             [
              0.7777777777777778,
              "#6ece58"
             ],
             [
              0.8888888888888888,
              "#b5de2b"
             ],
             [
              1,
              "#fde725"
             ]
            ],
            "type": "contour"
           }
          ],
          "contourcarpet": [
           {
            "colorbar": {
             "outlinewidth": 1,
             "tickcolor": "rgb(36,36,36)",
             "ticks": "outside"
            },
            "type": "contourcarpet"
           }
          ],
          "heatmap": [
           {
            "colorbar": {
             "outlinewidth": 1,
             "tickcolor": "rgb(36,36,36)",
             "ticks": "outside"
            },
            "colorscale": [
             [
              0,
              "#440154"
             ],
             [
              0.1111111111111111,
              "#482878"
             ],
             [
              0.2222222222222222,
              "#3e4989"
             ],
             [
              0.3333333333333333,
              "#31688e"
             ],
             [
              0.4444444444444444,
              "#26828e"
             ],
             [
              0.5555555555555556,
              "#1f9e89"
             ],
             [
              0.6666666666666666,
              "#35b779"
             ],
             [
              0.7777777777777778,
              "#6ece58"
             ],
             [
              0.8888888888888888,
              "#b5de2b"
             ],
             [
              1,
              "#fde725"
             ]
            ],
            "type": "heatmap"
           }
          ],
          "heatmapgl": [
           {
            "colorbar": {
             "outlinewidth": 1,
             "tickcolor": "rgb(36,36,36)",
             "ticks": "outside"
            },
            "colorscale": [
             [
              0,
              "#440154"
             ],
             [
              0.1111111111111111,
              "#482878"
             ],
             [
              0.2222222222222222,
              "#3e4989"
             ],
             [
              0.3333333333333333,
              "#31688e"
             ],
             [
              0.4444444444444444,
              "#26828e"
             ],
             [
              0.5555555555555556,
              "#1f9e89"
             ],
             [
              0.6666666666666666,
              "#35b779"
             ],
             [
              0.7777777777777778,
              "#6ece58"
             ],
             [
              0.8888888888888888,
              "#b5de2b"
             ],
             [
              1,
              "#fde725"
             ]
            ],
            "type": "heatmapgl"
           }
          ],
          "histogram": [
           {
            "marker": {
             "line": {
              "color": "white",
              "width": 0.6
             }
            },
            "type": "histogram"
           }
          ],
          "histogram2d": [
           {
            "colorbar": {
             "outlinewidth": 1,
             "tickcolor": "rgb(36,36,36)",
             "ticks": "outside"
            },
            "colorscale": [
             [
              0,
              "#440154"
             ],
             [
              0.1111111111111111,
              "#482878"
             ],
             [
              0.2222222222222222,
              "#3e4989"
             ],
             [
              0.3333333333333333,
              "#31688e"
             ],
             [
              0.4444444444444444,
              "#26828e"
             ],
             [
              0.5555555555555556,
              "#1f9e89"
             ],
             [
              0.6666666666666666,
              "#35b779"
             ],
             [
              0.7777777777777778,
              "#6ece58"
             ],
             [
              0.8888888888888888,
              "#b5de2b"
             ],
             [
              1,
              "#fde725"
             ]
            ],
            "type": "histogram2d"
           }
          ],
          "histogram2dcontour": [
           {
            "colorbar": {
             "outlinewidth": 1,
             "tickcolor": "rgb(36,36,36)",
             "ticks": "outside"
            },
            "colorscale": [
             [
              0,
              "#440154"
             ],
             [
              0.1111111111111111,
              "#482878"
             ],
             [
              0.2222222222222222,
              "#3e4989"
             ],
             [
              0.3333333333333333,
              "#31688e"
             ],
             [
              0.4444444444444444,
              "#26828e"
             ],
             [
              0.5555555555555556,
              "#1f9e89"
             ],
             [
              0.6666666666666666,
              "#35b779"
             ],
             [
              0.7777777777777778,
              "#6ece58"
             ],
             [
              0.8888888888888888,
              "#b5de2b"
             ],
             [
              1,
              "#fde725"
             ]
            ],
            "type": "histogram2dcontour"
           }
          ],
          "mesh3d": [
           {
            "colorbar": {
             "outlinewidth": 1,
             "tickcolor": "rgb(36,36,36)",
             "ticks": "outside"
            },
            "type": "mesh3d"
           }
          ],
          "parcoords": [
           {
            "line": {
             "colorbar": {
              "outlinewidth": 1,
              "tickcolor": "rgb(36,36,36)",
              "ticks": "outside"
             }
            },
            "type": "parcoords"
           }
          ],
          "pie": [
           {
            "automargin": true,
            "type": "pie"
           }
          ],
          "scatter": [
           {
            "fillpattern": {
             "fillmode": "overlay",
             "size": 10,
             "solidity": 0.2
            },
            "type": "scatter"
           }
          ],
          "scatter3d": [
           {
            "line": {
             "colorbar": {
              "outlinewidth": 1,
              "tickcolor": "rgb(36,36,36)",
              "ticks": "outside"
             }
            },
            "marker": {
             "colorbar": {
              "outlinewidth": 1,
              "tickcolor": "rgb(36,36,36)",
              "ticks": "outside"
             }
            },
            "type": "scatter3d"
           }
          ],
          "scattercarpet": [
           {
            "marker": {
             "colorbar": {
              "outlinewidth": 1,
              "tickcolor": "rgb(36,36,36)",
              "ticks": "outside"
             }
            },
            "type": "scattercarpet"
           }
          ],
          "scattergeo": [
           {
            "marker": {
             "colorbar": {
              "outlinewidth": 1,
              "tickcolor": "rgb(36,36,36)",
              "ticks": "outside"
             }
            },
            "type": "scattergeo"
           }
          ],
          "scattergl": [
           {
            "marker": {
             "colorbar": {
              "outlinewidth": 1,
              "tickcolor": "rgb(36,36,36)",
              "ticks": "outside"
             }
            },
            "type": "scattergl"
           }
          ],
          "scattermapbox": [
           {
            "marker": {
             "colorbar": {
              "outlinewidth": 1,
              "tickcolor": "rgb(36,36,36)",
              "ticks": "outside"
             }
            },
            "type": "scattermapbox"
           }
          ],
          "scatterpolar": [
           {
            "marker": {
             "colorbar": {
              "outlinewidth": 1,
              "tickcolor": "rgb(36,36,36)",
              "ticks": "outside"
             }
            },
            "type": "scatterpolar"
           }
          ],
          "scatterpolargl": [
           {
            "marker": {
             "colorbar": {
              "outlinewidth": 1,
              "tickcolor": "rgb(36,36,36)",
              "ticks": "outside"
             }
            },
            "type": "scatterpolargl"
           }
          ],
          "scatterternary": [
           {
            "marker": {
             "colorbar": {
              "outlinewidth": 1,
              "tickcolor": "rgb(36,36,36)",
              "ticks": "outside"
             }
            },
            "type": "scatterternary"
           }
          ],
          "surface": [
           {
            "colorbar": {
             "outlinewidth": 1,
             "tickcolor": "rgb(36,36,36)",
             "ticks": "outside"
            },
            "colorscale": [
             [
              0,
              "#440154"
             ],
             [
              0.1111111111111111,
              "#482878"
             ],
             [
              0.2222222222222222,
              "#3e4989"
             ],
             [
              0.3333333333333333,
              "#31688e"
             ],
             [
              0.4444444444444444,
              "#26828e"
             ],
             [
              0.5555555555555556,
              "#1f9e89"
             ],
             [
              0.6666666666666666,
              "#35b779"
             ],
             [
              0.7777777777777778,
              "#6ece58"
             ],
             [
              0.8888888888888888,
              "#b5de2b"
             ],
             [
              1,
              "#fde725"
             ]
            ],
            "type": "surface"
           }
          ],
          "table": [
           {
            "cells": {
             "fill": {
              "color": "rgb(237,237,237)"
             },
             "line": {
              "color": "white"
             }
            },
            "header": {
             "fill": {
              "color": "rgb(217,217,217)"
             },
             "line": {
              "color": "white"
             }
            },
            "type": "table"
           }
          ]
         },
         "layout": {
          "annotationdefaults": {
           "arrowhead": 0,
           "arrowwidth": 1
          },
          "autotypenumbers": "strict",
          "coloraxis": {
           "colorbar": {
            "outlinewidth": 1,
            "tickcolor": "rgb(36,36,36)",
            "ticks": "outside"
           }
          },
          "colorscale": {
           "diverging": [
            [
             0,
             "rgb(103,0,31)"
            ],
            [
             0.1,
             "rgb(178,24,43)"
            ],
            [
             0.2,
             "rgb(214,96,77)"
            ],
            [
             0.3,
             "rgb(244,165,130)"
            ],
            [
             0.4,
             "rgb(253,219,199)"
            ],
            [
             0.5,
             "rgb(247,247,247)"
            ],
            [
             0.6,
             "rgb(209,229,240)"
            ],
            [
             0.7,
             "rgb(146,197,222)"
            ],
            [
             0.8,
             "rgb(67,147,195)"
            ],
            [
             0.9,
             "rgb(33,102,172)"
            ],
            [
             1,
             "rgb(5,48,97)"
            ]
           ],
           "sequential": [
            [
             0,
             "#440154"
            ],
            [
             0.1111111111111111,
             "#482878"
            ],
            [
             0.2222222222222222,
             "#3e4989"
            ],
            [
             0.3333333333333333,
             "#31688e"
            ],
            [
             0.4444444444444444,
             "#26828e"
            ],
            [
             0.5555555555555556,
             "#1f9e89"
            ],
            [
             0.6666666666666666,
             "#35b779"
            ],
            [
             0.7777777777777778,
             "#6ece58"
            ],
            [
             0.8888888888888888,
             "#b5de2b"
            ],
            [
             1,
             "#fde725"
            ]
           ],
           "sequentialminus": [
            [
             0,
             "#440154"
            ],
            [
             0.1111111111111111,
             "#482878"
            ],
            [
             0.2222222222222222,
             "#3e4989"
            ],
            [
             0.3333333333333333,
             "#31688e"
            ],
            [
             0.4444444444444444,
             "#26828e"
            ],
            [
             0.5555555555555556,
             "#1f9e89"
            ],
            [
             0.6666666666666666,
             "#35b779"
            ],
            [
             0.7777777777777778,
             "#6ece58"
            ],
            [
             0.8888888888888888,
             "#b5de2b"
            ],
            [
             1,
             "#fde725"
            ]
           ]
          },
          "colorway": [
           "#1F77B4",
           "#FF7F0E",
           "#2CA02C",
           "#D62728",
           "#9467BD",
           "#8C564B",
           "#E377C2",
           "#7F7F7F",
           "#BCBD22",
           "#17BECF"
          ],
          "font": {
           "color": "rgb(36,36,36)"
          },
          "geo": {
           "bgcolor": "white",
           "lakecolor": "white",
           "landcolor": "white",
           "showlakes": true,
           "showland": true,
           "subunitcolor": "white"
          },
          "hoverlabel": {
           "align": "left"
          },
          "hovermode": "closest",
          "mapbox": {
           "style": "light"
          },
          "paper_bgcolor": "white",
          "plot_bgcolor": "white",
          "polar": {
           "angularaxis": {
            "gridcolor": "rgb(232,232,232)",
            "linecolor": "rgb(36,36,36)",
            "showgrid": false,
            "showline": true,
            "ticks": "outside"
           },
           "bgcolor": "white",
           "radialaxis": {
            "gridcolor": "rgb(232,232,232)",
            "linecolor": "rgb(36,36,36)",
            "showgrid": false,
            "showline": true,
            "ticks": "outside"
           }
          },
          "scene": {
           "xaxis": {
            "backgroundcolor": "white",
            "gridcolor": "rgb(232,232,232)",
            "gridwidth": 2,
            "linecolor": "rgb(36,36,36)",
            "showbackground": true,
            "showgrid": false,
            "showline": true,
            "ticks": "outside",
            "zeroline": false,
            "zerolinecolor": "rgb(36,36,36)"
           },
           "yaxis": {
            "backgroundcolor": "white",
            "gridcolor": "rgb(232,232,232)",
            "gridwidth": 2,
            "linecolor": "rgb(36,36,36)",
            "showbackground": true,
            "showgrid": false,
            "showline": true,
            "ticks": "outside",
            "zeroline": false,
            "zerolinecolor": "rgb(36,36,36)"
           },
           "zaxis": {
            "backgroundcolor": "white",
            "gridcolor": "rgb(232,232,232)",
            "gridwidth": 2,
            "linecolor": "rgb(36,36,36)",
            "showbackground": true,
            "showgrid": false,
            "showline": true,
            "ticks": "outside",
            "zeroline": false,
            "zerolinecolor": "rgb(36,36,36)"
           }
          },
          "shapedefaults": {
           "fillcolor": "black",
           "line": {
            "width": 0
           },
           "opacity": 0.3
          },
          "ternary": {
           "aaxis": {
            "gridcolor": "rgb(232,232,232)",
            "linecolor": "rgb(36,36,36)",
            "showgrid": false,
            "showline": true,
            "ticks": "outside"
           },
           "baxis": {
            "gridcolor": "rgb(232,232,232)",
            "linecolor": "rgb(36,36,36)",
            "showgrid": false,
            "showline": true,
            "ticks": "outside"
           },
           "bgcolor": "white",
           "caxis": {
            "gridcolor": "rgb(232,232,232)",
            "linecolor": "rgb(36,36,36)",
            "showgrid": false,
            "showline": true,
            "ticks": "outside"
           }
          },
          "title": {
           "x": 0.05
          },
          "xaxis": {
           "automargin": true,
           "gridcolor": "rgb(232,232,232)",
           "linecolor": "rgb(36,36,36)",
           "showgrid": false,
           "showline": true,
           "ticks": "outside",
           "title": {
            "standoff": 15
           },
           "zeroline": false,
           "zerolinecolor": "rgb(36,36,36)"
          },
          "yaxis": {
           "automargin": true,
           "gridcolor": "rgb(232,232,232)",
           "linecolor": "rgb(36,36,36)",
           "showgrid": false,
           "showline": true,
           "ticks": "outside",
           "title": {
            "standoff": 15
           },
           "zeroline": false,
           "zerolinecolor": "rgb(36,36,36)"
          }
         }
        },
        "title": {
         "font": {
          "color": "Black",
          "size": 22
         },
         "text": "<b>Documents and Topics</b>",
         "x": 0.5,
         "xanchor": "center",
         "yanchor": "top"
        },
        "width": 1200,
        "xaxis": {
         "visible": false
        },
        "yaxis": {
         "visible": false
        }
       }
      }
     },
     "metadata": {},
     "output_type": "display_data"
    }
   ],
   "source": [
    "model.visualize_documents(questions)"
   ]
  },
  {
   "cell_type": "code",
   "execution_count": 29,
   "metadata": {},
   "outputs": [
    {
     "data": {
      "application/vnd.plotly.v1+json": {
       "config": {
        "plotlyServerURL": "https://plot.ly"
       },
       "data": [
        {
         "customdata": [
          [
           0,
           "water | india | world | discuss | explain",
           64
          ],
          [
           1,
           "art | architecture | indian | discuss | history",
           19
          ],
          [
           2,
           "energy | oil | discuss | atomic | iron",
           9
          ],
          [
           3,
           "women | poverty | india | population | ratio",
           18
          ],
          [
           4,
           "india | cities | new | smart | urban",
           20
          ],
          [
           5,
           "cultural | indian | society | indian society | secularism",
           30
          ],
          [
           6,
           "mahatma gandhi | mahatma | gandhi | struggle | freedom",
           15
          ],
          [
           7,
           "british | colonial | world | did | power",
           14
          ]
         ],
         "hovertemplate": "<b>Topic %{customdata[0]}</b><br>%{customdata[1]}<br>Size: %{customdata[2]}",
         "legendgroup": "",
         "marker": {
          "color": "#B0BEC5",
          "line": {
           "color": "DarkSlateGrey",
           "width": 2
          },
          "size": [
           64,
           19,
           9,
           18,
           20,
           30,
           15,
           14
          ],
          "sizemode": "area",
          "sizeref": 0.04,
          "symbol": "circle"
         },
         "mode": "markers",
         "name": "",
         "orientation": "v",
         "showlegend": false,
         "type": "scatter",
         "x": [
          2.2108490467071533,
          2.5717275142669678,
          2.250988721847534,
          -4.93140983581543,
          2.8469114303588867,
          -5.381097793579102,
          -3.8175477981567383,
          -4.767989635467529
         ],
         "xaxis": "x",
         "y": [
          7.621748447418213,
          8.342137336730957,
          9.017693519592285,
          12.088818550109863,
          7.595278739929199,
          12.652240753173828,
          11.80219554901123,
          12.89362907409668
         ],
         "yaxis": "y"
        }
       ],
       "layout": {
        "annotations": [
         {
          "showarrow": false,
          "text": "D1",
          "x": -6.188262462615967,
          "y": 10.6418301820755,
          "yshift": 10
         },
         {
          "showarrow": false,
          "text": "D2",
          "x": -1.4571571588516234,
          "xshift": 10,
          "y": 14.827673435211182
         }
        ],
        "height": 650,
        "hoverlabel": {
         "bgcolor": "white",
         "font": {
          "family": "Rockwell",
          "size": 16
         }
        },
        "legend": {
         "itemsizing": "constant",
         "tracegroupgap": 0
        },
        "margin": {
         "t": 60
        },
        "shapes": [
         {
          "line": {
           "color": "#CFD8DC",
           "width": 2
          },
          "type": "line",
          "x0": -1.4571571588516234,
          "x1": -1.4571571588516234,
          "y0": 6.4559869289398195,
          "y1": 14.827673435211182
         },
         {
          "line": {
           "color": "#9E9E9E",
           "width": 2
          },
          "type": "line",
          "x0": -6.188262462615967,
          "x1": 3.27394814491272,
          "y0": 10.6418301820755,
          "y1": 10.6418301820755
         }
        ],
        "sliders": [
         {
          "active": 0,
          "pad": {
           "t": 50
          },
          "steps": [
           {
            "args": [
             {
              "marker.color": [
               [
                "red",
                "#B0BEC5",
                "#B0BEC5",
                "#B0BEC5",
                "#B0BEC5",
                "#B0BEC5",
                "#B0BEC5",
                "#B0BEC5"
               ]
              ]
             }
            ],
            "label": "Topic 0",
            "method": "update"
           },
           {
            "args": [
             {
              "marker.color": [
               [
                "#B0BEC5",
                "red",
                "#B0BEC5",
                "#B0BEC5",
                "#B0BEC5",
                "#B0BEC5",
                "#B0BEC5",
                "#B0BEC5"
               ]
              ]
             }
            ],
            "label": "Topic 1",
            "method": "update"
           },
           {
            "args": [
             {
              "marker.color": [
               [
                "#B0BEC5",
                "#B0BEC5",
                "red",
                "#B0BEC5",
                "#B0BEC5",
                "#B0BEC5",
                "#B0BEC5",
                "#B0BEC5"
               ]
              ]
             }
            ],
            "label": "Topic 2",
            "method": "update"
           },
           {
            "args": [
             {
              "marker.color": [
               [
                "#B0BEC5",
                "#B0BEC5",
                "#B0BEC5",
                "red",
                "#B0BEC5",
                "#B0BEC5",
                "#B0BEC5",
                "#B0BEC5"
               ]
              ]
             }
            ],
            "label": "Topic 3",
            "method": "update"
           },
           {
            "args": [
             {
              "marker.color": [
               [
                "#B0BEC5",
                "#B0BEC5",
                "#B0BEC5",
                "#B0BEC5",
                "red",
                "#B0BEC5",
                "#B0BEC5",
                "#B0BEC5"
               ]
              ]
             }
            ],
            "label": "Topic 4",
            "method": "update"
           },
           {
            "args": [
             {
              "marker.color": [
               [
                "#B0BEC5",
                "#B0BEC5",
                "#B0BEC5",
                "#B0BEC5",
                "#B0BEC5",
                "red",
                "#B0BEC5",
                "#B0BEC5"
               ]
              ]
             }
            ],
            "label": "Topic 5",
            "method": "update"
           },
           {
            "args": [
             {
              "marker.color": [
               [
                "#B0BEC5",
                "#B0BEC5",
                "#B0BEC5",
                "#B0BEC5",
                "#B0BEC5",
                "#B0BEC5",
                "red",
                "#B0BEC5"
               ]
              ]
             }
            ],
            "label": "Topic 6",
            "method": "update"
           },
           {
            "args": [
             {
              "marker.color": [
               [
                "#B0BEC5",
                "#B0BEC5",
                "#B0BEC5",
                "#B0BEC5",
                "#B0BEC5",
                "#B0BEC5",
                "#B0BEC5",
                "red"
               ]
              ]
             }
            ],
            "label": "Topic 7",
            "method": "update"
           }
          ]
         }
        ],
        "template": {
         "data": {
          "bar": [
           {
            "error_x": {
             "color": "rgb(36,36,36)"
            },
            "error_y": {
             "color": "rgb(36,36,36)"
            },
            "marker": {
             "line": {
              "color": "white",
              "width": 0.5
             },
             "pattern": {
              "fillmode": "overlay",
              "size": 10,
              "solidity": 0.2
             }
            },
            "type": "bar"
           }
          ],
          "barpolar": [
           {
            "marker": {
             "line": {
              "color": "white",
              "width": 0.5
             },
             "pattern": {
              "fillmode": "overlay",
              "size": 10,
              "solidity": 0.2
             }
            },
            "type": "barpolar"
           }
          ],
          "carpet": [
           {
            "aaxis": {
             "endlinecolor": "rgb(36,36,36)",
             "gridcolor": "white",
             "linecolor": "white",
             "minorgridcolor": "white",
             "startlinecolor": "rgb(36,36,36)"
            },
            "baxis": {
             "endlinecolor": "rgb(36,36,36)",
             "gridcolor": "white",
             "linecolor": "white",
             "minorgridcolor": "white",
             "startlinecolor": "rgb(36,36,36)"
            },
            "type": "carpet"
           }
          ],
          "choropleth": [
           {
            "colorbar": {
             "outlinewidth": 1,
             "tickcolor": "rgb(36,36,36)",
             "ticks": "outside"
            },
            "type": "choropleth"
           }
          ],
          "contour": [
           {
            "colorbar": {
             "outlinewidth": 1,
             "tickcolor": "rgb(36,36,36)",
             "ticks": "outside"
            },
            "colorscale": [
             [
              0,
              "#440154"
             ],
             [
              0.1111111111111111,
              "#482878"
             ],
             [
              0.2222222222222222,
              "#3e4989"
             ],
             [
              0.3333333333333333,
              "#31688e"
             ],
             [
              0.4444444444444444,
              "#26828e"
             ],
             [
              0.5555555555555556,
              "#1f9e89"
             ],
             [
              0.6666666666666666,
              "#35b779"
             ],
             [
              0.7777777777777778,
              "#6ece58"
             ],
             [
              0.8888888888888888,
              "#b5de2b"
             ],
             [
              1,
              "#fde725"
             ]
            ],
            "type": "contour"
           }
          ],
          "contourcarpet": [
           {
            "colorbar": {
             "outlinewidth": 1,
             "tickcolor": "rgb(36,36,36)",
             "ticks": "outside"
            },
            "type": "contourcarpet"
           }
          ],
          "heatmap": [
           {
            "colorbar": {
             "outlinewidth": 1,
             "tickcolor": "rgb(36,36,36)",
             "ticks": "outside"
            },
            "colorscale": [
             [
              0,
              "#440154"
             ],
             [
              0.1111111111111111,
              "#482878"
             ],
             [
              0.2222222222222222,
              "#3e4989"
             ],
             [
              0.3333333333333333,
              "#31688e"
             ],
             [
              0.4444444444444444,
              "#26828e"
             ],
             [
              0.5555555555555556,
              "#1f9e89"
             ],
             [
              0.6666666666666666,
              "#35b779"
             ],
             [
              0.7777777777777778,
              "#6ece58"
             ],
             [
              0.8888888888888888,
              "#b5de2b"
             ],
             [
              1,
              "#fde725"
             ]
            ],
            "type": "heatmap"
           }
          ],
          "heatmapgl": [
           {
            "colorbar": {
             "outlinewidth": 1,
             "tickcolor": "rgb(36,36,36)",
             "ticks": "outside"
            },
            "colorscale": [
             [
              0,
              "#440154"
             ],
             [
              0.1111111111111111,
              "#482878"
             ],
             [
              0.2222222222222222,
              "#3e4989"
             ],
             [
              0.3333333333333333,
              "#31688e"
             ],
             [
              0.4444444444444444,
              "#26828e"
             ],
             [
              0.5555555555555556,
              "#1f9e89"
             ],
             [
              0.6666666666666666,
              "#35b779"
             ],
             [
              0.7777777777777778,
              "#6ece58"
             ],
             [
              0.8888888888888888,
              "#b5de2b"
             ],
             [
              1,
              "#fde725"
             ]
            ],
            "type": "heatmapgl"
           }
          ],
          "histogram": [
           {
            "marker": {
             "line": {
              "color": "white",
              "width": 0.6
             }
            },
            "type": "histogram"
           }
          ],
          "histogram2d": [
           {
            "colorbar": {
             "outlinewidth": 1,
             "tickcolor": "rgb(36,36,36)",
             "ticks": "outside"
            },
            "colorscale": [
             [
              0,
              "#440154"
             ],
             [
              0.1111111111111111,
              "#482878"
             ],
             [
              0.2222222222222222,
              "#3e4989"
             ],
             [
              0.3333333333333333,
              "#31688e"
             ],
             [
              0.4444444444444444,
              "#26828e"
             ],
             [
              0.5555555555555556,
              "#1f9e89"
             ],
             [
              0.6666666666666666,
              "#35b779"
             ],
             [
              0.7777777777777778,
              "#6ece58"
             ],
             [
              0.8888888888888888,
              "#b5de2b"
             ],
             [
              1,
              "#fde725"
             ]
            ],
            "type": "histogram2d"
           }
          ],
          "histogram2dcontour": [
           {
            "colorbar": {
             "outlinewidth": 1,
             "tickcolor": "rgb(36,36,36)",
             "ticks": "outside"
            },
            "colorscale": [
             [
              0,
              "#440154"
             ],
             [
              0.1111111111111111,
              "#482878"
             ],
             [
              0.2222222222222222,
              "#3e4989"
             ],
             [
              0.3333333333333333,
              "#31688e"
             ],
             [
              0.4444444444444444,
              "#26828e"
             ],
             [
              0.5555555555555556,
              "#1f9e89"
             ],
             [
              0.6666666666666666,
              "#35b779"
             ],
             [
              0.7777777777777778,
              "#6ece58"
             ],
             [
              0.8888888888888888,
              "#b5de2b"
             ],
             [
              1,
              "#fde725"
             ]
            ],
            "type": "histogram2dcontour"
           }
          ],
          "mesh3d": [
           {
            "colorbar": {
             "outlinewidth": 1,
             "tickcolor": "rgb(36,36,36)",
             "ticks": "outside"
            },
            "type": "mesh3d"
           }
          ],
          "parcoords": [
           {
            "line": {
             "colorbar": {
              "outlinewidth": 1,
              "tickcolor": "rgb(36,36,36)",
              "ticks": "outside"
             }
            },
            "type": "parcoords"
           }
          ],
          "pie": [
           {
            "automargin": true,
            "type": "pie"
           }
          ],
          "scatter": [
           {
            "fillpattern": {
             "fillmode": "overlay",
             "size": 10,
             "solidity": 0.2
            },
            "type": "scatter"
           }
          ],
          "scatter3d": [
           {
            "line": {
             "colorbar": {
              "outlinewidth": 1,
              "tickcolor": "rgb(36,36,36)",
              "ticks": "outside"
             }
            },
            "marker": {
             "colorbar": {
              "outlinewidth": 1,
              "tickcolor": "rgb(36,36,36)",
              "ticks": "outside"
             }
            },
            "type": "scatter3d"
           }
          ],
          "scattercarpet": [
           {
            "marker": {
             "colorbar": {
              "outlinewidth": 1,
              "tickcolor": "rgb(36,36,36)",
              "ticks": "outside"
             }
            },
            "type": "scattercarpet"
           }
          ],
          "scattergeo": [
           {
            "marker": {
             "colorbar": {
              "outlinewidth": 1,
              "tickcolor": "rgb(36,36,36)",
              "ticks": "outside"
             }
            },
            "type": "scattergeo"
           }
          ],
          "scattergl": [
           {
            "marker": {
             "colorbar": {
              "outlinewidth": 1,
              "tickcolor": "rgb(36,36,36)",
              "ticks": "outside"
             }
            },
            "type": "scattergl"
           }
          ],
          "scattermapbox": [
           {
            "marker": {
             "colorbar": {
              "outlinewidth": 1,
              "tickcolor": "rgb(36,36,36)",
              "ticks": "outside"
             }
            },
            "type": "scattermapbox"
           }
          ],
          "scatterpolar": [
           {
            "marker": {
             "colorbar": {
              "outlinewidth": 1,
              "tickcolor": "rgb(36,36,36)",
              "ticks": "outside"
             }
            },
            "type": "scatterpolar"
           }
          ],
          "scatterpolargl": [
           {
            "marker": {
             "colorbar": {
              "outlinewidth": 1,
              "tickcolor": "rgb(36,36,36)",
              "ticks": "outside"
             }
            },
            "type": "scatterpolargl"
           }
          ],
          "scatterternary": [
           {
            "marker": {
             "colorbar": {
              "outlinewidth": 1,
              "tickcolor": "rgb(36,36,36)",
              "ticks": "outside"
             }
            },
            "type": "scatterternary"
           }
          ],
          "surface": [
           {
            "colorbar": {
             "outlinewidth": 1,
             "tickcolor": "rgb(36,36,36)",
             "ticks": "outside"
            },
            "colorscale": [
             [
              0,
              "#440154"
             ],
             [
              0.1111111111111111,
              "#482878"
             ],
             [
              0.2222222222222222,
              "#3e4989"
             ],
             [
              0.3333333333333333,
              "#31688e"
             ],
             [
              0.4444444444444444,
              "#26828e"
             ],
             [
              0.5555555555555556,
              "#1f9e89"
             ],
             [
              0.6666666666666666,
              "#35b779"
             ],
             [
              0.7777777777777778,
              "#6ece58"
             ],
             [
              0.8888888888888888,
              "#b5de2b"
             ],
             [
              1,
              "#fde725"
             ]
            ],
            "type": "surface"
           }
          ],
          "table": [
           {
            "cells": {
             "fill": {
              "color": "rgb(237,237,237)"
             },
             "line": {
              "color": "white"
             }
            },
            "header": {
             "fill": {
              "color": "rgb(217,217,217)"
             },
             "line": {
              "color": "white"
             }
            },
            "type": "table"
           }
          ]
         },
         "layout": {
          "annotationdefaults": {
           "arrowhead": 0,
           "arrowwidth": 1
          },
          "autotypenumbers": "strict",
          "coloraxis": {
           "colorbar": {
            "outlinewidth": 1,
            "tickcolor": "rgb(36,36,36)",
            "ticks": "outside"
           }
          },
          "colorscale": {
           "diverging": [
            [
             0,
             "rgb(103,0,31)"
            ],
            [
             0.1,
             "rgb(178,24,43)"
            ],
            [
             0.2,
             "rgb(214,96,77)"
            ],
            [
             0.3,
             "rgb(244,165,130)"
            ],
            [
             0.4,
             "rgb(253,219,199)"
            ],
            [
             0.5,
             "rgb(247,247,247)"
            ],
            [
             0.6,
             "rgb(209,229,240)"
            ],
            [
             0.7,
             "rgb(146,197,222)"
            ],
            [
             0.8,
             "rgb(67,147,195)"
            ],
            [
             0.9,
             "rgb(33,102,172)"
            ],
            [
             1,
             "rgb(5,48,97)"
            ]
           ],
           "sequential": [
            [
             0,
             "#440154"
            ],
            [
             0.1111111111111111,
             "#482878"
            ],
            [
             0.2222222222222222,
             "#3e4989"
            ],
            [
             0.3333333333333333,
             "#31688e"
            ],
            [
             0.4444444444444444,
             "#26828e"
            ],
            [
             0.5555555555555556,
             "#1f9e89"
            ],
            [
             0.6666666666666666,
             "#35b779"
            ],
            [
             0.7777777777777778,
             "#6ece58"
            ],
            [
             0.8888888888888888,
             "#b5de2b"
            ],
            [
             1,
             "#fde725"
            ]
           ],
           "sequentialminus": [
            [
             0,
             "#440154"
            ],
            [
             0.1111111111111111,
             "#482878"
            ],
            [
             0.2222222222222222,
             "#3e4989"
            ],
            [
             0.3333333333333333,
             "#31688e"
            ],
            [
             0.4444444444444444,
             "#26828e"
            ],
            [
             0.5555555555555556,
             "#1f9e89"
            ],
            [
             0.6666666666666666,
             "#35b779"
            ],
            [
             0.7777777777777778,
             "#6ece58"
            ],
            [
             0.8888888888888888,
             "#b5de2b"
            ],
            [
             1,
             "#fde725"
            ]
           ]
          },
          "colorway": [
           "#1F77B4",
           "#FF7F0E",
           "#2CA02C",
           "#D62728",
           "#9467BD",
           "#8C564B",
           "#E377C2",
           "#7F7F7F",
           "#BCBD22",
           "#17BECF"
          ],
          "font": {
           "color": "rgb(36,36,36)"
          },
          "geo": {
           "bgcolor": "white",
           "lakecolor": "white",
           "landcolor": "white",
           "showlakes": true,
           "showland": true,
           "subunitcolor": "white"
          },
          "hoverlabel": {
           "align": "left"
          },
          "hovermode": "closest",
          "mapbox": {
           "style": "light"
          },
          "paper_bgcolor": "white",
          "plot_bgcolor": "white",
          "polar": {
           "angularaxis": {
            "gridcolor": "rgb(232,232,232)",
            "linecolor": "rgb(36,36,36)",
            "showgrid": false,
            "showline": true,
            "ticks": "outside"
           },
           "bgcolor": "white",
           "radialaxis": {
            "gridcolor": "rgb(232,232,232)",
            "linecolor": "rgb(36,36,36)",
            "showgrid": false,
            "showline": true,
            "ticks": "outside"
           }
          },
          "scene": {
           "xaxis": {
            "backgroundcolor": "white",
            "gridcolor": "rgb(232,232,232)",
            "gridwidth": 2,
            "linecolor": "rgb(36,36,36)",
            "showbackground": true,
            "showgrid": false,
            "showline": true,
            "ticks": "outside",
            "zeroline": false,
            "zerolinecolor": "rgb(36,36,36)"
           },
           "yaxis": {
            "backgroundcolor": "white",
            "gridcolor": "rgb(232,232,232)",
            "gridwidth": 2,
            "linecolor": "rgb(36,36,36)",
            "showbackground": true,
            "showgrid": false,
            "showline": true,
            "ticks": "outside",
            "zeroline": false,
            "zerolinecolor": "rgb(36,36,36)"
           },
           "zaxis": {
            "backgroundcolor": "white",
            "gridcolor": "rgb(232,232,232)",
            "gridwidth": 2,
            "linecolor": "rgb(36,36,36)",
            "showbackground": true,
            "showgrid": false,
            "showline": true,
            "ticks": "outside",
            "zeroline": false,
            "zerolinecolor": "rgb(36,36,36)"
           }
          },
          "shapedefaults": {
           "fillcolor": "black",
           "line": {
            "width": 0
           },
           "opacity": 0.3
          },
          "ternary": {
           "aaxis": {
            "gridcolor": "rgb(232,232,232)",
            "linecolor": "rgb(36,36,36)",
            "showgrid": false,
            "showline": true,
            "ticks": "outside"
           },
           "baxis": {
            "gridcolor": "rgb(232,232,232)",
            "linecolor": "rgb(36,36,36)",
            "showgrid": false,
            "showline": true,
            "ticks": "outside"
           },
           "bgcolor": "white",
           "caxis": {
            "gridcolor": "rgb(232,232,232)",
            "linecolor": "rgb(36,36,36)",
            "showgrid": false,
            "showline": true,
            "ticks": "outside"
           }
          },
          "title": {
           "x": 0.05
          },
          "xaxis": {
           "automargin": true,
           "gridcolor": "rgb(232,232,232)",
           "linecolor": "rgb(36,36,36)",
           "showgrid": false,
           "showline": true,
           "ticks": "outside",
           "title": {
            "standoff": 15
           },
           "zeroline": false,
           "zerolinecolor": "rgb(36,36,36)"
          },
          "yaxis": {
           "automargin": true,
           "gridcolor": "rgb(232,232,232)",
           "linecolor": "rgb(36,36,36)",
           "showgrid": false,
           "showline": true,
           "ticks": "outside",
           "title": {
            "standoff": 15
           },
           "zeroline": false,
           "zerolinecolor": "rgb(36,36,36)"
          }
         }
        },
        "title": {
         "font": {
          "color": "Black",
          "size": 22
         },
         "text": "<b>Intertopic Distance Map</b>",
         "x": 0.5,
         "xanchor": "center",
         "y": 0.95,
         "yanchor": "top"
        },
        "width": 650,
        "xaxis": {
         "anchor": "y",
         "domain": [
          0,
          1
         ],
         "range": [
          -6.188262462615967,
          3.27394814491272
         ],
         "title": {
          "text": ""
         },
         "visible": false
        },
        "yaxis": {
         "anchor": "x",
         "domain": [
          0,
          1
         ],
         "range": [
          6.4559869289398195,
          14.827673435211182
         ],
         "title": {
          "text": ""
         },
         "visible": false
        }
       }
      }
     },
     "metadata": {},
     "output_type": "display_data"
    }
   ],
   "source": [
    "model.visualize_topics()"
   ]
  },
  {
   "cell_type": "code",
   "execution_count": 30,
   "metadata": {},
   "outputs": [
    {
     "data": {
      "application/vnd.plotly.v1+json": {
       "config": {
        "plotlyServerURL": "https://plot.ly"
       },
       "data": [
        {
         "marker": {
          "color": "#D55E00"
         },
         "orientation": "h",
         "type": "bar",
         "x": [
          0.017312528969348203,
          0.01789145461645807,
          0.017951014528513144,
          0.019400891883157363,
          0.02701417947676322
         ],
         "xaxis": "x",
         "y": [
          "explain  ",
          "discuss  ",
          "world  ",
          "india  ",
          "water  "
         ],
         "yaxis": "y"
        },
        {
         "marker": {
          "color": "#0072B2"
         },
         "orientation": "h",
         "type": "bar",
         "x": [
          0.026974508197182466,
          0.03712172556475994,
          0.042944113381860764,
          0.043070777885887125,
          0.05632349181180741
         ],
         "xaxis": "x2",
         "y": [
          "history  ",
          "discuss  ",
          "indian  ",
          "architecture  ",
          "art  "
         ],
         "yaxis": "y2"
        },
        {
         "marker": {
          "color": "#CC79A7"
         },
         "orientation": "h",
         "type": "bar",
         "x": [
          0.03465286458136771,
          0.03465286458136771,
          0.03954270766680951,
          0.045973944405632725,
          0.045973944405632725
         ],
         "xaxis": "x3",
         "y": [
          "iron  ",
          "atomic  ",
          "discuss  ",
          "oil  ",
          "energy  "
         ],
         "yaxis": "y3"
        },
        {
         "marker": {
          "color": "#E69F00"
         },
         "orientation": "h",
         "type": "bar",
         "x": [
          0.031136428250239986,
          0.03638036314641931,
          0.04545390521507888,
          0.05457054471962897,
          0.07535947146095161
         ],
         "xaxis": "x4",
         "y": [
          "ratio  ",
          "population  ",
          "india  ",
          "poverty  ",
          "women  "
         ],
         "yaxis": "y4"
        },
        {
         "marker": {
          "color": "#56B4E9"
         },
         "orientation": "h",
         "type": "bar",
         "x": [
          0.02342165006035556,
          0.02617328518142457,
          0.03612433651647004,
          0.03903608343392593,
          0.054925173493468406
         ],
         "xaxis": "x5",
         "y": [
          "urban  ",
          "smart  ",
          "new  ",
          "cities  ",
          "india  "
         ],
         "yaxis": "y5"
        },
        {
         "marker": {
          "color": "#009E73"
         },
         "orientation": "h",
         "type": "bar",
         "x": [
          0.029829938041109103,
          0.030941834528594836,
          0.034616230944461625,
          0.04089554260216069,
          0.05155434920424894
         ],
         "xaxis": "x6",
         "y": [
          "secularism  ",
          "indian society  ",
          "society  ",
          "indian  ",
          "cultural  "
         ],
         "yaxis": "y6"
        },
        {
         "marker": {
          "color": "#F0E442"
         },
         "orientation": "h",
         "type": "bar",
         "x": [
          0.033767489862535506,
          0.033767489862535506,
          0.06512085003209057,
          0.06512085003209057,
          0.06512085003209057
         ],
         "xaxis": "x7",
         "y": [
          "freedom  ",
          "struggle  ",
          "gandhi  ",
          "mahatma  ",
          "mahatma gandhi  "
         ],
         "yaxis": "y7"
        },
        {
         "marker": {
          "color": "#D55E00"
         },
         "orientation": "h",
         "type": "bar",
         "x": [
          0.03410970068805009,
          0.03685344795399087,
          0.03924773785803949,
          0.03956043503633975,
          0.06923076131359457
         ],
         "xaxis": "x8",
         "y": [
          "power  ",
          "did  ",
          "world  ",
          "colonial  ",
          "british  "
         ],
         "yaxis": "y8"
        }
       ],
       "layout": {
        "annotations": [
         {
          "font": {
           "size": 16
          },
          "showarrow": false,
          "text": "Topic 0",
          "x": 0.0875,
          "xanchor": "center",
          "xref": "paper",
          "y": 1,
          "yanchor": "bottom",
          "yref": "paper"
         },
         {
          "font": {
           "size": 16
          },
          "showarrow": false,
          "text": "Topic 1",
          "x": 0.36250000000000004,
          "xanchor": "center",
          "xref": "paper",
          "y": 1,
          "yanchor": "bottom",
          "yref": "paper"
         },
         {
          "font": {
           "size": 16
          },
          "showarrow": false,
          "text": "Topic 2",
          "x": 0.6375000000000001,
          "xanchor": "center",
          "xref": "paper",
          "y": 1,
          "yanchor": "bottom",
          "yref": "paper"
         },
         {
          "font": {
           "size": 16
          },
          "showarrow": false,
          "text": "Topic 3",
          "x": 0.9125,
          "xanchor": "center",
          "xref": "paper",
          "y": 1,
          "yanchor": "bottom",
          "yref": "paper"
         },
         {
          "font": {
           "size": 16
          },
          "showarrow": false,
          "text": "Topic 4",
          "x": 0.0875,
          "xanchor": "center",
          "xref": "paper",
          "y": 0.4,
          "yanchor": "bottom",
          "yref": "paper"
         },
         {
          "font": {
           "size": 16
          },
          "showarrow": false,
          "text": "Topic 5",
          "x": 0.36250000000000004,
          "xanchor": "center",
          "xref": "paper",
          "y": 0.4,
          "yanchor": "bottom",
          "yref": "paper"
         },
         {
          "font": {
           "size": 16
          },
          "showarrow": false,
          "text": "Topic 6",
          "x": 0.6375000000000001,
          "xanchor": "center",
          "xref": "paper",
          "y": 0.4,
          "yanchor": "bottom",
          "yref": "paper"
         },
         {
          "font": {
           "size": 16
          },
          "showarrow": false,
          "text": "Topic 7",
          "x": 0.9125,
          "xanchor": "center",
          "xref": "paper",
          "y": 0.4,
          "yanchor": "bottom",
          "yref": "paper"
         }
        ],
        "height": 500,
        "hoverlabel": {
         "bgcolor": "white",
         "font": {
          "family": "Rockwell",
          "size": 16
         }
        },
        "showlegend": false,
        "template": {
         "data": {
          "bar": [
           {
            "error_x": {
             "color": "#2a3f5f"
            },
            "error_y": {
             "color": "#2a3f5f"
            },
            "marker": {
             "line": {
              "color": "white",
              "width": 0.5
             },
             "pattern": {
              "fillmode": "overlay",
              "size": 10,
              "solidity": 0.2
             }
            },
            "type": "bar"
           }
          ],
          "barpolar": [
           {
            "marker": {
             "line": {
              "color": "white",
              "width": 0.5
             },
             "pattern": {
              "fillmode": "overlay",
              "size": 10,
              "solidity": 0.2
             }
            },
            "type": "barpolar"
           }
          ],
          "carpet": [
           {
            "aaxis": {
             "endlinecolor": "#2a3f5f",
             "gridcolor": "#C8D4E3",
             "linecolor": "#C8D4E3",
             "minorgridcolor": "#C8D4E3",
             "startlinecolor": "#2a3f5f"
            },
            "baxis": {
             "endlinecolor": "#2a3f5f",
             "gridcolor": "#C8D4E3",
             "linecolor": "#C8D4E3",
             "minorgridcolor": "#C8D4E3",
             "startlinecolor": "#2a3f5f"
            },
            "type": "carpet"
           }
          ],
          "choropleth": [
           {
            "colorbar": {
             "outlinewidth": 0,
             "ticks": ""
            },
            "type": "choropleth"
           }
          ],
          "contour": [
           {
            "colorbar": {
             "outlinewidth": 0,
             "ticks": ""
            },
            "colorscale": [
             [
              0,
              "#0d0887"
             ],
             [
              0.1111111111111111,
              "#46039f"
             ],
             [
              0.2222222222222222,
              "#7201a8"
             ],
             [
              0.3333333333333333,
              "#9c179e"
             ],
             [
              0.4444444444444444,
              "#bd3786"
             ],
             [
              0.5555555555555556,
              "#d8576b"
             ],
             [
              0.6666666666666666,
              "#ed7953"
             ],
             [
              0.7777777777777778,
              "#fb9f3a"
             ],
             [
              0.8888888888888888,
              "#fdca26"
             ],
             [
              1,
              "#f0f921"
             ]
            ],
            "type": "contour"
           }
          ],
          "contourcarpet": [
           {
            "colorbar": {
             "outlinewidth": 0,
             "ticks": ""
            },
            "type": "contourcarpet"
           }
          ],
          "heatmap": [
           {
            "colorbar": {
             "outlinewidth": 0,
             "ticks": ""
            },
            "colorscale": [
             [
              0,
              "#0d0887"
             ],
             [
              0.1111111111111111,
              "#46039f"
             ],
             [
              0.2222222222222222,
              "#7201a8"
             ],
             [
              0.3333333333333333,
              "#9c179e"
             ],
             [
              0.4444444444444444,
              "#bd3786"
             ],
             [
              0.5555555555555556,
              "#d8576b"
             ],
             [
              0.6666666666666666,
              "#ed7953"
             ],
             [
              0.7777777777777778,
              "#fb9f3a"
             ],
             [
              0.8888888888888888,
              "#fdca26"
             ],
             [
              1,
              "#f0f921"
             ]
            ],
            "type": "heatmap"
           }
          ],
          "heatmapgl": [
           {
            "colorbar": {
             "outlinewidth": 0,
             "ticks": ""
            },
            "colorscale": [
             [
              0,
              "#0d0887"
             ],
             [
              0.1111111111111111,
              "#46039f"
             ],
             [
              0.2222222222222222,
              "#7201a8"
             ],
             [
              0.3333333333333333,
              "#9c179e"
             ],
             [
              0.4444444444444444,
              "#bd3786"
             ],
             [
              0.5555555555555556,
              "#d8576b"
             ],
             [
              0.6666666666666666,
              "#ed7953"
             ],
             [
              0.7777777777777778,
              "#fb9f3a"
             ],
             [
              0.8888888888888888,
              "#fdca26"
             ],
             [
              1,
              "#f0f921"
             ]
            ],
            "type": "heatmapgl"
           }
          ],
          "histogram": [
           {
            "marker": {
             "pattern": {
              "fillmode": "overlay",
              "size": 10,
              "solidity": 0.2
             }
            },
            "type": "histogram"
           }
          ],
          "histogram2d": [
           {
            "colorbar": {
             "outlinewidth": 0,
             "ticks": ""
            },
            "colorscale": [
             [
              0,
              "#0d0887"
             ],
             [
              0.1111111111111111,
              "#46039f"
             ],
             [
              0.2222222222222222,
              "#7201a8"
             ],
             [
              0.3333333333333333,
              "#9c179e"
             ],
             [
              0.4444444444444444,
              "#bd3786"
             ],
             [
              0.5555555555555556,
              "#d8576b"
             ],
             [
              0.6666666666666666,
              "#ed7953"
             ],
             [
              0.7777777777777778,
              "#fb9f3a"
             ],
             [
              0.8888888888888888,
              "#fdca26"
             ],
             [
              1,
              "#f0f921"
             ]
            ],
            "type": "histogram2d"
           }
          ],
          "histogram2dcontour": [
           {
            "colorbar": {
             "outlinewidth": 0,
             "ticks": ""
            },
            "colorscale": [
             [
              0,
              "#0d0887"
             ],
             [
              0.1111111111111111,
              "#46039f"
             ],
             [
              0.2222222222222222,
              "#7201a8"
             ],
             [
              0.3333333333333333,
              "#9c179e"
             ],
             [
              0.4444444444444444,
              "#bd3786"
             ],
             [
              0.5555555555555556,
              "#d8576b"
             ],
             [
              0.6666666666666666,
              "#ed7953"
             ],
             [
              0.7777777777777778,
              "#fb9f3a"
             ],
             [
              0.8888888888888888,
              "#fdca26"
             ],
             [
              1,
              "#f0f921"
             ]
            ],
            "type": "histogram2dcontour"
           }
          ],
          "mesh3d": [
           {
            "colorbar": {
             "outlinewidth": 0,
             "ticks": ""
            },
            "type": "mesh3d"
           }
          ],
          "parcoords": [
           {
            "line": {
             "colorbar": {
              "outlinewidth": 0,
              "ticks": ""
             }
            },
            "type": "parcoords"
           }
          ],
          "pie": [
           {
            "automargin": true,
            "type": "pie"
           }
          ],
          "scatter": [
           {
            "fillpattern": {
             "fillmode": "overlay",
             "size": 10,
             "solidity": 0.2
            },
            "type": "scatter"
           }
          ],
          "scatter3d": [
           {
            "line": {
             "colorbar": {
              "outlinewidth": 0,
              "ticks": ""
             }
            },
            "marker": {
             "colorbar": {
              "outlinewidth": 0,
              "ticks": ""
             }
            },
            "type": "scatter3d"
           }
          ],
          "scattercarpet": [
           {
            "marker": {
             "colorbar": {
              "outlinewidth": 0,
              "ticks": ""
             }
            },
            "type": "scattercarpet"
           }
          ],
          "scattergeo": [
           {
            "marker": {
             "colorbar": {
              "outlinewidth": 0,
              "ticks": ""
             }
            },
            "type": "scattergeo"
           }
          ],
          "scattergl": [
           {
            "marker": {
             "colorbar": {
              "outlinewidth": 0,
              "ticks": ""
             }
            },
            "type": "scattergl"
           }
          ],
          "scattermapbox": [
           {
            "marker": {
             "colorbar": {
              "outlinewidth": 0,
              "ticks": ""
             }
            },
            "type": "scattermapbox"
           }
          ],
          "scatterpolar": [
           {
            "marker": {
             "colorbar": {
              "outlinewidth": 0,
              "ticks": ""
             }
            },
            "type": "scatterpolar"
           }
          ],
          "scatterpolargl": [
           {
            "marker": {
             "colorbar": {
              "outlinewidth": 0,
              "ticks": ""
             }
            },
            "type": "scatterpolargl"
           }
          ],
          "scatterternary": [
           {
            "marker": {
             "colorbar": {
              "outlinewidth": 0,
              "ticks": ""
             }
            },
            "type": "scatterternary"
           }
          ],
          "surface": [
           {
            "colorbar": {
             "outlinewidth": 0,
             "ticks": ""
            },
            "colorscale": [
             [
              0,
              "#0d0887"
             ],
             [
              0.1111111111111111,
              "#46039f"
             ],
             [
              0.2222222222222222,
              "#7201a8"
             ],
             [
              0.3333333333333333,
              "#9c179e"
             ],
             [
              0.4444444444444444,
              "#bd3786"
             ],
             [
              0.5555555555555556,
              "#d8576b"
             ],
             [
              0.6666666666666666,
              "#ed7953"
             ],
             [
              0.7777777777777778,
              "#fb9f3a"
             ],
             [
              0.8888888888888888,
              "#fdca26"
             ],
             [
              1,
              "#f0f921"
             ]
            ],
            "type": "surface"
           }
          ],
          "table": [
           {
            "cells": {
             "fill": {
              "color": "#EBF0F8"
             },
             "line": {
              "color": "white"
             }
            },
            "header": {
             "fill": {
              "color": "#C8D4E3"
             },
             "line": {
              "color": "white"
             }
            },
            "type": "table"
           }
          ]
         },
         "layout": {
          "annotationdefaults": {
           "arrowcolor": "#2a3f5f",
           "arrowhead": 0,
           "arrowwidth": 1
          },
          "autotypenumbers": "strict",
          "coloraxis": {
           "colorbar": {
            "outlinewidth": 0,
            "ticks": ""
           }
          },
          "colorscale": {
           "diverging": [
            [
             0,
             "#8e0152"
            ],
            [
             0.1,
             "#c51b7d"
            ],
            [
             0.2,
             "#de77ae"
            ],
            [
             0.3,
             "#f1b6da"
            ],
            [
             0.4,
             "#fde0ef"
            ],
            [
             0.5,
             "#f7f7f7"
            ],
            [
             0.6,
             "#e6f5d0"
            ],
            [
             0.7,
             "#b8e186"
            ],
            [
             0.8,
             "#7fbc41"
            ],
            [
             0.9,
             "#4d9221"
            ],
            [
             1,
             "#276419"
            ]
           ],
           "sequential": [
            [
             0,
             "#0d0887"
            ],
            [
             0.1111111111111111,
             "#46039f"
            ],
            [
             0.2222222222222222,
             "#7201a8"
            ],
            [
             0.3333333333333333,
             "#9c179e"
            ],
            [
             0.4444444444444444,
             "#bd3786"
            ],
            [
             0.5555555555555556,
             "#d8576b"
            ],
            [
             0.6666666666666666,
             "#ed7953"
            ],
            [
             0.7777777777777778,
             "#fb9f3a"
            ],
            [
             0.8888888888888888,
             "#fdca26"
            ],
            [
             1,
             "#f0f921"
            ]
           ],
           "sequentialminus": [
            [
             0,
             "#0d0887"
            ],
            [
             0.1111111111111111,
             "#46039f"
            ],
            [
             0.2222222222222222,
             "#7201a8"
            ],
            [
             0.3333333333333333,
             "#9c179e"
            ],
            [
             0.4444444444444444,
             "#bd3786"
            ],
            [
             0.5555555555555556,
             "#d8576b"
            ],
            [
             0.6666666666666666,
             "#ed7953"
            ],
            [
             0.7777777777777778,
             "#fb9f3a"
            ],
            [
             0.8888888888888888,
             "#fdca26"
            ],
            [
             1,
             "#f0f921"
            ]
           ]
          },
          "colorway": [
           "#636efa",
           "#EF553B",
           "#00cc96",
           "#ab63fa",
           "#FFA15A",
           "#19d3f3",
           "#FF6692",
           "#B6E880",
           "#FF97FF",
           "#FECB52"
          ],
          "font": {
           "color": "#2a3f5f"
          },
          "geo": {
           "bgcolor": "white",
           "lakecolor": "white",
           "landcolor": "white",
           "showlakes": true,
           "showland": true,
           "subunitcolor": "#C8D4E3"
          },
          "hoverlabel": {
           "align": "left"
          },
          "hovermode": "closest",
          "mapbox": {
           "style": "light"
          },
          "paper_bgcolor": "white",
          "plot_bgcolor": "white",
          "polar": {
           "angularaxis": {
            "gridcolor": "#EBF0F8",
            "linecolor": "#EBF0F8",
            "ticks": ""
           },
           "bgcolor": "white",
           "radialaxis": {
            "gridcolor": "#EBF0F8",
            "linecolor": "#EBF0F8",
            "ticks": ""
           }
          },
          "scene": {
           "xaxis": {
            "backgroundcolor": "white",
            "gridcolor": "#DFE8F3",
            "gridwidth": 2,
            "linecolor": "#EBF0F8",
            "showbackground": true,
            "ticks": "",
            "zerolinecolor": "#EBF0F8"
           },
           "yaxis": {
            "backgroundcolor": "white",
            "gridcolor": "#DFE8F3",
            "gridwidth": 2,
            "linecolor": "#EBF0F8",
            "showbackground": true,
            "ticks": "",
            "zerolinecolor": "#EBF0F8"
           },
           "zaxis": {
            "backgroundcolor": "white",
            "gridcolor": "#DFE8F3",
            "gridwidth": 2,
            "linecolor": "#EBF0F8",
            "showbackground": true,
            "ticks": "",
            "zerolinecolor": "#EBF0F8"
           }
          },
          "shapedefaults": {
           "line": {
            "color": "#2a3f5f"
           }
          },
          "ternary": {
           "aaxis": {
            "gridcolor": "#DFE8F3",
            "linecolor": "#A2B1C6",
            "ticks": ""
           },
           "baxis": {
            "gridcolor": "#DFE8F3",
            "linecolor": "#A2B1C6",
            "ticks": ""
           },
           "bgcolor": "white",
           "caxis": {
            "gridcolor": "#DFE8F3",
            "linecolor": "#A2B1C6",
            "ticks": ""
           }
          },
          "title": {
           "x": 0.05
          },
          "xaxis": {
           "automargin": true,
           "gridcolor": "#EBF0F8",
           "linecolor": "#EBF0F8",
           "ticks": "",
           "title": {
            "standoff": 15
           },
           "zerolinecolor": "#EBF0F8",
           "zerolinewidth": 2
          },
          "yaxis": {
           "automargin": true,
           "gridcolor": "#EBF0F8",
           "linecolor": "#EBF0F8",
           "ticks": "",
           "title": {
            "standoff": 15
           },
           "zerolinecolor": "#EBF0F8",
           "zerolinewidth": 2
          }
         }
        },
        "title": {
         "font": {
          "color": "Black",
          "size": 22
         },
         "text": "Topic Word Scores",
         "x": 0.5,
         "xanchor": "center",
         "yanchor": "top"
        },
        "width": 1000,
        "xaxis": {
         "anchor": "y",
         "domain": [
          0,
          0.175
         ],
         "showgrid": true
        },
        "xaxis2": {
         "anchor": "y2",
         "domain": [
          0.275,
          0.45
         ],
         "showgrid": true
        },
        "xaxis3": {
         "anchor": "y3",
         "domain": [
          0.55,
          0.7250000000000001
         ],
         "showgrid": true
        },
        "xaxis4": {
         "anchor": "y4",
         "domain": [
          0.825,
          1
         ],
         "showgrid": true
        },
        "xaxis5": {
         "anchor": "y5",
         "domain": [
          0,
          0.175
         ],
         "showgrid": true
        },
        "xaxis6": {
         "anchor": "y6",
         "domain": [
          0.275,
          0.45
         ],
         "showgrid": true
        },
        "xaxis7": {
         "anchor": "y7",
         "domain": [
          0.55,
          0.7250000000000001
         ],
         "showgrid": true
        },
        "xaxis8": {
         "anchor": "y8",
         "domain": [
          0.825,
          1
         ],
         "showgrid": true
        },
        "yaxis": {
         "anchor": "x",
         "domain": [
          0.6000000000000001,
          1
         ],
         "showgrid": true
        },
        "yaxis2": {
         "anchor": "x2",
         "domain": [
          0.6000000000000001,
          1
         ],
         "showgrid": true
        },
        "yaxis3": {
         "anchor": "x3",
         "domain": [
          0.6000000000000001,
          1
         ],
         "showgrid": true
        },
        "yaxis4": {
         "anchor": "x4",
         "domain": [
          0.6000000000000001,
          1
         ],
         "showgrid": true
        },
        "yaxis5": {
         "anchor": "x5",
         "domain": [
          0,
          0.4
         ],
         "showgrid": true
        },
        "yaxis6": {
         "anchor": "x6",
         "domain": [
          0,
          0.4
         ],
         "showgrid": true
        },
        "yaxis7": {
         "anchor": "x7",
         "domain": [
          0,
          0.4
         ],
         "showgrid": true
        },
        "yaxis8": {
         "anchor": "x8",
         "domain": [
          0,
          0.4
         ],
         "showgrid": true
        }
       }
      }
     },
     "metadata": {},
     "output_type": "display_data"
    }
   ],
   "source": [
    "model.visualize_barchart()"
   ]
  },
  {
   "cell_type": "code",
   "execution_count": 31,
   "metadata": {},
   "outputs": [
    {
     "data": {
      "text/plain": [
       "['india discuss did revolution',\n",
       " 'water india world discuss',\n",
       " 'art architecture indian discuss',\n",
       " 'energy oil discuss atomic',\n",
       " 'women poverty india population',\n",
       " 'india cities new smart',\n",
       " 'cultural indian society indian society',\n",
       " 'mahatma gandhi mahatma gandhi struggle',\n",
       " 'british colonial world did']"
      ]
     },
     "execution_count": 31,
     "metadata": {},
     "output_type": "execute_result"
    }
   ],
   "source": [
    "topics_label = model.get_topic_info()['Name'].tolist()\n",
    "for i in range(len(topics_label)):\n",
    "    topics_label[i] = ' '.join(topics_label[i].split('_')[1:])\n",
    "topics_label"
   ]
  },
  {
   "cell_type": "code",
   "execution_count": 32,
   "metadata": {},
   "outputs": [],
   "source": [
    "question_index = 169\n",
    "topic_probabilities = probs[question_index]\n",
    "significant_probs = topic_probabilities[topic_probabilities > 0.05]\n",
    "significant_topics = np.arange(len(topic_probabilities))[topic_probabilities > 0.05]\n",
    "others = np.sum(topic_probabilities[topic_probabilities <= 0.05])\n",
    "\n",
    "# Labels for the pie chart\n",
    "labels = [topics_label[i+1] for i in significant_topics] + [\"Others\"]\n",
    "\n",
    "# Probabilities to plot\n",
    "probs_to_plot = np.append(significant_probs, others)"
   ]
  },
  {
   "cell_type": "code",
   "execution_count": 33,
   "metadata": {},
   "outputs": [
    {
     "data": {
      "text/plain": [
       "array([8.68399855e-309, 1.47956351e-308, 1.23833589e-308, 1.00000000e+000,\n",
       "       2.22923204e-308, 2.82807592e-308, 2.14565278e-308, 1.64307331e-308])"
      ]
     },
     "execution_count": 33,
     "metadata": {},
     "output_type": "execute_result"
    }
   ],
   "source": [
    "probs[question_index]"
   ]
  },
  {
   "cell_type": "code",
   "execution_count": 34,
   "metadata": {},
   "outputs": [
    {
     "data": {
      "image/png": "[encoded data removed]",
      "text/plain": [
       "<Figure size 400x400 with 1 Axes>"
      ]
     },
     "metadata": {},
     "output_type": "display_data"
    }
   ],
   "source": [
    "plt.figure(figsize=(4, 4))\n",
    "plt.pie(probs_to_plot, labels=labels, autopct='%1.1f%%', startangle=140)\n",
    "plt.title('Topic Probabilities')\n",
    "plt.legend(loc='upper right', bbox_to_anchor=(1.5, 1.5))\n",
    "plt.text(-1.5, -1.5, questions[question_index], fontsize=12, ha=\"center\", va=\"center\")\n",
    "plt.show()"
   ]
  },
  {
   "cell_type": "code",
   "execution_count": 35,
   "metadata": {},
   "outputs": [
    {
     "data": {
      "text/html": [
       "<div>\n",
       "<style scoped>\n",
       "    .dataframe tbody tr th:only-of-type {\n",
       "        vertical-align: middle;\n",
       "    }\n",
       "\n",
       "    .dataframe tbody tr th {\n",
       "        vertical-align: top;\n",
       "    }\n",
       "\n",
       "    .dataframe thead th {\n",
       "        text-align: right;\n",
       "    }\n",
       "</style>\n",
       "<table border=\"1\" class=\"dataframe\">\n",
       "  <thead>\n",
       "    <tr style=\"text-align: right;\">\n",
       "      <th></th>\n",
       "      <th>Year</th>\n",
       "      <th>Question</th>\n",
       "      <th>Topic_Number</th>\n",
       "    </tr>\n",
       "  </thead>\n",
       "  <tbody>\n",
       "    <tr>\n",
       "      <th>176</th>\n",
       "      <td>2015</td>\n",
       "      <td>The states of Jammu and Kashmir, Himachal Prad...</td>\n",
       "      <td>0</td>\n",
       "    </tr>\n",
       "    <tr>\n",
       "      <th>79</th>\n",
       "      <td>2020</td>\n",
       "      <td>How have digital initiatives in India contribu...</td>\n",
       "      <td>4</td>\n",
       "    </tr>\n",
       "    <tr>\n",
       "      <th>47</th>\n",
       "      <td>2021</td>\n",
       "      <td>Why is India considered as a sub-continent? El...</td>\n",
       "      <td>-1</td>\n",
       "    </tr>\n",
       "    <tr>\n",
       "      <th>40</th>\n",
       "      <td>2021</td>\n",
       "      <td>Evaluate the nature of the Bhakti Literature a...</td>\n",
       "      <td>1</td>\n",
       "    </tr>\n",
       "    <tr>\n",
       "      <th>182</th>\n",
       "      <td>2014</td>\n",
       "      <td>Taxila university was one of the oldest univer...</td>\n",
       "      <td>1</td>\n",
       "    </tr>\n",
       "  </tbody>\n",
       "</table>\n",
       "</div>"
      ],
      "text/plain": [
       "     Year                                           Question  Topic_Number\n",
       "176  2015  The states of Jammu and Kashmir, Himachal Prad...             0\n",
       "79   2020  How have digital initiatives in India contribu...             4\n",
       "47   2021  Why is India considered as a sub-continent? El...            -1\n",
       "40   2021  Evaluate the nature of the Bhakti Literature a...             1\n",
       "182  2014  Taxila university was one of the oldest univer...             1"
      ]
     },
     "execution_count": 35,
     "metadata": {},
     "output_type": "execute_result"
    }
   ],
   "source": [
    "df['Topic_Number'] = topics\n",
    "df.sample(5)"
   ]
  },
  {
   "cell_type": "code",
   "execution_count": 36,
   "metadata": {},
   "outputs": [
    {
     "data": {
      "text/html": [
       "<div>\n",
       "<style scoped>\n",
       "    .dataframe tbody tr th:only-of-type {\n",
       "        vertical-align: middle;\n",
       "    }\n",
       "\n",
       "    .dataframe tbody tr th {\n",
       "        vertical-align: top;\n",
       "    }\n",
       "\n",
       "    .dataframe thead th {\n",
       "        text-align: right;\n",
       "    }\n",
       "</style>\n",
       "<table border=\"1\" class=\"dataframe\">\n",
       "  <thead>\n",
       "    <tr style=\"text-align: right;\">\n",
       "      <th></th>\n",
       "      <th>Year</th>\n",
       "      <th>Question</th>\n",
       "      <th>Topic_Number</th>\n",
       "      <th>Topic</th>\n",
       "    </tr>\n",
       "  </thead>\n",
       "  <tbody>\n",
       "    <tr>\n",
       "      <th>0</th>\n",
       "      <td>2023</td>\n",
       "      <td>Explain the role of geographical factors towar...</td>\n",
       "      <td>-1</td>\n",
       "      <td>india discuss did revolution</td>\n",
       "    </tr>\n",
       "    <tr>\n",
       "      <th>1</th>\n",
       "      <td>2023</td>\n",
       "      <td>What was the difference between Mahatma Gandhi...</td>\n",
       "      <td>6</td>\n",
       "      <td>mahatma gandhi mahatma gandhi struggle</td>\n",
       "    </tr>\n",
       "    <tr>\n",
       "      <th>2</th>\n",
       "      <td>2023</td>\n",
       "      <td>Bring out the socio-economic effects of the in...</td>\n",
       "      <td>4</td>\n",
       "      <td>india cities new smart</td>\n",
       "    </tr>\n",
       "    <tr>\n",
       "      <th>3</th>\n",
       "      <td>2023</td>\n",
       "      <td>Discuss the consequences of climate change on ...</td>\n",
       "      <td>0</td>\n",
       "      <td>water india world discuss</td>\n",
       "    </tr>\n",
       "    <tr>\n",
       "      <th>4</th>\n",
       "      <td>2023</td>\n",
       "      <td>Why is the world today confronted with a crisi...</td>\n",
       "      <td>0</td>\n",
       "      <td>water india world discuss</td>\n",
       "    </tr>\n",
       "  </tbody>\n",
       "</table>\n",
       "</div>"
      ],
      "text/plain": [
       "   Year                                           Question  Topic_Number  \\\n",
       "0  2023  Explain the role of geographical factors towar...            -1   \n",
       "1  2023  What was the difference between Mahatma Gandhi...             6   \n",
       "2  2023  Bring out the socio-economic effects of the in...             4   \n",
       "3  2023  Discuss the consequences of climate change on ...             0   \n",
       "4  2023  Why is the world today confronted with a crisi...             0   \n",
       "\n",
       "                                    Topic  \n",
       "0            india discuss did revolution  \n",
       "1  mahatma gandhi mahatma gandhi struggle  \n",
       "2                  india cities new smart  \n",
       "3               water india world discuss  \n",
       "4               water india world discuss  "
      ]
     },
     "execution_count": 36,
     "metadata": {},
     "output_type": "execute_result"
    }
   ],
   "source": [
    "\n",
    "df['Topic'] = df['Topic_Number'].apply(lambda x: \" \".join(model.get_topic_info(topic=x)['Name'].iloc[0].split('_')[1:]))\n",
    "\n",
    "# Display the first few rows of the DataFrame\n",
    "df.head()"
   ]
  },
  {
   "cell_type": "code",
   "execution_count": 37,
   "metadata": {},
   "outputs": [
    {
     "data": {
      "image/png": "[encoded data removed]",
      "text/plain": [
       "<Figure size 1200x800 with 1 Axes>"
      ]
     },
     "metadata": {},
     "output_type": "display_data"
    }
   ],
   "source": [
    "import matplotlib.pyplot as plt\n",
    "import matplotlib.colors as mcolors\n",
    "\n",
    "# Assuming df is your DataFrame and it now includes a 'Topic' column after categorization\n",
    "\n",
    "# Step 2: Count questions per topic per year\n",
    "topic_year_counts = df.groupby(['Year', 'Topic']).size().reset_index(name='Count')\n",
    "\n",
    "# Calculate the total number of questions per year\n",
    "total_questions_per_year = topic_year_counts.groupby('Year')['Count'].transform('sum')\n",
    "\n",
    "# Calculate the proportion of questions per topic per year\n",
    "topic_year_counts['Proportion'] = topic_year_counts['Count'] / total_questions_per_year\n",
    "\n",
    "# Step 3: Prepare data for plotting (normalized)\n",
    "pivot_table = topic_year_counts.pivot(index='Year', columns='Topic', values='Proportion')\n",
    "\n",
    "# Generate a list of colors from a colormap\n",
    "num_topics = len(pivot_table.columns)\n",
    "colors = plt.get_cmap('tab20', num_topics)\n",
    "\n",
    "# Step 4: Plot the normalized data with different colors for each topic\n",
    "pivot_table.plot(kind='bar', stacked=True, figsize=(12, 8), color=[colors(i) for i in range(num_topics)])\n",
    "\n",
    "# Step 5: Customize the plot\n",
    "plt.xlabel('Year')\n",
    "plt.ylabel('Proportion of Questions')\n",
    "plt.title('Proportion of Questions per Topic per Year')\n",
    "plt.legend(title='Topic', loc='best', bbox_to_anchor=(0.5, -0.15), ncol=1, fancybox=True, shadow=True)\n",
    "plt.tight_layout()\n",
    "plt.subplots_adjust(bottom=0.2)\n",
    "plt.show()"
   ]
  },
  {
   "cell_type": "code",
   "execution_count": 38,
   "metadata": {},
   "outputs": [
    {
     "name": "stdout",
     "output_type": "stream",
     "text": [
      "Topic 0: ['water', 'india', 'world', 'discuss', 'explain', 'resources', 'weather']\n",
      "Topic 1: ['art', 'architecture', 'indian', 'discuss', 'history', 'early', 'period']\n",
      "Topic 2: ['energy', 'oil', 'discuss', 'atomic', 'iron', 'iron steel', 'material']\n",
      "Topic 3: ['women', 'poverty', 'india', 'population', 'ratio', 'sex ratio', 'sex']\n",
      "Topic 4: ['india', 'cities', 'new', 'smart', 'urban', 'discuss', 'socio economic']\n",
      "Topic 5: ['cultural', 'indian', 'society', 'indian society', 'secularism', 'caste', 'identity']\n",
      "Topic 6: ['mahatma gandhi', 'mahatma', 'gandhi', 'struggle', 'freedom', 'movement', 'century']\n",
      "Topic 7: ['british', 'colonial', 'world', 'did', 'power', 'india', 'anti colonial']\n"
     ]
    }
   ],
   "source": [
    "num_words = 7\n",
    "for topic_num in set(topics):\n",
    "    if topic_num != -1:  # -1 is the outlier class in BERTopic\n",
    "        topic = model.get_topic(topic_num)\n",
    "        if topic:  # Check if topic is not None\n",
    "            top_words = [word for word, _ in topic[:num_words]]\n",
    "            print(f\"Topic {topic_num}: {top_words}\")"
   ]
  },
  {
   "cell_type": "code",
   "execution_count": null,
   "metadata": {},
   "outputs": [],
   "source": []
  }
 ],
 "metadata": {
  "kernelspec": {
   "display_name": "venv",
   "language": "python",
   "name": "python3"
  },
  "language_info": {
   "codemirror_mode": {
    "name": "ipython",
    "version": 3
   },
   "file_extension": ".py",
   "mimetype": "text/x-python",
   "name": "python",
   "nbconvert_exporter": "python",
   "pygments_lexer": "ipython3",
   "version": "3.12.0"
  }
 },
 "nbformat": 4,
 "nbformat_minor": 2
}

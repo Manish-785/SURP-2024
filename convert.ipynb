{
 "cells": [
  {
   "cell_type": "code",
   "execution_count": 2,
   "metadata": {},
   "outputs": [
    {
     "name": "stdout",
     "output_type": "stream",
     "text": [
      "Merged 140 sheets into 600 rows. Excel file saved at: combined.xlsx\n"
     ]
    }
   ],
   "source": [
    "import pandas as pd\n",
    "\n",
    "# Step 1: Read all sheets into a dictionary of DataFrames\n",
    "excel_file = 'GS4.xlsx'\n",
    "dfs = pd.read_excel(excel_file, sheet_name=None, usecols=[0, 1, 2, 3], header=None)\n",
    "\n",
    "\n",
    "# Step 2: Concatenate all DataFrames into a single DataFrame\n",
    "combined_df = pd.concat(dfs.values(), ignore_index=True)\n",
    "\n",
    "# Step 3: Write the combined DataFrame to a new Excel file\n",
    "output_excel = 'combined.xlsx'\n",
    "combined_df.to_excel(output_excel, index=False)\n",
    "\n",
    "print(f'Merged {len(dfs)} sheets into {len(combined_df)} rows. Excel file saved at: {output_excel}')\n"
   ]
  },
  {
   "cell_type": "code",
   "execution_count": null,
   "metadata": {},
   "outputs": [],
   "source": []
  }
 ],
 "metadata": {
  "kernelspec": {
   "display_name": "venv",
   "language": "python",
   "name": "python3"
  },
  "language_info": {
   "codemirror_mode": {
    "name": "ipython",
    "version": 3
   },
   "file_extension": ".py",
   "mimetype": "text/x-python",
   "name": "python",
   "nbconvert_exporter": "python",
   "pygments_lexer": "ipython3",
   "version": "3.12.0"
  }
 },
 "nbformat": 4,
 "nbformat_minor": 2
}

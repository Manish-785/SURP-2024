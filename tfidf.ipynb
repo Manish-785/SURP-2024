{
 "cells": [
  {
   "cell_type": "code",
   "execution_count": 1,
   "metadata": {},
   "outputs": [],
   "source": [
    "import pandas as pd"
   ]
  },
  {
   "cell_type": "code",
   "execution_count": 13,
   "metadata": {},
   "outputs": [
    {
     "data": {
      "text/html": [
       "<div>\n",
       "<style scoped>\n",
       "    .dataframe tbody tr th:only-of-type {\n",
       "        vertical-align: middle;\n",
       "    }\n",
       "\n",
       "    .dataframe tbody tr th {\n",
       "        vertical-align: top;\n",
       "    }\n",
       "\n",
       "    .dataframe thead th {\n",
       "        text-align: right;\n",
       "    }\n",
       "</style>\n",
       "<table border=\"1\" class=\"dataframe\">\n",
       "  <thead>\n",
       "    <tr style=\"text-align: right;\">\n",
       "      <th></th>\n",
       "      <th>Year</th>\n",
       "      <th>Question</th>\n",
       "    </tr>\n",
       "  </thead>\n",
       "  <tbody>\n",
       "    <tr>\n",
       "      <th>0</th>\n",
       "      <td>2023</td>\n",
       "      <td>Explain the role of geographical factors towar...</td>\n",
       "    </tr>\n",
       "    <tr>\n",
       "      <th>1</th>\n",
       "      <td>2023</td>\n",
       "      <td>What was the difference between Mahatma Gandhi...</td>\n",
       "    </tr>\n",
       "    <tr>\n",
       "      <th>2</th>\n",
       "      <td>2023</td>\n",
       "      <td>Bring out the socio-economic effects of the in...</td>\n",
       "    </tr>\n",
       "    <tr>\n",
       "      <th>3</th>\n",
       "      <td>2023</td>\n",
       "      <td>Discuss the consequences of climate change on ...</td>\n",
       "    </tr>\n",
       "    <tr>\n",
       "      <th>4</th>\n",
       "      <td>2023</td>\n",
       "      <td>Why is the world today confronted with a crisi...</td>\n",
       "    </tr>\n",
       "    <tr>\n",
       "      <th>...</th>\n",
       "      <td>...</td>\n",
       "      <td>...</td>\n",
       "    </tr>\n",
       "    <tr>\n",
       "      <th>260</th>\n",
       "      <td>2010</td>\n",
       "      <td>Causes for dominant dendritic pattern of drain...</td>\n",
       "    </tr>\n",
       "    <tr>\n",
       "      <th>261</th>\n",
       "      <td>2010</td>\n",
       "      <td>‘Break-of-bulk” towns</td>\n",
       "    </tr>\n",
       "    <tr>\n",
       "      <th>262</th>\n",
       "      <td>2010</td>\n",
       "      <td>While bringing out their salient features, dis...</td>\n",
       "    </tr>\n",
       "    <tr>\n",
       "      <th>263</th>\n",
       "      <td>2010</td>\n",
       "      <td>Contributions of Latika Ghosh to the freedom s...</td>\n",
       "    </tr>\n",
       "    <tr>\n",
       "      <th>264</th>\n",
       "      <td>2010</td>\n",
       "      <td>Contributions of Bhai Maharaj Singh as a freed...</td>\n",
       "    </tr>\n",
       "  </tbody>\n",
       "</table>\n",
       "<p>265 rows × 2 columns</p>\n",
       "</div>"
      ],
      "text/plain": [
       "     Year                                           Question\n",
       "0    2023  Explain the role of geographical factors towar...\n",
       "1    2023  What was the difference between Mahatma Gandhi...\n",
       "2    2023  Bring out the socio-economic effects of the in...\n",
       "3    2023  Discuss the consequences of climate change on ...\n",
       "4    2023  Why is the world today confronted with a crisi...\n",
       "..    ...                                                ...\n",
       "260  2010  Causes for dominant dendritic pattern of drain...\n",
       "261  2010                              ‘Break-of-bulk” towns\n",
       "262  2010  While bringing out their salient features, dis...\n",
       "263  2010  Contributions of Latika Ghosh to the freedom s...\n",
       "264  2010  Contributions of Bhai Maharaj Singh as a freed...\n",
       "\n",
       "[265 rows x 2 columns]"
      ]
     },
     "execution_count": 13,
     "metadata": {},
     "output_type": "execute_result"
    }
   ],
   "source": [
    "df = pd.read_excel('GS1.xlsx')\n",
    "df"
   ]
  },
  {
   "cell_type": "code",
   "execution_count": 14,
   "metadata": {},
   "outputs": [],
   "source": [
    "from sklearn.feature_extraction.text import TfidfVectorizer\n",
    "from sklearn.decomposition import NMF"
   ]
  },
  {
   "cell_type": "code",
   "execution_count": 15,
   "metadata": {},
   "outputs": [],
   "source": [
    "questions = df['Question'].values.astype('U')"
   ]
  },
  {
   "cell_type": "code",
   "execution_count": 16,
   "metadata": {},
   "outputs": [],
   "source": [
    "tfidf_vectorizer = TfidfVectorizer(max_df=0.95, min_df=2, stop_words='english')\n",
    "tfidf = tfidf_vectorizer.fit_transform(questions)"
   ]
  },
  {
   "cell_type": "code",
   "execution_count": 17,
   "metadata": {},
   "outputs": [
    {
     "data": {
      "text/plain": [
       "<Compressed Sparse Row sparse matrix of dtype 'float64'\n",
       "\twith 1670 stored elements and shape (265, 390)>"
      ]
     },
     "execution_count": 17,
     "metadata": {},
     "output_type": "execute_result"
    }
   ],
   "source": [
    "tfidf"
   ]
  },
  {
   "cell_type": "code",
   "execution_count": 18,
   "metadata": {},
   "outputs": [],
   "source": [
    "nmf_model = NMF(n_components=10,random_state=1)\n",
    "nmf_topic = nmf_model.fit_transform(tfidf)\n"
   ]
  },
  {
   "cell_type": "code",
   "execution_count": 19,
   "metadata": {},
   "outputs": [
    {
     "name": "stdout",
     "output_type": "stream",
     "text": [
      "Topic #0:\n",
      "india cities major significance development colonial elaborate energy economic did\n",
      "\n",
      "\n",
      "Topic #1:\n",
      "indian society art culture early religion features cultural elaborate heritage\n",
      "\n",
      "\n",
      "Topic #2:\n",
      "freedom struggle following words write contributions short notes exceeding context\n",
      "\n",
      "\n",
      "Topic #3:\n",
      "discuss characteristics impact causes understand post architecture mining great literature\n",
      "\n",
      "\n",
      "Topic #4:\n",
      "explain role development gandhara factors strategies revolution ancient islands formation\n",
      "\n",
      "\n",
      "Topic #5:\n",
      "does impact global affect climate weather understand examples place regional\n",
      "\n",
      "\n",
      "Topic #6:\n",
      "process century women examine movement mid critically various social eighteenth\n",
      "\n",
      "\n",
      "Topic #7:\n",
      "world crisis bring areas economic different evaluate resources modern wars\n",
      "\n",
      "\n",
      "Topic #8:\n",
      "identity caste cultural work movements national labour local british forms\n",
      "\n",
      "\n",
      "Topic #9:\n",
      "water resources effective urban land differ examine india scarcity critically\n",
      "\n",
      "\n"
     ]
    }
   ],
   "source": [
    "feature_names = tfidf_vectorizer.get_feature_names_out()\n",
    "# print out the top 10 words for each of the 10 topics\n",
    "for topic_idx, topic in enumerate(nmf_model.components_):\n",
    "    print(\"Topic #%d:\" % topic_idx)\n",
    "    print(\" \".join([feature_names[i] for i in topic.argsort()[:-10 - 1:-1]]))\n",
    "    print('\\n')"
   ]
  },
  {
   "cell_type": "code",
   "execution_count": null,
   "metadata": {},
   "outputs": [],
   "source": []
  }
 ],
 "metadata": {
  "kernelspec": {
   "display_name": "venv",
   "language": "python",
   "name": "python3"
  },
  "language_info": {
   "codemirror_mode": {
    "name": "ipython",
    "version": 3
   },
   "file_extension": ".py",
   "mimetype": "text/x-python",
   "name": "python",
   "nbconvert_exporter": "python",
   "pygments_lexer": "ipython3",
   "version": "3.12.0"
  }
 },
 "nbformat": 4,
 "nbformat_minor": 2
}

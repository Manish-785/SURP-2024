{
 "cells": [
  {
   "cell_type": "code",
   "execution_count": 55,
   "metadata": {},
   "outputs": [],
   "source": [
    "import pandas as pd"
   ]
  },
  {
   "cell_type": "code",
   "execution_count": 56,
   "metadata": {},
   "outputs": [
    {
     "data": {
      "text/html": [
       "<div>\n",
       "<style scoped>\n",
       "    .dataframe tbody tr th:only-of-type {\n",
       "        vertical-align: middle;\n",
       "    }\n",
       "\n",
       "    .dataframe tbody tr th {\n",
       "        vertical-align: top;\n",
       "    }\n",
       "\n",
       "    .dataframe thead th {\n",
       "        text-align: right;\n",
       "    }\n",
       "</style>\n",
       "<table border=\"1\" class=\"dataframe\">\n",
       "  <thead>\n",
       "    <tr style=\"text-align: right;\">\n",
       "      <th></th>\n",
       "      <th>Year</th>\n",
       "      <th>Question</th>\n",
       "    </tr>\n",
       "  </thead>\n",
       "  <tbody>\n",
       "    <tr>\n",
       "      <th>0</th>\n",
       "      <td>2023</td>\n",
       "      <td>Explain the role of geographical factors towar...</td>\n",
       "    </tr>\n",
       "    <tr>\n",
       "      <th>1</th>\n",
       "      <td>2023</td>\n",
       "      <td>What was the difference between Mahatma Gandhi...</td>\n",
       "    </tr>\n",
       "    <tr>\n",
       "      <th>2</th>\n",
       "      <td>2023</td>\n",
       "      <td>Bring out the socio-economic effects of the in...</td>\n",
       "    </tr>\n",
       "    <tr>\n",
       "      <th>3</th>\n",
       "      <td>2023</td>\n",
       "      <td>Discuss the consequences of climate change on ...</td>\n",
       "    </tr>\n",
       "    <tr>\n",
       "      <th>4</th>\n",
       "      <td>2023</td>\n",
       "      <td>Why is the world today confronted with a crisi...</td>\n",
       "    </tr>\n",
       "    <tr>\n",
       "      <th>...</th>\n",
       "      <td>...</td>\n",
       "      <td>...</td>\n",
       "    </tr>\n",
       "    <tr>\n",
       "      <th>230</th>\n",
       "      <td>2013</td>\n",
       "      <td>There is no formation of deltas by rivers on t...</td>\n",
       "    </tr>\n",
       "    <tr>\n",
       "      <th>231</th>\n",
       "      <td>2013</td>\n",
       "      <td>Do you agree that there is a growing trend of ...</td>\n",
       "    </tr>\n",
       "    <tr>\n",
       "      <th>232</th>\n",
       "      <td>2013</td>\n",
       "      <td>Analyze the factors for the highly decentraliz...</td>\n",
       "    </tr>\n",
       "    <tr>\n",
       "      <th>233</th>\n",
       "      <td>2013</td>\n",
       "      <td>With growing scarcity of fossil fuels, the ato...</td>\n",
       "    </tr>\n",
       "    <tr>\n",
       "      <th>234</th>\n",
       "      <td>2013</td>\n",
       "      <td>It is said that India has substantial reserves...</td>\n",
       "    </tr>\n",
       "  </tbody>\n",
       "</table>\n",
       "<p>235 rows × 2 columns</p>\n",
       "</div>"
      ],
      "text/plain": [
       "     Year                                           Question\n",
       "0    2023  Explain the role of geographical factors towar...\n",
       "1    2023  What was the difference between Mahatma Gandhi...\n",
       "2    2023  Bring out the socio-economic effects of the in...\n",
       "3    2023  Discuss the consequences of climate change on ...\n",
       "4    2023  Why is the world today confronted with a crisi...\n",
       "..    ...                                                ...\n",
       "230  2013  There is no formation of deltas by rivers on t...\n",
       "231  2013  Do you agree that there is a growing trend of ...\n",
       "232  2013  Analyze the factors for the highly decentraliz...\n",
       "233  2013  With growing scarcity of fossil fuels, the ato...\n",
       "234  2013  It is said that India has substantial reserves...\n",
       "\n",
       "[235 rows x 2 columns]"
      ]
     },
     "execution_count": 56,
     "metadata": {},
     "output_type": "execute_result"
    }
   ],
   "source": [
    "df = pd.read_excel('GS1.xlsx')\n",
    "df"
   ]
  },
  {
   "cell_type": "code",
   "execution_count": 57,
   "metadata": {},
   "outputs": [
    {
     "name": "stdout",
     "output_type": "stream",
     "text": [
      "Explain the role of geographical factors towards the development of Ancient India.\n"
     ]
    }
   ],
   "source": [
    "text = df.Question[0]\n",
    "print(text)"
   ]
  },
  {
   "cell_type": "code",
   "execution_count": 58,
   "metadata": {},
   "outputs": [
    {
     "name": "stderr",
     "output_type": "stream",
     "text": [
      "[nltk_data] Downloading package stopwords to\n",
      "[nltk_data]     C:\\Users\\HP\\AppData\\Roaming\\nltk_data...\n",
      "[nltk_data]   Package stopwords is already up-to-date!\n",
      "[nltk_data] Downloading package wordnet to\n",
      "[nltk_data]     C:\\Users\\HP\\AppData\\Roaming\\nltk_data...\n",
      "[nltk_data]   Package wordnet is already up-to-date!\n",
      "[nltk_data] Downloading package punkt to\n",
      "[nltk_data]     C:\\Users\\HP\\AppData\\Roaming\\nltk_data...\n",
      "[nltk_data]   Package punkt is already up-to-date!\n"
     ]
    },
    {
     "data": {
      "text/plain": [
       "True"
      ]
     },
     "execution_count": 58,
     "metadata": {},
     "output_type": "execute_result"
    }
   ],
   "source": [
    "import nltk\n",
    "\n",
    "from nltk.corpus import stopwords\n",
    "from nltk.stem import WordNetLemmatizer\n",
    "from nltk.tokenize import word_tokenize\n",
    "\n",
    "# Download stopwords from NLTK\n",
    "nltk.download('stopwords')\n",
    "nltk.download('wordnet')\n",
    "nltk.download('punkt')\n"
   ]
  },
  {
   "cell_type": "code",
   "execution_count": 59,
   "metadata": {},
   "outputs": [
    {
     "name": "stdout",
     "output_type": "stream",
     "text": [
      "geographical factor towards development ancient\n"
     ]
    }
   ],
   "source": [
    "import re\n",
    "import string\n",
    "\n",
    "def preprocess_text(text):\n",
    "    \"\"\"\n",
    "    Preprocesses the given text by removing punctuation, extra spaces, converting to lowercase,\n",
    "    and filtering out stopwords.\n",
    "    \n",
    "    Args:\n",
    "        text (str): The text to be preprocessed.\n",
    "    \n",
    "    Returns:\n",
    "        str: The preprocessed text.\n",
    "    \"\"\"\n",
    "    # Load English stopwords\n",
    "    text = text.lower()\n",
    "    stop_words = set(stopwords.words('english'))\n",
    "\n",
    "    # Add question words to the set of stopwords\n",
    "    question_words = {'explain', 'what', 'when', 'where', 'who', 'whom', 'which', 'why', 'how', \n",
    "                        'comment', 'discuss', 'you', 'india', 'your', 'he', 's', 'his', 'government', \n",
    "                        'public', 'these', 'following', 'her', 'example', 'indian', 'ethical', \n",
    "                        'examine', 'state', 'critically', 'company', 'context', 'national', 'security', \n",
    "                        'country', 'measures', 'act', 'him', 'role', 'she', 'management', 'being', \n",
    "                        'issues', 'taken', 'suggest', 'social', 'options', 'civil', 'system', 'people', \n",
    "                        'had', 'case', 'situation', 'human', 'recent', 'give', 'life', 'help', 'does', \n",
    "                        'various'}\n",
    "    stop_words.update(question_words)\n",
    "\n",
    "    text = text.translate(str.maketrans(' ', ' ', string.punctuation))\n",
    "    \n",
    "    text = re.sub(r'[^\\w\\s]', ' ', text)\n",
    "\n",
    "    # Remove extra spaces\n",
    "    text = re.sub(r' +', ' ', text)\n",
    "\n",
    "    # Tokenize the text to filter out stopwords\n",
    "    tokens = word_tokenize(text)\n",
    "\n",
    "    lemmatizer = WordNetLemmatizer()\n",
    "    tokens = [lemmatizer.lemmatize(word) for word in tokens if word not in stop_words]\n",
    "    \n",
    "    return ' '.join(tokens)\n",
    "\n",
    "text = df.Question[0]\n",
    "filtered_text = preprocess_text(text)\n",
    "print(filtered_text)"
   ]
  },
  {
   "cell_type": "code",
   "execution_count": 60,
   "metadata": {},
   "outputs": [],
   "source": [
    "# df['processed_questions'] = df['Question'].apply(preprocess_text)"
   ]
  },
  {
   "cell_type": "code",
   "execution_count": 61,
   "metadata": {},
   "outputs": [
    {
     "data": {
      "text/html": [
       "<div>\n",
       "<style scoped>\n",
       "    .dataframe tbody tr th:only-of-type {\n",
       "        vertical-align: middle;\n",
       "    }\n",
       "\n",
       "    .dataframe tbody tr th {\n",
       "        vertical-align: top;\n",
       "    }\n",
       "\n",
       "    .dataframe thead th {\n",
       "        text-align: right;\n",
       "    }\n",
       "</style>\n",
       "<table border=\"1\" class=\"dataframe\">\n",
       "  <thead>\n",
       "    <tr style=\"text-align: right;\">\n",
       "      <th></th>\n",
       "      <th>Year</th>\n",
       "      <th>Question</th>\n",
       "    </tr>\n",
       "  </thead>\n",
       "  <tbody>\n",
       "    <tr>\n",
       "      <th>0</th>\n",
       "      <td>2023</td>\n",
       "      <td>Explain the role of geographical factors towar...</td>\n",
       "    </tr>\n",
       "    <tr>\n",
       "      <th>1</th>\n",
       "      <td>2023</td>\n",
       "      <td>What was the difference between Mahatma Gandhi...</td>\n",
       "    </tr>\n",
       "    <tr>\n",
       "      <th>2</th>\n",
       "      <td>2023</td>\n",
       "      <td>Bring out the socio-economic effects of the in...</td>\n",
       "    </tr>\n",
       "  </tbody>\n",
       "</table>\n",
       "</div>"
      ],
      "text/plain": [
       "   Year                                           Question\n",
       "0  2023  Explain the role of geographical factors towar...\n",
       "1  2023  What was the difference between Mahatma Gandhi...\n",
       "2  2023  Bring out the socio-economic effects of the in..."
      ]
     },
     "execution_count": 61,
     "metadata": {},
     "output_type": "execute_result"
    }
   ],
   "source": [
    "df.head(3)"
   ]
  },
  {
   "cell_type": "code",
   "execution_count": 62,
   "metadata": {},
   "outputs": [],
   "source": [
    "from sklearn.feature_extraction.text import TfidfVectorizer\n",
    "from sklearn.decomposition import NMF"
   ]
  },
  {
   "cell_type": "code",
   "execution_count": 63,
   "metadata": {},
   "outputs": [],
   "source": [
    "questions = df['Question'].values.astype('U')"
   ]
  },
  {
   "cell_type": "code",
   "execution_count": 64,
   "metadata": {},
   "outputs": [],
   "source": [
    "#TF-IDF Vectorization\n",
    "tfidf_vectorizer = TfidfVectorizer(max_df=0.95, min_df=2, stop_words='english')\n",
    "tfidf = tfidf_vectorizer.fit_transform(questions)"
   ]
  },
  {
   "cell_type": "code",
   "execution_count": 65,
   "metadata": {},
   "outputs": [
    {
     "data": {
      "text/plain": [
       "<Compressed Sparse Row sparse matrix of dtype 'float64'\n",
       "\twith 1477 stored elements and shape (235, 355)>"
      ]
     },
     "execution_count": 65,
     "metadata": {},
     "output_type": "execute_result"
    }
   ],
   "source": [
    "tfidf"
   ]
  },
  {
   "cell_type": "code",
   "execution_count": 66,
   "metadata": {},
   "outputs": [],
   "source": [
    "#Topic Modeling with NMF\n",
    "nmf_model = NMF(n_components=10,random_state=1)\n",
    "nmf_topic = nmf_model.fit_transform(tfidf)\n"
   ]
  },
  {
   "cell_type": "code",
   "execution_count": 67,
   "metadata": {},
   "outputs": [
    {
     "name": "stdout",
     "output_type": "stream",
     "text": [
      "Topic #0:\n",
      "india colonial century women economic mid eighteenth examine british did\n",
      "\n",
      "\n",
      "Topic #1:\n",
      "indian society culture art early religion heritage changes main cultural\n",
      "\n",
      "\n",
      "Topic #2:\n",
      "discuss impact characteristics agree post understand india growing mining literature\n",
      "\n",
      "\n",
      "Topic #3:\n",
      "does affect global climate impact examples understand weather process place\n",
      "\n",
      "\n",
      "Topic #4:\n",
      "explain role development gandhara factors ancient islands formation strategies core\n",
      "\n",
      "\n",
      "Topic #5:\n",
      "world crisis areas bring evaluate resources modern wars critically different\n",
      "\n",
      "\n",
      "Topic #6:\n",
      "identity caste cultural work movements india national labour local global\n",
      "\n",
      "\n",
      "Topic #7:\n",
      "significance mention international evolution art architecture present times comment industrial\n",
      "\n",
      "\n",
      "Topic #8:\n",
      "water resources effective india urban examine land differ critically scarcity\n",
      "\n",
      "\n",
      "Topic #9:\n",
      "mahatma gandhi movement approach freedom struggle education highlight despite elucidate\n",
      "\n",
      "\n"
     ]
    }
   ],
   "source": [
    "# Displaying Topic\n",
    "feature_names = tfidf_vectorizer.get_feature_names_out()\n",
    "for topic_idx, topic in enumerate(nmf_model.components_):\n",
    "    print(\"Topic #%d:\" % topic_idx)\n",
    "    print(\" \".join([feature_names[i] for i in topic.argsort()[:-10 - 1:-1]]))\n",
    "    print('\\n')"
   ]
  },
  {
   "cell_type": "code",
   "execution_count": 15,
   "metadata": {},
   "outputs": [],
   "source": [
    "# keywords manually by person - 20-25 words \n",
    "# "
   ]
  },
  {
   "cell_type": "code",
   "execution_count": 68,
   "metadata": {},
   "outputs": [],
   "source": [
    "from bertopic import BERTopic"
   ]
  },
  {
   "cell_type": "code",
   "execution_count": 69,
   "metadata": {},
   "outputs": [],
   "source": [
    "from bertopic.representation import KeyBERTInspired\n",
    "representation = KeyBERTInspired()\n",
    "topic_model = BERTopic(min_topic_size=4,nr_topics='auto',calculate_probabilities=True,representation_model=representation)"
   ]
  },
  {
   "cell_type": "code",
   "execution_count": 70,
   "metadata": {},
   "outputs": [],
   "source": [
    "topics,prob = topic_model.fit_transform(questions)"
   ]
  },
  {
   "cell_type": "code",
   "execution_count": 71,
   "metadata": {},
   "outputs": [
    {
     "name": "stderr",
     "output_type": "stream",
     "text": [
      "Batches: 100%|██████████| 8/8 [00:01<00:00,  4.91it/s]\n"
     ]
    }
   ],
   "source": [
    "embeddings = topic_model._extract_embeddings(questions,verbose=True)"
   ]
  },
  {
   "cell_type": "code",
   "execution_count": 72,
   "metadata": {},
   "outputs": [
    {
     "data": {
      "text/plain": [
       "array([ 4.3002889e-03,  7.1556121e-02, -1.3235645e-01, -3.9236485e-05,\n",
       "        5.9257936e-02], dtype=float32)"
      ]
     },
     "execution_count": 72,
     "metadata": {},
     "output_type": "execute_result"
    }
   ],
   "source": [
    "embeddings[1,:5]"
   ]
  },
  {
   "cell_type": "code",
   "execution_count": 73,
   "metadata": {},
   "outputs": [
    {
     "data": {
      "text/plain": [
       "(235, 384)"
      ]
     },
     "execution_count": 73,
     "metadata": {},
     "output_type": "execute_result"
    }
   ],
   "source": [
    "embeddings.shape"
   ]
  },
  {
   "cell_type": "code",
   "execution_count": 52,
   "metadata": {},
   "outputs": [],
   "source": [
    "# from sentence_transformers import SentenceTransformer\n",
    "# model_name = 'all-MiniLM-L6-v2'\n",
    "# model = SentenceTransformer(model_name)\n",
    "# embedding = model.encode(questions)"
   ]
  },
  {
   "cell_type": "code",
   "execution_count": 53,
   "metadata": {},
   "outputs": [
    {
     "data": {
      "text/plain": [
       "(235, 384)"
      ]
     },
     "execution_count": 53,
     "metadata": {},
     "output_type": "execute_result"
    }
   ],
   "source": [
    "# embedding.shape"
   ]
  },
  {
   "cell_type": "code",
   "execution_count": 54,
   "metadata": {},
   "outputs": [
    {
     "data": {
      "text/plain": [
       "array([ 0.00927396,  0.06967263, -0.09419183, -0.01517249,  0.08915012],\n",
       "      dtype=float32)"
      ]
     },
     "execution_count": 54,
     "metadata": {},
     "output_type": "execute_result"
    }
   ],
   "source": [
    "# embedding[1,:5]"
   ]
  },
  {
   "cell_type": "code",
   "execution_count": 74,
   "metadata": {},
   "outputs": [
    {
     "data": {
      "text/html": [
       "<div>\n",
       "<style scoped>\n",
       "    .dataframe tbody tr th:only-of-type {\n",
       "        vertical-align: middle;\n",
       "    }\n",
       "\n",
       "    .dataframe tbody tr th {\n",
       "        vertical-align: top;\n",
       "    }\n",
       "\n",
       "    .dataframe thead th {\n",
       "        text-align: right;\n",
       "    }\n",
       "</style>\n",
       "<table border=\"1\" class=\"dataframe\">\n",
       "  <thead>\n",
       "    <tr style=\"text-align: right;\">\n",
       "      <th></th>\n",
       "      <th>Topic</th>\n",
       "      <th>Count</th>\n",
       "      <th>Name</th>\n",
       "      <th>Representation</th>\n",
       "      <th>Representative_Docs</th>\n",
       "    </tr>\n",
       "  </thead>\n",
       "  <tbody>\n",
       "    <tr>\n",
       "      <th>0</th>\n",
       "      <td>-1</td>\n",
       "      <td>55</td>\n",
       "      <td>-1_colonial_indian_tribals_india</td>\n",
       "      <td>[colonial, indian, tribals, india, revolution,...</td>\n",
       "      <td>[Why are the tribals in India referred to as '...</td>\n",
       "    </tr>\n",
       "    <tr>\n",
       "      <th>1</th>\n",
       "      <td>0</td>\n",
       "      <td>39</td>\n",
       "      <td>0_meteorology_glaciers_climate_landslides</td>\n",
       "      <td>[meteorology, glaciers, climate, landslides, h...</td>\n",
       "      <td>[What do you understand by the phenomenon of ‘...</td>\n",
       "    </tr>\n",
       "    <tr>\n",
       "      <th>2</th>\n",
       "      <td>1</td>\n",
       "      <td>33</td>\n",
       "      <td>1_india_poverty_socioeconomic_economic</td>\n",
       "      <td>[india, poverty, socioeconomic, economic, urba...</td>\n",
       "      <td>[It is said that India has substantial reserve...</td>\n",
       "    </tr>\n",
       "    <tr>\n",
       "      <th>3</th>\n",
       "      <td>2</td>\n",
       "      <td>19</td>\n",
       "      <td>2_monuments_mythology_sculptures_gandhara</td>\n",
       "      <td>[monuments, mythology, sculptures, gandhara, i...</td>\n",
       "      <td>[Mesolithic rock cut architecture of India not...</td>\n",
       "    </tr>\n",
       "    <tr>\n",
       "      <th>4</th>\n",
       "      <td>3</td>\n",
       "      <td>14</td>\n",
       "      <td>3_castes_feminization_women_indian</td>\n",
       "      <td>[castes, feminization, women, indian, gender, ...</td>\n",
       "      <td>[‘Women’s movement in India has not addressed ...</td>\n",
       "    </tr>\n",
       "    <tr>\n",
       "      <th>5</th>\n",
       "      <td>4</td>\n",
       "      <td>14</td>\n",
       "      <td>4_caste_cultural_indian_diversity</td>\n",
       "      <td>[caste, cultural, indian, diversity, ethnic, i...</td>\n",
       "      <td>[Has caste lost its relevance in understanding...</td>\n",
       "    </tr>\n",
       "    <tr>\n",
       "      <th>6</th>\n",
       "      <td>5</td>\n",
       "      <td>13</td>\n",
       "      <td>5_irrigation_freshwater_droughts_conservation</td>\n",
       "      <td>[irrigation, freshwater, droughts, conservatio...</td>\n",
       "      <td>[what are the environmental implications of th...</td>\n",
       "    </tr>\n",
       "    <tr>\n",
       "      <th>7</th>\n",
       "      <td>6</td>\n",
       "      <td>12</td>\n",
       "      <td>6_secularism_hindu_religiousnessreligiosity_bu...</td>\n",
       "      <td>[secularism, hindu, religiousnessreligiosity, ...</td>\n",
       "      <td>[Are tolerance, assimilation and pluralism the...</td>\n",
       "    </tr>\n",
       "    <tr>\n",
       "      <th>8</th>\n",
       "      <td>7</td>\n",
       "      <td>11</td>\n",
       "      <td>7_1857_rebellions_colonial_labour</td>\n",
       "      <td>[1857, rebellions, colonial, labour, colonies,...</td>\n",
       "      <td>[Why indentured labour was taken by the Britis...</td>\n",
       "    </tr>\n",
       "    <tr>\n",
       "      <th>9</th>\n",
       "      <td>8</td>\n",
       "      <td>11</td>\n",
       "      <td>8_revolution_revolutions_mercantilism_ideological</td>\n",
       "      <td>[revolution, revolutions, mercantilism, ideolo...</td>\n",
       "      <td>[Analyze the circumstances that led to the Tas...</td>\n",
       "    </tr>\n",
       "    <tr>\n",
       "      <th>10</th>\n",
       "      <td>9</td>\n",
       "      <td>9</td>\n",
       "      <td>9_gandhi_gandhian_mahatma_rabindranath</td>\n",
       "      <td>[gandhi, gandhian, mahatma, rabindranath, inde...</td>\n",
       "      <td>[Mahatma Gandhi and Dr. B R Ambedkar, despite ...</td>\n",
       "    </tr>\n",
       "    <tr>\n",
       "      <th>11</th>\n",
       "      <td>10</td>\n",
       "      <td>5</td>\n",
       "      <td>10_ecological_vegetation_deccan_forests</td>\n",
       "      <td>[ecological, vegetation, deccan, forests, clim...</td>\n",
       "      <td>[The states of Jammu and Kashmir, Himachal Pra...</td>\n",
       "    </tr>\n",
       "  </tbody>\n",
       "</table>\n",
       "</div>"
      ],
      "text/plain": [
       "    Topic  Count                                               Name  \\\n",
       "0      -1     55                   -1_colonial_indian_tribals_india   \n",
       "1       0     39          0_meteorology_glaciers_climate_landslides   \n",
       "2       1     33             1_india_poverty_socioeconomic_economic   \n",
       "3       2     19          2_monuments_mythology_sculptures_gandhara   \n",
       "4       3     14                 3_castes_feminization_women_indian   \n",
       "5       4     14                  4_caste_cultural_indian_diversity   \n",
       "6       5     13      5_irrigation_freshwater_droughts_conservation   \n",
       "7       6     12  6_secularism_hindu_religiousnessreligiosity_bu...   \n",
       "8       7     11                  7_1857_rebellions_colonial_labour   \n",
       "9       8     11  8_revolution_revolutions_mercantilism_ideological   \n",
       "10      9      9             9_gandhi_gandhian_mahatma_rabindranath   \n",
       "11     10      5            10_ecological_vegetation_deccan_forests   \n",
       "\n",
       "                                       Representation  \\\n",
       "0   [colonial, indian, tribals, india, revolution,...   \n",
       "1   [meteorology, glaciers, climate, landslides, h...   \n",
       "2   [india, poverty, socioeconomic, economic, urba...   \n",
       "3   [monuments, mythology, sculptures, gandhara, i...   \n",
       "4   [castes, feminization, women, indian, gender, ...   \n",
       "5   [caste, cultural, indian, diversity, ethnic, i...   \n",
       "6   [irrigation, freshwater, droughts, conservatio...   \n",
       "7   [secularism, hindu, religiousnessreligiosity, ...   \n",
       "8   [1857, rebellions, colonial, labour, colonies,...   \n",
       "9   [revolution, revolutions, mercantilism, ideolo...   \n",
       "10  [gandhi, gandhian, mahatma, rabindranath, inde...   \n",
       "11  [ecological, vegetation, deccan, forests, clim...   \n",
       "\n",
       "                                  Representative_Docs  \n",
       "0   [Why are the tribals in India referred to as '...  \n",
       "1   [What do you understand by the phenomenon of ‘...  \n",
       "2   [It is said that India has substantial reserve...  \n",
       "3   [Mesolithic rock cut architecture of India not...  \n",
       "4   [‘Women’s movement in India has not addressed ...  \n",
       "5   [Has caste lost its relevance in understanding...  \n",
       "6   [what are the environmental implications of th...  \n",
       "7   [Are tolerance, assimilation and pluralism the...  \n",
       "8   [Why indentured labour was taken by the Britis...  \n",
       "9   [Analyze the circumstances that led to the Tas...  \n",
       "10  [Mahatma Gandhi and Dr. B R Ambedkar, despite ...  \n",
       "11  [The states of Jammu and Kashmir, Himachal Pra...  "
      ]
     },
     "execution_count": 74,
     "metadata": {},
     "output_type": "execute_result"
    }
   ],
   "source": [
    "topic_model.get_topic_info()"
   ]
  },
  {
   "cell_type": "code",
   "execution_count": 75,
   "metadata": {},
   "outputs": [
    {
     "data": {
      "text/plain": [
       "0     55\n",
       "1     39\n",
       "2     33\n",
       "3     19\n",
       "4     14\n",
       "5     14\n",
       "6     13\n",
       "7     12\n",
       "8     11\n",
       "9     11\n",
       "10     9\n",
       "11     5\n",
       "Name: Count, dtype: int64"
      ]
     },
     "execution_count": 75,
     "metadata": {},
     "output_type": "execute_result"
    }
   ],
   "source": [
    "data =  topic_model.get_topic_info();\n",
    "data['Count']"
   ]
  },
  {
   "cell_type": "code",
   "execution_count": 76,
   "metadata": {},
   "outputs": [
    {
     "data": {
      "text/plain": [
       "[1, 9, 1, 0, 5]"
      ]
     },
     "execution_count": 76,
     "metadata": {},
     "output_type": "execute_result"
    }
   ],
   "source": [
    "topics[:5]"
   ]
  },
  {
   "cell_type": "code",
   "execution_count": 77,
   "metadata": {},
   "outputs": [
    {
     "data": {
      "text/plain": [
       "'meteorology glaciers climate landslides'"
      ]
     },
     "execution_count": 77,
     "metadata": {},
     "output_type": "execute_result"
    }
   ],
   "source": [
    "topic_str = topic_model.get_topic_info(0)['Name'].iloc[0]\n",
    "topic_str.split('_')\n",
    "' '.join(topic_str.split('_')[1:])\n"
   ]
  },
  {
   "cell_type": "code",
   "execution_count": 78,
   "metadata": {},
   "outputs": [
    {
     "data": {
      "text/html": [
       "<div>\n",
       "<style scoped>\n",
       "    .dataframe tbody tr th:only-of-type {\n",
       "        vertical-align: middle;\n",
       "    }\n",
       "\n",
       "    .dataframe tbody tr th {\n",
       "        vertical-align: top;\n",
       "    }\n",
       "\n",
       "    .dataframe thead th {\n",
       "        text-align: right;\n",
       "    }\n",
       "</style>\n",
       "<table border=\"1\" class=\"dataframe\">\n",
       "  <thead>\n",
       "    <tr style=\"text-align: right;\">\n",
       "      <th></th>\n",
       "      <th>Topic</th>\n",
       "      <th>Count</th>\n",
       "      <th>Name</th>\n",
       "      <th>Representation</th>\n",
       "      <th>Representative_Docs</th>\n",
       "    </tr>\n",
       "  </thead>\n",
       "  <tbody>\n",
       "    <tr>\n",
       "      <th>0</th>\n",
       "      <td>-1</td>\n",
       "      <td>55</td>\n",
       "      <td>-1_colonial_indian_tribals_india</td>\n",
       "      <td>[colonial, indian, tribals, india, revolution,...</td>\n",
       "      <td>[Why are the tribals in India referred to as '...</td>\n",
       "    </tr>\n",
       "    <tr>\n",
       "      <th>1</th>\n",
       "      <td>0</td>\n",
       "      <td>39</td>\n",
       "      <td>0_meteorology_glaciers_climate_landslides</td>\n",
       "      <td>[meteorology, glaciers, climate, landslides, h...</td>\n",
       "      <td>[What do you understand by the phenomenon of ‘...</td>\n",
       "    </tr>\n",
       "    <tr>\n",
       "      <th>2</th>\n",
       "      <td>1</td>\n",
       "      <td>33</td>\n",
       "      <td>1_india_poverty_socioeconomic_economic</td>\n",
       "      <td>[india, poverty, socioeconomic, economic, urba...</td>\n",
       "      <td>[It is said that India has substantial reserve...</td>\n",
       "    </tr>\n",
       "    <tr>\n",
       "      <th>3</th>\n",
       "      <td>2</td>\n",
       "      <td>19</td>\n",
       "      <td>2_monuments_mythology_sculptures_gandhara</td>\n",
       "      <td>[monuments, mythology, sculptures, gandhara, i...</td>\n",
       "      <td>[Mesolithic rock cut architecture of India not...</td>\n",
       "    </tr>\n",
       "    <tr>\n",
       "      <th>4</th>\n",
       "      <td>3</td>\n",
       "      <td>14</td>\n",
       "      <td>3_castes_feminization_women_indian</td>\n",
       "      <td>[castes, feminization, women, indian, gender, ...</td>\n",
       "      <td>[‘Women’s movement in India has not addressed ...</td>\n",
       "    </tr>\n",
       "    <tr>\n",
       "      <th>5</th>\n",
       "      <td>4</td>\n",
       "      <td>14</td>\n",
       "      <td>4_caste_cultural_indian_diversity</td>\n",
       "      <td>[caste, cultural, indian, diversity, ethnic, i...</td>\n",
       "      <td>[Has caste lost its relevance in understanding...</td>\n",
       "    </tr>\n",
       "    <tr>\n",
       "      <th>6</th>\n",
       "      <td>5</td>\n",
       "      <td>13</td>\n",
       "      <td>5_irrigation_freshwater_droughts_conservation</td>\n",
       "      <td>[irrigation, freshwater, droughts, conservatio...</td>\n",
       "      <td>[what are the environmental implications of th...</td>\n",
       "    </tr>\n",
       "    <tr>\n",
       "      <th>7</th>\n",
       "      <td>6</td>\n",
       "      <td>12</td>\n",
       "      <td>6_secularism_hindu_religiousnessreligiosity_bu...</td>\n",
       "      <td>[secularism, hindu, religiousnessreligiosity, ...</td>\n",
       "      <td>[Are tolerance, assimilation and pluralism the...</td>\n",
       "    </tr>\n",
       "    <tr>\n",
       "      <th>8</th>\n",
       "      <td>7</td>\n",
       "      <td>11</td>\n",
       "      <td>7_1857_rebellions_colonial_labour</td>\n",
       "      <td>[1857, rebellions, colonial, labour, colonies,...</td>\n",
       "      <td>[Why indentured labour was taken by the Britis...</td>\n",
       "    </tr>\n",
       "    <tr>\n",
       "      <th>9</th>\n",
       "      <td>8</td>\n",
       "      <td>11</td>\n",
       "      <td>8_revolution_revolutions_mercantilism_ideological</td>\n",
       "      <td>[revolution, revolutions, mercantilism, ideolo...</td>\n",
       "      <td>[Analyze the circumstances that led to the Tas...</td>\n",
       "    </tr>\n",
       "    <tr>\n",
       "      <th>10</th>\n",
       "      <td>9</td>\n",
       "      <td>9</td>\n",
       "      <td>9_gandhi_gandhian_mahatma_rabindranath</td>\n",
       "      <td>[gandhi, gandhian, mahatma, rabindranath, inde...</td>\n",
       "      <td>[Mahatma Gandhi and Dr. B R Ambedkar, despite ...</td>\n",
       "    </tr>\n",
       "    <tr>\n",
       "      <th>11</th>\n",
       "      <td>10</td>\n",
       "      <td>5</td>\n",
       "      <td>10_ecological_vegetation_deccan_forests</td>\n",
       "      <td>[ecological, vegetation, deccan, forests, clim...</td>\n",
       "      <td>[The states of Jammu and Kashmir, Himachal Pra...</td>\n",
       "    </tr>\n",
       "  </tbody>\n",
       "</table>\n",
       "</div>"
      ],
      "text/plain": [
       "    Topic  Count                                               Name  \\\n",
       "0      -1     55                   -1_colonial_indian_tribals_india   \n",
       "1       0     39          0_meteorology_glaciers_climate_landslides   \n",
       "2       1     33             1_india_poverty_socioeconomic_economic   \n",
       "3       2     19          2_monuments_mythology_sculptures_gandhara   \n",
       "4       3     14                 3_castes_feminization_women_indian   \n",
       "5       4     14                  4_caste_cultural_indian_diversity   \n",
       "6       5     13      5_irrigation_freshwater_droughts_conservation   \n",
       "7       6     12  6_secularism_hindu_religiousnessreligiosity_bu...   \n",
       "8       7     11                  7_1857_rebellions_colonial_labour   \n",
       "9       8     11  8_revolution_revolutions_mercantilism_ideological   \n",
       "10      9      9             9_gandhi_gandhian_mahatma_rabindranath   \n",
       "11     10      5            10_ecological_vegetation_deccan_forests   \n",
       "\n",
       "                                       Representation  \\\n",
       "0   [colonial, indian, tribals, india, revolution,...   \n",
       "1   [meteorology, glaciers, climate, landslides, h...   \n",
       "2   [india, poverty, socioeconomic, economic, urba...   \n",
       "3   [monuments, mythology, sculptures, gandhara, i...   \n",
       "4   [castes, feminization, women, indian, gender, ...   \n",
       "5   [caste, cultural, indian, diversity, ethnic, i...   \n",
       "6   [irrigation, freshwater, droughts, conservatio...   \n",
       "7   [secularism, hindu, religiousnessreligiosity, ...   \n",
       "8   [1857, rebellions, colonial, labour, colonies,...   \n",
       "9   [revolution, revolutions, mercantilism, ideolo...   \n",
       "10  [gandhi, gandhian, mahatma, rabindranath, inde...   \n",
       "11  [ecological, vegetation, deccan, forests, clim...   \n",
       "\n",
       "                                  Representative_Docs  \n",
       "0   [Why are the tribals in India referred to as '...  \n",
       "1   [What do you understand by the phenomenon of ‘...  \n",
       "2   [It is said that India has substantial reserve...  \n",
       "3   [Mesolithic rock cut architecture of India not...  \n",
       "4   [‘Women’s movement in India has not addressed ...  \n",
       "5   [Has caste lost its relevance in understanding...  \n",
       "6   [what are the environmental implications of th...  \n",
       "7   [Are tolerance, assimilation and pluralism the...  \n",
       "8   [Why indentured labour was taken by the Britis...  \n",
       "9   [Analyze the circumstances that led to the Tas...  \n",
       "10  [Mahatma Gandhi and Dr. B R Ambedkar, despite ...  \n",
       "11  [The states of Jammu and Kashmir, Himachal Pra...  "
      ]
     },
     "execution_count": 78,
     "metadata": {},
     "output_type": "execute_result"
    }
   ],
   "source": [
    "topic_model.get_topic_info()"
   ]
  },
  {
   "cell_type": "code",
   "execution_count": 79,
   "metadata": {},
   "outputs": [
    {
     "data": {
      "application/vnd.plotly.v1+json": {
       "config": {
        "plotlyServerURL": "https://plot.ly"
       },
       "data": [
        {
         "customdata": [
          [
           0,
           "meteorology | glaciers | climate | landslides | himalayas",
           39
          ],
          [
           1,
           "india | poverty | socioeconomic | economic | urbanization",
           33
          ],
          [
           2,
           "monuments | mythology | sculptures | gandhara | indian",
           19
          ],
          [
           3,
           "castes | feminization | women | indian | gender",
           14
          ],
          [
           4,
           "caste | cultural | indian | diversity | ethnic",
           14
          ],
          [
           5,
           "irrigation | freshwater | droughts | conservation | floods",
           13
          ],
          [
           6,
           "secularism | hindu | religiousnessreligiosity | buddhism | vedic",
           12
          ],
          [
           7,
           "1857 | rebellions | colonial | labour | colonies",
           11
          ],
          [
           8,
           "revolution | revolutions | mercantilism | ideological | 1940s",
           11
          ],
          [
           9,
           "gandhi | gandhian | mahatma | rabindranath | independence",
           9
          ],
          [
           10,
           "ecological | vegetation | deccan | forests | climate",
           5
          ]
         ],
         "hovertemplate": "<b>Topic %{customdata[0]}</b><br>%{customdata[1]}<br>Size: %{customdata[2]}",
         "legendgroup": "",
         "marker": {
          "color": "#B0BEC5",
          "line": {
           "color": "DarkSlateGrey",
           "width": 2
          },
          "size": [
           39,
           33,
           19,
           14,
           14,
           13,
           12,
           11,
           11,
           9,
           5
          ],
          "sizemode": "area",
          "sizeref": 0.024375,
          "symbol": "circle"
         },
         "mode": "markers",
         "name": "",
         "orientation": "v",
         "showlegend": false,
         "type": "scatter",
         "x": [
          7.32611608505249,
          0.3118872344493866,
          -0.6721100807189941,
          0.264292448759079,
          -0.15249040722846985,
          7.0665388107299805,
          -0.48574012517929077,
          -17.26143455505371,
          -16.766700744628906,
          -17.10169219970703,
          6.788295269012451
         ],
         "xaxis": "x",
         "y": [
          5.974963665008545,
          4.709563732147217,
          4.5071940422058105,
          5.159567356109619,
          4.243807792663574,
          5.696727275848389,
          3.9478180408477783,
          -0.4256249964237213,
          0.06837093830108643,
          -0.2657003104686737,
          5.432504653930664
         ],
         "yaxis": "y"
        }
       ],
       "layout": {
        "annotations": [
         {
          "showarrow": false,
          "text": "D1",
          "x": -19.850649738311766,
          "y": 3.1908697344362738,
          "yshift": 10
         },
         {
          "showarrow": false,
          "text": "D2",
          "x": -5.712808120250701,
          "xshift": 10,
          "y": 6.871208214759827
         }
        ],
        "height": 650,
        "hoverlabel": {
         "bgcolor": "white",
         "font": {
          "family": "Rockwell",
          "size": 16
         }
        },
        "legend": {
         "itemsizing": "constant",
         "tracegroupgap": 0
        },
        "margin": {
         "t": 60
        },
        "shapes": [
         {
          "line": {
           "color": "#CFD8DC",
           "width": 2
          },
          "type": "line",
          "x0": -5.712808120250701,
          "x1": -5.712808120250701,
          "y0": -0.4894687458872795,
          "y1": 6.871208214759827
         },
         {
          "line": {
           "color": "#9E9E9E",
           "width": 2
          },
          "type": "line",
          "x0": -19.850649738311766,
          "x1": 8.425033497810364,
          "y0": 3.1908697344362738,
          "y1": 3.1908697344362738
         }
        ],
        "sliders": [
         {
          "active": 0,
          "pad": {
           "t": 50
          },
          "steps": [
           {
            "args": [
             {
              "marker.color": [
               [
                "red",
                "#B0BEC5",
                "#B0BEC5",
                "#B0BEC5",
                "#B0BEC5",
                "#B0BEC5",
                "#B0BEC5",
                "#B0BEC5",
                "#B0BEC5",
                "#B0BEC5",
                "#B0BEC5"
               ]
              ]
             }
            ],
            "label": "Topic 0",
            "method": "update"
           },
           {
            "args": [
             {
              "marker.color": [
               [
                "#B0BEC5",
                "red",
                "#B0BEC5",
                "#B0BEC5",
                "#B0BEC5",
                "#B0BEC5",
                "#B0BEC5",
                "#B0BEC5",
                "#B0BEC5",
                "#B0BEC5",
                "#B0BEC5"
               ]
              ]
             }
            ],
            "label": "Topic 1",
            "method": "update"
           },
           {
            "args": [
             {
              "marker.color": [
               [
                "#B0BEC5",
                "#B0BEC5",
                "red",
                "#B0BEC5",
                "#B0BEC5",
                "#B0BEC5",
                "#B0BEC5",
                "#B0BEC5",
                "#B0BEC5",
                "#B0BEC5",
                "#B0BEC5"
               ]
              ]
             }
            ],
            "label": "Topic 2",
            "method": "update"
           },
           {
            "args": [
             {
              "marker.color": [
               [
                "#B0BEC5",
                "#B0BEC5",
                "#B0BEC5",
                "red",
                "#B0BEC5",
                "#B0BEC5",
                "#B0BEC5",
                "#B0BEC5",
                "#B0BEC5",
                "#B0BEC5",
                "#B0BEC5"
               ]
              ]
             }
            ],
            "label": "Topic 3",
            "method": "update"
           },
           {
            "args": [
             {
              "marker.color": [
               [
                "#B0BEC5",
                "#B0BEC5",
                "#B0BEC5",
                "#B0BEC5",
                "red",
                "#B0BEC5",
                "#B0BEC5",
                "#B0BEC5",
                "#B0BEC5",
                "#B0BEC5",
                "#B0BEC5"
               ]
              ]
             }
            ],
            "label": "Topic 4",
            "method": "update"
           },
           {
            "args": [
             {
              "marker.color": [
               [
                "#B0BEC5",
                "#B0BEC5",
                "#B0BEC5",
                "#B0BEC5",
                "#B0BEC5",
                "red",
                "#B0BEC5",
                "#B0BEC5",
                "#B0BEC5",
                "#B0BEC5",
                "#B0BEC5"
               ]
              ]
             }
            ],
            "label": "Topic 5",
            "method": "update"
           },
           {
            "args": [
             {
              "marker.color": [
               [
                "#B0BEC5",
                "#B0BEC5",
                "#B0BEC5",
                "#B0BEC5",
                "#B0BEC5",
                "#B0BEC5",
                "red",
                "#B0BEC5",
                "#B0BEC5",
                "#B0BEC5",
                "#B0BEC5"
               ]
              ]
             }
            ],
            "label": "Topic 6",
            "method": "update"
           },
           {
            "args": [
             {
              "marker.color": [
               [
                "#B0BEC5",
                "#B0BEC5",
                "#B0BEC5",
                "#B0BEC5",
                "#B0BEC5",
                "#B0BEC5",
                "#B0BEC5",
                "red",
                "#B0BEC5",
                "#B0BEC5",
                "#B0BEC5"
               ]
              ]
             }
            ],
            "label": "Topic 7",
            "method": "update"
           },
           {
            "args": [
             {
              "marker.color": [
               [
                "#B0BEC5",
                "#B0BEC5",
                "#B0BEC5",
                "#B0BEC5",
                "#B0BEC5",
                "#B0BEC5",
                "#B0BEC5",
                "#B0BEC5",
                "red",
                "#B0BEC5",
                "#B0BEC5"
               ]
              ]
             }
            ],
            "label": "Topic 8",
            "method": "update"
           },
           {
            "args": [
             {
              "marker.color": [
               [
                "#B0BEC5",
                "#B0BEC5",
                "#B0BEC5",
                "#B0BEC5",
                "#B0BEC5",
                "#B0BEC5",
                "#B0BEC5",
                "#B0BEC5",
                "#B0BEC5",
                "red",
                "#B0BEC5"
               ]
              ]
             }
            ],
            "label": "Topic 9",
            "method": "update"
           },
           {
            "args": [
             {
              "marker.color": [
               [
                "#B0BEC5",
                "#B0BEC5",
                "#B0BEC5",
                "#B0BEC5",
                "#B0BEC5",
                "#B0BEC5",
                "#B0BEC5",
                "#B0BEC5",
                "#B0BEC5",
                "#B0BEC5",
                "red"
               ]
              ]
             }
            ],
            "label": "Topic 10",
            "method": "update"
           }
          ]
         }
        ],
        "template": {
         "data": {
          "bar": [
           {
            "error_x": {
             "color": "rgb(36,36,36)"
            },
            "error_y": {
             "color": "rgb(36,36,36)"
            },
            "marker": {
             "line": {
              "color": "white",
              "width": 0.5
             },
             "pattern": {
              "fillmode": "overlay",
              "size": 10,
              "solidity": 0.2
             }
            },
            "type": "bar"
           }
          ],
          "barpolar": [
           {
            "marker": {
             "line": {
              "color": "white",
              "width": 0.5
             },
             "pattern": {
              "fillmode": "overlay",
              "size": 10,
              "solidity": 0.2
             }
            },
            "type": "barpolar"
           }
          ],
          "carpet": [
           {
            "aaxis": {
             "endlinecolor": "rgb(36,36,36)",
             "gridcolor": "white",
             "linecolor": "white",
             "minorgridcolor": "white",
             "startlinecolor": "rgb(36,36,36)"
            },
            "baxis": {
             "endlinecolor": "rgb(36,36,36)",
             "gridcolor": "white",
             "linecolor": "white",
             "minorgridcolor": "white",
             "startlinecolor": "rgb(36,36,36)"
            },
            "type": "carpet"
           }
          ],
          "choropleth": [
           {
            "colorbar": {
             "outlinewidth": 1,
             "tickcolor": "rgb(36,36,36)",
             "ticks": "outside"
            },
            "type": "choropleth"
           }
          ],
          "contour": [
           {
            "colorbar": {
             "outlinewidth": 1,
             "tickcolor": "rgb(36,36,36)",
             "ticks": "outside"
            },
            "colorscale": [
             [
              0,
              "#440154"
             ],
             [
              0.1111111111111111,
              "#482878"
             ],
             [
              0.2222222222222222,
              "#3e4989"
             ],
             [
              0.3333333333333333,
              "#31688e"
             ],
             [
              0.4444444444444444,
              "#26828e"
             ],
             [
              0.5555555555555556,
              "#1f9e89"
             ],
             [
              0.6666666666666666,
              "#35b779"
             ],
             [
              0.7777777777777778,
              "#6ece58"
             ],
             [
              0.8888888888888888,
              "#b5de2b"
             ],
             [
              1,
              "#fde725"
             ]
            ],
            "type": "contour"
           }
          ],
          "contourcarpet": [
           {
            "colorbar": {
             "outlinewidth": 1,
             "tickcolor": "rgb(36,36,36)",
             "ticks": "outside"
            },
            "type": "contourcarpet"
           }
          ],
          "heatmap": [
           {
            "colorbar": {
             "outlinewidth": 1,
             "tickcolor": "rgb(36,36,36)",
             "ticks": "outside"
            },
            "colorscale": [
             [
              0,
              "#440154"
             ],
             [
              0.1111111111111111,
              "#482878"
             ],
             [
              0.2222222222222222,
              "#3e4989"
             ],
             [
              0.3333333333333333,
              "#31688e"
             ],
             [
              0.4444444444444444,
              "#26828e"
             ],
             [
              0.5555555555555556,
              "#1f9e89"
             ],
             [
              0.6666666666666666,
              "#35b779"
             ],
             [
              0.7777777777777778,
              "#6ece58"
             ],
             [
              0.8888888888888888,
              "#b5de2b"
             ],
             [
              1,
              "#fde725"
             ]
            ],
            "type": "heatmap"
           }
          ],
          "heatmapgl": [
           {
            "colorbar": {
             "outlinewidth": 1,
             "tickcolor": "rgb(36,36,36)",
             "ticks": "outside"
            },
            "colorscale": [
             [
              0,
              "#440154"
             ],
             [
              0.1111111111111111,
              "#482878"
             ],
             [
              0.2222222222222222,
              "#3e4989"
             ],
             [
              0.3333333333333333,
              "#31688e"
             ],
             [
              0.4444444444444444,
              "#26828e"
             ],
             [
              0.5555555555555556,
              "#1f9e89"
             ],
             [
              0.6666666666666666,
              "#35b779"
             ],
             [
              0.7777777777777778,
              "#6ece58"
             ],
             [
              0.8888888888888888,
              "#b5de2b"
             ],
             [
              1,
              "#fde725"
             ]
            ],
            "type": "heatmapgl"
           }
          ],
          "histogram": [
           {
            "marker": {
             "line": {
              "color": "white",
              "width": 0.6
             }
            },
            "type": "histogram"
           }
          ],
          "histogram2d": [
           {
            "colorbar": {
             "outlinewidth": 1,
             "tickcolor": "rgb(36,36,36)",
             "ticks": "outside"
            },
            "colorscale": [
             [
              0,
              "#440154"
             ],
             [
              0.1111111111111111,
              "#482878"
             ],
             [
              0.2222222222222222,
              "#3e4989"
             ],
             [
              0.3333333333333333,
              "#31688e"
             ],
             [
              0.4444444444444444,
              "#26828e"
             ],
             [
              0.5555555555555556,
              "#1f9e89"
             ],
             [
              0.6666666666666666,
              "#35b779"
             ],
             [
              0.7777777777777778,
              "#6ece58"
             ],
             [
              0.8888888888888888,
              "#b5de2b"
             ],
             [
              1,
              "#fde725"
             ]
            ],
            "type": "histogram2d"
           }
          ],
          "histogram2dcontour": [
           {
            "colorbar": {
             "outlinewidth": 1,
             "tickcolor": "rgb(36,36,36)",
             "ticks": "outside"
            },
            "colorscale": [
             [
              0,
              "#440154"
             ],
             [
              0.1111111111111111,
              "#482878"
             ],
             [
              0.2222222222222222,
              "#3e4989"
             ],
             [
              0.3333333333333333,
              "#31688e"
             ],
             [
              0.4444444444444444,
              "#26828e"
             ],
             [
              0.5555555555555556,
              "#1f9e89"
             ],
             [
              0.6666666666666666,
              "#35b779"
             ],
             [
              0.7777777777777778,
              "#6ece58"
             ],
             [
              0.8888888888888888,
              "#b5de2b"
             ],
             [
              1,
              "#fde725"
             ]
            ],
            "type": "histogram2dcontour"
           }
          ],
          "mesh3d": [
           {
            "colorbar": {
             "outlinewidth": 1,
             "tickcolor": "rgb(36,36,36)",
             "ticks": "outside"
            },
            "type": "mesh3d"
           }
          ],
          "parcoords": [
           {
            "line": {
             "colorbar": {
              "outlinewidth": 1,
              "tickcolor": "rgb(36,36,36)",
              "ticks": "outside"
             }
            },
            "type": "parcoords"
           }
          ],
          "pie": [
           {
            "automargin": true,
            "type": "pie"
           }
          ],
          "scatter": [
           {
            "fillpattern": {
             "fillmode": "overlay",
             "size": 10,
             "solidity": 0.2
            },
            "type": "scatter"
           }
          ],
          "scatter3d": [
           {
            "line": {
             "colorbar": {
              "outlinewidth": 1,
              "tickcolor": "rgb(36,36,36)",
              "ticks": "outside"
             }
            },
            "marker": {
             "colorbar": {
              "outlinewidth": 1,
              "tickcolor": "rgb(36,36,36)",
              "ticks": "outside"
             }
            },
            "type": "scatter3d"
           }
          ],
          "scattercarpet": [
           {
            "marker": {
             "colorbar": {
              "outlinewidth": 1,
              "tickcolor": "rgb(36,36,36)",
              "ticks": "outside"
             }
            },
            "type": "scattercarpet"
           }
          ],
          "scattergeo": [
           {
            "marker": {
             "colorbar": {
              "outlinewidth": 1,
              "tickcolor": "rgb(36,36,36)",
              "ticks": "outside"
             }
            },
            "type": "scattergeo"
           }
          ],
          "scattergl": [
           {
            "marker": {
             "colorbar": {
              "outlinewidth": 1,
              "tickcolor": "rgb(36,36,36)",
              "ticks": "outside"
             }
            },
            "type": "scattergl"
           }
          ],
          "scattermapbox": [
           {
            "marker": {
             "colorbar": {
              "outlinewidth": 1,
              "tickcolor": "rgb(36,36,36)",
              "ticks": "outside"
             }
            },
            "type": "scattermapbox"
           }
          ],
          "scatterpolar": [
           {
            "marker": {
             "colorbar": {
              "outlinewidth": 1,
              "tickcolor": "rgb(36,36,36)",
              "ticks": "outside"
             }
            },
            "type": "scatterpolar"
           }
          ],
          "scatterpolargl": [
           {
            "marker": {
             "colorbar": {
              "outlinewidth": 1,
              "tickcolor": "rgb(36,36,36)",
              "ticks": "outside"
             }
            },
            "type": "scatterpolargl"
           }
          ],
          "scatterternary": [
           {
            "marker": {
             "colorbar": {
              "outlinewidth": 1,
              "tickcolor": "rgb(36,36,36)",
              "ticks": "outside"
             }
            },
            "type": "scatterternary"
           }
          ],
          "surface": [
           {
            "colorbar": {
             "outlinewidth": 1,
             "tickcolor": "rgb(36,36,36)",
             "ticks": "outside"
            },
            "colorscale": [
             [
              0,
              "#440154"
             ],
             [
              0.1111111111111111,
              "#482878"
             ],
             [
              0.2222222222222222,
              "#3e4989"
             ],
             [
              0.3333333333333333,
              "#31688e"
             ],
             [
              0.4444444444444444,
              "#26828e"
             ],
             [
              0.5555555555555556,
              "#1f9e89"
             ],
             [
              0.6666666666666666,
              "#35b779"
             ],
             [
              0.7777777777777778,
              "#6ece58"
             ],
             [
              0.8888888888888888,
              "#b5de2b"
             ],
             [
              1,
              "#fde725"
             ]
            ],
            "type": "surface"
           }
          ],
          "table": [
           {
            "cells": {
             "fill": {
              "color": "rgb(237,237,237)"
             },
             "line": {
              "color": "white"
             }
            },
            "header": {
             "fill": {
              "color": "rgb(217,217,217)"
             },
             "line": {
              "color": "white"
             }
            },
            "type": "table"
           }
          ]
         },
         "layout": {
          "annotationdefaults": {
           "arrowhead": 0,
           "arrowwidth": 1
          },
          "autotypenumbers": "strict",
          "coloraxis": {
           "colorbar": {
            "outlinewidth": 1,
            "tickcolor": "rgb(36,36,36)",
            "ticks": "outside"
           }
          },
          "colorscale": {
           "diverging": [
            [
             0,
             "rgb(103,0,31)"
            ],
            [
             0.1,
             "rgb(178,24,43)"
            ],
            [
             0.2,
             "rgb(214,96,77)"
            ],
            [
             0.3,
             "rgb(244,165,130)"
            ],
            [
             0.4,
             "rgb(253,219,199)"
            ],
            [
             0.5,
             "rgb(247,247,247)"
            ],
            [
             0.6,
             "rgb(209,229,240)"
            ],
            [
             0.7,
             "rgb(146,197,222)"
            ],
            [
             0.8,
             "rgb(67,147,195)"
            ],
            [
             0.9,
             "rgb(33,102,172)"
            ],
            [
             1,
             "rgb(5,48,97)"
            ]
           ],
           "sequential": [
            [
             0,
             "#440154"
            ],
            [
             0.1111111111111111,
             "#482878"
            ],
            [
             0.2222222222222222,
             "#3e4989"
            ],
            [
             0.3333333333333333,
             "#31688e"
            ],
            [
             0.4444444444444444,
             "#26828e"
            ],
            [
             0.5555555555555556,
             "#1f9e89"
            ],
            [
             0.6666666666666666,
             "#35b779"
            ],
            [
             0.7777777777777778,
             "#6ece58"
            ],
            [
             0.8888888888888888,
             "#b5de2b"
            ],
            [
             1,
             "#fde725"
            ]
           ],
           "sequentialminus": [
            [
             0,
             "#440154"
            ],
            [
             0.1111111111111111,
             "#482878"
            ],
            [
             0.2222222222222222,
             "#3e4989"
            ],
            [
             0.3333333333333333,
             "#31688e"
            ],
            [
             0.4444444444444444,
             "#26828e"
            ],
            [
             0.5555555555555556,
             "#1f9e89"
            ],
            [
             0.6666666666666666,
             "#35b779"
            ],
            [
             0.7777777777777778,
             "#6ece58"
            ],
            [
             0.8888888888888888,
             "#b5de2b"
            ],
            [
             1,
             "#fde725"
            ]
           ]
          },
          "colorway": [
           "#1F77B4",
           "#FF7F0E",
           "#2CA02C",
           "#D62728",
           "#9467BD",
           "#8C564B",
           "#E377C2",
           "#7F7F7F",
           "#BCBD22",
           "#17BECF"
          ],
          "font": {
           "color": "rgb(36,36,36)"
          },
          "geo": {
           "bgcolor": "white",
           "lakecolor": "white",
           "landcolor": "white",
           "showlakes": true,
           "showland": true,
           "subunitcolor": "white"
          },
          "hoverlabel": {
           "align": "left"
          },
          "hovermode": "closest",
          "mapbox": {
           "style": "light"
          },
          "paper_bgcolor": "white",
          "plot_bgcolor": "white",
          "polar": {
           "angularaxis": {
            "gridcolor": "rgb(232,232,232)",
            "linecolor": "rgb(36,36,36)",
            "showgrid": false,
            "showline": true,
            "ticks": "outside"
           },
           "bgcolor": "white",
           "radialaxis": {
            "gridcolor": "rgb(232,232,232)",
            "linecolor": "rgb(36,36,36)",
            "showgrid": false,
            "showline": true,
            "ticks": "outside"
           }
          },
          "scene": {
           "xaxis": {
            "backgroundcolor": "white",
            "gridcolor": "rgb(232,232,232)",
            "gridwidth": 2,
            "linecolor": "rgb(36,36,36)",
            "showbackground": true,
            "showgrid": false,
            "showline": true,
            "ticks": "outside",
            "zeroline": false,
            "zerolinecolor": "rgb(36,36,36)"
           },
           "yaxis": {
            "backgroundcolor": "white",
            "gridcolor": "rgb(232,232,232)",
            "gridwidth": 2,
            "linecolor": "rgb(36,36,36)",
            "showbackground": true,
            "showgrid": false,
            "showline": true,
            "ticks": "outside",
            "zeroline": false,
            "zerolinecolor": "rgb(36,36,36)"
           },
           "zaxis": {
            "backgroundcolor": "white",
            "gridcolor": "rgb(232,232,232)",
            "gridwidth": 2,
            "linecolor": "rgb(36,36,36)",
            "showbackground": true,
            "showgrid": false,
            "showline": true,
            "ticks": "outside",
            "zeroline": false,
            "zerolinecolor": "rgb(36,36,36)"
           }
          },
          "shapedefaults": {
           "fillcolor": "black",
           "line": {
            "width": 0
           },
           "opacity": 0.3
          },
          "ternary": {
           "aaxis": {
            "gridcolor": "rgb(232,232,232)",
            "linecolor": "rgb(36,36,36)",
            "showgrid": false,
            "showline": true,
            "ticks": "outside"
           },
           "baxis": {
            "gridcolor": "rgb(232,232,232)",
            "linecolor": "rgb(36,36,36)",
            "showgrid": false,
            "showline": true,
            "ticks": "outside"
           },
           "bgcolor": "white",
           "caxis": {
            "gridcolor": "rgb(232,232,232)",
            "linecolor": "rgb(36,36,36)",
            "showgrid": false,
            "showline": true,
            "ticks": "outside"
           }
          },
          "title": {
           "x": 0.05
          },
          "xaxis": {
           "automargin": true,
           "gridcolor": "rgb(232,232,232)",
           "linecolor": "rgb(36,36,36)",
           "showgrid": false,
           "showline": true,
           "ticks": "outside",
           "title": {
            "standoff": 15
           },
           "zeroline": false,
           "zerolinecolor": "rgb(36,36,36)"
          },
          "yaxis": {
           "automargin": true,
           "gridcolor": "rgb(232,232,232)",
           "linecolor": "rgb(36,36,36)",
           "showgrid": false,
           "showline": true,
           "ticks": "outside",
           "title": {
            "standoff": 15
           },
           "zeroline": false,
           "zerolinecolor": "rgb(36,36,36)"
          }
         }
        },
        "title": {
         "font": {
          "color": "Black",
          "size": 22
         },
         "text": "<b>Intertopic Distance Map</b>",
         "x": 0.5,
         "xanchor": "center",
         "y": 0.95,
         "yanchor": "top"
        },
        "width": 650,
        "xaxis": {
         "anchor": "y",
         "domain": [
          0,
          1
         ],
         "range": [
          -19.850649738311766,
          8.425033497810364
         ],
         "title": {
          "text": ""
         },
         "visible": false
        },
        "yaxis": {
         "anchor": "x",
         "domain": [
          0,
          1
         ],
         "range": [
          -0.4894687458872795,
          6.871208214759827
         ],
         "title": {
          "text": ""
         },
         "visible": false
        }
       }
      }
     },
     "metadata": {},
     "output_type": "display_data"
    }
   ],
   "source": [
    "topic_model.visualize_topics()"
   ]
  },
  {
   "cell_type": "code",
   "execution_count": 80,
   "metadata": {},
   "outputs": [
    {
     "data": {
      "application/vnd.plotly.v1+json": {
       "config": {
        "plotlyServerURL": "https://plot.ly"
       },
       "data": [
        {
         "hoverinfo": "text",
         "hovertext": [
          "Critically discuss the objectives of Bhoodan and Gramdan movements initiated by AcharyaVinobhaBhave and their success.",
          "Customs and traditions suppress reason leading to obscurantism. Do you agree?",
          "Mumbai, Delhi and Kolkata are the three Mega cities of the country but the air pollution is much more serious probelm in Delhi as compared to the other two. Why is this so?",
          "Growing feeling of regionalism is an important factor in generation of demand for a separate state. Discuss.",
          "Discuss whether formation of new states in recent times is beneficial or not for the economy of India.",
          "Do you agree that regionalism in India appears to be a consequence of rising cultural assertiveness? Argue.",
          "Mention the advantages of the cultivation of pulses because of which the year 2016 was declared as the International Year of Pulses by United Nations.",
          "Petroleum refineries are not necessarily located nearer to crude oil producing areas, particularly in many of the developing countries. Explain its implications.",
          "What problems are germane to the decolonization process in the Malay Peninsula?",
          "What were the major technological changes introduced during the Sultanate period? How did those technological changes influence the Indian society?",
          "What is Cryptocurrency? How does it affect global society? Has it been affecting Indian society also?",
          "Why is India taking keen interest in the Arctic region?",
          "What are the two major legal initiatives by the State since Independence addressing discrimination against Scheduled Tribes(STs)?",
          "What makes the Indian society unique in sustaining its culture? Discuss.",
          "How does Indian society maintain continuity in traditional social values? Enumerate the changes taking place in it.",
          "To what extent did the role of the moderates prepare a base for the wider freedom movement? Comment.",
          "Discuss the multi-dimensional implications of uneven distribution of mineral oil in the world.",
          "What is the basis of regionalism? Is it that unequal distribution of benefits of development on regional basis eventually promotes regionalism? Substantiate your answer.",
          "Describing the distribution of rubber producing countries, indicate the major environmental issues faced by them.",
          "Assess the main administrative issues and socio-cultural problems in the integration process of Indian Princely States.",
          "Why was there a sudden spurt in famines in colonial India since the mid-eighteenth century? Give reasons.",
          "‘Latecomer’ Industrial Revolution in Japan involved certain factors that were markedly different from what West had experienced.” Analyze.",
          "Why is Indian Regional Navigational Satellite System (IRNSS) needed? How does it help in navigation?",
          "Critically evaluate the various resources of the oceans which can be harnessed to meet the resource crisis in the world.",
          "Critically examine the effect of globalization on the aged population in India.",
          "Why are the tribals in India referred to as 'the Scheduled Tribes? Indicate the major provisions in the Constitution of India for their upliftment.",
          "Why did the ‘Moderates’ failed to carry conviction with the nation about their proclaimed ideology and political goals by the end of the nineteenth century?",
          "Child cuddling is now being replaced by mobile phones. Discuss its impact on the socialization of children.",
          "Why did the Green Revolution in India virtually by-pass the eastern region despite fertile soil and good availability of water?",
          "Account for the change in the spatial pattern of the Iron and Steel industry in the world.",
          "What were the major political, economic and social developments in the world which motivated the anti-colonial in India?",
          "Examine how the decline of traditional artisanal industry in colonial India crippled the rural economy.",
          "South China Sea has assumed great geopolitical significance in the present context. Comment.",
          "Examine the linkages between the nineteenth century’s ‘Indian Renaissance’ and the emergence of national identity.",
          "How is the growth of Tier 2 cities related to the rise of a new middle class with an emphasis on the culture of consumption?",
          "Why did the industrial revolution first occur in England? Discuss the quality of life of the people there during the industrialization. How does it compare with that in India at present times?",
          "The life cycle of a joint family depends on economic factors rather than social values. Discuss.",
          "To what extent globalization has influenced the core of cultural diversity in India? Explain.",
          "Mention the significance of straits and isthmus in international trade.",
          "Whereas the British planters had developed tea gardens all along the Shivaliks and Lesser Himalayas from Assam to Himachal Pradesh, in effect they did not succeed beyond the Darjeeling area. Explain.",
          "Explore and evaluate the impact of ‘Work From Home’ on family relationships.",
          "The Bhakti movement received a remarkable re-orientation with the advent of Sri Chaitanya Mahaprabhu. Discuss.",
          "The political and administrative reorganization of states and territories has been a continuous ongoing process since the mid-nineteenth century. Discuss with examples.",
          "What are the economic significances of discovery of oil in Arctic Sea and its possible environemental consequences?",
          "Debate the issue whether and how contemporary movements for assertion of Dalit identity work towards annihilation of caste.",
          "‘Communalism arises either due to power struggle or relative deprivation.’ Argue by giving suitable illustrations.",
          "Why is India considered as a sub-continent? Elaborate your answer.",
          "The New Economic Policy – 1921 of Lenin had influenced the policies adopted by India soon after independence. Evaluate.",
          "Evaluate the nature of the Bhakti Literature and its contribution to Indian culture.",
          "Critically examine the compulsions which prompted India to play a decisive role in the emergence of Bangladesh.",
          "\"An essential condition to eradicate poverty is to liberate the poor from the process of deprivation.\" Substantiate this statement with suitable examples.",
          "“Inspite of adverse environmental impact, coal mining is still inevitable for development”.\nDiscuss",
          "How can the mountain ecosystem be restored from the negative impact of development initiatives and tourism?",
          "How did the colonial rule affect the tribals in India and what was the tribal response to the colonial oppression?",
          "What were the events that led to the Suez Crisis in 1956? How did it deal a final blow to Britain’s self-image as a world power?",
          null
         ],
         "marker": {
          "color": "#CFD8DC",
          "opacity": 0.5,
          "size": 5
         },
         "mode": "markers+text",
         "name": "other",
         "showlegend": false,
         "type": "scattergl",
         "x": [
          7.997702121734619,
          7.204169273376465,
          2.1934638023376465,
          4.647385597229004,
          4.372629165649414,
          6.280351161956787,
          4.1385345458984375,
          2.461423397064209,
          5.380715847015381,
          5.495822429656982,
          4.6708197593688965,
          2.605058431625366,
          6.028153419494629,
          7.242616653442383,
          7.275156021118164,
          6.608834266662598,
          2.4428961277008057,
          4.740562438964844,
          1.288072109222412,
          5.493136405944824,
          5.423120498657227,
          5.050712585449219,
          2.8417818546295166,
          1.9630239009857178,
          5.452512264251709,
          6.2322258949279785,
          6.634085178375244,
          5.810850620269775,
          3.3404629230499268,
          3.5509233474731445,
          5.719938278198242,
          5.477041721343994,
          1.1234618425369263,
          7.201426982879639,
          4.395560264587402,
          5.157199859619141,
          6.251451015472412,
          6.502863883972168,
          1.1081234216690063,
          5.372254371643066,
          6.000767707824707,
          7.9391913414001465,
          4.859858512878418,
          2.218791961669922,
          6.942676067352295,
          6.686343193054199,
          6.112631320953369,
          6.113414764404297,
          7.931702136993408,
          7.597337245941162,
          4.829066276550293,
          1.679306149482727,
          1.3027596473693848,
          5.815560340881348,
          5.377833366394043,
          4.992432117462158
         ],
         "y": [
          4.624582767486572,
          3.942946672439575,
          4.9185051918029785,
          5.016585826873779,
          5.1080803871154785,
          4.258144378662109,
          5.306151866912842,
          5.993775367736816,
          5.9576215744018555,
          5.108922481536865,
          4.595663547515869,
          5.448843002319336,
          4.868728160858154,
          4.408690929412842,
          4.0598578453063965,
          6.239035129547119,
          6.072275638580322,
          5.04151725769043,
          5.435336112976074,
          5.654062271118164,
          4.906313419342041,
          5.410025119781494,
          5.184572696685791,
          6.254660129547119,
          3.929593086242676,
          4.72066068649292,
          6.24619722366333,
          3.580498695373535,
          4.541625499725342,
          5.671839237213135,
          5.251267433166504,
          5.084902286529541,
          6.8076934814453125,
          4.876348495483398,
          4.83787202835083,
          5.422033309936523,
          3.4787437915802,
          4.236288070678711,
          6.853082656860352,
          5.314836502075195,
          3.4464006423950195,
          4.591963768005371,
          5.133673667907715,
          6.172585964202881,
          3.5971641540527344,
          3.669268846511841,
          4.1613054275512695,
          6.053066730499268,
          4.560973644256592,
          4.120595932006836,
          3.7989537715911865,
          5.337838172912598,
          5.718594551086426,
          4.994919300079346,
          6.139693737030029,
          5.021188735961914
         ]
        },
        {
         "hoverinfo": "text",
         "hovertext": [
          "What characteristics can be assigned to monsoon climate that succeeds in feeding more than 50 percent of the world population residing in Monsoon Asia?",
          "Bring out the causes for more frequent occurrence of landslides in the Himalayas than in the Western Ghats.",
          "Major hot deserts in northern hemisphere are located between 20-30 deg N latitudes and on the western sides of the continents. Why?",
          "The process of desertification does not have climate boundaries. Justify with examples.",
          "Bring out the causes for the formation of heat islands in the urban habitat of the world.",
          "Tropical cyclones are largely confined to South China Sea, Bay of Bengal and Gulf of Mexico. Why?",
          "Most of the unusual climatic happenings are explained as an outcome of the El-Nino effect. Do you agree?",
          "How do ocean currents and water masses differ in their impacts on marine life and coastal environment? Give suitable examples.",
          "Bring out the relationship between the shrinking Himalayan glaciers and the symptoms of climate change in the Indian sub-continent.",
          "Explain the formation of thousands of islands in Indonesian and Philipines archipelagos.",
          "Assess the impact of global warming on the coral life system with examples.",
          "Define mantle plume and explain its role in plate tectonics.",
          "Differentiate the causes of landslides in the Himalayan region and Western Ghats.",
          "Mention the global occurrence of volcanic eruptions in 2021 and their impact on regional environment.",
          "How does the Juno Mission of NASA help to understand the origin and evolution of the Earth?",
          "There is no formation of deltas by rivers on the Western Ghats. Why?",
          "How far do you agree that the behaviour of the Indian monsoon has been changing due to humanizing landscape? Discuss.",
          "How will the melting of Himalayan glaciers have a far- reaching impact on the water resources of India?",
          "How are the fjords formed? Why do they constitute some of the most picturesque areas of the world?",
          "Discuss the causes of depletion of mangroves and explain their importance in maintaining coastal ecology.",
          "What do you understand by the theory of continental drift? Discuss the prominent evidences in its support.",
          "\"The Himalayas are highly prone to landslides.\" Discuss the causes and suggest suitable measures of mitigation.",
          "Troposphere is a very significant atmospheric layer that determines weather processes.\nHow?",
          "Account for variations in oceanic salinity and discuss its multi-dimensional effects.",
          "What do you understand by the phenomenon of ‘temperature inversion’ in meteorology? How does it affect weather and the habitants of the place?",
          "Briefly mention the alignment of major mountain ranges of the world and explain their impact on local weather conditions, with examples.",
          "Describe the characteristics and types of primary rocks.",
          "The recent cyclone on the east coast of India was called ‘Phailin’. How are the tropical cyclones named across the world? Elaborate.",
          "Discuss the concept of air mass and explain its role in macro-climatic changes.",
          "Why are the world’s fold mountain systems located along the margins of continents? Bring out the association between the global distribution of fold mountains and the earthquakes and volcanoes.",
          "Why is the South-West monsoon called ‘Purvaiya’ (easterly) in Bhojpur Region? How has this directional seasonal wind system influenced the cultural ethos of the region?",
          "How does the cryosphere affect global climate?",
          "How do the melting of the Arctic ice and glaciers of the Antarctic differently affect the weather patterns and human activities on the Earth? Explain.",
          "Discuss the geophysical characteristics of Circum- Pacific Zone.",
          "Discuss the meaning of colour-coded weather warnings for cyclone prone areas given by India Meteorological department.",
          "What are the consequences of spreading of ‘Dead Zones’ on marine ecosystem?",
          "What are the forces that influence ocean currents? Describe their role in fishing industry of the world.",
          "Discuss the consequences of climate change on the food security in tropical countries.",
          "Explain the factors responsible for the origin of ocean currents. How do they influence regional climates, fishing and navigation?",
          null
         ],
         "marker": {
          "opacity": 0.5,
          "size": 5
         },
         "mode": "markers+text",
         "name": "0_meteorology_glaciers_climate",
         "text": [
          "",
          "",
          "",
          "",
          "",
          "",
          "",
          "",
          "",
          "",
          "",
          "",
          "",
          "",
          "",
          "",
          "",
          "",
          "",
          "",
          "",
          "",
          "",
          "",
          "",
          "",
          "",
          "",
          "",
          "",
          "",
          "",
          "",
          "",
          "",
          "",
          "",
          "",
          "",
          "0_meteorology_glaciers_climate"
         ],
         "textfont": {
          "size": 12
         },
         "type": "scattergl",
         "x": [
          0.3111919164657593,
          0.656724214553833,
          0.22979635000228882,
          0.3503734767436981,
          -0.04073699191212654,
          0.6705923080444336,
          -0.18762244284152985,
          -0.018333839252591133,
          0.773358166217804,
          0.28046274185180664,
          -0.22911782562732697,
          0.04619660973548889,
          0.666232705116272,
          -0.10851844400167465,
          0.317792683839798,
          0.5101025104522705,
          0.5643478035926819,
          0.9392107725143433,
          0.3868681490421295,
          -0.1530701220035553,
          0.4260912835597992,
          0.675936758518219,
          -0.3197694420814514,
          0.1345091164112091,
          -0.2865675985813141,
          0.08088168501853943,
          0.06661152839660645,
          0.6533351540565491,
          -0.2861311435699463,
          0.3406669795513153,
          0.525666356086731,
          -0.2731465697288513,
          -0.06273555755615234,
          0.10541526973247528,
          0.7225338220596313,
          -0.1399671882390976,
          0.13606655597686768,
          0.19210903346538544,
          0.18907655775547028,
          0.22683162987232208
         ],
         "y": [
          6.001510143280029,
          6.538241863250732,
          6.559791564941406,
          6.266878128051758,
          6.633549690246582,
          5.697172164916992,
          6.342609882354736,
          7.344872951507568,
          6.217463493347168,
          6.741907596588135,
          7.195406436920166,
          6.908952236175537,
          6.517123222351074,
          6.547456741333008,
          7.197031497955322,
          6.689792156219482,
          5.932478904724121,
          6.114007472991943,
          6.78842830657959,
          7.395888328552246,
          7.1109161376953125,
          6.4491353034973145,
          6.43583345413208,
          7.259734153747559,
          6.398286819458008,
          6.83182954788208,
          6.928001403808594,
          5.622087478637695,
          6.44029426574707,
          6.853250026702881,
          5.776517391204834,
          6.472210884094238,
          6.448229789733887,
          7.143733978271484,
          5.550920486450195,
          7.357517242431641,
          7.275423049926758,
          6.088738918304443,
          7.2412261962890625,
          6.597806453704834
         ]
        },
        {
         "hoverinfo": "text",
         "hovertext": [
          "Discuss the various social problems which originated out of the speedy process of urbanization in India.",
          "With growing scarcity of fossil fuels, the atomic energy is gaining more and more significance in India. Discuss the availability of raw material required for the generation of atomic energy in India and in the world.",
          "How have digital initiatives in India contributed to the functioning of the education system in the country? Elaborate your answer.",
          "What are the main socio-economic implications arising out of the development of IT industries in major cities of India?",
          "Elucidate the relationship between globalization and new technology in a world of scarce resources, with special reference to India.",
          "Examine the potential of wind energy in India and explain the reasons for their limited spatial spread.",
          "How is efficient and affordable urban mass transport key to the rapid economic development in India?",
          "COVID-19 pandemic accelerated class inequalities and poverty in India. Comment.",
          "‘Despite implementation of various programmes for eradication of poverty by the government in India, poverty is still existing’. Explain by giving reasons.",
          "Bring out the socio-economic effects of the introduction of railways in different countries of the world",
          "To what extent has the urban planning and culture of the Indus Valley Civilization provided inputs to the present day urbanization?\nDiscuss.",
          "Discuss the factors for localisation of agro-based food processing industries of North-West India.",
          "Defining blue revolution, explain the problems and strategies for pisciculture development in India.",
          "Can the strategy of regional resource-based manufacturing help in promoting employment in India?",
          "Do you agree that there is a growing trend of opening new sugar mills in southern states of India? Discuss with justification.",
          "Mention core strategies for the transformation of aspirational districts in India and explain the nature of convergence, collaboration and competition for its success.",
          "What is the significance of Industrial Corridors in India? Identifying industrial corridors, explain their main characteristics.",
          "Discuss the changes in the trends of labour migration within and outside India in the last four decades.",
          "Discuss the main objectives of Population Education and point out the measures to achieve them in India in detail.",
          "With a brief background of quality of urban life in India, introduce the objectives and strategy of the 'Smart City Programme'.",
          "India has immense potential of solar energy though there are regional variations in its developments. Elaborate.",
          "Why did human development fail to keep pace with economic development in India?",
          "“The growth of cities as I.T. hubs has opened up new avenues of employment, but has also created new problems”. Substantiate this statement with examples",
          "From being net food importer in 1960s, India has emerged as a net food exporter to the world. Provide reasons.",
          "It is said that India has substantial reserves of shale oil and gas, which can feed the needs of the country for quarter century. However, tapping of the resource does not appear to be high on the agenda. Discuss critically the availability and issues involved.",
          "Account for the present location of iron and steel industries away from the source of raw material, by giving examples.",
          "Analyze the factors for the highly decentralized cotton textile industry in India.",
          "Explain the role of geographical factors towards the development of Ancient India.",
          "How does India see its place in the economic space of rising natural resources rich Africa?",
          "Does urbanization lead to more segregation and/or marginalization of the poor in Indian metropolises?",
          "Smart cities in India cannot sustain without smart vilages. Discuss this statement in the backdrop of rural urban integration.",
          "Critically examine whether growing population is the cause of poverty OR poverty is the mains cause of population increase in India.",
          "Despite India being one of the countries of the Gondwanaland, its mining industry contributes much less to its Gross Domestic Product(GDP) in percentage. Discuss.",
          null
         ],
         "marker": {
          "opacity": 0.5,
          "size": 5
         },
         "mode": "markers+text",
         "name": "1_india_poverty_socioeconomic",
         "text": [
          "",
          "",
          "",
          "",
          "",
          "",
          "",
          "",
          "",
          "",
          "",
          "",
          "",
          "",
          "",
          "",
          "",
          "",
          "",
          "",
          "",
          "",
          "",
          "",
          "",
          "",
          "",
          "",
          "",
          "",
          "",
          "",
          "",
          "1_india_poverty_socioeconomic"
         ],
         "textfont": {
          "size": 12
         },
         "type": "scattergl",
         "x": [
          4.542311191558838,
          2.4650940895080566,
          4.73131799697876,
          4.130242824554443,
          4.216421604156494,
          2.306288480758667,
          4.1660614013671875,
          4.8176422119140625,
          4.798142433166504,
          4.174064636230469,
          3.818047285079956,
          3.8605518341064453,
          3.614983320236206,
          3.8545517921447754,
          3.8726203441619873,
          3.9373841285705566,
          3.8491148948669434,
          5.195976257324219,
          4.691090106964111,
          3.9962503910064697,
          2.5188722610473633,
          4.826634407043457,
          4.32404899597168,
          3.7747082710266113,
          2.430924415588379,
          3.415956974029541,
          3.922849178314209,
          3.663025140762329,
          2.801398515701294,
          4.406425476074219,
          4.096807956695557,
          4.793757438659668,
          3.3203752040863037,
          3.919210195541382
         ],
         "y": [
          4.349722862243652,
          5.542714595794678,
          3.988353967666626,
          4.822135925292969,
          5.219831943511963,
          5.273221492767334,
          4.476974964141846,
          3.851984977722168,
          3.892409324645996,
          4.522832870483398,
          4.544545650482178,
          5.278757095336914,
          4.563711643218994,
          5.189794063568115,
          5.283847332000732,
          4.7297444343566895,
          4.776881217956543,
          4.191749095916748,
          3.95801043510437,
          4.260146141052246,
          5.454479217529297,
          4.294086933135986,
          4.74282693862915,
          5.404061794281006,
          5.761275291442871,
          5.676547527313232,
          5.203670501708984,
          4.61068868637085,
          5.498788356781006,
          4.235274791717529,
          4.289464950561523,
          3.8580663204193115,
          5.538790702819824,
          4.766223907470703
         ]
        },
        {
         "hoverinfo": "text",
         "hovertext": [
          "Early Buddhist Stupa-art, while depicting folk motifs and narratives successfully expounds Buddhist ideals. Elucidate.",
          "The rock-cut architecture represents one of the most important sources of our knowledge of early Indian art and history. Discuss.",
          "Assess the importance of the accounts of the Chinese and Arab travellers in the reconstruction of the history of India.",
          "Taxila university was one of the oldest universities of the world with which were associated a number of renowned learned personalities of different disciplines. Its strategic location caused its fame to flourish, but unlike Nalanda, it is not considered as a university in the modern sense. Discuss.",
          "Highlight the Central Asian and Greco Bactrian elements in the Gandhara art.",
          "“In many ways, Lord Dalhousie was the founder of modern India.” Elaborate.",
          "How do you justify the view that the level of excellence of the Gupta numismatic art is not at all noticeable in later times?",
          "Discuss the ‘Tandava’ dance as recorded in early Indian inscriptions.",
          "Safeguarding the Indian art heritage is the need of the moment.",
          "Gandhara sculpture owed as much to the Romans as to the Greeks. Explain.",
          "Discuss the significance of the lion and bull figures in Indian mythology, art and architecture.",
          "Chola architecture represents a high watermark in the evolution of temple architecture. Discuss",
          "Though not very useful from the point of view of a connected political history of South India, the Sangam literature portrays the social and economic conditions of its time with remarkable vividness. Comment.",
          "Persian literary sources of medieval India reflect the spirit of the age. Comment.",
          "Discuss the main contributions of Gupta period and Chola period to Indian heritage and culture\n.",
          "Krishnadeva Raya, the King of Vijayanagar, was not only an accomplished scholar himself but was also a great patron of learning and literature. Discuss.",
          "Indian Philosophy and tradition played a significant role in conceiving and shaping the monuments and their art in India. Discuss.",
          "How will you explain the medieval Indian temple sculptures represent the social life of those days?",
          "Mesolithic rock cut architecture of India not only reflects the cultural life of the times but also a fine aesthetic sense comparable to modern painting. Critically evaluate this comment.",
          null
         ],
         "marker": {
          "opacity": 0.5,
          "size": 5
         },
         "mode": "markers+text",
         "name": "2_monuments_mythology_sculptures",
         "text": [
          "",
          "",
          "",
          "",
          "",
          "",
          "",
          "",
          "",
          "",
          "",
          "",
          "",
          "",
          "",
          "",
          "",
          "",
          "",
          "2_monuments_mythology_sculptures"
         ],
         "textfont": {
          "size": 12
         },
         "type": "scattergl",
         "x": [
          8.587471008300781,
          8.453492164611816,
          6.845829963684082,
          7.940207481384277,
          8.558098793029785,
          7.786742687225342,
          8.436188697814941,
          8.591887474060059,
          8.480863571166992,
          8.548404693603516,
          8.644027709960938,
          8.617781639099121,
          7.608737945556641,
          8.374879837036133,
          8.40760612487793,
          8.085288047790527,
          8.342872619628906,
          8.541272163391113,
          8.46003246307373,
          8.279561996459961
         ],
         "y": [
          5.207099914550781,
          5.083264350891113,
          5.293325424194336,
          4.96450662612915,
          5.105372428894043,
          5.2768683433532715,
          4.873557090759277,
          5.083228588104248,
          5.2010297775268555,
          5.182979106903076,
          5.1337151527404785,
          5.168910980224609,
          5.102518081665039,
          5.265415668487549,
          4.898983955383301,
          5.179363250732422,
          5.083922863006592,
          5.178538799285889,
          5.0847249031066895,
          5.124596118927002
         ]
        },
        {
         "hoverinfo": "text",
         "hovertext": [
          "Discuss the role of women in the freedom struggle especially during the Gandhian phase.",
          "“Empowering women is the key to control population growth.” Discuss.",
          "Examine the role of ‘Gig Economy’ in the process of empowerment of women in India.",
          "‘Women’s movement in India has not addressed the issues of women of lower social strata.’ Substantiate your view.",
          "Discuss the positive and negative effects of globalization on women in India?",
          "How do you explain the statistics that show that the sex ratio in Tribes in India is more favourable to women than the sex ratio among Scheduled Castes?",
          "Why do some of the most prosperous regions of India have an adverse sex ratio for women? Give your arguments.",
          "Discuss the various economic and\nsocio-cultural forces that are driving increasing feminization of agriculture in India.",
          "What are the continued challenges for women in India against time and space?",
          "“Male membership needs to be encouraged in order to make women’s organization free from gender bias.” Comment.",
          "How does patriarchy impact the position of a middle class working woman in India?",
          "Explain why suicide among young women is increasing in Indian Society.",
          "Defying the barriers of age, gender and religion, the Indian women became the torchbearer during the struggle for freedom in India. Discuss.",
          "The women’s questions arose in modern India as a part of the 19th century social reform movement. What are the major issues and debates concerning women in that period?",
          null
         ],
         "marker": {
          "opacity": 0.5,
          "size": 5
         },
         "mode": "markers+text",
         "name": "3_castes_feminization_women",
         "text": [
          "",
          "",
          "",
          "",
          "",
          "",
          "",
          "",
          "",
          "",
          "",
          "",
          "",
          "",
          "3_castes_feminization_women"
         ],
         "textfont": {
          "size": 12
         },
         "type": "scattergl",
         "x": [
          6.970216751098633,
          5.318809509277344,
          5.636296272277832,
          5.763735294342041,
          5.524811267852783,
          5.461101055145264,
          5.482811450958252,
          5.399578094482422,
          5.6527838706970215,
          5.465608596801758,
          5.612541198730469,
          5.508708953857422,
          5.810648441314697,
          5.752388954162598,
          5.66857385635376
         ],
         "y": [
          5.568151473999023,
          3.2889583110809326,
          2.9785988330841064,
          2.876556396484375,
          3.4351093769073486,
          3.2591185569763184,
          3.1699774265289307,
          3.358592987060547,
          3.0651211738586426,
          3.075934886932373,
          3.084341526031494,
          3.187530994415283,
          2.999861001968384,
          2.921077013015747,
          3.3049237728118896
         ]
        },
        {
         "hoverinfo": "text",
         "hovertext": [
          "Examine the uniqueness of tribal knowledge system when compared with mainstream knowledge and cultural systems.",
          "Has the formation of linguistic States strengthened the cause of Indian Unity?",
          "Given the diversities among the tribal communities in India, in which specific contexts should they be considered as a single category?",
          "Do we have cultural pockets of small India all over the nation? Elaborate with examples.",
          "The ancient civilization in Indian sub continent differed from those of Egypt , Mesopotamia and Greece in that its culture and traditions have been preserved without breakdown to the present day. Comment",
          "Discuss the impact of post-liberal economy on ethnic identity and communalism.",
          "“Caste system is assuming new identities and associational forms. Hence, caste system cannot be eradicated in India.”",
          "Globalisation is generally said to promote cultural homogenisation but due to this cultural specificities appear to be strengthened in the Indian society.’ Elucidate.",
          "In the context of the diversity of India, can it be said that the regions form cultural units rather than the States? Give reasons with examples for your view point.",
          "Has caste lost its relevance in understanding the multi- cultural Indian Society? Elaborate your answer with illustrations.",
          "Why is caste identity in India both fluid and static?",
          "Is diversity and pluralism in India under threat due to globalisation? Justify your answer.",
          "Are we losing our local identity for the global identity? Discuss.",
          "Describe any four cultural elements of diversity in India and rate their relative significance in building a national identity.",
          null
         ],
         "marker": {
          "opacity": 0.5,
          "size": 5
         },
         "mode": "markers+text",
         "name": "4_caste_cultural_indian",
         "text": [
          "",
          "",
          "",
          "",
          "",
          "",
          "",
          "",
          "",
          "",
          "",
          "",
          "",
          "",
          "4_caste_cultural_indian"
         ],
         "textfont": {
          "size": 12
         },
         "type": "scattergl",
         "x": [
          6.979537010192871,
          6.814167499542236,
          6.44385290145874,
          6.50412130355835,
          7.0058488845825195,
          6.721846103668213,
          6.9359588623046875,
          6.769656658172607,
          6.458371162414551,
          6.970996856689453,
          6.891617298126221,
          6.582370281219482,
          6.6120734214782715,
          6.627435207366943,
          6.7369890213012695
         ],
         "y": [
          4.338547706604004,
          4.5295820236206055,
          4.610918045043945,
          4.358336448669434,
          4.247255325317383,
          3.8602914810180664,
          3.6061196327209473,
          4.1899847984313965,
          4.228631019592285,
          3.7003865242004395,
          3.5467119216918945,
          4.051128387451172,
          4.088877201080322,
          4.299910068511963,
          4.1183342933654785
         ]
        },
        {
         "hoverinfo": "text",
         "hovertext": [
          "Enumerate the problems and prospects of inland water transport in India.",
          "Present an account of the Indus Water Treaty and examine its ecological, economic and political implications in the context of changing bilateral relations.",
          "India is well endowed with fresh water resources. Critically examine why it still suffers from water scarcity.",
          "In what way micro-watershed development projects help in water conservation in\ndrought-prone and semi-arid regions of India?",
          "The effective management of land and water resources will drastically reduce the human miseries. Explain.",
          "The interlinking of rivers can provide viable solutions to the multi-dimensional inter-related problems of droughts, floods and interrupted navigation. Critically examine.",
          "Major cities of India are becoming more vulnerable to flood conditions. Discuss.",
          "what are the environmental implications of the reclamation of the water bodies into urban land use? Explain with examples.",
          "Why is the world today confronted with a crisis of availability of and access to freshwater resources?",
          "What is water stress? How and why does it differ regionally in India?",
          "Account for the huge flooding of million cities in India including the smart ones like Hyderabad and Pune. Suggest lasting remedial measures.",
          "In what way can floods be converted into a sustainable source of irrigation and all-weather inland navigation in India?",
          "“The ideal solution of depleting ground water resources in India is water harvesting system.” How can it be made effective in urban areas?",
          null
         ],
         "marker": {
          "opacity": 0.5,
          "size": 5
         },
         "mode": "markers+text",
         "name": "5_irrigation_freshwater_droughts",
         "text": [
          "",
          "",
          "",
          "",
          "",
          "",
          "",
          "",
          "",
          "",
          "",
          "",
          "",
          "5_irrigation_freshwater_droughts"
         ],
         "textfont": {
          "size": 12
         },
         "type": "scattergl",
         "x": [
          1.7407889366149902,
          1.8728867769241333,
          1.7282906770706177,
          1.4913884401321411,
          1.5410579442977905,
          1.441468358039856,
          1.4841150045394897,
          1.5240408182144165,
          1.67503023147583,
          1.6393617391586304,
          1.4429140090942383,
          1.3550904989242554,
          1.4242841005325317,
          1.5662091970443726
         ],
         "y": [
          4.945909023284912,
          5.154287338256836,
          5.009901523590088,
          4.894748210906982,
          5.209596157073975,
          4.955707550048828,
          4.864491939544678,
          5.162803649902344,
          5.298660755157471,
          4.956356525421143,
          4.71757173538208,
          4.8521318435668945,
          4.858689785003662,
          4.990835189819336
         ]
        },
        {
         "hoverinfo": "text",
         "hovertext": [
          "Pala period is the most significant phase in the history of Buddhism in India. Enumerate.",
          "Do you think marriage as a sacrament in loosing its value in Modern India?",
          "The spirit of tolerance and love is not only an interesting feature of Indian society from very early times, but it is also playing an important part at the present. Elaborate.",
          "Are tolerance, assimilation and pluralism the key elements in the making of an Indian form of secularism? Justify your answer.",
          "How do the Indian debates on secularism differ from the debates in the West?",
          "How the Indian concept of secularism different from the western model of secularism?\nDiscuss.",
          "What are the main features of Vedic society and religion? Do you think some of the features are still prevailing in Indian society?",
          "Distinguish between religiousness/religiosity and communalism giving one example of how the former has got transformed into the latter in independent India.",
          "Sufis and medieval saints failed to modify either the religious ideas and practices or the outward structure of Hindu/ Muslim societies to any appreciable extent. Comment.",
          "What are the challenges to our cultural practices in the name of secularism?",
          "Trace the rise and growth of socio-religious reform movements with special reference to Young Bengal and Brahmo Samaj.",
          "Analyze the salience of ‘sect’ in Indian society vis-a-vis caste, region and religion.",
          null
         ],
         "marker": {
          "opacity": 0.5,
          "size": 5
         },
         "mode": "markers+text",
         "name": "6_secularism_hindu_religiousnessreligiosity",
         "text": [
          "",
          "",
          "",
          "",
          "",
          "",
          "",
          "",
          "",
          "",
          "",
          "",
          "6_secularism_hindu_religiousnessreligiosity"
         ],
         "textfont": {
          "size": 12
         },
         "type": "scattergl",
         "x": [
          7.897315502166748,
          7.52640438079834,
          7.5351948738098145,
          7.768584251403809,
          7.850657939910889,
          7.803422927856445,
          7.776521682739258,
          7.731902122497559,
          7.852962493896484,
          7.637325763702393,
          7.9254302978515625,
          7.768265247344971,
          7.756165981292725
         ],
         "y": [
          4.115025043487549,
          3.9258882999420166,
          4.113513469696045,
          3.7122621536254883,
          3.718531847000122,
          3.648106813430786,
          3.8305790424346924,
          3.7786824703216553,
          3.708745241165161,
          3.512047529220581,
          3.977198362350464,
          3.7533559799194336,
          3.8161613941192627
         ]
        },
        {
         "hoverinfo": "text",
         "hovertext": [
          "The 1857 uprising was the culmination of the recurrent, big and small local rebellions that had occurred in the preceding hundred years of British rule. Elucidate.",
          "Several foreigners made India their homeland and participated in various movements.\nAnalyze their role in the Indian struggle for freedom.",
          "In what ways did the navel mutiny prove to be the last nail in the coffin of British colonial aspirations in India?",
          "Explain how the Uprising of 1857 constitutes an important watershed in the evolution of British policies towards colonial India.",
          "Why indentured labour was taken by the British from India to their colonies? have they been able to preserve their cultural identity over there?",
          "Highlight the importance of the new objectives that got added to the vision of Indian Independence since the twenties of the last century.",
          "Examine critically the various facets of economic policies of the British in India from mid-eighteenth century till independence.",
          "Why did the armies of the British East India Company – mostly comprising of Indian soldiers – win consistently against the more numerous and better equipped armies of the Indian rulers? Give reasons.",
          "Discuss the contributions of MaulanaAbulKalam Azad to pre- and post-independent India.",
          "The third battle of Panipat was fought in 1761. Why were so many empire-shaking battles fought at Panipat?",
          "Clarify how mid-eighteenth century India was beset with the spectre of a fragmented polity.",
          null
         ],
         "marker": {
          "opacity": 0.5,
          "size": 5
         },
         "mode": "markers+text",
         "name": "7_1857_rebellions_colonial",
         "text": [
          "",
          "",
          "",
          "",
          "",
          "",
          "",
          "",
          "",
          "",
          "",
          "7_1857_rebellions_colonial"
         ],
         "textfont": {
          "size": 12
         },
         "type": "scattergl",
         "x": [
          5.807925701141357,
          6.723618984222412,
          5.879749774932861,
          5.844752788543701,
          5.860987663269043,
          6.5672287940979,
          5.812899112701416,
          5.712536334991455,
          6.579074859619141,
          6.129114151000977,
          6.213963508605957,
          6.102895736694336
         ],
         "y": [
          5.504459381103516,
          5.494480609893799,
          5.5211639404296875,
          5.475599765777588,
          5.5679473876953125,
          5.51725959777832,
          5.710061550140381,
          5.597349166870117,
          5.380441665649414,
          5.586750507354736,
          5.644443035125732,
          5.545450210571289
         ]
        },
        {
         "hoverinfo": "text",
         "hovertext": [
          "Since the decade of the 1920s, the national movement acquired various ideological strands and thereby expanded its social base. Discuss.",
          "“American Revolution was an economic revolt against mercantilism.” Substantiate.",
          "The anti-colonial struggles in West Africa were led by the new elite of Western-educated Africans.",
          "Explain how the foundations of the modern world were laid by the American and French Revolutions.",
          "To what extend can Germany be held responsible for causing the two World Wars? Discuss critically.",
          "What policy instruments were deployed to contain the Great Economic Depression?",
          "Evaluate the policies of Lord Curzon and their long term implications on the national movements.",
          "Assess the role of British imperial power in complicating the process of transfer of power during the 1940s.",
          "“Africa was chopped into states artificially created by accidents of European competition.” Analyze.",
          "” There arose a serious challenge to the Democratic State System between the two World Wars.” Evaluate the statement.",
          "Analyze the circumstances that led to the Tashkent Agreement in 1966. Discuss the highlights of the Agreement.",
          null
         ],
         "marker": {
          "opacity": 0.5,
          "size": 5
         },
         "mode": "markers+text",
         "name": "8_revolution_revolutions_mercantilism",
         "text": [
          "",
          "",
          "",
          "",
          "",
          "",
          "",
          "",
          "",
          "",
          "",
          "8_revolution_revolutions_mercantilism"
         ],
         "textfont": {
          "size": 12
         },
         "type": "scattergl",
         "x": [
          6.396430969238281,
          6.013596057891846,
          5.7449212074279785,
          6.110239028930664,
          5.501518726348877,
          6.023129940032959,
          6.467804908752441,
          5.505911350250244,
          5.640597343444824,
          5.64868688583374,
          5.872920036315918,
          5.902340888977051
         ],
         "y": [
          6.283194065093994,
          6.392393112182617,
          6.355217456817627,
          6.420056343078613,
          6.403810024261475,
          6.227034091949463,
          6.291280746459961,
          6.0378804206848145,
          6.468463897705078,
          6.539714813232422,
          6.288084030151367,
          6.337011814117432
         ]
        },
        {
         "hoverinfo": "text",
         "hovertext": [
          "Highlight the differences in the approach of Subhash Chandra Bose and Mahatma Gandhi in the struggle for freedom.",
          "Bring out the constructive programmes of Mahatma Gandhi during Non-Cooperation Movement and Civil Disobedience Movement.",
          "Many voices had strengthened and enriched the nationalist movement during the Gandhian phase. Elaborate.",
          "What was the difference between Mahatma Gandhi and Rabindranath Tagore in their approach towards education and nationalism?",
          "Mahatma Gandhi and Dr. B R Ambedkar, despite having divergent approaches and strategies, had a common goal of amelioration of the downtrodden. Elucidate.",
          "How difficult would have been the achievement of Indian independence without Mahatma Gandhi? Discuss.",
          "Write a critical note on the evolution and significance of the slogan, ‘Jai Jawan, Jai Kisan’.",
          "It would have been difficult for the Constituent Assembly to complete its historic task of drafting the Constitution for Independent India in just three years, but its experience gained with the Government of India Act, 1935\n.Discuss.",
          "Throw light on the significance of the thoughts of Mahatma Gandhi in the present times.",
          null
         ],
         "marker": {
          "opacity": 0.5,
          "size": 5
         },
         "mode": "markers+text",
         "name": "9_gandhi_gandhian_mahatma",
         "text": [
          "",
          "",
          "",
          "",
          "",
          "",
          "",
          "",
          "",
          "9_gandhi_gandhian_mahatma"
         ],
         "textfont": {
          "size": 12
         },
         "type": "scattergl",
         "x": [
          7.187429904937744,
          7.245121955871582,
          7.188623428344727,
          7.197334289550781,
          7.3037567138671875,
          7.144934177398682,
          7.3512492179870605,
          6.657278060913086,
          7.240965843200684,
          7.168521404266357
         ],
         "y": [
          5.824835300445557,
          5.883335113525391,
          5.797021865844727,
          5.888583660125732,
          5.927841663360596,
          5.816664695739746,
          5.417353630065918,
          5.58639669418335,
          5.8325395584106445,
          5.774952411651611
         ]
        },
        {
         "hoverinfo": "text",
         "hovertext": [
          "Identify and discuss the factors responsible for diversity of natural vegetation in India. Assess the significance of wildlife sanctuaries in rain forests regions of India.",
          "Examine the status of forest resources of India and its resultant impact on climate change.",
          "Discuss the natural resource potentials of ‘Deccan trap’.",
          "The states of Jammu and Kashmir, Himachal Pradesh and Uttarakhand are reaching the limits of ecological carrying capacity due to tourism. Critically evaluate.",
          "Comment on the resource potentials of the long coastline of India and highlight the status of natural hazard preparedness in these areas.",
          null
         ],
         "marker": {
          "opacity": 0.5,
          "size": 5
         },
         "mode": "markers+text",
         "name": "10_ecological_vegetation_deccan",
         "text": [
          "",
          "",
          "",
          "",
          "",
          "10_ecological_vegetation_deccan"
         ],
         "textfont": {
          "size": 12
         },
         "type": "scattergl",
         "x": [
          1.5344663858413696,
          1.5891309976577759,
          1.7536559104919434,
          1.5076241493225098,
          1.6305334568023682,
          1.603082299232483
         ],
         "y": [
          5.826724052429199,
          5.860289096832275,
          5.827633380889893,
          5.73884916305542,
          5.82263708114624,
          5.8152265548706055
         ]
        }
       ],
       "layout": {
        "annotations": [
         {
          "showarrow": false,
          "text": "D1",
          "x": -0.36773485839366915,
          "y": 5.4751722574234005,
          "yshift": 10
         },
         {
          "showarrow": false,
          "text": "D2",
          "x": 4.786448504030704,
          "xshift": 10,
          "y": 8.505271577835083
         }
        ],
        "height": 750,
        "shapes": [
         {
          "line": {
           "color": "#CFD8DC",
           "width": 2
          },
          "type": "line",
          "x0": 4.786448504030704,
          "x1": 4.786448504030704,
          "y0": 2.4450729370117186,
          "y1": 8.505271577835083
         },
         {
          "line": {
           "color": "#9E9E9E",
           "width": 2
          },
          "type": "line",
          "x0": -0.36773485839366915,
          "x1": 9.940631866455078,
          "y0": 5.4751722574234005,
          "y1": 5.4751722574234005
         }
        ],
        "template": {
         "data": {
          "bar": [
           {
            "error_x": {
             "color": "rgb(36,36,36)"
            },
            "error_y": {
             "color": "rgb(36,36,36)"
            },
            "marker": {
             "line": {
              "color": "white",
              "width": 0.5
             },
             "pattern": {
              "fillmode": "overlay",
              "size": 10,
              "solidity": 0.2
             }
            },
            "type": "bar"
           }
          ],
          "barpolar": [
           {
            "marker": {
             "line": {
              "color": "white",
              "width": 0.5
             },
             "pattern": {
              "fillmode": "overlay",
              "size": 10,
              "solidity": 0.2
             }
            },
            "type": "barpolar"
           }
          ],
          "carpet": [
           {
            "aaxis": {
             "endlinecolor": "rgb(36,36,36)",
             "gridcolor": "white",
             "linecolor": "white",
             "minorgridcolor": "white",
             "startlinecolor": "rgb(36,36,36)"
            },
            "baxis": {
             "endlinecolor": "rgb(36,36,36)",
             "gridcolor": "white",
             "linecolor": "white",
             "minorgridcolor": "white",
             "startlinecolor": "rgb(36,36,36)"
            },
            "type": "carpet"
           }
          ],
          "choropleth": [
           {
            "colorbar": {
             "outlinewidth": 1,
             "tickcolor": "rgb(36,36,36)",
             "ticks": "outside"
            },
            "type": "choropleth"
           }
          ],
          "contour": [
           {
            "colorbar": {
             "outlinewidth": 1,
             "tickcolor": "rgb(36,36,36)",
             "ticks": "outside"
            },
            "colorscale": [
             [
              0,
              "#440154"
             ],
             [
              0.1111111111111111,
              "#482878"
             ],
             [
              0.2222222222222222,
              "#3e4989"
             ],
             [
              0.3333333333333333,
              "#31688e"
             ],
             [
              0.4444444444444444,
              "#26828e"
             ],
             [
              0.5555555555555556,
              "#1f9e89"
             ],
             [
              0.6666666666666666,
              "#35b779"
             ],
             [
              0.7777777777777778,
              "#6ece58"
             ],
             [
              0.8888888888888888,
              "#b5de2b"
             ],
             [
              1,
              "#fde725"
             ]
            ],
            "type": "contour"
           }
          ],
          "contourcarpet": [
           {
            "colorbar": {
             "outlinewidth": 1,
             "tickcolor": "rgb(36,36,36)",
             "ticks": "outside"
            },
            "type": "contourcarpet"
           }
          ],
          "heatmap": [
           {
            "colorbar": {
             "outlinewidth": 1,
             "tickcolor": "rgb(36,36,36)",
             "ticks": "outside"
            },
            "colorscale": [
             [
              0,
              "#440154"
             ],
             [
              0.1111111111111111,
              "#482878"
             ],
             [
              0.2222222222222222,
              "#3e4989"
             ],
             [
              0.3333333333333333,
              "#31688e"
             ],
             [
              0.4444444444444444,
              "#26828e"
             ],
             [
              0.5555555555555556,
              "#1f9e89"
             ],
             [
              0.6666666666666666,
              "#35b779"
             ],
             [
              0.7777777777777778,
              "#6ece58"
             ],
             [
              0.8888888888888888,
              "#b5de2b"
             ],
             [
              1,
              "#fde725"
             ]
            ],
            "type": "heatmap"
           }
          ],
          "heatmapgl": [
           {
            "colorbar": {
             "outlinewidth": 1,
             "tickcolor": "rgb(36,36,36)",
             "ticks": "outside"
            },
            "colorscale": [
             [
              0,
              "#440154"
             ],
             [
              0.1111111111111111,
              "#482878"
             ],
             [
              0.2222222222222222,
              "#3e4989"
             ],
             [
              0.3333333333333333,
              "#31688e"
             ],
             [
              0.4444444444444444,
              "#26828e"
             ],
             [
              0.5555555555555556,
              "#1f9e89"
             ],
             [
              0.6666666666666666,
              "#35b779"
             ],
             [
              0.7777777777777778,
              "#6ece58"
             ],
             [
              0.8888888888888888,
              "#b5de2b"
             ],
             [
              1,
              "#fde725"
             ]
            ],
            "type": "heatmapgl"
           }
          ],
          "histogram": [
           {
            "marker": {
             "line": {
              "color": "white",
              "width": 0.6
             }
            },
            "type": "histogram"
           }
          ],
          "histogram2d": [
           {
            "colorbar": {
             "outlinewidth": 1,
             "tickcolor": "rgb(36,36,36)",
             "ticks": "outside"
            },
            "colorscale": [
             [
              0,
              "#440154"
             ],
             [
              0.1111111111111111,
              "#482878"
             ],
             [
              0.2222222222222222,
              "#3e4989"
             ],
             [
              0.3333333333333333,
              "#31688e"
             ],
             [
              0.4444444444444444,
              "#26828e"
             ],
             [
              0.5555555555555556,
              "#1f9e89"
             ],
             [
              0.6666666666666666,
              "#35b779"
             ],
             [
              0.7777777777777778,
              "#6ece58"
             ],
             [
              0.8888888888888888,
              "#b5de2b"
             ],
             [
              1,
              "#fde725"
             ]
            ],
            "type": "histogram2d"
           }
          ],
          "histogram2dcontour": [
           {
            "colorbar": {
             "outlinewidth": 1,
             "tickcolor": "rgb(36,36,36)",
             "ticks": "outside"
            },
            "colorscale": [
             [
              0,
              "#440154"
             ],
             [
              0.1111111111111111,
              "#482878"
             ],
             [
              0.2222222222222222,
              "#3e4989"
             ],
             [
              0.3333333333333333,
              "#31688e"
             ],
             [
              0.4444444444444444,
              "#26828e"
             ],
             [
              0.5555555555555556,
              "#1f9e89"
             ],
             [
              0.6666666666666666,
              "#35b779"
             ],
             [
              0.7777777777777778,
              "#6ece58"
             ],
             [
              0.8888888888888888,
              "#b5de2b"
             ],
             [
              1,
              "#fde725"
             ]
            ],
            "type": "histogram2dcontour"
           }
          ],
          "mesh3d": [
           {
            "colorbar": {
             "outlinewidth": 1,
             "tickcolor": "rgb(36,36,36)",
             "ticks": "outside"
            },
            "type": "mesh3d"
           }
          ],
          "parcoords": [
           {
            "line": {
             "colorbar": {
              "outlinewidth": 1,
              "tickcolor": "rgb(36,36,36)",
              "ticks": "outside"
             }
            },
            "type": "parcoords"
           }
          ],
          "pie": [
           {
            "automargin": true,
            "type": "pie"
           }
          ],
          "scatter": [
           {
            "fillpattern": {
             "fillmode": "overlay",
             "size": 10,
             "solidity": 0.2
            },
            "type": "scatter"
           }
          ],
          "scatter3d": [
           {
            "line": {
             "colorbar": {
              "outlinewidth": 1,
              "tickcolor": "rgb(36,36,36)",
              "ticks": "outside"
             }
            },
            "marker": {
             "colorbar": {
              "outlinewidth": 1,
              "tickcolor": "rgb(36,36,36)",
              "ticks": "outside"
             }
            },
            "type": "scatter3d"
           }
          ],
          "scattercarpet": [
           {
            "marker": {
             "colorbar": {
              "outlinewidth": 1,
              "tickcolor": "rgb(36,36,36)",
              "ticks": "outside"
             }
            },
            "type": "scattercarpet"
           }
          ],
          "scattergeo": [
           {
            "marker": {
             "colorbar": {
              "outlinewidth": 1,
              "tickcolor": "rgb(36,36,36)",
              "ticks": "outside"
             }
            },
            "type": "scattergeo"
           }
          ],
          "scattergl": [
           {
            "marker": {
             "colorbar": {
              "outlinewidth": 1,
              "tickcolor": "rgb(36,36,36)",
              "ticks": "outside"
             }
            },
            "type": "scattergl"
           }
          ],
          "scattermapbox": [
           {
            "marker": {
             "colorbar": {
              "outlinewidth": 1,
              "tickcolor": "rgb(36,36,36)",
              "ticks": "outside"
             }
            },
            "type": "scattermapbox"
           }
          ],
          "scatterpolar": [
           {
            "marker": {
             "colorbar": {
              "outlinewidth": 1,
              "tickcolor": "rgb(36,36,36)",
              "ticks": "outside"
             }
            },
            "type": "scatterpolar"
           }
          ],
          "scatterpolargl": [
           {
            "marker": {
             "colorbar": {
              "outlinewidth": 1,
              "tickcolor": "rgb(36,36,36)",
              "ticks": "outside"
             }
            },
            "type": "scatterpolargl"
           }
          ],
          "scatterternary": [
           {
            "marker": {
             "colorbar": {
              "outlinewidth": 1,
              "tickcolor": "rgb(36,36,36)",
              "ticks": "outside"
             }
            },
            "type": "scatterternary"
           }
          ],
          "surface": [
           {
            "colorbar": {
             "outlinewidth": 1,
             "tickcolor": "rgb(36,36,36)",
             "ticks": "outside"
            },
            "colorscale": [
             [
              0,
              "#440154"
             ],
             [
              0.1111111111111111,
              "#482878"
             ],
             [
              0.2222222222222222,
              "#3e4989"
             ],
             [
              0.3333333333333333,
              "#31688e"
             ],
             [
              0.4444444444444444,
              "#26828e"
             ],
             [
              0.5555555555555556,
              "#1f9e89"
             ],
             [
              0.6666666666666666,
              "#35b779"
             ],
             [
              0.7777777777777778,
              "#6ece58"
             ],
             [
              0.8888888888888888,
              "#b5de2b"
             ],
             [
              1,
              "#fde725"
             ]
            ],
            "type": "surface"
           }
          ],
          "table": [
           {
            "cells": {
             "fill": {
              "color": "rgb(237,237,237)"
             },
             "line": {
              "color": "white"
             }
            },
            "header": {
             "fill": {
              "color": "rgb(217,217,217)"
             },
             "line": {
              "color": "white"
             }
            },
            "type": "table"
           }
          ]
         },
         "layout": {
          "annotationdefaults": {
           "arrowhead": 0,
           "arrowwidth": 1
          },
          "autotypenumbers": "strict",
          "coloraxis": {
           "colorbar": {
            "outlinewidth": 1,
            "tickcolor": "rgb(36,36,36)",
            "ticks": "outside"
           }
          },
          "colorscale": {
           "diverging": [
            [
             0,
             "rgb(103,0,31)"
            ],
            [
             0.1,
             "rgb(178,24,43)"
            ],
            [
             0.2,
             "rgb(214,96,77)"
            ],
            [
             0.3,
             "rgb(244,165,130)"
            ],
            [
             0.4,
             "rgb(253,219,199)"
            ],
            [
             0.5,
             "rgb(247,247,247)"
            ],
            [
             0.6,
             "rgb(209,229,240)"
            ],
            [
             0.7,
             "rgb(146,197,222)"
            ],
            [
             0.8,
             "rgb(67,147,195)"
            ],
            [
             0.9,
             "rgb(33,102,172)"
            ],
            [
             1,
             "rgb(5,48,97)"
            ]
           ],
           "sequential": [
            [
             0,
             "#440154"
            ],
            [
             0.1111111111111111,
             "#482878"
            ],
            [
             0.2222222222222222,
             "#3e4989"
            ],
            [
             0.3333333333333333,
             "#31688e"
            ],
            [
             0.4444444444444444,
             "#26828e"
            ],
            [
             0.5555555555555556,
             "#1f9e89"
            ],
            [
             0.6666666666666666,
             "#35b779"
            ],
            [
             0.7777777777777778,
             "#6ece58"
            ],
            [
             0.8888888888888888,
             "#b5de2b"
            ],
            [
             1,
             "#fde725"
            ]
           ],
           "sequentialminus": [
            [
             0,
             "#440154"
            ],
            [
             0.1111111111111111,
             "#482878"
            ],
            [
             0.2222222222222222,
             "#3e4989"
            ],
            [
             0.3333333333333333,
             "#31688e"
            ],
            [
             0.4444444444444444,
             "#26828e"
            ],
            [
             0.5555555555555556,
             "#1f9e89"
            ],
            [
             0.6666666666666666,
             "#35b779"
            ],
            [
             0.7777777777777778,
             "#6ece58"
            ],
            [
             0.8888888888888888,
             "#b5de2b"
            ],
            [
             1,
             "#fde725"
            ]
           ]
          },
          "colorway": [
           "#1F77B4",
           "#FF7F0E",
           "#2CA02C",
           "#D62728",
           "#9467BD",
           "#8C564B",
           "#E377C2",
           "#7F7F7F",
           "#BCBD22",
           "#17BECF"
          ],
          "font": {
           "color": "rgb(36,36,36)"
          },
          "geo": {
           "bgcolor": "white",
           "lakecolor": "white",
           "landcolor": "white",
           "showlakes": true,
           "showland": true,
           "subunitcolor": "white"
          },
          "hoverlabel": {
           "align": "left"
          },
          "hovermode": "closest",
          "mapbox": {
           "style": "light"
          },
          "paper_bgcolor": "white",
          "plot_bgcolor": "white",
          "polar": {
           "angularaxis": {
            "gridcolor": "rgb(232,232,232)",
            "linecolor": "rgb(36,36,36)",
            "showgrid": false,
            "showline": true,
            "ticks": "outside"
           },
           "bgcolor": "white",
           "radialaxis": {
            "gridcolor": "rgb(232,232,232)",
            "linecolor": "rgb(36,36,36)",
            "showgrid": false,
            "showline": true,
            "ticks": "outside"
           }
          },
          "scene": {
           "xaxis": {
            "backgroundcolor": "white",
            "gridcolor": "rgb(232,232,232)",
            "gridwidth": 2,
            "linecolor": "rgb(36,36,36)",
            "showbackground": true,
            "showgrid": false,
            "showline": true,
            "ticks": "outside",
            "zeroline": false,
            "zerolinecolor": "rgb(36,36,36)"
           },
           "yaxis": {
            "backgroundcolor": "white",
            "gridcolor": "rgb(232,232,232)",
            "gridwidth": 2,
            "linecolor": "rgb(36,36,36)",
            "showbackground": true,
            "showgrid": false,
            "showline": true,
            "ticks": "outside",
            "zeroline": false,
            "zerolinecolor": "rgb(36,36,36)"
           },
           "zaxis": {
            "backgroundcolor": "white",
            "gridcolor": "rgb(232,232,232)",
            "gridwidth": 2,
            "linecolor": "rgb(36,36,36)",
            "showbackground": true,
            "showgrid": false,
            "showline": true,
            "ticks": "outside",
            "zeroline": false,
            "zerolinecolor": "rgb(36,36,36)"
           }
          },
          "shapedefaults": {
           "fillcolor": "black",
           "line": {
            "width": 0
           },
           "opacity": 0.3
          },
          "ternary": {
           "aaxis": {
            "gridcolor": "rgb(232,232,232)",
            "linecolor": "rgb(36,36,36)",
            "showgrid": false,
            "showline": true,
            "ticks": "outside"
           },
           "baxis": {
            "gridcolor": "rgb(232,232,232)",
            "linecolor": "rgb(36,36,36)",
            "showgrid": false,
            "showline": true,
            "ticks": "outside"
           },
           "bgcolor": "white",
           "caxis": {
            "gridcolor": "rgb(232,232,232)",
            "linecolor": "rgb(36,36,36)",
            "showgrid": false,
            "showline": true,
            "ticks": "outside"
           }
          },
          "title": {
           "x": 0.05
          },
          "xaxis": {
           "automargin": true,
           "gridcolor": "rgb(232,232,232)",
           "linecolor": "rgb(36,36,36)",
           "showgrid": false,
           "showline": true,
           "ticks": "outside",
           "title": {
            "standoff": 15
           },
           "zeroline": false,
           "zerolinecolor": "rgb(36,36,36)"
          },
          "yaxis": {
           "automargin": true,
           "gridcolor": "rgb(232,232,232)",
           "linecolor": "rgb(36,36,36)",
           "showgrid": false,
           "showline": true,
           "ticks": "outside",
           "title": {
            "standoff": 15
           },
           "zeroline": false,
           "zerolinecolor": "rgb(36,36,36)"
          }
         }
        },
        "title": {
         "font": {
          "color": "Black",
          "size": 22
         },
         "text": "<b>Documents and Topics</b>",
         "x": 0.5,
         "xanchor": "center",
         "yanchor": "top"
        },
        "width": 1200,
        "xaxis": {
         "visible": false
        },
        "yaxis": {
         "visible": false
        }
       }
      }
     },
     "metadata": {},
     "output_type": "display_data"
    }
   ],
   "source": [
    "topic_model.visualize_documents(df['Question'])"
   ]
  },
  {
   "cell_type": "code",
   "execution_count": 81,
   "metadata": {},
   "outputs": [
    {
     "name": "stdout",
     "output_type": "stream",
     "text": [
      "[1, 9, 1, 0, 5, 0, 0, 6, 3, -1, 6, -1, -1, 10, 10, 1, 1, 1, 4, 4, 2, 7, -1, 0, 0, 10, 1, -1, -1, 4, -1, 2, 2, 0, -1, -1, 0, 6, 6, 1, -1, 6, -1, 0, 1, 5, 0, -1, 4, 3, -1, 9, 8, 0, 0, -1, 1, 1, -1, -1, 2, 6, 8, 0, 0, 0, 1, 4, 1, -1, 2, 2, 8, 5, 5, 1, 10, 4, -1, 1, 2, 7, -1, 0, 0, 1, 1, -1, 3, 6, 9, 8, 8, 5, -1, 1, 0, 4, 3, 4, 2, 2, 9, -1, -1, 0, 0, 4, 1, 6, -1, -1, 7, 5, 1, 1, 1, 3, 4, -1, 2, 7, -1, -1, 0, -1, -1, 0, 4, -1, 6, -1, 7, 0, -1, 5, 0, 3, 6, 1, 2, 2, 7, 3, 9, 4, 8, -1, -1, -1, 1, -1, 0, 0, 5, -1, 5, 5, 5, 5, 4, 2, 9, 9, 9, -1, 8, 4, 1, 3, 1, 3, -1, 0, -1, 5, 10, 0, 1, -1, 1, 2, 2, 7, 6, 7, 7, -1, -1, -1, 3, 3, -1, 3, 6, 0, 0, 0, 0, 0, -1, -1, -1, -1, 1, 2, 2, 2, 3, 7, 2, -1, 9, 7, 8, -1, -1, 8, 8, 8, 1, 3, -1, -1, 0, 0, 0, 0, 0, 0, 0, 1, 1, 1, 1]\n"
     ]
    }
   ],
   "source": [
    "print(topics)"
   ]
  },
  {
   "cell_type": "code",
   "execution_count": 82,
   "metadata": {},
   "outputs": [],
   "source": [
    "df['Topic_Number'] = topics"
   ]
  },
  {
   "cell_type": "code",
   "execution_count": 84,
   "metadata": {},
   "outputs": [
    {
     "data": {
      "text/html": [
       "<div>\n",
       "<style scoped>\n",
       "    .dataframe tbody tr th:only-of-type {\n",
       "        vertical-align: middle;\n",
       "    }\n",
       "\n",
       "    .dataframe tbody tr th {\n",
       "        vertical-align: top;\n",
       "    }\n",
       "\n",
       "    .dataframe thead th {\n",
       "        text-align: right;\n",
       "    }\n",
       "</style>\n",
       "<table border=\"1\" class=\"dataframe\">\n",
       "  <thead>\n",
       "    <tr style=\"text-align: right;\">\n",
       "      <th></th>\n",
       "      <th>Year</th>\n",
       "      <th>Question</th>\n",
       "      <th>Topic_Number</th>\n",
       "    </tr>\n",
       "  </thead>\n",
       "  <tbody>\n",
       "    <tr>\n",
       "      <th>65</th>\n",
       "      <td>2020</td>\n",
       "      <td>How will the melting of Himalayan glaciers hav...</td>\n",
       "      <td>0</td>\n",
       "    </tr>\n",
       "    <tr>\n",
       "      <th>41</th>\n",
       "      <td>2021</td>\n",
       "      <td>Trace the rise and growth of socio-religious r...</td>\n",
       "      <td>6</td>\n",
       "    </tr>\n",
       "    <tr>\n",
       "      <th>116</th>\n",
       "      <td>2018</td>\n",
       "      <td>Mention core strategies for the transformation...</td>\n",
       "      <td>1</td>\n",
       "    </tr>\n",
       "    <tr>\n",
       "      <th>45</th>\n",
       "      <td>2021</td>\n",
       "      <td>what are the environmental implications of the...</td>\n",
       "      <td>5</td>\n",
       "    </tr>\n",
       "    <tr>\n",
       "      <th>196</th>\n",
       "      <td>2014</td>\n",
       "      <td>Why are the world’s fold mountain systems loca...</td>\n",
       "      <td>0</td>\n",
       "    </tr>\n",
       "  </tbody>\n",
       "</table>\n",
       "</div>"
      ],
      "text/plain": [
       "     Year                                           Question  Topic_Number\n",
       "65   2020  How will the melting of Himalayan glaciers hav...             0\n",
       "41   2021  Trace the rise and growth of socio-religious r...             6\n",
       "116  2018  Mention core strategies for the transformation...             1\n",
       "45   2021  what are the environmental implications of the...             5\n",
       "196  2014  Why are the world’s fold mountain systems loca...             0"
      ]
     },
     "execution_count": 84,
     "metadata": {},
     "output_type": "execute_result"
    }
   ],
   "source": [
    "df.sample(5)"
   ]
  },
  {
   "cell_type": "code",
   "execution_count": 85,
   "metadata": {},
   "outputs": [
    {
     "data": {
      "text/html": [
       "<div>\n",
       "<style scoped>\n",
       "    .dataframe tbody tr th:only-of-type {\n",
       "        vertical-align: middle;\n",
       "    }\n",
       "\n",
       "    .dataframe tbody tr th {\n",
       "        vertical-align: top;\n",
       "    }\n",
       "\n",
       "    .dataframe thead th {\n",
       "        text-align: right;\n",
       "    }\n",
       "</style>\n",
       "<table border=\"1\" class=\"dataframe\">\n",
       "  <thead>\n",
       "    <tr style=\"text-align: right;\">\n",
       "      <th></th>\n",
       "      <th>Year</th>\n",
       "      <th>Question</th>\n",
       "      <th>Topic_Number</th>\n",
       "      <th>Topic</th>\n",
       "    </tr>\n",
       "  </thead>\n",
       "  <tbody>\n",
       "    <tr>\n",
       "      <th>0</th>\n",
       "      <td>2023</td>\n",
       "      <td>Explain the role of geographical factors towar...</td>\n",
       "      <td>1</td>\n",
       "      <td>india poverty socioeconomic economic</td>\n",
       "    </tr>\n",
       "    <tr>\n",
       "      <th>1</th>\n",
       "      <td>2023</td>\n",
       "      <td>What was the difference between Mahatma Gandhi...</td>\n",
       "      <td>9</td>\n",
       "      <td>gandhi gandhian mahatma rabindranath</td>\n",
       "    </tr>\n",
       "    <tr>\n",
       "      <th>2</th>\n",
       "      <td>2023</td>\n",
       "      <td>Bring out the socio-economic effects of the in...</td>\n",
       "      <td>1</td>\n",
       "      <td>india poverty socioeconomic economic</td>\n",
       "    </tr>\n",
       "    <tr>\n",
       "      <th>3</th>\n",
       "      <td>2023</td>\n",
       "      <td>Discuss the consequences of climate change on ...</td>\n",
       "      <td>0</td>\n",
       "      <td>meteorology glaciers climate landslides</td>\n",
       "    </tr>\n",
       "    <tr>\n",
       "      <th>4</th>\n",
       "      <td>2023</td>\n",
       "      <td>Why is the world today confronted with a crisi...</td>\n",
       "      <td>5</td>\n",
       "      <td>irrigation freshwater droughts conservation</td>\n",
       "    </tr>\n",
       "  </tbody>\n",
       "</table>\n",
       "</div>"
      ],
      "text/plain": [
       "   Year                                           Question  Topic_Number  \\\n",
       "0  2023  Explain the role of geographical factors towar...             1   \n",
       "1  2023  What was the difference between Mahatma Gandhi...             9   \n",
       "2  2023  Bring out the socio-economic effects of the in...             1   \n",
       "3  2023  Discuss the consequences of climate change on ...             0   \n",
       "4  2023  Why is the world today confronted with a crisi...             5   \n",
       "\n",
       "                                         Topic  \n",
       "0         india poverty socioeconomic economic  \n",
       "1         gandhi gandhian mahatma rabindranath  \n",
       "2         india poverty socioeconomic economic  \n",
       "3      meteorology glaciers climate landslides  \n",
       "4  irrigation freshwater droughts conservation  "
      ]
     },
     "execution_count": 85,
     "metadata": {},
     "output_type": "execute_result"
    }
   ],
   "source": [
    "\n",
    "df['Topic'] = df['Topic_Number'].apply(lambda x: \" \".join(topic_model.get_topic_info(topic=x)['Name'].iloc[0].split('_')[1:]))\n",
    "\n",
    "# Display the first few rows of the DataFrame\n",
    "df.head()"
   ]
  },
  {
   "cell_type": "code",
   "execution_count": 86,
   "metadata": {},
   "outputs": [
    {
     "data": {
      "image/png": "[encoded data removed]",
      "text/plain": [
       "<Figure size 1200x800 with 1 Axes>"
      ]
     },
     "metadata": {},
     "output_type": "display_data"
    }
   ],
   "source": [
    "import matplotlib.pyplot as plt\n",
    "import matplotlib.colors as mcolors\n",
    "\n",
    "# Assuming df is your DataFrame and it now includes a 'Topic' column after categorization\n",
    "\n",
    "# Step 2: Count questions per topic per year\n",
    "topic_year_counts = df.groupby(['Year', 'Topic']).size().reset_index(name='Count')\n",
    "\n",
    "# Calculate the total number of questions per year\n",
    "total_questions_per_year = topic_year_counts.groupby('Year')['Count'].transform('sum')\n",
    "\n",
    "# Calculate the proportion of questions per topic per year\n",
    "topic_year_counts['Proportion'] = topic_year_counts['Count'] / total_questions_per_year\n",
    "\n",
    "# Step 3: Prepare data for plotting (normalized)\n",
    "pivot_table = topic_year_counts.pivot(index='Year', columns='Topic', values='Proportion')\n",
    "\n",
    "# Generate a list of colors from a colormap\n",
    "num_topics = len(pivot_table.columns)\n",
    "colors = plt.get_cmap('tab20', num_topics)\n",
    "\n",
    "# Step 4: Plot the normalized data with different colors for each topic\n",
    "pivot_table.plot(kind='bar', stacked=True, figsize=(12, 8), color=[colors(i) for i in range(num_topics)])\n",
    "\n",
    "# Step 5: Customize the plot\n",
    "plt.xlabel('Year')\n",
    "plt.ylabel('Proportion of Questions')\n",
    "plt.title('Proportion of Questions per Topic per Year')\n",
    "plt.legend(title='Topic', loc='best', bbox_to_anchor=(0.5, -0.15), ncol=1, fancybox=True, shadow=True)\n",
    "plt.tight_layout()\n",
    "plt.subplots_adjust(bottom=0.2)\n",
    "plt.show()"
   ]
  },
  {
   "cell_type": "code",
   "execution_count": null,
   "metadata": {},
   "outputs": [],
   "source": []
  }
 ],
 "metadata": {
  "kernelspec": {
   "display_name": "venv",
   "language": "python",
   "name": "python3"
  },
  "language_info": {
   "codemirror_mode": {
    "name": "ipython",
    "version": 3
   },
   "file_extension": ".py",
   "mimetype": "text/x-python",
   "name": "python",
   "nbconvert_exporter": "python",
   "pygments_lexer": "ipython3",
   "version": "3.12.0"
  }
 },
 "nbformat": 4,
 "nbformat_minor": 2
}

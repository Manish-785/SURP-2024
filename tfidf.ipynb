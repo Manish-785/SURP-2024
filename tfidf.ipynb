{
 "cells": [
  {
   "cell_type": "code",
   "execution_count": 1,
   "metadata": {},
   "outputs": [],
   "source": [
    "import pandas as pd"
   ]
  },
  {
   "cell_type": "code",
   "execution_count": 2,
   "metadata": {},
   "outputs": [
    {
     "data": {
      "text/html": [
       "<div>\n",
       "<style scoped>\n",
       "    .dataframe tbody tr th:only-of-type {\n",
       "        vertical-align: middle;\n",
       "    }\n",
       "\n",
       "    .dataframe tbody tr th {\n",
       "        vertical-align: top;\n",
       "    }\n",
       "\n",
       "    .dataframe thead th {\n",
       "        text-align: right;\n",
       "    }\n",
       "</style>\n",
       "<table border=\"1\" class=\"dataframe\">\n",
       "  <thead>\n",
       "    <tr style=\"text-align: right;\">\n",
       "      <th></th>\n",
       "      <th>Year</th>\n",
       "      <th>Question</th>\n",
       "    </tr>\n",
       "  </thead>\n",
       "  <tbody>\n",
       "    <tr>\n",
       "      <th>0</th>\n",
       "      <td>2023</td>\n",
       "      <td>Explain the role of geographical factors towar...</td>\n",
       "    </tr>\n",
       "    <tr>\n",
       "      <th>1</th>\n",
       "      <td>2023</td>\n",
       "      <td>What was the difference between Mahatma Gandhi...</td>\n",
       "    </tr>\n",
       "    <tr>\n",
       "      <th>2</th>\n",
       "      <td>2023</td>\n",
       "      <td>Bring out the socio-economic effects of the in...</td>\n",
       "    </tr>\n",
       "    <tr>\n",
       "      <th>3</th>\n",
       "      <td>2023</td>\n",
       "      <td>Discuss the consequences of climate change on ...</td>\n",
       "    </tr>\n",
       "    <tr>\n",
       "      <th>4</th>\n",
       "      <td>2023</td>\n",
       "      <td>Why is the world today confronted with a crisi...</td>\n",
       "    </tr>\n",
       "    <tr>\n",
       "      <th>...</th>\n",
       "      <td>...</td>\n",
       "      <td>...</td>\n",
       "    </tr>\n",
       "    <tr>\n",
       "      <th>230</th>\n",
       "      <td>2013</td>\n",
       "      <td>There is no formation of deltas by rivers on t...</td>\n",
       "    </tr>\n",
       "    <tr>\n",
       "      <th>231</th>\n",
       "      <td>2013</td>\n",
       "      <td>Do you agree that there is a growing trend of ...</td>\n",
       "    </tr>\n",
       "    <tr>\n",
       "      <th>232</th>\n",
       "      <td>2013</td>\n",
       "      <td>Analyze the factors for the highly decentraliz...</td>\n",
       "    </tr>\n",
       "    <tr>\n",
       "      <th>233</th>\n",
       "      <td>2013</td>\n",
       "      <td>With growing scarcity of fossil fuels, the ato...</td>\n",
       "    </tr>\n",
       "    <tr>\n",
       "      <th>234</th>\n",
       "      <td>2013</td>\n",
       "      <td>It is said that India has substantial reserves...</td>\n",
       "    </tr>\n",
       "  </tbody>\n",
       "</table>\n",
       "<p>235 rows × 2 columns</p>\n",
       "</div>"
      ],
      "text/plain": [
       "     Year                                           Question\n",
       "0    2023  Explain the role of geographical factors towar...\n",
       "1    2023  What was the difference between Mahatma Gandhi...\n",
       "2    2023  Bring out the socio-economic effects of the in...\n",
       "3    2023  Discuss the consequences of climate change on ...\n",
       "4    2023  Why is the world today confronted with a crisi...\n",
       "..    ...                                                ...\n",
       "230  2013  There is no formation of deltas by rivers on t...\n",
       "231  2013  Do you agree that there is a growing trend of ...\n",
       "232  2013  Analyze the factors for the highly decentraliz...\n",
       "233  2013  With growing scarcity of fossil fuels, the ato...\n",
       "234  2013  It is said that India has substantial reserves...\n",
       "\n",
       "[235 rows x 2 columns]"
      ]
     },
     "execution_count": 2,
     "metadata": {},
     "output_type": "execute_result"
    }
   ],
   "source": [
    "df = pd.read_excel('GS1.xlsx')\n",
    "df"
   ]
  },
  {
   "cell_type": "code",
   "execution_count": 3,
   "metadata": {},
   "outputs": [
    {
     "name": "stdout",
     "output_type": "stream",
     "text": [
      "Explain the role of geographical factors towards the development of Ancient India.\n"
     ]
    }
   ],
   "source": [
    "text = df.Question[0]\n",
    "print(text)"
   ]
  },
  {
   "cell_type": "code",
   "execution_count": 4,
   "metadata": {},
   "outputs": [
    {
     "name": "stderr",
     "output_type": "stream",
     "text": [
      "[nltk_data] Downloading package stopwords to\n",
      "[nltk_data]     C:\\Users\\HP\\AppData\\Roaming\\nltk_data...\n",
      "[nltk_data]   Package stopwords is already up-to-date!\n",
      "[nltk_data] Downloading package wordnet to\n",
      "[nltk_data]     C:\\Users\\HP\\AppData\\Roaming\\nltk_data...\n",
      "[nltk_data]   Package wordnet is already up-to-date!\n",
      "[nltk_data] Downloading package punkt to\n",
      "[nltk_data]     C:\\Users\\HP\\AppData\\Roaming\\nltk_data...\n",
      "[nltk_data]   Package punkt is already up-to-date!\n"
     ]
    },
    {
     "data": {
      "text/plain": [
       "True"
      ]
     },
     "execution_count": 4,
     "metadata": {},
     "output_type": "execute_result"
    }
   ],
   "source": [
    "import nltk\n",
    "\n",
    "from nltk.corpus import stopwords\n",
    "from nltk.stem import WordNetLemmatizer\n",
    "from nltk.tokenize import word_tokenize\n",
    "\n",
    "# Download stopwords from NLTK\n",
    "nltk.download('stopwords')\n",
    "nltk.download('wordnet')\n",
    "nltk.download('punkt')\n"
   ]
  },
  {
   "cell_type": "code",
   "execution_count": 5,
   "metadata": {},
   "outputs": [
    {
     "name": "stdout",
     "output_type": "stream",
     "text": [
      "geographical factor towards development ancient\n"
     ]
    }
   ],
   "source": [
    "import re\n",
    "import string\n",
    "\n",
    "def preprocess_text(text):\n",
    "    \"\"\"\n",
    "    Preprocesses the given text by removing punctuation, extra spaces, converting to lowercase,\n",
    "    and filtering out stopwords.\n",
    "    \n",
    "    Args:\n",
    "        text (str): The text to be preprocessed.\n",
    "    \n",
    "    Returns:\n",
    "        str: The preprocessed text.\n",
    "    \"\"\"\n",
    "    # Load English stopwords\n",
    "    text = text.lower()\n",
    "    stop_words = set(stopwords.words('english'))\n",
    "\n",
    "    # Add question words to the set of stopwords\n",
    "    question_words = {'explain', 'what', 'when', 'where', 'who', 'whom', 'which', 'why', 'how', \n",
    "                        'comment', 'discuss', 'you', 'india', 'your', 'he', 's', 'his', 'government', \n",
    "                        'public', 'these', 'following', 'her', 'example', 'indian', 'ethical', \n",
    "                        'examine', 'state', 'critically', 'company', 'context', 'national', 'security', \n",
    "                        'country', 'measures', 'act', 'him', 'role', 'she', 'management', 'being', \n",
    "                        'issues', 'taken', 'suggest', 'social', 'options', 'civil', 'system', 'people', \n",
    "                        'had', 'case', 'situation', 'human', 'recent', 'give', 'life', 'help', 'does', \n",
    "                        'various'}\n",
    "    stop_words.update(question_words)\n",
    "\n",
    "    text = text.translate(str.maketrans(' ', ' ', string.punctuation))\n",
    "    \n",
    "    text = re.sub(r'[^\\w\\s]', ' ', text)\n",
    "\n",
    "    # Remove extra spaces\n",
    "    text = re.sub(r' +', ' ', text)\n",
    "\n",
    "    # Tokenize the text to filter out stopwords\n",
    "    tokens = word_tokenize(text)\n",
    "\n",
    "    lemmatizer = WordNetLemmatizer()\n",
    "    tokens = [lemmatizer.lemmatize(word) for word in tokens if word not in stop_words]\n",
    "    \n",
    "    return ' '.join(tokens)\n",
    "\n",
    "text = df.Question[0]\n",
    "filtered_text = preprocess_text(text)\n",
    "print(filtered_text)"
   ]
  },
  {
   "cell_type": "code",
   "execution_count": 6,
   "metadata": {},
   "outputs": [],
   "source": [
    "df['processed_questions'] = df['Question'].apply(preprocess_text)"
   ]
  },
  {
   "cell_type": "code",
   "execution_count": 7,
   "metadata": {},
   "outputs": [
    {
     "data": {
      "text/html": [
       "<div>\n",
       "<style scoped>\n",
       "    .dataframe tbody tr th:only-of-type {\n",
       "        vertical-align: middle;\n",
       "    }\n",
       "\n",
       "    .dataframe tbody tr th {\n",
       "        vertical-align: top;\n",
       "    }\n",
       "\n",
       "    .dataframe thead th {\n",
       "        text-align: right;\n",
       "    }\n",
       "</style>\n",
       "<table border=\"1\" class=\"dataframe\">\n",
       "  <thead>\n",
       "    <tr style=\"text-align: right;\">\n",
       "      <th></th>\n",
       "      <th>Year</th>\n",
       "      <th>Question</th>\n",
       "      <th>processed_questions</th>\n",
       "    </tr>\n",
       "  </thead>\n",
       "  <tbody>\n",
       "    <tr>\n",
       "      <th>0</th>\n",
       "      <td>2023</td>\n",
       "      <td>Explain the role of geographical factors towar...</td>\n",
       "      <td>geographical factor towards development ancient</td>\n",
       "    </tr>\n",
       "    <tr>\n",
       "      <th>1</th>\n",
       "      <td>2023</td>\n",
       "      <td>What was the difference between Mahatma Gandhi...</td>\n",
       "      <td>difference mahatma gandhi rabindranath tagore ...</td>\n",
       "    </tr>\n",
       "    <tr>\n",
       "      <th>2</th>\n",
       "      <td>2023</td>\n",
       "      <td>Bring out the socio-economic effects of the in...</td>\n",
       "      <td>bring socioeconomic effect introduction railwa...</td>\n",
       "    </tr>\n",
       "  </tbody>\n",
       "</table>\n",
       "</div>"
      ],
      "text/plain": [
       "   Year                                           Question  \\\n",
       "0  2023  Explain the role of geographical factors towar...   \n",
       "1  2023  What was the difference between Mahatma Gandhi...   \n",
       "2  2023  Bring out the socio-economic effects of the in...   \n",
       "\n",
       "                                 processed_questions  \n",
       "0    geographical factor towards development ancient  \n",
       "1  difference mahatma gandhi rabindranath tagore ...  \n",
       "2  bring socioeconomic effect introduction railwa...  "
      ]
     },
     "execution_count": 7,
     "metadata": {},
     "output_type": "execute_result"
    }
   ],
   "source": [
    "df.head(3)"
   ]
  },
  {
   "cell_type": "code",
   "execution_count": 8,
   "metadata": {},
   "outputs": [],
   "source": [
    "from sklearn.feature_extraction.text import TfidfVectorizer\n",
    "from sklearn.decomposition import NMF"
   ]
  },
  {
   "cell_type": "code",
   "execution_count": 9,
   "metadata": {},
   "outputs": [],
   "source": [
    "questions = df['processed_questions'].values.astype('U')"
   ]
  },
  {
   "cell_type": "code",
   "execution_count": 10,
   "metadata": {},
   "outputs": [],
   "source": [
    "#TF-IDF Vectorization\n",
    "tfidf_vectorizer = TfidfVectorizer(max_df=0.95, min_df=2, stop_words='english')\n",
    "tfidf = tfidf_vectorizer.fit_transform(questions)"
   ]
  },
  {
   "cell_type": "code",
   "execution_count": 11,
   "metadata": {},
   "outputs": [
    {
     "data": {
      "text/plain": [
       "<Compressed Sparse Row sparse matrix of dtype 'float64'\n",
       "\twith 1157 stored elements and shape (235, 318)>"
      ]
     },
     "execution_count": 11,
     "metadata": {},
     "output_type": "execute_result"
    }
   ],
   "source": [
    "tfidf"
   ]
  },
  {
   "cell_type": "code",
   "execution_count": 12,
   "metadata": {},
   "outputs": [],
   "source": [
    "#Topic Modeling with NMF\n",
    "nmf_model = NMF(n_components=10,random_state=1)\n",
    "nmf_topic = nmf_model.fit_transform(tfidf)\n"
   ]
  },
  {
   "cell_type": "code",
   "execution_count": 13,
   "metadata": {},
   "outputs": [
    {
     "name": "stdout",
     "output_type": "stream",
     "text": [
      "Topic #0:\n",
      "water resource effective land differ region natural scarcity urban impact\n",
      "\n",
      "\n",
      "Topic #1:\n",
      "woman movement freedom struggle phase gender gandhian base growth analyze\n",
      "\n",
      "\n",
      "Topic #2:\n",
      "identity caste impact global work local communalism economy debate emergence\n",
      "\n",
      "\n",
      "Topic #3:\n",
      "process problem example urbanization ass state administrative significant weather justify\n",
      "\n",
      "\n",
      "Topic #4:\n",
      "century mideighteenth british colonial policy reason independence economic way uprising\n",
      "\n",
      "\n",
      "Topic #5:\n",
      "world crisis area resource country war effect modern food industry\n",
      "\n",
      "\n",
      "Topic #6:\n",
      "development economic factor major regional revolution city strategy ancient industry\n",
      "\n",
      "\n",
      "Topic #7:\n",
      "society cultural elaborate answer change feature affect region religion diversity\n",
      "\n",
      "\n",
      "Topic #8:\n",
      "significance mahatma gandhi time present art architecture approach difference evolution\n",
      "\n",
      "\n",
      "Topic #9:\n",
      "cause formation western ghat landslide island state bring himalaya poverty\n",
      "\n",
      "\n"
     ]
    }
   ],
   "source": [
    "# Displaying Topic\n",
    "feature_names = tfidf_vectorizer.get_feature_names_out()\n",
    "for topic_idx, topic in enumerate(nmf_model.components_):\n",
    "    print(\"Topic #%d:\" % topic_idx)\n",
    "    print(\" \".join([feature_names[i] for i in topic.argsort()[:-10 - 1:-1]]))\n",
    "    print('\\n')"
   ]
  },
  {
   "cell_type": "code",
   "execution_count": 14,
   "metadata": {},
   "outputs": [],
   "source": [
    "# keywords manually by person - 20-25 words \n",
    "# "
   ]
  },
  {
   "cell_type": "code",
   "execution_count": 15,
   "metadata": {},
   "outputs": [
    {
     "name": "stderr",
     "output_type": "stream",
     "text": [
      "e:\\repos\\SURP-2024\\venv\\Lib\\site-packages\\tqdm\\auto.py:21: TqdmWarning: IProgress not found. Please update jupyter and ipywidgets. See https://ipywidgets.readthedocs.io/en/stable/user_install.html\n",
      "  from .autonotebook import tqdm as notebook_tqdm\n"
     ]
    }
   ],
   "source": [
    "from bertopic import BERTopic"
   ]
  },
  {
   "cell_type": "code",
   "execution_count": 16,
   "metadata": {},
   "outputs": [],
   "source": [
    "from bertopic.representation import KeyBERTInspired\n",
    "representation = KeyBERTInspired()\n",
    "topic_model = BERTopic(min_topic_size=4,nr_topics='auto',calculate_probabilities=True,representation_model=representation)"
   ]
  },
  {
   "cell_type": "code",
   "execution_count": 17,
   "metadata": {},
   "outputs": [],
   "source": [
    "topics,prob = topic_model.fit_transform(questions)"
   ]
  },
  {
   "cell_type": "code",
   "execution_count": 18,
   "metadata": {},
   "outputs": [
    {
     "data": {
      "text/html": [
       "<div>\n",
       "<style scoped>\n",
       "    .dataframe tbody tr th:only-of-type {\n",
       "        vertical-align: middle;\n",
       "    }\n",
       "\n",
       "    .dataframe tbody tr th {\n",
       "        vertical-align: top;\n",
       "    }\n",
       "\n",
       "    .dataframe thead th {\n",
       "        text-align: right;\n",
       "    }\n",
       "</style>\n",
       "<table border=\"1\" class=\"dataframe\">\n",
       "  <thead>\n",
       "    <tr style=\"text-align: right;\">\n",
       "      <th></th>\n",
       "      <th>Topic</th>\n",
       "      <th>Count</th>\n",
       "      <th>Name</th>\n",
       "      <th>Representation</th>\n",
       "      <th>Representative_Docs</th>\n",
       "    </tr>\n",
       "  </thead>\n",
       "  <tbody>\n",
       "    <tr>\n",
       "      <th>0</th>\n",
       "      <td>-1</td>\n",
       "      <td>19</td>\n",
       "      <td>-1_hindu_delhi_kolkata_krishnadeva</td>\n",
       "      <td>[hindu, delhi, kolkata, krishnadeva, mumbai, h...</td>\n",
       "      <td>[would difficult constituent assembly complete...</td>\n",
       "    </tr>\n",
       "    <tr>\n",
       "      <th>1</th>\n",
       "      <td>0</td>\n",
       "      <td>108</td>\n",
       "      <td>0_climate_ocean_monsoon_sea</td>\n",
       "      <td>[climate, ocean, monsoon, sea, flood, glacier,...</td>\n",
       "      <td>[briefly mention alignment major mountain rang...</td>\n",
       "    </tr>\n",
       "    <tr>\n",
       "      <th>2</th>\n",
       "      <td>1</td>\n",
       "      <td>31</td>\n",
       "      <td>1_independence_colonial_industrialization_revolt</td>\n",
       "      <td>[independence, colonial, industrialization, re...</td>\n",
       "      <td>[political administrative reorganization state...</td>\n",
       "    </tr>\n",
       "    <tr>\n",
       "      <th>3</th>\n",
       "      <td>2</td>\n",
       "      <td>15</td>\n",
       "      <td>2_sculpture_art_aesthetic_architecture</td>\n",
       "      <td>[sculpture, art, aesthetic, architecture, monu...</td>\n",
       "      <td>[significance lion bull figure mythology art a...</td>\n",
       "    </tr>\n",
       "    <tr>\n",
       "      <th>4</th>\n",
       "      <td>3</td>\n",
       "      <td>14</td>\n",
       "      <td>3_feminization_woman_patriarchy_gender</td>\n",
       "      <td>[feminization, woman, patriarchy, gender, empo...</td>\n",
       "      <td>[woman question arose modern part 19th century...</td>\n",
       "    </tr>\n",
       "    <tr>\n",
       "      <th>5</th>\n",
       "      <td>4</td>\n",
       "      <td>14</td>\n",
       "      <td>4_diversity_communalism_cultural_globalisation</td>\n",
       "      <td>[diversity, communalism, cultural, globalisati...</td>\n",
       "      <td>[describe four cultural element diversity rate...</td>\n",
       "    </tr>\n",
       "    <tr>\n",
       "      <th>6</th>\n",
       "      <td>5</td>\n",
       "      <td>12</td>\n",
       "      <td>5_gandhi_gandhian_mahatma_rabindranath</td>\n",
       "      <td>[gandhi, gandhian, mahatma, rabindranath, nati...</td>\n",
       "      <td>[mahatma gandhi dr b r ambedkar despite diverg...</td>\n",
       "    </tr>\n",
       "    <tr>\n",
       "      <th>7</th>\n",
       "      <td>6</td>\n",
       "      <td>9</td>\n",
       "      <td>6_secularism_religiousnessreligiosity_religion...</td>\n",
       "      <td>[secularism, religiousnessreligiosity, religio...</td>\n",
       "      <td>[tolerance assimilation pluralism key element ...</td>\n",
       "    </tr>\n",
       "    <tr>\n",
       "      <th>8</th>\n",
       "      <td>7</td>\n",
       "      <td>7</td>\n",
       "      <td>7_tribals_tribal_tribe_tribessts</td>\n",
       "      <td>[tribals, tribal, tribe, tribessts, discrimina...</td>\n",
       "      <td>[colonial rule affect tribals tribal response ...</td>\n",
       "    </tr>\n",
       "    <tr>\n",
       "      <th>9</th>\n",
       "      <td>8</td>\n",
       "      <td>6</td>\n",
       "      <td>8_socialization_education_achieve_objective</td>\n",
       "      <td>[socialization, education, achieve, objective,...</td>\n",
       "      <td>[main objective population education point ach...</td>\n",
       "    </tr>\n",
       "  </tbody>\n",
       "</table>\n",
       "</div>"
      ],
      "text/plain": [
       "   Topic  Count                                               Name  \\\n",
       "0     -1     19                 -1_hindu_delhi_kolkata_krishnadeva   \n",
       "1      0    108                        0_climate_ocean_monsoon_sea   \n",
       "2      1     31   1_independence_colonial_industrialization_revolt   \n",
       "3      2     15             2_sculpture_art_aesthetic_architecture   \n",
       "4      3     14             3_feminization_woman_patriarchy_gender   \n",
       "5      4     14     4_diversity_communalism_cultural_globalisation   \n",
       "6      5     12             5_gandhi_gandhian_mahatma_rabindranath   \n",
       "7      6      9  6_secularism_religiousnessreligiosity_religion...   \n",
       "8      7      7                   7_tribals_tribal_tribe_tribessts   \n",
       "9      8      6        8_socialization_education_achieve_objective   \n",
       "\n",
       "                                      Representation  \\\n",
       "0  [hindu, delhi, kolkata, krishnadeva, mumbai, h...   \n",
       "1  [climate, ocean, monsoon, sea, flood, glacier,...   \n",
       "2  [independence, colonial, industrialization, re...   \n",
       "3  [sculpture, art, aesthetic, architecture, monu...   \n",
       "4  [feminization, woman, patriarchy, gender, empo...   \n",
       "5  [diversity, communalism, cultural, globalisati...   \n",
       "6  [gandhi, gandhian, mahatma, rabindranath, nati...   \n",
       "7  [secularism, religiousnessreligiosity, religio...   \n",
       "8  [tribals, tribal, tribe, tribessts, discrimina...   \n",
       "9  [socialization, education, achieve, objective,...   \n",
       "\n",
       "                                 Representative_Docs  \n",
       "0  [would difficult constituent assembly complete...  \n",
       "1  [briefly mention alignment major mountain rang...  \n",
       "2  [political administrative reorganization state...  \n",
       "3  [significance lion bull figure mythology art a...  \n",
       "4  [woman question arose modern part 19th century...  \n",
       "5  [describe four cultural element diversity rate...  \n",
       "6  [mahatma gandhi dr b r ambedkar despite diverg...  \n",
       "7  [tolerance assimilation pluralism key element ...  \n",
       "8  [colonial rule affect tribals tribal response ...  \n",
       "9  [main objective population education point ach...  "
      ]
     },
     "execution_count": 18,
     "metadata": {},
     "output_type": "execute_result"
    }
   ],
   "source": [
    "topic_model.get_topic_info()"
   ]
  },
  {
   "cell_type": "code",
   "execution_count": 19,
   "metadata": {},
   "outputs": [
    {
     "name": "stdout",
     "output_type": "stream",
     "text": [
      "19\n"
     ]
    }
   ],
   "source": [
    "no_topic_questions =[questions[i] for i in range(len(topics)) if topics[i] == -1]\n",
    "print(len(no_topic_questions))\n",
    "if len(no_topic_questions) != 0:\n",
    "    new_topic, new_prob = topic_model.transform(no_topic_questions)\n",
    "\n",
    "# new_topic_list = new_topic.tolist()\n",
    "new_prob_list = new_prob.tolist()\n",
    "for i,topic in enumerate(topics):\n",
    "    if topic == -1:\n",
    "        topics[i] = new_topic.pop(0)\n",
    "        prob[i] = new_prob_list.pop(0)\n"
   ]
  },
  {
   "cell_type": "code",
   "execution_count": 20,
   "metadata": {},
   "outputs": [
    {
     "data": {
      "text/plain": [
       "[-1, 5, 0, 0, 0]"
      ]
     },
     "execution_count": 20,
     "metadata": {},
     "output_type": "execute_result"
    }
   ],
   "source": [
    "topics[:5]"
   ]
  },
  {
   "cell_type": "code",
   "execution_count": 21,
   "metadata": {},
   "outputs": [
    {
     "data": {
      "text/plain": [
       "'climate ocean monsoon sea'"
      ]
     },
     "execution_count": 21,
     "metadata": {},
     "output_type": "execute_result"
    }
   ],
   "source": [
    "topic_str = topic_model.get_topic_info(0)['Name'].iloc[0]\n",
    "topic_str.split('_')\n",
    "' '.join(topic_str.split('_')[1:])\n"
   ]
  },
  {
   "cell_type": "code",
   "execution_count": 22,
   "metadata": {},
   "outputs": [
    {
     "data": {
      "text/html": [
       "<div>\n",
       "<style scoped>\n",
       "    .dataframe tbody tr th:only-of-type {\n",
       "        vertical-align: middle;\n",
       "    }\n",
       "\n",
       "    .dataframe tbody tr th {\n",
       "        vertical-align: top;\n",
       "    }\n",
       "\n",
       "    .dataframe thead th {\n",
       "        text-align: right;\n",
       "    }\n",
       "</style>\n",
       "<table border=\"1\" class=\"dataframe\">\n",
       "  <thead>\n",
       "    <tr style=\"text-align: right;\">\n",
       "      <th></th>\n",
       "      <th>Topic</th>\n",
       "      <th>Count</th>\n",
       "      <th>Name</th>\n",
       "      <th>Representation</th>\n",
       "      <th>Representative_Docs</th>\n",
       "    </tr>\n",
       "  </thead>\n",
       "  <tbody>\n",
       "    <tr>\n",
       "      <th>0</th>\n",
       "      <td>-1</td>\n",
       "      <td>19</td>\n",
       "      <td>-1_hindu_delhi_kolkata_krishnadeva</td>\n",
       "      <td>[hindu, delhi, kolkata, krishnadeva, mumbai, h...</td>\n",
       "      <td>[would difficult constituent assembly complete...</td>\n",
       "    </tr>\n",
       "    <tr>\n",
       "      <th>1</th>\n",
       "      <td>0</td>\n",
       "      <td>108</td>\n",
       "      <td>0_climate_ocean_monsoon_sea</td>\n",
       "      <td>[climate, ocean, monsoon, sea, flood, glacier,...</td>\n",
       "      <td>[briefly mention alignment major mountain rang...</td>\n",
       "    </tr>\n",
       "    <tr>\n",
       "      <th>2</th>\n",
       "      <td>1</td>\n",
       "      <td>31</td>\n",
       "      <td>1_independence_colonial_industrialization_revolt</td>\n",
       "      <td>[independence, colonial, industrialization, re...</td>\n",
       "      <td>[political administrative reorganization state...</td>\n",
       "    </tr>\n",
       "    <tr>\n",
       "      <th>3</th>\n",
       "      <td>2</td>\n",
       "      <td>15</td>\n",
       "      <td>2_sculpture_art_aesthetic_architecture</td>\n",
       "      <td>[sculpture, art, aesthetic, architecture, monu...</td>\n",
       "      <td>[significance lion bull figure mythology art a...</td>\n",
       "    </tr>\n",
       "    <tr>\n",
       "      <th>4</th>\n",
       "      <td>3</td>\n",
       "      <td>14</td>\n",
       "      <td>3_feminization_woman_patriarchy_gender</td>\n",
       "      <td>[feminization, woman, patriarchy, gender, empo...</td>\n",
       "      <td>[woman question arose modern part 19th century...</td>\n",
       "    </tr>\n",
       "    <tr>\n",
       "      <th>5</th>\n",
       "      <td>4</td>\n",
       "      <td>14</td>\n",
       "      <td>4_diversity_communalism_cultural_globalisation</td>\n",
       "      <td>[diversity, communalism, cultural, globalisati...</td>\n",
       "      <td>[describe four cultural element diversity rate...</td>\n",
       "    </tr>\n",
       "    <tr>\n",
       "      <th>6</th>\n",
       "      <td>5</td>\n",
       "      <td>12</td>\n",
       "      <td>5_gandhi_gandhian_mahatma_rabindranath</td>\n",
       "      <td>[gandhi, gandhian, mahatma, rabindranath, nati...</td>\n",
       "      <td>[mahatma gandhi dr b r ambedkar despite diverg...</td>\n",
       "    </tr>\n",
       "    <tr>\n",
       "      <th>7</th>\n",
       "      <td>6</td>\n",
       "      <td>9</td>\n",
       "      <td>6_secularism_religiousnessreligiosity_religion...</td>\n",
       "      <td>[secularism, religiousnessreligiosity, religio...</td>\n",
       "      <td>[tolerance assimilation pluralism key element ...</td>\n",
       "    </tr>\n",
       "    <tr>\n",
       "      <th>8</th>\n",
       "      <td>7</td>\n",
       "      <td>7</td>\n",
       "      <td>7_tribals_tribal_tribe_tribessts</td>\n",
       "      <td>[tribals, tribal, tribe, tribessts, discrimina...</td>\n",
       "      <td>[colonial rule affect tribals tribal response ...</td>\n",
       "    </tr>\n",
       "    <tr>\n",
       "      <th>9</th>\n",
       "      <td>8</td>\n",
       "      <td>6</td>\n",
       "      <td>8_socialization_education_achieve_objective</td>\n",
       "      <td>[socialization, education, achieve, objective,...</td>\n",
       "      <td>[main objective population education point ach...</td>\n",
       "    </tr>\n",
       "  </tbody>\n",
       "</table>\n",
       "</div>"
      ],
      "text/plain": [
       "   Topic  Count                                               Name  \\\n",
       "0     -1     19                 -1_hindu_delhi_kolkata_krishnadeva   \n",
       "1      0    108                        0_climate_ocean_monsoon_sea   \n",
       "2      1     31   1_independence_colonial_industrialization_revolt   \n",
       "3      2     15             2_sculpture_art_aesthetic_architecture   \n",
       "4      3     14             3_feminization_woman_patriarchy_gender   \n",
       "5      4     14     4_diversity_communalism_cultural_globalisation   \n",
       "6      5     12             5_gandhi_gandhian_mahatma_rabindranath   \n",
       "7      6      9  6_secularism_religiousnessreligiosity_religion...   \n",
       "8      7      7                   7_tribals_tribal_tribe_tribessts   \n",
       "9      8      6        8_socialization_education_achieve_objective   \n",
       "\n",
       "                                      Representation  \\\n",
       "0  [hindu, delhi, kolkata, krishnadeva, mumbai, h...   \n",
       "1  [climate, ocean, monsoon, sea, flood, glacier,...   \n",
       "2  [independence, colonial, industrialization, re...   \n",
       "3  [sculpture, art, aesthetic, architecture, monu...   \n",
       "4  [feminization, woman, patriarchy, gender, empo...   \n",
       "5  [diversity, communalism, cultural, globalisati...   \n",
       "6  [gandhi, gandhian, mahatma, rabindranath, nati...   \n",
       "7  [secularism, religiousnessreligiosity, religio...   \n",
       "8  [tribals, tribal, tribe, tribessts, discrimina...   \n",
       "9  [socialization, education, achieve, objective,...   \n",
       "\n",
       "                                 Representative_Docs  \n",
       "0  [would difficult constituent assembly complete...  \n",
       "1  [briefly mention alignment major mountain rang...  \n",
       "2  [political administrative reorganization state...  \n",
       "3  [significance lion bull figure mythology art a...  \n",
       "4  [woman question arose modern part 19th century...  \n",
       "5  [describe four cultural element diversity rate...  \n",
       "6  [mahatma gandhi dr b r ambedkar despite diverg...  \n",
       "7  [tolerance assimilation pluralism key element ...  \n",
       "8  [colonial rule affect tribals tribal response ...  \n",
       "9  [main objective population education point ach...  "
      ]
     },
     "execution_count": 22,
     "metadata": {},
     "output_type": "execute_result"
    }
   ],
   "source": [
    "topic_model.get_topic_info()"
   ]
  },
  {
   "cell_type": "code",
   "execution_count": 23,
   "metadata": {},
   "outputs": [
    {
     "data": {
      "application/vnd.plotly.v1+json": {
       "config": {
        "plotlyServerURL": "https://plot.ly"
       },
       "data": [
        {
         "customdata": [
          [
           0,
           "climate | ocean | monsoon | sea | flood",
           108
          ],
          [
           1,
           "independence | colonial | industrialization | revolt | rebellion",
           31
          ],
          [
           2,
           "sculpture | art | aesthetic | architecture | monument",
           15
          ],
          [
           3,
           "feminization | woman | patriarchy | gender | empowerment",
           14
          ],
          [
           4,
           "diversity | communalism | cultural | globalisation | culture",
           14
          ],
          [
           5,
           "gandhi | gandhian | mahatma | rabindranath | nationalism",
           12
          ],
          [
           6,
           "secularism | religiousnessreligiosity | religion | pluralism | communalism",
           9
          ],
          [
           7,
           "tribals | tribal | tribe | tribessts | discrimination",
           7
          ],
          [
           8,
           "socialization | education | achieve | objective | development",
           6
          ]
         ],
         "hovertemplate": "<b>Topic %{customdata[0]}</b><br>%{customdata[1]}<br>Size: %{customdata[2]}",
         "legendgroup": "",
         "marker": {
          "color": "#B0BEC5",
          "line": {
           "color": "DarkSlateGrey",
           "width": 2
          },
          "size": [
           108,
           31,
           15,
           14,
           14,
           12,
           9,
           7,
           6
          ],
          "sizemode": "area",
          "sizeref": 0.0675,
          "symbol": "circle"
         },
         "mode": "markers",
         "name": "",
         "orientation": "v",
         "showlegend": false,
         "type": "scatter",
         "x": [
          19.0837345123291,
          -4.003015518188477,
          -3.583463430404663,
          17.80518913269043,
          18.93289566040039,
          -4.290394306182861,
          19.965633392333984,
          18.19976234436035,
          19.09103012084961
         ],
         "xaxis": "x",
         "y": [
          11.747642517089844,
          -0.9305202960968018,
          -0.5109959840774536,
          10.903491020202637,
          12.222764015197754,
          -1.2178370952606201,
          11.435322761535645,
          11.473800659179688,
          10.17369270324707
         ],
         "yaxis": "y"
        }
       ],
       "layout": {
        "annotations": [
         {
          "showarrow": false,
          "text": "D1",
          "x": -4.93395345211029,
          "y": 6.327832978963852,
          "yshift": 10
         },
         {
          "showarrow": false,
          "text": "D2",
          "x": 9.013262474536896,
          "xshift": 10,
          "y": 14.056178617477418
         }
        ],
        "height": 650,
        "hoverlabel": {
         "bgcolor": "white",
         "font": {
          "family": "Rockwell",
          "size": 16
         }
        },
        "legend": {
         "itemsizing": "constant",
         "tracegroupgap": 0
        },
        "margin": {
         "t": 60
        },
        "shapes": [
         {
          "line": {
           "color": "#CFD8DC",
           "width": 2
          },
          "type": "line",
          "x0": 9.013262474536896,
          "x1": 9.013262474536896,
          "y0": -1.400512659549713,
          "y1": 14.056178617477418
         },
         {
          "line": {
           "color": "#9E9E9E",
           "width": 2
          },
          "type": "line",
          "x0": -4.93395345211029,
          "x1": 22.960478401184083,
          "y0": 6.327832978963852,
          "y1": 6.327832978963852
         }
        ],
        "sliders": [
         {
          "active": 0,
          "pad": {
           "t": 50
          },
          "steps": [
           {
            "args": [
             {
              "marker.color": [
               [
                "red",
                "#B0BEC5",
                "#B0BEC5",
                "#B0BEC5",
                "#B0BEC5",
                "#B0BEC5",
                "#B0BEC5",
                "#B0BEC5",
                "#B0BEC5"
               ]
              ]
             }
            ],
            "label": "Topic 0",
            "method": "update"
           },
           {
            "args": [
             {
              "marker.color": [
               [
                "#B0BEC5",
                "red",
                "#B0BEC5",
                "#B0BEC5",
                "#B0BEC5",
                "#B0BEC5",
                "#B0BEC5",
                "#B0BEC5",
                "#B0BEC5"
               ]
              ]
             }
            ],
            "label": "Topic 1",
            "method": "update"
           },
           {
            "args": [
             {
              "marker.color": [
               [
                "#B0BEC5",
                "#B0BEC5",
                "red",
                "#B0BEC5",
                "#B0BEC5",
                "#B0BEC5",
                "#B0BEC5",
                "#B0BEC5",
                "#B0BEC5"
               ]
              ]
             }
            ],
            "label": "Topic 2",
            "method": "update"
           },
           {
            "args": [
             {
              "marker.color": [
               [
                "#B0BEC5",
                "#B0BEC5",
                "#B0BEC5",
                "red",
                "#B0BEC5",
                "#B0BEC5",
                "#B0BEC5",
                "#B0BEC5",
                "#B0BEC5"
               ]
              ]
             }
            ],
            "label": "Topic 3",
            "method": "update"
           },
           {
            "args": [
             {
              "marker.color": [
               [
                "#B0BEC5",
                "#B0BEC5",
                "#B0BEC5",
                "#B0BEC5",
                "red",
                "#B0BEC5",
                "#B0BEC5",
                "#B0BEC5",
                "#B0BEC5"
               ]
              ]
             }
            ],
            "label": "Topic 4",
            "method": "update"
           },
           {
            "args": [
             {
              "marker.color": [
               [
                "#B0BEC5",
                "#B0BEC5",
                "#B0BEC5",
                "#B0BEC5",
                "#B0BEC5",
                "red",
                "#B0BEC5",
                "#B0BEC5",
                "#B0BEC5"
               ]
              ]
             }
            ],
            "label": "Topic 5",
            "method": "update"
           },
           {
            "args": [
             {
              "marker.color": [
               [
                "#B0BEC5",
                "#B0BEC5",
                "#B0BEC5",
                "#B0BEC5",
                "#B0BEC5",
                "#B0BEC5",
                "red",
                "#B0BEC5",
                "#B0BEC5"
               ]
              ]
             }
            ],
            "label": "Topic 6",
            "method": "update"
           },
           {
            "args": [
             {
              "marker.color": [
               [
                "#B0BEC5",
                "#B0BEC5",
                "#B0BEC5",
                "#B0BEC5",
                "#B0BEC5",
                "#B0BEC5",
                "#B0BEC5",
                "red",
                "#B0BEC5"
               ]
              ]
             }
            ],
            "label": "Topic 7",
            "method": "update"
           },
           {
            "args": [
             {
              "marker.color": [
               [
                "#B0BEC5",
                "#B0BEC5",
                "#B0BEC5",
                "#B0BEC5",
                "#B0BEC5",
                "#B0BEC5",
                "#B0BEC5",
                "#B0BEC5",
                "red"
               ]
              ]
             }
            ],
            "label": "Topic 8",
            "method": "update"
           }
          ]
         }
        ],
        "template": {
         "data": {
          "bar": [
           {
            "error_x": {
             "color": "rgb(36,36,36)"
            },
            "error_y": {
             "color": "rgb(36,36,36)"
            },
            "marker": {
             "line": {
              "color": "white",
              "width": 0.5
             },
             "pattern": {
              "fillmode": "overlay",
              "size": 10,
              "solidity": 0.2
             }
            },
            "type": "bar"
           }
          ],
          "barpolar": [
           {
            "marker": {
             "line": {
              "color": "white",
              "width": 0.5
             },
             "pattern": {
              "fillmode": "overlay",
              "size": 10,
              "solidity": 0.2
             }
            },
            "type": "barpolar"
           }
          ],
          "carpet": [
           {
            "aaxis": {
             "endlinecolor": "rgb(36,36,36)",
             "gridcolor": "white",
             "linecolor": "white",
             "minorgridcolor": "white",
             "startlinecolor": "rgb(36,36,36)"
            },
            "baxis": {
             "endlinecolor": "rgb(36,36,36)",
             "gridcolor": "white",
             "linecolor": "white",
             "minorgridcolor": "white",
             "startlinecolor": "rgb(36,36,36)"
            },
            "type": "carpet"
           }
          ],
          "choropleth": [
           {
            "colorbar": {
             "outlinewidth": 1,
             "tickcolor": "rgb(36,36,36)",
             "ticks": "outside"
            },
            "type": "choropleth"
           }
          ],
          "contour": [
           {
            "colorbar": {
             "outlinewidth": 1,
             "tickcolor": "rgb(36,36,36)",
             "ticks": "outside"
            },
            "colorscale": [
             [
              0,
              "#440154"
             ],
             [
              0.1111111111111111,
              "#482878"
             ],
             [
              0.2222222222222222,
              "#3e4989"
             ],
             [
              0.3333333333333333,
              "#31688e"
             ],
             [
              0.4444444444444444,
              "#26828e"
             ],
             [
              0.5555555555555556,
              "#1f9e89"
             ],
             [
              0.6666666666666666,
              "#35b779"
             ],
             [
              0.7777777777777778,
              "#6ece58"
             ],
             [
              0.8888888888888888,
              "#b5de2b"
             ],
             [
              1,
              "#fde725"
             ]
            ],
            "type": "contour"
           }
          ],
          "contourcarpet": [
           {
            "colorbar": {
             "outlinewidth": 1,
             "tickcolor": "rgb(36,36,36)",
             "ticks": "outside"
            },
            "type": "contourcarpet"
           }
          ],
          "heatmap": [
           {
            "colorbar": {
             "outlinewidth": 1,
             "tickcolor": "rgb(36,36,36)",
             "ticks": "outside"
            },
            "colorscale": [
             [
              0,
              "#440154"
             ],
             [
              0.1111111111111111,
              "#482878"
             ],
             [
              0.2222222222222222,
              "#3e4989"
             ],
             [
              0.3333333333333333,
              "#31688e"
             ],
             [
              0.4444444444444444,
              "#26828e"
             ],
             [
              0.5555555555555556,
              "#1f9e89"
             ],
             [
              0.6666666666666666,
              "#35b779"
             ],
             [
              0.7777777777777778,
              "#6ece58"
             ],
             [
              0.8888888888888888,
              "#b5de2b"
             ],
             [
              1,
              "#fde725"
             ]
            ],
            "type": "heatmap"
           }
          ],
          "heatmapgl": [
           {
            "colorbar": {
             "outlinewidth": 1,
             "tickcolor": "rgb(36,36,36)",
             "ticks": "outside"
            },
            "colorscale": [
             [
              0,
              "#440154"
             ],
             [
              0.1111111111111111,
              "#482878"
             ],
             [
              0.2222222222222222,
              "#3e4989"
             ],
             [
              0.3333333333333333,
              "#31688e"
             ],
             [
              0.4444444444444444,
              "#26828e"
             ],
             [
              0.5555555555555556,
              "#1f9e89"
             ],
             [
              0.6666666666666666,
              "#35b779"
             ],
             [
              0.7777777777777778,
              "#6ece58"
             ],
             [
              0.8888888888888888,
              "#b5de2b"
             ],
             [
              1,
              "#fde725"
             ]
            ],
            "type": "heatmapgl"
           }
          ],
          "histogram": [
           {
            "marker": {
             "line": {
              "color": "white",
              "width": 0.6
             }
            },
            "type": "histogram"
           }
          ],
          "histogram2d": [
           {
            "colorbar": {
             "outlinewidth": 1,
             "tickcolor": "rgb(36,36,36)",
             "ticks": "outside"
            },
            "colorscale": [
             [
              0,
              "#440154"
             ],
             [
              0.1111111111111111,
              "#482878"
             ],
             [
              0.2222222222222222,
              "#3e4989"
             ],
             [
              0.3333333333333333,
              "#31688e"
             ],
             [
              0.4444444444444444,
              "#26828e"
             ],
             [
              0.5555555555555556,
              "#1f9e89"
             ],
             [
              0.6666666666666666,
              "#35b779"
             ],
             [
              0.7777777777777778,
              "#6ece58"
             ],
             [
              0.8888888888888888,
              "#b5de2b"
             ],
             [
              1,
              "#fde725"
             ]
            ],
            "type": "histogram2d"
           }
          ],
          "histogram2dcontour": [
           {
            "colorbar": {
             "outlinewidth": 1,
             "tickcolor": "rgb(36,36,36)",
             "ticks": "outside"
            },
            "colorscale": [
             [
              0,
              "#440154"
             ],
             [
              0.1111111111111111,
              "#482878"
             ],
             [
              0.2222222222222222,
              "#3e4989"
             ],
             [
              0.3333333333333333,
              "#31688e"
             ],
             [
              0.4444444444444444,
              "#26828e"
             ],
             [
              0.5555555555555556,
              "#1f9e89"
             ],
             [
              0.6666666666666666,
              "#35b779"
             ],
             [
              0.7777777777777778,
              "#6ece58"
             ],
             [
              0.8888888888888888,
              "#b5de2b"
             ],
             [
              1,
              "#fde725"
             ]
            ],
            "type": "histogram2dcontour"
           }
          ],
          "mesh3d": [
           {
            "colorbar": {
             "outlinewidth": 1,
             "tickcolor": "rgb(36,36,36)",
             "ticks": "outside"
            },
            "type": "mesh3d"
           }
          ],
          "parcoords": [
           {
            "line": {
             "colorbar": {
              "outlinewidth": 1,
              "tickcolor": "rgb(36,36,36)",
              "ticks": "outside"
             }
            },
            "type": "parcoords"
           }
          ],
          "pie": [
           {
            "automargin": true,
            "type": "pie"
           }
          ],
          "scatter": [
           {
            "fillpattern": {
             "fillmode": "overlay",
             "size": 10,
             "solidity": 0.2
            },
            "type": "scatter"
           }
          ],
          "scatter3d": [
           {
            "line": {
             "colorbar": {
              "outlinewidth": 1,
              "tickcolor": "rgb(36,36,36)",
              "ticks": "outside"
             }
            },
            "marker": {
             "colorbar": {
              "outlinewidth": 1,
              "tickcolor": "rgb(36,36,36)",
              "ticks": "outside"
             }
            },
            "type": "scatter3d"
           }
          ],
          "scattercarpet": [
           {
            "marker": {
             "colorbar": {
              "outlinewidth": 1,
              "tickcolor": "rgb(36,36,36)",
              "ticks": "outside"
             }
            },
            "type": "scattercarpet"
           }
          ],
          "scattergeo": [
           {
            "marker": {
             "colorbar": {
              "outlinewidth": 1,
              "tickcolor": "rgb(36,36,36)",
              "ticks": "outside"
             }
            },
            "type": "scattergeo"
           }
          ],
          "scattergl": [
           {
            "marker": {
             "colorbar": {
              "outlinewidth": 1,
              "tickcolor": "rgb(36,36,36)",
              "ticks": "outside"
             }
            },
            "type": "scattergl"
           }
          ],
          "scattermapbox": [
           {
            "marker": {
             "colorbar": {
              "outlinewidth": 1,
              "tickcolor": "rgb(36,36,36)",
              "ticks": "outside"
             }
            },
            "type": "scattermapbox"
           }
          ],
          "scatterpolar": [
           {
            "marker": {
             "colorbar": {
              "outlinewidth": 1,
              "tickcolor": "rgb(36,36,36)",
              "ticks": "outside"
             }
            },
            "type": "scatterpolar"
           }
          ],
          "scatterpolargl": [
           {
            "marker": {
             "colorbar": {
              "outlinewidth": 1,
              "tickcolor": "rgb(36,36,36)",
              "ticks": "outside"
             }
            },
            "type": "scatterpolargl"
           }
          ],
          "scatterternary": [
           {
            "marker": {
             "colorbar": {
              "outlinewidth": 1,
              "tickcolor": "rgb(36,36,36)",
              "ticks": "outside"
             }
            },
            "type": "scatterternary"
           }
          ],
          "surface": [
           {
            "colorbar": {
             "outlinewidth": 1,
             "tickcolor": "rgb(36,36,36)",
             "ticks": "outside"
            },
            "colorscale": [
             [
              0,
              "#440154"
             ],
             [
              0.1111111111111111,
              "#482878"
             ],
             [
              0.2222222222222222,
              "#3e4989"
             ],
             [
              0.3333333333333333,
              "#31688e"
             ],
             [
              0.4444444444444444,
              "#26828e"
             ],
             [
              0.5555555555555556,
              "#1f9e89"
             ],
             [
              0.6666666666666666,
              "#35b779"
             ],
             [
              0.7777777777777778,
              "#6ece58"
             ],
             [
              0.8888888888888888,
              "#b5de2b"
             ],
             [
              1,
              "#fde725"
             ]
            ],
            "type": "surface"
           }
          ],
          "table": [
           {
            "cells": {
             "fill": {
              "color": "rgb(237,237,237)"
             },
             "line": {
              "color": "white"
             }
            },
            "header": {
             "fill": {
              "color": "rgb(217,217,217)"
             },
             "line": {
              "color": "white"
             }
            },
            "type": "table"
           }
          ]
         },
         "layout": {
          "annotationdefaults": {
           "arrowhead": 0,
           "arrowwidth": 1
          },
          "autotypenumbers": "strict",
          "coloraxis": {
           "colorbar": {
            "outlinewidth": 1,
            "tickcolor": "rgb(36,36,36)",
            "ticks": "outside"
           }
          },
          "colorscale": {
           "diverging": [
            [
             0,
             "rgb(103,0,31)"
            ],
            [
             0.1,
             "rgb(178,24,43)"
            ],
            [
             0.2,
             "rgb(214,96,77)"
            ],
            [
             0.3,
             "rgb(244,165,130)"
            ],
            [
             0.4,
             "rgb(253,219,199)"
            ],
            [
             0.5,
             "rgb(247,247,247)"
            ],
            [
             0.6,
             "rgb(209,229,240)"
            ],
            [
             0.7,
             "rgb(146,197,222)"
            ],
            [
             0.8,
             "rgb(67,147,195)"
            ],
            [
             0.9,
             "rgb(33,102,172)"
            ],
            [
             1,
             "rgb(5,48,97)"
            ]
           ],
           "sequential": [
            [
             0,
             "#440154"
            ],
            [
             0.1111111111111111,
             "#482878"
            ],
            [
             0.2222222222222222,
             "#3e4989"
            ],
            [
             0.3333333333333333,
             "#31688e"
            ],
            [
             0.4444444444444444,
             "#26828e"
            ],
            [
             0.5555555555555556,
             "#1f9e89"
            ],
            [
             0.6666666666666666,
             "#35b779"
            ],
            [
             0.7777777777777778,
             "#6ece58"
            ],
            [
             0.8888888888888888,
             "#b5de2b"
            ],
            [
             1,
             "#fde725"
            ]
           ],
           "sequentialminus": [
            [
             0,
             "#440154"
            ],
            [
             0.1111111111111111,
             "#482878"
            ],
            [
             0.2222222222222222,
             "#3e4989"
            ],
            [
             0.3333333333333333,
             "#31688e"
            ],
            [
             0.4444444444444444,
             "#26828e"
            ],
            [
             0.5555555555555556,
             "#1f9e89"
            ],
            [
             0.6666666666666666,
             "#35b779"
            ],
            [
             0.7777777777777778,
             "#6ece58"
            ],
            [
             0.8888888888888888,
             "#b5de2b"
            ],
            [
             1,
             "#fde725"
            ]
           ]
          },
          "colorway": [
           "#1F77B4",
           "#FF7F0E",
           "#2CA02C",
           "#D62728",
           "#9467BD",
           "#8C564B",
           "#E377C2",
           "#7F7F7F",
           "#BCBD22",
           "#17BECF"
          ],
          "font": {
           "color": "rgb(36,36,36)"
          },
          "geo": {
           "bgcolor": "white",
           "lakecolor": "white",
           "landcolor": "white",
           "showlakes": true,
           "showland": true,
           "subunitcolor": "white"
          },
          "hoverlabel": {
           "align": "left"
          },
          "hovermode": "closest",
          "mapbox": {
           "style": "light"
          },
          "paper_bgcolor": "white",
          "plot_bgcolor": "white",
          "polar": {
           "angularaxis": {
            "gridcolor": "rgb(232,232,232)",
            "linecolor": "rgb(36,36,36)",
            "showgrid": false,
            "showline": true,
            "ticks": "outside"
           },
           "bgcolor": "white",
           "radialaxis": {
            "gridcolor": "rgb(232,232,232)",
            "linecolor": "rgb(36,36,36)",
            "showgrid": false,
            "showline": true,
            "ticks": "outside"
           }
          },
          "scene": {
           "xaxis": {
            "backgroundcolor": "white",
            "gridcolor": "rgb(232,232,232)",
            "gridwidth": 2,
            "linecolor": "rgb(36,36,36)",
            "showbackground": true,
            "showgrid": false,
            "showline": true,
            "ticks": "outside",
            "zeroline": false,
            "zerolinecolor": "rgb(36,36,36)"
           },
           "yaxis": {
            "backgroundcolor": "white",
            "gridcolor": "rgb(232,232,232)",
            "gridwidth": 2,
            "linecolor": "rgb(36,36,36)",
            "showbackground": true,
            "showgrid": false,
            "showline": true,
            "ticks": "outside",
            "zeroline": false,
            "zerolinecolor": "rgb(36,36,36)"
           },
           "zaxis": {
            "backgroundcolor": "white",
            "gridcolor": "rgb(232,232,232)",
            "gridwidth": 2,
            "linecolor": "rgb(36,36,36)",
            "showbackground": true,
            "showgrid": false,
            "showline": true,
            "ticks": "outside",
            "zeroline": false,
            "zerolinecolor": "rgb(36,36,36)"
           }
          },
          "shapedefaults": {
           "fillcolor": "black",
           "line": {
            "width": 0
           },
           "opacity": 0.3
          },
          "ternary": {
           "aaxis": {
            "gridcolor": "rgb(232,232,232)",
            "linecolor": "rgb(36,36,36)",
            "showgrid": false,
            "showline": true,
            "ticks": "outside"
           },
           "baxis": {
            "gridcolor": "rgb(232,232,232)",
            "linecolor": "rgb(36,36,36)",
            "showgrid": false,
            "showline": true,
            "ticks": "outside"
           },
           "bgcolor": "white",
           "caxis": {
            "gridcolor": "rgb(232,232,232)",
            "linecolor": "rgb(36,36,36)",
            "showgrid": false,
            "showline": true,
            "ticks": "outside"
           }
          },
          "title": {
           "x": 0.05
          },
          "xaxis": {
           "automargin": true,
           "gridcolor": "rgb(232,232,232)",
           "linecolor": "rgb(36,36,36)",
           "showgrid": false,
           "showline": true,
           "ticks": "outside",
           "title": {
            "standoff": 15
           },
           "zeroline": false,
           "zerolinecolor": "rgb(36,36,36)"
          },
          "yaxis": {
           "automargin": true,
           "gridcolor": "rgb(232,232,232)",
           "linecolor": "rgb(36,36,36)",
           "showgrid": false,
           "showline": true,
           "ticks": "outside",
           "title": {
            "standoff": 15
           },
           "zeroline": false,
           "zerolinecolor": "rgb(36,36,36)"
          }
         }
        },
        "title": {
         "font": {
          "color": "Black",
          "size": 22
         },
         "text": "<b>Intertopic Distance Map</b>",
         "x": 0.5,
         "xanchor": "center",
         "y": 0.95,
         "yanchor": "top"
        },
        "width": 650,
        "xaxis": {
         "anchor": "y",
         "domain": [
          0,
          1
         ],
         "range": [
          -4.93395345211029,
          22.960478401184083
         ],
         "title": {
          "text": ""
         },
         "visible": false
        },
        "yaxis": {
         "anchor": "x",
         "domain": [
          0,
          1
         ],
         "range": [
          -1.400512659549713,
          14.056178617477418
         ],
         "title": {
          "text": ""
         },
         "visible": false
        }
       }
      }
     },
     "metadata": {},
     "output_type": "display_data"
    }
   ],
   "source": [
    "topic_model.visualize_topics()"
   ]
  },
  {
   "cell_type": "code",
   "execution_count": 24,
   "metadata": {},
   "outputs": [
    {
     "data": {
      "application/vnd.plotly.v1+json": {
       "config": {
        "plotlyServerURL": "https://plot.ly"
       },
       "data": [
        {
         "hoverinfo": "text",
         "hovertext": [
          "Explain the role of geographical factors towards the development of Ancient India.",
          "Taxila university was one of the oldest universities of the world with which were associated a number of renowned learned personalities of different disciplines. Its strategic location caused its fame to flourish, but unlike Nalanda, it is not considered as a university in the modern sense. Discuss.",
          "Explain the formation of thousands of islands in Indonesian and Philipines archipelagos.",
          "Mumbai, Delhi and Kolkata are the three Mega cities of the country but the air pollution is much more serious probelm in Delhi as compared to the other two. Why is this so?",
          "Identify and discuss the factors responsible for diversity of natural vegetation in India. Assess the significance of wildlife sanctuaries in rain forests regions of India.",
          "The spirit of tolerance and love is not only an interesting feature of Indian society from very early times, but it is also playing an important part at the present. Elaborate.",
          "Has caste lost its relevance in understanding the multi- cultural Indian Society? Elaborate your answer with illustrations.",
          "It would have been difficult for the Constituent Assembly to complete its historic task of drafting the Constitution for Independent India in just three years, but its experience gained with the Government of India Act, 1935\n.Discuss.",
          "Evaluate the nature of the Bhakti Literature and its contribution to Indian culture.",
          "Discuss the impact of post-liberal economy on ethnic identity and communalism.",
          "Trace the rise and growth of socio-religious reform movements with special reference to Young Bengal and Brahmo Samaj.",
          "Account for the huge flooding of million cities in India including the smart ones like Hyderabad and Pune. Suggest lasting remedial measures.",
          "Why indentured labour was taken by the British from India to their colonies? have they been able to preserve their cultural identity over there?",
          "Sufis and medieval saints failed to modify either the religious ideas and practices or the outward structure of Hindu/ Muslim societies to any appreciable extent. Comment.",
          "“In many ways, Lord Dalhousie was the founder of modern India.” Elaborate.",
          "Krishnadeva Raya, the King of Vijayanagar, was not only an accomplished scholar himself but was also a great patron of learning and literature. Discuss.",
          "Assess the importance of the accounts of the Chinese and Arab travellers in the reconstruction of the history of India.",
          "Debate the issue whether and how contemporary movements for assertion of Dalit identity work towards annihilation of caste.",
          "The third battle of Panipat was fought in 1761. Why were so many empire-shaking battles fought at Panipat?",
          null
         ],
         "marker": {
          "color": "#CFD8DC",
          "opacity": 0.5,
          "size": 5
         },
         "mode": "markers+text",
         "name": "other",
         "showlegend": false,
         "type": "scattergl",
         "x": [
          7.313349723815918,
          11.270268440246582,
          2.6874444484710693,
          5.201465606689453,
          4.643874168395996,
          10.179830551147461,
          9.587695121765137,
          9.627887725830078,
          10.484879493713379,
          9.227264404296875,
          10.299712181091309,
          4.999751567840576,
          8.629037857055664,
          10.245038032531738,
          10.973432540893555,
          11.319808006286621,
          9.504487991333008,
          9.551621437072754,
          9.038337707519531,
          8.672904968261719
         ],
         "y": [
          9.254912376403809,
          10.028128623962402,
          9.056668281555176,
          10.071950912475586,
          9.502985954284668,
          10.459993362426758,
          10.37021541595459,
          8.69835376739502,
          9.873477935791016,
          10.763216972351074,
          10.447652816772461,
          10.38699722290039,
          8.622941970825195,
          10.637852668762207,
          9.942152976989746,
          10.076338768005371,
          9.031993865966797,
          10.236547470092773,
          8.674793243408203,
          9.796693801879883
         ]
        },
        {
         "hoverinfo": "text",
         "hovertext": [
          "\"An essential condition to eradicate poverty is to liberate the poor from the process of deprivation.\" Substantiate this statement with suitable examples.",
          "Why is the world today confronted with a crisis of availability of and access to freshwater resources?",
          "What is the significance of Industrial Corridors in India? Identifying industrial corridors, explain their main characteristics.",
          "Does urbanization lead to more segregation and/or marginalization of the poor in Indian metropolises?",
          "Despite India being one of the countries of the Gondwanaland, its mining industry contributes much less to its Gross Domestic Product(GDP) in percentage. Discuss.",
          "In what way can floods be converted into a sustainable source of irrigation and all-weather inland navigation in India?",
          "Examine the potential of wind energy in India and explain the reasons for their limited spatial spread.",
          "To what extent has the urban planning and culture of the Indus Valley Civilization provided inputs to the present day urbanization?\nDiscuss.",
          "Account for the change in the spatial pattern of the Iron and Steel industry in the world.",
          "Account for the present location of iron and steel industries away from the source of raw material, by giving examples.",
          "What do you understand by the phenomenon of ‘temperature inversion’ in meteorology? How does it affect weather and the habitants of the place?",
          "South China Sea has assumed great geopolitical significance in the present context. Comment.",
          "“Africa was chopped into states artificially created by accidents of European competition.” Analyze.",
          "Describe the characteristics and types of primary rocks.",
          "What is water stress? How and why does it differ regionally in India?",
          "Differentiate the causes of landslides in the Himalayan region and Western Ghats.",
          "Discuss the geophysical characteristics of Circum- Pacific Zone.",
          "Describing the distribution of rubber producing countries, indicate the major environmental issues faced by them.",
          "Account for variations in oceanic salinity and discuss its multi-dimensional effects.",
          "what are the environmental implications of the reclamation of the water bodies into urban land use? Explain with examples.",
          "The recent cyclone on the east coast of India was called ‘Phailin’. How are the tropical cyclones named across the world? Elaborate.",
          "\"The Himalayas are highly prone to landslides.\" Discuss the causes and suggest suitable measures of mitigation.",
          "It is said that India has substantial reserves of shale oil and gas, which can feed the needs of the country for quarter century. However, tapping of the resource does not appear to be high on the agenda. Discuss critically the availability and issues involved.",
          "What are the economic significances of discovery of oil in Arctic Sea and its possible environemental consequences?",
          "Major cities of India are becoming more vulnerable to flood conditions. Discuss.",
          "The interlinking of rivers can provide viable solutions to the multi-dimensional inter-related problems of droughts, floods and interrupted navigation. Critically examine.",
          "Discuss the concept of air mass and explain its role in macro-climatic changes.",
          "What policy instruments were deployed to contain the Great Economic Depression?",
          "How can the mountain ecosystem be restored from the negative impact of development initiatives and tourism?",
          "Why is Indian Regional Navigational Satellite System (IRNSS) needed? How does it help in navigation?",
          "“The growth of cities as I.T. hubs has opened up new avenues of employment, but has also created new problems”. Substantiate this statement with examples",
          "With a brief background of quality of urban life in India, introduce the objectives and strategy of the 'Smart City Programme'.",
          "How is the growth of Tier 2 cities related to the rise of a new middle class with an emphasis on the culture of consumption?",
          "Bring out the causes for the formation of heat islands in the urban habitat of the world.",
          "Briefly mention the alignment of major mountain ranges of the world and explain their impact on local weather conditions, with examples.",
          "Discuss whether formation of new states in recent times is beneficial or not for the economy of India.",
          "How is efficient and affordable urban mass transport key to the rapid economic development in India?",
          "What are the consequences of spreading of ‘Dead Zones’ on marine ecosystem?",
          "Analyze the factors for the highly decentralized cotton textile industry in India.",
          "Present an account of the Indus Water Treaty and examine its ecological, economic and political implications in the context of changing bilateral relations.",
          "“The ideal solution of depleting ground water resources in India is water harvesting system.” How can it be made effective in urban areas?",
          "Mention core strategies for the transformation of aspirational districts in India and explain the nature of convergence, collaboration and competition for its success.",
          "Can the strategy of regional resource-based manufacturing help in promoting employment in India?",
          "How are the fjords formed? Why do they constitute some of the most picturesque areas of the world?",
          "Bring out the relationship between the shrinking Himalayan glaciers and the symptoms of climate change in the Indian sub-continent.",
          "From being net food importer in 1960s, India has emerged as a net food exporter to the world. Provide reasons.",
          "Critically examine whether growing population is the cause of poverty OR poverty is the mains cause of population increase in India.",
          "In what way micro-watershed development projects help in water conservation in\ndrought-prone and semi-arid regions of India?",
          "Major hot deserts in northern hemisphere are located between 20-30 deg N latitudes and on the western sides of the continents. Why?",
          "Discuss the natural resource potentials of ‘Deccan trap’.",
          "Discuss the various social problems which originated out of the speedy process of urbanization in India.",
          "How do ocean currents and water masses differ in their impacts on marine life and coastal environment? Give suitable examples.",
          "How far do you agree that the behaviour of the Indian monsoon has been changing due to humanizing landscape? Discuss.",
          "Discuss the multi-dimensional implications of uneven distribution of mineral oil in the world.",
          "Bring out the socio-economic effects of the introduction of railways in different countries of the world",
          "Examine the status of forest resources of India and its resultant impact on climate change.",
          "Why is the South-West monsoon called ‘Purvaiya’ (easterly) in Bhojpur Region? How has this directional seasonal wind system influenced the cultural ethos of the region?",
          "How does India see its place in the economic space of rising natural resources rich Africa?",
          "The process of desertification does not have climate boundaries. Justify with examples.",
          "How does the cryosphere affect global climate?",
          "Discuss the causes of depletion of mangroves and explain their importance in maintaining coastal ecology.",
          "How will the melting of Himalayan glaciers have a far- reaching impact on the water resources of India?",
          "Explain the factors responsible for the origin of ocean currents. How do they influence regional climates, fishing and navigation?",
          "Bring out the causes for more frequent occurrence of landslides in the Himalayas than in the Western Ghats.",
          "Discuss the meaning of colour-coded weather warnings for cyclone prone areas given by India Meteorological department.",
          "Smart cities in India cannot sustain without smart vilages. Discuss this statement in the backdrop of rural urban integration.",
          "Mention the significance of straits and isthmus in international trade.",
          "What is the basis of regionalism? Is it that unequal distribution of benefits of development on regional basis eventually promotes regionalism? Substantiate your answer.",
          "Mention the advantages of the cultivation of pulses because of which the year 2016 was declared as the International Year of Pulses by United Nations.",
          "Assess the impact of global warming on the coral life system with examples.",
          "With growing scarcity of fossil fuels, the atomic energy is gaining more and more significance in India. Discuss the availability of raw material required for the generation of atomic energy in India and in the world.",
          "Elucidate the relationship between globalization and new technology in a world of scarce resources, with special reference to India.",
          "Enumerate the problems and prospects of inland water transport in India.",
          "Discuss the changes in the trends of labour migration within and outside India in the last four decades.",
          "Whereas the British planters had developed tea gardens all along the Shivaliks and Lesser Himalayas from Assam to Himachal Pradesh, in effect they did not succeed beyond the Darjeeling area. Explain.",
          "Troposphere is a very significant atmospheric layer that determines weather processes.\nHow?",
          "Why are the world’s fold mountain systems located along the margins of continents? Bring out the association between the global distribution of fold mountains and the earthquakes and volcanoes.",
          "Mention the global occurrence of volcanic eruptions in 2021 and their impact on regional environment.",
          "What is Cryptocurrency? How does it affect global society? Has it been affecting Indian society also?",
          "What are the forces that influence ocean currents? Describe their role in fishing industry of the world.",
          "Discuss the factors for localisation of agro-based food processing industries of North-West India.",
          "Growing feeling of regionalism is an important factor in generation of demand for a separate state. Discuss.",
          "COVID-19 pandemic accelerated class inequalities and poverty in India. Comment.",
          "Why did human development fail to keep pace with economic development in India?",
          "Tropical cyclones are largely confined to South China Sea, Bay of Bengal and Gulf of Mexico. Why?",
          "Define mantle plume and explain its role in plate tectonics.",
          "Discuss the consequences of climate change on the food security in tropical countries.",
          "How do the melting of the Arctic ice and glaciers of the Antarctic differently affect the weather patterns and human activities on the Earth? Explain.",
          "The life cycle of a joint family depends on economic factors rather than social values. Discuss.",
          "Most of the unusual climatic happenings are explained as an outcome of the El-Nino effect. Do you agree?",
          "Why is India taking keen interest in the Arctic region?",
          "Do you agree that there is a growing trend of opening new sugar mills in southern states of India? Discuss with justification.",
          "What are the main socio-economic implications arising out of the development of IT industries in major cities of India?",
          "Why did the Green Revolution in India virtually by-pass the eastern region despite fertile soil and good availability of water?",
          "The states of Jammu and Kashmir, Himachal Pradesh and Uttarakhand are reaching the limits of ecological carrying capacity due to tourism. Critically evaluate.",
          "India is well endowed with fresh water resources. Critically examine why it still suffers from water scarcity.",
          "What characteristics can be assigned to monsoon climate that succeeds in feeding more than 50 percent of the world population residing in Monsoon Asia?",
          "India has immense potential of solar energy though there are regional variations in its developments. Elaborate.",
          "“Inspite of adverse environmental impact, coal mining is still inevitable for development”.\nDiscuss",
          "Comment on the resource potentials of the long coastline of India and highlight the status of natural hazard preparedness in these areas.",
          "There is no formation of deltas by rivers on the Western Ghats. Why?",
          "Critically evaluate the various resources of the oceans which can be harnessed to meet the resource crisis in the world.",
          "Petroleum refineries are not necessarily located nearer to crude oil producing areas, particularly in many of the developing countries. Explain its implications.",
          "What do you understand by the theory of continental drift? Discuss the prominent evidences in its support.",
          "‘Despite implementation of various programmes for eradication of poverty by the government in India, poverty is still existing’. Explain by giving reasons.",
          "Critically examine the effect of globalization on the aged population in India.",
          "The effective management of land and water resources will drastically reduce the human miseries. Explain.",
          "How does the Juno Mission of NASA help to understand the origin and evolution of the Earth?",
          null
         ],
         "marker": {
          "opacity": 0.5,
          "size": 5
         },
         "mode": "markers+text",
         "name": "0_climate_ocean_monsoon",
         "text": [
          "",
          "",
          "",
          "",
          "",
          "",
          "",
          "",
          "",
          "",
          "",
          "",
          "",
          "",
          "",
          "",
          "",
          "",
          "",
          "",
          "",
          "",
          "",
          "",
          "",
          "",
          "",
          "",
          "",
          "",
          "",
          "",
          "",
          "",
          "",
          "",
          "",
          "",
          "",
          "",
          "",
          "",
          "",
          "",
          "",
          "",
          "",
          "",
          "",
          "",
          "",
          "",
          "",
          "",
          "",
          "",
          "",
          "",
          "",
          "",
          "",
          "",
          "",
          "",
          "",
          "",
          "",
          "",
          "",
          "",
          "",
          "",
          "",
          "",
          "",
          "",
          "",
          "",
          "",
          "",
          "",
          "",
          "",
          "",
          "",
          "",
          "",
          "",
          "",
          "",
          "",
          "",
          "",
          "",
          "",
          "",
          "",
          "",
          "",
          "",
          "",
          "",
          "",
          "",
          "",
          "",
          "",
          "",
          "0_climate_ocean_monsoon"
         ],
         "textfont": {
          "size": 12
         },
         "type": "scattergl",
         "x": [
          7.58900785446167,
          4.443499565124512,
          7.045982837677002,
          7.2103047370910645,
          5.751046657562256,
          4.790200710296631,
          5.2085981369018555,
          7.266117572784424,
          6.0551910400390625,
          5.970527172088623,
          2.382629156112671,
          3.7592997550964355,
          8.559993743896484,
          2.9782111644744873,
          4.71453857421875,
          3.180711269378662,
          3.104036331176758,
          4.105781555175781,
          3.212772846221924,
          4.337032318115234,
          3.8938205242156982,
          3.262007713317871,
          5.303570747375488,
          5.005234241485596,
          4.833322048187256,
          4.633586406707764,
          2.412081718444824,
          8.870809555053711,
          4.390500545501709,
          5.874788761138916,
          6.945743560791016,
          6.554411888122559,
          7.011693954467773,
          2.577820301055908,
          2.8772430419921875,
          6.975223064422607,
          6.627954006195068,
          2.967146158218384,
          6.519842147827148,
          4.276003360748291,
          4.738983154296875,
          7.143657207489014,
          6.404831886291504,
          3.0219528675079346,
          3.3781204223632812,
          6.587505340576172,
          7.578088283538818,
          4.693321228027344,
          2.951601266860962,
          4.7286295890808105,
          7.422389030456543,
          3.0390572547912598,
          3.5180790424346924,
          5.1188883781433105,
          6.650412559509277,
          4.6482768058776855,
          3.608480930328369,
          5.638194561004639,
          2.7952632904052734,
          2.3336029052734375,
          2.9752461910247803,
          3.442186117172241,
          3.120844602584839,
          3.1564929485321045,
          4.001643180847168,
          6.575298309326172,
          3.7816381454467773,
          8.099246978759766,
          6.6539692878723145,
          2.672427177429199,
          5.3887505531311035,
          6.787354469299316,
          4.7599873542785645,
          7.835158824920654,
          8.004932403564453,
          2.4868223667144775,
          2.9596238136291504,
          2.5879619121551514,
          7.15742301940918,
          3.4131712913513184,
          6.539677143096924,
          7.899880886077881,
          7.631542682647705,
          7.5986008644104,
          3.7680132389068604,
          2.95214581489563,
          3.379443883895874,
          2.539071559906006,
          8.789231300354004,
          2.3432209491729736,
          5.427283763885498,
          6.640052795410156,
          6.727502346038818,
          7.418665409088135,
          4.602113723754883,
          4.646856307983398,
          3.4222207069396973,
          5.477072715759277,
          4.3298749923706055,
          4.62180233001709,
          3.0503287315368652,
          4.366543292999268,
          5.208210468292236,
          3.2493321895599365,
          7.581094264984131,
          7.917586326599121,
          4.329860210418701,
          3.19732928276062,
          5.009188652038574
         ],
         "y": [
          10.154459953308105,
          10.293364524841309,
          9.344779968261719,
          9.974319458007812,
          9.195503234863281,
          10.284614562988281,
          9.729310989379883,
          9.415629386901855,
          8.98784351348877,
          8.956297874450684,
          8.835503578186035,
          8.588760375976562,
          7.788460731506348,
          8.70494270324707,
          10.374223709106445,
          9.218716621398926,
          8.613627433776855,
          9.975945472717285,
          8.404833793640137,
          10.17632007598877,
          9.315258026123047,
          9.291324615478516,
          9.213973999023438,
          8.885775566101074,
          10.239466667175293,
          10.245309829711914,
          8.824907302856445,
          8.144758224487305,
          9.69078540802002,
          9.768010139465332,
          10.007248878479004,
          10.011863708496094,
          10.082208633422852,
          8.99949836730957,
          8.821266174316406,
          9.109187126159668,
          9.714167594909668,
          8.171548843383789,
          9.145405769348145,
          10.392351150512695,
          10.511894226074219,
          9.324422836303711,
          9.296271324157715,
          8.824069023132324,
          9.427404403686523,
          9.011443138122559,
          9.940773963928223,
          10.36512279510498,
          8.977794647216797,
          9.449954986572266,
          9.499404907226562,
          8.253795623779297,
          9.746554374694824,
          8.877342224121094,
          9.546198844909668,
          9.46099853515625,
          9.693658828735352,
          9.24079704284668,
          9.330573081970215,
          8.813395500183105,
          8.128862380981445,
          9.341571807861328,
          8.487248420715332,
          9.196442604064941,
          9.293733596801758,
          10.019089698791504,
          8.497509956359863,
          10.993409156799316,
          9.002257347106934,
          8.401012420654297,
          9.301899909973145,
          9.389496803283691,
          10.284761428833008,
          9.391138076782227,
          8.829492568969727,
          8.7698335647583,
          8.823013305664062,
          8.961848258972168,
          9.712736129760742,
          8.251605033874512,
          9.064956665039062,
          10.814983367919922,
          9.9940824508667,
          9.389113426208496,
          9.099617958068848,
          8.76788330078125,
          9.638897895812988,
          8.717053413391113,
          10.296375274658203,
          8.95975399017334,
          9.280235290527344,
          9.0341796875,
          9.508176803588867,
          9.007412910461426,
          9.587540626525879,
          10.408985137939453,
          9.615227699279785,
          9.417089462280273,
          10.05093765258789,
          9.524860382080078,
          9.072265625,
          8.819426536560059,
          9.00612735748291,
          8.48235034942627,
          10.07457447052002,
          9.901589393615723,
          10.17661190032959,
          8.50403118133545,
          9.351619720458984
         ]
        },
        {
         "hoverinfo": "text",
         "hovertext": [
          "Explain how the Uprising of 1857 constitutes an important watershed in the evolution of British policies towards colonial India.",
          "‘Latecomer’ Industrial Revolution in Japan involved certain factors that were markedly different from what West had experienced.” Analyze.",
          "The anti-colonial struggles in West Africa were led by the new elite of Western-educated Africans.",
          "What were the major political, economic and social developments in the world which motivated the anti-colonial in India?",
          "Analyze the circumstances that led to the Tashkent Agreement in 1966. Discuss the highlights of the Agreement.",
          "To what extend can Germany be held responsible for causing the two World Wars? Discuss critically.",
          "Examine the linkages between the nineteenth century’s ‘Indian Renaissance’ and the emergence of national identity.",
          "Clarify how mid-eighteenth century India was beset with the spectre of a fragmented polity.",
          "” There arose a serious challenge to the Democratic State System between the two World Wars.” Evaluate the statement.",
          "To what extent did the role of the moderates prepare a base for the wider freedom movement? Comment.",
          "Since the decade of the 1920s, the national movement acquired various ideological strands and thereby expanded its social base. Discuss.",
          "Evaluate the policies of Lord Curzon and their long term implications on the national movements.",
          "What problems are germane to the decolonization process in the Malay Peninsula?",
          "What were the major technological changes introduced during the Sultanate period? How did those technological changes influence the Indian society?",
          "Several foreigners made India their homeland and participated in various movements.\nAnalyze their role in the Indian struggle for freedom.",
          "What were the events that led to the Suez Crisis in 1956? How did it deal a final blow to Britain’s self-image as a world power?",
          "Why was there a sudden spurt in famines in colonial India since the mid-eighteenth century? Give reasons.",
          "Explain how the foundations of the modern world were laid by the American and French Revolutions.",
          "The New Economic Policy – 1921 of Lenin had influenced the policies adopted by India soon after independence. Evaluate.",
          "In what ways did the navel mutiny prove to be the last nail in the coffin of British colonial aspirations in India?",
          "Assess the role of British imperial power in complicating the process of transfer of power during the 1940s.",
          "Though not very useful from the point of view of a connected political history of South India, the Sangam literature portrays the social and economic conditions of its time with remarkable vividness. Comment.",
          "Why did the ‘Moderates’ failed to carry conviction with the nation about their proclaimed ideology and political goals by the end of the nineteenth century?",
          "The 1857 uprising was the culmination of the recurrent, big and small local rebellions that had occurred in the preceding hundred years of British rule. Elucidate.",
          "Why did the industrial revolution first occur in England? Discuss the quality of life of the people there during the industrialization. How does it compare with that in India at present times?",
          "Examine critically the various facets of economic policies of the British in India from mid-eighteenth century till independence.",
          "Why did the armies of the British East India Company – mostly comprising of Indian soldiers – win consistently against the more numerous and better equipped armies of the Indian rulers? Give reasons.",
          "Examine how the decline of traditional artisanal industry in colonial India crippled the rural economy.",
          "Assess the main administrative issues and socio-cultural problems in the integration process of Indian Princely States.",
          "“American Revolution was an economic revolt against mercantilism.” Substantiate.",
          "The political and administrative reorganization of states and territories has been a continuous ongoing process since the mid-nineteenth century. Discuss with examples.",
          null
         ],
         "marker": {
          "opacity": 0.5,
          "size": 5
         },
         "mode": "markers+text",
         "name": "1_independence_colonial_industrialization",
         "text": [
          "",
          "",
          "",
          "",
          "",
          "",
          "",
          "",
          "",
          "",
          "",
          "",
          "",
          "",
          "",
          "",
          "",
          "",
          "",
          "",
          "",
          "",
          "",
          "",
          "",
          "",
          "",
          "",
          "",
          "",
          "",
          "1_independence_colonial_industrialization"
         ],
         "textfont": {
          "size": 12
         },
         "type": "scattergl",
         "x": [
          8.648695945739746,
          8.074036598205566,
          8.751300811767578,
          8.577239990234375,
          9.050151824951172,
          8.348666191101074,
          10.028444290161133,
          9.168852806091309,
          8.469945907592773,
          9.550724983215332,
          9.4851713180542,
          9.501564979553223,
          8.197389602661133,
          8.32725715637207,
          9.453668594360352,
          8.342096328735352,
          8.228144645690918,
          9.096397399902344,
          9.04299259185791,
          8.677412986755371,
          8.421466827392578,
          10.701452255249023,
          9.530218124389648,
          8.779082298278809,
          8.118292808532715,
          8.661267280578613,
          8.627260208129883,
          8.232438087463379,
          9.323444366455078,
          8.918391227722168,
          8.066532135009766,
          8.85161304473877
         ],
         "y": [
          8.708733558654785,
          8.54768180847168,
          7.958590984344482,
          8.911355972290039,
          7.826140880584717,
          7.81460428237915,
          9.922809600830078,
          8.599189758300781,
          7.740540981292725,
          8.068066596984863,
          7.99821662902832,
          7.95422887802124,
          8.373183250427246,
          9.020238876342773,
          9.073420524597168,
          8.124946594238281,
          8.852864265441895,
          7.810713768005371,
          8.259649276733398,
          8.633892059326172,
          8.218561172485352,
          9.992707252502441,
          8.022546768188477,
          8.550840377807617,
          8.650525093078613,
          8.563587188720703,
          8.587066650390625,
          9.02359676361084,
          9.840432167053223,
          7.862431049346924,
          10.57574462890625,
          8.583455085754395
         ]
        },
        {
         "hoverinfo": "text",
         "hovertext": [
          "Discuss the main contributions of Gupta period and Chola period to Indian heritage and culture\n.",
          "Chola architecture represents a high watermark in the evolution of temple architecture. Discuss",
          "Pala period is the most significant phase in the history of Buddhism in India. Enumerate.",
          "Early Buddhist Stupa-art, while depicting folk motifs and narratives successfully expounds Buddhist ideals. Elucidate.",
          "How will you explain the medieval Indian temple sculptures represent the social life of those days?",
          "Persian literary sources of medieval India reflect the spirit of the age. Comment.",
          "Mesolithic rock cut architecture of India not only reflects the cultural life of the times but also a fine aesthetic sense comparable to modern painting. Critically evaluate this comment.",
          "How do you justify the view that the level of excellence of the Gupta numismatic art is not at all noticeable in later times?",
          "Gandhara sculpture owed as much to the Romans as to the Greeks. Explain.",
          "The rock-cut architecture represents one of the most important sources of our knowledge of early Indian art and history. Discuss.",
          "Discuss the ‘Tandava’ dance as recorded in early Indian inscriptions.",
          "Highlight the Central Asian and Greco Bactrian elements in the Gandhara art.",
          "Safeguarding the Indian art heritage is the need of the moment.",
          "Discuss the significance of the lion and bull figures in Indian mythology, art and architecture.",
          "Indian Philosophy and tradition played a significant role in conceiving and shaping the monuments and their art in India. Discuss.",
          null
         ],
         "marker": {
          "opacity": 0.5,
          "size": 5
         },
         "mode": "markers+text",
         "name": "2_sculpture_art_aesthetic",
         "text": [
          "",
          "",
          "",
          "",
          "",
          "",
          "",
          "",
          "",
          "",
          "",
          "",
          "",
          "",
          "",
          "2_sculpture_art_aesthetic"
         ],
         "textfont": {
          "size": 12
         },
         "type": "scattergl",
         "x": [
          11.3720121383667,
          11.816112518310547,
          10.402433395385742,
          11.697962760925293,
          11.67910099029541,
          11.34531307220459,
          11.648265838623047,
          11.559679985046387,
          11.740867614746094,
          11.635083198547363,
          11.724588394165039,
          11.683735847473145,
          11.66545295715332,
          11.760891914367676,
          11.450054168701172,
          11.545437812805176
         ],
         "y": [
          10.235177993774414,
          10.235157012939453,
          10.411772727966309,
          10.267571449279785,
          10.258009910583496,
          10.108841896057129,
          10.47198486328125,
          10.278668403625488,
          10.322906494140625,
          10.46519660949707,
          10.202393531799316,
          10.259017944335938,
          10.524093627929688,
          10.344374656677246,
          10.327698707580566,
          10.314190864562988
         ]
        },
        {
         "hoverinfo": "text",
         "hovertext": [
          "Explain why suicide among young women is increasing in Indian Society.",
          "Examine the role of ‘Gig Economy’ in the process of empowerment of women in India.",
          "Discuss the various economic and\nsocio-cultural forces that are driving increasing feminization of agriculture in India.",
          "Discuss the positive and negative effects of globalization on women in India?",
          "‘Women’s movement in India has not addressed the issues of women of lower social strata.’ Substantiate your view.",
          "How does patriarchy impact the position of a middle class working woman in India?",
          "“Male membership needs to be encouraged in order to make women’s organization free from gender bias.” Comment.",
          "The women’s questions arose in modern India as a part of the 19th century social reform movement. What are the major issues and debates concerning women in that period?",
          "How do you explain the statistics that show that the sex ratio in Tribes in India is more favourable to women than the sex ratio among Scheduled Castes?",
          "Why do some of the most prosperous regions of India have an adverse sex ratio for women? Give your arguments.",
          "“Empowering women is the key to control population growth.” Discuss.",
          "Defying the barriers of age, gender and religion, the Indian women became the torchbearer during the struggle for freedom in India. Discuss.",
          "Discuss the role of women in the freedom struggle especially during the Gandhian phase.",
          "What are the continued challenges for women in India against time and space?",
          null
         ],
         "marker": {
          "opacity": 0.5,
          "size": 5
         },
         "mode": "markers+text",
         "name": "3_feminization_woman_patriarchy",
         "text": [
          "",
          "",
          "",
          "",
          "",
          "",
          "",
          "",
          "",
          "",
          "",
          "",
          "",
          "",
          "3_feminization_woman_patriarchy"
         ],
         "textfont": {
          "size": 12
         },
         "type": "scattergl",
         "x": [
          8.36363410949707,
          8.524465560913086,
          8.042317390441895,
          8.305578231811523,
          8.655338287353516,
          8.526779174804688,
          8.323266983032227,
          8.795475006103516,
          8.345756530761719,
          8.322574615478516,
          8.010890007019043,
          9.02480697631836,
          9.198001861572266,
          8.670055389404297,
          8.507781028747559
         ],
         "y": [
          9.670916557312012,
          9.844306945800781,
          9.523927688598633,
          9.842927932739258,
          9.634320259094238,
          9.854970932006836,
          9.768391609191895,
          9.71232795715332,
          9.683494567871094,
          9.693607330322266,
          9.908476829528809,
          9.390196800231934,
          9.344002723693848,
          9.657235145568848,
          9.68065071105957
         ]
        },
        {
         "hoverinfo": "text",
         "hovertext": [
          "In the context of the diversity of India, can it be said that the regions form cultural units rather than the States? Give reasons with examples for your view point.",
          "Examine the uniqueness of tribal knowledge system when compared with mainstream knowledge and cultural systems.",
          "The ancient civilization in Indian sub continent differed from those of Egypt , Mesopotamia and Greece in that its culture and traditions have been preserved without breakdown to the present day. Comment",
          "Is diversity and pluralism in India under threat due to globalisation? Justify your answer.",
          "Do we have cultural pockets of small India all over the nation? Elaborate with examples.",
          "Why is India considered as a sub-continent? Elaborate your answer.",
          "How does Indian society maintain continuity in traditional social values? Enumerate the changes taking place in it.",
          "Has the formation of linguistic States strengthened the cause of Indian Unity?",
          "Do you agree that regionalism in India appears to be a consequence of rising cultural assertiveness? Argue.",
          "Describe any four cultural elements of diversity in India and rate their relative significance in building a national identity.",
          "What makes the Indian society unique in sustaining its culture? Discuss.",
          "To what extent globalization has influenced the core of cultural diversity in India? Explain.",
          "Globalisation is generally said to promote cultural homogenisation but due to this cultural specificities appear to be strengthened in the Indian society.’ Elucidate.",
          "‘Communalism arises either due to power struggle or relative deprivation.’ Argue by giving suitable illustrations.",
          null
         ],
         "marker": {
          "opacity": 0.5,
          "size": 5
         },
         "mode": "markers+text",
         "name": "4_diversity_communalism_cultural",
         "text": [
          "",
          "",
          "",
          "",
          "",
          "",
          "",
          "",
          "",
          "",
          "",
          "",
          "",
          "",
          "4_diversity_communalism_cultural"
         ],
         "textfont": {
          "size": 12
         },
         "type": "scattergl",
         "x": [
          8.663290023803711,
          9.456488609313965,
          9.419326782226562,
          8.887690544128418,
          8.645185470581055,
          8.391095161437988,
          9.77927303314209,
          8.665590286254883,
          8.4938383102417,
          9.166252136230469,
          9.848119735717773,
          8.866157531738281,
          8.938148498535156,
          9.219747543334961,
          9.03144359588623
         ],
         "y": [
          11.062241554260254,
          10.65565299987793,
          11.090205192565918,
          10.943724632263184,
          11.124031066894531,
          11.173763275146484,
          10.443400382995605,
          11.16366958618164,
          11.142934799194336,
          10.687203407287598,
          10.310259819030762,
          10.782965660095215,
          10.912601470947266,
          10.654342651367188,
          10.867642402648926
         ]
        },
        {
         "hoverinfo": "text",
         "hovertext": [
          "Bring out the constructive programmes of Mahatma Gandhi during Non-Cooperation Movement and Civil Disobedience Movement.",
          "The Bhakti movement received a remarkable re-orientation with the advent of Sri Chaitanya Mahaprabhu. Discuss.",
          "Critically examine the compulsions which prompted India to play a decisive role in the emergence of Bangladesh.",
          "How difficult would have been the achievement of Indian independence without Mahatma Gandhi? Discuss.",
          "Critically discuss the objectives of Bhoodan and Gramdan movements initiated by AcharyaVinobhaBhave and their success.",
          "Many voices had strengthened and enriched the nationalist movement during the Gandhian phase. Elaborate.",
          "Throw light on the significance of the thoughts of Mahatma Gandhi in the present times.",
          "What was the difference between Mahatma Gandhi and Rabindranath Tagore in their approach towards education and nationalism?",
          "Highlight the differences in the approach of Subhash Chandra Bose and Mahatma Gandhi in the struggle for freedom.",
          "Mahatma Gandhi and Dr. B R Ambedkar, despite having divergent approaches and strategies, had a common goal of amelioration of the downtrodden. Elucidate.",
          "Write a critical note on the evolution and significance of the slogan, ‘Jai Jawan, Jai Kisan’.",
          "Discuss the contributions of MaulanaAbulKalam Azad to pre- and post-independent India.",
          null
         ],
         "marker": {
          "opacity": 0.5,
          "size": 5
         },
         "mode": "markers+text",
         "name": "5_gandhi_gandhian_mahatma",
         "text": [
          "",
          "",
          "",
          "",
          "",
          "",
          "",
          "",
          "",
          "",
          "",
          "",
          "5_gandhi_gandhian_mahatma"
         ],
         "textfont": {
          "size": 12
         },
         "type": "scattergl",
         "x": [
          10.161454200744629,
          10.541254043579102,
          9.808806419372559,
          10.08450984954834,
          10.526657104492188,
          10.188372611999512,
          10.203390121459961,
          10.15824031829834,
          10.160853385925293,
          10.190933227539062,
          10.31806755065918,
          9.66274356842041,
          10.167106628417969
         ],
         "y": [
          8.563226699829102,
          9.819350242614746,
          9.79224681854248,
          8.60615062713623,
          9.817471504211426,
          8.593925476074219,
          8.560098648071289,
          8.50727653503418,
          8.538503646850586,
          8.565911293029785,
          8.851956367492676,
          8.9371337890625,
          8.929438591003418
         ]
        },
        {
         "hoverinfo": "text",
         "hovertext": [
          "Do you think marriage as a sacrament in loosing its value in Modern India?",
          "Analyze the salience of ‘sect’ in Indian society vis-a-vis caste, region and religion.",
          "How the Indian concept of secularism different from the western model of secularism?\nDiscuss.",
          "Distinguish between religiousness/religiosity and communalism giving one example of how the former has got transformed into the latter in independent India.",
          "How do the Indian debates on secularism differ from the debates in the West?",
          "Customs and traditions suppress reason leading to obscurantism. Do you agree?",
          "Are tolerance, assimilation and pluralism the key elements in the making of an Indian form of secularism? Justify your answer.",
          "What are the main features of Vedic society and religion? Do you think some of the features are still prevailing in Indian society?",
          "What are the challenges to our cultural practices in the name of secularism?",
          null
         ],
         "marker": {
          "opacity": 0.5,
          "size": 5
         },
         "mode": "markers+text",
         "name": "6_secularism_religiousnessreligiosity_religion",
         "text": [
          "",
          "",
          "",
          "",
          "",
          "",
          "",
          "",
          "",
          "6_secularism_religiousnessreligiosity_religion"
         ],
         "textfont": {
          "size": 12
         },
         "type": "scattergl",
         "x": [
          9.893688201904297,
          10.05061149597168,
          10.13984203338623,
          10.015603065490723,
          10.169074058532715,
          9.492466926574707,
          10.158008575439453,
          10.150647163391113,
          10.090580940246582,
          10.017836570739746
         ],
         "y": [
          10.511497497558594,
          10.645552635192871,
          10.87659740447998,
          10.70337200164795,
          10.915582656860352,
          11.170188903808594,
          10.908124923706055,
          10.505511283874512,
          11.017569541931152,
          10.805999755859375
         ]
        },
        {
         "hoverinfo": "text",
         "hovertext": [
          "Given the diversities among the tribal communities in India, in which specific contexts should they be considered as a single category?",
          "How did the colonial rule affect the tribals in India and what was the tribal response to the colonial oppression?",
          "“Caste system is assuming new identities and associational forms. Hence, caste system cannot be eradicated in India.”",
          "Are we losing our local identity for the global identity? Discuss.",
          "Why is caste identity in India both fluid and static?",
          "Why are the tribals in India referred to as 'the Scheduled Tribes? Indicate the major provisions in the Constitution of India for their upliftment.",
          "What are the two major legal initiatives by the State since Independence addressing discrimination against Scheduled Tribes(STs)?",
          null
         ],
         "marker": {
          "opacity": 0.5,
          "size": 5
         },
         "mode": "markers+text",
         "name": "7_tribals_tribal_tribe",
         "text": [
          "",
          "",
          "",
          "",
          "",
          "",
          "",
          "7_tribals_tribal_tribe"
         ],
         "textfont": {
          "size": 12
         },
         "type": "scattergl",
         "x": [
          9.247453689575195,
          8.861191749572754,
          9.54837703704834,
          8.940546035766602,
          9.476022720336914,
          9.337499618530273,
          9.159934043884277,
          9.224432945251465
         ],
         "y": [
          10.45787239074707,
          9.23841667175293,
          10.314453125,
          10.991718292236328,
          10.33459758758545,
          10.162068367004395,
          10.025279998779297,
          10.217772483825684
         ]
        },
        {
         "hoverinfo": "text",
         "hovertext": [
          "Discuss the main objectives of Population Education and point out the measures to achieve them in India in detail.",
          "Child cuddling is now being replaced by mobile phones. Discuss its impact on the socialization of children.",
          "Explore and evaluate the impact of ‘Work From Home’ on family relationships.",
          "Highlight the importance of the new objectives that got added to the vision of Indian Independence since the twenties of the last century.",
          "Defining blue revolution, explain the problems and strategies for pisciculture development in India.",
          "How have digital initiatives in India contributed to the functioning of the education system in the country? Elaborate your answer.",
          null
         ],
         "marker": {
          "opacity": 0.5,
          "size": 5
         },
         "mode": "markers+text",
         "name": "8_socialization_education_achieve",
         "text": [
          "",
          "",
          "",
          "",
          "",
          "",
          "8_socialization_education_achieve"
         ],
         "textfont": {
          "size": 12
         },
         "type": "scattergl",
         "x": [
          7.516921520233154,
          8.455493927001953,
          8.504685401916504,
          9.520797729492188,
          7.280904769897461,
          7.646429061889648,
          8.154205322265625
         ],
         "y": [
          9.833211898803711,
          10.135303497314453,
          10.112112998962402,
          8.878524780273438,
          9.09625244140625,
          9.87938117980957,
          9.655797004699707
         ]
        }
       ],
       "layout": {
        "annotations": [
         {
          "showarrow": false,
          "text": "D1",
          "x": 1.9835624694824219,
          "y": 9.714643800258637,
          "yshift": 10
         },
         {
          "showarrow": false,
          "text": "D2",
          "x": 7.786045932769776,
          "xshift": 10,
          "y": 12.849827766418457
         }
        ],
        "height": 750,
        "shapes": [
         {
          "line": {
           "color": "#CFD8DC",
           "width": 2
          },
          "type": "line",
          "x0": 7.786045932769776,
          "x1": 7.786045932769776,
          "y0": 6.579459834098816,
          "y1": 12.849827766418457
         },
         {
          "line": {
           "color": "#9E9E9E",
           "width": 2
          },
          "type": "line",
          "x0": 1.9835624694824219,
          "x1": 13.58852939605713,
          "y0": 9.714643800258637,
          "y1": 9.714643800258637
         }
        ],
        "template": {
         "data": {
          "bar": [
           {
            "error_x": {
             "color": "rgb(36,36,36)"
            },
            "error_y": {
             "color": "rgb(36,36,36)"
            },
            "marker": {
             "line": {
              "color": "white",
              "width": 0.5
             },
             "pattern": {
              "fillmode": "overlay",
              "size": 10,
              "solidity": 0.2
             }
            },
            "type": "bar"
           }
          ],
          "barpolar": [
           {
            "marker": {
             "line": {
              "color": "white",
              "width": 0.5
             },
             "pattern": {
              "fillmode": "overlay",
              "size": 10,
              "solidity": 0.2
             }
            },
            "type": "barpolar"
           }
          ],
          "carpet": [
           {
            "aaxis": {
             "endlinecolor": "rgb(36,36,36)",
             "gridcolor": "white",
             "linecolor": "white",
             "minorgridcolor": "white",
             "startlinecolor": "rgb(36,36,36)"
            },
            "baxis": {
             "endlinecolor": "rgb(36,36,36)",
             "gridcolor": "white",
             "linecolor": "white",
             "minorgridcolor": "white",
             "startlinecolor": "rgb(36,36,36)"
            },
            "type": "carpet"
           }
          ],
          "choropleth": [
           {
            "colorbar": {
             "outlinewidth": 1,
             "tickcolor": "rgb(36,36,36)",
             "ticks": "outside"
            },
            "type": "choropleth"
           }
          ],
          "contour": [
           {
            "colorbar": {
             "outlinewidth": 1,
             "tickcolor": "rgb(36,36,36)",
             "ticks": "outside"
            },
            "colorscale": [
             [
              0,
              "#440154"
             ],
             [
              0.1111111111111111,
              "#482878"
             ],
             [
              0.2222222222222222,
              "#3e4989"
             ],
             [
              0.3333333333333333,
              "#31688e"
             ],
             [
              0.4444444444444444,
              "#26828e"
             ],
             [
              0.5555555555555556,
              "#1f9e89"
             ],
             [
              0.6666666666666666,
              "#35b779"
             ],
             [
              0.7777777777777778,
              "#6ece58"
             ],
             [
              0.8888888888888888,
              "#b5de2b"
             ],
             [
              1,
              "#fde725"
             ]
            ],
            "type": "contour"
           }
          ],
          "contourcarpet": [
           {
            "colorbar": {
             "outlinewidth": 1,
             "tickcolor": "rgb(36,36,36)",
             "ticks": "outside"
            },
            "type": "contourcarpet"
           }
          ],
          "heatmap": [
           {
            "colorbar": {
             "outlinewidth": 1,
             "tickcolor": "rgb(36,36,36)",
             "ticks": "outside"
            },
            "colorscale": [
             [
              0,
              "#440154"
             ],
             [
              0.1111111111111111,
              "#482878"
             ],
             [
              0.2222222222222222,
              "#3e4989"
             ],
             [
              0.3333333333333333,
              "#31688e"
             ],
             [
              0.4444444444444444,
              "#26828e"
             ],
             [
              0.5555555555555556,
              "#1f9e89"
             ],
             [
              0.6666666666666666,
              "#35b779"
             ],
             [
              0.7777777777777778,
              "#6ece58"
             ],
             [
              0.8888888888888888,
              "#b5de2b"
             ],
             [
              1,
              "#fde725"
             ]
            ],
            "type": "heatmap"
           }
          ],
          "heatmapgl": [
           {
            "colorbar": {
             "outlinewidth": 1,
             "tickcolor": "rgb(36,36,36)",
             "ticks": "outside"
            },
            "colorscale": [
             [
              0,
              "#440154"
             ],
             [
              0.1111111111111111,
              "#482878"
             ],
             [
              0.2222222222222222,
              "#3e4989"
             ],
             [
              0.3333333333333333,
              "#31688e"
             ],
             [
              0.4444444444444444,
              "#26828e"
             ],
             [
              0.5555555555555556,
              "#1f9e89"
             ],
             [
              0.6666666666666666,
              "#35b779"
             ],
             [
              0.7777777777777778,
              "#6ece58"
             ],
             [
              0.8888888888888888,
              "#b5de2b"
             ],
             [
              1,
              "#fde725"
             ]
            ],
            "type": "heatmapgl"
           }
          ],
          "histogram": [
           {
            "marker": {
             "line": {
              "color": "white",
              "width": 0.6
             }
            },
            "type": "histogram"
           }
          ],
          "histogram2d": [
           {
            "colorbar": {
             "outlinewidth": 1,
             "tickcolor": "rgb(36,36,36)",
             "ticks": "outside"
            },
            "colorscale": [
             [
              0,
              "#440154"
             ],
             [
              0.1111111111111111,
              "#482878"
             ],
             [
              0.2222222222222222,
              "#3e4989"
             ],
             [
              0.3333333333333333,
              "#31688e"
             ],
             [
              0.4444444444444444,
              "#26828e"
             ],
             [
              0.5555555555555556,
              "#1f9e89"
             ],
             [
              0.6666666666666666,
              "#35b779"
             ],
             [
              0.7777777777777778,
              "#6ece58"
             ],
             [
              0.8888888888888888,
              "#b5de2b"
             ],
             [
              1,
              "#fde725"
             ]
            ],
            "type": "histogram2d"
           }
          ],
          "histogram2dcontour": [
           {
            "colorbar": {
             "outlinewidth": 1,
             "tickcolor": "rgb(36,36,36)",
             "ticks": "outside"
            },
            "colorscale": [
             [
              0,
              "#440154"
             ],
             [
              0.1111111111111111,
              "#482878"
             ],
             [
              0.2222222222222222,
              "#3e4989"
             ],
             [
              0.3333333333333333,
              "#31688e"
             ],
             [
              0.4444444444444444,
              "#26828e"
             ],
             [
              0.5555555555555556,
              "#1f9e89"
             ],
             [
              0.6666666666666666,
              "#35b779"
             ],
             [
              0.7777777777777778,
              "#6ece58"
             ],
             [
              0.8888888888888888,
              "#b5de2b"
             ],
             [
              1,
              "#fde725"
             ]
            ],
            "type": "histogram2dcontour"
           }
          ],
          "mesh3d": [
           {
            "colorbar": {
             "outlinewidth": 1,
             "tickcolor": "rgb(36,36,36)",
             "ticks": "outside"
            },
            "type": "mesh3d"
           }
          ],
          "parcoords": [
           {
            "line": {
             "colorbar": {
              "outlinewidth": 1,
              "tickcolor": "rgb(36,36,36)",
              "ticks": "outside"
             }
            },
            "type": "parcoords"
           }
          ],
          "pie": [
           {
            "automargin": true,
            "type": "pie"
           }
          ],
          "scatter": [
           {
            "fillpattern": {
             "fillmode": "overlay",
             "size": 10,
             "solidity": 0.2
            },
            "type": "scatter"
           }
          ],
          "scatter3d": [
           {
            "line": {
             "colorbar": {
              "outlinewidth": 1,
              "tickcolor": "rgb(36,36,36)",
              "ticks": "outside"
             }
            },
            "marker": {
             "colorbar": {
              "outlinewidth": 1,
              "tickcolor": "rgb(36,36,36)",
              "ticks": "outside"
             }
            },
            "type": "scatter3d"
           }
          ],
          "scattercarpet": [
           {
            "marker": {
             "colorbar": {
              "outlinewidth": 1,
              "tickcolor": "rgb(36,36,36)",
              "ticks": "outside"
             }
            },
            "type": "scattercarpet"
           }
          ],
          "scattergeo": [
           {
            "marker": {
             "colorbar": {
              "outlinewidth": 1,
              "tickcolor": "rgb(36,36,36)",
              "ticks": "outside"
             }
            },
            "type": "scattergeo"
           }
          ],
          "scattergl": [
           {
            "marker": {
             "colorbar": {
              "outlinewidth": 1,
              "tickcolor": "rgb(36,36,36)",
              "ticks": "outside"
             }
            },
            "type": "scattergl"
           }
          ],
          "scattermapbox": [
           {
            "marker": {
             "colorbar": {
              "outlinewidth": 1,
              "tickcolor": "rgb(36,36,36)",
              "ticks": "outside"
             }
            },
            "type": "scattermapbox"
           }
          ],
          "scatterpolar": [
           {
            "marker": {
             "colorbar": {
              "outlinewidth": 1,
              "tickcolor": "rgb(36,36,36)",
              "ticks": "outside"
             }
            },
            "type": "scatterpolar"
           }
          ],
          "scatterpolargl": [
           {
            "marker": {
             "colorbar": {
              "outlinewidth": 1,
              "tickcolor": "rgb(36,36,36)",
              "ticks": "outside"
             }
            },
            "type": "scatterpolargl"
           }
          ],
          "scatterternary": [
           {
            "marker": {
             "colorbar": {
              "outlinewidth": 1,
              "tickcolor": "rgb(36,36,36)",
              "ticks": "outside"
             }
            },
            "type": "scatterternary"
           }
          ],
          "surface": [
           {
            "colorbar": {
             "outlinewidth": 1,
             "tickcolor": "rgb(36,36,36)",
             "ticks": "outside"
            },
            "colorscale": [
             [
              0,
              "#440154"
             ],
             [
              0.1111111111111111,
              "#482878"
             ],
             [
              0.2222222222222222,
              "#3e4989"
             ],
             [
              0.3333333333333333,
              "#31688e"
             ],
             [
              0.4444444444444444,
              "#26828e"
             ],
             [
              0.5555555555555556,
              "#1f9e89"
             ],
             [
              0.6666666666666666,
              "#35b779"
             ],
             [
              0.7777777777777778,
              "#6ece58"
             ],
             [
              0.8888888888888888,
              "#b5de2b"
             ],
             [
              1,
              "#fde725"
             ]
            ],
            "type": "surface"
           }
          ],
          "table": [
           {
            "cells": {
             "fill": {
              "color": "rgb(237,237,237)"
             },
             "line": {
              "color": "white"
             }
            },
            "header": {
             "fill": {
              "color": "rgb(217,217,217)"
             },
             "line": {
              "color": "white"
             }
            },
            "type": "table"
           }
          ]
         },
         "layout": {
          "annotationdefaults": {
           "arrowhead": 0,
           "arrowwidth": 1
          },
          "autotypenumbers": "strict",
          "coloraxis": {
           "colorbar": {
            "outlinewidth": 1,
            "tickcolor": "rgb(36,36,36)",
            "ticks": "outside"
           }
          },
          "colorscale": {
           "diverging": [
            [
             0,
             "rgb(103,0,31)"
            ],
            [
             0.1,
             "rgb(178,24,43)"
            ],
            [
             0.2,
             "rgb(214,96,77)"
            ],
            [
             0.3,
             "rgb(244,165,130)"
            ],
            [
             0.4,
             "rgb(253,219,199)"
            ],
            [
             0.5,
             "rgb(247,247,247)"
            ],
            [
             0.6,
             "rgb(209,229,240)"
            ],
            [
             0.7,
             "rgb(146,197,222)"
            ],
            [
             0.8,
             "rgb(67,147,195)"
            ],
            [
             0.9,
             "rgb(33,102,172)"
            ],
            [
             1,
             "rgb(5,48,97)"
            ]
           ],
           "sequential": [
            [
             0,
             "#440154"
            ],
            [
             0.1111111111111111,
             "#482878"
            ],
            [
             0.2222222222222222,
             "#3e4989"
            ],
            [
             0.3333333333333333,
             "#31688e"
            ],
            [
             0.4444444444444444,
             "#26828e"
            ],
            [
             0.5555555555555556,
             "#1f9e89"
            ],
            [
             0.6666666666666666,
             "#35b779"
            ],
            [
             0.7777777777777778,
             "#6ece58"
            ],
            [
             0.8888888888888888,
             "#b5de2b"
            ],
            [
             1,
             "#fde725"
            ]
           ],
           "sequentialminus": [
            [
             0,
             "#440154"
            ],
            [
             0.1111111111111111,
             "#482878"
            ],
            [
             0.2222222222222222,
             "#3e4989"
            ],
            [
             0.3333333333333333,
             "#31688e"
            ],
            [
             0.4444444444444444,
             "#26828e"
            ],
            [
             0.5555555555555556,
             "#1f9e89"
            ],
            [
             0.6666666666666666,
             "#35b779"
            ],
            [
             0.7777777777777778,
             "#6ece58"
            ],
            [
             0.8888888888888888,
             "#b5de2b"
            ],
            [
             1,
             "#fde725"
            ]
           ]
          },
          "colorway": [
           "#1F77B4",
           "#FF7F0E",
           "#2CA02C",
           "#D62728",
           "#9467BD",
           "#8C564B",
           "#E377C2",
           "#7F7F7F",
           "#BCBD22",
           "#17BECF"
          ],
          "font": {
           "color": "rgb(36,36,36)"
          },
          "geo": {
           "bgcolor": "white",
           "lakecolor": "white",
           "landcolor": "white",
           "showlakes": true,
           "showland": true,
           "subunitcolor": "white"
          },
          "hoverlabel": {
           "align": "left"
          },
          "hovermode": "closest",
          "mapbox": {
           "style": "light"
          },
          "paper_bgcolor": "white",
          "plot_bgcolor": "white",
          "polar": {
           "angularaxis": {
            "gridcolor": "rgb(232,232,232)",
            "linecolor": "rgb(36,36,36)",
            "showgrid": false,
            "showline": true,
            "ticks": "outside"
           },
           "bgcolor": "white",
           "radialaxis": {
            "gridcolor": "rgb(232,232,232)",
            "linecolor": "rgb(36,36,36)",
            "showgrid": false,
            "showline": true,
            "ticks": "outside"
           }
          },
          "scene": {
           "xaxis": {
            "backgroundcolor": "white",
            "gridcolor": "rgb(232,232,232)",
            "gridwidth": 2,
            "linecolor": "rgb(36,36,36)",
            "showbackground": true,
            "showgrid": false,
            "showline": true,
            "ticks": "outside",
            "zeroline": false,
            "zerolinecolor": "rgb(36,36,36)"
           },
           "yaxis": {
            "backgroundcolor": "white",
            "gridcolor": "rgb(232,232,232)",
            "gridwidth": 2,
            "linecolor": "rgb(36,36,36)",
            "showbackground": true,
            "showgrid": false,
            "showline": true,
            "ticks": "outside",
            "zeroline": false,
            "zerolinecolor": "rgb(36,36,36)"
           },
           "zaxis": {
            "backgroundcolor": "white",
            "gridcolor": "rgb(232,232,232)",
            "gridwidth": 2,
            "linecolor": "rgb(36,36,36)",
            "showbackground": true,
            "showgrid": false,
            "showline": true,
            "ticks": "outside",
            "zeroline": false,
            "zerolinecolor": "rgb(36,36,36)"
           }
          },
          "shapedefaults": {
           "fillcolor": "black",
           "line": {
            "width": 0
           },
           "opacity": 0.3
          },
          "ternary": {
           "aaxis": {
            "gridcolor": "rgb(232,232,232)",
            "linecolor": "rgb(36,36,36)",
            "showgrid": false,
            "showline": true,
            "ticks": "outside"
           },
           "baxis": {
            "gridcolor": "rgb(232,232,232)",
            "linecolor": "rgb(36,36,36)",
            "showgrid": false,
            "showline": true,
            "ticks": "outside"
           },
           "bgcolor": "white",
           "caxis": {
            "gridcolor": "rgb(232,232,232)",
            "linecolor": "rgb(36,36,36)",
            "showgrid": false,
            "showline": true,
            "ticks": "outside"
           }
          },
          "title": {
           "x": 0.05
          },
          "xaxis": {
           "automargin": true,
           "gridcolor": "rgb(232,232,232)",
           "linecolor": "rgb(36,36,36)",
           "showgrid": false,
           "showline": true,
           "ticks": "outside",
           "title": {
            "standoff": 15
           },
           "zeroline": false,
           "zerolinecolor": "rgb(36,36,36)"
          },
          "yaxis": {
           "automargin": true,
           "gridcolor": "rgb(232,232,232)",
           "linecolor": "rgb(36,36,36)",
           "showgrid": false,
           "showline": true,
           "ticks": "outside",
           "title": {
            "standoff": 15
           },
           "zeroline": false,
           "zerolinecolor": "rgb(36,36,36)"
          }
         }
        },
        "title": {
         "font": {
          "color": "Black",
          "size": 22
         },
         "text": "<b>Documents and Topics</b>",
         "x": 0.5,
         "xanchor": "center",
         "yanchor": "top"
        },
        "width": 1200,
        "xaxis": {
         "visible": false
        },
        "yaxis": {
         "visible": false
        }
       }
      }
     },
     "metadata": {},
     "output_type": "display_data"
    }
   ],
   "source": [
    "topic_model.visualize_documents(df['Question'])"
   ]
  },
  {
   "cell_type": "code",
   "execution_count": 25,
   "metadata": {},
   "outputs": [
    {
     "name": "stdout",
     "output_type": "stream",
     "text": [
      "[-1, 5, 0, 0, 0, 0, 0, 6, 3, 8, 6, 1, 7, 0, -1, 0, 0, 0, 7, -1, 2, 1, 1, 0, 0, 0, 0, 8, 0, 7, 1, 2, 2, 0, 0, 0, 0, 6, 6, 0, -1, -1, 1, 0, 0, 0, 0, 4, 4, 3, 1, 5, 1, 0, 0, 0, 0, 8, 0, 4, 2, 2, 1, 0, 0, 0, 0, -1, 0, 4, 2, 2, 1, 0, -1, 0, 0, 4, 6, 8, 2, 1, 1, 0, 0, 0, 0, 4, 3, 6, 5, 1, 1, 0, 0, 0, 0, 4, 3, 7, 2, -1, 5, 0, 0, 0, 0, 7, 0, 6, 5, 0, -1, 0, 8, 0, 0, 3, 4, 4, 2, 1, 1, 1, 0, 0, 0, 0, 4, 7, -1, 1, 8, 0, 0, 0, 0, 3, 6, 0, 2, -1, 1, 3, 5, 4, 1, 4, 0, 7, 0, 0, 0, 0, 0, 0, 0, 0, 0, 0, 4, 2, 5, 5, -1, 1, 1, 4, 0, 3, 0, 3, -1, 0, -1, 0, 0, 0, 0, 0, 0, 2, -1, -1, -1, 1, 1, 1, 1, 1, 3, 3, 0, 3, 6, 0, 0, -1, 0, 0, 0, 0, 0, 0, 0, 1, 2, 2, 3, 1, -1, 5, 5, 5, 1, 5, 1, 0, 1, 0, 0, 3, 0, 0, 0, 0, 0, 0, 0, 0, 0, 0, 0, 0, 0]\n"
     ]
    }
   ],
   "source": [
    "print(topics)"
   ]
  },
  {
   "cell_type": "code",
   "execution_count": 26,
   "metadata": {},
   "outputs": [],
   "source": [
    "df['Topic_Number'] = topics"
   ]
  },
  {
   "cell_type": "code",
   "execution_count": 27,
   "metadata": {},
   "outputs": [
    {
     "data": {
      "text/html": [
       "<div>\n",
       "<style scoped>\n",
       "    .dataframe tbody tr th:only-of-type {\n",
       "        vertical-align: middle;\n",
       "    }\n",
       "\n",
       "    .dataframe tbody tr th {\n",
       "        vertical-align: top;\n",
       "    }\n",
       "\n",
       "    .dataframe thead th {\n",
       "        text-align: right;\n",
       "    }\n",
       "</style>\n",
       "<table border=\"1\" class=\"dataframe\">\n",
       "  <thead>\n",
       "    <tr style=\"text-align: right;\">\n",
       "      <th></th>\n",
       "      <th>Year</th>\n",
       "      <th>Question</th>\n",
       "      <th>processed_questions</th>\n",
       "      <th>Topic_Number</th>\n",
       "    </tr>\n",
       "  </thead>\n",
       "  <tbody>\n",
       "    <tr>\n",
       "      <th>217</th>\n",
       "      <td>2013</td>\n",
       "      <td>“Africa was chopped into states artificially c...</td>\n",
       "      <td>africa chopped state artificially created acci...</td>\n",
       "      <td>0</td>\n",
       "    </tr>\n",
       "    <tr>\n",
       "      <th>156</th>\n",
       "      <td>2016</td>\n",
       "      <td>Major cities of India are becoming more vulner...</td>\n",
       "      <td>major city becoming vulnerable flood condition</td>\n",
       "      <td>0</td>\n",
       "    </tr>\n",
       "    <tr>\n",
       "      <th>190</th>\n",
       "      <td>2014</td>\n",
       "      <td>How does patriarchy impact the position of a m...</td>\n",
       "      <td>patriarchy impact position middle class workin...</td>\n",
       "      <td>3</td>\n",
       "    </tr>\n",
       "    <tr>\n",
       "      <th>45</th>\n",
       "      <td>2021</td>\n",
       "      <td>what are the environmental implications of the...</td>\n",
       "      <td>environmental implication reclamation water bo...</td>\n",
       "      <td>0</td>\n",
       "    </tr>\n",
       "    <tr>\n",
       "      <th>56</th>\n",
       "      <td>2021</td>\n",
       "      <td>What are the main socio-economic implications ...</td>\n",
       "      <td>main socioeconomic implication arising develop...</td>\n",
       "      <td>0</td>\n",
       "    </tr>\n",
       "  </tbody>\n",
       "</table>\n",
       "</div>"
      ],
      "text/plain": [
       "     Year                                           Question  \\\n",
       "217  2013  “Africa was chopped into states artificially c...   \n",
       "156  2016  Major cities of India are becoming more vulner...   \n",
       "190  2014  How does patriarchy impact the position of a m...   \n",
       "45   2021  what are the environmental implications of the...   \n",
       "56   2021  What are the main socio-economic implications ...   \n",
       "\n",
       "                                   processed_questions  Topic_Number  \n",
       "217  africa chopped state artificially created acci...             0  \n",
       "156     major city becoming vulnerable flood condition             0  \n",
       "190  patriarchy impact position middle class workin...             3  \n",
       "45   environmental implication reclamation water bo...             0  \n",
       "56   main socioeconomic implication arising develop...             0  "
      ]
     },
     "execution_count": 27,
     "metadata": {},
     "output_type": "execute_result"
    }
   ],
   "source": [
    "df.sample(5)"
   ]
  },
  {
   "cell_type": "code",
   "execution_count": 28,
   "metadata": {},
   "outputs": [
    {
     "data": {
      "text/html": [
       "<div>\n",
       "<style scoped>\n",
       "    .dataframe tbody tr th:only-of-type {\n",
       "        vertical-align: middle;\n",
       "    }\n",
       "\n",
       "    .dataframe tbody tr th {\n",
       "        vertical-align: top;\n",
       "    }\n",
       "\n",
       "    .dataframe thead th {\n",
       "        text-align: right;\n",
       "    }\n",
       "</style>\n",
       "<table border=\"1\" class=\"dataframe\">\n",
       "  <thead>\n",
       "    <tr style=\"text-align: right;\">\n",
       "      <th></th>\n",
       "      <th>Year</th>\n",
       "      <th>Question</th>\n",
       "      <th>processed_questions</th>\n",
       "      <th>Topic_Number</th>\n",
       "      <th>Topic</th>\n",
       "    </tr>\n",
       "  </thead>\n",
       "  <tbody>\n",
       "    <tr>\n",
       "      <th>0</th>\n",
       "      <td>2023</td>\n",
       "      <td>Explain the role of geographical factors towar...</td>\n",
       "      <td>geographical factor towards development ancient</td>\n",
       "      <td>-1</td>\n",
       "      <td>hindu delhi kolkata krishnadeva</td>\n",
       "    </tr>\n",
       "    <tr>\n",
       "      <th>1</th>\n",
       "      <td>2023</td>\n",
       "      <td>What was the difference between Mahatma Gandhi...</td>\n",
       "      <td>difference mahatma gandhi rabindranath tagore ...</td>\n",
       "      <td>5</td>\n",
       "      <td>gandhi gandhian mahatma rabindranath</td>\n",
       "    </tr>\n",
       "    <tr>\n",
       "      <th>2</th>\n",
       "      <td>2023</td>\n",
       "      <td>Bring out the socio-economic effects of the in...</td>\n",
       "      <td>bring socioeconomic effect introduction railwa...</td>\n",
       "      <td>0</td>\n",
       "      <td>climate ocean monsoon sea</td>\n",
       "    </tr>\n",
       "    <tr>\n",
       "      <th>3</th>\n",
       "      <td>2023</td>\n",
       "      <td>Discuss the consequences of climate change on ...</td>\n",
       "      <td>consequence climate change food tropical country</td>\n",
       "      <td>0</td>\n",
       "      <td>climate ocean monsoon sea</td>\n",
       "    </tr>\n",
       "    <tr>\n",
       "      <th>4</th>\n",
       "      <td>2023</td>\n",
       "      <td>Why is the world today confronted with a crisi...</td>\n",
       "      <td>world today confronted crisis availability acc...</td>\n",
       "      <td>0</td>\n",
       "      <td>climate ocean monsoon sea</td>\n",
       "    </tr>\n",
       "  </tbody>\n",
       "</table>\n",
       "</div>"
      ],
      "text/plain": [
       "   Year                                           Question  \\\n",
       "0  2023  Explain the role of geographical factors towar...   \n",
       "1  2023  What was the difference between Mahatma Gandhi...   \n",
       "2  2023  Bring out the socio-economic effects of the in...   \n",
       "3  2023  Discuss the consequences of climate change on ...   \n",
       "4  2023  Why is the world today confronted with a crisi...   \n",
       "\n",
       "                                 processed_questions  Topic_Number  \\\n",
       "0    geographical factor towards development ancient            -1   \n",
       "1  difference mahatma gandhi rabindranath tagore ...             5   \n",
       "2  bring socioeconomic effect introduction railwa...             0   \n",
       "3   consequence climate change food tropical country             0   \n",
       "4  world today confronted crisis availability acc...             0   \n",
       "\n",
       "                                  Topic  \n",
       "0       hindu delhi kolkata krishnadeva  \n",
       "1  gandhi gandhian mahatma rabindranath  \n",
       "2             climate ocean monsoon sea  \n",
       "3             climate ocean monsoon sea  \n",
       "4             climate ocean monsoon sea  "
      ]
     },
     "execution_count": 28,
     "metadata": {},
     "output_type": "execute_result"
    }
   ],
   "source": [
    "\n",
    "df['Topic'] = df['Topic_Number'].apply(lambda x: \" \".join(topic_model.get_topic_info(topic=x)['Name'].iloc[0].split('_')[1:]))\n",
    "\n",
    "# Display the first few rows of the DataFrame\n",
    "df.head()"
   ]
  },
  {
   "cell_type": "code",
   "execution_count": 29,
   "metadata": {},
   "outputs": [
    {
     "data": {
      "image/png": "[encoded data removed]",
      "text/plain": [
       "<Figure size 1200x800 with 1 Axes>"
      ]
     },
     "metadata": {},
     "output_type": "display_data"
    }
   ],
   "source": [
    "import matplotlib.pyplot as plt\n",
    "import matplotlib.colors as mcolors\n",
    "\n",
    "# Assuming df is your DataFrame and it now includes a 'Topic' column after categorization\n",
    "\n",
    "# Step 2: Count questions per topic per year\n",
    "topic_year_counts = df.groupby(['Year', 'Topic']).size().reset_index(name='Count')\n",
    "\n",
    "# Calculate the total number of questions per year\n",
    "total_questions_per_year = topic_year_counts.groupby('Year')['Count'].transform('sum')\n",
    "\n",
    "# Calculate the proportion of questions per topic per year\n",
    "topic_year_counts['Proportion'] = topic_year_counts['Count'] / total_questions_per_year\n",
    "\n",
    "# Step 3: Prepare data for plotting (normalized)\n",
    "pivot_table = topic_year_counts.pivot(index='Year', columns='Topic', values='Proportion')\n",
    "\n",
    "# Generate a list of colors from a colormap\n",
    "num_topics = len(pivot_table.columns)\n",
    "colors = plt.get_cmap('tab20', num_topics)\n",
    "\n",
    "# Step 4: Plot the normalized data with different colors for each topic\n",
    "pivot_table.plot(kind='bar', stacked=True, figsize=(12, 8), color=[colors(i) for i in range(num_topics)])\n",
    "\n",
    "# Step 5: Customize the plot\n",
    "plt.xlabel('Year')\n",
    "plt.ylabel('Proportion of Questions')\n",
    "plt.title('Proportion of Questions per Topic per Year')\n",
    "plt.legend(title='Topic', loc='best', bbox_to_anchor=(0.5, -0.15), ncol=1, fancybox=True, shadow=True)\n",
    "plt.tight_layout()\n",
    "plt.subplots_adjust(bottom=0.2)\n",
    "plt.show()"
   ]
  },
  {
   "cell_type": "code",
   "execution_count": null,
   "metadata": {},
   "outputs": [],
   "source": []
  }
 ],
 "metadata": {
  "kernelspec": {
   "display_name": "venv",
   "language": "python",
   "name": "python3"
  },
  "language_info": {
   "codemirror_mode": {
    "name": "ipython",
    "version": 3
   },
   "file_extension": ".py",
   "mimetype": "text/x-python",
   "name": "python",
   "nbconvert_exporter": "python",
   "pygments_lexer": "ipython3",
   "version": "3.12.0"
  }
 },
 "nbformat": 4,
 "nbformat_minor": 2
}

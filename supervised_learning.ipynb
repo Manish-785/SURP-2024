{
 "cells": [
  {
   "cell_type": "code",
   "execution_count": 1,
   "metadata": {},
   "outputs": [
    {
     "name": "stderr",
     "output_type": "stream",
     "text": [
      "e:\\repos\\SURP-2024\\venv\\Lib\\site-packages\\tqdm\\auto.py:21: TqdmWarning: IProgress not found. Please update jupyter and ipywidgets. See https://ipywidgets.readthedocs.io/en/stable/user_install.html\n",
      "  from .autonotebook import tqdm as notebook_tqdm\n"
     ]
    }
   ],
   "source": [
    "import pandas as pd\n",
    "from bertopic import BERTopic"
   ]
  },
  {
   "cell_type": "code",
   "execution_count": 2,
   "metadata": {},
   "outputs": [],
   "source": [
    "import warnings\n",
    "warnings.filterwarnings(\"ignore\")"
   ]
  },
  {
   "cell_type": "code",
   "execution_count": 3,
   "metadata": {},
   "outputs": [
    {
     "data": {
      "text/html": [
       "<div>\n",
       "<style scoped>\n",
       "    .dataframe tbody tr th:only-of-type {\n",
       "        vertical-align: middle;\n",
       "    }\n",
       "\n",
       "    .dataframe tbody tr th {\n",
       "        vertical-align: top;\n",
       "    }\n",
       "\n",
       "    .dataframe thead th {\n",
       "        text-align: right;\n",
       "    }\n",
       "</style>\n",
       "<table border=\"1\" class=\"dataframe\">\n",
       "  <thead>\n",
       "    <tr style=\"text-align: right;\">\n",
       "      <th></th>\n",
       "      <th>Year</th>\n",
       "      <th>Question</th>\n",
       "      <th>Subject</th>\n",
       "      <th>Sub-Topic</th>\n",
       "    </tr>\n",
       "  </thead>\n",
       "  <tbody>\n",
       "    <tr>\n",
       "      <th>189</th>\n",
       "      <td>2014</td>\n",
       "      <td>The New Economic Policy – 1921 of Lenin had in...</td>\n",
       "      <td>History</td>\n",
       "      <td>Post-independe nce Period</td>\n",
       "    </tr>\n",
       "    <tr>\n",
       "      <th>18</th>\n",
       "      <td>2023</td>\n",
       "      <td>Why is caste identity in India both fluid and ...</td>\n",
       "      <td>Indian Society</td>\n",
       "      <td>Communalism, Regionalism &amp; Secularism</td>\n",
       "    </tr>\n",
       "    <tr>\n",
       "      <th>218</th>\n",
       "      <td>2013</td>\n",
       "      <td>“American Revolution was an economic revolt ag...</td>\n",
       "      <td>History</td>\n",
       "      <td>Colonization and decolonization</td>\n",
       "    </tr>\n",
       "  </tbody>\n",
       "</table>\n",
       "</div>"
      ],
      "text/plain": [
       "     Year                                           Question         Subject  \\\n",
       "189  2014  The New Economic Policy – 1921 of Lenin had in...         History   \n",
       "18   2023  Why is caste identity in India both fluid and ...  Indian Society   \n",
       "218  2013  “American Revolution was an economic revolt ag...         History   \n",
       "\n",
       "                                 Sub-Topic  \n",
       "189              Post-independe nce Period  \n",
       "18   Communalism, Regionalism & Secularism  \n",
       "218        Colonization and decolonization  "
      ]
     },
     "execution_count": 3,
     "metadata": {},
     "output_type": "execute_result"
    }
   ],
   "source": [
    "df = pd.read_excel('GS1.xlsx')\n",
    "df.sample(3)"
   ]
  },
  {
   "cell_type": "code",
   "execution_count": 6,
   "metadata": {},
   "outputs": [],
   "source": [
    "questions = df['Question'].values.tolist()\n",
    "subjects = df['Subject'].values.tolist()"
   ]
  },
  {
   "cell_type": "code",
   "execution_count": 7,
   "metadata": {},
   "outputs": [],
   "source": [
    "unique_subjects = list(set(subjects))"
   ]
  },
  {
   "cell_type": "code",
   "execution_count": 8,
   "metadata": {},
   "outputs": [
    {
     "data": {
      "text/plain": [
       "['Indian Art and Culture', 'History', 'Geography', 'Indian Society']"
      ]
     },
     "execution_count": 8,
     "metadata": {},
     "output_type": "execute_result"
    }
   ],
   "source": [
    "unique_subjects"
   ]
  },
  {
   "cell_type": "code",
   "execution_count": 14,
   "metadata": {},
   "outputs": [],
   "source": [
    "from sklearn.preprocessing import LabelEncoder\n",
    "labelencoder = LabelEncoder()\n",
    "sub_topics_encoded = labelencoder.fit_transform(subjects)\n"
   ]
  },
  {
   "cell_type": "code",
   "execution_count": 15,
   "metadata": {},
   "outputs": [
    {
     "data": {
      "text/plain": [
       "array([1, 1, 1, 0, 0, 0, 0, 3, 3, 3, 1, 1, 1, 0, 0, 0, 0, 3, 3, 3, 1, 1,\n",
       "       1, 0, 0, 0, 0, 3, 3, 3, 1, 1, 1, 0, 0, 0, 0, 1, 3, 3, 1, 1, 1, 0,\n",
       "       0, 3, 0, 0, 3, 3, 1, 1, 1, 0, 0, 0, 0, 3, 3, 3, 1, 1, 1, 0, 0, 0,\n",
       "       0, 3, 3, 3, 1, 1, 1, 0, 0, 0, 0, 3, 3, 3, 1, 1, 1, 0, 0, 0, 0, 3,\n",
       "       3, 3, 1, 1, 1, 0, 0, 0, 0, 3, 3, 3, 2, 1, 1, 0, 0, 0, 0, 3, 3, 3,\n",
       "       1, 1, 1, 0, 0, 0, 0, 3, 3, 3, 2, 1, 1, 1, 0, 0, 0, 0, 3, 3, 3, 1,\n",
       "       1, 0, 0, 0, 0, 3, 3, 3, 2, 1, 1, 1, 1, 1, 1, 3, 3, 3, 3, 3, 0, 0,\n",
       "       0, 0, 0, 0, 0, 0, 2, 2, 1, 1, 1, 1, 1, 3, 3, 3, 3, 3, 3, 0, 0, 0,\n",
       "       0, 0, 0, 0, 2, 2, 1, 1, 1, 1, 1, 1, 1, 1, 3, 3, 3, 0, 0, 0, 0, 0,\n",
       "       0, 0, 0, 0, 0, 0, 0, 2, 2, 2, 1, 1, 1, 1, 1, 1, 1, 1, 1, 1, 1, 1,\n",
       "       3, 3, 3, 3, 0, 0, 0, 0, 0, 0, 0, 0, 0, 0, 0], dtype=int64)"
      ]
     },
     "execution_count": 15,
     "metadata": {},
     "output_type": "execute_result"
    }
   ],
   "source": [
    "sub_topics_encoded"
   ]
  },
  {
   "cell_type": "code",
   "execution_count": 11,
   "metadata": {},
   "outputs": [
    {
     "data": {
      "text/plain": [
       "'Explain the role of geographical factors towards the development of Ancient India.'"
      ]
     },
     "execution_count": 11,
     "metadata": {},
     "output_type": "execute_result"
    }
   ],
   "source": [
    "questions[0]"
   ]
  },
  {
   "cell_type": "code",
   "execution_count": 12,
   "metadata": {},
   "outputs": [],
   "source": [
    "model = BERTopic(language=\"english\", calculate_probabilities=True)"
   ]
  },
  {
   "cell_type": "code",
   "execution_count": 13,
   "metadata": {},
   "outputs": [],
   "source": [
    "from sentence_transformers import SentenceTransformer\n",
    "sentence_model = SentenceTransformer('all-mpnet-base-v2')\n",
    "\n",
    "\n",
    "from bertopic.representation import KeyBERTInspired\n",
    "from bertopic.representation import MaximalMarginalRelevance\n",
    "from bertopic.representation import PartOfSpeech\n",
    "representation = [PartOfSpeech(\"en_core_web_sm\"),MaximalMarginalRelevance(diversity=0.2),KeyBERTInspired(top_n_words=30)]\n",
    "\n",
    "\n",
    "from sklearn.feature_extraction.text import CountVectorizer\n",
    "vectorizer_model = CountVectorizer(stop_words=\"english\", ngram_range=(1, 3))\n",
    "\n",
    "from bertopic.vectorizers import ClassTfidfTransformer\n",
    "ctfidf_model = ClassTfidfTransformer(bm25_weighting=True,reduce_frequent_words=True)\n",
    "\n",
    "model = BERTopic(embedding_model=sentence_model,vectorizer_model=vectorizer_model,representation_model=representation,ctfidf_model=ctfidf_model,verbose=True,calculate_probabilities=True, nr_topics='auto', min_topic_size=5)\n",
    "\n"
   ]
  },
  {
   "cell_type": "code",
   "execution_count": 16,
   "metadata": {},
   "outputs": [
    {
     "name": "stderr",
     "output_type": "stream",
     "text": [
      "2024-07-17 17:19:06,825 - BERTopic - Embedding - Transforming documents to embeddings.\n"
     ]
    },
    {
     "name": "stderr",
     "output_type": "stream",
     "text": [
      "Batches: 100%|██████████| 8/8 [00:15<00:00,  1.93s/it]\n",
      "2024-07-17 17:19:22,352 - BERTopic - Embedding - Completed ✓\n",
      "2024-07-17 17:19:22,352 - BERTopic - Dimensionality - Fitting the dimensionality reduction algorithm\n",
      "2024-07-17 17:19:52,895 - BERTopic - Dimensionality - Completed ✓\n",
      "2024-07-17 17:19:52,897 - BERTopic - Cluster - Start clustering the reduced embeddings\n",
      "2024-07-17 17:19:52,957 - BERTopic - Cluster - Completed ✓\n",
      "2024-07-17 17:19:52,958 - BERTopic - Representation - Extracting topics from clusters using representation models.\n",
      "2024-07-17 17:20:00,678 - BERTopic - Representation - Completed ✓\n",
      "2024-07-17 17:20:00,679 - BERTopic - Topic reduction - Reducing number of topics\n",
      "2024-07-17 17:20:08,129 - BERTopic - Topic reduction - Reduced number of topics from 4 to 4\n"
     ]
    }
   ],
   "source": [
    "topics, probs = model.fit_transform(questions, y = sub_topics_encoded)"
   ]
  },
  {
   "cell_type": "code",
   "execution_count": 17,
   "metadata": {},
   "outputs": [
    {
     "data": {
      "text/html": [
       "<div>\n",
       "<style scoped>\n",
       "    .dataframe tbody tr th:only-of-type {\n",
       "        vertical-align: middle;\n",
       "    }\n",
       "\n",
       "    .dataframe tbody tr th {\n",
       "        vertical-align: top;\n",
       "    }\n",
       "\n",
       "    .dataframe thead th {\n",
       "        text-align: right;\n",
       "    }\n",
       "</style>\n",
       "<table border=\"1\" class=\"dataframe\">\n",
       "  <thead>\n",
       "    <tr style=\"text-align: right;\">\n",
       "      <th></th>\n",
       "      <th>Topic</th>\n",
       "      <th>Count</th>\n",
       "      <th>Name</th>\n",
       "      <th>Representation</th>\n",
       "      <th>Representative_Docs</th>\n",
       "    </tr>\n",
       "  </thead>\n",
       "  <tbody>\n",
       "    <tr>\n",
       "      <th>0</th>\n",
       "      <td>0</td>\n",
       "      <td>93</td>\n",
       "      <td>0_resources india_india discuss_development in...</td>\n",
       "      <td>[resources india, india discuss, development i...</td>\n",
       "      <td>[The interlinking of rivers can provide viable...</td>\n",
       "    </tr>\n",
       "    <tr>\n",
       "      <th>1</th>\n",
       "      <td>1</td>\n",
       "      <td>72</td>\n",
       "      <td>1_indian independence_india discuss_colonial i...</td>\n",
       "      <td>[indian independence, india discuss, colonial ...</td>\n",
       "      <td>[Why did the armies of the British East India ...</td>\n",
       "    </tr>\n",
       "    <tr>\n",
       "      <th>2</th>\n",
       "      <td>2</td>\n",
       "      <td>60</td>\n",
       "      <td>2_indian society maintain_indian society_diver...</td>\n",
       "      <td>[indian society maintain, indian society, dive...</td>\n",
       "      <td>[Globalisation is generally said to promote cu...</td>\n",
       "    </tr>\n",
       "    <tr>\n",
       "      <th>3</th>\n",
       "      <td>3</td>\n",
       "      <td>10</td>\n",
       "      <td>3_indus valley civilization_planning culture i...</td>\n",
       "      <td>[indus valley civilization, planning culture i...</td>\n",
       "      <td>[The ancient civilization in Indian sub contin...</td>\n",
       "    </tr>\n",
       "  </tbody>\n",
       "</table>\n",
       "</div>"
      ],
      "text/plain": [
       "   Topic  Count                                               Name  \\\n",
       "0      0     93  0_resources india_india discuss_development in...   \n",
       "1      1     72  1_indian independence_india discuss_colonial i...   \n",
       "2      2     60  2_indian society maintain_indian society_diver...   \n",
       "3      3     10  3_indus valley civilization_planning culture i...   \n",
       "\n",
       "                                      Representation  \\\n",
       "0  [resources india, india discuss, development i...   \n",
       "1  [indian independence, india discuss, colonial ...   \n",
       "2  [indian society maintain, indian society, dive...   \n",
       "3  [indus valley civilization, planning culture i...   \n",
       "\n",
       "                                 Representative_Docs  \n",
       "0  [The interlinking of rivers can provide viable...  \n",
       "1  [Why did the armies of the British East India ...  \n",
       "2  [Globalisation is generally said to promote cu...  \n",
       "3  [The ancient civilization in Indian sub contin...  "
      ]
     },
     "execution_count": 17,
     "metadata": {},
     "output_type": "execute_result"
    }
   ],
   "source": [
    "model.get_topic_info()"
   ]
  },
  {
   "cell_type": "code",
   "execution_count": 18,
   "metadata": {},
   "outputs": [
    {
     "data": {
      "application/vnd.plotly.v1+json": {
       "config": {
        "plotlyServerURL": "https://plot.ly"
       },
       "data": [
        {
         "customdata": [
          [
           0,
           "resources india | india discuss | development india | water resources | india explain",
           93
          ],
          [
           1,
           "indian independence | india discuss | colonial india | british india | india mid eighteenth",
           72
          ],
          [
           2,
           "indian society maintain | indian society | diversity india | modern india | women india",
           60
          ],
          [
           3,
           "indus valley civilization | planning culture indus | india sangam literature | inscriptions chola architecture | temple architecture discuss",
           10
          ]
         ],
         "hovertemplate": "<b>Topic %{customdata[0]}</b><br>%{customdata[1]}<br>Size: %{customdata[2]}",
         "legendgroup": "",
         "marker": {
          "color": "#B0BEC5",
          "line": {
           "color": "DarkSlateGrey",
           "width": 2
          },
          "size": [
           93,
           72,
           60,
           10
          ],
          "sizemode": "area",
          "sizeref": 0.058125,
          "symbol": "circle"
         },
         "mode": "markers",
         "name": "",
         "orientation": "v",
         "showlegend": false,
         "type": "scatter",
         "x": [
          20.9976749420166,
          20.60302734375,
          21.42865753173828,
          20.70212745666504
         ],
         "xaxis": "x",
         "y": [
          -8.78504753112793,
          -10.060688972473145,
          -9.421440124511719,
          -10.725686073303223
         ],
         "yaxis": "y"
        }
       ],
       "layout": {
        "annotations": [
         {
          "showarrow": false,
          "text": "D1",
          "x": 17.5125732421875,
          "y": -9.900914692878723,
          "yshift": 10
         },
         {
          "showarrow": false,
          "text": "D2",
          "x": 21.07776470184326,
          "xshift": 10,
          "y": -7.46729040145874
         }
        ],
        "height": 650,
        "hoverlabel": {
         "bgcolor": "white",
         "font": {
          "family": "Rockwell",
          "size": 16
         }
        },
        "legend": {
         "itemsizing": "constant",
         "tracegroupgap": 0
        },
        "margin": {
         "t": 60
        },
        "shapes": [
         {
          "line": {
           "color": "#CFD8DC",
           "width": 2
          },
          "type": "line",
          "x0": 21.07776470184326,
          "x1": 21.07776470184326,
          "y0": -12.334538984298707,
          "y1": -7.46729040145874
         },
         {
          "line": {
           "color": "#9E9E9E",
           "width": 2
          },
          "type": "line",
          "x0": 17.5125732421875,
          "x1": 24.642956161499022,
          "y0": -9.900914692878723,
          "y1": -9.900914692878723
         }
        ],
        "sliders": [
         {
          "active": 0,
          "pad": {
           "t": 50
          },
          "steps": [
           {
            "args": [
             {
              "marker.color": [
               [
                "red",
                "#B0BEC5",
                "#B0BEC5",
                "#B0BEC5"
               ]
              ]
             }
            ],
            "label": "Topic 0",
            "method": "update"
           },
           {
            "args": [
             {
              "marker.color": [
               [
                "#B0BEC5",
                "red",
                "#B0BEC5",
                "#B0BEC5"
               ]
              ]
             }
            ],
            "label": "Topic 1",
            "method": "update"
           },
           {
            "args": [
             {
              "marker.color": [
               [
                "#B0BEC5",
                "#B0BEC5",
                "red",
                "#B0BEC5"
               ]
              ]
             }
            ],
            "label": "Topic 2",
            "method": "update"
           },
           {
            "args": [
             {
              "marker.color": [
               [
                "#B0BEC5",
                "#B0BEC5",
                "#B0BEC5",
                "red"
               ]
              ]
             }
            ],
            "label": "Topic 3",
            "method": "update"
           }
          ]
         }
        ],
        "template": {
         "data": {
          "bar": [
           {
            "error_x": {
             "color": "rgb(36,36,36)"
            },
            "error_y": {
             "color": "rgb(36,36,36)"
            },
            "marker": {
             "line": {
              "color": "white",
              "width": 0.5
             },
             "pattern": {
              "fillmode": "overlay",
              "size": 10,
              "solidity": 0.2
             }
            },
            "type": "bar"
           }
          ],
          "barpolar": [
           {
            "marker": {
             "line": {
              "color": "white",
              "width": 0.5
             },
             "pattern": {
              "fillmode": "overlay",
              "size": 10,
              "solidity": 0.2
             }
            },
            "type": "barpolar"
           }
          ],
          "carpet": [
           {
            "aaxis": {
             "endlinecolor": "rgb(36,36,36)",
             "gridcolor": "white",
             "linecolor": "white",
             "minorgridcolor": "white",
             "startlinecolor": "rgb(36,36,36)"
            },
            "baxis": {
             "endlinecolor": "rgb(36,36,36)",
             "gridcolor": "white",
             "linecolor": "white",
             "minorgridcolor": "white",
             "startlinecolor": "rgb(36,36,36)"
            },
            "type": "carpet"
           }
          ],
          "choropleth": [
           {
            "colorbar": {
             "outlinewidth": 1,
             "tickcolor": "rgb(36,36,36)",
             "ticks": "outside"
            },
            "type": "choropleth"
           }
          ],
          "contour": [
           {
            "colorbar": {
             "outlinewidth": 1,
             "tickcolor": "rgb(36,36,36)",
             "ticks": "outside"
            },
            "colorscale": [
             [
              0,
              "#440154"
             ],
             [
              0.1111111111111111,
              "#482878"
             ],
             [
              0.2222222222222222,
              "#3e4989"
             ],
             [
              0.3333333333333333,
              "#31688e"
             ],
             [
              0.4444444444444444,
              "#26828e"
             ],
             [
              0.5555555555555556,
              "#1f9e89"
             ],
             [
              0.6666666666666666,
              "#35b779"
             ],
             [
              0.7777777777777778,
              "#6ece58"
             ],
             [
              0.8888888888888888,
              "#b5de2b"
             ],
             [
              1,
              "#fde725"
             ]
            ],
            "type": "contour"
           }
          ],
          "contourcarpet": [
           {
            "colorbar": {
             "outlinewidth": 1,
             "tickcolor": "rgb(36,36,36)",
             "ticks": "outside"
            },
            "type": "contourcarpet"
           }
          ],
          "heatmap": [
           {
            "colorbar": {
             "outlinewidth": 1,
             "tickcolor": "rgb(36,36,36)",
             "ticks": "outside"
            },
            "colorscale": [
             [
              0,
              "#440154"
             ],
             [
              0.1111111111111111,
              "#482878"
             ],
             [
              0.2222222222222222,
              "#3e4989"
             ],
             [
              0.3333333333333333,
              "#31688e"
             ],
             [
              0.4444444444444444,
              "#26828e"
             ],
             [
              0.5555555555555556,
              "#1f9e89"
             ],
             [
              0.6666666666666666,
              "#35b779"
             ],
             [
              0.7777777777777778,
              "#6ece58"
             ],
             [
              0.8888888888888888,
              "#b5de2b"
             ],
             [
              1,
              "#fde725"
             ]
            ],
            "type": "heatmap"
           }
          ],
          "heatmapgl": [
           {
            "colorbar": {
             "outlinewidth": 1,
             "tickcolor": "rgb(36,36,36)",
             "ticks": "outside"
            },
            "colorscale": [
             [
              0,
              "#440154"
             ],
             [
              0.1111111111111111,
              "#482878"
             ],
             [
              0.2222222222222222,
              "#3e4989"
             ],
             [
              0.3333333333333333,
              "#31688e"
             ],
             [
              0.4444444444444444,
              "#26828e"
             ],
             [
              0.5555555555555556,
              "#1f9e89"
             ],
             [
              0.6666666666666666,
              "#35b779"
             ],
             [
              0.7777777777777778,
              "#6ece58"
             ],
             [
              0.8888888888888888,
              "#b5de2b"
             ],
             [
              1,
              "#fde725"
             ]
            ],
            "type": "heatmapgl"
           }
          ],
          "histogram": [
           {
            "marker": {
             "line": {
              "color": "white",
              "width": 0.6
             }
            },
            "type": "histogram"
           }
          ],
          "histogram2d": [
           {
            "colorbar": {
             "outlinewidth": 1,
             "tickcolor": "rgb(36,36,36)",
             "ticks": "outside"
            },
            "colorscale": [
             [
              0,
              "#440154"
             ],
             [
              0.1111111111111111,
              "#482878"
             ],
             [
              0.2222222222222222,
              "#3e4989"
             ],
             [
              0.3333333333333333,
              "#31688e"
             ],
             [
              0.4444444444444444,
              "#26828e"
             ],
             [
              0.5555555555555556,
              "#1f9e89"
             ],
             [
              0.6666666666666666,
              "#35b779"
             ],
             [
              0.7777777777777778,
              "#6ece58"
             ],
             [
              0.8888888888888888,
              "#b5de2b"
             ],
             [
              1,
              "#fde725"
             ]
            ],
            "type": "histogram2d"
           }
          ],
          "histogram2dcontour": [
           {
            "colorbar": {
             "outlinewidth": 1,
             "tickcolor": "rgb(36,36,36)",
             "ticks": "outside"
            },
            "colorscale": [
             [
              0,
              "#440154"
             ],
             [
              0.1111111111111111,
              "#482878"
             ],
             [
              0.2222222222222222,
              "#3e4989"
             ],
             [
              0.3333333333333333,
              "#31688e"
             ],
             [
              0.4444444444444444,
              "#26828e"
             ],
             [
              0.5555555555555556,
              "#1f9e89"
             ],
             [
              0.6666666666666666,
              "#35b779"
             ],
             [
              0.7777777777777778,
              "#6ece58"
             ],
             [
              0.8888888888888888,
              "#b5de2b"
             ],
             [
              1,
              "#fde725"
             ]
            ],
            "type": "histogram2dcontour"
           }
          ],
          "mesh3d": [
           {
            "colorbar": {
             "outlinewidth": 1,
             "tickcolor": "rgb(36,36,36)",
             "ticks": "outside"
            },
            "type": "mesh3d"
           }
          ],
          "parcoords": [
           {
            "line": {
             "colorbar": {
              "outlinewidth": 1,
              "tickcolor": "rgb(36,36,36)",
              "ticks": "outside"
             }
            },
            "type": "parcoords"
           }
          ],
          "pie": [
           {
            "automargin": true,
            "type": "pie"
           }
          ],
          "scatter": [
           {
            "fillpattern": {
             "fillmode": "overlay",
             "size": 10,
             "solidity": 0.2
            },
            "type": "scatter"
           }
          ],
          "scatter3d": [
           {
            "line": {
             "colorbar": {
              "outlinewidth": 1,
              "tickcolor": "rgb(36,36,36)",
              "ticks": "outside"
             }
            },
            "marker": {
             "colorbar": {
              "outlinewidth": 1,
              "tickcolor": "rgb(36,36,36)",
              "ticks": "outside"
             }
            },
            "type": "scatter3d"
           }
          ],
          "scattercarpet": [
           {
            "marker": {
             "colorbar": {
              "outlinewidth": 1,
              "tickcolor": "rgb(36,36,36)",
              "ticks": "outside"
             }
            },
            "type": "scattercarpet"
           }
          ],
          "scattergeo": [
           {
            "marker": {
             "colorbar": {
              "outlinewidth": 1,
              "tickcolor": "rgb(36,36,36)",
              "ticks": "outside"
             }
            },
            "type": "scattergeo"
           }
          ],
          "scattergl": [
           {
            "marker": {
             "colorbar": {
              "outlinewidth": 1,
              "tickcolor": "rgb(36,36,36)",
              "ticks": "outside"
             }
            },
            "type": "scattergl"
           }
          ],
          "scattermapbox": [
           {
            "marker": {
             "colorbar": {
              "outlinewidth": 1,
              "tickcolor": "rgb(36,36,36)",
              "ticks": "outside"
             }
            },
            "type": "scattermapbox"
           }
          ],
          "scatterpolar": [
           {
            "marker": {
             "colorbar": {
              "outlinewidth": 1,
              "tickcolor": "rgb(36,36,36)",
              "ticks": "outside"
             }
            },
            "type": "scatterpolar"
           }
          ],
          "scatterpolargl": [
           {
            "marker": {
             "colorbar": {
              "outlinewidth": 1,
              "tickcolor": "rgb(36,36,36)",
              "ticks": "outside"
             }
            },
            "type": "scatterpolargl"
           }
          ],
          "scatterternary": [
           {
            "marker": {
             "colorbar": {
              "outlinewidth": 1,
              "tickcolor": "rgb(36,36,36)",
              "ticks": "outside"
             }
            },
            "type": "scatterternary"
           }
          ],
          "surface": [
           {
            "colorbar": {
             "outlinewidth": 1,
             "tickcolor": "rgb(36,36,36)",
             "ticks": "outside"
            },
            "colorscale": [
             [
              0,
              "#440154"
             ],
             [
              0.1111111111111111,
              "#482878"
             ],
             [
              0.2222222222222222,
              "#3e4989"
             ],
             [
              0.3333333333333333,
              "#31688e"
             ],
             [
              0.4444444444444444,
              "#26828e"
             ],
             [
              0.5555555555555556,
              "#1f9e89"
             ],
             [
              0.6666666666666666,
              "#35b779"
             ],
             [
              0.7777777777777778,
              "#6ece58"
             ],
             [
              0.8888888888888888,
              "#b5de2b"
             ],
             [
              1,
              "#fde725"
             ]
            ],
            "type": "surface"
           }
          ],
          "table": [
           {
            "cells": {
             "fill": {
              "color": "rgb(237,237,237)"
             },
             "line": {
              "color": "white"
             }
            },
            "header": {
             "fill": {
              "color": "rgb(217,217,217)"
             },
             "line": {
              "color": "white"
             }
            },
            "type": "table"
           }
          ]
         },
         "layout": {
          "annotationdefaults": {
           "arrowhead": 0,
           "arrowwidth": 1
          },
          "autotypenumbers": "strict",
          "coloraxis": {
           "colorbar": {
            "outlinewidth": 1,
            "tickcolor": "rgb(36,36,36)",
            "ticks": "outside"
           }
          },
          "colorscale": {
           "diverging": [
            [
             0,
             "rgb(103,0,31)"
            ],
            [
             0.1,
             "rgb(178,24,43)"
            ],
            [
             0.2,
             "rgb(214,96,77)"
            ],
            [
             0.3,
             "rgb(244,165,130)"
            ],
            [
             0.4,
             "rgb(253,219,199)"
            ],
            [
             0.5,
             "rgb(247,247,247)"
            ],
            [
             0.6,
             "rgb(209,229,240)"
            ],
            [
             0.7,
             "rgb(146,197,222)"
            ],
            [
             0.8,
             "rgb(67,147,195)"
            ],
            [
             0.9,
             "rgb(33,102,172)"
            ],
            [
             1,
             "rgb(5,48,97)"
            ]
           ],
           "sequential": [
            [
             0,
             "#440154"
            ],
            [
             0.1111111111111111,
             "#482878"
            ],
            [
             0.2222222222222222,
             "#3e4989"
            ],
            [
             0.3333333333333333,
             "#31688e"
            ],
            [
             0.4444444444444444,
             "#26828e"
            ],
            [
             0.5555555555555556,
             "#1f9e89"
            ],
            [
             0.6666666666666666,
             "#35b779"
            ],
            [
             0.7777777777777778,
             "#6ece58"
            ],
            [
             0.8888888888888888,
             "#b5de2b"
            ],
            [
             1,
             "#fde725"
            ]
           ],
           "sequentialminus": [
            [
             0,
             "#440154"
            ],
            [
             0.1111111111111111,
             "#482878"
            ],
            [
             0.2222222222222222,
             "#3e4989"
            ],
            [
             0.3333333333333333,
             "#31688e"
            ],
            [
             0.4444444444444444,
             "#26828e"
            ],
            [
             0.5555555555555556,
             "#1f9e89"
            ],
            [
             0.6666666666666666,
             "#35b779"
            ],
            [
             0.7777777777777778,
             "#6ece58"
            ],
            [
             0.8888888888888888,
             "#b5de2b"
            ],
            [
             1,
             "#fde725"
            ]
           ]
          },
          "colorway": [
           "#1F77B4",
           "#FF7F0E",
           "#2CA02C",
           "#D62728",
           "#9467BD",
           "#8C564B",
           "#E377C2",
           "#7F7F7F",
           "#BCBD22",
           "#17BECF"
          ],
          "font": {
           "color": "rgb(36,36,36)"
          },
          "geo": {
           "bgcolor": "white",
           "lakecolor": "white",
           "landcolor": "white",
           "showlakes": true,
           "showland": true,
           "subunitcolor": "white"
          },
          "hoverlabel": {
           "align": "left"
          },
          "hovermode": "closest",
          "mapbox": {
           "style": "light"
          },
          "paper_bgcolor": "white",
          "plot_bgcolor": "white",
          "polar": {
           "angularaxis": {
            "gridcolor": "rgb(232,232,232)",
            "linecolor": "rgb(36,36,36)",
            "showgrid": false,
            "showline": true,
            "ticks": "outside"
           },
           "bgcolor": "white",
           "radialaxis": {
            "gridcolor": "rgb(232,232,232)",
            "linecolor": "rgb(36,36,36)",
            "showgrid": false,
            "showline": true,
            "ticks": "outside"
           }
          },
          "scene": {
           "xaxis": {
            "backgroundcolor": "white",
            "gridcolor": "rgb(232,232,232)",
            "gridwidth": 2,
            "linecolor": "rgb(36,36,36)",
            "showbackground": true,
            "showgrid": false,
            "showline": true,
            "ticks": "outside",
            "zeroline": false,
            "zerolinecolor": "rgb(36,36,36)"
           },
           "yaxis": {
            "backgroundcolor": "white",
            "gridcolor": "rgb(232,232,232)",
            "gridwidth": 2,
            "linecolor": "rgb(36,36,36)",
            "showbackground": true,
            "showgrid": false,
            "showline": true,
            "ticks": "outside",
            "zeroline": false,
            "zerolinecolor": "rgb(36,36,36)"
           },
           "zaxis": {
            "backgroundcolor": "white",
            "gridcolor": "rgb(232,232,232)",
            "gridwidth": 2,
            "linecolor": "rgb(36,36,36)",
            "showbackground": true,
            "showgrid": false,
            "showline": true,
            "ticks": "outside",
            "zeroline": false,
            "zerolinecolor": "rgb(36,36,36)"
           }
          },
          "shapedefaults": {
           "fillcolor": "black",
           "line": {
            "width": 0
           },
           "opacity": 0.3
          },
          "ternary": {
           "aaxis": {
            "gridcolor": "rgb(232,232,232)",
            "linecolor": "rgb(36,36,36)",
            "showgrid": false,
            "showline": true,
            "ticks": "outside"
           },
           "baxis": {
            "gridcolor": "rgb(232,232,232)",
            "linecolor": "rgb(36,36,36)",
            "showgrid": false,
            "showline": true,
            "ticks": "outside"
           },
           "bgcolor": "white",
           "caxis": {
            "gridcolor": "rgb(232,232,232)",
            "linecolor": "rgb(36,36,36)",
            "showgrid": false,
            "showline": true,
            "ticks": "outside"
           }
          },
          "title": {
           "x": 0.05
          },
          "xaxis": {
           "automargin": true,
           "gridcolor": "rgb(232,232,232)",
           "linecolor": "rgb(36,36,36)",
           "showgrid": false,
           "showline": true,
           "ticks": "outside",
           "title": {
            "standoff": 15
           },
           "zeroline": false,
           "zerolinecolor": "rgb(36,36,36)"
          },
          "yaxis": {
           "automargin": true,
           "gridcolor": "rgb(232,232,232)",
           "linecolor": "rgb(36,36,36)",
           "showgrid": false,
           "showline": true,
           "ticks": "outside",
           "title": {
            "standoff": 15
           },
           "zeroline": false,
           "zerolinecolor": "rgb(36,36,36)"
          }
         }
        },
        "title": {
         "font": {
          "color": "Black",
          "size": 22
         },
         "text": "<b>Intertopic Distance Map</b>",
         "x": 0.5,
         "xanchor": "center",
         "y": 0.95,
         "yanchor": "top"
        },
        "width": 650,
        "xaxis": {
         "anchor": "y",
         "domain": [
          0,
          1
         ],
         "range": [
          17.5125732421875,
          24.642956161499022
         ],
         "title": {
          "text": ""
         },
         "visible": false
        },
        "yaxis": {
         "anchor": "x",
         "domain": [
          0,
          1
         ],
         "range": [
          -12.334538984298707,
          -7.46729040145874
         ],
         "title": {
          "text": ""
         },
         "visible": false
        }
       }
      }
     },
     "metadata": {},
     "output_type": "display_data"
    }
   ],
   "source": [
    "model.visualize_topics()"
   ]
  },
  {
   "cell_type": "code",
   "execution_count": 19,
   "metadata": {},
   "outputs": [
    {
     "data": {
      "application/vnd.plotly.v1+json": {
       "config": {
        "plotlyServerURL": "https://plot.ly"
       },
       "data": [
        {
         "hoverinfo": "text",
         "hovertext": [
          null
         ],
         "marker": {
          "color": "#CFD8DC",
          "opacity": 0.5,
          "size": 5
         },
         "mode": "markers+text",
         "name": "other",
         "showlegend": false,
         "type": "scattergl",
         "x": [
          null
         ],
         "y": [
          null
         ]
        },
        {
         "hoverinfo": "text",
         "hovertext": [
          "Major hot deserts in northern hemisphere are located between 20-30 deg N latitudes and on the western sides of the continents. Why?",
          "There is no formation of deltas by rivers on the Western Ghats. Why?",
          "Why is the South-West monsoon called ‘Purvaiya’ (easterly) in Bhojpur Region? How has this directional seasonal wind system influenced the cultural ethos of the region?",
          "What are the main socio-economic implications arising out of the development of IT industries in major cities of India?",
          "Discuss the consequences of climate change on the food security in tropical countries.",
          "\"The Himalayas are highly prone to landslides.\" Discuss the causes and suggest suitable measures of mitigation.",
          "What are the consequences of spreading of ‘Dead Zones’ on marine ecosystem?",
          "Why is the world today confronted with a crisis of availability of and access to freshwater resources?",
          "Bring out the causes for more frequent occurrence of landslides in the Himalayas than in the Western Ghats.",
          "Examine the status of forest resources of India and its resultant impact on climate change.",
          "Discuss the geophysical characteristics of Circum- Pacific Zone.",
          "Bring out the causes for the formation of heat islands in the urban habitat of the world.",
          "Describe the characteristics and types of primary rocks.",
          "How far do you agree that the behaviour of the Indian monsoon has been changing due to humanizing landscape? Discuss.",
          "“The ideal solution of depleting ground water resources in India is water harvesting system.” How can it be made effective in urban areas?",
          "The interlinking of rivers can provide viable solutions to the multi-dimensional inter-related problems of droughts, floods and interrupted navigation. Critically examine.",
          "How does India see its place in the economic space of rising natural resources rich Africa?",
          "Critically evaluate the various resources of the oceans which can be harnessed to meet the resource crisis in the world.",
          "It is said that India has substantial reserves of shale oil and gas, which can feed the needs of the country for quarter century. However, tapping of the resource does not appear to be high on the agenda. Discuss critically the availability and issues involved.",
          "How can the mountain ecosystem be restored from the negative impact of development initiatives and tourism?",
          "What are the forces that influence ocean currents? Describe their role in fishing industry of the world.",
          "How are the fjords formed? Why do they constitute some of the most picturesque areas of the world?",
          "The process of desertification does not have climate boundaries. Justify with examples.",
          "Discuss the meaning of colour-coded weather warnings for cyclone prone areas given by India Meteorological department.",
          "How does the Juno Mission of NASA help to understand the origin and evolution of the Earth?",
          "Discuss the various economic and\nsocio-cultural forces that are driving increasing feminization of agriculture in India.",
          "Enumerate the problems and prospects of inland water transport in India.",
          "The effective management of land and water resources will drastically reduce the human miseries. Explain.",
          "Discuss the concept of air mass and explain its role in macro-climatic changes.",
          "Major cities of India are becoming more vulnerable to flood conditions. Discuss.",
          "Discuss the factors for localisation of agro-based food processing industries of North-West India.",
          "Account for the present location of iron and steel industries away from the source of raw material, by giving examples.",
          "India is well endowed with fresh water resources. Critically examine why it still suffers from water scarcity.",
          "Explain the factors responsible for the origin of ocean currents. How do they influence regional climates, fishing and navigation?",
          "What do you understand by the theory of continental drift? Discuss the prominent evidences in its support.",
          "Tropical cyclones are largely confined to South China Sea, Bay of Bengal and Gulf of Mexico. Why?",
          "Mumbai, Delhi and Kolkata are the three Mega cities of the country but the air pollution is much more serious probelm in Delhi as compared to the other two. Why is this so?",
          "Mention the significance of straits and isthmus in international trade.",
          "Petroleum refineries are not necessarily located nearer to crude oil producing areas, particularly in many of the developing countries. Explain its implications.",
          "From being net food importer in 1960s, India has emerged as a net food exporter to the world. Provide reasons.",
          "Defining blue revolution, explain the problems and strategies for pisciculture development in India.",
          "Comment on the resource potentials of the long coastline of India and highlight the status of natural hazard preparedness in these areas.",
          "How is efficient and affordable urban mass transport key to the rapid economic development in India?",
          "Can the strategy of regional resource-based manufacturing help in promoting employment in India?",
          "What do you understand by the phenomenon of ‘temperature inversion’ in meteorology? How does it affect weather and the habitants of the place?",
          "Why did human development fail to keep pace with economic development in India?",
          "How do ocean currents and water masses differ in their impacts on marine life and coastal environment? Give suitable examples.",
          "Why is India taking keen interest in the Arctic region?",
          "Why is India considered as a sub-continent? Elaborate your answer.",
          "Differentiate the causes of landslides in the Himalayan region and Western Ghats.",
          "Why are the world’s fold mountain systems located along the margins of continents? Bring out the association between the global distribution of fold mountains and the earthquakes and volcanoes.",
          "Mention the global occurrence of volcanic eruptions in 2021 and their impact on regional environment.",
          "Discuss the causes of depletion of mangroves and explain their importance in maintaining coastal ecology.",
          "Describing the distribution of rubber producing countries, indicate the major environmental issues faced by them.",
          "Whereas the British planters had developed tea gardens all along the Shivaliks and Lesser Himalayas from Assam to Himachal Pradesh, in effect they did not succeed beyond the Darjeeling area. Explain.",
          "How will the melting of Himalayan glaciers have a far- reaching impact on the water resources of India?",
          "What is water stress? How and why does it differ regionally in India?",
          "What is the significance of Industrial Corridors in India? Identifying industrial corridors, explain their main characteristics.",
          "South China Sea has assumed great geopolitical significance in the present context. Comment.",
          "Assess the impact of global warming on the coral life system with examples.",
          "Do you agree that there is a growing trend of opening new sugar mills in southern states of India? Discuss with justification.",
          "Smart cities in India cannot sustain without smart vilages. Discuss this statement in the backdrop of rural urban integration.",
          "The states of Jammu and Kashmir, Himachal Pradesh and Uttarakhand are reaching the limits of ecological carrying capacity due to tourism. Critically evaluate.",
          "How does the cryosphere affect global climate?",
          "Discuss the natural resource potentials of ‘Deccan trap’.",
          "Define mantle plume and explain its role in plate tectonics.",
          "Present an account of the Indus Water Treaty and examine its ecological, economic and political implications in the context of changing bilateral relations.",
          "What are the economic significances of discovery of oil in Arctic Sea and its possible environemental consequences?",
          "“Inspite of adverse environmental impact, coal mining is still inevitable for development”.\nDiscuss",
          "The recent cyclone on the east coast of India was called ‘Phailin’. How are the tropical cyclones named across the world? Elaborate.",
          "In what way micro-watershed development projects help in water conservation in\ndrought-prone and semi-arid regions of India?",
          "Mention core strategies for the transformation of aspirational districts in India and explain the nature of convergence, collaboration and competition for its success.",
          "Briefly mention the alignment of major mountain ranges of the world and explain their impact on local weather conditions, with examples.",
          "Most of the unusual climatic happenings are explained as an outcome of the El-Nino effect. Do you agree?",
          "Why did the Green Revolution in India virtually by-pass the eastern region despite fertile soil and good availability of water?",
          "Despite India being one of the countries of the Gondwanaland, its mining industry contributes much less to its Gross Domestic Product(GDP) in percentage. Discuss.",
          "How do the melting of the Arctic ice and glaciers of the Antarctic differently affect the weather patterns and human activities on the Earth? Explain.",
          "Analyze the factors for the highly decentralized cotton textile industry in India.",
          "Identify and discuss the factors responsible for diversity of natural vegetation in India. Assess the significance of wildlife sanctuaries in rain forests regions of India.",
          "Discuss the multi-dimensional implications of uneven distribution of mineral oil in the world.",
          "Account for variations in oceanic salinity and discuss its multi-dimensional effects.",
          "What characteristics can be assigned to monsoon climate that succeeds in feeding more than 50 percent of the world population residing in Monsoon Asia?",
          "Account for the change in the spatial pattern of the Iron and Steel industry in the world.",
          "Mention the advantages of the cultivation of pulses because of which the year 2016 was declared as the International Year of Pulses by United Nations.",
          "With growing scarcity of fossil fuels, the atomic energy is gaining more and more significance in India. Discuss the availability of raw material required for the generation of atomic energy in India and in the world.",
          "Bring out the relationship between the shrinking Himalayan glaciers and the symptoms of climate change in the Indian sub-continent.",
          "Why is Indian Regional Navigational Satellite System (IRNSS) needed? How does it help in navigation?",
          "Explain the formation of thousands of islands in Indonesian and Philipines archipelagos.",
          "Examine the potential of wind energy in India and explain the reasons for their limited spatial spread.",
          "India has immense potential of solar energy though there are regional variations in its developments. Elaborate.",
          "Troposphere is a very significant atmospheric layer that determines weather processes.\nHow?",
          "Account for the huge flooding of million cities in India including the smart ones like Hyderabad and Pune. Suggest lasting remedial measures.",
          "In what way can floods be converted into a sustainable source of irrigation and all-weather inland navigation in India?",
          null
         ],
         "marker": {
          "opacity": 0.5,
          "size": 5
         },
         "mode": "markers+text",
         "name": "0_resources india_india discuss_development india",
         "text": [
          "",
          "",
          "",
          "",
          "",
          "",
          "",
          "",
          "",
          "",
          "",
          "",
          "",
          "",
          "",
          "",
          "",
          "",
          "",
          "",
          "",
          "",
          "",
          "",
          "",
          "",
          "",
          "",
          "",
          "",
          "",
          "",
          "",
          "",
          "",
          "",
          "",
          "",
          "",
          "",
          "",
          "",
          "",
          "",
          "",
          "",
          "",
          "",
          "",
          "",
          "",
          "",
          "",
          "",
          "",
          "",
          "",
          "",
          "",
          "",
          "",
          "",
          "",
          "",
          "",
          "",
          "",
          "",
          "",
          "",
          "",
          "",
          "",
          "",
          "",
          "",
          "",
          "",
          "",
          "",
          "",
          "",
          "",
          "",
          "",
          "",
          "",
          "",
          "",
          "",
          "",
          "",
          "",
          "0_resources india_india discuss_development india"
         ],
         "textfont": {
          "size": 12
         },
         "type": "scattergl",
         "x": [
          2.678786039352417,
          3.0737102031707764,
          3.572667121887207,
          6.45020055770874,
          3.407918691635132,
          2.6063594818115234,
          3.2072231769561768,
          4.020538806915283,
          2.548410177230835,
          3.88663911819458,
          2.236170530319214,
          2.5539727210998535,
          2.429044008255005,
          3.6085152626037598,
          4.20668888092041,
          4.250125408172607,
          4.876067161560059,
          3.2552177906036377,
          4.466296195983887,
          3.8222622871398926,
          2.9434876441955566,
          2.9484329223632812,
          2.92008113861084,
          3.601510763168335,
          2.4130895137786865,
          7.750352382659912,
          4.216360092163086,
          4.508197784423828,
          2.7815332412719727,
          4.130692481994629,
          5.6442646980285645,
          4.856938362121582,
          4.100719451904297,
          2.936281442642212,
          2.4411048889160156,
          3.2763912677764893,
          6.171263694763184,
          3.5636420249938965,
          4.40449333190918,
          5.907089710235596,
          5.910036087036133,
          4.0688629150390625,
          6.216810703277588,
          5.624612808227539,
          2.5798726081848145,
          6.655632495880127,
          2.97701358795166,
          3.756364583969116,
          7.551455497741699,
          2.6740221977233887,
          2.3315346240997314,
          2.2747442722320557,
          3.0512304306030273,
          4.405551433563232,
          6.0257415771484375,
          3.6725494861602783,
          4.051487922668457,
          5.554385185241699,
          3.6113274097442627,
          3.0356106758117676,
          5.501325607299805,
          6.340080261230469,
          4.041742324829102,
          2.6574220657348633,
          4.179018974304199,
          2.2745847702026367,
          3.9256885051727295,
          3.502814531326294,
          4.547092437744141,
          3.487281084060669,
          3.9557318687438965,
          6.713517189025879,
          2.6455817222595215,
          3.173485040664673,
          6.289804935455322,
          4.727818965911865,
          2.8331828117370605,
          5.6161909103393555,
          4.051657676696777,
          4.384202003479004,
          2.9819142818450928,
          3.5357143878936768,
          4.954160213470459,
          5.838154315948486,
          4.842970371246338,
          3.0773580074310303,
          4.3236260414123535,
          2.5139286518096924,
          5.067842483520508,
          5.007916450500488,
          2.5863566398620605,
          4.274235248565674,
          4.246194839477539,
          4.051614284515381
         ],
         "y": [
          1.935833215713501,
          1.556957483291626,
          1.73752760887146,
          4.125507354736328,
          2.286630630493164,
          1.5229244232177734,
          3.2456698417663574,
          2.1566593647003174,
          1.588927984237671,
          2.629373073577881,
          2.1181159019470215,
          2.149230480194092,
          1.5502885580062866,
          1.7995598316192627,
          2.0291895866394043,
          1.742318034172058,
          3.8755929470062256,
          3.1065170764923096,
          3.8431220054626465,
          2.4832170009613037,
          2.9657132625579834,
          2.7664201259613037,
          2.2132763862609863,
          1.4922738075256348,
          1.9089679718017578,
          3.9448606967926025,
          1.9437708854675293,
          2.1393938064575195,
          2.115602731704712,
          1.859891653060913,
          4.982046127319336,
          3.9610681533813477,
          2.0552241802215576,
          2.9427499771118164,
          2.3924922943115234,
          1.523637056350708,
          4.2865471839904785,
          3.0700037479400635,
          3.802992105484009,
          5.301497936248779,
          4.723412990570068,
          2.7604928016662598,
          4.15616512298584,
          4.686423301696777,
          1.9057117700576782,
          4.563098907470703,
          3.031467914581299,
          3.269974708557129,
          5.521606922149658,
          1.5066101551055908,
          1.8239597082138062,
          1.926461935043335,
          3.089761972427368,
          3.768993616104126,
          6.264479160308838,
          2.20151424407959,
          1.9721267223358154,
          4.3134870529174805,
          3.206242084503174,
          3.094743013381958,
          4.891787528991699,
          4.160251617431641,
          2.765380620956421,
          1.8914560079574585,
          2.945523738861084,
          1.9399117231369019,
          2.482228994369507,
          3.316692590713501,
          3.7260279655456543,
          1.4482280015945435,
          2.0101563930511475,
          4.323503017425537,
          1.9270964860916138,
          1.7873787879943848,
          4.9005842208862305,
          3.738893747329712,
          2.136650562286377,
          4.96772575378418,
          2.809601306915283,
          3.770658016204834,
          3.0408341884613037,
          1.8075180053710938,
          3.9184534549713135,
          5.158832550048828,
          4.322489261627197,
          2.158747434616089,
          1.6908422708511353,
          2.496396064758301,
          4.474503517150879,
          4.431431293487549,
          1.857435703277588,
          1.7534894943237305,
          1.765627145767212,
          2.9435982704162598
         ]
        },
        {
         "hoverinfo": "text",
         "hovertext": [
          "Mahatma Gandhi and Dr. B R Ambedkar, despite having divergent approaches and strategies, had a common goal of amelioration of the downtrodden. Elucidate.",
          "Critically discuss the objectives of Bhoodan and Gramdan movements initiated by AcharyaVinobhaBhave and their success.",
          "The anti-colonial struggles in West Africa were led by the new elite of Western-educated Africans.",
          "Why did the armies of the British East India Company – mostly comprising of Indian soldiers – win consistently against the more numerous and better equipped armies of the Indian rulers? Give reasons.",
          "The political and administrative reorganization of states and territories has been a continuous ongoing process since the mid-nineteenth century. Discuss with examples.",
          "The Bhakti movement received a remarkable re-orientation with the advent of Sri Chaitanya Mahaprabhu. Discuss.",
          "What are the main features of Vedic society and religion? Do you think some of the features are still prevailing in Indian society?",
          "What policy instruments were deployed to contain the Great Economic Depression?",
          "Several foreigners made India their homeland and participated in various movements.\nAnalyze their role in the Indian struggle for freedom.",
          "Why did the ‘Moderates’ failed to carry conviction with the nation about their proclaimed ideology and political goals by the end of the nineteenth century?",
          "“American Revolution was an economic revolt against mercantilism.” Substantiate.",
          "Clarify how mid-eighteenth century India was beset with the spectre of a fragmented polity.",
          "‘Latecomer’ Industrial Revolution in Japan involved certain factors that were markedly different from what West had experienced.” Analyze.",
          "How difficult would have been the achievement of Indian independence without Mahatma Gandhi? Discuss.",
          "Examine how the decline of traditional artisanal industry in colonial India crippled the rural economy.",
          "“Africa was chopped into states artificially created by accidents of European competition.” Analyze.",
          "Explain the role of geographical factors towards the development of Ancient India.",
          "Discuss whether formation of new states in recent times is beneficial or not for the economy of India.",
          "The rock-cut architecture represents one of the most important sources of our knowledge of early Indian art and history. Discuss.",
          "It would have been difficult for the Constituent Assembly to complete its historic task of drafting the Constitution for Independent India in just three years, but its experience gained with the Government of India Act, 1935\n.Discuss.",
          "The New Economic Policy – 1921 of Lenin had influenced the policies adopted by India soon after independence. Evaluate.",
          "Analyze the circumstances that led to the Tashkent Agreement in 1966. Discuss the highlights of the Agreement.",
          "Evaluate the nature of the Bhakti Literature and its contribution to Indian culture.",
          "Has the formation of linguistic States strengthened the cause of Indian Unity?",
          "Write a critical note on the evolution and significance of the slogan, ‘Jai Jawan, Jai Kisan’.",
          "To what extent did the role of the moderates prepare a base for the wider freedom movement? Comment.",
          "Why did the industrial revolution first occur in England? Discuss the quality of life of the people there during the industrialization. How does it compare with that in India at present times?",
          "Discuss the role of women in the freedom struggle especially during the Gandhian phase.",
          "Krishnadeva Raya, the King of Vijayanagar, was not only an accomplished scholar himself but was also a great patron of learning and literature. Discuss.",
          "The 1857 uprising was the culmination of the recurrent, big and small local rebellions that had occurred in the preceding hundred years of British rule. Elucidate.",
          "Evaluate the policies of Lord Curzon and their long term implications on the national movements.",
          "Highlight the importance of the new objectives that got added to the vision of Indian Independence since the twenties of the last century.",
          "Since the decade of the 1920s, the national movement acquired various ideological strands and thereby expanded its social base. Discuss.",
          "“In many ways, Lord Dalhousie was the founder of modern India.” Elaborate.",
          "Discuss the significance of the lion and bull figures in Indian mythology, art and architecture.",
          "Bring out the constructive programmes of Mahatma Gandhi during Non-Cooperation Movement and Civil Disobedience Movement.",
          "Examine the linkages between the nineteenth century’s ‘Indian Renaissance’ and the emergence of national identity.",
          "Critically examine the compulsions which prompted India to play a decisive role in the emergence of Bangladesh.",
          "What were the major technological changes introduced during the Sultanate period? How did those technological changes influence the Indian society?",
          "In what ways did the navel mutiny prove to be the last nail in the coffin of British colonial aspirations in India?",
          "Trace the rise and growth of socio-religious reform movements with special reference to Young Bengal and Brahmo Samaj.",
          "Indian Philosophy and tradition played a significant role in conceiving and shaping the monuments and their art in India. Discuss.",
          "The third battle of Panipat was fought in 1761. Why were so many empire-shaking battles fought at Panipat?",
          "Sufis and medieval saints failed to modify either the religious ideas and practices or the outward structure of Hindu/ Muslim societies to any appreciable extent. Comment.",
          "” There arose a serious challenge to the Democratic State System between the two World Wars.” Evaluate the statement.",
          "Many voices had strengthened and enriched the nationalist movement during the Gandhian phase. Elaborate.",
          "Pala period is the most significant phase in the history of Buddhism in India. Enumerate.",
          "Analyze the salience of ‘sect’ in Indian society vis-a-vis caste, region and religion.",
          "Assess the main administrative issues and socio-cultural problems in the integration process of Indian Princely States.",
          "Highlight the Central Asian and Greco Bactrian elements in the Gandhara art.",
          "How did the colonial rule affect the tribals in India and what was the tribal response to the colonial oppression?",
          "Explain how the Uprising of 1857 constitutes an important watershed in the evolution of British policies towards colonial India.",
          "What was the difference between Mahatma Gandhi and Rabindranath Tagore in their approach towards education and nationalism?",
          "Persian literary sources of medieval India reflect the spirit of the age. Comment.",
          "Throw light on the significance of the thoughts of Mahatma Gandhi in the present times.",
          "What were the events that led to the Suez Crisis in 1956? How did it deal a final blow to Britain’s self-image as a world power?",
          "Why was there a sudden spurt in famines in colonial India since the mid-eighteenth century? Give reasons.",
          "Discuss the contributions of MaulanaAbulKalam Azad to pre- and post-independent India.",
          "Assess the importance of the accounts of the Chinese and Arab travellers in the reconstruction of the history of India.",
          "Explain how the foundations of the modern world were laid by the American and French Revolutions.",
          "Discuss the main contributions of Gupta period and Chola period to Indian heritage and culture\n.",
          "Examine critically the various facets of economic policies of the British in India from mid-eighteenth century till independence.",
          "What were the major political, economic and social developments in the world which motivated the anti-colonial in India?",
          "Defying the barriers of age, gender and religion, the Indian women became the torchbearer during the struggle for freedom in India. Discuss.",
          "Highlight the differences in the approach of Subhash Chandra Bose and Mahatma Gandhi in the struggle for freedom.",
          "To what extend can Germany be held responsible for causing the two World Wars? Discuss critically.",
          "Why indentured labour was taken by the British from India to their colonies? have they been able to preserve their cultural identity over there?",
          "Assess the role of British imperial power in complicating the process of transfer of power during the 1940s.",
          "What problems are germane to the decolonization process in the Malay Peninsula?",
          "How will you explain the medieval Indian temple sculptures represent the social life of those days?",
          "Taxila university was one of the oldest universities of the world with which were associated a number of renowned learned personalities of different disciplines. Its strategic location caused its fame to flourish, but unlike Nalanda, it is not considered as a university in the modern sense. Discuss.",
          "Bring out the socio-economic effects of the introduction of railways in different countries of the world",
          null
         ],
         "marker": {
          "opacity": 0.5,
          "size": 5
         },
         "mode": "markers+text",
         "name": "1_indian independence_india discuss_colonial india",
         "text": [
          "",
          "",
          "",
          "",
          "",
          "",
          "",
          "",
          "",
          "",
          "",
          "",
          "",
          "",
          "",
          "",
          "",
          "",
          "",
          "",
          "",
          "",
          "",
          "",
          "",
          "",
          "",
          "",
          "",
          "",
          "",
          "",
          "",
          "",
          "",
          "",
          "",
          "",
          "",
          "",
          "",
          "",
          "",
          "",
          "",
          "",
          "",
          "",
          "",
          "",
          "",
          "",
          "",
          "",
          "",
          "",
          "",
          "",
          "",
          "",
          "",
          "",
          "",
          "",
          "",
          "",
          "",
          "",
          "",
          "",
          "",
          "",
          "1_indian independence_india discuss_colonial india"
         ],
         "textfont": {
          "size": 12
         },
         "type": "scattergl",
         "x": [
          7.948124885559082,
          8.153003692626953,
          6.913206577301025,
          6.301671981811523,
          6.989387512207031,
          8.366313934326172,
          8.282172203063965,
          6.772186279296875,
          7.434865951538086,
          7.104096412658691,
          6.575808048248291,
          7.529412746429443,
          5.878387928009033,
          7.677494525909424,
          5.940116882324219,
          6.891412734985352,
          6.4090895652771,
          6.869777202606201,
          8.920297622680664,
          7.586687088012695,
          6.919302940368652,
          6.34660005569458,
          8.469120979309082,
          7.00686502456665,
          8.404438018798828,
          7.046504020690918,
          6.001967430114746,
          7.815149307250977,
          8.163198471069336,
          6.720266819000244,
          6.9560418128967285,
          7.348431587219238,
          6.98111629486084,
          7.821218967437744,
          8.817873001098633,
          7.988470554351807,
          7.418827533721924,
          7.382786273956299,
          6.446792125701904,
          6.9699387550354,
          8.418315887451172,
          8.862059593200684,
          6.239322185516357,
          8.753388404846191,
          6.454759120941162,
          7.370905876159668,
          8.665752410888672,
          8.582043647766113,
          7.210688591003418,
          8.87087631225586,
          7.247401237487793,
          6.534117221832275,
          7.597220420837402,
          8.625195503234863,
          7.896584510803223,
          6.39677619934082,
          6.012465953826904,
          7.553295612335205,
          8.256780624389648,
          6.473456382751465,
          8.708878517150879,
          6.6464619636535645,
          7.031060695648193,
          7.8881516456604,
          7.820319175720215,
          6.440088748931885,
          7.110629081726074,
          6.394185543060303,
          6.927552223205566,
          8.92567253112793,
          8.4118070602417,
          6.17318058013916,
          7.389830589294434
         ],
         "y": [
          7.691225528717041,
          7.793430328369141,
          6.648447513580322,
          6.818058490753174,
          6.214266777038574,
          7.890738010406494,
          5.653703212738037,
          6.937816143035889,
          7.333616733551025,
          7.705331325531006,
          7.154651641845703,
          7.011050224304199,
          5.785294532775879,
          7.650075912475586,
          5.821524143218994,
          6.309500694274902,
          5.018102169036865,
          5.856856346130371,
          9.256263732910156,
          7.564908504486084,
          7.115246772766113,
          7.523301124572754,
          8.285726547241211,
          5.745096206665039,
          6.769362449645996,
          7.7599287033081055,
          6.0515336990356445,
          7.404726505279541,
          8.3042573928833,
          7.129408836364746,
          7.782059669494629,
          7.418545246124268,
          7.829157829284668,
          8.124422073364258,
          9.201909065246582,
          7.788098335266113,
          7.316281318664551,
          7.1745924949646,
          5.3395233154296875,
          6.794510841369629,
          6.671695232391357,
          9.053556442260742,
          6.661566257476807,
          6.61466646194458,
          7.556499481201172,
          7.826128959655762,
          8.92970085144043,
          5.96422004699707,
          5.96300745010376,
          9.265923500061035,
          6.55925178527832,
          7.197634696960449,
          7.816501140594482,
          8.301162719726562,
          7.757680892944336,
          7.35286808013916,
          6.083791732788086,
          7.600558280944824,
          8.22287368774414,
          7.368616104125977,
          8.912668228149414,
          6.860085964202881,
          6.752475738525391,
          7.29450798034668,
          7.666087627410889,
          7.4932122230529785,
          6.8073835372924805,
          7.439849376678467,
          6.329041481018066,
          9.180596351623535,
          8.617457389831543,
          4.336187839508057,
          7.2420830726623535
         ]
        },
        {
         "hoverinfo": "text",
         "hovertext": [
          "Is diversity and pluralism in India under threat due to globalisation? Justify your answer.",
          "Critically examine the effect of globalization on the aged population in India.",
          "Does urbanization lead to more segregation and/or marginalization of the poor in Indian metropolises?",
          "To what extent globalization has influenced the core of cultural diversity in India? Explain.",
          "In the context of the diversity of India, can it be said that the regions form cultural units rather than the States? Give reasons with examples for your view point.",
          "Child cuddling is now being replaced by mobile phones. Discuss its impact on the socialization of children.",
          "Examine the uniqueness of tribal knowledge system when compared with mainstream knowledge and cultural systems.",
          "The women’s questions arose in modern India as a part of the 19th century social reform movement. What are the major issues and debates concerning women in that period?",
          "How do you explain the statistics that show that the sex ratio in Tribes in India is more favourable to women than the sex ratio among Scheduled Castes?",
          "Do you agree that regionalism in India appears to be a consequence of rising cultural assertiveness? Argue.",
          "What is Cryptocurrency? How does it affect global society? Has it been affecting Indian society also?",
          "Distinguish between religiousness/religiosity and communalism giving one example of how the former has got transformed into the latter in independent India.",
          "How does Indian society maintain continuity in traditional social values? Enumerate the changes taking place in it.",
          "‘Communalism arises either due to power struggle or relative deprivation.’ Argue by giving suitable illustrations.",
          "What are the challenges to our cultural practices in the name of secularism?",
          "Describe any four cultural elements of diversity in India and rate their relative significance in building a national identity.",
          "Customs and traditions suppress reason leading to obscurantism. Do you agree?",
          "How the Indian concept of secularism different from the western model of secularism?\nDiscuss.",
          "How do the Indian debates on secularism differ from the debates in the West?",
          "Are tolerance, assimilation and pluralism the key elements in the making of an Indian form of secularism? Justify your answer.",
          "Has caste lost its relevance in understanding the multi- cultural Indian Society? Elaborate your answer with illustrations.",
          "Discuss the positive and negative effects of globalization on women in India?",
          "Discuss the main objectives of Population Education and point out the measures to achieve them in India in detail.",
          "‘Despite implementation of various programmes for eradication of poverty by the government in India, poverty is still existing’. Explain by giving reasons.",
          "COVID-19 pandemic accelerated class inequalities and poverty in India. Comment.",
          "What are the continued challenges for women in India against time and space?",
          "“Caste system is assuming new identities and associational forms. Hence, caste system cannot be eradicated in India.”",
          "Elucidate the relationship between globalization and new technology in a world of scarce resources, with special reference to India.",
          "Are we losing our local identity for the global identity? Discuss.",
          "Growing feeling of regionalism is an important factor in generation of demand for a separate state. Discuss.",
          "How is the growth of Tier 2 cities related to the rise of a new middle class with an emphasis on the culture of consumption?",
          "what are the environmental implications of the reclamation of the water bodies into urban land use? Explain with examples.",
          "Globalisation is generally said to promote cultural homogenisation but due to this cultural specificities appear to be strengthened in the Indian society.’ Elucidate.",
          "The life cycle of a joint family depends on economic factors rather than social values. Discuss.",
          "How does patriarchy impact the position of a middle class working woman in India?",
          "How have digital initiatives in India contributed to the functioning of the education system in the country? Elaborate your answer.",
          "Critically examine whether growing population is the cause of poverty OR poverty is the mains cause of population increase in India.",
          "Why are the tribals in India referred to as 'the Scheduled Tribes? Indicate the major provisions in the Constitution of India for their upliftment.",
          "Examine the role of ‘Gig Economy’ in the process of empowerment of women in India.",
          "Explore and evaluate the impact of ‘Work From Home’ on family relationships.",
          "“The growth of cities as I.T. hubs has opened up new avenues of employment, but has also created new problems”. Substantiate this statement with examples",
          "Why is caste identity in India both fluid and static?",
          "What is the basis of regionalism? Is it that unequal distribution of benefits of development on regional basis eventually promotes regionalism? Substantiate your answer.",
          "Do we have cultural pockets of small India all over the nation? Elaborate with examples.",
          "Why do some of the most prosperous regions of India have an adverse sex ratio for women? Give your arguments.",
          "What makes the Indian society unique in sustaining its culture? Discuss.",
          "The spirit of tolerance and love is not only an interesting feature of Indian society from very early times, but it is also playing an important part at the present. Elaborate.",
          "Given the diversities among the tribal communities in India, in which specific contexts should they be considered as a single category?",
          "“Male membership needs to be encouraged in order to make women’s organization free from gender bias.” Comment.",
          "Discuss the various social problems which originated out of the speedy process of urbanization in India.",
          "Debate the issue whether and how contemporary movements for assertion of Dalit identity work towards annihilation of caste.",
          "\"An essential condition to eradicate poverty is to liberate the poor from the process of deprivation.\" Substantiate this statement with suitable examples.",
          "“Empowering women is the key to control population growth.” Discuss.",
          "Explain why suicide among young women is increasing in Indian Society.",
          "With a brief background of quality of urban life in India, introduce the objectives and strategy of the 'Smart City Programme'.",
          "Do you think marriage as a sacrament in loosing its value in Modern India?",
          "Discuss the changes in the trends of labour migration within and outside India in the last four decades.",
          "Discuss the impact of post-liberal economy on ethnic identity and communalism.",
          "What are the two major legal initiatives by the State since Independence addressing discrimination against Scheduled Tribes(STs)?",
          "‘Women’s movement in India has not addressed the issues of women of lower social strata.’ Substantiate your view.",
          null
         ],
         "marker": {
          "opacity": 0.5,
          "size": 5
         },
         "mode": "markers+text",
         "name": "2_indian society maintain_indian society_diversity india",
         "text": [
          "",
          "",
          "",
          "",
          "",
          "",
          "",
          "",
          "",
          "",
          "",
          "",
          "",
          "",
          "",
          "",
          "",
          "",
          "",
          "",
          "",
          "",
          "",
          "",
          "",
          "",
          "",
          "",
          "",
          "",
          "",
          "",
          "",
          "",
          "",
          "",
          "",
          "",
          "",
          "",
          "",
          "",
          "",
          "",
          "",
          "",
          "",
          "",
          "",
          "",
          "",
          "",
          "",
          "",
          "",
          "",
          "",
          "",
          "",
          "",
          "2_indian society maintain_indian society_diversity india"
         ],
         "textfont": {
          "size": 12
         },
         "type": "scattergl",
         "x": [
          7.411584377288818,
          7.226259231567383,
          6.811622619628906,
          7.317677974700928,
          7.209807872772217,
          7.957230091094971,
          7.916131973266602,
          7.995465278625488,
          7.778238296508789,
          7.13446044921875,
          7.322805404663086,
          8.240583419799805,
          8.303918838500977,
          8.037935256958008,
          8.808755874633789,
          7.937530040740967,
          8.837488174438477,
          8.758254051208496,
          8.818401336669922,
          8.701692581176758,
          8.69180965423584,
          7.394487380981445,
          7.222307205200195,
          7.243562698364258,
          7.086542129516602,
          7.991863250732422,
          8.809244155883789,
          7.058399677276611,
          7.75798225402832,
          6.9304351806640625,
          6.520648002624512,
          4.491883754730225,
          7.495718479156494,
          7.989932060241699,
          7.817287445068359,
          6.781952381134033,
          7.170422554016113,
          7.7858123779296875,
          7.106561183929443,
          7.9703216552734375,
          6.358822822570801,
          8.758306503295898,
          6.9826884269714355,
          7.223327159881592,
          7.6459527015686035,
          7.969104290008545,
          8.443455696105957,
          7.903129577636719,
          7.707157135009766,
          6.49205207824707,
          8.751198768615723,
          7.369379043579102,
          7.616255760192871,
          7.68638277053833,
          6.328705310821533,
          8.513628005981445,
          7.071654796600342,
          7.9987640380859375,
          7.61703634262085,
          7.815042018890381,
          7.634918212890625
         ],
         "y": [
          5.246754169464111,
          4.88756799697876,
          4.16504430770874,
          5.153181076049805,
          5.628716945648193,
          4.406826972961426,
          5.771300792694092,
          3.8976128101348877,
          3.884817361831665,
          5.57439661026001,
          4.631598472595215,
          6.289008617401123,
          5.613068103790283,
          4.769844055175781,
          6.448884010314941,
          5.7132744789123535,
          6.52590799331665,
          6.434974670410156,
          6.407347679138184,
          6.381892204284668,
          5.665798187255859,
          4.539865970611572,
          3.9958457946777344,
          4.021827697753906,
          4.0799102783203125,
          3.950058937072754,
          5.683374881744385,
          4.931032657623291,
          5.1355671882629395,
          5.876527786254883,
          4.038077354431152,
          2.080761671066284,
          5.2247724533081055,
          4.384129047393799,
          3.923635959625244,
          4.156502723693848,
          4.076502323150635,
          6.128321647644043,
          3.7719452381134033,
          4.360990047454834,
          4.055629253387451,
          5.6514997482299805,
          5.677535533905029,
          5.594944000244141,
          3.722224235534668,
          5.630754470825195,
          6.442655086517334,
          5.791811943054199,
          3.7580881118774414,
          4.5338945388793945,
          5.620640754699707,
          3.981720447540283,
          3.8331077098846436,
          3.7022149562835693,
          4.181660175323486,
          5.776327133178711,
          5.04265832901001,
          4.940563678741455,
          6.289252758026123,
          3.7659904956817627,
          4.930843830108643
         ]
        },
        {
         "hoverinfo": "text",
         "hovertext": [
          "Safeguarding the Indian art heritage is the need of the moment.",
          "To what extent has the urban planning and culture of the Indus Valley Civilization provided inputs to the present day urbanization?\nDiscuss.",
          "Chola architecture represents a high watermark in the evolution of temple architecture. Discuss",
          "Mesolithic rock cut architecture of India not only reflects the cultural life of the times but also a fine aesthetic sense comparable to modern painting. Critically evaluate this comment.",
          "Though not very useful from the point of view of a connected political history of South India, the Sangam literature portrays the social and economic conditions of its time with remarkable vividness. Comment.",
          "Early Buddhist Stupa-art, while depicting folk motifs and narratives successfully expounds Buddhist ideals. Elucidate.",
          "The ancient civilization in Indian sub continent differed from those of Egypt , Mesopotamia and Greece in that its culture and traditions have been preserved without breakdown to the present day. Comment",
          "Discuss the ‘Tandava’ dance as recorded in early Indian inscriptions.",
          "Gandhara sculpture owed as much to the Romans as to the Greeks. Explain.",
          "How do you justify the view that the level of excellence of the Gupta numismatic art is not at all noticeable in later times?",
          null
         ],
         "marker": {
          "opacity": 0.5,
          "size": 5
         },
         "mode": "markers+text",
         "name": "3_indus valley civilization_planning culture indus_india sangam literature",
         "text": [
          "",
          "",
          "",
          "",
          "",
          "",
          "",
          "",
          "",
          "",
          "3_indus valley civilization_planning culture indus_india sangam literature"
         ],
         "textfont": {
          "size": 12
         },
         "type": "scattergl",
         "x": [
          8.829204559326172,
          6.395381927490234,
          8.836126327514648,
          8.82317066192627,
          7.8874735832214355,
          8.90575122833252,
          7.680010795593262,
          8.934233665466309,
          8.855198860168457,
          8.827768325805664,
          8.397432327270508
         ],
         "y": [
          9.058332443237305,
          4.622206211090088,
          9.143782615661621,
          9.328139305114746,
          6.967077255249023,
          9.153674125671387,
          5.592628002166748,
          9.202733039855957,
          9.355013847351074,
          9.030611038208008,
          8.145419120788574
         ]
        }
       ],
       "layout": {
        "annotations": [
         {
          "showarrow": false,
          "text": "D1",
          "x": 1.9007449507713319,
          "y": 5.9946298629045485,
          "yshift": 10
         },
         {
          "showarrow": false,
          "text": "D2",
          "x": 6.087556833028793,
          "xshift": 10,
          "y": 10.758265924453735
         }
        ],
        "height": 750,
        "shapes": [
         {
          "line": {
           "color": "#CFD8DC",
           "width": 2
          },
          "type": "line",
          "x0": 6.087556833028793,
          "x1": 6.087556833028793,
          "y0": 1.2309938013553618,
          "y1": 10.758265924453735
         },
         {
          "line": {
           "color": "#9E9E9E",
           "width": 2
          },
          "type": "line",
          "x0": 1.9007449507713319,
          "x1": 10.274368715286254,
          "y0": 5.9946298629045485,
          "y1": 5.9946298629045485
         }
        ],
        "template": {
         "data": {
          "bar": [
           {
            "error_x": {
             "color": "rgb(36,36,36)"
            },
            "error_y": {
             "color": "rgb(36,36,36)"
            },
            "marker": {
             "line": {
              "color": "white",
              "width": 0.5
             },
             "pattern": {
              "fillmode": "overlay",
              "size": 10,
              "solidity": 0.2
             }
            },
            "type": "bar"
           }
          ],
          "barpolar": [
           {
            "marker": {
             "line": {
              "color": "white",
              "width": 0.5
             },
             "pattern": {
              "fillmode": "overlay",
              "size": 10,
              "solidity": 0.2
             }
            },
            "type": "barpolar"
           }
          ],
          "carpet": [
           {
            "aaxis": {
             "endlinecolor": "rgb(36,36,36)",
             "gridcolor": "white",
             "linecolor": "white",
             "minorgridcolor": "white",
             "startlinecolor": "rgb(36,36,36)"
            },
            "baxis": {
             "endlinecolor": "rgb(36,36,36)",
             "gridcolor": "white",
             "linecolor": "white",
             "minorgridcolor": "white",
             "startlinecolor": "rgb(36,36,36)"
            },
            "type": "carpet"
           }
          ],
          "choropleth": [
           {
            "colorbar": {
             "outlinewidth": 1,
             "tickcolor": "rgb(36,36,36)",
             "ticks": "outside"
            },
            "type": "choropleth"
           }
          ],
          "contour": [
           {
            "colorbar": {
             "outlinewidth": 1,
             "tickcolor": "rgb(36,36,36)",
             "ticks": "outside"
            },
            "colorscale": [
             [
              0,
              "#440154"
             ],
             [
              0.1111111111111111,
              "#482878"
             ],
             [
              0.2222222222222222,
              "#3e4989"
             ],
             [
              0.3333333333333333,
              "#31688e"
             ],
             [
              0.4444444444444444,
              "#26828e"
             ],
             [
              0.5555555555555556,
              "#1f9e89"
             ],
             [
              0.6666666666666666,
              "#35b779"
             ],
             [
              0.7777777777777778,
              "#6ece58"
             ],
             [
              0.8888888888888888,
              "#b5de2b"
             ],
             [
              1,
              "#fde725"
             ]
            ],
            "type": "contour"
           }
          ],
          "contourcarpet": [
           {
            "colorbar": {
             "outlinewidth": 1,
             "tickcolor": "rgb(36,36,36)",
             "ticks": "outside"
            },
            "type": "contourcarpet"
           }
          ],
          "heatmap": [
           {
            "colorbar": {
             "outlinewidth": 1,
             "tickcolor": "rgb(36,36,36)",
             "ticks": "outside"
            },
            "colorscale": [
             [
              0,
              "#440154"
             ],
             [
              0.1111111111111111,
              "#482878"
             ],
             [
              0.2222222222222222,
              "#3e4989"
             ],
             [
              0.3333333333333333,
              "#31688e"
             ],
             [
              0.4444444444444444,
              "#26828e"
             ],
             [
              0.5555555555555556,
              "#1f9e89"
             ],
             [
              0.6666666666666666,
              "#35b779"
             ],
             [
              0.7777777777777778,
              "#6ece58"
             ],
             [
              0.8888888888888888,
              "#b5de2b"
             ],
             [
              1,
              "#fde725"
             ]
            ],
            "type": "heatmap"
           }
          ],
          "heatmapgl": [
           {
            "colorbar": {
             "outlinewidth": 1,
             "tickcolor": "rgb(36,36,36)",
             "ticks": "outside"
            },
            "colorscale": [
             [
              0,
              "#440154"
             ],
             [
              0.1111111111111111,
              "#482878"
             ],
             [
              0.2222222222222222,
              "#3e4989"
             ],
             [
              0.3333333333333333,
              "#31688e"
             ],
             [
              0.4444444444444444,
              "#26828e"
             ],
             [
              0.5555555555555556,
              "#1f9e89"
             ],
             [
              0.6666666666666666,
              "#35b779"
             ],
             [
              0.7777777777777778,
              "#6ece58"
             ],
             [
              0.8888888888888888,
              "#b5de2b"
             ],
             [
              1,
              "#fde725"
             ]
            ],
            "type": "heatmapgl"
           }
          ],
          "histogram": [
           {
            "marker": {
             "line": {
              "color": "white",
              "width": 0.6
             }
            },
            "type": "histogram"
           }
          ],
          "histogram2d": [
           {
            "colorbar": {
             "outlinewidth": 1,
             "tickcolor": "rgb(36,36,36)",
             "ticks": "outside"
            },
            "colorscale": [
             [
              0,
              "#440154"
             ],
             [
              0.1111111111111111,
              "#482878"
             ],
             [
              0.2222222222222222,
              "#3e4989"
             ],
             [
              0.3333333333333333,
              "#31688e"
             ],
             [
              0.4444444444444444,
              "#26828e"
             ],
             [
              0.5555555555555556,
              "#1f9e89"
             ],
             [
              0.6666666666666666,
              "#35b779"
             ],
             [
              0.7777777777777778,
              "#6ece58"
             ],
             [
              0.8888888888888888,
              "#b5de2b"
             ],
             [
              1,
              "#fde725"
             ]
            ],
            "type": "histogram2d"
           }
          ],
          "histogram2dcontour": [
           {
            "colorbar": {
             "outlinewidth": 1,
             "tickcolor": "rgb(36,36,36)",
             "ticks": "outside"
            },
            "colorscale": [
             [
              0,
              "#440154"
             ],
             [
              0.1111111111111111,
              "#482878"
             ],
             [
              0.2222222222222222,
              "#3e4989"
             ],
             [
              0.3333333333333333,
              "#31688e"
             ],
             [
              0.4444444444444444,
              "#26828e"
             ],
             [
              0.5555555555555556,
              "#1f9e89"
             ],
             [
              0.6666666666666666,
              "#35b779"
             ],
             [
              0.7777777777777778,
              "#6ece58"
             ],
             [
              0.8888888888888888,
              "#b5de2b"
             ],
             [
              1,
              "#fde725"
             ]
            ],
            "type": "histogram2dcontour"
           }
          ],
          "mesh3d": [
           {
            "colorbar": {
             "outlinewidth": 1,
             "tickcolor": "rgb(36,36,36)",
             "ticks": "outside"
            },
            "type": "mesh3d"
           }
          ],
          "parcoords": [
           {
            "line": {
             "colorbar": {
              "outlinewidth": 1,
              "tickcolor": "rgb(36,36,36)",
              "ticks": "outside"
             }
            },
            "type": "parcoords"
           }
          ],
          "pie": [
           {
            "automargin": true,
            "type": "pie"
           }
          ],
          "scatter": [
           {
            "fillpattern": {
             "fillmode": "overlay",
             "size": 10,
             "solidity": 0.2
            },
            "type": "scatter"
           }
          ],
          "scatter3d": [
           {
            "line": {
             "colorbar": {
              "outlinewidth": 1,
              "tickcolor": "rgb(36,36,36)",
              "ticks": "outside"
             }
            },
            "marker": {
             "colorbar": {
              "outlinewidth": 1,
              "tickcolor": "rgb(36,36,36)",
              "ticks": "outside"
             }
            },
            "type": "scatter3d"
           }
          ],
          "scattercarpet": [
           {
            "marker": {
             "colorbar": {
              "outlinewidth": 1,
              "tickcolor": "rgb(36,36,36)",
              "ticks": "outside"
             }
            },
            "type": "scattercarpet"
           }
          ],
          "scattergeo": [
           {
            "marker": {
             "colorbar": {
              "outlinewidth": 1,
              "tickcolor": "rgb(36,36,36)",
              "ticks": "outside"
             }
            },
            "type": "scattergeo"
           }
          ],
          "scattergl": [
           {
            "marker": {
             "colorbar": {
              "outlinewidth": 1,
              "tickcolor": "rgb(36,36,36)",
              "ticks": "outside"
             }
            },
            "type": "scattergl"
           }
          ],
          "scattermapbox": [
           {
            "marker": {
             "colorbar": {
              "outlinewidth": 1,
              "tickcolor": "rgb(36,36,36)",
              "ticks": "outside"
             }
            },
            "type": "scattermapbox"
           }
          ],
          "scatterpolar": [
           {
            "marker": {
             "colorbar": {
              "outlinewidth": 1,
              "tickcolor": "rgb(36,36,36)",
              "ticks": "outside"
             }
            },
            "type": "scatterpolar"
           }
          ],
          "scatterpolargl": [
           {
            "marker": {
             "colorbar": {
              "outlinewidth": 1,
              "tickcolor": "rgb(36,36,36)",
              "ticks": "outside"
             }
            },
            "type": "scatterpolargl"
           }
          ],
          "scatterternary": [
           {
            "marker": {
             "colorbar": {
              "outlinewidth": 1,
              "tickcolor": "rgb(36,36,36)",
              "ticks": "outside"
             }
            },
            "type": "scatterternary"
           }
          ],
          "surface": [
           {
            "colorbar": {
             "outlinewidth": 1,
             "tickcolor": "rgb(36,36,36)",
             "ticks": "outside"
            },
            "colorscale": [
             [
              0,
              "#440154"
             ],
             [
              0.1111111111111111,
              "#482878"
             ],
             [
              0.2222222222222222,
              "#3e4989"
             ],
             [
              0.3333333333333333,
              "#31688e"
             ],
             [
              0.4444444444444444,
              "#26828e"
             ],
             [
              0.5555555555555556,
              "#1f9e89"
             ],
             [
              0.6666666666666666,
              "#35b779"
             ],
             [
              0.7777777777777778,
              "#6ece58"
             ],
             [
              0.8888888888888888,
              "#b5de2b"
             ],
             [
              1,
              "#fde725"
             ]
            ],
            "type": "surface"
           }
          ],
          "table": [
           {
            "cells": {
             "fill": {
              "color": "rgb(237,237,237)"
             },
             "line": {
              "color": "white"
             }
            },
            "header": {
             "fill": {
              "color": "rgb(217,217,217)"
             },
             "line": {
              "color": "white"
             }
            },
            "type": "table"
           }
          ]
         },
         "layout": {
          "annotationdefaults": {
           "arrowhead": 0,
           "arrowwidth": 1
          },
          "autotypenumbers": "strict",
          "coloraxis": {
           "colorbar": {
            "outlinewidth": 1,
            "tickcolor": "rgb(36,36,36)",
            "ticks": "outside"
           }
          },
          "colorscale": {
           "diverging": [
            [
             0,
             "rgb(103,0,31)"
            ],
            [
             0.1,
             "rgb(178,24,43)"
            ],
            [
             0.2,
             "rgb(214,96,77)"
            ],
            [
             0.3,
             "rgb(244,165,130)"
            ],
            [
             0.4,
             "rgb(253,219,199)"
            ],
            [
             0.5,
             "rgb(247,247,247)"
            ],
            [
             0.6,
             "rgb(209,229,240)"
            ],
            [
             0.7,
             "rgb(146,197,222)"
            ],
            [
             0.8,
             "rgb(67,147,195)"
            ],
            [
             0.9,
             "rgb(33,102,172)"
            ],
            [
             1,
             "rgb(5,48,97)"
            ]
           ],
           "sequential": [
            [
             0,
             "#440154"
            ],
            [
             0.1111111111111111,
             "#482878"
            ],
            [
             0.2222222222222222,
             "#3e4989"
            ],
            [
             0.3333333333333333,
             "#31688e"
            ],
            [
             0.4444444444444444,
             "#26828e"
            ],
            [
             0.5555555555555556,
             "#1f9e89"
            ],
            [
             0.6666666666666666,
             "#35b779"
            ],
            [
             0.7777777777777778,
             "#6ece58"
            ],
            [
             0.8888888888888888,
             "#b5de2b"
            ],
            [
             1,
             "#fde725"
            ]
           ],
           "sequentialminus": [
            [
             0,
             "#440154"
            ],
            [
             0.1111111111111111,
             "#482878"
            ],
            [
             0.2222222222222222,
             "#3e4989"
            ],
            [
             0.3333333333333333,
             "#31688e"
            ],
            [
             0.4444444444444444,
             "#26828e"
            ],
            [
             0.5555555555555556,
             "#1f9e89"
            ],
            [
             0.6666666666666666,
             "#35b779"
            ],
            [
             0.7777777777777778,
             "#6ece58"
            ],
            [
             0.8888888888888888,
             "#b5de2b"
            ],
            [
             1,
             "#fde725"
            ]
           ]
          },
          "colorway": [
           "#1F77B4",
           "#FF7F0E",
           "#2CA02C",
           "#D62728",
           "#9467BD",
           "#8C564B",
           "#E377C2",
           "#7F7F7F",
           "#BCBD22",
           "#17BECF"
          ],
          "font": {
           "color": "rgb(36,36,36)"
          },
          "geo": {
           "bgcolor": "white",
           "lakecolor": "white",
           "landcolor": "white",
           "showlakes": true,
           "showland": true,
           "subunitcolor": "white"
          },
          "hoverlabel": {
           "align": "left"
          },
          "hovermode": "closest",
          "mapbox": {
           "style": "light"
          },
          "paper_bgcolor": "white",
          "plot_bgcolor": "white",
          "polar": {
           "angularaxis": {
            "gridcolor": "rgb(232,232,232)",
            "linecolor": "rgb(36,36,36)",
            "showgrid": false,
            "showline": true,
            "ticks": "outside"
           },
           "bgcolor": "white",
           "radialaxis": {
            "gridcolor": "rgb(232,232,232)",
            "linecolor": "rgb(36,36,36)",
            "showgrid": false,
            "showline": true,
            "ticks": "outside"
           }
          },
          "scene": {
           "xaxis": {
            "backgroundcolor": "white",
            "gridcolor": "rgb(232,232,232)",
            "gridwidth": 2,
            "linecolor": "rgb(36,36,36)",
            "showbackground": true,
            "showgrid": false,
            "showline": true,
            "ticks": "outside",
            "zeroline": false,
            "zerolinecolor": "rgb(36,36,36)"
           },
           "yaxis": {
            "backgroundcolor": "white",
            "gridcolor": "rgb(232,232,232)",
            "gridwidth": 2,
            "linecolor": "rgb(36,36,36)",
            "showbackground": true,
            "showgrid": false,
            "showline": true,
            "ticks": "outside",
            "zeroline": false,
            "zerolinecolor": "rgb(36,36,36)"
           },
           "zaxis": {
            "backgroundcolor": "white",
            "gridcolor": "rgb(232,232,232)",
            "gridwidth": 2,
            "linecolor": "rgb(36,36,36)",
            "showbackground": true,
            "showgrid": false,
            "showline": true,
            "ticks": "outside",
            "zeroline": false,
            "zerolinecolor": "rgb(36,36,36)"
           }
          },
          "shapedefaults": {
           "fillcolor": "black",
           "line": {
            "width": 0
           },
           "opacity": 0.3
          },
          "ternary": {
           "aaxis": {
            "gridcolor": "rgb(232,232,232)",
            "linecolor": "rgb(36,36,36)",
            "showgrid": false,
            "showline": true,
            "ticks": "outside"
           },
           "baxis": {
            "gridcolor": "rgb(232,232,232)",
            "linecolor": "rgb(36,36,36)",
            "showgrid": false,
            "showline": true,
            "ticks": "outside"
           },
           "bgcolor": "white",
           "caxis": {
            "gridcolor": "rgb(232,232,232)",
            "linecolor": "rgb(36,36,36)",
            "showgrid": false,
            "showline": true,
            "ticks": "outside"
           }
          },
          "title": {
           "x": 0.05
          },
          "xaxis": {
           "automargin": true,
           "gridcolor": "rgb(232,232,232)",
           "linecolor": "rgb(36,36,36)",
           "showgrid": false,
           "showline": true,
           "ticks": "outside",
           "title": {
            "standoff": 15
           },
           "zeroline": false,
           "zerolinecolor": "rgb(36,36,36)"
          },
          "yaxis": {
           "automargin": true,
           "gridcolor": "rgb(232,232,232)",
           "linecolor": "rgb(36,36,36)",
           "showgrid": false,
           "showline": true,
           "ticks": "outside",
           "title": {
            "standoff": 15
           },
           "zeroline": false,
           "zerolinecolor": "rgb(36,36,36)"
          }
         }
        },
        "title": {
         "font": {
          "color": "Black",
          "size": 22
         },
         "text": "<b>Documents and Topics</b>",
         "x": 0.5,
         "xanchor": "center",
         "yanchor": "top"
        },
        "width": 1200,
        "xaxis": {
         "visible": false
        },
        "yaxis": {
         "visible": false
        }
       }
      }
     },
     "metadata": {},
     "output_type": "display_data"
    }
   ],
   "source": [
    "model.visualize_documents(questions)"
   ]
  },
  {
   "cell_type": "code",
   "execution_count": 20,
   "metadata": {},
   "outputs": [
    {
     "name": "stderr",
     "output_type": "stream",
     "text": [
      "2024-07-17 17:22:14,805 - BERTopic - WARNING: When you use `pickle` to save/load a BERTopic model,please make sure that the environments in which you saveand load the model are **exactly** the same. The version of BERTopic,its dependencies, and python need to remain the same.\n"
     ]
    }
   ],
   "source": [
    "model.save(\"GS1_model_supervised\")"
   ]
  },
  {
   "cell_type": "code",
   "execution_count": 21,
   "metadata": {},
   "outputs": [],
   "source": [
    "# model.reduce_topics(questions,nr_topics=10)"
   ]
  },
  {
   "cell_type": "code",
   "execution_count": 22,
   "metadata": {},
   "outputs": [
    {
     "data": {
      "text/plain": [
       "['Indian Art and Culture', 'History', 'Geography', 'Indian Society']"
      ]
     },
     "execution_count": 22,
     "metadata": {},
     "output_type": "execute_result"
    }
   ],
   "source": [
    "unique_subjects"
   ]
  },
  {
   "cell_type": "code",
   "execution_count": 27,
   "metadata": {},
   "outputs": [],
   "source": [
    "history = df[df['Subject'] == 'History']['Question'].values.tolist()\n",
    "geography = df[df['Subject'] == 'Geography']['Question'].values.tolist()\n",
    "indian_society = df[df['Subject'] == 'Indian Society']['Question'].values.tolist()\n",
    "indian_art_and_culture = df[df['Subject'] == 'Indian Art and Culture']['Question'].values.tolist()\n",
    "questions = {}\n",
    "questions['0'] = history\n",
    "questions['1'] = geography\n",
    "questions['2'] = indian_society\n",
    "questions['3'] = indian_art_and_culture"
   ]
  },
  {
   "cell_type": "code",
   "execution_count": 29,
   "metadata": {},
   "outputs": [
    {
     "data": {
      "text/plain": [
       "['Safeguarding the Indian art heritage is the need of the moment.',\n",
       " 'How do you justify the view that the level of excellence of the Gupta numismatic art is not at all noticeable in later times?',\n",
       " 'Early Buddhist Stupa-art, while depicting folk motifs and narratives successfully expounds Buddhist ideals. Elucidate.',\n",
       " 'The ancient civilization in Indian sub continent differed from those of Egypt , Mesopotamia and Greece in that its culture and traditions have been preserved without breakdown to the present day. Comment',\n",
       " 'Mesolithic rock cut architecture of India not only reflects the cultural life of the times but also a fine aesthetic sense comparable to modern painting. Critically evaluate this comment.',\n",
       " 'To what extent has the urban planning and culture of the Indus Valley Civilization provided inputs to the present day urbanization?\\nDiscuss.',\n",
       " 'Gandhara sculpture owed as much to the Romans as to the Greeks. Explain.',\n",
       " 'Though not very useful from the point of view of a connected political history of South India, the Sangam literature portrays the social and economic conditions of its time with remarkable vividness. Comment.',\n",
       " 'Discuss the ‘Tandava’ dance as recorded in early Indian inscriptions.',\n",
       " 'Chola architecture represents a high watermark in the evolution of temple architecture. Discuss']"
      ]
     },
     "execution_count": 29,
     "metadata": {},
     "output_type": "execute_result"
    }
   ],
   "source": [
    "questions['3']"
   ]
  },
  {
   "cell_type": "code",
   "execution_count": 30,
   "metadata": {},
   "outputs": [
    {
     "name": "stderr",
     "output_type": "stream",
     "text": [
      "2024-07-17 17:31:47,749 - BERTopic - Embedding - Transforming documents to embeddings.\n",
      "Batches: 100%|██████████| 3/3 [00:04<00:00,  1.67s/it]\n",
      "2024-07-17 17:31:52,763 - BERTopic - Embedding - Completed ✓\n",
      "2024-07-17 17:31:52,763 - BERTopic - Dimensionality - Fitting the dimensionality reduction algorithm\n",
      "2024-07-17 17:31:59,415 - BERTopic - Dimensionality - Completed ✓\n",
      "2024-07-17 17:31:59,415 - BERTopic - Cluster - Start clustering the reduced embeddings\n",
      "2024-07-17 17:31:59,428 - BERTopic - Cluster - Completed ✓\n",
      "2024-07-17 17:31:59,429 - BERTopic - Representation - Extracting topics from clusters using representation models.\n",
      "2024-07-17 17:32:07,163 - BERTopic - Representation - Completed ✓\n",
      "2024-07-17 17:32:07,163 - BERTopic - Topic reduction - Reducing number of topics\n",
      "2024-07-17 17:32:14,713 - BERTopic - Topic reduction - Reduced number of topics from 4 to 4\n",
      "2024-07-17 17:32:14,729 - BERTopic - Embedding - Transforming documents to embeddings.\n",
      "Batches: 100%|██████████| 3/3 [00:04<00:00,  1.51s/it]\n",
      "2024-07-17 17:32:19,294 - BERTopic - Embedding - Completed ✓\n",
      "2024-07-17 17:32:19,296 - BERTopic - Dimensionality - Fitting the dimensionality reduction algorithm\n",
      "2024-07-17 17:32:25,924 - BERTopic - Dimensionality - Completed ✓\n",
      "2024-07-17 17:32:25,925 - BERTopic - Cluster - Start clustering the reduced embeddings\n",
      "2024-07-17 17:32:25,938 - BERTopic - Cluster - Completed ✓\n",
      "2024-07-17 17:32:25,939 - BERTopic - Representation - Extracting topics from clusters using representation models.\n",
      "2024-07-17 17:32:34,463 - BERTopic - Representation - Completed ✓\n",
      "2024-07-17 17:32:34,463 - BERTopic - Topic reduction - Reducing number of topics\n",
      "2024-07-17 17:32:42,832 - BERTopic - Topic reduction - Reduced number of topics from 5 to 5\n",
      "2024-07-17 17:32:42,878 - BERTopic - Embedding - Transforming documents to embeddings.\n",
      "Batches: 100%|██████████| 2/2 [00:02<00:00,  1.39s/it]\n",
      "2024-07-17 17:32:45,663 - BERTopic - Embedding - Completed ✓\n",
      "2024-07-17 17:32:45,664 - BERTopic - Dimensionality - Fitting the dimensionality reduction algorithm\n",
      "2024-07-17 17:32:52,166 - BERTopic - Dimensionality - Completed ✓\n",
      "2024-07-17 17:32:52,166 - BERTopic - Cluster - Start clustering the reduced embeddings\n",
      "2024-07-17 17:32:52,177 - BERTopic - Cluster - Completed ✓\n",
      "2024-07-17 17:32:52,180 - BERTopic - Representation - Extracting topics from clusters using representation models.\n",
      "2024-07-17 17:32:58,969 - BERTopic - Representation - Completed ✓\n",
      "2024-07-17 17:32:58,970 - BERTopic - Topic reduction - Reducing number of topics\n",
      "2024-07-17 17:33:05,613 - BERTopic - Topic reduction - Reduced number of topics from 4 to 4\n"
     ]
    }
   ],
   "source": [
    "models = {}\n",
    "topics = {}\n",
    "probs = {}\n",
    "for i in range(0,3):\n",
    "    models['model'+str(i)] = BERTopic(embedding_model=sentence_model,vectorizer_model=vectorizer_model,representation_model=representation,ctfidf_model=ctfidf_model,verbose=True,calculate_probabilities=True, nr_topics='auto', min_topic_size=5)\n",
    "    topics['topics'+str(i)], probs['probs'+str(i)] = models['model'+str(i)].fit_transform(questions[str(i)])\n",
    "\n"
   ]
  },
  {
   "cell_type": "code",
   "execution_count": 31,
   "metadata": {},
   "outputs": [
    {
     "data": {
      "text/html": [
       "<div>\n",
       "<style scoped>\n",
       "    .dataframe tbody tr th:only-of-type {\n",
       "        vertical-align: middle;\n",
       "    }\n",
       "\n",
       "    .dataframe tbody tr th {\n",
       "        vertical-align: top;\n",
       "    }\n",
       "\n",
       "    .dataframe thead th {\n",
       "        text-align: right;\n",
       "    }\n",
       "</style>\n",
       "<table border=\"1\" class=\"dataframe\">\n",
       "  <thead>\n",
       "    <tr style=\"text-align: right;\">\n",
       "      <th></th>\n",
       "      <th>Topic</th>\n",
       "      <th>Count</th>\n",
       "      <th>Name</th>\n",
       "      <th>Representation</th>\n",
       "      <th>Representative_Docs</th>\n",
       "    </tr>\n",
       "  </thead>\n",
       "  <tbody>\n",
       "    <tr>\n",
       "      <th>0</th>\n",
       "      <td>-1</td>\n",
       "      <td>12</td>\n",
       "      <td>-1_influence indian society_lenin influenced p...</td>\n",
       "      <td>[influence indian society, lenin influenced po...</td>\n",
       "      <td>[The New Economic Policy – 1921 of Lenin had i...</td>\n",
       "    </tr>\n",
       "    <tr>\n",
       "      <th>1</th>\n",
       "      <td>0</td>\n",
       "      <td>26</td>\n",
       "      <td>0_policies british india_policies colonial ind...</td>\n",
       "      <td>[policies british india, policies colonial ind...</td>\n",
       "      <td>[Why did the industrial revolution first occur...</td>\n",
       "    </tr>\n",
       "    <tr>\n",
       "      <th>2</th>\n",
       "      <td>1</td>\n",
       "      <td>17</td>\n",
       "      <td>1_monuments art india_indian society_medieval ...</td>\n",
       "      <td>[monuments art india, indian society, medieval...</td>\n",
       "      <td>[The rock-cut architecture represents one of t...</td>\n",
       "    </tr>\n",
       "    <tr>\n",
       "      <th>3</th>\n",
       "      <td>2</td>\n",
       "      <td>17</td>\n",
       "      <td>2_mahatma gandhi discuss_mahatma gandhi strugg...</td>\n",
       "      <td>[mahatma gandhi discuss, mahatma gandhi strugg...</td>\n",
       "      <td>[Defying the barriers of age, gender and relig...</td>\n",
       "    </tr>\n",
       "  </tbody>\n",
       "</table>\n",
       "</div>"
      ],
      "text/plain": [
       "   Topic  Count                                               Name  \\\n",
       "0     -1     12  -1_influence indian society_lenin influenced p...   \n",
       "1      0     26  0_policies british india_policies colonial ind...   \n",
       "2      1     17  1_monuments art india_indian society_medieval ...   \n",
       "3      2     17  2_mahatma gandhi discuss_mahatma gandhi strugg...   \n",
       "\n",
       "                                      Representation  \\\n",
       "0  [influence indian society, lenin influenced po...   \n",
       "1  [policies british india, policies colonial ind...   \n",
       "2  [monuments art india, indian society, medieval...   \n",
       "3  [mahatma gandhi discuss, mahatma gandhi strugg...   \n",
       "\n",
       "                                 Representative_Docs  \n",
       "0  [The New Economic Policy – 1921 of Lenin had i...  \n",
       "1  [Why did the industrial revolution first occur...  \n",
       "2  [The rock-cut architecture represents one of t...  \n",
       "3  [Defying the barriers of age, gender and relig...  "
      ]
     },
     "execution_count": 31,
     "metadata": {},
     "output_type": "execute_result"
    }
   ],
   "source": [
    "models['model0'].get_topic_info()"
   ]
  },
  {
   "cell_type": "code",
   "execution_count": 32,
   "metadata": {},
   "outputs": [
    {
     "data": {
      "text/html": [
       "<div>\n",
       "<style scoped>\n",
       "    .dataframe tbody tr th:only-of-type {\n",
       "        vertical-align: middle;\n",
       "    }\n",
       "\n",
       "    .dataframe tbody tr th {\n",
       "        vertical-align: top;\n",
       "    }\n",
       "\n",
       "    .dataframe thead th {\n",
       "        text-align: right;\n",
       "    }\n",
       "</style>\n",
       "<table border=\"1\" class=\"dataframe\">\n",
       "  <thead>\n",
       "    <tr style=\"text-align: right;\">\n",
       "      <th></th>\n",
       "      <th>Topic</th>\n",
       "      <th>Count</th>\n",
       "      <th>Name</th>\n",
       "      <th>Representation</th>\n",
       "      <th>Representative_Docs</th>\n",
       "    </tr>\n",
       "  </thead>\n",
       "  <tbody>\n",
       "    <tr>\n",
       "      <th>0</th>\n",
       "      <td>-1</td>\n",
       "      <td>23</td>\n",
       "      <td>-1_monsoon climate_monsoon asia_monsoon called...</td>\n",
       "      <td>[monsoon climate, monsoon asia, monsoon called...</td>\n",
       "      <td>[What characteristics can be assigned to monso...</td>\n",
       "    </tr>\n",
       "    <tr>\n",
       "      <th>1</th>\n",
       "      <td>0</td>\n",
       "      <td>27</td>\n",
       "      <td>0_economic development india_potentials deccan...</td>\n",
       "      <td>[economic development india, potentials deccan...</td>\n",
       "      <td>[Whereas the British planters had developed te...</td>\n",
       "    </tr>\n",
       "    <tr>\n",
       "      <th>2</th>\n",
       "      <td>1</td>\n",
       "      <td>17</td>\n",
       "      <td>1_problems droughts floods_related problems dr...</td>\n",
       "      <td>[problems droughts floods, related problems dr...</td>\n",
       "      <td>[Identify and discuss the factors responsible ...</td>\n",
       "    </tr>\n",
       "    <tr>\n",
       "      <th>3</th>\n",
       "      <td>2</td>\n",
       "      <td>17</td>\n",
       "      <td>2_macro climatic changes_inversion meteorology...</td>\n",
       "      <td>[macro climatic changes, inversion meteorology...</td>\n",
       "      <td>[Briefly mention the alignment of major mounta...</td>\n",
       "    </tr>\n",
       "    <tr>\n",
       "      <th>4</th>\n",
       "      <td>3</td>\n",
       "      <td>10</td>\n",
       "      <td>3_ocean currents role_influence ocean currents...</td>\n",
       "      <td>[ocean currents role, influence ocean currents...</td>\n",
       "      <td>[Critically evaluate the various resources of ...</td>\n",
       "    </tr>\n",
       "  </tbody>\n",
       "</table>\n",
       "</div>"
      ],
      "text/plain": [
       "   Topic  Count                                               Name  \\\n",
       "0     -1     23  -1_monsoon climate_monsoon asia_monsoon called...   \n",
       "1      0     27  0_economic development india_potentials deccan...   \n",
       "2      1     17  1_problems droughts floods_related problems dr...   \n",
       "3      2     17  2_macro climatic changes_inversion meteorology...   \n",
       "4      3     10  3_ocean currents role_influence ocean currents...   \n",
       "\n",
       "                                      Representation  \\\n",
       "0  [monsoon climate, monsoon asia, monsoon called...   \n",
       "1  [economic development india, potentials deccan...   \n",
       "2  [problems droughts floods, related problems dr...   \n",
       "3  [macro climatic changes, inversion meteorology...   \n",
       "4  [ocean currents role, influence ocean currents...   \n",
       "\n",
       "                                 Representative_Docs  \n",
       "0  [What characteristics can be assigned to monso...  \n",
       "1  [Whereas the British planters had developed te...  \n",
       "2  [Identify and discuss the factors responsible ...  \n",
       "3  [Briefly mention the alignment of major mounta...  \n",
       "4  [Critically evaluate the various resources of ...  "
      ]
     },
     "execution_count": 32,
     "metadata": {},
     "output_type": "execute_result"
    }
   ],
   "source": [
    "models['model1'].get_topic_info()"
   ]
  },
  {
   "cell_type": "code",
   "execution_count": 33,
   "metadata": {},
   "outputs": [
    {
     "data": {
      "text/html": [
       "<div>\n",
       "<style scoped>\n",
       "    .dataframe tbody tr th:only-of-type {\n",
       "        vertical-align: middle;\n",
       "    }\n",
       "\n",
       "    .dataframe tbody tr th {\n",
       "        vertical-align: top;\n",
       "    }\n",
       "\n",
       "    .dataframe thead th {\n",
       "        text-align: right;\n",
       "    }\n",
       "</style>\n",
       "<table border=\"1\" class=\"dataframe\">\n",
       "  <thead>\n",
       "    <tr style=\"text-align: right;\">\n",
       "      <th></th>\n",
       "      <th>Topic</th>\n",
       "      <th>Count</th>\n",
       "      <th>Name</th>\n",
       "      <th>Representation</th>\n",
       "      <th>Representative_Docs</th>\n",
       "    </tr>\n",
       "  </thead>\n",
       "  <tbody>\n",
       "    <tr>\n",
       "      <th>0</th>\n",
       "      <td>-1</td>\n",
       "      <td>17</td>\n",
       "      <td>-1_india communalism arises_india communalism_...</td>\n",
       "      <td>[india communalism arises, india communalism, ...</td>\n",
       "      <td>[How do you explain the statistics that show t...</td>\n",
       "    </tr>\n",
       "    <tr>\n",
       "      <th>1</th>\n",
       "      <td>0</td>\n",
       "      <td>24</td>\n",
       "      <td>0_indian society_pluralism india_diversity ind...</td>\n",
       "      <td>[indian society, pluralism india, diversity in...</td>\n",
       "      <td>[In the context of the diversity of India, can...</td>\n",
       "    </tr>\n",
       "    <tr>\n",
       "      <th>2</th>\n",
       "      <td>1</td>\n",
       "      <td>12</td>\n",
       "      <td>1_inequalities poverty india_movement india ad...</td>\n",
       "      <td>[inequalities poverty india, movement india ad...</td>\n",
       "      <td>[“Male membership needs to be encouraged in or...</td>\n",
       "    </tr>\n",
       "    <tr>\n",
       "      <th>3</th>\n",
       "      <td>2</td>\n",
       "      <td>6</td>\n",
       "      <td>2_urbanization india_urban life india_process ...</td>\n",
       "      <td>[urbanization india, urban life india, process...</td>\n",
       "      <td>[How is the growth of Tier 2 cities related to...</td>\n",
       "    </tr>\n",
       "  </tbody>\n",
       "</table>\n",
       "</div>"
      ],
      "text/plain": [
       "   Topic  Count                                               Name  \\\n",
       "0     -1     17  -1_india communalism arises_india communalism_...   \n",
       "1      0     24  0_indian society_pluralism india_diversity ind...   \n",
       "2      1     12  1_inequalities poverty india_movement india ad...   \n",
       "3      2      6  2_urbanization india_urban life india_process ...   \n",
       "\n",
       "                                      Representation  \\\n",
       "0  [india communalism arises, india communalism, ...   \n",
       "1  [indian society, pluralism india, diversity in...   \n",
       "2  [inequalities poverty india, movement india ad...   \n",
       "3  [urbanization india, urban life india, process...   \n",
       "\n",
       "                                 Representative_Docs  \n",
       "0  [How do you explain the statistics that show t...  \n",
       "1  [In the context of the diversity of India, can...  \n",
       "2  [“Male membership needs to be encouraged in or...  \n",
       "3  [How is the growth of Tier 2 cities related to...  "
      ]
     },
     "execution_count": 33,
     "metadata": {},
     "output_type": "execute_result"
    }
   ],
   "source": [
    "models['model2'].get_topic_info()"
   ]
  },
  {
   "cell_type": "code",
   "execution_count": null,
   "metadata": {},
   "outputs": [],
   "source": []
  }
 ],
 "metadata": {
  "kernelspec": {
   "display_name": "venv",
   "language": "python",
   "name": "python3"
  },
  "language_info": {
   "codemirror_mode": {
    "name": "ipython",
    "version": 3
   },
   "file_extension": ".py",
   "mimetype": "text/x-python",
   "name": "python",
   "nbconvert_exporter": "python",
   "pygments_lexer": "ipython3",
   "version": "3.12.0"
  }
 },
 "nbformat": 4,
 "nbformat_minor": 2
}

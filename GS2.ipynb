{
 "cells": [
  {
   "cell_type": "code",
   "execution_count": 31,
   "metadata": {},
   "outputs": [],
   "source": [
    "import pandas as pd\n",
    "from bertopic import BERTopic\n",
    "from sentence_transformers import SentenceTransformer"
   ]
  },
  {
   "cell_type": "code",
   "execution_count": 32,
   "metadata": {},
   "outputs": [],
   "source": [
    "import warnings\n",
    "warnings.filterwarnings(\"ignore\")"
   ]
  },
  {
   "cell_type": "code",
   "execution_count": 33,
   "metadata": {},
   "outputs": [
    {
     "data": {
      "text/html": [
       "<div>\n",
       "<style scoped>\n",
       "    .dataframe tbody tr th:only-of-type {\n",
       "        vertical-align: middle;\n",
       "    }\n",
       "\n",
       "    .dataframe tbody tr th {\n",
       "        vertical-align: top;\n",
       "    }\n",
       "\n",
       "    .dataframe thead th {\n",
       "        text-align: right;\n",
       "    }\n",
       "</style>\n",
       "<table border=\"1\" class=\"dataframe\">\n",
       "  <thead>\n",
       "    <tr style=\"text-align: right;\">\n",
       "      <th></th>\n",
       "      <th>Year</th>\n",
       "      <th>Question</th>\n",
       "    </tr>\n",
       "  </thead>\n",
       "  <tbody>\n",
       "    <tr>\n",
       "      <th>191</th>\n",
       "      <td>2014</td>\n",
       "      <td>Do government’s schemes for up-lifting vulnera...</td>\n",
       "    </tr>\n",
       "    <tr>\n",
       "      <th>171</th>\n",
       "      <td>2015</td>\n",
       "      <td>The quality of higher education in India requi...</td>\n",
       "    </tr>\n",
       "    <tr>\n",
       "      <th>111</th>\n",
       "      <td>2018</td>\n",
       "      <td>Whether the Supreme Court Judgement (July 2018...</td>\n",
       "    </tr>\n",
       "  </tbody>\n",
       "</table>\n",
       "</div>"
      ],
      "text/plain": [
       "     Year                                           Question\n",
       "191  2014  Do government’s schemes for up-lifting vulnera...\n",
       "171  2015  The quality of higher education in India requi...\n",
       "111  2018  Whether the Supreme Court Judgement (July 2018..."
      ]
     },
     "execution_count": 33,
     "metadata": {},
     "output_type": "execute_result"
    }
   ],
   "source": [
    "df = pd.read_excel('GS2.xlsx')\n",
    "df.sample(3)"
   ]
  },
  {
   "cell_type": "code",
   "execution_count": 34,
   "metadata": {},
   "outputs": [
    {
     "data": {
      "text/plain": [
       "['“Constitutionally guaranteed judicial independence is a prerequisite of democracy”. Comment.',\n",
       " 'Who are entitled to receive free legal aid? Assess the role of the National Legal Services Authority (NALSA) in rendering free legal aid in India.',\n",
       " '“The states in India seem reluctant to empower urban local bodies both functionally as well as financially.” Comment.']"
      ]
     },
     "execution_count": 34,
     "metadata": {},
     "output_type": "execute_result"
    }
   ],
   "source": [
    "questions = df['Question'].values.tolist()\n",
    "questions[:3]"
   ]
  },
  {
   "cell_type": "code",
   "execution_count": 35,
   "metadata": {},
   "outputs": [],
   "source": [
    "#PIPELINE OF BERTMODEL\n",
    "# 1. EMBEDDING - BY DEFAULT USES all-MiniLM-L6-v2 SENTENCE TRANSFORMER\n",
    "# 2.  "
   ]
  },
  {
   "cell_type": "code",
   "execution_count": 36,
   "metadata": {},
   "outputs": [],
   "source": [
    "#USING DIFFERENT WORD EMBEDDINGS\n",
    "#USING SENTENCE TRANSFORMER\n",
    "\"\"\"\n",
    "    The all-mpnet-base-v2 model provides superior accuracy and a deeper understanding of the context and nuances in the text.\n",
    "    Given the manageable size of your dataset (200-300 questions), \n",
    "    the additional computational resources required by this model are justified by the improved performance and precision.  \n",
    "    Recommendation : huggingface transformer model sentence-transformers/stsb-roberta-large is best for this with best accuracy as far as i could find,\n",
    "    but requires so much computation my little laptop cannot handle.\n",
    "    even this model all-mpnet-base-v2 is heavy but i can manage it. like it takes 4-5 minutes to run the model.  \n",
    "\"\"\"\n",
    "sentence_model = SentenceTransformer('all-mpnet-base-v2')"
   ]
  },
  {
   "cell_type": "code",
   "execution_count": 37,
   "metadata": {},
   "outputs": [],
   "source": [
    "#USING FINETUNING \n",
    "from bertopic.representation import KeyBERTInspired\n",
    "from bertopic.representation import MaximalMarginalRelevance\n",
    "from bertopic.representation import PartOfSpeech\n",
    "\n",
    "representation = [PartOfSpeech(\"en_core_web_sm\"),MaximalMarginalRelevance(diversity=0.1),KeyBERTInspired(top_n_words=30)]\n",
    "\n",
    "# model = BERTopic(embedding_model=sentence_model,representation_model=representation,verbose=True,calculate_probabilities=True, nr_topics=30, n_gram_range=(1, 3), min_topic_size=3)\n",
    "\n"
   ]
  },
  {
   "cell_type": "code",
   "execution_count": 38,
   "metadata": {},
   "outputs": [],
   "source": [
    "#UPDATING C-TF-IDF\n",
    "from bertopic.vectorizers import ClassTfidfTransformer\n",
    "from sklearn.feature_extraction.text import CountVectorizer\n",
    "\n",
    "ctfidf_model = ClassTfidfTransformer(bm25_weighting=True,reduce_frequent_words=True)\n",
    "vectorizer_model = CountVectorizer(stop_words=\"english\", ngram_range=(1, 3))\n",
    "\n",
    "model = BERTopic(embedding_model=sentence_model,representation_model=representation,ctfidf_model=ctfidf_model,vectorizer_model=vectorizer_model,verbose=True,calculate_probabilities=True, nr_topics='auto', min_topic_size=3)"
   ]
  },
  {
   "cell_type": "code",
   "execution_count": 39,
   "metadata": {},
   "outputs": [
    {
     "name": "stderr",
     "output_type": "stream",
     "text": [
      "2024-07-12 17:43:07,148 - BERTopic - Embedding - Transforming documents to embeddings.\n",
      "Batches: 100%|██████████| 8/8 [00:09<00:00,  1.20s/it]\n",
      "2024-07-12 17:43:16,772 - BERTopic - Embedding - Completed ✓\n",
      "2024-07-12 17:43:16,773 - BERTopic - Dimensionality - Fitting the dimensionality reduction algorithm\n",
      "2024-07-12 17:43:20,186 - BERTopic - Dimensionality - Completed ✓\n",
      "2024-07-12 17:43:20,187 - BERTopic - Cluster - Start clustering the reduced embeddings\n",
      "2024-07-12 17:43:20,218 - BERTopic - Cluster - Completed ✓\n",
      "2024-07-12 17:43:20,218 - BERTopic - Representation - Extracting topics from clusters using representation models.\n",
      "2024-07-12 17:43:34,556 - BERTopic - Representation - Completed ✓\n",
      "2024-07-12 17:43:34,557 - BERTopic - Topic reduction - Reducing number of topics\n",
      "2024-07-12 17:43:50,301 - BERTopic - Topic reduction - Reduced number of topics from 13 to 13\n"
     ]
    }
   ],
   "source": [
    "topics, probs = model.fit_transform(questions)"
   ]
  },
  {
   "cell_type": "code",
   "execution_count": 40,
   "metadata": {},
   "outputs": [
    {
     "data": {
      "text/html": [
       "<div>\n",
       "<style scoped>\n",
       "    .dataframe tbody tr th:only-of-type {\n",
       "        vertical-align: middle;\n",
       "    }\n",
       "\n",
       "    .dataframe tbody tr th {\n",
       "        vertical-align: top;\n",
       "    }\n",
       "\n",
       "    .dataframe thead th {\n",
       "        text-align: right;\n",
       "    }\n",
       "</style>\n",
       "<table border=\"1\" class=\"dataframe\">\n",
       "  <thead>\n",
       "    <tr style=\"text-align: right;\">\n",
       "      <th></th>\n",
       "      <th>Topic</th>\n",
       "      <th>Count</th>\n",
       "      <th>Name</th>\n",
       "      <th>Representation</th>\n",
       "      <th>Representative_Docs</th>\n",
       "    </tr>\n",
       "  </thead>\n",
       "  <tbody>\n",
       "    <tr>\n",
       "      <th>0</th>\n",
       "      <td>-1</td>\n",
       "      <td>26</td>\n",
       "      <td>-1_alleviation programmes india_programmes ind...</td>\n",
       "      <td>[alleviation programmes india, programmes indi...</td>\n",
       "      <td>[“Though women in post-Independent India have ...</td>\n",
       "    </tr>\n",
       "    <tr>\n",
       "      <th>1</th>\n",
       "      <td>0</td>\n",
       "      <td>94</td>\n",
       "      <td>0_indian constitution_constitution discuss_ele...</td>\n",
       "      <td>[indian constitution, constitution discuss, el...</td>\n",
       "      <td>[Discuss the essentials of the 69th Constituti...</td>\n",
       "    </tr>\n",
       "    <tr>\n",
       "      <th>2</th>\n",
       "      <td>1</td>\n",
       "      <td>50</td>\n",
       "      <td>1_world bank imf_india position_countries disc...</td>\n",
       "      <td>[world bank imf, india position, countries dis...</td>\n",
       "      <td>[The proposed withdrawal of International Secu...</td>\n",
       "    </tr>\n",
       "    <tr>\n",
       "      <th>3</th>\n",
       "      <td>2</td>\n",
       "      <td>10</td>\n",
       "      <td>2_indian governance_local institutions india_l...</td>\n",
       "      <td>[indian governance, local institutions india, ...</td>\n",
       "      <td>[In the absence of well – educated and organis...</td>\n",
       "    </tr>\n",
       "    <tr>\n",
       "      <th>4</th>\n",
       "      <td>3</td>\n",
       "      <td>7</td>\n",
       "      <td>3_primary health structure_primary health_prim...</td>\n",
       "      <td>[primary health structure, primary health, pri...</td>\n",
       "      <td>[Professor Amartya Sen has advocated important...</td>\n",
       "    </tr>\n",
       "    <tr>\n",
       "      <th>5</th>\n",
       "      <td>4</td>\n",
       "      <td>6</td>\n",
       "      <td>4_self help groups_self help group_microfinanc...</td>\n",
       "      <td>[self help groups, self help group, microfinan...</td>\n",
       "      <td>[The legitimacy and accountability of Self Hel...</td>\n",
       "    </tr>\n",
       "    <tr>\n",
       "      <th>6</th>\n",
       "      <td>5</td>\n",
       "      <td>6</td>\n",
       "      <td>5_india hunger poverty_india hunger_hunger ind...</td>\n",
       "      <td>[india hunger poverty, india hunger, hunger in...</td>\n",
       "      <td>[How far do you agree with the view that the f...</td>\n",
       "    </tr>\n",
       "    <tr>\n",
       "      <th>7</th>\n",
       "      <td>6</td>\n",
       "      <td>5</td>\n",
       "      <td>6_reorient education india_skill employment_re...</td>\n",
       "      <td>[reorient education india, skill employment, r...</td>\n",
       "      <td>[National Education Policy 2020 is in conformi...</td>\n",
       "    </tr>\n",
       "    <tr>\n",
       "      <th>8</th>\n",
       "      <td>7</td>\n",
       "      <td>5</td>\n",
       "      <td>7_pressure groups india_legislatures india pre...</td>\n",
       "      <td>[pressure groups india, legislatures india pre...</td>\n",
       "      <td>[Pressure group politics is sometimes seen as ...</td>\n",
       "    </tr>\n",
       "    <tr>\n",
       "      <th>9</th>\n",
       "      <td>8</td>\n",
       "      <td>5</td>\n",
       "      <td>8_india development process_socio economic dev...</td>\n",
       "      <td>[india development process, socio economic dev...</td>\n",
       "      <td>[The Gati-Shakti Yojana needs meticulous coord...</td>\n",
       "    </tr>\n",
       "    <tr>\n",
       "      <th>10</th>\n",
       "      <td>9</td>\n",
       "      <td>5</td>\n",
       "      <td>9_reforms civil service_service strengthening ...</td>\n",
       "      <td>[reforms civil service, service strengthening ...</td>\n",
       "      <td>[Though Citizens’ charters have been formulate...</td>\n",
       "    </tr>\n",
       "    <tr>\n",
       "      <th>11</th>\n",
       "      <td>10</td>\n",
       "      <td>4</td>\n",
       "      <td>10_welfare schemes vulnerable_vulnerable backw...</td>\n",
       "      <td>[welfare schemes vulnerable, vulnerable backwa...</td>\n",
       "      <td>[Performance of welfare schemes that are imple...</td>\n",
       "    </tr>\n",
       "    <tr>\n",
       "      <th>12</th>\n",
       "      <td>11</td>\n",
       "      <td>3</td>\n",
       "      <td>11_reforming government delivery_run schemes g...</td>\n",
       "      <td>[reforming government delivery, run schemes go...</td>\n",
       "      <td>[Reforming the government delivery system thro...</td>\n",
       "    </tr>\n",
       "  </tbody>\n",
       "</table>\n",
       "</div>"
      ],
      "text/plain": [
       "    Topic  Count                                               Name  \\\n",
       "0      -1     26  -1_alleviation programmes india_programmes ind...   \n",
       "1       0     94  0_indian constitution_constitution discuss_ele...   \n",
       "2       1     50  1_world bank imf_india position_countries disc...   \n",
       "3       2     10  2_indian governance_local institutions india_l...   \n",
       "4       3      7  3_primary health structure_primary health_prim...   \n",
       "5       4      6  4_self help groups_self help group_microfinanc...   \n",
       "6       5      6  5_india hunger poverty_india hunger_hunger ind...   \n",
       "7       6      5  6_reorient education india_skill employment_re...   \n",
       "8       7      5  7_pressure groups india_legislatures india pre...   \n",
       "9       8      5  8_india development process_socio economic dev...   \n",
       "10      9      5  9_reforms civil service_service strengthening ...   \n",
       "11     10      4  10_welfare schemes vulnerable_vulnerable backw...   \n",
       "12     11      3  11_reforming government delivery_run schemes g...   \n",
       "\n",
       "                                       Representation  \\\n",
       "0   [alleviation programmes india, programmes indi...   \n",
       "1   [indian constitution, constitution discuss, el...   \n",
       "2   [world bank imf, india position, countries dis...   \n",
       "3   [indian governance, local institutions india, ...   \n",
       "4   [primary health structure, primary health, pri...   \n",
       "5   [self help groups, self help group, microfinan...   \n",
       "6   [india hunger poverty, india hunger, hunger in...   \n",
       "7   [reorient education india, skill employment, r...   \n",
       "8   [pressure groups india, legislatures india pre...   \n",
       "9   [india development process, socio economic dev...   \n",
       "10  [reforms civil service, service strengthening ...   \n",
       "11  [welfare schemes vulnerable, vulnerable backwa...   \n",
       "12  [reforming government delivery, run schemes go...   \n",
       "\n",
       "                                  Representative_Docs  \n",
       "0   [“Though women in post-Independent India have ...  \n",
       "1   [Discuss the essentials of the 69th Constituti...  \n",
       "2   [The proposed withdrawal of International Secu...  \n",
       "3   [In the absence of well – educated and organis...  \n",
       "4   [Professor Amartya Sen has advocated important...  \n",
       "5   [The legitimacy and accountability of Self Hel...  \n",
       "6   [How far do you agree with the view that the f...  \n",
       "7   [National Education Policy 2020 is in conformi...  \n",
       "8   [Pressure group politics is sometimes seen as ...  \n",
       "9   [The Gati-Shakti Yojana needs meticulous coord...  \n",
       "10  [Though Citizens’ charters have been formulate...  \n",
       "11  [Performance of welfare schemes that are imple...  \n",
       "12  [Reforming the government delivery system thro...  "
      ]
     },
     "execution_count": 40,
     "metadata": {},
     "output_type": "execute_result"
    }
   ],
   "source": [
    "model.get_topic_info()"
   ]
  },
  {
   "cell_type": "code",
   "execution_count": 54,
   "metadata": {},
   "outputs": [
    {
     "name": "stderr",
     "output_type": "stream",
     "text": [
      "2024-07-12 17:45:29,210 - BERTopic - Topic reduction - Reducing number of topics\n",
      "2024-07-12 17:45:38,118 - BERTopic - Topic reduction - Reduced number of topics from 13 to 8\n"
     ]
    },
    {
     "data": {
      "text/plain": [
       "<bertopic._bertopic.BERTopic at 0x25e7b728d70>"
      ]
     },
     "execution_count": 54,
     "metadata": {},
     "output_type": "execute_result"
    }
   ],
   "source": [
    "model.reduce_topics(questions,nr_topics=8)"
   ]
  },
  {
   "cell_type": "code",
   "execution_count": 55,
   "metadata": {},
   "outputs": [
    {
     "data": {
      "application/vnd.plotly.v1+json": {
       "config": {
        "plotlyServerURL": "https://plot.ly"
       },
       "data": [
        {
         "hoverinfo": "text",
         "hovertext": [
          "Implementation of Information and Communication technology (ICT) based projects/programmes usually suffers in terms of certain vital factors.\nIdentify these factors and suggest measures for their effective implementation.",
          "Electronic cash transfer system for the welfare schemes is an ambitious project to minimize corruption, eliminate wastage and facilitate reforms Comment.",
          "The Rights of Persons with Disabilities Act, 2016 remains only a legal document without intense sensitisation of government functionaries and citizens regarding disability. Comment.",
          "E-governance in not only about utilization of the power of new technology, but also much about critical importance of the ‘use value’ of information. Explain.",
          "The Right of Children to Free and Compulsory Education Act, 2009 remains inadequate in promoting incentive-based system for children’s education without generating awareness about the importance of schooling. Analyse",
          "‘Poverty Alleviation Programmes in India remain mere show pieces until and unless they are backed by political will’. Discuss with reference to the performance of the major poverty alleviation programmes in India.",
          "Should the premier institutes like IITs/ IIMs be allowed to retain premier status, allowed more academic independence in designing course and also decide mode/ criteria of selection of students. Discuss in light of the growing challenges.",
          "Assess the importance of the Panchayat system in India as a part of local government. Apart from government grants, what sources the Panchayats can look out for financing developmental projects?",
          "Examine critically the recent changes in the rule governing foreign funding of NGOs under the Foreign Contribution (Regulation) Act (FCRA), 1976.",
          "The emergence of Fourth Industrial Revolution (Digital Revolution) has initiated e-Governance as an integral part of government.” Discuss.",
          "Do you agree with the view that increasing dependence on donor agencies for development reduces the importance of community participation in the development process ? Justify your answer.",
          "Examine the main provisions of the National Child Policy and throw light on the status of its implementation.",
          "Discuss the role of the Competition Commission of India in containing the abuse of dominant position by the Multi-National Corporations in India. Refer to the recent decisions.",
          "While the national political parties in India favour centralisation, the regional parties are in favour of State autonomy.” Comment.",
          "“Though women in post-Independent India have excelled in various fields, the social attitude towards women and the feminist movement has been patriarchal.” Apart from women education and women empowerment schemes, what interventions can help change this milieu?",
          "e-governance, as a critical tool of governance, has ushered in effectiveness, transparency and accountability in governments. What inadequacies hamper the enhancement of these features?",
          "Critically examine the role of WHO in providing global health security during the Covid-19 pandemic.",
          "The product diversification of financial institutions and insurance companies, resulting in overlapping of products and services strengthens the case for the merger of the two regulatory agencies, namely SEBI and IRDA. Justify.",
          "How can be the role of NGOs be strengthened in India for development works relating to protection of the Environment? Discuss throwing light on the major constraints.",
          "The setting up of a Rail Tarif Authority to regulate fares will subject the cash strapped Indian Railways to demand subsidy for obligation to operate nonprofitable routes and services. Taking into account the experience in the power sector, discuss if the proposed reform is expected to benefit the consumers, the Indian Railways or the private container operators.",
          "Discuss the role of the National Commission for Backward Classes in the wake of its transformation from a statutory body to a constitutional body.",
          "Besides the welfare schemes, India needs deft management of inflation and unemployment to serve the poor and the underprivileged sections of the society. Discuss.",
          "“Policy contradictions among various competing sectors and stakeholders have resulted in inadequate ‘protection and prevention of degradation to environment.” Comment with relevant illustrations.",
          "Does the Rights of Persons with Disabilities Act, 2016 ensure effective mechanism for empowerment and inclusion of the intended beneficiaries in the society? Discuss",
          "“The reservation of seats for women in the institution of local self-government has had a limited impact on the patriarchal character of the Indian political process”.",
          "The concept of Mid Day Meal (MDM) scheme is almost a century old in India with early beginnings in Madras Presidency in pre-independent India. The scheme has again been given impetus in most states in the last two decades. Critically examine its twin objectives, latest mandates and success.",
          null
         ],
         "marker": {
          "color": "#CFD8DC",
          "opacity": 0.5,
          "size": 5
         },
         "mode": "markers+text",
         "name": "other",
         "showlegend": false,
         "type": "scattergl",
         "x": [
          11.747956275939941,
          10.846263885498047,
          9.978818893432617,
          12.108244895935059,
          10.586395263671875,
          10.44334602355957,
          8.542133331298828,
          11.865649223327637,
          9.817957878112793,
          12.15963363647461,
          10.275609970092773,
          10.361366271972656,
          8.905052185058594,
          11.908368110656738,
          11.072381019592285,
          12.189581871032715,
          9.223661422729492,
          8.972100257873535,
          9.852304458618164,
          10.588857650756836,
          10.189011573791504,
          10.678777694702148,
          9.85246467590332,
          9.991334915161133,
          11.202132225036621,
          10.167243957519531,
          10.520255088806152
         ],
         "y": [
          10.733652114868164,
          10.600096702575684,
          10.877161979675293,
          10.915398597717285,
          10.164984703063965,
          9.754985809326172,
          13.858075141906738,
          12.07817554473877,
          11.946429252624512,
          10.959424018859863,
          10.963501930236816,
          10.33608341217041,
          13.64453411102295,
          12.542755126953125,
          12.57654094696045,
          11.020230293273926,
          10.477155685424805,
          13.707204818725586,
          11.784061431884766,
          10.787598609924316,
          12.526410102844238,
          10.099438667297363,
          11.76252269744873,
          10.84441089630127,
          12.547310829162598,
          9.74386215209961,
          11.432768821716309
         ]
        },
        {
         "hoverinfo": "text",
         "hovertext": [
          "Constitutional mechanisms to resolve the inter-state water disputes have failed to address and solve the problems. Is the failure due to structural or process inadequacy or both? Discuss.",
          "What can France learn from the Indian Constitution’s approach to secularism?",
          "Discuss the role of the Vice –Presidents of India as the chairman of the Rajyasabha",
          "Discuss the essential conditions for exercise of the legislative powers by the Governor. Discuss the legality of re-promulgation of ordinances by the Governor without placing them before the Legislature.",
          "To what extent, in your opinion, as the decentralisation of power in India changed the governance landscape at the grassroots?",
          "From the resolution of contentious issues regarding distribution of legislative powers by the courts, ‘Principle of Federal Supremacy’ and ‘Harmonious Construction’ have emerged. Explain.",
          "Multiplicity of various commissions for the vulnerable sections of the society leads to problems of overlapping jurisdiction and duplication of functions. Is it better to merge all commissions into an umbrella Human Rights Commission? Argue your case.",
          "There is a need for simplification of procedure for disqualification of persons found guilty of corrupt practices under the Representation of Peoples Act.” Comment.",
          "Discuss each adjective attached to the word ‘Republic’ in the ‘Preamble’. Are they defendable in the present circumstances?",
          "How do pressure groups influence Indian political process? Do you agree with this view that informal pressure groups have emerged as powerful than formal pressure groups in recent years?",
          "Judicial Legislation is antithetical to the doctrine of separation of powers as envisaged in the Indian Constitution. In this context justify the filing of large number of public interest petitions praying for issuing guidelines to executive authorities.",
          "‘A national Lokpal, however strong it may be, cannot resolve the problems of immorality in public affairs.’ Discuss.",
          "Has the Indian governmental system responded adequately to the demands of Liberalization, Privatization and Globalization started in 1991? What can the government do to be responsive to this important change?",
          "” The Construction of India is a living instrument with capabilities of enormous dynamism. It is a constitution made for a progressive society”.\nIllustrate with special reference to the expanding horizons of the right to life and personal liberty.",
          "Recent directives from Ministry of Petroleum and Natural Gas are perceived by the ‘Nagas’ as a threat to override the exceptional status enjoyed by the State. Discuss in light of Article 371A of the Indian Constitution.",
          "The Indian Constitution has provisions for holding joint session of the two houses of the Parliament. Enumerate the occasions when this would normally happen and also the occasions when it cannot, with reasons thereof.",
          "“The Attorney-General is the chief legal adviser and lawyer of the Government of India.”",
          "What is quasi-judicial body? Explain with the help of concrete examples.",
          "To what extent is Article 370 of the Indian Constitution, bearing marginal note “temporary provision with respect to the State of Jammu and Kashmir”, temporary? Discuss the future prospects of this provision in the context of Indian polity.",
          "The role of individual MPs (Members of Parliament) has diminished over the years and as a result healthy constructive debates on policy issues are not usually witnessed. How far can this be attributed to the anti-defection law which was legislated but with a different intention?",
          "What is meant by Gujral doctrine? Does it have any relevance today? Discuss.",
          "Discuss the role of Presiding Officers of state legislatures in maintaining order and impartiality in conducting legislative work and in facilitating best democratic practices.",
          "Exercise of CAG’s powers in relation to the accounts of the Union and the States is derived from Article 149 of the Indian Constitution. Discuss whether audit of the Government’s policy implementation could amount to overstepping its own (CAG) jurisdiction.",
          "Discuss the possible factors that inhibit India from enacting for its citizen a uniform civil code as provided for in the Directive Principles of State Policy.",
          "Under what circumstances can the Financial Emergency be proclaimed by the President of India? What consequences follow when such a declaration remains in force?",
          "Many States Governments further bifurcate geographical administrative areas like Districts and Talukas for better governance. In light of the above, can it also be justified that more number of smaller States would bring in effective governance at State level? Discuss.",
          "In the absence of well – educated and organised local level government system, Panchayats and Samitis have remained mainly political institutions and not effective instrument of governance. Critically Discuss.",
          "Discuss the role of Public Accounts Committee in establishing accountability of the government to the people.",
          "Discuss Section 66A of IT Act, with reference to its alleged violation of Article 19 of the Constitution.",
          "Who are entitled to receive free legal aid? Assess the role of the National Legal Services Authority (NALSA) in rendering free legal aid in India.",
          "‘Constitutional Morality’ is rooted in the Constitution itself and is founded on its essential facets. Explain the doctrine of ‘Constitutional Morality’ with the help of relevant judicial decisions.",
          "Whether the Supreme Court Judgement (July 2018) can settle the political tussle between the Lt.\nGovernor and elected government of Delhi? Examine.",
          "Instances of President’s delay in commuting death sentences has come under public debate as denial of justice. Should there be a time limit specified for the President to accept/reject such petitions ?\nAnalyse.",
          "‘Simultaneous election to the Lok Sabha and the State Assemblies will limit the amount of time and money spent in electioneering but it will reduce the government’s accountability to the people’ Discuss.",
          "“Recent amendments to the Right to Information Act will have profound impact on the autonomy and independence of the Information Commission.” Discuss.",
          "Explain the constitutional provisions under which Legislative Councils are established. Review the working and current status of Legislative Councils with suitable illustrations.",
          "Is the National Commission for Women able to strategize and tackle the problems that women face at both public and private spheres? Give reasons in support of your answer.",
          "“Pressure groups play a vital role in influencing public policy making in India.” Explain how the business associations contribute to public policies",
          "Account for the legal and political factors responsible for the reduced frequency of using Article 356 by the Union Governments since mid 1990s.",
          "Does the right to clean environment entail legal regulation on burning crackers during Diwali? Discus in the light of Article 21 of Indian Constitution and judgements of the apex in this regard.",
          "Once a Speaker, Always a Speaker!’ Do you think this practice should be adopted to impart objectivity to the office of the Speaker of Lok Sabha? What could be its implications for the robust functioning of parliamentary business in India?",
          "Pressure group politics is sometimes seen as the informal face of politics. With regards to the above, assess the structure and functioning of pressure groups in India.",
          "If amendment bill to the Whistleblowers Act 2011 tabled in the Parliament is passed, there maybe no one left to protect. Critically Evaluate.",
          "Discuss the role of the Election Commission of India in the light of the evolution of the Model Code of Conduct.",
          "The jurisdiction of the Central Bureau of Investigation(CBI) regarding lodging an FIR and conducting probe within a particular state is being questioned by various States. However, the power of States to withhold consent to the CBI is not absolute. Explain with special reference to the federal character of India.",
          "Discuss the recommendations of the 13th Finance Commission which have been a departure from the previous commissions for strengthening the local government finances.",
          "Indian and USA are two large democracies. Examine the basic tenets on which the two political systems are based.",
          "Though the federal principal is dominant in our constitution and that principle is one of its basic features, but it is equally true that federalism under the Indian Constitution leans in favour of a strong Center, a feature that militates against the concept of strong federalism. Discuss.",
          "The concept of cooperative federalism has been increasingly emphasized in recent years. Highlight the drawbacks in the existing structure and extent to which cooperative federalism would answer the shortcomings.",
          "“The Indian party system is passing through a phase of transition which looks to be full of contradictions and paradoxes.” Discuss.",
          "The Central Administrative Tribunal which was established for redressal of grievances and complaints by or against central government employees, nowadays is exercising its powers as an independent judicial authority.” Explain.",
          "How have the recommendations of the 14th Finance Commission of India enabled the states to improve their fiscal position?",
          "Has the Cadre based Civil Services organzation been the cause of slow change in India? Critically examine.",
          "To enhance the quality of democracy in India the Election Commission of India has proposed electoral reforms in 2016. What are the suggested reforms and how far are they significant to make democracy successful?",
          "“In the Indian governance system, the role of\nnon-state actors has been only marginal.” Critically examine this statement.",
          "The strength and sustenance of local institutions in India has shifted from their formative phase of ‘Functions, Functionaries and Funds’ to the contemporary stage of ‘Functionality’. Highlight the critical challenges faced by local institutions in terms of their functionality in recent times.",
          "“Right of movement and residence throughout the territory of India are freely available to the Indian citizens, but these rights are not absolute. “ Comment.",
          "Compare and contrast the British and Indian approaches to Parliamentary sovereignty.",
          "The judicial systems in India and UK seem to be converging as well as diverging in recent times. Highlight the key points of convergence and divergence between the two nations in terms of their judicial practices.",
          "Discuss the desirability of greater representation to women in the higher judiciary to ensure diversity, equity and inclusiveness.",
          "The judicial systems in India and UK seem to be converging as well as diverging in recent times. Highlight the key points of convergence and divergence between the two nations in terms of their judicial practices.",
          "“The states in India seem reluctant to empower urban local bodies both functionally as well as financially.” Comment.",
          "“Parliament’s power to amend the constitution is a limited power and it cannot be enlarged into absolute power”. In the light of this statement explain whether parliament under article 368 of the constitution can destroy the Basic structure of the constitution by expanding its amending power?",
          "Discuss the essentials of the 69th Constitutional Amendment Act and anomalies, if any, that have led to recent reported conflicts between the elected representatives and the institution of the Lieutenant Governor in the administration of Delhi. Do you think that this will give rise to a new trend in the functioning of the Indian federal politics?",
          "How far do you agree with the view that tribunals curtail the jurisdiction of ordinary courts? In view of the above, discuss the constitutional validity and competency of the tribunals in India.",
          "National Human Rights Commission (NHRC) in India can be most effective when its tasks are adequately supported by other mechanisms that ensure the accountability of a government. In light of the above observation assess the role of NHRC as an effective complement to the judiciary and the judiciary and other institutions. In promoting and protecting human rights standards.",
          "Though the Human Rights Commissions have contributed immensely to the protection of human rights in India, yet they have failed to assert themselves against the mighty and powerful.\nAnalyzing their structural and practical limitations, suggest remedial measures.",
          "Do Department-related Parliamentary Standing Committees keep the administration on its toes and inspire reverence for parliamentary control? Evaluate the working of such committees with suitable examples.",
          "In the integrity index of Transparency International, India stands very low. Discuss briefly the legal, political, economic, social and cultural factors that have caused the decline of public morality in India.",
          "Did the Government of India Act, 1935 lay down a federal constitution? Discuss.",
          "How far do you think cooperation, competition and confrontation have shaped the nature of federation in India? Cite some recent examples to validate your answer.",
          "Explain the constitutional perspectives of Gender Justice with the help of relevant Constitutional Provisions and case laws.",
          "Critically examine the Supreme Court’s judgement on ‘National Judicial Appointments Commission Act, 2014’ with reference to appointment of judges of higher judiciary in India.",
          "Rajya Sabha has been transformed from a ‘useless stepney tyre’ to the most useful supporting organ in past few decades. Highlight the factors as well as the areas in which this transformation could be visible.",
          "In the light of Satyam Scandal (2009), discuss the changes brought in the corporate governance to ensure transparency and accountability.",
          "Discuss the procedures to decide the disputes arising out of the election of a Member of the Parliament or State Legislature under The Representation of the People Act, 1951. What are the grounds on which the election of any returned candidate may be declared void? What remedy is available to the aggrieved party against the decision\n? Refer to the case laws.",
          "Critically examine the procedures through which the Presidents of India and France are elected",
          "What are the methods used by the farmer’s organizations to influence the policy-makers in India and how effective are these methods?",
          "Individual parliamentarian’s role as the national law maker is on a decline, which in turn, has adversely impacted the quality of debates and their outcome. Discuss.",
          "Khap panchayats have been in the news for functioning as extra – constitutional authorities, often delivering pronouncements amounting to human right violations. Discuss critically the actions taken by the legislative, executive and judiciary to set the things right in this regard.",
          "Why do you think the committees are considered to be useful for parliamentary work? Discuss, in this context, the role of the Estimates Committee.",
          "The size of the cabinet should be as big as governmental work justifies and as big as the Prime Minister can manage as a team. How far is the efficacy of a government then inversely related to the size of the cabinet? Discuss.",
          "The ‘Powers, Privileges and Immunities of Parliament and its Members’ as envisaged in Article 105 of the Constitution leave room for a large number of un-codified and un-enumerated privileges to continue. Assess the reasons for the absence of legal codification of the ‘parliamentary privileges’.\nHow can this problem be addressed?",
          "Explain the significance of the 101st Constitutional Amendment Act. To what extent does it reflect the accommodative spirit of federalism?",
          "Indian Constitution exhibits centralising tendencies to maintain unity and integrity of the nation.\nElucidate in the perspective of the Epidemic Diseases Act, 1897, the Disaster Management Act, 2005 and recently passed Farm Acts.",
          "On what grounds a people’s representative can be disqualified under the representation of people act, 1951? Also mention the remedies available to such person against his disqualification.",
          "Do you think Constitution of India does not accept principle of strict separation of powers rather it is based on the principle of ‘checks and balance’?\nExplain.",
          "Explain the structure of the Parliamentary Committee system. How far have the financial committees helped in the institutionalization of Indian Parliament?",
          "What was held in the Coelho case? In this context, can you say that judicial review is of key importance amongst the basic features of the Constitution?",
          "How is the Finance Commission of India constituted? What do you know about the terms of reference of the recently constituted Finance Commission? Discuss.",
          "Discuss the contribution of civil society groups for women’s effective and meaningful participation and representation in state legislatures in India.",
          "“The Comptroller and Auditor General (CAG) has a very vital role to play.” Explain how this is reflected in the method and terms of his appointment as well as the range of powers he can exercise",
          "‘The Supreme Court of India keeps a check on arbitrary power of the Parliament in amending the Constitution.’ Discuss critically.",
          "“The most significant achievement of modern law in India is the constitutionalization of environmental problems by the Supreme Court.” Discuss this statement with the help of relevant case laws.",
          "Analyze the distinguishing features of the notion of Equality in the Constitutions of the USA and India.",
          "For achieving the desired objectives,it is necessary to ensure that the regulatory institution remain independent and autonomous. Discuss in the light of experiences in recent past.",
          "To what extent, in your view, the Parliament is able to ensure accountability of the executive in India?",
          "What are the major changes brought in the Arbitration and Conciliation Act, 1996 through the recent ordinance promulgated by the President? How far will it improve India’s dispute resolution mechanism? Discuss.",
          "Explain the salient features of the constitution(One Hundred and First Amendment) Act, 2016. Do you think it is efficacious enough ‘to remove cascading effect of taxes and provide for common national market for goods and services’?",
          "Examine the scope of Fundamental Rights in the light of the latest judgement of the Supreme Court on Right to Privacy.",
          "Starting from inventing the ‘basic structure’ doctrine, the judiciary has played a highly proactive role in ensuring that India develops into a thriving democracy. In light of the statement, evaluate the role played by judicial activism in achieving the ideals of democracy.",
          "Resorting to ordinances has always raised concern on violation of the spirit of separation of power doctrine. While noting the rationales justifying the power to promulgate, analyse whether the decision of the Supreme Court on the issue have further facilitated to resorting to this power. Should the power to promulgate the ordinances be repealed?",
          "Which steps are required for constitutionalization of a Commission? Do you think imparting constitutionality to the National Commission for Women would ensure greater gender justice and empowerment in India? Give reasons.",
          "“Constitutionally guaranteed judicial independence is a prerequisite of democracy”. Comment.",
          "In the light of recent controversy regarding the use of Electronic Voting Machines (EVM), what are the challenges before the Election Commission of India to ensure the trustworthiness of elections in India?",
          "“Effectiveness of the government system at various levels and people’s participation in the governance system are inter-dependent/” Discuss their relationship in the context of India.",
          "The local self government system in India has not proved to be effective instrument of governance”. Critically examine the statement and give your views to improve the situation.",
          "Whether National Commission for Scheduled Castes (NCSC) can enforce the implementation of constitutional reservation for the Scheduled Castes in the religious minority institutions? Examine.",
          "What do you understand by the concept “freedom of speech and expression”? Does it cover hate speech also? Why do the films in India stand on a slightly different plane from other forms of expression?\nDiscuss.",
          null
         ],
         "marker": {
          "opacity": 0.5,
          "size": 5
         },
         "mode": "markers+text",
         "name": "0_indian constitution_election commission india_amendment act",
         "text": [
          "",
          "",
          "",
          "",
          "",
          "",
          "",
          "",
          "",
          "",
          "",
          "",
          "",
          "",
          "",
          "",
          "",
          "",
          "",
          "",
          "",
          "",
          "",
          "",
          "",
          "",
          "",
          "",
          "",
          "",
          "",
          "",
          "",
          "",
          "",
          "",
          "",
          "",
          "",
          "",
          "",
          "",
          "",
          "",
          "",
          "",
          "",
          "",
          "",
          "",
          "",
          "",
          "",
          "",
          "",
          "",
          "",
          "",
          "",
          "",
          "",
          "",
          "",
          "",
          "",
          "",
          "",
          "",
          "",
          "",
          "",
          "",
          "",
          "",
          "",
          "",
          "",
          "",
          "",
          "",
          "",
          "",
          "",
          "",
          "",
          "",
          "",
          "",
          "",
          "",
          "",
          "",
          "",
          "",
          "",
          "",
          "",
          "",
          "",
          "",
          "",
          "",
          "",
          "",
          "",
          "",
          "",
          "",
          "",
          "0_indian constitution_election commission india_amendment act"
         ],
         "textfont": {
          "size": 12
         },
         "type": "scattergl",
         "x": [
          11.032379150390625,
          10.308820724487305,
          12.095553398132324,
          11.190180778503418,
          11.664191246032715,
          10.83780574798584,
          9.878264427185059,
          11.397146224975586,
          10.966841697692871,
          11.299919128417969,
          10.287127494812012,
          11.979436874389648,
          11.603766441345215,
          9.989025115966797,
          10.5109224319458,
          11.509044647216797,
          9.951817512512207,
          10.836189270019531,
          11.072574615478516,
          11.837121963500977,
          10.300151824951172,
          11.42960262298584,
          10.554244995117188,
          12.171022415161133,
          10.920315742492676,
          11.888760566711426,
          11.784358024597168,
          11.061968803405762,
          9.676778793334961,
          9.7632417678833,
          10.560171127319336,
          10.981706619262695,
          9.844856262207031,
          12.213780403137207,
          9.576040267944336,
          11.432428359985352,
          10.213517189025879,
          11.140896797180176,
          11.412275314331055,
          9.784008979797363,
          12.196964263916016,
          11.1713285446167,
          11.221982955932617,
          12.18997859954834,
          10.251396179199219,
          10.8691987991333,
          11.610615730285645,
          10.708218574523926,
          11.026947021484375,
          12.199542045593262,
          9.825657844543457,
          11.034643173217773,
          11.683416366577148,
          12.367790222167969,
          11.630346298217773,
          11.877303123474121,
          9.981487274169922,
          11.48433780670166,
          9.732050895690918,
          10.433683395385742,
          9.719758987426758,
          11.736964225769043,
          11.118401527404785,
          11.308143615722656,
          9.6474027633667,
          9.938974380493164,
          9.96532154083252,
          11.89964485168457,
          11.923863410949707,
          10.70406436920166,
          11.592414855957031,
          10.45777416229248,
          9.876275062561035,
          12.170452117919922,
          10.78625774383545,
          11.61428165435791,
          12.251879692077637,
          11.248806953430176,
          11.821800231933594,
          10.223058700561523,
          11.85096549987793,
          11.87572193145752,
          11.683822631835938,
          11.11968994140625,
          10.448822975158691,
          11.54784870147705,
          10.544914245605469,
          11.952987670898438,
          10.36527156829834,
          10.999091148376465,
          11.082268714904785,
          10.77747917175293,
          10.333415985107422,
          9.81933307647705,
          10.451544761657715,
          9.01223087310791,
          11.522744178771973,
          9.497756958007812,
          11.111188888549805,
          10.127391815185547,
          10.134742736816406,
          10.637187957763672,
          10.199607849121094,
          10.233877182006836,
          12.342355728149414,
          11.691692352294922,
          11.903825759887695,
          9.976890563964844,
          9.803156852722168,
          10.949618339538574
         ],
         "y": [
          14.64995288848877,
          15.342172622680664,
          14.297204971313477,
          14.566427230834961,
          11.918394088745117,
          14.843453407287598,
          13.748018264770508,
          13.72862434387207,
          15.030110359191895,
          12.002985954284668,
          14.523910522460938,
          13.42029857635498,
          11.710564613342285,
          15.198025703430176,
          14.1603364944458,
          14.863085746765137,
          13.80087661743164,
          14.518494606018066,
          14.775677680969238,
          14.604317665100098,
          15.335335731506348,
          14.45295238494873,
          13.719732284545898,
          13.063131332397461,
          13.85846996307373,
          12.386688232421875,
          12.132838249206543,
          13.689953804016113,
          13.675783157348633,
          14.22556209564209,
          15.045256614685059,
          14.403851509094238,
          14.366528511047363,
          13.347573280334473,
          13.738710403442383,
          14.485905647277832,
          12.952061653137207,
          12.04865837097168,
          14.664109230041504,
          14.860868453979492,
          14.352836608886719,
          12.097898483276367,
          13.5396728515625,
          13.586556434631348,
          13.808433532714844,
          13.281052589416504,
          15.154945373535156,
          15.30224609375,
          15.14271068572998,
          13.36483097076416,
          13.698723793029785,
          13.069429397583008,
          11.451205253601074,
          13.524680137634277,
          12.267364501953125,
          12.209822654724121,
          15.16435718536377,
          15.100435256958008,
          14.286945343017578,
          13.195160865783691,
          14.30074405670166,
          12.407182693481445,
          14.877216339111328,
          14.765707015991211,
          14.173617362976074,
          14.068492889404297,
          14.026773452758789,
          14.429821014404297,
          13.406872749328613,
          15.302062034606934,
          15.146535873413086,
          13.215127944946289,
          14.41503620147705,
          14.355712890625,
          13.503049850463867,
          13.997020721435547,
          13.820808410644531,
          12.022174835205078,
          14.645245552062988,
          13.947274208068848,
          14.486441612243652,
          15.079529762268066,
          14.671405792236328,
          15.156803131103516,
          15.328277587890625,
          13.864923477172852,
          15.175270080566406,
          14.352145195007324,
          14.86219310760498,
          13.905901908874512,
          12.485211372375488,
          13.558039665222168,
          14.659419059753418,
          14.784871101379395,
          15.379631042480469,
          13.678756713867188,
          13.458532333374023,
          13.973974227905273,
          15.1593656539917,
          14.782735824584961,
          14.501092910766602,
          14.662917137145996,
          13.001790046691895,
          14.751007080078125,
          13.589258193969727,
          11.974157333374023,
          12.296541213989258,
          13.014168739318848,
          15.343332290649414,
          13.986425399780273
         ]
        },
        {
         "hoverinfo": "text",
         "hovertext": [
          "An athete participates in Olympics for personal triumph and nation’s glory; victors are showered with cash incentives by various agencles, on their return. Discuss the merit of state sponsored talent hunt and its cultivation as against the rationale of a reward mechanism as encouragement.",
          "What are the key areas of reform if the WTO has to survive in the present context of ‘Trade War’, especially keeping in mind the interest of India?",
          "Critically examine the aims and objectives of SCO. what importance does it hold for India?",
          "WTO is an important international institution where decisions taken affect countries in a profound manner. What is the mandate of WTO and how binding are their decisions? Critically analyse India’s stand on the latest round of talks on Food security.",
          "‘The expansion and strengthening of NATO and a stronger US-Europe strategic partnership works well in India.’ What is your opinion about this statement? Give reasons and examples to support your answer.",
          "Indian diaspora has a decisive role to play in the politics and economy of America and European Countries.’ Comment with examples.",
          "“India’s relations with Israel have, of late, acquired a depth and diversity, which cannot be rolled back.” Discuss.",
          "‘Sea is an important Component of the Cosmos’. Discuss in the light of the above statement the role of the IMO (International Maritime Organisation) in protecting environment and enhancing maritime safety and security.",
          "‘Virus of Conflict is affecting the functioning of the SCO’. In the light of the above statement point out the role of India in mitigating problems.",
          "Terrorist activities and mutual distrust have clouded India – Pakistan relations. To what extent the use of soft power like sports and cultural exchange could help generate goodwill between the two countries? Discuss with suitable examples.",
          "The proposed withdrawal of International Security Assistance Force (ISAF) from Afghanistan in 2014 is fraught with major security implications for the countries of the region. Examine in light of the fact that India is faced with a plethora of challenges and needs to safeguard its own strategic interests.",
          "What do you understand by ‘The String of Pearls’? How does it impact India? Briefly outline the steps taken by India to counter this.",
          "What introduces friction into the ties between India and United States is that Washington is still unable to find for India a position in its global strategy, which would satisfy India’s national self-esteem and ambitions’. Explain with suitable examples.",
          "“The broader aims and objectives of WTO are to manage and promote international trade in the era of globalization. But the Doha round of negotiations seem doomed due to differences between the developed and the developing countries.” Discuss in the Indian perspective.",
          "In respect of India-Sri Lanka relations, discuss how domestic factors influence foreign policy.",
          "Project ‘Mausam’ is considered a unique foreign policy initiative of the Indian government to improve relationship with its neighbours. Does the project have a strategic dimension? Discuss",
          "“Increasing cross-border terrorist attacks in India and growing interference in the internal affairs of several member-states by Pakistan are not conducive for the future of SAARC (South Asian Association for Regional Cooperation).” Explain with suitable examples.",
          "How will 12U2 (India, Israel, UAE and USA) grouping transform India’s position in global politics?",
          "With respect to the South China sea, maritime territorial disputes and rising tension affirm the need for safeguarding maritime security to ensure freedom of navigation and over flight throughout the region. In this context, discuss the bilateral issues between India and China.",
          "Discuss the impediments India is facing in its pursuit of a permanent seat in UNSC.",
          "A number of outside powers have entrenched themselves in Central Asia, which is a zone of interest to India. Discuss the implications, in this context, of India’s joining the Ashgabat Agreement, 2018.",
          "Discuss the political developments in Maldives in the last two years. Should they be of any cause of concern to India?",
          "The protests in Shahbag Square in Dhaka in Bangladesh reveal a fundamental split in society between the nationalists. and Islamic forces. What is its significance for India?",
          "What are the aims and objectives of the McBride Commission of the UNESCO? What is India’s position on these?",
          "India has recently signed to become founding member of New Development Bank (NDB) and also the Asian Infrastructure Bank (AIIB). How will the role of the two Banks be different? Discuss the strategic significance of these two Banks for India.",
          "Too little cash, too much politics, leaves UNESCO fighting for life.’ Discuss the statement in the light of US’ withdrawal and its accusation of the cultural body as being ‘anti-Israel bias’.",
          "What are the main functions of the United Nations Economic and Social Council (ECOSOC)? Explain different functional commissions attached to it.",
          "Clean energy is the order of the day.’ Describe briefly India’s changing policy towards climate change in various international fora in the context of geopolitics.",
          "“If the last few decades were of Asia’s growth story, the next few are expected to be of Africa’s.” In the light of this statement, examine India’s influence in Africa in recent years.",
          "Though 100 percent FDI is already allowed in for quite some time. What difference would an increase in FDI make? Critically evaluate the pros and cons.\nnon-news media like a trade publication and general entertainment channel, the Government is mulling over the proposal for increased FDI in news media",
          "The newly tri-nation partnership AUKUS is aimed at countering China’s ambitions in the Indo-Pacific region. Is it going to supersede the existing partnerships in the region? Discuss the strength and impact of AUKUS in the present scenario.",
          "“The long sustained image of India as a leader of the oppressed and marginalised nations has disappeared on account of its new found role in the emerging global order.’ Elaborate",
          "Economic ties between India and Japan while growing in the recent years are still far below their potential. Elucidate the policy constraints which are inhibiting this growth.",
          "What is the significance of Indo-US defence deals over Indo-Russian defence deals? Discuss with reference to stability in the Indo-Pacific region.",
          "‘China is using its economic relations and positive trade surplus as tools to develop potential military power status in Asia’, In the light of this statement, discuss its impact on India as her neighbor.",
          "The quality of higher education in India requires major improvement to make it internationally competitive. Do you think that the entry of foreign educational institutions would help improve the quality of technical and higher education in the country. Discuss.",
          "Increasing interest of India in Africa has its pro and cons. Critically Examine.",
          "Do you think that BIMSTEC is a parallel organisation like the SAARC ? What are the similarities and dissimilarities between the two ? How are Indian foreign policy objectives realized by forming this new organisation ?",
          "The time has come for India and Japan to build a strong contemporary relationship, one involving global and strategic partnership that will have a great significance for Asia and the world as a whole.’ Comment.",
          "In what ways would the ongoing US-Iran Nuclear Pact Controversy affect the national interest of India? How should India respond to its situation?",
          "Indian diaspora has scaled new heights in the West. Describe its economic and political benefits for India.",
          "Some of the International funding agencies have special terms for economic participation stipulating a substantial component of the aid to be used for sourcing equipment from the\\ leading countries.\nDiscuss on merits of such terms and if there exists a strong case not to accept such conditions in the India context.",
          "‘Quadilateral Security Dialogue (Quad)’ is transforming itself into a trade bloc from a military alliance, in present times – Discuss.",
          "The aim of Information Technology Agreements (ITAs) is to lawer all taxes and tariffs on information technology products by signatories to zero. What impact would such agreements have on India’s interests?",
          "The question of India’s Energy Security constitutes the most important part of India’s economic progress. Analyze India’s energy policy cooperation with West Asian Countries.",
          "Evaluate the economic and strategic dimensions of India’s Look East Policy in the context of the post Cold War international scenario.",
          "The World Bank and the IMF, collectively known as the Bretton Woods Institutions, are the two\ninter-governmental pillars supporting the structure of the world’s economic and financial order.\nSuperficially, the World Bank and the IMF exhibit many common characteristics, yet their role, functions and mandate are distinctly different.\nElucidate.",
          "India is an age-old friend of Sri Lanka.’ Discuss India’s role in the recent crisis in Sri Lanka in the light of the preceding statement.",
          "Indian Diaspora has an important role to play in South-East Asian countries’ economy and society. Appraise the role of Indian Diaspora in South- East Asia in this context",
          "“The USA is facing an existential threat in the form of a China, that is much more challenging than the erstwhile Soviet Union.” Explain",
          null
         ],
         "marker": {
          "opacity": 0.5,
          "size": 5
         },
         "mode": "markers+text",
         "name": "1_india position global_india discuss_world bank imf",
         "text": [
          "",
          "",
          "",
          "",
          "",
          "",
          "",
          "",
          "",
          "",
          "",
          "",
          "",
          "",
          "",
          "",
          "",
          "",
          "",
          "",
          "",
          "",
          "",
          "",
          "",
          "",
          "",
          "",
          "",
          "",
          "",
          "",
          "",
          "",
          "",
          "",
          "",
          "",
          "",
          "",
          "",
          "",
          "",
          "",
          "",
          "",
          "",
          "",
          "",
          "",
          "1_india position global_india discuss_world bank imf"
         ],
         "textfont": {
          "size": 12
         },
         "type": "scattergl",
         "x": [
          7.1623945236206055,
          7.309170246124268,
          6.766258239746094,
          7.2319159507751465,
          5.918530464172363,
          6.769232749938965,
          6.325793266296387,
          6.160216808319092,
          6.5226006507873535,
          6.396660327911377,
          5.894909858703613,
          6.330269813537598,
          6.49724006652832,
          7.283466815948486,
          6.443161964416504,
          6.088191986083984,
          6.371414661407471,
          6.128244876861572,
          5.748013019561768,
          6.613724708557129,
          5.857802391052246,
          6.4236159324646,
          6.723269939422607,
          6.8354363441467285,
          7.083877086639404,
          6.691126346588135,
          6.8781914710998535,
          6.0943732261657715,
          6.123551368713379,
          7.995859622955322,
          5.622025966644287,
          6.450911045074463,
          5.833398818969727,
          5.644032001495361,
          5.706012725830078,
          7.9683837890625,
          6.289753437042236,
          6.9116411209106445,
          5.7787628173828125,
          5.7915802001953125,
          6.834160804748535,
          7.112880706787109,
          5.641890525817871,
          7.454290866851807,
          5.911719799041748,
          5.885113716125488,
          7.075425624847412,
          6.3895769119262695,
          6.754003047943115,
          5.899056434631348,
          6.4724626541137695
         ],
         "y": [
          14.401037216186523,
          14.187268257141113,
          13.739860534667969,
          14.189338684082031,
          14.234285354614258,
          14.850361824035645,
          14.30629825592041,
          13.803080558776855,
          13.961224555969238,
          14.24916934967041,
          14.089065551757812,
          14.165435791015625,
          14.282682418823242,
          14.211605072021484,
          14.387932777404785,
          13.995787620544434,
          14.102733612060547,
          13.963333129882812,
          14.149995803833008,
          13.905838966369629,
          14.041913032531738,
          14.38770580291748,
          14.895685195922852,
          13.612662315368652,
          13.902480125427246,
          13.75466251373291,
          13.668440818786621,
          14.724117279052734,
          14.781194686889648,
          14.095182418823242,
          14.08576488494873,
          14.903564453125,
          14.553407669067383,
          14.087940216064453,
          14.374567985534668,
          14.069854736328125,
          14.691971778869629,
          13.828208923339844,
          14.37304973602295,
          14.036907196044922,
          14.854172706604004,
          14.33025074005127,
          14.126571655273438,
          14.372465133666992,
          14.595574378967285,
          14.289053916931152,
          13.872763633728027,
          14.394391059875488,
          14.860794067382812,
          13.900862693786621,
          14.232850074768066
         ]
        },
        {
         "hoverinfo": "text",
         "hovertext": [
          "Public health system has limitation in providing universal health coverage. Do you think that private sector could help in bridging the gap? What other viable alternatives do you suggest?",
          "Performance of welfare schemes that are implemented for vulnerable sections is not so effective due to absence of their awareness and active involvement at all stages of policy process. Discuss",
          "Do government’s schemes for up-lifting vulnerable and backward communities by protecting required social resources for them, lead to their exclusion in establishing businesses in urban economies?",
          "Appropriate local community level healthcare intervention is a prerequisite to achieve ‘Health for All’ in India. Explain.",
          "The Central Government frequently complains on the poor performance of the State Governments in eradicating suffering of the vulnerable sections of the society. Restructuring of Centrally sponsored schemes across the sectors for ameliorating the cause of vulnerable sections of population aims at providing flexibility to the States in better implementation. Critically evaluate.",
          "Reforming the government delivery system through the Direct Benefit Transfer Scheme is a progressive step, but it has its limitations too. Comment.",
          "To ensure effective implementation of policies addressing water, sanitation and hygiene needs, the identification of beneficiary segments is to be synchronized with the anticipated outcomes’ Examine the statement in the context of the WASH scheme.",
          "Two parallel run schemes of the Government, viz the Adhaar Card and NPR, one as voluntary and the other as compulsory, have led to debates at national levels and also litigations. On merits, discuss whether or not both schemes need run concurrently. Analyse the potential of the schemes to achieve developmental benefits and equitable growth.",
          "In order to enhance the prospects of social development, sound and adequate health care policies are needed particularly in the fields of geriatric and maternal health care. Discuss.",
          "‘In the context of neo-liberal paradigm of developmental planning, multi-level planning is expected to make operations cost-effective and remove many implementation blockages’- Discuss",
          "Professor Amartya Sen has advocated important reforms in the realms of primary education and primary health care. What are your suggestions to improve their status and performance?",
          "“Besides being a moral imperative of Welfare State, primary health structure is a necessary pre-condition for sustainable development.” Analyze.",
          "Identify the Millennium Development Goals (MDGs) that are related to health. Discuss the success of the actions taken by the Government for achieving the same.",
          "“Development and welfare schemes for the vulnerable, by its nature, are discriminatory in approach.” Do you agree? Give reasons for your answer.",
          null
         ],
         "marker": {
          "opacity": 0.5,
          "size": 5
         },
         "mode": "markers+text",
         "name": "2_policies needed particularly_welfare schemes_millennium development",
         "text": [
          "",
          "",
          "",
          "",
          "",
          "",
          "",
          "",
          "",
          "",
          "",
          "",
          "",
          "",
          "2_policies needed particularly_welfare schemes_millennium development"
         ],
         "textfont": {
          "size": 12
         },
         "type": "scattergl",
         "x": [
          9.451696395874023,
          10.125653266906738,
          9.997929573059082,
          9.49315071105957,
          9.97987174987793,
          10.688688278198242,
          9.811129570007324,
          10.500083923339844,
          9.579628944396973,
          10.561166763305664,
          9.419129371643066,
          9.46838092803955,
          9.355264663696289,
          10.132523536682129,
          9.89745044708252
         ],
         "y": [
          10.438434600830078,
          10.418988227844238,
          10.527434349060059,
          10.41069507598877,
          10.474811553955078,
          10.636893272399902,
          10.439589500427246,
          10.559255599975586,
          10.46366024017334,
          10.628517150878906,
          10.40390396118164,
          10.417802810668945,
          10.353501319885254,
          10.600873947143555,
          10.483881950378418
         ]
        },
        {
         "hoverinfo": "text",
         "hovertext": [
          "How far do you agree with the view that the focus on lack of availability of food as the main cause of hunger takes the attention away from ineffective human development policies in India?",
          "Hunger and Poverty are the biggest challenges for good governance in India still today. Evaluate how far successive governments have progressed in dealing with these humongous problems. Suggest measures for improvement.",
          "Though there have been several different estimates of poverty in India, all indicate reduction in poverty levels over time. Do you agree. Critically examine with reference to urban and rural poverty indicators.",
          "There is a growing divergence in the relationship between poverty and hunger in India. The shrinking of social expenditure by the government is forcing the poor to spend more on non-food essential items squeezing their food-budget – Elucidate.",
          "Has digital illiteracy, particularly in rural areas, couple with lack of Information and Communication Technology(ICT) accessibility hindered\nsocio-economic development? Examine with justification.",
          "The basis of providing urban amenities in rural areas (PURA) is rooted in establishing connectivity Comment.",
          "“The incedence and intensity of poverty are more important in determining poverty based on income alone.” In this context analyse the latest United Nations Multidimensional Poverty Index Report.",
          "The Gati-Shakti Yojana needs meticulous coordination between the government and the private sector to achieve the goal of connectivity. Discuss.",
          "Despite Consistent experience of high growth, India still goes with the lowest indicators of human development. Examine the issues that make balanced and inclusive development elusive",
          "“Traditional bureaucratic structure and culture have hampered the process of socio-economic development in India.” Comment.",
          "The need for cooperation among various service sectors has been an inherent component of development discourse. Partnership bridges the gap among the sectors. It also sets in motion a culture of ‘collaboration’ and ‘team spirit’. In the light of statements above examine India’s development process.",
          null
         ],
         "marker": {
          "opacity": 0.5,
          "size": 5
         },
         "mode": "markers+text",
         "name": "3_hunger india shrinking_india development process_nations multidimensional poverty",
         "text": [
          "",
          "",
          "",
          "",
          "",
          "",
          "",
          "",
          "",
          "",
          "",
          "3_hunger india shrinking_india development process_nations multidimensional poverty"
         ],
         "textfont": {
          "size": 12
         },
         "type": "scattergl",
         "x": [
          10.275717735290527,
          10.419527053833008,
          10.44519329071045,
          10.278050422668457,
          11.650543212890625,
          11.432172775268555,
          10.430278778076172,
          11.376800537109375,
          10.800924301147461,
          11.486425399780273,
          11.393423080444336,
          10.908096313476562
         ],
         "y": [
          9.934671401977539,
          9.862173080444336,
          9.762578010559082,
          9.704521179199219,
          10.724470138549805,
          10.869708061218262,
          9.743185997009277,
          10.866973876953125,
          9.747432708740234,
          11.20651912689209,
          10.885456085205078,
          10.300699234008789
         ]
        },
        {
         "hoverinfo": "text",
         "hovertext": [
          "The Self Help Group (SHG) Bank Linkage Program (SBLP), which is India’s own innovation , has proved to be one of the most effective poverty alleviation and women empowerment programme. Elucidate.",
          "“Micro-Finance as an anti-poverty vaccine, is aimed at asset creation and income security of the rural poor in India.” Evaluate the role of the Self Help Groups in achieving the twin objectives along with empowering women in rural India.",
          "Can the vicious cycle of gender inequality, poverty and malnutrition be broken through microfinancing of women SHGs? Explain with examples.",
          "The penetration of Self-Help Groups (SHGs) in rural areas in promoting participation in development programmes is facing sociocultural hurdles.\nExamine.",
          "The legitimacy and accountability of Self Help Groups (SHGs) and their patrons, the micro-finance outfits, need systematic assessment and scrutiny for the sustained success of the concept. Discuss.",
          "‘The emergence of Self Help Groups (SHGs) in contemporary times points to the slow but steady withdrawal of the state from developmental activities’. Examine the role of the SHGs in developmental activities and the measures taken by the Government of India to promote the SHGs.",
          null
         ],
         "marker": {
          "opacity": 0.5,
          "size": 5
         },
         "mode": "markers+text",
         "name": "4_self help groups_self help group_microfinancing women shgs",
         "text": [
          "",
          "",
          "",
          "",
          "",
          "",
          "4_self help groups_self help group_microfinancing women shgs"
         ],
         "textfont": {
          "size": 12
         },
         "type": "scattergl",
         "x": [
          9.985639572143555,
          9.985743522644043,
          10.021627426147461,
          9.963775634765625,
          9.998043060302734,
          9.996354103088379,
          9.991864204406738
         ],
         "y": [
          8.979838371276855,
          8.979677200317383,
          9.053905487060547,
          8.949686050415039,
          8.979387283325195,
          8.973420143127441,
          8.985984802246094
         ]
        },
        {
         "hoverinfo": "text",
         "hovertext": [
          "Skill development programs have succeeded in increasing human resources supply to various sectors. In the context of the statement, analyze the linkages between education, skill and employment.",
          "\"Earn while you learn’ scheme needs to be strengthened to make vocational education and skill training meaningful.” Comment.",
          "National Education Policy 2020 is in conformity with the Sustainable Development Goal-4 (2030). It intends to restructure and reorient education system in India. Critically examine this statement.",
          "The crucial aspect of development process has been the inadequate attention paid to Human Resource Development in India. Suggest measures that can address this adequacy.",
          "“Demographic Dividend in India will remain only theoretical unless our manpower becomes more educated, aware, skilled and creative.” What measures have been taken by the government to enhance the capacity of our population to be more productive and employable?",
          null
         ],
         "marker": {
          "opacity": 0.5,
          "size": 5
         },
         "mode": "markers+text",
         "name": "5_reorient education india_skill employment_resource development india",
         "text": [
          "",
          "",
          "",
          "",
          "",
          "5_reorient education india_skill employment_resource development india"
         ],
         "textfont": {
          "size": 12
         },
         "type": "scattergl",
         "x": [
          10.99736213684082,
          10.87185287475586,
          10.67599868774414,
          10.957365036010742,
          10.977631568908691,
          10.896041870117188
         ],
         "y": [
          10.016691207885742,
          10.041110038757324,
          9.976218223571777,
          9.999627113342285,
          9.95931339263916,
          9.998591423034668
         ]
        },
        {
         "hoverinfo": "text",
         "hovertext": [
          "The Citizen’s Charter is an ideal instrument of organisational transparency and accountability, but it has its own limitations. Identify the limitations and suggest measures for greater effectiveness of the Citizen’s Charters.",
          "“Institutional quality is a crucial driver of economic performance.” In this context suggest reforms in Civil Service for strengthening democracy.",
          "Though Citizens’ charters have been formulated by many public service delivery organizations, there is no corresponding improvement in the level of citizens’ satisfaction and quality of services being provided Analyse.",
          "Initially Civil Services in India were designed to achieve the goals of neutrality and effectiveness, which seems to be lacking in the present context. Do you agree with the view that drastic reforms are required in Civil Services. Comment",
          "Can Civil Society and Non-Governmental Organizations present an alternative model of public service delivery to benefit the common citizen?\nDiscuss the challenges of this alternative model.",
          null
         ],
         "marker": {
          "opacity": 0.5,
          "size": 5
         },
         "mode": "markers+text",
         "name": "6_reforms civil service_service strengthening democracy_public service delivery",
         "text": [
          "",
          "",
          "",
          "",
          "",
          "6_reforms civil service_service strengthening democracy_public service delivery"
         ],
         "textfont": {
          "size": 12
         },
         "type": "scattergl",
         "x": [
          12.196493148803711,
          11.97130012512207,
          12.129143714904785,
          11.724470138549805,
          12.131111145019531,
          12.03050422668457
         ],
         "y": [
          11.512750625610352,
          11.49266242980957,
          11.582472801208496,
          11.449345588684082,
          11.514080047607422,
          11.510262489318848
         ]
        }
       ],
       "layout": {
        "annotations": [
         {
          "showarrow": false,
          "text": "D1",
          "x": 4.778722071647644,
          "y": 12.64690442085266,
          "yshift": 10
         },
         {
          "showarrow": false,
          "text": "D2",
          "x": 9.500840413570405,
          "xshift": 10,
          "y": 17.68657569885254
         }
        ],
        "height": 750,
        "shapes": [
         {
          "line": {
           "color": "#CFD8DC",
           "width": 2
          },
          "type": "line",
          "x0": 9.500840413570405,
          "x1": 9.500840413570405,
          "y0": 7.607233142852783,
          "y1": 17.68657569885254
         },
         {
          "line": {
           "color": "#9E9E9E",
           "width": 2
          },
          "type": "line",
          "x0": 4.778722071647644,
          "x1": 14.222958755493163,
          "y0": 12.64690442085266,
          "y1": 12.64690442085266
         }
        ],
        "template": {
         "data": {
          "bar": [
           {
            "error_x": {
             "color": "rgb(36,36,36)"
            },
            "error_y": {
             "color": "rgb(36,36,36)"
            },
            "marker": {
             "line": {
              "color": "white",
              "width": 0.5
             },
             "pattern": {
              "fillmode": "overlay",
              "size": 10,
              "solidity": 0.2
             }
            },
            "type": "bar"
           }
          ],
          "barpolar": [
           {
            "marker": {
             "line": {
              "color": "white",
              "width": 0.5
             },
             "pattern": {
              "fillmode": "overlay",
              "size": 10,
              "solidity": 0.2
             }
            },
            "type": "barpolar"
           }
          ],
          "carpet": [
           {
            "aaxis": {
             "endlinecolor": "rgb(36,36,36)",
             "gridcolor": "white",
             "linecolor": "white",
             "minorgridcolor": "white",
             "startlinecolor": "rgb(36,36,36)"
            },
            "baxis": {
             "endlinecolor": "rgb(36,36,36)",
             "gridcolor": "white",
             "linecolor": "white",
             "minorgridcolor": "white",
             "startlinecolor": "rgb(36,36,36)"
            },
            "type": "carpet"
           }
          ],
          "choropleth": [
           {
            "colorbar": {
             "outlinewidth": 1,
             "tickcolor": "rgb(36,36,36)",
             "ticks": "outside"
            },
            "type": "choropleth"
           }
          ],
          "contour": [
           {
            "colorbar": {
             "outlinewidth": 1,
             "tickcolor": "rgb(36,36,36)",
             "ticks": "outside"
            },
            "colorscale": [
             [
              0,
              "#440154"
             ],
             [
              0.1111111111111111,
              "#482878"
             ],
             [
              0.2222222222222222,
              "#3e4989"
             ],
             [
              0.3333333333333333,
              "#31688e"
             ],
             [
              0.4444444444444444,
              "#26828e"
             ],
             [
              0.5555555555555556,
              "#1f9e89"
             ],
             [
              0.6666666666666666,
              "#35b779"
             ],
             [
              0.7777777777777778,
              "#6ece58"
             ],
             [
              0.8888888888888888,
              "#b5de2b"
             ],
             [
              1,
              "#fde725"
             ]
            ],
            "type": "contour"
           }
          ],
          "contourcarpet": [
           {
            "colorbar": {
             "outlinewidth": 1,
             "tickcolor": "rgb(36,36,36)",
             "ticks": "outside"
            },
            "type": "contourcarpet"
           }
          ],
          "heatmap": [
           {
            "colorbar": {
             "outlinewidth": 1,
             "tickcolor": "rgb(36,36,36)",
             "ticks": "outside"
            },
            "colorscale": [
             [
              0,
              "#440154"
             ],
             [
              0.1111111111111111,
              "#482878"
             ],
             [
              0.2222222222222222,
              "#3e4989"
             ],
             [
              0.3333333333333333,
              "#31688e"
             ],
             [
              0.4444444444444444,
              "#26828e"
             ],
             [
              0.5555555555555556,
              "#1f9e89"
             ],
             [
              0.6666666666666666,
              "#35b779"
             ],
             [
              0.7777777777777778,
              "#6ece58"
             ],
             [
              0.8888888888888888,
              "#b5de2b"
             ],
             [
              1,
              "#fde725"
             ]
            ],
            "type": "heatmap"
           }
          ],
          "heatmapgl": [
           {
            "colorbar": {
             "outlinewidth": 1,
             "tickcolor": "rgb(36,36,36)",
             "ticks": "outside"
            },
            "colorscale": [
             [
              0,
              "#440154"
             ],
             [
              0.1111111111111111,
              "#482878"
             ],
             [
              0.2222222222222222,
              "#3e4989"
             ],
             [
              0.3333333333333333,
              "#31688e"
             ],
             [
              0.4444444444444444,
              "#26828e"
             ],
             [
              0.5555555555555556,
              "#1f9e89"
             ],
             [
              0.6666666666666666,
              "#35b779"
             ],
             [
              0.7777777777777778,
              "#6ece58"
             ],
             [
              0.8888888888888888,
              "#b5de2b"
             ],
             [
              1,
              "#fde725"
             ]
            ],
            "type": "heatmapgl"
           }
          ],
          "histogram": [
           {
            "marker": {
             "line": {
              "color": "white",
              "width": 0.6
             }
            },
            "type": "histogram"
           }
          ],
          "histogram2d": [
           {
            "colorbar": {
             "outlinewidth": 1,
             "tickcolor": "rgb(36,36,36)",
             "ticks": "outside"
            },
            "colorscale": [
             [
              0,
              "#440154"
             ],
             [
              0.1111111111111111,
              "#482878"
             ],
             [
              0.2222222222222222,
              "#3e4989"
             ],
             [
              0.3333333333333333,
              "#31688e"
             ],
             [
              0.4444444444444444,
              "#26828e"
             ],
             [
              0.5555555555555556,
              "#1f9e89"
             ],
             [
              0.6666666666666666,
              "#35b779"
             ],
             [
              0.7777777777777778,
              "#6ece58"
             ],
             [
              0.8888888888888888,
              "#b5de2b"
             ],
             [
              1,
              "#fde725"
             ]
            ],
            "type": "histogram2d"
           }
          ],
          "histogram2dcontour": [
           {
            "colorbar": {
             "outlinewidth": 1,
             "tickcolor": "rgb(36,36,36)",
             "ticks": "outside"
            },
            "colorscale": [
             [
              0,
              "#440154"
             ],
             [
              0.1111111111111111,
              "#482878"
             ],
             [
              0.2222222222222222,
              "#3e4989"
             ],
             [
              0.3333333333333333,
              "#31688e"
             ],
             [
              0.4444444444444444,
              "#26828e"
             ],
             [
              0.5555555555555556,
              "#1f9e89"
             ],
             [
              0.6666666666666666,
              "#35b779"
             ],
             [
              0.7777777777777778,
              "#6ece58"
             ],
             [
              0.8888888888888888,
              "#b5de2b"
             ],
             [
              1,
              "#fde725"
             ]
            ],
            "type": "histogram2dcontour"
           }
          ],
          "mesh3d": [
           {
            "colorbar": {
             "outlinewidth": 1,
             "tickcolor": "rgb(36,36,36)",
             "ticks": "outside"
            },
            "type": "mesh3d"
           }
          ],
          "parcoords": [
           {
            "line": {
             "colorbar": {
              "outlinewidth": 1,
              "tickcolor": "rgb(36,36,36)",
              "ticks": "outside"
             }
            },
            "type": "parcoords"
           }
          ],
          "pie": [
           {
            "automargin": true,
            "type": "pie"
           }
          ],
          "scatter": [
           {
            "fillpattern": {
             "fillmode": "overlay",
             "size": 10,
             "solidity": 0.2
            },
            "type": "scatter"
           }
          ],
          "scatter3d": [
           {
            "line": {
             "colorbar": {
              "outlinewidth": 1,
              "tickcolor": "rgb(36,36,36)",
              "ticks": "outside"
             }
            },
            "marker": {
             "colorbar": {
              "outlinewidth": 1,
              "tickcolor": "rgb(36,36,36)",
              "ticks": "outside"
             }
            },
            "type": "scatter3d"
           }
          ],
          "scattercarpet": [
           {
            "marker": {
             "colorbar": {
              "outlinewidth": 1,
              "tickcolor": "rgb(36,36,36)",
              "ticks": "outside"
             }
            },
            "type": "scattercarpet"
           }
          ],
          "scattergeo": [
           {
            "marker": {
             "colorbar": {
              "outlinewidth": 1,
              "tickcolor": "rgb(36,36,36)",
              "ticks": "outside"
             }
            },
            "type": "scattergeo"
           }
          ],
          "scattergl": [
           {
            "marker": {
             "colorbar": {
              "outlinewidth": 1,
              "tickcolor": "rgb(36,36,36)",
              "ticks": "outside"
             }
            },
            "type": "scattergl"
           }
          ],
          "scattermapbox": [
           {
            "marker": {
             "colorbar": {
              "outlinewidth": 1,
              "tickcolor": "rgb(36,36,36)",
              "ticks": "outside"
             }
            },
            "type": "scattermapbox"
           }
          ],
          "scatterpolar": [
           {
            "marker": {
             "colorbar": {
              "outlinewidth": 1,
              "tickcolor": "rgb(36,36,36)",
              "ticks": "outside"
             }
            },
            "type": "scatterpolar"
           }
          ],
          "scatterpolargl": [
           {
            "marker": {
             "colorbar": {
              "outlinewidth": 1,
              "tickcolor": "rgb(36,36,36)",
              "ticks": "outside"
             }
            },
            "type": "scatterpolargl"
           }
          ],
          "scatterternary": [
           {
            "marker": {
             "colorbar": {
              "outlinewidth": 1,
              "tickcolor": "rgb(36,36,36)",
              "ticks": "outside"
             }
            },
            "type": "scatterternary"
           }
          ],
          "surface": [
           {
            "colorbar": {
             "outlinewidth": 1,
             "tickcolor": "rgb(36,36,36)",
             "ticks": "outside"
            },
            "colorscale": [
             [
              0,
              "#440154"
             ],
             [
              0.1111111111111111,
              "#482878"
             ],
             [
              0.2222222222222222,
              "#3e4989"
             ],
             [
              0.3333333333333333,
              "#31688e"
             ],
             [
              0.4444444444444444,
              "#26828e"
             ],
             [
              0.5555555555555556,
              "#1f9e89"
             ],
             [
              0.6666666666666666,
              "#35b779"
             ],
             [
              0.7777777777777778,
              "#6ece58"
             ],
             [
              0.8888888888888888,
              "#b5de2b"
             ],
             [
              1,
              "#fde725"
             ]
            ],
            "type": "surface"
           }
          ],
          "table": [
           {
            "cells": {
             "fill": {
              "color": "rgb(237,237,237)"
             },
             "line": {
              "color": "white"
             }
            },
            "header": {
             "fill": {
              "color": "rgb(217,217,217)"
             },
             "line": {
              "color": "white"
             }
            },
            "type": "table"
           }
          ]
         },
         "layout": {
          "annotationdefaults": {
           "arrowhead": 0,
           "arrowwidth": 1
          },
          "autotypenumbers": "strict",
          "coloraxis": {
           "colorbar": {
            "outlinewidth": 1,
            "tickcolor": "rgb(36,36,36)",
            "ticks": "outside"
           }
          },
          "colorscale": {
           "diverging": [
            [
             0,
             "rgb(103,0,31)"
            ],
            [
             0.1,
             "rgb(178,24,43)"
            ],
            [
             0.2,
             "rgb(214,96,77)"
            ],
            [
             0.3,
             "rgb(244,165,130)"
            ],
            [
             0.4,
             "rgb(253,219,199)"
            ],
            [
             0.5,
             "rgb(247,247,247)"
            ],
            [
             0.6,
             "rgb(209,229,240)"
            ],
            [
             0.7,
             "rgb(146,197,222)"
            ],
            [
             0.8,
             "rgb(67,147,195)"
            ],
            [
             0.9,
             "rgb(33,102,172)"
            ],
            [
             1,
             "rgb(5,48,97)"
            ]
           ],
           "sequential": [
            [
             0,
             "#440154"
            ],
            [
             0.1111111111111111,
             "#482878"
            ],
            [
             0.2222222222222222,
             "#3e4989"
            ],
            [
             0.3333333333333333,
             "#31688e"
            ],
            [
             0.4444444444444444,
             "#26828e"
            ],
            [
             0.5555555555555556,
             "#1f9e89"
            ],
            [
             0.6666666666666666,
             "#35b779"
            ],
            [
             0.7777777777777778,
             "#6ece58"
            ],
            [
             0.8888888888888888,
             "#b5de2b"
            ],
            [
             1,
             "#fde725"
            ]
           ],
           "sequentialminus": [
            [
             0,
             "#440154"
            ],
            [
             0.1111111111111111,
             "#482878"
            ],
            [
             0.2222222222222222,
             "#3e4989"
            ],
            [
             0.3333333333333333,
             "#31688e"
            ],
            [
             0.4444444444444444,
             "#26828e"
            ],
            [
             0.5555555555555556,
             "#1f9e89"
            ],
            [
             0.6666666666666666,
             "#35b779"
            ],
            [
             0.7777777777777778,
             "#6ece58"
            ],
            [
             0.8888888888888888,
             "#b5de2b"
            ],
            [
             1,
             "#fde725"
            ]
           ]
          },
          "colorway": [
           "#1F77B4",
           "#FF7F0E",
           "#2CA02C",
           "#D62728",
           "#9467BD",
           "#8C564B",
           "#E377C2",
           "#7F7F7F",
           "#BCBD22",
           "#17BECF"
          ],
          "font": {
           "color": "rgb(36,36,36)"
          },
          "geo": {
           "bgcolor": "white",
           "lakecolor": "white",
           "landcolor": "white",
           "showlakes": true,
           "showland": true,
           "subunitcolor": "white"
          },
          "hoverlabel": {
           "align": "left"
          },
          "hovermode": "closest",
          "mapbox": {
           "style": "light"
          },
          "paper_bgcolor": "white",
          "plot_bgcolor": "white",
          "polar": {
           "angularaxis": {
            "gridcolor": "rgb(232,232,232)",
            "linecolor": "rgb(36,36,36)",
            "showgrid": false,
            "showline": true,
            "ticks": "outside"
           },
           "bgcolor": "white",
           "radialaxis": {
            "gridcolor": "rgb(232,232,232)",
            "linecolor": "rgb(36,36,36)",
            "showgrid": false,
            "showline": true,
            "ticks": "outside"
           }
          },
          "scene": {
           "xaxis": {
            "backgroundcolor": "white",
            "gridcolor": "rgb(232,232,232)",
            "gridwidth": 2,
            "linecolor": "rgb(36,36,36)",
            "showbackground": true,
            "showgrid": false,
            "showline": true,
            "ticks": "outside",
            "zeroline": false,
            "zerolinecolor": "rgb(36,36,36)"
           },
           "yaxis": {
            "backgroundcolor": "white",
            "gridcolor": "rgb(232,232,232)",
            "gridwidth": 2,
            "linecolor": "rgb(36,36,36)",
            "showbackground": true,
            "showgrid": false,
            "showline": true,
            "ticks": "outside",
            "zeroline": false,
            "zerolinecolor": "rgb(36,36,36)"
           },
           "zaxis": {
            "backgroundcolor": "white",
            "gridcolor": "rgb(232,232,232)",
            "gridwidth": 2,
            "linecolor": "rgb(36,36,36)",
            "showbackground": true,
            "showgrid": false,
            "showline": true,
            "ticks": "outside",
            "zeroline": false,
            "zerolinecolor": "rgb(36,36,36)"
           }
          },
          "shapedefaults": {
           "fillcolor": "black",
           "line": {
            "width": 0
           },
           "opacity": 0.3
          },
          "ternary": {
           "aaxis": {
            "gridcolor": "rgb(232,232,232)",
            "linecolor": "rgb(36,36,36)",
            "showgrid": false,
            "showline": true,
            "ticks": "outside"
           },
           "baxis": {
            "gridcolor": "rgb(232,232,232)",
            "linecolor": "rgb(36,36,36)",
            "showgrid": false,
            "showline": true,
            "ticks": "outside"
           },
           "bgcolor": "white",
           "caxis": {
            "gridcolor": "rgb(232,232,232)",
            "linecolor": "rgb(36,36,36)",
            "showgrid": false,
            "showline": true,
            "ticks": "outside"
           }
          },
          "title": {
           "x": 0.05
          },
          "xaxis": {
           "automargin": true,
           "gridcolor": "rgb(232,232,232)",
           "linecolor": "rgb(36,36,36)",
           "showgrid": false,
           "showline": true,
           "ticks": "outside",
           "title": {
            "standoff": 15
           },
           "zeroline": false,
           "zerolinecolor": "rgb(36,36,36)"
          },
          "yaxis": {
           "automargin": true,
           "gridcolor": "rgb(232,232,232)",
           "linecolor": "rgb(36,36,36)",
           "showgrid": false,
           "showline": true,
           "ticks": "outside",
           "title": {
            "standoff": 15
           },
           "zeroline": false,
           "zerolinecolor": "rgb(36,36,36)"
          }
         }
        },
        "title": {
         "font": {
          "color": "Black",
          "size": 22
         },
         "text": "<b>Documents and Topics</b>",
         "x": 0.5,
         "xanchor": "center",
         "yanchor": "top"
        },
        "width": 1200,
        "xaxis": {
         "visible": false
        },
        "yaxis": {
         "visible": false
        }
       }
      }
     },
     "metadata": {},
     "output_type": "display_data"
    }
   ],
   "source": [
    "model.visualize_documents(questions)"
   ]
  },
  {
   "cell_type": "code",
   "execution_count": 56,
   "metadata": {},
   "outputs": [
    {
     "data": {
      "application/vnd.plotly.v1+json": {
       "config": {
        "plotlyServerURL": "https://plot.ly"
       },
       "data": [
        {
         "customdata": [
          [
           0,
           "indian constitution | election commission india | amendment act | judiciary | constitution",
           109
          ],
          [
           1,
           "india position global | india discuss | world bank imf | india position | countries discuss",
           50
          ],
          [
           2,
           "policies needed particularly | welfare schemes | millennium development | policies addressing | policies addressing water",
           14
          ],
          [
           3,
           "hunger india shrinking | india development process | nations multidimensional poverty | hunger poverty | socio economic development",
           11
          ],
          [
           4,
           "self help groups | self help group | microfinancing women shgs | rural poor india | rural india emergence",
           6
          ],
          [
           5,
           "reorient education india | skill employment | resource development india | increasing human resources | make vocational education",
           5
          ],
          [
           6,
           "reforms civil service | service strengthening democracy | public service delivery | reforms required civil | suggest reforms civil",
           5
          ]
         ],
         "hovertemplate": "<b>Topic %{customdata[0]}</b><br>%{customdata[1]}<br>Size: %{customdata[2]}",
         "legendgroup": "",
         "marker": {
          "color": "#B0BEC5",
          "line": {
           "color": "DarkSlateGrey",
           "width": 2
          },
          "size": [
           109,
           50,
           14,
           11,
           6,
           5,
           5
          ],
          "sizemode": "area",
          "sizeref": 0.068125,
          "symbol": "circle"
         },
         "mode": "markers",
         "name": "",
         "orientation": "v",
         "showlegend": false,
         "type": "scatter",
         "x": [
          -4.998857498168945,
          -5.262760162353516,
          0.7135082483291626,
          1.1050028800964355,
          1.6473227739334106,
          1.7666786909103394,
          0.7975234985351562
         ],
         "xaxis": "x",
         "y": [
          27.131607055664062,
          27.395540237426758,
          8.084281921386719,
          7.381425380706787,
          6.92577600479126,
          7.729302883148193,
          8.805654525756836
         ],
         "yaxis": "y"
        }
       ],
       "layout": {
        "annotations": [
         {
          "showarrow": false,
          "text": "D1",
          "x": -6.052174186706543,
          "y": 18.69589043855667,
          "yshift": 10
         },
         {
          "showarrow": false,
          "text": "D2",
          "x": -2.010246846079826,
          "xshift": 10,
          "y": 31.50487127304077
         }
        ],
        "height": 650,
        "hoverlabel": {
         "bgcolor": "white",
         "font": {
          "family": "Rockwell",
          "size": 16
         }
        },
        "legend": {
         "itemsizing": "constant",
         "tracegroupgap": 0
        },
        "margin": {
         "t": 60
        },
        "shapes": [
         {
          "line": {
           "color": "#CFD8DC",
           "width": 2
          },
          "type": "line",
          "x0": -2.010246846079826,
          "x1": -2.010246846079826,
          "y0": 5.886909604072571,
          "y1": 31.50487127304077
         },
         {
          "line": {
           "color": "#9E9E9E",
           "width": 2
          },
          "type": "line",
          "x0": -6.052174186706543,
          "x1": 2.0316804945468903,
          "y0": 18.69589043855667,
          "y1": 18.69589043855667
         }
        ],
        "sliders": [
         {
          "active": 0,
          "pad": {
           "t": 50
          },
          "steps": [
           {
            "args": [
             {
              "marker.color": [
               [
                "red",
                "#B0BEC5",
                "#B0BEC5",
                "#B0BEC5",
                "#B0BEC5",
                "#B0BEC5",
                "#B0BEC5"
               ]
              ]
             }
            ],
            "label": "Topic 0",
            "method": "update"
           },
           {
            "args": [
             {
              "marker.color": [
               [
                "#B0BEC5",
                "red",
                "#B0BEC5",
                "#B0BEC5",
                "#B0BEC5",
                "#B0BEC5",
                "#B0BEC5"
               ]
              ]
             }
            ],
            "label": "Topic 1",
            "method": "update"
           },
           {
            "args": [
             {
              "marker.color": [
               [
                "#B0BEC5",
                "#B0BEC5",
                "red",
                "#B0BEC5",
                "#B0BEC5",
                "#B0BEC5",
                "#B0BEC5"
               ]
              ]
             }
            ],
            "label": "Topic 2",
            "method": "update"
           },
           {
            "args": [
             {
              "marker.color": [
               [
                "#B0BEC5",
                "#B0BEC5",
                "#B0BEC5",
                "red",
                "#B0BEC5",
                "#B0BEC5",
                "#B0BEC5"
               ]
              ]
             }
            ],
            "label": "Topic 3",
            "method": "update"
           },
           {
            "args": [
             {
              "marker.color": [
               [
                "#B0BEC5",
                "#B0BEC5",
                "#B0BEC5",
                "#B0BEC5",
                "red",
                "#B0BEC5",
                "#B0BEC5"
               ]
              ]
             }
            ],
            "label": "Topic 4",
            "method": "update"
           },
           {
            "args": [
             {
              "marker.color": [
               [
                "#B0BEC5",
                "#B0BEC5",
                "#B0BEC5",
                "#B0BEC5",
                "#B0BEC5",
                "red",
                "#B0BEC5"
               ]
              ]
             }
            ],
            "label": "Topic 5",
            "method": "update"
           },
           {
            "args": [
             {
              "marker.color": [
               [
                "#B0BEC5",
                "#B0BEC5",
                "#B0BEC5",
                "#B0BEC5",
                "#B0BEC5",
                "#B0BEC5",
                "red"
               ]
              ]
             }
            ],
            "label": "Topic 6",
            "method": "update"
           }
          ]
         }
        ],
        "template": {
         "data": {
          "bar": [
           {
            "error_x": {
             "color": "rgb(36,36,36)"
            },
            "error_y": {
             "color": "rgb(36,36,36)"
            },
            "marker": {
             "line": {
              "color": "white",
              "width": 0.5
             },
             "pattern": {
              "fillmode": "overlay",
              "size": 10,
              "solidity": 0.2
             }
            },
            "type": "bar"
           }
          ],
          "barpolar": [
           {
            "marker": {
             "line": {
              "color": "white",
              "width": 0.5
             },
             "pattern": {
              "fillmode": "overlay",
              "size": 10,
              "solidity": 0.2
             }
            },
            "type": "barpolar"
           }
          ],
          "carpet": [
           {
            "aaxis": {
             "endlinecolor": "rgb(36,36,36)",
             "gridcolor": "white",
             "linecolor": "white",
             "minorgridcolor": "white",
             "startlinecolor": "rgb(36,36,36)"
            },
            "baxis": {
             "endlinecolor": "rgb(36,36,36)",
             "gridcolor": "white",
             "linecolor": "white",
             "minorgridcolor": "white",
             "startlinecolor": "rgb(36,36,36)"
            },
            "type": "carpet"
           }
          ],
          "choropleth": [
           {
            "colorbar": {
             "outlinewidth": 1,
             "tickcolor": "rgb(36,36,36)",
             "ticks": "outside"
            },
            "type": "choropleth"
           }
          ],
          "contour": [
           {
            "colorbar": {
             "outlinewidth": 1,
             "tickcolor": "rgb(36,36,36)",
             "ticks": "outside"
            },
            "colorscale": [
             [
              0,
              "#440154"
             ],
             [
              0.1111111111111111,
              "#482878"
             ],
             [
              0.2222222222222222,
              "#3e4989"
             ],
             [
              0.3333333333333333,
              "#31688e"
             ],
             [
              0.4444444444444444,
              "#26828e"
             ],
             [
              0.5555555555555556,
              "#1f9e89"
             ],
             [
              0.6666666666666666,
              "#35b779"
             ],
             [
              0.7777777777777778,
              "#6ece58"
             ],
             [
              0.8888888888888888,
              "#b5de2b"
             ],
             [
              1,
              "#fde725"
             ]
            ],
            "type": "contour"
           }
          ],
          "contourcarpet": [
           {
            "colorbar": {
             "outlinewidth": 1,
             "tickcolor": "rgb(36,36,36)",
             "ticks": "outside"
            },
            "type": "contourcarpet"
           }
          ],
          "heatmap": [
           {
            "colorbar": {
             "outlinewidth": 1,
             "tickcolor": "rgb(36,36,36)",
             "ticks": "outside"
            },
            "colorscale": [
             [
              0,
              "#440154"
             ],
             [
              0.1111111111111111,
              "#482878"
             ],
             [
              0.2222222222222222,
              "#3e4989"
             ],
             [
              0.3333333333333333,
              "#31688e"
             ],
             [
              0.4444444444444444,
              "#26828e"
             ],
             [
              0.5555555555555556,
              "#1f9e89"
             ],
             [
              0.6666666666666666,
              "#35b779"
             ],
             [
              0.7777777777777778,
              "#6ece58"
             ],
             [
              0.8888888888888888,
              "#b5de2b"
             ],
             [
              1,
              "#fde725"
             ]
            ],
            "type": "heatmap"
           }
          ],
          "heatmapgl": [
           {
            "colorbar": {
             "outlinewidth": 1,
             "tickcolor": "rgb(36,36,36)",
             "ticks": "outside"
            },
            "colorscale": [
             [
              0,
              "#440154"
             ],
             [
              0.1111111111111111,
              "#482878"
             ],
             [
              0.2222222222222222,
              "#3e4989"
             ],
             [
              0.3333333333333333,
              "#31688e"
             ],
             [
              0.4444444444444444,
              "#26828e"
             ],
             [
              0.5555555555555556,
              "#1f9e89"
             ],
             [
              0.6666666666666666,
              "#35b779"
             ],
             [
              0.7777777777777778,
              "#6ece58"
             ],
             [
              0.8888888888888888,
              "#b5de2b"
             ],
             [
              1,
              "#fde725"
             ]
            ],
            "type": "heatmapgl"
           }
          ],
          "histogram": [
           {
            "marker": {
             "line": {
              "color": "white",
              "width": 0.6
             }
            },
            "type": "histogram"
           }
          ],
          "histogram2d": [
           {
            "colorbar": {
             "outlinewidth": 1,
             "tickcolor": "rgb(36,36,36)",
             "ticks": "outside"
            },
            "colorscale": [
             [
              0,
              "#440154"
             ],
             [
              0.1111111111111111,
              "#482878"
             ],
             [
              0.2222222222222222,
              "#3e4989"
             ],
             [
              0.3333333333333333,
              "#31688e"
             ],
             [
              0.4444444444444444,
              "#26828e"
             ],
             [
              0.5555555555555556,
              "#1f9e89"
             ],
             [
              0.6666666666666666,
              "#35b779"
             ],
             [
              0.7777777777777778,
              "#6ece58"
             ],
             [
              0.8888888888888888,
              "#b5de2b"
             ],
             [
              1,
              "#fde725"
             ]
            ],
            "type": "histogram2d"
           }
          ],
          "histogram2dcontour": [
           {
            "colorbar": {
             "outlinewidth": 1,
             "tickcolor": "rgb(36,36,36)",
             "ticks": "outside"
            },
            "colorscale": [
             [
              0,
              "#440154"
             ],
             [
              0.1111111111111111,
              "#482878"
             ],
             [
              0.2222222222222222,
              "#3e4989"
             ],
             [
              0.3333333333333333,
              "#31688e"
             ],
             [
              0.4444444444444444,
              "#26828e"
             ],
             [
              0.5555555555555556,
              "#1f9e89"
             ],
             [
              0.6666666666666666,
              "#35b779"
             ],
             [
              0.7777777777777778,
              "#6ece58"
             ],
             [
              0.8888888888888888,
              "#b5de2b"
             ],
             [
              1,
              "#fde725"
             ]
            ],
            "type": "histogram2dcontour"
           }
          ],
          "mesh3d": [
           {
            "colorbar": {
             "outlinewidth": 1,
             "tickcolor": "rgb(36,36,36)",
             "ticks": "outside"
            },
            "type": "mesh3d"
           }
          ],
          "parcoords": [
           {
            "line": {
             "colorbar": {
              "outlinewidth": 1,
              "tickcolor": "rgb(36,36,36)",
              "ticks": "outside"
             }
            },
            "type": "parcoords"
           }
          ],
          "pie": [
           {
            "automargin": true,
            "type": "pie"
           }
          ],
          "scatter": [
           {
            "fillpattern": {
             "fillmode": "overlay",
             "size": 10,
             "solidity": 0.2
            },
            "type": "scatter"
           }
          ],
          "scatter3d": [
           {
            "line": {
             "colorbar": {
              "outlinewidth": 1,
              "tickcolor": "rgb(36,36,36)",
              "ticks": "outside"
             }
            },
            "marker": {
             "colorbar": {
              "outlinewidth": 1,
              "tickcolor": "rgb(36,36,36)",
              "ticks": "outside"
             }
            },
            "type": "scatter3d"
           }
          ],
          "scattercarpet": [
           {
            "marker": {
             "colorbar": {
              "outlinewidth": 1,
              "tickcolor": "rgb(36,36,36)",
              "ticks": "outside"
             }
            },
            "type": "scattercarpet"
           }
          ],
          "scattergeo": [
           {
            "marker": {
             "colorbar": {
              "outlinewidth": 1,
              "tickcolor": "rgb(36,36,36)",
              "ticks": "outside"
             }
            },
            "type": "scattergeo"
           }
          ],
          "scattergl": [
           {
            "marker": {
             "colorbar": {
              "outlinewidth": 1,
              "tickcolor": "rgb(36,36,36)",
              "ticks": "outside"
             }
            },
            "type": "scattergl"
           }
          ],
          "scattermapbox": [
           {
            "marker": {
             "colorbar": {
              "outlinewidth": 1,
              "tickcolor": "rgb(36,36,36)",
              "ticks": "outside"
             }
            },
            "type": "scattermapbox"
           }
          ],
          "scatterpolar": [
           {
            "marker": {
             "colorbar": {
              "outlinewidth": 1,
              "tickcolor": "rgb(36,36,36)",
              "ticks": "outside"
             }
            },
            "type": "scatterpolar"
           }
          ],
          "scatterpolargl": [
           {
            "marker": {
             "colorbar": {
              "outlinewidth": 1,
              "tickcolor": "rgb(36,36,36)",
              "ticks": "outside"
             }
            },
            "type": "scatterpolargl"
           }
          ],
          "scatterternary": [
           {
            "marker": {
             "colorbar": {
              "outlinewidth": 1,
              "tickcolor": "rgb(36,36,36)",
              "ticks": "outside"
             }
            },
            "type": "scatterternary"
           }
          ],
          "surface": [
           {
            "colorbar": {
             "outlinewidth": 1,
             "tickcolor": "rgb(36,36,36)",
             "ticks": "outside"
            },
            "colorscale": [
             [
              0,
              "#440154"
             ],
             [
              0.1111111111111111,
              "#482878"
             ],
             [
              0.2222222222222222,
              "#3e4989"
             ],
             [
              0.3333333333333333,
              "#31688e"
             ],
             [
              0.4444444444444444,
              "#26828e"
             ],
             [
              0.5555555555555556,
              "#1f9e89"
             ],
             [
              0.6666666666666666,
              "#35b779"
             ],
             [
              0.7777777777777778,
              "#6ece58"
             ],
             [
              0.8888888888888888,
              "#b5de2b"
             ],
             [
              1,
              "#fde725"
             ]
            ],
            "type": "surface"
           }
          ],
          "table": [
           {
            "cells": {
             "fill": {
              "color": "rgb(237,237,237)"
             },
             "line": {
              "color": "white"
             }
            },
            "header": {
             "fill": {
              "color": "rgb(217,217,217)"
             },
             "line": {
              "color": "white"
             }
            },
            "type": "table"
           }
          ]
         },
         "layout": {
          "annotationdefaults": {
           "arrowhead": 0,
           "arrowwidth": 1
          },
          "autotypenumbers": "strict",
          "coloraxis": {
           "colorbar": {
            "outlinewidth": 1,
            "tickcolor": "rgb(36,36,36)",
            "ticks": "outside"
           }
          },
          "colorscale": {
           "diverging": [
            [
             0,
             "rgb(103,0,31)"
            ],
            [
             0.1,
             "rgb(178,24,43)"
            ],
            [
             0.2,
             "rgb(214,96,77)"
            ],
            [
             0.3,
             "rgb(244,165,130)"
            ],
            [
             0.4,
             "rgb(253,219,199)"
            ],
            [
             0.5,
             "rgb(247,247,247)"
            ],
            [
             0.6,
             "rgb(209,229,240)"
            ],
            [
             0.7,
             "rgb(146,197,222)"
            ],
            [
             0.8,
             "rgb(67,147,195)"
            ],
            [
             0.9,
             "rgb(33,102,172)"
            ],
            [
             1,
             "rgb(5,48,97)"
            ]
           ],
           "sequential": [
            [
             0,
             "#440154"
            ],
            [
             0.1111111111111111,
             "#482878"
            ],
            [
             0.2222222222222222,
             "#3e4989"
            ],
            [
             0.3333333333333333,
             "#31688e"
            ],
            [
             0.4444444444444444,
             "#26828e"
            ],
            [
             0.5555555555555556,
             "#1f9e89"
            ],
            [
             0.6666666666666666,
             "#35b779"
            ],
            [
             0.7777777777777778,
             "#6ece58"
            ],
            [
             0.8888888888888888,
             "#b5de2b"
            ],
            [
             1,
             "#fde725"
            ]
           ],
           "sequentialminus": [
            [
             0,
             "#440154"
            ],
            [
             0.1111111111111111,
             "#482878"
            ],
            [
             0.2222222222222222,
             "#3e4989"
            ],
            [
             0.3333333333333333,
             "#31688e"
            ],
            [
             0.4444444444444444,
             "#26828e"
            ],
            [
             0.5555555555555556,
             "#1f9e89"
            ],
            [
             0.6666666666666666,
             "#35b779"
            ],
            [
             0.7777777777777778,
             "#6ece58"
            ],
            [
             0.8888888888888888,
             "#b5de2b"
            ],
            [
             1,
             "#fde725"
            ]
           ]
          },
          "colorway": [
           "#1F77B4",
           "#FF7F0E",
           "#2CA02C",
           "#D62728",
           "#9467BD",
           "#8C564B",
           "#E377C2",
           "#7F7F7F",
           "#BCBD22",
           "#17BECF"
          ],
          "font": {
           "color": "rgb(36,36,36)"
          },
          "geo": {
           "bgcolor": "white",
           "lakecolor": "white",
           "landcolor": "white",
           "showlakes": true,
           "showland": true,
           "subunitcolor": "white"
          },
          "hoverlabel": {
           "align": "left"
          },
          "hovermode": "closest",
          "mapbox": {
           "style": "light"
          },
          "paper_bgcolor": "white",
          "plot_bgcolor": "white",
          "polar": {
           "angularaxis": {
            "gridcolor": "rgb(232,232,232)",
            "linecolor": "rgb(36,36,36)",
            "showgrid": false,
            "showline": true,
            "ticks": "outside"
           },
           "bgcolor": "white",
           "radialaxis": {
            "gridcolor": "rgb(232,232,232)",
            "linecolor": "rgb(36,36,36)",
            "showgrid": false,
            "showline": true,
            "ticks": "outside"
           }
          },
          "scene": {
           "xaxis": {
            "backgroundcolor": "white",
            "gridcolor": "rgb(232,232,232)",
            "gridwidth": 2,
            "linecolor": "rgb(36,36,36)",
            "showbackground": true,
            "showgrid": false,
            "showline": true,
            "ticks": "outside",
            "zeroline": false,
            "zerolinecolor": "rgb(36,36,36)"
           },
           "yaxis": {
            "backgroundcolor": "white",
            "gridcolor": "rgb(232,232,232)",
            "gridwidth": 2,
            "linecolor": "rgb(36,36,36)",
            "showbackground": true,
            "showgrid": false,
            "showline": true,
            "ticks": "outside",
            "zeroline": false,
            "zerolinecolor": "rgb(36,36,36)"
           },
           "zaxis": {
            "backgroundcolor": "white",
            "gridcolor": "rgb(232,232,232)",
            "gridwidth": 2,
            "linecolor": "rgb(36,36,36)",
            "showbackground": true,
            "showgrid": false,
            "showline": true,
            "ticks": "outside",
            "zeroline": false,
            "zerolinecolor": "rgb(36,36,36)"
           }
          },
          "shapedefaults": {
           "fillcolor": "black",
           "line": {
            "width": 0
           },
           "opacity": 0.3
          },
          "ternary": {
           "aaxis": {
            "gridcolor": "rgb(232,232,232)",
            "linecolor": "rgb(36,36,36)",
            "showgrid": false,
            "showline": true,
            "ticks": "outside"
           },
           "baxis": {
            "gridcolor": "rgb(232,232,232)",
            "linecolor": "rgb(36,36,36)",
            "showgrid": false,
            "showline": true,
            "ticks": "outside"
           },
           "bgcolor": "white",
           "caxis": {
            "gridcolor": "rgb(232,232,232)",
            "linecolor": "rgb(36,36,36)",
            "showgrid": false,
            "showline": true,
            "ticks": "outside"
           }
          },
          "title": {
           "x": 0.05
          },
          "xaxis": {
           "automargin": true,
           "gridcolor": "rgb(232,232,232)",
           "linecolor": "rgb(36,36,36)",
           "showgrid": false,
           "showline": true,
           "ticks": "outside",
           "title": {
            "standoff": 15
           },
           "zeroline": false,
           "zerolinecolor": "rgb(36,36,36)"
          },
          "yaxis": {
           "automargin": true,
           "gridcolor": "rgb(232,232,232)",
           "linecolor": "rgb(36,36,36)",
           "showgrid": false,
           "showline": true,
           "ticks": "outside",
           "title": {
            "standoff": 15
           },
           "zeroline": false,
           "zerolinecolor": "rgb(36,36,36)"
          }
         }
        },
        "title": {
         "font": {
          "color": "Black",
          "size": 22
         },
         "text": "<b>Intertopic Distance Map</b>",
         "x": 0.5,
         "xanchor": "center",
         "y": 0.95,
         "yanchor": "top"
        },
        "width": 650,
        "xaxis": {
         "anchor": "y",
         "domain": [
          0,
          1
         ],
         "range": [
          -6.052174186706543,
          2.0316804945468903
         ],
         "title": {
          "text": ""
         },
         "visible": false
        },
        "yaxis": {
         "anchor": "x",
         "domain": [
          0,
          1
         ],
         "range": [
          5.886909604072571,
          31.50487127304077
         ],
         "title": {
          "text": ""
         },
         "visible": false
        }
       }
      }
     },
     "metadata": {},
     "output_type": "display_data"
    }
   ],
   "source": [
    "model.visualize_topics()"
   ]
  },
  {
   "cell_type": "code",
   "execution_count": 57,
   "metadata": {},
   "outputs": [
    {
     "data": {
      "application/vnd.plotly.v1+json": {
       "config": {
        "plotlyServerURL": "https://plot.ly"
       },
       "data": [
        {
         "marker": {
          "color": "#D55E00"
         },
         "orientation": "h",
         "type": "bar",
         "x": [
          0.5039108991622925,
          0.5587866306304932,
          0.5639408826828003,
          0.5696780681610107,
          0.6879603266716003
         ],
         "xaxis": "x",
         "y": [
          "constitution  ",
          "judiciary  ",
          "amendment act  ",
          "election commission india  ",
          "indian constitution  "
         ],
         "yaxis": "y"
        },
        {
         "marker": {
          "color": "#0072B2"
         },
         "orientation": "h",
         "type": "bar",
         "x": [
          0.4967329204082489,
          0.49990731477737427,
          0.5201461315155029,
          0.550836980342865,
          0.551021158695221
         ],
         "xaxis": "x2",
         "y": [
          "countries discuss  ",
          "india position  ",
          "world bank imf  ",
          "india discuss  ",
          "india position global  "
         ],
         "yaxis": "y2"
        },
        {
         "marker": {
          "color": "#CC79A7"
         },
         "orientation": "h",
         "type": "bar",
         "x": [
          0.4455169439315796,
          0.45865851640701294,
          0.4954124093055725,
          0.530799388885498,
          0.550269365310669
         ],
         "xaxis": "x3",
         "y": [
          "policies addressing water  ",
          "policies addressing  ",
          "millennium development  ",
          "welfare schemes  ",
          "policies needed particularly  "
         ],
         "yaxis": "y3"
        },
        {
         "marker": {
          "color": "#E69F00"
         },
         "orientation": "h",
         "type": "bar",
         "x": [
          0.5477980971336365,
          0.5480973124504089,
          0.5624313950538635,
          0.6356965899467468,
          0.6880873441696167
         ],
         "xaxis": "x4",
         "y": [
          "socio economic development  ",
          "hunger poverty  ",
          "nations multidimensional poverty  ",
          "india development process  ",
          "hunger india shrinking  "
         ],
         "yaxis": "y4"
        },
        {
         "marker": {
          "color": "#56B4E9"
         },
         "orientation": "h",
         "type": "bar",
         "x": [
          0.5141528844833374,
          0.532011091709137,
          0.5576419830322266,
          0.5762153267860413,
          0.5971001982688904
         ],
         "xaxis": "x5",
         "y": [
          "rural india emergence  ",
          "rural poor india  ",
          "microfinancing women shgs  ",
          "self help group  ",
          "self help groups  "
         ],
         "yaxis": "y5"
        },
        {
         "marker": {
          "color": "#009E73"
         },
         "orientation": "h",
         "type": "bar",
         "x": [
          0.5575210452079773,
          0.5587910413742065,
          0.575444221496582,
          0.5889675617218018,
          0.6074144244194031
         ],
         "xaxis": "x6",
         "y": [
          "make vocational education  ",
          "increasing human resources  ",
          "resource development india  ",
          "skill employment  ",
          "reorient education india  "
         ],
         "yaxis": "y6"
        },
        {
         "marker": {
          "color": "#F0E442"
         },
         "orientation": "h",
         "type": "bar",
         "x": [
          0.6318833827972412,
          0.6344019770622253,
          0.6390366554260254,
          0.6806758046150208,
          0.7184188365936279
         ],
         "xaxis": "x7",
         "y": [
          "suggest reforms civil  ",
          "reforms required civil  ",
          "public service delivery  ",
          "service strengthening democracy  ",
          "reforms civil service  "
         ],
         "yaxis": "y7"
        }
       ],
       "layout": {
        "annotations": [
         {
          "font": {
           "size": 16
          },
          "showarrow": false,
          "text": "Topic 0",
          "x": 0.0875,
          "xanchor": "center",
          "xref": "paper",
          "y": 1,
          "yanchor": "bottom",
          "yref": "paper"
         },
         {
          "font": {
           "size": 16
          },
          "showarrow": false,
          "text": "Topic 1",
          "x": 0.36250000000000004,
          "xanchor": "center",
          "xref": "paper",
          "y": 1,
          "yanchor": "bottom",
          "yref": "paper"
         },
         {
          "font": {
           "size": 16
          },
          "showarrow": false,
          "text": "Topic 2",
          "x": 0.6375000000000001,
          "xanchor": "center",
          "xref": "paper",
          "y": 1,
          "yanchor": "bottom",
          "yref": "paper"
         },
         {
          "font": {
           "size": 16
          },
          "showarrow": false,
          "text": "Topic 3",
          "x": 0.9125,
          "xanchor": "center",
          "xref": "paper",
          "y": 1,
          "yanchor": "bottom",
          "yref": "paper"
         },
         {
          "font": {
           "size": 16
          },
          "showarrow": false,
          "text": "Topic 4",
          "x": 0.0875,
          "xanchor": "center",
          "xref": "paper",
          "y": 0.4,
          "yanchor": "bottom",
          "yref": "paper"
         },
         {
          "font": {
           "size": 16
          },
          "showarrow": false,
          "text": "Topic 5",
          "x": 0.36250000000000004,
          "xanchor": "center",
          "xref": "paper",
          "y": 0.4,
          "yanchor": "bottom",
          "yref": "paper"
         },
         {
          "font": {
           "size": 16
          },
          "showarrow": false,
          "text": "Topic 6",
          "x": 0.6375000000000001,
          "xanchor": "center",
          "xref": "paper",
          "y": 0.4,
          "yanchor": "bottom",
          "yref": "paper"
         }
        ],
        "height": 500,
        "hoverlabel": {
         "bgcolor": "white",
         "font": {
          "family": "Rockwell",
          "size": 16
         }
        },
        "showlegend": false,
        "template": {
         "data": {
          "bar": [
           {
            "error_x": {
             "color": "#2a3f5f"
            },
            "error_y": {
             "color": "#2a3f5f"
            },
            "marker": {
             "line": {
              "color": "white",
              "width": 0.5
             },
             "pattern": {
              "fillmode": "overlay",
              "size": 10,
              "solidity": 0.2
             }
            },
            "type": "bar"
           }
          ],
          "barpolar": [
           {
            "marker": {
             "line": {
              "color": "white",
              "width": 0.5
             },
             "pattern": {
              "fillmode": "overlay",
              "size": 10,
              "solidity": 0.2
             }
            },
            "type": "barpolar"
           }
          ],
          "carpet": [
           {
            "aaxis": {
             "endlinecolor": "#2a3f5f",
             "gridcolor": "#C8D4E3",
             "linecolor": "#C8D4E3",
             "minorgridcolor": "#C8D4E3",
             "startlinecolor": "#2a3f5f"
            },
            "baxis": {
             "endlinecolor": "#2a3f5f",
             "gridcolor": "#C8D4E3",
             "linecolor": "#C8D4E3",
             "minorgridcolor": "#C8D4E3",
             "startlinecolor": "#2a3f5f"
            },
            "type": "carpet"
           }
          ],
          "choropleth": [
           {
            "colorbar": {
             "outlinewidth": 0,
             "ticks": ""
            },
            "type": "choropleth"
           }
          ],
          "contour": [
           {
            "colorbar": {
             "outlinewidth": 0,
             "ticks": ""
            },
            "colorscale": [
             [
              0,
              "#0d0887"
             ],
             [
              0.1111111111111111,
              "#46039f"
             ],
             [
              0.2222222222222222,
              "#7201a8"
             ],
             [
              0.3333333333333333,
              "#9c179e"
             ],
             [
              0.4444444444444444,
              "#bd3786"
             ],
             [
              0.5555555555555556,
              "#d8576b"
             ],
             [
              0.6666666666666666,
              "#ed7953"
             ],
             [
              0.7777777777777778,
              "#fb9f3a"
             ],
             [
              0.8888888888888888,
              "#fdca26"
             ],
             [
              1,
              "#f0f921"
             ]
            ],
            "type": "contour"
           }
          ],
          "contourcarpet": [
           {
            "colorbar": {
             "outlinewidth": 0,
             "ticks": ""
            },
            "type": "contourcarpet"
           }
          ],
          "heatmap": [
           {
            "colorbar": {
             "outlinewidth": 0,
             "ticks": ""
            },
            "colorscale": [
             [
              0,
              "#0d0887"
             ],
             [
              0.1111111111111111,
              "#46039f"
             ],
             [
              0.2222222222222222,
              "#7201a8"
             ],
             [
              0.3333333333333333,
              "#9c179e"
             ],
             [
              0.4444444444444444,
              "#bd3786"
             ],
             [
              0.5555555555555556,
              "#d8576b"
             ],
             [
              0.6666666666666666,
              "#ed7953"
             ],
             [
              0.7777777777777778,
              "#fb9f3a"
             ],
             [
              0.8888888888888888,
              "#fdca26"
             ],
             [
              1,
              "#f0f921"
             ]
            ],
            "type": "heatmap"
           }
          ],
          "heatmapgl": [
           {
            "colorbar": {
             "outlinewidth": 0,
             "ticks": ""
            },
            "colorscale": [
             [
              0,
              "#0d0887"
             ],
             [
              0.1111111111111111,
              "#46039f"
             ],
             [
              0.2222222222222222,
              "#7201a8"
             ],
             [
              0.3333333333333333,
              "#9c179e"
             ],
             [
              0.4444444444444444,
              "#bd3786"
             ],
             [
              0.5555555555555556,
              "#d8576b"
             ],
             [
              0.6666666666666666,
              "#ed7953"
             ],
             [
              0.7777777777777778,
              "#fb9f3a"
             ],
             [
              0.8888888888888888,
              "#fdca26"
             ],
             [
              1,
              "#f0f921"
             ]
            ],
            "type": "heatmapgl"
           }
          ],
          "histogram": [
           {
            "marker": {
             "pattern": {
              "fillmode": "overlay",
              "size": 10,
              "solidity": 0.2
             }
            },
            "type": "histogram"
           }
          ],
          "histogram2d": [
           {
            "colorbar": {
             "outlinewidth": 0,
             "ticks": ""
            },
            "colorscale": [
             [
              0,
              "#0d0887"
             ],
             [
              0.1111111111111111,
              "#46039f"
             ],
             [
              0.2222222222222222,
              "#7201a8"
             ],
             [
              0.3333333333333333,
              "#9c179e"
             ],
             [
              0.4444444444444444,
              "#bd3786"
             ],
             [
              0.5555555555555556,
              "#d8576b"
             ],
             [
              0.6666666666666666,
              "#ed7953"
             ],
             [
              0.7777777777777778,
              "#fb9f3a"
             ],
             [
              0.8888888888888888,
              "#fdca26"
             ],
             [
              1,
              "#f0f921"
             ]
            ],
            "type": "histogram2d"
           }
          ],
          "histogram2dcontour": [
           {
            "colorbar": {
             "outlinewidth": 0,
             "ticks": ""
            },
            "colorscale": [
             [
              0,
              "#0d0887"
             ],
             [
              0.1111111111111111,
              "#46039f"
             ],
             [
              0.2222222222222222,
              "#7201a8"
             ],
             [
              0.3333333333333333,
              "#9c179e"
             ],
             [
              0.4444444444444444,
              "#bd3786"
             ],
             [
              0.5555555555555556,
              "#d8576b"
             ],
             [
              0.6666666666666666,
              "#ed7953"
             ],
             [
              0.7777777777777778,
              "#fb9f3a"
             ],
             [
              0.8888888888888888,
              "#fdca26"
             ],
             [
              1,
              "#f0f921"
             ]
            ],
            "type": "histogram2dcontour"
           }
          ],
          "mesh3d": [
           {
            "colorbar": {
             "outlinewidth": 0,
             "ticks": ""
            },
            "type": "mesh3d"
           }
          ],
          "parcoords": [
           {
            "line": {
             "colorbar": {
              "outlinewidth": 0,
              "ticks": ""
             }
            },
            "type": "parcoords"
           }
          ],
          "pie": [
           {
            "automargin": true,
            "type": "pie"
           }
          ],
          "scatter": [
           {
            "fillpattern": {
             "fillmode": "overlay",
             "size": 10,
             "solidity": 0.2
            },
            "type": "scatter"
           }
          ],
          "scatter3d": [
           {
            "line": {
             "colorbar": {
              "outlinewidth": 0,
              "ticks": ""
             }
            },
            "marker": {
             "colorbar": {
              "outlinewidth": 0,
              "ticks": ""
             }
            },
            "type": "scatter3d"
           }
          ],
          "scattercarpet": [
           {
            "marker": {
             "colorbar": {
              "outlinewidth": 0,
              "ticks": ""
             }
            },
            "type": "scattercarpet"
           }
          ],
          "scattergeo": [
           {
            "marker": {
             "colorbar": {
              "outlinewidth": 0,
              "ticks": ""
             }
            },
            "type": "scattergeo"
           }
          ],
          "scattergl": [
           {
            "marker": {
             "colorbar": {
              "outlinewidth": 0,
              "ticks": ""
             }
            },
            "type": "scattergl"
           }
          ],
          "scattermapbox": [
           {
            "marker": {
             "colorbar": {
              "outlinewidth": 0,
              "ticks": ""
             }
            },
            "type": "scattermapbox"
           }
          ],
          "scatterpolar": [
           {
            "marker": {
             "colorbar": {
              "outlinewidth": 0,
              "ticks": ""
             }
            },
            "type": "scatterpolar"
           }
          ],
          "scatterpolargl": [
           {
            "marker": {
             "colorbar": {
              "outlinewidth": 0,
              "ticks": ""
             }
            },
            "type": "scatterpolargl"
           }
          ],
          "scatterternary": [
           {
            "marker": {
             "colorbar": {
              "outlinewidth": 0,
              "ticks": ""
             }
            },
            "type": "scatterternary"
           }
          ],
          "surface": [
           {
            "colorbar": {
             "outlinewidth": 0,
             "ticks": ""
            },
            "colorscale": [
             [
              0,
              "#0d0887"
             ],
             [
              0.1111111111111111,
              "#46039f"
             ],
             [
              0.2222222222222222,
              "#7201a8"
             ],
             [
              0.3333333333333333,
              "#9c179e"
             ],
             [
              0.4444444444444444,
              "#bd3786"
             ],
             [
              0.5555555555555556,
              "#d8576b"
             ],
             [
              0.6666666666666666,
              "#ed7953"
             ],
             [
              0.7777777777777778,
              "#fb9f3a"
             ],
             [
              0.8888888888888888,
              "#fdca26"
             ],
             [
              1,
              "#f0f921"
             ]
            ],
            "type": "surface"
           }
          ],
          "table": [
           {
            "cells": {
             "fill": {
              "color": "#EBF0F8"
             },
             "line": {
              "color": "white"
             }
            },
            "header": {
             "fill": {
              "color": "#C8D4E3"
             },
             "line": {
              "color": "white"
             }
            },
            "type": "table"
           }
          ]
         },
         "layout": {
          "annotationdefaults": {
           "arrowcolor": "#2a3f5f",
           "arrowhead": 0,
           "arrowwidth": 1
          },
          "autotypenumbers": "strict",
          "coloraxis": {
           "colorbar": {
            "outlinewidth": 0,
            "ticks": ""
           }
          },
          "colorscale": {
           "diverging": [
            [
             0,
             "#8e0152"
            ],
            [
             0.1,
             "#c51b7d"
            ],
            [
             0.2,
             "#de77ae"
            ],
            [
             0.3,
             "#f1b6da"
            ],
            [
             0.4,
             "#fde0ef"
            ],
            [
             0.5,
             "#f7f7f7"
            ],
            [
             0.6,
             "#e6f5d0"
            ],
            [
             0.7,
             "#b8e186"
            ],
            [
             0.8,
             "#7fbc41"
            ],
            [
             0.9,
             "#4d9221"
            ],
            [
             1,
             "#276419"
            ]
           ],
           "sequential": [
            [
             0,
             "#0d0887"
            ],
            [
             0.1111111111111111,
             "#46039f"
            ],
            [
             0.2222222222222222,
             "#7201a8"
            ],
            [
             0.3333333333333333,
             "#9c179e"
            ],
            [
             0.4444444444444444,
             "#bd3786"
            ],
            [
             0.5555555555555556,
             "#d8576b"
            ],
            [
             0.6666666666666666,
             "#ed7953"
            ],
            [
             0.7777777777777778,
             "#fb9f3a"
            ],
            [
             0.8888888888888888,
             "#fdca26"
            ],
            [
             1,
             "#f0f921"
            ]
           ],
           "sequentialminus": [
            [
             0,
             "#0d0887"
            ],
            [
             0.1111111111111111,
             "#46039f"
            ],
            [
             0.2222222222222222,
             "#7201a8"
            ],
            [
             0.3333333333333333,
             "#9c179e"
            ],
            [
             0.4444444444444444,
             "#bd3786"
            ],
            [
             0.5555555555555556,
             "#d8576b"
            ],
            [
             0.6666666666666666,
             "#ed7953"
            ],
            [
             0.7777777777777778,
             "#fb9f3a"
            ],
            [
             0.8888888888888888,
             "#fdca26"
            ],
            [
             1,
             "#f0f921"
            ]
           ]
          },
          "colorway": [
           "#636efa",
           "#EF553B",
           "#00cc96",
           "#ab63fa",
           "#FFA15A",
           "#19d3f3",
           "#FF6692",
           "#B6E880",
           "#FF97FF",
           "#FECB52"
          ],
          "font": {
           "color": "#2a3f5f"
          },
          "geo": {
           "bgcolor": "white",
           "lakecolor": "white",
           "landcolor": "white",
           "showlakes": true,
           "showland": true,
           "subunitcolor": "#C8D4E3"
          },
          "hoverlabel": {
           "align": "left"
          },
          "hovermode": "closest",
          "mapbox": {
           "style": "light"
          },
          "paper_bgcolor": "white",
          "plot_bgcolor": "white",
          "polar": {
           "angularaxis": {
            "gridcolor": "#EBF0F8",
            "linecolor": "#EBF0F8",
            "ticks": ""
           },
           "bgcolor": "white",
           "radialaxis": {
            "gridcolor": "#EBF0F8",
            "linecolor": "#EBF0F8",
            "ticks": ""
           }
          },
          "scene": {
           "xaxis": {
            "backgroundcolor": "white",
            "gridcolor": "#DFE8F3",
            "gridwidth": 2,
            "linecolor": "#EBF0F8",
            "showbackground": true,
            "ticks": "",
            "zerolinecolor": "#EBF0F8"
           },
           "yaxis": {
            "backgroundcolor": "white",
            "gridcolor": "#DFE8F3",
            "gridwidth": 2,
            "linecolor": "#EBF0F8",
            "showbackground": true,
            "ticks": "",
            "zerolinecolor": "#EBF0F8"
           },
           "zaxis": {
            "backgroundcolor": "white",
            "gridcolor": "#DFE8F3",
            "gridwidth": 2,
            "linecolor": "#EBF0F8",
            "showbackground": true,
            "ticks": "",
            "zerolinecolor": "#EBF0F8"
           }
          },
          "shapedefaults": {
           "line": {
            "color": "#2a3f5f"
           }
          },
          "ternary": {
           "aaxis": {
            "gridcolor": "#DFE8F3",
            "linecolor": "#A2B1C6",
            "ticks": ""
           },
           "baxis": {
            "gridcolor": "#DFE8F3",
            "linecolor": "#A2B1C6",
            "ticks": ""
           },
           "bgcolor": "white",
           "caxis": {
            "gridcolor": "#DFE8F3",
            "linecolor": "#A2B1C6",
            "ticks": ""
           }
          },
          "title": {
           "x": 0.05
          },
          "xaxis": {
           "automargin": true,
           "gridcolor": "#EBF0F8",
           "linecolor": "#EBF0F8",
           "ticks": "",
           "title": {
            "standoff": 15
           },
           "zerolinecolor": "#EBF0F8",
           "zerolinewidth": 2
          },
          "yaxis": {
           "automargin": true,
           "gridcolor": "#EBF0F8",
           "linecolor": "#EBF0F8",
           "ticks": "",
           "title": {
            "standoff": 15
           },
           "zerolinecolor": "#EBF0F8",
           "zerolinewidth": 2
          }
         }
        },
        "title": {
         "font": {
          "color": "Black",
          "size": 22
         },
         "text": "Topic Word Scores",
         "x": 0.5,
         "xanchor": "center",
         "yanchor": "top"
        },
        "width": 1000,
        "xaxis": {
         "anchor": "y",
         "domain": [
          0,
          0.175
         ],
         "showgrid": true
        },
        "xaxis2": {
         "anchor": "y2",
         "domain": [
          0.275,
          0.45
         ],
         "showgrid": true
        },
        "xaxis3": {
         "anchor": "y3",
         "domain": [
          0.55,
          0.7250000000000001
         ],
         "showgrid": true
        },
        "xaxis4": {
         "anchor": "y4",
         "domain": [
          0.825,
          1
         ],
         "showgrid": true
        },
        "xaxis5": {
         "anchor": "y5",
         "domain": [
          0,
          0.175
         ],
         "showgrid": true
        },
        "xaxis6": {
         "anchor": "y6",
         "domain": [
          0.275,
          0.45
         ],
         "showgrid": true
        },
        "xaxis7": {
         "anchor": "y7",
         "domain": [
          0.55,
          0.7250000000000001
         ],
         "showgrid": true
        },
        "xaxis8": {
         "anchor": "y8",
         "domain": [
          0.825,
          1
         ],
         "showgrid": true
        },
        "yaxis": {
         "anchor": "x",
         "domain": [
          0.6000000000000001,
          1
         ],
         "showgrid": true
        },
        "yaxis2": {
         "anchor": "x2",
         "domain": [
          0.6000000000000001,
          1
         ],
         "showgrid": true
        },
        "yaxis3": {
         "anchor": "x3",
         "domain": [
          0.6000000000000001,
          1
         ],
         "showgrid": true
        },
        "yaxis4": {
         "anchor": "x4",
         "domain": [
          0.6000000000000001,
          1
         ],
         "showgrid": true
        },
        "yaxis5": {
         "anchor": "x5",
         "domain": [
          0,
          0.4
         ],
         "showgrid": true
        },
        "yaxis6": {
         "anchor": "x6",
         "domain": [
          0,
          0.4
         ],
         "showgrid": true
        },
        "yaxis7": {
         "anchor": "x7",
         "domain": [
          0,
          0.4
         ],
         "showgrid": true
        },
        "yaxis8": {
         "anchor": "x8",
         "domain": [
          0,
          0.4
         ],
         "showgrid": true
        }
       }
      }
     },
     "metadata": {},
     "output_type": "display_data"
    }
   ],
   "source": [
    "model.visualize_barchart()"
   ]
  },
  {
   "cell_type": "code",
   "execution_count": 58,
   "metadata": {},
   "outputs": [
    {
     "data": {
      "text/plain": [
       "['alleviation programmes india programmes india independent india indian railways',\n",
       " 'indian constitution election commission india amendment act judiciary',\n",
       " 'india position global india discuss world bank imf india position',\n",
       " 'policies needed particularly welfare schemes millennium development policies addressing',\n",
       " 'hunger india shrinking india development process nations multidimensional poverty hunger poverty',\n",
       " 'self help groups self help group microfinancing women shgs rural poor india',\n",
       " 'reorient education india skill employment resource development india increasing human resources',\n",
       " 'reforms civil service service strengthening democracy public service delivery reforms required civil']"
      ]
     },
     "execution_count": 58,
     "metadata": {},
     "output_type": "execute_result"
    }
   ],
   "source": [
    "topics_label = model.get_topic_info()['Name'].tolist()\n",
    "for i in range(len(topics_label)):\n",
    "    topics_label[i] = ' '.join(topics_label[i].split('_')[1:])\n",
    "topics_label"
   ]
  },
  {
   "cell_type": "code",
   "execution_count": 59,
   "metadata": {},
   "outputs": [],
   "source": [
    "import numpy as np\n",
    "question_index = 129\n",
    "topic_probabilities = probs[question_index]\n",
    "significant_probs = topic_probabilities[topic_probabilities > 0.05]\n",
    "significant_topics = np.arange(len(topic_probabilities))[topic_probabilities > 0.05]\n",
    "others = np.sum(topic_probabilities[topic_probabilities <= 0.05])\n",
    "\n",
    "# Labels for the pie chart\n",
    "labels = [topics_label[i+1] for i in significant_topics] + [\"Others\"]\n",
    "\n",
    "# Probabilities to plot\n",
    "probs_to_plot = np.append(significant_probs, others)"
   ]
  },
  {
   "cell_type": "code",
   "execution_count": 60,
   "metadata": {},
   "outputs": [
    {
     "data": {
      "text/plain": [
       "array([0.03975944, 0.62607968, 0.03268891, 0.03477183, 0.03019268,\n",
       "       0.03383778, 0.03574192, 0.03245525, 0.03421867, 0.03175776,\n",
       "       0.03442144, 0.03407463])"
      ]
     },
     "execution_count": 60,
     "metadata": {},
     "output_type": "execute_result"
    }
   ],
   "source": [
    "probs[question_index]"
   ]
  },
  {
   "cell_type": "code",
   "execution_count": 61,
   "metadata": {},
   "outputs": [
    {
     "data": {
      "image/png": "[encoded data removed]",
      "text/plain": [
       "<Figure size 400x400 with 1 Axes>"
      ]
     },
     "metadata": {},
     "output_type": "display_data"
    }
   ],
   "source": [
    "import matplotlib.pyplot as plt\n",
    "plt.figure(figsize=(4, 4))\n",
    "plt.pie(probs_to_plot, labels=labels, autopct='%1.1f%%', startangle=140)\n",
    "plt.title('Topic Probabilities')\n",
    "plt.legend(loc='upper right', bbox_to_anchor=(1.5, 1.5))\n",
    "plt.text(-1.5, -1.5, questions[question_index], fontsize=12, ha=\"center\", va=\"center\")\n",
    "plt.show()"
   ]
  },
  {
   "cell_type": "code",
   "execution_count": 62,
   "metadata": {},
   "outputs": [
    {
     "data": {
      "text/html": [
       "<div>\n",
       "<style scoped>\n",
       "    .dataframe tbody tr th:only-of-type {\n",
       "        vertical-align: middle;\n",
       "    }\n",
       "\n",
       "    .dataframe tbody tr th {\n",
       "        vertical-align: top;\n",
       "    }\n",
       "\n",
       "    .dataframe thead th {\n",
       "        text-align: right;\n",
       "    }\n",
       "</style>\n",
       "<table border=\"1\" class=\"dataframe\">\n",
       "  <thead>\n",
       "    <tr style=\"text-align: right;\">\n",
       "      <th></th>\n",
       "      <th>Year</th>\n",
       "      <th>Question</th>\n",
       "      <th>Topic_Number</th>\n",
       "      <th>Topic</th>\n",
       "    </tr>\n",
       "  </thead>\n",
       "  <tbody>\n",
       "    <tr>\n",
       "      <th>31</th>\n",
       "      <td>2022</td>\n",
       "      <td>Discuss the procedures to decide the disputes ...</td>\n",
       "      <td>0</td>\n",
       "      <td>indian constitution constitution discuss elect...</td>\n",
       "    </tr>\n",
       "    <tr>\n",
       "      <th>44</th>\n",
       "      <td>2021</td>\n",
       "      <td>“Pressure groups play a vital role in influenc...</td>\n",
       "      <td>7</td>\n",
       "      <td>pressure groups india legislatures india press...</td>\n",
       "    </tr>\n",
       "    <tr>\n",
       "      <th>1</th>\n",
       "      <td>2023</td>\n",
       "      <td>Who are entitled to receive free legal aid? As...</td>\n",
       "      <td>0</td>\n",
       "      <td>indian constitution constitution discuss elect...</td>\n",
       "    </tr>\n",
       "    <tr>\n",
       "      <th>119</th>\n",
       "      <td>2018</td>\n",
       "      <td>What are the key areas of reform if the WTO ha...</td>\n",
       "      <td>1</td>\n",
       "      <td>world bank imf india position countries discus...</td>\n",
       "    </tr>\n",
       "    <tr>\n",
       "      <th>66</th>\n",
       "      <td>2020</td>\n",
       "      <td>“Institutional quality is a crucial driver of ...</td>\n",
       "      <td>9</td>\n",
       "      <td>reforms civil service service strengthening de...</td>\n",
       "    </tr>\n",
       "  </tbody>\n",
       "</table>\n",
       "</div>"
      ],
      "text/plain": [
       "     Year                                           Question  Topic_Number  \\\n",
       "31   2022  Discuss the procedures to decide the disputes ...             0   \n",
       "44   2021  “Pressure groups play a vital role in influenc...             7   \n",
       "1    2023  Who are entitled to receive free legal aid? As...             0   \n",
       "119  2018  What are the key areas of reform if the WTO ha...             1   \n",
       "66   2020  “Institutional quality is a crucial driver of ...             9   \n",
       "\n",
       "                                                 Topic  \n",
       "31   indian constitution constitution discuss elect...  \n",
       "44   pressure groups india legislatures india press...  \n",
       "1    indian constitution constitution discuss elect...  \n",
       "119  world bank imf india position countries discus...  \n",
       "66   reforms civil service service strengthening de...  "
      ]
     },
     "execution_count": 62,
     "metadata": {},
     "output_type": "execute_result"
    }
   ],
   "source": [
    "df['Topic_Number'] = topics\n",
    "df.sample(5)"
   ]
  },
  {
   "cell_type": "code",
   "execution_count": 63,
   "metadata": {},
   "outputs": [
    {
     "ename": "IndexError",
     "evalue": "single positional indexer is out-of-bounds",
     "output_type": "error",
     "traceback": [
      "\u001b[1;31m---------------------------------------------------------------------------\u001b[0m",
      "\u001b[1;31mIndexError\u001b[0m                                Traceback (most recent call last)",
      "Cell \u001b[1;32mIn[63], line 1\u001b[0m\n\u001b[1;32m----> 1\u001b[0m df[\u001b[38;5;124m'\u001b[39m\u001b[38;5;124mTopic\u001b[39m\u001b[38;5;124m'\u001b[39m] \u001b[38;5;241m=\u001b[39m \u001b[43mdf\u001b[49m\u001b[43m[\u001b[49m\u001b[38;5;124;43m'\u001b[39;49m\u001b[38;5;124;43mTopic_Number\u001b[39;49m\u001b[38;5;124;43m'\u001b[39;49m\u001b[43m]\u001b[49m\u001b[38;5;241;43m.\u001b[39;49m\u001b[43mapply\u001b[49m\u001b[43m(\u001b[49m\u001b[38;5;28;43;01mlambda\u001b[39;49;00m\u001b[43m \u001b[49m\u001b[43mx\u001b[49m\u001b[43m:\u001b[49m\u001b[43m \u001b[49m\u001b[38;5;124;43m\"\u001b[39;49m\u001b[38;5;124;43m \u001b[39;49m\u001b[38;5;124;43m\"\u001b[39;49m\u001b[38;5;241;43m.\u001b[39;49m\u001b[43mjoin\u001b[49m\u001b[43m(\u001b[49m\u001b[43mmodel\u001b[49m\u001b[38;5;241;43m.\u001b[39;49m\u001b[43mget_topic_info\u001b[49m\u001b[43m(\u001b[49m\u001b[43mtopic\u001b[49m\u001b[38;5;241;43m=\u001b[39;49m\u001b[43mx\u001b[49m\u001b[43m)\u001b[49m\u001b[43m[\u001b[49m\u001b[38;5;124;43m'\u001b[39;49m\u001b[38;5;124;43mName\u001b[39;49m\u001b[38;5;124;43m'\u001b[39;49m\u001b[43m]\u001b[49m\u001b[38;5;241;43m.\u001b[39;49m\u001b[43miloc\u001b[49m\u001b[43m[\u001b[49m\u001b[38;5;241;43m0\u001b[39;49m\u001b[43m]\u001b[49m\u001b[38;5;241;43m.\u001b[39;49m\u001b[43msplit\u001b[49m\u001b[43m(\u001b[49m\u001b[38;5;124;43m'\u001b[39;49m\u001b[38;5;124;43m_\u001b[39;49m\u001b[38;5;124;43m'\u001b[39;49m\u001b[43m)\u001b[49m\u001b[43m[\u001b[49m\u001b[38;5;241;43m1\u001b[39;49m\u001b[43m:\u001b[49m\u001b[43m]\u001b[49m\u001b[43m)\u001b[49m\u001b[43m)\u001b[49m\n\u001b[0;32m      3\u001b[0m \u001b[38;5;66;03m# Display the first few rows of the DataFrame\u001b[39;00m\n\u001b[0;32m      4\u001b[0m df\u001b[38;5;241m.\u001b[39mhead()\n",
      "File \u001b[1;32me:\\repos\\SURP-2024\\venv\\Lib\\site-packages\\pandas\\core\\series.py:4924\u001b[0m, in \u001b[0;36mSeries.apply\u001b[1;34m(self, func, convert_dtype, args, by_row, **kwargs)\u001b[0m\n\u001b[0;32m   4789\u001b[0m \u001b[38;5;28;01mdef\u001b[39;00m \u001b[38;5;21mapply\u001b[39m(\n\u001b[0;32m   4790\u001b[0m     \u001b[38;5;28mself\u001b[39m,\n\u001b[0;32m   4791\u001b[0m     func: AggFuncType,\n\u001b[1;32m   (...)\u001b[0m\n\u001b[0;32m   4796\u001b[0m     \u001b[38;5;241m*\u001b[39m\u001b[38;5;241m*\u001b[39mkwargs,\n\u001b[0;32m   4797\u001b[0m ) \u001b[38;5;241m-\u001b[39m\u001b[38;5;241m>\u001b[39m DataFrame \u001b[38;5;241m|\u001b[39m Series:\n\u001b[0;32m   4798\u001b[0m \u001b[38;5;250m    \u001b[39m\u001b[38;5;124;03m\"\"\"\u001b[39;00m\n\u001b[0;32m   4799\u001b[0m \u001b[38;5;124;03m    Invoke function on values of Series.\u001b[39;00m\n\u001b[0;32m   4800\u001b[0m \n\u001b[1;32m   (...)\u001b[0m\n\u001b[0;32m   4915\u001b[0m \u001b[38;5;124;03m    dtype: float64\u001b[39;00m\n\u001b[0;32m   4916\u001b[0m \u001b[38;5;124;03m    \"\"\"\u001b[39;00m\n\u001b[0;32m   4917\u001b[0m     \u001b[38;5;28;01mreturn\u001b[39;00m \u001b[43mSeriesApply\u001b[49m\u001b[43m(\u001b[49m\n\u001b[0;32m   4918\u001b[0m \u001b[43m        \u001b[49m\u001b[38;5;28;43mself\u001b[39;49m\u001b[43m,\u001b[49m\n\u001b[0;32m   4919\u001b[0m \u001b[43m        \u001b[49m\u001b[43mfunc\u001b[49m\u001b[43m,\u001b[49m\n\u001b[0;32m   4920\u001b[0m \u001b[43m        \u001b[49m\u001b[43mconvert_dtype\u001b[49m\u001b[38;5;241;43m=\u001b[39;49m\u001b[43mconvert_dtype\u001b[49m\u001b[43m,\u001b[49m\n\u001b[0;32m   4921\u001b[0m \u001b[43m        \u001b[49m\u001b[43mby_row\u001b[49m\u001b[38;5;241;43m=\u001b[39;49m\u001b[43mby_row\u001b[49m\u001b[43m,\u001b[49m\n\u001b[0;32m   4922\u001b[0m \u001b[43m        \u001b[49m\u001b[43margs\u001b[49m\u001b[38;5;241;43m=\u001b[39;49m\u001b[43margs\u001b[49m\u001b[43m,\u001b[49m\n\u001b[0;32m   4923\u001b[0m \u001b[43m        \u001b[49m\u001b[43mkwargs\u001b[49m\u001b[38;5;241;43m=\u001b[39;49m\u001b[43mkwargs\u001b[49m\u001b[43m,\u001b[49m\n\u001b[1;32m-> 4924\u001b[0m \u001b[43m    \u001b[49m\u001b[43m)\u001b[49m\u001b[38;5;241;43m.\u001b[39;49m\u001b[43mapply\u001b[49m\u001b[43m(\u001b[49m\u001b[43m)\u001b[49m\n",
      "File \u001b[1;32me:\\repos\\SURP-2024\\venv\\Lib\\site-packages\\pandas\\core\\apply.py:1427\u001b[0m, in \u001b[0;36mSeriesApply.apply\u001b[1;34m(self)\u001b[0m\n\u001b[0;32m   1424\u001b[0m     \u001b[38;5;28;01mreturn\u001b[39;00m \u001b[38;5;28mself\u001b[39m\u001b[38;5;241m.\u001b[39mapply_compat()\n\u001b[0;32m   1426\u001b[0m \u001b[38;5;66;03m# self.func is Callable\u001b[39;00m\n\u001b[1;32m-> 1427\u001b[0m \u001b[38;5;28;01mreturn\u001b[39;00m \u001b[38;5;28;43mself\u001b[39;49m\u001b[38;5;241;43m.\u001b[39;49m\u001b[43mapply_standard\u001b[49m\u001b[43m(\u001b[49m\u001b[43m)\u001b[49m\n",
      "File \u001b[1;32me:\\repos\\SURP-2024\\venv\\Lib\\site-packages\\pandas\\core\\apply.py:1507\u001b[0m, in \u001b[0;36mSeriesApply.apply_standard\u001b[1;34m(self)\u001b[0m\n\u001b[0;32m   1501\u001b[0m \u001b[38;5;66;03m# row-wise access\u001b[39;00m\n\u001b[0;32m   1502\u001b[0m \u001b[38;5;66;03m# apply doesn't have a `na_action` keyword and for backward compat reasons\u001b[39;00m\n\u001b[0;32m   1503\u001b[0m \u001b[38;5;66;03m# we need to give `na_action=\"ignore\"` for categorical data.\u001b[39;00m\n\u001b[0;32m   1504\u001b[0m \u001b[38;5;66;03m# TODO: remove the `na_action=\"ignore\"` when that default has been changed in\u001b[39;00m\n\u001b[0;32m   1505\u001b[0m \u001b[38;5;66;03m#  Categorical (GH51645).\u001b[39;00m\n\u001b[0;32m   1506\u001b[0m action \u001b[38;5;241m=\u001b[39m \u001b[38;5;124m\"\u001b[39m\u001b[38;5;124mignore\u001b[39m\u001b[38;5;124m\"\u001b[39m \u001b[38;5;28;01mif\u001b[39;00m \u001b[38;5;28misinstance\u001b[39m(obj\u001b[38;5;241m.\u001b[39mdtype, CategoricalDtype) \u001b[38;5;28;01melse\u001b[39;00m \u001b[38;5;28;01mNone\u001b[39;00m\n\u001b[1;32m-> 1507\u001b[0m mapped \u001b[38;5;241m=\u001b[39m \u001b[43mobj\u001b[49m\u001b[38;5;241;43m.\u001b[39;49m\u001b[43m_map_values\u001b[49m\u001b[43m(\u001b[49m\n\u001b[0;32m   1508\u001b[0m \u001b[43m    \u001b[49m\u001b[43mmapper\u001b[49m\u001b[38;5;241;43m=\u001b[39;49m\u001b[43mcurried\u001b[49m\u001b[43m,\u001b[49m\u001b[43m \u001b[49m\u001b[43mna_action\u001b[49m\u001b[38;5;241;43m=\u001b[39;49m\u001b[43maction\u001b[49m\u001b[43m,\u001b[49m\u001b[43m \u001b[49m\u001b[43mconvert\u001b[49m\u001b[38;5;241;43m=\u001b[39;49m\u001b[38;5;28;43mself\u001b[39;49m\u001b[38;5;241;43m.\u001b[39;49m\u001b[43mconvert_dtype\u001b[49m\n\u001b[0;32m   1509\u001b[0m \u001b[43m\u001b[49m\u001b[43m)\u001b[49m\n\u001b[0;32m   1511\u001b[0m \u001b[38;5;28;01mif\u001b[39;00m \u001b[38;5;28mlen\u001b[39m(mapped) \u001b[38;5;129;01mand\u001b[39;00m \u001b[38;5;28misinstance\u001b[39m(mapped[\u001b[38;5;241m0\u001b[39m], ABCSeries):\n\u001b[0;32m   1512\u001b[0m     \u001b[38;5;66;03m# GH#43986 Need to do list(mapped) in order to get treated as nested\u001b[39;00m\n\u001b[0;32m   1513\u001b[0m     \u001b[38;5;66;03m#  See also GH#25959 regarding EA support\u001b[39;00m\n\u001b[0;32m   1514\u001b[0m     \u001b[38;5;28;01mreturn\u001b[39;00m obj\u001b[38;5;241m.\u001b[39m_constructor_expanddim(\u001b[38;5;28mlist\u001b[39m(mapped), index\u001b[38;5;241m=\u001b[39mobj\u001b[38;5;241m.\u001b[39mindex)\n",
      "File \u001b[1;32me:\\repos\\SURP-2024\\venv\\Lib\\site-packages\\pandas\\core\\base.py:921\u001b[0m, in \u001b[0;36mIndexOpsMixin._map_values\u001b[1;34m(self, mapper, na_action, convert)\u001b[0m\n\u001b[0;32m    918\u001b[0m \u001b[38;5;28;01mif\u001b[39;00m \u001b[38;5;28misinstance\u001b[39m(arr, ExtensionArray):\n\u001b[0;32m    919\u001b[0m     \u001b[38;5;28;01mreturn\u001b[39;00m arr\u001b[38;5;241m.\u001b[39mmap(mapper, na_action\u001b[38;5;241m=\u001b[39mna_action)\n\u001b[1;32m--> 921\u001b[0m \u001b[38;5;28;01mreturn\u001b[39;00m \u001b[43malgorithms\u001b[49m\u001b[38;5;241;43m.\u001b[39;49m\u001b[43mmap_array\u001b[49m\u001b[43m(\u001b[49m\u001b[43marr\u001b[49m\u001b[43m,\u001b[49m\u001b[43m \u001b[49m\u001b[43mmapper\u001b[49m\u001b[43m,\u001b[49m\u001b[43m \u001b[49m\u001b[43mna_action\u001b[49m\u001b[38;5;241;43m=\u001b[39;49m\u001b[43mna_action\u001b[49m\u001b[43m,\u001b[49m\u001b[43m \u001b[49m\u001b[43mconvert\u001b[49m\u001b[38;5;241;43m=\u001b[39;49m\u001b[43mconvert\u001b[49m\u001b[43m)\u001b[49m\n",
      "File \u001b[1;32me:\\repos\\SURP-2024\\venv\\Lib\\site-packages\\pandas\\core\\algorithms.py:1743\u001b[0m, in \u001b[0;36mmap_array\u001b[1;34m(arr, mapper, na_action, convert)\u001b[0m\n\u001b[0;32m   1741\u001b[0m values \u001b[38;5;241m=\u001b[39m arr\u001b[38;5;241m.\u001b[39mastype(\u001b[38;5;28mobject\u001b[39m, copy\u001b[38;5;241m=\u001b[39m\u001b[38;5;28;01mFalse\u001b[39;00m)\n\u001b[0;32m   1742\u001b[0m \u001b[38;5;28;01mif\u001b[39;00m na_action \u001b[38;5;129;01mis\u001b[39;00m \u001b[38;5;28;01mNone\u001b[39;00m:\n\u001b[1;32m-> 1743\u001b[0m     \u001b[38;5;28;01mreturn\u001b[39;00m \u001b[43mlib\u001b[49m\u001b[38;5;241;43m.\u001b[39;49m\u001b[43mmap_infer\u001b[49m\u001b[43m(\u001b[49m\u001b[43mvalues\u001b[49m\u001b[43m,\u001b[49m\u001b[43m \u001b[49m\u001b[43mmapper\u001b[49m\u001b[43m,\u001b[49m\u001b[43m \u001b[49m\u001b[43mconvert\u001b[49m\u001b[38;5;241;43m=\u001b[39;49m\u001b[43mconvert\u001b[49m\u001b[43m)\u001b[49m\n\u001b[0;32m   1744\u001b[0m \u001b[38;5;28;01melse\u001b[39;00m:\n\u001b[0;32m   1745\u001b[0m     \u001b[38;5;28;01mreturn\u001b[39;00m lib\u001b[38;5;241m.\u001b[39mmap_infer_mask(\n\u001b[0;32m   1746\u001b[0m         values, mapper, mask\u001b[38;5;241m=\u001b[39misna(values)\u001b[38;5;241m.\u001b[39mview(np\u001b[38;5;241m.\u001b[39muint8), convert\u001b[38;5;241m=\u001b[39mconvert\n\u001b[0;32m   1747\u001b[0m     )\n",
      "File \u001b[1;32mlib.pyx:2972\u001b[0m, in \u001b[0;36mpandas._libs.lib.map_infer\u001b[1;34m()\u001b[0m\n",
      "Cell \u001b[1;32mIn[63], line 1\u001b[0m, in \u001b[0;36m<lambda>\u001b[1;34m(x)\u001b[0m\n\u001b[1;32m----> 1\u001b[0m df[\u001b[38;5;124m'\u001b[39m\u001b[38;5;124mTopic\u001b[39m\u001b[38;5;124m'\u001b[39m] \u001b[38;5;241m=\u001b[39m df[\u001b[38;5;124m'\u001b[39m\u001b[38;5;124mTopic_Number\u001b[39m\u001b[38;5;124m'\u001b[39m]\u001b[38;5;241m.\u001b[39mapply(\u001b[38;5;28;01mlambda\u001b[39;00m x: \u001b[38;5;124m\"\u001b[39m\u001b[38;5;124m \u001b[39m\u001b[38;5;124m\"\u001b[39m\u001b[38;5;241m.\u001b[39mjoin(\u001b[43mmodel\u001b[49m\u001b[38;5;241;43m.\u001b[39;49m\u001b[43mget_topic_info\u001b[49m\u001b[43m(\u001b[49m\u001b[43mtopic\u001b[49m\u001b[38;5;241;43m=\u001b[39;49m\u001b[43mx\u001b[49m\u001b[43m)\u001b[49m\u001b[43m[\u001b[49m\u001b[38;5;124;43m'\u001b[39;49m\u001b[38;5;124;43mName\u001b[39;49m\u001b[38;5;124;43m'\u001b[39;49m\u001b[43m]\u001b[49m\u001b[38;5;241;43m.\u001b[39;49m\u001b[43miloc\u001b[49m\u001b[43m[\u001b[49m\u001b[38;5;241;43m0\u001b[39;49m\u001b[43m]\u001b[49m\u001b[38;5;241m.\u001b[39msplit(\u001b[38;5;124m'\u001b[39m\u001b[38;5;124m_\u001b[39m\u001b[38;5;124m'\u001b[39m)[\u001b[38;5;241m1\u001b[39m:]))\n\u001b[0;32m      3\u001b[0m \u001b[38;5;66;03m# Display the first few rows of the DataFrame\u001b[39;00m\n\u001b[0;32m      4\u001b[0m df\u001b[38;5;241m.\u001b[39mhead()\n",
      "File \u001b[1;32me:\\repos\\SURP-2024\\venv\\Lib\\site-packages\\pandas\\core\\indexing.py:1191\u001b[0m, in \u001b[0;36m_LocationIndexer.__getitem__\u001b[1;34m(self, key)\u001b[0m\n\u001b[0;32m   1189\u001b[0m maybe_callable \u001b[38;5;241m=\u001b[39m com\u001b[38;5;241m.\u001b[39mapply_if_callable(key, \u001b[38;5;28mself\u001b[39m\u001b[38;5;241m.\u001b[39mobj)\n\u001b[0;32m   1190\u001b[0m maybe_callable \u001b[38;5;241m=\u001b[39m \u001b[38;5;28mself\u001b[39m\u001b[38;5;241m.\u001b[39m_check_deprecated_callable_usage(key, maybe_callable)\n\u001b[1;32m-> 1191\u001b[0m \u001b[38;5;28;01mreturn\u001b[39;00m \u001b[38;5;28;43mself\u001b[39;49m\u001b[38;5;241;43m.\u001b[39;49m\u001b[43m_getitem_axis\u001b[49m\u001b[43m(\u001b[49m\u001b[43mmaybe_callable\u001b[49m\u001b[43m,\u001b[49m\u001b[43m \u001b[49m\u001b[43maxis\u001b[49m\u001b[38;5;241;43m=\u001b[39;49m\u001b[43maxis\u001b[49m\u001b[43m)\u001b[49m\n",
      "File \u001b[1;32me:\\repos\\SURP-2024\\venv\\Lib\\site-packages\\pandas\\core\\indexing.py:1752\u001b[0m, in \u001b[0;36m_iLocIndexer._getitem_axis\u001b[1;34m(self, key, axis)\u001b[0m\n\u001b[0;32m   1749\u001b[0m     \u001b[38;5;28;01mraise\u001b[39;00m \u001b[38;5;167;01mTypeError\u001b[39;00m(\u001b[38;5;124m\"\u001b[39m\u001b[38;5;124mCannot index by location index with a non-integer key\u001b[39m\u001b[38;5;124m\"\u001b[39m)\n\u001b[0;32m   1751\u001b[0m \u001b[38;5;66;03m# validate the location\u001b[39;00m\n\u001b[1;32m-> 1752\u001b[0m \u001b[38;5;28;43mself\u001b[39;49m\u001b[38;5;241;43m.\u001b[39;49m\u001b[43m_validate_integer\u001b[49m\u001b[43m(\u001b[49m\u001b[43mkey\u001b[49m\u001b[43m,\u001b[49m\u001b[43m \u001b[49m\u001b[43maxis\u001b[49m\u001b[43m)\u001b[49m\n\u001b[0;32m   1754\u001b[0m \u001b[38;5;28;01mreturn\u001b[39;00m \u001b[38;5;28mself\u001b[39m\u001b[38;5;241m.\u001b[39mobj\u001b[38;5;241m.\u001b[39m_ixs(key, axis\u001b[38;5;241m=\u001b[39maxis)\n",
      "File \u001b[1;32me:\\repos\\SURP-2024\\venv\\Lib\\site-packages\\pandas\\core\\indexing.py:1685\u001b[0m, in \u001b[0;36m_iLocIndexer._validate_integer\u001b[1;34m(self, key, axis)\u001b[0m\n\u001b[0;32m   1683\u001b[0m len_axis \u001b[38;5;241m=\u001b[39m \u001b[38;5;28mlen\u001b[39m(\u001b[38;5;28mself\u001b[39m\u001b[38;5;241m.\u001b[39mobj\u001b[38;5;241m.\u001b[39m_get_axis(axis))\n\u001b[0;32m   1684\u001b[0m \u001b[38;5;28;01mif\u001b[39;00m key \u001b[38;5;241m>\u001b[39m\u001b[38;5;241m=\u001b[39m len_axis \u001b[38;5;129;01mor\u001b[39;00m key \u001b[38;5;241m<\u001b[39m \u001b[38;5;241m-\u001b[39mlen_axis:\n\u001b[1;32m-> 1685\u001b[0m     \u001b[38;5;28;01mraise\u001b[39;00m \u001b[38;5;167;01mIndexError\u001b[39;00m(\u001b[38;5;124m\"\u001b[39m\u001b[38;5;124msingle positional indexer is out-of-bounds\u001b[39m\u001b[38;5;124m\"\u001b[39m)\n",
      "\u001b[1;31mIndexError\u001b[0m: single positional indexer is out-of-bounds"
     ]
    }
   ],
   "source": [
    "\n",
    "df['Topic'] = df['Topic_Number'].apply(lambda x: \" \".join(model.get_topic_info(topic=x)['Name'].iloc[0].split('_')[1:]))\n",
    "\n",
    "# Display the first few rows of the DataFrame\n",
    "df.head()"
   ]
  },
  {
   "cell_type": "code",
   "execution_count": null,
   "metadata": {},
   "outputs": [
    {
     "data": {
      "image/png": "[encoded data removed]",
      "text/plain": [
       "<Figure size 1200x800 with 1 Axes>"
      ]
     },
     "metadata": {},
     "output_type": "display_data"
    }
   ],
   "source": [
    "import matplotlib.pyplot as plt\n",
    "import matplotlib.colors as mcolors\n",
    "\n",
    "# Assuming df is your DataFrame and it now includes a 'Topic' column after categorization\n",
    "\n",
    "# Step 2: Count questions per topic per year\n",
    "topic_year_counts = df.groupby(['Year', 'Topic']).size().reset_index(name='Count')\n",
    "\n",
    "# Calculate the total number of questions per year\n",
    "total_questions_per_year = topic_year_counts.groupby('Year')['Count'].transform('sum')\n",
    "\n",
    "# Calculate the proportion of questions per topic per year\n",
    "topic_year_counts['Proportion'] = topic_year_counts['Count'] / total_questions_per_year\n",
    "\n",
    "# Step 3: Prepare data for plotting (normalized)\n",
    "pivot_table = topic_year_counts.pivot(index='Year', columns='Topic', values='Proportion')\n",
    "\n",
    "# Generate a list of colors from a colormap\n",
    "num_topics = len(pivot_table.columns)\n",
    "colors = plt.get_cmap('tab20', num_topics)\n",
    "\n",
    "# Step 4: Plot the normalized data with different colors for each topic\n",
    "pivot_table.plot(kind='bar', stacked=True, figsize=(12, 8), color=[colors(i) for i in range(num_topics)])\n",
    "\n",
    "# Step 5: Customize the plot\n",
    "plt.xlabel('Year')\n",
    "plt.ylabel('Proportion of Questions')\n",
    "plt.title('Proportion of Questions per Topic per Year')\n",
    "plt.legend(title='Topic', loc='best', bbox_to_anchor=(0.5, -0.15), ncol=1, fancybox=True, shadow=True)\n",
    "plt.tight_layout()\n",
    "plt.subplots_adjust(bottom=0.2)\n",
    "plt.show()"
   ]
  },
  {
   "cell_type": "code",
   "execution_count": 64,
   "metadata": {},
   "outputs": [],
   "source": [
    "from sklearn.manifold import TSNE\n",
    "import matplotlib.pyplot as plt\n",
    "import numpy as np\n",
    "embeddings = model._extract_embeddings(questions)\n",
    "tsne = TSNE(n_components=2,random_state=42)\n",
    "reduced = tsne.fit_transform(embeddings)"
   ]
  },
  {
   "cell_type": "code",
   "execution_count": 65,
   "metadata": {},
   "outputs": [
    {
     "data": {
      "image/png": "[encoded data removed]",
      "text/plain": [
       "<Figure size 1000x500 with 1 Axes>"
      ]
     },
     "metadata": {},
     "output_type": "display_data"
    }
   ],
   "source": [
    "plt.figure(figsize=(10,5))\n",
    "plt.scatter(reduced[:,0], reduced[:,1])\n",
    "plt.title(\"TSNE of Questions\")\n",
    "plt.xlabel(\"TSNE 1\")\n",
    "plt.ylabel(\"TSNE 2\")\n",
    "plt.show()"
   ]
  },
  {
   "cell_type": "code",
   "execution_count": null,
   "metadata": {},
   "outputs": [],
   "source": []
  }
 ],
 "metadata": {
  "kernelspec": {
   "display_name": "venv",
   "language": "python",
   "name": "python3"
  },
  "language_info": {
   "codemirror_mode": {
    "name": "ipython",
    "version": 3
   },
   "file_extension": ".py",
   "mimetype": "text/x-python",
   "name": "python",
   "nbconvert_exporter": "python",
   "pygments_lexer": "ipython3",
   "version": "3.12.0"
  }
 },
 "nbformat": 4,
 "nbformat_minor": 2
}
